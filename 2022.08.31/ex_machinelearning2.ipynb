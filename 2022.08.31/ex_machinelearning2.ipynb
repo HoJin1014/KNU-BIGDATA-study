{
 "cells": [
  {
   "cell_type": "markdown",
   "id": "d57ee2d2",
   "metadata": {},
   "source": [
    "# 머신러닝 3장 회귀 알고리즘과 모델 규제"
   ]
  },
  {
   "cell_type": "markdown",
   "id": "93d6432f",
   "metadata": {},
   "source": [
    "# k-최근접 이웃 회귀"
   ]
  },
  {
   "cell_type": "code",
   "execution_count": 1,
   "id": "07474b2e",
   "metadata": {},
   "outputs": [],
   "source": [
    "# 회귀(Regression)\n",
    "## 지도 학습(Supervised Learning)\n",
    "### 훈련을 위한 데이터(training data)와 정답이 필요\n",
    "# - 훈련 데이터 = 입력(input) + 정답(target)\n",
    "### 알고리즘이 정답을 맞추는지 학습\n",
    "\n",
    "## 분류\n",
    "# - 테스트 세트의 샘플을 정확하게 분류한 개수의 비율: 정확도\n",
    "# -정답을 맞힌 개수의 비율 (정확도)\n",
    "\n",
    "## 회귀\n",
    "# - 두 변수 사이의 상관 관계를 분석하는 방법\n",
    "# - 기존 데이터를 이용해서 임의의 숫자를 예측하는 문제: 결정계수(R2)\n",
    "# - 정확한 숫자를 맞춘다는 것은 불가능\n",
    "# - Example\n",
    "# 내년 경제 성장률 예측\n",
    "# 배달 도착 시간 예측\n",
    "# 농어의 무게 예측"
   ]
  },
  {
   "cell_type": "code",
   "execution_count": 2,
   "id": "d297fa89",
   "metadata": {},
   "outputs": [],
   "source": [
    "# K-최근접 이웃 회귀\n",
    "## k-최근접 이웃 분류(2장)\n",
    "### 예측하려는 샘플에 가장 가까운 이웃을 k개를 선택\n",
    "### 이웃들의 클래스를 확인\n",
    "### 샘플 주변의 다수의 클래스를 샘플의 클래스로 예측 ###\n",
    "\n",
    "## k-최근접 이웃 회귀\n",
    "### 예측하려는 샘플에 가장 가까운 이웃 k개를 선택\n",
    "### 이웃의 평균을 구함 ###"
   ]
  },
  {
   "cell_type": "code",
   "execution_count": 3,
   "id": "c17f8d7e",
   "metadata": {},
   "outputs": [],
   "source": [
    "# 농어(perch)의 길이로 무게를 잘 예측할 수 있을까?\n",
    "import numpy as np\n",
    "import matplotlib.pyplot as plt\n",
    "\n",
    "perch_length = np.array([8.4, 13.7, 15.0, 16.2, 17.4, 18.0, 18.7, 19.0, 19.6, 20.0,\n",
    "                         21.0, 21.0, 21.0, 21.3, 22.0, 22.0, 22.0, 22.0, 22.0, 22.5,\n",
    "                         22.5, 22.7, 23.0, 23.5, 24.0, 24.0, 24.6, 25.0, 25.6, 26.5,\n",
    "                         27.3, 27.5, 27.5, 27.5, 28.0, 28.7, 30.0, 32.8, 34.5, 35.0,\n",
    "                         36.5, 36.0, 37.0, 37.0, 39.0, 39.0, 39.0, 40.0, 40.0, 40.0,\n",
    "                         40.0, 42.0, 43.0, 43.0, 43.5, 44.0])\n",
    "perch_weight = np.array([5.9, 32.0, 40.0, 51.5, 70.0, 100.0, 78.0, 80.0, 85.0, 85.0,\n",
    "                         110.0, 115.0, 125.0, 130.0, 120.0, 120.0, 130.0, 135.0, 110.0, 130.0,\n",
    "                         150.0, 145.0, 150.0, 170.0, 225.0, 145.0, 188.0, 180.0, 197.0, 218.0,\n",
    "                         300.0, 260.0, 265.0, 250.0, 250.0, 300.0, 320.0, 514.0, 556.0, 840.0,\n",
    "                         685.0, 700.0, 700.0, 690.0, 900.0, 650.0, 820.0, 850.0, 900.0, 1015.0,\n",
    "                         820.0, 1100.0, 1000.0, 1100.0, 1000.0, 1000.0])"
   ]
  },
  {
   "cell_type": "code",
   "execution_count": 4,
   "id": "59415e5d",
   "metadata": {},
   "outputs": [
    {
     "data": {
      "image/png": "[encoded data removed]",
      "text/plain": [
       "<Figure size 432x288 with 1 Axes>"
      ]
     },
     "metadata": {
      "needs_background": "light"
     },
     "output_type": "display_data"
    }
   ],
   "source": [
    "# 산점도 확인\n",
    "plt.scatter(perch_length, perch_weight)\n",
    "plt.xlabel('length')\n",
    "plt.ylabel('weight')\n",
    "plt.show()"
   ]
  },
  {
   "cell_type": "code",
   "execution_count": 10,
   "id": "9c1d5276",
   "metadata": {},
   "outputs": [
    {
     "name": "stdout",
     "output_type": "stream",
     "text": [
      "(42,) (14,)\n",
      "(42, 1) (14, 1)\n"
     ]
    }
   ],
   "source": [
    "# 훈련 세트와 테스트 세트 준비\n",
    "# train_test_split() 함수 사용\n",
    "## 1개의 데이터 세트(perch_length)만 사용\n",
    "\n",
    "# scikit-learn의 훈련 세트는 2차원 배열을 사용\n",
    "## 입력 데이터 세트를 2차원 배열 형태로 변경이 필요\n",
    "## reshape(row, col) 함수 사용\n",
    "## (42,) -> (42, 1)형태로 변경\n",
    "\n",
    "from sklearn.model_selection import train_test_split\n",
    "\n",
    "train_input, test_input, train_target, test_target = train_test_split(\n",
    "perch_length, perch_weight, random_state=42)\n",
    "\n",
    "print(train_input.shape, test_input.shape)\n",
    "# reshape(-1, 1): -1: 행의 크기를 자동 지정\n",
    "train_input = train_input.reshape(-1, 1) # 2차원 배열로 변경\n",
    "test_input = test_input.reshape(-1, 1) # 2차원 배열로 변경\n",
    "\n",
    "print(train_input.shape, test_input.shape)"
   ]
  },
  {
   "cell_type": "code",
   "execution_count": 8,
   "id": "f17975b0",
   "metadata": {},
   "outputs": [
    {
     "name": "stdout",
     "output_type": "stream",
     "text": [
      "0.992809406101064\n"
     ]
    }
   ],
   "source": [
    "### k-최근접 이웃 회귀 알고리즘 ###\n",
    "## KNeighborsRegressor 클래스 사용\n",
    "# - n_neighbors: 기본 값=5\n",
    "\n",
    "from sklearn.neighbors import KNeighborsRegressor\n",
    "\n",
    "knr = KNeighborsRegressor()\n",
    "# 모델 훈련\n",
    "knr.fit(train_input, train_target)\n",
    "\n",
    "# score(): 훈련 모델 점수 확인, 결정 계수(R2)를 리턴\n",
    "print(knr.score(test_input, test_target))  # 검증용 데이터로 모델 평가\n",
    "\n",
    "#score()\n",
    "# – 결정 계수(R2)를 리턴함\n",
    "# – 출력하는 값이 높을수록 정확도가 높음"
   ]
  },
  {
   "cell_type": "code",
   "execution_count": 11,
   "id": "44dd10da",
   "metadata": {},
   "outputs": [],
   "source": [
    "# 결정 계수 (R2) 값\n",
    "## 회귀식이 얼마나 정확한지를 나타내는 숫자 (0 ≤ R2 ≤ 1))\n",
    "# - 0에 가까울수록, 회귀식의 정확도는 낮음\n",
    "# - 1에 가까울수록, 회귀식의 정확도는 높음"
   ]
  },
  {
   "cell_type": "code",
   "execution_count": 12,
   "id": "7f4bc167",
   "metadata": {},
   "outputs": [
    {
     "name": "stdout",
     "output_type": "stream",
     "text": [
      "19.157142857142862\n"
     ]
    }
   ],
   "source": [
    "# mean_absolut_error                            # p.10\n",
    "# mean_absolut_error (MAE) : 평균 절대 오차\n",
    "## 타깃(실제 값)과 예측 값의 절대값 오차 평균\n",
    "\n",
    "## 절대값을 사용: 에러의 크기를 반영\n",
    "## sklearn.merics 패키지 포함\n",
    "from sklearn.metrics import mean_absolute_error\n",
    "\n",
    "# 테스트 세트에 대한 예측값 계산\n",
    "test_prediction = knr.predict(test_input)\n",
    "\n",
    "# 테스트 세트에 대한 평균 절대 오차 계산\n",
    "mae = mean_absolute_error(test_target, test_prediction)\n",
    "print(mae) # 19g 정도의 오차 발생"
   ]
  },
  {
   "cell_type": "code",
   "execution_count": 14,
   "id": "860d6995",
   "metadata": {},
   "outputs": [
    {
     "name": "stdout",
     "output_type": "stream",
     "text": [
      "0.992809406101064\n",
      "0.9698823289099254\n"
     ]
    }
   ],
   "source": [
    "# 과대적합 vs 과소적합\n",
    "# 과대적합(overfitting)\n",
    "## 훈련 세트에만 잘 맞는 모델\n",
    "# - 테스트 세트에서는 점수가 굉장히 나쁨\n",
    "# - 일반성이 떨어짐\n",
    "\n",
    "# 과소적합(underfitting)\n",
    "## 훈련 세트보다 테스트 세트의 점수가 높거나,\n",
    "## 훈련 세트와 테스트 세트의 두 점수가 모두 낮음\n",
    "# - 모델이 너무 단순해서 훈련 세트로 훈련이 되지 않은 경우\n",
    "\n",
    "# 앞 예제에서 훈련 세트와 테스트 세트의 score() 비교\n",
    "## 테스트 세트의 점수가 더 높음: 과소 적합(underfitting)\n",
    "\n",
    "# 테스트 세트를 사용하여 R2값 계산\n",
    "print(knr.score(test_input, test_target))\n",
    "\n",
    "# 훈련 세트 R2값 계산\n",
    "print(knr.score(train_input, train_target))"
   ]
  },
  {
   "cell_type": "code",
   "execution_count": 15,
   "id": "c18d0ca5",
   "metadata": {},
   "outputs": [
    {
     "name": "stdout",
     "output_type": "stream",
     "text": [
      "훈련 데이터로 모델의 정확도 점수 계산:  0.9804899950518966\n",
      "테스트 데이터로 모델의 정확도 점수 계산:  0.9746459963987609\n"
     ]
    }
   ],
   "source": [
    "### 모델 개선: 이웃 개수 줄이기 ###\n",
    "# 과소 적합 해결 방안: 이웃의 개수 줄임\n",
    "## 기본 값 5에서 n_neighbors = 3으로 변경\n",
    "# - 모델이 더 복잡해짐\n",
    "# - 훈련 세트의 국지적 패턴에 더 민감해짐\n",
    "\n",
    "knr.n_neighbors = 3\n",
    "\n",
    "# 모델을 다시 훈련\n",
    "knr.fit(train_input, train_target)\n",
    "\n",
    "print(\"훈련 데이터로 모델의 정확도 점수 계산: \",\n",
    "      knr.score(train_input, train_target))\n",
    "\n",
    "print(\"테스트 데이터로 모델의 정확도 점수 계산: \",\n",
    "      knr.score(test_input, test_target))"
   ]
  },
  {
   "cell_type": "code",
   "execution_count": 18,
   "id": "c26ab274",
   "metadata": {},
   "outputs": [
    {
     "data": {
      "image/png": "[encoded data removed]",
      "text/plain": [
       "<Figure size 432x288 with 1 Axes>"
      ]
     },
     "metadata": {
      "needs_background": "light"
     },
     "output_type": "display_data"
    },
    {
     "data": {
      "image/png": "[encoded data removed]",
      "text/plain": [
       "<Figure size 432x288 with 1 Axes>"
      ]
     },
     "metadata": {
      "needs_background": "light"
     },
     "output_type": "display_data"
    },
    {
     "data": {
      "image/png": "[encoded data removed]",
      "text/plain": [
       "<Figure size 432x288 with 1 Axes>"
      ]
     },
     "metadata": {
      "needs_background": "light"
     },
     "output_type": "display_data"
    }
   ],
   "source": [
    "# 이웃의 수에 따른 그래프 비교\n",
    "## k-최근접 회귀 알고리즘에서 이웃의 수 변경: 1, 5, 10\n",
    "### 농어의 길이를 5~45까지 변경하면서 무게 예측\n",
    "\n",
    "# k-최근접 이웃 회귀 객체 생성\n",
    "knr = KNeighborsRegressor()\n",
    "\n",
    "# x:농어의 길이(5~45까지 범위 설정)\n",
    "x = np.arange(5, 45).reshape(-1, 1)\n",
    "# n=1, 5, 10일때 예측 결과 그래프\n",
    "for n in [1, 5, 10]:\n",
    "    # 모델 훈련\n",
    "    knr.n_neighbors = n\n",
    "    knr.fit(train_input, train_target)\n",
    "    \n",
    "    # 지정한 범위 x(농어의 길이)에 대한 농어 무게 예측하기\n",
    "    prediction = knr.predict(x)\n",
    "    \n",
    "    # 훈련 세트와 예측 결과 그래프 그리기\n",
    "    plt.scatter(train_input, train_target, label='train set')\n",
    "    plt.plot(x, prediction, label='prediction', color='orange')\n",
    "    \n",
    "    plt.title('n_neighbors = {}'.format(n))\n",
    "    plt.xlabel('length')\n",
    "    plt.ylabel('weight')\n",
    "    plt.show()"
   ]
  },
  {
   "cell_type": "markdown",
   "id": "8614b000",
   "metadata": {},
   "source": [
    "# 마무리 정리\n",
    "## 회귀(Regression)\n",
    "- 임의의 수치를 예측하는 문제\n",
    "- k-최근접 이웃 회귀\n",
    " - 가장 가까운 이웃 샘플을 찾고 타깃값을 평균하여 예측\n",
    " \n",
    "## 과대 적합(Overfitting)\n",
    "- 훈련 세트에만 잘 맞음 (일반성이 떨어짐)\n",
    "- 훈련 세트의 성능 > 테스트 세트 성능\n",
    "\n",
    "## 과소 적합(Underfitting)\n",
    "- 모델이 단순하여 훈련세트의 패턴을 모두 잡아내지 못함\n",
    "- 훈련 세트와 테스트 세트의 성능이 모두 낮거나\n",
    "- 훈련 세트의 성능 < 테스트 세트의 성능"
   ]
  },
  {
   "cell_type": "code",
   "execution_count": 19,
   "id": "af21ef12",
   "metadata": {},
   "outputs": [],
   "source": [
    "##################################################"
   ]
  },
  {
   "cell_type": "markdown",
   "id": "dc667806",
   "metadata": {},
   "source": [
    "# 선형 회귀"
   ]
  },
  {
   "cell_type": "code",
   "execution_count": 20,
   "id": "e6c5ee7c",
   "metadata": {},
   "outputs": [],
   "source": [
    "# k- 최근접 이웃 알고리즘의 문제점\n",
    "## 가장 가까운 샘플을 찾아 평균값 계산\n",
    "## 새로운 샘플이 훈련 세트의 범위를 벗어나면 잘못된 예측을 함\n",
    "import numpy as np\n",
    "\n",
    "perch_length = np.array([8.4, 13.7, 15.0, 16.2, 17.4, 18.0, 18.7, 19.0, 19.6, 20.0,\n",
    "                         21.0, 21.0, 21.0, 21.3, 22.0, 22.0, 22.0, 22.0, 22.0, 22.5,\n",
    "                         22.5, 22.7, 23.0, 23.5, 24.0, 24.0, 24.6, 25.0, 25.6, 26.5,\n",
    "                         27.3, 27.5, 27.5, 27.5, 28.0, 28.7, 30.0, 32.8, 34.5, 35.0,\n",
    "                         36.5, 36.0, 37.0, 37.0, 39.0, 39.0, 39.0, 40.0, 40.0, 40.0,\n",
    "                         40.0, 42.0, 43.0, 43.0, 43.5, 44.0])\n",
    "perch_weight = np.array([5.9, 32.0, 40.0, 51.5, 70.0, 100.0, 78.0, 80.0, 85.0, 85.0,\n",
    "                         110.0, 115.0, 125.0, 130.0, 120.0, 120.0, 130.0, 135.0, 110.0, 130.0,\n",
    "                         150.0, 145.0, 150.0, 170.0, 225.0, 145.0, 188.0, 180.0, 197.0, 218.0,\n",
    "                         300.0, 260.0, 265.0, 250.0, 250.0, 300.0, 320.0, 514.0, 556.0, 840.0,\n",
    "                         685.0, 700.0, 700.0, 690.0, 900.0, 650.0, 820.0, 850.0, 900.0, 1015.0,\n",
    "                         820.0, 1100.0, 1000.0, 1100.0, 1000.0, 1000.0])"
   ]
  },
  {
   "cell_type": "code",
   "execution_count": 21,
   "id": "28021f43",
   "metadata": {},
   "outputs": [
    {
     "name": "stdout",
     "output_type": "stream",
     "text": [
      "50cm: [1033.33333333]\n",
      "100cm: [1033.33333333]\n"
     ]
    }
   ],
   "source": [
    "# 훈련 세트 밖의 샘플 예측\n",
    "## 50cm, 100cm 길이의 농어 무게 예측: 동일한 예측값\n",
    "from sklearn.model_selection import train_test_split\n",
    "\n",
    "# 훈련 세트와 테스트 세트로 나눔\n",
    "train_input, test_input, train_target, test_target = train_test_split(\n",
    "perch_length, perch_weight, random_state=42)\n",
    "\n",
    "# 훈련 세트와 테스트 세트를 2차원 배열로 변경\n",
    "train_input = train_input.reshape(-1, 1)\n",
    "test_input = test_input.reshape(-1, 1)\n",
    "\n",
    "from sklearn.neighbors import KNeighborsRegressor\n",
    "\n",
    "knr = KNeighborsRegressor(n_neighbors=3)\n",
    "# k-최근접 이웃 회귀 모델을 훈련\n",
    "knr.fit(train_input, train_target)\n",
    "\n",
    "print('50cm:', knr.predict([[50]]))           # 100cm 농어의 예측값은\n",
    "print('100cm:', knr.predict([[100]]))         # 50cm 농어의 예측값과\n",
    "                                              # 동일: 1033g"
   ]
  },
  {
   "cell_type": "code",
   "execution_count": 25,
   "id": "ee43d275",
   "metadata": {},
   "outputs": [
    {
     "data": {
      "image/png": "[encoded data removed]",
      "text/plain": [
       "<Figure size 432x288 with 1 Axes>"
      ]
     },
     "metadata": {
      "needs_background": "light"
     },
     "output_type": "display_data"
    }
   ],
   "source": [
    "### 50cm, 100cm 길이의 농어의 이웃 및 산점도 비교 ###\n",
    "\n",
    "# 50cm 농어의 이웃을 구함\n",
    "distances_50, indexes_50 = knr.kneighbors([[50]])\n",
    "# 100cm 농어의 이웃을 구함\n",
    "distances_100, indexes_100 = knr.kneighbors([[100]])\n",
    "\n",
    "# 훈련 세트의 산점도\n",
    "plt.scatter(train_input, train_target, label='train set')\n",
    "\n",
    "# 훈련 세트 중에서 50cm 농어의 이웃 데이터만 다시 그림\n",
    "plt.scatter(train_input[indexes_50], train_target[indexes_50],\n",
    "           marker='p', label='50cm neighbors')\n",
    "# 100cm 농어 데이터\n",
    "plt.scatter(100, 1033, marker='s', label='100cm')\n",
    "\n",
    "plt.xlim(0, 110)\n",
    "plt.legend(loc=5)\n",
    "plt.show()"
   ]
  },
  {
   "cell_type": "code",
   "execution_count": 27,
   "id": "0010789b",
   "metadata": {},
   "outputs": [
    {
     "name": "stdout",
     "output_type": "stream",
     "text": [
      "50cm neighbor indexes: [[34  8 14]]\n",
      "100cm neighbor indexes: [[34  8 14]]\n",
      "--------------------------------------\n",
      "1033.3333333333333\n",
      "1033.3333333333333\n"
     ]
    }
   ],
   "source": [
    "### 50cm 농어와 100cm 농어의 이웃 비교\n",
    "# 훈련데이터에서 이웃 데이터의 인덱스 확인\n",
    "print('50cm neighbor indexes:', indexes_50)\n",
    "print('100cm neighbor indexes:', indexes_100)\n",
    "\n",
    "print('--------------------------------------')\n",
    "# 이웃 데이터의 무게 평균 계산\n",
    "print(np.mean(train_target[indexes_50]))\n",
    "print(np.mean(train_target[indexes_100]))"
   ]
  },
  {
   "cell_type": "code",
   "execution_count": null,
   "id": "511c6ea6",
   "metadata": {},
   "outputs": [],
   "source": []
  }
 ],
 "metadata": {
  "kernelspec": {
   "display_name": "Python 3 (ipykernel)",
   "language": "python",
   "name": "python3"
  },
  "language_info": {
   "codemirror_mode": {
    "name": "ipython",
    "version": 3
   },
   "file_extension": ".py",
   "mimetype": "text/x-python",
   "name": "python",
   "nbconvert_exporter": "python",
   "pygments_lexer": "ipython3",
   "version": "3.9.12"
  }
 },
 "nbformat": 4,
 "nbformat_minor": 5
}
