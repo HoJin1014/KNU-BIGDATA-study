{
 "cells": [
  {
   "cell_type": "markdown",
   "id": "1cc9f7d3",
   "metadata": {},
   "source": [
    "# SGD Classifier\n",
    "---\n",
    "- LogisticRegression + SGD(확률적경사하강법) 적용한 분류\n",
    "- 필수 파라미터 => 손실함수 설정"
   ]
  },
  {
   "cell_type": "code",
   "execution_count": 1,
   "id": "cc7ce351",
   "metadata": {},
   "outputs": [],
   "source": [
    "# 모듈 로딩\n",
    "import pandas as pd\n",
    "import numpy as np\n",
    "from sklearn.model_selection import train_test_split\n",
    "from sklearn.preprocessing import StandardScaler\n",
    "from sklearn.linear_model import SGDClassifier"
   ]
  },
  {
   "cell_type": "code",
   "execution_count": 8,
   "id": "e3d6db07",
   "metadata": {},
   "outputs": [],
   "source": [
    "# 경고 무시 ---------------------------------\n",
    "# 향후 deprecated 된다는 경고 출력 막음\n",
    "import warnings\n",
    "warnings.filterwarnings(action='ignore')"
   ]
  },
  {
   "cell_type": "code",
   "execution_count": 7,
   "id": "7d9c49ef",
   "metadata": {},
   "outputs": [],
   "source": [
    "# 파일 관련\n",
    "FILE='../Data1/fish.csv'"
   ]
  },
  {
   "cell_type": "markdown",
   "id": "baccfe7a",
   "metadata": {},
   "source": [
    "## [1] 데이터 준비"
   ]
  },
  {
   "cell_type": "code",
   "execution_count": 9,
   "id": "abe43960",
   "metadata": {},
   "outputs": [],
   "source": [
    "fish = pd.read_csv(FILE)"
   ]
  },
  {
   "cell_type": "code",
   "execution_count": 13,
   "id": "23af8d41",
   "metadata": {},
   "outputs": [
    {
     "name": "stdout",
     "output_type": "stream",
     "text": [
      "(159, 6)\n",
      "\n",
      "Index(['Species', 'Weight', 'Length', 'Diagonal', 'Height', 'Width'], dtype='object')\n"
     ]
    }
   ],
   "source": [
    "print(fish.shape, fish.columns, sep='\\n\\n')"
   ]
  },
  {
   "cell_type": "code",
   "execution_count": 16,
   "id": "01f45818",
   "metadata": {},
   "outputs": [],
   "source": [
    "# 특성 데이터 + 타겟 분리\n",
    "# fish_input = fish[fish.columns[1:]].\n",
    "fish_input = fish[['Weight', 'Length', 'Diagonal', 'Height', 'Width']].to_numpy()\n",
    "fish_target = fish[['Species']].to_numpy()"
   ]
  },
  {
   "cell_type": "code",
   "execution_count": 17,
   "id": "c846f2c7",
   "metadata": {},
   "outputs": [],
   "source": [
    "# 학습용, 테스트용 데이터 분리 => 8:2\n",
    "train_input, test_input, train_target, test_target = train_test_split(\n",
    "fish_input, fish_target, random_state=42)"
   ]
  },
  {
   "cell_type": "code",
   "execution_count": 18,
   "id": "68763960",
   "metadata": {},
   "outputs": [],
   "source": [
    "## 표준화 평균 0, 표준편차 1\n",
    "from sklearn.preprocessing import StandardScaler\n",
    "\n",
    "ss = StandardScaler()\n",
    "ss.fit(train_input)\n",
    "train_scaled = ss.transform(train_input)\n",
    "test_scaled = ss.transform(test_input)"
   ]
  },
  {
   "cell_type": "code",
   "execution_count": null,
   "id": "ff35e0a0",
   "metadata": {},
   "outputs": [],
   "source": []
  }
 ],
 "metadata": {
  "kernelspec": {
   "display_name": "Python 3 (ipykernel)",
   "language": "python",
   "name": "python3"
  },
  "language_info": {
   "codemirror_mode": {
    "name": "ipython",
    "version": 3
   },
   "file_extension": ".py",
   "mimetype": "text/x-python",
   "name": "python",
   "nbconvert_exporter": "python",
   "pygments_lexer": "ipython3",
   "version": "3.9.12"
  }
 },
 "nbformat": 4,
 "nbformat_minor": 5
}
