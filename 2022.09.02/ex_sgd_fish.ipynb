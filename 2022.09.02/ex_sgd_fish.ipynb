{
 "cells": [
  {
   "cell_type": "markdown",
   "id": "7c708bde",
   "metadata": {},
   "source": [
    "# SGD Classifier\n",
    "---\n",
    "- LogisticRegression + SGD(확률적경사하강법) 적용한 분류\n",
    "- 필수 파라미터 => 손실함수 설정"
   ]
  },
  {
   "cell_type": "code",
   "execution_count": 1,
   "id": "b001890a",
   "metadata": {},
   "outputs": [],
   "source": [
    "# 모듈 로딩\n",
    "import pandas as pd\n",
    "import numpy as np\n",
    "from sklearn.model_selection import train_test_split\n",
    "from sklearn.preprocessing import StandardScaler\n",
    "from sklearn.linear_model import SGDClassifier"
   ]
  },
  {
   "cell_type": "code",
   "execution_count": 2,
   "id": "7ee1070b",
   "metadata": {},
   "outputs": [],
   "source": [
    "# 경고 무시 ---------------------------------\n",
    "# 향후 deprecated 된다는 경고 출력 막음\n",
    "import warnings\n",
    "warnings.filterwarnings(action='ignore')"
   ]
  },
  {
   "cell_type": "code",
   "execution_count": 3,
   "id": "babc2e94",
   "metadata": {},
   "outputs": [],
   "source": [
    "# 파일 관련\n",
    "FILE='../Data1/fish.csv'"
   ]
  },
  {
   "cell_type": "markdown",
   "id": "46624b06",
   "metadata": {},
   "source": [
    "## [1] 데이터 준비"
   ]
  },
  {
   "cell_type": "code",
   "execution_count": 4,
   "id": "fccc9b33",
   "metadata": {},
   "outputs": [],
   "source": [
    "fish = pd.read_csv(FILE)"
   ]
  },
  {
   "cell_type": "code",
   "execution_count": 5,
   "id": "b60f4948",
   "metadata": {},
   "outputs": [
    {
     "name": "stdout",
     "output_type": "stream",
     "text": [
      "(159, 6)\n",
      "\n",
      "Index(['Species', 'Weight', 'Length', 'Diagonal', 'Height', 'Width'], dtype='object')\n"
     ]
    }
   ],
   "source": [
    "print(fish.shape, fish.columns, sep='\\n\\n')"
   ]
  },
  {
   "cell_type": "code",
   "execution_count": 6,
   "id": "7e4fd687",
   "metadata": {},
   "outputs": [],
   "source": [
    "# 특성 데이터 + 타겟 분리\n",
    "# fish_input = fish[fish.columns[1:]].\n",
    "fish_input = fish[['Weight', 'Length', 'Diagonal', 'Height', 'Width']].to_numpy()\n",
    "fish_target = fish[['Species']].to_numpy()"
   ]
  },
  {
   "cell_type": "code",
   "execution_count": 7,
   "id": "d7d37cbe",
   "metadata": {},
   "outputs": [],
   "source": [
    "# 학습용, 테스트용 데이터 분리 => 8:2\n",
    "train_input, test_input, train_target, test_target = train_test_split(\n",
    "fish_input, fish_target, random_state=42)"
   ]
  },
  {
   "cell_type": "code",
   "execution_count": 8,
   "id": "6da0c50d",
   "metadata": {},
   "outputs": [],
   "source": [
    "## 표준화 평균 0, 표준편차 1\n",
    "from sklearn.preprocessing import StandardScaler\n",
    "\n",
    "ss = StandardScaler()\n",
    "ss.fit(train_input)\n",
    "train_scaled = ss.transform(train_input)\n",
    "test_scaled = ss.transform(test_input)"
   ]
  },
  {
   "cell_type": "markdown",
   "id": "a19a5803",
   "metadata": {},
   "source": [
    "## [2] 모델 생성 및 학습"
   ]
  },
  {
   "cell_type": "code",
   "execution_count": 9,
   "id": "1a7a1b44",
   "metadata": {},
   "outputs": [],
   "source": [
    "from sklearn.linear_model import SGDClassifier"
   ]
  },
  {
   "cell_type": "code",
   "execution_count": 10,
   "id": "89db08a3",
   "metadata": {},
   "outputs": [
    {
     "data": {
      "text/html": [
       "<style>#sk-container-id-1 {color: black;background-color: white;}#sk-container-id-1 pre{padding: 0;}#sk-container-id-1 div.sk-toggleable {background-color: white;}#sk-container-id-1 label.sk-toggleable__label {cursor: pointer;display: block;width: 100%;margin-bottom: 0;padding: 0.3em;box-sizing: border-box;text-align: center;}#sk-container-id-1 label.sk-toggleable__label-arrow:before {content: \"▸\";float: left;margin-right: 0.25em;color: #696969;}#sk-container-id-1 label.sk-toggleable__label-arrow:hover:before {color: black;}#sk-container-id-1 div.sk-estimator:hover label.sk-toggleable__label-arrow:before {color: black;}#sk-container-id-1 div.sk-toggleable__content {max-height: 0;max-width: 0;overflow: hidden;text-align: left;background-color: #f0f8ff;}#sk-container-id-1 div.sk-toggleable__content pre {margin: 0.2em;color: black;border-radius: 0.25em;background-color: #f0f8ff;}#sk-container-id-1 input.sk-toggleable__control:checked~div.sk-toggleable__content {max-height: 200px;max-width: 100%;overflow: auto;}#sk-container-id-1 input.sk-toggleable__control:checked~label.sk-toggleable__label-arrow:before {content: \"▾\";}#sk-container-id-1 div.sk-estimator input.sk-toggleable__control:checked~label.sk-toggleable__label {background-color: #d4ebff;}#sk-container-id-1 div.sk-label input.sk-toggleable__control:checked~label.sk-toggleable__label {background-color: #d4ebff;}#sk-container-id-1 input.sk-hidden--visually {border: 0;clip: rect(1px 1px 1px 1px);clip: rect(1px, 1px, 1px, 1px);height: 1px;margin: -1px;overflow: hidden;padding: 0;position: absolute;width: 1px;}#sk-container-id-1 div.sk-estimator {font-family: monospace;background-color: #f0f8ff;border: 1px dotted black;border-radius: 0.25em;box-sizing: border-box;margin-bottom: 0.5em;}#sk-container-id-1 div.sk-estimator:hover {background-color: #d4ebff;}#sk-container-id-1 div.sk-parallel-item::after {content: \"\";width: 100%;border-bottom: 1px solid gray;flex-grow: 1;}#sk-container-id-1 div.sk-label:hover label.sk-toggleable__label {background-color: #d4ebff;}#sk-container-id-1 div.sk-serial::before {content: \"\";position: absolute;border-left: 1px solid gray;box-sizing: border-box;top: 0;bottom: 0;left: 50%;z-index: 0;}#sk-container-id-1 div.sk-serial {display: flex;flex-direction: column;align-items: center;background-color: white;padding-right: 0.2em;padding-left: 0.2em;position: relative;}#sk-container-id-1 div.sk-item {position: relative;z-index: 1;}#sk-container-id-1 div.sk-parallel {display: flex;align-items: stretch;justify-content: center;background-color: white;position: relative;}#sk-container-id-1 div.sk-item::before, #sk-container-id-1 div.sk-parallel-item::before {content: \"\";position: absolute;border-left: 1px solid gray;box-sizing: border-box;top: 0;bottom: 0;left: 50%;z-index: -1;}#sk-container-id-1 div.sk-parallel-item {display: flex;flex-direction: column;z-index: 1;position: relative;background-color: white;}#sk-container-id-1 div.sk-parallel-item:first-child::after {align-self: flex-end;width: 50%;}#sk-container-id-1 div.sk-parallel-item:last-child::after {align-self: flex-start;width: 50%;}#sk-container-id-1 div.sk-parallel-item:only-child::after {width: 0;}#sk-container-id-1 div.sk-dashed-wrapped {border: 1px dashed gray;margin: 0 0.4em 0.5em 0.4em;box-sizing: border-box;padding-bottom: 0.4em;background-color: white;}#sk-container-id-1 div.sk-label label {font-family: monospace;font-weight: bold;display: inline-block;line-height: 1.2em;}#sk-container-id-1 div.sk-label-container {text-align: center;}#sk-container-id-1 div.sk-container {/* jupyter's `normalize.less` sets `[hidden] { display: none; }` but bootstrap.min.css set `[hidden] { display: none !important; }` so we also need the `!important` here to be able to override the default hidden behavior on the sphinx rendered scikit-learn.org. See: https://github.com/scikit-learn/scikit-learn/issues/21755 */display: inline-block !important;position: relative;}#sk-container-id-1 div.sk-text-repr-fallback {display: none;}</style><div id=\"sk-container-id-1\" class=\"sk-top-container\"><div class=\"sk-text-repr-fallback\"><pre>SGDClassifier(loss=&#x27;log_loss&#x27;, max_iter=10, random_state=42)</pre><b>In a Jupyter environment, please rerun this cell to show the HTML representation or trust the notebook. <br />On GitHub, the HTML representation is unable to render, please try loading this page with nbviewer.org.</b></div><div class=\"sk-container\" hidden><div class=\"sk-item\"><div class=\"sk-estimator sk-toggleable\"><input class=\"sk-toggleable__control sk-hidden--visually\" id=\"sk-estimator-id-1\" type=\"checkbox\" checked><label for=\"sk-estimator-id-1\" class=\"sk-toggleable__label sk-toggleable__label-arrow\">SGDClassifier</label><div class=\"sk-toggleable__content\"><pre>SGDClassifier(loss=&#x27;log_loss&#x27;, max_iter=10, random_state=42)</pre></div></div></div></div></div>"
      ],
      "text/plain": [
       "SGDClassifier(loss='log_loss', max_iter=10, random_state=42)"
      ]
     },
     "execution_count": 10,
     "metadata": {},
     "output_type": "execute_result"
    }
   ],
   "source": [
    "# 최적화 경사하강법 변경 => BGD => SGD \n",
    "# loss = 손실함수 : 모델에 따라 다름   => 'log' 곧 deprecated 예정\n",
    "# max_iter = 1000 기본값 : 학습 횟수\n",
    "sc = SGDClassifier(loss='log_loss',\n",
    "                  max_iter=10,\n",
    "                  random_state=42)\n",
    "# 학습 진행 fit() : 반복 횟수 즉 max_iter 만큼 학습\n",
    "sc.fit(train_scaled, train_target)"
   ]
  },
  {
   "cell_type": "code",
   "execution_count": 11,
   "id": "ec574b22",
   "metadata": {},
   "outputs": [
    {
     "name": "stdout",
     "output_type": "stream",
     "text": [
      "0.773109243697479\n",
      "0.775\n"
     ]
    }
   ],
   "source": [
    "print(sc.score(train_scaled, train_target))\n",
    "print(sc.score(test_scaled, test_target))"
   ]
  },
  {
   "cell_type": "code",
   "execution_count": 12,
   "id": "3fb40663",
   "metadata": {},
   "outputs": [
    {
     "name": "stdout",
     "output_type": "stream",
     "text": [
      "0.8151260504201681\n",
      "0.85\n"
     ]
    }
   ],
   "source": [
    "## 1 epoch만 학습       ###partial_fit() - 1 epoch만 학습 진행###\n",
    "sc.partial_fit(train_scaled, train_target)\n",
    "\n",
    "print(sc.score(train_scaled, train_target))\n",
    "print(sc.score(test_scaled, test_target))"
   ]
  },
  {
   "cell_type": "code",
   "execution_count": 13,
   "id": "f6c83b99",
   "metadata": {},
   "outputs": [],
   "source": [
    "# 분류 항목\n",
    "classes = np.unique(train_target)"
   ]
  },
  {
   "cell_type": "code",
   "execution_count": 14,
   "id": "037e70a1",
   "metadata": {},
   "outputs": [
    {
     "name": "stdout",
     "output_type": "stream",
     "text": [
      "classes:  ['Bream' 'Parkki' 'Perch' 'Pike' 'Roach' 'Smelt' 'Whitefish']\n"
     ]
    }
   ],
   "source": [
    "print('classes: ', classes)"
   ]
  },
  {
   "cell_type": "code",
   "execution_count": 15,
   "id": "04b7515b",
   "metadata": {},
   "outputs": [],
   "source": [
    "## 최적의 학습 횟수 찾기\n",
    "x = []\n",
    "y = []\n",
    "for i in range(1, 300):\n",
    "    sc = SGDClassifier(loss='log_loss',\n",
    "                  max_iter=i,\n",
    "                  random_state=42)\n",
    "    sc.fit(train_scaled, train_target)\n",
    "    x.append(sc.score(train_scaled, train_target))\n",
    "    y.append(sc.score(test_scaled, test_target))"
   ]
  },
  {
   "cell_type": "code",
   "execution_count": 16,
   "id": "50581574",
   "metadata": {},
   "outputs": [],
   "source": [
    "## 최적의 학습 횟수 찾기\n",
    "a = []\n",
    "b = []\n",
    "for i in range(1, 300):\n",
    "    sc.partial_fit(train_scaled, train_target, classes=classes)\n",
    "    a.append(sc.score(train_scaled, train_target))\n",
    "    b.append(sc.score(test_scaled, test_target))"
   ]
  },
  {
   "cell_type": "code",
   "execution_count": 17,
   "id": "1e611e5b",
   "metadata": {},
   "outputs": [
    {
     "name": "stdout",
     "output_type": "stream",
     "text": [
      "[0.5294117647058824, 0.6554621848739496, 0.6554621848739496, 0.7226890756302521, 0.6554621848739496, 0.6470588235294118, 0.8067226890756303, 0.7983193277310925, 0.7478991596638656, 0.773109243697479, 0.7226890756302521, 0.7142857142857143, 0.680672268907563, 0.6722689075630253, 0.7983193277310925, 0.7478991596638656, 0.7310924369747899, 0.7058823529411765, 0.773109243697479, 0.6134453781512605, 0.6890756302521008, 0.7310924369747899, 0.7310924369747899, 0.7563025210084033, 0.7563025210084033, 0.8151260504201681, 0.7563025210084033, 0.8067226890756303, 0.8235294117647058, 0.8403361344537815, 0.8403361344537815, 0.8403361344537815, 0.8403361344537815, 0.8403361344537815, 0.8403361344537815, 0.8403361344537815, 0.8403361344537815, 0.8403361344537815, 0.8403361344537815, 0.8403361344537815, 0.8403361344537815, 0.8403361344537815, 0.8403361344537815, 0.8403361344537815, 0.8403361344537815, 0.8403361344537815, 0.8403361344537815, 0.8403361344537815, 0.8403361344537815, 0.8403361344537815, 0.8403361344537815, 0.8403361344537815, 0.8403361344537815, 0.8403361344537815, 0.8403361344537815, 0.8403361344537815, 0.8403361344537815, 0.8403361344537815, 0.8403361344537815, 0.8403361344537815, 0.8403361344537815, 0.8403361344537815, 0.8403361344537815, 0.8403361344537815, 0.8403361344537815, 0.8403361344537815, 0.8403361344537815, 0.8403361344537815, 0.8403361344537815, 0.8403361344537815, 0.8403361344537815, 0.8403361344537815, 0.8403361344537815, 0.8403361344537815, 0.8403361344537815, 0.8403361344537815, 0.8403361344537815, 0.8403361344537815, 0.8403361344537815, 0.8403361344537815, 0.8403361344537815, 0.8403361344537815, 0.8403361344537815, 0.8403361344537815, 0.8403361344537815, 0.8403361344537815, 0.8403361344537815, 0.8403361344537815, 0.8403361344537815, 0.8403361344537815, 0.8403361344537815, 0.8403361344537815, 0.8403361344537815, 0.8403361344537815, 0.8403361344537815, 0.8403361344537815, 0.8403361344537815, 0.8403361344537815, 0.8403361344537815, 0.8403361344537815, 0.8403361344537815, 0.8403361344537815, 0.8403361344537815, 0.8403361344537815, 0.8403361344537815, 0.8403361344537815, 0.8403361344537815, 0.8403361344537815, 0.8403361344537815, 0.8403361344537815, 0.8403361344537815, 0.8403361344537815, 0.8403361344537815, 0.8403361344537815, 0.8403361344537815, 0.8403361344537815, 0.8403361344537815, 0.8403361344537815, 0.8403361344537815, 0.8403361344537815, 0.8403361344537815, 0.8403361344537815, 0.8403361344537815, 0.8403361344537815, 0.8403361344537815, 0.8403361344537815, 0.8403361344537815, 0.8403361344537815, 0.8403361344537815, 0.8403361344537815, 0.8403361344537815, 0.8403361344537815, 0.8403361344537815, 0.8403361344537815, 0.8403361344537815, 0.8403361344537815, 0.8403361344537815, 0.8403361344537815, 0.8403361344537815, 0.8403361344537815, 0.8403361344537815, 0.8403361344537815, 0.8403361344537815, 0.8403361344537815, 0.8403361344537815, 0.8403361344537815, 0.8403361344537815, 0.8403361344537815, 0.8403361344537815, 0.8403361344537815, 0.8403361344537815, 0.8403361344537815, 0.8403361344537815, 0.8403361344537815, 0.8403361344537815, 0.8403361344537815, 0.8403361344537815, 0.8403361344537815, 0.8403361344537815, 0.8403361344537815, 0.8403361344537815, 0.8403361344537815, 0.8403361344537815, 0.8403361344537815, 0.8403361344537815, 0.8403361344537815, 0.8403361344537815, 0.8403361344537815, 0.8403361344537815, 0.8403361344537815, 0.8403361344537815, 0.8403361344537815, 0.8403361344537815, 0.8403361344537815, 0.8403361344537815, 0.8403361344537815, 0.8403361344537815, 0.8403361344537815, 0.8403361344537815, 0.8403361344537815, 0.8403361344537815, 0.8403361344537815, 0.8403361344537815, 0.8403361344537815, 0.8403361344537815, 0.8403361344537815, 0.8403361344537815, 0.8403361344537815, 0.8403361344537815, 0.8403361344537815, 0.8403361344537815, 0.8403361344537815, 0.8403361344537815, 0.8403361344537815, 0.8403361344537815, 0.8403361344537815, 0.8403361344537815, 0.8403361344537815, 0.8403361344537815, 0.8403361344537815, 0.8403361344537815, 0.8403361344537815, 0.8403361344537815, 0.8403361344537815, 0.8403361344537815, 0.8403361344537815, 0.8403361344537815, 0.8403361344537815, 0.8403361344537815, 0.8403361344537815, 0.8403361344537815, 0.8403361344537815, 0.8403361344537815, 0.8403361344537815, 0.8403361344537815, 0.8403361344537815, 0.8403361344537815, 0.8403361344537815, 0.8403361344537815, 0.8403361344537815, 0.8403361344537815, 0.8403361344537815, 0.8403361344537815, 0.8403361344537815, 0.8403361344537815, 0.8403361344537815, 0.8403361344537815, 0.8403361344537815, 0.8403361344537815, 0.8403361344537815, 0.8403361344537815, 0.8403361344537815, 0.8403361344537815, 0.8403361344537815, 0.8403361344537815, 0.8403361344537815, 0.8403361344537815, 0.8403361344537815, 0.8403361344537815, 0.8403361344537815, 0.8403361344537815, 0.8403361344537815, 0.8403361344537815, 0.8403361344537815, 0.8403361344537815, 0.8403361344537815, 0.8403361344537815, 0.8403361344537815, 0.8403361344537815, 0.8403361344537815, 0.8403361344537815, 0.8403361344537815, 0.8403361344537815, 0.8403361344537815, 0.8403361344537815, 0.8403361344537815, 0.8403361344537815, 0.8403361344537815, 0.8403361344537815, 0.8403361344537815, 0.8403361344537815, 0.8403361344537815, 0.8403361344537815, 0.8403361344537815, 0.8403361344537815, 0.8403361344537815, 0.8403361344537815, 0.8403361344537815, 0.8403361344537815, 0.8403361344537815, 0.8403361344537815, 0.8403361344537815, 0.8403361344537815, 0.8403361344537815, 0.8403361344537815, 0.8403361344537815, 0.8403361344537815, 0.8403361344537815, 0.8403361344537815, 0.8403361344537815, 0.8403361344537815, 0.8403361344537815, 0.8403361344537815, 0.8403361344537815, 0.8403361344537815, 0.8403361344537815, 0.8403361344537815, 0.8403361344537815, 0.8403361344537815, 0.8403361344537815, 0.8403361344537815, 0.8403361344537815, 0.8403361344537815, 0.8403361344537815, 0.8403361344537815, 0.8403361344537815, 0.8403361344537815, 0.8403361344537815, 0.8403361344537815]\n",
      "-------------------------------------------------------------\n",
      "[0.907563025210084, 0.907563025210084, 0.8991596638655462, 0.8991596638655462, 0.8907563025210085, 0.8991596638655462, 0.8991596638655462, 0.8991596638655462, 0.907563025210084, 0.9243697478991597, 0.9159663865546218, 0.9243697478991597, 0.9159663865546218, 0.9243697478991597, 0.9327731092436975, 0.9411764705882353, 0.9411764705882353, 0.9411764705882353, 0.9411764705882353, 0.9411764705882353, 0.9411764705882353, 0.9411764705882353, 0.9411764705882353, 0.9411764705882353, 0.9495798319327731, 0.9411764705882353, 0.9495798319327731, 0.9411764705882353, 0.9495798319327731, 0.9411764705882353, 0.9495798319327731, 0.9411764705882353, 0.9495798319327731, 0.9411764705882353, 0.9495798319327731, 0.9411764705882353, 0.9495798319327731, 0.9411764705882353, 0.9495798319327731, 0.9411764705882353, 0.9411764705882353, 0.9327731092436975, 0.9411764705882353, 0.9327731092436975, 0.9411764705882353, 0.9411764705882353, 0.9495798319327731, 0.9411764705882353, 0.9495798319327731, 0.9495798319327731, 0.9495798319327731, 0.9495798319327731, 0.9495798319327731, 0.9495798319327731, 0.9495798319327731, 0.9495798319327731, 0.9495798319327731, 0.9495798319327731, 0.9495798319327731, 0.9495798319327731, 0.9495798319327731, 0.9495798319327731, 0.9495798319327731, 0.9495798319327731, 0.9495798319327731, 0.9495798319327731, 0.9495798319327731, 0.9495798319327731, 0.9495798319327731, 0.9495798319327731, 0.9495798319327731, 0.9495798319327731, 0.9495798319327731, 0.9495798319327731, 0.9495798319327731, 0.9495798319327731, 0.9495798319327731, 0.9495798319327731, 0.9495798319327731, 0.9495798319327731, 0.9495798319327731, 0.9495798319327731, 0.9495798319327731, 0.9495798319327731, 0.9495798319327731, 0.9495798319327731, 0.9495798319327731, 0.9495798319327731, 0.9495798319327731, 0.9495798319327731, 0.9495798319327731, 0.9495798319327731, 0.9495798319327731, 0.9495798319327731, 0.9495798319327731, 0.9495798319327731, 0.9495798319327731, 0.9495798319327731, 0.9495798319327731, 0.9495798319327731, 0.9495798319327731, 0.957983193277311, 0.957983193277311, 0.957983193277311, 0.957983193277311, 0.957983193277311, 0.957983193277311, 0.957983193277311, 0.957983193277311, 0.957983193277311, 0.957983193277311, 0.957983193277311, 0.957983193277311, 0.957983193277311, 0.957983193277311, 0.957983193277311, 0.957983193277311, 0.957983193277311, 0.957983193277311, 0.957983193277311, 0.957983193277311, 0.957983193277311, 0.957983193277311, 0.957983193277311, 0.957983193277311, 0.957983193277311, 0.957983193277311, 0.957983193277311, 0.957983193277311, 0.957983193277311, 0.957983193277311, 0.957983193277311, 0.957983193277311, 0.957983193277311, 0.957983193277311, 0.957983193277311, 0.957983193277311, 0.957983193277311, 0.957983193277311, 0.957983193277311, 0.957983193277311, 0.957983193277311, 0.957983193277311, 0.957983193277311, 0.957983193277311, 0.957983193277311, 0.957983193277311, 0.957983193277311, 0.957983193277311, 0.957983193277311, 0.957983193277311, 0.957983193277311, 0.957983193277311, 0.957983193277311, 0.957983193277311, 0.957983193277311, 0.957983193277311, 0.957983193277311, 0.957983193277311, 0.957983193277311, 0.957983193277311, 0.957983193277311, 0.957983193277311, 0.957983193277311, 0.957983193277311, 0.957983193277311, 0.957983193277311, 0.957983193277311, 0.957983193277311, 0.957983193277311, 0.957983193277311, 0.957983193277311, 0.957983193277311, 0.957983193277311, 0.957983193277311, 0.957983193277311, 0.957983193277311, 0.957983193277311, 0.957983193277311, 0.957983193277311, 0.957983193277311, 0.957983193277311, 0.957983193277311, 0.957983193277311, 0.957983193277311, 0.957983193277311, 0.957983193277311, 0.957983193277311, 0.957983193277311, 0.957983193277311, 0.957983193277311, 0.957983193277311, 0.957983193277311, 0.957983193277311, 0.957983193277311, 0.957983193277311, 0.957983193277311, 0.957983193277311, 0.957983193277311, 0.957983193277311, 0.957983193277311, 0.957983193277311, 0.957983193277311, 0.957983193277311, 0.957983193277311, 0.957983193277311, 0.957983193277311, 0.957983193277311, 0.957983193277311, 0.957983193277311, 0.957983193277311, 0.957983193277311, 0.957983193277311, 0.957983193277311, 0.957983193277311, 0.957983193277311, 0.957983193277311, 0.957983193277311, 0.957983193277311, 0.957983193277311, 0.957983193277311, 0.957983193277311, 0.957983193277311, 0.957983193277311, 0.957983193277311, 0.957983193277311, 0.957983193277311, 0.957983193277311, 0.957983193277311, 0.957983193277311, 0.957983193277311, 0.957983193277311, 0.957983193277311, 0.957983193277311, 0.957983193277311, 0.957983193277311, 0.957983193277311, 0.957983193277311, 0.957983193277311, 0.957983193277311, 0.957983193277311, 0.957983193277311, 0.957983193277311, 0.957983193277311, 0.957983193277311, 0.957983193277311, 0.957983193277311, 0.957983193277311, 0.957983193277311, 0.957983193277311, 0.957983193277311, 0.957983193277311, 0.957983193277311, 0.957983193277311, 0.957983193277311, 0.957983193277311, 0.957983193277311, 0.957983193277311, 0.957983193277311, 0.957983193277311, 0.957983193277311, 0.957983193277311, 0.957983193277311, 0.957983193277311, 0.957983193277311, 0.957983193277311, 0.957983193277311, 0.957983193277311, 0.957983193277311, 0.957983193277311, 0.9663865546218487, 0.9663865546218487, 0.9663865546218487, 0.9663865546218487, 0.9663865546218487, 0.9663865546218487, 0.9663865546218487, 0.9663865546218487, 0.9663865546218487, 0.9663865546218487, 0.9663865546218487, 0.9663865546218487, 0.9663865546218487, 0.9663865546218487, 0.9663865546218487, 0.9663865546218487, 0.9663865546218487, 0.9663865546218487, 0.9663865546218487, 0.9663865546218487, 0.9663865546218487, 0.9663865546218487, 0.9663865546218487, 0.9663865546218487, 0.9663865546218487, 0.9663865546218487, 0.9663865546218487, 0.9663865546218487, 0.9663865546218487]\n"
     ]
    }
   ],
   "source": [
    "print(x)\n",
    "print('-------------------------------------------------------------')\n",
    "print(a)\n"
   ]
  },
  {
   "cell_type": "code",
   "execution_count": 18,
   "id": "eb804514",
   "metadata": {},
   "outputs": [
    {
     "data": {
      "image/png": "[encoded data removed]",
      "text/plain": [
       "<Figure size 432x288 with 1 Axes>"
      ]
     },
     "metadata": {
      "needs_background": "light"
     },
     "output_type": "display_data"
    }
   ],
   "source": [
    "import matplotlib.pyplot as plt\n",
    "plt.plot(x)\n",
    "plt.plot(y)\n",
    "plt.xlabel('train')\n",
    "plt.ylabel('test')\n",
    "plt.show()"
   ]
  },
  {
   "cell_type": "code",
   "execution_count": 19,
   "id": "3b005298",
   "metadata": {},
   "outputs": [
    {
     "data": {
      "image/png": "[encoded data removed]",
      "text/plain": [
       "<Figure size 432x288 with 1 Axes>"
      ]
     },
     "metadata": {
      "needs_background": "light"
     },
     "output_type": "display_data"
    }
   ],
   "source": [
    "plt.plot(a)\n",
    "plt.plot(b)\n",
    "plt.xlabel('train')\n",
    "plt.ylabel('test')\n",
    "plt.show()"
   ]
  },
  {
   "cell_type": "code",
   "execution_count": 20,
   "id": "eb1acfc3",
   "metadata": {},
   "outputs": [
    {
     "data": {
      "text/plain": [
       "('1.4.2', '1.21.5', '1.1.1')"
      ]
     },
     "execution_count": 20,
     "metadata": {},
     "output_type": "execute_result"
    }
   ],
   "source": [
    "import sklearn\n",
    "pd.__version__, np.__version__, sklearn.__version__"
   ]
  },
  {
   "cell_type": "markdown",
   "id": "f2e5a070",
   "metadata": {},
   "source": [
    "## 학습 횟수(epoch)와 과/소 적합"
   ]
  },
  {
   "cell_type": "code",
   "execution_count": 21,
   "id": "2dbce1ef",
   "metadata": {},
   "outputs": [],
   "source": [
    "## 최적 epoch 수로 학습 진행"
   ]
  },
  {
   "cell_type": "code",
   "execution_count": 26,
   "id": "c2cb46ac",
   "metadata": {},
   "outputs": [
    {
     "name": "stdout",
     "output_type": "stream",
     "text": [
      "0.957983193277311\n",
      "0.925\n"
     ]
    }
   ],
   "source": [
    "sc = SGDClassifier (loss='log', max_iter=2000, tol=None, random_state=42)\n",
    "sc.fit(train_scaled, train_target)\n",
    "\n",
    "print(sc.score(train_scaled, train_target))\n",
    "print(sc.score(test_scaled, test_target))"
   ]
  },
  {
   "cell_type": "code",
   "execution_count": 28,
   "id": "1e26cbb9",
   "metadata": {},
   "outputs": [
    {
     "name": "stdout",
     "output_type": "stream",
     "text": [
      "0.8319327731092437\n",
      "0.875\n",
      "11\n"
     ]
    }
   ],
   "source": [
    "# early_stopping : 조기종료 여부 (기본값:False)\n",
    "# n_iter_no_change : n번 동안 변경 되지 않은 경우 early_stopping 이 True\n",
    "# tol : 성능 개선의 기준값\n",
    "sc = SGDClassifier(loss='log', tol=1.0,\n",
    "                  random_state=42,\n",
    "                  n_iter_no_change=10,\n",
    "                  early_stopping=True)\n",
    "sc.fit(train_scaled, train_target)\n",
    "\n",
    "print(sc.score(train_scaled, train_target))\n",
    "print(sc.score(test_scaled, test_target))\n",
    "print(sc.n_iter_)"
   ]
  },
  {
   "cell_type": "code",
   "execution_count": null,
   "id": "80b972d0",
   "metadata": {},
   "outputs": [],
   "source": []
  }
 ],
 "metadata": {
  "kernelspec": {
   "display_name": "Python 3 (ipykernel)",
   "language": "python",
   "name": "python3"
  },
  "language_info": {
   "codemirror_mode": {
    "name": "ipython",
    "version": 3
   },
   "file_extension": ".py",
   "mimetype": "text/x-python",
   "name": "python",
   "nbconvert_exporter": "python",
   "pygments_lexer": "ipython3",
   "version": "3.9.12"
  }
 },
 "nbformat": 4,
 "nbformat_minor": 5
}
