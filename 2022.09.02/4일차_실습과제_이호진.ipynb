{
 "cells": [
  {
   "cell_type": "markdown",
   "id": "252a5a71",
   "metadata": {},
   "source": [
    "## SVM(Suppoert Vector Machine)\n",
    "---\n",
    "- ML에서 오랫동안 연구되었고 성능이 좋은 모델\n",
    "- DL보다 성능이 좋은 경우도 있음"
   ]
  },
  {
   "cell_type": "code",
   "execution_count": 1,
   "id": "f1c56219",
   "metadata": {},
   "outputs": [],
   "source": [
    "# 모듈 로딩\n",
    "from sklearn.svm import SVC\n",
    "from sklearn.datasets import load_digits\n",
    "from sklearn.model_selection import train_test_split\n",
    "import numpy as np\n",
    "import matplotlib.pyplot as plt\n",
    "from sklearn.linear_model import LogisticRegression"
   ]
  },
  {
   "cell_type": "markdown",
   "id": "3a2768f7",
   "metadata": {},
   "source": [
    "### [1] 데이터 준비"
   ]
  },
  {
   "cell_type": "code",
   "execution_count": 2,
   "id": "47b8faf3",
   "metadata": {},
   "outputs": [
    {
     "name": "stdout",
     "output_type": "stream",
     "text": [
      "(1797, 64)\n"
     ]
    }
   ],
   "source": [
    "digits = load_digits()\n",
    "# data2 = load_digits()\n",
    "print(digits.data.shape)"
   ]
  },
  {
   "cell_type": "code",
   "execution_count": 3,
   "id": "a7d4cadf",
   "metadata": {},
   "outputs": [],
   "source": [
    "# data, target 분리\n",
    "data=digits['data']\n",
    "target=digits['target']"
   ]
  },
  {
   "cell_type": "code",
   "execution_count": 4,
   "id": "5578bd53",
   "metadata": {},
   "outputs": [
    {
     "name": "stdout",
     "output_type": "stream",
     "text": [
      "data : (1797, 64), target : (1797,)\n"
     ]
    }
   ],
   "source": [
    "print(f'data : {data.shape}, target : {target.shape}')"
   ]
  },
  {
   "cell_type": "code",
   "execution_count": 5,
   "id": "8bbab8db",
   "metadata": {},
   "outputs": [
    {
     "name": "stdout",
     "output_type": "stream",
     "text": [
      "data[0] : \n",
      " [ 0.  0.  5. 13.  9.  1.  0.  0.  0.  0. 13. 15. 10. 15.  5.  0.  0.  3.\n",
      " 15.  2.  0. 11.  8.  0.  0.  4. 12.  0.  0.  8.  8.  0.  0.  5.  8.  0.\n",
      "  0.  9.  8.  0.  0.  4. 11.  0.  1. 12.  7.  0.  0.  2. 14.  5. 10. 12.\n",
      "  0.  0.  0.  0.  6. 13. 10.  0.  0.  0.]\n"
     ]
    }
   ],
   "source": [
    "print(f'data[0] : \\n {data[0]}')"
   ]
  },
  {
   "cell_type": "code",
   "execution_count": 6,
   "id": "b8e97c92",
   "metadata": {
    "scrolled": false
   },
   "outputs": [
    {
     "name": "stdout",
     "output_type": "stream",
     "text": [
      "Target : 2 - images[2] \n",
      "\n",
      " [[ 0.  0.  0.  4. 15. 12.  0.  0.]\n",
      " [ 0.  0.  3. 16. 15. 14.  0.  0.]\n",
      " [ 0.  0.  8. 13.  8. 16.  0.  0.]\n",
      " [ 0.  0.  1.  6. 15. 11.  0.  0.]\n",
      " [ 0.  1.  8. 13. 15.  1.  0.  0.]\n",
      " [ 0.  9. 16. 16.  5.  0.  0.  0.]\n",
      " [ 0.  3. 13. 16. 16. 11.  5.  0.]\n",
      " [ 0.  0.  0.  3. 11. 16.  9.  0.]]\n"
     ]
    }
   ],
   "source": [
    "print(f'Target : {target[2]} - images[2] \\n\\n {digits[\"images\"][2]}')"
   ]
  },
  {
   "cell_type": "code",
   "execution_count": 7,
   "id": "88bec40f",
   "metadata": {},
   "outputs": [],
   "source": [
    "# 학습용, 테스트용 데이터 분리 => 8:2     # test_size = 0.2\n",
    "train_input, test_input, train_target, test_target = train_test_split(\n",
    "data, target, random_state=42, test_size=0.2)"
   ]
  },
  {
   "cell_type": "code",
   "execution_count": 8,
   "id": "b4c9a98d",
   "metadata": {},
   "outputs": [
    {
     "name": "stdout",
     "output_type": "stream",
     "text": [
      "훈련 세트 정확도: , 1.0\n",
      "테스트 세트 정확도: , 0.975\n"
     ]
    },
    {
     "name": "stderr",
     "output_type": "stream",
     "text": [
      "C:\\ProgramData\\Anaconda3\\lib\\site-packages\\sklearn\\linear_model\\_logistic.py:444: ConvergenceWarning: lbfgs failed to converge (status=1):\n",
      "STOP: TOTAL NO. of ITERATIONS REACHED LIMIT.\n",
      "\n",
      "Increase the number of iterations (max_iter) or scale the data as shown in:\n",
      "    https://scikit-learn.org/stable/modules/preprocessing.html\n",
      "Please also refer to the documentation for alternative solver options:\n",
      "    https://scikit-learn.org/stable/modules/linear_model.html#logistic-regression\n",
      "  n_iter_i = _check_optimize_result(\n"
     ]
    }
   ],
   "source": [
    "# 모델 생성\n",
    "model1=LogisticRegression(max_iter=500)\n",
    "\n",
    "# 학습\n",
    "model1.fit(train_input, train_target)\n",
    "\n",
    "# 평가\n",
    "print(f\"훈련 세트 정확도: , {model1.score(train_input, train_target)}\")\n",
    "print(f\"테스트 세트 정확도: , {model1.score(test_input, test_target)}\")"
   ]
  },
  {
   "cell_type": "code",
   "execution_count": 9,
   "id": "da8b32e0",
   "metadata": {},
   "outputs": [
    {
     "name": "stdout",
     "output_type": "stream",
     "text": [
      " 로지스틱 예측: [9]\n"
     ]
    }
   ],
   "source": [
    "prescore = model1.predict([data[9]])\n",
    "print(f\" 로지스틱 예측: {prescore}\")"
   ]
  },
  {
   "cell_type": "code",
   "execution_count": 10,
   "id": "e880c526",
   "metadata": {},
   "outputs": [],
   "source": [
    "from sklearn.pipeline import make_pipeline\n",
    "from sklearn.preprocessing import StandardScaler\n",
    "from sklearn.svm import SVC\n"
   ]
  },
  {
   "cell_type": "code",
   "execution_count": 11,
   "id": "59218f8c",
   "metadata": {},
   "outputs": [],
   "source": [
    "from sklearn.preprocessing import MinMaxScaler\n",
    "\n",
    "# 훈련데이터에 대해 스케일링 적용을 위한 조사\n",
    "scaler = MinMaxScaler()\n",
    "scaler.fit(train_input)\n",
    "\n",
    "# 훈련데이터에 대해 스케일링 적용\n",
    "train_input_scaled = scaler.transform(train_input)\n",
    "\n",
    "# 테스트데이터에 대해 스케일링 적용\n",
    "test_input_scaled = scaler.transform(test_input)"
   ]
  },
  {
   "cell_type": "code",
   "execution_count": 12,
   "id": "adae86ce",
   "metadata": {},
   "outputs": [
    {
     "name": "stdout",
     "output_type": "stream",
     "text": [
      "훈련 세트 정확도: , 0.965205288796103\n",
      "테스트 세트 정확도: , 0.95\n"
     ]
    }
   ],
   "source": [
    "# gamma 파라미터 조정\n",
    "model2 = SVC(gamma=0.01).fit(train_input_scaled, train_target)\n",
    "\n",
    "# 평가\n",
    "print(f\"훈련 세트 정확도: , {model2.score(train_input_scaled, train_target)}\")\n",
    "print(f\"테스트 세트 정확도: , {model2.score(test_input_scaled, test_target)}\")"
   ]
  },
  {
   "cell_type": "code",
   "execution_count": 13,
   "id": "f06d49b9",
   "metadata": {},
   "outputs": [
    {
     "name": "stdout",
     "output_type": "stream",
     "text": [
      " 스케일 SVC 예측: [9]\n"
     ]
    }
   ],
   "source": [
    "prescore1 = model2.predict(scaler.transform([data[9]]))\n",
    "prescore1\n",
    "print(f\" 스케일 SVC 예측: {prescore1}\")"
   ]
  },
  {
   "cell_type": "code",
   "execution_count": 14,
   "id": "9740513e",
   "metadata": {},
   "outputs": [
    {
     "name": "stdout",
     "output_type": "stream",
     "text": [
      "로지스틱 훈련 세트 정확도: , 1.0\n",
      "로지스틱 테스트 세트 정확도: , 0.975\n",
      "스케일 SVC 훈련 세트 정확도: , 0.965205288796103\n",
      "스케일 SVC 테스트 세트 정확도: , 0.95\n"
     ]
    }
   ],
   "source": [
    "print(f\"로지스틱 훈련 세트 정확도: , {model1.score(train_input, train_target)}\")\n",
    "print(f\"로지스틱 테스트 세트 정확도: , {model1.score(test_input, test_target)}\")\n",
    "print(f\"스케일 SVC 훈련 세트 정확도: , {model2.score(train_input_scaled, train_target)}\")\n",
    "print(f\"스케일 SVC 테스트 세트 정확도: , {model2.score(test_input_scaled, test_target)}\")"
   ]
  },
  {
   "cell_type": "code",
   "execution_count": 15,
   "id": "dba0ff85",
   "metadata": {},
   "outputs": [
    {
     "name": "stdout",
     "output_type": "stream",
     "text": [
      "로지스틱 예측: [9]\n",
      "스케일 SVC 예측: [9]\n"
     ]
    }
   ],
   "source": [
    "print(f\"로지스틱 예측: {prescore}\")\n",
    "print(f\"스케일 SVC 예측: {prescore1}\")"
   ]
  },
  {
   "cell_type": "code",
   "execution_count": 16,
   "id": "d13334b0",
   "metadata": {},
   "outputs": [
    {
     "name": "stdout",
     "output_type": "stream",
     "text": [
      "로지스틱 1 예측: [1]\n",
      "로지스틱 2 예측: [2]\n",
      "로지스틱 3 예측: [3]\n",
      "로지스틱 4 예측: [4]\n",
      "로지스틱 5 예측: [5]\n",
      "로지스틱 6 예측: [6]\n",
      "로지스틱 7 예측: [7]\n",
      "로지스틱 8 예측: [8]\n",
      "로지스틱 9 예측: [9]\n",
      "스케일 SVC 1 예측: [1]\n",
      "스케일 SVC 2 예측: [1]\n",
      "스케일 SVC 3 예측: [3]\n",
      "스케일 SVC 4 예측: [4]\n",
      "스케일 SVC 5 예측: [9]\n",
      "스케일 SVC 6 예측: [6]\n",
      "스케일 SVC 7 예측: [7]\n",
      "스케일 SVC 8 예측: [8]\n",
      "스케일 SVC 9 예측: [9]\n"
     ]
    }
   ],
   "source": [
    "for i in range(1, 10):\n",
    "    prescore = model1.predict([data[i]])\n",
    "    print(f\"로지스틱 {i} 예측: {prescore}\")\n",
    "    \n",
    "for i in range(1, 10):\n",
    "    prescore1 = model2.predict(scaler.transform([data[i]]))\n",
    "    print(f\"스케일 SVC {i} 예측: {prescore1}\")"
   ]
  },
  {
   "cell_type": "code",
   "execution_count": 17,
   "id": "7d7c87c8",
   "metadata": {},
   "outputs": [],
   "source": [
    "#######################################################################"
   ]
  },
  {
   "cell_type": "code",
   "execution_count": 18,
   "id": "5af5f09d",
   "metadata": {},
   "outputs": [],
   "source": [
    "# pipeline\n",
    "# clf = make_pipeline(StandardScaler(), SVC(gamma='auto'))\n",
    "# clf.fit(data, target)\n",
    "# Pipeline(steps=[('standardscaler', StandardScaler()),\n",
    "#                 ('svc', SVC(gamma='auto'))])"
   ]
  },
  {
   "cell_type": "code",
   "execution_count": 19,
   "id": "1d36a074",
   "metadata": {},
   "outputs": [],
   "source": [
    "# plt.gray()\n",
    "# plt.matshow(digits.images[0])\n",
    "# plt.show()"
   ]
  }
 ],
 "metadata": {
  "kernelspec": {
   "display_name": "Python 3 (ipykernel)",
   "language": "python",
   "name": "python3"
  },
  "language_info": {
   "codemirror_mode": {
    "name": "ipython",
    "version": 3
   },
   "file_extension": ".py",
   "mimetype": "text/x-python",
   "name": "python",
   "nbconvert_exporter": "python",
   "pygments_lexer": "ipython3",
   "version": "3.9.12"
  }
 },
 "nbformat": 4,
 "nbformat_minor": 5
}
