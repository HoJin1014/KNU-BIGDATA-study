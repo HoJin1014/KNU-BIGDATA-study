{
 "cells": [
  {
   "cell_type": "code",
   "execution_count": 14,
   "id": "8a835407",
   "metadata": {},
   "outputs": [
    {
     "name": "stdout",
     "output_type": "stream",
     "text": [
      "['사용월', '호선명', '역ID', '지하철역', '04:00:00~04:59:59', '', '05:00:00~05:59:59', '', '06:00:00~06:59:59', '', '07:00:00~07:59:59', '', '08:00:00~08:59:59', '', '09:00:00~09:59:59', '', '10:00:00~10:59:59', '', '11:00:00~11:59:59', '', '12:00:00~12:59:59', '', '13:00:00~13:59:59', '', '14:00:00~14:59:59', '', '15:00:00~15:59:59', '', '16:00:00~16:59:59', '', '17:00:00~17:59:59', '', '18:00:00~18:59:59', '', '19:00:00~19:59:59', '', '20:00:00~20:59:59', '', '21:00:00~21:59:59', '', '22:00:00~22:59:59', '', '23:00:00~23:59:59', '', '00:00:00~00:59:59', '', '01:00:00~01:59:59', '', '02:00:00~02:59:59', '', '03:00:00~03:59:59', '']\n",
      "['', '', '', '', '승차', '하차', '승차', '하차', '승차', '하차', '승차', '하차', '승차', '하차', '승차', '하차', '승차', '하차', '승차', '하차', '승차', '하차', '승차', '하차', '승차', '하차', '승차', '하차', '승차', '하차', '승차', '하차', '승차', '하차', '승차', '하차', '승차', '하차', '승차', '하차', '승차', '하차', '승차', '하차', '승차', '하차', '승차', '하차', '승차', '하차', '승차', '하차']\n",
      "['Jun-22', '1호선', '150', '서울역', '646', '24', '8433', '7694', '12608', '46963', '39233', '100397', '65106', '201687', '54833', '136594', '54970', '72279', '65919', '63975', '73911', '71095', '75158', '70182', '62452', '63752', '83128', '66858', '94518', '68962', '144662', '80449', '194098', '85268', '97875', '56132', '69808', '39704', '76345', '35471', '51224', '26045', '20385', '15480', '158', '1332', '1', '4', '0', '1', '0', '0']\n",
      "['Jun-22', '1호선', '151', '시청', '271', '7', '3133', '4802', '3321', '23621', '6647', '62427', '8294', '179710', '9211', '80830', '10835', '36788', '16716', '35424', '19234', '31199', '24405', '30398', '30565', '24936', '39899', '20559', '46625', '19624', '77189', '21255', '144407', '21622', '51494', '9722', '44062', '5873', '43072', '5598', '29032', '4091', '9254', '2938', '72', '422', '0', '2', '0', '0', '0', '0']\n",
      "['Jun-22', '1호선', '152', '종각', '91', '9', '4007', '3960', '3682', '22533', '5814', '95376', '9612', '235160', '11847', '130278', '16040', '56506', '24526', '53307', '30613', '46342', '40174', '45544', '47163', '37652', '58871', '33798', '67674', '35698', '124639', '42861', '192630', '47804', '81385', '23022', '72603', '10446', '80861', '7772', '65832', '5368', '27781', '3590', '315', '394', '0', '1', '0', '0', '0', '0']\n",
      "['Jun-22', '1호선', '153', '종로3가', '190', '12', '3882', '3261', '3570', '14038', '4746', '25469', '8589', '68699', '13179', '65554', '19047', '57537', '29424', '64639', '41102', '64686', '48210', '59569', '56456', '52854', '64165', '43080', '67802', '40060', '77696', '37925', '94729', '37948', '57840', '19186', '48259', '9725', '51274', '7492', '42291', '5558', '17170', '4119', '310', '843', '3', '3', '0', '0', '0', '0']\n",
      "['Jun-22', '1호선', '154', '종로5가', '34', '0', '1730', '3909', '2986', '16406', '5020', '41304', '8550', '96113', '11925', '60645', '19836', '53221', '29381', '57319', '38879', '55006', '47090', '49208', '54140', '45489', '57120', '37951', '61010', '35378', '76977', '32188', '93526', '29463', '46741', '15316', '34020', '7315', '31369', '5271', '22016', '3862', '6208', '2628', '98', '668', '0', '0', '0', '0', '0', '0']\n",
      "['Jun-22', '1호선', '155', '동대문', '890', '31', '11300', '2056', '8821', '7698', '14163', '12675', '18873', '22464', '17325', '22417', '16419', '22140', '18122', '24956', '21598', '23729', '23154', '21574', '24074', '20549', '24029', '19713', '25058', '18946', '24206', '18220', '22768', '18594', '16566', '18377', '14190', '12669', '13069', '10945', '11218', '9477', '4350', '8677', '25', '1595', '0', '0', '0', '0', '0', '0']\n"
     ]
    }
   ],
   "source": [
    "import csv\n",
    "\n",
    "DIR='../Data/'\n",
    "f = open(DIR+'subwaytime.csv', encoding='euc_kr')\n",
    "data = csv.reader(f)\n",
    "header = next(data)\n",
    "print(header)\n",
    "i = 0\n",
    "for row in data:\n",
    "    print(row)\n",
    "    if i >5:\n",
    "        break\n",
    "    i += 1\n",
    "f.close()"
   ]
  },
  {
   "cell_type": "code",
   "execution_count": 3,
   "id": "ee20f377",
   "metadata": {},
   "outputs": [
    {
     "name": "stdout",
     "output_type": "stream",
     "text": [
      "[1, 4, 9, 16]\n",
      "[1, 2, 3, 4]\n"
     ]
    }
   ],
   "source": [
    "def func(x):\n",
    "    return x**2\n",
    "\n",
    "a = [1, 2, 3, 4]\n",
    "a = list(map(func, a))   # 각 숫자의 제곱\n",
    "print(a)\n",
    "\n",
    "data = ['1', '2', '3', '4']\n",
    "data = list(map(int, data))   # 문자를 정수로 변환\n",
    "print(data)"
   ]
  },
  {
   "cell_type": "code",
   "execution_count": 4,
   "id": "c2b72c87",
   "metadata": {},
   "outputs": [
    {
     "name": "stdout",
     "output_type": "stream",
     "text": [
      "총 지하철 역의 수: 615\n",
      "새벽 4시 승차인원: 135,398\n"
     ]
    }
   ],
   "source": [
    "import csv\n",
    "\n",
    "result = []\n",
    "total_number = 0\n",
    "\n",
    "with open(DIR+'subwaytime.csv') as f:\n",
    "    data = csv.reader(f)\n",
    "    next(data)   # 2줄의 헤더 정보를 건너뜀\n",
    "    next(data)\n",
    "    \n",
    "    for row in data:\n",
    "        row[4:] = map(int, row[4:])\n",
    "        total_number += row[4]\n",
    "        result.append(row[4])\n",
    "        \n",
    "print('총 지하철 역의 수:', len(result))\n",
    "print('새벽 4시 승차인원: {:,}'.format(total_number))"
   ]
  },
  {
   "cell_type": "code",
   "execution_count": 5,
   "id": "84bd4028",
   "metadata": {},
   "outputs": [
    {
     "name": "stdout",
     "output_type": "stream",
     "text": [
      "새벽 4시 승차 인원수: 135,398\n",
      "최대 승차역: 구로, 인원수:11,784\n"
     ]
    }
   ],
   "source": [
    "import csv\n",
    "import matplotlib.pyplot as plt\n",
    "\n",
    "with open(DIR+'subwaytime.csv') as f:\n",
    "    data = csv.reader(f)\n",
    "    next(data)    # 2줄의 헤더 정보 건너뜀\n",
    "    next(data)\n",
    "    result = []\n",
    "    total_number = 0\n",
    "    max_num = 0\n",
    "    max_station = ''\n",
    "    \n",
    "    for row in data:\n",
    "        row[4:] = map(int, row[4:])\n",
    "        total_number += row[4]\n",
    "        result.append(row[4])\n",
    "        if(row[4] > max_num):\n",
    "            max_num = row[4]\n",
    "            max_station = row[3]\n",
    "\n",
    "print('새벽 4시 승차 인원수: {0:,}'.format(total_number))\n",
    "print('최대 승차역: {0}, 인원수:{1:,}'.format(max_station, max_num))"
   ]
  },
  {
   "cell_type": "code",
   "execution_count": 6,
   "id": "55e6b90c",
   "metadata": {},
   "outputs": [
    {
     "data": {
      "text/plain": [
       "<BarContainer object of 615 artists>"
      ]
     },
     "execution_count": 6,
     "metadata": {},
     "output_type": "execute_result"
    },
    {
     "data": {
      "image/png": "[encoded data removed]",
      "text/plain": [
       "<Figure size 600x400 with 1 Axes>"
      ]
     },
     "metadata": {
      "needs_background": "light"
     },
     "output_type": "display_data"
    }
   ],
   "source": [
    "result.sort()   # 오름 차순으로 정렬, 내림차순: result.sort(reverse=True)\n",
    "plt.figure(dpi=100)\n",
    "plt.bar(range(len(result)), result)"
   ]
  },
  {
   "cell_type": "code",
   "execution_count": 7,
   "id": "a1f6cdbd",
   "metadata": {},
   "outputs": [
    {
     "name": "stdout",
     "output_type": "stream",
     "text": [
      "최대 승차 인원역: 신림(2호선) 638,753\n"
     ]
    },
    {
     "data": {
      "image/png": "[encoded data removed]",
      "text/plain": [
       "<Figure size 600x400 with 1 Axes>"
      ]
     },
     "metadata": {
      "needs_background": "light"
     },
     "output_type": "display_data"
    }
   ],
   "source": [
    "import csv\n",
    "import matplotlib.pyplot as plt\n",
    "with open(DIR+'subwaytime.csv') as f:\n",
    "    data = csv.reader(f)\n",
    "    next(data) # 2줄의 헤더 정보 건너뜀\n",
    "    next(data)\n",
    "    result = []\n",
    "    total_number = 0\n",
    "    max_num = 0\n",
    "    max_station = ''\n",
    "    \n",
    "    for row in data:\n",
    "        row[4:] = map(int, row[4:])\n",
    "        row_sum = sum(row[10:15:2]) # index 10, 12, 14\n",
    "        # row_sum = row[10] + row[12] + row[14]\n",
    "        result.append(row_sum)\n",
    "        if row_sum > max_num:\n",
    "            max_num = row_sum\n",
    "            max_station = row[3] + '(' + row[1] + ')'\n",
    "\n",
    "print('최대 승차 인원역: {0} {1:,}'.format(max_station, max_num))\n",
    "result.sort(reverse=True)\n",
    "plt.figure(dpi=100)\n",
    "plt.bar(range(len(result)), result)\n",
    "plt.show()"
   ]
  },
  {
   "cell_type": "code",
   "execution_count": 9,
   "id": "1d530989",
   "metadata": {},
   "outputs": [
    {
     "name": "stdout",
     "output_type": "stream",
     "text": [
      "4시:구로: 11,784, 5시:신림: 38,809, 6시:신림: 73,523, 7시:신림: 188,110, \n",
      "8시:신림: 281,017, 9시:신림: 169,626, 10시:신림: 91,989, 11시:신림: 77,496, \n",
      "12시:잠실(송파구청): 84,383, 13시:강남: 95,697, 14시:강남: 106,394, 15시:강남: 131,625, \n",
      "16시:강남: 154,526, 17시:강남: 231,839, 18시:강남: 314,775, 19시:강남: 196,425, \n",
      "20시:강남: 155,347, 21시:강남: 180,108, 22시:강남: 176,473, 23시:강남: 81,016, \n",
      "0시:강남: 12,407, 1시:건대입구: 8, 2시:동묘앞: 1, "
     ]
    }
   ],
   "source": [
    "# 시간대별 가장 많이 승차하는 역 정보 분석\n",
    "import csv\n",
    "import matplotlib.pyplot as plt\n",
    "import platform\n",
    "\n",
    "with open(DIR+'subwaytime.csv') as f:\n",
    "    data = csv.reader(f)\n",
    "    next(data)\n",
    "    next(data)\n",
    "    max =[0] * 23 # 새벽 3시는 지하철 운행 안함\n",
    "    max_station = [''] * 23\n",
    "    xtick_list = []\n",
    "    \n",
    "    for i in range(4, 27):\n",
    "        n = i % 24 # 4, 5, 6, ... 23, 0, 1, 2시로 표시\n",
    "        xtick_list.append(str(n))\n",
    "\n",
    "    for row in data:\n",
    "        row[4:] = map(int, row[4:])\n",
    "        for j in range(23):\n",
    "            a = row[j * 2 + 4] # j=0: data[j*2+4]의 값을 max[0]에 저장하기 위함\n",
    "            if a > max[j]:\n",
    "                max[j] = a\n",
    "                max_station[j] = xtick_list[j] + '시:' + row[3] # 4시: 구로\n",
    "\n",
    "for i in range(len(max)):\n",
    "    print('{0}: {1:,}'.format(max_station[i], max[i]), end=', ')\n",
    "    if (i+1) % 4 == 0: # 한 줄에 6개씩 출력\n",
    "        print()"
   ]
  },
  {
   "cell_type": "code",
   "execution_count": 10,
   "id": "8a93569c",
   "metadata": {},
   "outputs": [
    {
     "data": {
      "image/png": "[encoded data removed]",
      "text/plain": [
       "<Figure size 600x400 with 1 Axes>"
      ]
     },
     "metadata": {
      "needs_background": "light"
     },
     "output_type": "display_data"
    }
   ],
   "source": [
    "if(platform.system() == 'Windows'):\n",
    "    plt.rc('font', family = 'Malgun Gothic')\n",
    "else:\n",
    "    plt.rc('font', family = 'AppleGothic')\n",
    "\n",
    "plt.figure(dpi=100)\n",
    "plt.bar(range(23), max)\n",
    "plt.xticks(range(23), max_station, rotation=80)\n",
    "plt.show()"
   ]
  },
  {
   "cell_type": "code",
   "execution_count": 12,
   "id": "cdc40564",
   "metadata": {},
   "outputs": [
    {
     "name": "stdout",
     "output_type": "stream",
     "text": [
      "dict 정렬: key기준 오름차순\n",
      "[('Aimy', 9778), ('Bob', 5887), ('Kelly', 7855), ('Mary', 10999), ('Michale', 27115), ('Sams', 2111), ('Tom', 20245)]\n",
      "dict정렬: value기준, 내림차순\n"
     ]
    },
    {
     "ename": "TypeError",
     "evalue": "'value' is an invalid keyword argument for sort()",
     "output_type": "error",
     "traceback": [
      "\u001b[1;31m---------------------------------------------------------------------------\u001b[0m",
      "\u001b[1;31mTypeError\u001b[0m                                 Traceback (most recent call last)",
      "Input \u001b[1;32mIn [12]\u001b[0m, in \u001b[0;36m<cell line: 12>\u001b[1;34m()\u001b[0m\n\u001b[0;32m     10\u001b[0m \u001b[38;5;66;03m# Value를 기준으로 정렬, 내림차순: reverse=True\u001b[39;00m\n\u001b[0;32m     11\u001b[0m \u001b[38;5;28mprint\u001b[39m(\u001b[38;5;124m\"\u001b[39m\u001b[38;5;124mdict정렬: value기준, 내림차순\u001b[39m\u001b[38;5;124m\"\u001b[39m)\n\u001b[1;32m---> 12\u001b[0m res \u001b[38;5;241m=\u001b[39m \u001b[38;5;28;43msorted\u001b[39;49m\u001b[43m(\u001b[49m\u001b[43mnames\u001b[49m\u001b[38;5;241;43m.\u001b[39;49m\u001b[43mitems\u001b[49m\u001b[43m(\u001b[49m\u001b[43m)\u001b[49m\u001b[43m,\u001b[49m\u001b[43m \u001b[49m\u001b[43mvalue\u001b[49m\u001b[38;5;241;43m=\u001b[39;49m\u001b[43m(\u001b[49m\u001b[38;5;28;43;01mlambda\u001b[39;49;00m\u001b[43m \u001b[49m\u001b[43mx\u001b[49m\u001b[43m:\u001b[49m\u001b[43m \u001b[49m\u001b[43mx\u001b[49m\u001b[43m[\u001b[49m\u001b[38;5;241;43m1\u001b[39;49m\u001b[43m]\u001b[49m\u001b[43m)\u001b[49m\u001b[43m,\u001b[49m\u001b[43m \u001b[49m\u001b[43mreverse\u001b[49m\u001b[38;5;241;43m=\u001b[39;49m\u001b[38;5;28;43;01mTrue\u001b[39;49;00m\u001b[43m)\u001b[49m\n\u001b[0;32m     13\u001b[0m \u001b[38;5;28mprint\u001b[39m(res)\n\u001b[0;32m     15\u001b[0m \u001b[38;5;28mprint\u001b[39m()\n",
      "\u001b[1;31mTypeError\u001b[0m: 'value' is an invalid keyword argument for sort()"
     ]
    }
   ],
   "source": [
    "import operator\n",
    "names = {'Mary':10999, 'Sams':2111, 'Aimy':9778, 'Tom':20245,\n",
    "         'Michale':27115, 'Bob':5887, 'Kelly':7855}\n",
    "\n",
    "# Key를 기준으로 정렬 (기본: 오름차순)\n",
    "print(\"dict 정렬: key기준 오름차순\")\n",
    "res = sorted(names.items(), key=(lambda x: x[0]))\n",
    "print(res)\n",
    "\n",
    "# Value를 기준으로 정렬, 내림차순: reverse=True\n",
    "print(\"dict정렬: value기준, 내림차순\")\n",
    "res = sorted(names.items(), value=(lambda x: x[1]), reverse=True)\n",
    "print(res)\n",
    "\n",
    "print()\n",
    "\n",
    "# key를 기준으로 정렬 (오름차순)\n",
    "sorted_x = sorted(names.items(), key=operator.itemgetter(0))\n",
    "print(sorted_x)\n",
    "print()\n",
    "\n",
    "# value를 기준으로 정렬 (내림차순)\n",
    "sorted_x = sorted(names.items(), key=operator.itemgetter(1), reverse=True)\n",
    "print(sorted_x)"
   ]
  },
  {
   "cell_type": "code",
   "execution_count": null,
   "id": "56eedbe0",
   "metadata": {},
   "outputs": [],
   "source": []
  }
 ],
 "metadata": {
  "kernelspec": {
   "display_name": "Python 3 (ipykernel)",
   "language": "python",
   "name": "python3"
  },
  "language_info": {
   "codemirror_mode": {
    "name": "ipython",
    "version": 3
   },
   "file_extension": ".py",
   "mimetype": "text/x-python",
   "name": "python",
   "nbconvert_exporter": "python",
   "pygments_lexer": "ipython3",
   "version": "3.9.12"
  }
 },
 "nbformat": 4,
 "nbformat_minor": 5
}
