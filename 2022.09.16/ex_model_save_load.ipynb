{
 "cells": [
  {
   "cell_type": "markdown",
   "id": "b5f19532",
   "metadata": {},
   "source": [
    "## 모델 저장과 복원\n",
    "---\n",
    "- 방법1) 모델전체 저장(모델 구조 + 가중치 + 변수)\n",
    "    * save_model()\n",
    "    * 복원시 추가 작업 필요 없이 모델 파일 로딩해서 사용 가능\n",
    "    \n",
    "- 방법2) 가중치만 저장\n",
    "    * save_weights()\n",
    "    * 복원시 모델 구조(Architechture) 생성 후 가중치 적용\n",
    "\n",
    "- 방법3) 모델 전체 또는 가중치 자동 저장\n",
    "    * fit()에서 ModelCheckPoint Event에 대한 callback 등록\n",
    "    * save_best_only = True : 모니터링 기준에 따라서 좋은 성능의 모델만 저장\n",
    "    * save_weight_only = True : 가중치만 저장\n",
    "\n",
    "- 파일 또는 폴더\n",
    "    * 파일 확장자가 없으면 폴더로 저장\n",
    "    * 파일 확장자가\n",
    "        - h5 / hdf5 : HDF5 포맷으로 모델 또는 가중치 저장\n",
    "        - ckpf : 체크파일형태로 저장\n",
    "        - pd : 모델 저장"
   ]
  },
  {
   "cell_type": "code",
   "execution_count": null,
   "id": "bebbb91f",
   "metadata": {},
   "outputs": [],
   "source": []
  }
 ],
 "metadata": {
  "kernelspec": {
   "display_name": "Python 3 (ipykernel)",
   "language": "python",
   "name": "python3"
  },
  "language_info": {
   "codemirror_mode": {
    "name": "ipython",
    "version": 3
   },
   "file_extension": ".py",
   "mimetype": "text/x-python",
   "name": "python",
   "nbconvert_exporter": "python",
   "pygments_lexer": "ipython3",
   "version": "3.9.12"
  }
 },
 "nbformat": 4,
 "nbformat_minor": 5
}
