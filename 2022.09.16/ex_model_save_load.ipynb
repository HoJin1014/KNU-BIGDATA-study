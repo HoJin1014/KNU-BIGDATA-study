{
 "cells": [
  {
   "cell_type": "markdown",
   "id": "632a9024",
   "metadata": {},
   "source": [
    "## 모델 저장과 복원\n",
    "---\n",
    "- 방법1) 모델전체 저장(모델 구조 + 가중치 + 변수)\n",
    "    * save_model()\n",
    "    * 복원시 추가 작업 필요 없이 모델 파일 로딩해서 사용 가능\n",
    "    \n",
    "- 방법2) 가중치만 저장\n",
    "    * save_weights()\n",
    "    * 복원시 모델 구조(Architechture) 생성 후 가중치 적용\n",
    "\n",
    "- 방법3) 모델 전체 또는 가중치 자동 저장\n",
    "    * fit()에서 ModelCheckPoint Event에 대한 callback 등록\n",
    "    * save_best_only = True : 모니터링 기준에 따라서 좋은 성능의 모델만 저장\n",
    "    * save_weight_only = True : 가중치만 저장\n",
    "\n",
    "- 파일 또는 폴더\n",
    "    * 파일 확장자가 없으면 폴더로 저장\n",
    "    * 파일 확장자가\n",
    "        - h5 / hdf5 : HDF5 포맷으로 모델 또는 가중치 저장\n",
    "        - ckpf : 체크파일형태로 저장\n",
    "        - pd : 모델 저장"
   ]
  },
  {
   "cell_type": "markdown",
   "id": "a4eb537d",
   "metadata": {},
   "source": [
    "## [1] 데이터 준비\n",
    "---"
   ]
  },
  {
   "cell_type": "code",
   "execution_count": 1,
   "id": "b5524bbb",
   "metadata": {},
   "outputs": [],
   "source": [
    "from sklearn.datasets import load_iris\n",
    "from tensorflow.keras import Sequential\n",
    "from tensorflow.keras.layers import Dense\n",
    "from tensorflow.keras.utils import set_random_seed, plot_model\n",
    "import numpy as np"
   ]
  },
  {
   "cell_type": "markdown",
   "id": "9cf44e4d",
   "metadata": {},
   "source": [
    "## [1] 데이터 준비 및 로딩\n",
    "---"
   ]
  },
  {
   "cell_type": "code",
   "execution_count": 2,
   "id": "a08b31ba",
   "metadata": {},
   "outputs": [],
   "source": [
    "iris=load_iris()"
   ]
  },
  {
   "cell_type": "code",
   "execution_count": 3,
   "id": "fdd4ed43",
   "metadata": {},
   "outputs": [
    {
     "name": "stdout",
     "output_type": "stream",
     "text": [
      "x_train.shape : (150, 4), y_train.shape : (150,)\n"
     ]
    }
   ],
   "source": [
    "x_train=iris.data\n",
    "y_train=iris.target\n",
    "\n",
    "print(f'x_train.shape : {x_train.shape}, y_train.shape : {y_train.shape}')"
   ]
  },
  {
   "cell_type": "code",
   "execution_count": 4,
   "id": "77a8633d",
   "metadata": {
    "scrolled": true
   },
   "outputs": [
    {
     "data": {
      "text/plain": [
       "(array(['setosa', 'versicolor', 'virginica'], dtype='<U10'),\n",
       " ['sepal length (cm)',\n",
       "  'sepal width (cm)',\n",
       "  'petal length (cm)',\n",
       "  'petal width (cm)'])"
      ]
     },
     "execution_count": 4,
     "metadata": {},
     "output_type": "execute_result"
    }
   ],
   "source": [
    "iris.target_names, iris.feature_names"
   ]
  },
  {
   "cell_type": "markdown",
   "id": "4eb214fa",
   "metadata": {},
   "source": [
    "## [2] 데이터 전처리\n",
    "---"
   ]
  },
  {
   "cell_type": "code",
   "execution_count": 5,
   "id": "126277bc",
   "metadata": {},
   "outputs": [
    {
     "data": {
      "text/plain": [
       "(150, 2)"
      ]
     },
     "execution_count": 5,
     "metadata": {},
     "output_type": "execute_result"
    }
   ],
   "source": [
    "# Feature => 꽃잎의 길이, 너비\n",
    "x_train=x_train[:, 2:]\n",
    "x_train.shape"
   ]
  },
  {
   "cell_type": "code",
   "execution_count": 6,
   "id": "c9fc0b64",
   "metadata": {},
   "outputs": [],
   "source": [
    "# Target => 문자 => 수치화"
   ]
  },
  {
   "cell_type": "code",
   "execution_count": 7,
   "id": "b78b57e5",
   "metadata": {},
   "outputs": [
    {
     "data": {
      "text/plain": [
       "array([0, 0, 0, 0, 0, 0, 0, 0, 0, 0, 0, 0, 0, 0, 0, 0, 0, 0, 0, 0, 0, 0,\n",
       "       0, 0, 0, 0, 0, 0, 0, 0, 0, 0, 0, 0, 0, 0, 0, 0, 0, 0, 0, 0, 0, 0,\n",
       "       0, 0, 0, 0, 0, 0, 1, 1, 1, 1, 1, 1, 1, 1, 1, 1, 1, 1, 1, 1, 1, 1,\n",
       "       1, 1, 1, 1, 1, 1, 1, 1, 1, 1, 1, 1, 1, 1, 1, 1, 1, 1, 1, 1, 1, 1,\n",
       "       1, 1, 1, 1, 1, 1, 1, 1, 1, 1, 1, 1, 2, 2, 2, 2, 2, 2, 2, 2, 2, 2,\n",
       "       2, 2, 2, 2, 2, 2, 2, 2, 2, 2, 2, 2, 2, 2, 2, 2, 2, 2, 2, 2, 2, 2,\n",
       "       2, 2, 2, 2, 2, 2, 2, 2, 2, 2, 2, 2, 2, 2, 2, 2, 2, 2], dtype=int64)"
      ]
     },
     "execution_count": 7,
     "metadata": {},
     "output_type": "execute_result"
    }
   ],
   "source": [
    "from sklearn.preprocessing import LabelEncoder, OneHotEncoder\n",
    "\n",
    "lencoder = LabelEncoder()\n",
    "lencoder.fit(y_train).transform(y_train)"
   ]
  },
  {
   "cell_type": "code",
   "execution_count": 8,
   "id": "a859d7a5",
   "metadata": {},
   "outputs": [],
   "source": [
    "ohencoder = OneHotEncoder()\n",
    "y_train=ohencoder.fit(y_train.reshape(-1,1)).transform(y_train.reshape(-1,1))\n",
    "y_train=y_train.toarray()"
   ]
  },
  {
   "cell_type": "code",
   "execution_count": 9,
   "id": "ce054651",
   "metadata": {
    "scrolled": true
   },
   "outputs": [
    {
     "data": {
      "text/plain": [
       "((150, 2), (150, 3), array([1., 0., 0.]))"
      ]
     },
     "execution_count": 9,
     "metadata": {},
     "output_type": "execute_result"
    }
   ],
   "source": [
    "x_train.shape, y_train.shape, y_train[0]"
   ]
  },
  {
   "cell_type": "code",
   "execution_count": 10,
   "id": "6d9ff891",
   "metadata": {},
   "outputs": [],
   "source": [
    "from sklearn.preprocessing import StandardScaler\n",
    "scaler=StandardScaler()\n",
    "x_scaled_train=scaler.fit(x_train).transform(x_train)"
   ]
  },
  {
   "cell_type": "code",
   "execution_count": 11,
   "id": "fef8be34",
   "metadata": {},
   "outputs": [],
   "source": [
    "from sklearn.model_selection import train_test_split"
   ]
  },
  {
   "cell_type": "code",
   "execution_count": 12,
   "id": "6888619f",
   "metadata": {},
   "outputs": [],
   "source": [
    "x_train, x_test, y_train, y_test = train_test_split(x_scaled_train, y_train,\n",
    "                                                   stratify=y_train) "
   ]
  },
  {
   "cell_type": "code",
   "execution_count": 13,
   "id": "612a6f57",
   "metadata": {},
   "outputs": [],
   "source": [
    "x_train, x_val, y_train, y_val = train_test_split(x_train, y_train)"
   ]
  },
  {
   "cell_type": "code",
   "execution_count": 14,
   "id": "fe0d44ec",
   "metadata": {},
   "outputs": [
    {
     "name": "stdout",
     "output_type": "stream",
     "text": [
      "x_train.shape : , x_train.shape\n",
      "x_test.shape : , x_test.shape\n",
      "x_val.shape : , x_val.shape\n"
     ]
    }
   ],
   "source": [
    "print('x_train.shape : , x_train.shape')\n",
    "print('x_test.shape : , x_test.shape')\n",
    "print('x_val.shape : , x_val.shape')"
   ]
  },
  {
   "cell_type": "code",
   "execution_count": 15,
   "id": "ffa9d8fe",
   "metadata": {},
   "outputs": [
    {
     "data": {
      "text/plain": [
       "(array([0.87643312, 1.44883158]),\n",
       " array([-1.34022653, -1.18381211]),\n",
       " array([-1.34022653, -1.3154443 ]))"
      ]
     },
     "execution_count": 15,
     "metadata": {},
     "output_type": "execute_result"
    }
   ],
   "source": [
    "x_train[0], x_test[0], x_val[0]"
   ]
  },
  {
   "cell_type": "markdown",
   "id": "d125b221",
   "metadata": {},
   "source": [
    "## [3] 모델 구성 및 생성\n",
    "---\n",
    "- 입력 데이터 : 2개 Feature\n",
    "- 출력 데이터 : 3개 품종\n",
    "- 학습 방법 : 분류 - 다중분류"
   ]
  },
  {
   "cell_type": "code",
   "execution_count": 16,
   "id": "97ffdd25",
   "metadata": {},
   "outputs": [],
   "source": [
    "# W,b 고정하도록 seed 설정\n",
    "set_random_seed(11)"
   ]
  },
  {
   "cell_type": "code",
   "execution_count": 17,
   "id": "aaa7de8f",
   "metadata": {},
   "outputs": [],
   "source": [
    "irisModel=Sequential(name='irisModel')"
   ]
  },
  {
   "cell_type": "code",
   "execution_count": 18,
   "id": "c16083df",
   "metadata": {},
   "outputs": [],
   "source": [
    "irisModel.add(Dense(9, activation='relu', input_shape=(2,)))\n",
    "irisModel.add(Dense(3, activation='softmax'))"
   ]
  },
  {
   "cell_type": "code",
   "execution_count": 19,
   "id": "ec765006",
   "metadata": {},
   "outputs": [
    {
     "name": "stdout",
     "output_type": "stream",
     "text": [
      "Model: \"irisModel\"\n",
      "_________________________________________________________________\n",
      " Layer (type)                Output Shape              Param #   \n",
      "=================================================================\n",
      " dense (Dense)               (None, 9)                 27        \n",
      "                                                                 \n",
      " dense_1 (Dense)             (None, 3)                 30        \n",
      "                                                                 \n",
      "=================================================================\n",
      "Total params: 57\n",
      "Trainable params: 57\n",
      "Non-trainable params: 0\n",
      "_________________________________________________________________\n"
     ]
    }
   ],
   "source": [
    "irisModel.summary()"
   ]
  },
  {
   "cell_type": "code",
   "execution_count": 20,
   "id": "deef96db",
   "metadata": {},
   "outputs": [
    {
     "data": {
      "image/png": "[encoded data removed]",
      "text/plain": [
       "<IPython.core.display.Image object>"
      ]
     },
     "execution_count": 20,
     "metadata": {},
     "output_type": "execute_result"
    }
   ],
   "source": [
    "plot_model(irisModel, show_shapes=True)"
   ]
  },
  {
   "cell_type": "code",
   "execution_count": 21,
   "id": "535de174",
   "metadata": {},
   "outputs": [],
   "source": [
    "## 모델 생성\n",
    "irisModel.compile(loss='categorical_crossentropy',\n",
    "                 optimizer='adam',\n",
    "                 metrics='accuracy')"
   ]
  },
  {
   "cell_type": "markdown",
   "id": "88f5a65d",
   "metadata": {},
   "source": [
    "## [4] 모델 학습"
   ]
  },
  {
   "cell_type": "code",
   "execution_count": 22,
   "id": "8a11cd2b",
   "metadata": {},
   "outputs": [
    {
     "name": "stdout",
     "output_type": "stream",
     "text": [
      "Epoch 1/100\n",
      "3/3 [==============================] - 0s 2ms/step - loss: 1.1631 - accuracy: 0.3333\n",
      "Epoch 2/100\n",
      "3/3 [==============================] - 0s 3ms/step - loss: 1.1498 - accuracy: 0.3333\n",
      "Epoch 3/100\n",
      "3/3 [==============================] - 0s 2ms/step - loss: 1.1365 - accuracy: 0.3333\n",
      "Epoch 4/100\n",
      "3/3 [==============================] - 0s 3ms/step - loss: 1.1237 - accuracy: 0.3333\n",
      "Epoch 5/100\n",
      "3/3 [==============================] - 0s 3ms/step - loss: 1.1117 - accuracy: 0.3333\n",
      "Epoch 6/100\n",
      "3/3 [==============================] - 0s 3ms/step - loss: 1.0992 - accuracy: 0.3333\n",
      "Epoch 7/100\n",
      "3/3 [==============================] - 0s 3ms/step - loss: 1.0868 - accuracy: 0.3333\n",
      "Epoch 8/100\n",
      "3/3 [==============================] - 0s 2ms/step - loss: 1.0749 - accuracy: 0.3333\n",
      "Epoch 9/100\n",
      "3/3 [==============================] - 0s 2ms/step - loss: 1.0632 - accuracy: 0.3214\n",
      "Epoch 10/100\n",
      "3/3 [==============================] - 0s 2ms/step - loss: 1.0517 - accuracy: 0.3214\n",
      "Epoch 11/100\n",
      "3/3 [==============================] - 0s 3ms/step - loss: 1.0405 - accuracy: 0.3214\n",
      "Epoch 12/100\n",
      "3/3 [==============================] - 0s 2ms/step - loss: 1.0294 - accuracy: 0.3214\n",
      "Epoch 13/100\n",
      "3/3 [==============================] - 0s 2ms/step - loss: 1.0185 - accuracy: 0.3214\n",
      "Epoch 14/100\n",
      "3/3 [==============================] - 0s 2ms/step - loss: 1.0079 - accuracy: 0.3214\n",
      "Epoch 15/100\n",
      "3/3 [==============================] - 0s 2ms/step - loss: 0.9974 - accuracy: 0.3214\n",
      "Epoch 16/100\n",
      "3/3 [==============================] - 0s 2ms/step - loss: 0.9879 - accuracy: 0.3452\n",
      "Epoch 17/100\n",
      "3/3 [==============================] - 0s 2ms/step - loss: 0.9774 - accuracy: 0.3452\n",
      "Epoch 18/100\n",
      "3/3 [==============================] - 0s 1ms/step - loss: 0.9677 - accuracy: 0.3571\n",
      "Epoch 19/100\n",
      "3/3 [==============================] - 0s 2ms/step - loss: 0.9580 - accuracy: 0.3571\n",
      "Epoch 20/100\n",
      "3/3 [==============================] - 0s 2ms/step - loss: 0.9491 - accuracy: 0.3690\n",
      "Epoch 21/100\n",
      "3/3 [==============================] - 0s 2ms/step - loss: 0.9393 - accuracy: 0.3929\n",
      "Epoch 22/100\n",
      "3/3 [==============================] - 0s 2ms/step - loss: 0.9308 - accuracy: 0.4286\n",
      "Epoch 23/100\n",
      "3/3 [==============================] - 0s 2ms/step - loss: 0.9215 - accuracy: 0.4762\n",
      "Epoch 24/100\n",
      "3/3 [==============================] - 0s 2ms/step - loss: 0.9129 - accuracy: 0.5238\n",
      "Epoch 25/100\n",
      "3/3 [==============================] - 0s 2ms/step - loss: 0.9043 - accuracy: 0.6190\n",
      "Epoch 26/100\n",
      "3/3 [==============================] - 0s 2ms/step - loss: 0.8958 - accuracy: 0.6429\n",
      "Epoch 27/100\n",
      "3/3 [==============================] - 0s 2ms/step - loss: 0.8875 - accuracy: 0.6548\n",
      "Epoch 28/100\n",
      "3/3 [==============================] - 0s 2ms/step - loss: 0.8796 - accuracy: 0.6548\n",
      "Epoch 29/100\n",
      "3/3 [==============================] - 0s 2ms/step - loss: 0.8715 - accuracy: 0.6548\n",
      "Epoch 30/100\n",
      "3/3 [==============================] - 0s 2ms/step - loss: 0.8636 - accuracy: 0.6667\n",
      "Epoch 31/100\n",
      "3/3 [==============================] - 0s 1ms/step - loss: 0.8556 - accuracy: 0.6667\n",
      "Epoch 32/100\n",
      "3/3 [==============================] - 0s 2ms/step - loss: 0.8482 - accuracy: 0.6667\n",
      "Epoch 33/100\n",
      "3/3 [==============================] - 0s 2ms/step - loss: 0.8408 - accuracy: 0.7024\n",
      "Epoch 34/100\n",
      "3/3 [==============================] - 0s 2ms/step - loss: 0.8332 - accuracy: 0.7143\n",
      "Epoch 35/100\n",
      "3/3 [==============================] - 0s 2ms/step - loss: 0.8262 - accuracy: 0.7143\n",
      "Epoch 36/100\n",
      "3/3 [==============================] - 0s 2ms/step - loss: 0.8189 - accuracy: 0.7143\n",
      "Epoch 37/100\n",
      "3/3 [==============================] - 0s 1ms/step - loss: 0.8121 - accuracy: 0.7143\n",
      "Epoch 38/100\n",
      "3/3 [==============================] - 0s 2ms/step - loss: 0.8052 - accuracy: 0.7143\n",
      "Epoch 39/100\n",
      "3/3 [==============================] - 0s 2ms/step - loss: 0.7985 - accuracy: 0.7143\n",
      "Epoch 40/100\n",
      "3/3 [==============================] - 0s 2ms/step - loss: 0.7918 - accuracy: 0.7143\n",
      "Epoch 41/100\n",
      "3/3 [==============================] - 0s 1ms/step - loss: 0.7852 - accuracy: 0.7262\n",
      "Epoch 42/100\n",
      "3/3 [==============================] - 0s 2ms/step - loss: 0.7787 - accuracy: 0.7262\n",
      "Epoch 43/100\n",
      "3/3 [==============================] - 0s 2ms/step - loss: 0.7724 - accuracy: 0.7262\n",
      "Epoch 44/100\n",
      "3/3 [==============================] - 0s 2ms/step - loss: 0.7659 - accuracy: 0.7381\n",
      "Epoch 45/100\n",
      "3/3 [==============================] - 0s 2ms/step - loss: 0.7600 - accuracy: 0.7381\n",
      "Epoch 46/100\n",
      "3/3 [==============================] - 0s 2ms/step - loss: 0.7537 - accuracy: 0.7381\n",
      "Epoch 47/100\n",
      "3/3 [==============================] - 0s 2ms/step - loss: 0.7477 - accuracy: 0.7500\n",
      "Epoch 48/100\n",
      "3/3 [==============================] - 0s 1ms/step - loss: 0.7417 - accuracy: 0.7500\n",
      "Epoch 49/100\n",
      "3/3 [==============================] - 0s 2ms/step - loss: 0.7357 - accuracy: 0.7500\n",
      "Epoch 50/100\n",
      "3/3 [==============================] - 0s 2ms/step - loss: 0.7299 - accuracy: 0.7500\n",
      "Epoch 51/100\n",
      "3/3 [==============================] - 0s 1ms/step - loss: 0.7242 - accuracy: 0.7619\n",
      "Epoch 52/100\n",
      "3/3 [==============================] - 0s 2ms/step - loss: 0.7184 - accuracy: 0.7619\n",
      "Epoch 53/100\n",
      "3/3 [==============================] - 0s 1ms/step - loss: 0.7130 - accuracy: 0.7619\n",
      "Epoch 54/100\n",
      "3/3 [==============================] - 0s 1ms/step - loss: 0.7072 - accuracy: 0.7619\n",
      "Epoch 55/100\n",
      "3/3 [==============================] - 0s 1ms/step - loss: 0.7016 - accuracy: 0.7619\n",
      "Epoch 56/100\n",
      "3/3 [==============================] - 0s 2ms/step - loss: 0.6961 - accuracy: 0.7619\n",
      "Epoch 57/100\n",
      "3/3 [==============================] - 0s 2ms/step - loss: 0.6908 - accuracy: 0.7619\n",
      "Epoch 58/100\n",
      "3/3 [==============================] - 0s 1ms/step - loss: 0.6853 - accuracy: 0.7738\n",
      "Epoch 59/100\n",
      "3/3 [==============================] - 0s 1ms/step - loss: 0.6800 - accuracy: 0.7738\n",
      "Epoch 60/100\n",
      "3/3 [==============================] - 0s 1ms/step - loss: 0.6747 - accuracy: 0.7738\n",
      "Epoch 61/100\n",
      "3/3 [==============================] - 0s 2ms/step - loss: 0.6694 - accuracy: 0.7738\n",
      "Epoch 62/100\n",
      "3/3 [==============================] - 0s 2ms/step - loss: 0.6642 - accuracy: 0.7738\n",
      "Epoch 63/100\n",
      "3/3 [==============================] - 0s 2ms/step - loss: 0.6590 - accuracy: 0.7857\n",
      "Epoch 64/100\n",
      "3/3 [==============================] - 0s 1ms/step - loss: 0.6539 - accuracy: 0.7857\n",
      "Epoch 65/100\n",
      "3/3 [==============================] - 0s 2ms/step - loss: 0.6488 - accuracy: 0.7857\n",
      "Epoch 66/100\n",
      "3/3 [==============================] - 0s 2ms/step - loss: 0.6438 - accuracy: 0.7857\n",
      "Epoch 67/100\n",
      "3/3 [==============================] - 0s 2ms/step - loss: 0.6387 - accuracy: 0.7857\n",
      "Epoch 68/100\n",
      "3/3 [==============================] - 0s 2ms/step - loss: 0.6338 - accuracy: 0.7857\n",
      "Epoch 69/100\n",
      "3/3 [==============================] - 0s 2ms/step - loss: 0.6289 - accuracy: 0.7857\n",
      "Epoch 70/100\n",
      "3/3 [==============================] - 0s 2ms/step - loss: 0.6241 - accuracy: 0.7857\n",
      "Epoch 71/100\n",
      "3/3 [==============================] - 0s 2ms/step - loss: 0.6192 - accuracy: 0.7857\n",
      "Epoch 72/100\n",
      "3/3 [==============================] - 0s 2ms/step - loss: 0.6145 - accuracy: 0.7857\n",
      "Epoch 73/100\n",
      "3/3 [==============================] - 0s 1ms/step - loss: 0.6097 - accuracy: 0.7857\n",
      "Epoch 74/100\n",
      "3/3 [==============================] - 0s 2ms/step - loss: 0.6050 - accuracy: 0.7976\n",
      "Epoch 75/100\n",
      "3/3 [==============================] - 0s 1ms/step - loss: 0.6004 - accuracy: 0.8095\n",
      "Epoch 76/100\n",
      "3/3 [==============================] - 0s 1ms/step - loss: 0.5957 - accuracy: 0.8214\n",
      "Epoch 77/100\n",
      "3/3 [==============================] - 0s 2ms/step - loss: 0.5913 - accuracy: 0.8214\n",
      "Epoch 78/100\n",
      "3/3 [==============================] - 0s 2ms/step - loss: 0.5867 - accuracy: 0.8214\n",
      "Epoch 79/100\n",
      "3/3 [==============================] - 0s 2ms/step - loss: 0.5823 - accuracy: 0.8214\n",
      "Epoch 80/100\n",
      "3/3 [==============================] - 0s 5ms/step - loss: 0.5778 - accuracy: 0.8214\n",
      "Epoch 81/100\n",
      "3/3 [==============================] - 0s 2ms/step - loss: 0.5734 - accuracy: 0.8214\n",
      "Epoch 82/100\n",
      "3/3 [==============================] - 0s 2ms/step - loss: 0.5690 - accuracy: 0.8214\n",
      "Epoch 83/100\n",
      "3/3 [==============================] - 0s 2ms/step - loss: 0.5649 - accuracy: 0.8214\n",
      "Epoch 84/100\n"
     ]
    },
    {
     "name": "stdout",
     "output_type": "stream",
     "text": [
      "3/3 [==============================] - 0s 2ms/step - loss: 0.5605 - accuracy: 0.8333\n",
      "Epoch 85/100\n",
      "3/3 [==============================] - 0s 2ms/step - loss: 0.5562 - accuracy: 0.8333\n",
      "Epoch 86/100\n",
      "3/3 [==============================] - 0s 2ms/step - loss: 0.5520 - accuracy: 0.8333\n",
      "Epoch 87/100\n",
      "3/3 [==============================] - 0s 2ms/step - loss: 0.5479 - accuracy: 0.8333\n",
      "Epoch 88/100\n",
      "3/3 [==============================] - 0s 1ms/step - loss: 0.5436 - accuracy: 0.8333\n",
      "Epoch 89/100\n",
      "3/3 [==============================] - 0s 2ms/step - loss: 0.5393 - accuracy: 0.8452\n",
      "Epoch 90/100\n",
      "3/3 [==============================] - 0s 1ms/step - loss: 0.5352 - accuracy: 0.8452\n",
      "Epoch 91/100\n",
      "3/3 [==============================] - 0s 2ms/step - loss: 0.5311 - accuracy: 0.8452\n",
      "Epoch 92/100\n",
      "3/3 [==============================] - 0s 1ms/step - loss: 0.5270 - accuracy: 0.8452\n",
      "Epoch 93/100\n",
      "3/3 [==============================] - 0s 2ms/step - loss: 0.5230 - accuracy: 0.8452\n",
      "Epoch 94/100\n",
      "3/3 [==============================] - 0s 2ms/step - loss: 0.5189 - accuracy: 0.8452\n",
      "Epoch 95/100\n",
      "3/3 [==============================] - 0s 2ms/step - loss: 0.5149 - accuracy: 0.8452\n",
      "Epoch 96/100\n",
      "3/3 [==============================] - 0s 1ms/step - loss: 0.5111 - accuracy: 0.8810\n",
      "Epoch 97/100\n",
      "3/3 [==============================] - 0s 2ms/step - loss: 0.5071 - accuracy: 0.8810\n",
      "Epoch 98/100\n",
      "3/3 [==============================] - 0s 2ms/step - loss: 0.5031 - accuracy: 0.8810\n",
      "Epoch 99/100\n",
      "3/3 [==============================] - 0s 2ms/step - loss: 0.4993 - accuracy: 0.8810\n",
      "Epoch 100/100\n",
      "3/3 [==============================] - 0s 2ms/step - loss: 0.4954 - accuracy: 0.9286\n"
     ]
    },
    {
     "data": {
      "text/plain": [
       "<keras.callbacks.History at 0x221fb6938b0>"
      ]
     },
     "execution_count": 22,
     "metadata": {},
     "output_type": "execute_result"
    }
   ],
   "source": [
    "irisModel.fit(x_train, y_train, epochs=100)"
   ]
  },
  {
   "cell_type": "markdown",
   "id": "37724696",
   "metadata": {},
   "source": [
    "## [5] 평가"
   ]
  },
  {
   "cell_type": "code",
   "execution_count": 23,
   "id": "a003c978",
   "metadata": {},
   "outputs": [
    {
     "name": "stdout",
     "output_type": "stream",
     "text": [
      "2/2 [==============================] - 0s 3ms/step - loss: 0.5129 - accuracy: 0.9211\n"
     ]
    },
    {
     "data": {
      "text/plain": [
       "[0.5129058957099915, 0.9210526347160339]"
      ]
     },
     "execution_count": 23,
     "metadata": {},
     "output_type": "execute_result"
    }
   ],
   "source": [
    "irisModel.evaluate(x_test, y_test)"
   ]
  },
  {
   "cell_type": "markdown",
   "id": "0ea39b2d",
   "metadata": {},
   "source": [
    "## [6] 예측"
   ]
  },
  {
   "cell_type": "code",
   "execution_count": null,
   "id": "3e0d4290",
   "metadata": {},
   "outputs": [],
   "source": []
  }
 ],
 "metadata": {
  "kernelspec": {
   "display_name": "Python 3 (ipykernel)",
   "language": "python",
   "name": "python3"
  },
  "language_info": {
   "codemirror_mode": {
    "name": "ipython",
    "version": 3
   },
   "file_extension": ".py",
   "mimetype": "text/x-python",
   "name": "python",
   "nbconvert_exporter": "python",
   "pygments_lexer": "ipython3",
   "version": "3.9.12"
  }
 },
 "nbformat": 4,
 "nbformat_minor": 5
}
