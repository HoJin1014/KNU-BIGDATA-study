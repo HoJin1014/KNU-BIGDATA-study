{
 "cells": [
  {
   "cell_type": "markdown",
   "id": "7af4dc35",
   "metadata": {},
   "source": [
    "# AutoEncode\n",
    "---\n",
    "- 표현(특징) 학습\n",
    "    * 데이터에서 주요 특징을 찾아 압축 후 복원하는 학습 모델\n",
    "- 구성\n",
    "    * 인코더(Encoder) : 입력 데이터에서 주요 특징 추출 / 압축\n",
    "    * 디코더(Decoder) : 주요 특징에서 원 데이터로 복원"
   ]
  },
  {
   "cell_type": "code",
   "execution_count": 1,
   "id": "68688ec9",
   "metadata": {},
   "outputs": [],
   "source": [
    "from tensorflow.keras.datasets.mnist import load_data\n",
    "from tensorflow.keras.utils import set_random_seed, plot_model\n",
    "from sklearn.model_selection import train_test_split\n",
    "from tensorflow.keras import Sequential\n",
    "from tensorflow.keras.layers import Dense\n",
    "import numpy as np\n",
    "import matplotlib.pyplot as plt"
   ]
  },
  {
   "cell_type": "markdown",
   "id": "f1703cb2",
   "metadata": {},
   "source": [
    "## [1] 데이터 준비 및 로딩\n",
    "---"
   ]
  },
  {
   "cell_type": "code",
   "execution_count": 2,
   "id": "611f10c7",
   "metadata": {},
   "outputs": [],
   "source": [
    "(x_train, y_train), (x_test, y_test)=load_data()"
   ]
  },
  {
   "cell_type": "code",
   "execution_count": 3,
   "id": "53671922",
   "metadata": {},
   "outputs": [
    {
     "name": "stdout",
     "output_type": "stream",
     "text": [
      "x_train.shape : (60000, 28, 28), x_test.shape: (10000, 28, 28)\n"
     ]
    }
   ],
   "source": [
    "print(f'x_train.shape : {x_train.shape}, x_test.shape: {x_test.shape}')"
   ]
  },
  {
   "cell_type": "markdown",
   "id": "f51adc78",
   "metadata": {},
   "source": [
    "## [2] 데이터 전처리"
   ]
  },
  {
   "cell_type": "code",
   "execution_count": 4,
   "id": "6a339074",
   "metadata": {},
   "outputs": [],
   "source": [
    "x_train=x_train.reshape(-1, 28*28)/255.0"
   ]
  },
  {
   "cell_type": "code",
   "execution_count": 5,
   "id": "56aef4f9",
   "metadata": {},
   "outputs": [],
   "source": [
    "x_test=x_test.reshape(-1, 28*28)/255.0"
   ]
  },
  {
   "cell_type": "code",
   "execution_count": 6,
   "id": "b017ddae",
   "metadata": {},
   "outputs": [
    {
     "name": "stdout",
     "output_type": "stream",
     "text": [
      "x_train.shape:  (60000, 784)\n",
      "x_test.shape:  (10000, 784)\n"
     ]
    }
   ],
   "source": [
    "print('x_train.shape: ', x_train.shape)\n",
    "print('x_test.shape: ', x_test.shape)"
   ]
  },
  {
   "cell_type": "code",
   "execution_count": 7,
   "id": "befae5d1",
   "metadata": {},
   "outputs": [],
   "source": [
    "x_train, x_test, y_train, y_test=train_test_split(x_train, y_train,\n",
    "                                                  random_state=12,\n",
    "                                                  stratify=y_train)"
   ]
  },
  {
   "cell_type": "code",
   "execution_count": 8,
   "id": "205e35ac",
   "metadata": {},
   "outputs": [
    {
     "name": "stdout",
     "output_type": "stream",
     "text": [
      "x_train.shape : (45000, 784), y_train.shape : (45000,)\n",
      "x_test.shape : (15000, 784), y_test.shape : (15000,)\n"
     ]
    }
   ],
   "source": [
    "print(f'x_train.shape : {x_train.shape}, y_train.shape : {y_train.shape}')\n",
    "print(f'x_test.shape : {x_test.shape}, y_test.shape : {y_test.shape}')"
   ]
  },
  {
   "cell_type": "code",
   "execution_count": 9,
   "id": "112a3387",
   "metadata": {},
   "outputs": [],
   "source": [
    "# 검증용 데이터 셋 준비\n",
    "x_train, x_val, y_train, y_val=train_test_split(x_train, y_train,\n",
    "                                                random_state=12,\n",
    "                                                stratify=y_train)"
   ]
  },
  {
   "cell_type": "code",
   "execution_count": 10,
   "id": "06a5a001",
   "metadata": {},
   "outputs": [],
   "source": [
    "x_val=x_val.reshape(-1, 28*28)/255.0"
   ]
  },
  {
   "cell_type": "code",
   "execution_count": 11,
   "id": "9b076a9e",
   "metadata": {},
   "outputs": [
    {
     "name": "stdout",
     "output_type": "stream",
     "text": [
      "x_train.shape : (33750, 784), x_val.shape : (11250, 784)\n",
      "y_train.shape : (33750,), y_val.shape : (11250,)\n"
     ]
    }
   ],
   "source": [
    "print(f'x_train.shape : {x_train.shape}, x_val.shape : {x_val.shape}')\n",
    "print(f'y_train.shape : {y_train.shape}, y_val.shape : {y_val.shape}')"
   ]
  },
  {
   "cell_type": "markdown",
   "id": "0bfbf685",
   "metadata": {},
   "source": [
    "##  [3]모델 구성 및 생성"
   ]
  },
  {
   "cell_type": "code",
   "execution_count": 12,
   "id": "5f548bd1",
   "metadata": {},
   "outputs": [],
   "source": [
    "def createAEModel (n_node):\n",
    "    model=Sequential()\n",
    "    # 입력\n",
    "    model.add(Dense(units=n_node, activation='relu', input_shape=(784,)))\n",
    "    # 출력\n",
    "    model.add(Dense(784, activation='sigmoid'))\n",
    "    model.compile(loss='mean_squared_error', optimizer='adam')\n",
    "    return model"
   ]
  },
  {
   "cell_type": "code",
   "execution_count": 13,
   "id": "6c4d04fe",
   "metadata": {},
   "outputs": [],
   "source": [
    "oneModel=createAEModel(1)\n",
    "twoModel=createAEModel(2)\n",
    "fourModel=createAEModel(4)\n",
    "twentyModel=createAEModel(20)\n",
    "oneHundredModel=createAEModel(100)"
   ]
  },
  {
   "cell_type": "code",
   "execution_count": 14,
   "id": "6023ac8a",
   "metadata": {},
   "outputs": [
    {
     "name": "stdout",
     "output_type": "stream",
     "text": [
      "Model: \"sequential_4\"\n",
      "_________________________________________________________________\n",
      " Layer (type)                Output Shape              Param #   \n",
      "=================================================================\n",
      " dense_8 (Dense)             (None, 100)               78500     \n",
      "                                                                 \n",
      " dense_9 (Dense)             (None, 784)               79184     \n",
      "                                                                 \n",
      "=================================================================\n",
      "Total params: 157,684\n",
      "Trainable params: 157,684\n",
      "Non-trainable params: 0\n",
      "_________________________________________________________________\n"
     ]
    }
   ],
   "source": [
    "# oneModel.summary() #, twoModel.summary(),\n",
    "oneHundredModel.summary()"
   ]
  },
  {
   "cell_type": "code",
   "execution_count": 15,
   "id": "0ff5260b",
   "metadata": {},
   "outputs": [
    {
     "data": {
      "image/png": "[encoded data removed]",
      "text/plain": [
       "<IPython.core.display.Image object>"
      ]
     },
     "execution_count": 15,
     "metadata": {},
     "output_type": "execute_result"
    }
   ],
   "source": [
    "plot_model(oneHundredModel, show_shapes=True)"
   ]
  },
  {
   "cell_type": "markdown",
   "id": "31e7c021",
   "metadata": {},
   "source": [
    "## [4] 모델 학습"
   ]
  },
  {
   "cell_type": "code",
   "execution_count": 16,
   "id": "8b86f0f4",
   "metadata": {},
   "outputs": [
    {
     "name": "stdout",
     "output_type": "stream",
     "text": [
      "Epoch 1/10\n",
      "1055/1055 [==============================] - 2s 1ms/step - loss: 0.0812\n",
      "Epoch 2/10\n",
      "1055/1055 [==============================] - 1s 1ms/step - loss: 0.0669\n",
      "Epoch 3/10\n",
      "1055/1055 [==============================] - 1s 1ms/step - loss: 0.0655\n",
      "Epoch 4/10\n",
      "1055/1055 [==============================] - 1s 1ms/step - loss: 0.0646\n",
      "Epoch 5/10\n",
      "1055/1055 [==============================] - 1s 1ms/step - loss: 0.0640\n",
      "Epoch 6/10\n",
      "1055/1055 [==============================] - 1s 1ms/step - loss: 0.0637\n",
      "Epoch 7/10\n",
      "1055/1055 [==============================] - 1s 1ms/step - loss: 0.0635\n",
      "Epoch 8/10\n",
      "1055/1055 [==============================] - 1s 1ms/step - loss: 0.0633\n",
      "Epoch 9/10\n",
      "1055/1055 [==============================] - 1s 1ms/step - loss: 0.0631\n",
      "Epoch 10/10\n",
      "1055/1055 [==============================] - 1s 1ms/step - loss: 0.0629\n",
      "Epoch 1/10\n",
      "1055/1055 [==============================] - 2s 1ms/step - loss: 0.0766\n",
      "Epoch 2/10\n",
      "1055/1055 [==============================] - 2s 1ms/step - loss: 0.0607\n",
      "Epoch 3/10\n",
      "1055/1055 [==============================] - 1s 1ms/step - loss: 0.0590\n",
      "Epoch 4/10\n",
      "1055/1055 [==============================] - 1s 1ms/step - loss: 0.0580\n",
      "Epoch 5/10\n",
      "1055/1055 [==============================] - 2s 1ms/step - loss: 0.0575\n",
      "Epoch 6/10\n",
      "1055/1055 [==============================] - 1s 1ms/step - loss: 0.0571\n",
      "Epoch 7/10\n",
      "1055/1055 [==============================] - 2s 1ms/step - loss: 0.0568\n",
      "Epoch 8/10\n",
      "1055/1055 [==============================] - 1s 1ms/step - loss: 0.0566\n",
      "Epoch 9/10\n",
      "1055/1055 [==============================] - 1s 1ms/step - loss: 0.0565\n",
      "Epoch 10/10\n",
      "1055/1055 [==============================] - 1s 1ms/step - loss: 0.0563\n",
      "Epoch 1/10\n",
      "1055/1055 [==============================] - 2s 1ms/step - loss: 0.0694\n",
      "Epoch 2/10\n",
      "1055/1055 [==============================] - 2s 1ms/step - loss: 0.0511\n",
      "Epoch 3/10\n",
      "1055/1055 [==============================] - 1s 1ms/step - loss: 0.0493\n",
      "Epoch 4/10\n",
      "1055/1055 [==============================] - 2s 1ms/step - loss: 0.0484\n",
      "Epoch 5/10\n",
      "1055/1055 [==============================] - 1s 1ms/step - loss: 0.0478\n",
      "Epoch 6/10\n",
      "1055/1055 [==============================] - 2s 1ms/step - loss: 0.0474\n",
      "Epoch 7/10\n",
      "1055/1055 [==============================] - 2s 1ms/step - loss: 0.0471\n",
      "Epoch 8/10\n",
      "1055/1055 [==============================] - 2s 1ms/step - loss: 0.0469\n",
      "Epoch 9/10\n",
      "1055/1055 [==============================] - 1s 1ms/step - loss: 0.0468\n",
      "Epoch 10/10\n",
      "1055/1055 [==============================] - 2s 1ms/step - loss: 0.0467\n",
      "Epoch 1/10\n",
      "1055/1055 [==============================] - 2s 2ms/step - loss: 0.0480\n",
      "Epoch 2/10\n",
      "1055/1055 [==============================] - 2s 2ms/step - loss: 0.0248\n",
      "Epoch 3/10\n",
      "1055/1055 [==============================] - 2s 2ms/step - loss: 0.0210\n",
      "Epoch 4/10\n",
      "1055/1055 [==============================] - 2s 2ms/step - loss: 0.0194\n",
      "Epoch 5/10\n",
      "1055/1055 [==============================] - 2s 2ms/step - loss: 0.0185\n",
      "Epoch 6/10\n",
      "1055/1055 [==============================] - 2s 2ms/step - loss: 0.0181\n",
      "Epoch 7/10\n",
      "1055/1055 [==============================] - 2s 2ms/step - loss: 0.0179\n",
      "Epoch 8/10\n",
      "1055/1055 [==============================] - 2s 2ms/step - loss: 0.0178\n",
      "Epoch 9/10\n",
      "1055/1055 [==============================] - 2s 2ms/step - loss: 0.0177\n",
      "Epoch 10/10\n",
      "1055/1055 [==============================] - 2s 2ms/step - loss: 0.0176\n",
      "Epoch 1/10\n",
      "1055/1055 [==============================] - 2s 2ms/step - loss: 0.0278\n",
      "Epoch 2/10\n",
      "1055/1055 [==============================] - 2s 2ms/step - loss: 0.0082\n",
      "Epoch 3/10\n",
      "1055/1055 [==============================] - 2s 2ms/step - loss: 0.0050\n",
      "Epoch 4/10\n",
      "1055/1055 [==============================] - 2s 2ms/step - loss: 0.0038\n",
      "Epoch 5/10\n",
      "1055/1055 [==============================] - 2s 2ms/step - loss: 0.0033\n",
      "Epoch 6/10\n",
      "1055/1055 [==============================] - 2s 2ms/step - loss: 0.0030\n",
      "Epoch 7/10\n",
      "1055/1055 [==============================] - 2s 2ms/step - loss: 0.0028\n",
      "Epoch 8/10\n",
      "1055/1055 [==============================] - 2s 2ms/step - loss: 0.0026\n",
      "Epoch 9/10\n",
      "1055/1055 [==============================] - 2s 2ms/step - loss: 0.0025\n",
      "Epoch 10/10\n",
      "1055/1055 [==============================] - 2s 2ms/step - loss: 0.0025\n"
     ]
    },
    {
     "data": {
      "text/plain": [
       "<keras.callbacks.History at 0x2111539b6d0>"
      ]
     },
     "execution_count": 16,
     "metadata": {},
     "output_type": "execute_result"
    }
   ],
   "source": [
    "# x, y 값 모두 입력 데이터\n",
    "oneModel=createAEModel(1).fit(x_train, x_train, epochs=10)\n",
    "twoModel=createAEModel(2).fit(x_train, x_train, epochs=10)\n",
    "fourModel=createAEModel(4).fit(x_train, x_train, epochs=10)\n",
    "twentyModel=createAEModel(20).fit(x_train, x_train, epochs=10)\n",
    "oneHundredModel.fit(x_train, x_train, epochs=10)"
   ]
  },
  {
   "cell_type": "code",
   "execution_count": 17,
   "id": "91a232d9",
   "metadata": {
    "scrolled": true
   },
   "outputs": [
    {
     "name": "stdout",
     "output_type": "stream",
     "text": [
      "469/469 [==============================] - 1s 1ms/step - loss: 0.0025\n"
     ]
    },
    {
     "data": {
      "text/plain": [
       "0.0025396577548235655"
      ]
     },
     "execution_count": 17,
     "metadata": {},
     "output_type": "execute_result"
    }
   ],
   "source": [
    "oneModel.evaluate(x_test, x_test)\n",
    "twoModel.evaluate(x_test, x_test)\n",
    "fourModel.evaluate(x_test, x_test)\n",
    "twentyModel.evaluate(x_test, x_test)\n",
    "oneHundredModel.evaluate(x_test, x_test)"
   ]
  },
  {
   "cell_type": "markdown",
   "id": "6b58806b",
   "metadata": {},
   "source": [
    "## [5] 예측\n",
    "---\n",
    "- 새로운 데이터 사용"
   ]
  },
  {
   "cell_type": "code",
   "execution_count": 18,
   "id": "5d9e7410",
   "metadata": {},
   "outputs": [
    {
     "name": "stdout",
     "output_type": "stream",
     "text": [
      "1/1 [==============================] - 0s 60ms/step\n"
     ]
    }
   ],
   "source": [
    "pre_out=oneHundredModel.predict(x_test[0].reshape(-1, 784))"
   ]
  },
  {
   "cell_type": "code",
   "execution_count": 19,
   "id": "8ad33c3f",
   "metadata": {},
   "outputs": [
    {
     "data": {
      "text/plain": [
       "(1, 784)"
      ]
     },
     "execution_count": 19,
     "metadata": {},
     "output_type": "execute_result"
    }
   ],
   "source": [
    "pre_out.shape"
   ]
  },
  {
   "cell_type": "markdown",
   "id": "71e5617c",
   "metadata": {},
   "source": [
    "### 원본 이미지 -AE 진행된 이미지"
   ]
  },
  {
   "cell_type": "code",
   "execution_count": 20,
   "id": "e37b88ba",
   "metadata": {},
   "outputs": [
    {
     "data": {
      "image/png": "[encoded data removed]",
      "text/plain": [
       "<Figure size 432x288 with 1 Axes>"
      ]
     },
     "metadata": {
      "needs_background": "light"
     },
     "output_type": "display_data"
    }
   ],
   "source": [
    "plt.imshow(x_test[0].reshape(28,28), cmap='gray')\n",
    "plt.show()"
   ]
  },
  {
   "cell_type": "code",
   "execution_count": 21,
   "id": "b4379f56",
   "metadata": {},
   "outputs": [
    {
     "data": {
      "image/png": "[encoded data removed]",
      "text/plain": [
       "<Figure size 432x288 with 1 Axes>"
      ]
     },
     "metadata": {
      "needs_background": "light"
     },
     "output_type": "display_data"
    }
   ],
   "source": [
    "plt.imshow(pre_out.reshape(28,28), cmap='gray')\n",
    "plt.show()"
   ]
  },
  {
   "cell_type": "code",
   "execution_count": null,
   "id": "ed9df8f2",
   "metadata": {},
   "outputs": [],
   "source": []
  }
 ],
 "metadata": {
  "kernelspec": {
   "display_name": "Python 3 (ipykernel)",
   "language": "python",
   "name": "python3"
  },
  "language_info": {
   "codemirror_mode": {
    "name": "ipython",
    "version": 3
   },
   "file_extension": ".py",
   "mimetype": "text/x-python",
   "name": "python",
   "nbconvert_exporter": "python",
   "pygments_lexer": "ipython3",
   "version": "3.9.12"
  }
 },
 "nbformat": 4,
 "nbformat_minor": 5
}
