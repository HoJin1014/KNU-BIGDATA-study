{
 "cells": [
  {
   "cell_type": "markdown",
   "id": "2b8a3e87",
   "metadata": {},
   "source": [
    "# AutoEncode\n",
    "---\n",
    "- 표현(특징) 학습\n",
    "    * 데이터에서 주요 특징을 찾아 압축 후 복원하는 학습 모델\n",
    "- 구성\n",
    "    * 인코더(Encoder) : 입력 데이터에서 주요 특징 추출 / 압축\n",
    "    * 디코더(Decoder) : 주요 특징에서 원 데이터로 복원"
   ]
  },
  {
   "cell_type": "code",
   "execution_count": 1,
   "id": "91f30aa5",
   "metadata": {},
   "outputs": [],
   "source": [
    "from tensorflow.keras.datasets.mnist import load_data\n",
    "from tensorflow.keras.utils import set_random_seed, plot_model\n",
    "from sklearn.model_selection import train_test_split\n",
    "from tensorflow.keras import Sequential\n",
    "from tensorflow.keras.layers import Dense\n",
    "import numpy as np\n",
    "import matplotlib.pyplot as plt"
   ]
  },
  {
   "cell_type": "markdown",
   "id": "a5219a37",
   "metadata": {},
   "source": [
    "## [1] 데이터 준비 및 로딩\n",
    "---"
   ]
  },
  {
   "cell_type": "code",
   "execution_count": 2,
   "id": "aa96acfc",
   "metadata": {},
   "outputs": [],
   "source": [
    "(x_train, y_train), (x_test, y_test)=load_data()"
   ]
  },
  {
   "cell_type": "code",
   "execution_count": 3,
   "id": "1fdc2cec",
   "metadata": {},
   "outputs": [
    {
     "name": "stdout",
     "output_type": "stream",
     "text": [
      "x_train.shape : (60000, 28, 28), x_test.shape: (10000, 28, 28)\n"
     ]
    }
   ],
   "source": [
    "print(f'x_train.shape : {x_train.shape}, x_test.shape: {x_test.shape}')"
   ]
  },
  {
   "cell_type": "markdown",
   "id": "59003d43",
   "metadata": {},
   "source": [
    "## [2] 데이터 전처리"
   ]
  },
  {
   "cell_type": "code",
   "execution_count": 4,
   "id": "52e6f7f1",
   "metadata": {},
   "outputs": [],
   "source": [
    "x_train=x_train.reshape(-1, 28*28)/255.0"
   ]
  },
  {
   "cell_type": "code",
   "execution_count": 5,
   "id": "85c435b9",
   "metadata": {},
   "outputs": [],
   "source": [
    "x_test=x_test.reshape(-1, 28*28)/255.0"
   ]
  },
  {
   "cell_type": "code",
   "execution_count": 6,
   "id": "55946dcd",
   "metadata": {},
   "outputs": [
    {
     "name": "stdout",
     "output_type": "stream",
     "text": [
      "x_train.shape:  (60000, 784)\n",
      "x_test.shape:  (10000, 784)\n"
     ]
    }
   ],
   "source": [
    "print('x_train.shape: ', x_train.shape)\n",
    "print('x_test.shape: ', x_test.shape)"
   ]
  },
  {
   "cell_type": "code",
   "execution_count": 7,
   "id": "a442d45f",
   "metadata": {},
   "outputs": [],
   "source": [
    "x_train, x_test, y_train, y_test=train_test_split(x_train, y_train,\n",
    "                                                  random_state=12,\n",
    "                                                  stratify=y_train)"
   ]
  },
  {
   "cell_type": "code",
   "execution_count": 8,
   "id": "d2796025",
   "metadata": {},
   "outputs": [
    {
     "name": "stdout",
     "output_type": "stream",
     "text": [
      "x_train.shape : (45000, 784), y_train.shape : (45000,)\n",
      "x_test.shape : (15000, 784), y_test.shape : (15000,)\n"
     ]
    }
   ],
   "source": [
    "print(f'x_train.shape : {x_train.shape}, y_train.shape : {y_train.shape}')\n",
    "print(f'x_test.shape : {x_test.shape}, y_test.shape : {y_test.shape}')"
   ]
  },
  {
   "cell_type": "code",
   "execution_count": 9,
   "id": "5473e2e2",
   "metadata": {},
   "outputs": [],
   "source": [
    "# 검증용 데이터 셋 준비\n",
    "x_train, x_val, y_train, y_val=train_test_split(x_train, y_train,\n",
    "                                                random_state=12,\n",
    "                                                stratify=y_train)"
   ]
  },
  {
   "cell_type": "code",
   "execution_count": 10,
   "id": "ca2c66c0",
   "metadata": {},
   "outputs": [],
   "source": [
    "x_val=x_val.reshape(-1, 28*28)/255.0"
   ]
  },
  {
   "cell_type": "code",
   "execution_count": 11,
   "id": "a9c5379c",
   "metadata": {},
   "outputs": [
    {
     "name": "stdout",
     "output_type": "stream",
     "text": [
      "x_train.shape : (33750, 784), x_val.shape : (11250, 784)\n",
      "y_train.shape : (33750,), y_val.shape : (11250,)\n"
     ]
    }
   ],
   "source": [
    "print(f'x_train.shape : {x_train.shape}, x_val.shape : {x_val.shape}')\n",
    "print(f'y_train.shape : {y_train.shape}, y_val.shape : {y_val.shape}')"
   ]
  },
  {
   "cell_type": "markdown",
   "id": "e8503e0b",
   "metadata": {},
   "source": [
    "##  [3]모델 구성 및 생성"
   ]
  },
  {
   "cell_type": "code",
   "execution_count": 12,
   "id": "63ca4316",
   "metadata": {},
   "outputs": [],
   "source": [
    "def createAEModel (n_node):\n",
    "    model=Sequential()\n",
    "    # 입력\n",
    "    model.add(Dense(units=n_node, activation='relu', input_shape=(784,)))\n",
    "    # 출력\n",
    "    model.add(Dense(784, activation='sigmoid'))\n",
    "    model.compile(loss='mean_squared_error', optimizer='adam')\n",
    "    return model"
   ]
  },
  {
   "cell_type": "code",
   "execution_count": 13,
   "id": "f8ed59e3",
   "metadata": {},
   "outputs": [],
   "source": [
    "# oneModel=createAEModel(1)\n",
    "# twoModel=createAEModel(2)\n",
    "# fourModel=createAEModel(4)\n",
    "# twentyModel=createAEModel(20)\n",
    "oneHundredModel=createAEModel(100)"
   ]
  },
  {
   "cell_type": "code",
   "execution_count": 14,
   "id": "e7d8f813",
   "metadata": {},
   "outputs": [
    {
     "name": "stdout",
     "output_type": "stream",
     "text": [
      "Model: \"sequential\"\n",
      "_________________________________________________________________\n",
      " Layer (type)                Output Shape              Param #   \n",
      "=================================================================\n",
      " dense (Dense)               (None, 100)               78500     \n",
      "                                                                 \n",
      " dense_1 (Dense)             (None, 784)               79184     \n",
      "                                                                 \n",
      "=================================================================\n",
      "Total params: 157,684\n",
      "Trainable params: 157,684\n",
      "Non-trainable params: 0\n",
      "_________________________________________________________________\n"
     ]
    }
   ],
   "source": [
    "# oneModel.summary() #, twoModel.summary(),\n",
    "oneHundredModel.summary()"
   ]
  },
  {
   "cell_type": "code",
   "execution_count": 15,
   "id": "ab2aa48a",
   "metadata": {},
   "outputs": [
    {
     "data": {
      "image/png": "[encoded data removed]",
      "text/plain": [
       "<IPython.core.display.Image object>"
      ]
     },
     "execution_count": 15,
     "metadata": {},
     "output_type": "execute_result"
    }
   ],
   "source": [
    "plot_model(oneHundredModel, show_shapes=True)"
   ]
  },
  {
   "cell_type": "markdown",
   "id": "0552a9d8",
   "metadata": {},
   "source": [
    "## [4] 모델 학습"
   ]
  },
  {
   "cell_type": "code",
   "execution_count": 16,
   "id": "5d78952f",
   "metadata": {},
   "outputs": [
    {
     "name": "stdout",
     "output_type": "stream",
     "text": [
      "Epoch 1/10\n",
      "1055/1055 [==============================] - 2s 2ms/step - loss: 0.0271\n",
      "Epoch 2/10\n",
      "1055/1055 [==============================] - 2s 2ms/step - loss: 0.0080\n",
      "Epoch 3/10\n",
      "1055/1055 [==============================] - 2s 2ms/step - loss: 0.0049\n",
      "Epoch 4/10\n",
      "1055/1055 [==============================] - 2s 2ms/step - loss: 0.0038\n",
      "Epoch 5/10\n",
      "1055/1055 [==============================] - 2s 2ms/step - loss: 0.0033\n",
      "Epoch 6/10\n",
      "1055/1055 [==============================] - 2s 2ms/step - loss: 0.0030\n",
      "Epoch 7/10\n",
      "1055/1055 [==============================] - 2s 2ms/step - loss: 0.0028\n",
      "Epoch 8/10\n",
      "1055/1055 [==============================] - 2s 2ms/step - loss: 0.0026\n",
      "Epoch 9/10\n",
      "1055/1055 [==============================] - 2s 2ms/step - loss: 0.0025\n",
      "Epoch 10/10\n",
      "1055/1055 [==============================] - 2s 2ms/step - loss: 0.0025\n"
     ]
    },
    {
     "data": {
      "text/plain": [
       "<keras.callbacks.History at 0x1c40cce4a00>"
      ]
     },
     "execution_count": 16,
     "metadata": {},
     "output_type": "execute_result"
    }
   ],
   "source": [
    "# x, y 값 모두 입력 데이터\n",
    "oneHundredModel.fit(x_train, x_train, epochs=10)"
   ]
  },
  {
   "cell_type": "code",
   "execution_count": 17,
   "id": "47225ab5",
   "metadata": {
    "scrolled": true
   },
   "outputs": [
    {
     "name": "stdout",
     "output_type": "stream",
     "text": [
      "469/469 [==============================] - 1s 1ms/step - loss: 0.0025\n"
     ]
    },
    {
     "data": {
      "text/plain": [
       "0.0025130484718829393"
      ]
     },
     "execution_count": 17,
     "metadata": {},
     "output_type": "execute_result"
    }
   ],
   "source": [
    "oneHundredModel.evaluate(x_test, x_test)"
   ]
  },
  {
   "cell_type": "markdown",
   "id": "c297c6b9",
   "metadata": {},
   "source": [
    "## [5] 예측\n",
    "---\n",
    "- 새로운 데이터 사용"
   ]
  },
  {
   "cell_type": "code",
   "execution_count": 18,
   "id": "7789d176",
   "metadata": {},
   "outputs": [
    {
     "name": "stdout",
     "output_type": "stream",
     "text": [
      "1/1 [==============================] - 0s 62ms/step\n"
     ]
    }
   ],
   "source": [
    "pre_out=oneHundredModel.predict(x_test[0].reshape(-1, 784))"
   ]
  },
  {
   "cell_type": "code",
   "execution_count": 19,
   "id": "2ea9fd65",
   "metadata": {},
   "outputs": [
    {
     "data": {
      "text/plain": [
       "(1, 784)"
      ]
     },
     "execution_count": 19,
     "metadata": {},
     "output_type": "execute_result"
    }
   ],
   "source": [
    "pre_out.shape"
   ]
  },
  {
   "cell_type": "markdown",
   "id": "2967008a",
   "metadata": {},
   "source": [
    "### 원본 이미지 -AE 진행된 이미지"
   ]
  },
  {
   "cell_type": "code",
   "execution_count": 20,
   "id": "156e2528",
   "metadata": {},
   "outputs": [
    {
     "data": {
      "image/png": "[encoded data removed]",
      "text/plain": [
       "<Figure size 432x288 with 1 Axes>"
      ]
     },
     "metadata": {
      "needs_background": "light"
     },
     "output_type": "display_data"
    }
   ],
   "source": [
    "plt.imshow(x_test[0].reshape(28,28), cmap='gray')\n",
    "plt.show()"
   ]
  },
  {
   "cell_type": "code",
   "execution_count": 21,
   "id": "c978e80f",
   "metadata": {},
   "outputs": [
    {
     "data": {
      "image/png": "[encoded data removed]",
      "text/plain": [
       "<Figure size 432x288 with 1 Axes>"
      ]
     },
     "metadata": {
      "needs_background": "light"
     },
     "output_type": "display_data"
    }
   ],
   "source": [
    "plt.imshow(pre_out.reshape(28,28), cmap='gray')\n",
    "plt.show()"
   ]
  },
  {
   "cell_type": "code",
   "execution_count": null,
   "id": "e4ab7488",
   "metadata": {},
   "outputs": [],
   "source": []
  }
 ],
 "metadata": {
  "kernelspec": {
   "display_name": "Python 3 (ipykernel)",
   "language": "python",
   "name": "python3"
  },
  "language_info": {
   "codemirror_mode": {
    "name": "ipython",
    "version": 3
   },
   "file_extension": ".py",
   "mimetype": "text/x-python",
   "name": "python",
   "nbconvert_exporter": "python",
   "pygments_lexer": "ipython3",
   "version": "3.9.12"
  }
 },
 "nbformat": 4,
 "nbformat_minor": 5
}
