{
 "cells": [
  {
   "cell_type": "markdown",
   "id": "a4b270f2",
   "metadata": {},
   "source": [
    "## AutoEncode 노이즈 제거\n",
    "---\n",
    "- 데이터에 노이즈 제거 활용\n",
    "- 데이터에서 주요 특징만 추출 압축하기 때문에 노이즈는 주요 특징에서 제거\n",
    "- 압축된 주요 특징으로 데이터 복원 => 노이즈 제거"
   ]
  },
  {
   "cell_type": "code",
   "execution_count": 1,
   "id": "6282d856",
   "metadata": {},
   "outputs": [],
   "source": [
    "import numpy as np\n",
    "import matplotlib.pyplot as plt\n",
    "from tensorflow.keras import Sequential\n",
    "from tensorflow.keras.layers import Dense\n",
    "from sklearn.model_selection import train_test_split\n",
    "from tensorflow.keras.datasets.mnist import load_data\n",
    "from tensorflow.keras.utils import set_random_seed, plot_model"
   ]
  },
  {
   "cell_type": "code",
   "execution_count": 2,
   "id": "fe5e9d86",
   "metadata": {},
   "outputs": [
    {
     "name": "stdout",
     "output_type": "stream",
     "text": [
      "x_train.shape : (60000, 28, 28), x_test.shape: (10000, 28, 28)\n",
      "y_train.shape : (10000,), y_test.shape: (10000, 28, 28)\n"
     ]
    }
   ],
   "source": [
    "(x_train, y_train), (x_test, y_test)=load_data()\n",
    "print(f'x_train.shape : {x_train.shape}, x_test.shape: {x_test.shape}')\n",
    "print(f'y_train.shape : {y_test.shape}, y_test.shape: {x_test.shape}')"
   ]
  },
  {
   "cell_type": "code",
   "execution_count": 3,
   "id": "888199c0",
   "metadata": {},
   "outputs": [],
   "source": [
    "x_train=x_train.reshape(-1, 28*28)/255.0\n",
    "x_test=x_test.reshape(-1, 28*28)/255.0"
   ]
  },
  {
   "cell_type": "code",
   "execution_count": 4,
   "id": "54e1a5f8",
   "metadata": {},
   "outputs": [],
   "source": [
    "# 데이터셋에 노이즈 추가\n",
    "# np.random.normal(평균loc=0.0, 표준편차scale=1.0, 출력size=None)\n",
    "x_train_noised = x_train + np.random.normal(0, 0.5, size=x_train.shape)\n",
    "x_test_noised = x_test + np.random.normal(0, 0.5, size=x_test.shape)\n",
    "\n",
    "# 픽셀범위 0.0~1.0 벗어나는 픽셀값 조정 np.clip(array, min, max)\n",
    "x_train_noised = np.clip(x_train_noised, a_min=0, a_max=1)\n",
    "x_test_noised = np.clip(x_test_noised, a_min=0, a_max=1)"
   ]
  },
  {
   "cell_type": "code",
   "execution_count": 5,
   "id": "b575b046",
   "metadata": {},
   "outputs": [
    {
     "data": {
      "image/png": "[encoded data removed]",
      "text/plain": [
       "<Figure size 432x288 with 1 Axes>"
      ]
     },
     "metadata": {
      "needs_background": "light"
     },
     "output_type": "display_data"
    }
   ],
   "source": [
    "plt.imshow(x_train[0].reshape(28,28), cmap='gray')\n",
    "plt.show()"
   ]
  },
  {
   "cell_type": "code",
   "execution_count": 6,
   "id": "312c5961",
   "metadata": {},
   "outputs": [
    {
     "data": {
      "image/png": "[encoded data removed]",
      "text/plain": [
       "<Figure size 432x288 with 1 Axes>"
      ]
     },
     "metadata": {
      "needs_background": "light"
     },
     "output_type": "display_data"
    }
   ],
   "source": [
    "plt.imshow(x_train_noised[0].reshape(28,28), cmap='gray')\n",
    "plt.show()"
   ]
  },
  {
   "cell_type": "code",
   "execution_count": null,
   "id": "1a364025",
   "metadata": {},
   "outputs": [],
   "source": []
  }
 ],
 "metadata": {
  "kernelspec": {
   "display_name": "Python 3 (ipykernel)",
   "language": "python",
   "name": "python3"
  },
  "language_info": {
   "codemirror_mode": {
    "name": "ipython",
    "version": 3
   },
   "file_extension": ".py",
   "mimetype": "text/x-python",
   "name": "python",
   "nbconvert_exporter": "python",
   "pygments_lexer": "ipython3",
   "version": "3.9.12"
  }
 },
 "nbformat": 4,
 "nbformat_minor": 5
}
