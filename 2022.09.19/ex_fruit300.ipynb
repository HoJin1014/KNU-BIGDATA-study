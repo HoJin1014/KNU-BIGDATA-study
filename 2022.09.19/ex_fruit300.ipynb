{
 "cells": [
  {
   "cell_type": "markdown",
   "id": "5e6b6d04",
   "metadata": {},
   "source": [
    "## 이미지 데이터 + 비지도학습 분류\n",
    "---\n",
    "- 이미지 데이터 정보 : 100 * 100 , 흑백이미지"
   ]
  },
  {
   "cell_type": "code",
   "execution_count": 1,
   "id": "90c9a95f",
   "metadata": {},
   "outputs": [],
   "source": [
    "from sklearn.cluster import KMeans\n",
    "import matplotlib.pyplot as plt\n",
    "import pandas as pd\n",
    "import numpy as np"
   ]
  },
  {
   "cell_type": "code",
   "execution_count": 6,
   "id": "8b9121bf",
   "metadata": {},
   "outputs": [],
   "source": [
    "FILE='./fruits_300.npy'"
   ]
  },
  {
   "cell_type": "code",
   "execution_count": 7,
   "id": "98aec8d3",
   "metadata": {},
   "outputs": [],
   "source": [
    "fruits = np.load(FILE)"
   ]
  },
  {
   "cell_type": "code",
   "execution_count": 8,
   "id": "47aabec0",
   "metadata": {},
   "outputs": [
    {
     "data": {
      "text/plain": [
       "(300, 100, 100)"
      ]
     },
     "execution_count": 8,
     "metadata": {},
     "output_type": "execute_result"
    }
   ],
   "source": [
    "fruits.shape"
   ]
  },
  {
   "cell_type": "code",
   "execution_count": 9,
   "id": "6dcea8bf",
   "metadata": {},
   "outputs": [],
   "source": [
    "fruits_2d = fruits.reshape(-1, fruits.shape[1]*fruits.shape[2])"
   ]
  },
  {
   "cell_type": "code",
   "execution_count": 10,
   "id": "6f7e6cef",
   "metadata": {},
   "outputs": [
    {
     "data": {
      "text/plain": [
       "(300, 10000)"
      ]
     },
     "execution_count": 10,
     "metadata": {},
     "output_type": "execute_result"
    }
   ],
   "source": [
    "fruits_2d.shape"
   ]
  },
  {
   "cell_type": "code",
   "execution_count": null,
   "id": "c34ec929",
   "metadata": {},
   "outputs": [],
   "source": []
  }
 ],
 "metadata": {
  "kernelspec": {
   "display_name": "Python 3 (ipykernel)",
   "language": "python",
   "name": "python3"
  },
  "language_info": {
   "codemirror_mode": {
    "name": "ipython",
    "version": 3
   },
   "file_extension": ".py",
   "mimetype": "text/x-python",
   "name": "python",
   "nbconvert_exporter": "python",
   "pygments_lexer": "ipython3",
   "version": "3.9.12"
  }
 },
 "nbformat": 4,
 "nbformat_minor": 5
}
