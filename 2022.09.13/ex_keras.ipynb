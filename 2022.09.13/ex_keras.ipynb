{
 "cells": [
  {
   "cell_type": "markdown",
   "id": "efc31255",
   "metadata": {},
   "source": [
    "## Keras LIB\n",
    "---\n",
    "- Tensorflow 기반의 Keras 패키지\n",
    "- 기본 데이터 Tensor 타입\n",
    "- 모델을 직접 설계/생성 해야 함!!!"
   ]
  },
  {
   "cell_type": "code",
   "execution_count": 25,
   "id": "839fb2df",
   "metadata": {},
   "outputs": [],
   "source": [
    "import tensorflow as tf"
   ]
  },
  {
   "cell_type": "code",
   "execution_count": 33,
   "id": "829521b3",
   "metadata": {},
   "outputs": [],
   "source": [
    "from tensorflow.keras import Sequential\n",
    "from tensorflow.keras.layers import Dense\n",
    "import numpy as np"
   ]
  },
  {
   "cell_type": "markdown",
   "id": "187bbe8b",
   "metadata": {},
   "source": [
    "### [1] 모델 구성\n",
    "---"
   ]
  },
  {
   "cell_type": "code",
   "execution_count": 40,
   "id": "18ebc96c",
   "metadata": {},
   "outputs": [],
   "source": [
    "model=Sequential(name=\"HelloModel\")"
   ]
  },
  {
   "cell_type": "code",
   "execution_count": 41,
   "id": "f2f9f977",
   "metadata": {},
   "outputs": [],
   "source": [
    "# 첫번째 층은 반드시 입력정보 파라미터 설정 => input_shape=() 튜플, input_dim=숫자\n",
    "l1=Dense(10, activation='relu', input_shape=(5,))"
   ]
  },
  {
   "cell_type": "code",
   "execution_count": 42,
   "id": "de79bd7a",
   "metadata": {},
   "outputs": [],
   "source": [
    "# 각 노드(퍼셉트론, 유닛) : 10개 입력 / 출력 : 50\n",
    "l2=Dense(50, activation='relu')"
   ]
  },
  {
   "cell_type": "code",
   "execution_count": 43,
   "id": "97545b43",
   "metadata": {},
   "outputs": [],
   "source": [
    "l3=Dense(5, activation='softmax')"
   ]
  },
  {
   "cell_type": "code",
   "execution_count": 44,
   "id": "dc2c2a92",
   "metadata": {},
   "outputs": [],
   "source": [
    "model.add(l1)\n",
    "model.add(l2)\n",
    "model.add(l3)"
   ]
  },
  {
   "cell_type": "code",
   "execution_count": 45,
   "id": "d16e14b6",
   "metadata": {},
   "outputs": [
    {
     "name": "stdout",
     "output_type": "stream",
     "text": [
      "Model: \"HelloModel\"\n",
      "_________________________________________________________________\n",
      " Layer (type)                Output Shape              Param #   \n",
      "=================================================================\n",
      " dense_13 (Dense)            (None, 10)                60        \n",
      "                                                                 \n",
      " dense_14 (Dense)            (None, 50)                550       \n",
      "                                                                 \n",
      " dense_15 (Dense)            (None, 5)                 255       \n",
      "                                                                 \n",
      "=================================================================\n",
      "Total params: 865\n",
      "Trainable params: 865\n",
      "Non-trainable params: 0\n",
      "_________________________________________________________________\n"
     ]
    }
   ],
   "source": [
    "## 모델 구성 확인 => summary()\n",
    "model.summary()"
   ]
  },
  {
   "cell_type": "markdown",
   "id": "55672f80",
   "metadata": {},
   "source": [
    "### [2] 모델 생성\n",
    "---\n",
    "- 손실함수, 최적화 기법, 성능평가항목 설정\n",
    "- compile() 메서드"
   ]
  },
  {
   "cell_type": "code",
   "execution_count": null,
   "id": "e201f196",
   "metadata": {},
   "outputs": [],
   "source": []
  },
  {
   "cell_type": "code",
   "execution_count": null,
   "id": "8a414a1b",
   "metadata": {},
   "outputs": [],
   "source": []
  }
 ],
 "metadata": {
  "kernelspec": {
   "display_name": "Python 3 (ipykernel)",
   "language": "python",
   "name": "python3"
  },
  "language_info": {
   "codemirror_mode": {
    "name": "ipython",
    "version": 3
   },
   "file_extension": ".py",
   "mimetype": "text/x-python",
   "name": "python",
   "nbconvert_exporter": "python",
   "pygments_lexer": "ipython3",
   "version": "3.9.12"
  }
 },
 "nbformat": 4,
 "nbformat_minor": 5
}
