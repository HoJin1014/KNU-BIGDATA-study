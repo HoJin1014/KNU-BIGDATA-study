{
 "cells": [
  {
   "cell_type": "markdown",
   "id": "974c0cbe",
   "metadata": {},
   "source": [
    "## Keras LIB\n",
    "---\n",
    "- Tensorflow 기반의 Keras 패키지\n",
    "- 기본 데이터 Tensor 타입\n",
    "- 모델을 직접 설계/생성 해야 함!!!"
   ]
  },
  {
   "cell_type": "code",
   "execution_count": 1,
   "id": "f5cd65c4",
   "metadata": {},
   "outputs": [],
   "source": [
    "import tensorflow as tf"
   ]
  },
  {
   "cell_type": "code",
   "execution_count": 2,
   "id": "e8dce3e3",
   "metadata": {},
   "outputs": [],
   "source": [
    "from tensorflow.keras import Sequential\n",
    "from tensorflow.keras.layers import Dense\n",
    "import numpy as np\n",
    "from sklearn.datasets import load_iris"
   ]
  },
  {
   "cell_type": "code",
   "execution_count": 3,
   "id": "d1835236",
   "metadata": {},
   "outputs": [],
   "source": [
    "from keras import Sequential\n",
    "from keras.layers import Dense"
   ]
  },
  {
   "cell_type": "code",
   "execution_count": 4,
   "id": "0ebf0a05",
   "metadata": {},
   "outputs": [
    {
     "data": {
      "text/plain": [
       "'2.9.2'"
      ]
     },
     "execution_count": 4,
     "metadata": {},
     "output_type": "execute_result"
    }
   ],
   "source": [
    "import tensorflow\n",
    "tensorflow.__version__"
   ]
  },
  {
   "cell_type": "code",
   "execution_count": 5,
   "id": "aac06a69",
   "metadata": {},
   "outputs": [],
   "source": [
    "## 데이터 로딩\n",
    "iris=load_iris()"
   ]
  },
  {
   "cell_type": "code",
   "execution_count": 6,
   "id": "a9b32441",
   "metadata": {},
   "outputs": [],
   "source": [
    "data=iris.data\n",
    "target=iris.target"
   ]
  },
  {
   "cell_type": "code",
   "execution_count": 7,
   "id": "cd250e12",
   "metadata": {},
   "outputs": [
    {
     "name": "stdout",
     "output_type": "stream",
     "text": [
      "(150, 4) (150,)\n"
     ]
    }
   ],
   "source": [
    "print(data.shape, target.shape)"
   ]
  },
  {
   "cell_type": "code",
   "execution_count": 8,
   "id": "e2ba2842",
   "metadata": {},
   "outputs": [
    {
     "data": {
      "text/plain": [
       "array([[5.1, 3.5, 1.4, 0.2]])"
      ]
     },
     "execution_count": 8,
     "metadata": {},
     "output_type": "execute_result"
    }
   ],
   "source": [
    "data[:1]"
   ]
  },
  {
   "cell_type": "code",
   "execution_count": 9,
   "id": "d4f2296c",
   "metadata": {},
   "outputs": [
    {
     "data": {
      "text/plain": [
       "(array([0, 0, 0, 0, 0]), array([1, 1, 1, 1, 1]), array([2, 2, 2, 2, 2]))"
      ]
     },
     "execution_count": 9,
     "metadata": {},
     "output_type": "execute_result"
    }
   ],
   "source": [
    "target[:5], target[50:55], target[100:105]"
   ]
  },
  {
   "cell_type": "code",
   "execution_count": 10,
   "id": "23238893",
   "metadata": {},
   "outputs": [],
   "source": [
    "from sklearn.preprocessing import LabelEncoder, OneHotEncoder"
   ]
  },
  {
   "cell_type": "code",
   "execution_count": 11,
   "id": "61321e80",
   "metadata": {},
   "outputs": [],
   "source": [
    "ohe=OneHotEncoder()\n",
    "target_2=ohe.fit(target.reshape(-1, 1)).transform(target.reshape(-1,1))"
   ]
  },
  {
   "cell_type": "code",
   "execution_count": 12,
   "id": "663e466e",
   "metadata": {
    "scrolled": true
   },
   "outputs": [
    {
     "data": {
      "text/plain": [
       "scipy.sparse.csr.csr_matrix"
      ]
     },
     "execution_count": 12,
     "metadata": {},
     "output_type": "execute_result"
    }
   ],
   "source": [
    "type(target_2)"
   ]
  },
  {
   "cell_type": "code",
   "execution_count": 13,
   "id": "16d190d9",
   "metadata": {},
   "outputs": [
    {
     "data": {
      "text/plain": [
       "(numpy.ndarray,\n",
       " array([1., 0., 0.]),\n",
       " array([0., 1., 0.]),\n",
       " array([0., 0., 1.]),\n",
       " (150, 3))"
      ]
     },
     "execution_count": 13,
     "metadata": {},
     "output_type": "execute_result"
    }
   ],
   "source": [
    "target_3=target_2.toarray()\n",
    "type(target_3),     target_3[0], target_3[50], target_3[100], target_3.shape"
   ]
  },
  {
   "cell_type": "code",
   "execution_count": 14,
   "id": "8312f886",
   "metadata": {},
   "outputs": [],
   "source": [
    "model1=Sequential(name=\"iris\")"
   ]
  },
  {
   "cell_type": "code",
   "execution_count": 15,
   "id": "edb755bf",
   "metadata": {},
   "outputs": [],
   "source": [
    "# 첫번째 층은 반드시 입력정보 파라미터 설정 => input_shape=() 튜플, input_dim=숫자\n",
    "# 각 노드(퍼셉트론, 유닛) : 4개 입력 / 출력 : 1개\n",
    "# 총 10개가 다음 충(Layer)의 입력\n",
    "l11=Dense(10, activation='relu', input_shape=(4,))"
   ]
  },
  {
   "cell_type": "code",
   "execution_count": 16,
   "id": "fdd12331",
   "metadata": {},
   "outputs": [],
   "source": [
    "# 각 노드(퍼셉트론, 유닛) : 10개 입력 / 출력 : 1개\n",
    "# 총 3개 출력\n",
    "l22=Dense(3, activation='softmax')"
   ]
  },
  {
   "cell_type": "code",
   "execution_count": 17,
   "id": "f1fda864",
   "metadata": {},
   "outputs": [],
   "source": [
    "model1.add(l11)\n",
    "model1.add(l22)"
   ]
  },
  {
   "cell_type": "code",
   "execution_count": 18,
   "id": "96e79dd3",
   "metadata": {},
   "outputs": [
    {
     "name": "stdout",
     "output_type": "stream",
     "text": [
      "Model: \"iris\"\n",
      "_________________________________________________________________\n",
      " Layer (type)                Output Shape              Param #   \n",
      "=================================================================\n",
      " dense (Dense)               (None, 10)                50        \n",
      "                                                                 \n",
      " dense_1 (Dense)             (None, 3)                 33        \n",
      "                                                                 \n",
      "=================================================================\n",
      "Total params: 83\n",
      "Trainable params: 83\n",
      "Non-trainable params: 0\n",
      "_________________________________________________________________\n"
     ]
    }
   ],
   "source": [
    "model1.summary()"
   ]
  },
  {
   "cell_type": "code",
   "execution_count": 19,
   "id": "453e2ccd",
   "metadata": {},
   "outputs": [],
   "source": [
    "model1.compile(optimizer='adam', loss='categorical_crossentropy', metrics=['accuracy'])"
   ]
  },
  {
   "cell_type": "code",
   "execution_count": null,
   "id": "d64f3d59",
   "metadata": {},
   "outputs": [],
   "source": []
  },
  {
   "cell_type": "code",
   "execution_count": null,
   "id": "8c9ebffe",
   "metadata": {},
   "outputs": [],
   "source": []
  },
  {
   "cell_type": "markdown",
   "id": "54d77bac",
   "metadata": {},
   "source": [
    "### [1] 모델 구성\n",
    "---"
   ]
  },
  {
   "cell_type": "code",
   "execution_count": 20,
   "id": "6f636631",
   "metadata": {},
   "outputs": [],
   "source": [
    "model=Sequential(name=\"HelloModel\")"
   ]
  },
  {
   "cell_type": "code",
   "execution_count": 21,
   "id": "0a0addbe",
   "metadata": {},
   "outputs": [],
   "source": [
    "# 첫번째 층은 반드시 입력정보 파라미터 설정 => input_shape=() 튜플, input_dim=숫자\n",
    "l1=Dense(10, activation='relu', input_shape=(5,))"
   ]
  },
  {
   "cell_type": "code",
   "execution_count": 22,
   "id": "843cec32",
   "metadata": {},
   "outputs": [],
   "source": [
    "# 각 노드(퍼셉트론, 유닛) : 10개 입력 / 출력 : 50\n",
    "l2=Dense(50, activation='relu')"
   ]
  },
  {
   "cell_type": "code",
   "execution_count": 23,
   "id": "e012af1c",
   "metadata": {},
   "outputs": [],
   "source": [
    "l3=Dense(5, activation='softmax')"
   ]
  },
  {
   "cell_type": "code",
   "execution_count": 24,
   "id": "207e0f97",
   "metadata": {},
   "outputs": [],
   "source": [
    "model.add(l1)\n",
    "model.add(l2)\n",
    "model.add(l3)"
   ]
  },
  {
   "cell_type": "code",
   "execution_count": 25,
   "id": "b6c2cef3",
   "metadata": {},
   "outputs": [
    {
     "name": "stdout",
     "output_type": "stream",
     "text": [
      "Model: \"HelloModel\"\n",
      "_________________________________________________________________\n",
      " Layer (type)                Output Shape              Param #   \n",
      "=================================================================\n",
      " dense_2 (Dense)             (None, 10)                60        \n",
      "                                                                 \n",
      " dense_3 (Dense)             (None, 50)                550       \n",
      "                                                                 \n",
      " dense_4 (Dense)             (None, 5)                 255       \n",
      "                                                                 \n",
      "=================================================================\n",
      "Total params: 865\n",
      "Trainable params: 865\n",
      "Non-trainable params: 0\n",
      "_________________________________________________________________\n"
     ]
    }
   ],
   "source": [
    "## 모델 구성 확인 => summary()\n",
    "model.summary()"
   ]
  },
  {
   "cell_type": "markdown",
   "id": "b2ead7f9",
   "metadata": {},
   "source": [
    "### [2] 모델 생성\n",
    "---\n",
    "- 손실함수, 최적화 기법, 성능평가항목 설정\n",
    "- compile() 메서드\n",
    "    * optimizer : string 타입의 최적화기법명 입력 또는 객체 <- 기본값 사용하지 않는 경우\n",
    "    * loss : 손실함수로 string 타입의 이름 입력\n",
    "        - 분류 : categorical_crossentropy, sparse_categorical_crossentropy, binary_crossentropy\n",
    "        - 회귀 : mean_squred_error, mean_absolute_error..\n",
    "    * matrics : 모델 평가 항목\n",
    "        - accuracy, mse, mae..."
   ]
  },
  {
   "cell_type": "code",
   "execution_count": 26,
   "id": "8bbec8b4",
   "metadata": {},
   "outputs": [],
   "source": [
    "model.compile(optimizer='adam', loss='categorical_crossentropy', metrics=['accuracy'])"
   ]
  },
  {
   "cell_type": "markdown",
   "id": "b754210f",
   "metadata": {},
   "source": [
    "### [3] 학습\n",
    "---\n",
    "- fit() 메서드\n",
    "    * 훈련용 데이터\n",
    "    * 훈련용 타겟\n",
    "    * epochs : 학습 횟수(처음~끝까지)\n",
    "    * batch_size : 한번 학습량 (default:32)\n",
    "    * validation_split / validation_data = (,) : 검증 데이터 설정\n",
    "    * callbacks : 이벤트처리 함수 목록 (예: 학습중단 이벤트, 모델 검증 및 저장 이벤트...)\n",
    "    * verbose : 학습 과정 출력 여부 설정 (기 : True)"
   ]
  },
  {
   "cell_type": "code",
   "execution_count": 27,
   "id": "5ea41e21",
   "metadata": {},
   "outputs": [
    {
     "name": "stdout",
     "output_type": "stream",
     "text": [
      "Epoch 1/5\n",
      "5/5 [==============================] - 0s 2ms/step - loss: 1.0590 - accuracy: 0.3333\n",
      "Epoch 2/5\n",
      "5/5 [==============================] - 0s 1ms/step - loss: 1.0391 - accuracy: 0.3333\n",
      "Epoch 3/5\n",
      "5/5 [==============================] - 0s 2ms/step - loss: 1.0187 - accuracy: 0.3467\n",
      "Epoch 4/5\n",
      "5/5 [==============================] - 0s 997us/step - loss: 1.0005 - accuracy: 0.4267\n",
      "Epoch 5/5\n",
      "5/5 [==============================] - 0s 2ms/step - loss: 0.9833 - accuracy: 0.6467\n"
     ]
    },
    {
     "data": {
      "text/plain": [
       "<keras.callbacks.History at 0x1c7115f6f40>"
      ]
     },
     "execution_count": 27,
     "metadata": {},
     "output_type": "execute_result"
    }
   ],
   "source": [
    "model1.fit(data, target_3, epochs=5)"
   ]
  },
  {
   "cell_type": "markdown",
   "id": "91c26a42",
   "metadata": {},
   "source": [
    "### [4] 평가\n",
    "---"
   ]
  },
  {
   "cell_type": "code",
   "execution_count": 28,
   "id": "894bc298",
   "metadata": {},
   "outputs": [
    {
     "name": "stdout",
     "output_type": "stream",
     "text": [
      "1/1 [==============================] - 0s 96ms/step - loss: 0.0000e+00 - accuracy: 0.0000e+00\n"
     ]
    },
    {
     "data": {
      "text/plain": [
       "[0.0, 0.0]"
      ]
     },
     "execution_count": 28,
     "metadata": {},
     "output_type": "execute_result"
    }
   ],
   "source": [
    "## 평가\n",
    "model1.evaluate([[5.1, 3.5, 1.4, 0.2]])"
   ]
  },
  {
   "cell_type": "code",
   "execution_count": 29,
   "id": "5d8135df",
   "metadata": {},
   "outputs": [
    {
     "name": "stdout",
     "output_type": "stream",
     "text": [
      "5/5 [==============================] - 0s 1ms/step - loss: 0.9741 - accuracy: 0.7467\n"
     ]
    },
    {
     "data": {
      "text/plain": [
       "[0.9741147756576538, 0.746666669845581]"
      ]
     },
     "execution_count": 29,
     "metadata": {},
     "output_type": "execute_result"
    }
   ],
   "source": [
    "model1.evaluate(data, target_3)"
   ]
  },
  {
   "cell_type": "markdown",
   "id": "63c3d466",
   "metadata": {},
   "source": [
    "### [5] 예측\n",
    "---"
   ]
  },
  {
   "cell_type": "code",
   "execution_count": 30,
   "id": "0c4581c2",
   "metadata": {},
   "outputs": [
    {
     "name": "stdout",
     "output_type": "stream",
     "text": [
      "1/1 [==============================] - 0s 85ms/step\n"
     ]
    },
    {
     "data": {
      "text/plain": [
       "array([[0.339514  , 0.35083136, 0.30965465]], dtype=float32)"
      ]
     },
     "execution_count": 30,
     "metadata": {},
     "output_type": "execute_result"
    }
   ],
   "source": [
    "model1.predict([[0, 1, 0, 1]])"
   ]
  },
  {
   "cell_type": "code",
   "execution_count": 31,
   "id": "0d6c2c58",
   "metadata": {},
   "outputs": [
    {
     "name": "stdout",
     "output_type": "stream",
     "text": [
      "1/1 [==============================] - 0s 53ms/step\n"
     ]
    },
    {
     "data": {
      "text/plain": [
       "array([[0.44466576, 0.34999767, 0.2053366 ]], dtype=float32)"
      ]
     },
     "execution_count": 31,
     "metadata": {},
     "output_type": "execute_result"
    }
   ],
   "source": [
    "## 예측\n",
    "model1.predict([[5.1, 3.5, 1.4, 0.2]])"
   ]
  },
  {
   "cell_type": "code",
   "execution_count": null,
   "id": "638e7291",
   "metadata": {},
   "outputs": [],
   "source": []
  }
 ],
 "metadata": {
  "kernelspec": {
   "display_name": "Python 3 (ipykernel)",
   "language": "python",
   "name": "python3"
  },
  "language_info": {
   "codemirror_mode": {
    "name": "ipython",
    "version": 3
   },
   "file_extension": ".py",
   "mimetype": "text/x-python",
   "name": "python",
   "nbconvert_exporter": "python",
   "pygments_lexer": "ipython3",
   "version": "3.9.12"
  }
 },
 "nbformat": 4,
 "nbformat_minor": 5
}
