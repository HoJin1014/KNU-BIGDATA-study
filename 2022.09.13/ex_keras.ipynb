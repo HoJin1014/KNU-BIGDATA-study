{
 "cells": [
  {
   "cell_type": "markdown",
   "id": "ffdc4075",
   "metadata": {},
   "source": [
    "## Keras LIB\n",
    "---\n",
    "- Tensorflow 기반의 Keras 패키지\n",
    "- 기본 데이터 Tensor 타입\n",
    "- 모델을 직접 설계/생성 해야 함!!!"
   ]
  },
  {
   "cell_type": "code",
   "execution_count": 47,
   "id": "1a75b091",
   "metadata": {},
   "outputs": [],
   "source": [
    "import tensorflow as tf"
   ]
  },
  {
   "cell_type": "code",
   "execution_count": 53,
   "id": "d43d77cb",
   "metadata": {},
   "outputs": [],
   "source": [
    "from tensorflow.keras import Sequential\n",
    "from tensorflow.keras.layers import Dense\n",
    "import numpy as np\n",
    "from sklearn.datasets import load_iris"
   ]
  },
  {
   "cell_type": "code",
   "execution_count": 64,
   "id": "0eb3cebb",
   "metadata": {},
   "outputs": [],
   "source": [
    "from keras import Sequential\n",
    "from keras.layers import Dense"
   ]
  },
  {
   "cell_type": "code",
   "execution_count": 83,
   "id": "b52a03a4",
   "metadata": {},
   "outputs": [
    {
     "data": {
      "text/plain": [
       "'2.9.2'"
      ]
     },
     "execution_count": 83,
     "metadata": {},
     "output_type": "execute_result"
    }
   ],
   "source": [
    "import tensorflow\n",
    "tensorflow.__version__"
   ]
  },
  {
   "cell_type": "code",
   "execution_count": 84,
   "id": "5531198f",
   "metadata": {},
   "outputs": [],
   "source": [
    "## 데이터 로딩\n",
    "iris=load_iris()"
   ]
  },
  {
   "cell_type": "code",
   "execution_count": 85,
   "id": "c6862b18",
   "metadata": {},
   "outputs": [],
   "source": [
    "data=iris.data\n",
    "target=iris.target"
   ]
  },
  {
   "cell_type": "code",
   "execution_count": 86,
   "id": "2862ea4c",
   "metadata": {},
   "outputs": [
    {
     "name": "stdout",
     "output_type": "stream",
     "text": [
      "(150, 4) (150,)\n"
     ]
    }
   ],
   "source": [
    "print(data.shape, target.shape)"
   ]
  },
  {
   "cell_type": "code",
   "execution_count": 87,
   "id": "5a5ee3be",
   "metadata": {},
   "outputs": [],
   "source": [
    "model1=Sequential(name=\"iris\")"
   ]
  },
  {
   "cell_type": "code",
   "execution_count": 88,
   "id": "1b5c3822",
   "metadata": {},
   "outputs": [],
   "source": [
    "# 첫번째 층은 반드시 입력정보 파라미터 설정 => input_shape=() 튜플, input_dim=숫자\n",
    "l11=Dense(150, activation='relu', input_shape=(4,))"
   ]
  },
  {
   "cell_type": "code",
   "execution_count": 89,
   "id": "89f7afa5",
   "metadata": {},
   "outputs": [],
   "source": [
    "model1.add(l11)"
   ]
  },
  {
   "cell_type": "code",
   "execution_count": 90,
   "id": "725914d8",
   "metadata": {},
   "outputs": [
    {
     "name": "stdout",
     "output_type": "stream",
     "text": [
      "Model: \"iris\"\n",
      "_________________________________________________________________\n",
      " Layer (type)                Output Shape              Param #   \n",
      "=================================================================\n",
      " dense_20 (Dense)            (None, 150)               750       \n",
      "                                                                 \n",
      "=================================================================\n",
      "Total params: 750\n",
      "Trainable params: 750\n",
      "Non-trainable params: 0\n",
      "_________________________________________________________________\n"
     ]
    }
   ],
   "source": [
    "model1.summary()"
   ]
  },
  {
   "cell_type": "code",
   "execution_count": null,
   "id": "fb40a533",
   "metadata": {},
   "outputs": [],
   "source": []
  },
  {
   "cell_type": "markdown",
   "id": "3198f185",
   "metadata": {},
   "source": [
    "### [1] 모델 구성\n",
    "---"
   ]
  },
  {
   "cell_type": "code",
   "execution_count": 40,
   "id": "55497805",
   "metadata": {},
   "outputs": [],
   "source": [
    "model=Sequential(name=\"HelloModel\")"
   ]
  },
  {
   "cell_type": "code",
   "execution_count": 41,
   "id": "0f7c4623",
   "metadata": {},
   "outputs": [],
   "source": [
    "# 첫번째 층은 반드시 입력정보 파라미터 설정 => input_shape=() 튜플, input_dim=숫자\n",
    "l1=Dense(10, activation='relu', input_shape=(5,))"
   ]
  },
  {
   "cell_type": "code",
   "execution_count": 42,
   "id": "8b1e60a1",
   "metadata": {},
   "outputs": [],
   "source": [
    "# 각 노드(퍼셉트론, 유닛) : 10개 입력 / 출력 : 50\n",
    "l2=Dense(50, activation='relu')"
   ]
  },
  {
   "cell_type": "code",
   "execution_count": 43,
   "id": "9b472e0d",
   "metadata": {},
   "outputs": [],
   "source": [
    "l3=Dense(5, activation='softmax')"
   ]
  },
  {
   "cell_type": "code",
   "execution_count": 44,
   "id": "97b38f36",
   "metadata": {},
   "outputs": [],
   "source": [
    "model.add(l1)\n",
    "model.add(l2)\n",
    "model.add(l3)"
   ]
  },
  {
   "cell_type": "code",
   "execution_count": 45,
   "id": "f3f5463f",
   "metadata": {},
   "outputs": [
    {
     "name": "stdout",
     "output_type": "stream",
     "text": [
      "Model: \"HelloModel\"\n",
      "_________________________________________________________________\n",
      " Layer (type)                Output Shape              Param #   \n",
      "=================================================================\n",
      " dense_13 (Dense)            (None, 10)                60        \n",
      "                                                                 \n",
      " dense_14 (Dense)            (None, 50)                550       \n",
      "                                                                 \n",
      " dense_15 (Dense)            (None, 5)                 255       \n",
      "                                                                 \n",
      "=================================================================\n",
      "Total params: 865\n",
      "Trainable params: 865\n",
      "Non-trainable params: 0\n",
      "_________________________________________________________________\n"
     ]
    }
   ],
   "source": [
    "## 모델 구성 확인 => summary()\n",
    "model.summary()"
   ]
  },
  {
   "cell_type": "markdown",
   "id": "b3550566",
   "metadata": {},
   "source": [
    "### [2] 모델 생성\n",
    "---\n",
    "- 손실함수, 최적화 기법, 성능평가항목 설정\n",
    "- compile() 메서드\n",
    "    * optimizer : string 타입의 최적화기법명 입력 또는 객체 <- 기본값 사용하지 않는 경우\n",
    "    * loss : 손실함수로 string 타입의 이름 입력\n",
    "        - 분류 : categorical_crossentropy, sparse_categorical_crossentropy, binary_crossentropy\n",
    "        - 회귀 : mean_squred_error, mean_absolute_error..\n",
    "    * matrics : 모델 평가 항목\n",
    "        - accuracy, mse, mae..."
   ]
  },
  {
   "cell_type": "code",
   "execution_count": 52,
   "id": "d74b1b7a",
   "metadata": {},
   "outputs": [],
   "source": [
    "model.compile(optimizer='adam', loss='categorical_crossentropy', metrics=['accuracy'])"
   ]
  },
  {
   "cell_type": "markdown",
   "id": "7583dc8a",
   "metadata": {},
   "source": [
    "### [3] 학습\n",
    "---\n",
    "- fit() 메서드\n",
    "    * 훈련용 데이터\n",
    "    * 훈련용 타겟\n",
    "    * epochs : 학습 횟수(처음~끝까지)\n",
    "    * batch_size : 한번 학습량 (default:32)\n",
    "    * validation_split / validation_data = (,) : 검증 데이터 설정\n",
    "    * callbacks : 이벤트처리 함수 목록 (예: 학습중단 이벤트, 모델 검증 및 저장 이벤트...)\n",
    "    * verbose : 학습 과정 출력 여부 설정 (기 : True)"
   ]
  },
  {
   "cell_type": "code",
   "execution_count": 91,
   "id": "016f274b",
   "metadata": {},
   "outputs": [
    {
     "ename": "RuntimeError",
     "evalue": "You must compile your model before training/testing. Use `model.compile(optimizer, loss)`.",
     "output_type": "error",
     "traceback": [
      "\u001b[1;31m---------------------------------------------------------------------------\u001b[0m",
      "\u001b[1;31mRuntimeError\u001b[0m                              Traceback (most recent call last)",
      "Input \u001b[1;32mIn [91]\u001b[0m, in \u001b[0;36m<cell line: 1>\u001b[1;34m()\u001b[0m\n\u001b[1;32m----> 1\u001b[0m \u001b[43mmodel1\u001b[49m\u001b[38;5;241;43m.\u001b[39;49m\u001b[43mfit\u001b[49m\u001b[43m(\u001b[49m\u001b[43mdata\u001b[49m\u001b[43m,\u001b[49m\u001b[43m \u001b[49m\u001b[43mtarget\u001b[49m\u001b[43m)\u001b[49m\n",
      "File \u001b[1;32m~\\AppData\\Roaming\\Python\\Python39\\site-packages\\keras\\utils\\traceback_utils.py:67\u001b[0m, in \u001b[0;36mfilter_traceback.<locals>.error_handler\u001b[1;34m(*args, **kwargs)\u001b[0m\n\u001b[0;32m     65\u001b[0m \u001b[38;5;28;01mexcept\u001b[39;00m \u001b[38;5;167;01mException\u001b[39;00m \u001b[38;5;28;01mas\u001b[39;00m e:  \u001b[38;5;66;03m# pylint: disable=broad-except\u001b[39;00m\n\u001b[0;32m     66\u001b[0m   filtered_tb \u001b[38;5;241m=\u001b[39m _process_traceback_frames(e\u001b[38;5;241m.\u001b[39m__traceback__)\n\u001b[1;32m---> 67\u001b[0m   \u001b[38;5;28;01mraise\u001b[39;00m e\u001b[38;5;241m.\u001b[39mwith_traceback(filtered_tb) \u001b[38;5;28;01mfrom\u001b[39;00m \u001b[38;5;28mNone\u001b[39m\n\u001b[0;32m     68\u001b[0m \u001b[38;5;28;01mfinally\u001b[39;00m:\n\u001b[0;32m     69\u001b[0m   \u001b[38;5;28;01mdel\u001b[39;00m filtered_tb\n",
      "File \u001b[1;32m~\\AppData\\Roaming\\Python\\Python39\\site-packages\\keras\\engine\\training.py:3160\u001b[0m, in \u001b[0;36mModel._assert_compile_was_called\u001b[1;34m(self)\u001b[0m\n\u001b[0;32m   3154\u001b[0m \u001b[38;5;28;01mdef\u001b[39;00m \u001b[38;5;21m_assert_compile_was_called\u001b[39m(\u001b[38;5;28mself\u001b[39m):\n\u001b[0;32m   3155\u001b[0m   \u001b[38;5;66;03m# Checks whether `compile` has been called. If it has been called,\u001b[39;00m\n\u001b[0;32m   3156\u001b[0m   \u001b[38;5;66;03m# then the optimizer is set. This is different from whether the\u001b[39;00m\n\u001b[0;32m   3157\u001b[0m   \u001b[38;5;66;03m# model is compiled\u001b[39;00m\n\u001b[0;32m   3158\u001b[0m   \u001b[38;5;66;03m# (i.e. whether the model is built and its inputs/outputs are set).\u001b[39;00m\n\u001b[0;32m   3159\u001b[0m   \u001b[38;5;28;01mif\u001b[39;00m \u001b[38;5;129;01mnot\u001b[39;00m \u001b[38;5;28mself\u001b[39m\u001b[38;5;241m.\u001b[39m_is_compiled:\n\u001b[1;32m-> 3160\u001b[0m     \u001b[38;5;28;01mraise\u001b[39;00m \u001b[38;5;167;01mRuntimeError\u001b[39;00m(\u001b[38;5;124m'\u001b[39m\u001b[38;5;124mYou must compile your model before \u001b[39m\u001b[38;5;124m'\u001b[39m\n\u001b[0;32m   3161\u001b[0m                        \u001b[38;5;124m'\u001b[39m\u001b[38;5;124mtraining/testing. \u001b[39m\u001b[38;5;124m'\u001b[39m\n\u001b[0;32m   3162\u001b[0m                        \u001b[38;5;124m'\u001b[39m\u001b[38;5;124mUse `model.compile(optimizer, loss)`.\u001b[39m\u001b[38;5;124m'\u001b[39m)\n",
      "\u001b[1;31mRuntimeError\u001b[0m: You must compile your model before training/testing. Use `model.compile(optimizer, loss)`."
     ]
    }
   ],
   "source": [
    "model1.fit(data, target)"
   ]
  },
  {
   "cell_type": "code",
   "execution_count": null,
   "id": "b3f3076b",
   "metadata": {},
   "outputs": [],
   "source": []
  }
 ],
 "metadata": {
  "kernelspec": {
   "display_name": "Python 3 (ipykernel)",
   "language": "python",
   "name": "python3"
  },
  "language_info": {
   "codemirror_mode": {
    "name": "ipython",
    "version": 3
   },
   "file_extension": ".py",
   "mimetype": "text/x-python",
   "name": "python",
   "nbconvert_exporter": "python",
   "pygments_lexer": "ipython3",
   "version": "3.9.12"
  }
 },
 "nbformat": 4,
 "nbformat_minor": 5
}
