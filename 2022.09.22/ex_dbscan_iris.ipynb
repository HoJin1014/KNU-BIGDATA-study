{
 "cells": [
  {
   "cell_type": "markdown",
   "id": "6a6e3c2c",
   "metadata": {},
   "source": [
    "# 비원형 데이터의 군집화 - DBSCAN\n",
    "---\n",
    "- 분활적 군집화 방식\n",
    "- 밀도(데이터의 밀집)기반 준집화 ==> 미리 군집수 지정 필요 없음\n",
    "- 다양한 형태의 데이터에서 군집화 가능\n",
    "- 이상치 데이터 제거도 가능함\n",
    "- 군집을 정하는 기준\n",
    "    * 임의의 점(Point)에서 지정된 거리만큼 영역안에 지정된 데이터 수 존재 여부\n",
    "    * 하이퍼파타미터 => 거리, 데이터수"
   ]
  },
  {
   "cell_type": "code",
   "execution_count": 1,
   "id": "75669cba",
   "metadata": {},
   "outputs": [],
   "source": [
    "from sklearn.datasets import load_iris\n",
    "from sklearn.cluster import DBSCAN\n",
    "import matplotlib.pyplot as plt\n",
    "import numpy as np"
   ]
  },
  {
   "cell_type": "markdown",
   "id": "29b8e269",
   "metadata": {},
   "source": [
    "## [1] 데이터 로딩"
   ]
  },
  {
   "cell_type": "code",
   "execution_count": 7,
   "id": "82d215cc",
   "metadata": {},
   "outputs": [],
   "source": [
    "## DataFrame 형태로 데이터 로딩 시 ==> return_X_y=True, as_frame=True 설정\n",
    "X, y=load_iris(return_X_y=True, as_frame=True)"
   ]
  },
  {
   "cell_type": "code",
   "execution_count": 8,
   "id": "58955fa9",
   "metadata": {
    "scrolled": true
   },
   "outputs": [
    {
     "name": "stdout",
     "output_type": "stream",
     "text": [
      "<class 'pandas.core.frame.DataFrame'>\n",
      "RangeIndex: 150 entries, 0 to 149\n",
      "Data columns (total 4 columns):\n",
      " #   Column             Non-Null Count  Dtype  \n",
      "---  ------             --------------  -----  \n",
      " 0   sepal length (cm)  150 non-null    float64\n",
      " 1   sepal width (cm)   150 non-null    float64\n",
      " 2   petal length (cm)  150 non-null    float64\n",
      " 3   petal width (cm)   150 non-null    float64\n",
      "dtypes: float64(4)\n",
      "memory usage: 4.8 KB\n"
     ]
    }
   ],
   "source": [
    "X.info()"
   ]
  },
  {
   "cell_type": "code",
   "execution_count": 10,
   "id": "1245de9f",
   "metadata": {},
   "outputs": [
    {
     "data": {
      "text/plain": [
       "(pandas.core.frame.DataFrame, pandas.core.series.Series)"
      ]
     },
     "execution_count": 10,
     "metadata": {},
     "output_type": "execute_result"
    }
   ],
   "source": [
    "type(X), type(y)"
   ]
  },
  {
   "cell_type": "code",
   "execution_count": null,
   "id": "8f756035",
   "metadata": {},
   "outputs": [],
   "source": []
  },
  {
   "cell_type": "markdown",
   "id": "9423971b",
   "metadata": {},
   "source": [
    "## [2] 데이터 전처리"
   ]
  },
  {
   "cell_type": "code",
   "execution_count": 11,
   "id": "9739716f",
   "metadata": {},
   "outputs": [],
   "source": [
    "from sklearn.preprocessing import StandardScaler"
   ]
  },
  {
   "cell_type": "code",
   "execution_count": 12,
   "id": "995ae8af",
   "metadata": {},
   "outputs": [],
   "source": [
    "scaler=StandardScaler()"
   ]
  },
  {
   "cell_type": "code",
   "execution_count": 13,
   "id": "5c48b718",
   "metadata": {},
   "outputs": [
    {
     "data": {
      "text/html": [
       "<style>#sk-container-id-1 {color: black;background-color: white;}#sk-container-id-1 pre{padding: 0;}#sk-container-id-1 div.sk-toggleable {background-color: white;}#sk-container-id-1 label.sk-toggleable__label {cursor: pointer;display: block;width: 100%;margin-bottom: 0;padding: 0.3em;box-sizing: border-box;text-align: center;}#sk-container-id-1 label.sk-toggleable__label-arrow:before {content: \"▸\";float: left;margin-right: 0.25em;color: #696969;}#sk-container-id-1 label.sk-toggleable__label-arrow:hover:before {color: black;}#sk-container-id-1 div.sk-estimator:hover label.sk-toggleable__label-arrow:before {color: black;}#sk-container-id-1 div.sk-toggleable__content {max-height: 0;max-width: 0;overflow: hidden;text-align: left;background-color: #f0f8ff;}#sk-container-id-1 div.sk-toggleable__content pre {margin: 0.2em;color: black;border-radius: 0.25em;background-color: #f0f8ff;}#sk-container-id-1 input.sk-toggleable__control:checked~div.sk-toggleable__content {max-height: 200px;max-width: 100%;overflow: auto;}#sk-container-id-1 input.sk-toggleable__control:checked~label.sk-toggleable__label-arrow:before {content: \"▾\";}#sk-container-id-1 div.sk-estimator input.sk-toggleable__control:checked~label.sk-toggleable__label {background-color: #d4ebff;}#sk-container-id-1 div.sk-label input.sk-toggleable__control:checked~label.sk-toggleable__label {background-color: #d4ebff;}#sk-container-id-1 input.sk-hidden--visually {border: 0;clip: rect(1px 1px 1px 1px);clip: rect(1px, 1px, 1px, 1px);height: 1px;margin: -1px;overflow: hidden;padding: 0;position: absolute;width: 1px;}#sk-container-id-1 div.sk-estimator {font-family: monospace;background-color: #f0f8ff;border: 1px dotted black;border-radius: 0.25em;box-sizing: border-box;margin-bottom: 0.5em;}#sk-container-id-1 div.sk-estimator:hover {background-color: #d4ebff;}#sk-container-id-1 div.sk-parallel-item::after {content: \"\";width: 100%;border-bottom: 1px solid gray;flex-grow: 1;}#sk-container-id-1 div.sk-label:hover label.sk-toggleable__label {background-color: #d4ebff;}#sk-container-id-1 div.sk-serial::before {content: \"\";position: absolute;border-left: 1px solid gray;box-sizing: border-box;top: 0;bottom: 0;left: 50%;z-index: 0;}#sk-container-id-1 div.sk-serial {display: flex;flex-direction: column;align-items: center;background-color: white;padding-right: 0.2em;padding-left: 0.2em;position: relative;}#sk-container-id-1 div.sk-item {position: relative;z-index: 1;}#sk-container-id-1 div.sk-parallel {display: flex;align-items: stretch;justify-content: center;background-color: white;position: relative;}#sk-container-id-1 div.sk-item::before, #sk-container-id-1 div.sk-parallel-item::before {content: \"\";position: absolute;border-left: 1px solid gray;box-sizing: border-box;top: 0;bottom: 0;left: 50%;z-index: -1;}#sk-container-id-1 div.sk-parallel-item {display: flex;flex-direction: column;z-index: 1;position: relative;background-color: white;}#sk-container-id-1 div.sk-parallel-item:first-child::after {align-self: flex-end;width: 50%;}#sk-container-id-1 div.sk-parallel-item:last-child::after {align-self: flex-start;width: 50%;}#sk-container-id-1 div.sk-parallel-item:only-child::after {width: 0;}#sk-container-id-1 div.sk-dashed-wrapped {border: 1px dashed gray;margin: 0 0.4em 0.5em 0.4em;box-sizing: border-box;padding-bottom: 0.4em;background-color: white;}#sk-container-id-1 div.sk-label label {font-family: monospace;font-weight: bold;display: inline-block;line-height: 1.2em;}#sk-container-id-1 div.sk-label-container {text-align: center;}#sk-container-id-1 div.sk-container {/* jupyter's `normalize.less` sets `[hidden] { display: none; }` but bootstrap.min.css set `[hidden] { display: none !important; }` so we also need the `!important` here to be able to override the default hidden behavior on the sphinx rendered scikit-learn.org. See: https://github.com/scikit-learn/scikit-learn/issues/21755 */display: inline-block !important;position: relative;}#sk-container-id-1 div.sk-text-repr-fallback {display: none;}</style><div id=\"sk-container-id-1\" class=\"sk-top-container\"><div class=\"sk-text-repr-fallback\"><pre>StandardScaler()</pre><b>In a Jupyter environment, please rerun this cell to show the HTML representation or trust the notebook. <br />On GitHub, the HTML representation is unable to render, please try loading this page with nbviewer.org.</b></div><div class=\"sk-container\" hidden><div class=\"sk-item\"><div class=\"sk-estimator sk-toggleable\"><input class=\"sk-toggleable__control sk-hidden--visually\" id=\"sk-estimator-id-1\" type=\"checkbox\" checked><label for=\"sk-estimator-id-1\" class=\"sk-toggleable__label sk-toggleable__label-arrow\">StandardScaler</label><div class=\"sk-toggleable__content\"><pre>StandardScaler()</pre></div></div></div></div></div>"
      ],
      "text/plain": [
       "StandardScaler()"
      ]
     },
     "execution_count": 13,
     "metadata": {},
     "output_type": "execute_result"
    }
   ],
   "source": [
    "scaler.fit(X)"
   ]
  },
  {
   "cell_type": "code",
   "execution_count": 14,
   "id": "a6b7b518",
   "metadata": {},
   "outputs": [],
   "source": [
    "X_scaled=scaler.transform(X)"
   ]
  },
  {
   "cell_type": "code",
   "execution_count": 17,
   "id": "16e180f7",
   "metadata": {},
   "outputs": [
    {
     "data": {
      "text/plain": [
       "array([-1.34022653, -1.34022653, -1.39706395, -1.2833891 , -1.34022653,\n",
       "       -1.16971425, -1.34022653, -1.2833891 , -1.34022653, -1.2833891 ,\n",
       "       -1.2833891 , -1.22655167, -1.34022653, -1.51073881, -1.45390138,\n",
       "       -1.2833891 , -1.39706395, -1.34022653, -1.16971425, -1.2833891 ,\n",
       "       -1.16971425, -1.2833891 , -1.56757623, -1.16971425, -1.05603939,\n",
       "       -1.22655167, -1.22655167, -1.2833891 , -1.34022653, -1.22655167,\n",
       "       -1.22655167, -1.2833891 , -1.2833891 , -1.34022653, -1.2833891 ,\n",
       "       -1.45390138, -1.39706395, -1.34022653, -1.39706395, -1.2833891 ,\n",
       "       -1.39706395, -1.39706395, -1.39706395, -1.22655167, -1.05603939,\n",
       "       -1.34022653, -1.22655167, -1.34022653, -1.2833891 , -1.34022653,\n",
       "        0.53540856,  0.42173371,  0.64908342,  0.13754657,  0.47857113,\n",
       "        0.42173371,  0.53540856, -0.26031542,  0.47857113,  0.08070915,\n",
       "       -0.14664056,  0.25122143,  0.13754657,  0.53540856, -0.08980313,\n",
       "        0.36489628,  0.42173371,  0.194384  ,  0.42173371,  0.08070915,\n",
       "        0.59224599,  0.13754657,  0.64908342,  0.53540856,  0.30805885,\n",
       "        0.36489628,  0.59224599,  0.70592084,  0.42173371, -0.14664056,\n",
       "        0.02387172, -0.03296571,  0.08070915,  0.76275827,  0.42173371,\n",
       "        0.42173371,  0.53540856,  0.36489628,  0.194384  ,  0.13754657,\n",
       "        0.36489628,  0.47857113,  0.13754657, -0.26031542,  0.25122143,\n",
       "        0.25122143,  0.25122143,  0.30805885, -0.4308277 ,  0.194384  ,\n",
       "        1.27429511,  0.76275827,  1.21745768,  1.0469454 ,  1.16062026,\n",
       "        1.61531967,  0.42173371,  1.44480739,  1.16062026,  1.33113254,\n",
       "        0.76275827,  0.87643312,  0.99010798,  0.70592084,  0.76275827,\n",
       "        0.87643312,  0.99010798,  1.6721571 ,  1.78583195,  0.70592084,\n",
       "        1.10378283,  0.64908342,  1.6721571 ,  0.64908342,  1.10378283,\n",
       "        1.27429511,  0.59224599,  0.64908342,  1.0469454 ,  1.16062026,\n",
       "        1.33113254,  1.50164482,  1.0469454 ,  0.76275827,  1.0469454 ,\n",
       "        1.33113254,  1.0469454 ,  0.99010798,  0.59224599,  0.93327055,\n",
       "        1.0469454 ,  0.76275827,  0.76275827,  1.21745768,  1.10378283,\n",
       "        0.8195957 ,  0.70592084,  0.8195957 ,  0.93327055,  0.76275827])"
      ]
     },
     "execution_count": 17,
     "metadata": {},
     "output_type": "execute_result"
    }
   ],
   "source": [
    "X_scaled[:,2]"
   ]
  },
  {
   "cell_type": "markdown",
   "id": "37d25eb8",
   "metadata": {},
   "source": [
    "## [3] 군집화"
   ]
  },
  {
   "cell_type": "code",
   "execution_count": null,
   "id": "3ccfaa08",
   "metadata": {},
   "outputs": [],
   "source": []
  },
  {
   "cell_type": "code",
   "execution_count": null,
   "id": "aaba52fd",
   "metadata": {},
   "outputs": [],
   "source": []
  },
  {
   "cell_type": "code",
   "execution_count": null,
   "id": "be1961db",
   "metadata": {},
   "outputs": [],
   "source": []
  }
 ],
 "metadata": {
  "kernelspec": {
   "display_name": "Python 3 (ipykernel)",
   "language": "python",
   "name": "python3"
  },
  "language_info": {
   "codemirror_mode": {
    "name": "ipython",
    "version": 3
   },
   "file_extension": ".py",
   "mimetype": "text/x-python",
   "name": "python",
   "nbconvert_exporter": "python",
   "pygments_lexer": "ipython3",
   "version": "3.9.12"
  }
 },
 "nbformat": 4,
 "nbformat_minor": 5
}
