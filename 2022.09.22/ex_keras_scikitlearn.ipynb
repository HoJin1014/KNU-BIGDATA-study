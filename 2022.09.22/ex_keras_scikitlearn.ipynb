{
 "cells": [
  {
   "cell_type": "markdown",
   "id": "0663fbd7",
   "metadata": {},
   "source": [
    "## Scikeras\n",
    "---\n",
    "- 설치 필요 : pip install scikeras"
   ]
  },
  {
   "cell_type": "code",
   "execution_count": 3,
   "id": "037fa733",
   "metadata": {},
   "outputs": [],
   "source": [
    "# !pip install scikeras"
   ]
  },
  {
   "cell_type": "markdown",
   "id": "9180733d",
   "metadata": {},
   "source": [
    "# 모듈 로딩"
   ]
  },
  {
   "cell_type": "code",
   "execution_count": 43,
   "id": "fddb4b73",
   "metadata": {},
   "outputs": [],
   "source": [
    "from scikeras.wrappers import KerasClassifier, KerasRegressor\n",
    "from tensorflow.keras import Sequential\n",
    "from tensorflow import keras\n",
    "from tensorflow.keras.layers import Dense, InputLayer\n",
    "from tensorflow.keras.optimizers import SGD\n",
    "from tensorflow.keras.utils import set_random_seed\n",
    "from tensorflow.keras.backend import clear_session\n",
    "from sklearn.cluster import DBSCAN\n",
    "from sklearn.pipeline import Pipeline\n",
    "from sklearn.datasets import load_iris\n",
    "from sklearn.datasets import make_classification\n",
    "from sklearn.preprocessing import StandardScaler\n",
    "from sklearn.model_selection import GridSearchCV\n",
    "from sklearn.model_selection import train_test_split\n",
    "import numpy as np\n",
    "import matplotlib.pyplot as plt"
   ]
  },
  {
   "cell_type": "code",
   "execution_count": 20,
   "id": "47cc057e",
   "metadata": {},
   "outputs": [],
   "source": [
    "## 동일 결과 출력 시드 설정"
   ]
  },
  {
   "cell_type": "code",
   "execution_count": 21,
   "id": "eb5eeea3",
   "metadata": {},
   "outputs": [],
   "source": [
    "clear_session()\n",
    "np.random.seed(42)\n",
    "set_random_seed(42)"
   ]
  },
  {
   "cell_type": "markdown",
   "id": "57c86de5",
   "metadata": {},
   "source": [
    "## 데이터 로딩 및 준비"
   ]
  },
  {
   "cell_type": "code",
   "execution_count": 27,
   "id": "3beabdb2",
   "metadata": {},
   "outputs": [],
   "source": [
    "iris = load_iris()"
   ]
  },
  {
   "cell_type": "code",
   "execution_count": 28,
   "id": "604791d4",
   "metadata": {},
   "outputs": [],
   "source": [
    "X = iris['data']\n",
    "y = iris['target']"
   ]
  },
  {
   "cell_type": "code",
   "execution_count": 29,
   "id": "b396d25c",
   "metadata": {},
   "outputs": [],
   "source": [
    "# # 훈련/테스트 데이터 나누기\n",
    "# x_train, x_test, y_train, y_test = train_test_split(X, y,\n",
    "#                                                     random_state=42,\n",
    "#                                                     stratify=y)"
   ]
  },
  {
   "cell_type": "code",
   "execution_count": 37,
   "id": "14557d15",
   "metadata": {},
   "outputs": [
    {
     "name": "stdout",
     "output_type": "stream",
     "text": [
      "5/5 [==============================] - 0s 1ms/step - loss: 1.0892\n",
      "5/5 [==============================] - 0s 1ms/step\n"
     ]
    }
   ],
   "source": [
    "def get_model(hidden_layer_dim, meta):\n",
    "#     # note that meta is a special argument that will be\n",
    "#     # handed a dict containing input metadata\n",
    "    n_features_in_ = meta[\"n_features_in_\"]\n",
    "    X_shape_ = meta[\"X_shape_\"]\n",
    "    n_classes_ = meta[\"n_classes_\"]\n",
    "    model = keras.models.Sequential()\n",
    "    model.add(keras.layers.Dense(n_features_in_, input_shape=X_shape_[1:]))\n",
    "    model.add(keras.layers.Activation(\"relu\"))\n",
    "    model.add(keras.layers.Dense(hidden_layer_dim))\n",
    "    model.add(keras.layers.Activation(\"relu\"))\n",
    "    model.add(keras.layers.Dense(n_classes_))\n",
    "    model.add(keras.layers.Activation(\"softmax\"))\n",
    "    return model\n",
    "\n",
    "clf = KerasClassifier(\n",
    "    get_model,\n",
    "    loss=\"sparse_categorical_crossentropy\",\n",
    "    hidden_layer_dim=100,\n",
    ")\n",
    "\n",
    "clf.fit(X, y)\n",
    "y_proba = clf.predict_proba(X)"
   ]
  },
  {
   "cell_type": "code",
   "execution_count": 42,
   "id": "d43e126e",
   "metadata": {},
   "outputs": [
    {
     "name": "stdout",
     "output_type": "stream",
     "text": [
      "5/5 [==============================] - 0s 1ms/step - loss: 1.0883\n",
      "5/5 [==============================] - 0s 740us/step\n"
     ]
    }
   ],
   "source": [
    "pipe = Pipeline([\n",
    "    ('scale', StandardScaler()),\n",
    "    ('clf', clf),\n",
    "])\n",
    "\n",
    "pipe.fit(X, y)\n",
    "y_proba = pipe.predict_proba(X)"
   ]
  },
  {
   "cell_type": "code",
   "execution_count": 44,
   "id": "44202735",
   "metadata": {},
   "outputs": [
    {
     "name": "stdout",
     "output_type": "stream",
     "text": [
      "4/4 [==============================] - 0s 2ms/step - loss: 1.3411\n",
      "2/2 [==============================] - 0s 2ms/step\n",
      "4/4 [==============================] - 0s 2ms/step - loss: 1.6704\n",
      "2/2 [==============================] - 0s 2ms/step\n",
      "4/4 [==============================] - 0s 1ms/step - loss: 1.2640\n",
      "WARNING:tensorflow:5 out of the last 15 calls to <function Model.make_predict_function.<locals>.predict_function at 0x00000192F3FD6310> triggered tf.function retracing. Tracing is expensive and the excessive number of tracings could be due to (1) creating @tf.function repeatedly in a loop, (2) passing tensors with different shapes, (3) passing Python objects instead of tensors. For (1), please define your @tf.function outside of the loop. For (2), @tf.function has reduce_retracing=True option that can avoid unnecessary retracing. For (3), please refer to https://www.tensorflow.org/guide/function#controlling_retracing and https://www.tensorflow.org/api_docs/python/tf/function for  more details.\n",
      "2/2 [==============================] - 0s 1ms/step\n",
      "4/4 [==============================] - 0s 2ms/step - loss: 1.8563\n",
      "WARNING:tensorflow:5 out of the last 12 calls to <function Model.make_predict_function.<locals>.predict_function at 0x00000192F40BDA60> triggered tf.function retracing. Tracing is expensive and the excessive number of tracings could be due to (1) creating @tf.function repeatedly in a loop, (2) passing tensors with different shapes, (3) passing Python objects instead of tensors. For (1), please define your @tf.function outside of the loop. For (2), @tf.function has reduce_retracing=True option that can avoid unnecessary retracing. For (3), please refer to https://www.tensorflow.org/guide/function#controlling_retracing and https://www.tensorflow.org/api_docs/python/tf/function for  more details.\n",
      "2/2 [==============================] - 0s 998us/step\n",
      "4/4 [==============================] - 0s 1ms/step - loss: 1.2447\n",
      "2/2 [==============================] - 0s 2ms/step\n",
      "4/4 [==============================] - 0s 1ms/step - loss: 1.1942\n",
      "2/2 [==============================] - 0s 3ms/step\n",
      "4/4 [==============================] - 0s 2ms/step - loss: 1.1667\n",
      "2/2 [==============================] - 0s 2ms/step\n",
      "4/4 [==============================] - 0s 1ms/step - loss: 1.1494\n",
      "2/2 [==============================] - 0s 1ms/step\n",
      "4/4 [==============================] - 0s 2ms/step - loss: 1.8222\n",
      "2/2 [==============================] - 0s 2ms/step\n",
      "4/4 [==============================] - 0s 1ms/step - loss: 1.7354\n",
      "2/2 [==============================] - 0s 2ms/step\n",
      "4/4 [==============================] - 0s 2ms/step - loss: 1.8575\n",
      "2/2 [==============================] - 0s 2ms/step\n",
      "4/4 [==============================] - 0s 1ms/step - loss: 2.9578\n",
      "2/2 [==============================] - 0s 998us/step\n",
      "4/4 [==============================] - 0s 2ms/step - loss: 1.9399\n",
      "2/2 [==============================] - 0s 2ms/step\n",
      "4/4 [==============================] - 0s 1ms/step - loss: 1.1093\n",
      "2/2 [==============================] - 0s 3ms/step\n",
      "4/4 [==============================] - 0s 1ms/step - loss: 1.0794\n",
      "2/2 [==============================] - 0s 2ms/step\n",
      "4/4 [==============================] - 0s 1ms/step - loss: 1.0376\n",
      "2/2 [==============================] - 0s 2ms/step\n",
      "4/4 [==============================] - 0s 997us/step - loss: 3.3738\n",
      "2/2 [==============================] - 0s 1ms/step\n",
      "4/4 [==============================] - 1s 2ms/step - loss: 2.3138\n",
      "2/2 [==============================] - 0s 2ms/step\n",
      "4/4 [==============================] - 0s 1ms/step - loss: 1.0512\n",
      "2/2 [==============================] - 0s 998us/step\n",
      "4/4 [==============================] - 0s 1ms/step - loss: 1.0265\n",
      "2/2 [==============================] - 0s 2ms/step\n",
      "4/4 [==============================] - 0s 1ms/step - loss: 1.0564\n",
      "2/2 [==============================] - 0s 2ms/step\n",
      "4/4 [==============================] - 0s 1ms/step - loss: 1.1931\n",
      "2/2 [==============================] - 0s 2ms/step\n",
      "4/4 [==============================] - 0s 2ms/step - loss: 1.4163\n",
      "2/2 [==============================] - 0s 2ms/step\n",
      "4/4 [==============================] - 0s 1ms/step - loss: 1.2015\n",
      "2/2 [==============================] - 0s 998us/step\n",
      "4/4 [==============================] - 0s 2ms/step - loss: 1.0791\n",
      "2/2 [==============================] - 0s 1ms/step\n",
      "4/4 [==============================] - 0s 1ms/step - loss: 2.2152\n",
      "2/2 [==============================] - 0s 2ms/step\n",
      "4/4 [==============================] - 0s 1ms/step - loss: 1.7536\n",
      "2/2 [==============================] - 0s 3ms/step\n",
      "4/4 [==============================] - 0s 1ms/step - loss: 1.1146\n",
      "2/2 [==============================] - 0s 2ms/step\n",
      "4/4 [==============================] - 0s 1ms/step - loss: 1.2736\n",
      "2/2 [==============================] - 0s 1ms/step\n",
      "4/4 [==============================] - 0s 1ms/step - loss: 1.2100\n",
      "2/2 [==============================] - 0s 2ms/step\n",
      "4/4 [==============================] - 1s 1ms/step - loss: 1.6043\n",
      "2/2 [==============================] - 0s 1ms/step\n",
      "4/4 [==============================] - 0s 1ms/step - loss: 0.9869\n",
      "2/2 [==============================] - 0s 999us/step\n",
      "4/4 [==============================] - 0s 2ms/step - loss: 1.1723\n",
      "2/2 [==============================] - 0s 2ms/step\n",
      "4/4 [==============================] - 0s 2ms/step - loss: 1.8364\n",
      "2/2 [==============================] - 0s 3ms/step\n",
      "4/4 [==============================] - 0s 1ms/step - loss: 1.1810\n",
      "2/2 [==============================] - 0s 997us/step\n",
      "4/4 [==============================] - 0s 1ms/step - loss: 1.0999\n",
      "2/2 [==============================] - 0s 2ms/step\n",
      "4/4 [==============================] - 0s 1ms/step - loss: 1.2576\n",
      "2/2 [==============================] - 0s 2ms/step\n",
      "4/4 [==============================] - 0s 1ms/step - loss: 1.1184\n",
      "2/2 [==============================] - 0s 2ms/step\n",
      "4/4 [==============================] - 0s 2ms/step - loss: 1.1380\n",
      "2/2 [==============================] - 0s 2ms/step\n",
      "4/4 [==============================] - 0s 1ms/step - loss: 1.0691\n",
      "2/2 [==============================] - 0s 2ms/step\n",
      "4/4 [==============================] - 0s 2ms/step - loss: 1.1399\n",
      "2/2 [==============================] - 0s 2ms/step\n",
      "4/4 [==============================] - 0s 2ms/step - loss: 1.2085\n",
      "2/2 [==============================] - 0s 2ms/step\n",
      "4/4 [==============================] - 1s 3ms/step - loss: 1.5810\n",
      "2/2 [==============================] - 0s 1000us/step\n",
      "4/4 [==============================] - 0s 2ms/step - loss: 3.5200\n",
      "2/2 [==============================] - 0s 2ms/step\n",
      "4/4 [==============================] - 0s 2ms/step - loss: 2.8177\n",
      "2/2 [==============================] - 0s 1ms/step\n",
      "4/4 [==============================] - 0s 997us/step - loss: 1.0987\n",
      "2/2 [==============================] - 0s 2ms/step\n",
      "4/4 [==============================] - 0s 2ms/step - loss: 1.2579\n",
      "2/2 [==============================] - 0s 2ms/step\n",
      "4/4 [==============================] - 0s 1ms/step - loss: 1.1161\n",
      "2/2 [==============================] - 0s 2ms/step\n",
      "4/4 [==============================] - 0s 1ms/step - loss: 1.0579\n",
      "2/2 [==============================] - 0s 998us/step\n",
      "4/4 [==============================] - 0s 1ms/step - loss: 1.4365\n",
      "2/2 [==============================] - 0s 2ms/step\n",
      "4/4 [==============================] - 0s 1ms/step - loss: 1.3330\n",
      "2/2 [==============================] - 0s 2ms/step\n",
      "4/4 [==============================] - 0s 2ms/step - loss: 1.3027\n",
      "2/2 [==============================] - 0s 2ms/step\n",
      "4/4 [==============================] - 0s 1ms/step - loss: 1.0668\n",
      "2/2 [==============================] - 0s 2ms/step\n",
      "4/4 [==============================] - 0s 997us/step - loss: 1.0688\n",
      "2/2 [==============================] - 0s 997us/step\n",
      "0.54 {'hidden_layer_dim': 100, 'loss': 'sparse_categorical_crossentropy', 'optimizer': 'adam', 'optimizer__learning_rate': 0.1}\n"
     ]
    }
   ],
   "source": [
    "from sklearn.model_selection import GridSearchCV\n",
    "\n",
    "\n",
    "params = {\n",
    "    \"hidden_layer_dim\": [50, 100, 200],\n",
    "    \"loss\": [\"sparse_categorical_crossentropy\"],\n",
    "    \"optimizer\": [\"adam\", \"sgd\"],\n",
    "    \"optimizer__learning_rate\": [0.0001, 0.001, 0.1],\n",
    "}\n",
    "gs = GridSearchCV(clf, params, refit=False, cv=3, scoring='accuracy')\n",
    "\n",
    "gs.fit(X, y)\n",
    "print(gs.best_score_, gs.best_params_)"
   ]
  },
  {
   "cell_type": "code",
   "execution_count": null,
   "id": "2a1e79bf",
   "metadata": {},
   "outputs": [],
   "source": []
  }
 ],
 "metadata": {
  "kernelspec": {
   "display_name": "Python 3 (ipykernel)",
   "language": "python",
   "name": "python3"
  },
  "language_info": {
   "codemirror_mode": {
    "name": "ipython",
    "version": 3
   },
   "file_extension": ".py",
   "mimetype": "text/x-python",
   "name": "python",
   "nbconvert_exporter": "python",
   "pygments_lexer": "ipython3",
   "version": "3.9.12"
  }
 },
 "nbformat": 4,
 "nbformat_minor": 5
}
