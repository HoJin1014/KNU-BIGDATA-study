{
 "cells": [
  {
   "cell_type": "code",
   "execution_count": 1,
   "id": "ed07dbd0",
   "metadata": {},
   "outputs": [],
   "source": [
    "import folium\n",
    "import pandas as pd\n",
    "import warnings\n",
    "warnings.filterwarnings('ignore')"
   ]
  },
  {
   "cell_type": "code",
   "execution_count": 2,
   "id": "ffa16c61",
   "metadata": {},
   "outputs": [],
   "source": [
    "DIR='./대구 전기차 충전소.csv'"
   ]
  },
  {
   "cell_type": "code",
   "execution_count": 3,
   "id": "11b099cf",
   "metadata": {},
   "outputs": [],
   "source": [
    "map1=pd.read_csv(DIR, encoding='utf-8')"
   ]
  },
  {
   "cell_type": "code",
   "execution_count": 4,
   "id": "142914f5",
   "metadata": {},
   "outputs": [
    {
     "data": {
      "text/html": [
       "<div>\n",
       "<style scoped>\n",
       "    .dataframe tbody tr th:only-of-type {\n",
       "        vertical-align: middle;\n",
       "    }\n",
       "\n",
       "    .dataframe tbody tr th {\n",
       "        vertical-align: top;\n",
       "    }\n",
       "\n",
       "    .dataframe thead th {\n",
       "        text-align: right;\n",
       "    }\n",
       "</style>\n",
       "<table border=\"1\" class=\"dataframe\">\n",
       "  <thead>\n",
       "    <tr style=\"text-align: right;\">\n",
       "      <th></th>\n",
       "      <th>Unnamed: 0</th>\n",
       "      <th>name</th>\n",
       "      <th>address</th>\n",
       "    </tr>\n",
       "  </thead>\n",
       "  <tbody>\n",
       "    <tr>\n",
       "      <th>0</th>\n",
       "      <td>0</td>\n",
       "      <td>Tesla 대구 이시아폴리스 수퍼차저</td>\n",
       "      <td>대구 동구 봉무동 1544</td>\n",
       "    </tr>\n",
       "    <tr>\n",
       "      <th>1</th>\n",
       "      <td>1</td>\n",
       "      <td>Tesla 대구 수성 수퍼차저</td>\n",
       "      <td>대구 수성구 수성못6길 18 대구수성아트스퀘어</td>\n",
       "    </tr>\n",
       "    <tr>\n",
       "      <th>2</th>\n",
       "      <td>2</td>\n",
       "      <td>수태골 공영주차장 전기차충전소</td>\n",
       "      <td>대구 동구 용수동 907-1</td>\n",
       "    </tr>\n",
       "    <tr>\n",
       "      <th>3</th>\n",
       "      <td>3</td>\n",
       "      <td>대구신서혁신LH천년나무10단지 전기차충전소</td>\n",
       "      <td>대구 동구 메디밸리로 18</td>\n",
       "    </tr>\n",
       "    <tr>\n",
       "      <th>4</th>\n",
       "      <td>4</td>\n",
       "      <td>파계사 공영주차장 전기차충전소</td>\n",
       "      <td>대구 동구 파계로 686</td>\n",
       "    </tr>\n",
       "    <tr>\n",
       "      <th>...</th>\n",
       "      <td>...</td>\n",
       "      <td>...</td>\n",
       "      <td>...</td>\n",
       "    </tr>\n",
       "    <tr>\n",
       "      <th>505</th>\n",
       "      <td>505</td>\n",
       "      <td>관음동한양수정아파트 전기차충전소</td>\n",
       "      <td>대구 북구 구암로 17</td>\n",
       "    </tr>\n",
       "    <tr>\n",
       "      <th>506</th>\n",
       "      <td>506</td>\n",
       "      <td>시지두레타운 입주자대표회의 전기차충전소</td>\n",
       "      <td>대구 수성구 천을로 131</td>\n",
       "    </tr>\n",
       "    <tr>\n",
       "      <th>507</th>\n",
       "      <td>507</td>\n",
       "      <td>현풍백년도깨비시장 공영주차장 전기차충전소</td>\n",
       "      <td>대구 달성군 현풍읍 현풍로6길 5</td>\n",
       "    </tr>\n",
       "    <tr>\n",
       "      <th>508</th>\n",
       "      <td>508</td>\n",
       "      <td>3호선 칠곡차량기지 전기차충전소</td>\n",
       "      <td>대구 북구 동호동 136-1</td>\n",
       "    </tr>\n",
       "    <tr>\n",
       "      <th>509</th>\n",
       "      <td>509</td>\n",
       "      <td>서대구역남측주차장 전기차충전소</td>\n",
       "      <td>대구 서구 와룡로 527</td>\n",
       "    </tr>\n",
       "  </tbody>\n",
       "</table>\n",
       "<p>510 rows × 3 columns</p>\n",
       "</div>"
      ],
      "text/plain": [
       "     Unnamed: 0                     name                    address\n",
       "0             0     Tesla 대구 이시아폴리스 수퍼차저             대구 동구 봉무동 1544\n",
       "1             1         Tesla 대구 수성 수퍼차저  대구 수성구 수성못6길 18 대구수성아트스퀘어\n",
       "2             2         수태골 공영주차장 전기차충전소            대구 동구 용수동 907-1\n",
       "3             3  대구신서혁신LH천년나무10단지 전기차충전소             대구 동구 메디밸리로 18\n",
       "4             4         파계사 공영주차장 전기차충전소              대구 동구 파계로 686\n",
       "..          ...                      ...                        ...\n",
       "505         505        관음동한양수정아파트 전기차충전소               대구 북구 구암로 17\n",
       "506         506    시지두레타운 입주자대표회의 전기차충전소             대구 수성구 천을로 131\n",
       "507         507   현풍백년도깨비시장 공영주차장 전기차충전소         대구 달성군 현풍읍 현풍로6길 5\n",
       "508         508        3호선 칠곡차량기지 전기차충전소            대구 북구 동호동 136-1\n",
       "509         509         서대구역남측주차장 전기차충전소              대구 서구 와룡로 527\n",
       "\n",
       "[510 rows x 3 columns]"
      ]
     },
     "execution_count": 4,
     "metadata": {},
     "output_type": "execute_result"
    }
   ],
   "source": [
    "map1"
   ]
  },
  {
   "cell_type": "code",
   "execution_count": 5,
   "id": "55871b42",
   "metadata": {},
   "outputs": [
    {
     "data": {
      "text/plain": [
       "Index(['Unnamed: 0', 'name', 'address'], dtype='object')"
      ]
     },
     "execution_count": 5,
     "metadata": {},
     "output_type": "execute_result"
    }
   ],
   "source": [
    "map1.columns"
   ]
  },
  {
   "cell_type": "code",
   "execution_count": 6,
   "id": "f6f7342c",
   "metadata": {},
   "outputs": [
    {
     "data": {
      "text/plain": [
       "0      False\n",
       "1      False\n",
       "2      False\n",
       "3      False\n",
       "4      False\n",
       "       ...  \n",
       "505     True\n",
       "506     True\n",
       "507     True\n",
       "508     True\n",
       "509     True\n",
       "Name: name, Length: 510, dtype: bool"
      ]
     },
     "execution_count": 6,
     "metadata": {},
     "output_type": "execute_result"
    }
   ],
   "source": [
    "map1['name'].duplicated()"
   ]
  },
  {
   "cell_type": "code",
   "execution_count": 7,
   "id": "5eaac60b",
   "metadata": {},
   "outputs": [
    {
     "data": {
      "text/plain": [
       "0      False\n",
       "1      False\n",
       "2      False\n",
       "3      False\n",
       "4      False\n",
       "       ...  \n",
       "505     True\n",
       "506     True\n",
       "507     True\n",
       "508     True\n",
       "509     True\n",
       "Name: address, Length: 510, dtype: bool"
      ]
     },
     "execution_count": 7,
     "metadata": {},
     "output_type": "execute_result"
    }
   ],
   "source": [
    "map1['address'].duplicated()"
   ]
  },
  {
   "cell_type": "code",
   "execution_count": 8,
   "id": "d3b76af2",
   "metadata": {},
   "outputs": [
    {
     "data": {
      "text/html": [
       "<div>\n",
       "<style scoped>\n",
       "    .dataframe tbody tr th:only-of-type {\n",
       "        vertical-align: middle;\n",
       "    }\n",
       "\n",
       "    .dataframe tbody tr th {\n",
       "        vertical-align: top;\n",
       "    }\n",
       "\n",
       "    .dataframe thead th {\n",
       "        text-align: right;\n",
       "    }\n",
       "</style>\n",
       "<table border=\"1\" class=\"dataframe\">\n",
       "  <thead>\n",
       "    <tr style=\"text-align: right;\">\n",
       "      <th></th>\n",
       "      <th>Unnamed: 0</th>\n",
       "      <th>name</th>\n",
       "      <th>address</th>\n",
       "    </tr>\n",
       "  </thead>\n",
       "  <tbody>\n",
       "    <tr>\n",
       "      <th>0</th>\n",
       "      <td>0</td>\n",
       "      <td>Tesla 대구 이시아폴리스 수퍼차저</td>\n",
       "      <td>대구 동구 봉무동 1544</td>\n",
       "    </tr>\n",
       "    <tr>\n",
       "      <th>1</th>\n",
       "      <td>1</td>\n",
       "      <td>Tesla 대구 수성 수퍼차저</td>\n",
       "      <td>대구 수성구 수성못6길 18 대구수성아트스퀘어</td>\n",
       "    </tr>\n",
       "    <tr>\n",
       "      <th>2</th>\n",
       "      <td>2</td>\n",
       "      <td>수태골 공영주차장 전기차충전소</td>\n",
       "      <td>대구 동구 용수동 907-1</td>\n",
       "    </tr>\n",
       "    <tr>\n",
       "      <th>3</th>\n",
       "      <td>3</td>\n",
       "      <td>대구신서혁신LH천년나무10단지 전기차충전소</td>\n",
       "      <td>대구 동구 메디밸리로 18</td>\n",
       "    </tr>\n",
       "    <tr>\n",
       "      <th>4</th>\n",
       "      <td>4</td>\n",
       "      <td>파계사 공영주차장 전기차충전소</td>\n",
       "      <td>대구 동구 파계로 686</td>\n",
       "    </tr>\n",
       "    <tr>\n",
       "      <th>...</th>\n",
       "      <td>...</td>\n",
       "      <td>...</td>\n",
       "      <td>...</td>\n",
       "    </tr>\n",
       "    <tr>\n",
       "      <th>505</th>\n",
       "      <td>505</td>\n",
       "      <td>관음동한양수정아파트 전기차충전소</td>\n",
       "      <td>대구 북구 구암로 17</td>\n",
       "    </tr>\n",
       "    <tr>\n",
       "      <th>506</th>\n",
       "      <td>506</td>\n",
       "      <td>시지두레타운 입주자대표회의 전기차충전소</td>\n",
       "      <td>대구 수성구 천을로 131</td>\n",
       "    </tr>\n",
       "    <tr>\n",
       "      <th>507</th>\n",
       "      <td>507</td>\n",
       "      <td>현풍백년도깨비시장 공영주차장 전기차충전소</td>\n",
       "      <td>대구 달성군 현풍읍 현풍로6길 5</td>\n",
       "    </tr>\n",
       "    <tr>\n",
       "      <th>508</th>\n",
       "      <td>508</td>\n",
       "      <td>3호선 칠곡차량기지 전기차충전소</td>\n",
       "      <td>대구 북구 동호동 136-1</td>\n",
       "    </tr>\n",
       "    <tr>\n",
       "      <th>509</th>\n",
       "      <td>509</td>\n",
       "      <td>서대구역남측주차장 전기차충전소</td>\n",
       "      <td>대구 서구 와룡로 527</td>\n",
       "    </tr>\n",
       "  </tbody>\n",
       "</table>\n",
       "<p>510 rows × 3 columns</p>\n",
       "</div>"
      ],
      "text/plain": [
       "     Unnamed: 0                     name                    address\n",
       "0             0     Tesla 대구 이시아폴리스 수퍼차저             대구 동구 봉무동 1544\n",
       "1             1         Tesla 대구 수성 수퍼차저  대구 수성구 수성못6길 18 대구수성아트스퀘어\n",
       "2             2         수태골 공영주차장 전기차충전소            대구 동구 용수동 907-1\n",
       "3             3  대구신서혁신LH천년나무10단지 전기차충전소             대구 동구 메디밸리로 18\n",
       "4             4         파계사 공영주차장 전기차충전소              대구 동구 파계로 686\n",
       "..          ...                      ...                        ...\n",
       "505         505        관음동한양수정아파트 전기차충전소               대구 북구 구암로 17\n",
       "506         506    시지두레타운 입주자대표회의 전기차충전소             대구 수성구 천을로 131\n",
       "507         507   현풍백년도깨비시장 공영주차장 전기차충전소         대구 달성군 현풍읍 현풍로6길 5\n",
       "508         508        3호선 칠곡차량기지 전기차충전소            대구 북구 동호동 136-1\n",
       "509         509         서대구역남측주차장 전기차충전소              대구 서구 와룡로 527\n",
       "\n",
       "[510 rows x 3 columns]"
      ]
     },
     "execution_count": 8,
     "metadata": {},
     "output_type": "execute_result"
    }
   ],
   "source": [
    "map2=map1.drop_duplicates()\n",
    "map2"
   ]
  },
  {
   "cell_type": "code",
   "execution_count": 9,
   "id": "6e3ed3ce",
   "metadata": {},
   "outputs": [],
   "source": [
    "map2=map2.drop(columns='Unnamed: 0')"
   ]
  },
  {
   "cell_type": "code",
   "execution_count": 10,
   "id": "526e097e",
   "metadata": {},
   "outputs": [
    {
     "data": {
      "text/html": [
       "<div>\n",
       "<style scoped>\n",
       "    .dataframe tbody tr th:only-of-type {\n",
       "        vertical-align: middle;\n",
       "    }\n",
       "\n",
       "    .dataframe tbody tr th {\n",
       "        vertical-align: top;\n",
       "    }\n",
       "\n",
       "    .dataframe thead th {\n",
       "        text-align: right;\n",
       "    }\n",
       "</style>\n",
       "<table border=\"1\" class=\"dataframe\">\n",
       "  <thead>\n",
       "    <tr style=\"text-align: right;\">\n",
       "      <th></th>\n",
       "      <th>name</th>\n",
       "      <th>address</th>\n",
       "    </tr>\n",
       "  </thead>\n",
       "  <tbody>\n",
       "    <tr>\n",
       "      <th>0</th>\n",
       "      <td>Tesla 대구 이시아폴리스 수퍼차저</td>\n",
       "      <td>대구 동구 봉무동 1544</td>\n",
       "    </tr>\n",
       "    <tr>\n",
       "      <th>1</th>\n",
       "      <td>Tesla 대구 수성 수퍼차저</td>\n",
       "      <td>대구 수성구 수성못6길 18 대구수성아트스퀘어</td>\n",
       "    </tr>\n",
       "    <tr>\n",
       "      <th>2</th>\n",
       "      <td>수태골 공영주차장 전기차충전소</td>\n",
       "      <td>대구 동구 용수동 907-1</td>\n",
       "    </tr>\n",
       "    <tr>\n",
       "      <th>3</th>\n",
       "      <td>대구신서혁신LH천년나무10단지 전기차충전소</td>\n",
       "      <td>대구 동구 메디밸리로 18</td>\n",
       "    </tr>\n",
       "    <tr>\n",
       "      <th>4</th>\n",
       "      <td>파계사 공영주차장 전기차충전소</td>\n",
       "      <td>대구 동구 파계로 686</td>\n",
       "    </tr>\n",
       "    <tr>\n",
       "      <th>...</th>\n",
       "      <td>...</td>\n",
       "      <td>...</td>\n",
       "    </tr>\n",
       "    <tr>\n",
       "      <th>505</th>\n",
       "      <td>관음동한양수정아파트 전기차충전소</td>\n",
       "      <td>대구 북구 구암로 17</td>\n",
       "    </tr>\n",
       "    <tr>\n",
       "      <th>506</th>\n",
       "      <td>시지두레타운 입주자대표회의 전기차충전소</td>\n",
       "      <td>대구 수성구 천을로 131</td>\n",
       "    </tr>\n",
       "    <tr>\n",
       "      <th>507</th>\n",
       "      <td>현풍백년도깨비시장 공영주차장 전기차충전소</td>\n",
       "      <td>대구 달성군 현풍읍 현풍로6길 5</td>\n",
       "    </tr>\n",
       "    <tr>\n",
       "      <th>508</th>\n",
       "      <td>3호선 칠곡차량기지 전기차충전소</td>\n",
       "      <td>대구 북구 동호동 136-1</td>\n",
       "    </tr>\n",
       "    <tr>\n",
       "      <th>509</th>\n",
       "      <td>서대구역남측주차장 전기차충전소</td>\n",
       "      <td>대구 서구 와룡로 527</td>\n",
       "    </tr>\n",
       "  </tbody>\n",
       "</table>\n",
       "<p>510 rows × 2 columns</p>\n",
       "</div>"
      ],
      "text/plain": [
       "                        name                    address\n",
       "0       Tesla 대구 이시아폴리스 수퍼차저             대구 동구 봉무동 1544\n",
       "1           Tesla 대구 수성 수퍼차저  대구 수성구 수성못6길 18 대구수성아트스퀘어\n",
       "2           수태골 공영주차장 전기차충전소            대구 동구 용수동 907-1\n",
       "3    대구신서혁신LH천년나무10단지 전기차충전소             대구 동구 메디밸리로 18\n",
       "4           파계사 공영주차장 전기차충전소              대구 동구 파계로 686\n",
       "..                       ...                        ...\n",
       "505        관음동한양수정아파트 전기차충전소               대구 북구 구암로 17\n",
       "506    시지두레타운 입주자대표회의 전기차충전소             대구 수성구 천을로 131\n",
       "507   현풍백년도깨비시장 공영주차장 전기차충전소         대구 달성군 현풍읍 현풍로6길 5\n",
       "508        3호선 칠곡차량기지 전기차충전소            대구 북구 동호동 136-1\n",
       "509         서대구역남측주차장 전기차충전소              대구 서구 와룡로 527\n",
       "\n",
       "[510 rows x 2 columns]"
      ]
     },
     "execution_count": 10,
     "metadata": {},
     "output_type": "execute_result"
    }
   ],
   "source": [
    "map2"
   ]
  },
  {
   "cell_type": "code",
   "execution_count": null,
   "id": "34495701",
   "metadata": {},
   "outputs": [],
   "source": []
  }
 ],
 "metadata": {
  "kernelspec": {
   "display_name": "Python 3 (ipykernel)",
   "language": "python",
   "name": "python3"
  },
  "language_info": {
   "codemirror_mode": {
    "name": "ipython",
    "version": 3
   },
   "file_extension": ".py",
   "mimetype": "text/x-python",
   "name": "python",
   "nbconvert_exporter": "python",
   "pygments_lexer": "ipython3",
   "version": "3.9.12"
  }
 },
 "nbformat": 4,
 "nbformat_minor": 5
}
