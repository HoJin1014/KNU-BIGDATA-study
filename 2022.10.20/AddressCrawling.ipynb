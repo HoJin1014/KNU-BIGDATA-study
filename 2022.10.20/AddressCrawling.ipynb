{
 "cells": [
  {
   "cell_type": "code",
   "execution_count": 35,
   "id": "f68b2f0c",
   "metadata": {},
   "outputs": [],
   "source": [
    "#웹 페이지 열기\n",
    "import time\n",
    "import os\n",
    "from selenium import webdriver\n",
    "from selenium.webdriver.common.keys import Keys\n",
    "from selenium.webdriver.common.by import By\n",
    "\n",
    "import requests\n",
    "import csv\n",
    "import urllib.request\n",
    "import urllib.parse\n",
    "import re\n",
    "from bs4 import BeautifulSoup"
   ]
  },
  {
   "cell_type": "code",
   "execution_count": 36,
   "id": "f88841fd",
   "metadata": {},
   "outputs": [
    {
     "name": "stderr",
     "output_type": "stream",
     "text": [
      "C:\\Users\\USER\\AppData\\Local\\Temp\\ipykernel_7640\\2991743219.py:1: DeprecationWarning: executable_path has been deprecated, please pass in a Service object\n",
      "  dr = webdriver.Chrome('C:/Users/USER/Downloads/chromedriver_win32/chromedriver.exe') # 크롬 드라이버를 실행하는 명령어를 dr로 지정\n"
     ]
    }
   ],
   "source": [
    "dr = webdriver.Chrome('C:/Users/USER/Downloads/chromedriver_win32/chromedriver.exe') # 크롬 드라이버를 실행하는 명령어를 dr로 지정\n",
    "dr.get('https://map.kakao.com/')  # 드라이버를 통해 url의 웹 페이지를 오픈\n",
    "time.sleep(1)\n",
    "\n",
    "xpath_text = '//*[@id=\"search.keyword.query\"]'\n",
    "xpath_button = '//*[@id=\"search.keyword.submit\"]'\n",
    "keyword = '대구 전기차 충전소'\n",
    "\n",
    "dr.find_element(By.XPATH,xpath_text).send_keys(keyword)\n",
    "dr.find_element(By.XPATH,xpath_button).send_keys(Keys.ENTER)\n",
    "\n"
   ]
  },
  {
   "cell_type": "code",
   "execution_count": 37,
   "id": "3495a5c1",
   "metadata": {},
   "outputs": [],
   "source": [
    "html = dr.page_source\n",
    "soup = BeautifulSoup(html, 'html.parser')\n",
    "\n",
    "name_list = []\n",
    "addr_list = []\n",
    "for name in soup.find_all('a', attrs={'data-id': 'name'}):\n",
    "    name_list.append(name.text)\n",
    "for addr in soup.find_all('p', attrs={'data-id': 'address'}):\n",
    "    addr_list.append(addr.text)"
   ]
  },
  {
   "cell_type": "code",
   "execution_count": 38,
   "id": "cb9da928",
   "metadata": {
    "scrolled": true
   },
   "outputs": [
    {
     "data": {
      "text/plain": [
       "['대구 동구 봉무동 1544',\n",
       " '대구 수성구 수성못6길 18 대구수성아트스퀘어',\n",
       " '대구 동구 용수동 907-1',\n",
       " '대구 동구 메디밸리로 18',\n",
       " '대구 동구 파계로 686',\n",
       " '대구 북구 엑스코로 10',\n",
       " '대구 남구 앞산순환로 655',\n",
       " '대구 동구 팔공산로 1184',\n",
       " '대구 동구 첨단로 10',\n",
       " '대구 동구 지묘동 1352-2',\n",
       " '대구 북구 구암로 17',\n",
       " '대구 수성구 천을로 131',\n",
       " '대구 달성군 현풍읍 현풍로6길 5',\n",
       " '대구 북구 동호동 136-1',\n",
       " '대구 서구 와룡로 527']"
      ]
     },
     "execution_count": 38,
     "metadata": {},
     "output_type": "execute_result"
    }
   ],
   "source": [
    "addr_list"
   ]
  },
  {
   "cell_type": "code",
   "execution_count": 39,
   "id": "ed60baac",
   "metadata": {},
   "outputs": [],
   "source": [
    "#더 보기 클릭\n",
    "xpath_addbutton = '//*[@id=\"info.search.place.more\"]'\n",
    "\n",
    "dr.find_element(By.XPATH,xpath_addbutton).send_keys(Keys.ENTER)"
   ]
  },
  {
   "cell_type": "code",
   "execution_count": 40,
   "id": "ea5d8162",
   "metadata": {},
   "outputs": [],
   "source": [
    "html = dr.page_source\n",
    "soup = BeautifulSoup(html, 'html.parser')\n",
    "\n",
    "for name in soup.find_all('a', attrs={'data-id': 'name'}):\n",
    "    name_list.append(name.text)\n",
    "for addr in soup.find_all('p', attrs={'data-id': 'address'}):\n",
    "    addr_list.append(addr.text)"
   ]
  },
  {
   "cell_type": "code",
   "execution_count": 41,
   "id": "17d023b3",
   "metadata": {},
   "outputs": [
    {
     "data": {
      "text/plain": [
       "['Tesla 대구 이시아폴리스 수퍼차저',\n",
       " 'Tesla 대구 수성 수퍼차저',\n",
       " '수태골 공영주차장 전기차충전소',\n",
       " '대구신서혁신LH천년나무10단지 전기차충전소',\n",
       " '파계사 공영주차장 전기차충전소',\n",
       " 'Tesla 대구 수퍼차저',\n",
       " '대덕맨션2차 전기차충전소',\n",
       " '동화사(동화사 집단시설지구 씨네80 극장 출구 주차장) 전기차충전소',\n",
       " '코스트코 대구혁신도시점 전기차충전소',\n",
       " '연경지구LH뉴웰시티아파트 전기차충전소',\n",
       " '관음동한양수정아파트 전기차충전소',\n",
       " '시지두레타운 입주자대표회의 전기차충전소',\n",
       " '현풍백년도깨비시장 공영주차장 전기차충전소',\n",
       " '3호선 칠곡차량기지 전기차충전소',\n",
       " '서대구역남측주차장 전기차충전소',\n",
       " '우방신천지타운 전기차충전소',\n",
       " '중부소방서 전기차충전소',\n",
       " '아우디 대구 서비스센터 전기차충전소',\n",
       " '대구수목원 제3주차장 전기차충전소',\n",
       " '대구복합스포츠타운시민체육관 전기차충전소',\n",
       " 'SK텔레콤 대구태평사옥 전기차충전소',\n",
       " '두류공원 초급속 EV충전소 전기차충전소',\n",
       " '고향차밭골식당 전기차충전소',\n",
       " '대구 파티마병원 동관 입구 주차장 전기차충전소',\n",
       " '갓바위공영2주차장 전기차충전소',\n",
       " '경북대학교병원(본원) 전기차충전소',\n",
       " '진천역대우이안아파트 전기차충전소',\n",
       " '만평네거리 북편 공영주차장 전기차충전소',\n",
       " '대구미술관 외환들 주차장 전기차충전소',\n",
       " '강서소방서 전기차충전소']"
      ]
     },
     "execution_count": 41,
     "metadata": {},
     "output_type": "execute_result"
    }
   ],
   "source": [
    "name_list "
   ]
  },
  {
   "cell_type": "code",
   "execution_count": 42,
   "id": "aa688c95",
   "metadata": {},
   "outputs": [],
   "source": [
    "for i in range(3,35):\n",
    "    xpath_nextpage = '//*[@id=\"info.search.page.next\"]'\n",
    "    if i % 5 == 1:\n",
    "        dr.find_element(By.XPATH,xpath_nextpage).send_keys(Keys.ENTER)\n",
    "    else:\n",
    "        pass\n",
    "    html = dr.page_source\n",
    "    soup = BeautifulSoup(html, 'html.parser')\n",
    "    if i % 5 == 0:\n",
    "        a = 5\n",
    "    else:\n",
    "        a = i%5\n",
    "    xpath_pagenum = f'//*[@id=\"info.search.page.no{a}\"]'\n",
    "    dr.find_element(By.XPATH,xpath_pagenum).send_keys(Keys.ENTER)\n",
    "    time.sleep(3)\n",
    "    for name in soup.find_all('a', attrs={'data-id': 'name'}):\n",
    "        name_list.append(name.text)\n",
    "    for addr in soup.find_all('p', attrs={'data-id': 'address'}):\n",
    "        addr_list.append(addr.text)"
   ]
  },
  {
   "cell_type": "code",
   "execution_count": 18,
   "id": "1befcd26",
   "metadata": {
    "scrolled": true
   },
   "outputs": [
    {
     "data": {
      "text/plain": [
       "510"
      ]
     },
     "execution_count": 18,
     "metadata": {},
     "output_type": "execute_result"
    }
   ],
   "source": []
  },
  {
   "cell_type": "code",
   "execution_count": 43,
   "id": "902a7007",
   "metadata": {},
   "outputs": [
    {
     "data": {
      "text/plain": [
       "510"
      ]
     },
     "execution_count": 43,
     "metadata": {},
     "output_type": "execute_result"
    }
   ],
   "source": [
    "len(addr_list)"
   ]
  },
  {
   "cell_type": "code",
   "execution_count": 44,
   "id": "c85c1e78",
   "metadata": {},
   "outputs": [],
   "source": [
    "import pandas as pd"
   ]
  },
  {
   "cell_type": "code",
   "execution_count": 45,
   "id": "e060e7b8",
   "metadata": {},
   "outputs": [],
   "source": [
    "df = pd.DataFrame(columns=['name','address'])"
   ]
  },
  {
   "cell_type": "code",
   "execution_count": 46,
   "id": "d2b759d1",
   "metadata": {},
   "outputs": [],
   "source": [
    "df['name'] = name_list\n",
    "df['address'] = addr_list"
   ]
  },
  {
   "cell_type": "code",
   "execution_count": 47,
   "id": "5e176113",
   "metadata": {
    "scrolled": true
   },
   "outputs": [
    {
     "data": {
      "text/html": [
       "<div>\n",
       "<style scoped>\n",
       "    .dataframe tbody tr th:only-of-type {\n",
       "        vertical-align: middle;\n",
       "    }\n",
       "\n",
       "    .dataframe tbody tr th {\n",
       "        vertical-align: top;\n",
       "    }\n",
       "\n",
       "    .dataframe thead th {\n",
       "        text-align: right;\n",
       "    }\n",
       "</style>\n",
       "<table border=\"1\" class=\"dataframe\">\n",
       "  <thead>\n",
       "    <tr style=\"text-align: right;\">\n",
       "      <th></th>\n",
       "      <th>name</th>\n",
       "      <th>address</th>\n",
       "    </tr>\n",
       "  </thead>\n",
       "  <tbody>\n",
       "    <tr>\n",
       "      <th>0</th>\n",
       "      <td>Tesla 대구 이시아폴리스 수퍼차저</td>\n",
       "      <td>대구 동구 봉무동 1544</td>\n",
       "    </tr>\n",
       "    <tr>\n",
       "      <th>1</th>\n",
       "      <td>Tesla 대구 수성 수퍼차저</td>\n",
       "      <td>대구 수성구 수성못6길 18 대구수성아트스퀘어</td>\n",
       "    </tr>\n",
       "    <tr>\n",
       "      <th>2</th>\n",
       "      <td>수태골 공영주차장 전기차충전소</td>\n",
       "      <td>대구 동구 용수동 907-1</td>\n",
       "    </tr>\n",
       "    <tr>\n",
       "      <th>3</th>\n",
       "      <td>대구신서혁신LH천년나무10단지 전기차충전소</td>\n",
       "      <td>대구 동구 메디밸리로 18</td>\n",
       "    </tr>\n",
       "    <tr>\n",
       "      <th>4</th>\n",
       "      <td>파계사 공영주차장 전기차충전소</td>\n",
       "      <td>대구 동구 파계로 686</td>\n",
       "    </tr>\n",
       "    <tr>\n",
       "      <th>...</th>\n",
       "      <td>...</td>\n",
       "      <td>...</td>\n",
       "    </tr>\n",
       "    <tr>\n",
       "      <th>505</th>\n",
       "      <td>달성습지생태학습관 전기차충전소</td>\n",
       "      <td>대구 달성군 화원읍 구라리 860</td>\n",
       "    </tr>\n",
       "    <tr>\n",
       "      <th>506</th>\n",
       "      <td>태전한일아파트 전기차충전소</td>\n",
       "      <td>대구 북구 칠곡중앙대로53길 32 102동 지하1층</td>\n",
       "    </tr>\n",
       "    <tr>\n",
       "      <th>507</th>\n",
       "      <td>블리스모텔 전기차충전소</td>\n",
       "      <td>대구 북구 칠곡중앙대로91길 5-7 옥내주차장 계단실 옆 모텔출입문 쪽</td>\n",
       "    </tr>\n",
       "    <tr>\n",
       "      <th>508</th>\n",
       "      <td>늘푸른교회 전기차충전소</td>\n",
       "      <td>대구 달서구 조암남로14길 13</td>\n",
       "    </tr>\n",
       "    <tr>\n",
       "      <th>509</th>\n",
       "      <td>아양아트센터 전기차충전소</td>\n",
       "      <td>대구 동구 효목동 1084</td>\n",
       "    </tr>\n",
       "  </tbody>\n",
       "</table>\n",
       "<p>510 rows × 2 columns</p>\n",
       "</div>"
      ],
      "text/plain": [
       "                        name                                  address\n",
       "0       Tesla 대구 이시아폴리스 수퍼차저                           대구 동구 봉무동 1544\n",
       "1           Tesla 대구 수성 수퍼차저                대구 수성구 수성못6길 18 대구수성아트스퀘어\n",
       "2           수태골 공영주차장 전기차충전소                          대구 동구 용수동 907-1\n",
       "3    대구신서혁신LH천년나무10단지 전기차충전소                           대구 동구 메디밸리로 18\n",
       "4           파계사 공영주차장 전기차충전소                            대구 동구 파계로 686\n",
       "..                       ...                                      ...\n",
       "505         달성습지생태학습관 전기차충전소                       대구 달성군 화원읍 구라리 860\n",
       "506           태전한일아파트 전기차충전소             대구 북구 칠곡중앙대로53길 32 102동 지하1층\n",
       "507             블리스모텔 전기차충전소  대구 북구 칠곡중앙대로91길 5-7 옥내주차장 계단실 옆 모텔출입문 쪽\n",
       "508             늘푸른교회 전기차충전소                        대구 달서구 조암남로14길 13\n",
       "509            아양아트센터 전기차충전소                           대구 동구 효목동 1084\n",
       "\n",
       "[510 rows x 2 columns]"
      ]
     },
     "execution_count": 47,
     "metadata": {},
     "output_type": "execute_result"
    }
   ],
   "source": [
    "df"
   ]
  },
  {
   "cell_type": "code",
   "execution_count": 51,
   "id": "2def1848",
   "metadata": {},
   "outputs": [],
   "source": [
    "df = df.drop_duplicates()"
   ]
  },
  {
   "cell_type": "code",
   "execution_count": 57,
   "id": "e8ef27ad",
   "metadata": {},
   "outputs": [],
   "source": [
    "df.reset_index(inplace=True)"
   ]
  },
  {
   "cell_type": "code",
   "execution_count": 60,
   "id": "c331dba7",
   "metadata": {},
   "outputs": [],
   "source": [
    "df = df.iloc[:,1:]"
   ]
  },
  {
   "cell_type": "code",
   "execution_count": 62,
   "id": "911afa18",
   "metadata": {},
   "outputs": [],
   "source": [
    "df.to_csv('대구 전기차 충전소.csv',encoding='cp949')"
   ]
  },
  {
   "cell_type": "code",
   "execution_count": 63,
   "id": "69bdae8f",
   "metadata": {},
   "outputs": [
    {
     "data": {
      "text/plain": [
       "0      True\n",
       "1      True\n",
       "2      True\n",
       "3      True\n",
       "4      True\n",
       "       ... \n",
       "490    True\n",
       "491    True\n",
       "492    True\n",
       "493    True\n",
       "494    True\n",
       "Name: address, Length: 495, dtype: bool"
      ]
     },
     "execution_count": 63,
     "metadata": {},
     "output_type": "execute_result"
    }
   ],
   "source": [
    "df['address'].str.contains('대구')"
   ]
  },
  {
   "cell_type": "code",
   "execution_count": null,
   "id": "e3817942",
   "metadata": {},
   "outputs": [],
   "source": []
  }
 ],
 "metadata": {
  "kernelspec": {
   "display_name": "Python 3 (ipykernel)",
   "language": "python",
   "name": "python3"
  },
  "language_info": {
   "codemirror_mode": {
    "name": "ipython",
    "version": 3
   },
   "file_extension": ".py",
   "mimetype": "text/x-python",
   "name": "python",
   "nbconvert_exporter": "python",
   "pygments_lexer": "ipython3",
   "version": "3.9.12"
  }
 },
 "nbformat": 4,
 "nbformat_minor": 5
}
