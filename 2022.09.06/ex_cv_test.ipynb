{
 "cells": [
  {
   "cell_type": "markdown",
   "id": "c7a0b586",
   "metadata": {},
   "source": [
    "## 다양한 교차검증\n",
    "---\n",
    "- model_selection 모듈\n",
    "    * cross_val_score()\n",
    "    * cross_val_validata\n",
    "    * cross_val_predict()"
   ]
  },
  {
   "cell_type": "code",
   "execution_count": 1,
   "id": "aa07e8bd",
   "metadata": {},
   "outputs": [],
   "source": [
    "from sklearn.model_selection import cross_val_score, cross_validate\n",
    "from sklearn.datasets import load_iris\n",
    "from sklearn.linear_model import LogisticRegression\n",
    "import numpy as np\n",
    "import pandas as pd"
   ]
  },
  {
   "cell_type": "markdown",
   "id": "3dd170e7",
   "metadata": {},
   "source": [
    "### [1] 데이터 로딩"
   ]
  },
  {
   "cell_type": "code",
   "execution_count": 2,
   "id": "70657524",
   "metadata": {},
   "outputs": [],
   "source": [
    "iris=load_iris()"
   ]
  },
  {
   "cell_type": "code",
   "execution_count": 3,
   "id": "f7f85ad5",
   "metadata": {},
   "outputs": [],
   "source": [
    "# Bunch 타입 => dict\n",
    "data = iris['data']\n",
    "target = iris['target']\n",
    "featureName = iris['feature_names']   # 컬럼명\n",
    "className=iris['target_names']"
   ]
  },
  {
   "cell_type": "code",
   "execution_count": 4,
   "id": "19f10768",
   "metadata": {},
   "outputs": [
    {
     "data": {
      "text/plain": [
       "(['sepal length (cm)',\n",
       "  'sepal width (cm)',\n",
       "  'petal length (cm)',\n",
       "  'petal width (cm)'],\n",
       " array(['setosa', 'versicolor', 'virginica'], dtype='<U10'))"
      ]
     },
     "execution_count": 4,
     "metadata": {},
     "output_type": "execute_result"
    }
   ],
   "source": [
    "featureName, className"
   ]
  },
  {
   "cell_type": "markdown",
   "id": "bf849d1e",
   "metadata": {},
   "source": [
    "### [2] 모델 생성"
   ]
  },
  {
   "cell_type": "code",
   "execution_count": 5,
   "id": "a0deb0b5",
   "metadata": {},
   "outputs": [],
   "source": [
    "# max_iter : 처음~끝까지 샘플데이터 학습 => 에포크(epoch) 학습 횟수 (기본 100)\n",
    "lrModel=LogisticRegression(max_iter=500)"
   ]
  },
  {
   "cell_type": "code",
   "execution_count": 6,
   "id": "effbae5b",
   "metadata": {},
   "outputs": [],
   "source": [
    "## 교차 검증으로 모델 학습 진행\n",
    "## => 학습 데이터 기반 5개 Fold로 학습 & 검증 진행\n",
    "result = cross_val_score(lrModel, data, target, cv=10)"
   ]
  },
  {
   "cell_type": "code",
   "execution_count": 7,
   "id": "3445c6eb",
   "metadata": {},
   "outputs": [
    {
     "data": {
      "text/plain": [
       "array([1.        , 0.93333333, 1.        , 1.        , 0.93333333,\n",
       "       0.93333333, 0.93333333, 1.        , 1.        , 1.        ])"
      ]
     },
     "execution_count": 7,
     "metadata": {},
     "output_type": "execute_result"
    }
   ],
   "source": [
    "# 5개 모델에 대한 정확도(accuracy)\n",
    "result"
   ]
  },
  {
   "cell_type": "code",
   "execution_count": 8,
   "id": "77610384",
   "metadata": {},
   "outputs": [],
   "source": [
    "allResult=cross_validate(lrModel, data, target, \n",
    "                         return_train_score=True, \n",
    "                         cv=7)"
   ]
  },
  {
   "cell_type": "code",
   "execution_count": 9,
   "id": "5eb8097c",
   "metadata": {},
   "outputs": [
    {
     "data": {
      "text/html": [
       "<div>\n",
       "<style scoped>\n",
       "    .dataframe tbody tr th:only-of-type {\n",
       "        vertical-align: middle;\n",
       "    }\n",
       "\n",
       "    .dataframe tbody tr th {\n",
       "        vertical-align: top;\n",
       "    }\n",
       "\n",
       "    .dataframe thead th {\n",
       "        text-align: right;\n",
       "    }\n",
       "</style>\n",
       "<table border=\"1\" class=\"dataframe\">\n",
       "  <thead>\n",
       "    <tr style=\"text-align: right;\">\n",
       "      <th></th>\n",
       "      <th>fit_time</th>\n",
       "      <th>score_time</th>\n",
       "      <th>test_score</th>\n",
       "      <th>train_score</th>\n",
       "    </tr>\n",
       "  </thead>\n",
       "  <tbody>\n",
       "    <tr>\n",
       "      <th>0</th>\n",
       "      <td>0.015058</td>\n",
       "      <td>0.000257</td>\n",
       "      <td>0.954545</td>\n",
       "      <td>0.968750</td>\n",
       "    </tr>\n",
       "    <tr>\n",
       "      <th>1</th>\n",
       "      <td>0.014184</td>\n",
       "      <td>0.000805</td>\n",
       "      <td>1.000000</td>\n",
       "      <td>0.968750</td>\n",
       "    </tr>\n",
       "    <tr>\n",
       "      <th>2</th>\n",
       "      <td>0.013963</td>\n",
       "      <td>0.000000</td>\n",
       "      <td>0.909091</td>\n",
       "      <td>0.976562</td>\n",
       "    </tr>\n",
       "    <tr>\n",
       "      <th>3</th>\n",
       "      <td>0.014179</td>\n",
       "      <td>0.000000</td>\n",
       "      <td>0.952381</td>\n",
       "      <td>0.976744</td>\n",
       "    </tr>\n",
       "    <tr>\n",
       "      <th>4</th>\n",
       "      <td>0.012976</td>\n",
       "      <td>0.000983</td>\n",
       "      <td>0.952381</td>\n",
       "      <td>0.992248</td>\n",
       "    </tr>\n",
       "    <tr>\n",
       "      <th>5</th>\n",
       "      <td>0.014922</td>\n",
       "      <td>0.000037</td>\n",
       "      <td>1.000000</td>\n",
       "      <td>0.968992</td>\n",
       "    </tr>\n",
       "    <tr>\n",
       "      <th>6</th>\n",
       "      <td>0.013964</td>\n",
       "      <td>0.000000</td>\n",
       "      <td>1.000000</td>\n",
       "      <td>0.976744</td>\n",
       "    </tr>\n",
       "  </tbody>\n",
       "</table>\n",
       "</div>"
      ],
      "text/plain": [
       "   fit_time  score_time  test_score  train_score\n",
       "0  0.015058    0.000257    0.954545     0.968750\n",
       "1  0.014184    0.000805    1.000000     0.968750\n",
       "2  0.013963    0.000000    0.909091     0.976562\n",
       "3  0.014179    0.000000    0.952381     0.976744\n",
       "4  0.012976    0.000983    0.952381     0.992248\n",
       "5  0.014922    0.000037    1.000000     0.968992\n",
       "6  0.013964    0.000000    1.000000     0.976744"
      ]
     },
     "execution_count": 9,
     "metadata": {},
     "output_type": "execute_result"
    }
   ],
   "source": [
    "resultDF=pd.DataFrame(allResult)\n",
    "resultDF"
   ]
  },
  {
   "cell_type": "code",
   "execution_count": 10,
   "id": "ccd54a04",
   "metadata": {},
   "outputs": [],
   "source": [
    "## Splitter 객체 생성 - KFold()\n",
    "from sklearn.model_selection import KFold, StratifiedKFold"
   ]
  },
  {
   "cell_type": "code",
   "execution_count": 11,
   "id": "6aa6ec49",
   "metadata": {},
   "outputs": [],
   "source": [
    "kSplitter=KFold(n_splits=7, shuffle=True)\n",
    "sSplitter=StratifiedKFold(n_splits=7, shuffle=True)\n",
    "\n",
    "# parameter --------------------------------------\n",
    "# return_train_score : 학습 데이터 평가 결과 반환 여부 설정\n",
    "# return_estimator : 모델 객체 반환 여부 설정\n",
    "allResult=cross_validate(lrModel, data, target, \n",
    "                         return_train_score=True,\n",
    "                         return_estimator=True,\n",
    "                         cv=sSplitter)"
   ]
  },
  {
   "cell_type": "code",
   "execution_count": 12,
   "id": "7287fa2b",
   "metadata": {},
   "outputs": [
    {
     "data": {
      "text/html": [
       "<div>\n",
       "<style scoped>\n",
       "    .dataframe tbody tr th:only-of-type {\n",
       "        vertical-align: middle;\n",
       "    }\n",
       "\n",
       "    .dataframe tbody tr th {\n",
       "        vertical-align: top;\n",
       "    }\n",
       "\n",
       "    .dataframe thead th {\n",
       "        text-align: right;\n",
       "    }\n",
       "</style>\n",
       "<table border=\"1\" class=\"dataframe\">\n",
       "  <thead>\n",
       "    <tr style=\"text-align: right;\">\n",
       "      <th></th>\n",
       "      <th>fit_time</th>\n",
       "      <th>score_time</th>\n",
       "      <th>estimator</th>\n",
       "      <th>test_score</th>\n",
       "      <th>train_score</th>\n",
       "    </tr>\n",
       "  </thead>\n",
       "  <tbody>\n",
       "    <tr>\n",
       "      <th>0</th>\n",
       "      <td>0.018037</td>\n",
       "      <td>0.0</td>\n",
       "      <td>LogisticRegression(max_iter=500)</td>\n",
       "      <td>0.909091</td>\n",
       "      <td>0.992188</td>\n",
       "    </tr>\n",
       "    <tr>\n",
       "      <th>1</th>\n",
       "      <td>0.016955</td>\n",
       "      <td>0.0</td>\n",
       "      <td>LogisticRegression(max_iter=500)</td>\n",
       "      <td>1.000000</td>\n",
       "      <td>0.968750</td>\n",
       "    </tr>\n",
       "    <tr>\n",
       "      <th>2</th>\n",
       "      <td>0.013004</td>\n",
       "      <td>0.0</td>\n",
       "      <td>LogisticRegression(max_iter=500)</td>\n",
       "      <td>0.954545</td>\n",
       "      <td>0.960938</td>\n",
       "    </tr>\n",
       "    <tr>\n",
       "      <th>3</th>\n",
       "      <td>0.015955</td>\n",
       "      <td>0.0</td>\n",
       "      <td>LogisticRegression(max_iter=500)</td>\n",
       "      <td>1.000000</td>\n",
       "      <td>0.976744</td>\n",
       "    </tr>\n",
       "    <tr>\n",
       "      <th>4</th>\n",
       "      <td>0.017967</td>\n",
       "      <td>0.0</td>\n",
       "      <td>LogisticRegression(max_iter=500)</td>\n",
       "      <td>1.000000</td>\n",
       "      <td>0.968992</td>\n",
       "    </tr>\n",
       "    <tr>\n",
       "      <th>5</th>\n",
       "      <td>0.013816</td>\n",
       "      <td>0.0</td>\n",
       "      <td>LogisticRegression(max_iter=500)</td>\n",
       "      <td>0.904762</td>\n",
       "      <td>0.976744</td>\n",
       "    </tr>\n",
       "    <tr>\n",
       "      <th>6</th>\n",
       "      <td>0.015352</td>\n",
       "      <td>0.0</td>\n",
       "      <td>LogisticRegression(max_iter=500)</td>\n",
       "      <td>0.952381</td>\n",
       "      <td>0.976744</td>\n",
       "    </tr>\n",
       "  </tbody>\n",
       "</table>\n",
       "</div>"
      ],
      "text/plain": [
       "   fit_time  score_time                         estimator  test_score  \\\n",
       "0  0.018037         0.0  LogisticRegression(max_iter=500)    0.909091   \n",
       "1  0.016955         0.0  LogisticRegression(max_iter=500)    1.000000   \n",
       "2  0.013004         0.0  LogisticRegression(max_iter=500)    0.954545   \n",
       "3  0.015955         0.0  LogisticRegression(max_iter=500)    1.000000   \n",
       "4  0.017967         0.0  LogisticRegression(max_iter=500)    1.000000   \n",
       "5  0.013816         0.0  LogisticRegression(max_iter=500)    0.904762   \n",
       "6  0.015352         0.0  LogisticRegression(max_iter=500)    0.952381   \n",
       "\n",
       "   train_score  \n",
       "0     0.992188  \n",
       "1     0.968750  \n",
       "2     0.960938  \n",
       "3     0.976744  \n",
       "4     0.968992  \n",
       "5     0.976744  \n",
       "6     0.976744  "
      ]
     },
     "execution_count": 12,
     "metadata": {},
     "output_type": "execute_result"
    }
   ],
   "source": [
    "resultDF=pd.DataFrame(allResult)\n",
    "resultDF"
   ]
  },
  {
   "cell_type": "code",
   "execution_count": null,
   "id": "f1eec997",
   "metadata": {},
   "outputs": [],
   "source": []
  },
  {
   "cell_type": "code",
   "execution_count": null,
   "id": "e673f2ab",
   "metadata": {},
   "outputs": [],
   "source": []
  }
 ],
 "metadata": {
  "kernelspec": {
   "display_name": "Python 3 (ipykernel)",
   "language": "python",
   "name": "python3"
  },
  "language_info": {
   "codemirror_mode": {
    "name": "ipython",
    "version": 3
   },
   "file_extension": ".py",
   "mimetype": "text/x-python",
   "name": "python",
   "nbconvert_exporter": "python",
   "pygments_lexer": "ipython3",
   "version": "3.9.12"
  }
 },
 "nbformat": 4,
 "nbformat_minor": 5
}
