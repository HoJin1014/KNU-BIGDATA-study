{
 "cells": [
  {
   "cell_type": "markdown",
   "metadata": {},
   "source": [
    "# 로컬 개발 코드\n",
    "- 로컬에서 주피터 노트북(Jupyter Notebook), 주피터 랩(JupyterLab) 또는 파이썬(Python)을 이용한다. \n",
    "- 사이킷 런(scikit-learn), 텐서플로우(tensorflow), 파이토치(pytorch)를 사용하여 딥러닝 프로그램을 개발한다.\n",
    "- 파일명: 0_local_text_generation.ipynb\n",
    "\n",
    "### 로컬 개발 워크플로우(workflow)  \n",
    "- 로컬 개발 워크플로우를 다음의 4단계로 분리한다.\n",
    "\n",
    "1. **데이터셋 준비(Data Setup)**\n",
    "- 로컬 저장소에서 전처리 및 학습에 필요한 학습 데이터셋을 준비한다.\n",
    "\n",
    "2. **데이터 전처리(Data Preprocessing)**\n",
    "- 데이터셋의 분석 및 정규화(Normalization)등의 전처리를 수행한다.\n",
    "- 데이터를 모델 학습에 사용할 수 있도록 가공한다.\n",
    "- 추론과정에서 필요한 경우, 데이터 전처리에 사용된 객체를 meta_data 폴더 아래에 저장한다.\n",
    "\n",
    "3. **학습 모델 훈련(Train Model)**\n",
    "- 데이터를 훈련에 사용할 수 있도록 가공한 뒤에 학습 모델을 구성한다. \n",
    "- 학습 모델을 준비된 데이터셋으로 훈련시킨다.\n",
    "- 정확도(Accuracy)나 손실(Loss)등 학습 모델의 성능을 검증한다.\n",
    "- 학습 모델의 성능 검증 후, 학습 모델을 배포한다.\n",
    "- 배포할 학습 모델을 meta_data 폴더 아래에 저장한다.\n",
    "\n",
    "4. **추론(Inference)**\n",
    "- 저장된 전처리 객체나 학습 모델 객체를 준비한다.\n",
    "- 추론에 필요한 테스트 데이터셋을 준비한다.\n",
    "- 배포된 학습 모델을 통해 테스트 데이터에 대한 추론을 진행한다. "
   ]
  },
  {
   "cell_type": "code",
   "execution_count": null,
   "metadata": {},
   "outputs": [],
   "source": []
  },
  {
   "cell_type": "markdown",
   "metadata": {},
   "source": [
    "# 텍스트 생성(Text Generation)\n",
    "- generate text using a character-based RNN"
   ]
  },
  {
   "cell_type": "code",
   "execution_count": null,
   "metadata": {},
   "outputs": [],
   "source": []
  },
  {
   "cell_type": "markdown",
   "metadata": {},
   "source": [
    "### 딥러닝을 이용한 텍스트 생성 워크플로우(workflow)\n",
    "- 1. 셰익스피어 텍스트 파일(shakespeare.txt) 얻기\n",
    "- 2. 텍스트의 문자를 숫자id로 치환하고 모델의 목적에 맞게 입출력 시퀀스로 변환\n",
    "- 3. RNN(Recurrent Neural Network)을 통한 텍스트 생성\n",
    "\n",
    "### 텍스트 생성 RNN기반 모델\n",
    "- 모델은 캐릭터(문자) 기반입니다. 훈련이 시작되었을 때 모델은 영어 단어의 철자법을 몰랐거나 단어가 텍스트의 단위라는 것도 몰랐습니다.\n",
    "- 출력 구조는 연극과 유사합니다. 텍스트 블록은 일반적으로 데이터셋과 유사한 모든 대문자로 화자 이름으로 시작합니다.\n",
    "- 이 모델은 작은 배치의 텍스트(각각 100자)에 대해 학습되며 일관된 구조로 더 긴 텍스트 시퀀스를 생성할 수 있습니다."
   ]
  },
  {
   "cell_type": "code",
   "execution_count": null,
   "metadata": {},
   "outputs": [],
   "source": []
  },
  {
   "cell_type": "code",
   "execution_count": 1,
   "metadata": {
    "execution": {
     "iopub.execute_input": "2022-03-29T12:04:34.822914Z",
     "iopub.status.busy": "2022-03-29T12:04:34.822455Z",
     "iopub.status.idle": "2022-03-29T12:04:36.803546Z",
     "shell.execute_reply": "2022-03-29T12:04:36.802868Z"
    },
    "id": "yG_n40gFzf9s"
   },
   "outputs": [],
   "source": [
    "# imports\n",
    "import tensorflow as tf\n",
    "\n",
    "import numpy as np\n",
    "import os\n",
    "import zipfile\n",
    "from glob import glob\n",
    "\n",
    "import matplotlib.pyplot as plt"
   ]
  },
  {
   "cell_type": "markdown",
   "metadata": {},
   "source": [
    "## **1. 데이터셋 준비(Data Setup)**"
   ]
  },
  {
   "cell_type": "code",
   "execution_count": 2,
   "metadata": {},
   "outputs": [],
   "source": [
    "zip_target_path = './meta_data'\n",
    "os.makedirs(zip_target_path, exist_ok=True)"
   ]
  },
  {
   "cell_type": "code",
   "execution_count": 3,
   "metadata": {},
   "outputs": [],
   "source": [
    "# dataset.zip 파일을 dataset 폴더에 압축을 풀어준다.\n",
    "zip_source_path = './dataset.zip'\n",
    "\n",
    "extract_zip_file = zipfile.ZipFile(zip_source_path)\n",
    "extract_zip_file.extractall(zip_target_path)\n",
    " \n",
    "extract_zip_file.close()"
   ]
  },
  {
   "cell_type": "code",
   "execution_count": 4,
   "metadata": {},
   "outputs": [],
   "source": [
    "path_to_file = os.path.join(zip_target_path, 'dataset/shakespeare.txt')\n",
    "\n",
    "# 데이터 불러오기\n",
    "text = open(path_to_file, 'rb').read().decode(encoding='utf-8')"
   ]
  },
  {
   "cell_type": "code",
   "execution_count": 5,
   "metadata": {},
   "outputs": [
    {
     "name": "stdout",
     "output_type": "stream",
     "text": [
      "First Citizen:\n",
      "Before we proceed any further, hear me speak.\n",
      "\n",
      "All:\n",
      "Speak, speak.\n",
      "\n",
      "First Citizen:\n",
      "You are all resolved rather to die than to famish?\n",
      "\n",
      "All:\n",
      "Resolved. resolved.\n",
      "\n",
      "First Citizen:\n",
      "First, you know Caius Marcius is chief enemy to the people.\n",
      "\n",
      "All:\n",
      "We know't, we know't.\n",
      "\n",
      "First Citizen:\n",
      "Let us kill him, and we'll have corn at our own price.\n",
      "Is't a verdict?\n",
      "\n",
      "All:\n",
      "No more talking on't; let it be done: away, away!\n",
      "\n",
      "Second Citizen:\n",
      "One word, good citizens.\n",
      "\n",
      "First Citizen:\n",
      "We are accounted poor\n"
     ]
    }
   ],
   "source": [
    "# 데이터 확인\n",
    "print(text[:500])"
   ]
  },
  {
   "cell_type": "markdown",
   "metadata": {},
   "source": [
    "## **2. 데이터 전처리(Data Preprocessing)**"
   ]
  },
  {
   "cell_type": "code",
   "execution_count": 6,
   "metadata": {
    "execution": {
     "iopub.execute_input": "2022-03-29T12:04:38.252501Z",
     "iopub.status.busy": "2022-03-29T12:04:38.252311Z",
     "iopub.status.idle": "2022-03-29T12:04:38.257567Z",
     "shell.execute_reply": "2022-03-29T12:04:38.257070Z"
    },
    "id": "aavnuByVymwK"
   },
   "outputs": [],
   "source": [
    "# 어휘묶음 생성\n",
    "vocab = sorted(set(text))\n",
    "\n",
    "# chars를 숫자id로 변경하는 StringLookup layer\n",
    "ids_from_chars = tf.keras.layers.StringLookup(\n",
    "    vocabulary=list(vocab), mask_token=None)\n",
    "\n",
    "# 숫자id를 chars로 변경하는 StringLookup layer\n",
    "chars_from_ids = tf.keras.layers.StringLookup(\n",
    "    vocabulary=ids_from_chars.get_vocabulary(), invert=True, mask_token=None)"
   ]
  },
  {
   "cell_type": "code",
   "execution_count": 7,
   "metadata": {
    "execution": {
     "iopub.execute_input": "2022-03-29T12:04:39.962063Z",
     "iopub.status.busy": "2022-03-29T12:04:39.961652Z",
     "iopub.status.idle": "2022-03-29T12:04:40.352538Z",
     "shell.execute_reply": "2022-03-29T12:04:40.351878Z"
    },
    "id": "UopbsKi88tm5"
   },
   "outputs": [],
   "source": [
    "# train예제 및 target 만들기\n",
    "# 각 입력 시퀀스에 대해 해당 대상은 한 문자를 오른쪽으로 이동한 것을 제외하고 동일한 길이의 텍스트를 포함한다.\n",
    "# 예시 : seq_length는 4이고 텍스트는 \"Hello\"인 경우\n",
    "#        입력 시퀀스는 \"Hell\"이고, target 시퀀스는 \"ello\"\n",
    "\n",
    "all_ids = ids_from_chars(tf.strings.unicode_split(text, 'UTF-8'))\n",
    "\n",
    "ids_dataset = tf.data.Dataset.from_tensor_slices(all_ids)\n",
    "\n",
    "# 여기서 시퀀스 길이는 100\n",
    "seq_length = 100\n",
    "# examples_per_epoch = len(text)//(seq_length+1)\n",
    "\n",
    "sequences = ids_dataset.batch(seq_length+1, drop_remainder=True)"
   ]
  },
  {
   "cell_type": "code",
   "execution_count": 8,
   "metadata": {
    "execution": {
     "iopub.execute_input": "2022-03-29T12:04:40.416533Z",
     "iopub.status.busy": "2022-03-29T12:04:40.416053Z",
     "iopub.status.idle": "2022-03-29T12:04:40.419238Z",
     "shell.execute_reply": "2022-03-29T12:04:40.418579Z"
    },
    "id": "9NGu-FkO_kYU"
   },
   "outputs": [],
   "source": [
    "# 시퀀스를 입력으로 받아 복제하고 입력과 라벨을 정렬하는 함수\n",
    "def split_input_target(sequence):\n",
    "    input_text = sequence[:-1]\n",
    "    target_text = sequence[1:]\n",
    "    return input_text, target_text"
   ]
  },
  {
   "cell_type": "code",
   "execution_count": 9,
   "metadata": {
    "execution": {
     "iopub.execute_input": "2022-03-29T12:04:40.429495Z",
     "iopub.status.busy": "2022-03-29T12:04:40.429128Z",
     "iopub.status.idle": "2022-03-29T12:04:40.474507Z",
     "shell.execute_reply": "2022-03-29T12:04:40.473983Z"
    },
    "id": "B9iKPXkw5xwa"
   },
   "outputs": [],
   "source": [
    "# 입력시퀀스에 따른 타겟시퀀스 생성하고 이를 dataset에 저장\n",
    "dataset = sequences.map(split_input_target)"
   ]
  },
  {
   "cell_type": "code",
   "execution_count": 10,
   "metadata": {
    "execution": {
     "iopub.execute_input": "2022-03-29T12:04:40.503055Z",
     "iopub.status.busy": "2022-03-29T12:04:40.502527Z",
     "iopub.status.idle": "2022-03-29T12:04:40.510116Z",
     "shell.execute_reply": "2022-03-29T12:04:40.509506Z"
    },
    "id": "p2pGotuNzf-S"
   },
   "outputs": [],
   "source": [
    "# Batch size\n",
    "BATCH_SIZE = 64\n",
    "\n",
    "BUFFER_SIZE = 10000\n",
    "\n",
    "dataset = (\n",
    "    dataset\n",
    "    .shuffle(BUFFER_SIZE)\n",
    "    .batch(BATCH_SIZE, drop_remainder=True)\n",
    "    .prefetch(tf.data.experimental.AUTOTUNE))"
   ]
  },
  {
   "cell_type": "markdown",
   "metadata": {},
   "source": [
    "## **3. 학습 모델 훈련(Train Model)**"
   ]
  },
  {
   "cell_type": "code",
   "execution_count": 11,
   "metadata": {
    "execution": {
     "iopub.execute_input": "2022-03-29T12:04:40.513485Z",
     "iopub.status.busy": "2022-03-29T12:04:40.513004Z",
     "iopub.status.idle": "2022-03-29T12:04:40.515997Z",
     "shell.execute_reply": "2022-03-29T12:04:40.515400Z"
    },
    "id": "zHT8cLh7EAsg"
   },
   "outputs": [],
   "source": [
    "# Length of the vocabulary in chars\n",
    "vocab_size = len(vocab)\n",
    "\n",
    "# The embedding dimension\n",
    "embedding_dim = 256\n",
    "\n",
    "# Number of RNN units\n",
    "rnn_units = 1024"
   ]
  },
  {
   "cell_type": "markdown",
   "metadata": {},
   "source": [
    "## 게이트 순환 유닛(Gated Recurrent Unit, GRU)\n",
    " - GRU(Gated Recurrent Unit)는 2014년 뉴욕대학교 조경현 교수님이 집필한 논문에서 제안되었습니다.\n",
    " - GRU는 LSTM의 장기 의존성 문제에 대한 해결책을 유지하면서, hidden state를 업데이트하는 계산을 줄였습니다.\n",
    " - 다시 말해서, GRU는 성능은 LSTM과 유사하면서 복잡했던 LSTM의 구조를 간단화 시켰습니다.\n",
    " \n",
    "### RNN, LSTM, GRU\n",
    " * RNN  \n",
    " RNN은 이전 타임 스텝에서의 어떠한 정보(hidden state)를 다음 타임스텝으로 계속 전달하여 연산하는 방식입니다.  \n",
    " 하지만 RNN의 경우 시퀀스가 너무 길다면 앞 쪽의 타임 스텝의 정보가 뒤에 있는 타입스텝까지 충분히 전달되지 못하는 문제가 있습니다.  \n",
    " 이를 장기 의존성 문제(long-term dependecies)라고 정리했습니다. LSTM과 GRU는 RNN의 이러한 문제점을 개선하고자 나온 모델입니다.  \n",
    "\n",
    "\n",
    " * LSTM(Long Short term Memory)  \n",
    " LSTM은 hidden state만이 아니라 cell state라는 역할이 있으며 Forget gate, Input gate, Output gate를 통해 계산이 이루어집니다.  \n",
    " gate 이름에서 알 수 있듯이 어떤 정보를 잊을지 유지할지를 선택하여 long-term과 short-term에 대한 정보를 고려할 수 있습니다.  \n",
    " cell state의 업데이트는 각 gate의 결과를 더함으로써 진행하는데 이는 시퀀스가 길더라도 gradient, 즉 오차를 상대적으로 잘 전파할 수 있도록 합니다.\n",
    " \n",
    " \n",
    " * LSTM과 GRU  \n",
    " GRU와 LSTM 중 어떤 것이 모델의 성능면에서 더 낫다라고 단정지어 말할 수 없으며,  \n",
    "기존에 LSTM을 사용하면서 최적의 하이퍼파라미터를 찾아낸 상황이라면 굳이 GRU로 바꿔서 사용할 필요는 없습니다.  \n",
    "경험적으로 데이터 양이 적을 때는 매개 변수의 양이 적은 GRU가 조금 더 낫고, 데이터 양이 더 많으면 LSTM이 더 낫다고도 합니다.  \n",
    "GRU보다 LSTM에 대한 연구나 사용량이 더 많은데, 이는 LSTM이 더 먼저 나온 구조이기 때문입니다."
   ]
  },
  {
   "cell_type": "code",
   "execution_count": 12,
   "metadata": {
    "execution": {
     "iopub.execute_input": "2022-03-29T12:04:40.519035Z",
     "iopub.status.busy": "2022-03-29T12:04:40.518579Z",
     "iopub.status.idle": "2022-03-29T12:04:40.524333Z",
     "shell.execute_reply": "2022-03-29T12:04:40.523677Z"
    },
    "id": "wj8HQ2w8z4iO"
   },
   "outputs": [],
   "source": [
    "class MyModel(tf.keras.Model):\n",
    "    def __init__(self, vocab_size, embedding_dim, rnn_units):\n",
    "        super().__init__(self)\n",
    "        self.embedding = tf.keras.layers.Embedding(vocab_size, embedding_dim)\n",
    "        self.gru = tf.keras.layers.GRU(rnn_units,\n",
    "                                       return_sequences=True,\n",
    "                                       return_state=True)\n",
    "        self.dense = tf.keras.layers.Dense(vocab_size)\n",
    "    \n",
    "    def call(self, inputs, states=None, return_state=False, training=False):\n",
    "        x = inputs\n",
    "        x = self.embedding(x, training=training)\n",
    "        if states is None:\n",
    "            states = self.gru.get_initial_state(x)\n",
    "        x, states = self.gru(x, initial_state=states, training=training)\n",
    "        x = self.dense(x, training=training)\n",
    "    \n",
    "        if return_state:\n",
    "            return x, states\n",
    "        else:\n",
    "            return x"
   ]
  },
  {
   "cell_type": "code",
   "execution_count": 13,
   "metadata": {
    "execution": {
     "iopub.execute_input": "2022-03-29T12:04:40.527421Z",
     "iopub.status.busy": "2022-03-29T12:04:40.527023Z",
     "iopub.status.idle": "2022-03-29T12:04:40.540670Z",
     "shell.execute_reply": "2022-03-29T12:04:40.540151Z"
    },
    "id": "IX58Xj9z47Aw"
   },
   "outputs": [],
   "source": [
    "model = MyModel(\n",
    "    # Be sure the vocabulary size matches the `StringLookup` layers.\n",
    "    vocab_size=len(ids_from_chars.get_vocabulary()),\n",
    "    embedding_dim=embedding_dim,\n",
    "    rnn_units=rnn_units)\n",
    "\n",
    "loss = tf.losses.SparseCategoricalCrossentropy(from_logits=True)\n",
    "\n",
    "model.compile(optimizer='adam', loss=loss)"
   ]
  },
  {
   "cell_type": "code",
   "execution_count": 14,
   "metadata": {
    "execution": {
     "iopub.execute_input": "2022-03-29T12:04:43.547927Z",
     "iopub.status.busy": "2022-03-29T12:04:43.547512Z",
     "iopub.status.idle": "2022-03-29T12:04:43.550789Z",
     "shell.execute_reply": "2022-03-29T12:04:43.550278Z"
    },
    "id": "W6fWTriUZP-n"
   },
   "outputs": [],
   "source": [
    "# Directory where the checkpoints will be saved\n",
    "checkpoint_dir = './meta_data/training_checkpoints'\n",
    "# Name of the checkpoint files\n",
    "checkpoint_prefix = os.path.join(checkpoint_dir, \"last_ckpt\")\n",
    "\n",
    "checkpoint_callback = tf.keras.callbacks.ModelCheckpoint(\n",
    "    filepath=checkpoint_prefix,\n",
    "    monitor='loss',\n",
    "    save_best_only=True,\n",
    "    save_weights_only=True)"
   ]
  },
  {
   "cell_type": "code",
   "execution_count": 15,
   "metadata": {
    "execution": {
     "iopub.execute_input": "2022-03-29T12:04:43.553927Z",
     "iopub.status.busy": "2022-03-29T12:04:43.553400Z",
     "iopub.status.idle": "2022-03-29T12:04:43.556240Z",
     "shell.execute_reply": "2022-03-29T12:04:43.555725Z"
    },
    "id": "7yGBE2zxMMHs"
   },
   "outputs": [],
   "source": [
    "EPOCHS = 50"
   ]
  },
  {
   "cell_type": "code",
   "execution_count": 16,
   "metadata": {
    "execution": {
     "iopub.execute_input": "2022-03-29T12:04:43.559198Z",
     "iopub.status.busy": "2022-03-29T12:04:43.558716Z",
     "iopub.status.idle": "2022-03-29T12:06:31.473361Z",
     "shell.execute_reply": "2022-03-29T12:06:31.472701Z"
    },
    "id": "UK-hmKjYVoll",
    "scrolled": true
   },
   "outputs": [
    {
     "name": "stdout",
     "output_type": "stream",
     "text": [
      "Epoch 1/50\n",
      "172/172 [==============================] - 16s 66ms/step - loss: 2.7251\n",
      "Epoch 2/50\n",
      "172/172 [==============================] - 12s 67ms/step - loss: 1.9918\n",
      "Epoch 3/50\n",
      "172/172 [==============================] - 12s 66ms/step - loss: 1.7194\n",
      "Epoch 4/50\n",
      "172/172 [==============================] - 12s 67ms/step - loss: 1.5575\n",
      "Epoch 5/50\n",
      "172/172 [==============================] - 12s 66ms/step - loss: 1.4572\n",
      "Epoch 6/50\n",
      "172/172 [==============================] - 12s 66ms/step - loss: 1.3889\n",
      "Epoch 7/50\n",
      "172/172 [==============================] - 12s 66ms/step - loss: 1.3368\n",
      "Epoch 8/50\n",
      "172/172 [==============================] - 12s 67ms/step - loss: 1.2920\n",
      "Epoch 9/50\n",
      "172/172 [==============================] - 12s 66ms/step - loss: 1.2510\n",
      "Epoch 10/50\n",
      "172/172 [==============================] - 12s 66ms/step - loss: 1.2127\n",
      "Epoch 11/50\n",
      "172/172 [==============================] - 12s 66ms/step - loss: 1.1738\n",
      "Epoch 12/50\n",
      "172/172 [==============================] - 12s 66ms/step - loss: 1.1342\n",
      "Epoch 13/50\n",
      "172/172 [==============================] - 12s 66ms/step - loss: 1.0925\n",
      "Epoch 14/50\n",
      "172/172 [==============================] - 12s 65ms/step - loss: 1.0477\n",
      "Epoch 15/50\n",
      "172/172 [==============================] - 12s 66ms/step - loss: 1.0008\n",
      "Epoch 16/50\n",
      "172/172 [==============================] - 12s 65ms/step - loss: 0.9516\n",
      "Epoch 17/50\n",
      "172/172 [==============================] - 12s 66ms/step - loss: 0.9003\n",
      "Epoch 18/50\n",
      "172/172 [==============================] - 12s 66ms/step - loss: 0.8479\n",
      "Epoch 19/50\n",
      "172/172 [==============================] - 12s 66ms/step - loss: 0.7966\n",
      "Epoch 20/50\n",
      "172/172 [==============================] - 12s 66ms/step - loss: 0.7471\n",
      "Epoch 21/50\n",
      "172/172 [==============================] - 12s 66ms/step - loss: 0.7002\n",
      "Epoch 22/50\n",
      "172/172 [==============================] - 12s 66ms/step - loss: 0.6576\n",
      "Epoch 23/50\n",
      "172/172 [==============================] - 12s 66ms/step - loss: 0.6188\n",
      "Epoch 24/50\n",
      "172/172 [==============================] - 12s 66ms/step - loss: 0.5859\n",
      "Epoch 25/50\n",
      "172/172 [==============================] - 12s 66ms/step - loss: 0.5600\n",
      "Epoch 26/50\n",
      "172/172 [==============================] - 12s 65ms/step - loss: 0.5361\n",
      "Epoch 27/50\n",
      "172/172 [==============================] - 12s 66ms/step - loss: 0.5154\n",
      "Epoch 28/50\n",
      "172/172 [==============================] - 12s 66ms/step - loss: 0.4973\n",
      "Epoch 29/50\n",
      "172/172 [==============================] - 12s 65ms/step - loss: 0.4852\n",
      "Epoch 30/50\n",
      "172/172 [==============================] - 12s 65ms/step - loss: 0.4724\n",
      "Epoch 31/50\n",
      "172/172 [==============================] - 12s 65ms/step - loss: 0.4628\n",
      "Epoch 32/50\n",
      "172/172 [==============================] - 12s 65ms/step - loss: 0.4535\n",
      "Epoch 33/50\n",
      "172/172 [==============================] - 12s 65ms/step - loss: 0.4434\n",
      "Epoch 34/50\n",
      "172/172 [==============================] - 12s 65ms/step - loss: 0.4421\n",
      "Epoch 35/50\n",
      "172/172 [==============================] - 12s 65ms/step - loss: 0.4344\n",
      "Epoch 36/50\n",
      "172/172 [==============================] - 12s 65ms/step - loss: 0.4280\n",
      "Epoch 37/50\n",
      "172/172 [==============================] - 12s 65ms/step - loss: 0.4276\n",
      "Epoch 38/50\n",
      "172/172 [==============================] - 12s 65ms/step - loss: 0.4210\n",
      "Epoch 39/50\n",
      "172/172 [==============================] - 12s 65ms/step - loss: 0.4183\n",
      "Epoch 40/50\n",
      "172/172 [==============================] - 12s 65ms/step - loss: 0.4176\n",
      "Epoch 41/50\n",
      "172/172 [==============================] - 12s 64ms/step - loss: 0.4190\n",
      "Epoch 42/50\n",
      "172/172 [==============================] - 12s 65ms/step - loss: 0.4121\n",
      "Epoch 43/50\n",
      "172/172 [==============================] - 12s 64ms/step - loss: 0.4122\n",
      "Epoch 44/50\n",
      "172/172 [==============================] - 12s 65ms/step - loss: 0.4109\n",
      "Epoch 45/50\n",
      "172/172 [==============================] - 12s 65ms/step - loss: 0.4100\n",
      "Epoch 46/50\n",
      "172/172 [==============================] - 12s 65ms/step - loss: 0.4073\n",
      "Epoch 47/50\n",
      "172/172 [==============================] - 12s 65ms/step - loss: 0.4046\n",
      "Epoch 48/50\n",
      "172/172 [==============================] - 12s 64ms/step - loss: 0.4114\n",
      "Epoch 49/50\n",
      "172/172 [==============================] - 12s 64ms/step - loss: 0.4140\n",
      "Epoch 50/50\n",
      "172/172 [==============================] - 12s 64ms/step - loss: 0.4117\n"
     ]
    }
   ],
   "source": [
    "history = model.fit(dataset, epochs=EPOCHS, callbacks=[checkpoint_callback])"
   ]
  },
  {
   "cell_type": "code",
   "execution_count": 17,
   "metadata": {
    "scrolled": false
   },
   "outputs": [
    {
     "name": "stdout",
     "output_type": "stream",
     "text": [
      "Model: \"my_model\"\n",
      "_________________________________________________________________\n",
      " Layer (type)                Output Shape              Param #   \n",
      "=================================================================\n",
      " embedding (Embedding)       multiple                  16896     \n",
      "                                                                 \n",
      " gru (GRU)                   multiple                  3938304   \n",
      "                                                                 \n",
      " dense (Dense)               multiple                  67650     \n",
      "                                                                 \n",
      "=================================================================\n",
      "Total params: 4,022,850\n",
      "Trainable params: 4,022,850\n",
      "Non-trainable params: 0\n",
      "_________________________________________________________________\n"
     ]
    }
   ],
   "source": [
    "model.summary()"
   ]
  },
  {
   "cell_type": "code",
   "execution_count": 18,
   "metadata": {},
   "outputs": [
    {
     "data": {
      "image/png": "[encoded data removed]",
      "text/plain": [
       "<Figure size 432x288 with 1 Axes>"
      ]
     },
     "metadata": {
      "needs_background": "light"
     },
     "output_type": "display_data"
    }
   ],
   "source": [
    "#Plot accuracy and loss curves for both training and validation data\n",
    "loss = history.history['loss']\n",
    "\n",
    "plt.plot(loss, label='Loss')\n",
    "plt.title(\"Loss\")\n",
    "plt.legend()\n",
    "plt.show()"
   ]
  },
  {
   "cell_type": "markdown",
   "metadata": {},
   "source": [
    "## **4. 추론(Inference)**"
   ]
  },
  {
   "cell_type": "code",
   "execution_count": 19,
   "metadata": {
    "execution": {
     "iopub.execute_input": "2022-03-29T12:06:31.477418Z",
     "iopub.status.busy": "2022-03-29T12:06:31.477017Z",
     "iopub.status.idle": "2022-03-29T12:06:31.485553Z",
     "shell.execute_reply": "2022-03-29T12:06:31.485020Z"
    },
    "id": "iSBU1tHmlUSs"
   },
   "outputs": [],
   "source": [
    "class OneStep(tf.keras.Model):\n",
    "    def __init__(self, model, chars_from_ids, ids_from_chars, temperature=1.0):\n",
    "        super().__init__()\n",
    "        self.temperature = temperature\n",
    "        self.model = model\n",
    "        self.chars_from_ids = chars_from_ids\n",
    "        self.ids_from_chars = ids_from_chars\n",
    "    \n",
    "        # Create a mask to prevent \"[UNK]\" from being generated.\n",
    "        skip_ids = self.ids_from_chars(['[UNK]'])[:, None]\n",
    "        sparse_mask = tf.SparseTensor(\n",
    "            # Put a -inf at each bad index.\n",
    "            values=[-float('inf')]*len(skip_ids),\n",
    "            indices=skip_ids,\n",
    "            # Match the shape to the vocabulary\n",
    "            dense_shape=[len(ids_from_chars.get_vocabulary())])\n",
    "        self.prediction_mask = tf.sparse.to_dense(sparse_mask)\n",
    "  \n",
    "    @tf.function\n",
    "    def generate_one_step(self, inputs, states=None):\n",
    "        # Convert strings to token IDs.\n",
    "        input_chars = tf.strings.unicode_split(inputs, 'UTF-8')\n",
    "        input_ids = self.ids_from_chars(input_chars).to_tensor()\n",
    "    \n",
    "        # Run the model.\n",
    "        # predicted_logits.shape is [batch, char, next_char_logits]\n",
    "        predicted_logits, states = self.model(inputs=input_ids, states=states,\n",
    "                                              return_state=True)\n",
    "        # Only use the last prediction.\n",
    "        predicted_logits = predicted_logits[:, -1, :]\n",
    "        predicted_logits = predicted_logits/self.temperature\n",
    "        # Apply the prediction mask: prevent \"[UNK]\" from being generated.\n",
    "        predicted_logits = predicted_logits + self.prediction_mask\n",
    "        \n",
    "        # Sample the output logits to generate token IDs.\n",
    "        predicted_ids = tf.random.categorical(predicted_logits, num_samples=1)\n",
    "        predicted_ids = tf.squeeze(predicted_ids, axis=-1)\n",
    "    \n",
    "        # Convert from token ids to characters\n",
    "        predicted_chars = self.chars_from_ids(predicted_ids)\n",
    "    \n",
    "        # Return the characters and model state.\n",
    "        return predicted_chars, states"
   ]
  },
  {
   "cell_type": "code",
   "execution_count": 20,
   "metadata": {},
   "outputs": [],
   "source": [
    "chars_from_ids = tf.keras.layers.experimental.preprocessing.StringLookup(vocabulary=ids_from_chars.get_vocabulary(), invert=True, mask_token=None)\n",
    "\n",
    "one_step_model = OneStep(model, chars_from_ids, ids_from_chars)"
   ]
  },
  {
   "cell_type": "code",
   "execution_count": 34,
   "metadata": {},
   "outputs": [],
   "source": [
    "zip_test_target_path = './meta_data'\n",
    "os.makedirs(zip_test_target_path, exist_ok=True)"
   ]
  },
  {
   "cell_type": "code",
   "execution_count": 35,
   "metadata": {},
   "outputs": [],
   "source": [
    "# test_dataset.zip 파일을 test_dataset 폴더에 압축을 풀어준다.\n",
    "zip_test_source_path = './test_dataset.zip'\n",
    "\n",
    "extract_zip_file = zipfile.ZipFile(zip_test_source_path)\n",
    "extract_zip_file.extractall(zip_test_target_path)\n",
    "\n",
    "extract_zip_file.close()"
   ]
  },
  {
   "cell_type": "code",
   "execution_count": 36,
   "metadata": {},
   "outputs": [],
   "source": [
    "# laod test data\n",
    "test_files = glob(os.path.join(zip_test_target_path, 'test_dataset/*.txt'))"
   ]
  },
  {
   "cell_type": "code",
   "execution_count": 37,
   "metadata": {},
   "outputs": [],
   "source": [
    "test_data = []\n",
    "for test_file in test_files:\n",
    "    with open(test_file, 'r') as f:\n",
    "        test_data.append(f.read())"
   ]
  },
  {
   "cell_type": "code",
   "execution_count": 38,
   "metadata": {
    "execution": {
     "iopub.execute_input": "2022-03-29T12:06:42.111175Z",
     "iopub.status.busy": "2022-03-29T12:06:42.110656Z",
     "iopub.status.idle": "2022-03-29T12:06:42.639806Z",
     "shell.execute_reply": "2022-03-29T12:06:42.639175Z"
    },
    "id": "_Z9bb_wX6Uuu",
    "scrolled": true
   },
   "outputs": [],
   "source": [
    "def inference(next_char):\n",
    "    states = None\n",
    "\n",
    "    result = [next_char]\n",
    "\n",
    "    for n in range(100):\n",
    "        next_char, states = one_step_model.generate_one_step(next_char, states=states)\n",
    "        result.append(next_char)\n",
    "\n",
    "    return tf.strings.join(result)[0].numpy().decode(\"utf-8\")"
   ]
  },
  {
   "cell_type": "code",
   "execution_count": 39,
   "metadata": {
    "scrolled": false
   },
   "outputs": [
    {
     "name": "stdout",
     "output_type": "stream",
     "text": [
      "############ inference ############\n",
      "ROMEO: My Secial to him.\n",
      "\n",
      "BUCKINGHAM:\n",
      "Good awhile the Welshmen, old Lancaster,\n",
      "Deformed for a piece of beau \n",
      "\n",
      "\n",
      "############ inference ############\n",
      "JULIET: I pray, good friends, Grumio,\n",
      "Now is the father's name; I have with her child\n",
      "play to my stads, and  \n",
      "\n",
      "\n",
      "############ inference ############\n",
      "ROMEO: I am unrever'd from a weel.\n",
      "\n",
      "DUKE OF YORK:\n",
      "\n",
      "HASTINGS:\n",
      "Good father, child, quick, do you the common,\n",
      " \n",
      "\n",
      "\n"
     ]
    }
   ],
   "source": [
    "for data in test_data:\n",
    "    print('############ inference ############')\n",
    "    next_char = tf.constant([data])\n",
    "    print(inference(next_char), '\\n\\n')"
   ]
  },
  {
   "cell_type": "code",
   "execution_count": null,
   "metadata": {},
   "outputs": [],
   "source": []
  }
 ],
 "metadata": {
  "accelerator": "GPU",
  "colab": {
   "collapsed_sections": [],
   "name": "text_generation.ipynb",
   "toc_visible": true
  },
  "kernelspec": {
   "display_name": "Python 3 (ipykernel)",
   "language": "python",
   "name": "python3"
  },
  "language_info": {
   "codemirror_mode": {
    "name": "ipython",
    "version": 3
   },
   "file_extension": ".py",
   "mimetype": "text/x-python",
   "name": "python",
   "nbconvert_exporter": "python",
   "pygments_lexer": "ipython3",
   "version": "3.8.12"
  }
 },
 "nbformat": 4,
 "nbformat_minor": 1
}
