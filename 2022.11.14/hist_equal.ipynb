{
 "cells": [
  {
   "cell_type": "code",
   "execution_count": 7,
   "id": "e8174653",
   "metadata": {},
   "outputs": [],
   "source": [
    "# Histogram equalization\n",
    "\n",
    "# https://jstar0525.tistory.com/7\n",
    "\n",
    "# 누적합 구하고 min으로 펴준다."
   ]
  },
  {
   "cell_type": "code",
   "execution_count": 8,
   "id": "c7a14dd6",
   "metadata": {},
   "outputs": [],
   "source": [
    "from PIL import Image\n",
    "import numpy as np\n",
    "import matplotlib.pyplot as plt"
   ]
  },
  {
   "cell_type": "code",
   "execution_count": null,
   "id": "73ba654a",
   "metadata": {},
   "outputs": [],
   "source": []
  },
  {
   "cell_type": "code",
   "execution_count": 9,
   "id": "9532b6ca",
   "metadata": {},
   "outputs": [],
   "source": [
    "def histogram_equalization(img):\n",
    "    \n",
    "    (N, M) = img.shape\n",
    "    G = 256 # gray Levels\n",
    "    H = np.zeros(G) # initialize an array Histogram\n",
    "    \n",
    "    for g in img.ravel():\n",
    "        H[g] += 1\n",
    "    g_min = np.min(np.nonzero(H))\n",
    "    \n",
    "    \n",
    "    H_c = np.zeros_like(H) # cumulative image histogram\n",
    "    H_c[0] = H[0]\n",
    "    for g in range(1, G):\n",
    "        H_c[g] = H_c[g-1] + H[g]\n",
    "    H_min = H_c[g_min]\n",
    "    \n",
    "    \n",
    "    T = np.round( (H_c - H_min) / (M*N - H_min) * (G-1) )\n",
    "    \n",
    "    result = np.zeros_like(img)\n",
    "    for n in range(N):\n",
    "        for m in range(M):\n",
    "            result[n, m] = T[img[n, m]]\n",
    "    \n",
    "    return result, T"
   ]
  },
  {
   "cell_type": "code",
   "execution_count": 4,
   "id": "32f79ac3",
   "metadata": {},
   "outputs": [],
   "source": [
    "# predict\n",
    "# test_hs"
   ]
  },
  {
   "cell_type": "code",
   "execution_count": null,
   "id": "9757f76c",
   "metadata": {},
   "outputs": [],
   "source": []
  },
  {
   "cell_type": "code",
   "execution_count": null,
   "id": "11cdb610",
   "metadata": {},
   "outputs": [],
   "source": []
  },
  {
   "cell_type": "code",
   "execution_count": null,
   "id": "f9ba69cb",
   "metadata": {},
   "outputs": [],
   "source": []
  }
 ],
 "metadata": {
  "kernelspec": {
   "display_name": "Python 3 (ipykernel)",
   "language": "python",
   "name": "python3"
  },
  "language_info": {
   "codemirror_mode": {
    "name": "ipython",
    "version": 3
   },
   "file_extension": ".py",
   "mimetype": "text/x-python",
   "name": "python",
   "nbconvert_exporter": "python",
   "pygments_lexer": "ipython3",
   "version": "3.9.12"
  }
 },
 "nbformat": 4,
 "nbformat_minor": 5
}
