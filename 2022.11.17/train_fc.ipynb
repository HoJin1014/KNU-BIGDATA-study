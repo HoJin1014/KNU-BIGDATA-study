{
 "cells": [
  {
   "cell_type": "code",
   "execution_count": 1,
   "id": "7b316d4a",
   "metadata": {},
   "outputs": [],
   "source": [
    "from keras import applications\n",
    "from keras.preprocessing.image import ImageDataGenerator\n",
    "import tensorflow as tf"
   ]
  },
  {
   "cell_type": "code",
   "execution_count": 2,
   "id": "3af6c3c2",
   "metadata": {},
   "outputs": [],
   "source": [
    "IMAGE_SIZE = (514, 616)\n",
    "IMAGE_SHAPE = IMAGE_SIZE + (3,)"
   ]
  },
  {
   "cell_type": "code",
   "execution_count": 3,
   "id": "e9364d2a",
   "metadata": {},
   "outputs": [],
   "source": [
    "def get_top_model():\n",
    "    top_model = tf.keras.Sequential([\n",
    "        tf.keras.layers.Conv2D(16, (5,5), input_shape=IMAGE_SHAPE),\n",
    "        tf.keras.layers.ReLU(),\n",
    "        tf.keras.layers.AveragePooling2D((2, 2)),\n",
    "        tf.keras.layers.Conv2D(24, (5,5)),\n",
    "        tf.keras.layers.ReLU(),\n",
    "        tf.keras.layers.AveragePooling2D((2,2)),\n",
    "        tf.keras.layers.Conv2D(32, (5,5)),\n",
    "        tf.keras.layers.ReLU(),\n",
    "        tf.keras.layers.Flatten(),\n",
    "        tf.keras.layers.Dropout(.5),\n",
    "        tf.keras.layers.Dense(256, activation='relu',\n",
    "                              kernel_regularizer=tf.keras.regularizers.L2(l2=0.0001)),\n",
    "        tf.keras.layers.Dropout(.4),\n",
    "        tf.keras.layers.Dense(16, activation='relu',\n",
    "                              kernel_regularizer=tf.keras.regularizers.L2(l2=0.0001)),\n",
    "        tf.keras.layers.Dropout(.3),\n",
    "        tf.keras.layers.Dense(1, activation='sigmoid',\n",
    "                              kernel_regularizer=tf.keras.regularizers.L2(l2=0.0001))], name='top_model')\n",
    "    return top_model\n"
   ]
  },
  {
   "cell_type": "code",
   "execution_count": 4,
   "id": "8172f433",
   "metadata": {},
   "outputs": [],
   "source": [
    "def get_data_agumenter():\n",
    "    augmenter = tf.keras.Sequential(name='data_augmenter')\n",
    "    augmenter.add(tf.keras.layers.RandomBrightness(\n",
    "        0.05, value_range=[-1., 1.]))\n",
    "    augmenter.add(tf.keras.layers.RandomContrast(0.05))\n",
    "    augmenter.add(tf.keras.layers.RandomFlip())\n",
    "    augmenter.add(tf.keras.layers.RandomRotation(0.01))\n",
    "    augmenter.add(tf.keras.layers.RandomTranslation(0.06, 0.06))\n",
    "    return augmenter\n"
   ]
  },
  {
   "cell_type": "code",
   "execution_count": 5,
   "id": "818c7413",
   "metadata": {},
   "outputs": [],
   "source": [
    "class Model(tf.keras.Model):\n",
    "    def __init__(self, *args, **kwargs):\n",
    "        super().__init__(self, *args, **kwargs)\n",
    "\n",
    "        self.augmenter = get_data_agumenter()\n",
    "\n",
    "        #self.base_model = tf.keras.applications.VGG16(\n",
    "        #    include_top=False, weights='imagenet', input_shape=IMAGE_SHAPE)\n",
    "        #self.base_model.trainable = False\n",
    "\n",
    "        self.top_model = get_top_model()\n",
    "\n",
    "    def call(self, inputs):\n",
    "        x = self.augmenter(inputs)\n",
    "        return self.top_model(x)\n",
    "\n",
    "    @property\n",
    "    def export_model(self):\n",
    "        return tf.keras.Sequential(\n",
    "            [self.get_preprocess_layer(), self.base_model, self.top_model])\n",
    "\n",
    "    @classmethod\n",
    "    def get_preprocess_layer(cls):\n",
    "        return tf.keras.layers.Rescaling(1./127.5, offset=-1, name='rescaling')"
   ]
  },
  {
   "cell_type": "code",
   "execution_count": null,
   "id": "bff5e5a3",
   "metadata": {},
   "outputs": [],
   "source": []
  },
  {
   "cell_type": "code",
   "execution_count": 6,
   "id": "5a5305d8",
   "metadata": {},
   "outputs": [
    {
     "name": "stdout",
     "output_type": "stream",
     "text": [
      "Found 96 files belonging to 2 classes.\n",
      "Found 96 files belonging to 2 classes.\n"
     ]
    }
   ],
   "source": [
    "model = Model()\n",
    "train_set = tf.keras.utils.image_dataset_from_directory(\n",
    "    './images/test_set', label_mode='binary', color_mode='rgb', image_size=IMAGE_SIZE, batch_size=1)\n",
    "dev_set = tf.keras.utils.image_dataset_from_directory(\n",
    "    './images/dev_set', label_mode='binary', color_mode='rgb', image_size=IMAGE_SIZE, batch_size=1)\n",
    "\n",
    "preprocess_layer = Model.get_preprocess_layer()\n",
    "dev_set = dev_set.map(lambda x, y: (preprocess_layer(x), y)\n",
    "                      ).prefetch(tf.data.AUTOTUNE)\n",
    "train_set = train_set.map(lambda x, y: (preprocess_layer(x), y)\n",
    "                          ).prefetch(tf.data.AUTOTUNE)"
   ]
  },
  {
   "cell_type": "code",
   "execution_count": 7,
   "id": "bf26e426",
   "metadata": {},
   "outputs": [],
   "source": [
    "epochs = 10\n",
    "learning_rate = 0.0005\n",
    "\n",
    "model.compile(optimizer=tf.keras.optimizers.Adam(learning_rate), loss=tf.keras.losses.BinaryFocalCrossentropy(\n",
    "    gamma=2.0, from_logits=False), metrics=[\n",
    "    tf.keras.metrics.BinaryAccuracy(name='accuracy'),\n",
    "    tf.keras.metrics.Precision(name='precision'),\n",
    "    tf.keras.metrics.Recall(name='recall'),\n",
    "    tf.keras.metrics.RecallAtPrecision(1, name='recall_at_perfect_precision')])\n",
    "\n",
    "test_date = '20221117_0001'\n",
    "backup_dir = f'.backup/{test_date}'\n",
    "log_dir = f'.logs/{test_date}'\n",
    "ckpt_dir = f'.ckpt/{test_date}'"
   ]
  },
  {
   "cell_type": "code",
   "execution_count": 8,
   "id": "0c72de8f",
   "metadata": {},
   "outputs": [
    {
     "name": "stdout",
     "output_type": "stream",
     "text": [
      "Epoch 1/10\n",
      "WARNING:tensorflow:Using a while_loop for converting RngReadAndSkip cause there is no registered converter for this op.\n",
      "WARNING:tensorflow:Using a while_loop for converting Bitcast cause there is no registered converter for this op.\n",
      "WARNING:tensorflow:Using a while_loop for converting Bitcast cause there is no registered converter for this op.\n",
      "WARNING:tensorflow:Using a while_loop for converting StatelessRandomUniformV2 cause there is no registered converter for this op.\n",
      "WARNING:tensorflow:Using a while_loop for converting RngReadAndSkip cause there is no registered converter for this op.\n",
      "WARNING:tensorflow:Using a while_loop for converting Bitcast cause there is no registered converter for this op.\n",
      "WARNING:tensorflow:Using a while_loop for converting Bitcast cause there is no registered converter for this op.\n",
      "WARNING:tensorflow:Using a while_loop for converting StatelessRandomUniformFullIntV2 cause there is no registered converter for this op.\n",
      "WARNING:tensorflow:Using a while_loop for converting StatelessRandomGetKeyCounter cause there is no registered converter for this op.\n",
      "WARNING:tensorflow:Using a while_loop for converting StatelessRandomUniformV2 cause there is no registered converter for this op.\n",
      "WARNING:tensorflow:Using a while_loop for converting AdjustContrastv2 cause Input \"contrast_factor\" of op 'AdjustContrastv2' expected to be loop invariant.\n",
      "WARNING:tensorflow:Using a while_loop for converting RngReadAndSkip cause there is no registered converter for this op.\n",
      "WARNING:tensorflow:Using a while_loop for converting Bitcast cause there is no registered converter for this op.\n",
      "WARNING:tensorflow:Using a while_loop for converting Bitcast cause there is no registered converter for this op.\n",
      "WARNING:tensorflow:Using a while_loop for converting StatelessRandomUniformV2 cause there is no registered converter for this op.\n",
      "WARNING:tensorflow:Using a while_loop for converting ImageProjectiveTransformV3 cause there is no registered converter for this op.\n",
      "WARNING:tensorflow:Using a while_loop for converting RngReadAndSkip cause there is no registered converter for this op.\n",
      "WARNING:tensorflow:Using a while_loop for converting Bitcast cause there is no registered converter for this op.\n",
      "WARNING:tensorflow:Using a while_loop for converting Bitcast cause there is no registered converter for this op.\n",
      "WARNING:tensorflow:Using a while_loop for converting StatelessRandomUniformV2 cause there is no registered converter for this op.\n",
      "WARNING:tensorflow:Using a while_loop for converting RngReadAndSkip cause there is no registered converter for this op.\n",
      "WARNING:tensorflow:Using a while_loop for converting Bitcast cause there is no registered converter for this op.\n",
      "WARNING:tensorflow:Using a while_loop for converting Bitcast cause there is no registered converter for this op.\n",
      "WARNING:tensorflow:Using a while_loop for converting StatelessRandomUniformV2 cause there is no registered converter for this op.\n",
      "WARNING:tensorflow:Using a while_loop for converting RngReadAndSkip cause there is no registered converter for this op.\n",
      "WARNING:tensorflow:Using a while_loop for converting Bitcast cause there is no registered converter for this op.\n",
      "WARNING:tensorflow:Using a while_loop for converting Bitcast cause there is no registered converter for this op.\n",
      "WARNING:tensorflow:Using a while_loop for converting StatelessRandomUniformV2 cause there is no registered converter for this op.\n",
      "WARNING:tensorflow:Using a while_loop for converting RngReadAndSkip cause there is no registered converter for this op.\n",
      "WARNING:tensorflow:Using a while_loop for converting Bitcast cause there is no registered converter for this op.\n",
      "WARNING:tensorflow:Using a while_loop for converting Bitcast cause there is no registered converter for this op.\n",
      "WARNING:tensorflow:Using a while_loop for converting StatelessRandomUniformFullIntV2 cause there is no registered converter for this op.\n",
      "WARNING:tensorflow:Using a while_loop for converting StatelessRandomGetKeyCounter cause there is no registered converter for this op.\n",
      "WARNING:tensorflow:Using a while_loop for converting StatelessRandomUniformV2 cause there is no registered converter for this op.\n",
      "WARNING:tensorflow:Using a while_loop for converting AdjustContrastv2 cause Input \"contrast_factor\" of op 'AdjustContrastv2' expected to be loop invariant.\n",
      "WARNING:tensorflow:Using a while_loop for converting RngReadAndSkip cause there is no registered converter for this op.\n",
      "WARNING:tensorflow:Using a while_loop for converting Bitcast cause there is no registered converter for this op.\n",
      "WARNING:tensorflow:Using a while_loop for converting Bitcast cause there is no registered converter for this op.\n",
      "WARNING:tensorflow:Using a while_loop for converting StatelessRandomUniformV2 cause there is no registered converter for this op.\n",
      "WARNING:tensorflow:Using a while_loop for converting ImageProjectiveTransformV3 cause there is no registered converter for this op.\n",
      "WARNING:tensorflow:Using a while_loop for converting RngReadAndSkip cause there is no registered converter for this op.\n",
      "WARNING:tensorflow:Using a while_loop for converting Bitcast cause there is no registered converter for this op.\n",
      "WARNING:tensorflow:Using a while_loop for converting Bitcast cause there is no registered converter for this op.\n",
      "WARNING:tensorflow:Using a while_loop for converting StatelessRandomUniformV2 cause there is no registered converter for this op.\n",
      "WARNING:tensorflow:Using a while_loop for converting RngReadAndSkip cause there is no registered converter for this op.\n",
      "WARNING:tensorflow:Using a while_loop for converting Bitcast cause there is no registered converter for this op.\n",
      "WARNING:tensorflow:Using a while_loop for converting Bitcast cause there is no registered converter for this op.\n",
      "WARNING:tensorflow:Using a while_loop for converting StatelessRandomUniformV2 cause there is no registered converter for this op.\n",
      "WARNING:tensorflow:Using a while_loop for converting RngReadAndSkip cause there is no registered converter for this op.\n",
      "WARNING:tensorflow:Using a while_loop for converting Bitcast cause there is no registered converter for this op.\n",
      "WARNING:tensorflow:Using a while_loop for converting Bitcast cause there is no registered converter for this op.\n",
      "WARNING:tensorflow:Using a while_loop for converting StatelessRandomUniformV2 cause there is no registered converter for this op.\n",
      "WARNING:tensorflow:Using a while_loop for converting RngReadAndSkip cause there is no registered converter for this op.\n",
      "WARNING:tensorflow:Using a while_loop for converting Bitcast cause there is no registered converter for this op.\n",
      "WARNING:tensorflow:Using a while_loop for converting Bitcast cause there is no registered converter for this op.\n",
      "WARNING:tensorflow:Using a while_loop for converting StatelessRandomUniformFullIntV2 cause there is no registered converter for this op.\n",
      "WARNING:tensorflow:Using a while_loop for converting StatelessRandomGetKeyCounter cause there is no registered converter for this op.\n",
      "WARNING:tensorflow:Using a while_loop for converting StatelessRandomUniformV2 cause there is no registered converter for this op.\n",
      "WARNING:tensorflow:Using a while_loop for converting AdjustContrastv2 cause Input \"contrast_factor\" of op 'AdjustContrastv2' expected to be loop invariant.\n",
      "WARNING:tensorflow:Using a while_loop for converting RngReadAndSkip cause there is no registered converter for this op.\n",
      "WARNING:tensorflow:Using a while_loop for converting Bitcast cause there is no registered converter for this op.\n",
      "WARNING:tensorflow:Using a while_loop for converting Bitcast cause there is no registered converter for this op.\n",
      "WARNING:tensorflow:Using a while_loop for converting StatelessRandomUniformV2 cause there is no registered converter for this op.\n",
      "WARNING:tensorflow:Using a while_loop for converting ImageProjectiveTransformV3 cause there is no registered converter for this op.\n",
      "WARNING:tensorflow:Using a while_loop for converting RngReadAndSkip cause there is no registered converter for this op.\n",
      "WARNING:tensorflow:Using a while_loop for converting Bitcast cause there is no registered converter for this op.\n",
      "WARNING:tensorflow:Using a while_loop for converting Bitcast cause there is no registered converter for this op.\n"
     ]
    },
    {
     "name": "stdout",
     "output_type": "stream",
     "text": [
      "WARNING:tensorflow:Using a while_loop for converting StatelessRandomUniformV2 cause there is no registered converter for this op.\n",
      "WARNING:tensorflow:Using a while_loop for converting RngReadAndSkip cause there is no registered converter for this op.\n",
      "WARNING:tensorflow:Using a while_loop for converting Bitcast cause there is no registered converter for this op.\n",
      "WARNING:tensorflow:Using a while_loop for converting Bitcast cause there is no registered converter for this op.\n",
      "WARNING:tensorflow:Using a while_loop for converting StatelessRandomUniformV2 cause there is no registered converter for this op.\n",
      "96/96 [==============================] - 91s 858ms/step - loss: 0.8315 - accuracy: 0.4896 - precision: 0.4889 - recall: 0.4583 - recall_at_perfect_precision: 0.0417 - val_loss: 0.2321 - val_accuracy: 0.4688 - val_precision: 0.0000e+00 - val_recall: 0.0000e+00 - val_recall_at_perfect_precision: 0.0000e+00\n",
      "Epoch 2/10\n",
      "96/96 [==============================] - 112s 1s/step - loss: 0.2171 - accuracy: 0.4479 - precision: 0.4528 - recall: 0.5000 - recall_at_perfect_precision: 0.0000e+00 - val_loss: 0.2284 - val_accuracy: 0.2292 - val_precision: 0.3088 - val_recall: 0.4375 - val_recall_at_perfect_precision: 0.0000e+00\n",
      "Epoch 3/10\n",
      "96/96 [==============================] - 112s 1s/step - loss: 0.2126 - accuracy: 0.4792 - precision: 0.4878 - recall: 0.8333 - recall_at_perfect_precision: 0.0000e+00 - val_loss: 0.2116 - val_accuracy: 0.4167 - val_precision: 0.4535 - val_recall: 0.8125 - val_recall_at_perfect_precision: 0.0000e+00\n",
      "Epoch 4/10\n",
      "96/96 [==============================] - 101s 1s/step - loss: 0.2084 - accuracy: 0.4896 - precision: 0.4946 - recall: 0.9583 - recall_at_perfect_precision: 0.0000e+00 - val_loss: 0.2080 - val_accuracy: 0.4688 - val_precision: 0.4835 - val_recall: 0.9167 - val_recall_at_perfect_precision: 0.0000e+00\n",
      "Epoch 5/10\n",
      "96/96 [==============================] - 107s 1s/step - loss: 0.2057 - accuracy: 0.4792 - precision: 0.4865 - recall: 0.7500 - recall_at_perfect_precision: 0.0000e+00 - val_loss: 0.2055 - val_accuracy: 0.3958 - val_precision: 0.4405 - val_recall: 0.7708 - val_recall_at_perfect_precision: 0.0000e+00\n",
      "Epoch 6/10\n",
      "96/96 [==============================] - 102s 1s/step - loss: 0.2032 - accuracy: 0.5000 - precision: 0.5000 - recall: 0.7500 - recall_at_perfect_precision: 0.0000e+00 - val_loss: 0.2024 - val_accuracy: 0.5000 - val_precision: 0.5000 - val_recall: 1.0000 - val_recall_at_perfect_precision: 0.0000e+00\n",
      "Epoch 7/10\n",
      "96/96 [==============================] - 110s 1s/step - loss: 0.2012 - accuracy: 0.4479 - precision: 0.4699 - recall: 0.8125 - recall_at_perfect_precision: 0.0000e+00 - val_loss: 0.2005 - val_accuracy: 0.5000 - val_precision: 0.5000 - val_recall: 1.0000 - val_recall_at_perfect_precision: 0.0000e+00\n",
      "Epoch 8/10\n",
      "96/96 [==============================] - 102s 1s/step - loss: 0.1993 - accuracy: 0.5000 - precision: 0.5000 - recall: 0.9167 - recall_at_perfect_precision: 0.0000e+00 - val_loss: 0.1985 - val_accuracy: 0.5000 - val_precision: 0.5000 - val_recall: 1.0000 - val_recall_at_perfect_precision: 0.0000e+00\n",
      "Epoch 9/10\n",
      "96/96 [==============================] - 106s 1s/step - loss: 0.1972 - accuracy: 0.4792 - precision: 0.4878 - recall: 0.8333 - recall_at_perfect_precision: 0.0000e+00 - val_loss: 0.1968 - val_accuracy: 0.5000 - val_precision: 0.5000 - val_recall: 1.0000 - val_recall_at_perfect_precision: 0.0000e+00\n",
      "Epoch 10/10\n",
      "96/96 [==============================] - 112s 1s/step - loss: 0.1951 - accuracy: 0.5312 - precision: 0.5217 - recall: 0.7500 - recall_at_perfect_precision: 0.0000e+00 - val_loss: 0.1958 - val_accuracy: 0.5000 - val_precision: 0.5000 - val_recall: 1.0000 - val_recall_at_perfect_precision: 0.0000e+00\n"
     ]
    },
    {
     "data": {
      "text/plain": [
       "<keras.callbacks.History at 0x2ca674749d0>"
      ]
     },
     "execution_count": 8,
     "metadata": {},
     "output_type": "execute_result"
    }
   ],
   "source": [
    "callbacks = [\n",
    "    tf.keras.callbacks.BackupAndRestore(backup_dir),\n",
    "    tf.keras.callbacks.TensorBoard(log_dir),\n",
    "    tf.keras.callbacks.ModelCheckpoint(f'{ckpt_dir}/{{epoch}}', save_weights_only=True)]\n",
    "\n",
    "model.fit(train_set, epochs=epochs, validation_data=dev_set, callbacks=callbacks)"
   ]
  },
  {
   "cell_type": "code",
   "execution_count": null,
   "id": "f48ae121",
   "metadata": {},
   "outputs": [],
   "source": []
  },
  {
   "cell_type": "code",
   "execution_count": null,
   "id": "ed2d82d8",
   "metadata": {},
   "outputs": [],
   "source": []
  },
  {
   "cell_type": "code",
   "execution_count": null,
   "id": "728e8b9a",
   "metadata": {},
   "outputs": [],
   "source": []
  }
 ],
 "metadata": {
  "kernelspec": {
   "display_name": "Python 3 (ipykernel)",
   "language": "python",
   "name": "python3"
  },
  "language_info": {
   "codemirror_mode": {
    "name": "ipython",
    "version": 3
   },
   "file_extension": ".py",
   "mimetype": "text/x-python",
   "name": "python",
   "nbconvert_exporter": "python",
   "pygments_lexer": "ipython3",
   "version": "3.9.12"
  }
 },
 "nbformat": 4,
 "nbformat_minor": 5
}
