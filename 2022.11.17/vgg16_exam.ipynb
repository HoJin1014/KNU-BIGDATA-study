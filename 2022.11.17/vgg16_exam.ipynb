{
 "cells": [
  {
   "cell_type": "code",
   "execution_count": 1,
   "id": "0ec8f98f",
   "metadata": {},
   "outputs": [],
   "source": [
    "from keras import applications\n",
    "from keras.preprocessing.image import ImageDataGenerator\n",
    "import tensorflow as tf"
   ]
  },
  {
   "cell_type": "code",
   "execution_count": 2,
   "id": "7896d583",
   "metadata": {},
   "outputs": [],
   "source": [
    "IMAGE_SIZE = (2056, 2464)\n",
    "IMAGE_SHAPE = IMAGE_SIZE + (3,)"
   ]
  },
  {
   "cell_type": "code",
   "execution_count": 3,
   "id": "f363e8d9",
   "metadata": {},
   "outputs": [],
   "source": [
    "def get_top_model():\n",
    "    top_model = tf.keras.Sequential([\n",
    "        tf.keras.layers.GlobalAveragePooling2D(),\n",
    "        tf.keras.layers.Dropout(.5),\n",
    "        tf.keras.layers.Dense(256, activation='relu',\n",
    "                              kernel_regularizer=tf.keras.regularizers.L2(l2=0.0001)),\n",
    "        tf.keras.layers.Dropout(.4),\n",
    "        tf.keras.layers.Dense(16, activation='relu',\n",
    "                              kernel_regularizer=tf.keras.regularizers.L2(l2=0.0001)),\n",
    "        tf.keras.layers.Dropout(.3),\n",
    "        tf.keras.layers.Dense(1, activation='sigmoid',\n",
    "                              kernel_regularizer=tf.keras.regularizers.L2(l2=0.0001))], name='top_model')\n",
    "    return top_model"
   ]
  },
  {
   "cell_type": "code",
   "execution_count": 4,
   "id": "ac74e642",
   "metadata": {},
   "outputs": [],
   "source": [
    "def get_data_agumenter():\n",
    "    augmenter = tf.keras.Sequential(name='data_augmenter')\n",
    "    augmenter.add(tf.keras.layers.RandomBrightness(\n",
    "        0.05, value_range=[-1., 1.]))\n",
    "    augmenter.add(tf.keras.layers.RandomContrast(0.05))\n",
    "    augmenter.add(tf.keras.layers.RandomFlip())\n",
    "    augmenter.add(tf.keras.layers.RandomRotation(0.01))\n",
    "    augmenter.add(tf.keras.layers.RandomTranslation(0.06, 0.06))\n",
    "    return augmenter"
   ]
  },
  {
   "cell_type": "code",
   "execution_count": 5,
   "id": "75653c49",
   "metadata": {},
   "outputs": [],
   "source": [
    "class Model(tf.keras.Model):\n",
    "    def __init__(self, *args, **kwargs):\n",
    "        super().__init__(self, *args, **kwargs)\n",
    "\n",
    "        self.augmenter = get_data_agumenter()\n",
    "\n",
    "        self.base_model = tf.keras.applications.VGG16(\n",
    "            include_top=False, weights='imagenet', input_shape=IMAGE_SHAPE)\n",
    "        self.base_model.trainable = False\n",
    "\n",
    "        self.top_model = get_top_model()\n",
    "\n",
    "    def call(self, inputs):\n",
    "        x = self.augmenter(inputs)\n",
    "        x = self.base_model(x)\n",
    "        return self.top_model(x)\n",
    "\n",
    "    @property\n",
    "    def export_model(self):\n",
    "        return tf.keras.Sequential(\n",
    "            [self.get_preprocess_layer(), self.base_model, self.top_model])\n",
    "\n",
    "    @classmethod\n",
    "    def get_preprocess_layer(cls):\n",
    "        return tf.keras.layers.Rescaling(1./127.5, offset=-1, name='rescaling')\n"
   ]
  },
  {
   "cell_type": "code",
   "execution_count": 6,
   "id": "1667117c",
   "metadata": {},
   "outputs": [
    {
     "ename": "NotFoundError",
     "evalue": "Unsuccessful TensorSliceReader constructor: Failed to find any matching files for .ckpt/20221117_0002/10",
     "output_type": "error",
     "traceback": [
      "\u001b[1;31m---------------------------------------------------------------------------\u001b[0m",
      "\u001b[1;31mNotFoundError\u001b[0m                             Traceback (most recent call last)",
      "Input \u001b[1;32mIn [6]\u001b[0m, in \u001b[0;36m<cell line: 4>\u001b[1;34m()\u001b[0m\n\u001b[0;32m      2\u001b[0m restore_epoch \u001b[38;5;241m=\u001b[39m \u001b[38;5;241m10\u001b[39m\n\u001b[0;32m      3\u001b[0m restore_path \u001b[38;5;241m=\u001b[39m \u001b[38;5;124mf\u001b[39m\u001b[38;5;124m'\u001b[39m\u001b[38;5;124m.ckpt/20221117_0002/\u001b[39m\u001b[38;5;132;01m{\u001b[39;00mrestore_epoch\u001b[38;5;132;01m}\u001b[39;00m\u001b[38;5;124m'\u001b[39m\n\u001b[1;32m----> 4\u001b[0m \u001b[43mmodel\u001b[49m\u001b[38;5;241;43m.\u001b[39;49m\u001b[43mload_weights\u001b[49m\u001b[43m(\u001b[49m\u001b[43mrestore_path\u001b[49m\u001b[43m)\u001b[49m\u001b[38;5;241m.\u001b[39mexpect_partial()\n",
      "File \u001b[1;32m~\\AppData\\Roaming\\Python\\Python39\\site-packages\\keras\\utils\\traceback_utils.py:70\u001b[0m, in \u001b[0;36mfilter_traceback.<locals>.error_handler\u001b[1;34m(*args, **kwargs)\u001b[0m\n\u001b[0;32m     67\u001b[0m     filtered_tb \u001b[38;5;241m=\u001b[39m _process_traceback_frames(e\u001b[38;5;241m.\u001b[39m__traceback__)\n\u001b[0;32m     68\u001b[0m     \u001b[38;5;66;03m# To get the full stack trace, call:\u001b[39;00m\n\u001b[0;32m     69\u001b[0m     \u001b[38;5;66;03m# `tf.debugging.disable_traceback_filtering()`\u001b[39;00m\n\u001b[1;32m---> 70\u001b[0m     \u001b[38;5;28;01mraise\u001b[39;00m e\u001b[38;5;241m.\u001b[39mwith_traceback(filtered_tb) \u001b[38;5;28;01mfrom\u001b[39;00m \u001b[38;5;28mNone\u001b[39m\n\u001b[0;32m     71\u001b[0m \u001b[38;5;28;01mfinally\u001b[39;00m:\n\u001b[0;32m     72\u001b[0m     \u001b[38;5;28;01mdel\u001b[39;00m filtered_tb\n",
      "File \u001b[1;32m~\\AppData\\Roaming\\Python\\Python39\\site-packages\\tensorflow\\python\\training\\py_checkpoint_reader.py:31\u001b[0m, in \u001b[0;36merror_translator\u001b[1;34m(e)\u001b[0m\n\u001b[0;32m     27\u001b[0m error_message \u001b[38;5;241m=\u001b[39m \u001b[38;5;28mstr\u001b[39m(e)\n\u001b[0;32m     28\u001b[0m \u001b[38;5;28;01mif\u001b[39;00m \u001b[38;5;124m'\u001b[39m\u001b[38;5;124mnot found in checkpoint\u001b[39m\u001b[38;5;124m'\u001b[39m \u001b[38;5;129;01min\u001b[39;00m error_message \u001b[38;5;129;01mor\u001b[39;00m (\n\u001b[0;32m     29\u001b[0m     \u001b[38;5;124m'\u001b[39m\u001b[38;5;124mFailed to find any \u001b[39m\u001b[38;5;124m'\u001b[39m\n\u001b[0;32m     30\u001b[0m     \u001b[38;5;124m'\u001b[39m\u001b[38;5;124mmatching files for\u001b[39m\u001b[38;5;124m'\u001b[39m) \u001b[38;5;129;01min\u001b[39;00m error_message:\n\u001b[1;32m---> 31\u001b[0m   \u001b[38;5;28;01mraise\u001b[39;00m errors_impl\u001b[38;5;241m.\u001b[39mNotFoundError(\u001b[38;5;28;01mNone\u001b[39;00m, \u001b[38;5;28;01mNone\u001b[39;00m, error_message)\n\u001b[0;32m     32\u001b[0m \u001b[38;5;28;01melif\u001b[39;00m \u001b[38;5;124m'\u001b[39m\u001b[38;5;124mSliced checkpoints are not supported\u001b[39m\u001b[38;5;124m'\u001b[39m \u001b[38;5;129;01min\u001b[39;00m error_message \u001b[38;5;129;01mor\u001b[39;00m (\n\u001b[0;32m     33\u001b[0m     \u001b[38;5;124m'\u001b[39m\u001b[38;5;124mData type \u001b[39m\u001b[38;5;124m'\u001b[39m\n\u001b[0;32m     34\u001b[0m     \u001b[38;5;124m'\u001b[39m\u001b[38;5;124mnot \u001b[39m\u001b[38;5;124m'\u001b[39m\n\u001b[0;32m     35\u001b[0m     \u001b[38;5;124m'\u001b[39m\u001b[38;5;124msupported\u001b[39m\u001b[38;5;124m'\u001b[39m) \u001b[38;5;129;01min\u001b[39;00m error_message:\n\u001b[0;32m     36\u001b[0m   \u001b[38;5;28;01mraise\u001b[39;00m errors_impl\u001b[38;5;241m.\u001b[39mUnimplementedError(\u001b[38;5;28;01mNone\u001b[39;00m, \u001b[38;5;28;01mNone\u001b[39;00m, error_message)\n",
      "\u001b[1;31mNotFoundError\u001b[0m: Unsuccessful TensorSliceReader constructor: Failed to find any matching files for .ckpt/20221117_0002/10"
     ]
    }
   ],
   "source": [
    "model = Model()\n",
    "restore_epoch = 10\n",
    "restore_path = f'.ckpt/20220810_115823/{restore_epoch}'\n",
    "model.load_weights(restore_path).expect_partial()"
   ]
  },
  {
   "cell_type": "code",
   "execution_count": null,
   "id": "6033fe34",
   "metadata": {},
   "outputs": [],
   "source": [
    "train_set = tf.keras.utils.image_dataset_from_directory(\n",
    "    './images/test_set', label_mode='binary', color_mode='rgb', image_size=IMAGE_SIZE, batch_size=1)\n",
    "dev_set = tf.keras.utils.image_dataset_from_directory(\n",
    "    './images/dev_set', label_mode='binary', color_mode='rgb', image_size=IMAGE_SIZE, batch_size=1)\n",
    "\n",
    "preprocess_layer = Model.get_preprocess_layer()\n",
    "dev_set = dev_set.map(lambda x, y: (preprocess_layer(x), y)\n",
    "                      ).prefetch(tf.data.AUTOTUNE)\n",
    "train_set = train_set.map(lambda x, y: (preprocess_layer(x), y)\n",
    "                          ).prefetch(tf.data.AUTOTUNE)"
   ]
  },
  {
   "cell_type": "code",
   "execution_count": null,
   "id": "7335860d",
   "metadata": {},
   "outputs": [],
   "source": [
    "epochs = 10\n",
    "learning_rate = 0.0001\n",
    "\n",
    "model.base_model.trainable = True\n",
    "model.top_model.trainable = False\n",
    "\n",
    "model.compile(optimizer=tf.keras.optimizers.Adam(learning_rate), loss=tf.keras.losses.BinaryFocalCrossentropy(\n",
    "    gamma=2.0, from_logits=False), metrics=[\n",
    "    tf.keras.metrics.BinaryAccuracy(name='accuracy'),\n",
    "    tf.keras.metrics.Precision(name='precision'),\n",
    "    tf.keras.metrics.Recall(name='recall'),\n",
    "    tf.keras.metrics.RecallAtPrecision(1, name='recall_at_perfect_precision')])\n",
    "\n",
    "test_date = '20220816_1032'\n",
    "backup_dir = f'.backup/{test_date}'\n",
    "log_dir = f'.logs/{test_date}'\n",
    "ckpt_dir = f'.ckpt/{test_date}'\n",
    "\n",
    "callbacks = [\n",
    "    tf.keras.callbacks.BackupAndRestore(backup_dir),\n",
    "    tf.keras.callbacks.TensorBoard(log_dir),\n",
    "    tf.keras.callbacks.ModelCheckpoint(f'{ckpt_dir}/{{epoch}}', save_weights_only=True)]\n",
    "\n",
    "model.fit(train_set, epochs=epochs, validation_data=dev_set, callbacks=callbacks)"
   ]
  },
  {
   "cell_type": "code",
   "execution_count": null,
   "id": "ffc8fbab",
   "metadata": {},
   "outputs": [],
   "source": []
  },
  {
   "cell_type": "code",
   "execution_count": null,
   "id": "89e08589",
   "metadata": {},
   "outputs": [],
   "source": []
  },
  {
   "cell_type": "code",
   "execution_count": null,
   "id": "978fa9bc",
   "metadata": {},
   "outputs": [],
   "source": []
  },
  {
   "cell_type": "code",
   "execution_count": null,
   "id": "cd498e08",
   "metadata": {},
   "outputs": [],
   "source": []
  },
  {
   "cell_type": "code",
   "execution_count": null,
   "id": "17294258",
   "metadata": {},
   "outputs": [],
   "source": []
  }
 ],
 "metadata": {
  "kernelspec": {
   "display_name": "Python 3 (ipykernel)",
   "language": "python",
   "name": "python3"
  },
  "language_info": {
   "codemirror_mode": {
    "name": "ipython",
    "version": 3
   },
   "file_extension": ".py",
   "mimetype": "text/x-python",
   "name": "python",
   "nbconvert_exporter": "python",
   "pygments_lexer": "ipython3",
   "version": "3.9.12"
  }
 },
 "nbformat": 4,
 "nbformat_minor": 5
}
