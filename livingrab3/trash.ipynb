{
 "cells": [
  {
   "cell_type": "code",
   "execution_count": 1,
   "id": "e1409350",
   "metadata": {
    "scrolled": true
   },
   "outputs": [],
   "source": [
    "# 모듈 로딩\n",
    "import os\n",
    "import cv2\n",
    "import numpy as np\n",
    "import pandas as pd\n",
    "import warnings\n",
    "warnings.filterwarnings('ignore')\n",
    "import matplotlib.pyplot as plt\n",
    "from PIL import Image\n",
    "from bs4 import BeautifulSoup\n",
    "from selenium import webdriver\n",
    "from tensorflow.keras import Sequential\n",
    "from sklearn.utils import all_estimators\n",
    "from sklearn.linear_model import LogisticRegression\n",
    "from sklearn.model_selection import train_test_split\n",
    "from urllib.request import urlopen,Request,urlretrieve\n",
    "from tensorflow.keras.utils import set_random_seed, plot_model\n",
    "from tensorflow.keras.preprocessing.image import ImageDataGenerator\n",
    "from tensorflow.keras.layers import Dense, Conv2D, Flatten, MaxPool2D, MaxPooling2D"
   ]
  },
  {
   "cell_type": "code",
   "execution_count": 2,
   "id": "f58e53b1",
   "metadata": {},
   "outputs": [],
   "source": [
    "# # 한글폰트\n",
    "# if platform.system()=='Windows':\n",
    "#     plt.rc('font',family='Malgun Gothic')\n",
    "# else:\n",
    "#     plt.rc('font',family='AppleGothic')"
   ]
  },
  {
   "cell_type": "code",
   "execution_count": 3,
   "id": "b4df0450",
   "metadata": {},
   "outputs": [],
   "source": [
    "# # 흑백으로 로테이션\n",
    "# rota_save('L','blwh')\n",
    "\n",
    "# # rgb로 로테이션\n",
    "# rota_save('RGB','rgb')"
   ]
  },
  {
   "cell_type": "code",
   "execution_count": 4,
   "id": "a839052a",
   "metadata": {},
   "outputs": [],
   "source": [
    "# # 크롤링 데이터 convert 함수\n",
    "# def data_con(color,foldname):\n",
    "#     for file in os.listdir('./data/'):\n",
    "#         img=Image.open('./data/'+file).convert(color).save('./'+foldname+'/'+file)"
   ]
  },
  {
   "cell_type": "code",
   "execution_count": 5,
   "id": "fa9c50c7",
   "metadata": {},
   "outputs": [],
   "source": [
    "# # 원본사진 흑백으로\n",
    "# data_con('L','blwh')\n",
    "\n",
    "# # 원본사진 색깔로\n",
    "# data_con('RGB','rgb')"
   ]
  },
  {
   "cell_type": "code",
   "execution_count": 6,
   "id": "2935683e",
   "metadata": {},
   "outputs": [],
   "source": [
    "def solution(foldname):\n",
    "    l=[]\n",
    "    for i in os.listdir('./'+foldname+'/'):\n",
    "        n=np.array(Image.open('./'+foldname+'/'+i))/255.0\n",
    "        if foldname=='blwh':\n",
    "           n_list=n.reshape(-1,50,50)[0].tolist()\n",
    "        else:\n",
    "            n_list=n.reshape(-1,50,50,3)[0].tolist()\n",
    "        l.append(n_list)\n",
    "    return np.array(l)"
   ]
  },
  {
   "cell_type": "code",
   "execution_count": 7,
   "id": "697198f4",
   "metadata": {},
   "outputs": [],
   "source": [
    "# 동적 웹 크롤링으로 사진저장 함수\n",
    "def image_save(urlpath,charname):\n",
    "    driver = webdriver.Chrome('chromedriver.exe') # C:/Users/User/EXAM_PANDAS/DAY-0630/DAY-0920\n",
    "    #driver = webdriver.Chrome('C:\\\\workspace’) # Windows 사용자의 설치 경로\n",
    "    driver.get(urlpath)\n",
    "    html=driver.page_source\n",
    "    soup=BeautifulSoup(html,'html.parser')\n",
    "    driver.quit()\n",
    "\n",
    "    # 태그-속성 찾기\n",
    "    image_finds=soup.select(\"div.bRMDJf img\")\n",
    "    \n",
    "    # 이미지의 url찾기\n",
    "    image=[]\n",
    "    for image_find in image_finds:\n",
    "        try:\n",
    "            image.append(image_find['src'])\n",
    "            image.append(image_find['data-src'])\n",
    "        except:\n",
    "            pass\n",
    "    \n",
    "    # 폴더 만들기\n",
    "    if not os.path.exists('./trashdata'+charname):\n",
    "        os.makedirs('./trashdata'+charname)\n",
    "    \n",
    "    # 파일 저장하기\n",
    "    for i in range(0,len(image)):\n",
    "        urlretrieve(image[i],'./trashdata'+charname+'/'+charname+str(i)+'.png')\n",
    "\n",
    "    # 파일 크기 조절\n",
    "    for png in os.listdir('./trashdata'+charname):\n",
    "        Image.open('./trashdata'+charname+'/'+png).resize((50,50)).save('./trashdata'+charname+'/'+png)"
   ]
  },
  {
   "cell_type": "code",
   "execution_count": 8,
   "id": "eafd3381",
   "metadata": {},
   "outputs": [],
   "source": [
    "# 메탈 쓰레기\n",
    "image_save('https://www.google.com/search?q=%EB%A9%94%ED%83%88%EC%93%B0%EB%A0%88%EA%B8%B0&sxsrf=ALiCzsYgMTaD8UrBJjZcoXB0ejjjZXE0og:1667533346124&source=lnms&tbm=isch&sa=X&ved=2ahUKEwiisPzlzZP7AhXaNt4KHdZ5DHUQ_AUoAXoECAEQAw&biw=852&bih=946&dpr=1.5','metal')\n",
    "\n",
    "# 유리 쓰레기\n",
    "image_save('https://www.google.com/search?q=%EC%9C%A0%EB%A6%AC%EC%93%B0%EB%A0%88%EA%B8%B0&sxsrf=ALiCzsaq14G6Dozn2OoZypk41jDZtJOT7g:1667533415257&source=lnms&tbm=isch&sa=X&ved=2ahUKEwjh-PeGzpP7AhVcl1YBHd5eDegQ_AUoAXoECAIQAw&biw=852&bih=946&dpr=1.5', 'glass')\n",
    "\n",
    "# 종이 쓰레기\n",
    "image_save('https://www.google.com/search?q=%EC%A2%85%EC%9D%B4%EC%93%B0%EB%A0%88%EA%B8%B0&sxsrf=ALiCzsYC9L5qJdGyqmMqqjakLIj1HulBow:1667533460827&source=lnms&tbm=isch&sa=X&ved=2ahUKEwiHrNWczpP7AhUGmFYBHVyVBTUQ_AUoAXoECAEQAw&biw=852&bih=946&dpr=1.5', 'paper')\n",
    "\n",
    "# 플라스틱 쓰레기\n",
    "image_save('https://www.google.com/search?q=%ED%94%8C%EB%9D%BC%EC%8A%A4%ED%8B%B1%EC%93%B0%EB%A0%88%EA%B8%B0&sxsrf=ALiCzsbGqKr6AF6F6TpdksGB2H7Kl3qI1A:1667533505972&source=lnms&tbm=isch&sa=X&ved=2ahUKEwit0JiyzpP7AhXfrlYBHZSfAi0Q_AUoAXoECAIQAw&biw=852&bih=946&dpr=1.5', 'plastic')\n",
    "\n",
    "# 음식물 쓰레기\n",
    "image_save('https://www.google.com/search?q=%EC%9D%8C%EC%8B%9D%EB%AC%BC+%EC%93%B0%EB%A0%88%EA%B8%B0&sxsrf=ALiCzsYd6U9ofgUrESbI6v60-pYMq5hkfQ:1667533565760&source=lnms&tbm=isch&sa=X&ved=2ahUKEwix5tnOzpP7AhVSm1YBHc5wBuQQ_AUoAXoECAIQAw&biw=852&bih=946&dpr=1.5', 'food')\n",
    "\n",
    "# 건전지 쓰레기\n",
    "image_save('https://www.google.com/search?q=%EA%B1%B4%EC%A0%84%EC%A7%80+%EC%93%B0%EB%A0%88%EA%B8%B0&sxsrf=ALiCzsb6pS2n5n6mUXzgnSm8ZcFzlaL-SQ:1667533619052&source=lnms&tbm=isch&sa=X&ved=2ahUKEwi2zY7ozpP7AhW_plYBHcylCLMQ_AUoAXoECAEQAw&biw=852&bih=946&dpr=1.5', 'battery')"
   ]
  },
  {
   "cell_type": "code",
   "execution_count": 9,
   "id": "81ca741d",
   "metadata": {},
   "outputs": [],
   "source": [
    "def rota_save_bw(color,foldname,data):\n",
    "    # 폴더 만들기\n",
    "    if not os.path.exists('./'+foldname):\n",
    "        os.makedirs(foldname)\n",
    "    \n",
    "    rotation=[45,90,135,180,225,270,315]\n",
    "    for file in os.listdir('./'+data+'/'):\n",
    "        for rot in rotation:\n",
    "            img=np.array(Image.open('./'+data+'/'+file).convert(color))\n",
    "            rows,cols = img.shape[0:2]\n",
    "            ro_mt = cv2.getRotationMatrix2D((cols/2,rows/2),rot,1.42)\n",
    "            ro_img = cv2.warpAffine(img, ro_mt,(cols, rows))\n",
    "            \n",
    "            # 이미지 저장\n",
    "            filename=f\"{file}_ro{str(rot)}\"\n",
    "            cv2.imwrite('./'+foldname+'/'+filename+'.png',ro_img)"
   ]
  },
  {
   "cell_type": "code",
   "execution_count": 10,
   "id": "70b202a1",
   "metadata": {},
   "outputs": [],
   "source": [
    "# 크롤링 데이터 로테이션시키는 함수\n",
    "def rota_save_co(color,foldname,data):\n",
    "    # 폴더 만들기\n",
    "    if not os.path.exists('./'+foldname):\n",
    "        os.makedirs(foldname)\n",
    "    \n",
    "    rotation=[45,90,135,180,225,270,315]\n",
    "    for file in os.listdir('./'+data+'/'):\n",
    "        for rot in rotation:\n",
    "            img=np.array(Image.open('./'+data+'/'+file).convert(color))\n",
    "            img = cv2.cvtColor(img, cv2.COLOR_BGR2RGB)\n",
    "            rows,cols = img.shape[0:2]\n",
    "            ro_mt = cv2.getRotationMatrix2D((cols/2,rows/2),rot,1.42)\n",
    "            ro_img = cv2.warpAffine(img, ro_mt,(cols, rows))\n",
    "            \n",
    "            # 이미지 저장\n",
    "            filename=f\"{file}_ro{str(rot)}\"\n",
    "            cv2.imwrite('./'+foldname+'/'+filename+'.png',ro_img)"
   ]
  },
  {
   "cell_type": "code",
   "execution_count": 11,
   "id": "1f7571a9",
   "metadata": {},
   "outputs": [],
   "source": [
    "# # 크롤링 데이터 로테이션시키는 함수\n",
    "# def rota_save(color,foldname,data):\n",
    "#     # 폴더 만들기\n",
    "#     if not os.path.exists('./'+foldname):\n",
    "#         os.makedirs(foldname)\n",
    "    \n",
    "#     rotation=[45,90,135,180,225,270,315]\n",
    "#     for file in os.listdir('./'+data+'/'):\n",
    "#         for rot in rotation:\n",
    "#             img=np.array(Image.open('./'+file).convert(color))\n",
    "#             rows,cols = img.shape[0:2]\n",
    "#             ro_mt = cv2.getRotationMatrix2D((cols/2,rows/2),rot,1.42)\n",
    "#             ro_img = cv2.warpAffine(img, ro_mt,(cols, rows))\n",
    "            \n",
    "#             # 이미지 저장\n",
    "#             filename=f\"{file}_ro{str(rot)}\"\n",
    "#             cv2.imwrite('./'+foldname+'/'+filename+'.png',ro_img)"
   ]
  },
  {
   "cell_type": "code",
   "execution_count": 12,
   "id": "b80194a9",
   "metadata": {},
   "outputs": [],
   "source": [
    "# 크롤링 데이터 convert 함수\n",
    "def data_con(color,foldname):\n",
    "    for file in os.listdir('./data/'):\n",
    "        img=Image.open('./data/'+file).convert(color).save('./'+foldname+'/'+file)"
   ]
  },
  {
   "cell_type": "code",
   "execution_count": 17,
   "id": "560a2c9f",
   "metadata": {},
   "outputs": [],
   "source": [
    "# 흑백으로 로테이션\n",
    "rota_save_bw('L','blwh','trashdatametal')\n",
    "rota_save_bw('L','blwh','trashdataglass')\n",
    "rota_save_bw('L','blwh','trashdatapaper')\n",
    "rota_save_bw('L','blwh','trashdataplastic')\n",
    "rota_save_bw('L','blwh','trashdatafood')\n",
    "rota_save_bw('L','blwh','trashdatabattery')"
   ]
  },
  {
   "cell_type": "code",
   "execution_count": 14,
   "id": "6b232f27",
   "metadata": {},
   "outputs": [],
   "source": [
    "# # 원본사진 흑백으로\n",
    "# data_con('L','blwh')"
   ]
  },
  {
   "cell_type": "code",
   "execution_count": 18,
   "id": "ffa9ed02",
   "metadata": {},
   "outputs": [],
   "source": [
    "# rgb로 로테이션\n",
    "rota_save_co('RGB','rgb','trashdatametal')\n",
    "rota_save_co('RGB','rgb','trashdataglass')\n",
    "rota_save_co('RGB','rgb','trashdatapaper')\n",
    "rota_save_co('RGB','rgb','trashdataplastic')\n",
    "rota_save_co('RGB','rgb','trashdatafood')\n",
    "rota_save_co('RGB','rgb','trashdatabattery')"
   ]
  },
  {
   "cell_type": "code",
   "execution_count": 21,
   "id": "68ae2b58",
   "metadata": {},
   "outputs": [],
   "source": [
    "# # 원본사진 색깔로\n",
    "# data_con('RGB','rgb','trashdatametal')\n",
    "# data_con('RGB','rgb','trashdataglass')\n",
    "# data_con('RGB','rgb','trashdatapaper')\n",
    "# data_con('RGB','rgb','trashdataplastic')\n",
    "# data_con('RGB','rgb','trashdatafood')\n",
    "# data_con('RGB','rgb','trashdatabattery')"
   ]
  },
  {
   "cell_type": "code",
   "execution_count": 22,
   "id": "5814a2d3",
   "metadata": {},
   "outputs": [],
   "source": [
    "def solution(foldname):\n",
    "    l=[]\n",
    "    for i in os.listdir('./'+foldname+'/'):\n",
    "        n=np.array(Image.open('./'+foldname+'/'+i))/255.0\n",
    "        if foldname=='blwh':\n",
    "           n_list=n.reshape(-1,50*50)[0].tolist()\n",
    "        else:\n",
    "            n_list=n.reshape(-1,50*50,3)[0].tolist()\n",
    "        l.append(n_list)\n",
    "    return np.array(l)"
   ]
  },
  {
   "cell_type": "code",
   "execution_count": 23,
   "id": "a5ac4251",
   "metadata": {},
   "outputs": [
    {
     "data": {
      "text/plain": [
       "array([[0.08235294, 0.48235294, 0.70588235, ..., 0.62352941, 0.71372549,\n",
       "        0.79607843],\n",
       "       [0.77647059, 0.72941176, 0.56862745, ..., 0.40392157, 0.37647059,\n",
       "        0.38039216],\n",
       "       [0.00784314, 0.04705882, 0.09803922, ..., 0.35686275, 0.35294118,\n",
       "        0.34901961],\n",
       "       ...,\n",
       "       [0.36862745, 0.32156863, 0.27843137, ..., 0.09803922, 0.24705882,\n",
       "        0.44313725],\n",
       "       [0.4745098 , 0.49803922, 0.52156863, ..., 0.50980392, 0.35686275,\n",
       "        0.22352941],\n",
       "       [0.24313725, 0.2       , 0.35294118, ..., 0.58039216, 0.58039216,\n",
       "        0.34901961]])"
      ]
     },
     "execution_count": 23,
     "metadata": {},
     "output_type": "execute_result"
    }
   ],
   "source": [
    "blwh=solution('blwh')\n",
    "blwh"
   ]
  },
  {
   "cell_type": "code",
   "execution_count": 24,
   "id": "bf9990bc",
   "metadata": {},
   "outputs": [
    {
     "name": "stdout",
     "output_type": "stream",
     "text": [
      "흑백 사진 데이터 모양 (1120, 2500)\n"
     ]
    }
   ],
   "source": [
    "print(f\"흑백 사진 데이터 모양 {blwh.shape}\")"
   ]
  },
  {
   "cell_type": "code",
   "execution_count": 25,
   "id": "4e8920fc",
   "metadata": {},
   "outputs": [
    {
     "data": {
      "text/plain": [
       "array([[[0.08627451, 0.08235294, 0.08235294],\n",
       "        [0.49803922, 0.47843137, 0.45882353],\n",
       "        [0.73333333, 0.70196078, 0.6627451 ],\n",
       "        ...,\n",
       "        [0.6       , 0.63137255, 0.63529412],\n",
       "        [0.71372549, 0.71764706, 0.70196078],\n",
       "        [0.81960784, 0.79215686, 0.74901961]],\n",
       "\n",
       "       [[0.77647059, 0.77647059, 0.76078431],\n",
       "        [0.72156863, 0.7372549 , 0.71372549],\n",
       "        [0.54117647, 0.58431373, 0.55294118],\n",
       "        ...,\n",
       "        [0.4       , 0.41568627, 0.34901961],\n",
       "        [0.39215686, 0.37254902, 0.34509804],\n",
       "        [0.39215686, 0.38039216, 0.35294118]],\n",
       "\n",
       "       [[0.00784314, 0.00784314, 0.01176471],\n",
       "        [0.05490196, 0.04705882, 0.05882353],\n",
       "        [0.08627451, 0.10588235, 0.09411765],\n",
       "        ...,\n",
       "        [0.38039216, 0.34901961, 0.34117647],\n",
       "        [0.37647059, 0.34509804, 0.3372549 ],\n",
       "        [0.37254902, 0.34117647, 0.33333333]],\n",
       "\n",
       "       ...,\n",
       "\n",
       "       [[0.36078431, 0.37254902, 0.36078431],\n",
       "        [0.34117647, 0.31764706, 0.30196078],\n",
       "        [0.29803922, 0.27058824, 0.26666667],\n",
       "        ...,\n",
       "        [0.09803922, 0.09803922, 0.09019608],\n",
       "        [0.24705882, 0.24705882, 0.24313725],\n",
       "        [0.43529412, 0.44705882, 0.44705882]],\n",
       "\n",
       "       [[0.43529412, 0.48235294, 0.5372549 ],\n",
       "        [0.47843137, 0.49803922, 0.52156863],\n",
       "        [0.53333333, 0.51764706, 0.50588235],\n",
       "        ...,\n",
       "        [0.52156863, 0.50588235, 0.48627451],\n",
       "        [0.36470588, 0.35686275, 0.34901961],\n",
       "        [0.22745098, 0.22352941, 0.22745098]],\n",
       "\n",
       "       [[0.25490196, 0.23529412, 0.26666667],\n",
       "        [0.21176471, 0.18823529, 0.23529412],\n",
       "        [0.34117647, 0.34901961, 0.38823529],\n",
       "        ...,\n",
       "        [0.57254902, 0.59607843, 0.53333333],\n",
       "        [0.55686275, 0.60392157, 0.55294118],\n",
       "        [0.3254902 , 0.35686275, 0.38039216]]])"
      ]
     },
     "execution_count": 25,
     "metadata": {},
     "output_type": "execute_result"
    }
   ],
   "source": [
    "rgb=solution('rgb')\n",
    "rgb"
   ]
  },
  {
   "cell_type": "code",
   "execution_count": 26,
   "id": "6f99cfb8",
   "metadata": {},
   "outputs": [
    {
     "name": "stdout",
     "output_type": "stream",
     "text": [
      "컬러 사진 데이터 모양 (1120, 2500, 3)\n"
     ]
    }
   ],
   "source": [
    "print(f\"컬러 사진 데이터 모양 {rgb.shape}\")"
   ]
  },
  {
   "cell_type": "code",
   "execution_count": 27,
   "id": "a2c574e5",
   "metadata": {
    "scrolled": true
   },
   "outputs": [
    {
     "data": {
      "text/plain": [
       "array([[[0.08627451, 0.08235294, 0.08235294],\n",
       "        [0.49803922, 0.47843137, 0.45882353],\n",
       "        [0.73333333, 0.70196078, 0.6627451 ],\n",
       "        ...,\n",
       "        [0.6       , 0.63137255, 0.63529412],\n",
       "        [0.71372549, 0.71764706, 0.70196078],\n",
       "        [0.81960784, 0.79215686, 0.74901961]],\n",
       "\n",
       "       [[0.77647059, 0.77647059, 0.76078431],\n",
       "        [0.72156863, 0.7372549 , 0.71372549],\n",
       "        [0.54117647, 0.58431373, 0.55294118],\n",
       "        ...,\n",
       "        [0.4       , 0.41568627, 0.34901961],\n",
       "        [0.39215686, 0.37254902, 0.34509804],\n",
       "        [0.39215686, 0.38039216, 0.35294118]],\n",
       "\n",
       "       [[0.00784314, 0.00784314, 0.01176471],\n",
       "        [0.05490196, 0.04705882, 0.05882353],\n",
       "        [0.08627451, 0.10588235, 0.09411765],\n",
       "        ...,\n",
       "        [0.38039216, 0.34901961, 0.34117647],\n",
       "        [0.37647059, 0.34509804, 0.3372549 ],\n",
       "        [0.37254902, 0.34117647, 0.33333333]],\n",
       "\n",
       "       ...,\n",
       "\n",
       "       [[0.36078431, 0.37254902, 0.36078431],\n",
       "        [0.34117647, 0.31764706, 0.30196078],\n",
       "        [0.29803922, 0.27058824, 0.26666667],\n",
       "        ...,\n",
       "        [0.09803922, 0.09803922, 0.09019608],\n",
       "        [0.24705882, 0.24705882, 0.24313725],\n",
       "        [0.43529412, 0.44705882, 0.44705882]],\n",
       "\n",
       "       [[0.43529412, 0.48235294, 0.5372549 ],\n",
       "        [0.47843137, 0.49803922, 0.52156863],\n",
       "        [0.53333333, 0.51764706, 0.50588235],\n",
       "        ...,\n",
       "        [0.52156863, 0.50588235, 0.48627451],\n",
       "        [0.36470588, 0.35686275, 0.34901961],\n",
       "        [0.22745098, 0.22352941, 0.22745098]],\n",
       "\n",
       "       [[0.25490196, 0.23529412, 0.26666667],\n",
       "        [0.21176471, 0.18823529, 0.23529412],\n",
       "        [0.34117647, 0.34901961, 0.38823529],\n",
       "        ...,\n",
       "        [0.57254902, 0.59607843, 0.53333333],\n",
       "        [0.55686275, 0.60392157, 0.55294118],\n",
       "        [0.3254902 , 0.35686275, 0.38039216]]])"
      ]
     },
     "execution_count": 27,
     "metadata": {},
     "output_type": "execute_result"
    }
   ],
   "source": [
    "rgb"
   ]
  },
  {
   "cell_type": "code",
   "execution_count": 37,
   "id": "5623a744",
   "metadata": {},
   "outputs": [
    {
     "data": {
      "text/plain": [
       "<matplotlib.image.AxesImage at 0x24bc33309a0>"
      ]
     },
     "execution_count": 37,
     "metadata": {},
     "output_type": "execute_result"
    },
    {
     "data": {
      "image/png": "[encoded data removed]",
      "text/plain": [
       "<Figure size 432x288 with 1 Axes>"
      ]
     },
     "metadata": {
      "needs_background": "light"
     },
     "output_type": "display_data"
    }
   ],
   "source": [
    "# 그래프 그려보기 => 컬러\n",
    "plt.imshow(rgb[1100].reshape(50,50,3))"
   ]
  },
  {
   "cell_type": "code",
   "execution_count": null,
   "id": "62823bf2",
   "metadata": {},
   "outputs": [],
   "source": [
    "# 흑백 그래프 그려보기 => 흑백\n",
    "plt.imshow(rgb[768].reshape(50,50,3),cmap='gray')"
   ]
  },
  {
   "cell_type": "code",
   "execution_count": 38,
   "id": "32cc57f5",
   "metadata": {},
   "outputs": [
    {
     "data": {
      "text/plain": [
       "<matplotlib.image.AxesImage at 0x24bc2ff1310>"
      ]
     },
     "execution_count": 38,
     "metadata": {},
     "output_type": "execute_result"
    },
    {
     "data": {
      "image/png": "[encoded data removed]",
      "text/plain": [
       "<Figure size 432x288 with 1 Axes>"
      ]
     },
     "metadata": {
      "needs_background": "light"
     },
     "output_type": "display_data"
    }
   ],
   "source": [
    "# 흑백 그래프 그려보기 => 흑백\n",
    "plt.imshow(rgb[768].reshape(50,50,3),cmap='gray')"
   ]
  },
  {
   "cell_type": "code",
   "execution_count": null,
   "id": "7a8147fb",
   "metadata": {},
   "outputs": [],
   "source": []
  },
  {
   "cell_type": "code",
   "execution_count": 39,
   "id": "aabeb850",
   "metadata": {},
   "outputs": [
    {
     "data": {
      "text/plain": [
       "['battery',\n",
       " 'battery',\n",
       " 'battery',\n",
       " 'battery',\n",
       " 'battery',\n",
       " 'battery',\n",
       " 'battery',\n",
       " 'battery',\n",
       " 'battery',\n",
       " 'battery',\n",
       " 'battery',\n",
       " 'battery',\n",
       " 'battery',\n",
       " 'battery',\n",
       " 'battery',\n",
       " 'battery',\n",
       " 'battery',\n",
       " 'battery',\n",
       " 'battery',\n",
       " 'battery',\n",
       " 'battery',\n",
       " 'battery',\n",
       " 'battery',\n",
       " 'battery',\n",
       " 'battery',\n",
       " 'battery',\n",
       " 'battery',\n",
       " 'battery',\n",
       " 'battery',\n",
       " 'battery',\n",
       " 'battery',\n",
       " 'battery',\n",
       " 'battery',\n",
       " 'battery',\n",
       " 'battery',\n",
       " 'battery',\n",
       " 'battery',\n",
       " 'battery',\n",
       " 'battery',\n",
       " 'battery',\n",
       " 'battery',\n",
       " 'battery',\n",
       " 'battery',\n",
       " 'battery',\n",
       " 'battery',\n",
       " 'battery',\n",
       " 'battery',\n",
       " 'battery',\n",
       " 'battery',\n",
       " 'battery',\n",
       " 'battery',\n",
       " 'battery',\n",
       " 'battery',\n",
       " 'battery',\n",
       " 'battery',\n",
       " 'battery',\n",
       " 'battery',\n",
       " 'battery',\n",
       " 'battery',\n",
       " 'battery',\n",
       " 'battery',\n",
       " 'battery',\n",
       " 'battery',\n",
       " 'battery',\n",
       " 'battery',\n",
       " 'battery',\n",
       " 'battery',\n",
       " 'battery',\n",
       " 'battery',\n",
       " 'battery',\n",
       " 'battery',\n",
       " 'battery',\n",
       " 'battery',\n",
       " 'battery',\n",
       " 'battery',\n",
       " 'battery',\n",
       " 'battery',\n",
       " 'battery',\n",
       " 'battery',\n",
       " 'battery',\n",
       " 'battery',\n",
       " 'battery',\n",
       " 'battery',\n",
       " 'battery',\n",
       " 'battery',\n",
       " 'battery',\n",
       " 'battery',\n",
       " 'battery',\n",
       " 'battery',\n",
       " 'battery',\n",
       " 'battery',\n",
       " 'battery',\n",
       " 'battery',\n",
       " 'battery',\n",
       " 'battery',\n",
       " 'battery',\n",
       " 'battery',\n",
       " 'battery',\n",
       " 'battery',\n",
       " 'battery',\n",
       " 'battery',\n",
       " 'battery',\n",
       " 'battery',\n",
       " 'battery',\n",
       " 'battery',\n",
       " 'battery',\n",
       " 'battery',\n",
       " 'battery',\n",
       " 'battery',\n",
       " 'battery',\n",
       " 'battery',\n",
       " 'battery',\n",
       " 'battery',\n",
       " 'battery',\n",
       " 'battery',\n",
       " 'battery',\n",
       " 'battery',\n",
       " 'battery',\n",
       " 'battery',\n",
       " 'battery',\n",
       " 'battery',\n",
       " 'battery',\n",
       " 'battery',\n",
       " 'battery',\n",
       " 'battery',\n",
       " 'battery',\n",
       " 'battery',\n",
       " 'battery',\n",
       " 'battery',\n",
       " 'battery',\n",
       " 'battery',\n",
       " 'battery',\n",
       " 'battery',\n",
       " 'battery',\n",
       " 'battery',\n",
       " 'battery',\n",
       " 'battery',\n",
       " 'battery',\n",
       " 'battery',\n",
       " 'battery',\n",
       " 'battery',\n",
       " 'battery',\n",
       " 'battery',\n",
       " 'battery',\n",
       " 'battery',\n",
       " 'battery',\n",
       " 'battery',\n",
       " 'battery',\n",
       " 'battery',\n",
       " 'battery',\n",
       " 'battery',\n",
       " 'battery',\n",
       " 'battery',\n",
       " 'battery',\n",
       " 'battery',\n",
       " 'battery',\n",
       " 'battery',\n",
       " 'battery',\n",
       " 'battery',\n",
       " 'battery',\n",
       " 'battery',\n",
       " 'battery',\n",
       " 'battery',\n",
       " 'battery',\n",
       " 'battery',\n",
       " 'battery',\n",
       " 'battery',\n",
       " 'battery',\n",
       " 'battery',\n",
       " 'battery',\n",
       " 'battery',\n",
       " 'battery',\n",
       " 'battery',\n",
       " 'battery',\n",
       " 'battery',\n",
       " 'battery',\n",
       " 'battery',\n",
       " 'battery',\n",
       " 'battery',\n",
       " 'battery',\n",
       " 'battery',\n",
       " 'battery',\n",
       " 'battery',\n",
       " 'battery',\n",
       " 'battery',\n",
       " 'battery',\n",
       " 'battery',\n",
       " 'battery',\n",
       " 'battery',\n",
       " 'battery',\n",
       " 'battery',\n",
       " 'battery',\n",
       " 'battery',\n",
       " 'battery',\n",
       " 'battery',\n",
       " 'battery',\n",
       " 'battery',\n",
       " 'battery',\n",
       " 'battery',\n",
       " 'battery',\n",
       " 'battery',\n",
       " 'battery',\n",
       " 'battery',\n",
       " 'battery',\n",
       " 'battery',\n",
       " 'battery',\n",
       " 'battery',\n",
       " 'battery',\n",
       " 'battery',\n",
       " 'battery',\n",
       " 'food',\n",
       " 'food',\n",
       " 'food',\n",
       " 'food',\n",
       " 'food',\n",
       " 'food',\n",
       " 'food',\n",
       " 'food',\n",
       " 'food',\n",
       " 'food',\n",
       " 'food',\n",
       " 'food',\n",
       " 'food',\n",
       " 'food',\n",
       " 'food',\n",
       " 'food',\n",
       " 'food',\n",
       " 'food',\n",
       " 'food',\n",
       " 'food',\n",
       " 'food',\n",
       " 'food',\n",
       " 'food',\n",
       " 'food',\n",
       " 'food',\n",
       " 'food',\n",
       " 'food',\n",
       " 'food',\n",
       " 'food',\n",
       " 'food',\n",
       " 'food',\n",
       " 'food',\n",
       " 'food',\n",
       " 'food',\n",
       " 'food',\n",
       " 'food',\n",
       " 'food',\n",
       " 'food',\n",
       " 'food',\n",
       " 'food',\n",
       " 'food',\n",
       " 'food',\n",
       " 'food',\n",
       " 'food',\n",
       " 'food',\n",
       " 'food',\n",
       " 'food',\n",
       " 'food',\n",
       " 'food',\n",
       " 'food',\n",
       " 'food',\n",
       " 'food',\n",
       " 'food',\n",
       " 'food',\n",
       " 'food',\n",
       " 'food',\n",
       " 'food',\n",
       " 'food',\n",
       " 'food',\n",
       " 'food',\n",
       " 'food',\n",
       " 'food',\n",
       " 'food',\n",
       " 'food',\n",
       " 'food',\n",
       " 'food',\n",
       " 'food',\n",
       " 'food',\n",
       " 'food',\n",
       " 'food',\n",
       " 'food',\n",
       " 'food',\n",
       " 'food',\n",
       " 'food',\n",
       " 'food',\n",
       " 'food',\n",
       " 'food',\n",
       " 'food',\n",
       " 'food',\n",
       " 'food',\n",
       " 'food',\n",
       " 'food',\n",
       " 'food',\n",
       " 'food',\n",
       " 'food',\n",
       " 'food',\n",
       " 'food',\n",
       " 'food',\n",
       " 'food',\n",
       " 'food',\n",
       " 'food',\n",
       " 'food',\n",
       " 'food',\n",
       " 'food',\n",
       " 'food',\n",
       " 'food',\n",
       " 'food',\n",
       " 'food',\n",
       " 'food',\n",
       " 'food',\n",
       " 'food',\n",
       " 'food',\n",
       " 'food',\n",
       " 'food',\n",
       " 'food',\n",
       " 'food',\n",
       " 'food',\n",
       " 'food',\n",
       " 'food',\n",
       " 'food',\n",
       " 'food',\n",
       " 'food',\n",
       " 'food',\n",
       " 'food',\n",
       " 'food',\n",
       " 'food',\n",
       " 'food',\n",
       " 'food',\n",
       " 'food',\n",
       " 'food',\n",
       " 'food',\n",
       " 'food',\n",
       " 'food',\n",
       " 'food',\n",
       " 'food',\n",
       " 'food',\n",
       " 'food',\n",
       " 'food',\n",
       " 'food',\n",
       " 'food',\n",
       " 'food',\n",
       " 'food',\n",
       " 'food',\n",
       " 'food',\n",
       " 'food',\n",
       " 'food',\n",
       " 'food',\n",
       " 'food',\n",
       " 'food',\n",
       " 'food',\n",
       " 'food',\n",
       " 'food',\n",
       " 'food',\n",
       " 'food',\n",
       " 'food',\n",
       " 'food',\n",
       " 'food',\n",
       " 'food',\n",
       " 'food',\n",
       " 'food',\n",
       " 'food',\n",
       " 'food',\n",
       " 'food',\n",
       " 'food',\n",
       " 'food',\n",
       " 'food',\n",
       " 'food',\n",
       " 'food',\n",
       " 'food',\n",
       " 'food',\n",
       " 'food',\n",
       " 'food',\n",
       " 'food',\n",
       " 'food',\n",
       " 'food',\n",
       " 'food',\n",
       " 'food',\n",
       " 'food',\n",
       " 'food',\n",
       " 'food',\n",
       " 'food',\n",
       " 'food',\n",
       " 'food',\n",
       " 'food',\n",
       " 'food',\n",
       " 'food',\n",
       " 'food',\n",
       " 'food',\n",
       " 'food',\n",
       " 'food',\n",
       " 'food',\n",
       " 'food',\n",
       " 'food',\n",
       " 'food',\n",
       " 'food',\n",
       " 'food',\n",
       " 'food',\n",
       " 'food',\n",
       " 'food',\n",
       " 'glass',\n",
       " 'glass',\n",
       " 'glass',\n",
       " 'glass',\n",
       " 'glass',\n",
       " 'glass',\n",
       " 'glass',\n",
       " 'glass',\n",
       " 'glass',\n",
       " 'glass',\n",
       " 'glass',\n",
       " 'glass',\n",
       " 'glass',\n",
       " 'glass',\n",
       " 'glass',\n",
       " 'glass',\n",
       " 'glass',\n",
       " 'glass',\n",
       " 'glass',\n",
       " 'glass',\n",
       " 'glass',\n",
       " 'glass',\n",
       " 'glass',\n",
       " 'glass',\n",
       " 'glass',\n",
       " 'glass',\n",
       " 'glass',\n",
       " 'glass',\n",
       " 'glass',\n",
       " 'glass',\n",
       " 'glass',\n",
       " 'glass',\n",
       " 'glass',\n",
       " 'glass',\n",
       " 'glass',\n",
       " 'glass',\n",
       " 'glass',\n",
       " 'glass',\n",
       " 'glass',\n",
       " 'glass',\n",
       " 'glass',\n",
       " 'glass',\n",
       " 'glass',\n",
       " 'glass',\n",
       " 'glass',\n",
       " 'glass',\n",
       " 'glass',\n",
       " 'glass',\n",
       " 'glass',\n",
       " 'glass',\n",
       " 'glass',\n",
       " 'glass',\n",
       " 'glass',\n",
       " 'glass',\n",
       " 'glass',\n",
       " 'glass',\n",
       " 'glass',\n",
       " 'glass',\n",
       " 'glass',\n",
       " 'glass',\n",
       " 'glass',\n",
       " 'glass',\n",
       " 'glass',\n",
       " 'glass',\n",
       " 'glass',\n",
       " 'glass',\n",
       " 'glass',\n",
       " 'glass',\n",
       " 'glass',\n",
       " 'glass',\n",
       " 'glass',\n",
       " 'glass',\n",
       " 'glass',\n",
       " 'glass',\n",
       " 'glass',\n",
       " 'glass',\n",
       " 'glass',\n",
       " 'glass',\n",
       " 'glass',\n",
       " 'glass',\n",
       " 'glass',\n",
       " 'glass',\n",
       " 'glass',\n",
       " 'glass',\n",
       " 'glass',\n",
       " 'glass',\n",
       " 'glass',\n",
       " 'glass',\n",
       " 'glass',\n",
       " 'glass',\n",
       " 'glass',\n",
       " 'glass',\n",
       " 'glass',\n",
       " 'glass',\n",
       " 'glass',\n",
       " 'glass',\n",
       " 'glass',\n",
       " 'glass',\n",
       " 'glass',\n",
       " 'glass',\n",
       " 'glass',\n",
       " 'glass',\n",
       " 'glass',\n",
       " 'glass',\n",
       " 'glass',\n",
       " 'glass',\n",
       " 'glass',\n",
       " 'glass',\n",
       " 'glass',\n",
       " 'glass',\n",
       " 'glass',\n",
       " 'glass',\n",
       " 'glass',\n",
       " 'glass',\n",
       " 'glass',\n",
       " 'glass',\n",
       " 'glass',\n",
       " 'glass',\n",
       " 'glass',\n",
       " 'glass',\n",
       " 'glass',\n",
       " 'glass',\n",
       " 'glass',\n",
       " 'glass',\n",
       " 'glass',\n",
       " 'glass',\n",
       " 'glass',\n",
       " 'glass',\n",
       " 'glass',\n",
       " 'glass',\n",
       " 'glass',\n",
       " 'glass',\n",
       " 'glass',\n",
       " 'glass',\n",
       " 'glass',\n",
       " 'glass',\n",
       " 'glass',\n",
       " 'glass',\n",
       " 'glass',\n",
       " 'glass',\n",
       " 'glass',\n",
       " 'glass',\n",
       " 'glass',\n",
       " 'glass',\n",
       " 'glass',\n",
       " 'glass',\n",
       " 'glass',\n",
       " 'glass',\n",
       " 'glass',\n",
       " 'glass',\n",
       " 'glass',\n",
       " 'glass',\n",
       " 'glass',\n",
       " 'glass',\n",
       " 'glass',\n",
       " 'glass',\n",
       " 'glass',\n",
       " 'glass',\n",
       " 'glass',\n",
       " 'glass',\n",
       " 'glass',\n",
       " 'glass',\n",
       " 'glass',\n",
       " 'glass',\n",
       " 'glass',\n",
       " 'glass',\n",
       " 'glass',\n",
       " 'glass',\n",
       " 'glass',\n",
       " 'glass',\n",
       " 'glass',\n",
       " 'glass',\n",
       " 'glass',\n",
       " 'glass',\n",
       " 'glass',\n",
       " 'glass',\n",
       " 'glass',\n",
       " 'glass',\n",
       " 'glass',\n",
       " 'glass',\n",
       " 'glass',\n",
       " 'glass',\n",
       " 'glass',\n",
       " 'glass',\n",
       " 'glass',\n",
       " 'glass',\n",
       " 'glass',\n",
       " 'glass',\n",
       " 'glass',\n",
       " 'metal',\n",
       " 'metal',\n",
       " 'metal',\n",
       " 'metal',\n",
       " 'metal',\n",
       " 'metal',\n",
       " 'metal',\n",
       " 'metal',\n",
       " 'metal',\n",
       " 'metal',\n",
       " 'metal',\n",
       " 'metal',\n",
       " 'metal',\n",
       " 'metal',\n",
       " 'metal',\n",
       " 'metal',\n",
       " 'metal',\n",
       " 'metal',\n",
       " 'metal',\n",
       " 'metal',\n",
       " 'metal',\n",
       " 'metal',\n",
       " 'metal',\n",
       " 'metal',\n",
       " 'metal',\n",
       " 'metal',\n",
       " 'metal',\n",
       " 'metal',\n",
       " 'metal',\n",
       " 'metal',\n",
       " 'metal',\n",
       " 'metal',\n",
       " 'metal',\n",
       " 'metal',\n",
       " 'metal',\n",
       " 'metal',\n",
       " 'metal',\n",
       " 'metal',\n",
       " 'metal',\n",
       " 'metal',\n",
       " 'metal',\n",
       " 'metal',\n",
       " 'metal',\n",
       " 'metal',\n",
       " 'metal',\n",
       " 'metal',\n",
       " 'metal',\n",
       " 'metal',\n",
       " 'metal',\n",
       " 'metal',\n",
       " 'metal',\n",
       " 'metal',\n",
       " 'metal',\n",
       " 'metal',\n",
       " 'metal',\n",
       " 'metal',\n",
       " 'metal',\n",
       " 'metal',\n",
       " 'metal',\n",
       " 'metal',\n",
       " 'metal',\n",
       " 'metal',\n",
       " 'metal',\n",
       " 'metal',\n",
       " 'metal',\n",
       " 'metal',\n",
       " 'metal',\n",
       " 'metal',\n",
       " 'metal',\n",
       " 'metal',\n",
       " 'metal',\n",
       " 'metal',\n",
       " 'metal',\n",
       " 'metal',\n",
       " 'metal',\n",
       " 'metal',\n",
       " 'metal',\n",
       " 'metal',\n",
       " 'metal',\n",
       " 'metal',\n",
       " 'metal',\n",
       " 'metal',\n",
       " 'metal',\n",
       " 'metal',\n",
       " 'metal',\n",
       " 'metal',\n",
       " 'metal',\n",
       " 'metal',\n",
       " 'metal',\n",
       " 'metal',\n",
       " 'metal',\n",
       " 'metal',\n",
       " 'metal',\n",
       " 'metal',\n",
       " 'metal',\n",
       " 'metal',\n",
       " 'metal',\n",
       " 'metal',\n",
       " 'metal',\n",
       " 'metal',\n",
       " 'metal',\n",
       " 'metal',\n",
       " 'metal',\n",
       " 'metal',\n",
       " 'metal',\n",
       " 'metal',\n",
       " 'metal',\n",
       " 'metal',\n",
       " 'metal',\n",
       " 'metal',\n",
       " 'metal',\n",
       " 'metal',\n",
       " 'metal',\n",
       " 'metal',\n",
       " 'metal',\n",
       " 'metal',\n",
       " 'metal',\n",
       " 'metal',\n",
       " 'metal',\n",
       " 'metal',\n",
       " 'metal',\n",
       " 'metal',\n",
       " 'metal',\n",
       " 'metal',\n",
       " 'metal',\n",
       " 'metal',\n",
       " 'metal',\n",
       " 'metal',\n",
       " 'metal',\n",
       " 'metal',\n",
       " 'metal',\n",
       " 'metal',\n",
       " 'metal',\n",
       " 'metal',\n",
       " 'metal',\n",
       " 'metal',\n",
       " 'metal',\n",
       " 'metal',\n",
       " 'metal',\n",
       " 'metal',\n",
       " 'metal',\n",
       " 'metal',\n",
       " 'metal',\n",
       " 'metal',\n",
       " 'metal',\n",
       " 'metal',\n",
       " 'metal',\n",
       " 'metal',\n",
       " 'metal',\n",
       " 'metal',\n",
       " 'metal',\n",
       " 'metal',\n",
       " 'metal',\n",
       " 'metal',\n",
       " 'metal',\n",
       " 'metal',\n",
       " 'metal',\n",
       " 'metal',\n",
       " 'metal',\n",
       " 'metal',\n",
       " 'metal',\n",
       " 'metal',\n",
       " 'metal',\n",
       " 'metal',\n",
       " 'metal',\n",
       " 'metal',\n",
       " 'metal',\n",
       " 'metal',\n",
       " 'metal',\n",
       " 'metal',\n",
       " 'metal',\n",
       " 'metal',\n",
       " 'metal',\n",
       " 'metal',\n",
       " 'metal',\n",
       " 'metal',\n",
       " 'metal',\n",
       " 'metal',\n",
       " 'metal',\n",
       " 'metal',\n",
       " 'metal',\n",
       " 'metal',\n",
       " 'metal',\n",
       " 'metal',\n",
       " 'metal',\n",
       " 'metal',\n",
       " 'metal',\n",
       " 'metal',\n",
       " 'metal',\n",
       " 'metal',\n",
       " 'metal',\n",
       " 'metal',\n",
       " 'metal',\n",
       " 'metal',\n",
       " 'metal',\n",
       " 'metal',\n",
       " 'paper',\n",
       " 'paper',\n",
       " 'paper',\n",
       " 'paper',\n",
       " 'paper',\n",
       " 'paper',\n",
       " 'paper',\n",
       " 'paper',\n",
       " 'paper',\n",
       " 'paper',\n",
       " 'paper',\n",
       " 'paper',\n",
       " 'paper',\n",
       " 'paper',\n",
       " 'paper',\n",
       " 'paper',\n",
       " 'paper',\n",
       " 'paper',\n",
       " 'paper',\n",
       " 'paper',\n",
       " 'paper',\n",
       " 'paper',\n",
       " 'paper',\n",
       " 'paper',\n",
       " 'paper',\n",
       " 'paper',\n",
       " 'paper',\n",
       " 'paper',\n",
       " 'paper',\n",
       " 'paper',\n",
       " 'paper',\n",
       " 'paper',\n",
       " 'paper',\n",
       " 'paper',\n",
       " 'paper',\n",
       " 'paper',\n",
       " 'paper',\n",
       " 'paper',\n",
       " 'paper',\n",
       " 'paper',\n",
       " 'paper',\n",
       " 'paper',\n",
       " 'paper',\n",
       " 'paper',\n",
       " 'paper',\n",
       " 'paper',\n",
       " 'paper',\n",
       " 'paper',\n",
       " 'paper',\n",
       " 'paper',\n",
       " 'paper',\n",
       " 'paper',\n",
       " 'paper',\n",
       " 'paper',\n",
       " 'paper',\n",
       " 'paper',\n",
       " 'paper',\n",
       " 'paper',\n",
       " 'paper',\n",
       " 'paper',\n",
       " 'paper',\n",
       " 'paper',\n",
       " 'paper',\n",
       " 'paper',\n",
       " 'paper',\n",
       " 'paper',\n",
       " 'paper',\n",
       " 'paper',\n",
       " 'paper',\n",
       " 'paper',\n",
       " 'paper',\n",
       " 'paper',\n",
       " 'paper',\n",
       " 'paper',\n",
       " 'paper',\n",
       " 'paper',\n",
       " 'paper',\n",
       " 'paper',\n",
       " 'paper',\n",
       " 'paper',\n",
       " 'paper',\n",
       " 'paper',\n",
       " 'paper',\n",
       " 'paper',\n",
       " 'paper',\n",
       " 'paper',\n",
       " 'paper',\n",
       " 'paper',\n",
       " 'paper',\n",
       " 'paper',\n",
       " 'paper',\n",
       " 'paper',\n",
       " 'paper',\n",
       " 'paper',\n",
       " 'paper',\n",
       " 'paper',\n",
       " 'paper',\n",
       " 'paper',\n",
       " 'paper',\n",
       " 'paper',\n",
       " 'paper',\n",
       " 'paper',\n",
       " 'paper',\n",
       " 'paper',\n",
       " 'paper',\n",
       " 'paper',\n",
       " 'paper',\n",
       " 'paper',\n",
       " 'paper',\n",
       " 'paper',\n",
       " 'paper',\n",
       " 'paper',\n",
       " 'paper',\n",
       " 'paper',\n",
       " 'paper',\n",
       " 'paper',\n",
       " 'paper',\n",
       " 'paper',\n",
       " 'paper',\n",
       " 'paper',\n",
       " 'paper',\n",
       " 'paper',\n",
       " 'paper',\n",
       " 'paper',\n",
       " 'paper',\n",
       " 'paper',\n",
       " 'paper',\n",
       " 'paper',\n",
       " 'paper',\n",
       " 'paper',\n",
       " 'paper',\n",
       " 'paper',\n",
       " 'paper',\n",
       " 'paper',\n",
       " 'paper',\n",
       " 'paper',\n",
       " 'paper',\n",
       " 'paper',\n",
       " 'paper',\n",
       " 'paper',\n",
       " 'paper',\n",
       " 'paper',\n",
       " 'paper',\n",
       " 'paper',\n",
       " 'paper',\n",
       " 'paper',\n",
       " 'paper',\n",
       " 'paper',\n",
       " 'paper',\n",
       " 'paper',\n",
       " 'paper',\n",
       " 'paper',\n",
       " 'paper',\n",
       " 'paper',\n",
       " 'paper',\n",
       " 'paper',\n",
       " 'paper',\n",
       " 'paper',\n",
       " 'paper',\n",
       " 'paper',\n",
       " 'paper',\n",
       " 'paper',\n",
       " 'paper',\n",
       " 'paper',\n",
       " 'paper',\n",
       " 'paper',\n",
       " 'paper',\n",
       " 'paper',\n",
       " 'paper',\n",
       " 'paper',\n",
       " 'paper',\n",
       " 'paper',\n",
       " 'paper',\n",
       " 'paper',\n",
       " 'paper',\n",
       " 'paper',\n",
       " 'paper',\n",
       " 'paper',\n",
       " 'paper',\n",
       " 'paper',\n",
       " 'paper',\n",
       " 'paper',\n",
       " 'plastic',\n",
       " 'plastic',\n",
       " 'plastic',\n",
       " 'plastic',\n",
       " 'plastic',\n",
       " 'plastic',\n",
       " 'plastic',\n",
       " 'plastic',\n",
       " 'plastic',\n",
       " 'plastic',\n",
       " 'plastic',\n",
       " 'plastic',\n",
       " 'plastic',\n",
       " 'plastic',\n",
       " 'plastic',\n",
       " 'plastic',\n",
       " 'plastic',\n",
       " 'plastic',\n",
       " 'plastic',\n",
       " 'plastic',\n",
       " 'plastic',\n",
       " 'plastic',\n",
       " 'plastic',\n",
       " 'plastic',\n",
       " 'plastic',\n",
       " 'plastic',\n",
       " 'plastic',\n",
       " 'plastic',\n",
       " 'plastic',\n",
       " 'plastic',\n",
       " 'plastic',\n",
       " 'plastic',\n",
       " 'plastic',\n",
       " 'plastic',\n",
       " ...]"
      ]
     },
     "execution_count": 39,
     "metadata": {},
     "output_type": "execute_result"
    }
   ],
   "source": [
    "# 정규식을 활용한 브랜드 이름 분리\n",
    "import re\n",
    "\n",
    "brand_name=[]\n",
    "for b in os.listdir('./rgb/'):\n",
    "    l=re.split(r'[0-9]',b)[0]\n",
    "    brand_name.append(l)\n",
    "brand_name"
   ]
  },
  {
   "cell_type": "code",
   "execution_count": 40,
   "id": "82fcd538",
   "metadata": {},
   "outputs": [],
   "source": [
    "# 브랜드 이름/라벨로 타겟으로 저장\n",
    "com_brand='angelinus'\n",
    "i=0\n",
    "target=[]\n",
    "for brand in brand_name:\n",
    "    if com_brand==brand:\n",
    "        target.append([brand,i])\n",
    "    else:\n",
    "        i+=1\n",
    "        com_brand=brand\n",
    "        target.append([brand,i])"
   ]
  },
  {
   "cell_type": "code",
   "execution_count": 41,
   "id": "4d99074c",
   "metadata": {
    "scrolled": true
   },
   "outputs": [
    {
     "data": {
      "text/html": [
       "<div>\n",
       "<style scoped>\n",
       "    .dataframe tbody tr th:only-of-type {\n",
       "        vertical-align: middle;\n",
       "    }\n",
       "\n",
       "    .dataframe tbody tr th {\n",
       "        vertical-align: top;\n",
       "    }\n",
       "\n",
       "    .dataframe thead th {\n",
       "        text-align: right;\n",
       "    }\n",
       "</style>\n",
       "<table border=\"1\" class=\"dataframe\">\n",
       "  <thead>\n",
       "    <tr style=\"text-align: right;\">\n",
       "      <th></th>\n",
       "      <th>name</th>\n",
       "      <th>label</th>\n",
       "    </tr>\n",
       "  </thead>\n",
       "  <tbody>\n",
       "    <tr>\n",
       "      <th>0</th>\n",
       "      <td>battery</td>\n",
       "      <td>1</td>\n",
       "    </tr>\n",
       "    <tr>\n",
       "      <th>1</th>\n",
       "      <td>battery</td>\n",
       "      <td>1</td>\n",
       "    </tr>\n",
       "    <tr>\n",
       "      <th>2</th>\n",
       "      <td>battery</td>\n",
       "      <td>1</td>\n",
       "    </tr>\n",
       "    <tr>\n",
       "      <th>3</th>\n",
       "      <td>battery</td>\n",
       "      <td>1</td>\n",
       "    </tr>\n",
       "    <tr>\n",
       "      <th>4</th>\n",
       "      <td>battery</td>\n",
       "      <td>1</td>\n",
       "    </tr>\n",
       "    <tr>\n",
       "      <th>...</th>\n",
       "      <td>...</td>\n",
       "      <td>...</td>\n",
       "    </tr>\n",
       "    <tr>\n",
       "      <th>1115</th>\n",
       "      <td>plastic</td>\n",
       "      <td>6</td>\n",
       "    </tr>\n",
       "    <tr>\n",
       "      <th>1116</th>\n",
       "      <td>plastic</td>\n",
       "      <td>6</td>\n",
       "    </tr>\n",
       "    <tr>\n",
       "      <th>1117</th>\n",
       "      <td>plastic</td>\n",
       "      <td>6</td>\n",
       "    </tr>\n",
       "    <tr>\n",
       "      <th>1118</th>\n",
       "      <td>plastic</td>\n",
       "      <td>6</td>\n",
       "    </tr>\n",
       "    <tr>\n",
       "      <th>1119</th>\n",
       "      <td>plastic</td>\n",
       "      <td>6</td>\n",
       "    </tr>\n",
       "  </tbody>\n",
       "</table>\n",
       "<p>1120 rows × 2 columns</p>\n",
       "</div>"
      ],
      "text/plain": [
       "         name  label\n",
       "0     battery      1\n",
       "1     battery      1\n",
       "2     battery      1\n",
       "3     battery      1\n",
       "4     battery      1\n",
       "...       ...    ...\n",
       "1115  plastic      6\n",
       "1116  plastic      6\n",
       "1117  plastic      6\n",
       "1118  plastic      6\n",
       "1119  plastic      6\n",
       "\n",
       "[1120 rows x 2 columns]"
      ]
     },
     "execution_count": 41,
     "metadata": {},
     "output_type": "execute_result"
    }
   ],
   "source": [
    "target_df=pd.DataFrame(target,columns=['name','label'])\n",
    "target_df"
   ]
  },
  {
   "cell_type": "code",
   "execution_count": 94,
   "id": "2efd6c8a",
   "metadata": {},
   "outputs": [
    {
     "data": {
      "text/plain": [
       "name     plastic\n",
       "label          6\n",
       "Name: 1100, dtype: object"
      ]
     },
     "execution_count": 94,
     "metadata": {},
     "output_type": "execute_result"
    }
   ],
   "source": [
    "target_df.iloc[1100,:]"
   ]
  },
  {
   "cell_type": "code",
   "execution_count": 42,
   "id": "40e56fa2",
   "metadata": {},
   "outputs": [],
   "source": [
    "target_df.to_csv('target.csv')"
   ]
  },
  {
   "cell_type": "code",
   "execution_count": 44,
   "id": "725b9b13",
   "metadata": {},
   "outputs": [],
   "source": [
    "# 수정된 타겟 데이터 불러오기\n",
    "target_final_df=pd.read_csv('target.csv')\n",
    "target=np.array(target_final_df.label)"
   ]
  },
  {
   "cell_type": "code",
   "execution_count": 45,
   "id": "6f70b431",
   "metadata": {},
   "outputs": [
    {
     "name": "stdout",
     "output_type": "stream",
     "text": [
      "타켓 데이터 모양 (1120,)\n"
     ]
    }
   ],
   "source": [
    "print(f\"타켓 데이터 모양 {target.shape}\")"
   ]
  },
  {
   "cell_type": "code",
   "execution_count": 46,
   "id": "c370d329",
   "metadata": {},
   "outputs": [
    {
     "data": {
      "text/plain": [
       "['battery', 'food', 'glass', 'metal', 'paper', 'plastic']"
      ]
     },
     "execution_count": 46,
     "metadata": {},
     "output_type": "execute_result"
    }
   ],
   "source": [
    "# 브랜드 이름 고유값\n",
    "brand=sorted(list(set(target_final_df.name)))\n",
    "brand"
   ]
  },
  {
   "cell_type": "code",
   "execution_count": null,
   "id": "2f25d233",
   "metadata": {},
   "outputs": [],
   "source": []
  },
  {
   "cell_type": "code",
   "execution_count": null,
   "id": "f8b038b5",
   "metadata": {},
   "outputs": [],
   "source": []
  },
  {
   "cell_type": "code",
   "execution_count": 59,
   "id": "eaffc09d",
   "metadata": {},
   "outputs": [],
   "source": [
    "# 흑백데이터 훈련/검증/테스트\n",
    "train_x_bw,test_x_bw,train_y,test_y=train_test_split(blwh,target,random_state=42,test_size=0.2,stratify=target)\n",
    "train_x_bw,val_x_bw,train_y,val_y=train_test_split(train_x_bw,train_y,random_state=42,test_size=0.2,stratify=train_y)"
   ]
  },
  {
   "cell_type": "code",
   "execution_count": 60,
   "id": "9562b661",
   "metadata": {},
   "outputs": [
    {
     "name": "stdout",
     "output_type": "stream",
     "text": [
      "train_x_bw (716, 2500), train_y (716,)\n",
      "val_x_bw (180, 2500), train_y (180,)\n",
      "test_x_bw (224, 2500), train_y (224,)\n"
     ]
    }
   ],
   "source": [
    "print(f\"train_x_bw {train_x_bw.shape}, train_y {train_y.shape}\")\n",
    "print(f\"val_x_bw {val_x_bw.shape}, train_y {val_y.shape}\")\n",
    "print(f\"test_x_bw {test_x_bw.shape}, train_y {test_y.shape}\")"
   ]
  },
  {
   "cell_type": "code",
   "execution_count": null,
   "id": "644af046",
   "metadata": {},
   "outputs": [],
   "source": []
  },
  {
   "cell_type": "code",
   "execution_count": null,
   "id": "ca6a36c1",
   "metadata": {},
   "outputs": [],
   "source": []
  },
  {
   "cell_type": "code",
   "execution_count": 64,
   "id": "aa20958a",
   "metadata": {},
   "outputs": [
    {
     "data": {
      "text/plain": [
       "(1120, 7500)"
      ]
     },
     "execution_count": 64,
     "metadata": {},
     "output_type": "execute_result"
    }
   ],
   "source": [
    "rgb_fl=rgb.reshape(-1,2500*3)\n",
    "rgb_fl.shape"
   ]
  },
  {
   "cell_type": "code",
   "execution_count": 65,
   "id": "6f87d36e",
   "metadata": {},
   "outputs": [],
   "source": [
    "# 컬러데이터 훈련/검증/테스트\n",
    "train_x_co,test_x_co,train_y,test_y=train_test_split(rgb_fl,target,random_state=42,test_size=0.2,stratify=target)\n",
    "train_x_co,val_x_co,train_y,val_y=train_test_split(train_x_co,train_y,random_state=42,test_size=0.2,stratify=train_y)"
   ]
  },
  {
   "cell_type": "code",
   "execution_count": 127,
   "id": "40176f7c",
   "metadata": {},
   "outputs": [
    {
     "name": "stdout",
     "output_type": "stream",
     "text": [
      "train_x_co (716, 7500), train_y (716,)\n",
      "val_x_co (180, 7500), val_y (180,)\n",
      "test_x_co (224, 7500), test_y (224,)\n"
     ]
    }
   ],
   "source": [
    "print(f\"train_x_co {train_x_co.shape}, train_y {train_y.shape}\")\n",
    "print(f\"val_x_co {val_x_co.shape}, val_y {val_y.shape}\")\n",
    "print(f\"test_x_co {test_x_co.shape}, test_y {test_y.shape}\")"
   ]
  },
  {
   "cell_type": "code",
   "execution_count": null,
   "id": "ca7200e3",
   "metadata": {},
   "outputs": [],
   "source": []
  },
  {
   "cell_type": "code",
   "execution_count": 67,
   "id": "68b2f591",
   "metadata": {},
   "outputs": [],
   "source": [
    "from sklearn.decomposition import PCA"
   ]
  },
  {
   "cell_type": "code",
   "execution_count": 68,
   "id": "d06e02a7",
   "metadata": {},
   "outputs": [],
   "source": [
    "pca=PCA()"
   ]
  },
  {
   "cell_type": "code",
   "execution_count": 69,
   "id": "1cdc564a",
   "metadata": {},
   "outputs": [
    {
     "data": {
      "text/plain": [
       "PCA()"
      ]
     },
     "execution_count": 69,
     "metadata": {},
     "output_type": "execute_result"
    }
   ],
   "source": [
    "pca.fit(train_x_bw)"
   ]
  },
  {
   "cell_type": "code",
   "execution_count": 71,
   "id": "d2b76b98",
   "metadata": {},
   "outputs": [
    {
     "data": {
      "text/plain": [
       "array([3.70123997e-01, 6.41066473e-02, 4.85036290e-02, 4.56105053e-02,\n",
       "       2.96096311e-02, 2.41486748e-02, 1.51469263e-02, 1.43089182e-02,\n",
       "       1.32511846e-02, 1.16077025e-02, 1.12921041e-02, 1.01619832e-02,\n",
       "       9.60290290e-03, 8.49682861e-03, 8.18960116e-03, 7.73214092e-03,\n",
       "       7.31896235e-03, 6.88930369e-03, 6.51835098e-03, 6.37716578e-03,\n",
       "       6.04858391e-03, 5.78807077e-03, 5.53809536e-03, 5.42827930e-03,\n",
       "       4.96028322e-03, 4.81602190e-03, 4.64408819e-03, 4.39574005e-03,\n",
       "       4.30386462e-03, 4.21947291e-03, 3.99705363e-03, 3.81247030e-03,\n",
       "       3.72637190e-03, 3.51287342e-03, 3.44610483e-03, 3.25478143e-03,\n",
       "       3.21224402e-03, 3.12831940e-03, 3.06087006e-03, 3.01352055e-03,\n",
       "       2.92432690e-03, 2.86754492e-03, 2.82291883e-03, 2.67230057e-03,\n",
       "       2.63821885e-03, 2.58168240e-03, 2.55686213e-03, 2.51883557e-03,\n",
       "       2.40311421e-03, 2.35370796e-03, 2.28407783e-03, 2.22384112e-03,\n",
       "       2.12849991e-03, 2.06547294e-03, 2.05161566e-03, 2.00320325e-03,\n",
       "       1.94413313e-03, 1.93255569e-03, 1.91082175e-03, 1.85766988e-03,\n",
       "       1.82529290e-03, 1.81498231e-03, 1.77971519e-03, 1.71734361e-03,\n",
       "       1.69880087e-03, 1.68492509e-03, 1.66023478e-03, 1.62069212e-03,\n",
       "       1.55237671e-03, 1.51475916e-03, 1.51017238e-03, 1.48455594e-03,\n",
       "       1.46304747e-03, 1.42737474e-03, 1.39170083e-03, 1.37896974e-03,\n",
       "       1.36312888e-03, 1.35089802e-03, 1.33113248e-03, 1.28234653e-03,\n",
       "       1.26992599e-03, 1.26528142e-03, 1.24172702e-03, 1.21778610e-03,\n",
       "       1.21289731e-03, 1.14835606e-03, 1.13990946e-03, 1.12839368e-03,\n",
       "       1.12238906e-03, 1.10594551e-03, 1.08681800e-03, 1.08380253e-03,\n",
       "       1.05950418e-03, 1.04221627e-03, 1.03164508e-03, 1.02379044e-03,\n",
       "       1.00803719e-03, 9.99237642e-04, 9.90042706e-04, 9.78117061e-04,\n",
       "       9.69407754e-04, 9.65390966e-04, 9.47152358e-04, 9.36238014e-04,\n",
       "       9.25977250e-04, 9.13274235e-04, 8.97990609e-04, 8.94875894e-04,\n",
       "       8.80814730e-04, 8.73886869e-04, 8.65759202e-04, 8.40666743e-04,\n",
       "       8.35915649e-04, 8.13016628e-04, 8.04951386e-04, 8.00785744e-04,\n",
       "       7.93388621e-04, 7.86652301e-04, 7.72767092e-04, 7.64941286e-04,\n",
       "       7.53668292e-04, 7.39733230e-04, 7.37262430e-04, 7.29818475e-04,\n",
       "       7.21861274e-04, 7.15812498e-04, 7.06621540e-04, 7.01267242e-04,\n",
       "       6.96136593e-04, 6.89937658e-04, 6.76948585e-04, 6.70115122e-04,\n",
       "       6.59439442e-04, 6.54492653e-04, 6.43393607e-04, 6.36337888e-04,\n",
       "       6.31044443e-04, 6.23907134e-04, 6.21892154e-04, 6.09956191e-04,\n",
       "       6.08079838e-04, 5.93273364e-04, 5.86281639e-04, 5.85668722e-04,\n",
       "       5.77197224e-04, 5.69159745e-04, 5.64352544e-04, 5.54906874e-04,\n",
       "       5.51121757e-04, 5.45641908e-04, 5.39428670e-04, 5.29753488e-04,\n",
       "       5.25477990e-04, 5.21305598e-04, 5.16905647e-04, 5.11133602e-04,\n",
       "       5.06034204e-04, 5.02723728e-04, 4.95378322e-04, 4.88392749e-04,\n",
       "       4.81604887e-04, 4.76957730e-04, 4.71217647e-04, 4.64761476e-04,\n",
       "       4.62123812e-04, 4.60756840e-04, 4.55675497e-04, 4.47918888e-04,\n",
       "       4.38534822e-04, 4.36327047e-04, 4.33126692e-04, 4.27012187e-04,\n",
       "       4.24944118e-04, 4.19427479e-04, 4.13562885e-04, 4.09746299e-04,\n",
       "       4.06206929e-04, 4.01338046e-04, 3.99180625e-04, 3.96904287e-04,\n",
       "       3.92977603e-04, 3.87846833e-04, 3.83426846e-04, 3.82686830e-04,\n",
       "       3.77272992e-04, 3.71473908e-04, 3.69244245e-04, 3.65342897e-04,\n",
       "       3.61984413e-04, 3.59927456e-04, 3.54245296e-04, 3.52342707e-04,\n",
       "       3.49059304e-04, 3.46954452e-04, 3.42922216e-04, 3.40010213e-04,\n",
       "       3.38592107e-04, 3.34866689e-04, 3.31339594e-04, 3.25390664e-04,\n",
       "       3.22957086e-04, 3.20499625e-04, 3.17364634e-04, 3.13569106e-04,\n",
       "       3.10834197e-04, 3.09578298e-04, 3.08806068e-04, 3.06120996e-04,\n",
       "       3.02756028e-04, 2.99542214e-04, 2.98128251e-04, 2.94077166e-04,\n",
       "       2.91827197e-04, 2.90728620e-04, 2.85413157e-04, 2.83578087e-04,\n",
       "       2.82623283e-04, 2.78795043e-04, 2.77280047e-04, 2.75741706e-04,\n",
       "       2.71321906e-04, 2.69387134e-04, 2.65695396e-04, 2.63854521e-04,\n",
       "       2.61752150e-04, 2.60539653e-04, 2.57495625e-04, 2.55920947e-04,\n",
       "       2.53465813e-04, 2.52414420e-04, 2.48562422e-04, 2.45494179e-04,\n",
       "       2.44005848e-04, 2.42927322e-04, 2.39479341e-04, 2.38408327e-04,\n",
       "       2.35501229e-04, 2.31101377e-04, 2.30933539e-04, 2.30162582e-04,\n",
       "       2.27643212e-04, 2.26846839e-04, 2.24765794e-04, 2.22650328e-04,\n",
       "       2.20956967e-04, 2.18992266e-04, 2.14442926e-04, 2.13315724e-04,\n",
       "       2.11560474e-04, 2.11302364e-04, 2.09637361e-04, 2.07832740e-04,\n",
       "       2.05794540e-04, 2.05122061e-04, 2.02522912e-04, 2.01570177e-04,\n",
       "       2.00333071e-04, 1.98094970e-04, 1.97553728e-04, 1.96388372e-04,\n",
       "       1.94574011e-04, 1.93515719e-04, 1.88777289e-04, 1.86759278e-04,\n",
       "       1.85451226e-04, 1.84277979e-04, 1.83789107e-04, 1.82438413e-04,\n",
       "       1.81676644e-04, 1.79386709e-04, 1.76449186e-04, 1.75477510e-04,\n",
       "       1.74765531e-04, 1.73576161e-04, 1.71956910e-04, 1.71602244e-04,\n",
       "       1.70290712e-04, 1.68679860e-04, 1.67575953e-04, 1.63772640e-04,\n",
       "       1.63137701e-04, 1.62074155e-04, 1.60902147e-04, 1.59775879e-04,\n",
       "       1.58275449e-04, 1.56538666e-04, 1.55802257e-04, 1.54922069e-04,\n",
       "       1.54095340e-04, 1.52259411e-04, 1.50610491e-04, 1.49125693e-04,\n",
       "       1.48345170e-04, 1.47402108e-04, 1.45985948e-04, 1.44636219e-04,\n",
       "       1.44236173e-04, 1.43283617e-04, 1.41499173e-04, 1.40949965e-04,\n",
       "       1.39881515e-04, 1.38077856e-04, 1.36645361e-04, 1.35980875e-04,\n",
       "       1.35323733e-04, 1.34483828e-04, 1.33439865e-04, 1.32720191e-04,\n",
       "       1.30997903e-04, 1.30419852e-04, 1.29270675e-04, 1.27798841e-04,\n",
       "       1.27542445e-04, 1.26861227e-04, 1.24999908e-04, 1.23064802e-04,\n",
       "       1.22421127e-04, 1.21469163e-04, 1.20139111e-04, 1.19071027e-04,\n",
       "       1.18138547e-04, 1.17352291e-04, 1.17040069e-04, 1.14841667e-04,\n",
       "       1.14559038e-04, 1.13801172e-04, 1.13208471e-04, 1.11218499e-04,\n",
       "       1.11148468e-04, 1.10775576e-04, 1.09056003e-04, 1.08724972e-04,\n",
       "       1.07496656e-04, 1.07169321e-04, 1.06754244e-04, 1.05298279e-04,\n",
       "       1.04256654e-04, 1.03818429e-04, 1.02994725e-04, 1.02372928e-04,\n",
       "       1.01185180e-04, 1.00147067e-04, 9.95616871e-05, 9.92774318e-05,\n",
       "       9.89009999e-05, 9.81456947e-05, 9.72284601e-05, 9.64285322e-05,\n",
       "       9.57740943e-05, 9.45368509e-05, 9.36613001e-05, 9.25288671e-05,\n",
       "       9.23413427e-05, 9.12975177e-05, 9.06732915e-05, 9.05160040e-05,\n",
       "       8.97955446e-05, 8.91609363e-05, 8.90275677e-05, 8.83282573e-05,\n",
       "       8.75761379e-05, 8.70846451e-05, 8.68634817e-05, 8.62445448e-05,\n",
       "       8.57834142e-05, 8.41801840e-05, 8.37891749e-05, 8.35408318e-05,\n",
       "       8.20912172e-05, 8.17932215e-05, 8.10807291e-05, 8.07129751e-05,\n",
       "       7.96339549e-05, 7.91088352e-05, 7.87643752e-05, 7.82359025e-05,\n",
       "       7.69092687e-05, 7.68582322e-05, 7.64166702e-05, 7.59474256e-05,\n",
       "       7.53138886e-05, 7.50940173e-05, 7.41985543e-05, 7.38509927e-05,\n",
       "       7.32316126e-05, 7.28074321e-05, 7.20623645e-05, 7.19901534e-05,\n",
       "       7.14189085e-05, 7.08712688e-05, 7.02781329e-05, 6.95506094e-05,\n",
       "       6.93093905e-05, 6.88890248e-05, 6.83439577e-05, 6.77663123e-05,\n",
       "       6.73922767e-05, 6.65588226e-05, 6.61348064e-05, 6.58397069e-05,\n",
       "       6.53436394e-05, 6.48634859e-05, 6.42629371e-05, 6.40661527e-05,\n",
       "       6.33058683e-05, 6.23414091e-05, 6.18427162e-05, 6.15572517e-05,\n",
       "       6.12357583e-05, 6.09635056e-05, 6.00593407e-05, 5.99801758e-05,\n",
       "       5.93024533e-05, 5.88678550e-05, 5.85166724e-05, 5.83917987e-05,\n",
       "       5.81058651e-05, 5.79110814e-05, 5.70526661e-05, 5.64124439e-05,\n",
       "       5.61776689e-05, 5.58043271e-05, 5.56366026e-05, 5.49100687e-05,\n",
       "       5.42894000e-05, 5.34534303e-05, 5.31429285e-05, 5.30670507e-05,\n",
       "       5.27070710e-05, 5.24520218e-05, 5.19781179e-05, 5.17766718e-05,\n",
       "       5.13386019e-05, 5.08042118e-05, 5.04365199e-05, 5.02135873e-05,\n",
       "       4.99452054e-05, 4.94018327e-05, 4.92307538e-05, 4.89489362e-05,\n",
       "       4.84095928e-05, 4.82488736e-05, 4.76654108e-05, 4.75980523e-05,\n",
       "       4.72222455e-05, 4.68683905e-05, 4.65671914e-05, 4.61272925e-05,\n",
       "       4.57202796e-05, 4.56344461e-05, 4.45392441e-05, 4.43460063e-05,\n",
       "       4.41577256e-05, 4.39849883e-05, 4.33804042e-05, 4.32477349e-05,\n",
       "       4.30146671e-05, 4.27601374e-05, 4.22665296e-05, 4.19064867e-05,\n",
       "       4.16940524e-05, 4.13905133e-05, 4.10937353e-05, 4.06133218e-05,\n",
       "       4.04281859e-05, 4.01127469e-05, 4.00404851e-05, 3.98276922e-05,\n",
       "       3.93519706e-05, 3.90615398e-05, 3.89209101e-05, 3.85295006e-05,\n",
       "       3.79741391e-05, 3.78308909e-05, 3.75316206e-05, 3.73520982e-05,\n",
       "       3.71659101e-05, 3.70201597e-05, 3.67373816e-05, 3.60301162e-05,\n",
       "       3.58222549e-05, 3.56864524e-05, 3.55007708e-05, 3.52284481e-05,\n",
       "       3.49905543e-05, 3.46047321e-05, 3.45150686e-05, 3.42580479e-05,\n",
       "       3.38673264e-05, 3.36265794e-05, 3.34376481e-05, 3.32511035e-05,\n",
       "       3.29284969e-05, 3.28067072e-05, 3.26046913e-05, 3.20317765e-05,\n",
       "       3.19175487e-05, 3.17447311e-05, 3.15491279e-05, 3.11641979e-05,\n",
       "       3.09645901e-05, 3.04640331e-05, 3.02858159e-05, 3.00422419e-05,\n",
       "       2.99953527e-05, 2.99085343e-05, 2.96401613e-05, 2.93021864e-05,\n",
       "       2.92773659e-05, 2.88435413e-05, 2.87078751e-05, 2.85659356e-05,\n",
       "       2.84513721e-05, 2.82618219e-05, 2.77617309e-05, 2.76837175e-05,\n",
       "       2.74914470e-05, 2.72374980e-05, 2.71348217e-05, 2.68671104e-05,\n",
       "       2.67706625e-05, 2.63550098e-05, 2.62397072e-05, 2.60595336e-05,\n",
       "       2.57166608e-05, 2.55449850e-05, 2.53442429e-05, 2.52375749e-05,\n",
       "       2.50803940e-05, 2.48920729e-05, 2.45930499e-05, 2.44902262e-05,\n",
       "       2.42534398e-05, 2.41428081e-05, 2.39095638e-05, 2.37553065e-05,\n",
       "       2.36256750e-05, 2.34522538e-05, 2.33610351e-05, 2.32175514e-05,\n",
       "       2.30026911e-05, 2.27218215e-05, 2.25909440e-05, 2.23123383e-05,\n",
       "       2.21757858e-05, 2.21152305e-05, 2.19861663e-05, 2.17499083e-05,\n",
       "       2.16078275e-05, 2.14954200e-05, 2.13004030e-05, 2.11978443e-05,\n",
       "       2.08651844e-05, 2.07328713e-05, 2.05593185e-05, 2.05082859e-05,\n",
       "       2.03880804e-05, 2.01197194e-05, 2.00675288e-05, 1.99156290e-05,\n",
       "       1.97041119e-05, 1.94866663e-05, 1.91639124e-05, 1.91496338e-05,\n",
       "       1.90317909e-05, 1.88467570e-05, 1.87285306e-05, 1.85885485e-05,\n",
       "       1.84335926e-05, 1.83383196e-05, 1.81916708e-05, 1.80205622e-05,\n",
       "       1.78265755e-05, 1.76295706e-05, 1.74319415e-05, 1.72843806e-05,\n",
       "       1.72438469e-05, 1.71142851e-05, 1.69214636e-05, 1.68139909e-05,\n",
       "       1.65941509e-05, 1.65124025e-05, 1.64151850e-05, 1.62699590e-05,\n",
       "       1.61618970e-05, 1.59676417e-05, 1.58202070e-05, 1.57763447e-05,\n",
       "       1.57121436e-05, 1.55351437e-05, 1.55057470e-05, 1.52211597e-05,\n",
       "       1.51271557e-05, 1.49676391e-05, 1.49065198e-05, 1.48029223e-05,\n",
       "       1.46739860e-05, 1.45211921e-05, 1.43479541e-05, 1.42838103e-05,\n",
       "       1.41155411e-05, 1.40355768e-05, 1.39364525e-05, 1.38948629e-05,\n",
       "       1.38206186e-05, 1.36185602e-05, 1.35590105e-05, 1.33455568e-05,\n",
       "       1.31941705e-05, 1.30419569e-05, 1.29809015e-05, 1.27373560e-05,\n",
       "       1.26379886e-05, 1.25563040e-05, 1.24731888e-05, 1.23005660e-05,\n",
       "       1.21655501e-05, 1.20511385e-05, 1.19841335e-05, 1.19290472e-05,\n",
       "       1.18555057e-05, 1.17475415e-05, 1.16416363e-05, 1.15132894e-05,\n",
       "       1.13918833e-05, 1.13147363e-05, 1.12330859e-05, 1.12205039e-05,\n",
       "       1.11402443e-05, 1.10386999e-05, 1.08601521e-05, 1.07858971e-05,\n",
       "       1.06216715e-05, 1.05341544e-05, 1.03870488e-05, 1.03464779e-05,\n",
       "       1.01588574e-05, 1.00439457e-05, 9.99575366e-06, 9.88379022e-06,\n",
       "       9.81328834e-06, 9.76104797e-06, 9.75271682e-06, 9.56231050e-06,\n",
       "       9.54815490e-06, 9.41577036e-06, 9.31155110e-06, 9.21760078e-06,\n",
       "       9.14300144e-06, 9.02043118e-06, 8.96533188e-06, 8.84449826e-06,\n",
       "       8.71519278e-06, 8.66601955e-06, 8.59478863e-06, 8.50570404e-06,\n",
       "       8.44877037e-06, 8.35574034e-06, 8.28477969e-06, 8.17074767e-06,\n",
       "       8.08121525e-06, 8.03567694e-06, 7.98863893e-06, 7.90083686e-06,\n",
       "       7.76189997e-06, 7.70352178e-06, 7.57906783e-06, 7.54930138e-06,\n",
       "       7.49355095e-06, 7.33141622e-06, 7.28051230e-06, 7.26757967e-06,\n",
       "       7.19514572e-06, 7.11422158e-06, 6.96700388e-06, 6.85328079e-06,\n",
       "       6.81875760e-06, 6.77025132e-06, 6.69695836e-06, 6.62085850e-06,\n",
       "       6.49557464e-06, 6.45044590e-06, 6.36660132e-06, 6.31141434e-06,\n",
       "       6.16744847e-06, 6.06625772e-06, 6.02495560e-06, 5.98128915e-06,\n",
       "       5.93773058e-06, 5.72800384e-06, 5.63945576e-06, 5.53193835e-06,\n",
       "       5.48084482e-06, 5.47353540e-06, 5.22002921e-06, 5.20722549e-06,\n",
       "       5.19844570e-06, 5.06416279e-06, 4.96103789e-06, 4.83769564e-06,\n",
       "       4.75252300e-06, 4.74344871e-06, 4.63944570e-06, 4.61327883e-06,\n",
       "       4.41614264e-06, 4.37509487e-06, 4.20764269e-06, 4.15178834e-06,\n",
       "       4.03112403e-06, 3.86361896e-06, 3.73937499e-06, 3.50982845e-06,\n",
       "       1.74134313e-30, 7.29940878e-32, 9.76231690e-35, 7.61416225e-35])"
      ]
     },
     "execution_count": 71,
     "metadata": {},
     "output_type": "execute_result"
    }
   ],
   "source": [
    "# 분산비율\n",
    "pca.explained_variance_ratio_"
   ]
  },
  {
   "cell_type": "code",
   "execution_count": 72,
   "id": "de3f6516",
   "metadata": {},
   "outputs": [
    {
     "name": "stdout",
     "output_type": "stream",
     "text": [
      "주성분 누적 설명정도 [0.3701 0.4342 0.4827 0.5283 0.558  0.5821 0.5973 0.6116 0.6248 0.6364\n",
      " 0.6477 0.6579 0.6675 0.676  0.6842 0.6919 0.6992 0.7061 0.7126 0.719\n",
      " 0.725  0.7308 0.7364 0.7418 0.7468 0.7516 0.7562 0.7606 0.7649 0.7691\n",
      " 0.7731 0.7769 0.7807 0.7842 0.7876 0.7909 0.7941 0.7972 0.8003 0.8033\n",
      " 0.8062 0.8091 0.8119 0.8146 0.8172 0.8198 0.8224 0.8249 0.8273 0.8296\n",
      " 0.8319 0.8342 0.8363 0.8383 0.8404 0.8424 0.8443 0.8463 0.8482 0.85\n",
      " 0.8519 0.8537 0.8555 0.8572 0.8589 0.8606 0.8622 0.8638 0.8654 0.8669\n",
      " 0.8684 0.8699 0.8714 0.8728 0.8742 0.8756 0.8769 0.8783 0.8796 0.8809\n",
      " 0.8822 0.8834 0.8847 0.8859 0.8871 0.8883 0.8894 0.8905 0.8916 0.8928\n",
      " 0.8938 0.8949 0.896  0.897  0.8981 0.8991 0.9001 0.9011 0.9021 0.9031\n",
      " 0.904  0.905  0.9059 0.9069 0.9078 0.9087 0.9096 0.9105 0.9114 0.9123\n",
      " 0.9131 0.914  0.9148 0.9156 0.9164 0.9172 0.918  0.9188 0.9196 0.9203\n",
      " 0.9211 0.9218 0.9226 0.9233 0.924  0.9247 0.9254 0.9261 0.9268 0.9275\n",
      " 0.9282 0.9289 0.9295 0.9302 0.9308 0.9315 0.9321 0.9327 0.9333 0.934\n",
      " 0.9346 0.9352 0.9357 0.9363 0.9369 0.9375 0.938  0.9386 0.9391 0.9397\n",
      " 0.9402 0.9408 0.9413 0.9418 0.9423 0.9428 0.9433 0.9438 0.9443 0.9448\n",
      " 0.9453 0.9458 0.9463 0.9467 0.9472 0.9476 0.9481 0.9486 0.949  0.9494\n",
      " 0.9499 0.9503 0.9507 0.9511 0.9515 0.952  0.9524 0.9528 0.9532 0.9536\n",
      " 0.9539 0.9543 0.9547 0.9551 0.9555 0.9559 0.9562 0.9566 0.9569 0.9573\n",
      " 0.9577 0.958  0.9584 0.9587 0.9591 0.9594 0.9597 0.9601 0.9604 0.9607\n",
      " 0.961  0.9614 0.9617 0.962  0.9623 0.9626 0.9629 0.9632 0.9635 0.9638\n",
      " 0.9641 0.9644 0.9647 0.965  0.9653 0.9656 0.9659 0.9661 0.9664 0.9667\n",
      " 0.967  0.9672 0.9675 0.9678 0.968  0.9683 0.9685 0.9688 0.9691 0.9693\n",
      " 0.9696 0.9698 0.97   0.9703 0.9705 0.9708 0.971  0.9712 0.9715 0.9717\n",
      " 0.9719 0.9721 0.9724 0.9726 0.9728 0.973  0.9732 0.9735 0.9737 0.9739\n",
      " 0.9741 0.9743 0.9745 0.9747 0.9749 0.9751 0.9753 0.9755 0.9757 0.9759\n",
      " 0.9761 0.9763 0.9765 0.9767 0.9769 0.977  0.9772 0.9774 0.9776 0.9778\n",
      " 0.9779 0.9781 0.9783 0.9785 0.9786 0.9788 0.979  0.9792 0.9793 0.9795\n",
      " 0.9796 0.9798 0.98   0.9801 0.9803 0.9804 0.9806 0.9808 0.9809 0.9811\n",
      " 0.9812 0.9814 0.9815 0.9817 0.9818 0.9819 0.9821 0.9822 0.9824 0.9825\n",
      " 0.9827 0.9828 0.9829 0.9831 0.9832 0.9833 0.9835 0.9836 0.9837 0.9839\n",
      " 0.984  0.9841 0.9843 0.9844 0.9845 0.9846 0.9847 0.9849 0.985  0.9851\n",
      " 0.9852 0.9853 0.9855 0.9856 0.9857 0.9858 0.9859 0.986  0.9861 0.9863\n",
      " 0.9864 0.9865 0.9866 0.9867 0.9868 0.9869 0.987  0.9871 0.9872 0.9873\n",
      " 0.9874 0.9875 0.9876 0.9877 0.9878 0.9879 0.988  0.9881 0.9882 0.9883\n",
      " 0.9884 0.9885 0.9886 0.9887 0.9888 0.9888 0.9889 0.989  0.9891 0.9892\n",
      " 0.9893 0.9894 0.9895 0.9895 0.9896 0.9897 0.9898 0.9899 0.99   0.99\n",
      " 0.9901 0.9902 0.9903 0.9904 0.9904 0.9905 0.9906 0.9907 0.9908 0.9908\n",
      " 0.9909 0.991  0.9911 0.9911 0.9912 0.9913 0.9913 0.9914 0.9915 0.9916\n",
      " 0.9916 0.9917 0.9918 0.9918 0.9919 0.992  0.992  0.9921 0.9922 0.9922\n",
      " 0.9923 0.9924 0.9924 0.9925 0.9926 0.9926 0.9927 0.9927 0.9928 0.9929\n",
      " 0.9929 0.993  0.9931 0.9931 0.9932 0.9932 0.9933 0.9933 0.9934 0.9935\n",
      " 0.9935 0.9936 0.9936 0.9937 0.9937 0.9938 0.9938 0.9939 0.9939 0.994\n",
      " 0.9941 0.9941 0.9942 0.9942 0.9943 0.9943 0.9944 0.9944 0.9945 0.9945\n",
      " 0.9946 0.9946 0.9946 0.9947 0.9947 0.9948 0.9948 0.9949 0.9949 0.995\n",
      " 0.995  0.9951 0.9951 0.9951 0.9952 0.9952 0.9953 0.9953 0.9954 0.9954\n",
      " 0.9954 0.9955 0.9955 0.9956 0.9956 0.9957 0.9957 0.9957 0.9958 0.9958\n",
      " 0.9958 0.9959 0.9959 0.996  0.996  0.996  0.9961 0.9961 0.9961 0.9962\n",
      " 0.9962 0.9963 0.9963 0.9963 0.9964 0.9964 0.9964 0.9965 0.9965 0.9965\n",
      " 0.9966 0.9966 0.9966 0.9967 0.9967 0.9967 0.9968 0.9968 0.9968 0.9969\n",
      " 0.9969 0.9969 0.9969 0.997  0.997  0.997  0.9971 0.9971 0.9971 0.9972\n",
      " 0.9972 0.9972 0.9972 0.9973 0.9973 0.9973 0.9974 0.9974 0.9974 0.9974\n",
      " 0.9975 0.9975 0.9975 0.9975 0.9976 0.9976 0.9976 0.9976 0.9977 0.9977\n",
      " 0.9977 0.9977 0.9978 0.9978 0.9978 0.9978 0.9979 0.9979 0.9979 0.9979\n",
      " 0.998  0.998  0.998  0.998  0.998  0.9981 0.9981 0.9981 0.9981 0.9982\n",
      " 0.9982 0.9982 0.9982 0.9982 0.9983 0.9983 0.9983 0.9983 0.9983 0.9984\n",
      " 0.9984 0.9984 0.9984 0.9984 0.9985 0.9985 0.9985 0.9985 0.9985 0.9985\n",
      " 0.9986 0.9986 0.9986 0.9986 0.9986 0.9987 0.9987 0.9987 0.9987 0.9987\n",
      " 0.9987 0.9988 0.9988 0.9988 0.9988 0.9988 0.9988 0.9989 0.9989 0.9989\n",
      " 0.9989 0.9989 0.9989 0.9989 0.999  0.999  0.999  0.999  0.999  0.999\n",
      " 0.999  0.9991 0.9991 0.9991 0.9991 0.9991 0.9991 0.9991 0.9992 0.9992\n",
      " 0.9992 0.9992 0.9992 0.9992 0.9992 0.9992 0.9993 0.9993 0.9993 0.9993\n",
      " 0.9993 0.9993 0.9993 0.9993 0.9993 0.9994 0.9994 0.9994 0.9994 0.9994\n",
      " 0.9994 0.9994 0.9994 0.9994 0.9995 0.9995 0.9995 0.9995 0.9995 0.9995\n",
      " 0.9995 0.9995 0.9995 0.9995 0.9996 0.9996 0.9996 0.9996 0.9996 0.9996\n",
      " 0.9996 0.9996 0.9996 0.9996 0.9996 0.9997 0.9997 0.9997 0.9997 0.9997\n",
      " 0.9997 0.9997 0.9997 0.9997 0.9997 0.9997 0.9997 0.9998 0.9998 0.9998\n",
      " 0.9998 0.9998 0.9998 0.9998 0.9998 0.9998 0.9998 0.9998 0.9998 0.9998\n",
      " 0.9998 0.9998 0.9999 0.9999 0.9999 0.9999 0.9999 0.9999 0.9999 0.9999\n",
      " 0.9999 0.9999 0.9999 0.9999 0.9999 0.9999 0.9999 0.9999 0.9999 0.9999\n",
      " 1.     1.     1.     1.     1.     1.     1.     1.     1.     1.\n",
      " 1.     1.     1.     1.     1.     1.    ]\n",
      "주성분 개수(차원): 172\n"
     ]
    }
   ],
   "source": [
    "# 설명력\n",
    "cumsum=np.round(np.cumsum(pca.explained_variance_ratio_),4)\n",
    "d=np.argmax(cumsum>=0.95)+1 # 최적 주성분 개수\n",
    "\n",
    "print(f\"주성분 누적 설명정도 {cumsum}\")\n",
    "print(f\"주성분 개수(차원): {d}\")"
   ]
  },
  {
   "cell_type": "code",
   "execution_count": 74,
   "id": "37fe2131",
   "metadata": {},
   "outputs": [],
   "source": [
    "# # 설명력 그래프 그려보기\n",
    "# plt.figure(figsize=(15,5))\n",
    "# plt.plot(range(1,2501),cumsum)\n",
    "# plt.plot(d,0.95,'ro')\n",
    "# plt.plot([d,d],[0,0.95],'g--')\n",
    "# plt.xlim(1,2501)\n",
    "# plt.xlabel('Dimention')\n",
    "# plt.ylabel('Explained Variance')\n",
    "# plt.show()"
   ]
  },
  {
   "cell_type": "code",
   "execution_count": null,
   "id": "6b4c7a61",
   "metadata": {},
   "outputs": [],
   "source": []
  },
  {
   "cell_type": "code",
   "execution_count": 75,
   "id": "c3ee269c",
   "metadata": {},
   "outputs": [
    {
     "data": {
      "text/plain": [
       "PCA(n_components=172)"
      ]
     },
     "execution_count": 75,
     "metadata": {},
     "output_type": "execute_result"
    }
   ],
   "source": [
    "# 최적의 주성분 개수로 다시 모델 생성\n",
    "pca=PCA(n_components=d)\n",
    "pca.fit(train_x_bw)"
   ]
  },
  {
   "cell_type": "code",
   "execution_count": 76,
   "id": "d4f288e3",
   "metadata": {},
   "outputs": [],
   "source": [
    "# 주성분 개수 마다 모델과 예측값 구하기 함수\n",
    "def pca_pre(n_pca,data):\n",
    "    pca=PCA(n_components=n_pca)\n",
    "    pca.fit(train_x_bw)\n",
    "    pre_out=pca.transform(data)\n",
    "\n",
    "    return pca, pre_out"
   ]
  },
  {
   "cell_type": "code",
   "execution_count": 77,
   "id": "25bb3c2f",
   "metadata": {},
   "outputs": [],
   "source": [
    "# 원본데이터와 예측데이터의 그래프 비교 함수\n",
    "def compimage(mopca,raw,comp):\n",
    "    plt.figure(figsize=(20,5))\n",
    "    plt.subplot(1,2,1)\n",
    "    plt.imshow(raw.reshape(50,50,1),cmap='gray')\n",
    "    plt.title('원본데이터')\n",
    "    \n",
    "    re_comp=mopca.inverse_transform(comp)\n",
    "    plt.subplot(1,2,2)\n",
    "    plt.imshow(re_comp.reshape(50,50,1),cmap='gray')\n",
    "    plt.title('PCA된 그림')\n",
    "    plt.tight_layout()\n",
    "    plt.show()"
   ]
  },
  {
   "cell_type": "code",
   "execution_count": 78,
   "id": "4f193c6c",
   "metadata": {},
   "outputs": [
    {
     "data": {
      "image/png": "[encoded data removed]",
      "text/plain": [
       "<Figure size 1440x360 with 2 Axes>"
      ]
     },
     "metadata": {
      "needs_background": "light"
     },
     "output_type": "display_data"
    }
   ],
   "source": [
    "mopca,comp=pca_pre(d,test_x_bw)\n",
    "compimage(mopca,test_x_bw[1],comp[1])"
   ]
  },
  {
   "cell_type": "code",
   "execution_count": null,
   "id": "077fd6a1",
   "metadata": {},
   "outputs": [],
   "source": []
  },
  {
   "cell_type": "code",
   "execution_count": 79,
   "id": "7de044b7",
   "metadata": {},
   "outputs": [],
   "source": [
    "# 주성분 개수마다 그래프 그려보기\n",
    "def pca_grape(n_list,data,index):\n",
    "    plt.figure(figsize=(20,10))\n",
    "    r=2\n",
    "    c=5\n",
    "    for n in range(r):\n",
    "        for k in range(c):\n",
    "            if n_list[n*c+k]==1:\n",
    "                plt.subplot(r,c,n*c+k+1)\n",
    "                plt.imshow(data[index].reshape(50,50,1),cmap='gray')\n",
    "                plt.title('원본데이터')\n",
    "            else:\n",
    "                pca=PCA(n_components=n_list[n*c+k])\n",
    "                pca.fit(train_x_bw)\n",
    "                pre_out=pca.transform(data)\n",
    "\n",
    "                re_comp=pca.inverse_transform(pre_out[index])\n",
    "                plt.subplot(r,c,n*c+k+1)\n",
    "                plt.imshow(re_comp.reshape(50,50,1),cmap='gray')\n",
    "                plt.title(f'주성분 개수가 {n_list[n*c+k]}일때')\n",
    "    plt.tight_layout()\n",
    "    plt.show()"
   ]
  },
  {
   "cell_type": "code",
   "execution_count": 96,
   "id": "e472f906",
   "metadata": {},
   "outputs": [],
   "source": [
    "# print(f\"이 사진의 브랜드 이름은 {brand[test_y[0]]}\")\n",
    "# pca_grape([1,30,40,50,100,200,500,834,1000,2000],test_x_bw,0)"
   ]
  },
  {
   "cell_type": "code",
   "execution_count": 97,
   "id": "d2a0692d",
   "metadata": {},
   "outputs": [],
   "source": [
    "# print(f\"이 사진의 브랜드 이름은 {brand[test_y[100]]}\")\n",
    "# pca_grape([1,25,60,100,200,345,567,834,900,2500],test_x_bw,100)"
   ]
  },
  {
   "cell_type": "markdown",
   "id": "dc6a5fe4",
   "metadata": {},
   "source": [
    "## 컬러"
   ]
  },
  {
   "cell_type": "code",
   "execution_count": 83,
   "id": "f0aa8b09",
   "metadata": {},
   "outputs": [],
   "source": [
    "pcacolor=PCA()"
   ]
  },
  {
   "cell_type": "code",
   "execution_count": 84,
   "id": "14fb036a",
   "metadata": {},
   "outputs": [
    {
     "data": {
      "text/plain": [
       "PCA()"
      ]
     },
     "execution_count": 84,
     "metadata": {},
     "output_type": "execute_result"
    }
   ],
   "source": [
    "pcacolor.fit(train_x_co)"
   ]
  },
  {
   "cell_type": "code",
   "execution_count": 85,
   "id": "9e0981bf",
   "metadata": {},
   "outputs": [
    {
     "name": "stdout",
     "output_type": "stream",
     "text": [
      "누적 설명력은 [0.327986 0.387369 0.431969 0.474348 0.505081 0.531794 0.554232 0.568168\n",
      " 0.581007 0.592863 0.603568 0.61409  0.623425 0.632021 0.640055 0.64782\n",
      " 0.655054 0.661741 0.668357 0.674696 0.680892 0.686862 0.692608 0.698217\n",
      " 0.703551 0.70878  0.713796 0.718563 0.723095 0.727601 0.731925 0.736079\n",
      " 0.740101 0.744018 0.74781  0.751417 0.754856 0.758208 0.761451 0.76461\n",
      " 0.767668 0.77067  0.773581 0.776412 0.779204 0.781898 0.784539 0.787172\n",
      " 0.789694 0.792136 0.794529 0.796888 0.799218 0.801498 0.803652 0.805773\n",
      " 0.807865 0.809913 0.811916 0.813885 0.815847 0.817751 0.819607 0.821443\n",
      " 0.82326  0.825032 0.82676  0.828465 0.830153 0.831812 0.833437 0.835033\n",
      " 0.8366   0.838147 0.839654 0.841155 0.842625 0.844077 0.845525 0.846945\n",
      " 0.848339 0.849715 0.85108  0.852419 0.853738 0.855036 0.856305 0.85756\n",
      " 0.858798 0.860035 0.861243 0.862443 0.863615 0.864782 0.865935 0.867073\n",
      " 0.8682   0.869307 0.870405 0.871489 0.872564 0.873628 0.874676 0.875716\n",
      " 0.876751 0.87778  0.878781 0.879774 0.880763 0.881735 0.882702 0.883662\n",
      " 0.884609 0.885545 0.88646  0.887368 0.888274 0.889178 0.890068 0.890947\n",
      " 0.891819 0.892684 0.893536 0.894381 0.895218 0.896047 0.896865 0.897678\n",
      " 0.898481 0.899268 0.900053 0.900828 0.901591 0.902347 0.903101 0.903851\n",
      " 0.90459  0.905318 0.906043 0.906756 0.907466 0.908163 0.908852 0.909535\n",
      " 0.910212 0.910887 0.911559 0.912221 0.912876 0.913524 0.914168 0.914806\n",
      " 0.915438 0.916066 0.91669  0.917309 0.917921 0.918524 0.919122 0.919716\n",
      " 0.920301 0.920884 0.921461 0.922036 0.922603 0.923169 0.92373  0.924285\n",
      " 0.924836 0.925376 0.925914 0.926446 0.926977 0.927499 0.928019 0.928538\n",
      " 0.929049 0.92956  0.930065 0.930567 0.931067 0.931563 0.932052 0.932534\n",
      " 0.933014 0.933493 0.933961 0.934428 0.934891 0.93535  0.935802 0.936245\n",
      " 0.936686 0.937124 0.937557 0.937989 0.938418 0.938844 0.939266 0.939686\n",
      " 0.940103 0.940515 0.940924 0.941328 0.941733 0.942134 0.942531 0.942924\n",
      " 0.943313 0.943701 0.944087 0.944469 0.944849 0.945226 0.9456   0.945972\n",
      " 0.946343 0.946708 0.947069 0.947428 0.947784 0.948139 0.948489 0.948836\n",
      " 0.949182 0.949527 0.949868 0.950208 0.950546 0.950879 0.951212 0.951541\n",
      " 0.951868 0.952194 0.952518 0.952837 0.953156 0.953472 0.953787 0.954098\n",
      " 0.954407 0.954715 0.95502  0.955323 0.955624 0.955924 0.956219 0.956513\n",
      " 0.956805 0.957095 0.957384 0.957668 0.957952 0.958233 0.958513 0.958791\n",
      " 0.959068 0.959341 0.959612 0.959882 0.960149 0.960414 0.960679 0.960941\n",
      " 0.961202 0.961462 0.961719 0.961974 0.962226 0.962478 0.962728 0.962976\n",
      " 0.963223 0.963467 0.963711 0.963952 0.964192 0.96443  0.964666 0.964901\n",
      " 0.965135 0.965367 0.965596 0.965825 0.966053 0.966278 0.966502 0.966724\n",
      " 0.966945 0.967164 0.967383 0.9676   0.967816 0.968032 0.968244 0.968455\n",
      " 0.968665 0.968873 0.969081 0.969288 0.969494 0.969699 0.969901 0.970102\n",
      " 0.9703   0.970498 0.970695 0.97089  0.971084 0.971277 0.971468 0.971658\n",
      " 0.971848 0.972037 0.972225 0.972411 0.972596 0.972779 0.972962 0.973143\n",
      " 0.973324 0.973504 0.973683 0.97386  0.974038 0.974214 0.974389 0.974562\n",
      " 0.974736 0.974907 0.975076 0.975244 0.975411 0.975578 0.975743 0.975908\n",
      " 0.976071 0.976233 0.976394 0.976554 0.976714 0.976873 0.97703  0.977187\n",
      " 0.977342 0.977497 0.977651 0.977805 0.977957 0.978109 0.97826  0.97841\n",
      " 0.978558 0.978705 0.97885  0.978995 0.979138 0.979282 0.979424 0.979566\n",
      " 0.979708 0.979848 0.979987 0.980126 0.980264 0.980401 0.980537 0.980674\n",
      " 0.980809 0.980943 0.981077 0.981209 0.981341 0.981472 0.981602 0.98173\n",
      " 0.981859 0.981987 0.982114 0.98224  0.982365 0.98249  0.982615 0.982739\n",
      " 0.982861 0.982983 0.983104 0.983225 0.983345 0.983464 0.983582 0.9837\n",
      " 0.983816 0.983932 0.984047 0.984162 0.984277 0.984389 0.984501 0.984613\n",
      " 0.984723 0.984833 0.984943 0.985052 0.98516  0.985268 0.985376 0.985482\n",
      " 0.985587 0.985693 0.985798 0.985902 0.986005 0.986109 0.98621  0.986311\n",
      " 0.986412 0.986513 0.986612 0.986711 0.98681  0.986907 0.987004 0.987101\n",
      " 0.987198 0.987293 0.987388 0.987482 0.987576 0.987669 0.987761 0.987854\n",
      " 0.987945 0.988035 0.988125 0.988215 0.988304 0.988393 0.988481 0.988569\n",
      " 0.988656 0.988743 0.988829 0.988915 0.989    0.989085 0.98917  0.989253\n",
      " 0.989336 0.989419 0.989502 0.989583 0.989664 0.989745 0.989826 0.989906\n",
      " 0.989986 0.990066 0.990144 0.990222 0.990299 0.990377 0.990454 0.99053\n",
      " 0.990606 0.990682 0.990757 0.990832 0.990907 0.990981 0.991054 0.991127\n",
      " 0.991199 0.991271 0.991342 0.991413 0.991484 0.991554 0.991624 0.991693\n",
      " 0.991762 0.991831 0.991899 0.991967 0.992035 0.992102 0.992168 0.992235\n",
      " 0.9923   0.992366 0.99243  0.992495 0.992559 0.992622 0.992686 0.992749\n",
      " 0.992811 0.992873 0.992935 0.992997 0.993058 0.993118 0.993179 0.993239\n",
      " 0.993299 0.993358 0.993417 0.993476 0.993534 0.993592 0.99365  0.993707\n",
      " 0.993765 0.993821 0.993877 0.993933 0.993989 0.994044 0.994099 0.994154\n",
      " 0.994208 0.994261 0.994315 0.994368 0.994421 0.994474 0.994527 0.994579\n",
      " 0.994631 0.994682 0.994733 0.994785 0.994835 0.994886 0.994936 0.994986\n",
      " 0.995036 0.995085 0.995134 0.995183 0.995231 0.995279 0.995327 0.995374\n",
      " 0.995421 0.995468 0.995515 0.995561 0.995607 0.995652 0.995698 0.995743\n",
      " 0.995788 0.995832 0.995877 0.995921 0.995965 0.996008 0.996051 0.996094\n",
      " 0.996136 0.996179 0.996221 0.996263 0.996304 0.996345 0.996387 0.996427\n",
      " 0.996468 0.996509 0.996549 0.996588 0.996628 0.996667 0.996706 0.996745\n",
      " 0.996784 0.996821 0.996859 0.996897 0.996934 0.996972 0.997009 0.997046\n",
      " 0.997082 0.997118 0.997154 0.99719  0.997225 0.99726  0.997295 0.99733\n",
      " 0.997364 0.997398 0.997432 0.997466 0.997499 0.997532 0.997565 0.997598\n",
      " 0.997631 0.997663 0.997695 0.997727 0.997759 0.99779  0.997822 0.997853\n",
      " 0.997884 0.997915 0.997945 0.997975 0.998005 0.998035 0.998064 0.998094\n",
      " 0.998123 0.998152 0.998181 0.998209 0.998238 0.998266 0.998294 0.998321\n",
      " 0.998349 0.998377 0.998404 0.998431 0.998458 0.998484 0.99851  0.998536\n",
      " 0.998562 0.998588 0.998614 0.998639 0.998664 0.998689 0.998714 0.998738\n",
      " 0.998763 0.998787 0.998811 0.998835 0.998858 0.998882 0.998905 0.998928\n",
      " 0.998951 0.998974 0.998996 0.999018 0.999041 0.999063 0.999084 0.999106\n",
      " 0.999127 0.999149 0.99917  0.999191 0.999212 0.999232 0.999252 0.999273\n",
      " 0.999292 0.999312 0.999331 0.999351 0.99937  0.999388 0.999407 0.999426\n",
      " 0.999444 0.999462 0.99948  0.999497 0.999515 0.999532 0.999549 0.999566\n",
      " 0.999583 0.9996   0.999617 0.999633 0.999649 0.999665 0.999681 0.999696\n",
      " 0.999711 0.999726 0.999741 0.999755 0.99977  0.999784 0.999798 0.999812\n",
      " 0.999826 0.999839 0.999852 0.999865 0.999878 0.999891 0.999903 0.999915\n",
      " 0.999927 0.999939 0.99995  0.999961 0.999972 0.999982 0.999991 1.\n",
      " 1.       1.       1.       1.      ]\n",
      "최적의 차원 개수는 228입니다.\n"
     ]
    }
   ],
   "source": [
    "# 누적 설명력과 최적 차원개수 구하기\n",
    "cumsum_co=np.round(np.cumsum(pcacolor.explained_variance_ratio_),6)\n",
    "d=np.argmax(cumsum_co>=0.95)+1\n",
    "\n",
    "print(f\"누적 설명력은 {cumsum_co}\")\n",
    "print(f\"최적의 차원 개수는 {d}입니다.\")"
   ]
  },
  {
   "cell_type": "code",
   "execution_count": 87,
   "id": "cea109da",
   "metadata": {},
   "outputs": [],
   "source": [
    "# # 누적 설명력 그래프 그리기\n",
    "# plt.figure(figsize=(20,5))\n",
    "# plt.plot(range(1,2501),cumsum)\n",
    "# plt.plot(d,0.95,'ro')\n",
    "# plt.plot([d,d],[0,0.95],'g--')\n",
    "# plt.xlim(1,2501)\n",
    "# plt.show()"
   ]
  },
  {
   "cell_type": "code",
   "execution_count": 88,
   "id": "6fc68fe4",
   "metadata": {},
   "outputs": [],
   "source": [
    "# 주성분 개수마다 그래프 그려보기 => 색깔\n",
    "def pca_grape(n_list,data,index):\n",
    "    plt.figure(figsize=(20,10))\n",
    "    r=2\n",
    "    c=5\n",
    "    for n in range(r):\n",
    "        for k in range(c):\n",
    "            if n_list[n*c+k]==1:\n",
    "                plt.subplot(r,c,n*c+k+1)\n",
    "                plt.imshow(data[index].reshape(50,50,3))\n",
    "                plt.title('원본데이터')\n",
    "            else:\n",
    "                pca=PCA(n_components=n_list[n*c+k])\n",
    "                pca.fit(train_x_co)\n",
    "                pre_out=pca.transform(data)\n",
    "\n",
    "                re_comp=pca.inverse_transform(pre_out[index])\n",
    "                plt.subplot(r,c,n*c+k+1)\n",
    "                plt.imshow(re_comp.reshape(50,50,3),vmin=0,vmax=1)\n",
    "                plt.title(f'주성분 개수가 {n_list[n*c+k]}일때')\n",
    "    plt.tight_layout()\n",
    "    plt.show()"
   ]
  },
  {
   "cell_type": "code",
   "execution_count": 98,
   "id": "9ce6ae71",
   "metadata": {},
   "outputs": [],
   "source": [
    "# print(f\"이 사진의 브랜드 이름은 {brand[test_y[10]]}\")\n",
    "# pca_grape([1,10,59,167,540,900,2000,2300,2400,2450],test_x_co,62)"
   ]
  },
  {
   "cell_type": "code",
   "execution_count": null,
   "id": "fa9bd3f6",
   "metadata": {},
   "outputs": [],
   "source": []
  },
  {
   "cell_type": "code",
   "execution_count": 100,
   "id": "9bc0a09b",
   "metadata": {},
   "outputs": [],
   "source": [
    "import tensorflow as tf\n",
    "from keras.applications.vgg16 import VGG16\n",
    "from keras import layers,callbacks,Sequential"
   ]
  },
  {
   "cell_type": "code",
   "execution_count": 109,
   "id": "b4ba46af",
   "metadata": {},
   "outputs": [],
   "source": [
    "# # 사전 학습된 VGG16모델 불러오기\n",
    "# model=VGG16(weights='imagenet',include_top=False,input_shape=(50,50,3))"
   ]
  },
  {
   "cell_type": "code",
   "execution_count": 110,
   "id": "ac2869cf",
   "metadata": {},
   "outputs": [],
   "source": [
    "# # 모델 확인\n",
    "# model.summary(show_trainable=True)"
   ]
  },
  {
   "cell_type": "code",
   "execution_count": 111,
   "id": "a4ca3ab7",
   "metadata": {},
   "outputs": [],
   "source": [
    "# remodel = Sequential()\n",
    "# remodel.add(model)\n",
    "# remodel.add(layers.Flatten())\n",
    "# remodel.add(layers.Dense(512,activation='relu'))\n",
    "# remodel.add(layers.Dropout(0.5))\n",
    "# remodel.add(layers.Dense(216,activation='relu'))\n",
    "# remodel.add(layers.Dropout(0.5))\n",
    "# remodel.add(layers.Dense(26, activation='softmax'))"
   ]
  },
  {
   "cell_type": "code",
   "execution_count": 112,
   "id": "18670e37",
   "metadata": {},
   "outputs": [],
   "source": [
    "# remodel.compile(optimizer='adam',loss='sparse_categorical_crossentropy',metrics='accuracy')"
   ]
  },
  {
   "cell_type": "code",
   "execution_count": 113,
   "id": "9a32d5f3",
   "metadata": {},
   "outputs": [],
   "source": [
    "# modelES=callbacks.EarlyStopping(monitor='val_accuracy',patience=5)\n",
    "# modelMC=callbacks.ModelCheckpoint('best_model',save_best_only=True,save_weights_only=True)"
   ]
  },
  {
   "cell_type": "code",
   "execution_count": 114,
   "id": "d85b83d7",
   "metadata": {},
   "outputs": [],
   "source": [
    "# remodel.summary()"
   ]
  },
  {
   "cell_type": "code",
   "execution_count": 135,
   "id": "be51671e",
   "metadata": {},
   "outputs": [],
   "source": [
    "train_xx = train_x_co.reshape(-1,50,50,3)\n",
    "test_xx = test_x_co.reshape(-1,50,50,3)\n",
    "val_xx = val_x_co.reshape(-1,50,50,3)"
   ]
  },
  {
   "cell_type": "code",
   "execution_count": 123,
   "id": "cf88909a",
   "metadata": {
    "scrolled": true
   },
   "outputs": [
    {
     "data": {
      "text/plain": [
       "(716, 50, 50, 3)"
      ]
     },
     "execution_count": 123,
     "metadata": {},
     "output_type": "execute_result"
    }
   ],
   "source": [
    "train_xx.shape"
   ]
  },
  {
   "cell_type": "code",
   "execution_count": 124,
   "id": "b2fe583c",
   "metadata": {},
   "outputs": [
    {
     "data": {
      "text/plain": [
       "(716,)"
      ]
     },
     "execution_count": 124,
     "metadata": {},
     "output_type": "execute_result"
    }
   ],
   "source": [
    "train_y.shape"
   ]
  },
  {
   "cell_type": "code",
   "execution_count": 116,
   "id": "776690e9",
   "metadata": {},
   "outputs": [],
   "source": [
    "# remodel.fit(train_xx,train_y,callbacks=[modelES,modelMC],validation_data=(val_xx,val_y),epochs=100)"
   ]
  },
  {
   "cell_type": "code",
   "execution_count": null,
   "id": "2801175a",
   "metadata": {},
   "outputs": [],
   "source": []
  },
  {
   "cell_type": "code",
   "execution_count": 117,
   "id": "83294de2",
   "metadata": {},
   "outputs": [],
   "source": [
    "model=Sequential()\n",
    "model.add(Conv2D(58, kernel_size=3, activation='relu', padding='same', input_shape=(50,50,3)))\n",
    "model.add(MaxPool2D())\n",
    "model.add(Conv2D(100, kernel_size=3, padding='same'))\n",
    "model.add(MaxPool2D())\n",
    "model.add(Flatten())\n",
    "model.add(Dense(100, activation='relu'))\n",
    "model.add(Dense(26, activation='softmax'))"
   ]
  },
  {
   "cell_type": "code",
   "execution_count": 118,
   "id": "15e0bd4c",
   "metadata": {},
   "outputs": [
    {
     "name": "stdout",
     "output_type": "stream",
     "text": [
      "Model: \"sequential_1\"\n",
      "_________________________________________________________________\n",
      " Layer (type)                Output Shape              Param #   \n",
      "=================================================================\n",
      " conv2d (Conv2D)             (None, 50, 50, 58)        1624      \n",
      "                                                                 \n",
      " max_pooling2d (MaxPooling2D  (None, 25, 25, 58)       0         \n",
      " )                                                               \n",
      "                                                                 \n",
      " conv2d_1 (Conv2D)           (None, 25, 25, 100)       52300     \n",
      "                                                                 \n",
      " max_pooling2d_1 (MaxPooling  (None, 12, 12, 100)      0         \n",
      " 2D)                                                             \n",
      "                                                                 \n",
      " flatten_1 (Flatten)         (None, 14400)             0         \n",
      "                                                                 \n",
      " dense_3 (Dense)             (None, 100)               1440100   \n",
      "                                                                 \n",
      " dense_4 (Dense)             (None, 26)                2626      \n",
      "                                                                 \n",
      "=================================================================\n",
      "Total params: 1,496,650\n",
      "Trainable params: 1,496,650\n",
      "Non-trainable params: 0\n",
      "_________________________________________________________________\n"
     ]
    }
   ],
   "source": [
    "model.summary()"
   ]
  },
  {
   "cell_type": "code",
   "execution_count": 120,
   "id": "6f9ce157",
   "metadata": {},
   "outputs": [],
   "source": [
    "# ImageDataGenerator\n",
    "train_datagen = ImageDataGenerator(\n",
    "    \n",
    "    rotation_range=30,\n",
    "    shear_range=0.2,\n",
    "    zoom_range=0.4,\n",
    "    horizontal_flip=True\n",
    ")\n",
    "train_datagen.fit(train_xx)"
   ]
  },
  {
   "cell_type": "code",
   "execution_count": 121,
   "id": "89b03f62",
   "metadata": {},
   "outputs": [],
   "source": [
    "model.compile(optimizer='adam',loss='sparse_categorical_crossentropy',metrics=['accuracy'])"
   ]
  },
  {
   "cell_type": "code",
   "execution_count": 125,
   "id": "3a963d14",
   "metadata": {},
   "outputs": [
    {
     "name": "stdout",
     "output_type": "stream",
     "text": [
      "Epoch 1/100\n",
      "22/22 [==============================] - 2s 73ms/step - loss: 2.1393 - accuracy: 0.1637 - val_loss: 1.6989 - val_accuracy: 0.3111\n",
      "Epoch 2/100\n",
      "22/22 [==============================] - 2s 67ms/step - loss: 1.6697 - accuracy: 0.2880 - val_loss: 1.5820 - val_accuracy: 0.3444\n",
      "Epoch 3/100\n",
      "22/22 [==============================] - 2s 71ms/step - loss: 1.5583 - accuracy: 0.3816 - val_loss: 1.4547 - val_accuracy: 0.3833\n",
      "Epoch 4/100\n",
      "22/22 [==============================] - 2s 74ms/step - loss: 1.4572 - accuracy: 0.4006 - val_loss: 1.4109 - val_accuracy: 0.4444\n",
      "Epoch 5/100\n",
      "22/22 [==============================] - 2s 75ms/step - loss: 1.4062 - accuracy: 0.4050 - val_loss: 1.3634 - val_accuracy: 0.4222\n",
      "Epoch 6/100\n",
      "22/22 [==============================] - 2s 76ms/step - loss: 1.3299 - accuracy: 0.4547 - val_loss: 1.3774 - val_accuracy: 0.4167\n",
      "Epoch 7/100\n",
      "22/22 [==============================] - 2s 80ms/step - loss: 1.3235 - accuracy: 0.4488 - val_loss: 1.3487 - val_accuracy: 0.4222\n",
      "Epoch 8/100\n",
      "22/22 [==============================] - 2s 79ms/step - loss: 1.2594 - accuracy: 0.5044 - val_loss: 1.3317 - val_accuracy: 0.4667\n",
      "Epoch 9/100\n",
      "22/22 [==============================] - 2s 80ms/step - loss: 1.2031 - accuracy: 0.5307 - val_loss: 1.1827 - val_accuracy: 0.5333\n",
      "Epoch 10/100\n",
      "22/22 [==============================] - 2s 81ms/step - loss: 1.1273 - accuracy: 0.5702 - val_loss: 1.2090 - val_accuracy: 0.5111\n",
      "Epoch 11/100\n",
      "22/22 [==============================] - 2s 81ms/step - loss: 1.1736 - accuracy: 0.5322 - val_loss: 1.2996 - val_accuracy: 0.4667\n",
      "Epoch 12/100\n",
      "22/22 [==============================] - 2s 85ms/step - loss: 1.1588 - accuracy: 0.5556 - val_loss: 1.2051 - val_accuracy: 0.5167\n",
      "Epoch 13/100\n",
      "22/22 [==============================] - 2s 82ms/step - loss: 1.1311 - accuracy: 0.5380 - val_loss: 1.2430 - val_accuracy: 0.5111\n",
      "Epoch 14/100\n",
      "22/22 [==============================] - 2s 87ms/step - loss: 1.0927 - accuracy: 0.5453 - val_loss: 1.1788 - val_accuracy: 0.4778\n",
      "Epoch 15/100\n",
      "22/22 [==============================] - 2s 85ms/step - loss: 1.0021 - accuracy: 0.6155 - val_loss: 1.0164 - val_accuracy: 0.5611\n",
      "Epoch 16/100\n",
      "22/22 [==============================] - 2s 86ms/step - loss: 0.9644 - accuracy: 0.6345 - val_loss: 1.0977 - val_accuracy: 0.5278\n",
      "Epoch 17/100\n",
      "22/22 [==============================] - 2s 86ms/step - loss: 0.9261 - accuracy: 0.6404 - val_loss: 1.0478 - val_accuracy: 0.6222\n",
      "Epoch 18/100\n",
      "22/22 [==============================] - 2s 92ms/step - loss: 0.8884 - accuracy: 0.6506 - val_loss: 1.0087 - val_accuracy: 0.6389\n",
      "Epoch 19/100\n",
      "22/22 [==============================] - 2s 87ms/step - loss: 0.9482 - accuracy: 0.6213 - val_loss: 0.9348 - val_accuracy: 0.6444\n",
      "Epoch 20/100\n",
      "22/22 [==============================] - 2s 85ms/step - loss: 0.9560 - accuracy: 0.6096 - val_loss: 1.0779 - val_accuracy: 0.5944\n",
      "Epoch 21/100\n",
      "22/22 [==============================] - 2s 87ms/step - loss: 0.9523 - accuracy: 0.6374 - val_loss: 1.0164 - val_accuracy: 0.6222\n",
      "Epoch 22/100\n",
      "22/22 [==============================] - 2s 86ms/step - loss: 0.8674 - accuracy: 0.6579 - val_loss: 0.9750 - val_accuracy: 0.6111\n",
      "Epoch 23/100\n",
      "22/22 [==============================] - 2s 85ms/step - loss: 0.8250 - accuracy: 0.6857 - val_loss: 1.0225 - val_accuracy: 0.6167\n",
      "Epoch 24/100\n",
      "22/22 [==============================] - 2s 88ms/step - loss: 0.7987 - accuracy: 0.6798 - val_loss: 1.0231 - val_accuracy: 0.5778\n",
      "Epoch 25/100\n",
      "22/22 [==============================] - 2s 85ms/step - loss: 0.7655 - accuracy: 0.7091 - val_loss: 0.9456 - val_accuracy: 0.6444\n",
      "Epoch 26/100\n",
      "22/22 [==============================] - 2s 83ms/step - loss: 0.7306 - accuracy: 0.7222 - val_loss: 0.7888 - val_accuracy: 0.6778\n",
      "Epoch 27/100\n",
      "22/22 [==============================] - 2s 83ms/step - loss: 0.7191 - accuracy: 0.7149 - val_loss: 0.7384 - val_accuracy: 0.7000\n",
      "Epoch 28/100\n",
      "22/22 [==============================] - 2s 83ms/step - loss: 0.7216 - accuracy: 0.7354 - val_loss: 0.8625 - val_accuracy: 0.6556\n",
      "Epoch 29/100\n",
      "22/22 [==============================] - 2s 83ms/step - loss: 0.7135 - accuracy: 0.7339 - val_loss: 0.9301 - val_accuracy: 0.6278\n",
      "Epoch 30/100\n",
      "22/22 [==============================] - 2s 87ms/step - loss: 0.6652 - accuracy: 0.7515 - val_loss: 0.7665 - val_accuracy: 0.7111\n",
      "Epoch 31/100\n",
      "22/22 [==============================] - 2s 84ms/step - loss: 0.5778 - accuracy: 0.7792 - val_loss: 0.8802 - val_accuracy: 0.6389\n",
      "Epoch 32/100\n",
      "22/22 [==============================] - 2s 84ms/step - loss: 0.5589 - accuracy: 0.7822 - val_loss: 0.7910 - val_accuracy: 0.6944\n",
      "Epoch 33/100\n",
      "22/22 [==============================] - 2s 100ms/step - loss: 0.5668 - accuracy: 0.7851 - val_loss: 0.9560 - val_accuracy: 0.6556\n",
      "Epoch 34/100\n",
      "22/22 [==============================] - 2s 87ms/step - loss: 0.5650 - accuracy: 0.7982 - val_loss: 0.7697 - val_accuracy: 0.7333\n",
      "Epoch 35/100\n",
      "22/22 [==============================] - 2s 84ms/step - loss: 0.4865 - accuracy: 0.8275 - val_loss: 0.7090 - val_accuracy: 0.7389\n",
      "Epoch 36/100\n",
      "22/22 [==============================] - 2s 90ms/step - loss: 0.5179 - accuracy: 0.7997 - val_loss: 0.7741 - val_accuracy: 0.6889\n",
      "Epoch 37/100\n",
      "22/22 [==============================] - 2s 92ms/step - loss: 0.5628 - accuracy: 0.7792 - val_loss: 0.7759 - val_accuracy: 0.7500\n",
      "Epoch 38/100\n",
      "22/22 [==============================] - 2s 91ms/step - loss: 0.5155 - accuracy: 0.7997 - val_loss: 0.8465 - val_accuracy: 0.6556\n",
      "Epoch 39/100\n",
      "22/22 [==============================] - 2s 89ms/step - loss: 0.5724 - accuracy: 0.7865 - val_loss: 0.7340 - val_accuracy: 0.7111\n",
      "Epoch 40/100\n",
      "22/22 [==============================] - 2s 90ms/step - loss: 0.5216 - accuracy: 0.8173 - val_loss: 0.7753 - val_accuracy: 0.7056\n",
      "Epoch 41/100\n",
      "22/22 [==============================] - 2s 86ms/step - loss: 0.5320 - accuracy: 0.8026 - val_loss: 0.7981 - val_accuracy: 0.7167\n",
      "Epoch 42/100\n",
      "22/22 [==============================] - 2s 86ms/step - loss: 0.4231 - accuracy: 0.8640 - val_loss: 0.6211 - val_accuracy: 0.7667\n",
      "Epoch 43/100\n",
      "22/22 [==============================] - 2s 85ms/step - loss: 0.4067 - accuracy: 0.8655 - val_loss: 0.6716 - val_accuracy: 0.7667\n",
      "Epoch 44/100\n",
      "22/22 [==============================] - 2s 85ms/step - loss: 0.4476 - accuracy: 0.8450 - val_loss: 0.6129 - val_accuracy: 0.7556\n",
      "Epoch 45/100\n",
      "22/22 [==============================] - 2s 92ms/step - loss: 0.4242 - accuracy: 0.8480 - val_loss: 0.6710 - val_accuracy: 0.7889\n",
      "Epoch 46/100\n",
      "22/22 [==============================] - 3s 115ms/step - loss: 0.3544 - accuracy: 0.8816 - val_loss: 0.6348 - val_accuracy: 0.7611\n",
      "Epoch 47/100\n",
      "22/22 [==============================] - 3s 114ms/step - loss: 0.4160 - accuracy: 0.8494 - val_loss: 0.7074 - val_accuracy: 0.7333\n",
      "Epoch 48/100\n",
      "22/22 [==============================] - 3s 116ms/step - loss: 0.4325 - accuracy: 0.8480 - val_loss: 0.5956 - val_accuracy: 0.7500\n",
      "Epoch 49/100\n",
      "22/22 [==============================] - 3s 128ms/step - loss: 0.3708 - accuracy: 0.8684 - val_loss: 0.5985 - val_accuracy: 0.7500\n",
      "Epoch 50/100\n",
      "22/22 [==============================] - 3s 113ms/step - loss: 0.3669 - accuracy: 0.8655 - val_loss: 0.6025 - val_accuracy: 0.7944\n",
      "Epoch 51/100\n",
      "22/22 [==============================] - 2s 112ms/step - loss: 0.2553 - accuracy: 0.9167 - val_loss: 0.6416 - val_accuracy: 0.7611\n",
      "Epoch 52/100\n",
      "22/22 [==============================] - 3s 122ms/step - loss: 0.2611 - accuracy: 0.9119 - val_loss: 0.6964 - val_accuracy: 0.7722\n",
      "Epoch 53/100\n",
      "22/22 [==============================] - 3s 117ms/step - loss: 0.2928 - accuracy: 0.8933 - val_loss: 0.6336 - val_accuracy: 0.7611\n",
      "Epoch 54/100\n",
      "22/22 [==============================] - 3s 118ms/step - loss: 0.2513 - accuracy: 0.9064 - val_loss: 0.7524 - val_accuracy: 0.7556\n",
      "Epoch 55/100\n",
      "22/22 [==============================] - 3s 124ms/step - loss: 0.3838 - accuracy: 0.8626 - val_loss: 0.5683 - val_accuracy: 0.7722\n",
      "Epoch 56/100\n",
      "22/22 [==============================] - 3s 135ms/step - loss: 0.2874 - accuracy: 0.8889 - val_loss: 0.5132 - val_accuracy: 0.7778\n",
      "Epoch 57/100\n",
      "22/22 [==============================] - 3s 126ms/step - loss: 0.2483 - accuracy: 0.9211 - val_loss: 0.6178 - val_accuracy: 0.7667\n",
      "Epoch 58/100\n"
     ]
    },
    {
     "name": "stdout",
     "output_type": "stream",
     "text": [
      "22/22 [==============================] - 3s 128ms/step - loss: 0.3193 - accuracy: 0.8918 - val_loss: 0.8067 - val_accuracy: 0.7056\n",
      "Epoch 59/100\n",
      "22/22 [==============================] - 3s 131ms/step - loss: 0.3016 - accuracy: 0.8889 - val_loss: 0.6331 - val_accuracy: 0.8167\n",
      "Epoch 60/100\n",
      "22/22 [==============================] - 3s 136ms/step - loss: 0.2647 - accuracy: 0.9020 - val_loss: 0.4241 - val_accuracy: 0.8500\n",
      "Epoch 61/100\n",
      "22/22 [==============================] - 3s 137ms/step - loss: 0.2652 - accuracy: 0.9050 - val_loss: 0.5077 - val_accuracy: 0.8167\n",
      "Epoch 62/100\n",
      "22/22 [==============================] - 3s 148ms/step - loss: 0.2814 - accuracy: 0.9064 - val_loss: 0.6354 - val_accuracy: 0.7611\n",
      "Epoch 63/100\n",
      "22/22 [==============================] - 3s 146ms/step - loss: 0.3110 - accuracy: 0.8772 - val_loss: 0.6779 - val_accuracy: 0.7611\n",
      "Epoch 64/100\n",
      "22/22 [==============================] - 3s 138ms/step - loss: 0.2703 - accuracy: 0.9079 - val_loss: 0.5821 - val_accuracy: 0.8333\n",
      "Epoch 65/100\n",
      "22/22 [==============================] - 3s 144ms/step - loss: 0.2749 - accuracy: 0.9137 - val_loss: 0.7223 - val_accuracy: 0.8056\n",
      "Epoch 66/100\n",
      "22/22 [==============================] - 3s 135ms/step - loss: 0.4412 - accuracy: 0.8480 - val_loss: 0.7082 - val_accuracy: 0.7833\n",
      "Epoch 67/100\n",
      "22/22 [==============================] - 3s 150ms/step - loss: 0.3195 - accuracy: 0.8845 - val_loss: 0.7437 - val_accuracy: 0.7556\n",
      "Epoch 68/100\n",
      "22/22 [==============================] - 4s 159ms/step - loss: 0.2753 - accuracy: 0.8933 - val_loss: 0.5302 - val_accuracy: 0.7944\n",
      "Epoch 69/100\n",
      "22/22 [==============================] - 3s 146ms/step - loss: 0.2829 - accuracy: 0.8962 - val_loss: 0.4535 - val_accuracy: 0.8722\n",
      "Epoch 70/100\n",
      "22/22 [==============================] - 3s 140ms/step - loss: 0.1965 - accuracy: 0.9254 - val_loss: 0.5667 - val_accuracy: 0.8111\n",
      "Epoch 71/100\n",
      "22/22 [==============================] - 4s 160ms/step - loss: 0.1754 - accuracy: 0.9430 - val_loss: 0.4826 - val_accuracy: 0.8556\n",
      "Epoch 72/100\n",
      "22/22 [==============================] - 3s 152ms/step - loss: 0.1713 - accuracy: 0.9444 - val_loss: 0.5020 - val_accuracy: 0.8500\n",
      "Epoch 73/100\n",
      "22/22 [==============================] - 3s 142ms/step - loss: 0.1738 - accuracy: 0.9401 - val_loss: 0.5274 - val_accuracy: 0.8389\n",
      "Epoch 74/100\n",
      "22/22 [==============================] - 3s 155ms/step - loss: 0.2636 - accuracy: 0.9181 - val_loss: 0.5724 - val_accuracy: 0.8333\n",
      "Epoch 75/100\n",
      "22/22 [==============================] - 3s 150ms/step - loss: 0.2085 - accuracy: 0.9357 - val_loss: 0.3912 - val_accuracy: 0.8667\n",
      "Epoch 76/100\n",
      "22/22 [==============================] - 4s 177ms/step - loss: 0.1683 - accuracy: 0.9327 - val_loss: 0.4725 - val_accuracy: 0.8556\n",
      "Epoch 77/100\n",
      "22/22 [==============================] - 3s 144ms/step - loss: 0.1670 - accuracy: 0.9430 - val_loss: 0.4173 - val_accuracy: 0.8611\n",
      "Epoch 78/100\n",
      "22/22 [==============================] - 3s 149ms/step - loss: 0.2114 - accuracy: 0.9254 - val_loss: 0.4070 - val_accuracy: 0.8722\n",
      "Epoch 79/100\n",
      "22/22 [==============================] - 3s 154ms/step - loss: 0.1644 - accuracy: 0.9474 - val_loss: 0.3425 - val_accuracy: 0.8833\n",
      "Epoch 80/100\n",
      "22/22 [==============================] - 3s 136ms/step - loss: 0.1425 - accuracy: 0.9444 - val_loss: 0.4225 - val_accuracy: 0.8611\n",
      "Epoch 81/100\n",
      "22/22 [==============================] - 3s 130ms/step - loss: 0.1225 - accuracy: 0.9620 - val_loss: 0.3628 - val_accuracy: 0.8833\n",
      "Epoch 82/100\n",
      "22/22 [==============================] - 3s 131ms/step - loss: 0.1545 - accuracy: 0.9401 - val_loss: 0.3446 - val_accuracy: 0.9111\n",
      "Epoch 83/100\n",
      "22/22 [==============================] - 3s 134ms/step - loss: 0.1045 - accuracy: 0.9649 - val_loss: 0.3544 - val_accuracy: 0.9000\n",
      "Epoch 84/100\n",
      "22/22 [==============================] - 3s 135ms/step - loss: 0.1584 - accuracy: 0.9561 - val_loss: 0.3631 - val_accuracy: 0.8944\n",
      "Epoch 85/100\n",
      "22/22 [==============================] - 3s 135ms/step - loss: 0.1569 - accuracy: 0.9518 - val_loss: 0.3598 - val_accuracy: 0.8667\n",
      "Epoch 86/100\n",
      "22/22 [==============================] - 3s 139ms/step - loss: 0.1213 - accuracy: 0.9620 - val_loss: 0.3998 - val_accuracy: 0.8778\n",
      "Epoch 87/100\n",
      "22/22 [==============================] - 3s 134ms/step - loss: 0.1287 - accuracy: 0.9561 - val_loss: 0.3997 - val_accuracy: 0.8722\n",
      "Epoch 88/100\n",
      "22/22 [==============================] - 3s 142ms/step - loss: 0.0950 - accuracy: 0.9766 - val_loss: 0.3174 - val_accuracy: 0.8944\n",
      "Epoch 89/100\n",
      "22/22 [==============================] - 3s 147ms/step - loss: 0.1482 - accuracy: 0.9474 - val_loss: 0.3320 - val_accuracy: 0.8833\n",
      "Epoch 90/100\n",
      "22/22 [==============================] - 3s 134ms/step - loss: 0.0850 - accuracy: 0.9708 - val_loss: 0.3933 - val_accuracy: 0.8667\n",
      "Epoch 91/100\n",
      "22/22 [==============================] - 3s 142ms/step - loss: 0.1352 - accuracy: 0.9503 - val_loss: 0.4637 - val_accuracy: 0.8444\n",
      "Epoch 92/100\n",
      "22/22 [==============================] - 3s 138ms/step - loss: 0.1493 - accuracy: 0.9430 - val_loss: 0.4128 - val_accuracy: 0.8389\n",
      "Epoch 93/100\n",
      "22/22 [==============================] - 3s 135ms/step - loss: 0.0868 - accuracy: 0.9766 - val_loss: 0.3953 - val_accuracy: 0.8944\n",
      "Epoch 94/100\n",
      "22/22 [==============================] - 3s 145ms/step - loss: 0.1139 - accuracy: 0.9605 - val_loss: 0.4137 - val_accuracy: 0.8944\n",
      "Epoch 95/100\n",
      "22/22 [==============================] - 3s 146ms/step - loss: 0.1712 - accuracy: 0.9459 - val_loss: 0.5211 - val_accuracy: 0.8389\n",
      "Epoch 96/100\n",
      "22/22 [==============================] - 3s 133ms/step - loss: 0.1986 - accuracy: 0.9327 - val_loss: 0.4582 - val_accuracy: 0.8667\n",
      "Epoch 97/100\n",
      "22/22 [==============================] - 3s 133ms/step - loss: 0.1647 - accuracy: 0.9518 - val_loss: 0.4267 - val_accuracy: 0.8778\n",
      "Epoch 98/100\n",
      "22/22 [==============================] - 3s 140ms/step - loss: 0.1624 - accuracy: 0.9430 - val_loss: 0.5717 - val_accuracy: 0.8500\n",
      "Epoch 99/100\n",
      "22/22 [==============================] - 3s 134ms/step - loss: 0.1600 - accuracy: 0.9459 - val_loss: 0.3920 - val_accuracy: 0.8889\n",
      "Epoch 100/100\n",
      "22/22 [==============================] - 3s 134ms/step - loss: 0.0975 - accuracy: 0.9664 - val_loss: 0.3893 - val_accuracy: 0.9111\n"
     ]
    }
   ],
   "source": [
    "History1 = model.fit_generator(train_datagen.flow(train_xx,train_y, batch_size=32),\n",
    "                              epochs = 100, validation_data = (val_xx,val_y),\n",
    "                              verbose = 1, steps_per_epoch=train_xx.shape[0] // 32)"
   ]
  },
  {
   "cell_type": "code",
   "execution_count": 126,
   "id": "d33277a0",
   "metadata": {},
   "outputs": [
    {
     "name": "stdout",
     "output_type": "stream",
     "text": [
      "You must install pydot (`pip install pydot`) and install graphviz (see instructions at https://graphviz.gitlab.io/download/) for plot_model to work.\n"
     ]
    }
   ],
   "source": [
    "plot_model(model, show_shapes=True)"
   ]
  },
  {
   "cell_type": "code",
   "execution_count": 132,
   "id": "f77b63fd",
   "metadata": {
    "scrolled": true
   },
   "outputs": [
    {
     "data": {
      "text/plain": [
       "(224, 7500)"
      ]
     },
     "execution_count": 132,
     "metadata": {},
     "output_type": "execute_result"
    }
   ],
   "source": [
    "test_x_co.shape"
   ]
  },
  {
   "cell_type": "code",
   "execution_count": 133,
   "id": "3fd9c92b",
   "metadata": {},
   "outputs": [
    {
     "data": {
      "text/plain": [
       "(224,)"
      ]
     },
     "execution_count": 133,
     "metadata": {},
     "output_type": "execute_result"
    }
   ],
   "source": [
    "test_y.shape"
   ]
  },
  {
   "cell_type": "code",
   "execution_count": 137,
   "id": "98478e48",
   "metadata": {},
   "outputs": [
    {
     "name": "stdout",
     "output_type": "stream",
     "text": [
      "7/7 [==============================] - 0s 17ms/step - loss: 0.3702 - accuracy: 0.9018\n"
     ]
    },
    {
     "data": {
      "text/plain": [
       "[0.3701874911785126, 0.9017857313156128]"
      ]
     },
     "execution_count": 137,
     "metadata": {},
     "output_type": "execute_result"
    }
   ],
   "source": [
    "model.evaluate(test_xx, test_y)"
   ]
  },
  {
   "cell_type": "code",
   "execution_count": 138,
   "id": "167d03b6",
   "metadata": {},
   "outputs": [
    {
     "name": "stdout",
     "output_type": "stream",
     "text": [
      "1/1 [==============================] - 0s 78ms/step\n"
     ]
    }
   ],
   "source": [
    "pre_y=model.predict(test_xx[30].reshape(-1, 50, 50, 3))"
   ]
  },
  {
   "cell_type": "code",
   "execution_count": 139,
   "id": "a2891db1",
   "metadata": {
    "scrolled": true
   },
   "outputs": [
    {
     "data": {
      "text/plain": [
       "array([[0.  , 0.06, 0.01, 0.  , 0.48, 0.45, 0.  , 0.  , 0.  , 0.  , 0.  ,\n",
       "        0.  , 0.  , 0.  , 0.  , 0.  , 0.  , 0.  , 0.  , 0.  , 0.  , 0.  ,\n",
       "        0.  , 0.  , 0.  , 0.  ]], dtype=float32)"
      ]
     },
     "execution_count": 139,
     "metadata": {},
     "output_type": "execute_result"
    }
   ],
   "source": [
    "pre_y.round(2)"
   ]
  },
  {
   "cell_type": "code",
   "execution_count": 141,
   "id": "7beba94f",
   "metadata": {},
   "outputs": [
    {
     "data": {
      "text/plain": [
       "4"
      ]
     },
     "execution_count": 141,
     "metadata": {},
     "output_type": "execute_result"
    }
   ],
   "source": [
    "test_y[30]"
   ]
  },
  {
   "cell_type": "code",
   "execution_count": null,
   "id": "083a3d1b",
   "metadata": {},
   "outputs": [],
   "source": [
    "'./target.csv'"
   ]
  },
  {
   "cell_type": "code",
   "execution_count": 143,
   "id": "84f322f8",
   "metadata": {},
   "outputs": [
    {
     "ename": "AttributeError",
     "evalue": "'numpy.ndarray' object has no attribute 'name'",
     "output_type": "error",
     "traceback": [
      "\u001b[1;31m---------------------------------------------------------------------------\u001b[0m",
      "\u001b[1;31mAttributeError\u001b[0m                            Traceback (most recent call last)",
      "Input \u001b[1;32mIn [143]\u001b[0m, in \u001b[0;36m<cell line: 1>\u001b[1;34m()\u001b[0m\n\u001b[1;32m----> 1\u001b[0m df \u001b[38;5;241m=\u001b[39m pd\u001b[38;5;241m.\u001b[39mDataFrame(\u001b[43mtarget\u001b[49m\u001b[38;5;241;43m.\u001b[39;49m\u001b[43mname\u001b[49m\u001b[38;5;241m.\u001b[39munique())\n\u001b[0;32m      2\u001b[0m df[\u001b[38;5;124m'\u001b[39m\u001b[38;5;124mlabel\u001b[39m\u001b[38;5;124m'\u001b[39m] \u001b[38;5;241m=\u001b[39m target\u001b[38;5;241m.\u001b[39mlabel\u001b[38;5;241m.\u001b[39munique()\n\u001b[0;32m      3\u001b[0m df\u001b[38;5;241m.\u001b[39mcolumns \u001b[38;5;241m=\u001b[39m [\u001b[38;5;124m'\u001b[39m\u001b[38;5;124mBrand\u001b[39m\u001b[38;5;124m'\u001b[39m, \u001b[38;5;124m'\u001b[39m\u001b[38;5;124mLabel\u001b[39m\u001b[38;5;124m'\u001b[39m]\n",
      "\u001b[1;31mAttributeError\u001b[0m: 'numpy.ndarray' object has no attribute 'name'"
     ]
    }
   ],
   "source": [
    "df = pd.DataFrame(target.name.unique())\n",
    "df['label'] = target.label.unique()\n",
    "df.columns = ['Brand', 'Label']\n",
    "df"
   ]
  },
  {
   "cell_type": "code",
   "execution_count": null,
   "id": "bfd59a64",
   "metadata": {},
   "outputs": [],
   "source": []
  },
  {
   "cell_type": "code",
   "execution_count": null,
   "id": "27c6fba4",
   "metadata": {},
   "outputs": [],
   "source": []
  },
  {
   "cell_type": "code",
   "execution_count": null,
   "id": "32640c6e",
   "metadata": {},
   "outputs": [],
   "source": []
  },
  {
   "cell_type": "code",
   "execution_count": 28,
   "id": "47270584",
   "metadata": {},
   "outputs": [],
   "source": [
    "metal_img = Image.open('./trashdatametal/metal0.png')\n",
    "glass_img = Image.open('./trashdataglass/glass0.png')\n",
    "paper_img = Image.open('./trashdatapaper/paper0.png')\n",
    "plastic_img = Image.open('./trashdataplastic/plastic0.png')\n",
    "food_img = Image.open('./trashdatafood/food0.png')\n",
    "battery_img = Image.open('./trashdatabattery/battery0.png')"
   ]
  },
  {
   "cell_type": "code",
   "execution_count": 29,
   "id": "a7f48bc6",
   "metadata": {
    "scrolled": true
   },
   "outputs": [
    {
     "data": {
      "image/png": "[encoded data removed]",
      "text/plain": [
       "<Figure size 2160x2160 with 6 Axes>"
      ]
     },
     "metadata": {
      "needs_background": "light"
     },
     "output_type": "display_data"
    }
   ],
   "source": [
    "fig=plt.figure(figsize=(30,30))\n",
    "\n",
    "plt.subplot(1, 6, 1)\n",
    "plt.imshow(metal_img)\n",
    "plt.title('metal trash', fontsize=24)\n",
    "\n",
    "plt.subplot(1, 6, 2)\n",
    "plt.imshow(glass_img)\n",
    "plt.title('glass trash', fontsize=24)\n",
    "\n",
    "plt.subplot(1, 6, 3)\n",
    "plt.imshow(paper_img)\n",
    "plt.title('paper trash', fontsize=24)\n",
    "\n",
    "plt.subplot(1, 6, 4)\n",
    "plt.imshow(plastic_img)\n",
    "plt.title('plastic trash', fontsize=24)\n",
    "\n",
    "plt.subplot(1, 6, 5)\n",
    "plt.imshow(food_img)\n",
    "plt.title('food trash', fontsize=24)\n",
    "\n",
    "plt.subplot(1, 6, 6)\n",
    "plt.imshow(battery_img)\n",
    "plt.title('battery trash', fontsize=24)\n",
    "plt.show()"
   ]
  },
  {
   "cell_type": "code",
   "execution_count": 30,
   "id": "dfbe8d7a",
   "metadata": {},
   "outputs": [],
   "source": [
    "allmetalimg = []\n",
    "allglassimg = []\n",
    "allpaperimg = []\n",
    "allplasticimg = []\n",
    "allfoodimg = []\n",
    "allbatteryimg = []\n",
    "\n",
    "metal_len = len(os.listdir('./trashdatametal/'))\n",
    "for i in range(metal_len):\n",
    "    a = Image.open('./trashdatametal/metal'+str(i)+'.png')\n",
    "    allmetalimg.append(np.array(a).reshape(-1,50*50)[0].tolist())\n",
    "\n",
    "glass_len = len(os.listdir('./trashdataglass/'))\n",
    "for j in range(glass_len):\n",
    "    b = Image.open('./trashdataglass/glass'+str(j)+'.png')\n",
    "    allglassimg.append(np.array(b).reshape(-1,50*50)[0].tolist())\n",
    "    \n",
    "paper_len = len(os.listdir('./trashdatapaper/'))\n",
    "for o in range(paper_len):\n",
    "    c = Image.open('./trashdatapaper/paper'+str(o)+'.png')\n",
    "    allpaperimg.append(np.array(c).reshape(-1,50*50)[0].tolist())\n",
    "\n",
    "plastic_len = len(os.listdir('./trashdataplastic/'))\n",
    "for f in range(plastic_len):\n",
    "    d = Image.open('./trashdataplastic/plastic'+str(f)+'.png')\n",
    "    allplasticimg.append(np.array(d).reshape(-1,50*50)[0].tolist())\n",
    "\n",
    "food_len = len(os.listdir('./trashdatafood/'))\n",
    "for g in range(food_len):\n",
    "    e = Image.open('./trashdatafood/food'+str(g)+'.png')\n",
    "    allfoodimg.append(np.array(e).reshape(-1,50*50)[0].tolist())\n",
    "\n",
    "battery_len = len(os.listdir('./trashdatabattery/'))\n",
    "for k in range(battery_len):\n",
    "    q = Image.open('./trashdatabattery/battery'+str(k)+'.png')\n",
    "    allbatteryimg.append(np.array(q).reshape(-1,50*50)[0].tolist())"
   ]
  },
  {
   "cell_type": "code",
   "execution_count": 31,
   "id": "d7f05821",
   "metadata": {},
   "outputs": [
    {
     "name": "stdout",
     "output_type": "stream",
     "text": [
      "메탈 쓰레기 :  28\n",
      "유리 쓰레기 :  27\n",
      "종이 쓰레기 :  26\n",
      "플라스틱 쓰레기 :  22\n",
      "음식 쓰레기 :  27\n",
      "건전지 쓰레기 :  30\n"
     ]
    }
   ],
   "source": [
    "print('메탈 쓰레기 : ', len(allmetalimg))\n",
    "print('유리 쓰레기 : ', len(allglassimg))\n",
    "print('종이 쓰레기 : ', len(allpaperimg))\n",
    "print('플라스틱 쓰레기 : ', len(allplasticimg))\n",
    "print('음식 쓰레기 : ', len(allfoodimg))\n",
    "print('건전지 쓰레기 : ', len(allbatteryimg))"
   ]
  },
  {
   "cell_type": "code",
   "execution_count": 32,
   "id": "7ba3fb9b",
   "metadata": {},
   "outputs": [
    {
     "data": {
      "text/plain": [
       "(160, 2500)"
      ]
     },
     "execution_count": 32,
     "metadata": {},
     "output_type": "execute_result"
    }
   ],
   "source": [
    "allimgplus=np.row_stack((allmetalimg, allglassimg, allpaperimg, allplasticimg, allfoodimg, allbatteryimg))\n",
    "allimgplus.shape"
   ]
  },
  {
   "cell_type": "code",
   "execution_count": 33,
   "id": "64da14ae",
   "metadata": {},
   "outputs": [],
   "source": [
    "target1=np.array([0]*metal_len)\n",
    "target2=np.array([1]*glass_len)\n",
    "target3=np.array([2]*paper_len)\n",
    "target4=np.array([3]*plastic_len)\n",
    "target5=np.array([4]*food_len)\n",
    "target6=np.array([5]*battery_len)"
   ]
  },
  {
   "cell_type": "code",
   "execution_count": 34,
   "id": "9336aed9",
   "metadata": {},
   "outputs": [
    {
     "data": {
      "text/plain": [
       "array([0, 0, 0, 0, 0, 0, 0, 0, 0, 0, 0, 0, 0, 0, 0, 0, 0, 0, 0, 0, 0, 0,\n",
       "       0, 0, 0, 0, 0, 0, 1, 1, 1, 1, 1, 1, 1, 1, 1, 1, 1, 1, 1, 1, 1, 1,\n",
       "       1, 1, 1, 1, 1, 1, 1, 1, 1, 1, 1, 2, 2, 2, 2, 2, 2, 2, 2, 2, 2, 2,\n",
       "       2, 2, 2, 2, 2, 2, 2, 2, 2, 2, 2, 2, 2, 2, 2, 3, 3, 3, 3, 3, 3, 3,\n",
       "       3, 3, 3, 3, 3, 3, 3, 3, 3, 3, 3, 3, 3, 3, 3, 4, 4, 4, 4, 4, 4, 4,\n",
       "       4, 4, 4, 4, 4, 4, 4, 4, 4, 4, 4, 4, 4, 4, 4, 4, 4, 4, 4, 4, 5, 5,\n",
       "       5, 5, 5, 5, 5, 5, 5, 5, 5, 5, 5, 5, 5, 5, 5, 5, 5, 5, 5, 5, 5, 5,\n",
       "       5, 5, 5, 5, 5, 5])"
      ]
     },
     "execution_count": 34,
     "metadata": {},
     "output_type": "execute_result"
    }
   ],
   "source": [
    "target=np.concatenate([target1, target2, target3, target4, target5, target6])\n",
    "target"
   ]
  },
  {
   "cell_type": "code",
   "execution_count": 35,
   "id": "aca51de1",
   "metadata": {},
   "outputs": [
    {
     "data": {
      "text/plain": [
       "array([[151, 148, 148, ...,  44,  36,  67],\n",
       "       [253, 253, 253, ...,  94,  82, 119],\n",
       "       [185, 187, 215, ..., 195, 228, 184],\n",
       "       ...,\n",
       "       [255, 255, 255, ..., 107, 172,   9],\n",
       "       [ 80,  78,  59, ..., 159, 101, 192],\n",
       "       [255, 255, 255, ...,  99, 107, 222]])"
      ]
     },
     "execution_count": 35,
     "metadata": {},
     "output_type": "execute_result"
    }
   ],
   "source": [
    "allimgplus"
   ]
  },
  {
   "cell_type": "code",
   "execution_count": null,
   "id": "a92dee0c",
   "metadata": {},
   "outputs": [],
   "source": [
    "# 스케일링\n",
    "allimgplus=allimgplus/255.0\n",
    "\n",
    "allimgplus=allimgplus.reshape(-1,50,50,1)"
   ]
  },
  {
   "cell_type": "code",
   "execution_count": null,
   "id": "6a863d8c",
   "metadata": {},
   "outputs": [],
   "source": [
    "# 훈련/테스트 데이터 나누기\n",
    "x_train, x_test, y_train, y_test = train_test_split(allimgplus, target,\n",
    "                                                    random_state=42,\n",
    "                                                    stratify=target)"
   ]
  },
  {
   "cell_type": "code",
   "execution_count": null,
   "id": "6766888e",
   "metadata": {},
   "outputs": [],
   "source": [
    "x_train, x_val, y_train, y_val = train_test_split(x_train, y_train,\n",
    "                                                  stratify=y_train,\n",
    "                                                  random_state=42)"
   ]
  },
  {
   "cell_type": "code",
   "execution_count": null,
   "id": "a3d53523",
   "metadata": {},
   "outputs": [],
   "source": [
    "print(x_train.shape, y_train.shape)\n",
    "print(x_test.shape, y_test.shape)\n",
    "print(x_val.shape, y_val.shape)"
   ]
  },
  {
   "cell_type": "markdown",
   "id": "a72216ea",
   "metadata": {},
   "source": [
    "## 모델"
   ]
  },
  {
   "cell_type": "code",
   "execution_count": null,
   "id": "168aa90e",
   "metadata": {},
   "outputs": [],
   "source": [
    "model=Sequential()\n",
    "model.add(Conv2D(58, kernel_size=3, activation='relu', padding='same', input_shape=(50,50,1)))\n",
    "model.add(MaxPool2D())\n",
    "model.add(Conv2D(100, kernel_size=3, padding='same'))\n",
    "model.add(MaxPool2D())\n",
    "model.add(Flatten())\n",
    "model.add(Dense(100, activation='relu'))\n",
    "model.add(Dense(6, activation='softmax'))"
   ]
  },
  {
   "cell_type": "code",
   "execution_count": null,
   "id": "82cf6d53",
   "metadata": {},
   "outputs": [],
   "source": [
    "model.summary()"
   ]
  },
  {
   "cell_type": "code",
   "execution_count": null,
   "id": "3652483b",
   "metadata": {},
   "outputs": [],
   "source": [
    "train_datagen = ImageDataGenerator(\n",
    "    \n",
    "    rotation_range=30,\n",
    "    shear_range=0.2,\n",
    "    zoom_range=0.4,\n",
    "    horizontal_flip=True\n",
    ")\n",
    "train_datagen.fit(x_train)"
   ]
  },
  {
   "cell_type": "code",
   "execution_count": null,
   "id": "348a9f29",
   "metadata": {},
   "outputs": [],
   "source": [
    "model.compile(optimizer='adam',loss='sparse_categorical_crossentropy',metrics=['accuracy'])"
   ]
  },
  {
   "cell_type": "code",
   "execution_count": null,
   "id": "64dc904a",
   "metadata": {},
   "outputs": [],
   "source": [
    "History = model.fit_generator(train_datagen.flow(x_train,y_train, batch_size=32),\n",
    "                              epochs = 100, validation_data = (x_val,y_val),\n",
    "                              verbose = 1, steps_per_epoch=x_train.shape[0] // 32)"
   ]
  },
  {
   "cell_type": "code",
   "execution_count": null,
   "id": "60acf789",
   "metadata": {},
   "outputs": [],
   "source": [
    "plot_model(model, show_shapes=True)"
   ]
  },
  {
   "cell_type": "code",
   "execution_count": null,
   "id": "37c4d462",
   "metadata": {},
   "outputs": [],
   "source": [
    "plt.imshow(x_val[3].reshape(50,50), cmap='gray')\n",
    "plt.title(f'Label - {y_val[3]}')\n",
    "plt.show()"
   ]
  },
  {
   "cell_type": "code",
   "execution_count": null,
   "id": "be23be7c",
   "metadata": {},
   "outputs": [],
   "source": []
  },
  {
   "cell_type": "code",
   "execution_count": null,
   "id": "2d1da25c",
   "metadata": {},
   "outputs": [],
   "source": []
  },
  {
   "cell_type": "code",
   "execution_count": null,
   "id": "d81fe7ae",
   "metadata": {},
   "outputs": [],
   "source": []
  },
  {
   "cell_type": "code",
   "execution_count": null,
   "id": "dbf2964b",
   "metadata": {},
   "outputs": [],
   "source": []
  },
  {
   "cell_type": "code",
   "execution_count": null,
   "id": "059e9b9b",
   "metadata": {},
   "outputs": [],
   "source": []
  }
 ],
 "metadata": {
  "kernelspec": {
   "display_name": "Python 3 (ipykernel)",
   "language": "python",
   "name": "python3"
  },
  "language_info": {
   "codemirror_mode": {
    "name": "ipython",
    "version": 3
   },
   "file_extension": ".py",
   "mimetype": "text/x-python",
   "name": "python",
   "nbconvert_exporter": "python",
   "pygments_lexer": "ipython3",
   "version": "3.9.12"
  }
 },
 "nbformat": 4,
 "nbformat_minor": 5
}
