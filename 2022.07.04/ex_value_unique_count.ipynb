{
 "cells": [
  {
   "cell_type": "markdown",
   "id": "c35d41a3",
   "metadata": {},
   "source": [
    "# 데이터 갯수와 고유값 -----------------------\n",
    "\n",
    "- 컬럼별 개수 ==> count() 메서드\n",
    "\n",
    "- 컬럼별 고유값 ==> unique() 메서드\n",
    "\n",
    "- 컬럼별 값별 개수 ==> value_counts() 메서드"
   ]
  },
  {
   "cell_type": "code",
   "execution_count": 1,
   "id": "cbffb4b4",
   "metadata": {},
   "outputs": [
    {
     "data": {
      "text/plain": [
       "'../Data/iris.csv'"
      ]
     },
     "execution_count": 1,
     "metadata": {},
     "output_type": "execute_result"
    }
   ],
   "source": [
    "# 모듈 로딩 ----------------------------------------------------\n",
    "import pandas as pd\n",
    "\n",
    "# 파일 관련 변수 선언 -------------------------------------------\n",
    "DIR_PATH='../Data/'\n",
    "FILE_NAME=DIR_PATH+'iris.csv'\n",
    "\n",
    "FILE_NAME"
   ]
  },
  {
   "cell_type": "code",
   "execution_count": 2,
   "id": "f3395890",
   "metadata": {},
   "outputs": [],
   "source": [
    "# (1) File ===> DataFrame으로 가져오기\n",
    "irisDF=pd.read_csv(FILE_NAME)"
   ]
  },
  {
   "cell_type": "code",
   "execution_count": 4,
   "id": "38007a57",
   "metadata": {},
   "outputs": [
    {
     "name": "stdout",
     "output_type": "stream",
     "text": [
      "<class 'pandas.core.frame.DataFrame'>\n",
      "RangeIndex: 150 entries, 0 to 149\n",
      "Data columns (total 5 columns):\n",
      " #   Column       Non-Null Count  Dtype  \n",
      "---  ------       --------------  -----  \n",
      " 0   SepalLength  150 non-null    float64\n",
      " 1   SepalWidth   150 non-null    float64\n",
      " 2   PetalLength  150 non-null    float64\n",
      " 3   PetalWidth   150 non-null    float64\n",
      " 4   Name         150 non-null    object \n",
      "dtypes: float64(4), object(1)\n",
      "memory usage: 6.0+ KB\n"
     ]
    }
   ],
   "source": [
    "# (1) 데이터 확인하기 -------------------------------------------\n",
    "\n",
    "# DF 요약 정보 ==> info()메서드\n",
    "irisDF.info()"
   ]
  },
  {
   "cell_type": "code",
   "execution_count": 5,
   "id": "8606e491",
   "metadata": {},
   "outputs": [
    {
     "data": {
      "text/plain": [
       "Index(['SepalLength', 'SepalWidth', 'PetalLength', 'PetalWidth', 'Name'], dtype='object')"
      ]
     },
     "execution_count": 5,
     "metadata": {},
     "output_type": "execute_result"
    }
   ],
   "source": [
    "# DF columns 정보 확인\n",
    "irisDF.columns"
   ]
  },
  {
   "cell_type": "code",
   "execution_count": 6,
   "id": "a146344b",
   "metadata": {},
   "outputs": [
    {
     "data": {
      "text/plain": [
       "((150, 5), 2)"
      ]
     },
     "execution_count": 6,
     "metadata": {},
     "output_type": "execute_result"
    }
   ],
   "source": [
    "# DF shape, ndim 정보 확인    shape(행,열)/ ndim(2차원)\n",
    "irisDF.shape, irisDF.ndim"
   ]
  },
  {
   "cell_type": "code",
   "execution_count": 14,
   "id": "c1625157",
   "metadata": {},
   "outputs": [
    {
     "data": {
      "text/plain": [
       "0         Iris-setosa\n",
       "1         Iris-setosa\n",
       "2         Iris-setosa\n",
       "3         Iris-setosa\n",
       "4         Iris-setosa\n",
       "            ...      \n",
       "145    Iris-virginica\n",
       "146    Iris-virginica\n",
       "147    Iris-virginica\n",
       "148    Iris-virginica\n",
       "149    Iris-virginica\n",
       "Name: Name, Length: 150, dtype: object"
      ]
     },
     "execution_count": 14,
     "metadata": {},
     "output_type": "execute_result"
    }
   ],
   "source": [
    "# (2) 원하는 작업 수행 -------------------------------------\n",
    "# 'Name' 컬럼 추출  ==> DF객체변수명[ 컬럼명 ]\n",
    "irisDF['Name']"
   ]
  },
  {
   "cell_type": "code",
   "execution_count": 15,
   "id": "86d1ad0f",
   "metadata": {},
   "outputs": [],
   "source": [
    "irisDFNam=irisDF['Name']"
   ]
  },
  {
   "cell_type": "code",
   "execution_count": 16,
   "id": "e118e54c",
   "metadata": {},
   "outputs": [
    {
     "data": {
      "text/plain": [
       "pandas.core.series.Series"
      ]
     },
     "execution_count": 16,
     "metadata": {},
     "output_type": "execute_result"
    }
   ],
   "source": [
    "type(irisDFNam)"
   ]
  },
  {
   "cell_type": "code",
   "execution_count": 12,
   "id": "edc8e9d1",
   "metadata": {},
   "outputs": [
    {
     "data": {
      "text/plain": [
       "150"
      ]
     },
     "execution_count": 12,
     "metadata": {},
     "output_type": "execute_result"
    }
   ],
   "source": [
    "# 'Name' 컬럼의 데이터 갯수\n",
    "irisDFNam.count()"
   ]
  },
  {
   "cell_type": "code",
   "execution_count": 17,
   "id": "e483a257",
   "metadata": {},
   "outputs": [
    {
     "data": {
      "text/plain": [
       "array(['Iris-setosa', 'Iris-versicolor', 'Iris-virginica'], dtype=object)"
      ]
     },
     "execution_count": 17,
     "metadata": {},
     "output_type": "execute_result"
    }
   ],
   "source": [
    "# 'Name' 컬럼의 고유값 -> 값의 종류\n",
    "irisDF['Name'].unique()"
   ]
  },
  {
   "cell_type": "code",
   "execution_count": 18,
   "id": "b96fe660",
   "metadata": {},
   "outputs": [
    {
     "data": {
      "text/plain": [
       "Iris-setosa        50\n",
       "Iris-versicolor    50\n",
       "Iris-virginica     50\n",
       "Name: Name, dtype: int64"
      ]
     },
     "execution_count": 18,
     "metadata": {},
     "output_type": "execute_result"
    }
   ],
   "source": [
    "# 'Name' 컬럼의 값의 개수\n",
    "irisDF['Name'].value_counts()"
   ]
  },
  {
   "cell_type": "code",
   "execution_count": 19,
   "id": "a1081d3f",
   "metadata": {},
   "outputs": [
    {
     "data": {
      "text/plain": [
       "150"
      ]
     },
     "execution_count": 19,
     "metadata": {},
     "output_type": "execute_result"
    }
   ],
   "source": [
    "# 'SepalLength' 컬럼의 데이터 갯수, 값의 종류, 값의 갯수 출력\n",
    "irisDF['SepalLength'].count()"
   ]
  },
  {
   "cell_type": "code",
   "execution_count": 20,
   "id": "2f0dfb4d",
   "metadata": {},
   "outputs": [
    {
     "data": {
      "text/plain": [
       "array([5.1, 4.9, 4.7, 4.6, 5. , 5.4, 4.4, 4.8, 4.3, 5.8, 5.7, 5.2, 5.5,\n",
       "       4.5, 5.3, 7. , 6.4, 6.9, 6.5, 6.3, 6.6, 5.9, 6. , 6.1, 5.6, 6.7,\n",
       "       6.2, 6.8, 7.1, 7.6, 7.3, 7.2, 7.7, 7.4, 7.9])"
      ]
     },
     "execution_count": 20,
     "metadata": {},
     "output_type": "execute_result"
    }
   ],
   "source": [
    "irisDF['SepalLength'].unique()"
   ]
  },
  {
   "cell_type": "code",
   "execution_count": 21,
   "id": "b23d9582",
   "metadata": {},
   "outputs": [
    {
     "data": {
      "text/plain": [
       "5.0    10\n",
       "5.1     9\n",
       "6.3     9\n",
       "5.7     8\n",
       "6.7     8\n",
       "5.8     7\n",
       "5.5     7\n",
       "6.4     7\n",
       "4.9     6\n",
       "5.4     6\n",
       "6.1     6\n",
       "6.0     6\n",
       "5.6     6\n",
       "4.8     5\n",
       "6.5     5\n",
       "6.2     4\n",
       "7.7     4\n",
       "6.9     4\n",
       "4.6     4\n",
       "5.2     4\n",
       "5.9     3\n",
       "4.4     3\n",
       "7.2     3\n",
       "6.8     3\n",
       "6.6     2\n",
       "4.7     2\n",
       "7.6     1\n",
       "7.4     1\n",
       "7.3     1\n",
       "7.0     1\n",
       "7.1     1\n",
       "5.3     1\n",
       "4.3     1\n",
       "4.5     1\n",
       "7.9     1\n",
       "Name: SepalLength, dtype: int64"
      ]
     },
     "execution_count": 21,
     "metadata": {},
     "output_type": "execute_result"
    }
   ],
   "source": [
    "irisDF['SepalLength'].value_counts()"
   ]
  },
  {
   "cell_type": "code",
   "execution_count": 27,
   "id": "c59c4c06",
   "metadata": {},
   "outputs": [
    {
     "data": {
      "text/plain": [
       "pandas.core.series.Series"
      ]
     },
     "execution_count": 27,
     "metadata": {},
     "output_type": "execute_result"
    }
   ],
   "source": [
    "type(irisDF['SepalLength'].value_counts())"
   ]
  },
  {
   "cell_type": "code",
   "execution_count": 28,
   "id": "f6f952f2",
   "metadata": {},
   "outputs": [
    {
     "data": {
      "text/plain": [
       "Float64Index([5.0, 5.1, 6.3, 5.7, 6.7, 5.8, 5.5, 6.4, 4.9, 5.4, 6.1, 6.0, 5.6,\n",
       "              4.8, 6.5, 6.2, 7.7, 6.9, 4.6, 5.2, 5.9, 4.4, 7.2, 6.8, 6.6, 4.7,\n",
       "              7.6, 7.4, 7.3, 7.0, 7.1, 5.3, 4.3, 4.5, 7.9],\n",
       "             dtype='float64')"
      ]
     },
     "execution_count": 28,
     "metadata": {},
     "output_type": "execute_result"
    }
   ],
   "source": [
    "irisDF['SepalLength'].value_counts().index"
   ]
  },
  {
   "cell_type": "code",
   "execution_count": null,
   "id": "972bbce6",
   "metadata": {},
   "outputs": [],
   "source": []
  },
  {
   "cell_type": "code",
   "execution_count": 22,
   "id": "46e97ad4",
   "metadata": {},
   "outputs": [
    {
     "data": {
      "text/plain": [
       "10"
      ]
     },
     "execution_count": 22,
     "metadata": {},
     "output_type": "execute_result"
    }
   ],
   "source": [
    "irisDF['SepalLength'].value_counts().max()"
   ]
  },
  {
   "cell_type": "code",
   "execution_count": 25,
   "id": "be20cc94",
   "metadata": {},
   "outputs": [
    {
     "data": {
      "text/plain": [
       "int"
      ]
     },
     "execution_count": 25,
     "metadata": {},
     "output_type": "execute_result"
    }
   ],
   "source": [
    "type(irisDF['SepalLength'].value_counts().max())"
   ]
  },
  {
   "cell_type": "code",
   "execution_count": 23,
   "id": "e7698b88",
   "metadata": {},
   "outputs": [
    {
     "data": {
      "text/plain": [
       "0"
      ]
     },
     "execution_count": 23,
     "metadata": {},
     "output_type": "execute_result"
    }
   ],
   "source": [
    "irisDF['SepalLength'].value_counts().argmax()"
   ]
  },
  {
   "cell_type": "code",
   "execution_count": 26,
   "id": "c8f6db79",
   "metadata": {},
   "outputs": [
    {
     "data": {
      "text/plain": [
       "numpy.int64"
      ]
     },
     "execution_count": 26,
     "metadata": {},
     "output_type": "execute_result"
    }
   ],
   "source": [
    "type(irisDF['SepalLength'].value_counts().argmax())"
   ]
  },
  {
   "cell_type": "code",
   "execution_count": 24,
   "id": "cde2e9bd",
   "metadata": {},
   "outputs": [
    {
     "data": {
      "text/plain": [
       "26"
      ]
     },
     "execution_count": 24,
     "metadata": {},
     "output_type": "execute_result"
    }
   ],
   "source": [
    "irisDF['SepalLength'].value_counts().argmin()"
   ]
  },
  {
   "cell_type": "code",
   "execution_count": 29,
   "id": "8a6c6b4f",
   "metadata": {},
   "outputs": [
    {
     "data": {
      "text/plain": [
       "0"
      ]
     },
     "execution_count": 29,
     "metadata": {},
     "output_type": "execute_result"
    }
   ],
   "source": [
    "irisDF['SepalLength'].value_counts().argmax()"
   ]
  },
  {
   "cell_type": "code",
   "execution_count": 30,
   "id": "ae155985",
   "metadata": {},
   "outputs": [
    {
     "data": {
      "text/plain": [
       "Float64Index([5.0, 5.1, 6.3, 5.7, 6.7, 5.8, 5.5, 6.4, 4.9, 5.4, 6.1, 6.0, 5.6,\n",
       "              4.8, 6.5, 6.2, 7.7, 6.9, 4.6, 5.2, 5.9, 4.4, 7.2, 6.8, 6.6, 4.7,\n",
       "              7.6, 7.4, 7.3, 7.0, 7.1, 5.3, 4.3, 4.5, 7.9],\n",
       "             dtype='float64')"
      ]
     },
     "execution_count": 30,
     "metadata": {},
     "output_type": "execute_result"
    }
   ],
   "source": [
    "irisDF['SepalLength'].value_counts().index"
   ]
  },
  {
   "cell_type": "code",
   "execution_count": 32,
   "id": "81ffbf07",
   "metadata": {},
   "outputs": [
    {
     "data": {
      "text/html": [
       "<div>\n",
       "<style scoped>\n",
       "    .dataframe tbody tr th:only-of-type {\n",
       "        vertical-align: middle;\n",
       "    }\n",
       "\n",
       "    .dataframe tbody tr th {\n",
       "        vertical-align: top;\n",
       "    }\n",
       "\n",
       "    .dataframe thead th {\n",
       "        text-align: right;\n",
       "    }\n",
       "</style>\n",
       "<table border=\"1\" class=\"dataframe\">\n",
       "  <thead>\n",
       "    <tr style=\"text-align: right;\">\n",
       "      <th></th>\n",
       "      <th>SepalLength</th>\n",
       "      <th>SepalWidth</th>\n",
       "      <th>PetalLength</th>\n",
       "      <th>PetalWidth</th>\n",
       "      <th>Name</th>\n",
       "    </tr>\n",
       "  </thead>\n",
       "  <tbody>\n",
       "    <tr>\n",
       "      <th>0</th>\n",
       "      <td>5.1</td>\n",
       "      <td>3.5</td>\n",
       "      <td>1.4</td>\n",
       "      <td>0.2</td>\n",
       "      <td>Iris-setosa</td>\n",
       "    </tr>\n",
       "  </tbody>\n",
       "</table>\n",
       "</div>"
      ],
      "text/plain": [
       "   SepalLength  SepalWidth  PetalLength  PetalWidth         Name\n",
       "0          5.1         3.5          1.4         0.2  Iris-setosa"
      ]
     },
     "execution_count": 32,
     "metadata": {},
     "output_type": "execute_result"
    }
   ],
   "source": [
    "irisDF.iloc[[0],]"
   ]
  },
  {
   "cell_type": "code",
   "execution_count": 34,
   "id": "66f672dd",
   "metadata": {},
   "outputs": [
    {
     "ename": "NameError",
     "evalue": "name 'valueSR' is not defined",
     "output_type": "error",
     "traceback": [
      "\u001b[1;31m---------------------------------------------------------------------------\u001b[0m",
      "\u001b[1;31mNameError\u001b[0m                                 Traceback (most recent call last)",
      "Input \u001b[1;32mIn [34]\u001b[0m, in \u001b[0;36m<cell line: 2>\u001b[1;34m()\u001b[0m\n\u001b[0;32m      1\u001b[0m \u001b[38;5;66;03m# SR 객체 안에서 최대 큰 값\u001b[39;00m\n\u001b[1;32m----> 2\u001b[0m \u001b[43mvalueSR\u001b[49m\u001b[38;5;241m.\u001b[39mmax()\n",
      "\u001b[1;31mNameError\u001b[0m: name 'valueSR' is not defined"
     ]
    }
   ],
   "source": [
    "# SR 객체 안에서 최대 큰 값\n",
    "valueSR.max()"
   ]
  },
  {
   "cell_type": "code",
   "execution_count": 35,
   "id": "12fdaa35",
   "metadata": {},
   "outputs": [
    {
     "ename": "NameError",
     "evalue": "name 'valueSR' is not defined",
     "output_type": "error",
     "traceback": [
      "\u001b[1;31m---------------------------------------------------------------------------\u001b[0m",
      "\u001b[1;31mNameError\u001b[0m                                 Traceback (most recent call last)",
      "Input \u001b[1;32mIn [35]\u001b[0m, in \u001b[0;36m<cell line: 2>\u001b[1;34m()\u001b[0m\n\u001b[0;32m      1\u001b[0m \u001b[38;5;66;03m# SR객체 안에서 최대 작은 값\u001b[39;00m\n\u001b[1;32m----> 2\u001b[0m \u001b[43mvalueSR\u001b[49m\u001b[38;5;241m.\u001b[39mmin()\n",
      "\u001b[1;31mNameError\u001b[0m: name 'valueSR' is not defined"
     ]
    }
   ],
   "source": [
    "# SR객체 안에서 최대 작은 값\n",
    "valueSR.min()"
   ]
  },
  {
   "cell_type": "code",
   "execution_count": 36,
   "id": "570c682e",
   "metadata": {},
   "outputs": [
    {
     "ename": "NameError",
     "evalue": "name 'valueSR' is not defined",
     "output_type": "error",
     "traceback": [
      "\u001b[1;31m---------------------------------------------------------------------------\u001b[0m",
      "\u001b[1;31mNameError\u001b[0m                                 Traceback (most recent call last)",
      "Input \u001b[1;32mIn [36]\u001b[0m, in \u001b[0;36m<cell line: 2>\u001b[1;34m()\u001b[0m\n\u001b[0;32m      1\u001b[0m \u001b[38;5;66;03m# SR객체 안에서 최대값이 존재하는 인데스 => argmax()\u001b[39;00m\n\u001b[1;32m----> 2\u001b[0m \u001b[43mvalueSR\u001b[49m\u001b[38;5;241m.\u001b[39margmax()\n",
      "\u001b[1;31mNameError\u001b[0m: name 'valueSR' is not defined"
     ]
    }
   ],
   "source": [
    "# SR객체 안에서 최대값이 존재하는 인데스 => argmax()\n",
    "valueSR.argmax()"
   ]
  },
  {
   "cell_type": "code",
   "execution_count": 37,
   "id": "3d38a37f",
   "metadata": {},
   "outputs": [
    {
     "ename": "NameError",
     "evalue": "name 'valueSR' is not defined",
     "output_type": "error",
     "traceback": [
      "\u001b[1;31m---------------------------------------------------------------------------\u001b[0m",
      "\u001b[1;31mNameError\u001b[0m                                 Traceback (most recent call last)",
      "Input \u001b[1;32mIn [37]\u001b[0m, in \u001b[0;36m<cell line: 2>\u001b[1;34m()\u001b[0m\n\u001b[0;32m      1\u001b[0m \u001b[38;5;66;03m# SR객체 안에서 최대값이 존재하는 인덱스 라벨\u001b[39;00m\n\u001b[1;32m----> 2\u001b[0m \u001b[43mvalueSR\u001b[49m\u001b[38;5;241m.\u001b[39mindex[valueSR\u001b[38;5;241m.\u001b[39margmax()], valueSR\u001b[38;5;241m.\u001b[39mindex[valueSR\u001b[38;5;241m.\u001b[39margmin()]\n",
      "\u001b[1;31mNameError\u001b[0m: name 'valueSR' is not defined"
     ]
    }
   ],
   "source": [
    "# SR객체 안에서 최대값이 존재하는 인덱스 라벨\n",
    "valueSR.index[valueSR.argmax()], valueSR.index[valueSR.argmin()]"
   ]
  },
  {
   "cell_type": "code",
   "execution_count": null,
   "id": "26dc1ca1",
   "metadata": {},
   "outputs": [],
   "source": []
  }
 ],
 "metadata": {
  "kernelspec": {
   "display_name": "Python 3 (ipykernel)",
   "language": "python",
   "name": "python3"
  },
  "language_info": {
   "codemirror_mode": {
    "name": "ipython",
    "version": 3
   },
   "file_extension": ".py",
   "mimetype": "text/x-python",
   "name": "python",
   "nbconvert_exporter": "python",
   "pygments_lexer": "ipython3",
   "version": "3.9.12"
  }
 },
 "nbformat": 4,
 "nbformat_minor": 5
}
