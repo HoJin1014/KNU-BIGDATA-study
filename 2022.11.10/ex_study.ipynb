{
 "cells": [
  {
   "cell_type": "markdown",
   "id": "8ae1ca4e",
   "metadata": {},
   "source": [
    "## 이미지 색상 표현 방식(BGR, HSV, YUV)\n",
    "##### https://bkshin.tistory.com/entry/OpenCV-7-%E3%85%87%E3%85%87"
   ]
  },
  {
   "cell_type": "code",
   "execution_count": 36,
   "id": "99420533",
   "metadata": {},
   "outputs": [
    {
     "name": "stdout",
     "output_type": "stream",
     "text": [
      "default (1028, 1232, 3) color (1028, 1232, 3) unchanged (1028, 1232)\n"
     ]
    }
   ],
   "source": [
    "# BGR, BGRA, Ahlpha 채널 (rgba.py)\n",
    "\n",
    "import cv2\n",
    "import numpy as np\n",
    "\n",
    "# 기본 값 옵션\n",
    "img = cv2.imread('../2022.11.07/ex1.jpg')\n",
    "img = cv2.resize(img, (0, 0), fx=0.5, fy=0.5, interpolation=cv2.INTER_NEAREST)\n",
    "# IMREAD_COLOR 옵션                   \n",
    "bgr = cv2.imread('../2022.11.07/ex1.jpg', cv2.IMREAD_COLOR)\n",
    "bgr = cv2.resize(bgr, (0, 0), fx=0.5, fy=0.5, interpolation=cv2.INTER_NEAREST)\n",
    "# IMREAD_UNCHANGED 옵션\n",
    "bgra = cv2.imread('../2022.11.07/ex1.jpg', cv2.IMREAD_UNCHANGED)\n",
    "bgra = cv2.resize(bgra, (0, 0), fx=0.5, fy=0.5, interpolation=cv2.INTER_NEAREST)\n",
    "\n",
    "# 각 옵션에 따른 이미지 shape\n",
    "print(\"default\", img.shape, \"color\", bgr.shape, \"unchanged\", bgra.shape) \n",
    "\n",
    "cv2.imshow('bgr', bgr)\n",
    "cv2.imshow('bgra', bgra)\n",
    "# cv2.imshow('alpha', bgra[:,:,3])  # 알파 채널만 표시\n",
    "cv2.waitKey(0)\n",
    "cv2.destroyAllWindows()"
   ]
  },
  {
   "cell_type": "code",
   "execution_count": null,
   "id": "11f7eac2",
   "metadata": {},
   "outputs": [],
   "source": []
  },
  {
   "cell_type": "code",
   "execution_count": 35,
   "id": "be46abd0",
   "metadata": {},
   "outputs": [],
   "source": [
    "# BGR 색상 이미지를 회색조 이미지로 변환 (bgr2gray.py)\n",
    "\n",
    "import cv2\n",
    "import numpy as np\n",
    "\n",
    "img = cv2.imread('../2022.11.07/ex1.jpg')\n",
    "img = cv2.resize(img, (0, 0), fx=0.5, fy=0.5, interpolation=cv2.INTER_NEAREST)\n",
    "\n",
    "img2 = img.astype(np.uint16)                # dtype 변경 ---①\n",
    "b,g,r = cv2.split(img2)                     # 채널 별로 분리 ---②\n",
    "#b,g,r = img2[:,:,0], img2[:,:,1], img2[:,:,2]\n",
    "gray1 = ((b + g + r)/3).astype(np.uint8)    # 평균 값 연산후 dtype 변경 ---③\n",
    "\n",
    "gray2 = cv2.cvtColor(img, cv2.COLOR_BGR2GRAY) # BGR을 그레이 스케일로 변경 ---④\n",
    "cv2.imshow('original', img)\n",
    "cv2.imshow('gray1', gray1)\n",
    "cv2.imshow('gray2', gray2)\n",
    "\n",
    "cv2.waitKey(0)\n",
    "cv2.destroyAllWindows()"
   ]
  },
  {
   "cell_type": "markdown",
   "id": "cab4d602",
   "metadata": {},
   "source": [
    "## 파이썬 이미지 차이(차이를 구해 빨간색으로 색칠)\n",
    "##### https://choiseokwon.tistory.com/219"
   ]
  },
  {
   "cell_type": "code",
   "execution_count": 11,
   "id": "46bf69d6",
   "metadata": {},
   "outputs": [],
   "source": [
    "import cv2\n",
    "from skimage.metrics import structural_similarity as compare_ssim\n",
    "\n",
    "imageA = cv2.imread('../2022.11.07/True.jpg')\n",
    "imageB = cv2.imread('../2022.11.07/False.jpg')\n",
    "imageC = imageA.copy()\n",
    "\n",
    "tempDiff = cv2.subtract(imageA, imageB)\n",
    "\n",
    "grayA = cv2.cvtColor(imageA, cv2.COLOR_BGR2GRAY)\n",
    "grayB = cv2.cvtColor(imageB, cv2.COLOR_BGR2GRAY)"
   ]
  },
  {
   "cell_type": "code",
   "execution_count": 12,
   "id": "75bed9f6",
   "metadata": {},
   "outputs": [
    {
     "name": "stdout",
     "output_type": "stream",
     "text": [
      "Similarity: 0.75536\n"
     ]
    }
   ],
   "source": [
    "(score, diff) = compare_ssim(grayA, grayB, full=True)\n",
    "diff = (diff*255).astype(\"uint8\")\n",
    "\n",
    "print(f\"Similarity: {score:.5f}\")"
   ]
  },
  {
   "cell_type": "code",
   "execution_count": 13,
   "id": "ccd898c0",
   "metadata": {},
   "outputs": [],
   "source": [
    "thresh = cv2.threshold(diff, 0, 255,\n",
    "                      cv2.THRESH_BINARY_INV | cv2.THRESH_OTSU)[1]\n",
    "\n",
    "# 차이점 빨간색으로 칠하기\n",
    "tempDiff[thresh == 255] = [0, 0, 255]\n",
    "imageC[thresh == 255] = [0, 0, 255]"
   ]
  },
  {
   "cell_type": "code",
   "execution_count": 14,
   "id": "b1b79171",
   "metadata": {},
   "outputs": [
    {
     "data": {
      "text/plain": [
       "-1"
      ]
     },
     "execution_count": 14,
     "metadata": {},
     "output_type": "execute_result"
    }
   ],
   "source": [
    "cv2.imwrite(\"result.jpg\",imageC)\n",
    "\n",
    "cv2.imshow(\"Original\", cv2.resize(imageA, (960, 540)))\n",
    "cv2.imshow(\"Compare\", cv2.resize(imageB, (960, 540)))\n",
    "cv2.imshow(\"Difference\", cv2.resize(imageC, (960, 540)))\n",
    "cv2.imshow(\"Gray\", cv2.resize(diff, (960, 540)))\n",
    "cv2.imshow(\"Gray2\", cv2.resize(tempDiff, (960, 540)))\n",
    "\n",
    "cv2.waitKey(0)"
   ]
  },
  {
   "cell_type": "markdown",
   "id": "5f159280",
   "metadata": {},
   "source": [
    "## 두 이미지의 다른 부분 찾기\n",
    "##### https://soooprmx.com/opencv%EB%A5%BC-%EC%82%AC%EC%9A%A9%ED%95%98%EC%97%AC-%EB%91%90-%EC%9D%B4%EB%AF%B8%EC%A7%80%EC%9D%98-%EB%8B%A4%EB%A5%B8-%EB%B6%80%EB%B6%84-%EC%B0%BE%EA%B8%B0/\n",
    "\n",
    "### 보류"
   ]
  },
  {
   "cell_type": "code",
   "execution_count": 25,
   "id": "1b64a5eb",
   "metadata": {},
   "outputs": [],
   "source": [
    "# import imutils\n",
    "# import cv2\n",
    "# import argparse\n",
    "\n",
    "# def parse_args():\n",
    "#     parser = argparse.ArgumentParser()\n",
    "#     parser.add_argument(\"original\")\n",
    "#     parser.add_argument(\"modified\")\n",
    "#     return parser.parse_args()"
   ]
  },
  {
   "cell_type": "code",
   "execution_count": 24,
   "id": "3fdd6c4e",
   "metadata": {},
   "outputs": [],
   "source": [
    "# args = parse_args()\n",
    "# imageA = cv2.imread(args.original)\n",
    "# imageB = cv2.imread(args.modified)\n",
    "# grayA = cv2.cvtColor(imageA, cv2.COLOR_BGR2GRAY)\n",
    "# grayB = cv2.cvtColor(imageB, cv2.COLOR_BGR2GRAY)"
   ]
  },
  {
   "cell_type": "code",
   "execution_count": 23,
   "id": "9148067e",
   "metadata": {},
   "outputs": [],
   "source": [
    "# score, diff = compare_ssim(grayA, grayB, full=True)\n",
    "# # full=True: 이미지 전체에 대해서 구조비교를 수행한다.\n",
    "# diff = (diff * 255).astype('uint8')\n",
    "# print(f'SSIM: {score:.6f}')"
   ]
  },
  {
   "cell_type": "code",
   "execution_count": 22,
   "id": "4c5aaa18",
   "metadata": {},
   "outputs": [],
   "source": [
    "# retval, result = cv2.threshold(A, B, t, maxVal, options)"
   ]
  },
  {
   "cell_type": "code",
   "execution_count": 21,
   "id": "31d492af",
   "metadata": {},
   "outputs": [],
   "source": [
    "# # from skimage.measure import compare_ssim\n",
    "# from skimage.metrics import structural_similarity as compare_ssim\n",
    "# import imutils\n",
    "# import cv2\n",
    "# import numpy as np\n",
    "# import argparse\n",
    "\n",
    "\n",
    "# def parse_args():\n",
    "#     parser = argparse.ArgumentParser()\n",
    "#     parser.add_argument(\"original\")\n",
    "#     parser.add_argument(\"modified\")\n",
    "#     return parser.parse_args()\n",
    "\n",
    "\n",
    "# def main():\n",
    "#     args = parse_args()\n",
    "#     imageA = cv2.imread(args.original)\n",
    "#     imageB = cv2.imread(args.modified)\n",
    "#     # if needed resize images using cv2.resize()\n",
    "#     # cv2.imshow(\"Original\", imageA)\n",
    "#     # cv2.imshow(\"Modified\", imageB)\n",
    "#     # cv2.waitKey(0)\n",
    "#     grayA = cv2.cvtColor(imageA, cv2.COLOR_BGR2GRAY)\n",
    "#     grayB = cv2.cvtColor(imageB, cv2.COLOR_BGR2GRAY)\n",
    "#     (score, diff) = compare_ssim(grayA, grayB, full=True)\n",
    "#     diff = (diff * 255).astype(\"uint8\")\n",
    "#     print(f\"SSIM: {score}\")\n",
    "#     thresh = cv2.threshold(\n",
    "#                  diff, 0, 200, \n",
    "#                  cv2.THRESH_BINARY_INV | cv2.THRESH_OTSU\n",
    "#              )[1]\n",
    "#     cnts, _ = cv2.findContours(\n",
    "#                 thresh, \n",
    "#                 cv2.RETR_EXTERNAL, \n",
    "#                 cv2.CHAIN_APPROX_SIMPLE\n",
    "#               )\n",
    "#     for c in cnts:\n",
    "#         area = cv2.contourArea(c)\n",
    "#         if area > 40:\n",
    "#             x, y, w, h = cv2.boundingRect(c)\n",
    "#             cv2.rectangle(imageA, (x, y), (x + w, y + h), (0, 0, 255), 2)\n",
    "#             cv2.drawContours(imageB, [c], -1, (0, 0, 255), 2)\n",
    "#     cv2.imshow(\"Original\", imageA)\n",
    "#     cv2.imshow(\"Modified\", imageB)\n",
    "#     cv2.waitKey(0)\n",
    "\n",
    "\n",
    "# if __name__ == \"__main__\":\n",
    "#     main()"
   ]
  },
  {
   "cell_type": "markdown",
   "id": "d4b589b4",
   "metadata": {},
   "source": [
    "## 두개의 이미지를 비교해서 차이점 보여주기\n",
    "##### https://ng1004.tistory.com/89"
   ]
  },
  {
   "cell_type": "code",
   "execution_count": 33,
   "id": "90a22060",
   "metadata": {},
   "outputs": [
    {
     "name": "stdout",
     "output_type": "stream",
     "text": [
      "SSIM: 0.7308523370387973\n"
     ]
    },
    {
     "data": {
      "text/plain": [
       "-1"
      ]
     },
     "execution_count": 33,
     "metadata": {},
     "output_type": "execute_result"
    }
   ],
   "source": [
    "#두개의 이미지를 비교해서 차이점 보여주기\n",
    "\n",
    "# 파일명 : test.py\n",
    "\n",
    "\n",
    "\n",
    "from skimage.metrics import structural_similarity as compare_ssim\n",
    "import argparse\n",
    "import imutils\n",
    "import cv2\n",
    "\n",
    "\n",
    "# ap = argparse.ArgumentParser()\n",
    "# ap.add_argument(\"-f\", \"--first\", required = True, help = \"first input image\")\n",
    "# ap.add_argument(\"-s\", \"--second\", required = True, help = \"second\")\n",
    "# args = vars(ap.parse_args())\n",
    "\n",
    "\n",
    "imageA = cv2.imread('./first.jpg')\n",
    "imageB = cv2.imread('./second.jpg')\n",
    "imageA = cv2.resize(imageA, (0, 0), fx=0.5, fy=0.5, interpolation=cv2.INTER_NEAREST)\n",
    "imageB = cv2.resize(imageB, (0, 0), fx=0.5, fy=0.5, interpolation=cv2.INTER_NEAREST)\n",
    "\n",
    "grayA = cv2.cvtColor(imageA, cv2.COLOR_BGR2GRAY)\n",
    "grayB = cv2.cvtColor(imageB, cv2.COLOR_BGR2GRAY)\n",
    "\n",
    "\n",
    "(score, diff) = compare_ssim(grayA, grayB, full = True)\n",
    "diff = (diff * 255).astype(\"uint8\")\n",
    "print(\"SSIM: {}\".format(score))\n",
    "\n",
    "\n",
    "thresh = cv2.threshold(diff, 0, 255, cv2.THRESH_BINARY_INV |cv2.THRESH_OTSU)[1]\n",
    "cnts = cv2.findContours(thresh.copy(), cv2.RETR_EXTERNAL, cv2.CHAIN_APPROX_SIMPLE)\n",
    "cnts = imutils.grab_contours(cnts)\n",
    "\n",
    "\n",
    "cv2.imshow(\"Original\", imageA)\n",
    "cv2.imshow(\"Modified\", imageB)\n",
    "# cv2.imshow(\"grayA\", grayA)\n",
    "# cv2.imshow(\"grayB\", grayB)\n",
    "\n",
    "\n",
    "cv2.imshow(\"Diff\", diff)\n",
    "cv2.imshow(\"Thresh\", thresh)\n",
    "cv2.waitKey(0)"
   ]
  },
  {
   "cell_type": "code",
   "execution_count": null,
   "id": "5a3cce1d",
   "metadata": {},
   "outputs": [],
   "source": []
  },
  {
   "cell_type": "code",
   "execution_count": null,
   "id": "923383a8",
   "metadata": {},
   "outputs": [],
   "source": []
  },
  {
   "cell_type": "code",
   "execution_count": null,
   "id": "81e7e2e0",
   "metadata": {},
   "outputs": [],
   "source": []
  },
  {
   "cell_type": "code",
   "execution_count": null,
   "id": "fd9549d4",
   "metadata": {},
   "outputs": [],
   "source": []
  },
  {
   "cell_type": "code",
   "execution_count": null,
   "id": "a5e7918c",
   "metadata": {},
   "outputs": [],
   "source": []
  },
  {
   "cell_type": "code",
   "execution_count": null,
   "id": "d24099a8",
   "metadata": {},
   "outputs": [],
   "source": []
  }
 ],
 "metadata": {
  "kernelspec": {
   "display_name": "Python 3 (ipykernel)",
   "language": "python",
   "name": "python3"
  },
  "language_info": {
   "codemirror_mode": {
    "name": "ipython",
    "version": 3
   },
   "file_extension": ".py",
   "mimetype": "text/x-python",
   "name": "python",
   "nbconvert_exporter": "python",
   "pygments_lexer": "ipython3",
   "version": "3.9.12"
  }
 },
 "nbformat": 4,
 "nbformat_minor": 5
}
