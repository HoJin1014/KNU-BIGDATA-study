{
 "cells": [
  {
   "cell_type": "code",
   "execution_count": 5,
   "id": "3606be1f",
   "metadata": {},
   "outputs": [
    {
     "name": "stdout",
     "output_type": "stream",
     "text": [
      "default (1028, 1232, 3) color (1028, 1232, 3) unchanged (1028, 1232)\n"
     ]
    }
   ],
   "source": [
    "# BGR, BGRA, Ahlpha 채널 (rgba.py)\n",
    "\n",
    "import cv2\n",
    "import numpy as np\n",
    "\n",
    "# 기본 값 옵션\n",
    "img = cv2.imread('../2022.11.07/ex1.jpg')\n",
    "img = cv2.resize(img, (0, 0), fx=0.5, fy=0.5, interpolation=cv2.INTER_NEAREST)\n",
    "# IMREAD_COLOR 옵션                   \n",
    "bgr = cv2.imread('../2022.11.07/ex1.jpg', cv2.IMREAD_COLOR)\n",
    "bgr = cv2.resize(bgr, (0, 0), fx=0.5, fy=0.5, interpolation=cv2.INTER_NEAREST)\n",
    "# IMREAD_UNCHANGED 옵션\n",
    "bgra = cv2.imread('../2022.11.07/ex1.jpg', cv2.IMREAD_UNCHANGED)\n",
    "bgra = cv2.resize(bgra, (0, 0), fx=0.5, fy=0.5, interpolation=cv2.INTER_NEAREST)\n",
    "\n",
    "# 각 옵션에 따른 이미지 shape\n",
    "print(\"default\", img.shape, \"color\", bgr.shape, \"unchanged\", bgra.shape) \n",
    "\n",
    "cv2.imshow('bgr', bgr)\n",
    "cv2.imshow('bgra', bgra)\n",
    "# cv2.imshow('alpha', bgra[:,:,3])  # 알파 채널만 표시\n",
    "cv2.waitKey(0)\n",
    "cv2.destroyAllWindows()"
   ]
  },
  {
   "cell_type": "code",
   "execution_count": null,
   "id": "e4fc5ca0",
   "metadata": {},
   "outputs": [],
   "source": []
  },
  {
   "cell_type": "code",
   "execution_count": 6,
   "id": "eea9a332",
   "metadata": {},
   "outputs": [],
   "source": [
    "# BGR 색상 이미지를 회색조 이미지로 변환 (bgr2gray.py)\n",
    "\n",
    "import cv2\n",
    "import numpy as np\n",
    "\n",
    "img = cv2.imread('../2022.11.07/ex1.jpg')\n",
    "img = cv2.resize(img, (0, 0), fx=0.5, fy=0.5, interpolation=cv2.INTER_NEAREST)\n",
    "\n",
    "img2 = img.astype(np.uint16)                # dtype 변경 ---①\n",
    "b,g,r = cv2.split(img2)                     # 채널 별로 분리 ---②\n",
    "#b,g,r = img2[:,:,0], img2[:,:,1], img2[:,:,2]\n",
    "gray1 = ((b + g + r)/3).astype(np.uint8)    # 평균 값 연산후 dtype 변경 ---③\n",
    "\n",
    "gray2 = cv2.cvtColor(img, cv2.COLOR_BGR2GRAY) # BGR을 그레이 스케일로 변경 ---④\n",
    "cv2.imshow('original', img)\n",
    "cv2.imshow('gray1', gray1)\n",
    "cv2.imshow('gray2', gray2)\n",
    "\n",
    "cv2.waitKey(0)\n",
    "cv2.destroyAllWindows()"
   ]
  },
  {
   "cell_type": "code",
   "execution_count": null,
   "id": "d752a72d",
   "metadata": {},
   "outputs": [],
   "source": []
  }
 ],
 "metadata": {
  "kernelspec": {
   "display_name": "Python 3 (ipykernel)",
   "language": "python",
   "name": "python3"
  },
  "language_info": {
   "codemirror_mode": {
    "name": "ipython",
    "version": 3
   },
   "file_extension": ".py",
   "mimetype": "text/x-python",
   "name": "python",
   "nbconvert_exporter": "python",
   "pygments_lexer": "ipython3",
   "version": "3.9.12"
  }
 },
 "nbformat": 4,
 "nbformat_minor": 5
}
