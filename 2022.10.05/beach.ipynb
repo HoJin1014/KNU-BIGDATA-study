{
 "cells": [
  {
   "cell_type": "code",
   "execution_count": 16,
   "id": "ee34f7ce",
   "metadata": {},
   "outputs": [],
   "source": [
    "import pandas as pd\n",
    "import os"
   ]
  },
  {
   "cell_type": "code",
   "execution_count": 17,
   "id": "236e0b7d",
   "metadata": {},
   "outputs": [],
   "source": [
    "temperature_path = os.listdir('./data/')"
   ]
  },
  {
   "cell_type": "code",
   "execution_count": 18,
   "id": "917135b2",
   "metadata": {},
   "outputs": [
    {
     "data": {
      "text/plain": [
       "['(수온, 기온)거제도 17_18.csv',\n",
       " '(수온, 기온)거제도 18_19.csv',\n",
       " '(수온, 기온)거제도 19_20.csv',\n",
       " '(수온, 기온)거제도 20_21.csv',\n",
       " '(수온, 기온)거제도 21_22.csv',\n",
       " '(수온, 기온)통영 17_18.csv',\n",
       " '(수온, 기온)통영 18_19.csv',\n",
       " '(수온, 기온)통영 19_20.csv',\n",
       " '(수온, 기온)통영 20_21.csv',\n",
       " '(수온, 기온)통영 21_22.csv',\n",
       " '거제_강수_일조_풍속(17_22).csv',\n",
       " '통영_강수_일조_풍속(17_22).csv']"
      ]
     },
     "execution_count": 18,
     "metadata": {},
     "output_type": "execute_result"
    }
   ],
   "source": [
    "temperature_path"
   ]
  },
  {
   "cell_type": "code",
   "execution_count": 30,
   "id": "e321a697",
   "metadata": {},
   "outputs": [],
   "source": [
    "for file in temperature_path:\n",
    "    temp=pd.read_csv('./data/'+file, encoding='cp949')\n",
    "    df=pd.concat([df, temp])"
   ]
  },
  {
   "cell_type": "code",
   "execution_count": 35,
   "id": "3912c28f",
   "metadata": {},
   "outputs": [],
   "source": [
    "df.to_csv('df1.csv')"
   ]
  },
  {
   "cell_type": "code",
   "execution_count": null,
   "id": "f07816a1",
   "metadata": {},
   "outputs": [],
   "source": []
  }
 ],
 "metadata": {
  "kernelspec": {
   "display_name": "Python 3 (ipykernel)",
   "language": "python",
   "name": "python3"
  },
  "language_info": {
   "codemirror_mode": {
    "name": "ipython",
    "version": 3
   },
   "file_extension": ".py",
   "mimetype": "text/x-python",
   "name": "python",
   "nbconvert_exporter": "python",
   "pygments_lexer": "ipython3",
   "version": "3.9.12"
  }
 },
 "nbformat": 4,
 "nbformat_minor": 5
}
