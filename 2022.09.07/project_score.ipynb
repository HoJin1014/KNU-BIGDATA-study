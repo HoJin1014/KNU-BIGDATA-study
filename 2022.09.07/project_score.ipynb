{
 "cells": [
  {
   "cell_type": "markdown",
   "id": "8e9b4eba",
   "metadata": {},
   "source": [
    "# 미국 고등학생의 시험에서의 성과\n",
    "---\n",
    "    * 학부모의 배경, 시험 준비 등이 학생들의 성적에 미치는 영향"
   ]
  },
  {
   "cell_type": "code",
   "execution_count": 1,
   "id": "382589b3",
   "metadata": {},
   "outputs": [],
   "source": [
    "# 모듈\n",
    "import pandas as pd\n",
    "import numpy as np\n",
    "import matplotlib.pyplot as plt\n",
    "import warnings\n",
    "warnings.filterwarnings(action='ignore')\n",
    "from sklearn.model_selection import train_test_split\n",
    "from sklearn.utils import all_estimators\n",
    "from sklearn.preprocessing import LabelEncoder"
   ]
  },
  {
   "cell_type": "code",
   "execution_count": 2,
   "id": "2cde8285",
   "metadata": {},
   "outputs": [],
   "source": [
    "# 파일\n",
    "DIR='../DAY-0907/StudentsPerformance.csv'\n",
    "FILE=pd.read_csv(DIR)\n",
    "stuDF=(FILE)"
   ]
  },
  {
   "cell_type": "code",
   "execution_count": 3,
   "id": "151ef562",
   "metadata": {},
   "outputs": [
    {
     "data": {
      "text/html": [
       "<div>\n",
       "<style scoped>\n",
       "    .dataframe tbody tr th:only-of-type {\n",
       "        vertical-align: middle;\n",
       "    }\n",
       "\n",
       "    .dataframe tbody tr th {\n",
       "        vertical-align: top;\n",
       "    }\n",
       "\n",
       "    .dataframe thead th {\n",
       "        text-align: right;\n",
       "    }\n",
       "</style>\n",
       "<table border=\"1\" class=\"dataframe\">\n",
       "  <thead>\n",
       "    <tr style=\"text-align: right;\">\n",
       "      <th></th>\n",
       "      <th>gender</th>\n",
       "      <th>race/ethnicity</th>\n",
       "      <th>parental level of education</th>\n",
       "      <th>lunch</th>\n",
       "      <th>test preparation course</th>\n",
       "      <th>math score</th>\n",
       "      <th>reading score</th>\n",
       "      <th>writing score</th>\n",
       "    </tr>\n",
       "  </thead>\n",
       "  <tbody>\n",
       "    <tr>\n",
       "      <th>0</th>\n",
       "      <td>female</td>\n",
       "      <td>group B</td>\n",
       "      <td>bachelor's degree</td>\n",
       "      <td>standard</td>\n",
       "      <td>none</td>\n",
       "      <td>72</td>\n",
       "      <td>72</td>\n",
       "      <td>74</td>\n",
       "    </tr>\n",
       "    <tr>\n",
       "      <th>1</th>\n",
       "      <td>female</td>\n",
       "      <td>group C</td>\n",
       "      <td>some college</td>\n",
       "      <td>standard</td>\n",
       "      <td>completed</td>\n",
       "      <td>69</td>\n",
       "      <td>90</td>\n",
       "      <td>88</td>\n",
       "    </tr>\n",
       "    <tr>\n",
       "      <th>2</th>\n",
       "      <td>female</td>\n",
       "      <td>group B</td>\n",
       "      <td>master's degree</td>\n",
       "      <td>standard</td>\n",
       "      <td>none</td>\n",
       "      <td>90</td>\n",
       "      <td>95</td>\n",
       "      <td>93</td>\n",
       "    </tr>\n",
       "    <tr>\n",
       "      <th>3</th>\n",
       "      <td>male</td>\n",
       "      <td>group A</td>\n",
       "      <td>associate's degree</td>\n",
       "      <td>free/reduced</td>\n",
       "      <td>none</td>\n",
       "      <td>47</td>\n",
       "      <td>57</td>\n",
       "      <td>44</td>\n",
       "    </tr>\n",
       "    <tr>\n",
       "      <th>4</th>\n",
       "      <td>male</td>\n",
       "      <td>group C</td>\n",
       "      <td>some college</td>\n",
       "      <td>standard</td>\n",
       "      <td>none</td>\n",
       "      <td>76</td>\n",
       "      <td>78</td>\n",
       "      <td>75</td>\n",
       "    </tr>\n",
       "  </tbody>\n",
       "</table>\n",
       "</div>"
      ],
      "text/plain": [
       "   gender race/ethnicity parental level of education         lunch  \\\n",
       "0  female        group B           bachelor's degree      standard   \n",
       "1  female        group C                some college      standard   \n",
       "2  female        group B             master's degree      standard   \n",
       "3    male        group A          associate's degree  free/reduced   \n",
       "4    male        group C                some college      standard   \n",
       "\n",
       "  test preparation course  math score  reading score  writing score  \n",
       "0                    none          72             72             74  \n",
       "1               completed          69             90             88  \n",
       "2                    none          90             95             93  \n",
       "3                    none          47             57             44  \n",
       "4                    none          76             78             75  "
      ]
     },
     "execution_count": 3,
     "metadata": {},
     "output_type": "execute_result"
    }
   ],
   "source": [
    "# 확인\n",
    "stuDF.head()"
   ]
  },
  {
   "cell_type": "code",
   "execution_count": 4,
   "id": "562e23eb",
   "metadata": {},
   "outputs": [
    {
     "data": {
      "text/plain": [
       "gender                         0\n",
       "race/ethnicity                 0\n",
       "parental level of education    0\n",
       "lunch                          0\n",
       "test preparation course        0\n",
       "math score                     0\n",
       "reading score                  0\n",
       "writing score                  0\n",
       "dtype: int64"
      ]
     },
     "execution_count": 4,
     "metadata": {},
     "output_type": "execute_result"
    }
   ],
   "source": [
    "# 결측치 확인\n",
    "stuDF.isnull().sum()"
   ]
  },
  {
   "cell_type": "code",
   "execution_count": 5,
   "id": "85aeb997",
   "metadata": {},
   "outputs": [
    {
     "data": {
      "text/plain": [
       "Index(['gender', 'race/ethnicity', 'parental level of education', 'lunch',\n",
       "       'test preparation course', 'math score', 'reading score',\n",
       "       'writing score'],\n",
       "      dtype='object')"
      ]
     },
     "execution_count": 5,
     "metadata": {},
     "output_type": "execute_result"
    }
   ],
   "source": [
    "# 열 확인\n",
    "stuDF.columns\n",
    "\n",
    "# gender: 성별\n",
    "# race/ethnicity: 인종/민족\n",
    "# parental level of education: 부모의 교육 수준\n",
    "# lunch: 점심\n",
    "# test preparation course: 시험 준비 과정\n",
    "# math score: 수학 점수\n",
    "# reading score: 읽기 점수\n",
    "# writing score: 쓰기 점수"
   ]
  },
  {
   "cell_type": "code",
   "execution_count": 6,
   "id": "b760afde",
   "metadata": {},
   "outputs": [],
   "source": [
    "# applpus score(과목 3개의 합산 점수) 와 allscore level(등급의 평균) 추가\n",
    "stuDF['allplus score']=stuDF['math score']+stuDF['reading score']+stuDF['writing score']\n",
    "stuDF['allscore level']=stuDF['allplus score']/3"
   ]
  },
  {
   "cell_type": "code",
   "execution_count": 7,
   "id": "1392325a",
   "metadata": {},
   "outputs": [
    {
     "name": "stdout",
     "output_type": "stream",
     "text": [
      "[1, 1, 1, 2, 1, 1, 1, 2, 2, 2, 2, 2, 1, 1, 2, 1, 1, 3, 2, 2, 2, 1, 2, 1, 1, 1, 2, 1, 2, 2, 1, 2, 2, 2, 1, 1, 1, 2, 1, 2, 2, 2, 2, 2, 2, 2, 2, 1, 2, 1, 2, 1, 2, 1, 1, 3, 1, 2, 2, 3, 1, 3, 2, 1, 2, 2, 3, 2, 2, 2, 2, 2, 2, 2, 2, 2, 3, 1, 2, 2, 2, 2, 2, 2, 3, 1, 1, 1, 2, 1, 1, 3, 1, 2, 1, 1, 2, 2, 2, 2, 1, 1, 1, 2, 1, 2, 1, 2, 2, 2, 1, 2, 2, 2, 1, 1, 1, 1, 2, 2, 1, 1, 1, 2, 1, 1, 2, 1, 1, 2, 1, 2, 1, 1, 1, 2, 2, 2, 2, 2, 1, 2, 2, 2, 1, 3, 1, 2, 1, 1, 2, 1, 2, 2, 2, 1, 1, 2, 1, 2, 1, 1, 2, 2, 1, 1, 2, 1, 1, 1, 1, 1, 1, 2, 2, 1, 2, 1, 2, 1, 2, 2, 2, 2, 2, 2, 1, 2, 2, 1, 2, 1, 2, 2, 1, 2, 2, 2, 2, 1, 1, 1, 1, 2, 2, 1, 2, 1, 1, 2, 1, 3, 2, 2, 1, 1, 1, 3, 1, 2, 2, 1, 2, 1, 2, 2, 1, 2, 2, 1, 2, 2, 1, 1, 1, 1, 2, 2, 2, 1, 2, 1, 2, 2, 1, 1, 1, 2, 2, 2, 2, 1, 2, 1, 2, 2, 2, 1, 1, 1, 1, 1, 2, 1, 1, 2, 1, 1, 1, 1, 2, 2, 2, 2, 1, 1, 1, 2, 1, 2, 2, 2, 1, 1, 2, 1, 1, 1, 1, 1, 1, 1, 2, 1, 1, 2, 2, 1, 2, 1, 1, 2, 1, 1, 1, 2, 1, 2, 2, 2, 1, 2, 2, 2, 2, 2, 1, 1, 2, 2, 1, 1, 1, 2, 2, 1, 2, 3, 1, 2, 2, 3, 2, 1, 1, 2, 1, 2, 3, 2, 2, 2, 1, 2, 1, 1, 2, 1, 1, 1, 2, 2, 1, 2, 2, 2, 2, 2, 2, 1, 2, 1, 2, 3, 2, 2, 2, 2, 2, 1, 1, 2, 1, 1, 2, 2, 1, 1, 1, 2, 1, 1, 1, 2, 2, 1, 2, 2, 2, 1, 2, 1, 1, 2, 1, 2, 2, 1, 2, 2, 2, 2, 2, 1, 2, 2, 2, 1, 2, 1, 1, 1, 2, 2, 2, 1, 1, 1, 2, 2, 1, 2, 2, 1, 3, 2, 1, 2, 2, 2, 2, 2, 2, 2, 2, 2, 2, 1, 2, 1, 1, 1, 2, 1, 1, 1, 2, 1, 2, 1, 1, 1, 1, 2, 2, 2, 1, 2, 1, 2, 2, 2, 1, 1, 2, 1, 3, 2, 1, 1, 1, 2, 1, 2, 1, 1, 2, 1, 2, 1, 1, 2, 2, 2, 2, 1, 2, 2, 2, 1, 1, 2, 1, 1, 2, 2, 2, 1, 2, 1, 1, 1, 2, 1, 2, 1, 2, 2, 1, 1, 1, 2, 2, 2, 1, 1, 1, 1, 1, 1, 2, 1, 2, 2, 2, 2, 2, 2, 3, 2, 2, 2, 2, 1, 1, 1, 2, 2, 1, 1, 1, 1, 1, 1, 2, 1, 1, 2, 2, 1, 1, 1, 2, 2, 2, 3, 2, 2, 2, 2, 1, 1, 1, 1, 2, 2, 1, 1, 2, 2, 1, 1, 2, 2, 1, 2, 2, 1, 2, 2, 1, 1, 1, 1, 1, 1, 2, 2, 2, 2, 2, 2, 2, 1, 1, 2, 3, 2, 1, 1, 2, 3, 1, 2, 1, 2, 1, 2, 2, 2, 2, 2, 1, 1, 1, 2, 2, 1, 1, 2, 2, 2, 2, 1, 2, 1, 2, 2, 2, 2, 2, 2, 1, 1, 1, 2, 1, 1, 1, 1, 2, 1, 1, 1, 2, 1, 2, 2, 2, 1, 2, 1, 1, 2, 1, 2, 2, 2, 2, 1, 1, 2, 2, 2, 2, 2, 2, 1, 2, 1, 1, 2, 1, 1, 1, 2, 1, 1, 1, 2, 1, 2, 2, 3, 2, 1, 1, 1, 2, 1, 2, 1, 1, 1, 2, 1, 1, 2, 1, 2, 1, 2, 1, 2, 2, 2, 3, 2, 1, 2, 1, 1, 1, 1, 2, 1, 1, 1, 1, 1, 2, 2, 1, 2, 2, 1, 1, 2, 1, 2, 1, 2, 1, 2, 2, 2, 1, 2, 1, 2, 1, 2, 1, 2, 2, 1, 1, 2, 2, 1, 2, 2, 1, 1, 2, 1, 2, 1, 2, 1, 2, 2, 1, 2, 2, 1, 1, 2, 1, 2, 2, 1, 2, 1, 2, 2, 2, 2, 1, 1, 2, 1, 1, 2, 1, 2, 1, 3, 2, 2, 2, 2, 2, 1, 2, 2, 1, 1, 2, 2, 2, 1, 1, 1, 1, 1, 1, 2, 1, 2, 3, 2, 2, 1, 1, 1, 2, 2, 2, 1, 1, 1, 2, 1, 2, 2, 2, 1, 1, 2, 2, 1, 2, 1, 2, 2, 2, 1, 2, 1, 2, 2, 3, 1, 2, 1, 1, 2, 2, 1, 2, 2, 1, 1, 2, 1, 2, 1, 2, 1, 2, 1, 3, 1, 1, 1, 2, 2, 1, 2, 2, 1, 1, 1, 2, 1, 1, 2, 1, 1, 2, 1, 2, 2, 2, 1, 1, 2, 2, 2, 1, 1, 2, 1, 2, 3, 3, 1, 2, 1, 1, 1, 2, 1, 1, 1, 2, 1, 1, 2, 2, 1, 2, 2, 2, 2, 1, 2, 1, 1, 2, 2, 2, 2, 1, 2, 2, 2, 2, 2, 1, 2, 2, 1, 1, 2, 2, 2, 1, 1, 1, 1, 1, 2, 2, 2, 1, 2, 2, 2, 1, 1, 1, 2, 2, 2, 1, 1, 2, 1, 2, 2, 1, 1, 2, 2, 2, 2, 1, 1, 1, 1, 2, 2, 2, 1, 2, 2, 2, 1, 3, 1, 1, 1, 1, 2, 2, 1, 2, 1, 1, 1, 2, 2, 2, 1, 2, 2, 1, 1]\n"
     ]
    }
   ],
   "source": [
    "# 3개의 성적을 합산한 것의 평균을 구하고 점수별 등급을 지정\n",
    "level = []\n",
    "for i in stuDF['allscore level']:\n",
    "    if (i <=100 )&( i >=70):\n",
    "        level.append(1)\n",
    "    elif (i <70) & (i >=40):\n",
    "        level.append(2)\n",
    "    else:\n",
    "        level.append(3)\n",
    "print(level)        "
   ]
  },
  {
   "cell_type": "code",
   "execution_count": 8,
   "id": "d4924f98",
   "metadata": {},
   "outputs": [],
   "source": [
    "# 등급 만들어준 것을 새로운 열로 추가\n",
    "stuDF['Rank']=level"
   ]
  },
  {
   "cell_type": "code",
   "execution_count": 9,
   "id": "2823af51",
   "metadata": {
    "scrolled": true
   },
   "outputs": [
    {
     "name": "stdout",
     "output_type": "stream",
     "text": [
      "gender\n",
      "['female' 'male']\n",
      "------------------------------\n",
      "race/ethnicity\n",
      "['group A' 'group B' 'group C' 'group D' 'group E']\n",
      "------------------------------\n",
      "parental level of education\n",
      "[\"associate's degree\" \"bachelor's degree\" 'high school' \"master's degree\"\n",
      " 'some college' 'some high school']\n",
      "------------------------------\n",
      "lunch\n",
      "['free/reduced' 'standard']\n",
      "------------------------------\n",
      "test preparation course\n",
      "['completed' 'none']\n",
      "------------------------------\n"
     ]
    }
   ],
   "source": [
    "# 라벨 인코딩을 통해 문자열이었던 다른 열들도 숫자로 바꾸어줌 (예를들어 0, 1, 2, 3)\n",
    "label=stuDF[['gender', 'race/ethnicity', 'parental level of education', 'lunch',\n",
    "       'test preparation course']]\n",
    "for i in label:\n",
    "    encoder = LabelEncoder()\n",
    "    encoder.fit(stuDF[i])\n",
    "    stuDF[i] = encoder.transform(stuDF[i])\n",
    "    print(i)\n",
    "    print(encoder.classes_)\n",
    "    print('------------------------------')"
   ]
  },
  {
   "cell_type": "markdown",
   "id": "91f4faea",
   "metadata": {},
   "source": [
    "## 모델\n",
    "---"
   ]
  },
  {
   "cell_type": "code",
   "execution_count": 10,
   "id": "73dffd94",
   "metadata": {},
   "outputs": [
    {
     "name": "stdout",
     "output_type": "stream",
     "text": [
      "<class 'pandas.core.frame.DataFrame'>\n",
      "RangeIndex: 1000 entries, 0 to 999\n",
      "Data columns (total 11 columns):\n",
      " #   Column                       Non-Null Count  Dtype  \n",
      "---  ------                       --------------  -----  \n",
      " 0   gender                       1000 non-null   int32  \n",
      " 1   race/ethnicity               1000 non-null   int32  \n",
      " 2   parental level of education  1000 non-null   int32  \n",
      " 3   lunch                        1000 non-null   int32  \n",
      " 4   test preparation course      1000 non-null   int32  \n",
      " 5   math score                   1000 non-null   int64  \n",
      " 6   reading score                1000 non-null   int64  \n",
      " 7   writing score                1000 non-null   int64  \n",
      " 8   allplus score                1000 non-null   int64  \n",
      " 9   allscore level               1000 non-null   float64\n",
      " 10  Rank                         1000 non-null   int64  \n",
      "dtypes: float64(1), int32(5), int64(5)\n",
      "memory usage: 66.5 KB\n"
     ]
    }
   ],
   "source": [
    "stuDF.info()"
   ]
  },
  {
   "cell_type": "code",
   "execution_count": 11,
   "id": "d11c9217",
   "metadata": {},
   "outputs": [],
   "source": [
    "# data, target 지정\n",
    "data=stuDF[['gender','race/ethnicity','parental level of education','lunch','test preparation course']]\n",
    "target=stuDF['Rank']"
   ]
  },
  {
   "cell_type": "code",
   "execution_count": 12,
   "id": "1b2133c2",
   "metadata": {},
   "outputs": [
    {
     "name": "stdout",
     "output_type": "stream",
     "text": [
      "(1000, 5)\n",
      "(1000,)\n"
     ]
    }
   ],
   "source": [
    "print(data.shape)\n",
    "print(target.shape)"
   ]
  },
  {
   "cell_type": "code",
   "execution_count": 13,
   "id": "08479b0b",
   "metadata": {},
   "outputs": [],
   "source": [
    "# 훈련 테스트 분리\n",
    "train_X, test_X, train_y, test_y = train_test_split(data, target,\n",
    "                                                    test_size=0.2,\n",
    "                                                   shuffle=True,\n",
    "                                                    stratify=target,\n",
    "                                                   random_state=42)"
   ]
  },
  {
   "cell_type": "code",
   "execution_count": 14,
   "id": "56e83f6d",
   "metadata": {},
   "outputs": [
    {
     "data": {
      "text/plain": [
       "[('AdaBoostClassifier', 0.575),\n",
       " ('BaggingClassifier', 0.495),\n",
       " ('BernoulliNB', 0.59),\n",
       " ('CalibratedClassifierCV', 0.61),\n",
       " ('CategoricalNB', 0.61),\n",
       " ('ComplementNB', 0.605),\n",
       " ('DecisionTreeClassifier', 0.505),\n",
       " ('DummyClassifier', 0.51),\n",
       " ('ExtraTreeClassifier', 0.515),\n",
       " ('ExtraTreesClassifier', 0.515),\n",
       " ('GaussianNB', 0.61),\n",
       " ('GaussianProcessClassifier', 0.6),\n",
       " ('GradientBoostingClassifier', 0.59),\n",
       " ('HistGradientBoostingClassifier', 0.555),\n",
       " ('KNeighborsClassifier', 0.545),\n",
       " ('LabelPropagation', 0.55),\n",
       " ('LabelSpreading', 0.54),\n",
       " ('LinearDiscriminantAnalysis', 0.61),\n",
       " ('LinearSVC', 0.61),\n",
       " ('LogisticRegression', 0.61),\n",
       " ('LogisticRegressionCV', 0.61),\n",
       " ('MLPClassifier', 0.6),\n",
       " ('MultinomialNB', 0.615),\n",
       " ('NearestCentroid', 0.35),\n",
       " ('PassiveAggressiveClassifier', 0.475),\n",
       " ('Perceptron', 0.52),\n",
       " ('QuadraticDiscriminantAnalysis', 0.6),\n",
       " ('RadiusNeighborsClassifier', 0.615),\n",
       " ('RandomForestClassifier', 0.535),\n",
       " ('RidgeClassifier', 0.61),\n",
       " ('RidgeClassifierCV', 0.61),\n",
       " ('SGDClassifier', 0.575),\n",
       " ('SVC', 0.605)]"
      ]
     },
     "execution_count": 14,
     "metadata": {},
     "output_type": "execute_result"
    }
   ],
   "source": [
    "scores = []\n",
    "models = all_estimators(type_filter='classifier')\n",
    "for name, model in models:\n",
    "    try:\n",
    "        # 모델 객체 생성\n",
    "        md=model()\n",
    "        # 학습\n",
    "        md.fit(train_X, train_y)\n",
    "        # 평가\n",
    "        result=md.score(test_X, test_y)\n",
    "        scores.append((name, result))\n",
    "    except:\n",
    "        pass\n",
    "scores"
   ]
  },
  {
   "cell_type": "code",
   "execution_count": 15,
   "id": "05c874f6",
   "metadata": {},
   "outputs": [
    {
     "name": "stdout",
     "output_type": "stream",
     "text": [
      "훈련 세트 정확도: , 0.6325\n",
      "테스트 세트 정확도: , 0.61\n",
      "분류 종류 :  [1 2 3]\n",
      "가중치 값 :  [[-0.30481636  0.21455563 -0.12271819  1.09060047 -1.03116481]\n",
      " [ 0.34935398 -0.1135984  -0.0710581   0.11933871  0.00355792]\n",
      " [-0.04453762 -0.10095723  0.19377629 -1.20993917  1.02760689]]\n",
      "절 편 값 :  [ 0.99877028  1.36461172 -2.363382  ]\n",
      "특성 갯수 :  5\n"
     ]
    }
   ],
   "source": [
    "from sklearn.linear_model import LogisticRegression\n",
    "\n",
    "# 모델 생성\n",
    "model=LogisticRegression(max_iter=500)\n",
    "\n",
    "# 학습\n",
    "model.fit(train_X.values, train_y.values)\n",
    "\n",
    "# 평가\n",
    "print(f\"훈련 세트 정확도: , {model.score(train_X.values, train_y.values)}\")\n",
    "print(f\"테스트 세트 정확도: , {model.score(test_X.values, test_y.values)}\")\n",
    "print('분류 종류 : ', model.classes_)\n",
    "print('가중치 값 : ', model.coef_)\n",
    "print('절 편 값 : ', model.intercept_)\n",
    "print('특성 갯수 : ', model.n_features_in_)"
   ]
  },
  {
   "cell_type": "code",
   "execution_count": 16,
   "id": "f402e5cf",
   "metadata": {
    "scrolled": true
   },
   "outputs": [
    {
     "name": "stdout",
     "output_type": "stream",
     "text": [
      "성적을 알고 싶은 학생의 번호를 입력하세요. : 1\n",
      "로지스틱 예측:  [1]\n",
      "예측 값 확인:  1\n",
      "------------------------------------------------------\n",
      "학생의 다른 정보:  \n",
      " [0 2 4 1 0]\n"
     ]
    }
   ],
   "source": [
    "number = int(input(\"성적을 알고 싶은 학생의 번호를 입력하세요. : \"))\n",
    "print('로지스틱 예측: ', model.predict([data.loc[number].values]))\n",
    "print('예측 값 확인: ',target.iloc[number])\n",
    "print('------------------------------------------------------')\n",
    "print('학생의 다른 정보: ','\\n',data.iloc[number].values)"
   ]
  },
  {
   "cell_type": "code",
   "execution_count": 17,
   "id": "31630afc",
   "metadata": {},
   "outputs": [],
   "source": [
    "## 교차 검증\n",
    "from sklearn.model_selection import cross_val_score, cross_validate\n",
    "\n",
    "# max_iter : 처음~끝까지 샘플데이터 학습 => 에포크(epoch) 학습 횟수 (기본 100)\n",
    "lrModel=LogisticRegression(max_iter=500)\n",
    "\n",
    "## 교차 검증으로 모델 학습 진행\n",
    "## => 학습 데이터 기반 10개 Fold로 학습 & 검증 진행\n",
    "result = cross_val_score(lrModel, data, target, cv=10)"
   ]
  },
  {
   "cell_type": "code",
   "execution_count": 18,
   "id": "bda403b8",
   "metadata": {},
   "outputs": [
    {
     "data": {
      "text/plain": [
       "array([0.61, 0.6 , 0.63, 0.64, 0.62, 0.65, 0.63, 0.65, 0.61, 0.6 ])"
      ]
     },
     "execution_count": 18,
     "metadata": {},
     "output_type": "execute_result"
    }
   ],
   "source": [
    "# 10개 모델에 대한 정확도(accuracy)\n",
    "result"
   ]
  },
  {
   "cell_type": "code",
   "execution_count": 19,
   "id": "aee1f2aa",
   "metadata": {},
   "outputs": [],
   "source": [
    "allResult=cross_validate(lrModel, data, target, \n",
    "                         return_train_score=True, \n",
    "                         cv=10)"
   ]
  },
  {
   "cell_type": "code",
   "execution_count": 20,
   "id": "6875ee56",
   "metadata": {},
   "outputs": [
    {
     "data": {
      "text/html": [
       "<div>\n",
       "<style scoped>\n",
       "    .dataframe tbody tr th:only-of-type {\n",
       "        vertical-align: middle;\n",
       "    }\n",
       "\n",
       "    .dataframe tbody tr th {\n",
       "        vertical-align: top;\n",
       "    }\n",
       "\n",
       "    .dataframe thead th {\n",
       "        text-align: right;\n",
       "    }\n",
       "</style>\n",
       "<table border=\"1\" class=\"dataframe\">\n",
       "  <thead>\n",
       "    <tr style=\"text-align: right;\">\n",
       "      <th></th>\n",
       "      <th>fit_time</th>\n",
       "      <th>score_time</th>\n",
       "      <th>test_score</th>\n",
       "      <th>train_score</th>\n",
       "    </tr>\n",
       "  </thead>\n",
       "  <tbody>\n",
       "    <tr>\n",
       "      <th>0</th>\n",
       "      <td>0.012963</td>\n",
       "      <td>0.001472</td>\n",
       "      <td>0.61</td>\n",
       "      <td>0.632222</td>\n",
       "    </tr>\n",
       "    <tr>\n",
       "      <th>1</th>\n",
       "      <td>0.010970</td>\n",
       "      <td>0.002035</td>\n",
       "      <td>0.60</td>\n",
       "      <td>0.632222</td>\n",
       "    </tr>\n",
       "    <tr>\n",
       "      <th>2</th>\n",
       "      <td>0.011006</td>\n",
       "      <td>0.000996</td>\n",
       "      <td>0.63</td>\n",
       "      <td>0.631111</td>\n",
       "    </tr>\n",
       "    <tr>\n",
       "      <th>3</th>\n",
       "      <td>0.012997</td>\n",
       "      <td>0.001000</td>\n",
       "      <td>0.64</td>\n",
       "      <td>0.627778</td>\n",
       "    </tr>\n",
       "    <tr>\n",
       "      <th>4</th>\n",
       "      <td>0.011964</td>\n",
       "      <td>0.001002</td>\n",
       "      <td>0.62</td>\n",
       "      <td>0.633333</td>\n",
       "    </tr>\n",
       "    <tr>\n",
       "      <th>5</th>\n",
       "      <td>0.012974</td>\n",
       "      <td>0.000985</td>\n",
       "      <td>0.65</td>\n",
       "      <td>0.627778</td>\n",
       "    </tr>\n",
       "    <tr>\n",
       "      <th>6</th>\n",
       "      <td>0.012970</td>\n",
       "      <td>0.001001</td>\n",
       "      <td>0.63</td>\n",
       "      <td>0.631111</td>\n",
       "    </tr>\n",
       "    <tr>\n",
       "      <th>7</th>\n",
       "      <td>0.013961</td>\n",
       "      <td>0.000996</td>\n",
       "      <td>0.65</td>\n",
       "      <td>0.631111</td>\n",
       "    </tr>\n",
       "    <tr>\n",
       "      <th>8</th>\n",
       "      <td>0.012968</td>\n",
       "      <td>0.000000</td>\n",
       "      <td>0.61</td>\n",
       "      <td>0.631111</td>\n",
       "    </tr>\n",
       "    <tr>\n",
       "      <th>9</th>\n",
       "      <td>0.010975</td>\n",
       "      <td>0.000990</td>\n",
       "      <td>0.60</td>\n",
       "      <td>0.631111</td>\n",
       "    </tr>\n",
       "  </tbody>\n",
       "</table>\n",
       "</div>"
      ],
      "text/plain": [
       "   fit_time  score_time  test_score  train_score\n",
       "0  0.012963    0.001472        0.61     0.632222\n",
       "1  0.010970    0.002035        0.60     0.632222\n",
       "2  0.011006    0.000996        0.63     0.631111\n",
       "3  0.012997    0.001000        0.64     0.627778\n",
       "4  0.011964    0.001002        0.62     0.633333\n",
       "5  0.012974    0.000985        0.65     0.627778\n",
       "6  0.012970    0.001001        0.63     0.631111\n",
       "7  0.013961    0.000996        0.65     0.631111\n",
       "8  0.012968    0.000000        0.61     0.631111\n",
       "9  0.010975    0.000990        0.60     0.631111"
      ]
     },
     "execution_count": 20,
     "metadata": {},
     "output_type": "execute_result"
    }
   ],
   "source": [
    "resultDF=pd.DataFrame(allResult)\n",
    "resultDF"
   ]
  },
  {
   "cell_type": "code",
   "execution_count": 21,
   "id": "0374f6b9",
   "metadata": {
    "scrolled": true
   },
   "outputs": [
    {
     "name": "stdout",
     "output_type": "stream",
     "text": [
      "{'C': 0.1}\n",
      "------------------------------\n",
      "0.62625\n",
      "------------------------------\n",
      "최고 성능 모델: \n",
      " LogisticRegression(C=0.1)\n"
     ]
    }
   ],
   "source": [
    "# 하이퍼 파라미터\n",
    "from sklearn.model_selection import GridSearchCV\n",
    "\n",
    "model=LogisticRegression()   # solver : {'newton-cg', 'lbfgs', 'liblinear', 'sag', 'saga'}\n",
    "model.fit(train_X, train_y)\n",
    "\n",
    "params = {\"C\": [0.001, 0.01, 0.1, 1, 10]}    #\"penalty\": ['l1','l2']}\n",
    "grid_search = GridSearchCV(model, params, n_jobs=-1, cv=5, scoring='accuracy')\n",
    "grid_search.fit(train_X, train_y)\n",
    "\n",
    "print(grid_search.best_params_)\n",
    "print('------------------------------')\n",
    "print(grid_search.best_score_)\n",
    "print('------------------------------')\n",
    "print(\"최고 성능 모델: \\n\", grid_search.best_estimator_)"
   ]
  },
  {
   "cell_type": "code",
   "execution_count": 22,
   "id": "7da46489",
   "metadata": {},
   "outputs": [
    {
     "name": "stdout",
     "output_type": "stream",
     "text": [
      "훈련 세트 정확도:  0.63625\n",
      "------------------------------\n",
      "테스트 세트 정확도:  0.615\n"
     ]
    }
   ],
   "source": [
    "model2=LogisticRegression(C=0.1)  #penalty='l1', solver='liblinear'\n",
    "model2.fit(train_X, train_y)\n",
    "\n",
    "print('훈련 세트 정확도: ', model2.score(train_X, train_y))\n",
    "print('------------------------------')\n",
    "print('테스트 세트 정확도: ', model2.score(test_X, test_y))"
   ]
  },
  {
   "cell_type": "markdown",
   "id": "b1827215",
   "metadata": {},
   "source": [
    "### 다른 모델\n",
    "---"
   ]
  },
  {
   "cell_type": "code",
   "execution_count": 23,
   "id": "5e9da054",
   "metadata": {},
   "outputs": [],
   "source": [
    "data1=stuDF[['gender','race/ethnicity','parental level of education','lunch','test preparation course']]\n",
    "target1=stuDF['Rank']"
   ]
  },
  {
   "cell_type": "code",
   "execution_count": 24,
   "id": "89a6b7d4",
   "metadata": {},
   "outputs": [
    {
     "name": "stdout",
     "output_type": "stream",
     "text": [
      "(1000, 5)\n",
      "(1000,)\n"
     ]
    }
   ],
   "source": [
    "print(data1.shape)\n",
    "print(target1.shape)"
   ]
  },
  {
   "cell_type": "code",
   "execution_count": 25,
   "id": "f0e9eb81",
   "metadata": {},
   "outputs": [],
   "source": [
    "# 훈련 테스트 분리\n",
    "train_X, test_X, train_y, test_y = train_test_split(data1, target1,\n",
    "                                                    test_size=0.2,\n",
    "                                                   shuffle=True,\n",
    "                                                    stratify=target,\n",
    "                                                   random_state=42)"
   ]
  },
  {
   "cell_type": "code",
   "execution_count": 26,
   "id": "72a8a6e9",
   "metadata": {},
   "outputs": [
    {
     "data": {
      "text/html": [
       "<style>#sk-container-id-1 {color: black;background-color: white;}#sk-container-id-1 pre{padding: 0;}#sk-container-id-1 div.sk-toggleable {background-color: white;}#sk-container-id-1 label.sk-toggleable__label {cursor: pointer;display: block;width: 100%;margin-bottom: 0;padding: 0.3em;box-sizing: border-box;text-align: center;}#sk-container-id-1 label.sk-toggleable__label-arrow:before {content: \"▸\";float: left;margin-right: 0.25em;color: #696969;}#sk-container-id-1 label.sk-toggleable__label-arrow:hover:before {color: black;}#sk-container-id-1 div.sk-estimator:hover label.sk-toggleable__label-arrow:before {color: black;}#sk-container-id-1 div.sk-toggleable__content {max-height: 0;max-width: 0;overflow: hidden;text-align: left;background-color: #f0f8ff;}#sk-container-id-1 div.sk-toggleable__content pre {margin: 0.2em;color: black;border-radius: 0.25em;background-color: #f0f8ff;}#sk-container-id-1 input.sk-toggleable__control:checked~div.sk-toggleable__content {max-height: 200px;max-width: 100%;overflow: auto;}#sk-container-id-1 input.sk-toggleable__control:checked~label.sk-toggleable__label-arrow:before {content: \"▾\";}#sk-container-id-1 div.sk-estimator input.sk-toggleable__control:checked~label.sk-toggleable__label {background-color: #d4ebff;}#sk-container-id-1 div.sk-label input.sk-toggleable__control:checked~label.sk-toggleable__label {background-color: #d4ebff;}#sk-container-id-1 input.sk-hidden--visually {border: 0;clip: rect(1px 1px 1px 1px);clip: rect(1px, 1px, 1px, 1px);height: 1px;margin: -1px;overflow: hidden;padding: 0;position: absolute;width: 1px;}#sk-container-id-1 div.sk-estimator {font-family: monospace;background-color: #f0f8ff;border: 1px dotted black;border-radius: 0.25em;box-sizing: border-box;margin-bottom: 0.5em;}#sk-container-id-1 div.sk-estimator:hover {background-color: #d4ebff;}#sk-container-id-1 div.sk-parallel-item::after {content: \"\";width: 100%;border-bottom: 1px solid gray;flex-grow: 1;}#sk-container-id-1 div.sk-label:hover label.sk-toggleable__label {background-color: #d4ebff;}#sk-container-id-1 div.sk-serial::before {content: \"\";position: absolute;border-left: 1px solid gray;box-sizing: border-box;top: 0;bottom: 0;left: 50%;z-index: 0;}#sk-container-id-1 div.sk-serial {display: flex;flex-direction: column;align-items: center;background-color: white;padding-right: 0.2em;padding-left: 0.2em;position: relative;}#sk-container-id-1 div.sk-item {position: relative;z-index: 1;}#sk-container-id-1 div.sk-parallel {display: flex;align-items: stretch;justify-content: center;background-color: white;position: relative;}#sk-container-id-1 div.sk-item::before, #sk-container-id-1 div.sk-parallel-item::before {content: \"\";position: absolute;border-left: 1px solid gray;box-sizing: border-box;top: 0;bottom: 0;left: 50%;z-index: -1;}#sk-container-id-1 div.sk-parallel-item {display: flex;flex-direction: column;z-index: 1;position: relative;background-color: white;}#sk-container-id-1 div.sk-parallel-item:first-child::after {align-self: flex-end;width: 50%;}#sk-container-id-1 div.sk-parallel-item:last-child::after {align-self: flex-start;width: 50%;}#sk-container-id-1 div.sk-parallel-item:only-child::after {width: 0;}#sk-container-id-1 div.sk-dashed-wrapped {border: 1px dashed gray;margin: 0 0.4em 0.5em 0.4em;box-sizing: border-box;padding-bottom: 0.4em;background-color: white;}#sk-container-id-1 div.sk-label label {font-family: monospace;font-weight: bold;display: inline-block;line-height: 1.2em;}#sk-container-id-1 div.sk-label-container {text-align: center;}#sk-container-id-1 div.sk-container {/* jupyter's `normalize.less` sets `[hidden] { display: none; }` but bootstrap.min.css set `[hidden] { display: none !important; }` so we also need the `!important` here to be able to override the default hidden behavior on the sphinx rendered scikit-learn.org. See: https://github.com/scikit-learn/scikit-learn/issues/21755 */display: inline-block !important;position: relative;}#sk-container-id-1 div.sk-text-repr-fallback {display: none;}</style><div id=\"sk-container-id-1\" class=\"sk-top-container\"><div class=\"sk-text-repr-fallback\"><pre>RadiusNeighborsClassifier()</pre><b>In a Jupyter environment, please rerun this cell to show the HTML representation or trust the notebook. <br />On GitHub, the HTML representation is unable to render, please try loading this page with nbviewer.org.</b></div><div class=\"sk-container\" hidden><div class=\"sk-item\"><div class=\"sk-estimator sk-toggleable\"><input class=\"sk-toggleable__control sk-hidden--visually\" id=\"sk-estimator-id-1\" type=\"checkbox\" checked><label for=\"sk-estimator-id-1\" class=\"sk-toggleable__label sk-toggleable__label-arrow\">RadiusNeighborsClassifier</label><div class=\"sk-toggleable__content\"><pre>RadiusNeighborsClassifier()</pre></div></div></div></div></div>"
      ],
      "text/plain": [
       "RadiusNeighborsClassifier()"
      ]
     },
     "execution_count": 26,
     "metadata": {},
     "output_type": "execute_result"
    }
   ],
   "source": [
    "from sklearn.neighbors import RadiusNeighborsClassifier\n",
    "neigh = RadiusNeighborsClassifier(radius=1.0)\n",
    "neigh.fit(train_X, train_y)"
   ]
  },
  {
   "cell_type": "code",
   "execution_count": 27,
   "id": "040732bb",
   "metadata": {},
   "outputs": [
    {
     "name": "stdout",
     "output_type": "stream",
     "text": [
      "0.64625\n",
      "0.615\n"
     ]
    }
   ],
   "source": [
    "print(neigh.score(train_X, train_y))\n",
    "print(neigh.score(test_X, test_y))"
   ]
  },
  {
   "cell_type": "code",
   "execution_count": 28,
   "id": "fc43b3eb",
   "metadata": {},
   "outputs": [
    {
     "name": "stdout",
     "output_type": "stream",
     "text": [
      "[1]\n",
      "[1]\n",
      "----------------------------------------------------------\n",
      "[1]\n",
      "[1]\n",
      "----------------------------------------------------------\n",
      "[1]\n",
      "[1]\n"
     ]
    }
   ],
   "source": [
    "# gender, race/ethnicity, parental level of education, lunch, test preparation course\n",
    "# fe/ma, groupA~E, asso/bach/high/master/somecol/somehigh, free/reduce, com/non\n",
    "RadiusNeighborsClassifier(...)\n",
    "print(neigh.predict([[0, 1, 4, 1, 0]]))\n",
    "print(neigh.predict([[1, 1, 4, 1, 0]]))\n",
    "print('----------------------------------------------------------')\n",
    "print(neigh.predict([[0, 1, 3, 1, 0]]))\n",
    "print(neigh.predict([[1, 1, 3, 1, 0]]))\n",
    "print('----------------------------------------------------------')\n",
    "print(neigh.predict([[0, 3, 2, 1, 0]]))\n",
    "print(neigh.predict([[1, 3, 2, 1, 0]]))"
   ]
  },
  {
   "cell_type": "code",
   "execution_count": 29,
   "id": "f2040444",
   "metadata": {
    "scrolled": true
   },
   "outputs": [
    {
     "name": "stdout",
     "output_type": "stream",
     "text": [
      "[[0.59259259 0.37037037 0.03703704]]\n",
      "[[0.57692308 0.42307692 0.        ]]\n",
      "----------------------------------------------------------\n",
      "[[0.75 0.25 0.  ]]\n",
      "[[0.54545455 0.45454545 0.        ]]\n",
      "----------------------------------------------------------\n",
      "[[0.55555556 0.44444444 0.        ]]\n",
      "[[0.48 0.48 0.04]]\n"
     ]
    }
   ],
   "source": [
    "# gender, race/ethnicity, parental level of education, lunch, test preparation course\n",
    "# fe/ma, groupA~E, asso/bach/high/master/somecol/somehigh, free/reduce, com/non\n",
    "# 확률\n",
    "print(neigh.predict_proba([[0, 1, 4, 1, 0]]))\n",
    "print(neigh.predict_proba([[1, 1, 4, 1, 0]]))\n",
    "print('----------------------------------------------------------')\n",
    "print(neigh.predict_proba([[0, 1, 3, 1, 0]]))\n",
    "print(neigh.predict_proba([[1, 1, 3, 1, 0]]))\n",
    "print('----------------------------------------------------------')\n",
    "print(neigh.predict_proba([[0, 3, 2, 1, 0]]))\n",
    "print(neigh.predict_proba([[1, 3, 2, 1, 0]]))"
   ]
  },
  {
   "cell_type": "code",
   "execution_count": null,
   "id": "5e71f7b7",
   "metadata": {},
   "outputs": [],
   "source": []
  },
  {
   "cell_type": "code",
   "execution_count": null,
   "id": "1d1df72b",
   "metadata": {},
   "outputs": [],
   "source": []
  },
  {
   "cell_type": "code",
   "execution_count": null,
   "id": "1e8a723f",
   "metadata": {},
   "outputs": [],
   "source": []
  },
  {
   "cell_type": "code",
   "execution_count": null,
   "id": "752883b3",
   "metadata": {},
   "outputs": [],
   "source": []
  },
  {
   "cell_type": "code",
   "execution_count": null,
   "id": "5cdb740b",
   "metadata": {},
   "outputs": [],
   "source": []
  },
  {
   "cell_type": "code",
   "execution_count": null,
   "id": "76c1ab2c",
   "metadata": {},
   "outputs": [],
   "source": []
  },
  {
   "cell_type": "code",
   "execution_count": null,
   "id": "50506025",
   "metadata": {},
   "outputs": [],
   "source": []
  },
  {
   "cell_type": "code",
   "execution_count": 30,
   "id": "dba35891",
   "metadata": {},
   "outputs": [],
   "source": [
    "##########################################################################"
   ]
  },
  {
   "cell_type": "code",
   "execution_count": 31,
   "id": "49976322",
   "metadata": {},
   "outputs": [],
   "source": [
    "# from sklearn.naive_bayes import MultinomialNB\n",
    "\n",
    "# rng= np.random.RandomState(50)\n",
    "\n",
    "# num_data=50\n",
    "# num_feature=10\n",
    "\n",
    "# data2 = data1(5, size=(num_data, num_feature))\n",
    "# target2 = target1.values(6, size=num_data)"
   ]
  },
  {
   "cell_type": "code",
   "execution_count": 32,
   "id": "ce899c82",
   "metadata": {},
   "outputs": [],
   "source": [
    "# from numpy import mean\n",
    "# from numpy import std\n",
    "# from sklearn.datasets import make_classification\n",
    "# from sklearn.model_selection import cross_val_score\n",
    "# from sklearn.model_selection import RepeatedStratifiedKFold\n",
    "# from sklearn.pipeline import Pipeline\n",
    "# from sklearn.preprocessing import MinMaxScaler\n",
    "# from sklearn.neighbors import RadiusNeighborsClassifier\n",
    "\n",
    "# # define model\n",
    "# neigh = RadiusNeighborsClassifier()\n",
    "\n",
    "# # create pipeline\n",
    "# pipeline = Pipeline(steps=[('norm', MinMaxScaler()),('neigh',neigh)])\n",
    "\n",
    "# # define model evaluation method\n",
    "# cv = RepeatedStratifiedKFold(n_splits=10, n_repeats=3, random_state=1)\n",
    "\n",
    "# # define grid\n",
    "# grid = dict()\n",
    "# grid['neigh_radius'] = arange(0.8, 1.5, 0.01)\n",
    "\n",
    "# # define search\n",
    "# search = GridSearchCV(pipeline, grid, scoring='accuracy', cv=cv, n_jobs=-1)\n",
    "\n",
    "# # perform the search\n",
    "# results = search.fit(train_X, train_y)\n",
    "\n",
    "# # summarize\n",
    "# print('Mean Accuracy: %.3f' % results.best_score_)\n",
    "# print('Config: %s' % results.best_params_)"
   ]
  }
 ],
 "metadata": {
  "kernelspec": {
   "display_name": "Python 3 (ipykernel)",
   "language": "python",
   "name": "python3"
  },
  "language_info": {
   "codemirror_mode": {
    "name": "ipython",
    "version": 3
   },
   "file_extension": ".py",
   "mimetype": "text/x-python",
   "name": "python",
   "nbconvert_exporter": "python",
   "pygments_lexer": "ipython3",
   "version": "3.9.12"
  }
 },
 "nbformat": 4,
 "nbformat_minor": 5
}
