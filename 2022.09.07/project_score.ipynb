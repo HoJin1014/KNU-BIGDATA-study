{
 "cells": [
  {
   "cell_type": "code",
   "execution_count": 1,
   "id": "fd7edb42",
   "metadata": {},
   "outputs": [],
   "source": [
    "# 모듈\n",
    "import pandas as pd\n",
    "import numpy as np\n",
    "import matplotlib.pyplot as plt\n",
    "from sklearn.model_selection import train_test_split\n",
    "from sklearn.utils import all_estimators\n",
    "from sklearn.preprocessing import LabelEncoder"
   ]
  },
  {
   "cell_type": "code",
   "execution_count": 2,
   "id": "e84fd6ec",
   "metadata": {},
   "outputs": [],
   "source": [
    "# 파일\n",
    "DIR='../DAY-0907/StudentsPerformance.csv'\n",
    "FILE=pd.read_csv(DIR)\n",
    "stuDF=(FILE)"
   ]
  },
  {
   "cell_type": "code",
   "execution_count": 3,
   "id": "1d9a680b",
   "metadata": {},
   "outputs": [
    {
     "data": {
      "text/html": [
       "<div>\n",
       "<style scoped>\n",
       "    .dataframe tbody tr th:only-of-type {\n",
       "        vertical-align: middle;\n",
       "    }\n",
       "\n",
       "    .dataframe tbody tr th {\n",
       "        vertical-align: top;\n",
       "    }\n",
       "\n",
       "    .dataframe thead th {\n",
       "        text-align: right;\n",
       "    }\n",
       "</style>\n",
       "<table border=\"1\" class=\"dataframe\">\n",
       "  <thead>\n",
       "    <tr style=\"text-align: right;\">\n",
       "      <th></th>\n",
       "      <th>gender</th>\n",
       "      <th>race/ethnicity</th>\n",
       "      <th>parental level of education</th>\n",
       "      <th>lunch</th>\n",
       "      <th>test preparation course</th>\n",
       "      <th>math score</th>\n",
       "      <th>reading score</th>\n",
       "      <th>writing score</th>\n",
       "    </tr>\n",
       "  </thead>\n",
       "  <tbody>\n",
       "    <tr>\n",
       "      <th>0</th>\n",
       "      <td>female</td>\n",
       "      <td>group B</td>\n",
       "      <td>bachelor's degree</td>\n",
       "      <td>standard</td>\n",
       "      <td>none</td>\n",
       "      <td>72</td>\n",
       "      <td>72</td>\n",
       "      <td>74</td>\n",
       "    </tr>\n",
       "    <tr>\n",
       "      <th>1</th>\n",
       "      <td>female</td>\n",
       "      <td>group C</td>\n",
       "      <td>some college</td>\n",
       "      <td>standard</td>\n",
       "      <td>completed</td>\n",
       "      <td>69</td>\n",
       "      <td>90</td>\n",
       "      <td>88</td>\n",
       "    </tr>\n",
       "    <tr>\n",
       "      <th>2</th>\n",
       "      <td>female</td>\n",
       "      <td>group B</td>\n",
       "      <td>master's degree</td>\n",
       "      <td>standard</td>\n",
       "      <td>none</td>\n",
       "      <td>90</td>\n",
       "      <td>95</td>\n",
       "      <td>93</td>\n",
       "    </tr>\n",
       "    <tr>\n",
       "      <th>3</th>\n",
       "      <td>male</td>\n",
       "      <td>group A</td>\n",
       "      <td>associate's degree</td>\n",
       "      <td>free/reduced</td>\n",
       "      <td>none</td>\n",
       "      <td>47</td>\n",
       "      <td>57</td>\n",
       "      <td>44</td>\n",
       "    </tr>\n",
       "    <tr>\n",
       "      <th>4</th>\n",
       "      <td>male</td>\n",
       "      <td>group C</td>\n",
       "      <td>some college</td>\n",
       "      <td>standard</td>\n",
       "      <td>none</td>\n",
       "      <td>76</td>\n",
       "      <td>78</td>\n",
       "      <td>75</td>\n",
       "    </tr>\n",
       "  </tbody>\n",
       "</table>\n",
       "</div>"
      ],
      "text/plain": [
       "   gender race/ethnicity parental level of education         lunch  \\\n",
       "0  female        group B           bachelor's degree      standard   \n",
       "1  female        group C                some college      standard   \n",
       "2  female        group B             master's degree      standard   \n",
       "3    male        group A          associate's degree  free/reduced   \n",
       "4    male        group C                some college      standard   \n",
       "\n",
       "  test preparation course  math score  reading score  writing score  \n",
       "0                    none          72             72             74  \n",
       "1               completed          69             90             88  \n",
       "2                    none          90             95             93  \n",
       "3                    none          47             57             44  \n",
       "4                    none          76             78             75  "
      ]
     },
     "execution_count": 3,
     "metadata": {},
     "output_type": "execute_result"
    }
   ],
   "source": [
    "# 확인\n",
    "stuDF.head()"
   ]
  },
  {
   "cell_type": "code",
   "execution_count": 4,
   "id": "6141f882",
   "metadata": {},
   "outputs": [
    {
     "data": {
      "text/plain": [
       "gender                         0\n",
       "race/ethnicity                 0\n",
       "parental level of education    0\n",
       "lunch                          0\n",
       "test preparation course        0\n",
       "math score                     0\n",
       "reading score                  0\n",
       "writing score                  0\n",
       "dtype: int64"
      ]
     },
     "execution_count": 4,
     "metadata": {},
     "output_type": "execute_result"
    }
   ],
   "source": [
    "# 결측치 확인\n",
    "stuDF.isnull().sum()"
   ]
  },
  {
   "cell_type": "code",
   "execution_count": 5,
   "id": "416f2fb8",
   "metadata": {},
   "outputs": [
    {
     "data": {
      "text/plain": [
       "Index(['gender', 'race/ethnicity', 'parental level of education', 'lunch',\n",
       "       'test preparation course', 'math score', 'reading score',\n",
       "       'writing score'],\n",
       "      dtype='object')"
      ]
     },
     "execution_count": 5,
     "metadata": {},
     "output_type": "execute_result"
    }
   ],
   "source": [
    "# 열 확인\n",
    "stuDF.columns\n",
    "\n",
    "# gender: 성별\n",
    "# race/ethnicity: 인종/민족\n",
    "# parental level of education: 부모의 교육 수준\n",
    "# lunch: 점심\n",
    "# test preparation course: 시험 준비 과정\n",
    "# math score: 수학 점수\n",
    "# reading score: 읽기 점수\n",
    "# writing score: 쓰기 점수"
   ]
  },
  {
   "cell_type": "code",
   "execution_count": 6,
   "id": "85c2aac9",
   "metadata": {},
   "outputs": [],
   "source": [
    "# applpus score(과목 3개의 합산 점수) 와 allscore level(등급의 평균) 추가\n",
    "stuDF['allplus score']=stuDF['math score']+stuDF['reading score']+stuDF['writing score']\n",
    "stuDF['allscore level']=stuDF['allplus score']/3"
   ]
  },
  {
   "cell_type": "code",
   "execution_count": 7,
   "id": "5b00657e",
   "metadata": {},
   "outputs": [
    {
     "name": "stdout",
     "output_type": "stream",
     "text": [
      "['A', 'A', 'A', 'B', 'A', 'A', 'A', 'B', 'B', 'B', 'B', 'B', 'A', 'A', 'B', 'A', 'A', 'C', 'B', 'B', 'B', 'A', 'B', 'A', 'A', 'A', 'B', 'A', 'B', 'B', 'A', 'B', 'B', 'B', 'A', 'A', 'A', 'B', 'A', 'B', 'B', 'B', 'B', 'B', 'B', 'B', 'B', 'A', 'B', 'A', 'B', 'A', 'B', 'A', 'A', 'C', 'A', 'B', 'B', 'C', 'A', 'C', 'B', 'A', 'B', 'B', 'C', 'B', 'B', 'B', 'B', 'B', 'B', 'B', 'B', 'B', 'C', 'A', 'B', 'B', 'B', 'B', 'B', 'B', 'C', 'A', 'A', 'A', 'B', 'A', 'A', 'C', 'A', 'B', 'A', 'A', 'B', 'B', 'B', 'B', 'A', 'A', 'A', 'B', 'A', 'B', 'A', 'B', 'B', 'B', 'A', 'B', 'B', 'B', 'A', 'A', 'A', 'A', 'B', 'B', 'A', 'A', 'A', 'B', 'A', 'A', 'B', 'A', 'A', 'B', 'A', 'B', 'A', 'A', 'A', 'B', 'B', 'B', 'B', 'B', 'A', 'B', 'B', 'B', 'A', 'C', 'A', 'B', 'A', 'A', 'B', 'A', 'B', 'B', 'B', 'A', 'A', 'B', 'A', 'B', 'A', 'A', 'B', 'B', 'A', 'A', 'B', 'A', 'A', 'A', 'A', 'A', 'A', 'B', 'B', 'A', 'B', 'A', 'B', 'A', 'B', 'B', 'B', 'B', 'B', 'B', 'A', 'B', 'B', 'A', 'B', 'A', 'B', 'B', 'A', 'B', 'B', 'B', 'B', 'A', 'A', 'A', 'A', 'B', 'B', 'A', 'B', 'A', 'A', 'B', 'A', 'C', 'B', 'B', 'A', 'A', 'A', 'C', 'A', 'B', 'B', 'A', 'B', 'A', 'B', 'B', 'A', 'B', 'B', 'A', 'B', 'B', 'A', 'A', 'A', 'A', 'B', 'B', 'B', 'A', 'B', 'A', 'B', 'B', 'A', 'A', 'A', 'B', 'B', 'B', 'B', 'A', 'B', 'A', 'B', 'B', 'B', 'A', 'A', 'A', 'A', 'A', 'B', 'A', 'A', 'B', 'A', 'A', 'A', 'A', 'B', 'B', 'B', 'B', 'A', 'A', 'A', 'B', 'A', 'B', 'B', 'B', 'A', 'A', 'B', 'A', 'A', 'A', 'A', 'A', 'A', 'A', 'B', 'A', 'A', 'B', 'B', 'A', 'B', 'A', 'A', 'B', 'A', 'A', 'A', 'B', 'A', 'B', 'B', 'B', 'A', 'B', 'B', 'B', 'B', 'B', 'A', 'A', 'B', 'B', 'A', 'A', 'A', 'B', 'B', 'A', 'B', 'C', 'A', 'B', 'B', 'C', 'B', 'A', 'A', 'B', 'A', 'B', 'C', 'B', 'B', 'B', 'A', 'B', 'A', 'A', 'B', 'A', 'A', 'A', 'B', 'B', 'A', 'B', 'B', 'B', 'B', 'B', 'B', 'A', 'B', 'A', 'B', 'C', 'B', 'B', 'B', 'B', 'B', 'A', 'A', 'B', 'A', 'A', 'B', 'B', 'A', 'A', 'A', 'B', 'A', 'A', 'A', 'B', 'B', 'A', 'B', 'B', 'B', 'A', 'B', 'A', 'A', 'B', 'A', 'B', 'B', 'A', 'B', 'B', 'B', 'B', 'B', 'A', 'B', 'B', 'B', 'A', 'B', 'A', 'A', 'A', 'B', 'B', 'B', 'A', 'A', 'A', 'B', 'B', 'A', 'B', 'B', 'A', 'C', 'B', 'A', 'B', 'B', 'B', 'B', 'B', 'B', 'B', 'B', 'B', 'B', 'A', 'B', 'A', 'A', 'A', 'B', 'A', 'A', 'A', 'B', 'A', 'B', 'A', 'A', 'A', 'A', 'B', 'B', 'B', 'A', 'B', 'A', 'B', 'B', 'B', 'A', 'A', 'B', 'A', 'C', 'B', 'A', 'A', 'A', 'B', 'A', 'B', 'A', 'A', 'B', 'A', 'B', 'A', 'A', 'B', 'B', 'B', 'B', 'A', 'B', 'B', 'B', 'A', 'A', 'B', 'A', 'A', 'B', 'B', 'B', 'A', 'B', 'A', 'A', 'A', 'B', 'A', 'B', 'A', 'B', 'B', 'A', 'A', 'A', 'B', 'B', 'B', 'A', 'A', 'A', 'A', 'A', 'A', 'B', 'A', 'B', 'B', 'B', 'B', 'B', 'B', 'C', 'B', 'B', 'B', 'B', 'A', 'A', 'A', 'B', 'B', 'A', 'A', 'A', 'A', 'A', 'A', 'B', 'A', 'A', 'B', 'B', 'A', 'A', 'A', 'B', 'B', 'B', 'C', 'B', 'B', 'B', 'B', 'A', 'A', 'A', 'A', 'B', 'B', 'A', 'A', 'B', 'B', 'A', 'A', 'B', 'B', 'A', 'B', 'B', 'A', 'B', 'B', 'A', 'A', 'A', 'A', 'A', 'A', 'B', 'B', 'B', 'B', 'B', 'B', 'B', 'A', 'A', 'B', 'C', 'B', 'A', 'A', 'B', 'C', 'A', 'B', 'A', 'B', 'A', 'B', 'B', 'B', 'B', 'B', 'A', 'A', 'A', 'B', 'B', 'A', 'A', 'B', 'B', 'B', 'B', 'A', 'B', 'A', 'B', 'B', 'B', 'B', 'B', 'B', 'A', 'A', 'A', 'B', 'A', 'A', 'A', 'A', 'B', 'A', 'A', 'A', 'B', 'A', 'B', 'B', 'B', 'A', 'B', 'A', 'A', 'B', 'A', 'B', 'B', 'B', 'B', 'A', 'A', 'B', 'B', 'B', 'B', 'B', 'B', 'A', 'B', 'A', 'A', 'B', 'A', 'A', 'A', 'B', 'A', 'A', 'A', 'B', 'A', 'B', 'B', 'C', 'B', 'A', 'A', 'A', 'B', 'A', 'B', 'A', 'A', 'A', 'B', 'A', 'A', 'B', 'A', 'B', 'A', 'B', 'A', 'B', 'B', 'B', 'C', 'B', 'A', 'B', 'A', 'A', 'A', 'A', 'B', 'A', 'A', 'A', 'A', 'A', 'B', 'B', 'A', 'B', 'B', 'A', 'A', 'B', 'A', 'B', 'A', 'B', 'A', 'B', 'B', 'B', 'A', 'B', 'A', 'B', 'A', 'B', 'A', 'B', 'B', 'A', 'A', 'B', 'B', 'A', 'B', 'B', 'A', 'A', 'B', 'A', 'B', 'A', 'B', 'A', 'B', 'B', 'A', 'B', 'B', 'A', 'A', 'B', 'A', 'B', 'B', 'A', 'B', 'A', 'B', 'B', 'B', 'B', 'A', 'A', 'B', 'A', 'A', 'B', 'A', 'B', 'A', 'C', 'B', 'B', 'B', 'B', 'B', 'A', 'B', 'B', 'A', 'A', 'B', 'B', 'B', 'A', 'A', 'A', 'A', 'A', 'A', 'B', 'A', 'B', 'C', 'B', 'B', 'A', 'A', 'A', 'B', 'B', 'B', 'A', 'A', 'A', 'B', 'A', 'B', 'B', 'B', 'A', 'A', 'B', 'B', 'A', 'B', 'A', 'B', 'B', 'B', 'A', 'B', 'A', 'B', 'B', 'C', 'A', 'B', 'A', 'A', 'B', 'B', 'A', 'B', 'B', 'A', 'A', 'B', 'A', 'B', 'A', 'B', 'A', 'B', 'A', 'C', 'A', 'A', 'A', 'B', 'B', 'A', 'B', 'B', 'A', 'A', 'A', 'B', 'A', 'A', 'B', 'A', 'A', 'B', 'A', 'B', 'B', 'B', 'A', 'A', 'B', 'B', 'B', 'A', 'A', 'B', 'A', 'B', 'C', 'C', 'A', 'B', 'A', 'A', 'A', 'B', 'A', 'A', 'A', 'B', 'A', 'A', 'B', 'B', 'A', 'B', 'B', 'B', 'B', 'A', 'B', 'A', 'A', 'B', 'B', 'B', 'B', 'A', 'B', 'B', 'B', 'B', 'B', 'A', 'B', 'B', 'A', 'A', 'B', 'B', 'B', 'A', 'A', 'A', 'A', 'A', 'B', 'B', 'B', 'A', 'B', 'B', 'B', 'A', 'A', 'A', 'B', 'B', 'B', 'A', 'A', 'B', 'A', 'B', 'B', 'A', 'A', 'B', 'B', 'B', 'B', 'A', 'A', 'A', 'A', 'B', 'B', 'B', 'A', 'B', 'B', 'B', 'A', 'C', 'A', 'A', 'A', 'A', 'B', 'B', 'A', 'B', 'A', 'A', 'A', 'B', 'B', 'B', 'A', 'B', 'B', 'A', 'A']\n"
     ]
    }
   ],
   "source": [
    "level = []\n",
    "for i in stuDF['allscore level']:\n",
    "    if (i <=100 )&( i >=70):\n",
    "        level.append('A')\n",
    "    elif (i <70) & (i >=40):\n",
    "        level.append('B')\n",
    "    else:\n",
    "        level.append('C')\n",
    "print(level)        "
   ]
  },
  {
   "cell_type": "code",
   "execution_count": 8,
   "id": "3a93d52b",
   "metadata": {},
   "outputs": [],
   "source": [
    "stuDF['Rank']=level"
   ]
  },
  {
   "cell_type": "code",
   "execution_count": 9,
   "id": "10849aff",
   "metadata": {
    "scrolled": true
   },
   "outputs": [
    {
     "name": "stdout",
     "output_type": "stream",
     "text": [
      "gender\n",
      "['female' 'male']\n",
      "------------------------------\n",
      "race/ethnicity\n",
      "['group A' 'group B' 'group C' 'group D' 'group E']\n",
      "------------------------------\n",
      "parental level of education\n",
      "[\"associate's degree\" \"bachelor's degree\" 'high school' \"master's degree\"\n",
      " 'some college' 'some high school']\n",
      "------------------------------\n",
      "lunch\n",
      "['free/reduced' 'standard']\n",
      "------------------------------\n",
      "test preparation course\n",
      "['completed' 'none']\n",
      "------------------------------\n"
     ]
    }
   ],
   "source": [
    "label=stuDF[['gender', 'race/ethnicity', 'parental level of education', 'lunch',\n",
    "       'test preparation course']]\n",
    "for i in label:\n",
    "    encoder = LabelEncoder()\n",
    "    encoder.fit(stuDF[i])\n",
    "    stuDF[i] = encoder.transform(stuDF[i])\n",
    "    print(i)\n",
    "    print(encoder.classes_)\n",
    "    print('------------------------------')"
   ]
  },
  {
   "cell_type": "markdown",
   "id": "fc50533a",
   "metadata": {},
   "source": [
    "# 전처리 끝\n",
    "---"
   ]
  },
  {
   "cell_type": "code",
   "execution_count": 10,
   "id": "5509b3da",
   "metadata": {},
   "outputs": [
    {
     "name": "stdout",
     "output_type": "stream",
     "text": [
      "<class 'pandas.core.frame.DataFrame'>\n",
      "RangeIndex: 1000 entries, 0 to 999\n",
      "Data columns (total 11 columns):\n",
      " #   Column                       Non-Null Count  Dtype  \n",
      "---  ------                       --------------  -----  \n",
      " 0   gender                       1000 non-null   int32  \n",
      " 1   race/ethnicity               1000 non-null   int32  \n",
      " 2   parental level of education  1000 non-null   int32  \n",
      " 3   lunch                        1000 non-null   int32  \n",
      " 4   test preparation course      1000 non-null   int32  \n",
      " 5   math score                   1000 non-null   int64  \n",
      " 6   reading score                1000 non-null   int64  \n",
      " 7   writing score                1000 non-null   int64  \n",
      " 8   allplus score                1000 non-null   int64  \n",
      " 9   allscore level               1000 non-null   float64\n",
      " 10  Rank                         1000 non-null   object \n",
      "dtypes: float64(1), int32(5), int64(4), object(1)\n",
      "memory usage: 66.5+ KB\n"
     ]
    }
   ],
   "source": [
    "stuDF.info()"
   ]
  },
  {
   "cell_type": "code",
   "execution_count": 11,
   "id": "f0012b4a",
   "metadata": {},
   "outputs": [],
   "source": [
    "# data=stuDF['allplus score']\n",
    "data=stuDF[['gender','race/ethnicity','parental level of education','lunch','test preparation course']]\n",
    "target=stuDF['Rank']"
   ]
  },
  {
   "cell_type": "code",
   "execution_count": 12,
   "id": "4d5d3a99",
   "metadata": {},
   "outputs": [
    {
     "name": "stdout",
     "output_type": "stream",
     "text": [
      "(1000, 5)\n",
      "(1000,)\n"
     ]
    }
   ],
   "source": [
    "print(data.shape)\n",
    "print(target.shape)"
   ]
  },
  {
   "cell_type": "code",
   "execution_count": 13,
   "id": "70fc1618",
   "metadata": {},
   "outputs": [],
   "source": [
    "# 훈련 테스트 분리\n",
    "train_X, test_X, train_y, test_y = train_test_split(data, target,\n",
    "                                                    test_size=0.2,\n",
    "                                                   shuffle=True,\n",
    "                                                    stratify=target,\n",
    "                                                   random_state=42)"
   ]
  },
  {
   "cell_type": "code",
   "execution_count": 14,
   "id": "5cfd161b",
   "metadata": {},
   "outputs": [],
   "source": [
    "# train_X , '---------------------------------------', train_y"
   ]
  },
  {
   "cell_type": "code",
   "execution_count": 15,
   "id": "76ef7975",
   "metadata": {},
   "outputs": [],
   "source": [
    "# test_X, '---------------------------------------', test_y"
   ]
  },
  {
   "cell_type": "code",
   "execution_count": 16,
   "id": "28d5bb7a",
   "metadata": {},
   "outputs": [
    {
     "name": "stderr",
     "output_type": "stream",
     "text": [
      "C:\\ProgramData\\Anaconda3\\lib\\site-packages\\sklearn\\svm\\_base.py:1225: ConvergenceWarning: Liblinear failed to converge, increase the number of iterations.\n",
      "  warnings.warn(\n",
      "C:\\ProgramData\\Anaconda3\\lib\\site-packages\\sklearn\\svm\\_base.py:1225: ConvergenceWarning: Liblinear failed to converge, increase the number of iterations.\n",
      "  warnings.warn(\n",
      "C:\\ProgramData\\Anaconda3\\lib\\site-packages\\sklearn\\svm\\_base.py:1225: ConvergenceWarning: Liblinear failed to converge, increase the number of iterations.\n",
      "  warnings.warn(\n",
      "C:\\ProgramData\\Anaconda3\\lib\\site-packages\\sklearn\\svm\\_base.py:1225: ConvergenceWarning: Liblinear failed to converge, increase the number of iterations.\n",
      "  warnings.warn(\n",
      "C:\\ProgramData\\Anaconda3\\lib\\site-packages\\sklearn\\svm\\_base.py:1225: ConvergenceWarning: Liblinear failed to converge, increase the number of iterations.\n",
      "  warnings.warn(\n",
      "C:\\ProgramData\\Anaconda3\\lib\\site-packages\\sklearn\\svm\\_base.py:1225: ConvergenceWarning: Liblinear failed to converge, increase the number of iterations.\n",
      "  warnings.warn(\n",
      "C:\\ProgramData\\Anaconda3\\lib\\site-packages\\sklearn\\neural_network\\_multilayer_perceptron.py:702: ConvergenceWarning: Stochastic Optimizer: Maximum iterations (200) reached and the optimization hasn't converged yet.\n",
      "  warnings.warn(\n"
     ]
    },
    {
     "data": {
      "text/plain": [
       "[('AdaBoostClassifier', 0.575),\n",
       " ('BaggingClassifier', 0.515),\n",
       " ('BernoulliNB', 0.59),\n",
       " ('CalibratedClassifierCV', 0.61),\n",
       " ('CategoricalNB', 0.61),\n",
       " ('ComplementNB', 0.605),\n",
       " ('DecisionTreeClassifier', 0.505),\n",
       " ('DummyClassifier', 0.51),\n",
       " ('ExtraTreeClassifier', 0.505),\n",
       " ('ExtraTreesClassifier', 0.515),\n",
       " ('GaussianNB', 0.61),\n",
       " ('GaussianProcessClassifier', 0.6),\n",
       " ('GradientBoostingClassifier', 0.59),\n",
       " ('HistGradientBoostingClassifier', 0.555),\n",
       " ('KNeighborsClassifier', 0.545),\n",
       " ('LabelPropagation', 0.55),\n",
       " ('LabelSpreading', 0.54),\n",
       " ('LinearDiscriminantAnalysis', 0.61),\n",
       " ('LinearSVC', 0.61),\n",
       " ('LogisticRegression', 0.61),\n",
       " ('LogisticRegressionCV', 0.61),\n",
       " ('MLPClassifier', 0.58),\n",
       " ('MultinomialNB', 0.615),\n",
       " ('NearestCentroid', 0.35),\n",
       " ('PassiveAggressiveClassifier', 0.445),\n",
       " ('Perceptron', 0.52),\n",
       " ('QuadraticDiscriminantAnalysis', 0.6),\n",
       " ('RadiusNeighborsClassifier', 0.615),\n",
       " ('RandomForestClassifier', 0.54),\n",
       " ('RidgeClassifier', 0.61),\n",
       " ('RidgeClassifierCV', 0.61),\n",
       " ('SGDClassifier', 0.56),\n",
       " ('SVC', 0.605)]"
      ]
     },
     "execution_count": 16,
     "metadata": {},
     "output_type": "execute_result"
    }
   ],
   "source": [
    "scores = []\n",
    "models = all_estimators(type_filter='classifier')\n",
    "for name, model in models:\n",
    "    try:\n",
    "        # 모델 객체 생성\n",
    "        md=model()\n",
    "        # 학습\n",
    "        md.fit(train_X, train_y)\n",
    "        # 평가\n",
    "        result=md.score(test_X, test_y)\n",
    "        scores.append((name, result))\n",
    "    except:\n",
    "        pass\n",
    "scores"
   ]
  },
  {
   "cell_type": "code",
   "execution_count": 17,
   "id": "647ad2ed",
   "metadata": {},
   "outputs": [
    {
     "name": "stdout",
     "output_type": "stream",
     "text": [
      "훈련 세트 정확도: , 0.6325\n",
      "테스트 세트 정확도: , 0.61\n"
     ]
    }
   ],
   "source": [
    "from sklearn.linear_model import LogisticRegression\n",
    "\n",
    "# 모델 생성\n",
    "model=LogisticRegression(max_iter=500)\n",
    "\n",
    "# 학습\n",
    "model.fit(train_X, train_y)\n",
    "\n",
    "# 평가\n",
    "print(f\"훈련 세트 정확도: , {model.score(train_X, train_y)}\")\n",
    "print(f\"테스트 세트 정확도: , {model.score(test_X, test_y)}\")"
   ]
  },
  {
   "cell_type": "code",
   "execution_count": 18,
   "id": "f194c8ea",
   "metadata": {
    "scrolled": false
   },
   "outputs": [
    {
     "name": "stdout",
     "output_type": "stream",
     "text": [
      "분류 종류 :  ['A' 'B' 'C']\n",
      "가중치 값 :  [[-0.30481636  0.21455563 -0.12271819  1.09060047 -1.03116481]\n",
      " [ 0.34935398 -0.1135984  -0.0710581   0.11933871  0.00355792]\n",
      " [-0.04453762 -0.10095723  0.19377629 -1.20993917  1.02760689]]\n",
      "절 편 값 :  [ 0.99877028  1.36461172 -2.363382  ]\n",
      "특성 갯수 :  5\n",
      "trainset 점수:  0.6325\n",
      "testset 점수 :  0.61\n"
     ]
    }
   ],
   "source": [
    "print('분류 종류 : ', model.classes_)\n",
    "print('가중치 값 : ', model.coef_)\n",
    "print('절 편 값 : ', model.intercept_)\n",
    "print('특성 갯수 : ', model.n_features_in_)\n",
    "\n",
    "print('trainset 점수: ', model.score(train_X, train_y))\n",
    "print('testset 점수 : ', model.score(test_X,test_y))"
   ]
  },
  {
   "cell_type": "code",
   "execution_count": 35,
   "id": "4261ad09",
   "metadata": {
    "scrolled": true
   },
   "outputs": [
    {
     "name": "stdout",
     "output_type": "stream",
     "text": [
      "성적을 알고 싶은 학생의 번호를 입력하세요. : 1\n",
      "로지스틱 예측:  ['A']\n",
      "예측 값 확인:  A\n",
      "------------------------------------------------------\n",
      "학생의 다른 정보:  \n",
      " gender                         0\n",
      "race/ethnicity                 2\n",
      "parental level of education    4\n",
      "lunch                          1\n",
      "test preparation course        0\n",
      "Name: 1, dtype: int32\n"
     ]
    },
    {
     "name": "stderr",
     "output_type": "stream",
     "text": [
      "C:\\ProgramData\\Anaconda3\\lib\\site-packages\\sklearn\\base.py:450: UserWarning: X does not have valid feature names, but LogisticRegression was fitted with feature names\n",
      "  warnings.warn(\n"
     ]
    }
   ],
   "source": [
    "number = int(input(\"성적을 알고 싶은 학생의 번호를 입력하세요. : \"))\n",
    "print('로지스틱 예측: ', model.predict([data.loc[number]]))\n",
    "print('예측 값 확인: ',target.iloc[number])\n",
    "print('------------------------------------------------------')\n",
    "print('학생의 다른 정보: ','\\n',data.iloc[number])"
   ]
  },
  {
   "cell_type": "code",
   "execution_count": 20,
   "id": "1ff29ed1",
   "metadata": {},
   "outputs": [],
   "source": [
    "from sklearn.model_selection import cross_val_score, cross_validate\n",
    "\n",
    "# max_iter : 처음~끝까지 샘플데이터 학습 => 에포크(epoch) 학습 횟수 (기본 100)\n",
    "lrModel=LogisticRegression(max_iter=500)\n",
    "\n",
    "## 교차 검증으로 모델 학습 진행\n",
    "## => 학습 데이터 기반 10개 Fold로 학습 & 검증 진행\n",
    "result = cross_val_score(lrModel, data, target, cv=10)"
   ]
  },
  {
   "cell_type": "code",
   "execution_count": 21,
   "id": "a5759337",
   "metadata": {},
   "outputs": [
    {
     "data": {
      "text/plain": [
       "array([0.61, 0.6 , 0.63, 0.64, 0.62, 0.65, 0.63, 0.65, 0.61, 0.6 ])"
      ]
     },
     "execution_count": 21,
     "metadata": {},
     "output_type": "execute_result"
    }
   ],
   "source": [
    "# 10개 모델에 대한 정확도(accuracy)\n",
    "result"
   ]
  },
  {
   "cell_type": "code",
   "execution_count": 22,
   "id": "bf4348c7",
   "metadata": {},
   "outputs": [],
   "source": [
    "allResult=cross_validate(lrModel, data, target, \n",
    "                         return_train_score=True, \n",
    "                         cv=10)"
   ]
  },
  {
   "cell_type": "code",
   "execution_count": 23,
   "id": "54c09b60",
   "metadata": {},
   "outputs": [
    {
     "data": {
      "text/html": [
       "<div>\n",
       "<style scoped>\n",
       "    .dataframe tbody tr th:only-of-type {\n",
       "        vertical-align: middle;\n",
       "    }\n",
       "\n",
       "    .dataframe tbody tr th {\n",
       "        vertical-align: top;\n",
       "    }\n",
       "\n",
       "    .dataframe thead th {\n",
       "        text-align: right;\n",
       "    }\n",
       "</style>\n",
       "<table border=\"1\" class=\"dataframe\">\n",
       "  <thead>\n",
       "    <tr style=\"text-align: right;\">\n",
       "      <th></th>\n",
       "      <th>fit_time</th>\n",
       "      <th>score_time</th>\n",
       "      <th>test_score</th>\n",
       "      <th>train_score</th>\n",
       "    </tr>\n",
       "  </thead>\n",
       "  <tbody>\n",
       "    <tr>\n",
       "      <th>0</th>\n",
       "      <td>0.013963</td>\n",
       "      <td>0.000998</td>\n",
       "      <td>0.61</td>\n",
       "      <td>0.632222</td>\n",
       "    </tr>\n",
       "    <tr>\n",
       "      <th>1</th>\n",
       "      <td>0.012970</td>\n",
       "      <td>0.000996</td>\n",
       "      <td>0.60</td>\n",
       "      <td>0.632222</td>\n",
       "    </tr>\n",
       "    <tr>\n",
       "      <th>2</th>\n",
       "      <td>0.012964</td>\n",
       "      <td>0.001000</td>\n",
       "      <td>0.63</td>\n",
       "      <td>0.631111</td>\n",
       "    </tr>\n",
       "    <tr>\n",
       "      <th>3</th>\n",
       "      <td>0.013959</td>\n",
       "      <td>0.001000</td>\n",
       "      <td>0.64</td>\n",
       "      <td>0.627778</td>\n",
       "    </tr>\n",
       "    <tr>\n",
       "      <th>4</th>\n",
       "      <td>0.012964</td>\n",
       "      <td>0.000994</td>\n",
       "      <td>0.62</td>\n",
       "      <td>0.633333</td>\n",
       "    </tr>\n",
       "    <tr>\n",
       "      <th>5</th>\n",
       "      <td>0.013489</td>\n",
       "      <td>0.000992</td>\n",
       "      <td>0.65</td>\n",
       "      <td>0.627778</td>\n",
       "    </tr>\n",
       "    <tr>\n",
       "      <th>6</th>\n",
       "      <td>0.013973</td>\n",
       "      <td>0.000987</td>\n",
       "      <td>0.63</td>\n",
       "      <td>0.631111</td>\n",
       "    </tr>\n",
       "    <tr>\n",
       "      <th>7</th>\n",
       "      <td>0.014960</td>\n",
       "      <td>0.000997</td>\n",
       "      <td>0.65</td>\n",
       "      <td>0.631111</td>\n",
       "    </tr>\n",
       "    <tr>\n",
       "      <th>8</th>\n",
       "      <td>0.013973</td>\n",
       "      <td>0.000991</td>\n",
       "      <td>0.61</td>\n",
       "      <td>0.631111</td>\n",
       "    </tr>\n",
       "    <tr>\n",
       "      <th>9</th>\n",
       "      <td>0.011968</td>\n",
       "      <td>0.000995</td>\n",
       "      <td>0.60</td>\n",
       "      <td>0.631111</td>\n",
       "    </tr>\n",
       "  </tbody>\n",
       "</table>\n",
       "</div>"
      ],
      "text/plain": [
       "   fit_time  score_time  test_score  train_score\n",
       "0  0.013963    0.000998        0.61     0.632222\n",
       "1  0.012970    0.000996        0.60     0.632222\n",
       "2  0.012964    0.001000        0.63     0.631111\n",
       "3  0.013959    0.001000        0.64     0.627778\n",
       "4  0.012964    0.000994        0.62     0.633333\n",
       "5  0.013489    0.000992        0.65     0.627778\n",
       "6  0.013973    0.000987        0.63     0.631111\n",
       "7  0.014960    0.000997        0.65     0.631111\n",
       "8  0.013973    0.000991        0.61     0.631111\n",
       "9  0.011968    0.000995        0.60     0.631111"
      ]
     },
     "execution_count": 23,
     "metadata": {},
     "output_type": "execute_result"
    }
   ],
   "source": [
    "resultDF=pd.DataFrame(allResult)\n",
    "resultDF"
   ]
  },
  {
   "cell_type": "code",
   "execution_count": 24,
   "id": "bb831fc8",
   "metadata": {},
   "outputs": [
    {
     "data": {
      "text/plain": [
       "761    B\n",
       "139    B\n",
       "757    A\n",
       "701    B\n",
       "909    B\n",
       "      ..\n",
       "113    B\n",
       "775    B\n",
       "905    A\n",
       "177    A\n",
       "389    A\n",
       "Name: Rank, Length: 800, dtype: object"
      ]
     },
     "execution_count": 24,
     "metadata": {},
     "output_type": "execute_result"
    }
   ],
   "source": [
    "train_y"
   ]
  },
  {
   "cell_type": "code",
   "execution_count": 25,
   "id": "0adbc8e1",
   "metadata": {},
   "outputs": [
    {
     "data": {
      "text/html": [
       "<style>#sk-container-id-1 {color: black;background-color: white;}#sk-container-id-1 pre{padding: 0;}#sk-container-id-1 div.sk-toggleable {background-color: white;}#sk-container-id-1 label.sk-toggleable__label {cursor: pointer;display: block;width: 100%;margin-bottom: 0;padding: 0.3em;box-sizing: border-box;text-align: center;}#sk-container-id-1 label.sk-toggleable__label-arrow:before {content: \"▸\";float: left;margin-right: 0.25em;color: #696969;}#sk-container-id-1 label.sk-toggleable__label-arrow:hover:before {color: black;}#sk-container-id-1 div.sk-estimator:hover label.sk-toggleable__label-arrow:before {color: black;}#sk-container-id-1 div.sk-toggleable__content {max-height: 0;max-width: 0;overflow: hidden;text-align: left;background-color: #f0f8ff;}#sk-container-id-1 div.sk-toggleable__content pre {margin: 0.2em;color: black;border-radius: 0.25em;background-color: #f0f8ff;}#sk-container-id-1 input.sk-toggleable__control:checked~div.sk-toggleable__content {max-height: 200px;max-width: 100%;overflow: auto;}#sk-container-id-1 input.sk-toggleable__control:checked~label.sk-toggleable__label-arrow:before {content: \"▾\";}#sk-container-id-1 div.sk-estimator input.sk-toggleable__control:checked~label.sk-toggleable__label {background-color: #d4ebff;}#sk-container-id-1 div.sk-label input.sk-toggleable__control:checked~label.sk-toggleable__label {background-color: #d4ebff;}#sk-container-id-1 input.sk-hidden--visually {border: 0;clip: rect(1px 1px 1px 1px);clip: rect(1px, 1px, 1px, 1px);height: 1px;margin: -1px;overflow: hidden;padding: 0;position: absolute;width: 1px;}#sk-container-id-1 div.sk-estimator {font-family: monospace;background-color: #f0f8ff;border: 1px dotted black;border-radius: 0.25em;box-sizing: border-box;margin-bottom: 0.5em;}#sk-container-id-1 div.sk-estimator:hover {background-color: #d4ebff;}#sk-container-id-1 div.sk-parallel-item::after {content: \"\";width: 100%;border-bottom: 1px solid gray;flex-grow: 1;}#sk-container-id-1 div.sk-label:hover label.sk-toggleable__label {background-color: #d4ebff;}#sk-container-id-1 div.sk-serial::before {content: \"\";position: absolute;border-left: 1px solid gray;box-sizing: border-box;top: 0;bottom: 0;left: 50%;z-index: 0;}#sk-container-id-1 div.sk-serial {display: flex;flex-direction: column;align-items: center;background-color: white;padding-right: 0.2em;padding-left: 0.2em;position: relative;}#sk-container-id-1 div.sk-item {position: relative;z-index: 1;}#sk-container-id-1 div.sk-parallel {display: flex;align-items: stretch;justify-content: center;background-color: white;position: relative;}#sk-container-id-1 div.sk-item::before, #sk-container-id-1 div.sk-parallel-item::before {content: \"\";position: absolute;border-left: 1px solid gray;box-sizing: border-box;top: 0;bottom: 0;left: 50%;z-index: -1;}#sk-container-id-1 div.sk-parallel-item {display: flex;flex-direction: column;z-index: 1;position: relative;background-color: white;}#sk-container-id-1 div.sk-parallel-item:first-child::after {align-self: flex-end;width: 50%;}#sk-container-id-1 div.sk-parallel-item:last-child::after {align-self: flex-start;width: 50%;}#sk-container-id-1 div.sk-parallel-item:only-child::after {width: 0;}#sk-container-id-1 div.sk-dashed-wrapped {border: 1px dashed gray;margin: 0 0.4em 0.5em 0.4em;box-sizing: border-box;padding-bottom: 0.4em;background-color: white;}#sk-container-id-1 div.sk-label label {font-family: monospace;font-weight: bold;display: inline-block;line-height: 1.2em;}#sk-container-id-1 div.sk-label-container {text-align: center;}#sk-container-id-1 div.sk-container {/* jupyter's `normalize.less` sets `[hidden] { display: none; }` but bootstrap.min.css set `[hidden] { display: none !important; }` so we also need the `!important` here to be able to override the default hidden behavior on the sphinx rendered scikit-learn.org. See: https://github.com/scikit-learn/scikit-learn/issues/21755 */display: inline-block !important;position: relative;}#sk-container-id-1 div.sk-text-repr-fallback {display: none;}</style><div id=\"sk-container-id-1\" class=\"sk-top-container\"><div class=\"sk-text-repr-fallback\"><pre>GridSearchCV(cv=5, estimator=LogisticRegression(solver=&#x27;liblinear&#x27;), n_jobs=-1,\n",
       "             param_grid={&#x27;C&#x27;: [0.001, 0.01, 0.1, 1, 10],\n",
       "                         &#x27;penalty&#x27;: [&#x27;l1&#x27;, &#x27;l2&#x27;]},\n",
       "             scoring=&#x27;accuracy&#x27;)</pre><b>In a Jupyter environment, please rerun this cell to show the HTML representation or trust the notebook. <br />On GitHub, the HTML representation is unable to render, please try loading this page with nbviewer.org.</b></div><div class=\"sk-container\" hidden><div class=\"sk-item sk-dashed-wrapped\"><div class=\"sk-label-container\"><div class=\"sk-label sk-toggleable\"><input class=\"sk-toggleable__control sk-hidden--visually\" id=\"sk-estimator-id-1\" type=\"checkbox\" ><label for=\"sk-estimator-id-1\" class=\"sk-toggleable__label sk-toggleable__label-arrow\">GridSearchCV</label><div class=\"sk-toggleable__content\"><pre>GridSearchCV(cv=5, estimator=LogisticRegression(solver=&#x27;liblinear&#x27;), n_jobs=-1,\n",
       "             param_grid={&#x27;C&#x27;: [0.001, 0.01, 0.1, 1, 10],\n",
       "                         &#x27;penalty&#x27;: [&#x27;l1&#x27;, &#x27;l2&#x27;]},\n",
       "             scoring=&#x27;accuracy&#x27;)</pre></div></div></div><div class=\"sk-parallel\"><div class=\"sk-parallel-item\"><div class=\"sk-item\"><div class=\"sk-label-container\"><div class=\"sk-label sk-toggleable\"><input class=\"sk-toggleable__control sk-hidden--visually\" id=\"sk-estimator-id-2\" type=\"checkbox\" ><label for=\"sk-estimator-id-2\" class=\"sk-toggleable__label sk-toggleable__label-arrow\">estimator: LogisticRegression</label><div class=\"sk-toggleable__content\"><pre>LogisticRegression(solver=&#x27;liblinear&#x27;)</pre></div></div></div><div class=\"sk-serial\"><div class=\"sk-item\"><div class=\"sk-estimator sk-toggleable\"><input class=\"sk-toggleable__control sk-hidden--visually\" id=\"sk-estimator-id-3\" type=\"checkbox\" ><label for=\"sk-estimator-id-3\" class=\"sk-toggleable__label sk-toggleable__label-arrow\">LogisticRegression</label><div class=\"sk-toggleable__content\"><pre>LogisticRegression(solver=&#x27;liblinear&#x27;)</pre></div></div></div></div></div></div></div></div></div></div>"
      ],
      "text/plain": [
       "GridSearchCV(cv=5, estimator=LogisticRegression(solver='liblinear'), n_jobs=-1,\n",
       "             param_grid={'C': [0.001, 0.01, 0.1, 1, 10],\n",
       "                         'penalty': ['l1', 'l2']},\n",
       "             scoring='accuracy')"
      ]
     },
     "execution_count": 25,
     "metadata": {},
     "output_type": "execute_result"
    }
   ],
   "source": [
    "from sklearn.model_selection import GridSearchCV\n",
    "\n",
    "model=LogisticRegression(solver='liblinear')\n",
    "model.fit(train_X, train_y)\n",
    "\n",
    "params = {\"C\": [0.001, 0.01, 0.1, 1, 10], \"penalty\": ['l1','l2']}\n",
    "grid_search = GridSearchCV(model, params, n_jobs=-1, cv=5, scoring='accuracy')\n",
    "grid_search.fit(train_X, train_y)"
   ]
  },
  {
   "cell_type": "code",
   "execution_count": 26,
   "id": "9a1f6286",
   "metadata": {},
   "outputs": [
    {
     "name": "stdout",
     "output_type": "stream",
     "text": [
      "{'C': 1, 'penalty': 'l1'}\n",
      "0.63375\n"
     ]
    }
   ],
   "source": [
    "print(grid_search.best_params_)\n",
    "print(grid_search.best_score_)"
   ]
  },
  {
   "cell_type": "code",
   "execution_count": null,
   "id": "308e9b7b",
   "metadata": {},
   "outputs": [],
   "source": []
  },
  {
   "cell_type": "code",
   "execution_count": 28,
   "id": "055339fc",
   "metadata": {},
   "outputs": [],
   "source": [
    "# from sklearn.metrics import counfusion_matrix\n",
    "\n",
    "# counfusion_matrix()"
   ]
  },
  {
   "cell_type": "code",
   "execution_count": null,
   "id": "f031e2de",
   "metadata": {},
   "outputs": [],
   "source": []
  },
  {
   "cell_type": "code",
   "execution_count": null,
   "id": "35268321",
   "metadata": {},
   "outputs": [],
   "source": [
    "# from sklearn.linear_model import LogisticRegression\n",
    "# from sklearn.ensemble import R\n",
    "# from sklearn.linear_model import LogisticRegression\n",
    "\n",
    "# # 모델 생성\n",
    "# model=LogisticRegression(max_iter=500)\n",
    "\n",
    "# # 학습\n",
    "# model.fit(train_X, train_y)\n",
    "\n",
    "# # 평가\n",
    "# print(f\"훈련 세트 정확도: , {model.score(train_X, train_y)}\")\n",
    "# print(f\"테스트 세트 정확도: , {model.score(test_X, test_y)}\")"
   ]
  },
  {
   "cell_type": "code",
   "execution_count": null,
   "id": "d9ea4c76",
   "metadata": {},
   "outputs": [],
   "source": []
  },
  {
   "cell_type": "code",
   "execution_count": null,
   "id": "96b0571c",
   "metadata": {},
   "outputs": [],
   "source": []
  },
  {
   "cell_type": "markdown",
   "id": "393f8641",
   "metadata": {},
   "source": [
    "### 다른 모델"
   ]
  },
  {
   "cell_type": "code",
   "execution_count": 36,
   "id": "a1fa2681",
   "metadata": {},
   "outputs": [],
   "source": [
    "data=stuDF[['gender','race/ethnicity','parental level of education','lunch','test preparation course']]\n",
    "target=stuDF['Rank']"
   ]
  },
  {
   "cell_type": "code",
   "execution_count": 37,
   "id": "8b760d54",
   "metadata": {},
   "outputs": [
    {
     "name": "stdout",
     "output_type": "stream",
     "text": [
      "(1000, 5)\n",
      "(1000,)\n"
     ]
    }
   ],
   "source": [
    "print(data.shape)\n",
    "print(target.shape)"
   ]
  },
  {
   "cell_type": "code",
   "execution_count": 38,
   "id": "0129c545",
   "metadata": {},
   "outputs": [],
   "source": [
    "# 훈련 테스트 분리\n",
    "train_X, test_X, train_y, test_y = train_test_split(data, target,\n",
    "                                                    test_size=0.2,\n",
    "                                                   shuffle=True,\n",
    "                                                    stratify=target,\n",
    "                                                   random_state=42)"
   ]
  },
  {
   "cell_type": "code",
   "execution_count": 39,
   "id": "9e95ab1c",
   "metadata": {},
   "outputs": [],
   "source": [
    "from sklearn.preprocessing import StandardScaler\n",
    "# 변형 객체 생성\n",
    "std_scaler = StandardScaler()\n",
    "\n",
    "# 훈련데이터의 모수 분포 저장\n",
    "std_scaler.fit(train_X)\n",
    "\n",
    "# 훈련 데이터 스케일링\n",
    "train_X_scaled = std_scaler.transform(train_X)\n",
    "\n",
    "# 테스트 데이터의 스케일링\n",
    "test_X_scaled = std_scaler.transform(test_X)"
   ]
  },
  {
   "cell_type": "code",
   "execution_count": null,
   "id": "3f64e7ba",
   "metadata": {},
   "outputs": [],
   "source": []
  },
  {
   "cell_type": "code",
   "execution_count": null,
   "id": "31a4c680",
   "metadata": {},
   "outputs": [],
   "source": []
  },
  {
   "cell_type": "code",
   "execution_count": null,
   "id": "d138271e",
   "metadata": {},
   "outputs": [],
   "source": []
  },
  {
   "cell_type": "code",
   "execution_count": null,
   "id": "8c97d96c",
   "metadata": {
    "scrolled": true
   },
   "outputs": [],
   "source": [
    "from sklearn.linear_model import Ridge\n",
    "\n",
    "ridge=Ridge(alpha=0.1).fit(train_X,train_y)\n",
    "print('훈련 세트 점수: {:.2f}'.format(ridge.score(train_X, train_y)))\n",
    "print('테스트 세트 점수: {:.2f}'.format(ridge.score(test_X, test_y)))"
   ]
  },
  {
   "cell_type": "code",
   "execution_count": null,
   "id": "406d69a6",
   "metadata": {},
   "outputs": [],
   "source": [
    "print(train_y)\n",
    "print('-----')\n",
    "print(test_y)"
   ]
  },
  {
   "cell_type": "code",
   "execution_count": null,
   "id": "7a5a26ce",
   "metadata": {},
   "outputs": [],
   "source": [
    "# # 적절한 alpha값 찾기\n",
    "# from sklearn.linear_model import Ridge\n",
    "# import   matplotlib.pyplot as   plt\n",
    "\n",
    "# train_score =   []\n",
    "# test_score =   []\n",
    "\n",
    "# alpha_list =   [0.001,   0.01,   0.1,   1,   10,   100]\n",
    "# for   alpha   in   alpha_list:\n",
    "#     ridge   =   Ridge(alpha=alpha)\n",
    "#     ridge.fit(train_X_scaled, train_y)\n",
    "#     #훈련 세트와 테스트 세트 점수를 저장\n",
    "#     train_score.append(ridge.score(train_X_scaled, train_y))\n",
    "#     test_score.append(ridge.score(test_X_scaled, test_y))\n",
    "\n",
    "# plt.plot(np.log10(alpha_list),   train_score,\n",
    "#          label='train_set score',   marker='o',   markersize=3)\n",
    "# plt.plot(np.log10(alpha_list),   test_score,\n",
    "#           label='test_set score',   marker='s',   markersize=3)\n",
    "# plt.xlabel('alpha')\n",
    "# plt.ylabel('R^2')\n",
    "# plt.legend()\n",
    "# plt.show()\n",
    "\n",
    "# # 최적의 alpha  찾기\n",
    "# print('그래프에서 train, test 거리가 가장 가까운 alpha가 적합, 멀수록 과대적합')\n",
    "\n",
    "# # alpha=0.1적용시 점수 확인\n",
    "# ridge   =   Ridge(alpha = 0.1)\n",
    "# ridge.fit(train_X_scaled,   train_y)\n",
    "# print('최적 -> (alpha = 0.1)')\n",
    "# print('릿지 훈련세트 score:',ridge.score(train_X_scaled,   train_y))\n",
    "# print('릿지 테스트세트 score:',ridge.score(test_X_scaled,   test_y))"
   ]
  },
  {
   "cell_type": "code",
   "execution_count": null,
   "id": "dfbf19a9",
   "metadata": {},
   "outputs": [],
   "source": [
    "# from sklearn.linear_model import Lasso\n",
    "\n",
    "# lasso=Lasso().fit(train_X, train_y)\n",
    "# print(lasso.coef_)\n",
    "# print(lasso.score(train_X, train_y))\n",
    "# print(lasso.score(test_X, test_y))"
   ]
  },
  {
   "cell_type": "code",
   "execution_count": null,
   "id": "b46a3ebb",
   "metadata": {},
   "outputs": [],
   "source": [
    "from sklearn.linear_model import Lasso\n",
    "\n",
    "train_score = []\n",
    "test_score = []\n",
    "\n",
    "alpha_list = [0.001,0.01,0.1,1,10,100]\n",
    "for alpha in alpha_list:\n",
    "      lasso = Lasso(alpha = alpha, max_iter = 10000)\n",
    "      lasso.fit(train_X_scaled, train_y)\n",
    "      train_score.append(lasso.score(train_X_scaled, train_y))\n",
    "      test_score.append(lasso.score(test_X_scaled, test_y))\n",
    "\n",
    "plt.plot(np.log10(alpha_list), train_score,label='train_set score',   marker='o',   markersize=3)\n",
    "plt.plot(np.log10(alpha_list),   test_score, label='test_set score',   marker='s',   markersize=3)\n",
    "plt.xlabel('alpha')\n",
    "plt.ylabel('R^2')\n",
    "plt.legend()\n",
    "plt.show()\n"
   ]
  },
  {
   "cell_type": "code",
   "execution_count": null,
   "id": "0caa0397",
   "metadata": {},
   "outputs": [],
   "source": [
    "# 최적 alpha 찾가\n",
    "print('최적 alpha = 0.01')\n",
    "lasso   =   Lasso(alpha=0.01)\n",
    "lasso.fit(train_X_scaled, train_y)\n",
    "print('라쏘 훈련 세트 점수  : ',lasso.score(train_X_scaled, train_y))\n",
    "print('라쏘 테스트 세트 점수: ',lasso.score(test_X_scaled, test_y))\n",
    "\n",
    "\n",
    "\n",
    "\n",
    "# lasso=Lasso(alpha = 0.01, max_iter = 10000).fit(train_X, train_y)\n",
    "# print(lasso.coef_)\n",
    "# print(lasso.score(train_X, train_y))\n",
    "# print(lasso.score(test_X, test_y))"
   ]
  },
  {
   "cell_type": "code",
   "execution_count": null,
   "id": "cc0f67d5",
   "metadata": {},
   "outputs": [],
   "source": [
    "('RadiusNeighborsClassifier', 0.615),"
   ]
  },
  {
   "cell_type": "code",
   "execution_count": null,
   "id": "6774711b",
   "metadata": {},
   "outputs": [],
   "source": [
    "from sklearn.neighbors import RadiusNeighborsClassifier\n",
    "model1 = RadiusNeighborsClassifier(radius=1.0)\n"
   ]
  },
  {
   "cell_type": "code",
   "execution_count": null,
   "id": "e1e434d3",
   "metadata": {},
   "outputs": [],
   "source": []
  },
  {
   "cell_type": "code",
   "execution_count": null,
   "id": "919d2436",
   "metadata": {},
   "outputs": [],
   "source": []
  },
  {
   "cell_type": "code",
   "execution_count": null,
   "id": "5f558efc",
   "metadata": {},
   "outputs": [],
   "source": []
  },
  {
   "cell_type": "code",
   "execution_count": null,
   "id": "a12b3c58",
   "metadata": {},
   "outputs": [],
   "source": []
  }
 ],
 "metadata": {
  "kernelspec": {
   "display_name": "Python 3 (ipykernel)",
   "language": "python",
   "name": "python3"
  },
  "language_info": {
   "codemirror_mode": {
    "name": "ipython",
    "version": 3
   },
   "file_extension": ".py",
   "mimetype": "text/x-python",
   "name": "python",
   "nbconvert_exporter": "python",
   "pygments_lexer": "ipython3",
   "version": "3.9.12"
  }
 },
 "nbformat": 4,
 "nbformat_minor": 5
}
