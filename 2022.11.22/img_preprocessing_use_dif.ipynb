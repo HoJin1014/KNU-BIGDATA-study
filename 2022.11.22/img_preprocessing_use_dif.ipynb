{
 "cells": [
  {
   "cell_type": "markdown",
   "id": "d5eead72",
   "metadata": {},
   "source": [
    "### 조건1"
   ]
  },
  {
   "cell_type": "code",
   "execution_count": 8,
   "id": "7a92bef7",
   "metadata": {},
   "outputs": [],
   "source": [
    "# # 모듈 로딩\n",
    "# import os\n",
    "# import random\n",
    "# import time\n",
    "\n",
    "# import cv2\n",
    "# import img_preprocess\n",
    "# import matplotlib.pyplot as plt\n",
    "# import model3_hs\n",
    "# import numpy as np\n",
    "\n",
    "\n",
    "# # 이미지 전처리\n",
    "# def preprocess_img(img):\n",
    "\n",
    "#     # img = cv2.imread(ip[0])\n",
    "#     img = img_preprocess.find_contours(img, show=False)\n",
    "#     if np.any(img) == None:\n",
    "#         return [], []\n",
    "#     else:\n",
    "#         img\n",
    "#     # 그레이스케일화\n",
    "#     img_gray = cv2.cvtColor(img, cv2.COLOR_BGR2GRAY)\n",
    "\n",
    "#     # 이미지 스무딩\n",
    "#     img_gray = cv2.GaussianBlur(img_gray, (3, 3), 0)\n",
    "\n",
    "#     return img, img_gray\n",
    "\n",
    "\n",
    "# def preprocess_tem():\n",
    "\n",
    "#     template_h = \"./tem_images/new3_tem_h_5.jpg\"\n",
    "#     template_v = \"./tem_images/new3_tem_v_5.jpg\"\n",
    "#     # template_h = \"./tem_images/ng_tem_h_5.jpg\"\n",
    "#     # template_v = \"./tem_images/ng_tem_v_5.jpg\"\n",
    "#     # template_v2 = \"./lginnotek_images/tem_images/new_tem_v_3.jpg\"\n",
    "#     # template_v3 = \"./lginnotek_images/tem_images/new2_tem_v_3.jpg\"\n",
    "\n",
    "#     # img = cv2.imread(ip[0])\n",
    "#     template_h = cv2.imread(template_h)  # 가로면 템플릿\n",
    "#     template_v = cv2.imread(template_v)  # 세로면 템플릿\n",
    "#     # template_v2 = cv2.imread(template_v2)  # 세로면 템플릿\n",
    "#     # template_v3 = cv2.imread(template_v3)  # 세로면 템플릿\n",
    "\n",
    "#     # 그레이스케일화\n",
    "#     template_h = cv2.cvtColor(template_h, cv2.COLOR_BGR2GRAY)\n",
    "#     template_v = cv2.cvtColor(template_v, cv2.COLOR_BGR2GRAY)\n",
    "#     # template_v2 = cv2.cvtColor(template_v2, cv2.COLOR_BGR2GRAY)\n",
    "#     # template_v3 = cv2.cvtColor(template_v3, cv2.COLOR_BGR2GRAY)\n",
    "\n",
    "#     return template_h, template_v\n",
    "\n",
    "\n",
    "# # 노출된 bump 검출 코드\n",
    "# def match_template(img, img_gray, template_h, template_v):\n",
    "#     # 템플릿 사이즈를 변수에 저장\n",
    "#     w, h = template_h.shape[::-1]\n",
    "#     w2, h2 = template_v.shape[::-1]\n",
    "#     # w3, h3 = template_v2.shape[::-1]\n",
    "#     # w4, h4 = template_v3.shape[::-1]\n",
    "\n",
    "#     # 템플릿 매칭\n",
    "#     # TM_CCOEFF_NORMED : 최소값이 아닌 최대값을 가져와야하기 때문에 사용함, 즉 하나가 아닌 여러개 찾기 위함\n",
    "#     res_h = cv2.matchTemplate(img_gray, template_h, cv2.TM_CCOEFF_NORMED)  # 가로 체크\n",
    "#     res_v = cv2.matchTemplate(img_gray, template_v, cv2.TM_CCOEFF_NORMED)  # 세로 체크\n",
    "#     # res_v2 = cv2.matchTemplate(img_gray, template_v2, cv2.TM_CCOEFF_NORMED)  # 세로 체크\n",
    "#     # res_v3 = cv2.matchTemplate(img_gray, template_v3, cv2.TM_CCOEFF_NORMED)  # 세로 체크\n",
    "#     threshold = 0.92  # 0 ~ 1의 값, 높을수록 정확한 결과\n",
    "\n",
    "#     # 가로, 세로면 각각 불량 탐색\n",
    "#     # 가로면에서 불량 탐색\n",
    "#     # cnt = 0\n",
    "#     cnt_h = 0\n",
    "#     cnt_v = 0\n",
    "#     # cnt_v2 = 0\n",
    "#     # cnt_v3 = 0\n",
    "#     if np.where(res_h >= threshold):\n",
    "#         loc = np.where(res_h >= threshold)  # res_h 중 threshold보다 큰 값 위치 저장\n",
    "#         for pt in zip(*loc[::-1]):\n",
    "#             # 결과값에 사각형 그리기\n",
    "#             cv2.rectangle(img, pt, (pt[0] + w, pt[1] + h + 10), (0, 0, 255), 1)\n",
    "#             cnt_h += 1\n",
    "#     # 세로면에서 불량 탐색\n",
    "#     if np.where(res_v >= threshold):\n",
    "#         loc = np.where(res_v >= threshold)  # res_v 중 threshold보다 큰 값 위치 저장\n",
    "#         for pt in zip(*loc[::-1]):\n",
    "#             # 결과값에 사각형 그리기\n",
    "#             cv2.rectangle(img, pt, (pt[0] + w2 + 5, pt[1] + h2 + 10), (0, 0, 255), 1)\n",
    "#             cnt_v += 1\n",
    "\n",
    "#     # if np.where(res_v2 >= threshold):\n",
    "#     #     loc = np.where(res_v2 >= threshold)  # res_v 중 threshold보다 큰 값 위치 저장\n",
    "#     #     for pt in zip(*loc[::-1]):\n",
    "#     #         # 결과값에 사각형 그리기\n",
    "#     #         cv2.rectangle(img, pt, (pt[0] + w3 + 5, pt[1] + h3 + 10), (0, 0, 255), 1)\n",
    "#     #         cnt_v2 += 1\n",
    "\n",
    "#     # if np.where(res_v3 >= threshold):\n",
    "#     #     loc = np.where(res_v3 >= threshold)  # res_v 중 threshold보다 큰 값 위치 저장\n",
    "#     #     for pt in zip(*loc[::-1]):\n",
    "#     #         # 결과값에 사각형 그리기\n",
    "#     #         cv2.rectangle(img, pt, (pt[0] + w4 + 5, pt[1] + h4 + 10), (0, 0, 255), 1)\n",
    "#     #         cnt_v3 += 1\n",
    "\n",
    "#     cnt = cnt_h + cnt_v\n",
    "\n",
    "#     return cnt, img\n",
    "\n",
    "\n",
    "# # 이미지 불러오기\n",
    "\n",
    "\n",
    "# def check_img(kind=\"overkill\"):\n",
    "#     # random.seed(time.time_ns() % 10000)\n",
    "#     num_OK = 0\n",
    "#     num_NG = 0\n",
    "#     template_h, template_v = preprocess_tem()\n",
    "#     if kind == \"all\":\n",
    "#         paths = os.listdir(\"./product_images/\")\n",
    "#         img_paths = []\n",
    "#         for p in paths:\n",
    "#             file_path = \"./product_images/\" + p + \"/\"\n",
    "#             img_paths = list(map(lambda x: [file_path + x, p], os.listdir(file_path)))\n",
    "#             ok_path = os.mkdir(file_path + \"result/ok\")\n",
    "#             ng_path = os.mkdir(file_path + \"result/ng\")\n",
    "#         print(f\"img_paths : {img_paths}\")\n",
    "#         count = 0\n",
    "#         while count > len(ip):\n",
    "#             ip = random.choice(img_paths)\n",
    "#             img = cv2.imread(ip[0])\n",
    "#             img, img_gray = preprocess_img(img)\n",
    "#             cnt, img = match_template(img, img_gray, template_h, template_v)\n",
    "#             if cnt >= 1:\n",
    "#                 cv2.imwrite(ng_path + ip[0], img)\n",
    "#                 num_NG += 1\n",
    "#             else:\n",
    "#                 cv2.imwrite(ok_path + ip[0], img)\n",
    "#                 num_OK += 1\n",
    "#             count += 1\n",
    "\n",
    "#     else:\n",
    "#         file_path = \"./product_images/\" + kind + \"/\"\n",
    "#         img_paths = os.listdir(file_path)\n",
    "#         ok_path = os.mkdir(file_path + \"result/ok\")\n",
    "#         ng_path = os.mkdir(file_path + \"result/ng\")\n",
    "\n",
    "#         for i in range(len(img_paths)):\n",
    "#             image = cv2.imread(file_path + img_paths[i])\n",
    "#             img, img_gray = preprocess_img(image)\n",
    "\n",
    "#             if img == []:\n",
    "#                 cv2.imwrite(file_path + \"result/ng/\" + img_paths[i], image)\n",
    "#                 num_NG += 1\n",
    "#             else:\n",
    "#                 cnt, img = match_template(img, img_gray, template_h, template_v)\n",
    "\n",
    "#                 if cnt >= 1:\n",
    "#                     cv2.imwrite(file_path + \"result/ng/\" + img_paths[i], image)\n",
    "#                     num_NG += 1\n",
    "#                 else:\n",
    "#                     cv2.imwrite(file_path + \"result/ok/\" + img_paths[i], image)\n",
    "#                     num_OK += 1\n",
    "\n",
    "#     return print(f\"양품 수량 : {num_OK} \\n불량품 수량 : {num_NG}\")"
   ]
  },
  {
   "cell_type": "code",
   "execution_count": 9,
   "id": "edfd88f7",
   "metadata": {},
   "outputs": [],
   "source": [
    "# check_img(\"true_ng\")"
   ]
  },
  {
   "cell_type": "code",
   "execution_count": null,
   "id": "ed435ea1",
   "metadata": {},
   "outputs": [],
   "source": []
  },
  {
   "cell_type": "markdown",
   "id": "060d04cf",
   "metadata": {},
   "source": [
    "### 조건2"
   ]
  },
  {
   "cell_type": "code",
   "execution_count": 191,
   "id": "f5da9f78",
   "metadata": {},
   "outputs": [],
   "source": [
    "import os\n",
    "import cv2\n",
    "import numpy as np\n",
    "import model3_hs\n",
    "import img_preprocess\n",
    "import matplotlib.pyplot as plt\n",
    "from skimage.metrics import structural_similarity as compare_ssim"
   ]
  },
  {
   "cell_type": "code",
   "execution_count": null,
   "id": "02791a61",
   "metadata": {},
   "outputs": [],
   "source": []
  },
  {
   "cell_type": "code",
   "execution_count": 192,
   "id": "3a1581a6",
   "metadata": {},
   "outputs": [],
   "source": [
    "# PATH = \"./product_images/true_ng/result/ok/\"\n",
    "# for i in os.listdir(PATH):\n",
    "#     print(PATH + i)\n",
    "#     preprocessing(PATH+i)"
   ]
  },
  {
   "cell_type": "code",
   "execution_count": 265,
   "id": "ca2c2d46",
   "metadata": {},
   "outputs": [],
   "source": [
    "def preprocessing(imgg):\n",
    "    imageA = cv2.imread('./product_images/true_ok/GSY827AN7A1356_AAO11960K_PKT10_CM1EQSUA0012_20220711210457_DirectLight_OK.jpg')\n",
    "    imageB = cv2.imread(imgg)\n",
    "    \n",
    "    img, img1 = img_preprocess.find_contours(imageA, sensor=True)\n",
    "    dif, dif1 = img_preprocess.find_contours(imageB, sensor=True)\n",
    "    #dif= cv2.resize(dif, dsize=(1836, 1432))\n",
    "    dif1= cv2.resize(dif1, dsize=(1676, 1258))\n",
    "    \n",
    "    tempDiff = cv2.subtract(img1, dif1)\n",
    "    \n",
    "    grayA = cv2.cvtColor(img1, cv2.COLOR_BGR2GRAY)\n",
    "    grayB = cv2.cvtColor(dif1, cv2.COLOR_BGR2GRAY)\n",
    "\n",
    "    (score, diff) = compare_ssim(grayA, grayB, full=True)\n",
    "    diff = (diff*255).astype(\"uint8\")\n",
    "\n",
    "    print(f\"Similarity: {score:.5f}\")\n",
    "\n",
    "    thresh = cv2.threshold(diff, 0, 255,\n",
    "                          cv2.THRESH_BINARY_INV | cv2.THRESH_OTSU)[1]\n",
    "\n",
    "    # 차이점 빨간색으로 칠하기\n",
    "    tempDiff[thresh == 255] = [0, 0, 255]\n",
    "\n",
    "    cv2.imshow(\"img1\", cv2.resize(img1, (960, 540)))\n",
    "    cv2.imshow(\"dif1\", cv2.resize(dif1, (960, 540)))\n",
    "    cv2.imshow(\"Gray2\", cv2.resize(tempDiff, (960, 540)))\n",
    "    cv2.waitKey(0)\n",
    "    cv2.destroyAllWindows()\n",
    "    return tempDiff"
   ]
  },
  {
   "cell_type": "code",
   "execution_count": 266,
   "id": "9511f6ae",
   "metadata": {},
   "outputs": [],
   "source": [
    "# GSY827AN7C3501_AAO11690K_PKT12_CM1EQSUA0011_20220713001152_DirectLight_NG.jpg   (까다로운 먼지)\n",
    "# GSY827BN8F0534_AAO32062K_PKT07_CM1EQSUA0012_20220815162431_DirectLight_NG.jpg   (까다로운 먼지)\n",
    "# GSY848CN832941_AAO25314K_PKT15_CM1EQSUA0022_20220806165752_DirectLight_NG.jpg   (질문할 사진)\n",
    "# GSY848AN7U0241_AAO14488K_PKT14_CM1EQSUA0012_20220728060237_DirectLight_NG.jpg   (까다로운 먼지)\n",
    "# GSY848CN832410_AAO32159K_PKT06_CM1EQSUA0022_20220805210213_DirectLight_NG.jpg   (3번 조건)\n",
    "# GSY827AN7A1641_AAO19043K_PKT06_CM1EQSUA0012_20220711220651_DirectLight_NG.jpg   (화면 깨짐)"
   ]
  },
  {
   "cell_type": "code",
   "execution_count": 267,
   "id": "928d66dc",
   "metadata": {
    "scrolled": true
   },
   "outputs": [
    {
     "name": "stdout",
     "output_type": "stream",
     "text": [
      "Similarity: 0.99817\n"
     ]
    },
    {
     "data": {
      "text/plain": [
       "array([[[  8,   8,   8],\n",
       "        [  0,   0, 255],\n",
       "        [  0,   0, 255],\n",
       "        ...,\n",
       "        [  0,   0,   0],\n",
       "        [  0,   0,   0],\n",
       "        [  0,   0,   0]],\n",
       "\n",
       "       [[  0,   0, 255],\n",
       "        [  0,   0, 255],\n",
       "        [  0,   0,   0],\n",
       "        ...,\n",
       "        [  0,   0,   0],\n",
       "        [  0,   0,   0],\n",
       "        [  0,   0,   0]],\n",
       "\n",
       "       [[  0,   0, 255],\n",
       "        [  0,   0,   0],\n",
       "        [  0,   0,   0],\n",
       "        ...,\n",
       "        [  0,   0,   0],\n",
       "        [  7,   7,   7],\n",
       "        [  0,   0,   0]],\n",
       "\n",
       "       ...,\n",
       "\n",
       "       [[  0,   0,   0],\n",
       "        [  0,   0,   0],\n",
       "        [  0,   0,   0],\n",
       "        ...,\n",
       "        [  0,   0,   0],\n",
       "        [  6,   6,   6],\n",
       "        [ 47,  47,  47]],\n",
       "\n",
       "       [[  0,   0,   0],\n",
       "        [  0,   0,   0],\n",
       "        [  1,   1,   1],\n",
       "        ...,\n",
       "        [ 16,  16,  16],\n",
       "        [ 25,  25,  25],\n",
       "        [ 41,  41,  41]],\n",
       "\n",
       "       [[  0,   0,   0],\n",
       "        [  2,   2,   2],\n",
       "        [  3,   3,   3],\n",
       "        ...,\n",
       "        [116, 116, 116],\n",
       "        [ 69,  69,  69],\n",
       "        [ 31,  31,  31]]], dtype=uint8)"
      ]
     },
     "execution_count": 267,
     "metadata": {},
     "output_type": "execute_result"
    }
   ],
   "source": [
    "preprocessing(\"./product_images/true_ok/GSY827AN7A1442_AAO05968K_PKT15_CM1EQSUA0012_20220711202445_DirectLight_OK.jpg\")"
   ]
  },
  {
   "cell_type": "code",
   "execution_count": 268,
   "id": "7edba219",
   "metadata": {},
   "outputs": [],
   "source": [
    "def get_hists(img, mask=None, ranges=[0, 255]):\n",
    "    \"\"\"show image's distribution\n",
    "\n",
    "    Args:\n",
    "        img (3D/2D Array): image\n",
    "        mask (cv2.inrange, optional): image where you wanna get hist. Defaults to None.\n",
    "        ranges (list, optional): _description_. Defaults to [0, 255].\n",
    "\n",
    "    Returns:\n",
    "        hists (list): list of each component's hist\n",
    "    \"\"\"\n",
    "    colors = [\"b\", \"g\", \"r\"]\n",
    "    img_planes = cv2.split(img)\n",
    "    hists = []\n",
    "    for (p, c) in zip(img_planes, colors):\n",
    "        try:\n",
    "            hist = cv2.calcHist(\n",
    "                [p],\n",
    "                [0],\n",
    "                mask,\n",
    "                [256],\n",
    "                ranges,\n",
    "            )\n",
    "            hists.append([hist, c])\n",
    "\n",
    "        except:\n",
    "            pass\n",
    "\n",
    "    return hists"
   ]
  },
  {
   "cell_type": "code",
   "execution_count": 269,
   "id": "65c3c1b0",
   "metadata": {},
   "outputs": [
    {
     "name": "stdout",
     "output_type": "stream",
     "text": [
      "Similarity: 0.99817\n"
     ]
    },
    {
     "data": {
      "image/png": "[encoded data removed]",
      "text/plain": [
       "<Figure size 432x288 with 1 Axes>"
      ]
     },
     "metadata": {
      "needs_background": "light"
     },
     "output_type": "display_data"
    },
    {
     "data": {
      "image/png": "[encoded data removed]",
      "text/plain": [
       "<Figure size 432x288 with 1 Axes>"
      ]
     },
     "metadata": {
      "needs_background": "light"
     },
     "output_type": "display_data"
    },
    {
     "data": {
      "image/png": "[encoded data removed]",
      "text/plain": [
       "<Figure size 432x288 with 1 Axes>"
      ]
     },
     "metadata": {
      "needs_background": "light"
     },
     "output_type": "display_data"
    }
   ],
   "source": [
    "def make_mask(per, n):\n",
    "    \"\"\" 이미지에 마진margin을 n만큼 설정해서 출력\n",
    "\n",
    "    Args:\n",
    "        per (ndarray): 이미지\n",
    "        n (int): 마진margin \n",
    "\n",
    "    Returns:\n",
    "        ndarray: 마진을 설정한 이미지\n",
    "    \"\"\"\n",
    "    mask = np.zeros(per.shape[:2], np.uint8)\n",
    "    mask[n : per.shape[0] - n, n : per.shape[1] - n] = 255\n",
    "    return mask\n",
    "\n",
    "\n",
    "tempdiff=preprocessing(\"./product_images/true_ok/GSY827AN7A1442_AAO05968K_PKT15_CM1EQSUA0012_20220711202445_DirectLight_OK.jpg\")\n",
    "mask = make_mask(tempdiff, 10)\n",
    "hists = get_hists(tempdiff, mask=mask)\n",
    "for hist, c in hists:\n",
    "    plt.plot(hist[6:], color=c)\n",
    "    plt.title(\"gray\")\n",
    "    plt.show()"
   ]
  },
  {
   "cell_type": "code",
   "execution_count": 270,
   "id": "08d61de7",
   "metadata": {},
   "outputs": [
    {
     "data": {
      "text/plain": [
       "39.0"
      ]
     },
     "execution_count": 270,
     "metadata": {},
     "output_type": "execute_result"
    }
   ],
   "source": [
    "hist=np.sum(hists[2][0][6:])\n",
    "hist"
   ]
  },
  {
   "cell_type": "code",
   "execution_count": 246,
   "id": "618d0d52",
   "metadata": {},
   "outputs": [],
   "source": [
    "# 정상\n",
    "# 7 - 33/ 8 -  31/ 9 - 29/ 10 - 35/ 11 - 39/ 12 - / 13 - \n",
    "\n",
    "# 불량\n",
    "# 7 - 34 / 8 - 26 / 9 - 398/ 10 - 40/ 11 - 40/ 12 - 125/ 13 - 54"
   ]
  },
  {
   "cell_type": "code",
   "execution_count": 221,
   "id": "9a9ab63e",
   "metadata": {},
   "outputs": [
    {
     "name": "stdout",
     "output_type": "stream",
     "text": [
      "불량\n"
     ]
    }
   ],
   "source": [
    "def check_num(hist):\n",
    "    if hist > 25:\n",
    "        print(\"불량\")\n",
    "    else:\n",
    "        print(\"정상\")\n",
    "        \n",
    "check_num(hist)"
   ]
  },
  {
   "cell_type": "code",
   "execution_count": null,
   "id": "e91710da",
   "metadata": {},
   "outputs": [],
   "source": []
  },
  {
   "cell_type": "code",
   "execution_count": null,
   "id": "b97b6cbd",
   "metadata": {},
   "outputs": [],
   "source": [
    "# 양품, 불량 판정 기준\n",
    "def defect_range(hist, file_path, name, imageB, num_OK, num_NG):\n",
    "    \"\"\"\n",
    "    불량 검출 유무에 따라 양품, 불량 판정\n",
    "    Args:\n",
    "        cnt (int): _description_\n",
    "        file_path (str): _description_\n",
    "        name (str): _description_\n",
    "        image (_type_): _description_\n",
    "        num_OK (int): _description_\n",
    "        num_NG (int): _description_\n",
    "\n",
    "    Returns:\n",
    "        int: _description_\n",
    "    \"\"\"\n",
    "    if hist > 25:\n",
    "        cv2.imwrite(file_path + \"result/ng/\" + name, imageB)\n",
    "        num_NG += 1\n",
    "    else:\n",
    "        cv2.imwrite(file_path + \"result/ok/\" + name, imageB)\n",
    "        num_OK += 1\n",
    "    return num_OK, num_NG"
   ]
  },
  {
   "cell_type": "code",
   "execution_count": null,
   "id": "ad67b58b",
   "metadata": {},
   "outputs": [],
   "source": []
  },
  {
   "cell_type": "code",
   "execution_count": null,
   "id": "878a7e2f",
   "metadata": {},
   "outputs": [],
   "source": []
  },
  {
   "cell_type": "code",
   "execution_count": null,
   "id": "58c6cfaa",
   "metadata": {},
   "outputs": [],
   "source": []
  },
  {
   "cell_type": "code",
   "execution_count": null,
   "id": "0acd7bb7",
   "metadata": {},
   "outputs": [],
   "source": []
  },
  {
   "cell_type": "code",
   "execution_count": null,
   "id": "23f66ba9",
   "metadata": {},
   "outputs": [],
   "source": []
  },
  {
   "cell_type": "code",
   "execution_count": null,
   "id": "72a4d7a7",
   "metadata": {},
   "outputs": [],
   "source": []
  },
  {
   "cell_type": "code",
   "execution_count": null,
   "id": "71819cbc",
   "metadata": {},
   "outputs": [],
   "source": []
  },
  {
   "cell_type": "code",
   "execution_count": null,
   "id": "f7606664",
   "metadata": {},
   "outputs": [],
   "source": [
    "# def go_folder()\n",
    "\n",
    "# PATH = \"./product_images/true_ng/result/ok/\"\n",
    "# for i in os.listdir(PATH):\n",
    "#     print(PATH + i)\n",
    "#     preprocessing(PATH+i)"
   ]
  },
  {
   "cell_type": "code",
   "execution_count": 42,
   "id": "5c01bea2",
   "metadata": {},
   "outputs": [],
   "source": [
    "# img11 = preprocessing(\"./product_images/true_ng/GSY827AN7C2213_AAO20652K_PKT10_CM1EQSUA0011_20220713063204_DirectLight_NG.jpg\")\n",
    "# color = ('b','g','r')\n",
    "# for i,col in enumerate(color):\n",
    "#     histr = cv2.calcHist([img11],[i],None,[256],[0,256])\n",
    "#     plt.plot(histr,color = col)\n",
    "#     plt.xlim([0,256])\n",
    "#     plt.show()"
   ]
  }
 ],
 "metadata": {
  "kernelspec": {
   "display_name": "Python 3 (ipykernel)",
   "language": "python",
   "name": "python3"
  },
  "language_info": {
   "codemirror_mode": {
    "name": "ipython",
    "version": 3
   },
   "file_extension": ".py",
   "mimetype": "text/x-python",
   "name": "python",
   "nbconvert_exporter": "python",
   "pygments_lexer": "ipython3",
   "version": "3.9.12"
  }
 },
 "nbformat": 4,
 "nbformat_minor": 5
}
