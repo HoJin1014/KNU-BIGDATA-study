{
 "cells": [
  {
   "cell_type": "code",
   "execution_count": 1,
   "id": "6b8bccce",
   "metadata": {},
   "outputs": [],
   "source": [
    "import pandas as pd"
   ]
  },
  {
   "cell_type": "code",
   "execution_count": 2,
   "id": "14142530",
   "metadata": {},
   "outputs": [],
   "source": [
    "DIR='./대구광역시 일별 충전기별 사용현황_20220531.csv'"
   ]
  },
  {
   "cell_type": "code",
   "execution_count": 3,
   "id": "279b7bba",
   "metadata": {},
   "outputs": [
    {
     "name": "stderr",
     "output_type": "stream",
     "text": [
      "C:\\Users\\USER\\AppData\\Local\\Temp\\ipykernel_1224\\4282155652.py:1: DtypeWarning: Columns (1) have mixed types. Specify dtype option on import or set low_memory=False.\n",
      "  df=pd.read_csv(DIR, encoding='cp949')\n"
     ]
    }
   ],
   "source": [
    "df=pd.read_csv(DIR, encoding='cp949')"
   ]
  },
  {
   "cell_type": "code",
   "execution_count": 4,
   "id": "f4f3872d",
   "metadata": {},
   "outputs": [
    {
     "data": {
      "text/html": [
       "<div>\n",
       "<style scoped>\n",
       "    .dataframe tbody tr th:only-of-type {\n",
       "        vertical-align: middle;\n",
       "    }\n",
       "\n",
       "    .dataframe tbody tr th {\n",
       "        vertical-align: top;\n",
       "    }\n",
       "\n",
       "    .dataframe thead th {\n",
       "        text-align: right;\n",
       "    }\n",
       "</style>\n",
       "<table border=\"1\" class=\"dataframe\">\n",
       "  <thead>\n",
       "    <tr style=\"text-align: right;\">\n",
       "      <th></th>\n",
       "      <th>일자</th>\n",
       "      <th>충전소ID</th>\n",
       "      <th>충전소명칭</th>\n",
       "      <th>위도</th>\n",
       "      <th>경도</th>\n",
       "      <th>충전기ID</th>\n",
       "      <th>충전기타입</th>\n",
       "      <th>사용횟수</th>\n",
       "      <th>충전량</th>\n",
       "    </tr>\n",
       "  </thead>\n",
       "  <tbody>\n",
       "    <tr>\n",
       "      <th>0</th>\n",
       "      <td>2022-05-31</td>\n",
       "      <td>27110001</td>\n",
       "      <td>국채보상운동기념공원주차장</td>\n",
       "      <td>35.868863</td>\n",
       "      <td>128.600299</td>\n",
       "      <td>1</td>\n",
       "      <td>완속</td>\n",
       "      <td>3</td>\n",
       "      <td>110.590000</td>\n",
       "    </tr>\n",
       "    <tr>\n",
       "      <th>1</th>\n",
       "      <td>2022-05-31</td>\n",
       "      <td>27110001</td>\n",
       "      <td>국채보상운동기념공원주차장</td>\n",
       "      <td>35.868863</td>\n",
       "      <td>128.600299</td>\n",
       "      <td>2</td>\n",
       "      <td>완속</td>\n",
       "      <td>1</td>\n",
       "      <td>22.380000</td>\n",
       "    </tr>\n",
       "    <tr>\n",
       "      <th>2</th>\n",
       "      <td>2022-05-31</td>\n",
       "      <td>27110001</td>\n",
       "      <td>국채보상운동기념공원주차장</td>\n",
       "      <td>35.868863</td>\n",
       "      <td>128.600299</td>\n",
       "      <td>3</td>\n",
       "      <td>완속</td>\n",
       "      <td>3</td>\n",
       "      <td>20.130000</td>\n",
       "    </tr>\n",
       "    <tr>\n",
       "      <th>3</th>\n",
       "      <td>2022-05-31</td>\n",
       "      <td>27110002</td>\n",
       "      <td>대구시청</td>\n",
       "      <td>35.871039</td>\n",
       "      <td>128.601444</td>\n",
       "      <td>1</td>\n",
       "      <td>급속</td>\n",
       "      <td>6</td>\n",
       "      <td>119.400000</td>\n",
       "    </tr>\n",
       "    <tr>\n",
       "      <th>4</th>\n",
       "      <td>2022-05-31</td>\n",
       "      <td>27110002</td>\n",
       "      <td>대구시청</td>\n",
       "      <td>35.871039</td>\n",
       "      <td>128.601444</td>\n",
       "      <td>2</td>\n",
       "      <td>완속</td>\n",
       "      <td>5</td>\n",
       "      <td>32.350000</td>\n",
       "    </tr>\n",
       "    <tr>\n",
       "      <th>...</th>\n",
       "      <td>...</td>\n",
       "      <td>...</td>\n",
       "      <td>...</td>\n",
       "      <td>...</td>\n",
       "      <td>...</td>\n",
       "      <td>...</td>\n",
       "      <td>...</td>\n",
       "      <td>...</td>\n",
       "      <td>...</td>\n",
       "    </tr>\n",
       "    <tr>\n",
       "      <th>295259</th>\n",
       "      <td>2022-05-27</td>\n",
       "      <td>KSTX0001</td>\n",
       "      <td>대구시_KS택시주식회사</td>\n",
       "      <td>35.846120</td>\n",
       "      <td>128.623417</td>\n",
       "      <td>1</td>\n",
       "      <td>급속</td>\n",
       "      <td>4</td>\n",
       "      <td>84.990001</td>\n",
       "    </tr>\n",
       "    <tr>\n",
       "      <th>295260</th>\n",
       "      <td>2022-05-28</td>\n",
       "      <td>KSTX0001</td>\n",
       "      <td>대구시_KS택시주식회사</td>\n",
       "      <td>35.846120</td>\n",
       "      <td>128.623417</td>\n",
       "      <td>1</td>\n",
       "      <td>급속</td>\n",
       "      <td>4</td>\n",
       "      <td>93.470000</td>\n",
       "    </tr>\n",
       "    <tr>\n",
       "      <th>295261</th>\n",
       "      <td>2022-05-29</td>\n",
       "      <td>KSTX0001</td>\n",
       "      <td>대구시_KS택시주식회사</td>\n",
       "      <td>35.846120</td>\n",
       "      <td>128.623417</td>\n",
       "      <td>1</td>\n",
       "      <td>급속</td>\n",
       "      <td>3</td>\n",
       "      <td>57.949999</td>\n",
       "    </tr>\n",
       "    <tr>\n",
       "      <th>295262</th>\n",
       "      <td>2022-05-30</td>\n",
       "      <td>KSTX0001</td>\n",
       "      <td>대구시_KS택시주식회사</td>\n",
       "      <td>35.846120</td>\n",
       "      <td>128.623417</td>\n",
       "      <td>1</td>\n",
       "      <td>급속</td>\n",
       "      <td>2</td>\n",
       "      <td>55.130001</td>\n",
       "    </tr>\n",
       "    <tr>\n",
       "      <th>295263</th>\n",
       "      <td>2022-05-31</td>\n",
       "      <td>KSTX0001</td>\n",
       "      <td>대구시_KS택시주식회사</td>\n",
       "      <td>35.846120</td>\n",
       "      <td>128.623417</td>\n",
       "      <td>1</td>\n",
       "      <td>급속</td>\n",
       "      <td>5</td>\n",
       "      <td>62.780002</td>\n",
       "    </tr>\n",
       "  </tbody>\n",
       "</table>\n",
       "<p>295264 rows × 9 columns</p>\n",
       "</div>"
      ],
      "text/plain": [
       "                일자     충전소ID          충전소명칭         위도          경도  충전기ID  \\\n",
       "0       2022-05-31  27110001  국채보상운동기념공원주차장  35.868863  128.600299      1   \n",
       "1       2022-05-31  27110001  국채보상운동기념공원주차장  35.868863  128.600299      2   \n",
       "2       2022-05-31  27110001  국채보상운동기념공원주차장  35.868863  128.600299      3   \n",
       "3       2022-05-31  27110002           대구시청  35.871039  128.601444      1   \n",
       "4       2022-05-31  27110002           대구시청  35.871039  128.601444      2   \n",
       "...            ...       ...            ...        ...         ...    ...   \n",
       "295259  2022-05-27  KSTX0001   대구시_KS택시주식회사  35.846120  128.623417      1   \n",
       "295260  2022-05-28  KSTX0001   대구시_KS택시주식회사  35.846120  128.623417      1   \n",
       "295261  2022-05-29  KSTX0001   대구시_KS택시주식회사  35.846120  128.623417      1   \n",
       "295262  2022-05-30  KSTX0001   대구시_KS택시주식회사  35.846120  128.623417      1   \n",
       "295263  2022-05-31  KSTX0001   대구시_KS택시주식회사  35.846120  128.623417      1   \n",
       "\n",
       "       충전기타입  사용횟수         충전량  \n",
       "0         완속     3  110.590000  \n",
       "1         완속     1   22.380000  \n",
       "2         완속     3   20.130000  \n",
       "3         급속     6  119.400000  \n",
       "4         완속     5   32.350000  \n",
       "...      ...   ...         ...  \n",
       "295259    급속     4   84.990001  \n",
       "295260    급속     4   93.470000  \n",
       "295261    급속     3   57.949999  \n",
       "295262    급속     2   55.130001  \n",
       "295263    급속     5   62.780002  \n",
       "\n",
       "[295264 rows x 9 columns]"
      ]
     },
     "execution_count": 4,
     "metadata": {},
     "output_type": "execute_result"
    }
   ],
   "source": [
    "df"
   ]
  },
  {
   "cell_type": "code",
   "execution_count": 5,
   "id": "8be89930",
   "metadata": {
    "scrolled": true
   },
   "outputs": [
    {
     "data": {
      "text/plain": [
       "일자       0\n",
       "충전소ID    0\n",
       "충전소명칭    0\n",
       "위도       0\n",
       "경도       0\n",
       "충전기ID    0\n",
       "충전기타입    0\n",
       "사용횟수     0\n",
       "충전량      1\n",
       "dtype: int64"
      ]
     },
     "execution_count": 5,
     "metadata": {},
     "output_type": "execute_result"
    }
   ],
   "source": [
    "df.isnull().sum()"
   ]
  },
  {
   "cell_type": "code",
   "execution_count": 6,
   "id": "0b1757a6",
   "metadata": {},
   "outputs": [
    {
     "data": {
      "text/plain": [
       "array(['2022-05-31', '2022-05-30', '2022-05-29', ..., '2018-01-03',\n",
       "       '2018-01-02', '2018-01-01'], dtype=object)"
      ]
     },
     "execution_count": 6,
     "metadata": {},
     "output_type": "execute_result"
    }
   ],
   "source": [
    "df['일자'].unique()"
   ]
  },
  {
   "cell_type": "code",
   "execution_count": 7,
   "id": "c9414d7b",
   "metadata": {},
   "outputs": [
    {
     "data": {
      "text/plain": [
       "array([1, 2, 3, 4, 5, 6], dtype=int64)"
      ]
     },
     "execution_count": 7,
     "metadata": {},
     "output_type": "execute_result"
    }
   ],
   "source": [
    "df['충전기ID'].unique()"
   ]
  },
  {
   "cell_type": "code",
   "execution_count": 8,
   "id": "d000ea49",
   "metadata": {},
   "outputs": [
    {
     "data": {
      "text/plain": [
       "array(['완속', '급속'], dtype=object)"
      ]
     },
     "execution_count": 8,
     "metadata": {},
     "output_type": "execute_result"
    }
   ],
   "source": [
    "df['충전기타입'].unique()"
   ]
  },
  {
   "cell_type": "code",
   "execution_count": 9,
   "id": "137a57a2",
   "metadata": {
    "scrolled": true
   },
   "outputs": [
    {
     "data": {
      "text/plain": [
       "array([    3,     1,     6,     5,     2,     7,     4,    10,     8,\n",
       "          11,    12,    15,     9,    14,    55,    13,    22,    18,\n",
       "          16,    21,    17,    23,    24,    25,    20,    33,    28,\n",
       "          31,    27,    19,    30,    48,    42,    26,    60,    34,\n",
       "          29,    49,   111,    32,    46,    64,    76,    35,    43,\n",
       "          41,    36,    37,    39,    45,    40, 13162, 21551,    38,\n",
       "          51,    53], dtype=int64)"
      ]
     },
     "execution_count": 9,
     "metadata": {},
     "output_type": "execute_result"
    }
   ],
   "source": [
    "df['사용횟수'].unique()"
   ]
  },
  {
   "cell_type": "code",
   "execution_count": 10,
   "id": "dff5d674",
   "metadata": {
    "scrolled": true
   },
   "outputs": [
    {
     "data": {
      "text/plain": [
       "285972   NaN\n",
       "Name: 충전량, dtype: float64"
      ]
     },
     "execution_count": 10,
     "metadata": {},
     "output_type": "execute_result"
    }
   ],
   "source": [
    "df['충전량'][df['충전량'].isnull()]"
   ]
  },
  {
   "cell_type": "code",
   "execution_count": 11,
   "id": "bbc77d1a",
   "metadata": {},
   "outputs": [
    {
     "data": {
      "text/plain": [
       "95.56281113554583"
      ]
     },
     "execution_count": 11,
     "metadata": {},
     "output_type": "execute_result"
    }
   ],
   "source": [
    "df['충전량'].mean()"
   ]
  },
  {
   "cell_type": "code",
   "execution_count": 12,
   "id": "486f8735",
   "metadata": {},
   "outputs": [
    {
     "data": {
      "text/plain": [
       "nan"
      ]
     },
     "execution_count": 12,
     "metadata": {},
     "output_type": "execute_result"
    }
   ],
   "source": [
    "df['충전량'].iloc[285972]"
   ]
  },
  {
   "cell_type": "code",
   "execution_count": 13,
   "id": "d8a01079",
   "metadata": {},
   "outputs": [],
   "source": [
    "df['충전량']= df['충전량'].fillna(df['충전량'].mean())"
   ]
  },
  {
   "cell_type": "code",
   "execution_count": 14,
   "id": "66136316",
   "metadata": {},
   "outputs": [
    {
     "data": {
      "text/plain": [
       "95.56281113554583"
      ]
     },
     "execution_count": 14,
     "metadata": {},
     "output_type": "execute_result"
    }
   ],
   "source": [
    "df['충전량'].iloc[285972]"
   ]
  },
  {
   "cell_type": "code",
   "execution_count": null,
   "id": "1690757a",
   "metadata": {},
   "outputs": [],
   "source": []
  }
 ],
 "metadata": {
  "kernelspec": {
   "display_name": "Python 3 (ipykernel)",
   "language": "python",
   "name": "python3"
  },
  "language_info": {
   "codemirror_mode": {
    "name": "ipython",
    "version": 3
   },
   "file_extension": ".py",
   "mimetype": "text/x-python",
   "name": "python",
   "nbconvert_exporter": "python",
   "pygments_lexer": "ipython3",
   "version": "3.9.12"
  }
 },
 "nbformat": 4,
 "nbformat_minor": 5
}
