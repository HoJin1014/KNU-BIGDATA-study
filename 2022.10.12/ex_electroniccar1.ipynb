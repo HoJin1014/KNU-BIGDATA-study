{
 "cells": [
  {
   "cell_type": "code",
   "execution_count": 49,
   "id": "9d826dc7",
   "metadata": {},
   "outputs": [],
   "source": [
    "import pandas as pd\n",
    "import folium\n",
    "import warnings\n",
    "warnings.filterwarnings('ignore')"
   ]
  },
  {
   "cell_type": "code",
   "execution_count": 25,
   "id": "849ff3f0",
   "metadata": {},
   "outputs": [],
   "source": [
    "DIR='./대구광역시 일별 충전기별 사용현황_20220531.csv'"
   ]
  },
  {
   "cell_type": "code",
   "execution_count": 26,
   "id": "bff5fa48",
   "metadata": {},
   "outputs": [],
   "source": [
    "df=pd.read_csv(DIR, encoding='cp949')"
   ]
  },
  {
   "cell_type": "code",
   "execution_count": 27,
   "id": "b7884531",
   "metadata": {},
   "outputs": [
    {
     "data": {
      "text/html": [
       "<div>\n",
       "<style scoped>\n",
       "    .dataframe tbody tr th:only-of-type {\n",
       "        vertical-align: middle;\n",
       "    }\n",
       "\n",
       "    .dataframe tbody tr th {\n",
       "        vertical-align: top;\n",
       "    }\n",
       "\n",
       "    .dataframe thead th {\n",
       "        text-align: right;\n",
       "    }\n",
       "</style>\n",
       "<table border=\"1\" class=\"dataframe\">\n",
       "  <thead>\n",
       "    <tr style=\"text-align: right;\">\n",
       "      <th></th>\n",
       "      <th>일자</th>\n",
       "      <th>충전소ID</th>\n",
       "      <th>충전소명칭</th>\n",
       "      <th>위도</th>\n",
       "      <th>경도</th>\n",
       "      <th>충전기ID</th>\n",
       "      <th>충전기타입</th>\n",
       "      <th>사용횟수</th>\n",
       "      <th>충전량</th>\n",
       "    </tr>\n",
       "  </thead>\n",
       "  <tbody>\n",
       "    <tr>\n",
       "      <th>0</th>\n",
       "      <td>2022-05-31</td>\n",
       "      <td>27110001</td>\n",
       "      <td>국채보상운동기념공원주차장</td>\n",
       "      <td>35.868863</td>\n",
       "      <td>128.600299</td>\n",
       "      <td>1</td>\n",
       "      <td>완속</td>\n",
       "      <td>3</td>\n",
       "      <td>110.590000</td>\n",
       "    </tr>\n",
       "    <tr>\n",
       "      <th>1</th>\n",
       "      <td>2022-05-31</td>\n",
       "      <td>27110001</td>\n",
       "      <td>국채보상운동기념공원주차장</td>\n",
       "      <td>35.868863</td>\n",
       "      <td>128.600299</td>\n",
       "      <td>2</td>\n",
       "      <td>완속</td>\n",
       "      <td>1</td>\n",
       "      <td>22.380000</td>\n",
       "    </tr>\n",
       "    <tr>\n",
       "      <th>2</th>\n",
       "      <td>2022-05-31</td>\n",
       "      <td>27110001</td>\n",
       "      <td>국채보상운동기념공원주차장</td>\n",
       "      <td>35.868863</td>\n",
       "      <td>128.600299</td>\n",
       "      <td>3</td>\n",
       "      <td>완속</td>\n",
       "      <td>3</td>\n",
       "      <td>20.130000</td>\n",
       "    </tr>\n",
       "    <tr>\n",
       "      <th>3</th>\n",
       "      <td>2022-05-31</td>\n",
       "      <td>27110002</td>\n",
       "      <td>대구시청</td>\n",
       "      <td>35.871039</td>\n",
       "      <td>128.601444</td>\n",
       "      <td>1</td>\n",
       "      <td>급속</td>\n",
       "      <td>6</td>\n",
       "      <td>119.400000</td>\n",
       "    </tr>\n",
       "    <tr>\n",
       "      <th>4</th>\n",
       "      <td>2022-05-31</td>\n",
       "      <td>27110002</td>\n",
       "      <td>대구시청</td>\n",
       "      <td>35.871039</td>\n",
       "      <td>128.601444</td>\n",
       "      <td>2</td>\n",
       "      <td>완속</td>\n",
       "      <td>5</td>\n",
       "      <td>32.350000</td>\n",
       "    </tr>\n",
       "    <tr>\n",
       "      <th>...</th>\n",
       "      <td>...</td>\n",
       "      <td>...</td>\n",
       "      <td>...</td>\n",
       "      <td>...</td>\n",
       "      <td>...</td>\n",
       "      <td>...</td>\n",
       "      <td>...</td>\n",
       "      <td>...</td>\n",
       "      <td>...</td>\n",
       "    </tr>\n",
       "    <tr>\n",
       "      <th>295259</th>\n",
       "      <td>2022-05-27</td>\n",
       "      <td>KSTX0001</td>\n",
       "      <td>대구시_KS택시주식회사</td>\n",
       "      <td>35.846120</td>\n",
       "      <td>128.623417</td>\n",
       "      <td>1</td>\n",
       "      <td>급속</td>\n",
       "      <td>4</td>\n",
       "      <td>84.990001</td>\n",
       "    </tr>\n",
       "    <tr>\n",
       "      <th>295260</th>\n",
       "      <td>2022-05-28</td>\n",
       "      <td>KSTX0001</td>\n",
       "      <td>대구시_KS택시주식회사</td>\n",
       "      <td>35.846120</td>\n",
       "      <td>128.623417</td>\n",
       "      <td>1</td>\n",
       "      <td>급속</td>\n",
       "      <td>4</td>\n",
       "      <td>93.470000</td>\n",
       "    </tr>\n",
       "    <tr>\n",
       "      <th>295261</th>\n",
       "      <td>2022-05-29</td>\n",
       "      <td>KSTX0001</td>\n",
       "      <td>대구시_KS택시주식회사</td>\n",
       "      <td>35.846120</td>\n",
       "      <td>128.623417</td>\n",
       "      <td>1</td>\n",
       "      <td>급속</td>\n",
       "      <td>3</td>\n",
       "      <td>57.949999</td>\n",
       "    </tr>\n",
       "    <tr>\n",
       "      <th>295262</th>\n",
       "      <td>2022-05-30</td>\n",
       "      <td>KSTX0001</td>\n",
       "      <td>대구시_KS택시주식회사</td>\n",
       "      <td>35.846120</td>\n",
       "      <td>128.623417</td>\n",
       "      <td>1</td>\n",
       "      <td>급속</td>\n",
       "      <td>2</td>\n",
       "      <td>55.130001</td>\n",
       "    </tr>\n",
       "    <tr>\n",
       "      <th>295263</th>\n",
       "      <td>2022-05-31</td>\n",
       "      <td>KSTX0001</td>\n",
       "      <td>대구시_KS택시주식회사</td>\n",
       "      <td>35.846120</td>\n",
       "      <td>128.623417</td>\n",
       "      <td>1</td>\n",
       "      <td>급속</td>\n",
       "      <td>5</td>\n",
       "      <td>62.780002</td>\n",
       "    </tr>\n",
       "  </tbody>\n",
       "</table>\n",
       "<p>295264 rows × 9 columns</p>\n",
       "</div>"
      ],
      "text/plain": [
       "                일자     충전소ID          충전소명칭         위도          경도  충전기ID  \\\n",
       "0       2022-05-31  27110001  국채보상운동기념공원주차장  35.868863  128.600299      1   \n",
       "1       2022-05-31  27110001  국채보상운동기념공원주차장  35.868863  128.600299      2   \n",
       "2       2022-05-31  27110001  국채보상운동기념공원주차장  35.868863  128.600299      3   \n",
       "3       2022-05-31  27110002           대구시청  35.871039  128.601444      1   \n",
       "4       2022-05-31  27110002           대구시청  35.871039  128.601444      2   \n",
       "...            ...       ...            ...        ...         ...    ...   \n",
       "295259  2022-05-27  KSTX0001   대구시_KS택시주식회사  35.846120  128.623417      1   \n",
       "295260  2022-05-28  KSTX0001   대구시_KS택시주식회사  35.846120  128.623417      1   \n",
       "295261  2022-05-29  KSTX0001   대구시_KS택시주식회사  35.846120  128.623417      1   \n",
       "295262  2022-05-30  KSTX0001   대구시_KS택시주식회사  35.846120  128.623417      1   \n",
       "295263  2022-05-31  KSTX0001   대구시_KS택시주식회사  35.846120  128.623417      1   \n",
       "\n",
       "       충전기타입  사용횟수         충전량  \n",
       "0         완속     3  110.590000  \n",
       "1         완속     1   22.380000  \n",
       "2         완속     3   20.130000  \n",
       "3         급속     6  119.400000  \n",
       "4         완속     5   32.350000  \n",
       "...      ...   ...         ...  \n",
       "295259    급속     4   84.990001  \n",
       "295260    급속     4   93.470000  \n",
       "295261    급속     3   57.949999  \n",
       "295262    급속     2   55.130001  \n",
       "295263    급속     5   62.780002  \n",
       "\n",
       "[295264 rows x 9 columns]"
      ]
     },
     "execution_count": 27,
     "metadata": {},
     "output_type": "execute_result"
    }
   ],
   "source": [
    "df"
   ]
  },
  {
   "cell_type": "code",
   "execution_count": 28,
   "id": "571143f9",
   "metadata": {
    "scrolled": true
   },
   "outputs": [
    {
     "data": {
      "text/plain": [
       "일자       0\n",
       "충전소ID    0\n",
       "충전소명칭    0\n",
       "위도       0\n",
       "경도       0\n",
       "충전기ID    0\n",
       "충전기타입    0\n",
       "사용횟수     0\n",
       "충전량      1\n",
       "dtype: int64"
      ]
     },
     "execution_count": 28,
     "metadata": {},
     "output_type": "execute_result"
    }
   ],
   "source": [
    "df.isnull().sum()"
   ]
  },
  {
   "cell_type": "code",
   "execution_count": 29,
   "id": "eceb1c25",
   "metadata": {},
   "outputs": [
    {
     "data": {
      "text/plain": [
       "array(['2022-05-31', '2022-05-30', '2022-05-29', ..., '2018-01-03',\n",
       "       '2018-01-02', '2018-01-01'], dtype=object)"
      ]
     },
     "execution_count": 29,
     "metadata": {},
     "output_type": "execute_result"
    }
   ],
   "source": [
    "df['일자'].unique()"
   ]
  },
  {
   "cell_type": "code",
   "execution_count": 30,
   "id": "b5f2ae62",
   "metadata": {},
   "outputs": [
    {
     "data": {
      "text/plain": [
       "array([1, 2, 3, 4, 5, 6], dtype=int64)"
      ]
     },
     "execution_count": 30,
     "metadata": {},
     "output_type": "execute_result"
    }
   ],
   "source": [
    "df['충전기ID'].unique()"
   ]
  },
  {
   "cell_type": "code",
   "execution_count": 31,
   "id": "1043c76f",
   "metadata": {},
   "outputs": [
    {
     "data": {
      "text/plain": [
       "array(['완속', '급속'], dtype=object)"
      ]
     },
     "execution_count": 31,
     "metadata": {},
     "output_type": "execute_result"
    }
   ],
   "source": [
    "df['충전기타입'].unique()"
   ]
  },
  {
   "cell_type": "code",
   "execution_count": 32,
   "id": "92c6b353",
   "metadata": {
    "scrolled": true
   },
   "outputs": [
    {
     "data": {
      "text/plain": [
       "array([    3,     1,     6,     5,     2,     7,     4,    10,     8,\n",
       "          11,    12,    15,     9,    14,    55,    13,    22,    18,\n",
       "          16,    21,    17,    23,    24,    25,    20,    33,    28,\n",
       "          31,    27,    19,    30,    48,    42,    26,    60,    34,\n",
       "          29,    49,   111,    32,    46,    64,    76,    35,    43,\n",
       "          41,    36,    37,    39,    45,    40, 13162, 21551,    38,\n",
       "          51,    53], dtype=int64)"
      ]
     },
     "execution_count": 32,
     "metadata": {},
     "output_type": "execute_result"
    }
   ],
   "source": [
    "df['사용횟수'].unique()"
   ]
  },
  {
   "cell_type": "code",
   "execution_count": 33,
   "id": "75da54d9",
   "metadata": {
    "scrolled": true
   },
   "outputs": [
    {
     "data": {
      "text/plain": [
       "285972   NaN\n",
       "Name: 충전량, dtype: float64"
      ]
     },
     "execution_count": 33,
     "metadata": {},
     "output_type": "execute_result"
    }
   ],
   "source": [
    "df['충전량'][df['충전량'].isnull()]"
   ]
  },
  {
   "cell_type": "code",
   "execution_count": 34,
   "id": "aae9fcd1",
   "metadata": {},
   "outputs": [
    {
     "data": {
      "text/plain": [
       "95.56281113554583"
      ]
     },
     "execution_count": 34,
     "metadata": {},
     "output_type": "execute_result"
    }
   ],
   "source": [
    "df['충전량'].mean()"
   ]
  },
  {
   "cell_type": "code",
   "execution_count": 35,
   "id": "868be07d",
   "metadata": {},
   "outputs": [
    {
     "data": {
      "text/plain": [
       "nan"
      ]
     },
     "execution_count": 35,
     "metadata": {},
     "output_type": "execute_result"
    }
   ],
   "source": [
    "df['충전량'].iloc[285972]"
   ]
  },
  {
   "cell_type": "code",
   "execution_count": 36,
   "id": "4bbfefd0",
   "metadata": {},
   "outputs": [],
   "source": [
    "df['충전량']= df['충전량'].fillna(df['충전량'].mean())"
   ]
  },
  {
   "cell_type": "code",
   "execution_count": 37,
   "id": "e25b33b7",
   "metadata": {},
   "outputs": [
    {
     "data": {
      "text/plain": [
       "95.56281113554583"
      ]
     },
     "execution_count": 37,
     "metadata": {},
     "output_type": "execute_result"
    }
   ],
   "source": [
    "df['충전량'].iloc[285972]"
   ]
  },
  {
   "cell_type": "code",
   "execution_count": null,
   "id": "d3403298",
   "metadata": {},
   "outputs": [],
   "source": []
  },
  {
   "cell_type": "code",
   "execution_count": 38,
   "id": "e5a88869",
   "metadata": {},
   "outputs": [
    {
     "data": {
      "text/plain": [
       "0         2022-05-31\n",
       "1         2022-05-31\n",
       "2         2022-05-31\n",
       "3         2022-05-31\n",
       "4         2022-05-31\n",
       "             ...    \n",
       "295259    2022-05-27\n",
       "295260    2022-05-28\n",
       "295261    2022-05-29\n",
       "295262    2022-05-30\n",
       "295263    2022-05-31\n",
       "Name: 일자, Length: 295264, dtype: object"
      ]
     },
     "execution_count": 38,
     "metadata": {},
     "output_type": "execute_result"
    }
   ],
   "source": [
    "df['일자']"
   ]
  },
  {
   "cell_type": "code",
   "execution_count": 39,
   "id": "b530fa50",
   "metadata": {},
   "outputs": [],
   "source": [
    "df['일자']=pd.to_datetime(df['일자'])"
   ]
  },
  {
   "cell_type": "code",
   "execution_count": 40,
   "id": "d27ecd5b",
   "metadata": {},
   "outputs": [],
   "source": [
    "df['year']=df['일자'].dt.year\n",
    "df['month']=df['일자'].dt.month\n",
    "df['day']=df['일자'].dt.day\n",
    "df['dayofweek']=df['일자'].dt.dayofweek"
   ]
  },
  {
   "cell_type": "code",
   "execution_count": 41,
   "id": "925e8c6a",
   "metadata": {},
   "outputs": [
    {
     "data": {
      "text/plain": [
       "array([1, 0, 6, 5, 4, 3, 2], dtype=int64)"
      ]
     },
     "execution_count": 41,
     "metadata": {},
     "output_type": "execute_result"
    }
   ],
   "source": [
    "# 0번 화요일부터 시작\n",
    "# 0 화요일, 1 수요일, 2 목요일, 3 금요일, 4 토요일, 5 일요일, 6 월요일\n",
    "df['dayofweek'].unique()"
   ]
  },
  {
   "cell_type": "code",
   "execution_count": 42,
   "id": "e65249ce",
   "metadata": {},
   "outputs": [
    {
     "data": {
      "text/plain": [
       "0         1\n",
       "1         1\n",
       "2         1\n",
       "3         1\n",
       "4         1\n",
       "         ..\n",
       "295259    4\n",
       "295260    5\n",
       "295261    6\n",
       "295262    0\n",
       "295263    1\n",
       "Name: dayofweek, Length: 295264, dtype: int64"
      ]
     },
     "execution_count": 42,
     "metadata": {},
     "output_type": "execute_result"
    }
   ],
   "source": [
    "df['dayofweek']"
   ]
  },
  {
   "cell_type": "code",
   "execution_count": 43,
   "id": "8399f359",
   "metadata": {},
   "outputs": [
    {
     "data": {
      "text/plain": [
       "Index(['일자', '충전소ID', '충전소명칭', '위도', '경도', '충전기ID', '충전기타입', '사용횟수', '충전량',\n",
       "       'year', 'month', 'day', 'dayofweek'],\n",
       "      dtype='object')"
      ]
     },
     "execution_count": 43,
     "metadata": {},
     "output_type": "execute_result"
    }
   ],
   "source": [
    "df.columns"
   ]
  },
  {
   "cell_type": "code",
   "execution_count": 44,
   "id": "6e1c81d7",
   "metadata": {},
   "outputs": [
    {
     "data": {
      "text/plain": [
       "0         31\n",
       "1         31\n",
       "2         31\n",
       "3         31\n",
       "4         31\n",
       "          ..\n",
       "295259    27\n",
       "295260    28\n",
       "295261    29\n",
       "295262    30\n",
       "295263    31\n",
       "Name: day, Length: 295264, dtype: int64"
      ]
     },
     "execution_count": 44,
     "metadata": {},
     "output_type": "execute_result"
    }
   ],
   "source": [
    "df['day']"
   ]
  },
  {
   "cell_type": "code",
   "execution_count": 53,
   "id": "0257aa53",
   "metadata": {
    "scrolled": true
   },
   "outputs": [
    {
     "data": {
      "text/html": [
       "<div>\n",
       "<style scoped>\n",
       "    .dataframe tbody tr th:only-of-type {\n",
       "        vertical-align: middle;\n",
       "    }\n",
       "\n",
       "    .dataframe tbody tr th {\n",
       "        vertical-align: top;\n",
       "    }\n",
       "\n",
       "    .dataframe thead th {\n",
       "        text-align: right;\n",
       "    }\n",
       "</style>\n",
       "<table border=\"1\" class=\"dataframe\">\n",
       "  <thead>\n",
       "    <tr style=\"text-align: right;\">\n",
       "      <th></th>\n",
       "      <th>일자</th>\n",
       "      <th>충전소ID</th>\n",
       "      <th>충전소명칭</th>\n",
       "      <th>위도</th>\n",
       "      <th>경도</th>\n",
       "      <th>충전기ID</th>\n",
       "      <th>충전기타입</th>\n",
       "      <th>사용횟수</th>\n",
       "      <th>충전량</th>\n",
       "      <th>year</th>\n",
       "      <th>month</th>\n",
       "      <th>day</th>\n",
       "      <th>dayofweek</th>\n",
       "    </tr>\n",
       "  </thead>\n",
       "  <tbody>\n",
       "    <tr>\n",
       "      <th>0</th>\n",
       "      <td>2022-05-31</td>\n",
       "      <td>27110001</td>\n",
       "      <td>국채보상운동기념공원주차장</td>\n",
       "      <td>35.868863</td>\n",
       "      <td>128.600299</td>\n",
       "      <td>1</td>\n",
       "      <td>완속</td>\n",
       "      <td>3</td>\n",
       "      <td>110.59</td>\n",
       "      <td>2022</td>\n",
       "      <td>5</td>\n",
       "      <td>31</td>\n",
       "      <td>1</td>\n",
       "    </tr>\n",
       "    <tr>\n",
       "      <th>1</th>\n",
       "      <td>2022-05-31</td>\n",
       "      <td>27110001</td>\n",
       "      <td>국채보상운동기념공원주차장</td>\n",
       "      <td>35.868863</td>\n",
       "      <td>128.600299</td>\n",
       "      <td>2</td>\n",
       "      <td>완속</td>\n",
       "      <td>1</td>\n",
       "      <td>22.38</td>\n",
       "      <td>2022</td>\n",
       "      <td>5</td>\n",
       "      <td>31</td>\n",
       "      <td>1</td>\n",
       "    </tr>\n",
       "  </tbody>\n",
       "</table>\n",
       "</div>"
      ],
      "text/plain": [
       "          일자     충전소ID          충전소명칭         위도          경도  충전기ID 충전기타입  \\\n",
       "0 2022-05-31  27110001  국채보상운동기념공원주차장  35.868863  128.600299      1    완속   \n",
       "1 2022-05-31  27110001  국채보상운동기념공원주차장  35.868863  128.600299      2    완속   \n",
       "\n",
       "   사용횟수     충전량  year  month  day  dayofweek  \n",
       "0     3  110.59  2022      5   31          1  \n",
       "1     1   22.38  2022      5   31          1  "
      ]
     },
     "execution_count": 53,
     "metadata": {},
     "output_type": "execute_result"
    }
   ],
   "source": [
    "df.head(2)"
   ]
  },
  {
   "cell_type": "markdown",
   "id": "bb6c0e59",
   "metadata": {},
   "source": [
    "## python 지도 시각화\n",
    "https://velog.io/@eodud0582/Folium"
   ]
  },
  {
   "cell_type": "code",
   "execution_count": 60,
   "id": "a2651a43",
   "metadata": {},
   "outputs": [
    {
     "data": {
      "text/html": [
       "<div style=\"width:100%;\"><div style=\"position:relative;width:100%;height:0;padding-bottom:60%;\"><span style=\"color:#565656\">Make this Notebook Trusted to load map: File -> Trust Notebook</span><iframe srcdoc=\"&lt;!DOCTYPE html&gt;\n",
       "&lt;head&gt;    \n",
       "    &lt;meta http-equiv=&quot;content-type&quot; content=&quot;text/html; charset=UTF-8&quot; /&gt;\n",
       "    \n",
       "        &lt;script&gt;\n",
       "            L_NO_TOUCH = false;\n",
       "            L_DISABLE_3D = false;\n",
       "        &lt;/script&gt;\n",
       "    \n",
       "    &lt;style&gt;html, body {width: 100%;height: 100%;margin: 0;padding: 0;}&lt;/style&gt;\n",
       "    &lt;style&gt;#map {position:absolute;top:0;bottom:0;right:0;left:0;}&lt;/style&gt;\n",
       "    &lt;script src=&quot;https://cdn.jsdelivr.net/npm/leaflet@1.6.0/dist/leaflet.js&quot;&gt;&lt;/script&gt;\n",
       "    &lt;script src=&quot;https://code.jquery.com/jquery-1.12.4.min.js&quot;&gt;&lt;/script&gt;\n",
       "    &lt;script src=&quot;https://maxcdn.bootstrapcdn.com/bootstrap/3.2.0/js/bootstrap.min.js&quot;&gt;&lt;/script&gt;\n",
       "    &lt;script src=&quot;https://cdnjs.cloudflare.com/ajax/libs/Leaflet.awesome-markers/2.0.2/leaflet.awesome-markers.js&quot;&gt;&lt;/script&gt;\n",
       "    &lt;link rel=&quot;stylesheet&quot; href=&quot;https://cdn.jsdelivr.net/npm/leaflet@1.6.0/dist/leaflet.css&quot;/&gt;\n",
       "    &lt;link rel=&quot;stylesheet&quot; href=&quot;https://maxcdn.bootstrapcdn.com/bootstrap/3.2.0/css/bootstrap.min.css&quot;/&gt;\n",
       "    &lt;link rel=&quot;stylesheet&quot; href=&quot;https://maxcdn.bootstrapcdn.com/bootstrap/3.2.0/css/bootstrap-theme.min.css&quot;/&gt;\n",
       "    &lt;link rel=&quot;stylesheet&quot; href=&quot;https://maxcdn.bootstrapcdn.com/font-awesome/4.6.3/css/font-awesome.min.css&quot;/&gt;\n",
       "    &lt;link rel=&quot;stylesheet&quot; href=&quot;https://cdnjs.cloudflare.com/ajax/libs/Leaflet.awesome-markers/2.0.2/leaflet.awesome-markers.css&quot;/&gt;\n",
       "    &lt;link rel=&quot;stylesheet&quot; href=&quot;https://cdn.jsdelivr.net/gh/python-visualization/folium/folium/templates/leaflet.awesome.rotate.min.css&quot;/&gt;\n",
       "    \n",
       "            &lt;meta name=&quot;viewport&quot; content=&quot;width=device-width,\n",
       "                initial-scale=1.0, maximum-scale=1.0, user-scalable=no&quot; /&gt;\n",
       "            &lt;style&gt;\n",
       "                #map_56202625e59557cc0f1e01b29ead2b6d {\n",
       "                    position: relative;\n",
       "                    width: 100.0%;\n",
       "                    height: 100.0%;\n",
       "                    left: 0.0%;\n",
       "                    top: 0.0%;\n",
       "                }\n",
       "            &lt;/style&gt;\n",
       "        \n",
       "&lt;/head&gt;\n",
       "&lt;body&gt;    \n",
       "    \n",
       "            &lt;div class=&quot;folium-map&quot; id=&quot;map_56202625e59557cc0f1e01b29ead2b6d&quot; &gt;&lt;/div&gt;\n",
       "        \n",
       "&lt;/body&gt;\n",
       "&lt;script&gt;    \n",
       "    \n",
       "            var map_56202625e59557cc0f1e01b29ead2b6d = L.map(\n",
       "                &quot;map_56202625e59557cc0f1e01b29ead2b6d&quot;,\n",
       "                {\n",
       "                    center: [35.868863, 128.600299],\n",
       "                    crs: L.CRS.EPSG3857,\n",
       "                    zoom: 10,\n",
       "                    zoomControl: true,\n",
       "                    preferCanvas: false,\n",
       "                    zoomStrat: 14,\n",
       "                }\n",
       "            );\n",
       "\n",
       "            \n",
       "\n",
       "        \n",
       "    \n",
       "            var tile_layer_5a264f5a4e5ef60b1531f42ebcc02006 = L.tileLayer(\n",
       "                &quot;https://{s}.tile.openstreetmap.org/{z}/{x}/{y}.png&quot;,\n",
       "                {&quot;attribution&quot;: &quot;Data by \\u0026copy; \\u003ca href=\\&quot;http://openstreetmap.org\\&quot;\\u003eOpenStreetMap\\u003c/a\\u003e, under \\u003ca href=\\&quot;http://www.openstreetmap.org/copyright\\&quot;\\u003eODbL\\u003c/a\\u003e.&quot;, &quot;detectRetina&quot;: false, &quot;maxNativeZoom&quot;: 18, &quot;maxZoom&quot;: 18, &quot;minZoom&quot;: 0, &quot;noWrap&quot;: false, &quot;opacity&quot;: 1, &quot;subdomains&quot;: &quot;abc&quot;, &quot;tms&quot;: false}\n",
       "            ).addTo(map_56202625e59557cc0f1e01b29ead2b6d);\n",
       "        \n",
       "&lt;/script&gt;\" style=\"position:absolute;width:100%;height:100%;left:0;top:0;border:none !important;\" allowfullscreen webkitallowfullscreen mozallowfullscreen></iframe></div></div>"
      ],
      "text/plain": [
       "<folium.folium.Map at 0x241ab6a12b0>"
      ]
     },
     "execution_count": 60,
     "metadata": {},
     "output_type": "execute_result"
    }
   ],
   "source": [
    "m = folium.Map(location=[35.868863,128.600299], zoom_strat=14)\n",
    "m"
   ]
  },
  {
   "cell_type": "code",
   "execution_count": 61,
   "id": "6e6bcc8c",
   "metadata": {},
   "outputs": [
    {
     "data": {
      "text/html": [
       "<div style=\"width:100%;\"><div style=\"position:relative;width:100%;height:0;padding-bottom:60%;\"><span style=\"color:#565656\">Make this Notebook Trusted to load map: File -> Trust Notebook</span><iframe srcdoc=\"&lt;!DOCTYPE html&gt;\n",
       "&lt;head&gt;    \n",
       "    &lt;meta http-equiv=&quot;content-type&quot; content=&quot;text/html; charset=UTF-8&quot; /&gt;\n",
       "    \n",
       "        &lt;script&gt;\n",
       "            L_NO_TOUCH = false;\n",
       "            L_DISABLE_3D = false;\n",
       "        &lt;/script&gt;\n",
       "    \n",
       "    &lt;style&gt;html, body {width: 100%;height: 100%;margin: 0;padding: 0;}&lt;/style&gt;\n",
       "    &lt;style&gt;#map {position:absolute;top:0;bottom:0;right:0;left:0;}&lt;/style&gt;\n",
       "    &lt;script src=&quot;https://cdn.jsdelivr.net/npm/leaflet@1.6.0/dist/leaflet.js&quot;&gt;&lt;/script&gt;\n",
       "    &lt;script src=&quot;https://code.jquery.com/jquery-1.12.4.min.js&quot;&gt;&lt;/script&gt;\n",
       "    &lt;script src=&quot;https://maxcdn.bootstrapcdn.com/bootstrap/3.2.0/js/bootstrap.min.js&quot;&gt;&lt;/script&gt;\n",
       "    &lt;script src=&quot;https://cdnjs.cloudflare.com/ajax/libs/Leaflet.awesome-markers/2.0.2/leaflet.awesome-markers.js&quot;&gt;&lt;/script&gt;\n",
       "    &lt;link rel=&quot;stylesheet&quot; href=&quot;https://cdn.jsdelivr.net/npm/leaflet@1.6.0/dist/leaflet.css&quot;/&gt;\n",
       "    &lt;link rel=&quot;stylesheet&quot; href=&quot;https://maxcdn.bootstrapcdn.com/bootstrap/3.2.0/css/bootstrap.min.css&quot;/&gt;\n",
       "    &lt;link rel=&quot;stylesheet&quot; href=&quot;https://maxcdn.bootstrapcdn.com/bootstrap/3.2.0/css/bootstrap-theme.min.css&quot;/&gt;\n",
       "    &lt;link rel=&quot;stylesheet&quot; href=&quot;https://maxcdn.bootstrapcdn.com/font-awesome/4.6.3/css/font-awesome.min.css&quot;/&gt;\n",
       "    &lt;link rel=&quot;stylesheet&quot; href=&quot;https://cdnjs.cloudflare.com/ajax/libs/Leaflet.awesome-markers/2.0.2/leaflet.awesome-markers.css&quot;/&gt;\n",
       "    &lt;link rel=&quot;stylesheet&quot; href=&quot;https://cdn.jsdelivr.net/gh/python-visualization/folium/folium/templates/leaflet.awesome.rotate.min.css&quot;/&gt;\n",
       "    \n",
       "            &lt;meta name=&quot;viewport&quot; content=&quot;width=device-width,\n",
       "                initial-scale=1.0, maximum-scale=1.0, user-scalable=no&quot; /&gt;\n",
       "            &lt;style&gt;\n",
       "                #map_02f5076424751f51b27e0494fbf6c3c8 {\n",
       "                    position: relative;\n",
       "                    width: 100.0%;\n",
       "                    height: 100.0%;\n",
       "                    left: 0.0%;\n",
       "                    top: 0.0%;\n",
       "                }\n",
       "            &lt;/style&gt;\n",
       "        \n",
       "&lt;/head&gt;\n",
       "&lt;body&gt;    \n",
       "    \n",
       "            &lt;div class=&quot;folium-map&quot; id=&quot;map_02f5076424751f51b27e0494fbf6c3c8&quot; &gt;&lt;/div&gt;\n",
       "        \n",
       "&lt;/body&gt;\n",
       "&lt;script&gt;    \n",
       "    \n",
       "            var map_02f5076424751f51b27e0494fbf6c3c8 = L.map(\n",
       "                &quot;map_02f5076424751f51b27e0494fbf6c3c8&quot;,\n",
       "                {\n",
       "                    center: [35.868863, 128.600299],\n",
       "                    crs: L.CRS.EPSG3857,\n",
       "                    zoom: 10,\n",
       "                    zoomControl: true,\n",
       "                    preferCanvas: false,\n",
       "                    zoomStrat: 14,\n",
       "                }\n",
       "            );\n",
       "\n",
       "            \n",
       "\n",
       "        \n",
       "    \n",
       "            var tile_layer_a7937c428277d54b06cd620807880246 = L.tileLayer(\n",
       "                &quot;https://stamen-tiles-{s}.a.ssl.fastly.net/terrain/{z}/{x}/{y}.jpg&quot;,\n",
       "                {&quot;attribution&quot;: &quot;Map tiles by \\u003ca href=\\&quot;http://stamen.com\\&quot;\\u003eStamen Design\\u003c/a\\u003e, under \\u003ca href=\\&quot;http://creativecommons.org/licenses/by/3.0\\&quot;\\u003eCC BY 3.0\\u003c/a\\u003e. Data by \\u0026copy; \\u003ca href=\\&quot;http://openstreetmap.org\\&quot;\\u003eOpenStreetMap\\u003c/a\\u003e, under \\u003ca href=\\&quot;http://creativecommons.org/licenses/by-sa/3.0\\&quot;\\u003eCC BY SA\\u003c/a\\u003e.&quot;, &quot;detectRetina&quot;: false, &quot;maxNativeZoom&quot;: 18, &quot;maxZoom&quot;: 18, &quot;minZoom&quot;: 0, &quot;noWrap&quot;: false, &quot;opacity&quot;: 1, &quot;subdomains&quot;: &quot;abc&quot;, &quot;tms&quot;: false}\n",
       "            ).addTo(map_02f5076424751f51b27e0494fbf6c3c8);\n",
       "        \n",
       "&lt;/script&gt;\" style=\"position:absolute;width:100%;height:100%;left:0;top:0;border:none !important;\" allowfullscreen webkitallowfullscreen mozallowfullscreen></iframe></div></div>"
      ],
      "text/plain": [
       "<folium.folium.Map at 0x241ab6f0190>"
      ]
     },
     "execution_count": 61,
     "metadata": {},
     "output_type": "execute_result"
    }
   ],
   "source": [
    "m1 = folium.Map(location=[35.868863,128.600299], zoom_strat=14,\n",
    "              tiles='Stamen Terrain')\n",
    "m1"
   ]
  },
  {
   "cell_type": "code",
   "execution_count": 64,
   "id": "96d33fe3",
   "metadata": {
    "scrolled": true
   },
   "outputs": [
    {
     "data": {
      "text/plain": [
       "array(['국채보상운동기념공원주차장', '대구시청', '서문주차빌딩', '동인동행정복지센터', '갓바위공영3주차장',\n",
       "       '갓바위공영5주차장', '동구청', '동대구복합환승센터', '율하체육공원3주차장', '첨단의료산업진흥재단',\n",
       "       '환경공단안심관리소', 'DTC섬유박물관', '반야월공영주차장', '파계사 공영주차장', '해안동 행정복지센터',\n",
       "       '동촌유원지 입구 주차장', '대구지식서비스센터', '상공회의소', '신암공원', '아양아트센터',\n",
       "       '불로봉무동행정복지센터', '대구의료원', '서구국민체육센터', '서구청', '충전인프라 관제센터',\n",
       "       '대구환경공단(달서천)', '상중이동 행정복지센터', '서대구산업단지 근로자복지회관', '비산1동행정복지센터',\n",
       "       '평리3동행정복지센터', '충혼탑 주차장', '대명5동 행정복지센터', '이천동행정복지센터', '봉덕2동행정복지센터',\n",
       "       '대명9동행정복지센터', '농수산물도매시장', '매천역환승공영주차장', '북구청', '시청별관', '패션센터 주차장',\n",
       "       '관음공영주차장', '대구 부광교회', '구암동 행정복지센터', '한국도로공사 칠곡영업소', '유니버시아드 레포츠센터',\n",
       "       '아이빌', '대구체육관 주차장', '대구은행 제2본점영업부', '대구사격장', '동림플라자', '동천동행정복지센터',\n",
       "       '관음동행정복지센터', '검단동행정복지센터', '산격2동행정복지센터', '복현2동행정복지센터',\n",
       "       '두산오거리(두산스포츠 북동편 도로면)', '수성구청', '수성대학교 입구 우', '수성대학교 입구 좌',\n",
       "       '시지근린공원(누리타운 서편 도로면)', '어린이회관', '외환들공영주차장', '차량등록사업소1',\n",
       "       '파동교네거리주차장', '대구환경공단(지산)', '대구은행 파동지점', '지산근린공원 주차장', '명복공원 주차장',\n",
       "       '대구은행 시지지점', '수성아트피아', '만촌3동행정복지센터', '중동행정복지센터', '상동행정복지센터',\n",
       "       '지산1동행정복지센터', '고산3동행정복지센터', '달서구청', '대구도시철도공사', '두류공원(성당휴게소)',\n",
       "       '서부법원 앞(롯데캐슬입구)', '성서체육공원주차장', '성서홈플러스', '시설안전관리사업소', '월광수변공원주차장',\n",
       "       '대구환경공단(본부)', '용산2동 행정복지센터', '차량등록사업소 서부분소', '대구은행 본리동지점',\n",
       "       '진천동 행정복지센터', '대덕승마장', '용산1동행정복지센터', '두류1+2동행정복지센터', '성당동행정복지센터',\n",
       "       '월성2동행정복지센터', '본동행정복지센터', '월성1동행정복지센터', '상인2동행정복지센터', '상인1동행정복지센터',\n",
       "       '송현1동행정복지센터', '도원동행정복지센터', '가창면행정복지센터', '현풍읍행정복지센터', '논공읍 논공공단출장소',\n",
       "       '달성군청', '대구과학관', '다사읍행정복지센터', '달성군 농업기술센터', '문양역 야외주차장',\n",
       "       '다사체육공원 주차장', '달성문화센터', '내당2+3동행정복지센터', '올브랜 주차장', '복현장미공원공영주차장',\n",
       "       '만촌2동행정복지센터', '다사읍행정복지센터 서재출장소', '비슬산자연휴양림공영주차장', '남산4동행정복지센터',\n",
       "       '논공읍행정복지센터', '옥포읍행정복지센터', '평리1동행정복지센터', '한국산업단지 달성출장소',\n",
       "       '비산4동행정복지센터', '화원읍행정복지센터', '감삼동행정복지센터', '아주운수', '고산2동행정복지센터',\n",
       "       '수목원삼성래미안', '신매공영주차장', '달서시장공영주차장', '신암1동행정복지센터', '대구시_동천동 행정복지센터',\n",
       "       '대구시_산격3동 행정복지센터', '대구시_죽전동 행정복지센터', '대구시_고성동 행정복지센터', '대구시_남구청',\n",
       "       '대구시_남산3동 행정복지센터', '대구시_대구도시철도공사', '대구시_대구은행 3공단영업부지점',\n",
       "       '대구시_대구은행 신암동지점', '대구시_대구은행 월배지점', '대구시_대명2동 행정복지센터',\n",
       "       '대구시_대명3동 행정복지센터', '대구시_대명4동 행정복지센터', '대구시_대신동 행정복지센터',\n",
       "       '대구시_도평동 공영주차장', '대구시_동촌동 행정복지센터', '대구시_명성푸르지오',\n",
       "       '대구시_무태조야동 행정복지센터', '대구시_방촌동 행정복지센터', '대구시_본리동 행정복지센터',\n",
       "       '대구시_봉덕3동 행정복지센터', '대구시_성당두산위브', '대구시_송현2동 행정복지센터', '대구시_수성의료지구',\n",
       "       '대구시_수성의료지구(대구도시공사)', '대구시_신암2동 행정복지센터', '대구시_안심1동 행정복지센터',\n",
       "       '대구시_안심3+4동 행정복지센터', '대구시_옥포읍 행정복지센터', '대구시_유가읍 행정복지센터', '대구시_중구청',\n",
       "       '대구시_지능형자동차부품진흥원', '대구시_지산2동', '대구시_진천삼성래미안', '대구시_차량등록사업소',\n",
       "       '대구시_침산푸르지오', '대구시_태전1동 행정복지센터', '대구시_하빈면사무소', '대구시_황금1동 행정복지센터',\n",
       "       '대구시_효목1동 행정복지센터', '대구시_KS택시주식회사', '대구시_남구 대명2 행정복지센터',\n",
       "       '대구시_남산2동 행정복지센터', '대구시_대구 지식산업센터', '대구시_대구유통단지 전자관',\n",
       "       '대구시_대구은행 본점', '대구시_대구테크노파크 신기술산업지원센터', '대구시_대명11동 행정복지센터',\n",
       "       '대구시_대봉2동 주민센터', '대구시_대현동 행정복지센터', '대구시_도평동 행정복지센터', '대구시_상호림공원',\n",
       "       '대구시_운암지 공영주차장', '대구시_월촌공원주차장', '대구시_유가읍행정복지센터', '대구시_장기공영주차장',\n",
       "       '대구시_저소득층 밀집지구 지식산업센터', '대구시_하빈면 사무소', '대구시_한국도로공사(유천IC)',\n",
       "       '대구시_공산동 행정복지센터', '대구시_내당4동', '대구시_대구시청', '대구시_두류3동', '대구시_범물1동',\n",
       "       '대구시_범어1동', '대구시_비산7동 행정복지센터', '대구시_산격1동', '대구시_삼덕동', '대구시_상리공원',\n",
       "       '대구시_상인3동', '대구시_신당동', '대구시_신매공원', '대구시_신암1동 행정복지센터', '대구시_지저동',\n",
       "       '대구시_칠성동', '대구시_태전2동', '대구시_효목2동', '대구시_고산2동 행정복지센터',\n",
       "       '대구시_도동 측백향커뮤니티센터', '대구시_수성소방서', '대구시_태전공원', '대구시_유천동 행정복지센터'],\n",
       "      dtype=object)"
      ]
     },
     "execution_count": 64,
     "metadata": {},
     "output_type": "execute_result"
    }
   ],
   "source": [
    "df['충전소명칭'].unique()"
   ]
  },
  {
   "cell_type": "code",
   "execution_count": 65,
   "id": "29c06339",
   "metadata": {
    "scrolled": true
   },
   "outputs": [
    {
     "data": {
      "text/plain": [
       "array([35.868863  , 35.871039  , 35.868986  , 35.867832  , 35.970269  ,\n",
       "       35.969378  , 35.886499  , 35.879732  , 35.859579  , 35.878178  ,\n",
       "       35.868609  , 35.918978  , 35.872283  , 35.990802  , 35.882356  ,\n",
       "       35.8786    , 35.873304  , 35.871114  , 35.887914  , 35.8794319 ,\n",
       "       35.910223  , 35.859146  , 35.87404   , 35.871971  , 35.885112  ,\n",
       "       35.884411  , 35.866906  , 35.868532  , 35.881244  , 35.87594   ,\n",
       "       35.832849  , 35.843106  , 35.853161  , 35.843826  , 35.83736   ,\n",
       "       35.901647  , 35.914312  , 35.885169  , 35.890633  , 35.905449  ,\n",
       "       35.941098  , 35.922086  , 35.938912  , 35.934361  , 35.928012  ,\n",
       "       35.901768  , 35.89429   , 35.883874  , 35.912199  , 35.8953058 ,\n",
       "       35.937279  , 35.94423   , 35.913423  , 35.901755  , 35.895363  ,\n",
       "       35.827257  , 35.858433  , 35.855826  , 35.855772  , 35.842703  ,\n",
       "       35.846451  , 35.828748  , 35.866726  , 35.809905  , 35.829676  ,\n",
       "       35.826187  , 35.821414  , 35.857629  , 35.839964  , 35.8291873 ,\n",
       "       35.855513  , 35.84735817, 35.83213374, 35.824869  , 35.844125  ,\n",
       "       35.82944   , 35.819733  , 35.844714  , 35.851926  , 35.83233   ,\n",
       "       35.849357  , 35.834556  , 35.798729  , 35.820763  , 35.858484  ,\n",
       "       35.853115  , 35.836629  , 35.812233  , 35.822252  , 35.85659   ,\n",
       "       35.857934  , 35.840549  , 35.831012  , 35.834894  , 35.819399  ,\n",
       "       35.812522  , 35.813175  , 35.829172  , 35.80763   , 35.802792  ,\n",
       "       35.696917  , 35.729684  , 35.773868  , 35.685199  , 35.86195   ,\n",
       "       35.782559  , 35.864005  , 35.890328  , 35.865282  , 35.86726918,\n",
       "       35.904501  , 35.89339   , 35.859872  , 35.87220852, 35.69407   ,\n",
       "       35.858186  , 35.774093  , 35.78913   , 35.875589  , 35.64072   ,\n",
       "       35.869652  , 35.803821  , 35.851047  , 35.896253  , 35.843413  ,\n",
       "       35.807555  , 35.836576  , 35.840846  , 35.884474  , 35.937327  ,\n",
       "       35.893525  , 35.855792  , 35.881917  , 35.846016  , 35.85991   ,\n",
       "       35.819104  , 35.894408  , 35.880994  , 35.814788  , 35.85531   ,\n",
       "       35.852301  , 35.84597   , 35.865581  , 35.91021944, 35.889936  ,\n",
       "       35.888987  , 35.921353  , 35.880036  , 35.841014  , 35.842419  ,\n",
       "       35.844279  , 35.832788  , 35.83427654, 35.83705572, 35.87998   ,\n",
       "       35.870334  , 35.870529  , 35.789587  , 35.69384506, 35.869326  ,\n",
       "       35.646025  , 35.823117  , 35.807018  , 35.86672073, 35.88590766,\n",
       "       35.924071  , 35.900922  , 35.843981  , 35.881862  , 35.84612   ,\n",
       "       35.864089  , 35.902404  , 35.90816324, 35.859196  , 35.833493  ,\n",
       "       35.836241  , 35.858762  , 35.8823276 , 35.83776353, 35.93148742,\n",
       "       35.812783  , 35.843349  , 35.835319  , 35.81085518, 35.940049  ,\n",
       "       35.859002  , 35.871528  , 35.853669  , 35.817729  , 35.855614  ,\n",
       "       35.887943  , 35.900442  , 35.865501  , 35.863071  , 35.810035  ,\n",
       "       35.858946  , 35.83252619, 35.884277  , 35.893359  , 35.879194  ,\n",
       "       35.921467  , 35.878139  , 35.843449  , 35.919051  , 35.82525101,\n",
       "       35.931466  , 35.817079  ])"
      ]
     },
     "execution_count": 65,
     "metadata": {},
     "output_type": "execute_result"
    }
   ],
   "source": [
    "df['위도'].unique()"
   ]
  },
  {
   "cell_type": "code",
   "execution_count": 66,
   "id": "39bd06b2",
   "metadata": {
    "scrolled": true
   },
   "outputs": [
    {
     "data": {
      "text/plain": [
       "array([128.600299 , 128.601444 , 128.581015 , 128.609096 , 128.725839 ,\n",
       "       128.726065 , 128.635956 , 128.632998 , 128.699723 , 128.736593 ,\n",
       "       128.680791 , 128.639976 , 128.70203  , 128.637078 , 128.671413 ,\n",
       "       128.649749 , 128.62504  , 128.6251   , 128.6221844, 128.6526291,\n",
       "       128.63941  , 128.541007 , 128.540583 , 128.558756 , 128.531275 ,\n",
       "       128.542192 , 128.545944 , 128.54476  , 128.569025 , 128.561308 ,\n",
       "       128.585379 , 128.587762 , 128.599083 , 128.601082 , 128.579219 ,\n",
       "       128.541827 , 128.542716 , 128.58269  , 128.60057  , 128.611857 ,\n",
       "       128.54481  , 128.548919 , 128.565813 , 128.539795 , 128.598231 ,\n",
       "       128.576858 , 128.602968 , 128.588519 , 128.521834 , 128.5172224,\n",
       "       128.558111 , 128.547317 , 128.627216 , 128.609292 , 128.625473 ,\n",
       "       128.62513  , 128.631104 , 128.649936 , 128.650062 , 128.70578  ,\n",
       "       128.625782 , 128.673994 , 128.63912  , 128.618785 , 128.621425 ,\n",
       "       128.609963 , 128.638152 , 128.658544 , 128.706352 , 128.6276902,\n",
       "       128.650646 , 128.6150542, 128.615414 , 128.63697  , 128.706596 ,\n",
       "       128.533013 , 128.541143 , 128.561737 , 128.525938 , 128.494688 ,\n",
       "       128.526174 , 128.4885   , 128.54877  , 128.495051 , 128.523058 ,\n",
       "       128.507573 , 128.54731  , 128.522513 , 128.554835 , 128.531153 ,\n",
       "       128.567245 , 128.552984 , 128.528488 , 128.540691 , 128.522769 ,\n",
       "       128.536095 , 128.545394 , 128.554933 , 128.532178 , 128.62256  ,\n",
       "       128.447912 , 128.453025 , 128.430902 , 128.465865 , 128.454281 ,\n",
       "       128.446878 , 128.437936 , 128.476664 , 128.46069  , 128.5745279,\n",
       "       128.609471 , 128.617592 , 128.647251 , 128.4942856, 128.505323 ,\n",
       "       128.580597 , 128.420312 , 128.463762 , 128.56327  , 128.419638 ,\n",
       "       128.574439 , 128.500522 , 128.542194 , 128.64097  , 128.695197 ,\n",
       "       128.517923 , 128.712493 , 128.543677 , 128.616257 , 128.558181 ,\n",
       "       128.60831  , 128.5398147, 128.58361  , 128.597695 , 128.585558 ,\n",
       "       128.540434 , 128.57153  , 128.614622 , 128.526255 , 128.586686 ,\n",
       "       128.579056 , 128.569508 , 128.576348 , 128.6501883, 128.649635 ,\n",
       "       128.589744 , 128.597046 , 128.665257 , 128.543167 , 128.59594  ,\n",
       "       128.545498 , 128.545582 , 128.6934631, 128.6812466, 128.612701 ,\n",
       "       128.701298 , 128.71083  , 128.463734 , 128.4598884, 128.606158 ,\n",
       "       128.400977 , 128.62802  , 128.517471 , 128.6391515, 128.5879862,\n",
       "       128.543235 , 128.445517 , 128.638144 , 128.64495  , 128.623417 ,\n",
       "       128.589564 , 128.579434 , 128.606681 , 128.614918 , 128.488693 ,\n",
       "       128.560636 , 128.599367 , 128.6059835, 128.4794008, 128.5650522,\n",
       "       128.548951 , 128.529975 , 128.682449 , 128.5015557, 128.644129 ,\n",
       "       128.551832 , 128.601494 , 128.555471 , 128.645963 , 128.622048 ,\n",
       "       128.553554 , 128.596994 , 128.608938 , 128.533954 , 128.550194 ,\n",
       "       128.498837 , 128.7096089, 128.616326 , 128.638268 , 128.599966 ,\n",
       "       128.548776 , 128.641241 , 128.695181 , 128.662238 , 128.6444477,\n",
       "       128.544637 , 128.513943 ])"
      ]
     },
     "execution_count": 66,
     "metadata": {},
     "output_type": "execute_result"
    }
   ],
   "source": [
    "df['경도'].unique()"
   ]
  },
  {
   "cell_type": "code",
   "execution_count": 76,
   "id": "6fbe9ee2",
   "metadata": {},
   "outputs": [
    {
     "data": {
      "text/plain": [
       "<folium.map.Marker at 0x241abb9e730>"
      ]
     },
     "execution_count": 76,
     "metadata": {},
     "output_type": "execute_result"
    }
   ],
   "source": [
    "# m2 = folium.Map(location=[35.868863,128.600299], zoom_strat=14)\n",
    "\n",
    "# 국채보상운동기념공원주차장\n",
    "folium.Marker([35.868863,128.600299]).add_to(m2)\n",
    "\n",
    "# 대구시청\n",
    "folium.Marker([35.871039,128.601444],\n",
    "               popup='<b>parking,/b').add_to(m2)\n",
    "\n",
    "# 서문주차빌딩\n",
    "folium.Marker([35.868986  ,128.581015 ],\n",
    "             tooltip='<i>서문주차빌딩</i>').add_to(m2)"
   ]
  },
  {
   "cell_type": "code",
   "execution_count": 77,
   "id": "1c91a79e",
   "metadata": {},
   "outputs": [
    {
     "data": {
      "text/html": [
       "<div style=\"width:100%;\"><div style=\"position:relative;width:100%;height:0;padding-bottom:60%;\"><span style=\"color:#565656\">Make this Notebook Trusted to load map: File -> Trust Notebook</span><iframe srcdoc=\"&lt;!DOCTYPE html&gt;\n",
       "&lt;head&gt;    \n",
       "    &lt;meta http-equiv=&quot;content-type&quot; content=&quot;text/html; charset=UTF-8&quot; /&gt;\n",
       "    \n",
       "        &lt;script&gt;\n",
       "            L_NO_TOUCH = false;\n",
       "            L_DISABLE_3D = false;\n",
       "        &lt;/script&gt;\n",
       "    \n",
       "    &lt;style&gt;html, body {width: 100%;height: 100%;margin: 0;padding: 0;}&lt;/style&gt;\n",
       "    &lt;style&gt;#map {position:absolute;top:0;bottom:0;right:0;left:0;}&lt;/style&gt;\n",
       "    &lt;script src=&quot;https://cdn.jsdelivr.net/npm/leaflet@1.6.0/dist/leaflet.js&quot;&gt;&lt;/script&gt;\n",
       "    &lt;script src=&quot;https://code.jquery.com/jquery-1.12.4.min.js&quot;&gt;&lt;/script&gt;\n",
       "    &lt;script src=&quot;https://maxcdn.bootstrapcdn.com/bootstrap/3.2.0/js/bootstrap.min.js&quot;&gt;&lt;/script&gt;\n",
       "    &lt;script src=&quot;https://cdnjs.cloudflare.com/ajax/libs/Leaflet.awesome-markers/2.0.2/leaflet.awesome-markers.js&quot;&gt;&lt;/script&gt;\n",
       "    &lt;link rel=&quot;stylesheet&quot; href=&quot;https://cdn.jsdelivr.net/npm/leaflet@1.6.0/dist/leaflet.css&quot;/&gt;\n",
       "    &lt;link rel=&quot;stylesheet&quot; href=&quot;https://maxcdn.bootstrapcdn.com/bootstrap/3.2.0/css/bootstrap.min.css&quot;/&gt;\n",
       "    &lt;link rel=&quot;stylesheet&quot; href=&quot;https://maxcdn.bootstrapcdn.com/bootstrap/3.2.0/css/bootstrap-theme.min.css&quot;/&gt;\n",
       "    &lt;link rel=&quot;stylesheet&quot; href=&quot;https://maxcdn.bootstrapcdn.com/font-awesome/4.6.3/css/font-awesome.min.css&quot;/&gt;\n",
       "    &lt;link rel=&quot;stylesheet&quot; href=&quot;https://cdnjs.cloudflare.com/ajax/libs/Leaflet.awesome-markers/2.0.2/leaflet.awesome-markers.css&quot;/&gt;\n",
       "    &lt;link rel=&quot;stylesheet&quot; href=&quot;https://cdn.jsdelivr.net/gh/python-visualization/folium/folium/templates/leaflet.awesome.rotate.min.css&quot;/&gt;\n",
       "    \n",
       "            &lt;meta name=&quot;viewport&quot; content=&quot;width=device-width,\n",
       "                initial-scale=1.0, maximum-scale=1.0, user-scalable=no&quot; /&gt;\n",
       "            &lt;style&gt;\n",
       "                #map_00056bce90d7af4e1cc17736ee4a0f71 {\n",
       "                    position: relative;\n",
       "                    width: 100.0%;\n",
       "                    height: 100.0%;\n",
       "                    left: 0.0%;\n",
       "                    top: 0.0%;\n",
       "                }\n",
       "            &lt;/style&gt;\n",
       "        \n",
       "&lt;/head&gt;\n",
       "&lt;body&gt;    \n",
       "    \n",
       "            &lt;div class=&quot;folium-map&quot; id=&quot;map_00056bce90d7af4e1cc17736ee4a0f71&quot; &gt;&lt;/div&gt;\n",
       "        \n",
       "&lt;/body&gt;\n",
       "&lt;script&gt;    \n",
       "    \n",
       "            var map_00056bce90d7af4e1cc17736ee4a0f71 = L.map(\n",
       "                &quot;map_00056bce90d7af4e1cc17736ee4a0f71&quot;,\n",
       "                {\n",
       "                    center: [35.868863, 128.600299],\n",
       "                    crs: L.CRS.EPSG3857,\n",
       "                    zoom: 10,\n",
       "                    zoomControl: true,\n",
       "                    preferCanvas: false,\n",
       "                    zoomStrat: 14,\n",
       "                }\n",
       "            );\n",
       "\n",
       "            \n",
       "\n",
       "        \n",
       "    \n",
       "            var tile_layer_6430f25d884e2bc5feca456af230089b = L.tileLayer(\n",
       "                &quot;https://{s}.tile.openstreetmap.org/{z}/{x}/{y}.png&quot;,\n",
       "                {&quot;attribution&quot;: &quot;Data by \\u0026copy; \\u003ca href=\\&quot;http://openstreetmap.org\\&quot;\\u003eOpenStreetMap\\u003c/a\\u003e, under \\u003ca href=\\&quot;http://www.openstreetmap.org/copyright\\&quot;\\u003eODbL\\u003c/a\\u003e.&quot;, &quot;detectRetina&quot;: false, &quot;maxNativeZoom&quot;: 18, &quot;maxZoom&quot;: 18, &quot;minZoom&quot;: 0, &quot;noWrap&quot;: false, &quot;opacity&quot;: 1, &quot;subdomains&quot;: &quot;abc&quot;, &quot;tms&quot;: false}\n",
       "            ).addTo(map_00056bce90d7af4e1cc17736ee4a0f71);\n",
       "        \n",
       "    \n",
       "            var marker_8249a185eb03861da2370747af62db33 = L.marker(\n",
       "                [35.868863, 128.600299],\n",
       "                {}\n",
       "            ).addTo(map_00056bce90d7af4e1cc17736ee4a0f71);\n",
       "        \n",
       "    \n",
       "            var marker_3d3321867d41c29f89c46217b31a673d = L.marker(\n",
       "                [35.868863, 128.600299],\n",
       "                {}\n",
       "            ).addTo(map_00056bce90d7af4e1cc17736ee4a0f71);\n",
       "        \n",
       "    \n",
       "        var popup_428868477bc9bf31ce26237c1af642fb = L.popup({&quot;maxWidth&quot;: &quot;100%&quot;});\n",
       "\n",
       "        \n",
       "            \n",
       "                var html_76d46c684aa6c6f927a0fbb7ee665b15 = $(`&lt;div id=&quot;html_76d46c684aa6c6f927a0fbb7ee665b15&quot; style=&quot;width: 100.0%; height: 100.0%;&quot;&gt;&lt;b&gt;parking,/b&lt;/div&gt;`)[0];\n",
       "                popup_428868477bc9bf31ce26237c1af642fb.setContent(html_76d46c684aa6c6f927a0fbb7ee665b15);\n",
       "            \n",
       "        \n",
       "\n",
       "        marker_3d3321867d41c29f89c46217b31a673d.bindPopup(popup_428868477bc9bf31ce26237c1af642fb)\n",
       "        ;\n",
       "\n",
       "        \n",
       "    \n",
       "    \n",
       "            var marker_4b196eec6d233384b785356495ba6dee = L.marker(\n",
       "                [35.868986, 128.581015],\n",
       "                {}\n",
       "            ).addTo(map_00056bce90d7af4e1cc17736ee4a0f71);\n",
       "        \n",
       "    \n",
       "            marker_4b196eec6d233384b785356495ba6dee.bindTooltip(\n",
       "                `&lt;div&gt;\n",
       "                     &lt;i&gt;서문주차빌딩&lt;/i&gt;\n",
       "                 &lt;/div&gt;`,\n",
       "                {&quot;sticky&quot;: true}\n",
       "            );\n",
       "        \n",
       "    \n",
       "            var marker_57d8fddfa9b3e8d8db4aa34a7d160633 = L.marker(\n",
       "                [35.868863, 128.600299],\n",
       "                {}\n",
       "            ).addTo(map_00056bce90d7af4e1cc17736ee4a0f71);\n",
       "        \n",
       "    \n",
       "            var marker_637b3612cafb4d0d085671f7eb91d489 = L.marker(\n",
       "                [35.868863, 128.600299],\n",
       "                {}\n",
       "            ).addTo(map_00056bce90d7af4e1cc17736ee4a0f71);\n",
       "        \n",
       "    \n",
       "        var popup_c429a9dfaa9ff273b27802b9716416cc = L.popup({&quot;maxWidth&quot;: &quot;100%&quot;});\n",
       "\n",
       "        \n",
       "            \n",
       "                var html_2d8d5e95ad7c2c17f25c5de840c48250 = $(`&lt;div id=&quot;html_2d8d5e95ad7c2c17f25c5de840c48250&quot; style=&quot;width: 100.0%; height: 100.0%;&quot;&gt;&lt;b&gt;parking,/b&lt;/div&gt;`)[0];\n",
       "                popup_c429a9dfaa9ff273b27802b9716416cc.setContent(html_2d8d5e95ad7c2c17f25c5de840c48250);\n",
       "            \n",
       "        \n",
       "\n",
       "        marker_637b3612cafb4d0d085671f7eb91d489.bindPopup(popup_c429a9dfaa9ff273b27802b9716416cc)\n",
       "        ;\n",
       "\n",
       "        \n",
       "    \n",
       "    \n",
       "            var marker_74779db4e2789c501531239a0b867911 = L.marker(\n",
       "                [35.868986, 128.581015],\n",
       "                {}\n",
       "            ).addTo(map_00056bce90d7af4e1cc17736ee4a0f71);\n",
       "        \n",
       "    \n",
       "            marker_74779db4e2789c501531239a0b867911.bindTooltip(\n",
       "                `&lt;div&gt;\n",
       "                     &lt;i&gt;서문주차빌딩&lt;/i&gt;\n",
       "                 &lt;/div&gt;`,\n",
       "                {&quot;sticky&quot;: true}\n",
       "            );\n",
       "        \n",
       "    \n",
       "            var marker_2432d3b2aaf63bc5d102c5028a364827 = L.marker(\n",
       "                [35.868863, 128.600299],\n",
       "                {}\n",
       "            ).addTo(map_00056bce90d7af4e1cc17736ee4a0f71);\n",
       "        \n",
       "    \n",
       "            var marker_0c768a96c091e5238f3eaad84c9a25ab = L.marker(\n",
       "                [35.871039, 128.601444],\n",
       "                {}\n",
       "            ).addTo(map_00056bce90d7af4e1cc17736ee4a0f71);\n",
       "        \n",
       "    \n",
       "        var popup_b3d71c59b83838136bb4d0d41f01edda = L.popup({&quot;maxWidth&quot;: &quot;100%&quot;});\n",
       "\n",
       "        \n",
       "            \n",
       "                var html_3b7c041dcaac6a3d2d75792e1f738ebb = $(`&lt;div id=&quot;html_3b7c041dcaac6a3d2d75792e1f738ebb&quot; style=&quot;width: 100.0%; height: 100.0%;&quot;&gt;&lt;b&gt;parking,/b&lt;/div&gt;`)[0];\n",
       "                popup_b3d71c59b83838136bb4d0d41f01edda.setContent(html_3b7c041dcaac6a3d2d75792e1f738ebb);\n",
       "            \n",
       "        \n",
       "\n",
       "        marker_0c768a96c091e5238f3eaad84c9a25ab.bindPopup(popup_b3d71c59b83838136bb4d0d41f01edda)\n",
       "        ;\n",
       "\n",
       "        \n",
       "    \n",
       "    \n",
       "            var marker_03649e593bfd53988cb9b055a9b03e19 = L.marker(\n",
       "                [35.868986, 128.581015],\n",
       "                {}\n",
       "            ).addTo(map_00056bce90d7af4e1cc17736ee4a0f71);\n",
       "        \n",
       "    \n",
       "            marker_03649e593bfd53988cb9b055a9b03e19.bindTooltip(\n",
       "                `&lt;div&gt;\n",
       "                     &lt;i&gt;서문주차빌딩&lt;/i&gt;\n",
       "                 &lt;/div&gt;`,\n",
       "                {&quot;sticky&quot;: true}\n",
       "            );\n",
       "        \n",
       "    \n",
       "            var marker_a3c3fc4636141e5d327416d9af544713 = L.marker(\n",
       "                [35.868863, 128.600299],\n",
       "                {}\n",
       "            ).addTo(map_00056bce90d7af4e1cc17736ee4a0f71);\n",
       "        \n",
       "    \n",
       "            var marker_0b074619a0f281674536428b5d572783 = L.marker(\n",
       "                [35.871039, 128.601444],\n",
       "                {}\n",
       "            ).addTo(map_00056bce90d7af4e1cc17736ee4a0f71);\n",
       "        \n",
       "    \n",
       "        var popup_b0869db37bf3de8369ec0880357a7639 = L.popup({&quot;maxWidth&quot;: &quot;100%&quot;});\n",
       "\n",
       "        \n",
       "            \n",
       "                var html_be742683bd7337464abee8cf863f6ef4 = $(`&lt;div id=&quot;html_be742683bd7337464abee8cf863f6ef4&quot; style=&quot;width: 100.0%; height: 100.0%;&quot;&gt;&lt;b&gt;parking,/b&lt;/div&gt;`)[0];\n",
       "                popup_b0869db37bf3de8369ec0880357a7639.setContent(html_be742683bd7337464abee8cf863f6ef4);\n",
       "            \n",
       "        \n",
       "\n",
       "        marker_0b074619a0f281674536428b5d572783.bindPopup(popup_b0869db37bf3de8369ec0880357a7639)\n",
       "        ;\n",
       "\n",
       "        \n",
       "    \n",
       "    \n",
       "            var marker_95a22d08473d24dbd2f5a859fd445a57 = L.marker(\n",
       "                [35.868986, 128.581015],\n",
       "                {}\n",
       "            ).addTo(map_00056bce90d7af4e1cc17736ee4a0f71);\n",
       "        \n",
       "    \n",
       "            marker_95a22d08473d24dbd2f5a859fd445a57.bindTooltip(\n",
       "                `&lt;div&gt;\n",
       "                     &lt;i&gt;서문주차빌딩&lt;/i&gt;\n",
       "                 &lt;/div&gt;`,\n",
       "                {&quot;sticky&quot;: true}\n",
       "            );\n",
       "        \n",
       "&lt;/script&gt;\" style=\"position:absolute;width:100%;height:100%;left:0;top:0;border:none !important;\" allowfullscreen webkitallowfullscreen mozallowfullscreen></iframe></div></div>"
      ],
      "text/plain": [
       "<folium.folium.Map at 0x241b181ba30>"
      ]
     },
     "execution_count": 77,
     "metadata": {},
     "output_type": "execute_result"
    }
   ],
   "source": [
    "m2"
   ]
  },
  {
   "cell_type": "code",
   "execution_count": 86,
   "id": "7533333a",
   "metadata": {},
   "outputs": [
    {
     "data": {
      "text/plain": [
       "array(['국채보상운동기념공원주차장', '대구시청', '서문주차빌딩', '동인동행정복지센터', '갓바위공영3주차장',\n",
       "       '갓바위공영5주차장', '동구청', '동대구복합환승센터', '율하체육공원3주차장', '첨단의료산업진흥재단',\n",
       "       '환경공단안심관리소', 'DTC섬유박물관', '반야월공영주차장', '파계사 공영주차장', '해안동 행정복지센터',\n",
       "       '동촌유원지 입구 주차장', '대구지식서비스센터', '상공회의소', '신암공원', '아양아트센터',\n",
       "       '불로봉무동행정복지센터', '대구의료원', '서구국민체육센터', '서구청', '충전인프라 관제센터',\n",
       "       '대구환경공단(달서천)', '상중이동 행정복지센터', '서대구산업단지 근로자복지회관', '비산1동행정복지센터',\n",
       "       '평리3동행정복지센터', '충혼탑 주차장', '대명5동 행정복지센터', '이천동행정복지센터', '봉덕2동행정복지센터',\n",
       "       '대명9동행정복지센터', '농수산물도매시장', '매천역환승공영주차장', '북구청', '시청별관', '패션센터 주차장',\n",
       "       '관음공영주차장', '대구 부광교회', '구암동 행정복지센터', '한국도로공사 칠곡영업소', '유니버시아드 레포츠센터',\n",
       "       '아이빌', '대구체육관 주차장', '대구은행 제2본점영업부', '대구사격장', '동림플라자', '동천동행정복지센터',\n",
       "       '관음동행정복지센터', '검단동행정복지센터', '산격2동행정복지센터', '복현2동행정복지센터',\n",
       "       '두산오거리(두산스포츠 북동편 도로면)', '수성구청', '수성대학교 입구 우', '수성대학교 입구 좌',\n",
       "       '시지근린공원(누리타운 서편 도로면)', '어린이회관', '외환들공영주차장', '차량등록사업소1',\n",
       "       '파동교네거리주차장', '대구환경공단(지산)', '대구은행 파동지점', '지산근린공원 주차장', '명복공원 주차장',\n",
       "       '대구은행 시지지점', '수성아트피아', '만촌3동행정복지센터', '중동행정복지센터', '상동행정복지센터',\n",
       "       '지산1동행정복지센터', '고산3동행정복지센터', '달서구청', '대구도시철도공사', '두류공원(성당휴게소)',\n",
       "       '서부법원 앞(롯데캐슬입구)', '성서체육공원주차장', '성서홈플러스', '시설안전관리사업소', '월광수변공원주차장',\n",
       "       '대구환경공단(본부)', '용산2동 행정복지센터', '차량등록사업소 서부분소', '대구은행 본리동지점',\n",
       "       '진천동 행정복지센터', '대덕승마장', '용산1동행정복지센터', '두류1+2동행정복지센터', '성당동행정복지센터',\n",
       "       '월성2동행정복지센터', '본동행정복지센터', '월성1동행정복지센터', '상인2동행정복지센터', '상인1동행정복지센터',\n",
       "       '송현1동행정복지센터', '도원동행정복지센터', '가창면행정복지센터', '현풍읍행정복지센터', '논공읍 논공공단출장소',\n",
       "       '달성군청', '대구과학관', '다사읍행정복지센터', '달성군 농업기술센터', '문양역 야외주차장',\n",
       "       '다사체육공원 주차장', '달성문화센터', '내당2+3동행정복지센터', '올브랜 주차장', '복현장미공원공영주차장',\n",
       "       '만촌2동행정복지센터', '다사읍행정복지센터 서재출장소', '비슬산자연휴양림공영주차장', '남산4동행정복지센터',\n",
       "       '논공읍행정복지센터', '옥포읍행정복지센터', '평리1동행정복지센터', '한국산업단지 달성출장소',\n",
       "       '비산4동행정복지센터', '화원읍행정복지센터', '감삼동행정복지센터', '아주운수', '고산2동행정복지센터',\n",
       "       '수목원삼성래미안', '신매공영주차장', '달서시장공영주차장', '신암1동행정복지센터', '대구시_동천동 행정복지센터',\n",
       "       '대구시_산격3동 행정복지센터', '대구시_죽전동 행정복지센터', '대구시_고성동 행정복지센터', '대구시_남구청',\n",
       "       '대구시_남산3동 행정복지센터', '대구시_대구도시철도공사', '대구시_대구은행 3공단영업부지점',\n",
       "       '대구시_대구은행 신암동지점', '대구시_대구은행 월배지점', '대구시_대명2동 행정복지센터',\n",
       "       '대구시_대명3동 행정복지센터', '대구시_대명4동 행정복지센터', '대구시_대신동 행정복지센터',\n",
       "       '대구시_도평동 공영주차장', '대구시_동촌동 행정복지센터', '대구시_명성푸르지오',\n",
       "       '대구시_무태조야동 행정복지센터', '대구시_방촌동 행정복지센터', '대구시_본리동 행정복지센터',\n",
       "       '대구시_봉덕3동 행정복지센터', '대구시_성당두산위브', '대구시_송현2동 행정복지센터', '대구시_수성의료지구',\n",
       "       '대구시_수성의료지구(대구도시공사)', '대구시_신암2동 행정복지센터', '대구시_안심1동 행정복지센터',\n",
       "       '대구시_안심3+4동 행정복지센터', '대구시_옥포읍 행정복지센터', '대구시_유가읍 행정복지센터', '대구시_중구청',\n",
       "       '대구시_지능형자동차부품진흥원', '대구시_지산2동', '대구시_진천삼성래미안', '대구시_차량등록사업소',\n",
       "       '대구시_침산푸르지오', '대구시_태전1동 행정복지센터', '대구시_하빈면사무소', '대구시_황금1동 행정복지센터',\n",
       "       '대구시_효목1동 행정복지센터', '대구시_KS택시주식회사', '대구시_남구 대명2 행정복지센터',\n",
       "       '대구시_남산2동 행정복지센터', '대구시_대구 지식산업센터', '대구시_대구유통단지 전자관',\n",
       "       '대구시_대구은행 본점', '대구시_대구테크노파크 신기술산업지원센터', '대구시_대명11동 행정복지센터',\n",
       "       '대구시_대봉2동 주민센터', '대구시_대현동 행정복지센터', '대구시_도평동 행정복지센터', '대구시_상호림공원',\n",
       "       '대구시_운암지 공영주차장', '대구시_월촌공원주차장', '대구시_유가읍행정복지센터', '대구시_장기공영주차장',\n",
       "       '대구시_저소득층 밀집지구 지식산업센터', '대구시_하빈면 사무소', '대구시_한국도로공사(유천IC)',\n",
       "       '대구시_공산동 행정복지센터', '대구시_내당4동', '대구시_대구시청', '대구시_두류3동', '대구시_범물1동',\n",
       "       '대구시_범어1동', '대구시_비산7동 행정복지센터', '대구시_산격1동', '대구시_삼덕동', '대구시_상리공원',\n",
       "       '대구시_상인3동', '대구시_신당동', '대구시_신매공원', '대구시_신암1동 행정복지센터', '대구시_지저동',\n",
       "       '대구시_칠성동', '대구시_태전2동', '대구시_효목2동', '대구시_고산2동 행정복지센터',\n",
       "       '대구시_도동 측백향커뮤니티센터', '대구시_수성소방서', '대구시_태전공원', '대구시_유천동 행정복지센터'],\n",
       "      dtype=object)"
      ]
     },
     "execution_count": 86,
     "metadata": {},
     "output_type": "execute_result"
    }
   ],
   "source": [
    "df['충전소명칭'].unique()"
   ]
  },
  {
   "cell_type": "code",
   "execution_count": 89,
   "id": "d6b19db8",
   "metadata": {
    "scrolled": false
   },
   "outputs": [
    {
     "data": {
      "text/plain": [
       "0          True\n",
       "1          True\n",
       "2          True\n",
       "3         False\n",
       "4         False\n",
       "          ...  \n",
       "295259    False\n",
       "295260    False\n",
       "295261    False\n",
       "295262    False\n",
       "295263    False\n",
       "Name: 충전소명칭, Length: 295264, dtype: bool"
      ]
     },
     "execution_count": 89,
     "metadata": {},
     "output_type": "execute_result"
    }
   ],
   "source": [
    "df['충전소명칭']=='국채보상운동기념공원주차장'"
   ]
  },
  {
   "cell_type": "code",
   "execution_count": 92,
   "id": "a2391587",
   "metadata": {},
   "outputs": [
    {
     "data": {
      "text/html": [
       "<div>\n",
       "<style scoped>\n",
       "    .dataframe tbody tr th:only-of-type {\n",
       "        vertical-align: middle;\n",
       "    }\n",
       "\n",
       "    .dataframe tbody tr th {\n",
       "        vertical-align: top;\n",
       "    }\n",
       "\n",
       "    .dataframe thead th {\n",
       "        text-align: right;\n",
       "    }\n",
       "</style>\n",
       "<table border=\"1\" class=\"dataframe\">\n",
       "  <thead>\n",
       "    <tr style=\"text-align: right;\">\n",
       "      <th></th>\n",
       "      <th>충전소명칭</th>\n",
       "      <th>위도</th>\n",
       "      <th>경도</th>\n",
       "    </tr>\n",
       "  </thead>\n",
       "  <tbody>\n",
       "    <tr>\n",
       "      <th>0</th>\n",
       "      <td>국채보상운동기념공원주차장</td>\n",
       "      <td>35.868863</td>\n",
       "      <td>128.600299</td>\n",
       "    </tr>\n",
       "    <tr>\n",
       "      <th>1</th>\n",
       "      <td>국채보상운동기념공원주차장</td>\n",
       "      <td>35.868863</td>\n",
       "      <td>128.600299</td>\n",
       "    </tr>\n",
       "    <tr>\n",
       "      <th>2</th>\n",
       "      <td>국채보상운동기념공원주차장</td>\n",
       "      <td>35.868863</td>\n",
       "      <td>128.600299</td>\n",
       "    </tr>\n",
       "    <tr>\n",
       "      <th>3</th>\n",
       "      <td>대구시청</td>\n",
       "      <td>35.871039</td>\n",
       "      <td>128.601444</td>\n",
       "    </tr>\n",
       "    <tr>\n",
       "      <th>4</th>\n",
       "      <td>대구시청</td>\n",
       "      <td>35.871039</td>\n",
       "      <td>128.601444</td>\n",
       "    </tr>\n",
       "    <tr>\n",
       "      <th>...</th>\n",
       "      <td>...</td>\n",
       "      <td>...</td>\n",
       "      <td>...</td>\n",
       "    </tr>\n",
       "    <tr>\n",
       "      <th>295259</th>\n",
       "      <td>대구시_KS택시주식회사</td>\n",
       "      <td>35.846120</td>\n",
       "      <td>128.623417</td>\n",
       "    </tr>\n",
       "    <tr>\n",
       "      <th>295260</th>\n",
       "      <td>대구시_KS택시주식회사</td>\n",
       "      <td>35.846120</td>\n",
       "      <td>128.623417</td>\n",
       "    </tr>\n",
       "    <tr>\n",
       "      <th>295261</th>\n",
       "      <td>대구시_KS택시주식회사</td>\n",
       "      <td>35.846120</td>\n",
       "      <td>128.623417</td>\n",
       "    </tr>\n",
       "    <tr>\n",
       "      <th>295262</th>\n",
       "      <td>대구시_KS택시주식회사</td>\n",
       "      <td>35.846120</td>\n",
       "      <td>128.623417</td>\n",
       "    </tr>\n",
       "    <tr>\n",
       "      <th>295263</th>\n",
       "      <td>대구시_KS택시주식회사</td>\n",
       "      <td>35.846120</td>\n",
       "      <td>128.623417</td>\n",
       "    </tr>\n",
       "  </tbody>\n",
       "</table>\n",
       "<p>295264 rows × 3 columns</p>\n",
       "</div>"
      ],
      "text/plain": [
       "                충전소명칭         위도          경도\n",
       "0       국채보상운동기념공원주차장  35.868863  128.600299\n",
       "1       국채보상운동기념공원주차장  35.868863  128.600299\n",
       "2       국채보상운동기념공원주차장  35.868863  128.600299\n",
       "3                대구시청  35.871039  128.601444\n",
       "4                대구시청  35.871039  128.601444\n",
       "...               ...        ...         ...\n",
       "295259   대구시_KS택시주식회사  35.846120  128.623417\n",
       "295260   대구시_KS택시주식회사  35.846120  128.623417\n",
       "295261   대구시_KS택시주식회사  35.846120  128.623417\n",
       "295262   대구시_KS택시주식회사  35.846120  128.623417\n",
       "295263   대구시_KS택시주식회사  35.846120  128.623417\n",
       "\n",
       "[295264 rows x 3 columns]"
      ]
     },
     "execution_count": 92,
     "metadata": {},
     "output_type": "execute_result"
    }
   ],
   "source": [
    "df1=df[['충전소명칭','위도','경도']]\n",
    "df1"
   ]
  },
  {
   "cell_type": "code",
   "execution_count": 94,
   "id": "afc7fe7f",
   "metadata": {},
   "outputs": [
    {
     "data": {
      "text/plain": [
       "0         국채보상운동기념공원주차장\n",
       "1         국채보상운동기념공원주차장\n",
       "2         국채보상운동기념공원주차장\n",
       "3                  대구시청\n",
       "4                  대구시청\n",
       "              ...      \n",
       "295259     대구시_KS택시주식회사\n",
       "295260     대구시_KS택시주식회사\n",
       "295261     대구시_KS택시주식회사\n",
       "295262     대구시_KS택시주식회사\n",
       "295263     대구시_KS택시주식회사\n",
       "Name: 충전소명칭, Length: 295264, dtype: object"
      ]
     },
     "execution_count": 94,
     "metadata": {},
     "output_type": "execute_result"
    }
   ],
   "source": [
    "df1.iloc[:,0]"
   ]
  },
  {
   "cell_type": "code",
   "execution_count": 95,
   "id": "ce07d390",
   "metadata": {},
   "outputs": [],
   "source": [
    "# alldf=df1.iloc[:,0]==국채보상운동기념공원주차장"
   ]
  },
  {
   "cell_type": "code",
   "execution_count": 107,
   "id": "354407a2",
   "metadata": {},
   "outputs": [],
   "source": [
    "# for i in range(,295264):\n",
    "#     df1.iloc[:i]"
   ]
  },
  {
   "cell_type": "code",
   "execution_count": 106,
   "id": "54f4eff4",
   "metadata": {},
   "outputs": [
    {
     "data": {
      "text/plain": [
       "0         국채보상운동기념공원주차장\n",
       "1         국채보상운동기념공원주차장\n",
       "2         국채보상운동기념공원주차장\n",
       "3                  대구시청\n",
       "4                  대구시청\n",
       "              ...      \n",
       "295259     대구시_KS택시주식회사\n",
       "295260     대구시_KS택시주식회사\n",
       "295261     대구시_KS택시주식회사\n",
       "295262     대구시_KS택시주식회사\n",
       "295263     대구시_KS택시주식회사\n",
       "Name: 충전소명칭, Length: 295264, dtype: object"
      ]
     },
     "execution_count": 106,
     "metadata": {},
     "output_type": "execute_result"
    }
   ],
   "source": [
    "df1.iloc[:,0]"
   ]
  },
  {
   "cell_type": "code",
   "execution_count": 105,
   "id": "dcb14cc2",
   "metadata": {},
   "outputs": [
    {
     "name": "stdout",
     "output_type": "stream",
     "text": [
      "장소를 입력해 주세요: 국채보상운동기념공원주차장\n"
     ]
    },
    {
     "ename": "IndexError",
     "evalue": ".iloc requires numeric indexers, got {0}",
     "output_type": "error",
     "traceback": [
      "\u001b[1;31m---------------------------------------------------------------------------\u001b[0m",
      "\u001b[1;31mIndexError\u001b[0m                                Traceback (most recent call last)",
      "Input \u001b[1;32mIn [105]\u001b[0m, in \u001b[0;36m<cell line: 2>\u001b[1;34m()\u001b[0m\n\u001b[0;32m      1\u001b[0m place\u001b[38;5;241m=\u001b[39m \u001b[38;5;28minput\u001b[39m(\u001b[38;5;124m'\u001b[39m\u001b[38;5;124m장소를 입력해 주세요: \u001b[39m\u001b[38;5;124m'\u001b[39m)\n\u001b[0;32m      2\u001b[0m \u001b[38;5;28;01mfor\u001b[39;00m i \u001b[38;5;129;01min\u001b[39;00m \u001b[38;5;28mrange\u001b[39m(\u001b[38;5;241m0\u001b[39m,\u001b[38;5;241m5\u001b[39m):\n\u001b[1;32m----> 3\u001b[0m     alldf\u001b[38;5;241m=\u001b[39m\u001b[43mdf1\u001b[49m\u001b[38;5;241;43m.\u001b[39;49m\u001b[43miloc\u001b[49m\u001b[43m[\u001b[49m\u001b[43m:\u001b[49m\u001b[43m,\u001b[49m\u001b[43m{\u001b[49m\u001b[43mi\u001b[49m\u001b[43m}\u001b[49m\u001b[43m]\u001b[49m\u001b[38;5;241m==\u001b[39m\u001b[38;5;124m'\u001b[39m\u001b[38;5;124mplace\u001b[39m\u001b[38;5;124m'\u001b[39m\n\u001b[0;32m      5\u001b[0m \u001b[38;5;28mprint\u001b[39m(alldf)\n",
      "File \u001b[1;32mC:\\ProgramData\\Anaconda3\\lib\\site-packages\\pandas\\core\\indexing.py:961\u001b[0m, in \u001b[0;36m_LocationIndexer.__getitem__\u001b[1;34m(self, key)\u001b[0m\n\u001b[0;32m    959\u001b[0m     \u001b[38;5;28;01mif\u001b[39;00m \u001b[38;5;28mself\u001b[39m\u001b[38;5;241m.\u001b[39m_is_scalar_access(key):\n\u001b[0;32m    960\u001b[0m         \u001b[38;5;28;01mreturn\u001b[39;00m \u001b[38;5;28mself\u001b[39m\u001b[38;5;241m.\u001b[39mobj\u001b[38;5;241m.\u001b[39m_get_value(\u001b[38;5;241m*\u001b[39mkey, takeable\u001b[38;5;241m=\u001b[39m\u001b[38;5;28mself\u001b[39m\u001b[38;5;241m.\u001b[39m_takeable)\n\u001b[1;32m--> 961\u001b[0m     \u001b[38;5;28;01mreturn\u001b[39;00m \u001b[38;5;28;43mself\u001b[39;49m\u001b[38;5;241;43m.\u001b[39;49m\u001b[43m_getitem_tuple\u001b[49m\u001b[43m(\u001b[49m\u001b[43mkey\u001b[49m\u001b[43m)\u001b[49m\n\u001b[0;32m    962\u001b[0m \u001b[38;5;28;01melse\u001b[39;00m:\n\u001b[0;32m    963\u001b[0m     \u001b[38;5;66;03m# we by definition only have the 0th axis\u001b[39;00m\n\u001b[0;32m    964\u001b[0m     axis \u001b[38;5;241m=\u001b[39m \u001b[38;5;28mself\u001b[39m\u001b[38;5;241m.\u001b[39maxis \u001b[38;5;129;01mor\u001b[39;00m \u001b[38;5;241m0\u001b[39m\n",
      "File \u001b[1;32mC:\\ProgramData\\Anaconda3\\lib\\site-packages\\pandas\\core\\indexing.py:1458\u001b[0m, in \u001b[0;36m_iLocIndexer._getitem_tuple\u001b[1;34m(self, tup)\u001b[0m\n\u001b[0;32m   1456\u001b[0m \u001b[38;5;28;01mdef\u001b[39;00m \u001b[38;5;21m_getitem_tuple\u001b[39m(\u001b[38;5;28mself\u001b[39m, tup: \u001b[38;5;28mtuple\u001b[39m):\n\u001b[1;32m-> 1458\u001b[0m     tup \u001b[38;5;241m=\u001b[39m \u001b[38;5;28;43mself\u001b[39;49m\u001b[38;5;241;43m.\u001b[39;49m\u001b[43m_validate_tuple_indexer\u001b[49m\u001b[43m(\u001b[49m\u001b[43mtup\u001b[49m\u001b[43m)\u001b[49m\n\u001b[0;32m   1459\u001b[0m     \u001b[38;5;28;01mwith\u001b[39;00m suppress(IndexingError):\n\u001b[0;32m   1460\u001b[0m         \u001b[38;5;28;01mreturn\u001b[39;00m \u001b[38;5;28mself\u001b[39m\u001b[38;5;241m.\u001b[39m_getitem_lowerdim(tup)\n",
      "File \u001b[1;32mC:\\ProgramData\\Anaconda3\\lib\\site-packages\\pandas\\core\\indexing.py:769\u001b[0m, in \u001b[0;36m_LocationIndexer._validate_tuple_indexer\u001b[1;34m(self, key)\u001b[0m\n\u001b[0;32m    767\u001b[0m \u001b[38;5;28;01mfor\u001b[39;00m i, k \u001b[38;5;129;01min\u001b[39;00m \u001b[38;5;28menumerate\u001b[39m(key):\n\u001b[0;32m    768\u001b[0m     \u001b[38;5;28;01mtry\u001b[39;00m:\n\u001b[1;32m--> 769\u001b[0m         \u001b[38;5;28;43mself\u001b[39;49m\u001b[38;5;241;43m.\u001b[39;49m\u001b[43m_validate_key\u001b[49m\u001b[43m(\u001b[49m\u001b[43mk\u001b[49m\u001b[43m,\u001b[49m\u001b[43m \u001b[49m\u001b[43mi\u001b[49m\u001b[43m)\u001b[49m\n\u001b[0;32m    770\u001b[0m     \u001b[38;5;28;01mexcept\u001b[39;00m \u001b[38;5;167;01mValueError\u001b[39;00m \u001b[38;5;28;01mas\u001b[39;00m err:\n\u001b[0;32m    771\u001b[0m         \u001b[38;5;28;01mraise\u001b[39;00m \u001b[38;5;167;01mValueError\u001b[39;00m(\n\u001b[0;32m    772\u001b[0m             \u001b[38;5;124m\"\u001b[39m\u001b[38;5;124mLocation based indexing can only have \u001b[39m\u001b[38;5;124m\"\u001b[39m\n\u001b[0;32m    773\u001b[0m             \u001b[38;5;124mf\u001b[39m\u001b[38;5;124m\"\u001b[39m\u001b[38;5;124m[\u001b[39m\u001b[38;5;132;01m{\u001b[39;00m\u001b[38;5;28mself\u001b[39m\u001b[38;5;241m.\u001b[39m_valid_types\u001b[38;5;132;01m}\u001b[39;00m\u001b[38;5;124m] types\u001b[39m\u001b[38;5;124m\"\u001b[39m\n\u001b[0;32m    774\u001b[0m         ) \u001b[38;5;28;01mfrom\u001b[39;00m \u001b[38;5;21;01merr\u001b[39;00m\n",
      "File \u001b[1;32mC:\\ProgramData\\Anaconda3\\lib\\site-packages\\pandas\\core\\indexing.py:1372\u001b[0m, in \u001b[0;36m_iLocIndexer._validate_key\u001b[1;34m(self, key, axis)\u001b[0m\n\u001b[0;32m   1370\u001b[0m \u001b[38;5;66;03m# check that the key has a numeric dtype\u001b[39;00m\n\u001b[0;32m   1371\u001b[0m \u001b[38;5;28;01mif\u001b[39;00m \u001b[38;5;129;01mnot\u001b[39;00m is_numeric_dtype(arr\u001b[38;5;241m.\u001b[39mdtype):\n\u001b[1;32m-> 1372\u001b[0m     \u001b[38;5;28;01mraise\u001b[39;00m \u001b[38;5;167;01mIndexError\u001b[39;00m(\u001b[38;5;124mf\u001b[39m\u001b[38;5;124m\"\u001b[39m\u001b[38;5;124m.iloc requires numeric indexers, got \u001b[39m\u001b[38;5;132;01m{\u001b[39;00marr\u001b[38;5;132;01m}\u001b[39;00m\u001b[38;5;124m\"\u001b[39m)\n\u001b[0;32m   1374\u001b[0m \u001b[38;5;66;03m# check that the key does not exceed the maximum size of the index\u001b[39;00m\n\u001b[0;32m   1375\u001b[0m \u001b[38;5;28;01mif\u001b[39;00m \u001b[38;5;28mlen\u001b[39m(arr) \u001b[38;5;129;01mand\u001b[39;00m (arr\u001b[38;5;241m.\u001b[39mmax() \u001b[38;5;241m>\u001b[39m\u001b[38;5;241m=\u001b[39m len_axis \u001b[38;5;129;01mor\u001b[39;00m arr\u001b[38;5;241m.\u001b[39mmin() \u001b[38;5;241m<\u001b[39m \u001b[38;5;241m-\u001b[39mlen_axis):\n",
      "\u001b[1;31mIndexError\u001b[0m: .iloc requires numeric indexers, got {0}"
     ]
    }
   ],
   "source": [
    "place= input('장소를 입력해 주세요: ')\n",
    "for i in range(0,5):\n",
    "    alldf=df1.iloc[:,{i}]=='place'\n",
    "\n",
    "print(alldf)"
   ]
  },
  {
   "cell_type": "code",
   "execution_count": null,
   "id": "3924f851",
   "metadata": {},
   "outputs": [],
   "source": []
  },
  {
   "cell_type": "code",
   "execution_count": null,
   "id": "ba8c9c62",
   "metadata": {},
   "outputs": [],
   "source": []
  },
  {
   "cell_type": "code",
   "execution_count": null,
   "id": "0206cd3e",
   "metadata": {},
   "outputs": [],
   "source": []
  }
 ],
 "metadata": {
  "kernelspec": {
   "display_name": "Python 3 (ipykernel)",
   "language": "python",
   "name": "python3"
  },
  "language_info": {
   "codemirror_mode": {
    "name": "ipython",
    "version": 3
   },
   "file_extension": ".py",
   "mimetype": "text/x-python",
   "name": "python",
   "nbconvert_exporter": "python",
   "pygments_lexer": "ipython3",
   "version": "3.9.12"
  }
 },
 "nbformat": 4,
 "nbformat_minor": 5
}
