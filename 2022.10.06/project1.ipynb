{
 "cells": [
  {
   "cell_type": "code",
   "execution_count": 1,
   "id": "d63a3ffd",
   "metadata": {},
   "outputs": [],
   "source": [
    "import pandas as pd"
   ]
  },
  {
   "cell_type": "code",
   "execution_count": 2,
   "id": "976b1417",
   "metadata": {},
   "outputs": [],
   "source": [
    "DIR='./beachpredict.csv'"
   ]
  },
  {
   "cell_type": "code",
   "execution_count": 3,
   "id": "db861602",
   "metadata": {},
   "outputs": [],
   "source": [
    "df=pd.read_csv(DIR)"
   ]
  },
  {
   "cell_type": "code",
   "execution_count": 4,
   "id": "d6302b2f",
   "metadata": {},
   "outputs": [
    {
     "name": "stdout",
     "output_type": "stream",
     "text": [
      "<class 'pandas.core.frame.DataFrame'>\n",
      "RangeIndex: 2099 entries, 0 to 2098\n",
      "Data columns (total 17 columns):\n",
      " #   Column         Non-Null Count  Dtype  \n",
      "---  ------         --------------  -----  \n",
      " 0   일시             2099 non-null   object \n",
      " 1   지점             2006 non-null   object \n",
      " 2   평균 풍속(m/s)     1986 non-null   float64\n",
      " 3   평균 상대습도(%)     1926 non-null   float64\n",
      " 4   평균 기온(°C)      1920 non-null   float64\n",
      " 5   평균 수온(°C)      1987 non-null   float64\n",
      " 6   지점.1           2099 non-null   object \n",
      " 7   일강수량(mm)       617 non-null    float64\n",
      " 8   합계 일조시간(hr)    2097 non-null   float64\n",
      " 9   지점.2           2041 non-null   object \n",
      " 10  평균 풍속(m/s).1   1998 non-null   float64\n",
      " 11  평균 상대습도(%).1   1985 non-null   float64\n",
      " 12  평균 기온(°C).1    2038 non-null   float64\n",
      " 13  평균 수온(°C).1    2034 non-null   float64\n",
      " 14  지점.3           2099 non-null   object \n",
      " 15  일강수량(mm).1     686 non-null    float64\n",
      " 16  합계 일조시간(hr).1  2091 non-null   float64\n",
      "dtypes: float64(12), object(5)\n",
      "memory usage: 278.9+ KB\n",
      "None\n",
      "------------------------------------------------------------------\n",
      "           일시  지점  평균 풍속(m/s)  평균 상대습도(%)  평균 기온(°C)  평균 수온(°C) 지점.1  \\\n",
      "0  2017-01-01  거제         3.3        60.0        9.8       15.3   거제   \n",
      "1  2017-01-02  거제         5.1        66.0       12.0       15.4   거제   \n",
      "2  2017-01-03  거제         4.6        53.0       10.8       15.0   거제   \n",
      "3  2017-01-04  거제         5.2        54.0       11.3       15.6   거제   \n",
      "4  2017-01-05  거제        10.0        72.0       11.8        NaN   거제   \n",
      "\n",
      "   일강수량(mm)  합계 일조시간(hr) 지점.2  평균 풍속(m/s).1  평균 상대습도(%).1  평균 기온(°C).1  \\\n",
      "0       NaN          7.0   통영           NaN          62.0          9.4   \n",
      "1       NaN          6.5   통영           NaN          65.0         12.0   \n",
      "2       NaN          7.3   통영           4.8          58.0          9.6   \n",
      "3       NaN          6.5   통영           4.2          49.0         10.5   \n",
      "4       NaN          0.9   통영           8.9          68.0         11.1   \n",
      "\n",
      "   평균 수온(°C).1 지점.3  일강수량(mm).1  합계 일조시간(hr).1  \n",
      "0         17.3   통영         NaN            8.6  \n",
      "1         16.8   통영         NaN            6.9  \n",
      "2         15.3   통영         NaN            8.7  \n",
      "3         13.9   통영         NaN            7.7  \n",
      "4         13.8   통영         NaN            2.3  \n"
     ]
    }
   ],
   "source": [
    "print(df.info())\n",
    "print('------------------------------------------------------------------')\n",
    "print(df.head())"
   ]
  },
  {
   "cell_type": "code",
   "execution_count": 5,
   "id": "a663dd75",
   "metadata": {
    "scrolled": true
   },
   "outputs": [
    {
     "data": {
      "text/plain": [
       "일시                  0\n",
       "지점                 93\n",
       "평균 풍속(m/s)        113\n",
       "평균 상대습도(%)        173\n",
       "평균 기온(°C)         179\n",
       "평균 수온(°C)         112\n",
       "지점.1                0\n",
       "일강수량(mm)         1482\n",
       "합계 일조시간(hr)         2\n",
       "지점.2               58\n",
       "평균 풍속(m/s).1      101\n",
       "평균 상대습도(%).1      114\n",
       "평균 기온(°C).1        61\n",
       "평균 수온(°C).1        65\n",
       "지점.3                0\n",
       "일강수량(mm).1       1413\n",
       "합계 일조시간(hr).1       8\n",
       "dtype: int64"
      ]
     },
     "execution_count": 5,
     "metadata": {},
     "output_type": "execute_result"
    }
   ],
   "source": [
    "df.isnull().sum()"
   ]
  },
  {
   "cell_type": "code",
   "execution_count": 6,
   "id": "12a93dce",
   "metadata": {},
   "outputs": [],
   "source": [
    "df.drop(['지점.1', '지점.3'], axis=1, inplace=True)"
   ]
  },
  {
   "cell_type": "code",
   "execution_count": 7,
   "id": "375efe4d",
   "metadata": {
    "scrolled": true
   },
   "outputs": [],
   "source": [
    "df['일강수량(mm)'].fillna(0 , inplace=True)\n",
    "df['일강수량(mm).1'].fillna(0 , inplace=True)"
   ]
  },
  {
   "cell_type": "code",
   "execution_count": 8,
   "id": "602c146c",
   "metadata": {},
   "outputs": [
    {
     "name": "stdout",
     "output_type": "stream",
     "text": [
      "0\n",
      "0\n"
     ]
    }
   ],
   "source": [
    "print(df['일강수량(mm)'].isnull().sum())\n",
    "print(df['일강수량(mm).1'].isnull().sum())"
   ]
  },
  {
   "cell_type": "code",
   "execution_count": 9,
   "id": "8b082511",
   "metadata": {},
   "outputs": [],
   "source": [
    "# 중앙값 대체\n",
    "df['평균 풍속(m/s)'].fillna(df['평균 풍속(m/s)'].mean(), inplace=True)\n",
    "df['평균 상대습도(%)'].fillna(df['평균 상대습도(%)'].mean(), inplace=True)\n",
    "df['평균 기온(°C)'].fillna(df['평균 기온(°C)'].mean(), inplace=True)\n",
    "df['평균 수온(°C)'].fillna(df['평균 수온(°C)'].mean(), inplace=True)\n",
    "df['평균 풍속(m/s).1'].fillna(df['평균 풍속(m/s).1'].mean(), inplace=True)\n",
    "df['평균 상대습도(%).1'].fillna(df['평균 상대습도(%).1'].mean(), inplace=True)\n",
    "df['평균 기온(°C).1'].fillna(df['평균 기온(°C).1'].mean(), inplace=True)\n",
    "df['평균 수온(°C).1'].fillna(df['평균 수온(°C).1'].mean(), inplace=True)"
   ]
  },
  {
   "cell_type": "code",
   "execution_count": 10,
   "id": "078b9a2b",
   "metadata": {},
   "outputs": [
    {
     "data": {
      "text/plain": [
       "일시                0\n",
       "지점               93\n",
       "평균 풍속(m/s)        0\n",
       "평균 상대습도(%)        0\n",
       "평균 기온(°C)         0\n",
       "평균 수온(°C)         0\n",
       "일강수량(mm)          0\n",
       "합계 일조시간(hr)       2\n",
       "지점.2             58\n",
       "평균 풍속(m/s).1      0\n",
       "평균 상대습도(%).1      0\n",
       "평균 기온(°C).1       0\n",
       "평균 수온(°C).1       0\n",
       "일강수량(mm).1        0\n",
       "합계 일조시간(hr).1     8\n",
       "dtype: int64"
      ]
     },
     "execution_count": 10,
     "metadata": {},
     "output_type": "execute_result"
    }
   ],
   "source": [
    "df.isnull().sum()"
   ]
  },
  {
   "cell_type": "code",
   "execution_count": 11,
   "id": "494031c1",
   "metadata": {},
   "outputs": [
    {
     "data": {
      "text/plain": [
       "0        7.0\n",
       "1        6.5\n",
       "2        7.3\n",
       "3        6.5\n",
       "4        0.9\n",
       "        ... \n",
       "2094     0.2\n",
       "2095     3.5\n",
       "2096     3.7\n",
       "2097    10.4\n",
       "2098    10.4\n",
       "Name: 합계 일조시간(hr), Length: 2099, dtype: float64"
      ]
     },
     "execution_count": 11,
     "metadata": {},
     "output_type": "execute_result"
    }
   ],
   "source": [
    "df['합계 일조시간(hr)']"
   ]
  },
  {
   "cell_type": "code",
   "execution_count": 12,
   "id": "4d085e03",
   "metadata": {},
   "outputs": [],
   "source": [
    "df['합계 일조시간(hr)'].fillna(df['합계 일조시간(hr)'].mean(), inplace=True)\n",
    "df['합계 일조시간(hr).1'].fillna(df['합계 일조시간(hr).1'].mean(), inplace=True)"
   ]
  },
  {
   "cell_type": "code",
   "execution_count": 13,
   "id": "534efd06",
   "metadata": {},
   "outputs": [
    {
     "data": {
      "text/plain": [
       "일시                0\n",
       "지점               93\n",
       "평균 풍속(m/s)        0\n",
       "평균 상대습도(%)        0\n",
       "평균 기온(°C)         0\n",
       "평균 수온(°C)         0\n",
       "일강수량(mm)          0\n",
       "합계 일조시간(hr)       0\n",
       "지점.2             58\n",
       "평균 풍속(m/s).1      0\n",
       "평균 상대습도(%).1      0\n",
       "평균 기온(°C).1       0\n",
       "평균 수온(°C).1       0\n",
       "일강수량(mm).1        0\n",
       "합계 일조시간(hr).1     0\n",
       "dtype: int64"
      ]
     },
     "execution_count": 13,
     "metadata": {},
     "output_type": "execute_result"
    }
   ],
   "source": [
    "df.isnull().sum()"
   ]
  },
  {
   "cell_type": "code",
   "execution_count": 14,
   "id": "b6dd5412",
   "metadata": {},
   "outputs": [],
   "source": [
    "df['지점'].fillna('거제', inplace=True)\n",
    "df['지점.2'].fillna('통영', inplace=True)"
   ]
  },
  {
   "cell_type": "code",
   "execution_count": 15,
   "id": "24fb4ea4",
   "metadata": {},
   "outputs": [
    {
     "data": {
      "text/plain": [
       "일시               0\n",
       "지점               0\n",
       "평균 풍속(m/s)       0\n",
       "평균 상대습도(%)       0\n",
       "평균 기온(°C)        0\n",
       "평균 수온(°C)        0\n",
       "일강수량(mm)         0\n",
       "합계 일조시간(hr)      0\n",
       "지점.2             0\n",
       "평균 풍속(m/s).1     0\n",
       "평균 상대습도(%).1     0\n",
       "평균 기온(°C).1      0\n",
       "평균 수온(°C).1      0\n",
       "일강수량(mm).1       0\n",
       "합계 일조시간(hr).1    0\n",
       "dtype: int64"
      ]
     },
     "execution_count": 15,
     "metadata": {},
     "output_type": "execute_result"
    }
   ],
   "source": [
    "df.isnull().sum()"
   ]
  },
  {
   "cell_type": "code",
   "execution_count": null,
   "id": "d8c06ab1",
   "metadata": {},
   "outputs": [],
   "source": []
  }
 ],
 "metadata": {
  "kernelspec": {
   "display_name": "Python 3 (ipykernel)",
   "language": "python",
   "name": "python3"
  },
  "language_info": {
   "codemirror_mode": {
    "name": "ipython",
    "version": 3
   },
   "file_extension": ".py",
   "mimetype": "text/x-python",
   "name": "python",
   "nbconvert_exporter": "python",
   "pygments_lexer": "ipython3",
   "version": "3.9.12"
  }
 },
 "nbformat": 4,
 "nbformat_minor": 5
}
