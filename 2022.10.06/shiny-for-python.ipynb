{
 "cells": [
  {
   "cell_type": "code",
   "execution_count": 5,
   "id": "8e809cb2",
   "metadata": {},
   "outputs": [],
   "source": [
    "# $pip install --upgrade pip wheel"
   ]
  },
  {
   "cell_type": "code",
   "execution_count": 6,
   "id": "a3ea9ab1",
   "metadata": {},
   "outputs": [],
   "source": [
    "# $pip install shiny"
   ]
  },
  {
   "cell_type": "code",
   "execution_count": 7,
   "id": "65b75cb8",
   "metadata": {},
   "outputs": [],
   "source": [
    "# $shiny create my_app"
   ]
  },
  {
   "cell_type": "code",
   "execution_count": 8,
   "id": "555860e9",
   "metadata": {},
   "outputs": [],
   "source": [
    "# $cd my_app"
   ]
  },
  {
   "cell_type": "code",
   "execution_count": 9,
   "id": "a23ca062",
   "metadata": {},
   "outputs": [],
   "source": [
    "# $shiny run --reload app.py"
   ]
  },
  {
   "cell_type": "markdown",
   "id": "34ca97e5",
   "metadata": {},
   "source": [
    "### 참고\n",
    "https://blog.zarathu.com/posts/2022-08-26-shinyforpython/"
   ]
  },
  {
   "cell_type": "code",
   "execution_count": null,
   "id": "14d6fef8",
   "metadata": {},
   "outputs": [],
   "source": []
  },
  {
   "cell_type": "code",
   "execution_count": null,
   "id": "1a4108e7",
   "metadata": {},
   "outputs": [],
   "source": []
  }
 ],
 "metadata": {
  "kernelspec": {
   "display_name": "Python 3 (ipykernel)",
   "language": "python",
   "name": "python3"
  },
  "language_info": {
   "codemirror_mode": {
    "name": "ipython",
    "version": 3
   },
   "file_extension": ".py",
   "mimetype": "text/x-python",
   "name": "python",
   "nbconvert_exporter": "python",
   "pygments_lexer": "ipython3",
   "version": "3.9.12"
  }
 },
 "nbformat": 4,
 "nbformat_minor": 5
}
