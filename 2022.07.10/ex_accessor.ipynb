{
 "cells": [
  {
   "cell_type": "markdown",
   "id": "a3ad83e7",
   "metadata": {},
   "source": [
    "# 접근자(Accessor) 실습 ------------------------\n",
    "\n",
    "-DF/SR에 속성으로 제공되며 다른 객체의 기능/속성을 사용할 수 있도록 해줌\n",
    "\n",
    "- 종류\n",
    "    - Series.dt   : datetime 관련 속성 사용 할 수 있도록 해줌\n",
    "    - Series.str  : string 관련 메서드 사용 할 수 있도록 해줌\n",
    "    - DataFrame.spare : spare 관련 속성/메서드 사용 할 수 있도록 해줌"
   ]
  },
  {
   "cell_type": "code",
   "execution_count": 12,
   "id": "2580ad4c",
   "metadata": {},
   "outputs": [],
   "source": [
    "# 모듈 로딩 -------------------------------------------------------\n",
    "import pandas as pd, random\n",
    "\n",
    "# 데이터 생성 -----------------------------------------------------\n",
    "# 이름, 생년월일, 나이 3개 컬럼으로 구성\n",
    "# 10명 \n",
    "# 생년월일 : 동년해, 동일날짜   <- date_range() - 'birth' : pd.date_range('2022-01-10', preiods=10, freq='M')\n",
    "# 이름 : 영문 (예: Tom Kim)       -   'age' : [random.randint(17,25) for count in range(10)]"
   ]
  },
  {
   "cell_type": "code",
   "execution_count": 15,
   "id": "9d3b0112",
   "metadata": {},
   "outputs": [
    {
     "name": "stdout",
     "output_type": "stream",
     "text": [
      "<class 'pandas.core.frame.DataFrame'>\n",
      "RangeIndex: 10 entries, 0 to 9\n",
      "Data columns (total 3 columns):\n",
      " #   Column  Non-Null Count  Dtype         \n",
      "---  ------  --------------  -----         \n",
      " 0   name    10 non-null     object        \n",
      " 1   birth   10 non-null     datetime64[ns]\n",
      " 2   age     10 non-null     int64         \n",
      "dtypes: datetime64[ns](1), int64(1), object(1)\n",
      "memory usage: 368.0+ bytes\n"
     ]
    }
   ],
   "source": [
    "df=pd.DataFrame({'name': ['HoJin Lee', 'GilDong Hong', 'Tom', 'Lee', 'Annan Jung', 'SangUn Shin', 'BungJun Park', 'MinSu Shin', 'Choi', 'Kang'],\n",
    "                 'birth' : pd.date_range('2022-01-10', periods=10, freq='M'),\n",
    "                 'age' : [random.randint(17,25) for count in range(10)]})\n",
    "df.info()"
   ]
  },
  {
   "cell_type": "code",
   "execution_count": 16,
   "id": "ac356bdd",
   "metadata": {},
   "outputs": [
    {
     "data": {
      "text/html": [
       "<div>\n",
       "<style scoped>\n",
       "    .dataframe tbody tr th:only-of-type {\n",
       "        vertical-align: middle;\n",
       "    }\n",
       "\n",
       "    .dataframe tbody tr th {\n",
       "        vertical-align: top;\n",
       "    }\n",
       "\n",
       "    .dataframe thead th {\n",
       "        text-align: right;\n",
       "    }\n",
       "</style>\n",
       "<table border=\"1\" class=\"dataframe\">\n",
       "  <thead>\n",
       "    <tr style=\"text-align: right;\">\n",
       "      <th></th>\n",
       "      <th>name</th>\n",
       "      <th>birth</th>\n",
       "      <th>age</th>\n",
       "    </tr>\n",
       "  </thead>\n",
       "  <tbody>\n",
       "    <tr>\n",
       "      <th>0</th>\n",
       "      <td>HoJin Lee</td>\n",
       "      <td>2022-01-31</td>\n",
       "      <td>18</td>\n",
       "    </tr>\n",
       "    <tr>\n",
       "      <th>1</th>\n",
       "      <td>GilDong Hong</td>\n",
       "      <td>2022-02-28</td>\n",
       "      <td>17</td>\n",
       "    </tr>\n",
       "    <tr>\n",
       "      <th>2</th>\n",
       "      <td>Tom</td>\n",
       "      <td>2022-03-31</td>\n",
       "      <td>20</td>\n",
       "    </tr>\n",
       "    <tr>\n",
       "      <th>3</th>\n",
       "      <td>Lee</td>\n",
       "      <td>2022-04-30</td>\n",
       "      <td>19</td>\n",
       "    </tr>\n",
       "    <tr>\n",
       "      <th>4</th>\n",
       "      <td>Annan Jung</td>\n",
       "      <td>2022-05-31</td>\n",
       "      <td>22</td>\n",
       "    </tr>\n",
       "    <tr>\n",
       "      <th>5</th>\n",
       "      <td>SangUn Shin</td>\n",
       "      <td>2022-06-30</td>\n",
       "      <td>22</td>\n",
       "    </tr>\n",
       "    <tr>\n",
       "      <th>6</th>\n",
       "      <td>BungJun Park</td>\n",
       "      <td>2022-07-31</td>\n",
       "      <td>25</td>\n",
       "    </tr>\n",
       "    <tr>\n",
       "      <th>7</th>\n",
       "      <td>MinSu Shin</td>\n",
       "      <td>2022-08-31</td>\n",
       "      <td>21</td>\n",
       "    </tr>\n",
       "    <tr>\n",
       "      <th>8</th>\n",
       "      <td>Choi</td>\n",
       "      <td>2022-09-30</td>\n",
       "      <td>24</td>\n",
       "    </tr>\n",
       "    <tr>\n",
       "      <th>9</th>\n",
       "      <td>Kang</td>\n",
       "      <td>2022-10-31</td>\n",
       "      <td>22</td>\n",
       "    </tr>\n",
       "  </tbody>\n",
       "</table>\n",
       "</div>"
      ],
      "text/plain": [
       "           name      birth  age\n",
       "0     HoJin Lee 2022-01-31   18\n",
       "1  GilDong Hong 2022-02-28   17\n",
       "2           Tom 2022-03-31   20\n",
       "3           Lee 2022-04-30   19\n",
       "4    Annan Jung 2022-05-31   22\n",
       "5   SangUn Shin 2022-06-30   22\n",
       "6  BungJun Park 2022-07-31   25\n",
       "7    MinSu Shin 2022-08-31   21\n",
       "8          Choi 2022-09-30   24\n",
       "9          Kang 2022-10-31   22"
      ]
     },
     "execution_count": 16,
     "metadata": {},
     "output_type": "execute_result"
    }
   ],
   "source": [
    "df"
   ]
  },
  {
   "cell_type": "code",
   "execution_count": 18,
   "id": "2dcfa607",
   "metadata": {},
   "outputs": [
    {
     "data": {
      "text/plain": [
       "name             object\n",
       "birth    datetime64[ns]\n",
       "age               int64\n",
       "dtype: object"
      ]
     },
     "execution_count": 18,
     "metadata": {},
     "output_type": "execute_result"
    }
   ],
   "source": [
    "df.dtypes"
   ]
  },
  {
   "cell_type": "code",
   "execution_count": 19,
   "id": "b87d9459",
   "metadata": {},
   "outputs": [
    {
     "data": {
      "text/plain": [
       "('HoJin Lee', str)"
      ]
     },
     "execution_count": 19,
     "metadata": {},
     "output_type": "execute_result"
    }
   ],
   "source": [
    "df['name'][0], type(df['name'][0])"
   ]
  },
  {
   "cell_type": "code",
   "execution_count": 20,
   "id": "ed923225",
   "metadata": {},
   "outputs": [
    {
     "data": {
      "text/plain": [
       "['HoJin', 'Lee']"
      ]
     },
     "execution_count": 20,
     "metadata": {},
     "output_type": "execute_result"
    }
   ],
   "source": [
    "df['name'][0].split()"
   ]
  },
  {
   "cell_type": "code",
   "execution_count": 22,
   "id": "5fd92b31",
   "metadata": {},
   "outputs": [
    {
     "data": {
      "text/plain": [
       "(25, 21.0)"
      ]
     },
     "execution_count": 22,
     "metadata": {},
     "output_type": "execute_result"
    }
   ],
   "source": [
    "df['age'].max(), df['age'].mean()"
   ]
  },
  {
   "cell_type": "markdown",
   "id": "c266f8a9",
   "metadata": {},
   "source": [
    "## str 데이터로 구성된 컬럼(Series)의 str 접근자 --\n",
    "\n",
    "- 전체 컬럼의 요소에 str관련 메서드 사용 가능하도록 하는 접근자\n",
    "- 사용법\n",
    "        - 객체변수[컬럼명].str.메서드() => upper, lower, splitn replace,....\n",
    "        - 객체변수[컬럼명].str.get(인덱스) => 분리 문자리스트에서 특정 요소 추출"
   ]
  },
  {
   "cell_type": "code",
   "execution_count": 23,
   "id": "4f48ec8d",
   "metadata": {},
   "outputs": [
    {
     "data": {
      "text/plain": [
       "0       [HoJin, Lee]\n",
       "1    [GilDong, Hong]\n",
       "2              [Tom]\n",
       "3              [Lee]\n",
       "4      [Annan, Jung]\n",
       "5     [SangUn, Shin]\n",
       "6    [BungJun, Park]\n",
       "7      [MinSu, Shin]\n",
       "8             [Choi]\n",
       "9             [Kang]\n",
       "Name: name, dtype: object"
      ]
     },
     "execution_count": 23,
     "metadata": {},
     "output_type": "execute_result"
    }
   ],
   "source": [
    "# 문자열 분리 ------------------------\n",
    "df['name'].str.split()"
   ]
  },
  {
   "cell_type": "code",
   "execution_count": 25,
   "id": "63e74aa1",
   "metadata": {},
   "outputs": [
    {
     "data": {
      "text/plain": [
       "(0       HOJIN LEE\n",
       " 1    GILDONG HONG\n",
       " 2             TOM\n",
       " 3             LEE\n",
       " 4      ANNAN JUNG\n",
       " 5     SANGUN SHIN\n",
       " 6    BUNGJUN PARK\n",
       " 7      MINSU SHIN\n",
       " 8            CHOI\n",
       " 9            KANG\n",
       " Name: name, dtype: object,\n",
       " 0    False\n",
       " 1    False\n",
       " 2    False\n",
       " 3    False\n",
       " 4     True\n",
       " 5     True\n",
       " 6     True\n",
       " 7    False\n",
       " 8    False\n",
       " 9     True\n",
       " Name: name, dtype: bool)"
      ]
     },
     "execution_count": 25,
     "metadata": {},
     "output_type": "execute_result"
    }
   ],
   "source": [
    "df['name'].str.upper(), df['name'].str.contains('a')"
   ]
  },
  {
   "cell_type": "code",
   "execution_count": 26,
   "id": "2b1d3739",
   "metadata": {},
   "outputs": [
    {
     "data": {
      "text/plain": [
       "(0       HOJIN LEE\n",
       " 1    GILDONG HONG\n",
       " 2             TOM\n",
       " 3             LEE\n",
       " 4      ANNAN JUNG\n",
       " 5     SANGUN SHIN\n",
       " 6    BUNGJUN PARK\n",
       " 7      MINSU SHIN\n",
       " 8            CHOI\n",
       " 9            KANG\n",
       " Name: name, dtype: object,\n",
       " 0    False\n",
       " 1    False\n",
       " 2    False\n",
       " 3    False\n",
       " 4    False\n",
       " 5    False\n",
       " 6    False\n",
       " 7    False\n",
       " 8    False\n",
       " 9    False\n",
       " Name: name, dtype: bool)"
      ]
     },
     "execution_count": 26,
     "metadata": {},
     "output_type": "execute_result"
    }
   ],
   "source": [
    "df['name'].str.upper(), df['name'].str.contains('E')"
   ]
  },
  {
   "cell_type": "code",
   "execution_count": 29,
   "id": "dfac5b10",
   "metadata": {},
   "outputs": [
    {
     "data": {
      "text/plain": [
       "(0       HOJIN LEE\n",
       " 1    GILDONG HONG\n",
       " 2             TOM\n",
       " 3             LEE\n",
       " 4      ANNAN JUNG\n",
       " 5     SANGUN SHIN\n",
       " 6    BUNGJUN PARK\n",
       " 7      MINSU SHIN\n",
       " 8            CHOI\n",
       " 9            KANG\n",
       " Name: name, dtype: object,\n",
       " 0       Hojin lee\n",
       " 1    Gildong hong\n",
       " 2             Tom\n",
       " 3             Lee\n",
       " 4      Annan jung\n",
       " 5     Sangun shin\n",
       " 6    Bungjun park\n",
       " 7      Minsu shin\n",
       " 8            Choi\n",
       " 9            Kang\n",
       " Name: name, dtype: object)"
      ]
     },
     "execution_count": 29,
     "metadata": {},
     "output_type": "execute_result"
    }
   ],
   "source": [
    "df['name'].str.upper(), df['name'].str.capitalize()"
   ]
  },
  {
   "cell_type": "code",
   "execution_count": 30,
   "id": "2fce92ee",
   "metadata": {},
   "outputs": [
    {
     "data": {
      "text/plain": [
       "(0       HOJIN LEE\n",
       " 1    GILDONG HONG\n",
       " 2             TOM\n",
       " 3             LEE\n",
       " 4      ANNAN JUNG\n",
       " 5     SANGUN SHIN\n",
       " 6    BUNGJUN PARK\n",
       " 7      MINSU SHIN\n",
       " 8            CHOI\n",
       " 9            KANG\n",
       " Name: name, dtype: object,\n",
       " 0       hojin lee\n",
       " 1    gildong hong\n",
       " 2             tom\n",
       " 3             lee\n",
       " 4      annan jung\n",
       " 5     sangun shin\n",
       " 6    bungjun park\n",
       " 7      minsu shin\n",
       " 8            choi\n",
       " 9            kang\n",
       " Name: name, dtype: object)"
      ]
     },
     "execution_count": 30,
     "metadata": {},
     "output_type": "execute_result"
    }
   ],
   "source": [
    "df['name'].str.upper(), df['name'].str.lower()"
   ]
  },
  {
   "cell_type": "code",
   "execution_count": 34,
   "id": "78bfddbb",
   "metadata": {},
   "outputs": [
    {
     "data": {
      "text/plain": [
       "['HoJin', 'Lee']"
      ]
     },
     "execution_count": 34,
     "metadata": {},
     "output_type": "execute_result"
    }
   ],
   "source": [
    "# 성, 이름 따로 추가 (컬럼)\n",
    "df2=df['name'][0].split()"
   ]
  },
  {
   "cell_type": "code",
   "execution_count": 41,
   "id": "5654fe6f",
   "metadata": {},
   "outputs": [
    {
     "data": {
      "text/plain": [
       "0       [HoJin, Lee]\n",
       "1    [GilDong, Hong]\n",
       "2              [Tom]\n",
       "3              [Lee]\n",
       "4      [Annan, Jung]\n",
       "5     [SangUn, Shin]\n",
       "6    [BungJun, Park]\n",
       "7      [MinSu, Shin]\n",
       "8             [Choi]\n",
       "9             [Kang]\n",
       "Name: name, dtype: object"
      ]
     },
     "execution_count": 41,
     "metadata": {},
     "output_type": "execute_result"
    }
   ],
   "source": [
    "df['name'].str.split()"
   ]
  },
  {
   "cell_type": "code",
   "execution_count": 44,
   "id": "80ae6656",
   "metadata": {},
   "outputs": [
    {
     "data": {
      "text/plain": [
       "pandas.core.series.Series"
      ]
     },
     "execution_count": 44,
     "metadata": {},
     "output_type": "execute_result"
    }
   ],
   "source": [
    "flname=df['name'].str.split()\n",
    "type(flname)"
   ]
  },
  {
   "cell_type": "code",
   "execution_count": 45,
   "id": "05e435ae",
   "metadata": {},
   "outputs": [
    {
     "data": {
      "text/plain": [
       "('HoJin', 'Lee')"
      ]
     },
     "execution_count": 45,
     "metadata": {},
     "output_type": "execute_result"
    }
   ],
   "source": [
    "flname[0][0], flname[0][1]"
   ]
  },
  {
   "cell_type": "code",
   "execution_count": 49,
   "id": "e0602a25",
   "metadata": {},
   "outputs": [
    {
     "data": {
      "text/plain": [
       "(0      HoJin\n",
       " 1    GilDong\n",
       " 2        Tom\n",
       " 3        Lee\n",
       " 4      Annan\n",
       " 5     SangUn\n",
       " 6    BungJun\n",
       " 7      MinSu\n",
       " 8       Choi\n",
       " 9       Kang\n",
       " Name: name, dtype: object,\n",
       " 0     Lee\n",
       " 1    Hong\n",
       " 2     NaN\n",
       " 3     NaN\n",
       " 4    Jung\n",
       " 5    Shin\n",
       " 6    Park\n",
       " 7    Shin\n",
       " 8     NaN\n",
       " 9     NaN\n",
       " Name: name, dtype: object)"
      ]
     },
     "execution_count": 49,
     "metadata": {},
     "output_type": "execute_result"
    }
   ],
   "source": [
    "# 분리된 문자열 리스트에서 특정 값 가져오기 ------------------------\n",
    "flname.str.get(0), flname.str.get(1)"
   ]
  },
  {
   "cell_type": "code",
   "execution_count": 50,
   "id": "279bb6b7",
   "metadata": {},
   "outputs": [],
   "source": [
    "df['first_name']=flname.str.get(0)\n",
    "df['last_name']=flname.str.get(1)"
   ]
  },
  {
   "cell_type": "code",
   "execution_count": 51,
   "id": "615df44b",
   "metadata": {},
   "outputs": [
    {
     "data": {
      "text/html": [
       "<div>\n",
       "<style scoped>\n",
       "    .dataframe tbody tr th:only-of-type {\n",
       "        vertical-align: middle;\n",
       "    }\n",
       "\n",
       "    .dataframe tbody tr th {\n",
       "        vertical-align: top;\n",
       "    }\n",
       "\n",
       "    .dataframe thead th {\n",
       "        text-align: right;\n",
       "    }\n",
       "</style>\n",
       "<table border=\"1\" class=\"dataframe\">\n",
       "  <thead>\n",
       "    <tr style=\"text-align: right;\">\n",
       "      <th></th>\n",
       "      <th>name</th>\n",
       "      <th>birth</th>\n",
       "      <th>age</th>\n",
       "      <th>first_name</th>\n",
       "      <th>last_name</th>\n",
       "    </tr>\n",
       "  </thead>\n",
       "  <tbody>\n",
       "    <tr>\n",
       "      <th>0</th>\n",
       "      <td>HoJin Lee</td>\n",
       "      <td>2022-01-31</td>\n",
       "      <td>18</td>\n",
       "      <td>HoJin</td>\n",
       "      <td>Lee</td>\n",
       "    </tr>\n",
       "    <tr>\n",
       "      <th>1</th>\n",
       "      <td>GilDong Hong</td>\n",
       "      <td>2022-02-28</td>\n",
       "      <td>17</td>\n",
       "      <td>GilDong</td>\n",
       "      <td>Hong</td>\n",
       "    </tr>\n",
       "    <tr>\n",
       "      <th>2</th>\n",
       "      <td>Tom</td>\n",
       "      <td>2022-03-31</td>\n",
       "      <td>20</td>\n",
       "      <td>Tom</td>\n",
       "      <td>NaN</td>\n",
       "    </tr>\n",
       "    <tr>\n",
       "      <th>3</th>\n",
       "      <td>Lee</td>\n",
       "      <td>2022-04-30</td>\n",
       "      <td>19</td>\n",
       "      <td>Lee</td>\n",
       "      <td>NaN</td>\n",
       "    </tr>\n",
       "    <tr>\n",
       "      <th>4</th>\n",
       "      <td>Annan Jung</td>\n",
       "      <td>2022-05-31</td>\n",
       "      <td>22</td>\n",
       "      <td>Annan</td>\n",
       "      <td>Jung</td>\n",
       "    </tr>\n",
       "    <tr>\n",
       "      <th>5</th>\n",
       "      <td>SangUn Shin</td>\n",
       "      <td>2022-06-30</td>\n",
       "      <td>22</td>\n",
       "      <td>SangUn</td>\n",
       "      <td>Shin</td>\n",
       "    </tr>\n",
       "    <tr>\n",
       "      <th>6</th>\n",
       "      <td>BungJun Park</td>\n",
       "      <td>2022-07-31</td>\n",
       "      <td>25</td>\n",
       "      <td>BungJun</td>\n",
       "      <td>Park</td>\n",
       "    </tr>\n",
       "    <tr>\n",
       "      <th>7</th>\n",
       "      <td>MinSu Shin</td>\n",
       "      <td>2022-08-31</td>\n",
       "      <td>21</td>\n",
       "      <td>MinSu</td>\n",
       "      <td>Shin</td>\n",
       "    </tr>\n",
       "    <tr>\n",
       "      <th>8</th>\n",
       "      <td>Choi</td>\n",
       "      <td>2022-09-30</td>\n",
       "      <td>24</td>\n",
       "      <td>Choi</td>\n",
       "      <td>NaN</td>\n",
       "    </tr>\n",
       "    <tr>\n",
       "      <th>9</th>\n",
       "      <td>Kang</td>\n",
       "      <td>2022-10-31</td>\n",
       "      <td>22</td>\n",
       "      <td>Kang</td>\n",
       "      <td>NaN</td>\n",
       "    </tr>\n",
       "  </tbody>\n",
       "</table>\n",
       "</div>"
      ],
      "text/plain": [
       "           name      birth  age first_name last_name\n",
       "0     HoJin Lee 2022-01-31   18      HoJin       Lee\n",
       "1  GilDong Hong 2022-02-28   17    GilDong      Hong\n",
       "2           Tom 2022-03-31   20        Tom       NaN\n",
       "3           Lee 2022-04-30   19        Lee       NaN\n",
       "4    Annan Jung 2022-05-31   22      Annan      Jung\n",
       "5   SangUn Shin 2022-06-30   22     SangUn      Shin\n",
       "6  BungJun Park 2022-07-31   25    BungJun      Park\n",
       "7    MinSu Shin 2022-08-31   21      MinSu      Shin\n",
       "8          Choi 2022-09-30   24       Choi       NaN\n",
       "9          Kang 2022-10-31   22       Kang       NaN"
      ]
     },
     "execution_count": 51,
     "metadata": {},
     "output_type": "execute_result"
    }
   ],
   "source": [
    "df"
   ]
  },
  {
   "cell_type": "code",
   "execution_count": 55,
   "id": "88f438fb",
   "metadata": {},
   "outputs": [
    {
     "data": {
      "text/plain": [
       "pandas.core.frame.DataFrame"
      ]
     },
     "execution_count": 55,
     "metadata": {},
     "output_type": "execute_result"
    }
   ],
   "source": [
    "# str.split()\n",
    "value= df['name'].str.split(expand=True)\n",
    "type(value)"
   ]
  },
  {
   "cell_type": "code",
   "execution_count": 56,
   "id": "c4baa1ed",
   "metadata": {},
   "outputs": [
    {
     "data": {
      "text/html": [
       "<div>\n",
       "<style scoped>\n",
       "    .dataframe tbody tr th:only-of-type {\n",
       "        vertical-align: middle;\n",
       "    }\n",
       "\n",
       "    .dataframe tbody tr th {\n",
       "        vertical-align: top;\n",
       "    }\n",
       "\n",
       "    .dataframe thead th {\n",
       "        text-align: right;\n",
       "    }\n",
       "</style>\n",
       "<table border=\"1\" class=\"dataframe\">\n",
       "  <thead>\n",
       "    <tr style=\"text-align: right;\">\n",
       "      <th></th>\n",
       "      <th>0</th>\n",
       "      <th>1</th>\n",
       "    </tr>\n",
       "  </thead>\n",
       "  <tbody>\n",
       "    <tr>\n",
       "      <th>0</th>\n",
       "      <td>HoJin</td>\n",
       "      <td>Lee</td>\n",
       "    </tr>\n",
       "    <tr>\n",
       "      <th>1</th>\n",
       "      <td>GilDong</td>\n",
       "      <td>Hong</td>\n",
       "    </tr>\n",
       "    <tr>\n",
       "      <th>2</th>\n",
       "      <td>Tom</td>\n",
       "      <td>None</td>\n",
       "    </tr>\n",
       "    <tr>\n",
       "      <th>3</th>\n",
       "      <td>Lee</td>\n",
       "      <td>None</td>\n",
       "    </tr>\n",
       "    <tr>\n",
       "      <th>4</th>\n",
       "      <td>Annan</td>\n",
       "      <td>Jung</td>\n",
       "    </tr>\n",
       "    <tr>\n",
       "      <th>5</th>\n",
       "      <td>SangUn</td>\n",
       "      <td>Shin</td>\n",
       "    </tr>\n",
       "    <tr>\n",
       "      <th>6</th>\n",
       "      <td>BungJun</td>\n",
       "      <td>Park</td>\n",
       "    </tr>\n",
       "    <tr>\n",
       "      <th>7</th>\n",
       "      <td>MinSu</td>\n",
       "      <td>Shin</td>\n",
       "    </tr>\n",
       "    <tr>\n",
       "      <th>8</th>\n",
       "      <td>Choi</td>\n",
       "      <td>None</td>\n",
       "    </tr>\n",
       "    <tr>\n",
       "      <th>9</th>\n",
       "      <td>Kang</td>\n",
       "      <td>None</td>\n",
       "    </tr>\n",
       "  </tbody>\n",
       "</table>\n",
       "</div>"
      ],
      "text/plain": [
       "         0     1\n",
       "0    HoJin   Lee\n",
       "1  GilDong  Hong\n",
       "2      Tom  None\n",
       "3      Lee  None\n",
       "4    Annan  Jung\n",
       "5   SangUn  Shin\n",
       "6  BungJun  Park\n",
       "7    MinSu  Shin\n",
       "8     Choi  None\n",
       "9     Kang  None"
      ]
     },
     "execution_count": 56,
     "metadata": {},
     "output_type": "execute_result"
    }
   ],
   "source": [
    "value"
   ]
  },
  {
   "cell_type": "code",
   "execution_count": 57,
   "id": "1e596281",
   "metadata": {},
   "outputs": [
    {
     "data": {
      "text/plain": [
       "((10, 2),\n",
       " 2,\n",
       " RangeIndex(start=0, stop=2, step=1),\n",
       " RangeIndex(start=0, stop=10, step=1))"
      ]
     },
     "execution_count": 57,
     "metadata": {},
     "output_type": "execute_result"
    }
   ],
   "source": [
    "value.shape, value.ndim, value.columns, value.index"
   ]
  },
  {
   "cell_type": "code",
   "execution_count": 59,
   "id": "c15f590b",
   "metadata": {},
   "outputs": [
    {
     "data": {
      "text/plain": [
       "name                  object\n",
       "birth         datetime64[ns]\n",
       "age                    int64\n",
       "first_name            object\n",
       "last_name             object\n",
       "dtype: object"
      ]
     },
     "execution_count": 59,
     "metadata": {},
     "output_type": "execute_result"
    }
   ],
   "source": [
    "df.dtypes"
   ]
  },
  {
   "cell_type": "code",
   "execution_count": 60,
   "id": "ced5378b",
   "metadata": {},
   "outputs": [
    {
     "data": {
      "text/html": [
       "<div>\n",
       "<style scoped>\n",
       "    .dataframe tbody tr th:only-of-type {\n",
       "        vertical-align: middle;\n",
       "    }\n",
       "\n",
       "    .dataframe tbody tr th {\n",
       "        vertical-align: top;\n",
       "    }\n",
       "\n",
       "    .dataframe thead th {\n",
       "        text-align: right;\n",
       "    }\n",
       "</style>\n",
       "<table border=\"1\" class=\"dataframe\">\n",
       "  <thead>\n",
       "    <tr style=\"text-align: right;\">\n",
       "      <th></th>\n",
       "      <th>name</th>\n",
       "      <th>birth</th>\n",
       "      <th>age</th>\n",
       "      <th>first_name</th>\n",
       "      <th>last_name</th>\n",
       "      <th>0</th>\n",
       "      <th>1</th>\n",
       "    </tr>\n",
       "  </thead>\n",
       "  <tbody>\n",
       "    <tr>\n",
       "      <th>0</th>\n",
       "      <td>HoJin Lee</td>\n",
       "      <td>2022-01-31</td>\n",
       "      <td>18</td>\n",
       "      <td>HoJin</td>\n",
       "      <td>Lee</td>\n",
       "      <td>HoJin</td>\n",
       "      <td>Lee</td>\n",
       "    </tr>\n",
       "    <tr>\n",
       "      <th>1</th>\n",
       "      <td>GilDong Hong</td>\n",
       "      <td>2022-02-28</td>\n",
       "      <td>17</td>\n",
       "      <td>GilDong</td>\n",
       "      <td>Hong</td>\n",
       "      <td>GilDong</td>\n",
       "      <td>Hong</td>\n",
       "    </tr>\n",
       "    <tr>\n",
       "      <th>2</th>\n",
       "      <td>Tom</td>\n",
       "      <td>2022-03-31</td>\n",
       "      <td>20</td>\n",
       "      <td>Tom</td>\n",
       "      <td>NaN</td>\n",
       "      <td>Tom</td>\n",
       "      <td>None</td>\n",
       "    </tr>\n",
       "    <tr>\n",
       "      <th>3</th>\n",
       "      <td>Lee</td>\n",
       "      <td>2022-04-30</td>\n",
       "      <td>19</td>\n",
       "      <td>Lee</td>\n",
       "      <td>NaN</td>\n",
       "      <td>Lee</td>\n",
       "      <td>None</td>\n",
       "    </tr>\n",
       "    <tr>\n",
       "      <th>4</th>\n",
       "      <td>Annan Jung</td>\n",
       "      <td>2022-05-31</td>\n",
       "      <td>22</td>\n",
       "      <td>Annan</td>\n",
       "      <td>Jung</td>\n",
       "      <td>Annan</td>\n",
       "      <td>Jung</td>\n",
       "    </tr>\n",
       "    <tr>\n",
       "      <th>5</th>\n",
       "      <td>SangUn Shin</td>\n",
       "      <td>2022-06-30</td>\n",
       "      <td>22</td>\n",
       "      <td>SangUn</td>\n",
       "      <td>Shin</td>\n",
       "      <td>SangUn</td>\n",
       "      <td>Shin</td>\n",
       "    </tr>\n",
       "    <tr>\n",
       "      <th>6</th>\n",
       "      <td>BungJun Park</td>\n",
       "      <td>2022-07-31</td>\n",
       "      <td>25</td>\n",
       "      <td>BungJun</td>\n",
       "      <td>Park</td>\n",
       "      <td>BungJun</td>\n",
       "      <td>Park</td>\n",
       "    </tr>\n",
       "    <tr>\n",
       "      <th>7</th>\n",
       "      <td>MinSu Shin</td>\n",
       "      <td>2022-08-31</td>\n",
       "      <td>21</td>\n",
       "      <td>MinSu</td>\n",
       "      <td>Shin</td>\n",
       "      <td>MinSu</td>\n",
       "      <td>Shin</td>\n",
       "    </tr>\n",
       "    <tr>\n",
       "      <th>8</th>\n",
       "      <td>Choi</td>\n",
       "      <td>2022-09-30</td>\n",
       "      <td>24</td>\n",
       "      <td>Choi</td>\n",
       "      <td>NaN</td>\n",
       "      <td>Choi</td>\n",
       "      <td>None</td>\n",
       "    </tr>\n",
       "    <tr>\n",
       "      <th>9</th>\n",
       "      <td>Kang</td>\n",
       "      <td>2022-10-31</td>\n",
       "      <td>22</td>\n",
       "      <td>Kang</td>\n",
       "      <td>NaN</td>\n",
       "      <td>Kang</td>\n",
       "      <td>None</td>\n",
       "    </tr>\n",
       "  </tbody>\n",
       "</table>\n",
       "</div>"
      ],
      "text/plain": [
       "           name      birth  age first_name last_name        0     1\n",
       "0     HoJin Lee 2022-01-31   18      HoJin       Lee    HoJin   Lee\n",
       "1  GilDong Hong 2022-02-28   17    GilDong      Hong  GilDong  Hong\n",
       "2           Tom 2022-03-31   20        Tom       NaN      Tom  None\n",
       "3           Lee 2022-04-30   19        Lee       NaN      Lee  None\n",
       "4    Annan Jung 2022-05-31   22      Annan      Jung    Annan  Jung\n",
       "5   SangUn Shin 2022-06-30   22     SangUn      Shin   SangUn  Shin\n",
       "6  BungJun Park 2022-07-31   25    BungJun      Park  BungJun  Park\n",
       "7    MinSu Shin 2022-08-31   21      MinSu      Shin    MinSu  Shin\n",
       "8          Choi 2022-09-30   24       Choi       NaN     Choi  None\n",
       "9          Kang 2022-10-31   22       Kang       NaN     Kang  None"
      ]
     },
     "execution_count": 60,
     "metadata": {},
     "output_type": "execute_result"
    }
   ],
   "source": [
    "df1=pd.concat([df, value], axis=1)\n",
    "df1"
   ]
  },
  {
   "cell_type": "code",
   "execution_count": 61,
   "id": "0b5a971b",
   "metadata": {},
   "outputs": [
    {
     "data": {
      "text/plain": [
       "Index(['name', 'birth', 'age', 'first_name', 'last_name', 0, 1], dtype='object')"
      ]
     },
     "execution_count": 61,
     "metadata": {},
     "output_type": "execute_result"
    }
   ],
   "source": [
    "df1.columns"
   ]
  },
  {
   "cell_type": "code",
   "execution_count": 67,
   "id": "e36efa07",
   "metadata": {},
   "outputs": [
    {
     "data": {
      "text/html": [
       "<div>\n",
       "<style scoped>\n",
       "    .dataframe tbody tr th:only-of-type {\n",
       "        vertical-align: middle;\n",
       "    }\n",
       "\n",
       "    .dataframe tbody tr th {\n",
       "        vertical-align: top;\n",
       "    }\n",
       "\n",
       "    .dataframe thead th {\n",
       "        text-align: right;\n",
       "    }\n",
       "</style>\n",
       "<table border=\"1\" class=\"dataframe\">\n",
       "  <thead>\n",
       "    <tr style=\"text-align: right;\">\n",
       "      <th></th>\n",
       "      <th>name</th>\n",
       "      <th>birth</th>\n",
       "      <th>age</th>\n",
       "      <th>first_name</th>\n",
       "      <th>last_name</th>\n",
       "      <th>fN</th>\n",
       "      <th>LN</th>\n",
       "    </tr>\n",
       "  </thead>\n",
       "  <tbody>\n",
       "    <tr>\n",
       "      <th>0</th>\n",
       "      <td>HoJin Lee</td>\n",
       "      <td>2022-01-31</td>\n",
       "      <td>18</td>\n",
       "      <td>HoJin</td>\n",
       "      <td>Lee</td>\n",
       "      <td>HoJin</td>\n",
       "      <td>Lee</td>\n",
       "    </tr>\n",
       "    <tr>\n",
       "      <th>1</th>\n",
       "      <td>GilDong Hong</td>\n",
       "      <td>2022-02-28</td>\n",
       "      <td>17</td>\n",
       "      <td>GilDong</td>\n",
       "      <td>Hong</td>\n",
       "      <td>GilDong</td>\n",
       "      <td>Hong</td>\n",
       "    </tr>\n",
       "    <tr>\n",
       "      <th>2</th>\n",
       "      <td>Tom</td>\n",
       "      <td>2022-03-31</td>\n",
       "      <td>20</td>\n",
       "      <td>Tom</td>\n",
       "      <td>NaN</td>\n",
       "      <td>Tom</td>\n",
       "      <td>None</td>\n",
       "    </tr>\n",
       "    <tr>\n",
       "      <th>3</th>\n",
       "      <td>Lee</td>\n",
       "      <td>2022-04-30</td>\n",
       "      <td>19</td>\n",
       "      <td>Lee</td>\n",
       "      <td>NaN</td>\n",
       "      <td>Lee</td>\n",
       "      <td>None</td>\n",
       "    </tr>\n",
       "    <tr>\n",
       "      <th>4</th>\n",
       "      <td>Annan Jung</td>\n",
       "      <td>2022-05-31</td>\n",
       "      <td>22</td>\n",
       "      <td>Annan</td>\n",
       "      <td>Jung</td>\n",
       "      <td>Annan</td>\n",
       "      <td>Jung</td>\n",
       "    </tr>\n",
       "    <tr>\n",
       "      <th>5</th>\n",
       "      <td>SangUn Shin</td>\n",
       "      <td>2022-06-30</td>\n",
       "      <td>22</td>\n",
       "      <td>SangUn</td>\n",
       "      <td>Shin</td>\n",
       "      <td>SangUn</td>\n",
       "      <td>Shin</td>\n",
       "    </tr>\n",
       "    <tr>\n",
       "      <th>6</th>\n",
       "      <td>BungJun Park</td>\n",
       "      <td>2022-07-31</td>\n",
       "      <td>25</td>\n",
       "      <td>BungJun</td>\n",
       "      <td>Park</td>\n",
       "      <td>BungJun</td>\n",
       "      <td>Park</td>\n",
       "    </tr>\n",
       "    <tr>\n",
       "      <th>7</th>\n",
       "      <td>MinSu Shin</td>\n",
       "      <td>2022-08-31</td>\n",
       "      <td>21</td>\n",
       "      <td>MinSu</td>\n",
       "      <td>Shin</td>\n",
       "      <td>MinSu</td>\n",
       "      <td>Shin</td>\n",
       "    </tr>\n",
       "    <tr>\n",
       "      <th>8</th>\n",
       "      <td>Choi</td>\n",
       "      <td>2022-09-30</td>\n",
       "      <td>24</td>\n",
       "      <td>Choi</td>\n",
       "      <td>NaN</td>\n",
       "      <td>Choi</td>\n",
       "      <td>None</td>\n",
       "    </tr>\n",
       "    <tr>\n",
       "      <th>9</th>\n",
       "      <td>Kang</td>\n",
       "      <td>2022-10-31</td>\n",
       "      <td>22</td>\n",
       "      <td>Kang</td>\n",
       "      <td>NaN</td>\n",
       "      <td>Kang</td>\n",
       "      <td>None</td>\n",
       "    </tr>\n",
       "  </tbody>\n",
       "</table>\n",
       "</div>"
      ],
      "text/plain": [
       "           name      birth  age first_name last_name       fN    LN\n",
       "0     HoJin Lee 2022-01-31   18      HoJin       Lee    HoJin   Lee\n",
       "1  GilDong Hong 2022-02-28   17    GilDong      Hong  GilDong  Hong\n",
       "2           Tom 2022-03-31   20        Tom       NaN      Tom  None\n",
       "3           Lee 2022-04-30   19        Lee       NaN      Lee  None\n",
       "4    Annan Jung 2022-05-31   22      Annan      Jung    Annan  Jung\n",
       "5   SangUn Shin 2022-06-30   22     SangUn      Shin   SangUn  Shin\n",
       "6  BungJun Park 2022-07-31   25    BungJun      Park  BungJun  Park\n",
       "7    MinSu Shin 2022-08-31   21      MinSu      Shin    MinSu  Shin\n",
       "8          Choi 2022-09-30   24       Choi       NaN     Choi  None\n",
       "9          Kang 2022-10-31   22       Kang       NaN     Kang  None"
      ]
     },
     "execution_count": 67,
     "metadata": {},
     "output_type": "execute_result"
    }
   ],
   "source": [
    "df1.columns= (['name', 'birth', 'age', 'first_name', 'last_name', 'fN', 'LN'])\n",
    "df1"
   ]
  },
  {
   "cell_type": "code",
   "execution_count": 68,
   "id": "7d1ca4ff",
   "metadata": {},
   "outputs": [
    {
     "data": {
      "text/html": [
       "<div>\n",
       "<style scoped>\n",
       "    .dataframe tbody tr th:only-of-type {\n",
       "        vertical-align: middle;\n",
       "    }\n",
       "\n",
       "    .dataframe tbody tr th {\n",
       "        vertical-align: top;\n",
       "    }\n",
       "\n",
       "    .dataframe thead th {\n",
       "        text-align: right;\n",
       "    }\n",
       "</style>\n",
       "<table border=\"1\" class=\"dataframe\">\n",
       "  <thead>\n",
       "    <tr style=\"text-align: right;\">\n",
       "      <th></th>\n",
       "      <th>name</th>\n",
       "      <th>birth</th>\n",
       "      <th>age</th>\n",
       "      <th>first_name</th>\n",
       "      <th>last_name</th>\n",
       "      <th>fN</th>\n",
       "      <th>LN</th>\n",
       "    </tr>\n",
       "  </thead>\n",
       "  <tbody>\n",
       "    <tr>\n",
       "      <th>0</th>\n",
       "      <td>HoJin Lee</td>\n",
       "      <td>2022-01-31</td>\n",
       "      <td>18</td>\n",
       "      <td>HoJin</td>\n",
       "      <td>Lee</td>\n",
       "      <td>HoJin</td>\n",
       "      <td>Lee</td>\n",
       "    </tr>\n",
       "    <tr>\n",
       "      <th>1</th>\n",
       "      <td>GilDong Hong</td>\n",
       "      <td>2022-02-28</td>\n",
       "      <td>17</td>\n",
       "      <td>GilDong</td>\n",
       "      <td>Hong</td>\n",
       "      <td>GilDong</td>\n",
       "      <td>Hong</td>\n",
       "    </tr>\n",
       "    <tr>\n",
       "      <th>2</th>\n",
       "      <td>Tom</td>\n",
       "      <td>2022-03-31</td>\n",
       "      <td>20</td>\n",
       "      <td>Tom</td>\n",
       "      <td>NaN</td>\n",
       "      <td>Tom</td>\n",
       "      <td>None</td>\n",
       "    </tr>\n",
       "    <tr>\n",
       "      <th>3</th>\n",
       "      <td>Lee</td>\n",
       "      <td>2022-04-30</td>\n",
       "      <td>19</td>\n",
       "      <td>Lee</td>\n",
       "      <td>NaN</td>\n",
       "      <td>Lee</td>\n",
       "      <td>None</td>\n",
       "    </tr>\n",
       "    <tr>\n",
       "      <th>4</th>\n",
       "      <td>Annan Jung</td>\n",
       "      <td>2022-05-31</td>\n",
       "      <td>22</td>\n",
       "      <td>Annan</td>\n",
       "      <td>Jung</td>\n",
       "      <td>Annan</td>\n",
       "      <td>Jung</td>\n",
       "    </tr>\n",
       "    <tr>\n",
       "      <th>5</th>\n",
       "      <td>SangUn Shin</td>\n",
       "      <td>2022-06-30</td>\n",
       "      <td>22</td>\n",
       "      <td>SangUn</td>\n",
       "      <td>Shin</td>\n",
       "      <td>SangUn</td>\n",
       "      <td>Shin</td>\n",
       "    </tr>\n",
       "    <tr>\n",
       "      <th>6</th>\n",
       "      <td>BungJun Park</td>\n",
       "      <td>2022-07-31</td>\n",
       "      <td>25</td>\n",
       "      <td>BungJun</td>\n",
       "      <td>Park</td>\n",
       "      <td>BungJun</td>\n",
       "      <td>Park</td>\n",
       "    </tr>\n",
       "    <tr>\n",
       "      <th>7</th>\n",
       "      <td>MinSu Shin</td>\n",
       "      <td>2022-08-31</td>\n",
       "      <td>21</td>\n",
       "      <td>MinSu</td>\n",
       "      <td>Shin</td>\n",
       "      <td>MinSu</td>\n",
       "      <td>Shin</td>\n",
       "    </tr>\n",
       "    <tr>\n",
       "      <th>8</th>\n",
       "      <td>Choi</td>\n",
       "      <td>2022-09-30</td>\n",
       "      <td>24</td>\n",
       "      <td>Choi</td>\n",
       "      <td>NaN</td>\n",
       "      <td>Choi</td>\n",
       "      <td>None</td>\n",
       "    </tr>\n",
       "    <tr>\n",
       "      <th>9</th>\n",
       "      <td>Kang</td>\n",
       "      <td>2022-10-31</td>\n",
       "      <td>22</td>\n",
       "      <td>Kang</td>\n",
       "      <td>NaN</td>\n",
       "      <td>Kang</td>\n",
       "      <td>None</td>\n",
       "    </tr>\n",
       "  </tbody>\n",
       "</table>\n",
       "</div>"
      ],
      "text/plain": [
       "           name      birth  age first_name last_name       fN    LN\n",
       "0     HoJin Lee 2022-01-31   18      HoJin       Lee    HoJin   Lee\n",
       "1  GilDong Hong 2022-02-28   17    GilDong      Hong  GilDong  Hong\n",
       "2           Tom 2022-03-31   20        Tom       NaN      Tom  None\n",
       "3           Lee 2022-04-30   19        Lee       NaN      Lee  None\n",
       "4    Annan Jung 2022-05-31   22      Annan      Jung    Annan  Jung\n",
       "5   SangUn Shin 2022-06-30   22     SangUn      Shin   SangUn  Shin\n",
       "6  BungJun Park 2022-07-31   25    BungJun      Park  BungJun  Park\n",
       "7    MinSu Shin 2022-08-31   21      MinSu      Shin    MinSu  Shin\n",
       "8          Choi 2022-09-30   24       Choi       NaN     Choi  None\n",
       "9          Kang 2022-10-31   22       Kang       NaN     Kang  None"
      ]
     },
     "execution_count": 68,
     "metadata": {},
     "output_type": "execute_result"
    }
   ],
   "source": [
    "df1.rename(columns={'0':'FName', '1': 'LName'}, inplace=True)\n",
    "df1"
   ]
  },
  {
   "cell_type": "code",
   "execution_count": null,
   "id": "3c5d4684",
   "metadata": {},
   "outputs": [],
   "source": []
  }
 ],
 "metadata": {
  "kernelspec": {
   "display_name": "Python 3 (ipykernel)",
   "language": "python",
   "name": "python3"
  },
  "language_info": {
   "codemirror_mode": {
    "name": "ipython",
    "version": 3
   },
   "file_extension": ".py",
   "mimetype": "text/x-python",
   "name": "python",
   "nbconvert_exporter": "python",
   "pygments_lexer": "ipython3",
   "version": "3.9.12"
  }
 },
 "nbformat": 4,
 "nbformat_minor": 5
}
