{
 "cells": [
  {
   "cell_type": "code",
   "execution_count": 21,
   "id": "4f615af4",
   "metadata": {},
   "outputs": [],
   "source": [
    "import pandas as pd\n",
    "\n",
    "DIR='../Data/'\n",
    "FILE=DIR+'stock-data.csv'\n",
    "stockDF=pd.read_csv(FILE)"
   ]
  },
  {
   "cell_type": "code",
   "execution_count": 22,
   "id": "6bc47afd",
   "metadata": {},
   "outputs": [
    {
     "name": "stdout",
     "output_type": "stream",
     "text": [
      "<class 'pandas.core.frame.DataFrame'>\n",
      "RangeIndex: 20 entries, 0 to 19\n",
      "Data columns (total 6 columns):\n",
      " #   Column  Non-Null Count  Dtype \n",
      "---  ------  --------------  ----- \n",
      " 0   Date    20 non-null     object\n",
      " 1   Close   20 non-null     int64 \n",
      " 2   Start   20 non-null     int64 \n",
      " 3   High    20 non-null     int64 \n",
      " 4   Low     20 non-null     int64 \n",
      " 5   Volume  20 non-null     int64 \n",
      "dtypes: int64(5), object(1)\n",
      "memory usage: 1.1+ KB\n"
     ]
    }
   ],
   "source": [
    "stockDF.info()"
   ]
  },
  {
   "cell_type": "code",
   "execution_count": 23,
   "id": "60047453",
   "metadata": {},
   "outputs": [
    {
     "data": {
      "text/html": [
       "<div>\n",
       "<style scoped>\n",
       "    .dataframe tbody tr th:only-of-type {\n",
       "        vertical-align: middle;\n",
       "    }\n",
       "\n",
       "    .dataframe tbody tr th {\n",
       "        vertical-align: top;\n",
       "    }\n",
       "\n",
       "    .dataframe thead th {\n",
       "        text-align: right;\n",
       "    }\n",
       "</style>\n",
       "<table border=\"1\" class=\"dataframe\">\n",
       "  <thead>\n",
       "    <tr style=\"text-align: right;\">\n",
       "      <th></th>\n",
       "      <th>Date</th>\n",
       "      <th>Close</th>\n",
       "      <th>Start</th>\n",
       "      <th>High</th>\n",
       "      <th>Low</th>\n",
       "      <th>Volume</th>\n",
       "    </tr>\n",
       "  </thead>\n",
       "  <tbody>\n",
       "    <tr>\n",
       "      <th>0</th>\n",
       "      <td>2020-07-02</td>\n",
       "      <td>10100</td>\n",
       "      <td>10850</td>\n",
       "      <td>10900</td>\n",
       "      <td>10000</td>\n",
       "      <td>137977</td>\n",
       "    </tr>\n",
       "    <tr>\n",
       "      <th>1</th>\n",
       "      <td>2021-06-29</td>\n",
       "      <td>10700</td>\n",
       "      <td>10550</td>\n",
       "      <td>10900</td>\n",
       "      <td>9990</td>\n",
       "      <td>170253</td>\n",
       "    </tr>\n",
       "    <tr>\n",
       "      <th>2</th>\n",
       "      <td>2022-06-28</td>\n",
       "      <td>10400</td>\n",
       "      <td>10900</td>\n",
       "      <td>10950</td>\n",
       "      <td>10150</td>\n",
       "      <td>155769</td>\n",
       "    </tr>\n",
       "    <tr>\n",
       "      <th>3</th>\n",
       "      <td>2018-06-27</td>\n",
       "      <td>10900</td>\n",
       "      <td>10800</td>\n",
       "      <td>11050</td>\n",
       "      <td>10500</td>\n",
       "      <td>133548</td>\n",
       "    </tr>\n",
       "    <tr>\n",
       "      <th>4</th>\n",
       "      <td>2018-06-26</td>\n",
       "      <td>10800</td>\n",
       "      <td>10900</td>\n",
       "      <td>11000</td>\n",
       "      <td>10700</td>\n",
       "      <td>63039</td>\n",
       "    </tr>\n",
       "  </tbody>\n",
       "</table>\n",
       "</div>"
      ],
      "text/plain": [
       "         Date  Close  Start   High    Low  Volume\n",
       "0  2020-07-02  10100  10850  10900  10000  137977\n",
       "1  2021-06-29  10700  10550  10900   9990  170253\n",
       "2  2022-06-28  10400  10900  10950  10150  155769\n",
       "3  2018-06-27  10900  10800  11050  10500  133548\n",
       "4  2018-06-26  10800  10900  11000  10700   63039"
      ]
     },
     "execution_count": 23,
     "metadata": {},
     "output_type": "execute_result"
    }
   ],
   "source": [
    "stockDF.head()"
   ]
  },
  {
   "cell_type": "code",
   "execution_count": 24,
   "id": "a79610eb",
   "metadata": {},
   "outputs": [],
   "source": [
    "# date column object 년, 월, 일 따로\n",
    "\n",
    "#- 접근자 사용하여 Date 컬럼 분할 (Y, M, D)\n",
    "\n",
    "#- D일 기준으로 정렬"
   ]
  },
  {
   "cell_type": "code",
   "execution_count": 27,
   "id": "78f8cd10",
   "metadata": {
    "scrolled": true
   },
   "outputs": [
    {
     "data": {
      "text/plain": [
       "0     [2020, 07, 02]\n",
       "1     [2021, 06, 29]\n",
       "2     [2022, 06, 28]\n",
       "3     [2018, 06, 27]\n",
       "4     [2018, 06, 26]\n",
       "5     [2018, 06, 25]\n",
       "6     [2018, 06, 22]\n",
       "7     [2018, 06, 21]\n",
       "8     [2018, 06, 20]\n",
       "9     [2018, 06, 19]\n",
       "10    [2018, 06, 18]\n",
       "11    [2018, 06, 15]\n",
       "12    [2018, 06, 14]\n",
       "13    [2018, 06, 12]\n",
       "14    [2018, 06, 11]\n",
       "15    [2018, 06, 08]\n",
       "16    [2018, 06, 07]\n",
       "17    [2018, 06, 05]\n",
       "18    [2018, 06, 04]\n",
       "19    [2018, 06, 01]\n",
       "Name: Date, dtype: object"
      ]
     },
     "execution_count": 27,
     "metadata": {},
     "output_type": "execute_result"
    }
   ],
   "source": [
    "stockDF['Date'].str.split('-')"
   ]
  },
  {
   "cell_type": "code",
   "execution_count": null,
   "id": "2b4f4d0b",
   "metadata": {},
   "outputs": [],
   "source": [
    "stockDF"
   ]
  },
  {
   "cell_type": "code",
   "execution_count": null,
   "id": "4db115cb",
   "metadata": {},
   "outputs": [],
   "source": []
  },
  {
   "cell_type": "code",
   "execution_count": null,
   "id": "a3f0c513",
   "metadata": {},
   "outputs": [],
   "source": []
  }
 ],
 "metadata": {
  "kernelspec": {
   "display_name": "Python 3 (ipykernel)",
   "language": "python",
   "name": "python3"
  },
  "language_info": {
   "codemirror_mode": {
    "name": "ipython",
    "version": 3
   },
   "file_extension": ".py",
   "mimetype": "text/x-python",
   "name": "python",
   "nbconvert_exporter": "python",
   "pygments_lexer": "ipython3",
   "version": "3.9.12"
  }
 },
 "nbformat": 4,
 "nbformat_minor": 5
}
