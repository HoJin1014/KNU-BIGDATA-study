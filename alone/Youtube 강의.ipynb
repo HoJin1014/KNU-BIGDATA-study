{
 "cells": [
  {
   "cell_type": "code",
   "execution_count": 1,
   "id": "0ad9c617",
   "metadata": {},
   "outputs": [
    {
     "name": "stdout",
     "output_type": "stream",
     "text": [
      "Hello world\n"
     ]
    }
   ],
   "source": [
    "print(\"Hello world\")"
   ]
  },
  {
   "cell_type": "markdown",
   "id": "a06c082e",
   "metadata": {},
   "source": [
    "### 숫자 자료형"
   ]
  },
  {
   "cell_type": "code",
   "execution_count": 2,
   "id": "453bb455",
   "metadata": {},
   "outputs": [
    {
     "name": "stdout",
     "output_type": "stream",
     "text": [
      "5\n"
     ]
    }
   ],
   "source": [
    "print(5)"
   ]
  },
  {
   "cell_type": "code",
   "execution_count": 3,
   "id": "99de110e",
   "metadata": {},
   "outputs": [
    {
     "name": "stdout",
     "output_type": "stream",
     "text": [
      "-10\n"
     ]
    }
   ],
   "source": [
    "print(-10)"
   ]
  },
  {
   "cell_type": "code",
   "execution_count": 4,
   "id": "6aab8468",
   "metadata": {},
   "outputs": [
    {
     "name": "stdout",
     "output_type": "stream",
     "text": [
      "3.14\n"
     ]
    }
   ],
   "source": [
    "print(3.14)"
   ]
  },
  {
   "cell_type": "code",
   "execution_count": 5,
   "id": "836c997f",
   "metadata": {},
   "outputs": [
    {
     "name": "stdout",
     "output_type": "stream",
     "text": [
      "1000\n"
     ]
    }
   ],
   "source": [
    "print(1000)"
   ]
  },
  {
   "cell_type": "code",
   "execution_count": 6,
   "id": "8c583df3",
   "metadata": {},
   "outputs": [
    {
     "name": "stdout",
     "output_type": "stream",
     "text": [
      "8\n"
     ]
    }
   ],
   "source": [
    "print(5+3)"
   ]
  },
  {
   "cell_type": "code",
   "execution_count": 7,
   "id": "ed9d8849",
   "metadata": {},
   "outputs": [
    {
     "name": "stdout",
     "output_type": "stream",
     "text": [
      "16\n"
     ]
    }
   ],
   "source": [
    "print(2*8)"
   ]
  },
  {
   "cell_type": "code",
   "execution_count": 8,
   "id": "dabb5119",
   "metadata": {},
   "outputs": [
    {
     "name": "stdout",
     "output_type": "stream",
     "text": [
      "12\n"
     ]
    }
   ],
   "source": [
    "print(3*(3+1))"
   ]
  },
  {
   "cell_type": "markdown",
   "id": "d06a8abb",
   "metadata": {},
   "source": [
    "### 문자열 자료형"
   ]
  },
  {
   "cell_type": "code",
   "execution_count": 9,
   "id": "a3b95ecb",
   "metadata": {},
   "outputs": [
    {
     "name": "stdout",
     "output_type": "stream",
     "text": [
      "풍선\n"
     ]
    }
   ],
   "source": [
    "print('풍선')"
   ]
  },
  {
   "cell_type": "code",
   "execution_count": 10,
   "id": "3be940f9",
   "metadata": {},
   "outputs": [
    {
     "name": "stdout",
     "output_type": "stream",
     "text": [
      "나비\n"
     ]
    }
   ],
   "source": [
    "print(\"나비\")"
   ]
  },
  {
   "cell_type": "code",
   "execution_count": 11,
   "id": "016ed9b0",
   "metadata": {},
   "outputs": [
    {
     "name": "stdout",
     "output_type": "stream",
     "text": [
      "ㅋㅋㅋㅋㅋㅋㅋ\n"
     ]
    }
   ],
   "source": [
    "print(\"ㅋㅋㅋㅋㅋㅋㅋ\")"
   ]
  },
  {
   "cell_type": "code",
   "execution_count": 12,
   "id": "c24bf110",
   "metadata": {},
   "outputs": [
    {
     "name": "stdout",
     "output_type": "stream",
     "text": [
      "ㅋㅋㅋㅋㅋㅋㅋㅋㅋ\n"
     ]
    }
   ],
   "source": [
    "print(\"ㅋ\"*9)"
   ]
  },
  {
   "cell_type": "markdown",
   "id": "242d1195",
   "metadata": {},
   "source": [
    "### boolean 자료형"
   ]
  },
  {
   "cell_type": "code",
   "execution_count": 14,
   "id": "b8c7f60a",
   "metadata": {},
   "outputs": [
    {
     "name": "stdout",
     "output_type": "stream",
     "text": [
      "False\n"
     ]
    }
   ],
   "source": [
    "# 참 / 거짓\n",
    "print(5>10)"
   ]
  },
  {
   "cell_type": "code",
   "execution_count": 15,
   "id": "b313398a",
   "metadata": {},
   "outputs": [
    {
     "name": "stdout",
     "output_type": "stream",
     "text": [
      "True\n"
     ]
    }
   ],
   "source": [
    "print(5<10)"
   ]
  },
  {
   "cell_type": "code",
   "execution_count": 16,
   "id": "b544442b",
   "metadata": {},
   "outputs": [
    {
     "name": "stdout",
     "output_type": "stream",
     "text": [
      "True\n"
     ]
    }
   ],
   "source": [
    "print(True)"
   ]
  },
  {
   "cell_type": "code",
   "execution_count": 17,
   "id": "2b95ec20",
   "metadata": {},
   "outputs": [
    {
     "name": "stdout",
     "output_type": "stream",
     "text": [
      "False\n"
     ]
    }
   ],
   "source": [
    "print(False)"
   ]
  },
  {
   "cell_type": "code",
   "execution_count": 18,
   "id": "6cd902ab",
   "metadata": {},
   "outputs": [
    {
     "name": "stdout",
     "output_type": "stream",
     "text": [
      "False\n"
     ]
    }
   ],
   "source": [
    "print(not True)"
   ]
  },
  {
   "cell_type": "code",
   "execution_count": 19,
   "id": "4e989756",
   "metadata": {},
   "outputs": [
    {
     "name": "stdout",
     "output_type": "stream",
     "text": [
      "True\n"
     ]
    }
   ],
   "source": [
    "print(not False)"
   ]
  },
  {
   "cell_type": "code",
   "execution_count": 20,
   "id": "d746a0eb",
   "metadata": {},
   "outputs": [
    {
     "name": "stdout",
     "output_type": "stream",
     "text": [
      "True\n"
     ]
    }
   ],
   "source": [
    "print(not (5>10))"
   ]
  },
  {
   "cell_type": "markdown",
   "id": "7a95ad72",
   "metadata": {},
   "source": [
    "### 변수"
   ]
  },
  {
   "cell_type": "code",
   "execution_count": 22,
   "id": "2177303d",
   "metadata": {},
   "outputs": [
    {
     "name": "stdout",
     "output_type": "stream",
     "text": [
      "우리집 강아지의 이름은 연탄이예요\n",
      "연탄이는 4살이며, 산책을 아주 좋아해요\n",
      "연탄이는 어른일까요? True\n"
     ]
    }
   ],
   "source": [
    "# 애완동물을 소개해 주세요~\n",
    "print(\"우리집 강아지의 이름은 연탄이예요\")\n",
    "print(\"연탄이는 4살이며, 산책을 아주 좋아해요\")\n",
    "print(\"연탄이는 어른일까요? True\")"
   ]
  },
  {
   "cell_type": "code",
   "execution_count": 35,
   "id": "59010b28",
   "metadata": {},
   "outputs": [
    {
     "name": "stdout",
     "output_type": "stream",
     "text": [
      "우리집강아지의 이름은연탄이예요\n",
      "연탄이는4살이며,산책을 아주 좋아해요\n",
      "연탄이는 어른일까요? True\n"
     ]
    }
   ],
   "source": [
    "name = \"연탄이\"\n",
    "animal = \"강아지\"\n",
    "age = 4\n",
    "hobby = \"산책\"\n",
    "is_adult = age>=3\n",
    "\n",
    "print(\"우리집\" +  animal  + \"의 이름은\" + name + \"예요\")\n",
    "print(name +  \"는\"  +  str(age)  + \"살이며,\" + hobby + \"을 아주 좋아해요\")\n",
    "print(name +  \"는 어른일까요? \" + str(is_adult))"
   ]
  },
  {
   "cell_type": "code",
   "execution_count": 38,
   "id": "037df7a2",
   "metadata": {},
   "outputs": [
    {
     "name": "stdout",
     "output_type": "stream",
     "text": [
      "우리집고양이의 이름은해피예요\n",
      "해피는4살이며,낮잠을 아주 좋아해요\n",
      "해피는 어른일까요? True\n"
     ]
    }
   ],
   "source": [
    "name = \"해피\"\n",
    "animal = \"고양이\"\n",
    "age = 4\n",
    "hobby = \"낮잠\"\n",
    "is_adult = age>=3\n",
    "\n",
    "print(\"우리집\" +  animal  + \"의 이름은\" + name + \"예요\")\n",
    "print(name +  \"는\"  +  str(age)  + \"살이며,\" + hobby + \"을 아주 좋아해요\")\n",
    "print(name +  \"는 어른일까요? \" + str(is_adult))"
   ]
  },
  {
   "cell_type": "code",
   "execution_count": 42,
   "id": "649cefb6",
   "metadata": {},
   "outputs": [
    {
     "name": "stdout",
     "output_type": "stream",
     "text": [
      "우리집고양이의 이름은해피예요\n",
      "해피는 4 살이며, 낮잠 을 아주 좋아해요\n",
      "해피는 어른일까요? True\n"
     ]
    }
   ],
   "source": [
    " name = \"해피\"\n",
    "animal = \"고양이\"\n",
    "age = 4\n",
    "hobby = \"낮잠\"\n",
    "is_adult = age>=3\n",
    "\n",
    "print(\"우리집\" +  animal  + \"의 이름은\" + name + \"예요\")\n",
    "print(name + \"는\" , age, \"살이며,\", hobby,  \"을 아주 좋아해요\")\n",
    "print(name +  \"는 어른일까요? \" + str(is_adult))"
   ]
  },
  {
   "cell_type": "markdown",
   "id": "16ef9ad7",
   "metadata": {},
   "source": [
    " ### 주석"
   ]
  },
  {
   "cell_type": "code",
   "execution_count": 44,
   "id": "432ff634",
   "metadata": {},
   "outputs": [
    {
     "data": {
      "text/plain": [
       "'이렇게\\n하면\\n여러문장이\\n주석처리\\n됩니다'"
      ]
     },
     "execution_count": 44,
     "metadata": {},
     "output_type": "execute_result"
    }
   ],
   "source": [
    "'''이렇게\n",
    "하면\n",
    "여러문장이\n",
    "주석처리\n",
    "됩니다'''\n",
    "# 주석 처리"
   ]
  },
  {
   "cell_type": "markdown",
   "id": "a9201afb",
   "metadata": {},
   "source": [
    "### 퀴즈1"
   ]
  },
  {
   "cell_type": "code",
   "execution_count": 45,
   "id": "380e3d56",
   "metadata": {},
   "outputs": [
    {
     "name": "stdout",
     "output_type": "stream",
     "text": [
      "('사당', '신도림', '인천공항') 행 열차가 들어오고 있습니다\n"
     ]
    }
   ],
   "source": [
    "station = \"사당\", \"신도림\", \"인천공항\"\n",
    "\n",
    "print(station, \"행 열차가 들어오고 있습니다\")"
   ]
  },
  {
   "cell_type": "code",
   "execution_count": 47,
   "id": "9391eb7b",
   "metadata": {},
   "outputs": [
    {
     "name": "stdout",
     "output_type": "stream",
     "text": [
      "사당행 열차가 들어오고 있습니다\n"
     ]
    }
   ],
   "source": [
    "station = \"사당\"\n",
    "\n",
    "print(station + \"행 열차가 들어오고 있습니다\")"
   ]
  },
  {
   "cell_type": "markdown",
   "id": "0b8e7091",
   "metadata": {},
   "source": [
    "### 연산자"
   ]
  },
  {
   "cell_type": "code",
   "execution_count": 48,
   "id": "eaf112f3",
   "metadata": {},
   "outputs": [
    {
     "name": "stdout",
     "output_type": "stream",
     "text": [
      "2\n"
     ]
    }
   ],
   "source": [
    "print(1+1)"
   ]
  },
  {
   "cell_type": "code",
   "execution_count": 49,
   "id": "43978043",
   "metadata": {},
   "outputs": [
    {
     "name": "stdout",
     "output_type": "stream",
     "text": [
      "1\n"
     ]
    }
   ],
   "source": [
    "print(3-2)"
   ]
  },
  {
   "cell_type": "code",
   "execution_count": 50,
   "id": "8e279b60",
   "metadata": {},
   "outputs": [
    {
     "name": "stdout",
     "output_type": "stream",
     "text": [
      "10\n"
     ]
    }
   ],
   "source": [
    "print(5*2)"
   ]
  },
  {
   "cell_type": "code",
   "execution_count": 51,
   "id": "52a2db42",
   "metadata": {},
   "outputs": [
    {
     "name": "stdout",
     "output_type": "stream",
     "text": [
      "2.0\n"
     ]
    }
   ],
   "source": [
    "print(6/3)"
   ]
  },
  {
   "cell_type": "code",
   "execution_count": 52,
   "id": "e4ac2727",
   "metadata": {},
   "outputs": [
    {
     "name": "stdout",
     "output_type": "stream",
     "text": [
      "8\n"
     ]
    }
   ],
   "source": [
    "print(2**3)"
   ]
  },
  {
   "cell_type": "code",
   "execution_count": 53,
   "id": "46ff7449",
   "metadata": {},
   "outputs": [
    {
     "name": "stdout",
     "output_type": "stream",
     "text": [
      "2\n"
     ]
    }
   ],
   "source": [
    "print(5%3)"
   ]
  },
  {
   "cell_type": "code",
   "execution_count": 54,
   "id": "123b8cad",
   "metadata": {},
   "outputs": [
    {
     "name": "stdout",
     "output_type": "stream",
     "text": [
      "1\n"
     ]
    }
   ],
   "source": [
    "print(10%3)"
   ]
  },
  {
   "cell_type": "code",
   "execution_count": 55,
   "id": "d821dc8f",
   "metadata": {},
   "outputs": [
    {
     "name": "stdout",
     "output_type": "stream",
     "text": [
      "1\n"
     ]
    }
   ],
   "source": [
    "print(5//3)"
   ]
  },
  {
   "cell_type": "code",
   "execution_count": 56,
   "id": "4e9868eb",
   "metadata": {},
   "outputs": [
    {
     "name": "stdout",
     "output_type": "stream",
     "text": [
      "3\n"
     ]
    }
   ],
   "source": [
    "print(10//3)"
   ]
  },
  {
   "cell_type": "code",
   "execution_count": 57,
   "id": "fb6003a8",
   "metadata": {},
   "outputs": [
    {
     "name": "stdout",
     "output_type": "stream",
     "text": [
      "True\n"
     ]
    }
   ],
   "source": [
    "print(10 > 3)"
   ]
  },
  {
   "cell_type": "code",
   "execution_count": 58,
   "id": "e0876c27",
   "metadata": {},
   "outputs": [
    {
     "name": "stdout",
     "output_type": "stream",
     "text": [
      "False\n"
     ]
    }
   ],
   "source": [
    "print(4 >= 7)"
   ]
  },
  {
   "cell_type": "code",
   "execution_count": 59,
   "id": "0f34760a",
   "metadata": {},
   "outputs": [
    {
     "name": "stdout",
     "output_type": "stream",
     "text": [
      "False\n"
     ]
    }
   ],
   "source": [
    "print(10 < 3)"
   ]
  },
  {
   "cell_type": "code",
   "execution_count": 60,
   "id": "49a358ce",
   "metadata": {},
   "outputs": [
    {
     "name": "stdout",
     "output_type": "stream",
     "text": [
      "True\n"
     ]
    }
   ],
   "source": [
    "print(5 <=5)"
   ]
  },
  {
   "cell_type": "code",
   "execution_count": 61,
   "id": "178365ba",
   "metadata": {},
   "outputs": [
    {
     "name": "stdout",
     "output_type": "stream",
     "text": [
      "True\n"
     ]
    }
   ],
   "source": [
    "print(3 == 3)"
   ]
  },
  {
   "cell_type": "code",
   "execution_count": 63,
   "id": "1409cb9a",
   "metadata": {},
   "outputs": [
    {
     "name": "stdout",
     "output_type": "stream",
     "text": [
      "False\n"
     ]
    }
   ],
   "source": [
    "print(4==2 )"
   ]
  },
  {
   "cell_type": "code",
   "execution_count": 64,
   "id": "c20eaca9",
   "metadata": {},
   "outputs": [
    {
     "name": "stdout",
     "output_type": "stream",
     "text": [
      "True\n"
     ]
    }
   ],
   "source": [
    "print(3 + 4 == 7)"
   ]
  },
  {
   "cell_type": "code",
   "execution_count": 65,
   "id": "57b2a59f",
   "metadata": {},
   "outputs": [
    {
     "name": "stdout",
     "output_type": "stream",
     "text": [
      "True\n"
     ]
    }
   ],
   "source": [
    "print(1 != 3) # 앞 뒤가 같지 않다를 의미"
   ]
  },
  {
   "cell_type": "code",
   "execution_count": 66,
   "id": "6c374bb2",
   "metadata": {},
   "outputs": [
    {
     "name": "stdout",
     "output_type": "stream",
     "text": [
      "False\n"
     ]
    }
   ],
   "source": [
    "print(not(1 !=3))"
   ]
  },
  {
   "cell_type": "code",
   "execution_count": 67,
   "id": "73405b23",
   "metadata": {},
   "outputs": [
    {
     "name": "stdout",
     "output_type": "stream",
     "text": [
      "True\n"
     ]
    }
   ],
   "source": [
    "print((3>0) and (3<5))"
   ]
  },
  {
   "cell_type": "code",
   "execution_count": 68,
   "id": "79b963c5",
   "metadata": {},
   "outputs": [
    {
     "name": "stdout",
     "output_type": "stream",
     "text": [
      "True\n"
     ]
    }
   ],
   "source": [
    "print((3>0) & (3<5))"
   ]
  },
  {
   "cell_type": "code",
   "execution_count": 70,
   "id": "d7fc1f24",
   "metadata": {},
   "outputs": [
    {
     "name": "stdout",
     "output_type": "stream",
     "text": [
      "True\n"
     ]
    }
   ],
   "source": [
    "print((3>0) or (3>5)) # or 조건은 하나만 충족해도 True"
   ]
  },
  {
   "cell_type": "code",
   "execution_count": 71,
   "id": "6e02da56",
   "metadata": {},
   "outputs": [
    {
     "name": "stdout",
     "output_type": "stream",
     "text": [
      "True\n"
     ]
    }
   ],
   "source": [
    "print((3>0) | (3>5)) # or 조건과 동일"
   ]
  },
  {
   "cell_type": "code",
   "execution_count": 72,
   "id": "8b4d5069",
   "metadata": {},
   "outputs": [
    {
     "name": "stdout",
     "output_type": "stream",
     "text": [
      "True\n"
     ]
    }
   ],
   "source": [
    "print(5 > 4 > 3)"
   ]
  },
  {
   "cell_type": "code",
   "execution_count": 73,
   "id": "3f3201e8",
   "metadata": {},
   "outputs": [
    {
     "name": "stdout",
     "output_type": "stream",
     "text": [
      "False\n"
     ]
    }
   ],
   "source": [
    "print(5 > 4 > 7)"
   ]
  },
  {
   "cell_type": "markdown",
   "id": "c05834ca",
   "metadata": {},
   "source": [
    "### 간단한 수식"
   ]
  },
  {
   "cell_type": "code",
   "execution_count": 74,
   "id": "aa3b740c",
   "metadata": {},
   "outputs": [
    {
     "name": "stdout",
     "output_type": "stream",
     "text": [
      "14\n"
     ]
    }
   ],
   "source": [
    "print(2 + 3 * 4)"
   ]
  },
  {
   "cell_type": "code",
   "execution_count": 76,
   "id": "ee32f4ab",
   "metadata": {},
   "outputs": [
    {
     "name": "stdout",
     "output_type": "stream",
     "text": [
      "20\n"
     ]
    }
   ],
   "source": [
    "print((2+3) * 4)"
   ]
  },
  {
   "cell_type": "code",
   "execution_count": 91,
   "id": "69190646",
   "metadata": {},
   "outputs": [
    {
     "name": "stdout",
     "output_type": "stream",
     "text": [
      "14\n"
     ]
    }
   ],
   "source": [
    "number = 2 + 3 * 4\n",
    "print(number)"
   ]
  },
  {
   "cell_type": "code",
   "execution_count": 92,
   "id": "8f90b160",
   "metadata": {},
   "outputs": [
    {
     "name": "stdout",
     "output_type": "stream",
     "text": [
      "16\n"
     ]
    }
   ],
   "source": [
    "number = number + 2\n",
    "print(number)"
   ]
  },
  {
   "cell_type": "code",
   "execution_count": 93,
   "id": "ac79743f",
   "metadata": {},
   "outputs": [
    {
     "name": "stdout",
     "output_type": "stream",
     "text": [
      "18\n"
     ]
    }
   ],
   "source": [
    "number += 2\n",
    "print(number)"
   ]
  },
  {
   "cell_type": "code",
   "execution_count": 94,
   "id": "c14ce1fc",
   "metadata": {},
   "outputs": [
    {
     "name": "stdout",
     "output_type": "stream",
     "text": [
      "36\n"
     ]
    }
   ],
   "source": [
    "number *= 2\n",
    "print(number)"
   ]
  },
  {
   "cell_type": "code",
   "execution_count": 95,
   "id": "8330d957",
   "metadata": {},
   "outputs": [
    {
     "name": "stdout",
     "output_type": "stream",
     "text": [
      "18\n"
     ]
    }
   ],
   "source": [
    "number /= 2\n",
    "print(int(number))"
   ]
  },
  {
   "cell_type": "code",
   "execution_count": 96,
   "id": "322f8d18",
   "metadata": {},
   "outputs": [
    {
     "name": "stdout",
     "output_type": "stream",
     "text": [
      "16.0\n"
     ]
    }
   ],
   "source": [
    "number -= 2\n",
    "print(number)"
   ]
  },
  {
   "cell_type": "code",
   "execution_count": 97,
   "id": "59ed8925",
   "metadata": {},
   "outputs": [
    {
     "name": "stdout",
     "output_type": "stream",
     "text": [
      "1.0\n"
     ]
    }
   ],
   "source": [
    "number %= 5\n",
    "print(number)"
   ]
  },
  {
   "cell_type": "markdown",
   "id": "f27f5743",
   "metadata": {},
   "source": [
    "### 숫자 처리 함수"
   ]
  },
  {
   "cell_type": "code",
   "execution_count": 1,
   "id": "723a9e5a",
   "metadata": {},
   "outputs": [
    {
     "name": "stdout",
     "output_type": "stream",
     "text": [
      "5\n"
     ]
    }
   ],
   "source": [
    "print(abs(-5)) #-5에 대한 절대 값"
   ]
  },
  {
   "cell_type": "code",
   "execution_count": 2,
   "id": "d19c2c9c",
   "metadata": {},
   "outputs": [
    {
     "name": "stdout",
     "output_type": "stream",
     "text": [
      "16\n"
     ]
    }
   ],
   "source": [
    "print(pow(4, 2)) # 2제곱"
   ]
  },
  {
   "cell_type": "code",
   "execution_count": 3,
   "id": "841ad5bd",
   "metadata": {},
   "outputs": [
    {
     "name": "stdout",
     "output_type": "stream",
     "text": [
      "12\n"
     ]
    }
   ],
   "source": [
    "print(max(5, 12)) # 최대값"
   ]
  },
  {
   "cell_type": "code",
   "execution_count": 4,
   "id": "07326a2f",
   "metadata": {},
   "outputs": [
    {
     "name": "stdout",
     "output_type": "stream",
     "text": [
      "5\n"
     ]
    }
   ],
   "source": [
    "print(min(5, 12)) # 최소값"
   ]
  },
  {
   "cell_type": "code",
   "execution_count": 5,
   "id": "d01ed357",
   "metadata": {},
   "outputs": [
    {
     "name": "stdout",
     "output_type": "stream",
     "text": [
      "3\n"
     ]
    }
   ],
   "source": [
    "print(round(3.14)) # 반올림"
   ]
  },
  {
   "cell_type": "code",
   "execution_count": 6,
   "id": "df39cd63",
   "metadata": {},
   "outputs": [
    {
     "name": "stdout",
     "output_type": "stream",
     "text": [
      "5\n"
     ]
    }
   ],
   "source": [
    "print(round(4.99))"
   ]
  },
  {
   "cell_type": "code",
   "execution_count": 7,
   "id": "7224471e",
   "metadata": {},
   "outputs": [],
   "source": [
    "from math import * # math 라이브러리 안에 있는 모든 것을 활용한다는 의미."
   ]
  },
  {
   "cell_type": "code",
   "execution_count": 8,
   "id": "72aa3b33",
   "metadata": {},
   "outputs": [
    {
     "name": "stdout",
     "output_type": "stream",
     "text": [
      "4\n"
     ]
    }
   ],
   "source": [
    "print(floor(4.99)) # 내림"
   ]
  },
  {
   "cell_type": "code",
   "execution_count": 9,
   "id": "acba2973",
   "metadata": {},
   "outputs": [
    {
     "name": "stdout",
     "output_type": "stream",
     "text": [
      "4\n"
     ]
    }
   ],
   "source": [
    "print(ceil(3.14)) # 올림"
   ]
  },
  {
   "cell_type": "code",
   "execution_count": 10,
   "id": "0d67abb9",
   "metadata": {},
   "outputs": [
    {
     "name": "stdout",
     "output_type": "stream",
     "text": [
      "4.0\n"
     ]
    }
   ],
   "source": [
    "print(sqrt(16)) # 제곱근 찾기"
   ]
  },
  {
   "cell_type": "markdown",
   "id": "e0872b5d",
   "metadata": {},
   "source": [
    "### 랜덤 함수"
   ]
  },
  {
   "cell_type": "code",
   "execution_count": 12,
   "id": "c3c15476",
   "metadata": {},
   "outputs": [],
   "source": [
    "from random import *"
   ]
  },
  {
   "cell_type": "code",
   "execution_count": 13,
   "id": "de000470",
   "metadata": {},
   "outputs": [
    {
     "name": "stdout",
     "output_type": "stream",
     "text": [
      "0.21006767536366833\n"
     ]
    }
   ],
   "source": [
    "print(random()) # 0.0 이상 1.0 미만의 임의의 값 생성"
   ]
  },
  {
   "cell_type": "code",
   "execution_count": 14,
   "id": "f11d2497",
   "metadata": {},
   "outputs": [
    {
     "name": "stdout",
     "output_type": "stream",
     "text": [
      "5.267776409535213\n"
     ]
    }
   ],
   "source": [
    "print(random() * 10) # 0.0 이상 10.0 미만의 임의의 값 생성"
   ]
  },
  {
   "cell_type": "code",
   "execution_count": 17,
   "id": "6b0a8d0d",
   "metadata": {},
   "outputs": [
    {
     "name": "stdout",
     "output_type": "stream",
     "text": [
      "4\n"
     ]
    }
   ],
   "source": [
    "print(int(random() * 10)) # 0 이상 10 미만의 임의의 값 생성"
   ]
  },
  {
   "cell_type": "code",
   "execution_count": 19,
   "id": "c2bb647f",
   "metadata": {},
   "outputs": [
    {
     "name": "stdout",
     "output_type": "stream",
     "text": [
      "6\n"
     ]
    }
   ],
   "source": [
    "print(int(random() * 10) +1) # 1 이상 10 이하의 임의의 값 생성"
   ]
  },
  {
   "cell_type": "code",
   "execution_count": 21,
   "id": "6646b1e2",
   "metadata": {},
   "outputs": [
    {
     "name": "stdout",
     "output_type": "stream",
     "text": [
      "43\n"
     ]
    }
   ],
   "source": [
    "print(int(random() * 45) +1) # 1 부터 45 이하의 임의의 값 생성"
   ]
  },
  {
   "cell_type": "code",
   "execution_count": 23,
   "id": "6e706247",
   "metadata": {},
   "outputs": [
    {
     "name": "stdout",
     "output_type": "stream",
     "text": [
      "9\n"
     ]
    }
   ],
   "source": [
    "print(randrange(1, 45)) # 1 부터 45 미만의 임의의 값 생성"
   ]
  },
  {
   "cell_type": "code",
   "execution_count": 24,
   "id": "3afadfea",
   "metadata": {},
   "outputs": [
    {
     "name": "stdout",
     "output_type": "stream",
     "text": [
      "34\n"
     ]
    }
   ],
   "source": [
    "print(randrange(1, 46)) # 1 부터 46 미만의 임의의 값 생성"
   ]
  },
  {
   "cell_type": "code",
   "execution_count": 25,
   "id": "e64e705e",
   "metadata": {},
   "outputs": [
    {
     "name": "stdout",
     "output_type": "stream",
     "text": [
      "11\n"
     ]
    }
   ],
   "source": [
    "print(randint(1, 45)) # 1 부터 45 이하의 임의의 값 생성"
   ]
  },
  {
   "cell_type": "markdown",
   "id": "d47a8357",
   "metadata": {},
   "source": [
    "### 퀴즈2"
   ]
  },
  {
   "cell_type": "code",
   "execution_count": 5,
   "id": "2f9e526a",
   "metadata": {},
   "outputs": [
    {
     "name": "stdout",
     "output_type": "stream",
     "text": [
      "오프라인 스터디 모임 날짜는 매월21일로 선정되었습니다.\n"
     ]
    }
   ],
   "source": [
    "from random import *\n",
    "date = randint(4, 28)\n",
    "print(\"오프라인 스터디 모임 날짜는 매월\"+ str(date) +\"일로 선정되었습니다.\")"
   ]
  },
  {
   "cell_type": "markdown",
   "id": "2d58650e",
   "metadata": {},
   "source": [
    "### 문자열"
   ]
  },
  {
   "cell_type": "code",
   "execution_count": 6,
   "id": "9c0452fc",
   "metadata": {},
   "outputs": [
    {
     "name": "stdout",
     "output_type": "stream",
     "text": [
      "나는 소년입니다\n"
     ]
    }
   ],
   "source": [
    "sentence = '나는 소년입니다'\n",
    "print(sentence)"
   ]
  },
  {
   "cell_type": "code",
   "execution_count": 7,
   "id": "525b7fe7",
   "metadata": {},
   "outputs": [
    {
     "name": "stdout",
     "output_type": "stream",
     "text": [
      "파이썬은 쉬워요\n"
     ]
    }
   ],
   "source": [
    "sentence2 = \"파이썬은 쉬워요\"\n",
    "print(sentence2)"
   ]
  },
  {
   "cell_type": "code",
   "execution_count": 9,
   "id": "5521c2c9",
   "metadata": {},
   "outputs": [
    {
     "name": "stdout",
     "output_type": "stream",
     "text": [
      "\n",
      "나는 소년이고,\n",
      "파이썬은 쉬워요\n",
      "\n"
     ]
    }
   ],
   "source": [
    "sentence3 = \"\"\"\n",
    "나는 소년이고,\n",
    "파이썬은 쉬워요\n",
    "\"\"\"\n",
    "print(sentence3)"
   ]
  },
  {
   "cell_type": "markdown",
   "id": "8c3d61ac",
   "metadata": {},
   "source": [
    "### 슬라이싱 (필요한 만큼을 잘라서 사용)"
   ]
  },
  {
   "cell_type": "code",
   "execution_count": 10,
   "id": "a9f8e403",
   "metadata": {},
   "outputs": [
    {
     "name": "stdout",
     "output_type": "stream",
     "text": [
      "성별 : 1\n"
     ]
    }
   ],
   "source": [
    "jumin = \"990120-1234567\"\n",
    "print(\"성별 : \" + jumin[7])"
   ]
  },
  {
   "cell_type": "code",
   "execution_count": 11,
   "id": "b03b2026",
   "metadata": {},
   "outputs": [
    {
     "name": "stdout",
     "output_type": "stream",
     "text": [
      "연 : 99\n"
     ]
    }
   ],
   "source": [
    "print(\"연 : \" + jumin[0:2])"
   ]
  },
  {
   "cell_type": "code",
   "execution_count": 12,
   "id": "8d985b90",
   "metadata": {},
   "outputs": [
    {
     "name": "stdout",
     "output_type": "stream",
     "text": [
      "월 : 01\n"
     ]
    }
   ],
   "source": [
    "print(\"월 : \" + jumin[2:4])"
   ]
  },
  {
   "cell_type": "code",
   "execution_count": 13,
   "id": "43b621ba",
   "metadata": {},
   "outputs": [
    {
     "name": "stdout",
     "output_type": "stream",
     "text": [
      "일 : 20\n"
     ]
    }
   ],
   "source": [
    "print(\"일 : \" + jumin[4:6])"
   ]
  },
  {
   "cell_type": "code",
   "execution_count": 14,
   "id": "397e8b26",
   "metadata": {},
   "outputs": [
    {
     "name": "stdout",
     "output_type": "stream",
     "text": [
      "생년월일 : 990120\n"
     ]
    }
   ],
   "source": [
    "print(\"생년월일 : \" + jumin[:6])"
   ]
  },
  {
   "cell_type": "code",
   "execution_count": 15,
   "id": "c3cbb134",
   "metadata": {},
   "outputs": [
    {
     "name": "stdout",
     "output_type": "stream",
     "text": [
      "뒤 7자리 : 1234567\n"
     ]
    }
   ],
   "source": [
    "print(\"뒤 7자리 : \" + jumin[7:])"
   ]
  },
  {
   "cell_type": "code",
   "execution_count": 18,
   "id": "fe49bb75",
   "metadata": {},
   "outputs": [
    {
     "name": "stdout",
     "output_type": "stream",
     "text": [
      "뒤 7자리 (뒤에서부터) : 1234567\n"
     ]
    }
   ],
   "source": [
    "print(\"뒤 7자리 (뒤에서부터) : \" + jumin[-7:])"
   ]
  },
  {
   "cell_type": "markdown",
   "id": "7d610351",
   "metadata": {},
   "source": [
    "### 문자열 처리 함수"
   ]
  },
  {
   "cell_type": "code",
   "execution_count": 4,
   "id": "e6bb9161",
   "metadata": {},
   "outputs": [
    {
     "name": "stdout",
     "output_type": "stream",
     "text": [
      "python is amazing\n"
     ]
    }
   ],
   "source": [
    "python = \"Python is Amazing\"\n",
    "print(python.lower())"
   ]
  },
  {
   "cell_type": "code",
   "execution_count": 5,
   "id": "9a0ce347",
   "metadata": {},
   "outputs": [
    {
     "name": "stdout",
     "output_type": "stream",
     "text": [
      "PYTHON IS AMAZING\n"
     ]
    }
   ],
   "source": [
    "print(python.upper())"
   ]
  },
  {
   "cell_type": "code",
   "execution_count": 6,
   "id": "314b24c8",
   "metadata": {},
   "outputs": [
    {
     "name": "stdout",
     "output_type": "stream",
     "text": [
      "True\n"
     ]
    }
   ],
   "source": [
    "print(python[0].isupper())"
   ]
  },
  {
   "cell_type": "code",
   "execution_count": 7,
   "id": "d7fa9c8f",
   "metadata": {},
   "outputs": [
    {
     "name": "stdout",
     "output_type": "stream",
     "text": [
      "17\n"
     ]
    }
   ],
   "source": [
    "print(len(python))"
   ]
  },
  {
   "cell_type": "code",
   "execution_count": 8,
   "id": "338e2834",
   "metadata": {},
   "outputs": [
    {
     "name": "stdout",
     "output_type": "stream",
     "text": [
      "Java is Amazing\n"
     ]
    }
   ],
   "source": [
    "print(python.replace(\"Python\", \"Java\"))"
   ]
  },
  {
   "cell_type": "code",
   "execution_count": 9,
   "id": "c7fc3fda",
   "metadata": {},
   "outputs": [
    {
     "name": "stdout",
     "output_type": "stream",
     "text": [
      "5\n"
     ]
    }
   ],
   "source": [
    "index = python.index(\"n\")\n",
    "print(index)"
   ]
  },
  {
   "cell_type": "code",
   "execution_count": 10,
   "id": "d7cd59a8",
   "metadata": {},
   "outputs": [
    {
     "name": "stdout",
     "output_type": "stream",
     "text": [
      "15\n"
     ]
    }
   ],
   "source": [
    "index = python.index(\"n\", index + 1)\n",
    "print(index)"
   ]
  },
  {
   "cell_type": "code",
   "execution_count": 11,
   "id": "f42a2088",
   "metadata": {},
   "outputs": [
    {
     "name": "stdout",
     "output_type": "stream",
     "text": [
      "-1\n"
     ]
    }
   ],
   "source": [
    "print(python.find(\"Java\"))"
   ]
  },
  {
   "cell_type": "code",
   "execution_count": 12,
   "id": "63bd9725",
   "metadata": {},
   "outputs": [
    {
     "ename": "ValueError",
     "evalue": "substring not found",
     "output_type": "error",
     "traceback": [
      "\u001b[1;31m---------------------------------------------------------------------------\u001b[0m",
      "\u001b[1;31mValueError\u001b[0m                                Traceback (most recent call last)",
      "Input \u001b[1;32mIn [12]\u001b[0m, in \u001b[0;36m<cell line: 1>\u001b[1;34m()\u001b[0m\n\u001b[1;32m----> 1\u001b[0m \u001b[38;5;28mprint\u001b[39m(\u001b[43mpython\u001b[49m\u001b[38;5;241;43m.\u001b[39;49m\u001b[43mindex\u001b[49m\u001b[43m(\u001b[49m\u001b[38;5;124;43m\"\u001b[39;49m\u001b[38;5;124;43mJava\u001b[39;49m\u001b[38;5;124;43m\"\u001b[39;49m\u001b[43m)\u001b[49m)\n",
      "\u001b[1;31mValueError\u001b[0m: substring not found"
     ]
    }
   ],
   "source": [
    "print(python.index(\"Java\"))"
   ]
  },
  {
   "cell_type": "code",
   "execution_count": 13,
   "id": "b8ae9dc5",
   "metadata": {},
   "outputs": [
    {
     "name": "stdout",
     "output_type": "stream",
     "text": [
      "hi\n"
     ]
    }
   ],
   "source": [
    "print(\"hi\")    # 1시간 32초"
   ]
  },
  {
   "cell_type": "code",
   "execution_count": 15,
   "id": "32048693",
   "metadata": {},
   "outputs": [
    {
     "name": "stdout",
     "output_type": "stream",
     "text": [
      "2\n"
     ]
    }
   ],
   "source": [
    "print(python.count(\"n\"))"
   ]
  },
  {
   "cell_type": "markdown",
   "id": "f98d7adc",
   "metadata": {},
   "source": [
    "### 문자열 포맷"
   ]
  },
  {
   "cell_type": "code",
   "execution_count": 16,
   "id": "50c7f0d9",
   "metadata": {},
   "outputs": [
    {
     "name": "stdout",
     "output_type": "stream",
     "text": [
      "ab\n"
     ]
    }
   ],
   "source": [
    "print(\"a\" + \"b\")"
   ]
  },
  {
   "cell_type": "code",
   "execution_count": 18,
   "id": "95c7bb68",
   "metadata": {},
   "outputs": [
    {
     "name": "stdout",
     "output_type": "stream",
     "text": [
      "a b\n"
     ]
    }
   ],
   "source": [
    "print(\"a\",\"b\")"
   ]
  },
  {
   "cell_type": "markdown",
   "id": "176cc011",
   "metadata": {},
   "source": [
    "#방법1"
   ]
  },
  {
   "cell_type": "code",
   "execution_count": 19,
   "id": "7f3f1db4",
   "metadata": {},
   "outputs": [
    {
     "name": "stdout",
     "output_type": "stream",
     "text": [
      "나는 20살입니다.\n"
     ]
    }
   ],
   "source": [
    "print(\"나는 %d살입니다.\" % 20)"
   ]
  },
  {
   "cell_type": "code",
   "execution_count": 20,
   "id": "3d6c147a",
   "metadata": {},
   "outputs": [
    {
     "name": "stdout",
     "output_type": "stream",
     "text": [
      "나는 파이썬을 좋아해요.\n"
     ]
    }
   ],
   "source": [
    "print(\"나는 %s을 좋아해요.\" % \"파이썬\")"
   ]
  },
  {
   "cell_type": "code",
   "execution_count": 21,
   "id": "fa3c72ef",
   "metadata": {},
   "outputs": [
    {
     "name": "stdout",
     "output_type": "stream",
     "text": [
      "Apple 은 A로 시작해요.\n"
     ]
    }
   ],
   "source": [
    "print(\"Apple 은 %c로 시작해요.\" % \"A\")"
   ]
  },
  {
   "cell_type": "code",
   "execution_count": 22,
   "id": "0bbe4caf",
   "metadata": {},
   "outputs": [
    {
     "name": "stdout",
     "output_type": "stream",
     "text": [
      "나는 20살입니다.\n"
     ]
    }
   ],
   "source": [
    "print(\"나는 %s살입니다.\" % 20)"
   ]
  },
  {
   "cell_type": "code",
   "execution_count": 23,
   "id": "8f473031",
   "metadata": {},
   "outputs": [
    {
     "name": "stdout",
     "output_type": "stream",
     "text": [
      "나는 파란색과 빨간색을 좋아해요.\n"
     ]
    }
   ],
   "source": [
    "print(\"나는 %s색과 %s색을 좋아해요.\" % (\"파란\", \"빨간\"))"
   ]
  },
  {
   "cell_type": "markdown",
   "id": "970d66c2",
   "metadata": {},
   "source": [
    "#방법2"
   ]
  },
  {
   "cell_type": "code",
   "execution_count": 24,
   "id": "dd601833",
   "metadata": {},
   "outputs": [
    {
     "name": "stdout",
     "output_type": "stream",
     "text": [
      "나는 20살입니다.\n"
     ]
    }
   ],
   "source": [
    "print(\"나는 {}살입니다.\".format(20))"
   ]
  },
  {
   "cell_type": "code",
   "execution_count": 25,
   "id": "3b5ce018",
   "metadata": {},
   "outputs": [
    {
     "name": "stdout",
     "output_type": "stream",
     "text": [
      "나는 파란색과 빨간색을 좋아해요.\n"
     ]
    }
   ],
   "source": [
    "print(\"나는 {}색과 {}색을 좋아해요.\".format(\"파란\", \"빨간\"))"
   ]
  },
  {
   "cell_type": "code",
   "execution_count": 26,
   "id": "40864d00",
   "metadata": {},
   "outputs": [
    {
     "name": "stdout",
     "output_type": "stream",
     "text": [
      "나는 파란색과 빨간색을 좋아해요.\n"
     ]
    }
   ],
   "source": [
    "print(\"나는 {0}색과 {1}색을 좋아해요.\".format(\"파란\", \"빨간\"))"
   ]
  },
  {
   "cell_type": "code",
   "execution_count": 27,
   "id": "9aad5ff8",
   "metadata": {},
   "outputs": [
    {
     "name": "stdout",
     "output_type": "stream",
     "text": [
      "나는 빨간색과 파란색을 좋아해요.\n"
     ]
    }
   ],
   "source": [
    "print(\"나는 {1}색과 {0}색을 좋아해요.\".format(\"파란\", \"빨간\"))"
   ]
  },
  {
   "cell_type": "markdown",
   "id": "73337849",
   "metadata": {},
   "source": [
    "##방법3"
   ]
  },
  {
   "cell_type": "code",
   "execution_count": 29,
   "id": "39e868e9",
   "metadata": {},
   "outputs": [
    {
     "name": "stdout",
     "output_type": "stream",
     "text": [
      "나는 20살이며, 빨간색을 좋아해요.\n"
     ]
    }
   ],
   "source": [
    "print(\"나는 {age}살이며, {color}색을 좋아해요.\".format(age=20, color=\"빨간\"))"
   ]
  },
  {
   "cell_type": "code",
   "execution_count": 30,
   "id": "2a70a0c6",
   "metadata": {},
   "outputs": [
    {
     "name": "stdout",
     "output_type": "stream",
     "text": [
      "나는 20살이며, 빨간색을 좋아해요.\n"
     ]
    }
   ],
   "source": [
    "print(\"나는 {age}살이며, {color}색을 좋아해요.\".format(color=\"빨간\", age=20))"
   ]
  },
  {
   "cell_type": "markdown",
   "id": "0d477e39",
   "metadata": {},
   "source": [
    "##방법4    (파이썬 버전 3.6 이상부터 가능)"
   ]
  },
  {
   "cell_type": "code",
   "execution_count": 1,
   "id": "058710d3",
   "metadata": {},
   "outputs": [
    {
     "name": "stdout",
     "output_type": "stream",
     "text": [
      "나는 20살이며, 빨간색을 좋아해요.\n"
     ]
    }
   ],
   "source": [
    "age=20\n",
    "color = \"빨간\"\n",
    "print(f\"나는 {age}살이며, {color}색을 좋아해요.\")"
   ]
  },
  {
   "cell_type": "markdown",
   "id": "0f8ccee8",
   "metadata": {},
   "source": [
    "### 탈출 문자"
   ]
  },
  {
   "cell_type": "code",
   "execution_count": 32,
   "id": "f5eae322",
   "metadata": {},
   "outputs": [
    {
     "name": "stdout",
     "output_type": "stream",
     "text": [
      "백문이 불여일견 백견이 불여일타\n"
     ]
    }
   ],
   "source": [
    "print(\"백문이 불여일견 백견이 불여일타\")"
   ]
  },
  {
   "cell_type": "code",
   "execution_count": 34,
   "id": "47bfedb5",
   "metadata": {},
   "outputs": [
    {
     "name": "stdout",
     "output_type": "stream",
     "text": [
      "백문이 불여일견 \n",
      "백견이 불여일타\n"
     ]
    }
   ],
   "source": [
    "print(\"백문이 불여일견 \\n백견이 불여일타\")"
   ]
  },
  {
   "cell_type": "code",
   "execution_count": 36,
   "id": "e33ff6ab",
   "metadata": {},
   "outputs": [
    {
     "name": "stdout",
     "output_type": "stream",
     "text": [
      "저는 \"나도코딩\"입니다.\n"
     ]
    }
   ],
   "source": [
    "print('저는 \"나도코딩\"입니다.')"
   ]
  },
  {
   "cell_type": "code",
   "execution_count": 37,
   "id": "8325562c",
   "metadata": {},
   "outputs": [
    {
     "name": "stdout",
     "output_type": "stream",
     "text": [
      "저는 '나도코딩'입니다.\n"
     ]
    }
   ],
   "source": [
    "print(\"저는 '나도코딩'입니다.\")"
   ]
  },
  {
   "cell_type": "code",
   "execution_count": 38,
   "id": "6353473f",
   "metadata": {},
   "outputs": [
    {
     "name": "stdout",
     "output_type": "stream",
     "text": [
      "저는 \"나도코딩\"입니다.\n"
     ]
    }
   ],
   "source": [
    "print(\"저는 \\\"나도코딩\\\"입니다.\")"
   ]
  },
  {
   "cell_type": "code",
   "execution_count": 39,
   "id": "7cf9c82a",
   "metadata": {},
   "outputs": [
    {
     "name": "stdout",
     "output_type": "stream",
     "text": [
      "저는 '나도코딩'입니다.\n"
     ]
    }
   ],
   "source": [
    "print(\"저는 \\'나도코딩\\'입니다.\")"
   ]
  },
  {
   "cell_type": "code",
   "execution_count": 40,
   "id": "aebda05f",
   "metadata": {},
   "outputs": [],
   "source": [
    "# \\\\ : 문장 내에서 \\\n",
    "# ex) print(\"C:\\\\Users\\\\Nadocoding\\\\Desktop\\\\PythonWorkspace>\")"
   ]
  },
  {
   "cell_type": "code",
   "execution_count": 41,
   "id": "96df6214",
   "metadata": {},
   "outputs": [],
   "source": [
    "# \\r : 커서를 맨 앞으로 이동."
   ]
  },
  {
   "cell_type": "code",
   "execution_count": 42,
   "id": "5e38ad6d",
   "metadata": {},
   "outputs": [
    {
     "name": "stdout",
     "output_type": "stream",
     "text": [
      "red Apple\r",
      "Pine\n"
     ]
    }
   ],
   "source": [
    "print(\"red Apple\\rPine\")"
   ]
  },
  {
   "cell_type": "code",
   "execution_count": 43,
   "id": "8cd10328",
   "metadata": {},
   "outputs": [],
   "source": [
    "# \\b : 백스페이스 (한 글자 삭제)"
   ]
  },
  {
   "cell_type": "code",
   "execution_count": 44,
   "id": "d4a3db44",
   "metadata": {},
   "outputs": [
    {
     "name": "stdout",
     "output_type": "stream",
     "text": [
      "Redd\bApple\n"
     ]
    }
   ],
   "source": [
    "print(\"Redd\\bApple\")"
   ]
  },
  {
   "cell_type": "code",
   "execution_count": 45,
   "id": "aabd6bf4",
   "metadata": {},
   "outputs": [],
   "source": [
    "# \\t : 탭"
   ]
  },
  {
   "cell_type": "code",
   "execution_count": 47,
   "id": "ad4a97af",
   "metadata": {},
   "outputs": [
    {
     "name": "stdout",
     "output_type": "stream",
     "text": [
      "Red\tApple\n"
     ]
    }
   ],
   "source": [
    "print(\"Red\\tApple\")"
   ]
  },
  {
   "cell_type": "markdown",
   "id": "f66ad73d",
   "metadata": {},
   "source": [
    "### 퀴즈3"
   ]
  },
  {
   "cell_type": "code",
   "execution_count": 48,
   "id": "8ba85fec",
   "metadata": {},
   "outputs": [],
   "source": [
    "# Quiz)_사이트별로 비밀번호를 만들어 주는 프로그램을 작성하시오\n",
    "\n",
    "# 예) http//naver.com\n",
    "# 규칙1 : http:// 부분은 제외 => naver.com\n",
    "# 규칙2 : 처음 만나는 점(.) 이후 부분은 제외 => naver\n",
    "# 규칙3 : 남은 글자 중 처음 세자리 + 글자 객수 + 글자 내 'e' 갯수 + \"!\"로 구성\n",
    "#                       (nav)           (5)              (1)         (1)\n",
    "# 예) 생성된 비밀번호 : nav51!"
   ]
  },
  {
   "cell_type": "code",
   "execution_count": 65,
   "id": "527c04ea",
   "metadata": {},
   "outputs": [
    {
     "name": "stdout",
     "output_type": "stream",
     "text": [
      "naver.com\n"
     ]
    }
   ],
   "source": [
    "url = \"http://naver.com\"\n",
    "my_str = url.replace(\"http://\", \"\") #규칙1\n",
    "print(my_str)"
   ]
  },
  {
   "cell_type": "code",
   "execution_count": 66,
   "id": "aed79423",
   "metadata": {},
   "outputs": [
    {
     "name": "stdout",
     "output_type": "stream",
     "text": [
      "naver\n"
     ]
    }
   ],
   "source": [
    "my_str = my_str[:my_str.index(\".\")] # my_str[0:5] -> 0~5 직전까지, (0, 1, 2, 3, 4)\n",
    "print(my_str)   #규칙2"
   ]
  },
  {
   "cell_type": "code",
   "execution_count": 67,
   "id": "a259839d",
   "metadata": {},
   "outputs": [
    {
     "name": "stdout",
     "output_type": "stream",
     "text": [
      "http://naver.com 의 비밀번호는 nav51! 입니다.\n"
     ]
    }
   ],
   "source": [
    "password = my_str[:3] + str(len(my_str)) + str(my_str.count(\"e\")) + \"!\"\n",
    "print(\"{0} 의 비밀번호는 {1} 입니다.\".format(url, password))"
   ]
  },
  {
   "cell_type": "code",
   "execution_count": 68,
   "id": "a10128b1",
   "metadata": {},
   "outputs": [
    {
     "name": "stdout",
     "output_type": "stream",
     "text": [
      "youtube.com\n",
      "youtube\n",
      "http://youtube.com 의 비밀번호는 you71! 입니다.\n"
     ]
    }
   ],
   "source": [
    "url = \"http://youtube.com\"\n",
    "my_str = url.replace(\"http://\", \"\")\n",
    "print(my_str)\n",
    "my_str = my_str[:my_str.index(\".\")] # my_str[0:5] -> 0~5 직전까지, (10, 1, 2, 3, 4)\n",
    "print(my_str)\n",
    "password = my_str[:3] + str(len(my_str)) + str(my_str.count(\"e\")) + \"!\"\n",
    "print(\"{0} 의 비밀번호는 {1} 입니다.\".format(url, password))"
   ]
  },
  {
   "cell_type": "markdown",
   "id": "e2ad5fcf",
   "metadata": {},
   "source": [
    "  ### 리스트"
   ]
  },
  {
   "cell_type": "code",
   "execution_count": 69,
   "id": "b51732b8",
   "metadata": {},
   "outputs": [],
   "source": [
    "# 지하철 칸별로 10명, 20명, 30명"
   ]
  },
  {
   "cell_type": "code",
   "execution_count": 70,
   "id": "21cac0e0",
   "metadata": {},
   "outputs": [],
   "source": [
    "subway1 = 10\n",
    "subway2 = 20\n",
    "subway3 = 30"
   ]
  },
  {
   "cell_type": "code",
   "execution_count": 71,
   "id": "06b7394a",
   "metadata": {},
   "outputs": [
    {
     "name": "stdout",
     "output_type": "stream",
     "text": [
      "[10, 20, 30]\n"
     ]
    }
   ],
   "source": [
    "subway = [10, 20, 30]\n",
    "print(subway)"
   ]
  },
  {
   "cell_type": "code",
   "execution_count": 72,
   "id": "4d4b3c98",
   "metadata": {},
   "outputs": [
    {
     "name": "stdout",
     "output_type": "stream",
     "text": [
      "['유재석', '조세호', '박명수']\n"
     ]
    }
   ],
   "source": [
    "subway = [\"유재석\", \"조세호\", \"박명수\"]\n",
    "print(subway)"
   ]
  },
  {
   "cell_type": "code",
   "execution_count": 73,
   "id": "e93f612b",
   "metadata": {},
   "outputs": [
    {
     "name": "stdout",
     "output_type": "stream",
     "text": [
      "1\n"
     ]
    }
   ],
   "source": [
    "# 조세호씨가 몇 번쨰 칸에 타고 있는가?\n",
    "print(subway.index(\"조세호\"))"
   ]
  },
  {
   "cell_type": "code",
   "execution_count": 74,
   "id": "d830999f",
   "metadata": {},
   "outputs": [
    {
     "name": "stdout",
     "output_type": "stream",
     "text": [
      "['유재석', '조세호', '박명수', '하하']\n"
     ]
    }
   ],
   "source": [
    "# 하하씨가 다음 정류장에서 다음 칸에 탐\n",
    "subway.append(\"하하\")\n",
    "print(subway)"
   ]
  },
  {
   "cell_type": "code",
   "execution_count": 76,
   "id": "03ce103c",
   "metadata": {},
   "outputs": [
    {
     "name": "stdout",
     "output_type": "stream",
     "text": [
      "['유재석', '정형돈', '조세호', '박명수', '하하']\n"
     ]
    }
   ],
   "source": [
    "# 정형돈씨를 유재석 / 조세호 사이에 태워봄\n",
    "subway.insert(1, \"정형돈\")\n",
    "print(subway)"
   ]
  },
  {
   "cell_type": "code",
   "execution_count": 77,
   "id": "adcb5a77",
   "metadata": {},
   "outputs": [
    {
     "name": "stdout",
     "output_type": "stream",
     "text": [
      "하하\n"
     ]
    }
   ],
   "source": [
    "# 지하철에 있는 사람을 한 명씩 뒤에서 꺼냄\n",
    "print(subway.pop())"
   ]
  },
  {
   "cell_type": "code",
   "execution_count": 78,
   "id": "baaf45e3",
   "metadata": {},
   "outputs": [
    {
     "name": "stdout",
     "output_type": "stream",
     "text": [
      "['유재석', '정형돈', '조세호', '박명수']\n"
     ]
    }
   ],
   "source": [
    "print(subway)"
   ]
  },
  {
   "cell_type": "code",
   "execution_count": 79,
   "id": "9d5ed7ec",
   "metadata": {},
   "outputs": [
    {
     "name": "stdout",
     "output_type": "stream",
     "text": [
      "박명수\n",
      "['유재석', '정형돈', '조세호']\n"
     ]
    }
   ],
   "source": [
    "print(subway.pop())\n",
    "print(subway)"
   ]
  },
  {
   "cell_type": "code",
   "execution_count": 80,
   "id": "01289c18",
   "metadata": {},
   "outputs": [
    {
     "name": "stdout",
     "output_type": "stream",
     "text": [
      "조세호\n",
      "['유재석', '정형돈']\n"
     ]
    }
   ],
   "source": [
    "print(subway.pop())\n",
    "print(subway)"
   ]
  },
  {
   "cell_type": "code",
   "execution_count": 81,
   "id": "9de37820",
   "metadata": {},
   "outputs": [
    {
     "name": "stdout",
     "output_type": "stream",
     "text": [
      "['유재석', '정형돈', '유재석']\n"
     ]
    }
   ],
   "source": [
    "# 같은 이름의 사람이 몇 명 있는지 확인\n",
    "subway.append(\"유재석\")\n",
    "print(subway)"
   ]
  },
  {
   "cell_type": "code",
   "execution_count": 82,
   "id": "9e523287",
   "metadata": {},
   "outputs": [
    {
     "name": "stdout",
     "output_type": "stream",
     "text": [
      "2\n"
     ]
    }
   ],
   "source": [
    "print(subway.count(\"유재석\"))"
   ]
  },
  {
   "cell_type": "code",
   "execution_count": 83,
   "id": "99325e75",
   "metadata": {},
   "outputs": [
    {
     "name": "stdout",
     "output_type": "stream",
     "text": [
      "[1, 2, 3, 4, 5]\n"
     ]
    }
   ],
   "source": [
    "# 정렬도 가능\n",
    "num_list = [5,2,4,3,1]\n",
    "num_list.sort()\n",
    "print(num_list)"
   ]
  },
  {
   "cell_type": "code",
   "execution_count": 84,
   "id": "7144bb7a",
   "metadata": {},
   "outputs": [
    {
     "name": "stdout",
     "output_type": "stream",
     "text": [
      "[5, 4, 3, 2, 1]\n"
     ]
    }
   ],
   "source": [
    "# 순서 뒤집기 가능\n",
    "num_list.reverse()\n",
    "print(num_list)"
   ]
  },
  {
   "cell_type": "code",
   "execution_count": 85,
   "id": "2ca3b774",
   "metadata": {},
   "outputs": [
    {
     "name": "stdout",
     "output_type": "stream",
     "text": [
      "[]\n"
     ]
    }
   ],
   "source": [
    "# 모두 지우기\n",
    "num_list.clear()\n",
    "print(num_list)"
   ]
  },
  {
   "cell_type": "code",
   "execution_count": 86,
   "id": "5c0b60cc",
   "metadata": {},
   "outputs": [
    {
     "name": "stdout",
     "output_type": "stream",
     "text": [
      "['조세호', 20, True]\n"
     ]
    }
   ],
   "source": [
    "# 다양한 자료형 함께 사용\n",
    "mix_list = [\"조세호\", 20, True]\n",
    "print(mix_list)"
   ]
  },
  {
   "cell_type": "code",
   "execution_count": 87,
   "id": "2c0c5650",
   "metadata": {},
   "outputs": [
    {
     "name": "stdout",
     "output_type": "stream",
     "text": [
      "[5, 2, 4, 3, 1, '조세호', 20, True]\n"
     ]
    }
   ],
   "source": [
    "# 리스트 확장\n",
    "num_list = [5,2,4,3,1]\n",
    "mix_list = [\"조세호\", 20, True]\n",
    "num_list.extend(mix_list)\n",
    "print(num_list)"
   ]
  },
  {
   "cell_type": "markdown",
   "id": "4c68785a",
   "metadata": {},
   "source": [
    "### 사전"
   ]
  },
  {
   "cell_type": "code",
   "execution_count": 101,
   "id": "3ea1268f",
   "metadata": {},
   "outputs": [
    {
     "name": "stdout",
     "output_type": "stream",
     "text": [
      "유재석\n"
     ]
    }
   ],
   "source": [
    "cabinet = {3:\"유재석\", 100:\"김태호\"}\n",
    "print(cabinet[3])"
   ]
  },
  {
   "cell_type": "code",
   "execution_count": 102,
   "id": "300a20db",
   "metadata": {},
   "outputs": [
    {
     "name": "stdout",
     "output_type": "stream",
     "text": [
      "김태호\n"
     ]
    }
   ],
   "source": [
    "print(cabinet[100])"
   ]
  },
  {
   "cell_type": "code",
   "execution_count": 103,
   "id": "aa9a3250",
   "metadata": {},
   "outputs": [
    {
     "name": "stdout",
     "output_type": "stream",
     "text": [
      "유재석\n"
     ]
    }
   ],
   "source": [
    "print(cabinet.get(3))"
   ]
  },
  {
   "cell_type": "code",
   "execution_count": 104,
   "id": "143e3257",
   "metadata": {},
   "outputs": [
    {
     "name": "stdout",
     "output_type": "stream",
     "text": [
      "None\n",
      "사용가능\n",
      "hi\n"
     ]
    }
   ],
   "source": [
    "print(cabinet.get(5))\n",
    "print(cabinet.get(5, \"사용가능\"))\n",
    "print(\"hi\")"
   ]
  },
  {
   "cell_type": "code",
   "execution_count": 105,
   "id": "9bf840b6",
   "metadata": {},
   "outputs": [
    {
     "name": "stdout",
     "output_type": "stream",
     "text": [
      "True\n"
     ]
    }
   ],
   "source": [
    "print(3 in cabinet)"
   ]
  },
  {
   "cell_type": "code",
   "execution_count": 106,
   "id": "89e5a073",
   "metadata": {},
   "outputs": [
    {
     "name": "stdout",
     "output_type": "stream",
     "text": [
      "False\n"
     ]
    }
   ],
   "source": [
    "print(5 in cabinet)"
   ]
  },
  {
   "cell_type": "code",
   "execution_count": 114,
   "id": "136b0ece",
   "metadata": {},
   "outputs": [
    {
     "name": "stdout",
     "output_type": "stream",
     "text": [
      "유재석\n",
      "김태호\n"
     ]
    }
   ],
   "source": [
    "cabinet = {\"A-3\":\"유재석\", \"B-100\":\"김태호\"}\n",
    "print(cabinet[\"A-3\"])\n",
    "print(cabinet[\"B-100\"])"
   ]
  },
  {
   "cell_type": "code",
   "execution_count": 115,
   "id": "1fe3d9aa",
   "metadata": {},
   "outputs": [
    {
     "name": "stdout",
     "output_type": "stream",
     "text": [
      "{'A-3': '유재석', 'B-100': '김태호'}\n",
      "{'A-3': '김종국', 'B-100': '김태호', 'C-20': '조세호'}\n"
     ]
    }
   ],
   "source": [
    "# 새 손님\n",
    "print(cabinet)\n",
    "cabinet[\"A-3\"] = \"김종국\"\n",
    "cabinet[\"C-20\"] = \"조세호\"\n",
    "print(cabinet)"
   ]
  },
  {
   "cell_type": "code",
   "execution_count": 116,
   "id": "b19ef1a0",
   "metadata": {},
   "outputs": [
    {
     "name": "stdout",
     "output_type": "stream",
     "text": [
      "{'B-100': '김태호', 'C-20': '조세호'}\n"
     ]
    }
   ],
   "source": [
    "# 간 손님\n",
    "del cabinet[\"A-3\"]\n",
    "print(cabinet)"
   ]
  },
  {
   "cell_type": "code",
   "execution_count": 117,
   "id": "4b7f3b50",
   "metadata": {},
   "outputs": [
    {
     "name": "stdout",
     "output_type": "stream",
     "text": [
      "dict_keys(['B-100', 'C-20'])\n"
     ]
    }
   ],
   "source": [
    "# key 들만 출력\n",
    "print(cabinet.keys())"
   ]
  },
  {
   "cell_type": "code",
   "execution_count": 118,
   "id": "db149380",
   "metadata": {},
   "outputs": [
    {
     "name": "stdout",
     "output_type": "stream",
     "text": [
      "dict_values(['김태호', '조세호'])\n"
     ]
    }
   ],
   "source": [
    "# value 들만 출력\n",
    "print(cabinet.values())"
   ]
  },
  {
   "cell_type": "code",
   "execution_count": 119,
   "id": "23dbf3c6",
   "metadata": {},
   "outputs": [
    {
     "name": "stdout",
     "output_type": "stream",
     "text": [
      "dict_items([('B-100', '김태호'), ('C-20', '조세호')])\n"
     ]
    }
   ],
   "source": [
    "# key, value 쌍으로 출력\n",
    "print(cabinet.items())"
   ]
  },
  {
   "cell_type": "code",
   "execution_count": 121,
   "id": "37438e31",
   "metadata": {},
   "outputs": [
    {
     "name": "stdout",
     "output_type": "stream",
     "text": [
      "{}\n"
     ]
    }
   ],
   "source": [
    "# 목욕탕 폐점\n",
    "cabinet.clear()\n",
    "print(cabinet)"
   ]
  },
  {
   "cell_type": "markdown",
   "id": "147e287e",
   "metadata": {},
   "source": [
    "### 튜플"
   ]
  },
  {
   "cell_type": "code",
   "execution_count": 1,
   "id": "ca40e8b8",
   "metadata": {},
   "outputs": [],
   "source": [
    "#튜플은 내용 변경이나 추가 할 수 없다."
   ]
  },
  {
   "cell_type": "code",
   "execution_count": 2,
   "id": "b6d4e059",
   "metadata": {},
   "outputs": [
    {
     "name": "stdout",
     "output_type": "stream",
     "text": [
      "돈까스\n",
      "치즈까스\n"
     ]
    }
   ],
   "source": [
    "menu = (\"돈까스\", \"치즈까스\")\n",
    "print(menu[0])\n",
    "print(menu[1])"
   ]
  },
  {
   "cell_type": "code",
   "execution_count": 4,
   "id": "fb659a0b",
   "metadata": {},
   "outputs": [],
   "source": [
    "# menu.add(\"생선까스\") 추가 X"
   ]
  },
  {
   "cell_type": "code",
   "execution_count": 5,
   "id": "6d15ea44",
   "metadata": {},
   "outputs": [
    {
     "name": "stdout",
     "output_type": "stream",
     "text": [
      "김종국 20 코딩\n"
     ]
    }
   ],
   "source": [
    "name = \"김종국\"\n",
    "age = 20\n",
    "hobby = \"코딩\"\n",
    "print(name, age, hobby)"
   ]
  },
  {
   "cell_type": "code",
   "execution_count": 6,
   "id": "943cffd3",
   "metadata": {},
   "outputs": [
    {
     "name": "stdout",
     "output_type": "stream",
     "text": [
      "김종국 20 코딩\n"
     ]
    }
   ],
   "source": [
    "(name, age, hobby) = (\"김종국\", 20, \"코딩\")\n",
    "print(name, age, hobby)"
   ]
  },
  {
   "cell_type": "markdown",
   "id": "0cee5f07",
   "metadata": {},
   "source": [
    "### 세트"
   ]
  },
  {
   "cell_type": "code",
   "execution_count": 7,
   "id": "2441b6a1",
   "metadata": {},
   "outputs": [
    {
     "name": "stdout",
     "output_type": "stream",
     "text": [
      "{1, 2, 3}\n"
     ]
    }
   ],
   "source": [
    "# 집합 (set)\n",
    "# 중복이 안됨, 순서 없음\n",
    "my_set = {1,2,3,3,3}\n",
    "print(my_set)"
   ]
  },
  {
   "cell_type": "code",
   "execution_count": 8,
   "id": "8f718f49",
   "metadata": {},
   "outputs": [
    {
     "name": "stdout",
     "output_type": "stream",
     "text": [
      "{'유재석'}\n"
     ]
    }
   ],
   "source": [
    "java = {\"유재석\", \"김태호\", \"양세형\"}\n",
    "python = set([\"유재석\", \"박명수\"])\n",
    "# 교집합 (java 와 python을 모두 할 수 있는 사람)\n",
    "print(java & python)"
   ]
  },
  {
   "cell_type": "code",
   "execution_count": 9,
   "id": "e160f2b2",
   "metadata": {},
   "outputs": [
    {
     "name": "stdout",
     "output_type": "stream",
     "text": [
      "{'유재석'}\n"
     ]
    }
   ],
   "source": [
    "print(java.intersection(python))"
   ]
  },
  {
   "cell_type": "code",
   "execution_count": 10,
   "id": "3a637a24",
   "metadata": {},
   "outputs": [
    {
     "name": "stdout",
     "output_type": "stream",
     "text": [
      "{'김태호', '양세형', '박명수', '유재석'}\n"
     ]
    }
   ],
   "source": [
    "# 합집합 (jave 도 할 수 있거나 python 할 수 있는 개발자)\n",
    "print(java | python)"
   ]
  },
  {
   "cell_type": "code",
   "execution_count": 11,
   "id": "9efe5147",
   "metadata": {},
   "outputs": [
    {
     "name": "stdout",
     "output_type": "stream",
     "text": [
      "{'김태호', '양세형', '박명수', '유재석'}\n"
     ]
    }
   ],
   "source": [
    "print(java.union(python))"
   ]
  },
  {
   "cell_type": "code",
   "execution_count": 12,
   "id": "c27c6f02",
   "metadata": {},
   "outputs": [
    {
     "name": "stdout",
     "output_type": "stream",
     "text": [
      "{'김태호', '양세형'}\n"
     ]
    }
   ],
   "source": [
    "# 차집합 (java는 할 줄 알지만 python은 할 줄 모르는 개발자)\n",
    "print(java - python)"
   ]
  },
  {
   "cell_type": "code",
   "execution_count": 14,
   "id": "6707b56b",
   "metadata": {},
   "outputs": [
    {
     "name": "stdout",
     "output_type": "stream",
     "text": [
      "{'김태호', '양세형'}\n"
     ]
    }
   ],
   "source": [
    "print(java.difference(python))"
   ]
  },
  {
   "cell_type": "code",
   "execution_count": 15,
   "id": "763afce3",
   "metadata": {},
   "outputs": [
    {
     "name": "stdout",
     "output_type": "stream",
     "text": [
      "{'박명수', '유재석', '김태호'}\n"
     ]
    }
   ],
   "source": [
    "# python을 할 줄 아는 사람이 늘어남\n",
    "python.add(\"김태호\")\n",
    "print(python)"
   ]
  },
  {
   "cell_type": "code",
   "execution_count": 16,
   "id": "3f5fb809",
   "metadata": {},
   "outputs": [
    {
     "name": "stdout",
     "output_type": "stream",
     "text": [
      "{'유재석', '양세형'}\n"
     ]
    }
   ],
   "source": [
    "# java 를 잊었을 때\n",
    "java.remove(\"김태호\")\n",
    "print(java)"
   ]
  },
  {
   "cell_type": "markdown",
   "id": "f3bdf7b5",
   "metadata": {},
   "source": [
    "### 자료구조의 변경"
   ]
  },
  {
   "cell_type": "code",
   "execution_count": 18,
   "id": "5cc11add",
   "metadata": {},
   "outputs": [
    {
     "name": "stdout",
     "output_type": "stream",
     "text": [
      "{'주스', '커피', '우유'} <class 'set'>\n"
     ]
    }
   ],
   "source": [
    "menu = {\"커피\", \"우유\", \"주스\"}\n",
    "print(menu, type(menu))"
   ]
  },
  {
   "cell_type": "code",
   "execution_count": 19,
   "id": "6abacd10",
   "metadata": {},
   "outputs": [
    {
     "name": "stdout",
     "output_type": "stream",
     "text": [
      "['주스', '커피', '우유'] <class 'list'>\n"
     ]
    }
   ],
   "source": [
    "menu = list(menu)\n",
    "print(menu, type(menu))"
   ]
  },
  {
   "cell_type": "code",
   "execution_count": 20,
   "id": "c60d0940",
   "metadata": {},
   "outputs": [
    {
     "name": "stdout",
     "output_type": "stream",
     "text": [
      "('주스', '커피', '우유') <class 'tuple'>\n"
     ]
    }
   ],
   "source": [
    "menu = tuple(menu)\n",
    "print(menu, type(menu))"
   ]
  },
  {
   "cell_type": "code",
   "execution_count": 21,
   "id": "a60d1c9d",
   "metadata": {},
   "outputs": [
    {
     "name": "stdout",
     "output_type": "stream",
     "text": [
      "{'주스', '커피', '우유'} <class 'set'>\n"
     ]
    }
   ],
   "source": [
    "menu = set(menu)\n",
    "print(menu, type(menu))"
   ]
  },
  {
   "cell_type": "markdown",
   "id": "101196dc",
   "metadata": {},
   "source": [
    "### 퀴즈4"
   ]
  },
  {
   "cell_type": "code",
   "execution_count": 22,
   "id": "05d43503",
   "metadata": {},
   "outputs": [],
   "source": [
    "#당신의 학교에서는 파이썬 코딩 대회를 주최합니다.\n",
    "#참석률을 높이기 위해 댓글 이벤트를 진행하기로 했습니다.\n",
    "#댓글 작성자들 중에 추첨을 통해 1명은 치킨, 3명은 커피 쿠폰을 받게 됩니다.\n",
    "# 추첨 프로그램을 작성하시오."
   ]
  },
  {
   "cell_type": "code",
   "execution_count": 23,
   "id": "f6c954a9",
   "metadata": {},
   "outputs": [],
   "source": [
    "# 조건1: 편의상 댓글은 20명이 작성하였고 아이디는 1~20 이라고 가정\n",
    "# 조건2: 댓글 내용과 상관 없이 무작위로 추첨하되 중복 불가\n",
    "# 조건3: random 모듈의 shuffle 과 sample 을 활용"
   ]
  },
  {
   "cell_type": "code",
   "execution_count": 24,
   "id": "cb100c03",
   "metadata": {},
   "outputs": [],
   "source": [
    "#(출력 예제)\n",
    "# 당첨자 발표\n",
    "# 치킨 당첨자 : 1\n",
    "# 커피 당첨자 : [2, 3, 4]\n",
    "# 축하합니다"
   ]
  },
  {
   "cell_type": "code",
   "execution_count": 29,
   "id": "17e4919f",
   "metadata": {},
   "outputs": [],
   "source": [
    "#(활용 예제)\n",
    "#from random import *\n",
    "#1st = [1,2,3,4,5]\n",
    "#print(1st)\n",
    "#shuffle(1st)\n",
    "#print(1st)\n",
    "#print(sample(1st, 1))"
   ]
  },
  {
   "cell_type": "code",
   "execution_count": 32,
   "id": "e21426e2",
   "metadata": {},
   "outputs": [
    {
     "name": "stdout",
     "output_type": "stream",
     "text": [
      "<class 'range'>\n",
      "<class 'list'>\n"
     ]
    }
   ],
   "source": [
    "from random import *\n",
    "users = range(1, 21) # 1부터 20까지 숫자를 생성\n",
    "print(type(users))\n",
    "users = list(users)\n",
    "print(type(users))"
   ]
  },
  {
   "cell_type": "code",
   "execution_count": 33,
   "id": "7c69de2f",
   "metadata": {},
   "outputs": [
    {
     "name": "stdout",
     "output_type": "stream",
     "text": [
      "[1, 2, 3, 4, 5, 6, 7, 8, 9, 10, 11, 12, 13, 14, 15, 16, 17, 18, 19, 20]\n",
      "[4, 11, 15, 17, 19, 3, 12, 10, 2, 5, 7, 6, 13, 14, 18, 8, 16, 9, 20, 1]\n"
     ]
    }
   ],
   "source": [
    "print(users)\n",
    "shuffle(users)\n",
    "print(users)"
   ]
  },
  {
   "cell_type": "code",
   "execution_count": 35,
   "id": "711dcdc8",
   "metadata": {},
   "outputs": [
    {
     "name": "stdout",
     "output_type": "stream",
     "text": [
      "-- 당첨자 발표 --\n",
      "치킨 당첨자 : 2\n",
      "커피 당첨자 : [4, 5, 3]\n",
      "-- 축하합니다 --\n"
     ]
    }
   ],
   "source": [
    "winners = sample(users, 4) # 4명 중에서 1명은 치킨, 3명은 커피\n",
    "print(\"-- 당첨자 발표 --\")\n",
    "print(\"치킨 당첨자 : {0}\".format(winners[0]))\n",
    "print(\"커피 당첨자 : {0}\".format(winners[1:]))\n",
    "print(\"-- 축하합니다 --\")"
   ]
  },
  {
   "cell_type": "markdown",
   "id": "08cd1b20",
   "metadata": {},
   "source": [
    "### if"
   ]
  },
  {
   "cell_type": "code",
   "execution_count": null,
   "id": "7e98c44c",
   "metadata": {},
   "outputs": [],
   "source": [
    "#weather = \"비\"\n",
    "#if 조건:\n",
    "    #실행 명령문"
   ]
  },
  {
   "cell_type": "code",
   "execution_count": 1,
   "id": "8ec2292a",
   "metadata": {},
   "outputs": [
    {
     "name": "stdout",
     "output_type": "stream",
     "text": [
      "우산을 챙기세요\n"
     ]
    }
   ],
   "source": [
    "weather = \"비\"\n",
    "if weather == \"비\":\n",
    "    print(\"우산을 챙기세요\")"
   ]
  },
  {
   "cell_type": "code",
   "execution_count": 2,
   "id": "b6281d11",
   "metadata": {},
   "outputs": [],
   "source": [
    "weather = \"맑음\"\n",
    "if weather == \"비\":\n",
    "    print(\"우산을 챙기세요\")"
   ]
  },
  {
   "cell_type": "code",
   "execution_count": 3,
   "id": "aab5c76d",
   "metadata": {},
   "outputs": [
    {
     "name": "stdout",
     "output_type": "stream",
     "text": [
      "마스크를 챙기세요\n"
     ]
    }
   ],
   "source": [
    "weather = \"미세먼지\"\n",
    "if weather == \"비\":\n",
    "    print(\"우산을 챙기세요\")\n",
    "elif weather == \"미세먼지\":\n",
    "    print(\"마스크를 챙기세요\")"
   ]
  },
  {
   "cell_type": "code",
   "execution_count": 4,
   "id": "1e6cf57e",
   "metadata": {},
   "outputs": [
    {
     "name": "stdout",
     "output_type": "stream",
     "text": [
      "준비물 필요 없어요\n"
     ]
    }
   ],
   "source": [
    "weather = \"맑아요\"\n",
    "if weather == \"비\":\n",
    "    print(\"우산을 챙기세요\")\n",
    "elif weather == \"미세먼지\":\n",
    "    print(\"마스크를 챙기세요\")\n",
    "else:\n",
    "    print(\"준비물 필요 없어요\")"
   ]
  },
  {
   "cell_type": "code",
   "execution_count": 5,
   "id": "6062045d",
   "metadata": {},
   "outputs": [
    {
     "name": "stdout",
     "output_type": "stream",
     "text": [
      "오늘 날씨는 어때요? 맑음\n",
      "준비물 필요 없어요\n"
     ]
    }
   ],
   "source": [
    "weather = input(\"오늘 날씨는 어때요? \")\n",
    "if weather == \"비\":\n",
    "    print(\"우산을 챙기세요\")\n",
    "elif weather == \"미세먼지\":\n",
    "    print(\"마스크를 챙기세요\")\n",
    "else:\n",
    "    print(\"준비물 필요 없어요\")"
   ]
  },
  {
   "cell_type": "code",
   "execution_count": 6,
   "id": "06a36c95",
   "metadata": {},
   "outputs": [
    {
     "name": "stdout",
     "output_type": "stream",
     "text": [
      "오늘 날씨는 어때요? 눈\n",
      "우산을 챙기세요\n"
     ]
    }
   ],
   "source": [
    "weather = input(\"오늘 날씨는 어때요? \")\n",
    "if weather == \"비\" or weather == \"눈\":\n",
    "    print(\"우산을 챙기세요\")\n",
    "elif weather == \"미세먼지\":\n",
    "    print(\"마스크를 챙기세요\")\n",
    "else:\n",
    "    print(\"준비물 필요 없어요\")"
   ]
  },
  {
   "cell_type": "code",
   "execution_count": 7,
   "id": "e566ee76",
   "metadata": {},
   "outputs": [
    {
     "name": "stdout",
     "output_type": "stream",
     "text": [
      "기온은 어때요? 20\n",
      "괜찮은 날씨에요\n"
     ]
    }
   ],
   "source": [
    "temp = int(input(\"기온은 어때요? \"))\n",
    "if 30 <= temp:\n",
    "    print(\"너무 더워요. 나가지 마세요\")\n",
    "elif 10 <= temp and temp < 30:\n",
    "    print(\"괜찮은 날씨에요\")\n",
    "elif 0 <= temp and temp < 10:\n",
    "    print(\"외투를 챙기세요\")\n",
    "else:\n",
    "    print(\"너무 추워요. 나가지 마세요\")"
   ]
  },
  {
   "cell_type": "code",
   "execution_count": null,
   "id": "196288f1",
   "metadata": {},
   "outputs": [],
   "source": [
    "2시간 5분 6초"
   ]
  }
 ],
 "metadata": {
  "kernelspec": {
   "display_name": "Python 3 (ipykernel)",
   "language": "python",
   "name": "python3"
  },
  "language_info": {
   "codemirror_mode": {
    "name": "ipython",
    "version": 3
   },
   "file_extension": ".py",
   "mimetype": "text/x-python",
   "name": "python",
   "nbconvert_exporter": "python",
   "pygments_lexer": "ipython3",
   "version": "3.10.2"
  }
 },
 "nbformat": 4,
 "nbformat_minor": 5
}
