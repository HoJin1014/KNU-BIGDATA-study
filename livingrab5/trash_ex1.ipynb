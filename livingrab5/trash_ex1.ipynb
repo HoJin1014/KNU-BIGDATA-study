{
 "cells": [
  {
   "cell_type": "code",
   "execution_count": 1,
   "id": "e1409350",
   "metadata": {
    "scrolled": true
   },
   "outputs": [],
   "source": [
    "# 모듈 로딩\n",
    "import os\n",
    "import cv2\n",
    "import numpy as np\n",
    "import pandas as pd\n",
    "import warnings\n",
    "warnings.filterwarnings('ignore')\n",
    "import matplotlib.pyplot as plt\n",
    "from PIL import Image\n",
    "from bs4 import BeautifulSoup\n",
    "from selenium import webdriver\n",
    "from tensorflow.keras import Sequential\n",
    "from sklearn.utils import all_estimators\n",
    "from sklearn.linear_model import LogisticRegression\n",
    "from sklearn.model_selection import train_test_split\n",
    "from urllib.request import urlopen,Request,urlretrieve\n",
    "from tensorflow.keras.utils import set_random_seed, plot_model\n",
    "from tensorflow.keras.preprocessing.image import ImageDataGenerator\n",
    "from tensorflow.keras.layers import Dense, Conv2D, Flatten, MaxPool2D, MaxPooling2D"
   ]
  },
  {
   "cell_type": "code",
   "execution_count": 2,
   "id": "2935683e",
   "metadata": {},
   "outputs": [],
   "source": [
    "def solution(foldname):\n",
    "    l=[]\n",
    "    for i in os.listdir('./'+foldname+'/'):\n",
    "        n=np.array(Image.open('./'+foldname+'/'+i))/255.0\n",
    "        if foldname=='blwh':\n",
    "           n_list=n.reshape(-1,50,50)[0].tolist()\n",
    "        else:\n",
    "            n_list=n.reshape(-1,50,50,3)[0].tolist()\n",
    "        l.append(n_list)\n",
    "    return np.array(l)"
   ]
  },
  {
   "cell_type": "code",
   "execution_count": 3,
   "id": "697198f4",
   "metadata": {},
   "outputs": [],
   "source": [
    "# 동적 웹 크롤링으로 사진저장 함수\n",
    "def image_save(urlpath,charname):\n",
    "    driver = webdriver.Chrome('chromedriver.exe') # C:/Users/User/EXAM_PANDAS/DAY-0630/DAY-0920\n",
    "    #driver = webdriver.Chrome('C:\\\\workspace’) # Windows 사용자의 설치 경로\n",
    "    driver.get(urlpath)\n",
    "    html=driver.page_source\n",
    "    soup=BeautifulSoup(html,'html.parser')\n",
    "    driver.quit()\n",
    "\n",
    "    # 태그-속성 찾기\n",
    "    image_finds=soup.select(\"div.bRMDJf img\")\n",
    "    \n",
    "    # 이미지의 url찾기\n",
    "    image=[]\n",
    "    for image_find in image_finds:\n",
    "        try:\n",
    "            image.append(image_find['src'])\n",
    "            image.append(image_find['data-src'])\n",
    "        except:\n",
    "            pass\n",
    "    \n",
    "    # 폴더 만들기\n",
    "    if not os.path.exists('./trashdata'+charname):\n",
    "        os.makedirs('./trashdata'+charname)\n",
    "    \n",
    "    # 파일 저장하기\n",
    "    for i in range(0,len(image)):\n",
    "        urlretrieve(image[i],'./trashdata'+charname+'/'+charname+str(i)+'.png')\n",
    "\n",
    "    # 파일 크기 조절\n",
    "    for png in os.listdir('./trashdata'+charname):\n",
    "        Image.open('./trashdata'+charname+'/'+png).resize((50,50)).save('./trashdata'+charname+'/'+png)"
   ]
  },
  {
   "cell_type": "code",
   "execution_count": 4,
   "id": "eafd3381",
   "metadata": {},
   "outputs": [],
   "source": [
    "# 메탈 쓰레기\n",
    "image_save('https://www.google.com/search?q=%EB%A9%94%ED%83%88%EC%93%B0%EB%A0%88%EA%B8%B0&sxsrf=ALiCzsYgMTaD8UrBJjZcoXB0ejjjZXE0og:1667533346124&source=lnms&tbm=isch&sa=X&ved=2ahUKEwiisPzlzZP7AhXaNt4KHdZ5DHUQ_AUoAXoECAEQAw&biw=852&bih=946&dpr=1.5','metal')\n",
    "\n",
    "# 금속 사진\n",
    "image_save('https://www.google.com/search?q=%EA%B8%88%EC%86%8D%EC%82%AC%EC%A7%84&sxsrf=ALiCzsZWUgCli9HM9aXViWTb-sQ_BLsMUw:1667585448154&source=lnms&tbm=isch&sa=X&ved=2ahUKEwjE8JPyj5X7AhVX_GEKHY25DhYQ_AUoAXoECAIQAw&biw=1707&bih=956&dpr=1.5', 'metal1')\n",
    "\n",
    "# 유리 쓰레기\n",
    "image_save('https://www.google.com/search?q=%EC%9C%A0%EB%A6%AC%EC%93%B0%EB%A0%88%EA%B8%B0&sxsrf=ALiCzsaq14G6Dozn2OoZypk41jDZtJOT7g:1667533415257&source=lnms&tbm=isch&sa=X&ved=2ahUKEwjh-PeGzpP7AhVcl1YBHd5eDegQ_AUoAXoECAIQAw&biw=852&bih=946&dpr=1.5', 'glass')\n",
    "\n",
    "# 유리 사진\n",
    "image_save('https://www.google.com/search?q=%EC%9C%A0%EB%A6%AC%EB%B3%91%EC%82%AC%EC%A7%84&sxsrf=ALiCzsboGcYraCGzj5JGtEPkMNMt7Es1fQ:1667585399573&source=lnms&tbm=isch&sa=X&ved=2ahUKEwjo4P7aj5X7AhVHVN4KHZQ4CnQQ_AUoAXoECAMQAw&biw=1707&bih=956&dpr=1.5', 'glass1')\n",
    "\n",
    "# 종이 쓰레기\n",
    "image_save('https://www.google.com/search?q=%EC%A2%85%EC%9D%B4%EC%93%B0%EB%A0%88%EA%B8%B0&sxsrf=ALiCzsYC9L5qJdGyqmMqqjakLIj1HulBow:1667533460827&source=lnms&tbm=isch&sa=X&ved=2ahUKEwiHrNWczpP7AhUGmFYBHVyVBTUQ_AUoAXoECAEQAw&biw=852&bih=946&dpr=1.5', 'paper')\n",
    "\n",
    "# 종이 사진 \n",
    "image_save('https://www.google.com/search?q=%EC%A2%85%EC%9D%B4%EC%82%AC%EC%A7%84&sxsrf=ALiCzsaqos5SvKAa7v47ezTeSP84RZsJyw:1667585343005&source=lnms&tbm=isch&sa=X&ved=2ahUKEwjfiILAj5X7AhUC3mEKHWD5AvIQ_AUoAXoECAEQAw&biw=1707&bih=956&dpr=1.5', 'paper1')\n",
    "\n",
    "# 플라스틱 쓰레기\n",
    "image_save('https://www.google.com/search?q=%ED%94%8C%EB%9D%BC%EC%8A%A4%ED%8B%B1%EC%93%B0%EB%A0%88%EA%B8%B0&sxsrf=ALiCzsbGqKr6AF6F6TpdksGB2H7Kl3qI1A:1667533505972&source=lnms&tbm=isch&sa=X&ved=2ahUKEwit0JiyzpP7AhXfrlYBHZSfAi0Q_AUoAXoECAIQAw&biw=852&bih=946&dpr=1.5', 'plastic')\n",
    "\n",
    "# 플라스틱류 사진\n",
    "image_save('https://www.google.com/search?q=%ED%94%8C%EB%9D%BC%EC%8A%A4%ED%8B%B1+%EC%82%AC%EC%A7%84&sxsrf=ALiCzsaEUoBi3eo3fly-x8K8avK85xigYA:1667585554739&source=lnms&tbm=isch&sa=X&ved=2ahUKEwj8sP2kkJX7AhW5gFYBHY0uBu4Q_AUoAXoECAIQAw&biw=1707&bih=956&dpr=1.5', 'plastic1')\n",
    "\n",
    "# 음식물 쓰레기\n",
    "image_save('https://www.google.com/search?q=%EC%9D%8C%EC%8B%9D%EB%AC%BC+%EC%93%B0%EB%A0%88%EA%B8%B0&sxsrf=ALiCzsYd6U9ofgUrESbI6v60-pYMq5hkfQ:1667533565760&source=lnms&tbm=isch&sa=X&ved=2ahUKEwix5tnOzpP7AhVSm1YBHc5wBuQQ_AUoAXoECAIQAw&biw=852&bih=946&dpr=1.5', 'food')\n",
    "\n",
    "# 음식쓰레기\n",
    "image_save('https://www.google.com/search?q=%EC%9D%8C%EC%8B%9D%EB%AC%BC&sxsrf=ALiCzsbpg_iXM3H21NgxkNGLAKPypaXmag:1667585630769&source=lnms&tbm=isch&sa=X&ved=2ahUKEwiX8J3JkJX7AhVvpVYBHTnkDxEQ_AUoAXoECAEQAw&biw=1707&bih=956&dpr=1.5', 'food1')\n",
    "\n",
    "# 건전지 쓰레기\n",
    "image_save('https://www.google.com/search?q=%EA%B1%B4%EC%A0%84%EC%A7%80+%EC%93%B0%EB%A0%88%EA%B8%B0&sxsrf=ALiCzsb6pS2n5n6mUXzgnSm8ZcFzlaL-SQ:1667533619052&source=lnms&tbm=isch&sa=X&ved=2ahUKEwi2zY7ozpP7AhW_plYBHcylCLMQ_AUoAXoECAEQAw&biw=852&bih=946&dpr=1.5', 'battery')\n",
    "\n",
    "# 건전지\n",
    "image_save('https://www.google.com/search?q=%EA%B1%B4%EC%A0%84%EC%A7%80&sxsrf=ALiCzsbZJclN1mKOFnYKaUZukwAFtnkF5g:1667585679875&source=lnms&tbm=isch&sa=X&ved=2ahUKEwixitPgkJX7AhXAtlYBHcXMAlUQ_AUoAXoECAEQAw&biw=1707&bih=956&dpr=1.5', 'battery1')"
   ]
  },
  {
   "cell_type": "code",
   "execution_count": 5,
   "id": "8459ee4a",
   "metadata": {},
   "outputs": [],
   "source": [
    "def rota_save_bw(color,foldname,data):\n",
    "    # 폴더 만들기\n",
    "    if not os.path.exists('./'+foldname):\n",
    "        os.makedirs(foldname)\n",
    "    \n",
    "    rotation=[45,90,135,180,225,270,315]\n",
    "    for file in os.listdir('./'+data+'/'):\n",
    "        for rot in rotation:\n",
    "            img=np.array(Image.open('./'+data+'/'+file).convert(color))\n",
    "            rows,cols = img.shape[0:2]\n",
    "            ro_mt = cv2.getRotationMatrix2D((cols/2,rows/2),rot,1.42)\n",
    "            ro_img = cv2.warpAffine(img, ro_mt,(cols, rows))\n",
    "            \n",
    "            # 이미지 저장\n",
    "            filename=f\"{file}_ro{str(rot)}\"\n",
    "            cv2.imwrite('./'+foldname+'/'+filename+'.png',ro_img)"
   ]
  },
  {
   "cell_type": "code",
   "execution_count": 6,
   "id": "7b822878",
   "metadata": {},
   "outputs": [],
   "source": [
    "# 크롤링 데이터 로테이션시키는 함수\n",
    "def rota_save_co(color,foldname,data):\n",
    "    # 폴더 만들기\n",
    "    if not os.path.exists('./'+foldname):\n",
    "        os.makedirs(foldname)\n",
    "    \n",
    "    rotation=[45,90,135,180,225,270,315]\n",
    "    for file in os.listdir('./'+data+'/'):\n",
    "        for rot in rotation:\n",
    "            img=np.array(Image.open('./'+data+'/'+file).convert(color))\n",
    "            img = cv2.cvtColor(img, cv2.COLOR_BGR2RGB)\n",
    "            rows,cols = img.shape[0:2]\n",
    "            ro_mt = cv2.getRotationMatrix2D((cols/2,rows/2),rot,1.42)\n",
    "            ro_img = cv2.warpAffine(img, ro_mt,(cols, rows))\n",
    "            \n",
    "            # 이미지 저장\n",
    "            filename=f\"{file}_ro{str(rot)}\"\n",
    "            cv2.imwrite('./'+foldname+'/'+filename+'.png',ro_img)"
   ]
  },
  {
   "cell_type": "code",
   "execution_count": 7,
   "id": "70bb2762",
   "metadata": {},
   "outputs": [],
   "source": [
    "# # 크롤링 데이터 로테이션시키는 함수\n",
    "# def rota_save(color,foldname,data):\n",
    "#     # 폴더 만들기\n",
    "#     if not os.path.exists('./'+foldname):\n",
    "#         os.makedirs(foldname)\n",
    "    \n",
    "#     rotation=[45,90,135,180,225,270,315]\n",
    "#     for file in os.listdir('./'+data+'/'):\n",
    "#         for rot in rotation:\n",
    "#             img=np.array(Image.open('./'+file).convert(color))\n",
    "#             rows,cols = img.shape[0:2]\n",
    "#             ro_mt = cv2.getRotationMatrix2D((cols/2,rows/2),rot,1.42)\n",
    "#             ro_img = cv2.warpAffine(img, ro_mt,(cols, rows))\n",
    "            \n",
    "#             # 이미지 저장\n",
    "#             filename=f\"{file}_ro{str(rot)}\"\n",
    "#             cv2.imwrite('./'+foldname+'/'+filename+'.png',ro_img)"
   ]
  },
  {
   "cell_type": "code",
   "execution_count": 8,
   "id": "cdbdd249",
   "metadata": {},
   "outputs": [],
   "source": [
    "# 크롤링 데이터 convert 함수\n",
    "def data_con(color,foldname):\n",
    "    for file in os.listdir('./data/'):\n",
    "        img=Image.open('./data/'+file).convert(color).save('./'+foldname+'/'+file)"
   ]
  },
  {
   "cell_type": "code",
   "execution_count": 9,
   "id": "61046f92",
   "metadata": {},
   "outputs": [],
   "source": [
    "# 흑백으로 로테이션\n",
    "rota_save_bw('L','blwh','trashdatametal')\n",
    "rota_save_bw('L','blwh','trashdatametal1')\n",
    "rota_save_bw('L','blwh','trashdataglass')\n",
    "rota_save_bw('L','blwh','trashdataglass1')\n",
    "rota_save_bw('L','blwh','trashdatapaper')\n",
    "rota_save_bw('L','blwh','trashdatapaper1')\n",
    "rota_save_bw('L','blwh','trashdataplastic')\n",
    "rota_save_bw('L','blwh','trashdataplastic1')\n",
    "rota_save_bw('L','blwh','trashdatafood')\n",
    "rota_save_bw('L','blwh','trashdatafood1')\n",
    "rota_save_bw('L','blwh','trashdatabattery')\n",
    "rota_save_bw('L','blwh','trashdatabattery1')"
   ]
  },
  {
   "cell_type": "code",
   "execution_count": 10,
   "id": "257b4a0d",
   "metadata": {},
   "outputs": [],
   "source": [
    "# # 원본사진 흑백으로\n",
    "# data_con('L','blwh')"
   ]
  },
  {
   "cell_type": "code",
   "execution_count": 11,
   "id": "bd3ed2b5",
   "metadata": {},
   "outputs": [],
   "source": [
    "# rgb로 로테이션\n",
    "rota_save_co('RGB','rgb','trashdatametal')\n",
    "rota_save_co('RGB','rgb','trashdatametal1')\n",
    "rota_save_co('RGB','rgb','trashdataglass')\n",
    "rota_save_co('RGB','rgb','trashdataglass1')\n",
    "rota_save_co('RGB','rgb','trashdatapaper')\n",
    "rota_save_co('RGB','rgb','trashdatapaper1')\n",
    "rota_save_co('RGB','rgb','trashdataplastic')\n",
    "rota_save_co('RGB','rgb','trashdataplastic1')\n",
    "rota_save_co('RGB','rgb','trashdatafood')\n",
    "rota_save_co('RGB','rgb','trashdatafood1')\n",
    "rota_save_co('RGB','rgb','trashdatabattery')\n",
    "rota_save_co('RGB','rgb','trashdatabattery1')"
   ]
  },
  {
   "cell_type": "code",
   "execution_count": 12,
   "id": "4db1240b",
   "metadata": {},
   "outputs": [],
   "source": [
    "# # 원본사진 색깔로\n",
    "# data_con('RGB','rgb','trashdatametal')\n",
    "# data_con('RGB','rgb','trashdataglass')\n",
    "# data_con('RGB','rgb','trashdatapaper')\n",
    "# data_con('RGB','rgb','trashdataplastic')\n",
    "# data_con('RGB','rgb','trashdatafood')\n",
    "# data_con('RGB','rgb','trashdatabattery')"
   ]
  },
  {
   "cell_type": "code",
   "execution_count": 13,
   "id": "07550c65",
   "metadata": {},
   "outputs": [],
   "source": [
    "def solution(foldname):\n",
    "    l=[]\n",
    "    for i in os.listdir('./'+foldname+'/'):\n",
    "        n=np.array(Image.open('./'+foldname+'/'+i))/255.0\n",
    "        if foldname=='blwh':\n",
    "           n_list=n.reshape(-1,50*50)[0].tolist()\n",
    "        else:\n",
    "            n_list=n.reshape(-1,50*50,3)[0].tolist()\n",
    "        l.append(n_list)\n",
    "    return np.array(l)"
   ]
  },
  {
   "cell_type": "code",
   "execution_count": 14,
   "id": "9a752a3e",
   "metadata": {},
   "outputs": [
    {
     "data": {
      "text/plain": [
       "array([[0.03921569, 0.25882353, 0.43529412, ..., 0.57254902, 0.29803922,\n",
       "        0.09411765],\n",
       "       [0.72941176, 0.75294118, 0.87843137, ..., 0.38431373, 0.36078431,\n",
       "        0.36862745],\n",
       "       [0.01960784, 0.20392157, 0.45882353, ..., 0.35294118, 0.34901961,\n",
       "        0.34117647],\n",
       "       ...,\n",
       "       [0.61568627, 0.53333333, 0.5372549 , ..., 0.7254902 , 0.70588235,\n",
       "        0.71764706],\n",
       "       [0.37647059, 0.43529412, 0.57254902, ..., 0.56078431, 0.40784314,\n",
       "        0.27843137],\n",
       "       [0.58431373, 0.55686275, 0.5254902 , ..., 0.65882353, 0.69019608,\n",
       "        0.65882353]])"
      ]
     },
     "execution_count": 14,
     "metadata": {},
     "output_type": "execute_result"
    }
   ],
   "source": [
    "blwh=solution('blwh')\n",
    "blwh"
   ]
  },
  {
   "cell_type": "code",
   "execution_count": 15,
   "id": "4b9e2f4c",
   "metadata": {},
   "outputs": [
    {
     "name": "stdout",
     "output_type": "stream",
     "text": [
      "흑백 사진 데이터 모양 (1834, 2500)\n"
     ]
    }
   ],
   "source": [
    "print(f\"흑백 사진 데이터 모양 {blwh.shape}\")"
   ]
  },
  {
   "cell_type": "code",
   "execution_count": 16,
   "id": "9783d106",
   "metadata": {},
   "outputs": [
    {
     "data": {
      "text/plain": [
       "array([[[0.04313725, 0.03921569, 0.03921569],\n",
       "        [0.27058824, 0.25490196, 0.24313725],\n",
       "        [0.45882353, 0.42745098, 0.40784314],\n",
       "        ...,\n",
       "        [0.36862745, 0.7372549 , 0.28627451],\n",
       "        [0.13333333, 0.41960784, 0.10980392],\n",
       "        [0.01960784, 0.14117647, 0.05098039]],\n",
       "\n",
       "       [[0.63921569, 0.80392157, 0.58039216],\n",
       "        [0.65882353, 0.83529412, 0.57647059],\n",
       "        [0.88627451, 0.88627451, 0.80784314],\n",
       "        ...,\n",
       "        [0.37647059, 0.39607843, 0.34509804],\n",
       "        [0.38039216, 0.35686275, 0.34901961],\n",
       "        [0.38431373, 0.36470588, 0.35294118]],\n",
       "\n",
       "       [[0.02352941, 0.01960784, 0.00784314],\n",
       "        [0.21960784, 0.20784314, 0.14117647],\n",
       "        [0.45882353, 0.47843137, 0.36862745],\n",
       "        ...,\n",
       "        [0.37647059, 0.34509804, 0.3372549 ],\n",
       "        [0.36862745, 0.34117647, 0.33333333],\n",
       "        [0.36078431, 0.3372549 , 0.3254902 ]],\n",
       "\n",
       "       ...,\n",
       "\n",
       "       [[0.68235294, 0.59215686, 0.56862745],\n",
       "        [0.54901961, 0.54117647, 0.4627451 ],\n",
       "        [0.55294118, 0.54509804, 0.49019608],\n",
       "        ...,\n",
       "        [0.83137255, 0.68627451, 0.65490196],\n",
       "        [0.74509804, 0.68627451, 0.70196078],\n",
       "        [0.69411765, 0.71764706, 0.77647059]],\n",
       "\n",
       "       [[0.30980392, 0.39607843, 0.4745098 ],\n",
       "        [0.41176471, 0.44705882, 0.41960784],\n",
       "        [0.60392157, 0.57254902, 0.45882353],\n",
       "        ...,\n",
       "        [0.50980392, 0.65490196, 0.20784314],\n",
       "        [0.4       , 0.43921569, 0.25098039],\n",
       "        [0.32941176, 0.27058824, 0.21568627]],\n",
       "\n",
       "       [[0.62352941, 0.57647059, 0.51372549],\n",
       "        [0.56470588, 0.56862745, 0.48627451],\n",
       "        [0.56862745, 0.51372549, 0.4627451 ],\n",
       "        ...,\n",
       "        [0.74117647, 0.62745098, 0.61960784],\n",
       "        [0.72156863, 0.67843137, 0.68235294],\n",
       "        [0.57254902, 0.67843137, 0.78823529]]])"
      ]
     },
     "execution_count": 16,
     "metadata": {},
     "output_type": "execute_result"
    }
   ],
   "source": [
    "rgb=solution('rgb')\n",
    "rgb"
   ]
  },
  {
   "cell_type": "code",
   "execution_count": 17,
   "id": "4888951c",
   "metadata": {},
   "outputs": [
    {
     "name": "stdout",
     "output_type": "stream",
     "text": [
      "컬러 사진 데이터 모양 (1834, 2500, 3)\n"
     ]
    }
   ],
   "source": [
    "print(f\"컬러 사진 데이터 모양 {rgb.shape}\")"
   ]
  },
  {
   "cell_type": "code",
   "execution_count": 18,
   "id": "c7fbe9a0",
   "metadata": {
    "scrolled": true
   },
   "outputs": [
    {
     "data": {
      "text/plain": [
       "array([[[0.04313725, 0.03921569, 0.03921569],\n",
       "        [0.27058824, 0.25490196, 0.24313725],\n",
       "        [0.45882353, 0.42745098, 0.40784314],\n",
       "        ...,\n",
       "        [0.36862745, 0.7372549 , 0.28627451],\n",
       "        [0.13333333, 0.41960784, 0.10980392],\n",
       "        [0.01960784, 0.14117647, 0.05098039]],\n",
       "\n",
       "       [[0.63921569, 0.80392157, 0.58039216],\n",
       "        [0.65882353, 0.83529412, 0.57647059],\n",
       "        [0.88627451, 0.88627451, 0.80784314],\n",
       "        ...,\n",
       "        [0.37647059, 0.39607843, 0.34509804],\n",
       "        [0.38039216, 0.35686275, 0.34901961],\n",
       "        [0.38431373, 0.36470588, 0.35294118]],\n",
       "\n",
       "       [[0.02352941, 0.01960784, 0.00784314],\n",
       "        [0.21960784, 0.20784314, 0.14117647],\n",
       "        [0.45882353, 0.47843137, 0.36862745],\n",
       "        ...,\n",
       "        [0.37647059, 0.34509804, 0.3372549 ],\n",
       "        [0.36862745, 0.34117647, 0.33333333],\n",
       "        [0.36078431, 0.3372549 , 0.3254902 ]],\n",
       "\n",
       "       ...,\n",
       "\n",
       "       [[0.68235294, 0.59215686, 0.56862745],\n",
       "        [0.54901961, 0.54117647, 0.4627451 ],\n",
       "        [0.55294118, 0.54509804, 0.49019608],\n",
       "        ...,\n",
       "        [0.83137255, 0.68627451, 0.65490196],\n",
       "        [0.74509804, 0.68627451, 0.70196078],\n",
       "        [0.69411765, 0.71764706, 0.77647059]],\n",
       "\n",
       "       [[0.30980392, 0.39607843, 0.4745098 ],\n",
       "        [0.41176471, 0.44705882, 0.41960784],\n",
       "        [0.60392157, 0.57254902, 0.45882353],\n",
       "        ...,\n",
       "        [0.50980392, 0.65490196, 0.20784314],\n",
       "        [0.4       , 0.43921569, 0.25098039],\n",
       "        [0.32941176, 0.27058824, 0.21568627]],\n",
       "\n",
       "       [[0.62352941, 0.57647059, 0.51372549],\n",
       "        [0.56470588, 0.56862745, 0.48627451],\n",
       "        [0.56862745, 0.51372549, 0.4627451 ],\n",
       "        ...,\n",
       "        [0.74117647, 0.62745098, 0.61960784],\n",
       "        [0.72156863, 0.67843137, 0.68235294],\n",
       "        [0.57254902, 0.67843137, 0.78823529]]])"
      ]
     },
     "execution_count": 18,
     "metadata": {},
     "output_type": "execute_result"
    }
   ],
   "source": [
    "rgb"
   ]
  },
  {
   "cell_type": "code",
   "execution_count": 19,
   "id": "947a8a24",
   "metadata": {},
   "outputs": [
    {
     "data": {
      "text/plain": [
       "<matplotlib.image.AxesImage at 0x2078052a670>"
      ]
     },
     "execution_count": 19,
     "metadata": {},
     "output_type": "execute_result"
    },
    {
     "data": {
      "image/png": "[encoded data removed]",
      "text/plain": [
       "<Figure size 432x288 with 1 Axes>"
      ]
     },
     "metadata": {
      "needs_background": "light"
     },
     "output_type": "display_data"
    }
   ],
   "source": [
    "# 그래프 그려보기 => 컬러\n",
    "plt.imshow(rgb[1100].reshape(50,50,3))"
   ]
  },
  {
   "cell_type": "code",
   "execution_count": 20,
   "id": "7d152648",
   "metadata": {},
   "outputs": [
    {
     "data": {
      "text/plain": [
       "<matplotlib.image.AxesImage at 0x207811b5c70>"
      ]
     },
     "execution_count": 20,
     "metadata": {},
     "output_type": "execute_result"
    },
    {
     "data": {
      "image/png": "[encoded data removed]",
      "text/plain": [
       "<Figure size 432x288 with 1 Axes>"
      ]
     },
     "metadata": {
      "needs_background": "light"
     },
     "output_type": "display_data"
    }
   ],
   "source": [
    "# 흑백 그래프 그려보기 => 흑백\n",
    "plt.imshow(rgb[768].reshape(50,50,3),cmap='gray')"
   ]
  },
  {
   "cell_type": "code",
   "execution_count": null,
   "id": "187984e4",
   "metadata": {},
   "outputs": [],
   "source": []
  },
  {
   "cell_type": "code",
   "execution_count": 21,
   "id": "9456d258",
   "metadata": {},
   "outputs": [
    {
     "data": {
      "text/plain": [
       "['battery',\n",
       " 'battery',\n",
       " 'battery',\n",
       " 'battery',\n",
       " 'battery',\n",
       " 'battery',\n",
       " 'battery',\n",
       " 'battery',\n",
       " 'battery',\n",
       " 'battery',\n",
       " 'battery',\n",
       " 'battery',\n",
       " 'battery',\n",
       " 'battery',\n",
       " 'battery',\n",
       " 'battery',\n",
       " 'battery',\n",
       " 'battery',\n",
       " 'battery',\n",
       " 'battery',\n",
       " 'battery',\n",
       " 'battery',\n",
       " 'battery',\n",
       " 'battery',\n",
       " 'battery',\n",
       " 'battery',\n",
       " 'battery',\n",
       " 'battery',\n",
       " 'battery',\n",
       " 'battery',\n",
       " 'battery',\n",
       " 'battery',\n",
       " 'battery',\n",
       " 'battery',\n",
       " 'battery',\n",
       " 'battery',\n",
       " 'battery',\n",
       " 'battery',\n",
       " 'battery',\n",
       " 'battery',\n",
       " 'battery',\n",
       " 'battery',\n",
       " 'battery',\n",
       " 'battery',\n",
       " 'battery',\n",
       " 'battery',\n",
       " 'battery',\n",
       " 'battery',\n",
       " 'battery',\n",
       " 'battery',\n",
       " 'battery',\n",
       " 'battery',\n",
       " 'battery',\n",
       " 'battery',\n",
       " 'battery',\n",
       " 'battery',\n",
       " 'battery',\n",
       " 'battery',\n",
       " 'battery',\n",
       " 'battery',\n",
       " 'battery',\n",
       " 'battery',\n",
       " 'battery',\n",
       " 'battery',\n",
       " 'battery',\n",
       " 'battery',\n",
       " 'battery',\n",
       " 'battery',\n",
       " 'battery',\n",
       " 'battery',\n",
       " 'battery',\n",
       " 'battery',\n",
       " 'battery',\n",
       " 'battery',\n",
       " 'battery',\n",
       " 'battery',\n",
       " 'battery',\n",
       " 'battery',\n",
       " 'battery',\n",
       " 'battery',\n",
       " 'battery',\n",
       " 'battery',\n",
       " 'battery',\n",
       " 'battery',\n",
       " 'battery',\n",
       " 'battery',\n",
       " 'battery',\n",
       " 'battery',\n",
       " 'battery',\n",
       " 'battery',\n",
       " 'battery',\n",
       " 'battery',\n",
       " 'battery',\n",
       " 'battery',\n",
       " 'battery',\n",
       " 'battery',\n",
       " 'battery',\n",
       " 'battery',\n",
       " 'battery',\n",
       " 'battery',\n",
       " 'battery',\n",
       " 'battery',\n",
       " 'battery',\n",
       " 'battery',\n",
       " 'battery',\n",
       " 'battery',\n",
       " 'battery',\n",
       " 'battery',\n",
       " 'battery',\n",
       " 'battery',\n",
       " 'battery',\n",
       " 'battery',\n",
       " 'battery',\n",
       " 'battery',\n",
       " 'battery',\n",
       " 'battery',\n",
       " 'battery',\n",
       " 'battery',\n",
       " 'battery',\n",
       " 'battery',\n",
       " 'battery',\n",
       " 'battery',\n",
       " 'battery',\n",
       " 'battery',\n",
       " 'battery',\n",
       " 'battery',\n",
       " 'battery',\n",
       " 'battery',\n",
       " 'battery',\n",
       " 'battery',\n",
       " 'battery',\n",
       " 'battery',\n",
       " 'battery',\n",
       " 'battery',\n",
       " 'battery',\n",
       " 'battery',\n",
       " 'battery',\n",
       " 'battery',\n",
       " 'battery',\n",
       " 'battery',\n",
       " 'battery',\n",
       " 'battery',\n",
       " 'battery',\n",
       " 'battery',\n",
       " 'battery',\n",
       " 'battery',\n",
       " 'battery',\n",
       " 'battery',\n",
       " 'battery',\n",
       " 'battery',\n",
       " 'battery',\n",
       " 'battery',\n",
       " 'battery',\n",
       " 'battery',\n",
       " 'battery',\n",
       " 'battery',\n",
       " 'battery',\n",
       " 'battery',\n",
       " 'battery',\n",
       " 'battery',\n",
       " 'battery',\n",
       " 'battery',\n",
       " 'battery',\n",
       " 'battery',\n",
       " 'battery',\n",
       " 'battery',\n",
       " 'battery',\n",
       " 'battery',\n",
       " 'battery',\n",
       " 'battery',\n",
       " 'battery',\n",
       " 'battery',\n",
       " 'battery',\n",
       " 'battery',\n",
       " 'battery',\n",
       " 'battery',\n",
       " 'battery',\n",
       " 'battery',\n",
       " 'battery',\n",
       " 'battery',\n",
       " 'battery',\n",
       " 'battery',\n",
       " 'battery',\n",
       " 'battery',\n",
       " 'battery',\n",
       " 'battery',\n",
       " 'battery',\n",
       " 'battery',\n",
       " 'battery',\n",
       " 'battery',\n",
       " 'battery',\n",
       " 'battery',\n",
       " 'battery',\n",
       " 'battery',\n",
       " 'battery',\n",
       " 'battery',\n",
       " 'battery',\n",
       " 'battery',\n",
       " 'battery',\n",
       " 'battery',\n",
       " 'battery',\n",
       " 'battery',\n",
       " 'battery',\n",
       " 'battery',\n",
       " 'battery',\n",
       " 'battery',\n",
       " 'battery',\n",
       " 'battery',\n",
       " 'battery',\n",
       " 'battery',\n",
       " 'battery',\n",
       " 'battery',\n",
       " 'battery',\n",
       " 'battery',\n",
       " 'battery',\n",
       " 'battery',\n",
       " 'battery',\n",
       " 'battery',\n",
       " 'battery',\n",
       " 'battery',\n",
       " 'battery',\n",
       " 'battery',\n",
       " 'battery',\n",
       " 'battery',\n",
       " 'battery',\n",
       " 'battery',\n",
       " 'battery',\n",
       " 'battery',\n",
       " 'battery',\n",
       " 'battery',\n",
       " 'battery',\n",
       " 'battery',\n",
       " 'battery',\n",
       " 'battery',\n",
       " 'battery',\n",
       " 'battery',\n",
       " 'battery',\n",
       " 'battery',\n",
       " 'battery',\n",
       " 'battery',\n",
       " 'battery',\n",
       " 'battery',\n",
       " 'battery',\n",
       " 'battery',\n",
       " 'battery',\n",
       " 'battery',\n",
       " 'battery',\n",
       " 'battery',\n",
       " 'battery',\n",
       " 'battery',\n",
       " 'battery',\n",
       " 'battery',\n",
       " 'battery',\n",
       " 'battery',\n",
       " 'battery',\n",
       " 'battery',\n",
       " 'battery',\n",
       " 'battery',\n",
       " 'battery',\n",
       " 'battery',\n",
       " 'battery',\n",
       " 'battery',\n",
       " 'battery',\n",
       " 'battery',\n",
       " 'battery',\n",
       " 'battery',\n",
       " 'battery',\n",
       " 'battery',\n",
       " 'battery',\n",
       " 'battery',\n",
       " 'battery',\n",
       " 'battery',\n",
       " 'battery',\n",
       " 'battery',\n",
       " 'battery',\n",
       " 'battery',\n",
       " 'battery',\n",
       " 'battery',\n",
       " 'battery',\n",
       " 'battery',\n",
       " 'battery',\n",
       " 'battery',\n",
       " 'battery',\n",
       " 'battery',\n",
       " 'battery',\n",
       " 'battery',\n",
       " 'battery',\n",
       " 'battery',\n",
       " 'battery',\n",
       " 'battery',\n",
       " 'battery',\n",
       " 'battery',\n",
       " 'battery',\n",
       " 'battery',\n",
       " 'battery',\n",
       " 'battery',\n",
       " 'battery',\n",
       " 'battery',\n",
       " 'battery',\n",
       " 'battery',\n",
       " 'battery',\n",
       " 'battery',\n",
       " 'battery',\n",
       " 'battery',\n",
       " 'battery',\n",
       " 'battery',\n",
       " 'battery',\n",
       " 'battery',\n",
       " 'battery',\n",
       " 'battery',\n",
       " 'battery',\n",
       " 'battery',\n",
       " 'battery',\n",
       " 'battery',\n",
       " 'battery',\n",
       " 'battery',\n",
       " 'battery',\n",
       " 'battery',\n",
       " 'battery',\n",
       " 'battery',\n",
       " 'battery',\n",
       " 'battery',\n",
       " 'battery',\n",
       " 'battery',\n",
       " 'battery',\n",
       " 'battery',\n",
       " 'battery',\n",
       " 'battery',\n",
       " 'battery',\n",
       " 'battery',\n",
       " 'battery',\n",
       " 'battery',\n",
       " 'battery',\n",
       " 'battery',\n",
       " 'battery',\n",
       " 'battery',\n",
       " 'battery',\n",
       " 'battery',\n",
       " 'battery',\n",
       " 'battery',\n",
       " 'battery',\n",
       " 'battery',\n",
       " 'battery',\n",
       " 'battery',\n",
       " 'battery',\n",
       " 'battery',\n",
       " 'battery',\n",
       " 'battery',\n",
       " 'battery',\n",
       " 'battery',\n",
       " 'battery',\n",
       " 'battery',\n",
       " 'battery',\n",
       " 'battery',\n",
       " 'battery',\n",
       " 'battery',\n",
       " 'battery',\n",
       " 'food',\n",
       " 'food',\n",
       " 'food',\n",
       " 'food',\n",
       " 'food',\n",
       " 'food',\n",
       " 'food',\n",
       " 'food',\n",
       " 'food',\n",
       " 'food',\n",
       " 'food',\n",
       " 'food',\n",
       " 'food',\n",
       " 'food',\n",
       " 'food',\n",
       " 'food',\n",
       " 'food',\n",
       " 'food',\n",
       " 'food',\n",
       " 'food',\n",
       " 'food',\n",
       " 'food',\n",
       " 'food',\n",
       " 'food',\n",
       " 'food',\n",
       " 'food',\n",
       " 'food',\n",
       " 'food',\n",
       " 'food',\n",
       " 'food',\n",
       " 'food',\n",
       " 'food',\n",
       " 'food',\n",
       " 'food',\n",
       " 'food',\n",
       " 'food',\n",
       " 'food',\n",
       " 'food',\n",
       " 'food',\n",
       " 'food',\n",
       " 'food',\n",
       " 'food',\n",
       " 'food',\n",
       " 'food',\n",
       " 'food',\n",
       " 'food',\n",
       " 'food',\n",
       " 'food',\n",
       " 'food',\n",
       " 'food',\n",
       " 'food',\n",
       " 'food',\n",
       " 'food',\n",
       " 'food',\n",
       " 'food',\n",
       " 'food',\n",
       " 'food',\n",
       " 'food',\n",
       " 'food',\n",
       " 'food',\n",
       " 'food',\n",
       " 'food',\n",
       " 'food',\n",
       " 'food',\n",
       " 'food',\n",
       " 'food',\n",
       " 'food',\n",
       " 'food',\n",
       " 'food',\n",
       " 'food',\n",
       " 'food',\n",
       " 'food',\n",
       " 'food',\n",
       " 'food',\n",
       " 'food',\n",
       " 'food',\n",
       " 'food',\n",
       " 'food',\n",
       " 'food',\n",
       " 'food',\n",
       " 'food',\n",
       " 'food',\n",
       " 'food',\n",
       " 'food',\n",
       " 'food',\n",
       " 'food',\n",
       " 'food',\n",
       " 'food',\n",
       " 'food',\n",
       " 'food',\n",
       " 'food',\n",
       " 'food',\n",
       " 'food',\n",
       " 'food',\n",
       " 'food',\n",
       " 'food',\n",
       " 'food',\n",
       " 'food',\n",
       " 'food',\n",
       " 'food',\n",
       " 'food',\n",
       " 'food',\n",
       " 'food',\n",
       " 'food',\n",
       " 'food',\n",
       " 'food',\n",
       " 'food',\n",
       " 'food',\n",
       " 'food',\n",
       " 'food',\n",
       " 'food',\n",
       " 'food',\n",
       " 'food',\n",
       " 'food',\n",
       " 'food',\n",
       " 'food',\n",
       " 'food',\n",
       " 'food',\n",
       " 'food',\n",
       " 'food',\n",
       " 'food',\n",
       " 'food',\n",
       " 'food',\n",
       " 'food',\n",
       " 'food',\n",
       " 'food',\n",
       " 'food',\n",
       " 'food',\n",
       " 'food',\n",
       " 'food',\n",
       " 'food',\n",
       " 'food',\n",
       " 'food',\n",
       " 'food',\n",
       " 'food',\n",
       " 'food',\n",
       " 'food',\n",
       " 'food',\n",
       " 'food',\n",
       " 'food',\n",
       " 'food',\n",
       " 'food',\n",
       " 'food',\n",
       " 'food',\n",
       " 'food',\n",
       " 'food',\n",
       " 'food',\n",
       " 'food',\n",
       " 'food',\n",
       " 'food',\n",
       " 'food',\n",
       " 'food',\n",
       " 'food',\n",
       " 'food',\n",
       " 'food',\n",
       " 'food',\n",
       " 'food',\n",
       " 'food',\n",
       " 'food',\n",
       " 'food',\n",
       " 'food',\n",
       " 'food',\n",
       " 'food',\n",
       " 'food',\n",
       " 'food',\n",
       " 'food',\n",
       " 'food',\n",
       " 'food',\n",
       " 'food',\n",
       " 'food',\n",
       " 'food',\n",
       " 'food',\n",
       " 'food',\n",
       " 'food',\n",
       " 'food',\n",
       " 'food',\n",
       " 'food',\n",
       " 'food',\n",
       " 'food',\n",
       " 'food',\n",
       " 'food',\n",
       " 'food',\n",
       " 'food',\n",
       " 'food',\n",
       " 'food',\n",
       " 'food',\n",
       " 'food',\n",
       " 'food',\n",
       " 'food',\n",
       " 'food',\n",
       " 'food',\n",
       " 'food',\n",
       " 'food',\n",
       " 'food',\n",
       " 'food',\n",
       " 'food',\n",
       " 'food',\n",
       " 'food',\n",
       " 'food',\n",
       " 'food',\n",
       " 'food',\n",
       " 'food',\n",
       " 'food',\n",
       " 'food',\n",
       " 'food',\n",
       " 'food',\n",
       " 'food',\n",
       " 'food',\n",
       " 'food',\n",
       " 'food',\n",
       " 'food',\n",
       " 'food',\n",
       " 'food',\n",
       " 'food',\n",
       " 'food',\n",
       " 'food',\n",
       " 'food',\n",
       " 'food',\n",
       " 'food',\n",
       " 'food',\n",
       " 'food',\n",
       " 'food',\n",
       " 'food',\n",
       " 'food',\n",
       " 'food',\n",
       " 'food',\n",
       " 'food',\n",
       " 'food',\n",
       " 'food',\n",
       " 'food',\n",
       " 'food',\n",
       " 'food',\n",
       " 'food',\n",
       " 'food',\n",
       " 'food',\n",
       " 'food',\n",
       " 'food',\n",
       " 'food',\n",
       " 'food',\n",
       " 'food',\n",
       " 'food',\n",
       " 'food',\n",
       " 'food',\n",
       " 'food',\n",
       " 'food',\n",
       " 'food',\n",
       " 'food',\n",
       " 'food',\n",
       " 'food',\n",
       " 'food',\n",
       " 'food',\n",
       " 'food',\n",
       " 'food',\n",
       " 'food',\n",
       " 'food',\n",
       " 'food',\n",
       " 'food',\n",
       " 'food',\n",
       " 'food',\n",
       " 'food',\n",
       " 'food',\n",
       " 'food',\n",
       " 'food',\n",
       " 'food',\n",
       " 'food',\n",
       " 'food',\n",
       " 'food',\n",
       " 'food',\n",
       " 'food',\n",
       " 'food',\n",
       " 'food',\n",
       " 'food',\n",
       " 'food',\n",
       " 'food',\n",
       " 'food',\n",
       " 'food',\n",
       " 'food',\n",
       " 'food',\n",
       " 'food',\n",
       " 'food',\n",
       " 'food',\n",
       " 'food',\n",
       " 'food',\n",
       " 'food',\n",
       " 'food',\n",
       " 'food',\n",
       " 'food',\n",
       " 'food',\n",
       " 'food',\n",
       " 'food',\n",
       " 'food',\n",
       " 'food',\n",
       " 'food',\n",
       " 'food',\n",
       " 'glass',\n",
       " 'glass',\n",
       " 'glass',\n",
       " 'glass',\n",
       " 'glass',\n",
       " 'glass',\n",
       " 'glass',\n",
       " 'glass',\n",
       " 'glass',\n",
       " 'glass',\n",
       " 'glass',\n",
       " 'glass',\n",
       " 'glass',\n",
       " 'glass',\n",
       " 'glass',\n",
       " 'glass',\n",
       " 'glass',\n",
       " 'glass',\n",
       " 'glass',\n",
       " 'glass',\n",
       " 'glass',\n",
       " 'glass',\n",
       " 'glass',\n",
       " 'glass',\n",
       " 'glass',\n",
       " 'glass',\n",
       " 'glass',\n",
       " 'glass',\n",
       " 'glass',\n",
       " 'glass',\n",
       " 'glass',\n",
       " 'glass',\n",
       " 'glass',\n",
       " 'glass',\n",
       " 'glass',\n",
       " 'glass',\n",
       " 'glass',\n",
       " 'glass',\n",
       " 'glass',\n",
       " 'glass',\n",
       " 'glass',\n",
       " 'glass',\n",
       " 'glass',\n",
       " 'glass',\n",
       " 'glass',\n",
       " 'glass',\n",
       " 'glass',\n",
       " 'glass',\n",
       " 'glass',\n",
       " 'glass',\n",
       " 'glass',\n",
       " 'glass',\n",
       " 'glass',\n",
       " 'glass',\n",
       " 'glass',\n",
       " 'glass',\n",
       " 'glass',\n",
       " 'glass',\n",
       " 'glass',\n",
       " 'glass',\n",
       " 'glass',\n",
       " 'glass',\n",
       " 'glass',\n",
       " 'glass',\n",
       " 'glass',\n",
       " 'glass',\n",
       " 'glass',\n",
       " 'glass',\n",
       " 'glass',\n",
       " 'glass',\n",
       " 'glass',\n",
       " 'glass',\n",
       " 'glass',\n",
       " 'glass',\n",
       " 'glass',\n",
       " 'glass',\n",
       " 'glass',\n",
       " 'glass',\n",
       " 'glass',\n",
       " 'glass',\n",
       " 'glass',\n",
       " 'glass',\n",
       " 'glass',\n",
       " 'glass',\n",
       " 'glass',\n",
       " 'glass',\n",
       " 'glass',\n",
       " 'glass',\n",
       " 'glass',\n",
       " 'glass',\n",
       " 'glass',\n",
       " 'glass',\n",
       " 'glass',\n",
       " 'glass',\n",
       " 'glass',\n",
       " 'glass',\n",
       " 'glass',\n",
       " 'glass',\n",
       " 'glass',\n",
       " 'glass',\n",
       " 'glass',\n",
       " 'glass',\n",
       " 'glass',\n",
       " 'glass',\n",
       " 'glass',\n",
       " 'glass',\n",
       " 'glass',\n",
       " 'glass',\n",
       " 'glass',\n",
       " 'glass',\n",
       " 'glass',\n",
       " 'glass',\n",
       " 'glass',\n",
       " 'glass',\n",
       " 'glass',\n",
       " 'glass',\n",
       " 'glass',\n",
       " 'glass',\n",
       " 'glass',\n",
       " 'glass',\n",
       " 'glass',\n",
       " 'glass',\n",
       " 'glass',\n",
       " 'glass',\n",
       " 'glass',\n",
       " 'glass',\n",
       " 'glass',\n",
       " 'glass',\n",
       " 'glass',\n",
       " 'glass',\n",
       " 'glass',\n",
       " 'glass',\n",
       " 'glass',\n",
       " 'glass',\n",
       " 'glass',\n",
       " 'glass',\n",
       " 'glass',\n",
       " 'glass',\n",
       " 'glass',\n",
       " 'glass',\n",
       " 'glass',\n",
       " 'glass',\n",
       " 'glass',\n",
       " 'glass',\n",
       " 'glass',\n",
       " 'glass',\n",
       " 'glass',\n",
       " 'glass',\n",
       " 'glass',\n",
       " 'glass',\n",
       " 'glass',\n",
       " 'glass',\n",
       " 'glass',\n",
       " 'glass',\n",
       " 'glass',\n",
       " 'glass',\n",
       " 'glass',\n",
       " 'glass',\n",
       " 'glass',\n",
       " 'glass',\n",
       " 'glass',\n",
       " 'glass',\n",
       " 'glass',\n",
       " 'glass',\n",
       " 'glass',\n",
       " 'glass',\n",
       " 'glass',\n",
       " 'glass',\n",
       " 'glass',\n",
       " 'glass',\n",
       " 'glass',\n",
       " 'glass',\n",
       " 'glass',\n",
       " 'glass',\n",
       " 'glass',\n",
       " 'glass',\n",
       " 'glass',\n",
       " 'glass',\n",
       " 'glass',\n",
       " 'glass',\n",
       " 'glass',\n",
       " 'glass',\n",
       " 'glass',\n",
       " 'glass',\n",
       " 'glass',\n",
       " 'glass',\n",
       " 'glass',\n",
       " 'glass',\n",
       " 'glass',\n",
       " 'glass',\n",
       " 'glass',\n",
       " 'glass',\n",
       " 'glass',\n",
       " 'glass',\n",
       " 'glass',\n",
       " 'glass',\n",
       " 'glass',\n",
       " 'glass',\n",
       " 'glass',\n",
       " 'glass',\n",
       " 'glass',\n",
       " 'glass',\n",
       " 'glass',\n",
       " 'glass',\n",
       " 'glass',\n",
       " 'glass',\n",
       " 'glass',\n",
       " 'glass',\n",
       " 'glass',\n",
       " 'glass',\n",
       " 'glass',\n",
       " 'glass',\n",
       " 'glass',\n",
       " 'glass',\n",
       " 'glass',\n",
       " 'glass',\n",
       " 'glass',\n",
       " 'glass',\n",
       " 'glass',\n",
       " 'glass',\n",
       " 'glass',\n",
       " 'glass',\n",
       " 'glass',\n",
       " 'glass',\n",
       " 'glass',\n",
       " 'glass',\n",
       " 'glass',\n",
       " 'glass',\n",
       " 'glass',\n",
       " 'glass',\n",
       " 'glass',\n",
       " 'glass',\n",
       " 'glass',\n",
       " 'glass',\n",
       " 'glass',\n",
       " 'glass',\n",
       " 'glass',\n",
       " 'glass',\n",
       " 'glass',\n",
       " 'glass',\n",
       " 'glass',\n",
       " 'glass',\n",
       " 'glass',\n",
       " 'glass',\n",
       " 'glass',\n",
       " 'glass',\n",
       " 'glass',\n",
       " 'glass',\n",
       " 'glass',\n",
       " 'glass',\n",
       " 'glass',\n",
       " 'glass',\n",
       " 'glass',\n",
       " 'glass',\n",
       " 'glass',\n",
       " 'glass',\n",
       " 'glass',\n",
       " 'glass',\n",
       " 'glass',\n",
       " 'glass',\n",
       " 'glass',\n",
       " 'glass',\n",
       " 'glass',\n",
       " 'glass',\n",
       " 'glass',\n",
       " 'glass',\n",
       " 'glass',\n",
       " 'glass',\n",
       " 'glass',\n",
       " 'glass',\n",
       " 'glass',\n",
       " 'glass',\n",
       " 'glass',\n",
       " 'glass',\n",
       " 'glass',\n",
       " 'glass',\n",
       " 'glass',\n",
       " 'glass',\n",
       " 'glass',\n",
       " 'glass',\n",
       " 'glass',\n",
       " 'glass',\n",
       " 'glass',\n",
       " 'glass',\n",
       " 'glass',\n",
       " 'glass',\n",
       " 'glass',\n",
       " 'glass',\n",
       " 'glass',\n",
       " 'glass',\n",
       " 'glass',\n",
       " 'glass',\n",
       " 'glass',\n",
       " 'glass',\n",
       " 'glass',\n",
       " 'glass',\n",
       " 'glass',\n",
       " 'glass',\n",
       " 'glass',\n",
       " 'glass',\n",
       " 'glass',\n",
       " 'glass',\n",
       " 'glass',\n",
       " 'glass',\n",
       " 'glass',\n",
       " 'glass',\n",
       " 'glass',\n",
       " 'glass',\n",
       " 'glass',\n",
       " 'glass',\n",
       " 'glass',\n",
       " 'glass',\n",
       " 'glass',\n",
       " 'glass',\n",
       " 'glass',\n",
       " 'glass',\n",
       " 'glass',\n",
       " 'glass',\n",
       " 'glass',\n",
       " 'glass',\n",
       " 'glass',\n",
       " 'glass',\n",
       " 'glass',\n",
       " 'glass',\n",
       " 'glass',\n",
       " 'glass',\n",
       " 'glass',\n",
       " 'glass',\n",
       " 'glass',\n",
       " 'metal',\n",
       " 'metal',\n",
       " 'metal',\n",
       " 'metal',\n",
       " 'metal',\n",
       " 'metal',\n",
       " 'metal',\n",
       " 'metal',\n",
       " 'metal',\n",
       " 'metal',\n",
       " 'metal',\n",
       " 'metal',\n",
       " 'metal',\n",
       " 'metal',\n",
       " 'metal',\n",
       " 'metal',\n",
       " 'metal',\n",
       " 'metal',\n",
       " 'metal',\n",
       " 'metal',\n",
       " ...]"
      ]
     },
     "execution_count": 21,
     "metadata": {},
     "output_type": "execute_result"
    }
   ],
   "source": [
    "# 정규식을 활용한 브랜드 이름 분리\n",
    "import re\n",
    "\n",
    "brand_name=[]\n",
    "for b in os.listdir('./rgb/'):\n",
    "    l=re.split(r'[0-9]',b)[0]\n",
    "    brand_name.append(l)\n",
    "brand_name"
   ]
  },
  {
   "cell_type": "code",
   "execution_count": 22,
   "id": "9e3c5732",
   "metadata": {},
   "outputs": [],
   "source": [
    "# 브랜드 이름/라벨로 타겟으로 저장\n",
    "com_brand='angelinus'\n",
    "i=0\n",
    "target=[]\n",
    "for brand in brand_name:\n",
    "    if com_brand==brand:\n",
    "        target.append([brand,i])\n",
    "    else:\n",
    "        i+=1\n",
    "        com_brand=brand\n",
    "        target.append([brand,i])"
   ]
  },
  {
   "cell_type": "code",
   "execution_count": 23,
   "id": "7a7abc83",
   "metadata": {
    "scrolled": false
   },
   "outputs": [
    {
     "data": {
      "text/html": [
       "<div>\n",
       "<style scoped>\n",
       "    .dataframe tbody tr th:only-of-type {\n",
       "        vertical-align: middle;\n",
       "    }\n",
       "\n",
       "    .dataframe tbody tr th {\n",
       "        vertical-align: top;\n",
       "    }\n",
       "\n",
       "    .dataframe thead th {\n",
       "        text-align: right;\n",
       "    }\n",
       "</style>\n",
       "<table border=\"1\" class=\"dataframe\">\n",
       "  <thead>\n",
       "    <tr style=\"text-align: right;\">\n",
       "      <th></th>\n",
       "      <th>name</th>\n",
       "      <th>label</th>\n",
       "    </tr>\n",
       "  </thead>\n",
       "  <tbody>\n",
       "    <tr>\n",
       "      <th>0</th>\n",
       "      <td>battery</td>\n",
       "      <td>1</td>\n",
       "    </tr>\n",
       "    <tr>\n",
       "      <th>1</th>\n",
       "      <td>battery</td>\n",
       "      <td>1</td>\n",
       "    </tr>\n",
       "    <tr>\n",
       "      <th>2</th>\n",
       "      <td>battery</td>\n",
       "      <td>1</td>\n",
       "    </tr>\n",
       "    <tr>\n",
       "      <th>3</th>\n",
       "      <td>battery</td>\n",
       "      <td>1</td>\n",
       "    </tr>\n",
       "    <tr>\n",
       "      <th>4</th>\n",
       "      <td>battery</td>\n",
       "      <td>1</td>\n",
       "    </tr>\n",
       "    <tr>\n",
       "      <th>...</th>\n",
       "      <td>...</td>\n",
       "      <td>...</td>\n",
       "    </tr>\n",
       "    <tr>\n",
       "      <th>1829</th>\n",
       "      <td>plastic</td>\n",
       "      <td>6</td>\n",
       "    </tr>\n",
       "    <tr>\n",
       "      <th>1830</th>\n",
       "      <td>plastic</td>\n",
       "      <td>6</td>\n",
       "    </tr>\n",
       "    <tr>\n",
       "      <th>1831</th>\n",
       "      <td>plastic</td>\n",
       "      <td>6</td>\n",
       "    </tr>\n",
       "    <tr>\n",
       "      <th>1832</th>\n",
       "      <td>plastic</td>\n",
       "      <td>6</td>\n",
       "    </tr>\n",
       "    <tr>\n",
       "      <th>1833</th>\n",
       "      <td>plastic</td>\n",
       "      <td>6</td>\n",
       "    </tr>\n",
       "  </tbody>\n",
       "</table>\n",
       "<p>1834 rows × 2 columns</p>\n",
       "</div>"
      ],
      "text/plain": [
       "         name  label\n",
       "0     battery      1\n",
       "1     battery      1\n",
       "2     battery      1\n",
       "3     battery      1\n",
       "4     battery      1\n",
       "...       ...    ...\n",
       "1829  plastic      6\n",
       "1830  plastic      6\n",
       "1831  plastic      6\n",
       "1832  plastic      6\n",
       "1833  plastic      6\n",
       "\n",
       "[1834 rows x 2 columns]"
      ]
     },
     "execution_count": 23,
     "metadata": {},
     "output_type": "execute_result"
    }
   ],
   "source": [
    "target_df=pd.DataFrame(target,columns=['name','label'])\n",
    "target_df"
   ]
  },
  {
   "cell_type": "code",
   "execution_count": 24,
   "id": "6fdc9e74",
   "metadata": {},
   "outputs": [
    {
     "data": {
      "text/plain": [
       "name     metal\n",
       "label        4\n",
       "Name: 1100, dtype: object"
      ]
     },
     "execution_count": 24,
     "metadata": {},
     "output_type": "execute_result"
    }
   ],
   "source": [
    "target_df.iloc[1100,:]"
   ]
  },
  {
   "cell_type": "code",
   "execution_count": 25,
   "id": "88ef300d",
   "metadata": {},
   "outputs": [],
   "source": [
    "target_df.to_csv('target.csv')"
   ]
  },
  {
   "cell_type": "code",
   "execution_count": 26,
   "id": "59c8195e",
   "metadata": {},
   "outputs": [],
   "source": [
    "# 수정된 타겟 데이터 불러오기\n",
    "target_final_df=pd.read_csv('target.csv')\n",
    "target=np.array(target_final_df.label)"
   ]
  },
  {
   "cell_type": "code",
   "execution_count": 27,
   "id": "c1f7b216",
   "metadata": {},
   "outputs": [
    {
     "name": "stdout",
     "output_type": "stream",
     "text": [
      "타켓 데이터 모양 (1834,)\n"
     ]
    }
   ],
   "source": [
    "print(f\"타켓 데이터 모양 {target.shape}\")"
   ]
  },
  {
   "cell_type": "code",
   "execution_count": 28,
   "id": "12ec0b3f",
   "metadata": {},
   "outputs": [
    {
     "data": {
      "text/plain": [
       "['battery', 'food', 'glass', 'metal', 'paper', 'plastic']"
      ]
     },
     "execution_count": 28,
     "metadata": {},
     "output_type": "execute_result"
    }
   ],
   "source": [
    "# 브랜드 이름 고유값\n",
    "brand=sorted(list(set(target_final_df.name)))\n",
    "brand"
   ]
  },
  {
   "cell_type": "code",
   "execution_count": null,
   "id": "8e7013c0",
   "metadata": {},
   "outputs": [],
   "source": []
  },
  {
   "cell_type": "code",
   "execution_count": null,
   "id": "27732aab",
   "metadata": {},
   "outputs": [],
   "source": []
  },
  {
   "cell_type": "code",
   "execution_count": 29,
   "id": "c0f0ad51",
   "metadata": {},
   "outputs": [],
   "source": [
    "# 흑백데이터 훈련/검증/테스트\n",
    "train_x_bw,test_x_bw,train_y,test_y=train_test_split(blwh,target,random_state=42,test_size=0.2,stratify=target)\n",
    "train_x_bw,val_x_bw,train_y,val_y=train_test_split(train_x_bw,train_y,random_state=42,test_size=0.2,stratify=train_y)"
   ]
  },
  {
   "cell_type": "code",
   "execution_count": 30,
   "id": "45f0f389",
   "metadata": {},
   "outputs": [
    {
     "name": "stdout",
     "output_type": "stream",
     "text": [
      "train_x_bw (1173, 2500), train_y (1173,)\n",
      "val_x_bw (294, 2500), train_y (294,)\n",
      "test_x_bw (367, 2500), train_y (367,)\n"
     ]
    }
   ],
   "source": [
    "print(f\"train_x_bw {train_x_bw.shape}, train_y {train_y.shape}\")\n",
    "print(f\"val_x_bw {val_x_bw.shape}, train_y {val_y.shape}\")\n",
    "print(f\"test_x_bw {test_x_bw.shape}, train_y {test_y.shape}\")"
   ]
  },
  {
   "cell_type": "code",
   "execution_count": null,
   "id": "2b783313",
   "metadata": {},
   "outputs": [],
   "source": []
  },
  {
   "cell_type": "code",
   "execution_count": null,
   "id": "bc115634",
   "metadata": {},
   "outputs": [],
   "source": []
  },
  {
   "cell_type": "code",
   "execution_count": 31,
   "id": "8f08892d",
   "metadata": {},
   "outputs": [
    {
     "data": {
      "text/plain": [
       "(1834, 7500)"
      ]
     },
     "execution_count": 31,
     "metadata": {},
     "output_type": "execute_result"
    }
   ],
   "source": [
    "rgb_fl=rgb.reshape(-1,2500*3)\n",
    "rgb_fl.shape"
   ]
  },
  {
   "cell_type": "code",
   "execution_count": 32,
   "id": "2238e344",
   "metadata": {},
   "outputs": [],
   "source": [
    "# 컬러데이터 훈련/검증/테스트\n",
    "train_x_co,test_x_co,train_y,test_y=train_test_split(rgb_fl,target,random_state=42,test_size=0.2,stratify=target)\n",
    "train_x_co,val_x_co,train_y,val_y=train_test_split(train_x_co,train_y,random_state=42,test_size=0.2,stratify=train_y)"
   ]
  },
  {
   "cell_type": "code",
   "execution_count": 33,
   "id": "bae227bc",
   "metadata": {},
   "outputs": [
    {
     "name": "stdout",
     "output_type": "stream",
     "text": [
      "train_x_co (1173, 7500), train_y (1173,)\n",
      "val_x_co (294, 7500), val_y (294,)\n",
      "test_x_co (367, 7500), test_y (367,)\n"
     ]
    }
   ],
   "source": [
    "print(f\"train_x_co {train_x_co.shape}, train_y {train_y.shape}\")\n",
    "print(f\"val_x_co {val_x_co.shape}, val_y {val_y.shape}\")\n",
    "print(f\"test_x_co {test_x_co.shape}, test_y {test_y.shape}\")"
   ]
  },
  {
   "cell_type": "code",
   "execution_count": null,
   "id": "fd668f42",
   "metadata": {},
   "outputs": [],
   "source": []
  },
  {
   "cell_type": "code",
   "execution_count": 34,
   "id": "eb6f6ef3",
   "metadata": {},
   "outputs": [],
   "source": [
    "from sklearn.decomposition import PCA"
   ]
  },
  {
   "cell_type": "code",
   "execution_count": 35,
   "id": "8d93c4ae",
   "metadata": {},
   "outputs": [],
   "source": [
    "pca=PCA()"
   ]
  },
  {
   "cell_type": "code",
   "execution_count": 36,
   "id": "4f9b0e31",
   "metadata": {},
   "outputs": [
    {
     "data": {
      "text/plain": [
       "PCA()"
      ]
     },
     "execution_count": 36,
     "metadata": {},
     "output_type": "execute_result"
    }
   ],
   "source": [
    "pca.fit(train_x_bw)"
   ]
  },
  {
   "cell_type": "code",
   "execution_count": 37,
   "id": "fbf0e7dc",
   "metadata": {},
   "outputs": [
    {
     "data": {
      "text/plain": [
       "array([4.82493507e-01, 5.16948654e-02, 4.19936958e-02, ...,\n",
       "       3.24474954e-33, 3.24474954e-33, 2.18476401e-33])"
      ]
     },
     "execution_count": 37,
     "metadata": {},
     "output_type": "execute_result"
    }
   ],
   "source": [
    "# 분산비율\n",
    "pca.explained_variance_ratio_"
   ]
  },
  {
   "cell_type": "code",
   "execution_count": 38,
   "id": "3ca4fe3f",
   "metadata": {},
   "outputs": [
    {
     "name": "stdout",
     "output_type": "stream",
     "text": [
      "주성분 누적 설명정도 [0.4825 0.5342 0.5762 ... 1.     1.     1.    ]\n",
      "주성분 개수(차원): 142\n"
     ]
    }
   ],
   "source": [
    "# 설명력\n",
    "cumsum=np.round(np.cumsum(pca.explained_variance_ratio_),4)\n",
    "d=np.argmax(cumsum>=0.95)+1 # 최적 주성분 개수\n",
    "\n",
    "print(f\"주성분 누적 설명정도 {cumsum}\")\n",
    "print(f\"주성분 개수(차원): {d}\")"
   ]
  },
  {
   "cell_type": "code",
   "execution_count": 39,
   "id": "d8f17a56",
   "metadata": {},
   "outputs": [],
   "source": [
    "# # 설명력 그래프 그려보기\n",
    "# plt.figure(figsize=(15,5))\n",
    "# plt.plot(range(1,2501),cumsum)\n",
    "# plt.plot(d,0.95,'ro')\n",
    "# plt.plot([d,d],[0,0.95],'g--')\n",
    "# plt.xlim(1,2501)\n",
    "# plt.xlabel('Dimention')\n",
    "# plt.ylabel('Explained Variance')\n",
    "# plt.show()"
   ]
  },
  {
   "cell_type": "code",
   "execution_count": null,
   "id": "fd337990",
   "metadata": {},
   "outputs": [],
   "source": []
  },
  {
   "cell_type": "code",
   "execution_count": 40,
   "id": "565eb695",
   "metadata": {},
   "outputs": [
    {
     "data": {
      "text/plain": [
       "PCA(n_components=142)"
      ]
     },
     "execution_count": 40,
     "metadata": {},
     "output_type": "execute_result"
    }
   ],
   "source": [
    "# 최적의 주성분 개수로 다시 모델 생성\n",
    "pca=PCA(n_components=d)\n",
    "pca.fit(train_x_bw)"
   ]
  },
  {
   "cell_type": "code",
   "execution_count": 41,
   "id": "92807e2c",
   "metadata": {},
   "outputs": [],
   "source": [
    "# 주성분 개수 마다 모델과 예측값 구하기 함수\n",
    "def pca_pre(n_pca,data):\n",
    "    pca=PCA(n_components=n_pca)\n",
    "    pca.fit(train_x_bw)\n",
    "    pre_out=pca.transform(data)\n",
    "\n",
    "    return pca, pre_out"
   ]
  },
  {
   "cell_type": "code",
   "execution_count": 42,
   "id": "3f8f6dca",
   "metadata": {},
   "outputs": [],
   "source": [
    "# 원본데이터와 예측데이터의 그래프 비교 함수\n",
    "def compimage(mopca,raw,comp):\n",
    "    plt.figure(figsize=(20,5))\n",
    "    plt.subplot(1,2,1)\n",
    "    plt.imshow(raw.reshape(50,50,1),cmap='gray')\n",
    "    plt.title('원본데이터')\n",
    "    \n",
    "    re_comp=mopca.inverse_transform(comp)\n",
    "    plt.subplot(1,2,2)\n",
    "    plt.imshow(re_comp.reshape(50,50,1),cmap='gray')\n",
    "    plt.title('PCA된 그림')\n",
    "    plt.tight_layout()\n",
    "    plt.show()"
   ]
  },
  {
   "cell_type": "code",
   "execution_count": 43,
   "id": "eaebf137",
   "metadata": {},
   "outputs": [
    {
     "data": {
      "image/png": "[encoded data removed]",
      "text/plain": [
       "<Figure size 1440x360 with 2 Axes>"
      ]
     },
     "metadata": {
      "needs_background": "light"
     },
     "output_type": "display_data"
    }
   ],
   "source": [
    "mopca,comp=pca_pre(d,test_x_bw)\n",
    "compimage(mopca,test_x_bw[1],comp[1])"
   ]
  },
  {
   "cell_type": "code",
   "execution_count": null,
   "id": "480ad19c",
   "metadata": {},
   "outputs": [],
   "source": []
  },
  {
   "cell_type": "code",
   "execution_count": 44,
   "id": "38125d30",
   "metadata": {},
   "outputs": [],
   "source": [
    "# 주성분 개수마다 그래프 그려보기\n",
    "def pca_grape(n_list,data,index):\n",
    "    plt.figure(figsize=(20,10))\n",
    "    r=2\n",
    "    c=5\n",
    "    for n in range(r):\n",
    "        for k in range(c):\n",
    "            if n_list[n*c+k]==1:\n",
    "                plt.subplot(r,c,n*c+k+1)\n",
    "                plt.imshow(data[index].reshape(50,50,1),cmap='gray')\n",
    "                plt.title('원본데이터')\n",
    "            else:\n",
    "                pca=PCA(n_components=n_list[n*c+k])\n",
    "                pca.fit(train_x_bw)\n",
    "                pre_out=pca.transform(data)\n",
    "\n",
    "                re_comp=pca.inverse_transform(pre_out[index])\n",
    "                plt.subplot(r,c,n*c+k+1)\n",
    "                plt.imshow(re_comp.reshape(50,50,1),cmap='gray')\n",
    "                plt.title(f'주성분 개수가 {n_list[n*c+k]}일때')\n",
    "    plt.tight_layout()\n",
    "    plt.show()"
   ]
  },
  {
   "cell_type": "code",
   "execution_count": 45,
   "id": "38f3626a",
   "metadata": {},
   "outputs": [],
   "source": [
    "# print(f\"이 사진의 브랜드 이름은 {brand[test_y[0]]}\")\n",
    "# pca_grape([1,30,40,50,100,200,500,834,1000,2000],test_x_bw,0)"
   ]
  },
  {
   "cell_type": "code",
   "execution_count": 46,
   "id": "bc204bc6",
   "metadata": {},
   "outputs": [],
   "source": [
    "# print(f\"이 사진의 브랜드 이름은 {brand[test_y[100]]}\")\n",
    "# pca_grape([1,25,60,100,200,345,567,834,900,2500],test_x_bw,100)"
   ]
  },
  {
   "cell_type": "markdown",
   "id": "67d75952",
   "metadata": {},
   "source": [
    "## 컬러"
   ]
  },
  {
   "cell_type": "code",
   "execution_count": 47,
   "id": "7b01c4b5",
   "metadata": {},
   "outputs": [],
   "source": [
    "pcacolor=PCA()"
   ]
  },
  {
   "cell_type": "code",
   "execution_count": 48,
   "id": "32557976",
   "metadata": {},
   "outputs": [
    {
     "data": {
      "text/plain": [
       "PCA()"
      ]
     },
     "execution_count": 48,
     "metadata": {},
     "output_type": "execute_result"
    }
   ],
   "source": [
    "pcacolor.fit(train_x_co)"
   ]
  },
  {
   "cell_type": "code",
   "execution_count": 49,
   "id": "92d244cb",
   "metadata": {},
   "outputs": [
    {
     "name": "stdout",
     "output_type": "stream",
     "text": [
      "누적 설명력은 [0.447808 0.4967   0.535539 ... 1.       1.       1.      ]\n",
      "최적의 차원 개수는 196입니다.\n"
     ]
    }
   ],
   "source": [
    "# 누적 설명력과 최적 차원개수 구하기\n",
    "cumsum_co=np.round(np.cumsum(pcacolor.explained_variance_ratio_),6)\n",
    "d=np.argmax(cumsum_co>=0.95)+1\n",
    "\n",
    "print(f\"누적 설명력은 {cumsum_co}\")\n",
    "print(f\"최적의 차원 개수는 {d}입니다.\")"
   ]
  },
  {
   "cell_type": "code",
   "execution_count": 50,
   "id": "77cd74ea",
   "metadata": {},
   "outputs": [],
   "source": [
    "# # 누적 설명력 그래프 그리기\n",
    "# plt.figure(figsize=(20,5))\n",
    "# plt.plot(range(1,2501),cumsum)\n",
    "# plt.plot(d,0.95,'ro')\n",
    "# plt.plot([d,d],[0,0.95],'g--')\n",
    "# plt.xlim(1,2501)\n",
    "# plt.show()"
   ]
  },
  {
   "cell_type": "code",
   "execution_count": 51,
   "id": "4a9cd371",
   "metadata": {},
   "outputs": [],
   "source": [
    "# 주성분 개수마다 그래프 그려보기 => 색깔\n",
    "def pca_grape(n_list,data,index):\n",
    "    plt.figure(figsize=(20,10))\n",
    "    r=2\n",
    "    c=5\n",
    "    for n in range(r):\n",
    "        for k in range(c):\n",
    "            if n_list[n*c+k]==1:\n",
    "                plt.subplot(r,c,n*c+k+1)\n",
    "                plt.imshow(data[index].reshape(50,50,3))\n",
    "                plt.title('원본데이터')\n",
    "            else:\n",
    "                pca=PCA(n_components=n_list[n*c+k])\n",
    "                pca.fit(train_x_co)\n",
    "                pre_out=pca.transform(data)\n",
    "\n",
    "                re_comp=pca.inverse_transform(pre_out[index])\n",
    "                plt.subplot(r,c,n*c+k+1)\n",
    "                plt.imshow(re_comp.reshape(50,50,3),vmin=0,vmax=1)\n",
    "                plt.title(f'주성분 개수가 {n_list[n*c+k]}일때')\n",
    "    plt.tight_layout()\n",
    "    plt.show()"
   ]
  },
  {
   "cell_type": "code",
   "execution_count": 52,
   "id": "0721c5b0",
   "metadata": {},
   "outputs": [],
   "source": [
    "# print(f\"이 사진의 브랜드 이름은 {brand[test_y[10]]}\")\n",
    "# pca_grape([1,10,59,167,540,900,2000,2300,2400,2450],test_x_co,62)"
   ]
  },
  {
   "cell_type": "code",
   "execution_count": null,
   "id": "43926e1c",
   "metadata": {},
   "outputs": [],
   "source": []
  },
  {
   "cell_type": "code",
   "execution_count": 53,
   "id": "0aec65d0",
   "metadata": {},
   "outputs": [],
   "source": [
    "import tensorflow as tf\n",
    "from keras.applications.vgg16 import VGG16\n",
    "from keras import layers,callbacks,Sequential"
   ]
  },
  {
   "cell_type": "code",
   "execution_count": 54,
   "id": "6076a382",
   "metadata": {},
   "outputs": [],
   "source": [
    "# # 사전 학습된 VGG16모델 불러오기\n",
    "# model=VGG16(weights='imagenet',include_top=False,input_shape=(50,50,3))"
   ]
  },
  {
   "cell_type": "code",
   "execution_count": 55,
   "id": "88d461e2",
   "metadata": {},
   "outputs": [],
   "source": [
    "# # 모델 확인\n",
    "# model.summary(show_trainable=True)"
   ]
  },
  {
   "cell_type": "code",
   "execution_count": 56,
   "id": "95645757",
   "metadata": {},
   "outputs": [],
   "source": [
    "# remodel = Sequential()\n",
    "# remodel.add(model)\n",
    "# remodel.add(layers.Flatten())\n",
    "# remodel.add(layers.Dense(512,activation='relu'))\n",
    "# remodel.add(layers.Dropout(0.5))\n",
    "# remodel.add(layers.Dense(216,activation='relu'))\n",
    "# remodel.add(layers.Dropout(0.5))\n",
    "# remodel.add(layers.Dense(26, activation='softmax'))"
   ]
  },
  {
   "cell_type": "code",
   "execution_count": 57,
   "id": "97f8dcab",
   "metadata": {},
   "outputs": [],
   "source": [
    "# remodel.compile(optimizer='adam',loss='sparse_categorical_crossentropy',metrics='accuracy')"
   ]
  },
  {
   "cell_type": "code",
   "execution_count": 58,
   "id": "999dd09c",
   "metadata": {},
   "outputs": [],
   "source": [
    "# modelES=callbacks.EarlyStopping(monitor='val_accuracy',patience=5)\n",
    "# modelMC=callbacks.ModelCheckpoint('best_model',save_best_only=True,save_weights_only=True)"
   ]
  },
  {
   "cell_type": "code",
   "execution_count": 59,
   "id": "2a96c713",
   "metadata": {},
   "outputs": [],
   "source": [
    "# remodel.summary()"
   ]
  },
  {
   "cell_type": "code",
   "execution_count": 60,
   "id": "bdcbd250",
   "metadata": {},
   "outputs": [],
   "source": [
    "train_xx = train_x_co.reshape(-1,50,50,3)\n",
    "test_xx = test_x_co.reshape(-1,50,50,3)\n",
    "val_xx = val_x_co.reshape(-1,50,50,3)"
   ]
  },
  {
   "cell_type": "code",
   "execution_count": 61,
   "id": "7ed079db",
   "metadata": {
    "scrolled": true
   },
   "outputs": [
    {
     "data": {
      "text/plain": [
       "(1173, 50, 50, 3)"
      ]
     },
     "execution_count": 61,
     "metadata": {},
     "output_type": "execute_result"
    }
   ],
   "source": [
    "train_xx.shape"
   ]
  },
  {
   "cell_type": "code",
   "execution_count": 62,
   "id": "d94b4c2b",
   "metadata": {},
   "outputs": [
    {
     "data": {
      "text/plain": [
       "(1173,)"
      ]
     },
     "execution_count": 62,
     "metadata": {},
     "output_type": "execute_result"
    }
   ],
   "source": [
    "train_y.shape"
   ]
  },
  {
   "cell_type": "code",
   "execution_count": 63,
   "id": "d0fc4a85",
   "metadata": {},
   "outputs": [],
   "source": [
    "# remodel.fit(train_xx,train_y,callbacks=[modelES,modelMC],validation_data=(val_xx,val_y),epochs=100)"
   ]
  },
  {
   "cell_type": "markdown",
   "id": "d61ef48c",
   "metadata": {},
   "source": [
    "## 모델"
   ]
  },
  {
   "cell_type": "code",
   "execution_count": 203,
   "id": "f3763d91",
   "metadata": {},
   "outputs": [],
   "source": [
    "from tensorflow.keras.layers.experimental import preprocessing\n",
    "from tensorflow.python.keras.callbacks import EarlyStopping\n",
    "from keras.callbacks import ModelCheckpoint"
   ]
  },
  {
   "cell_type": "code",
   "execution_count": 204,
   "id": "237b6564",
   "metadata": {},
   "outputs": [],
   "source": [
    "image_size = 150\n",
    "input_shape = (image_size, image_size, 3)\n",
    "\n",
    "resize_and_rescale = Sequential([\n",
    "    preprocessing.Resizing(image_size, image_size),\n",
    "    preprocessing.Rescaling(1./255)\n",
    "])"
   ]
  },
  {
   "cell_type": "code",
   "execution_count": 205,
   "id": "6439835d",
   "metadata": {},
   "outputs": [],
   "source": [
    "model=Sequential()\n",
    "model.add(resize_and_rescale)\n",
    "model.add(Conv2D(64, kernel_size=3, activation='relu', padding='same', input_shape=(50,50,3)))\n",
    "model.add(MaxPool2D())\n",
    "model.add(Conv2D(128, kernel_size=3, padding='same'))\n",
    "model.add(Conv2D(64, kernel_size=3, padding='same'))\n",
    "model.add(MaxPool2D())\n",
    "model.add(Conv2D(128, kernel_size=3, padding='same'))\n",
    "# model.add(Conv2D(256, kernel_size=3, padding='same'))\n",
    "model.add(MaxPool2D())\n",
    "\n",
    "model.add(Flatten())\n",
    "model.add(Dense(512, activation='relu'))\n",
    "model.add(Dense(12, activation='softmax'))"
   ]
  },
  {
   "cell_type": "code",
   "execution_count": 206,
   "id": "39fd6388",
   "metadata": {},
   "outputs": [],
   "source": [
    "# model.summary()"
   ]
  },
  {
   "cell_type": "code",
   "execution_count": 207,
   "id": "ff70921b",
   "metadata": {},
   "outputs": [],
   "source": [
    "# ImageDataGenerator\n",
    "train_datagen = ImageDataGenerator(\n",
    "    \n",
    "    rotation_range=30,\n",
    "    shear_range=0.2,\n",
    "    zoom_range=0.4,\n",
    "    horizontal_flip=True\n",
    ")\n",
    "train_datagen.fit(train_xx)"
   ]
  },
  {
   "cell_type": "code",
   "execution_count": 208,
   "id": "85ded815",
   "metadata": {},
   "outputs": [],
   "source": [
    "es = EarlyStopping(monitor='accuracy', mode='max', verbose=1, patience=500)\n",
    "mc = ModelCheckpoint('best_model.h5', monitor='accuracy', mode='max', save_best_only=True)"
   ]
  },
  {
   "cell_type": "code",
   "execution_count": 209,
   "id": "9d152c47",
   "metadata": {},
   "outputs": [],
   "source": [
    "model.compile(optimizer='adam',loss='sparse_categorical_crossentropy',metrics=['accuracy'])"
   ]
  },
  {
   "cell_type": "code",
   "execution_count": 210,
   "id": "42b93f54",
   "metadata": {
    "scrolled": false
   },
   "outputs": [
    {
     "name": "stdout",
     "output_type": "stream",
     "text": [
      "Epoch 1/15\n",
      "36/36 [==============================] - 44s 1s/step - loss: 1.9590 - accuracy: 0.1630 - val_loss: 1.8502 - val_accuracy: 0.1599\n",
      "Epoch 2/15\n",
      "36/36 [==============================] - 49s 1s/step - loss: 1.8178 - accuracy: 0.1814 - val_loss: 1.8358 - val_accuracy: 0.1939\n",
      "Epoch 3/15\n",
      "36/36 [==============================] - 52s 1s/step - loss: 1.8088 - accuracy: 0.1745 - val_loss: 1.8014 - val_accuracy: 0.1939\n",
      "Epoch 4/15\n",
      "36/36 [==============================] - 70s 2s/step - loss: 1.7783 - accuracy: 0.2130 - val_loss: 1.9432 - val_accuracy: 0.1905\n",
      "Epoch 5/15\n",
      "36/36 [==============================] - 75s 2s/step - loss: 1.7004 - accuracy: 0.2603 - val_loss: 1.8072 - val_accuracy: 0.2517\n",
      "Epoch 6/15\n",
      "36/36 [==============================] - 85s 2s/step - loss: 1.6699 - accuracy: 0.2533 - val_loss: 1.6853 - val_accuracy: 0.2857\n",
      "Epoch 7/15\n",
      "36/36 [==============================] - 69s 2s/step - loss: 1.6147 - accuracy: 0.2936 - val_loss: 1.6267 - val_accuracy: 0.2551\n",
      "Epoch 8/15\n",
      "36/36 [==============================] - 67s 2s/step - loss: 1.5698 - accuracy: 0.3155 - val_loss: 1.6399 - val_accuracy: 0.2653\n",
      "Epoch 9/15\n",
      "36/36 [==============================] - 68s 2s/step - loss: 1.5239 - accuracy: 0.3497 - val_loss: 1.7242 - val_accuracy: 0.2483\n",
      "Epoch 10/15\n",
      "36/36 [==============================] - 68s 2s/step - loss: 1.5556 - accuracy: 0.3199 - val_loss: 1.6111 - val_accuracy: 0.2959\n",
      "Epoch 11/15\n",
      "36/36 [==============================] - 65s 2s/step - loss: 1.5219 - accuracy: 0.3339 - val_loss: 1.5885 - val_accuracy: 0.3061\n",
      "Epoch 12/15\n",
      "36/36 [==============================] - 67s 2s/step - loss: 1.5147 - accuracy: 0.3313 - val_loss: 1.6223 - val_accuracy: 0.3061\n",
      "Epoch 13/15\n",
      "36/36 [==============================] - 67s 2s/step - loss: 1.5218 - accuracy: 0.3304 - val_loss: 1.5681 - val_accuracy: 0.3061\n",
      "Epoch 14/15\n",
      "36/36 [==============================] - 65s 2s/step - loss: 1.4700 - accuracy: 0.3786 - val_loss: 1.5386 - val_accuracy: 0.3129\n",
      "Epoch 15/15\n",
      "36/36 [==============================] - 68s 2s/step - loss: 1.4516 - accuracy: 0.3786 - val_loss: 1.5825 - val_accuracy: 0.3197\n"
     ]
    }
   ],
   "source": [
    "History1 = model.fit_generator(train_datagen.flow(train_xx,train_y, batch_size=32),\n",
    "                              epochs = 15, validation_data = (val_xx,val_y),\n",
    "                              verbose = 1, steps_per_epoch=train_xx.shape[0] // 32,\n",
    "                               callbacks=[es, mc])"
   ]
  },
  {
   "cell_type": "code",
   "execution_count": 211,
   "id": "5669a3a4",
   "metadata": {},
   "outputs": [
    {
     "data": {
      "image/png": "[encoded data removed]",
      "text/plain": [
       "<Figure size 1800x720 with 2 Axes>"
      ]
     },
     "metadata": {
      "needs_background": "light"
     },
     "output_type": "display_data"
    }
   ],
   "source": [
    "def plot_accuracy_and_loss(train_model):\n",
    "    hist = train_model.history\n",
    "    acc = hist['accuracy']\n",
    "    val_acc = hist['val_accuracy']\n",
    "    loss = hist['loss']\n",
    "    val_loss = hist['val_loss']\n",
    "    epochs = range(len(acc))\n",
    "    f, ax = plt.subplots(1,2, figsize=(25, 10))\n",
    "    ax[0].plot(epochs, acc, 'g', label='Training accuracy')\n",
    "    ax[0].plot(epochs, val_acc, 'r', label='Validation accuracy')\n",
    "    ax[0].set_title('Training and validation accuracy')\n",
    "    ax[0].legend(fontsize=10)\n",
    "    ax[1].plot(epochs, loss, 'g', label='Training loss')\n",
    "    ax[1].plot(epochs, val_loss, 'r', label='Validation loss')\n",
    "    ax[1].set_title('Training and validation loss')\n",
    "    ax[1].legend()\n",
    "    plt.show()\n",
    "plot_accuracy_and_loss(History1)"
   ]
  },
  {
   "cell_type": "code",
   "execution_count": null,
   "id": "f5eefebc",
   "metadata": {},
   "outputs": [],
   "source": []
  },
  {
   "cell_type": "code",
   "execution_count": 212,
   "id": "da4159d3",
   "metadata": {},
   "outputs": [
    {
     "name": "stdout",
     "output_type": "stream",
     "text": [
      "You must install pydot (`pip install pydot`) and install graphviz (see instructions at https://graphviz.gitlab.io/download/) for plot_model to work.\n"
     ]
    }
   ],
   "source": [
    "plot_model(model, show_shapes=True)"
   ]
  },
  {
   "cell_type": "code",
   "execution_count": 213,
   "id": "eb3b2421",
   "metadata": {
    "scrolled": true
   },
   "outputs": [
    {
     "data": {
      "text/plain": [
       "(367, 7500)"
      ]
     },
     "execution_count": 213,
     "metadata": {},
     "output_type": "execute_result"
    }
   ],
   "source": [
    "test_x_co.shape"
   ]
  },
  {
   "cell_type": "code",
   "execution_count": 214,
   "id": "ce50bc71",
   "metadata": {},
   "outputs": [
    {
     "data": {
      "text/plain": [
       "(367,)"
      ]
     },
     "execution_count": 214,
     "metadata": {},
     "output_type": "execute_result"
    }
   ],
   "source": [
    "test_y.shape"
   ]
  },
  {
   "cell_type": "code",
   "execution_count": 215,
   "id": "1df1d713",
   "metadata": {},
   "outputs": [
    {
     "name": "stdout",
     "output_type": "stream",
     "text": [
      "12/12 [==============================] - 3s 253ms/step - loss: 1.5179 - accuracy: 0.3760\n"
     ]
    },
    {
     "data": {
      "text/plain": [
       "[1.517946720123291, 0.3760218024253845]"
      ]
     },
     "execution_count": 215,
     "metadata": {},
     "output_type": "execute_result"
    }
   ],
   "source": [
    "model.evaluate(test_xx, test_y)"
   ]
  },
  {
   "cell_type": "code",
   "execution_count": 216,
   "id": "48781920",
   "metadata": {},
   "outputs": [
    {
     "name": "stdout",
     "output_type": "stream",
     "text": [
      "1/1 [==============================] - 0s 101ms/step\n"
     ]
    }
   ],
   "source": [
    "pre_y=model.predict(test_xx[5].reshape(-1, 50, 50, 3))"
   ]
  },
  {
   "cell_type": "code",
   "execution_count": 217,
   "id": "8bb5d3d2",
   "metadata": {
    "scrolled": true
   },
   "outputs": [
    {
     "data": {
      "text/plain": [
       "array([[0.  , 0.32, 0.2 , 0.08, 0.21, 0.12, 0.06, 0.  , 0.  , 0.  , 0.  ,\n",
       "        0.  ]], dtype=float32)"
      ]
     },
     "execution_count": 217,
     "metadata": {},
     "output_type": "execute_result"
    }
   ],
   "source": [
    "pre_y.round(2)"
   ]
  },
  {
   "cell_type": "code",
   "execution_count": 218,
   "id": "9b4a2ee3",
   "metadata": {},
   "outputs": [
    {
     "data": {
      "text/plain": [
       "1"
      ]
     },
     "execution_count": 218,
     "metadata": {},
     "output_type": "execute_result"
    }
   ],
   "source": [
    "test_y[5]"
   ]
  },
  {
   "cell_type": "code",
   "execution_count": 219,
   "id": "08c93534",
   "metadata": {},
   "outputs": [
    {
     "data": {
      "text/html": [
       "<div>\n",
       "<style scoped>\n",
       "    .dataframe tbody tr th:only-of-type {\n",
       "        vertical-align: middle;\n",
       "    }\n",
       "\n",
       "    .dataframe tbody tr th {\n",
       "        vertical-align: top;\n",
       "    }\n",
       "\n",
       "    .dataframe thead th {\n",
       "        text-align: right;\n",
       "    }\n",
       "</style>\n",
       "<table border=\"1\" class=\"dataframe\">\n",
       "  <thead>\n",
       "    <tr style=\"text-align: right;\">\n",
       "      <th></th>\n",
       "      <th>Brand</th>\n",
       "      <th>Label</th>\n",
       "    </tr>\n",
       "  </thead>\n",
       "  <tbody>\n",
       "    <tr>\n",
       "      <th>0</th>\n",
       "      <td>battery</td>\n",
       "      <td>1</td>\n",
       "    </tr>\n",
       "    <tr>\n",
       "      <th>1</th>\n",
       "      <td>food</td>\n",
       "      <td>2</td>\n",
       "    </tr>\n",
       "    <tr>\n",
       "      <th>2</th>\n",
       "      <td>glass</td>\n",
       "      <td>3</td>\n",
       "    </tr>\n",
       "    <tr>\n",
       "      <th>3</th>\n",
       "      <td>metal</td>\n",
       "      <td>4</td>\n",
       "    </tr>\n",
       "    <tr>\n",
       "      <th>4</th>\n",
       "      <td>paper</td>\n",
       "      <td>5</td>\n",
       "    </tr>\n",
       "    <tr>\n",
       "      <th>5</th>\n",
       "      <td>plastic</td>\n",
       "      <td>6</td>\n",
       "    </tr>\n",
       "  </tbody>\n",
       "</table>\n",
       "</div>"
      ],
      "text/plain": [
       "     Brand  Label\n",
       "0  battery      1\n",
       "1     food      2\n",
       "2    glass      3\n",
       "3    metal      4\n",
       "4    paper      5\n",
       "5  plastic      6"
      ]
     },
     "execution_count": 219,
     "metadata": {},
     "output_type": "execute_result"
    }
   ],
   "source": [
    "df = pd.DataFrame(target_df.name.unique())\n",
    "df['label'] = target_df.label.unique()\n",
    "df.columns = ['Brand', 'Label']\n",
    "df"
   ]
  },
  {
   "cell_type": "markdown",
   "id": "356fe7d6",
   "metadata": {},
   "source": [
    "## 새로운 사진으로 예측"
   ]
  },
  {
   "cell_type": "code",
   "execution_count": 220,
   "id": "77915081",
   "metadata": {},
   "outputs": [],
   "source": [
    "def img_preprocessing(FILENAME):\n",
    "    img = Image.open(FILENAME)\n",
    "    img = img.resize((50,50))\n",
    "    img = np.array(img)\n",
    "    img = img.reshape(-1, 50, 50, 3)\n",
    "    plt.imshow(img.reshape(50,50,3))\n",
    "    print(df.Brand[np.argmax(model.predict(img))])"
   ]
  },
  {
   "cell_type": "code",
   "execution_count": 221,
   "id": "d6cc0ff5",
   "metadata": {},
   "outputs": [
    {
     "name": "stdout",
     "output_type": "stream",
     "text": [
      "1/1 [==============================] - 0s 87ms/step\n",
      "plastic\n"
     ]
    },
    {
     "data": {
      "image/png": "[encoded data removed]",
      "text/plain": [
       "<Figure size 432x288 with 1 Axes>"
      ]
     },
     "metadata": {
      "needs_background": "light"
     },
     "output_type": "display_data"
    }
   ],
   "source": [
    "a=img_preprocessing('./test.img/metal1.JPG')"
   ]
  },
  {
   "cell_type": "code",
   "execution_count": 222,
   "id": "c7bf3cbd",
   "metadata": {},
   "outputs": [
    {
     "name": "stdout",
     "output_type": "stream",
     "text": [
      "1/1 [==============================] - 0s 34ms/step\n",
      "plastic\n"
     ]
    },
    {
     "data": {
      "image/png": "[encoded data removed]",
      "text/plain": [
       "<Figure size 432x288 with 1 Axes>"
      ]
     },
     "metadata": {
      "needs_background": "light"
     },
     "output_type": "display_data"
    }
   ],
   "source": [
    "b=img_preprocessing('./test.img/glass1.JPG')"
   ]
  },
  {
   "cell_type": "code",
   "execution_count": 223,
   "id": "4251d3e6",
   "metadata": {},
   "outputs": [
    {
     "name": "stdout",
     "output_type": "stream",
     "text": [
      "1/1 [==============================] - 0s 34ms/step\n",
      "food\n"
     ]
    },
    {
     "data": {
      "image/png": "[encoded data removed]",
      "text/plain": [
       "<Figure size 432x288 with 1 Axes>"
      ]
     },
     "metadata": {
      "needs_background": "light"
     },
     "output_type": "display_data"
    }
   ],
   "source": [
    "c=img_preprocessing('./test.img/paper1.JPG')"
   ]
  },
  {
   "cell_type": "code",
   "execution_count": 224,
   "id": "54306122",
   "metadata": {},
   "outputs": [
    {
     "name": "stdout",
     "output_type": "stream",
     "text": [
      "1/1 [==============================] - 0s 42ms/step\n",
      "food\n"
     ]
    },
    {
     "data": {
      "image/png": "[encoded data removed]",
      "text/plain": [
       "<Figure size 432x288 with 1 Axes>"
      ]
     },
     "metadata": {
      "needs_background": "light"
     },
     "output_type": "display_data"
    }
   ],
   "source": [
    "d=img_preprocessing('./test.img/plastic1.JPG')"
   ]
  },
  {
   "cell_type": "code",
   "execution_count": 225,
   "id": "5c7dd7d4",
   "metadata": {},
   "outputs": [
    {
     "name": "stdout",
     "output_type": "stream",
     "text": [
      "1/1 [==============================] - 0s 33ms/step\n",
      "plastic\n"
     ]
    },
    {
     "data": {
      "image/png": "[encoded data removed]",
      "text/plain": [
       "<Figure size 432x288 with 1 Axes>"
      ]
     },
     "metadata": {
      "needs_background": "light"
     },
     "output_type": "display_data"
    }
   ],
   "source": [
    "e=img_preprocessing('./test.img/food1.JPG')"
   ]
  },
  {
   "cell_type": "code",
   "execution_count": 226,
   "id": "da96fc32",
   "metadata": {},
   "outputs": [
    {
     "name": "stdout",
     "output_type": "stream",
     "text": [
      "1/1 [==============================] - 0s 34ms/step\n",
      "plastic\n"
     ]
    },
    {
     "data": {
      "image/png": "[encoded data removed]",
      "text/plain": [
       "<Figure size 432x288 with 1 Axes>"
      ]
     },
     "metadata": {
      "needs_background": "light"
     },
     "output_type": "display_data"
    }
   ],
   "source": [
    "f=img_preprocessing('./test.img/battery1.JPG')"
   ]
  },
  {
   "cell_type": "code",
   "execution_count": null,
   "id": "1627c0e9",
   "metadata": {},
   "outputs": [],
   "source": []
  },
  {
   "cell_type": "code",
   "execution_count": null,
   "id": "c1073f4c",
   "metadata": {},
   "outputs": [],
   "source": []
  },
  {
   "cell_type": "markdown",
   "id": "28b313a7",
   "metadata": {},
   "source": [
    "## 이미지 띄어보기"
   ]
  },
  {
   "cell_type": "code",
   "execution_count": 137,
   "id": "47270584",
   "metadata": {},
   "outputs": [],
   "source": [
    "metal_img = Image.open('./trashdatametal/metal0.png')\n",
    "metal_img1 = Image.open('./trashdatametal1/metal10.png')\n",
    "glass_img = Image.open('./trashdataglass/glass0.png')\n",
    "glass_img1 = Image.open('./trashdataglass1/glass10.png')\n",
    "paper_img = Image.open('./trashdatapaper/paper0.png')\n",
    "paper_img1 = Image.open('./trashdatapaper1/paper10.png')\n",
    "plastic_img = Image.open('./trashdataplastic/plastic0.png')\n",
    "plastic_img1 = Image.open('./trashdataplastic1/plastic10.png')\n",
    "food_img = Image.open('./trashdatafood/food0.png')\n",
    "food_img1 = Image.open('./trashdatafood1/food10.png')\n",
    "battery_img = Image.open('./trashdatabattery/battery0.png')\n",
    "battery_img1 = Image.open('./trashdatabattery1/battery10.png')"
   ]
  },
  {
   "cell_type": "code",
   "execution_count": 138,
   "id": "a7f48bc6",
   "metadata": {
    "scrolled": true
   },
   "outputs": [
    {
     "data": {
      "image/png": "[encoded data removed]",
      "text/plain": [
       "<Figure size 2160x2160 with 6 Axes>"
      ]
     },
     "metadata": {
      "needs_background": "light"
     },
     "output_type": "display_data"
    }
   ],
   "source": [
    "fig=plt.figure(figsize=(30,30))\n",
    "\n",
    "plt.subplot(1, 6, 1)\n",
    "plt.imshow(metal_img)\n",
    "plt.title('metal trash', fontsize=24)\n",
    "\n",
    "plt.subplot(1, 6, 2)\n",
    "plt.imshow(glass_img)\n",
    "plt.title('glass trash', fontsize=24)\n",
    "\n",
    "plt.subplot(1, 6, 3)\n",
    "plt.imshow(paper_img)\n",
    "plt.title('paper trash', fontsize=24)\n",
    "\n",
    "plt.subplot(1, 6, 4)\n",
    "plt.imshow(plastic_img)\n",
    "plt.title('plastic trash', fontsize=24)\n",
    "\n",
    "plt.subplot(1, 6, 5)\n",
    "plt.imshow(food_img)\n",
    "plt.title('food trash', fontsize=24)\n",
    "\n",
    "plt.subplot(1, 6, 6)\n",
    "plt.imshow(battery_img)\n",
    "plt.title('battery trash', fontsize=24)\n",
    "plt.show()"
   ]
  },
  {
   "cell_type": "code",
   "execution_count": 139,
   "id": "00f54e17",
   "metadata": {},
   "outputs": [
    {
     "data": {
      "image/png": "[encoded data removed]",
      "text/plain": [
       "<Figure size 2160x2160 with 6 Axes>"
      ]
     },
     "metadata": {
      "needs_background": "light"
     },
     "output_type": "display_data"
    }
   ],
   "source": [
    "fig=plt.figure(figsize=(30,30))\n",
    "\n",
    "plt.subplot(1, 6, 1)\n",
    "plt.imshow(metal_img1)\n",
    "plt.title('metal trash1', fontsize=24)\n",
    "\n",
    "plt.subplot(1, 6, 2)\n",
    "plt.imshow(glass_img1)\n",
    "plt.title('glass trash1', fontsize=24)\n",
    "\n",
    "plt.subplot(1, 6, 3)\n",
    "plt.imshow(paper_img1)\n",
    "plt.title('paper trash1', fontsize=24)\n",
    "\n",
    "plt.subplot(1, 6, 4)\n",
    "plt.imshow(plastic_img1)\n",
    "plt.title('plastic trash1', fontsize=24)\n",
    "\n",
    "plt.subplot(1, 6, 5)\n",
    "plt.imshow(food_img1)\n",
    "plt.title('food trash1', fontsize=24)\n",
    "\n",
    "plt.subplot(1, 6, 6)\n",
    "plt.imshow(battery_img1)\n",
    "plt.title('battery trash1', fontsize=24)\n",
    "plt.show()"
   ]
  },
  {
   "cell_type": "code",
   "execution_count": 140,
   "id": "dfbe8d7a",
   "metadata": {},
   "outputs": [],
   "source": [
    "allmetalimg = []\n",
    "allglassimg = []\n",
    "allpaperimg = []\n",
    "allplasticimg = []\n",
    "allfoodimg = []\n",
    "allbatteryimg = []\n",
    "\n",
    "metal_len = len(os.listdir('./trashdatametal/'))\n",
    "for i in range(metal_len):\n",
    "    a = Image.open('./trashdatametal/metal'+str(i)+'.png')\n",
    "    allmetalimg.append(np.array(a).reshape(-1,50*50)[0].tolist())\n",
    "\n",
    "glass_len = len(os.listdir('./trashdataglass/'))\n",
    "for j in range(glass_len):\n",
    "    b = Image.open('./trashdataglass/glass'+str(j)+'.png')\n",
    "    allglassimg.append(np.array(b).reshape(-1,50*50)[0].tolist())\n",
    "    \n",
    "paper_len = len(os.listdir('./trashdatapaper/'))\n",
    "for o in range(paper_len):\n",
    "    c = Image.open('./trashdatapaper/paper'+str(o)+'.png')\n",
    "    allpaperimg.append(np.array(c).reshape(-1,50*50)[0].tolist())\n",
    "\n",
    "plastic_len = len(os.listdir('./trashdataplastic/'))\n",
    "for f in range(plastic_len):\n",
    "    d = Image.open('./trashdataplastic/plastic'+str(f)+'.png')\n",
    "    allplasticimg.append(np.array(d).reshape(-1,50*50)[0].tolist())\n",
    "\n",
    "food_len = len(os.listdir('./trashdatafood/'))\n",
    "for g in range(food_len):\n",
    "    e = Image.open('./trashdatafood/food'+str(g)+'.png')\n",
    "    allfoodimg.append(np.array(e).reshape(-1,50*50)[0].tolist())\n",
    "\n",
    "battery_len = len(os.listdir('./trashdatabattery/'))\n",
    "for k in range(battery_len):\n",
    "    q = Image.open('./trashdatabattery/battery'+str(k)+'.png')\n",
    "    allbatteryimg.append(np.array(q).reshape(-1,50*50)[0].tolist())"
   ]
  },
  {
   "cell_type": "code",
   "execution_count": 141,
   "id": "d7f05821",
   "metadata": {},
   "outputs": [
    {
     "name": "stdout",
     "output_type": "stream",
     "text": [
      "메탈 쓰레기 :  29\n",
      "유리 쓰레기 :  27\n",
      "종이 쓰레기 :  25\n",
      "플라스틱 쓰레기 :  22\n",
      "음식 쓰레기 :  26\n",
      "건전지 쓰레기 :  30\n"
     ]
    }
   ],
   "source": [
    "print('메탈 쓰레기 : ', len(allmetalimg))\n",
    "print('유리 쓰레기 : ', len(allglassimg))\n",
    "print('종이 쓰레기 : ', len(allpaperimg))\n",
    "print('플라스틱 쓰레기 : ', len(allplasticimg))\n",
    "print('음식 쓰레기 : ', len(allfoodimg))\n",
    "print('건전지 쓰레기 : ', len(allbatteryimg))"
   ]
  },
  {
   "cell_type": "code",
   "execution_count": null,
   "id": "d81fe7ae",
   "metadata": {},
   "outputs": [],
   "source": []
  },
  {
   "cell_type": "code",
   "execution_count": null,
   "id": "dbf2964b",
   "metadata": {},
   "outputs": [],
   "source": []
  },
  {
   "cell_type": "code",
   "execution_count": null,
   "id": "059e9b9b",
   "metadata": {},
   "outputs": [],
   "source": []
  }
 ],
 "metadata": {
  "kernelspec": {
   "display_name": "Python 3 (ipykernel)",
   "language": "python",
   "name": "python3"
  },
  "language_info": {
   "codemirror_mode": {
    "name": "ipython",
    "version": 3
   },
   "file_extension": ".py",
   "mimetype": "text/x-python",
   "name": "python",
   "nbconvert_exporter": "python",
   "pygments_lexer": "ipython3",
   "version": "3.9.12"
  }
 },
 "nbformat": 4,
 "nbformat_minor": 5
}
