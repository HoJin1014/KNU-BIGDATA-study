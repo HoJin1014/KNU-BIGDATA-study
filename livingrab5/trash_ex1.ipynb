{
 "cells": [
  {
   "cell_type": "code",
   "execution_count": 5,
   "id": "e1409350",
   "metadata": {
    "scrolled": true
   },
   "outputs": [],
   "source": [
    "# 모듈 로딩\n",
    "import os\n",
    "import cv2\n",
    "import numpy as np\n",
    "import pandas as pd\n",
    "import warnings\n",
    "warnings.filterwarnings('ignore')\n",
    "import matplotlib.pyplot as plt\n",
    "from PIL import Image\n",
    "from bs4 import BeautifulSoup\n",
    "from selenium import webdriver\n",
    "from tensorflow.keras import Sequential\n",
    "from sklearn.utils import all_estimators\n",
    "from sklearn.linear_model import LogisticRegression\n",
    "from sklearn.model_selection import train_test_split\n",
    "from urllib.request import urlopen,Request,urlretrieve\n",
    "from tensorflow.keras.utils import set_random_seed, plot_model\n",
    "from tensorflow.keras.preprocessing.image import ImageDataGenerator\n",
    "from tensorflow.keras.layers import Dense, Conv2D, Flatten, MaxPool2D, MaxPooling2D"
   ]
  },
  {
   "cell_type": "code",
   "execution_count": 6,
   "id": "2935683e",
   "metadata": {},
   "outputs": [],
   "source": [
    "def solution(foldname):\n",
    "    l=[]\n",
    "    for i in os.listdir('./'+foldname+'/'):\n",
    "        n=np.array(Image.open('./'+foldname+'/'+i))/255.0\n",
    "        if foldname=='blwh':\n",
    "           n_list=n.reshape(-1,50,50)[0].tolist()\n",
    "        else:\n",
    "            n_list=n.reshape(-1,50,50,3)[0].tolist()\n",
    "        l.append(n_list)\n",
    "    return np.array(l)"
   ]
  },
  {
   "cell_type": "code",
   "execution_count": 7,
   "id": "697198f4",
   "metadata": {},
   "outputs": [],
   "source": [
    "# 동적 웹 크롤링으로 사진저장 함수\n",
    "def image_save(urlpath,charname):\n",
    "    driver = webdriver.Chrome('chromedriver.exe') # C:/Users/User/EXAM_PANDAS/DAY-0630/DAY-0920\n",
    "    #driver = webdriver.Chrome('C:\\\\workspace’) # Windows 사용자의 설치 경로\n",
    "    driver.get(urlpath)\n",
    "    html=driver.page_source\n",
    "    soup=BeautifulSoup(html,'html.parser')\n",
    "    driver.quit()\n",
    "\n",
    "    # 태그-속성 찾기\n",
    "    image_finds=soup.select(\"div.bRMDJf img\")\n",
    "    \n",
    "    # 이미지의 url찾기\n",
    "    image=[]\n",
    "    for image_find in image_finds:\n",
    "        try:\n",
    "            image.append(image_find['src'])\n",
    "            image.append(image_find['data-src'])\n",
    "        except:\n",
    "            pass\n",
    "    \n",
    "    # 폴더 만들기\n",
    "    if not os.path.exists('./trashdata'+charname):\n",
    "        os.makedirs('./trashdata'+charname)\n",
    "    \n",
    "    # 파일 저장하기\n",
    "    for i in range(0,len(image)):\n",
    "        urlretrieve(image[i],'./trashdata'+charname+'/'+charname+str(i)+'.png')\n",
    "\n",
    "    # 파일 크기 조절\n",
    "    for png in os.listdir('./trashdata'+charname):\n",
    "        Image.open('./trashdata'+charname+'/'+png).resize((50,50)).save('./trashdata'+charname+'/'+png)"
   ]
  },
  {
   "cell_type": "code",
   "execution_count": 8,
   "id": "eafd3381",
   "metadata": {},
   "outputs": [],
   "source": [
    "# 메탈 쓰레기\n",
    "image_save('https://www.google.com/search?q=%EB%A9%94%ED%83%88%EC%93%B0%EB%A0%88%EA%B8%B0&sxsrf=ALiCzsYgMTaD8UrBJjZcoXB0ejjjZXE0og:1667533346124&source=lnms&tbm=isch&sa=X&ved=2ahUKEwiisPzlzZP7AhXaNt4KHdZ5DHUQ_AUoAXoECAEQAw&biw=852&bih=946&dpr=1.5','metal')\n",
    "\n",
    "# 금속 사진\n",
    "image_save('https://www.google.com/search?q=%EA%B8%88%EC%86%8D%EC%82%AC%EC%A7%84&sxsrf=ALiCzsZWUgCli9HM9aXViWTb-sQ_BLsMUw:1667585448154&source=lnms&tbm=isch&sa=X&ved=2ahUKEwjE8JPyj5X7AhVX_GEKHY25DhYQ_AUoAXoECAIQAw&biw=1707&bih=956&dpr=1.5', 'metal1')\n",
    "\n",
    "# 유리 쓰레기\n",
    "image_save('https://www.google.com/search?q=%EC%9C%A0%EB%A6%AC%EC%93%B0%EB%A0%88%EA%B8%B0&sxsrf=ALiCzsaq14G6Dozn2OoZypk41jDZtJOT7g:1667533415257&source=lnms&tbm=isch&sa=X&ved=2ahUKEwjh-PeGzpP7AhVcl1YBHd5eDegQ_AUoAXoECAIQAw&biw=852&bih=946&dpr=1.5', 'glass')\n",
    "\n",
    "# 유리 사진\n",
    "image_save('https://www.google.com/search?q=%EC%9C%A0%EB%A6%AC%EB%B3%91%EC%82%AC%EC%A7%84&sxsrf=ALiCzsboGcYraCGzj5JGtEPkMNMt7Es1fQ:1667585399573&source=lnms&tbm=isch&sa=X&ved=2ahUKEwjo4P7aj5X7AhVHVN4KHZQ4CnQQ_AUoAXoECAMQAw&biw=1707&bih=956&dpr=1.5', 'glass1')\n",
    "\n",
    "# 종이 쓰레기\n",
    "image_save('https://www.google.com/search?q=%EC%A2%85%EC%9D%B4%EC%93%B0%EB%A0%88%EA%B8%B0&sxsrf=ALiCzsYC9L5qJdGyqmMqqjakLIj1HulBow:1667533460827&source=lnms&tbm=isch&sa=X&ved=2ahUKEwiHrNWczpP7AhUGmFYBHVyVBTUQ_AUoAXoECAEQAw&biw=852&bih=946&dpr=1.5', 'paper')\n",
    "\n",
    "# 종이 사진 \n",
    "image_save('https://www.google.com/search?q=%EC%A2%85%EC%9D%B4%EC%82%AC%EC%A7%84&sxsrf=ALiCzsaqos5SvKAa7v47ezTeSP84RZsJyw:1667585343005&source=lnms&tbm=isch&sa=X&ved=2ahUKEwjfiILAj5X7AhUC3mEKHWD5AvIQ_AUoAXoECAEQAw&biw=1707&bih=956&dpr=1.5', 'paper1')\n",
    "\n",
    "# 플라스틱 쓰레기\n",
    "image_save('https://www.google.com/search?q=%ED%94%8C%EB%9D%BC%EC%8A%A4%ED%8B%B1%EC%93%B0%EB%A0%88%EA%B8%B0&sxsrf=ALiCzsbGqKr6AF6F6TpdksGB2H7Kl3qI1A:1667533505972&source=lnms&tbm=isch&sa=X&ved=2ahUKEwit0JiyzpP7AhXfrlYBHZSfAi0Q_AUoAXoECAIQAw&biw=852&bih=946&dpr=1.5', 'plastic')\n",
    "\n",
    "# 플라스틱류 사진\n",
    "image_save('https://www.google.com/search?q=%ED%94%8C%EB%9D%BC%EC%8A%A4%ED%8B%B1+%EC%82%AC%EC%A7%84&sxsrf=ALiCzsaEUoBi3eo3fly-x8K8avK85xigYA:1667585554739&source=lnms&tbm=isch&sa=X&ved=2ahUKEwj8sP2kkJX7AhW5gFYBHY0uBu4Q_AUoAXoECAIQAw&biw=1707&bih=956&dpr=1.5', 'plastic1')\n",
    "\n",
    "# 음식물 쓰레기\n",
    "image_save('https://www.google.com/search?q=%EC%9D%8C%EC%8B%9D%EB%AC%BC+%EC%93%B0%EB%A0%88%EA%B8%B0&sxsrf=ALiCzsYd6U9ofgUrESbI6v60-pYMq5hkfQ:1667533565760&source=lnms&tbm=isch&sa=X&ved=2ahUKEwix5tnOzpP7AhVSm1YBHc5wBuQQ_AUoAXoECAIQAw&biw=852&bih=946&dpr=1.5', 'food')\n",
    "\n",
    "# 음식쓰레기\n",
    "image_save('https://www.google.com/search?q=%EC%9D%8C%EC%8B%9D%EB%AC%BC&sxsrf=ALiCzsbpg_iXM3H21NgxkNGLAKPypaXmag:1667585630769&source=lnms&tbm=isch&sa=X&ved=2ahUKEwiX8J3JkJX7AhVvpVYBHTnkDxEQ_AUoAXoECAEQAw&biw=1707&bih=956&dpr=1.5', 'food1')\n",
    "\n",
    "# 건전지 쓰레기\n",
    "image_save('https://www.google.com/search?q=%EA%B1%B4%EC%A0%84%EC%A7%80+%EC%93%B0%EB%A0%88%EA%B8%B0&sxsrf=ALiCzsb6pS2n5n6mUXzgnSm8ZcFzlaL-SQ:1667533619052&source=lnms&tbm=isch&sa=X&ved=2ahUKEwi2zY7ozpP7AhW_plYBHcylCLMQ_AUoAXoECAEQAw&biw=852&bih=946&dpr=1.5', 'battery')\n",
    "\n",
    "# 건전지\n",
    "image_save('https://www.google.com/search?q=%EA%B1%B4%EC%A0%84%EC%A7%80&sxsrf=ALiCzsbZJclN1mKOFnYKaUZukwAFtnkF5g:1667585679875&source=lnms&tbm=isch&sa=X&ved=2ahUKEwixitPgkJX7AhXAtlYBHcXMAlUQ_AUoAXoECAEQAw&biw=1707&bih=956&dpr=1.5', 'battery1')"
   ]
  },
  {
   "cell_type": "code",
   "execution_count": 9,
   "id": "8459ee4a",
   "metadata": {},
   "outputs": [],
   "source": [
    "def rota_save_bw(color,foldname,data):\n",
    "    # 폴더 만들기\n",
    "    if not os.path.exists('./'+foldname):\n",
    "        os.makedirs(foldname)\n",
    "    \n",
    "    rotation=[45,90,135,180,225,270,315]\n",
    "    for file in os.listdir('./'+data+'/'):\n",
    "        for rot in rotation:\n",
    "            img=np.array(Image.open('./'+data+'/'+file).convert(color))\n",
    "            rows,cols = img.shape[0:2]\n",
    "            ro_mt = cv2.getRotationMatrix2D((cols/2,rows/2),rot,1.42)\n",
    "            ro_img = cv2.warpAffine(img, ro_mt,(cols, rows))\n",
    "            \n",
    "            # 이미지 저장\n",
    "            filename=f\"{file}_ro{str(rot)}\"\n",
    "            cv2.imwrite('./'+foldname+'/'+filename+'.png',ro_img)"
   ]
  },
  {
   "cell_type": "code",
   "execution_count": 10,
   "id": "7b822878",
   "metadata": {},
   "outputs": [],
   "source": [
    "# 크롤링 데이터 로테이션시키는 함수\n",
    "def rota_save_co(color,foldname,data):\n",
    "    # 폴더 만들기\n",
    "    if not os.path.exists('./'+foldname):\n",
    "        os.makedirs(foldname)\n",
    "    \n",
    "    rotation=[45,90,135,180,225,270,315]\n",
    "    for file in os.listdir('./'+data+'/'):\n",
    "        for rot in rotation:\n",
    "            img=np.array(Image.open('./'+data+'/'+file).convert(color))\n",
    "            img = cv2.cvtColor(img, cv2.COLOR_BGR2RGB)\n",
    "            rows,cols = img.shape[0:2]\n",
    "            ro_mt = cv2.getRotationMatrix2D((cols/2,rows/2),rot,1.42)\n",
    "            ro_img = cv2.warpAffine(img, ro_mt,(cols, rows))\n",
    "            \n",
    "            # 이미지 저장\n",
    "            filename=f\"{file}_ro{str(rot)}\"\n",
    "            cv2.imwrite('./'+foldname+'/'+filename+'.png',ro_img)"
   ]
  },
  {
   "cell_type": "code",
   "execution_count": 11,
   "id": "70bb2762",
   "metadata": {},
   "outputs": [],
   "source": [
    "# # 크롤링 데이터 로테이션시키는 함수\n",
    "# def rota_save(color,foldname,data):\n",
    "#     # 폴더 만들기\n",
    "#     if not os.path.exists('./'+foldname):\n",
    "#         os.makedirs(foldname)\n",
    "    \n",
    "#     rotation=[45,90,135,180,225,270,315]\n",
    "#     for file in os.listdir('./'+data+'/'):\n",
    "#         for rot in rotation:\n",
    "#             img=np.array(Image.open('./'+file).convert(color))\n",
    "#             rows,cols = img.shape[0:2]\n",
    "#             ro_mt = cv2.getRotationMatrix2D((cols/2,rows/2),rot,1.42)\n",
    "#             ro_img = cv2.warpAffine(img, ro_mt,(cols, rows))\n",
    "            \n",
    "#             # 이미지 저장\n",
    "#             filename=f\"{file}_ro{str(rot)}\"\n",
    "#             cv2.imwrite('./'+foldname+'/'+filename+'.png',ro_img)"
   ]
  },
  {
   "cell_type": "code",
   "execution_count": 12,
   "id": "cdbdd249",
   "metadata": {},
   "outputs": [],
   "source": [
    "# 크롤링 데이터 convert 함수\n",
    "def data_con(color,foldname):\n",
    "    for file in os.listdir('./data/'):\n",
    "        img=Image.open('./data/'+file).convert(color).save('./'+foldname+'/'+file)"
   ]
  },
  {
   "cell_type": "code",
   "execution_count": 14,
   "id": "61046f92",
   "metadata": {},
   "outputs": [],
   "source": [
    "# 흑백으로 로테이션\n",
    "rota_save_bw('L','blwh','trashdatametal')\n",
    "rota_save_bw('L','blwh','trashdatametal1')\n",
    "rota_save_bw('L','blwh','trashdataglass')\n",
    "rota_save_bw('L','blwh','trashdataglass1')\n",
    "rota_save_bw('L','blwh','trashdatapaper')\n",
    "rota_save_bw('L','blwh','trashdatapaper1')\n",
    "rota_save_bw('L','blwh','trashdataplastic')\n",
    "rota_save_bw('L','blwh','trashdataplastic1')\n",
    "rota_save_bw('L','blwh','trashdatafood')\n",
    "rota_save_bw('L','blwh','trashdatafood1')\n",
    "rota_save_bw('L','blwh','trashdatabattery')\n",
    "rota_save_bw('L','blwh','trashdatabattery1')"
   ]
  },
  {
   "cell_type": "code",
   "execution_count": 14,
   "id": "257b4a0d",
   "metadata": {},
   "outputs": [],
   "source": [
    "# # 원본사진 흑백으로\n",
    "# data_con('L','blwh')"
   ]
  },
  {
   "cell_type": "code",
   "execution_count": 13,
   "id": "bd3ed2b5",
   "metadata": {},
   "outputs": [],
   "source": [
    "# rgb로 로테이션\n",
    "rota_save_co('RGB','rgb','trashdatametal')\n",
    "rota_save_co('RGB','rgb','trashdatametal1')\n",
    "rota_save_co('RGB','rgb','trashdataglass')\n",
    "rota_save_co('RGB','rgb','trashdataglass1')\n",
    "rota_save_co('RGB','rgb','trashdatapaper')\n",
    "rota_save_co('RGB','rgb','trashdatapaper1')\n",
    "rota_save_co('RGB','rgb','trashdataplastic')\n",
    "rota_save_co('RGB','rgb','trashdataplastic1')\n",
    "rota_save_co('RGB','rgb','trashdatafood')\n",
    "rota_save_co('RGB','rgb','trashdatafood1')\n",
    "rota_save_co('RGB','rgb','trashdatabattery')\n",
    "rota_save_co('RGB','rgb','trashdatabattery1')"
   ]
  },
  {
   "cell_type": "code",
   "execution_count": 21,
   "id": "4db1240b",
   "metadata": {},
   "outputs": [],
   "source": [
    "# # 원본사진 색깔로\n",
    "# data_con('RGB','rgb','trashdatametal')\n",
    "# data_con('RGB','rgb','trashdataglass')\n",
    "# data_con('RGB','rgb','trashdatapaper')\n",
    "# data_con('RGB','rgb','trashdataplastic')\n",
    "# data_con('RGB','rgb','trashdatafood')\n",
    "# data_con('RGB','rgb','trashdatabattery')"
   ]
  },
  {
   "cell_type": "code",
   "execution_count": 15,
   "id": "07550c65",
   "metadata": {},
   "outputs": [],
   "source": [
    "def solution(foldname):\n",
    "    l=[]\n",
    "    for i in os.listdir('./'+foldname+'/'):\n",
    "        n=np.array(Image.open('./'+foldname+'/'+i))/255.0\n",
    "        if foldname=='blwh':\n",
    "           n_list=n.reshape(-1,50*50)[0].tolist()\n",
    "        else:\n",
    "            n_list=n.reshape(-1,50*50,3)[0].tolist()\n",
    "        l.append(n_list)\n",
    "    return np.array(l)"
   ]
  },
  {
   "cell_type": "code",
   "execution_count": 16,
   "id": "9a752a3e",
   "metadata": {},
   "outputs": [
    {
     "data": {
      "text/plain": [
       "array([[0.03921569, 0.25882353, 0.43529412, ..., 0.57254902, 0.29803922,\n",
       "        0.09411765],\n",
       "       [0.72941176, 0.75294118, 0.87843137, ..., 0.38431373, 0.36078431,\n",
       "        0.36862745],\n",
       "       [0.01960784, 0.20392157, 0.45882353, ..., 0.35294118, 0.34901961,\n",
       "        0.34117647],\n",
       "       ...,\n",
       "       [0.61568627, 0.53333333, 0.5372549 , ..., 0.7254902 , 0.70588235,\n",
       "        0.71764706],\n",
       "       [0.37647059, 0.43529412, 0.57254902, ..., 0.56078431, 0.40784314,\n",
       "        0.27843137],\n",
       "       [0.58431373, 0.55686275, 0.5254902 , ..., 0.65882353, 0.69019608,\n",
       "        0.65882353]])"
      ]
     },
     "execution_count": 16,
     "metadata": {},
     "output_type": "execute_result"
    }
   ],
   "source": [
    "blwh=solution('blwh')\n",
    "blwh"
   ]
  },
  {
   "cell_type": "code",
   "execution_count": 17,
   "id": "4b9e2f4c",
   "metadata": {},
   "outputs": [
    {
     "name": "stdout",
     "output_type": "stream",
     "text": [
      "흑백 사진 데이터 모양 (1750, 2500)\n"
     ]
    }
   ],
   "source": [
    "print(f\"흑백 사진 데이터 모양 {blwh.shape}\")"
   ]
  },
  {
   "cell_type": "code",
   "execution_count": 18,
   "id": "9783d106",
   "metadata": {},
   "outputs": [
    {
     "data": {
      "text/plain": [
       "array([[[0.04313725, 0.03921569, 0.03921569],\n",
       "        [0.27058824, 0.25490196, 0.24313725],\n",
       "        [0.45882353, 0.42745098, 0.40784314],\n",
       "        ...,\n",
       "        [0.36862745, 0.7372549 , 0.28627451],\n",
       "        [0.13333333, 0.41960784, 0.10980392],\n",
       "        [0.01960784, 0.14117647, 0.05098039]],\n",
       "\n",
       "       [[0.63921569, 0.80392157, 0.58039216],\n",
       "        [0.65882353, 0.83529412, 0.57647059],\n",
       "        [0.88627451, 0.88627451, 0.80784314],\n",
       "        ...,\n",
       "        [0.37647059, 0.39607843, 0.34509804],\n",
       "        [0.38039216, 0.35686275, 0.34901961],\n",
       "        [0.38431373, 0.36470588, 0.35294118]],\n",
       "\n",
       "       [[0.02352941, 0.01960784, 0.00784314],\n",
       "        [0.21960784, 0.20784314, 0.14117647],\n",
       "        [0.45882353, 0.47843137, 0.36862745],\n",
       "        ...,\n",
       "        [0.37647059, 0.34509804, 0.3372549 ],\n",
       "        [0.36862745, 0.34117647, 0.33333333],\n",
       "        [0.36078431, 0.3372549 , 0.3254902 ]],\n",
       "\n",
       "       ...,\n",
       "\n",
       "       [[0.68235294, 0.59215686, 0.56862745],\n",
       "        [0.54901961, 0.54117647, 0.4627451 ],\n",
       "        [0.55294118, 0.54509804, 0.49019608],\n",
       "        ...,\n",
       "        [0.83137255, 0.68627451, 0.65490196],\n",
       "        [0.74509804, 0.68627451, 0.70196078],\n",
       "        [0.69411765, 0.71764706, 0.77647059]],\n",
       "\n",
       "       [[0.30980392, 0.39607843, 0.4745098 ],\n",
       "        [0.41176471, 0.44705882, 0.41960784],\n",
       "        [0.60392157, 0.57254902, 0.45882353],\n",
       "        ...,\n",
       "        [0.50980392, 0.65490196, 0.20784314],\n",
       "        [0.4       , 0.43921569, 0.25098039],\n",
       "        [0.32941176, 0.27058824, 0.21568627]],\n",
       "\n",
       "       [[0.62352941, 0.57647059, 0.51372549],\n",
       "        [0.56470588, 0.56862745, 0.48627451],\n",
       "        [0.56862745, 0.51372549, 0.4627451 ],\n",
       "        ...,\n",
       "        [0.74117647, 0.62745098, 0.61960784],\n",
       "        [0.72156863, 0.67843137, 0.68235294],\n",
       "        [0.57254902, 0.67843137, 0.78823529]]])"
      ]
     },
     "execution_count": 18,
     "metadata": {},
     "output_type": "execute_result"
    }
   ],
   "source": [
    "rgb=solution('rgb')\n",
    "rgb"
   ]
  },
  {
   "cell_type": "code",
   "execution_count": 19,
   "id": "4888951c",
   "metadata": {},
   "outputs": [
    {
     "name": "stdout",
     "output_type": "stream",
     "text": [
      "컬러 사진 데이터 모양 (1750, 2500, 3)\n"
     ]
    }
   ],
   "source": [
    "print(f\"컬러 사진 데이터 모양 {rgb.shape}\")"
   ]
  },
  {
   "cell_type": "code",
   "execution_count": 20,
   "id": "c7fbe9a0",
   "metadata": {
    "scrolled": true
   },
   "outputs": [
    {
     "data": {
      "text/plain": [
       "array([[[0.04313725, 0.03921569, 0.03921569],\n",
       "        [0.27058824, 0.25490196, 0.24313725],\n",
       "        [0.45882353, 0.42745098, 0.40784314],\n",
       "        ...,\n",
       "        [0.36862745, 0.7372549 , 0.28627451],\n",
       "        [0.13333333, 0.41960784, 0.10980392],\n",
       "        [0.01960784, 0.14117647, 0.05098039]],\n",
       "\n",
       "       [[0.63921569, 0.80392157, 0.58039216],\n",
       "        [0.65882353, 0.83529412, 0.57647059],\n",
       "        [0.88627451, 0.88627451, 0.80784314],\n",
       "        ...,\n",
       "        [0.37647059, 0.39607843, 0.34509804],\n",
       "        [0.38039216, 0.35686275, 0.34901961],\n",
       "        [0.38431373, 0.36470588, 0.35294118]],\n",
       "\n",
       "       [[0.02352941, 0.01960784, 0.00784314],\n",
       "        [0.21960784, 0.20784314, 0.14117647],\n",
       "        [0.45882353, 0.47843137, 0.36862745],\n",
       "        ...,\n",
       "        [0.37647059, 0.34509804, 0.3372549 ],\n",
       "        [0.36862745, 0.34117647, 0.33333333],\n",
       "        [0.36078431, 0.3372549 , 0.3254902 ]],\n",
       "\n",
       "       ...,\n",
       "\n",
       "       [[0.68235294, 0.59215686, 0.56862745],\n",
       "        [0.54901961, 0.54117647, 0.4627451 ],\n",
       "        [0.55294118, 0.54509804, 0.49019608],\n",
       "        ...,\n",
       "        [0.83137255, 0.68627451, 0.65490196],\n",
       "        [0.74509804, 0.68627451, 0.70196078],\n",
       "        [0.69411765, 0.71764706, 0.77647059]],\n",
       "\n",
       "       [[0.30980392, 0.39607843, 0.4745098 ],\n",
       "        [0.41176471, 0.44705882, 0.41960784],\n",
       "        [0.60392157, 0.57254902, 0.45882353],\n",
       "        ...,\n",
       "        [0.50980392, 0.65490196, 0.20784314],\n",
       "        [0.4       , 0.43921569, 0.25098039],\n",
       "        [0.32941176, 0.27058824, 0.21568627]],\n",
       "\n",
       "       [[0.62352941, 0.57647059, 0.51372549],\n",
       "        [0.56470588, 0.56862745, 0.48627451],\n",
       "        [0.56862745, 0.51372549, 0.4627451 ],\n",
       "        ...,\n",
       "        [0.74117647, 0.62745098, 0.61960784],\n",
       "        [0.72156863, 0.67843137, 0.68235294],\n",
       "        [0.57254902, 0.67843137, 0.78823529]]])"
      ]
     },
     "execution_count": 20,
     "metadata": {},
     "output_type": "execute_result"
    }
   ],
   "source": [
    "rgb"
   ]
  },
  {
   "cell_type": "code",
   "execution_count": 21,
   "id": "947a8a24",
   "metadata": {},
   "outputs": [
    {
     "data": {
      "text/plain": [
       "<matplotlib.image.AxesImage at 0x270d79d0070>"
      ]
     },
     "execution_count": 21,
     "metadata": {},
     "output_type": "execute_result"
    },
    {
     "data": {
      "image/png": "[encoded data removed]",
      "text/plain": [
       "<Figure size 432x288 with 1 Axes>"
      ]
     },
     "metadata": {
      "needs_background": "light"
     },
     "output_type": "display_data"
    }
   ],
   "source": [
    "# 그래프 그려보기 => 컬러\n",
    "plt.imshow(rgb[1100].reshape(50,50,3))"
   ]
  },
  {
   "cell_type": "code",
   "execution_count": 22,
   "id": "7d152648",
   "metadata": {},
   "outputs": [
    {
     "data": {
      "text/plain": [
       "<matplotlib.image.AxesImage at 0x270d7a7d3a0>"
      ]
     },
     "execution_count": 22,
     "metadata": {},
     "output_type": "execute_result"
    },
    {
     "data": {
      "image/png": "[encoded data removed]",
      "text/plain": [
       "<Figure size 432x288 with 1 Axes>"
      ]
     },
     "metadata": {
      "needs_background": "light"
     },
     "output_type": "display_data"
    }
   ],
   "source": [
    "# 흑백 그래프 그려보기 => 흑백\n",
    "plt.imshow(rgb[768].reshape(50,50,3),cmap='gray')"
   ]
  },
  {
   "cell_type": "code",
   "execution_count": null,
   "id": "187984e4",
   "metadata": {},
   "outputs": [],
   "source": []
  },
  {
   "cell_type": "code",
   "execution_count": 24,
   "id": "9456d258",
   "metadata": {},
   "outputs": [
    {
     "data": {
      "text/plain": [
       "['battery',\n",
       " 'battery',\n",
       " 'battery',\n",
       " 'battery',\n",
       " 'battery',\n",
       " 'battery',\n",
       " 'battery',\n",
       " 'battery',\n",
       " 'battery',\n",
       " 'battery',\n",
       " 'battery',\n",
       " 'battery',\n",
       " 'battery',\n",
       " 'battery',\n",
       " 'battery',\n",
       " 'battery',\n",
       " 'battery',\n",
       " 'battery',\n",
       " 'battery',\n",
       " 'battery',\n",
       " 'battery',\n",
       " 'battery',\n",
       " 'battery',\n",
       " 'battery',\n",
       " 'battery',\n",
       " 'battery',\n",
       " 'battery',\n",
       " 'battery',\n",
       " 'battery',\n",
       " 'battery',\n",
       " 'battery',\n",
       " 'battery',\n",
       " 'battery',\n",
       " 'battery',\n",
       " 'battery',\n",
       " 'battery',\n",
       " 'battery',\n",
       " 'battery',\n",
       " 'battery',\n",
       " 'battery',\n",
       " 'battery',\n",
       " 'battery',\n",
       " 'battery',\n",
       " 'battery',\n",
       " 'battery',\n",
       " 'battery',\n",
       " 'battery',\n",
       " 'battery',\n",
       " 'battery',\n",
       " 'battery',\n",
       " 'battery',\n",
       " 'battery',\n",
       " 'battery',\n",
       " 'battery',\n",
       " 'battery',\n",
       " 'battery',\n",
       " 'battery',\n",
       " 'battery',\n",
       " 'battery',\n",
       " 'battery',\n",
       " 'battery',\n",
       " 'battery',\n",
       " 'battery',\n",
       " 'battery',\n",
       " 'battery',\n",
       " 'battery',\n",
       " 'battery',\n",
       " 'battery',\n",
       " 'battery',\n",
       " 'battery',\n",
       " 'battery',\n",
       " 'battery',\n",
       " 'battery',\n",
       " 'battery',\n",
       " 'battery',\n",
       " 'battery',\n",
       " 'battery',\n",
       " 'battery',\n",
       " 'battery',\n",
       " 'battery',\n",
       " 'battery',\n",
       " 'battery',\n",
       " 'battery',\n",
       " 'battery',\n",
       " 'battery',\n",
       " 'battery',\n",
       " 'battery',\n",
       " 'battery',\n",
       " 'battery',\n",
       " 'battery',\n",
       " 'battery',\n",
       " 'battery',\n",
       " 'battery',\n",
       " 'battery',\n",
       " 'battery',\n",
       " 'battery',\n",
       " 'battery',\n",
       " 'battery',\n",
       " 'battery',\n",
       " 'battery',\n",
       " 'battery',\n",
       " 'battery',\n",
       " 'battery',\n",
       " 'battery',\n",
       " 'battery',\n",
       " 'battery',\n",
       " 'battery',\n",
       " 'battery',\n",
       " 'battery',\n",
       " 'battery',\n",
       " 'battery',\n",
       " 'battery',\n",
       " 'battery',\n",
       " 'battery',\n",
       " 'battery',\n",
       " 'battery',\n",
       " 'battery',\n",
       " 'battery',\n",
       " 'battery',\n",
       " 'battery',\n",
       " 'battery',\n",
       " 'battery',\n",
       " 'battery',\n",
       " 'battery',\n",
       " 'battery',\n",
       " 'battery',\n",
       " 'battery',\n",
       " 'battery',\n",
       " 'battery',\n",
       " 'battery',\n",
       " 'battery',\n",
       " 'battery',\n",
       " 'battery',\n",
       " 'battery',\n",
       " 'battery',\n",
       " 'battery',\n",
       " 'battery',\n",
       " 'battery',\n",
       " 'battery',\n",
       " 'battery',\n",
       " 'battery',\n",
       " 'battery',\n",
       " 'battery',\n",
       " 'battery',\n",
       " 'battery',\n",
       " 'battery',\n",
       " 'battery',\n",
       " 'battery',\n",
       " 'battery',\n",
       " 'battery',\n",
       " 'battery',\n",
       " 'battery',\n",
       " 'battery',\n",
       " 'battery',\n",
       " 'battery',\n",
       " 'battery',\n",
       " 'battery',\n",
       " 'battery',\n",
       " 'battery',\n",
       " 'battery',\n",
       " 'battery',\n",
       " 'battery',\n",
       " 'battery',\n",
       " 'battery',\n",
       " 'battery',\n",
       " 'battery',\n",
       " 'battery',\n",
       " 'battery',\n",
       " 'battery',\n",
       " 'battery',\n",
       " 'battery',\n",
       " 'battery',\n",
       " 'battery',\n",
       " 'battery',\n",
       " 'battery',\n",
       " 'battery',\n",
       " 'battery',\n",
       " 'battery',\n",
       " 'battery',\n",
       " 'battery',\n",
       " 'battery',\n",
       " 'battery',\n",
       " 'battery',\n",
       " 'battery',\n",
       " 'battery',\n",
       " 'battery',\n",
       " 'battery',\n",
       " 'battery',\n",
       " 'battery',\n",
       " 'battery',\n",
       " 'battery',\n",
       " 'battery',\n",
       " 'battery',\n",
       " 'battery',\n",
       " 'battery',\n",
       " 'battery',\n",
       " 'battery',\n",
       " 'battery',\n",
       " 'battery',\n",
       " 'battery',\n",
       " 'battery',\n",
       " 'battery',\n",
       " 'battery',\n",
       " 'battery',\n",
       " 'battery',\n",
       " 'battery',\n",
       " 'battery',\n",
       " 'battery',\n",
       " 'battery',\n",
       " 'battery',\n",
       " 'battery',\n",
       " 'battery',\n",
       " 'battery',\n",
       " 'battery',\n",
       " 'battery',\n",
       " 'battery',\n",
       " 'battery',\n",
       " 'battery',\n",
       " 'battery',\n",
       " 'battery',\n",
       " 'battery',\n",
       " 'battery',\n",
       " 'battery',\n",
       " 'battery',\n",
       " 'battery',\n",
       " 'battery',\n",
       " 'battery',\n",
       " 'battery',\n",
       " 'battery',\n",
       " 'battery',\n",
       " 'battery',\n",
       " 'battery',\n",
       " 'battery',\n",
       " 'battery',\n",
       " 'battery',\n",
       " 'battery',\n",
       " 'battery',\n",
       " 'battery',\n",
       " 'battery',\n",
       " 'battery',\n",
       " 'battery',\n",
       " 'battery',\n",
       " 'battery',\n",
       " 'battery',\n",
       " 'battery',\n",
       " 'battery',\n",
       " 'battery',\n",
       " 'battery',\n",
       " 'battery',\n",
       " 'battery',\n",
       " 'battery',\n",
       " 'battery',\n",
       " 'battery',\n",
       " 'battery',\n",
       " 'battery',\n",
       " 'battery',\n",
       " 'battery',\n",
       " 'battery',\n",
       " 'battery',\n",
       " 'battery',\n",
       " 'battery',\n",
       " 'battery',\n",
       " 'battery',\n",
       " 'battery',\n",
       " 'battery',\n",
       " 'battery',\n",
       " 'battery',\n",
       " 'battery',\n",
       " 'battery',\n",
       " 'battery',\n",
       " 'battery',\n",
       " 'battery',\n",
       " 'battery',\n",
       " 'battery',\n",
       " 'battery',\n",
       " 'battery',\n",
       " 'battery',\n",
       " 'battery',\n",
       " 'battery',\n",
       " 'battery',\n",
       " 'battery',\n",
       " 'battery',\n",
       " 'battery',\n",
       " 'battery',\n",
       " 'battery',\n",
       " 'battery',\n",
       " 'battery',\n",
       " 'battery',\n",
       " 'battery',\n",
       " 'battery',\n",
       " 'battery',\n",
       " 'battery',\n",
       " 'battery',\n",
       " 'battery',\n",
       " 'battery',\n",
       " 'battery',\n",
       " 'battery',\n",
       " 'battery',\n",
       " 'battery',\n",
       " 'battery',\n",
       " 'battery',\n",
       " 'battery',\n",
       " 'battery',\n",
       " 'battery',\n",
       " 'battery',\n",
       " 'battery',\n",
       " 'battery',\n",
       " 'battery',\n",
       " 'battery',\n",
       " 'battery',\n",
       " 'battery',\n",
       " 'battery',\n",
       " 'battery',\n",
       " 'battery',\n",
       " 'battery',\n",
       " 'battery',\n",
       " 'battery',\n",
       " 'battery',\n",
       " 'battery',\n",
       " 'battery',\n",
       " 'battery',\n",
       " 'battery',\n",
       " 'battery',\n",
       " 'battery',\n",
       " 'battery',\n",
       " 'battery',\n",
       " 'battery',\n",
       " 'battery',\n",
       " 'battery',\n",
       " 'battery',\n",
       " 'battery',\n",
       " 'battery',\n",
       " 'battery',\n",
       " 'battery',\n",
       " 'battery',\n",
       " 'battery',\n",
       " 'battery',\n",
       " 'battery',\n",
       " 'battery',\n",
       " 'battery',\n",
       " 'battery',\n",
       " 'battery',\n",
       " 'battery',\n",
       " 'battery',\n",
       " 'battery',\n",
       " 'battery',\n",
       " 'battery',\n",
       " 'battery',\n",
       " 'battery',\n",
       " 'battery',\n",
       " 'battery',\n",
       " 'battery',\n",
       " 'battery',\n",
       " 'battery',\n",
       " 'battery',\n",
       " 'battery',\n",
       " 'battery',\n",
       " 'food',\n",
       " 'food',\n",
       " 'food',\n",
       " 'food',\n",
       " 'food',\n",
       " 'food',\n",
       " 'food',\n",
       " 'food',\n",
       " 'food',\n",
       " 'food',\n",
       " 'food',\n",
       " 'food',\n",
       " 'food',\n",
       " 'food',\n",
       " 'food',\n",
       " 'food',\n",
       " 'food',\n",
       " 'food',\n",
       " 'food',\n",
       " 'food',\n",
       " 'food',\n",
       " 'food',\n",
       " 'food',\n",
       " 'food',\n",
       " 'food',\n",
       " 'food',\n",
       " 'food',\n",
       " 'food',\n",
       " 'food',\n",
       " 'food',\n",
       " 'food',\n",
       " 'food',\n",
       " 'food',\n",
       " 'food',\n",
       " 'food',\n",
       " 'food',\n",
       " 'food',\n",
       " 'food',\n",
       " 'food',\n",
       " 'food',\n",
       " 'food',\n",
       " 'food',\n",
       " 'food',\n",
       " 'food',\n",
       " 'food',\n",
       " 'food',\n",
       " 'food',\n",
       " 'food',\n",
       " 'food',\n",
       " 'food',\n",
       " 'food',\n",
       " 'food',\n",
       " 'food',\n",
       " 'food',\n",
       " 'food',\n",
       " 'food',\n",
       " 'food',\n",
       " 'food',\n",
       " 'food',\n",
       " 'food',\n",
       " 'food',\n",
       " 'food',\n",
       " 'food',\n",
       " 'food',\n",
       " 'food',\n",
       " 'food',\n",
       " 'food',\n",
       " 'food',\n",
       " 'food',\n",
       " 'food',\n",
       " 'food',\n",
       " 'food',\n",
       " 'food',\n",
       " 'food',\n",
       " 'food',\n",
       " 'food',\n",
       " 'food',\n",
       " 'food',\n",
       " 'food',\n",
       " 'food',\n",
       " 'food',\n",
       " 'food',\n",
       " 'food',\n",
       " 'food',\n",
       " 'food',\n",
       " 'food',\n",
       " 'food',\n",
       " 'food',\n",
       " 'food',\n",
       " 'food',\n",
       " 'food',\n",
       " 'food',\n",
       " 'food',\n",
       " 'food',\n",
       " 'food',\n",
       " 'food',\n",
       " 'food',\n",
       " 'food',\n",
       " 'food',\n",
       " 'food',\n",
       " 'food',\n",
       " 'food',\n",
       " 'food',\n",
       " 'food',\n",
       " 'food',\n",
       " 'food',\n",
       " 'food',\n",
       " 'food',\n",
       " 'food',\n",
       " 'food',\n",
       " 'food',\n",
       " 'food',\n",
       " 'food',\n",
       " 'food',\n",
       " 'food',\n",
       " 'food',\n",
       " 'food',\n",
       " 'food',\n",
       " 'food',\n",
       " 'food',\n",
       " 'food',\n",
       " 'food',\n",
       " 'food',\n",
       " 'food',\n",
       " 'food',\n",
       " 'food',\n",
       " 'food',\n",
       " 'food',\n",
       " 'food',\n",
       " 'food',\n",
       " 'food',\n",
       " 'food',\n",
       " 'food',\n",
       " 'food',\n",
       " 'food',\n",
       " 'food',\n",
       " 'food',\n",
       " 'food',\n",
       " 'food',\n",
       " 'food',\n",
       " 'food',\n",
       " 'food',\n",
       " 'food',\n",
       " 'food',\n",
       " 'food',\n",
       " 'food',\n",
       " 'food',\n",
       " 'food',\n",
       " 'food',\n",
       " 'food',\n",
       " 'food',\n",
       " 'food',\n",
       " 'food',\n",
       " 'food',\n",
       " 'food',\n",
       " 'food',\n",
       " 'food',\n",
       " 'food',\n",
       " 'food',\n",
       " 'food',\n",
       " 'food',\n",
       " 'food',\n",
       " 'food',\n",
       " 'food',\n",
       " 'food',\n",
       " 'food',\n",
       " 'food',\n",
       " 'food',\n",
       " 'food',\n",
       " 'food',\n",
       " 'food',\n",
       " 'food',\n",
       " 'food',\n",
       " 'food',\n",
       " 'food',\n",
       " 'food',\n",
       " 'food',\n",
       " 'food',\n",
       " 'food',\n",
       " 'food',\n",
       " 'food',\n",
       " 'food',\n",
       " 'food',\n",
       " 'food',\n",
       " 'food',\n",
       " 'food',\n",
       " 'food',\n",
       " 'food',\n",
       " 'food',\n",
       " 'food',\n",
       " 'food',\n",
       " 'food',\n",
       " 'food',\n",
       " 'food',\n",
       " 'food',\n",
       " 'food',\n",
       " 'food',\n",
       " 'food',\n",
       " 'food',\n",
       " 'food',\n",
       " 'food',\n",
       " 'food',\n",
       " 'food',\n",
       " 'food',\n",
       " 'food',\n",
       " 'food',\n",
       " 'food',\n",
       " 'food',\n",
       " 'food',\n",
       " 'food',\n",
       " 'food',\n",
       " 'food',\n",
       " 'food',\n",
       " 'food',\n",
       " 'food',\n",
       " 'food',\n",
       " 'food',\n",
       " 'food',\n",
       " 'food',\n",
       " 'food',\n",
       " 'food',\n",
       " 'food',\n",
       " 'food',\n",
       " 'food',\n",
       " 'food',\n",
       " 'food',\n",
       " 'food',\n",
       " 'food',\n",
       " 'food',\n",
       " 'food',\n",
       " 'food',\n",
       " 'food',\n",
       " 'food',\n",
       " 'food',\n",
       " 'food',\n",
       " 'food',\n",
       " 'food',\n",
       " 'food',\n",
       " 'food',\n",
       " 'food',\n",
       " 'food',\n",
       " 'food',\n",
       " 'food',\n",
       " 'food',\n",
       " 'food',\n",
       " 'food',\n",
       " 'food',\n",
       " 'food',\n",
       " 'food',\n",
       " 'food',\n",
       " 'food',\n",
       " 'food',\n",
       " 'food',\n",
       " 'food',\n",
       " 'food',\n",
       " 'food',\n",
       " 'food',\n",
       " 'food',\n",
       " 'food',\n",
       " 'food',\n",
       " 'food',\n",
       " 'food',\n",
       " 'food',\n",
       " 'food',\n",
       " 'food',\n",
       " 'food',\n",
       " 'food',\n",
       " 'food',\n",
       " 'food',\n",
       " 'food',\n",
       " 'food',\n",
       " 'food',\n",
       " 'food',\n",
       " 'food',\n",
       " 'food',\n",
       " 'food',\n",
       " 'food',\n",
       " 'food',\n",
       " 'food',\n",
       " 'food',\n",
       " 'food',\n",
       " 'food',\n",
       " 'food',\n",
       " 'food',\n",
       " 'food',\n",
       " 'food',\n",
       " 'food',\n",
       " 'food',\n",
       " 'food',\n",
       " 'food',\n",
       " 'food',\n",
       " 'food',\n",
       " 'food',\n",
       " 'food',\n",
       " 'glass',\n",
       " 'glass',\n",
       " 'glass',\n",
       " 'glass',\n",
       " 'glass',\n",
       " 'glass',\n",
       " 'glass',\n",
       " 'glass',\n",
       " 'glass',\n",
       " 'glass',\n",
       " 'glass',\n",
       " 'glass',\n",
       " 'glass',\n",
       " 'glass',\n",
       " 'glass',\n",
       " 'glass',\n",
       " 'glass',\n",
       " 'glass',\n",
       " 'glass',\n",
       " 'glass',\n",
       " 'glass',\n",
       " 'glass',\n",
       " 'glass',\n",
       " 'glass',\n",
       " 'glass',\n",
       " 'glass',\n",
       " 'glass',\n",
       " 'glass',\n",
       " 'glass',\n",
       " 'glass',\n",
       " 'glass',\n",
       " 'glass',\n",
       " 'glass',\n",
       " 'glass',\n",
       " 'glass',\n",
       " 'glass',\n",
       " 'glass',\n",
       " 'glass',\n",
       " 'glass',\n",
       " 'glass',\n",
       " 'glass',\n",
       " 'glass',\n",
       " 'glass',\n",
       " 'glass',\n",
       " 'glass',\n",
       " 'glass',\n",
       " 'glass',\n",
       " 'glass',\n",
       " 'glass',\n",
       " 'glass',\n",
       " 'glass',\n",
       " 'glass',\n",
       " 'glass',\n",
       " 'glass',\n",
       " 'glass',\n",
       " 'glass',\n",
       " 'glass',\n",
       " 'glass',\n",
       " 'glass',\n",
       " 'glass',\n",
       " 'glass',\n",
       " 'glass',\n",
       " 'glass',\n",
       " 'glass',\n",
       " 'glass',\n",
       " 'glass',\n",
       " 'glass',\n",
       " 'glass',\n",
       " 'glass',\n",
       " 'glass',\n",
       " 'glass',\n",
       " 'glass',\n",
       " 'glass',\n",
       " 'glass',\n",
       " 'glass',\n",
       " 'glass',\n",
       " 'glass',\n",
       " 'glass',\n",
       " 'glass',\n",
       " 'glass',\n",
       " 'glass',\n",
       " 'glass',\n",
       " 'glass',\n",
       " 'glass',\n",
       " 'glass',\n",
       " 'glass',\n",
       " 'glass',\n",
       " 'glass',\n",
       " 'glass',\n",
       " 'glass',\n",
       " 'glass',\n",
       " 'glass',\n",
       " 'glass',\n",
       " 'glass',\n",
       " 'glass',\n",
       " 'glass',\n",
       " 'glass',\n",
       " 'glass',\n",
       " 'glass',\n",
       " 'glass',\n",
       " 'glass',\n",
       " 'glass',\n",
       " 'glass',\n",
       " 'glass',\n",
       " 'glass',\n",
       " 'glass',\n",
       " 'glass',\n",
       " 'glass',\n",
       " 'glass',\n",
       " 'glass',\n",
       " 'glass',\n",
       " 'glass',\n",
       " 'glass',\n",
       " 'glass',\n",
       " 'glass',\n",
       " 'glass',\n",
       " 'glass',\n",
       " 'glass',\n",
       " 'glass',\n",
       " 'glass',\n",
       " 'glass',\n",
       " 'glass',\n",
       " 'glass',\n",
       " 'glass',\n",
       " 'glass',\n",
       " 'glass',\n",
       " 'glass',\n",
       " 'glass',\n",
       " 'glass',\n",
       " 'glass',\n",
       " 'glass',\n",
       " 'glass',\n",
       " 'glass',\n",
       " 'glass',\n",
       " 'glass',\n",
       " 'glass',\n",
       " 'glass',\n",
       " 'glass',\n",
       " 'glass',\n",
       " 'glass',\n",
       " 'glass',\n",
       " 'glass',\n",
       " 'glass',\n",
       " 'glass',\n",
       " 'glass',\n",
       " 'glass',\n",
       " 'glass',\n",
       " 'glass',\n",
       " 'glass',\n",
       " 'glass',\n",
       " 'glass',\n",
       " 'glass',\n",
       " 'glass',\n",
       " 'glass',\n",
       " 'glass',\n",
       " 'glass',\n",
       " 'glass',\n",
       " 'glass',\n",
       " 'glass',\n",
       " 'glass',\n",
       " 'glass',\n",
       " 'glass',\n",
       " 'glass',\n",
       " 'glass',\n",
       " 'glass',\n",
       " 'glass',\n",
       " 'glass',\n",
       " 'glass',\n",
       " 'glass',\n",
       " 'glass',\n",
       " 'glass',\n",
       " 'glass',\n",
       " 'glass',\n",
       " 'glass',\n",
       " 'glass',\n",
       " 'glass',\n",
       " 'glass',\n",
       " 'glass',\n",
       " 'glass',\n",
       " 'glass',\n",
       " 'glass',\n",
       " 'glass',\n",
       " 'glass',\n",
       " 'glass',\n",
       " 'glass',\n",
       " 'glass',\n",
       " 'glass',\n",
       " 'glass',\n",
       " 'glass',\n",
       " 'glass',\n",
       " 'glass',\n",
       " 'glass',\n",
       " 'glass',\n",
       " 'glass',\n",
       " 'glass',\n",
       " 'glass',\n",
       " 'glass',\n",
       " 'glass',\n",
       " 'glass',\n",
       " 'glass',\n",
       " 'glass',\n",
       " 'glass',\n",
       " 'glass',\n",
       " 'glass',\n",
       " 'glass',\n",
       " 'glass',\n",
       " 'glass',\n",
       " 'glass',\n",
       " 'glass',\n",
       " 'glass',\n",
       " 'glass',\n",
       " 'glass',\n",
       " 'glass',\n",
       " 'glass',\n",
       " 'glass',\n",
       " 'glass',\n",
       " 'glass',\n",
       " 'glass',\n",
       " 'glass',\n",
       " 'glass',\n",
       " 'glass',\n",
       " 'glass',\n",
       " 'glass',\n",
       " 'glass',\n",
       " 'glass',\n",
       " 'glass',\n",
       " 'glass',\n",
       " 'glass',\n",
       " 'glass',\n",
       " 'glass',\n",
       " 'glass',\n",
       " 'glass',\n",
       " 'glass',\n",
       " 'glass',\n",
       " 'glass',\n",
       " 'glass',\n",
       " 'glass',\n",
       " 'glass',\n",
       " 'glass',\n",
       " 'glass',\n",
       " 'glass',\n",
       " 'glass',\n",
       " 'glass',\n",
       " 'glass',\n",
       " 'glass',\n",
       " 'glass',\n",
       " 'glass',\n",
       " 'glass',\n",
       " 'glass',\n",
       " 'glass',\n",
       " 'glass',\n",
       " 'glass',\n",
       " 'glass',\n",
       " 'glass',\n",
       " 'glass',\n",
       " 'glass',\n",
       " 'glass',\n",
       " 'glass',\n",
       " 'glass',\n",
       " 'glass',\n",
       " 'glass',\n",
       " 'glass',\n",
       " 'glass',\n",
       " 'glass',\n",
       " 'glass',\n",
       " 'glass',\n",
       " 'glass',\n",
       " 'glass',\n",
       " 'glass',\n",
       " 'glass',\n",
       " 'glass',\n",
       " 'glass',\n",
       " 'glass',\n",
       " 'glass',\n",
       " 'glass',\n",
       " 'glass',\n",
       " 'glass',\n",
       " 'glass',\n",
       " 'glass',\n",
       " 'glass',\n",
       " 'metal',\n",
       " 'metal',\n",
       " 'metal',\n",
       " 'metal',\n",
       " 'metal',\n",
       " 'metal',\n",
       " 'metal',\n",
       " 'metal',\n",
       " 'metal',\n",
       " 'metal',\n",
       " 'metal',\n",
       " 'metal',\n",
       " 'metal',\n",
       " 'metal',\n",
       " 'metal',\n",
       " 'metal',\n",
       " 'metal',\n",
       " 'metal',\n",
       " 'metal',\n",
       " 'metal',\n",
       " 'metal',\n",
       " 'metal',\n",
       " 'metal',\n",
       " 'metal',\n",
       " 'metal',\n",
       " 'metal',\n",
       " 'metal',\n",
       " 'metal',\n",
       " 'metal',\n",
       " 'metal',\n",
       " 'metal',\n",
       " 'metal',\n",
       " 'metal',\n",
       " 'metal',\n",
       " 'metal',\n",
       " 'metal',\n",
       " 'metal',\n",
       " 'metal',\n",
       " 'metal',\n",
       " 'metal',\n",
       " 'metal',\n",
       " 'metal',\n",
       " 'metal',\n",
       " 'metal',\n",
       " 'metal',\n",
       " 'metal',\n",
       " 'metal',\n",
       " 'metal',\n",
       " 'metal',\n",
       " 'metal',\n",
       " 'metal',\n",
       " 'metal',\n",
       " 'metal',\n",
       " 'metal',\n",
       " 'metal',\n",
       " 'metal',\n",
       " 'metal',\n",
       " 'metal',\n",
       " 'metal',\n",
       " 'metal',\n",
       " 'metal',\n",
       " 'metal',\n",
       " 'metal',\n",
       " 'metal',\n",
       " 'metal',\n",
       " 'metal',\n",
       " 'metal',\n",
       " 'metal',\n",
       " 'metal',\n",
       " ...]"
      ]
     },
     "execution_count": 24,
     "metadata": {},
     "output_type": "execute_result"
    }
   ],
   "source": [
    "# 정규식을 활용한 브랜드 이름 분리\n",
    "import re\n",
    "\n",
    "brand_name=[]\n",
    "for b in os.listdir('./rgb/'):\n",
    "    l=re.split(r'[0-9]',b)[0]\n",
    "    brand_name.append(l)\n",
    "brand_name"
   ]
  },
  {
   "cell_type": "code",
   "execution_count": 25,
   "id": "9e3c5732",
   "metadata": {},
   "outputs": [],
   "source": [
    "# 브랜드 이름/라벨로 타겟으로 저장\n",
    "com_brand='angelinus'\n",
    "i=0\n",
    "target=[]\n",
    "for brand in brand_name:\n",
    "    if com_brand==brand:\n",
    "        target.append([brand,i])\n",
    "    else:\n",
    "        i+=1\n",
    "        com_brand=brand\n",
    "        target.append([brand,i])"
   ]
  },
  {
   "cell_type": "code",
   "execution_count": 26,
   "id": "7a7abc83",
   "metadata": {
    "scrolled": false
   },
   "outputs": [
    {
     "data": {
      "text/html": [
       "<div>\n",
       "<style scoped>\n",
       "    .dataframe tbody tr th:only-of-type {\n",
       "        vertical-align: middle;\n",
       "    }\n",
       "\n",
       "    .dataframe tbody tr th {\n",
       "        vertical-align: top;\n",
       "    }\n",
       "\n",
       "    .dataframe thead th {\n",
       "        text-align: right;\n",
       "    }\n",
       "</style>\n",
       "<table border=\"1\" class=\"dataframe\">\n",
       "  <thead>\n",
       "    <tr style=\"text-align: right;\">\n",
       "      <th></th>\n",
       "      <th>name</th>\n",
       "      <th>label</th>\n",
       "    </tr>\n",
       "  </thead>\n",
       "  <tbody>\n",
       "    <tr>\n",
       "      <th>0</th>\n",
       "      <td>battery</td>\n",
       "      <td>1</td>\n",
       "    </tr>\n",
       "    <tr>\n",
       "      <th>1</th>\n",
       "      <td>battery</td>\n",
       "      <td>1</td>\n",
       "    </tr>\n",
       "    <tr>\n",
       "      <th>2</th>\n",
       "      <td>battery</td>\n",
       "      <td>1</td>\n",
       "    </tr>\n",
       "    <tr>\n",
       "      <th>3</th>\n",
       "      <td>battery</td>\n",
       "      <td>1</td>\n",
       "    </tr>\n",
       "    <tr>\n",
       "      <th>4</th>\n",
       "      <td>battery</td>\n",
       "      <td>1</td>\n",
       "    </tr>\n",
       "    <tr>\n",
       "      <th>...</th>\n",
       "      <td>...</td>\n",
       "      <td>...</td>\n",
       "    </tr>\n",
       "    <tr>\n",
       "      <th>1745</th>\n",
       "      <td>plastic</td>\n",
       "      <td>6</td>\n",
       "    </tr>\n",
       "    <tr>\n",
       "      <th>1746</th>\n",
       "      <td>plastic</td>\n",
       "      <td>6</td>\n",
       "    </tr>\n",
       "    <tr>\n",
       "      <th>1747</th>\n",
       "      <td>plastic</td>\n",
       "      <td>6</td>\n",
       "    </tr>\n",
       "    <tr>\n",
       "      <th>1748</th>\n",
       "      <td>plastic</td>\n",
       "      <td>6</td>\n",
       "    </tr>\n",
       "    <tr>\n",
       "      <th>1749</th>\n",
       "      <td>plastic</td>\n",
       "      <td>6</td>\n",
       "    </tr>\n",
       "  </tbody>\n",
       "</table>\n",
       "<p>1750 rows × 2 columns</p>\n",
       "</div>"
      ],
      "text/plain": [
       "         name  label\n",
       "0     battery      1\n",
       "1     battery      1\n",
       "2     battery      1\n",
       "3     battery      1\n",
       "4     battery      1\n",
       "...       ...    ...\n",
       "1745  plastic      6\n",
       "1746  plastic      6\n",
       "1747  plastic      6\n",
       "1748  plastic      6\n",
       "1749  plastic      6\n",
       "\n",
       "[1750 rows x 2 columns]"
      ]
     },
     "execution_count": 26,
     "metadata": {},
     "output_type": "execute_result"
    }
   ],
   "source": [
    "target_df=pd.DataFrame(target,columns=['name','label'])\n",
    "target_df"
   ]
  },
  {
   "cell_type": "code",
   "execution_count": 27,
   "id": "6fdc9e74",
   "metadata": {},
   "outputs": [
    {
     "data": {
      "text/plain": [
       "name     metal\n",
       "label        4\n",
       "Name: 1100, dtype: object"
      ]
     },
     "execution_count": 27,
     "metadata": {},
     "output_type": "execute_result"
    }
   ],
   "source": [
    "target_df.iloc[1100,:]"
   ]
  },
  {
   "cell_type": "code",
   "execution_count": 28,
   "id": "88ef300d",
   "metadata": {},
   "outputs": [],
   "source": [
    "target_df.to_csv('target.csv')"
   ]
  },
  {
   "cell_type": "code",
   "execution_count": 29,
   "id": "59c8195e",
   "metadata": {},
   "outputs": [],
   "source": [
    "# 수정된 타겟 데이터 불러오기\n",
    "target_final_df=pd.read_csv('target.csv')\n",
    "target=np.array(target_final_df.label)"
   ]
  },
  {
   "cell_type": "code",
   "execution_count": 30,
   "id": "c1f7b216",
   "metadata": {},
   "outputs": [
    {
     "name": "stdout",
     "output_type": "stream",
     "text": [
      "타켓 데이터 모양 (1750,)\n"
     ]
    }
   ],
   "source": [
    "print(f\"타켓 데이터 모양 {target.shape}\")"
   ]
  },
  {
   "cell_type": "code",
   "execution_count": 31,
   "id": "12ec0b3f",
   "metadata": {},
   "outputs": [
    {
     "data": {
      "text/plain": [
       "['battery', 'food', 'glass', 'metal', 'paper', 'plastic']"
      ]
     },
     "execution_count": 31,
     "metadata": {},
     "output_type": "execute_result"
    }
   ],
   "source": [
    "# 브랜드 이름 고유값\n",
    "brand=sorted(list(set(target_final_df.name)))\n",
    "brand"
   ]
  },
  {
   "cell_type": "code",
   "execution_count": null,
   "id": "5ba937a1",
   "metadata": {},
   "outputs": [],
   "source": []
  },
  {
   "cell_type": "code",
   "execution_count": null,
   "id": "27732aab",
   "metadata": {},
   "outputs": [],
   "source": []
  },
  {
   "cell_type": "code",
   "execution_count": 32,
   "id": "c0f0ad51",
   "metadata": {},
   "outputs": [],
   "source": [
    "# 흑백데이터 훈련/검증/테스트\n",
    "train_x_bw,test_x_bw,train_y,test_y=train_test_split(blwh,target,random_state=42,test_size=0.2,stratify=target)\n",
    "train_x_bw,val_x_bw,train_y,val_y=train_test_split(train_x_bw,train_y,random_state=42,test_size=0.2,stratify=train_y)"
   ]
  },
  {
   "cell_type": "code",
   "execution_count": 33,
   "id": "45f0f389",
   "metadata": {},
   "outputs": [
    {
     "name": "stdout",
     "output_type": "stream",
     "text": [
      "train_x_bw (1120, 2500), train_y (1120,)\n",
      "val_x_bw (280, 2500), train_y (280,)\n",
      "test_x_bw (350, 2500), train_y (350,)\n"
     ]
    }
   ],
   "source": [
    "print(f\"train_x_bw {train_x_bw.shape}, train_y {train_y.shape}\")\n",
    "print(f\"val_x_bw {val_x_bw.shape}, train_y {val_y.shape}\")\n",
    "print(f\"test_x_bw {test_x_bw.shape}, train_y {test_y.shape}\")"
   ]
  },
  {
   "cell_type": "code",
   "execution_count": null,
   "id": "2b783313",
   "metadata": {},
   "outputs": [],
   "source": []
  },
  {
   "cell_type": "code",
   "execution_count": null,
   "id": "bc115634",
   "metadata": {},
   "outputs": [],
   "source": []
  },
  {
   "cell_type": "code",
   "execution_count": 34,
   "id": "8f08892d",
   "metadata": {},
   "outputs": [
    {
     "data": {
      "text/plain": [
       "(1750, 7500)"
      ]
     },
     "execution_count": 34,
     "metadata": {},
     "output_type": "execute_result"
    }
   ],
   "source": [
    "rgb_fl=rgb.reshape(-1,2500*3)\n",
    "rgb_fl.shape"
   ]
  },
  {
   "cell_type": "code",
   "execution_count": 35,
   "id": "2238e344",
   "metadata": {},
   "outputs": [],
   "source": [
    "# 컬러데이터 훈련/검증/테스트\n",
    "train_x_co,test_x_co,train_y,test_y=train_test_split(rgb_fl,target,random_state=42,test_size=0.2,stratify=target)\n",
    "train_x_co,val_x_co,train_y,val_y=train_test_split(train_x_co,train_y,random_state=42,test_size=0.2,stratify=train_y)"
   ]
  },
  {
   "cell_type": "code",
   "execution_count": 36,
   "id": "bae227bc",
   "metadata": {},
   "outputs": [
    {
     "name": "stdout",
     "output_type": "stream",
     "text": [
      "train_x_co (1120, 7500), train_y (1120,)\n",
      "val_x_co (280, 7500), val_y (280,)\n",
      "test_x_co (350, 7500), test_y (350,)\n"
     ]
    }
   ],
   "source": [
    "print(f\"train_x_co {train_x_co.shape}, train_y {train_y.shape}\")\n",
    "print(f\"val_x_co {val_x_co.shape}, val_y {val_y.shape}\")\n",
    "print(f\"test_x_co {test_x_co.shape}, test_y {test_y.shape}\")"
   ]
  },
  {
   "cell_type": "code",
   "execution_count": null,
   "id": "fd668f42",
   "metadata": {},
   "outputs": [],
   "source": []
  },
  {
   "cell_type": "code",
   "execution_count": 37,
   "id": "eb6f6ef3",
   "metadata": {},
   "outputs": [],
   "source": [
    "from sklearn.decomposition import PCA"
   ]
  },
  {
   "cell_type": "code",
   "execution_count": 38,
   "id": "8d93c4ae",
   "metadata": {},
   "outputs": [],
   "source": [
    "pca=PCA()"
   ]
  },
  {
   "cell_type": "code",
   "execution_count": 39,
   "id": "4f9b0e31",
   "metadata": {},
   "outputs": [
    {
     "data": {
      "text/plain": [
       "PCA()"
      ]
     },
     "execution_count": 39,
     "metadata": {},
     "output_type": "execute_result"
    }
   ],
   "source": [
    "pca.fit(train_x_bw)"
   ]
  },
  {
   "cell_type": "code",
   "execution_count": 40,
   "id": "fbf0e7dc",
   "metadata": {},
   "outputs": [
    {
     "data": {
      "text/plain": [
       "array([4.86777332e-01, 4.78400094e-02, 3.86046921e-02, ...,\n",
       "       2.78740944e-33, 2.78740944e-33, 2.78740934e-33])"
      ]
     },
     "execution_count": 40,
     "metadata": {},
     "output_type": "execute_result"
    }
   ],
   "source": [
    "# 분산비율\n",
    "pca.explained_variance_ratio_"
   ]
  },
  {
   "cell_type": "code",
   "execution_count": 41,
   "id": "3ca4fe3f",
   "metadata": {},
   "outputs": [
    {
     "name": "stdout",
     "output_type": "stream",
     "text": [
      "주성분 누적 설명정도 [0.4868 0.5346 0.5732 ... 1.     1.     1.    ]\n",
      "주성분 개수(차원): 143\n"
     ]
    }
   ],
   "source": [
    "# 설명력\n",
    "cumsum=np.round(np.cumsum(pca.explained_variance_ratio_),4)\n",
    "d=np.argmax(cumsum>=0.95)+1 # 최적 주성분 개수\n",
    "\n",
    "print(f\"주성분 누적 설명정도 {cumsum}\")\n",
    "print(f\"주성분 개수(차원): {d}\")"
   ]
  },
  {
   "cell_type": "code",
   "execution_count": 42,
   "id": "d8f17a56",
   "metadata": {},
   "outputs": [],
   "source": [
    "# # 설명력 그래프 그려보기\n",
    "# plt.figure(figsize=(15,5))\n",
    "# plt.plot(range(1,2501),cumsum)\n",
    "# plt.plot(d,0.95,'ro')\n",
    "# plt.plot([d,d],[0,0.95],'g--')\n",
    "# plt.xlim(1,2501)\n",
    "# plt.xlabel('Dimention')\n",
    "# plt.ylabel('Explained Variance')\n",
    "# plt.show()"
   ]
  },
  {
   "cell_type": "code",
   "execution_count": null,
   "id": "fd337990",
   "metadata": {},
   "outputs": [],
   "source": []
  },
  {
   "cell_type": "code",
   "execution_count": 43,
   "id": "565eb695",
   "metadata": {},
   "outputs": [
    {
     "data": {
      "text/plain": [
       "PCA(n_components=143)"
      ]
     },
     "execution_count": 43,
     "metadata": {},
     "output_type": "execute_result"
    }
   ],
   "source": [
    "# 최적의 주성분 개수로 다시 모델 생성\n",
    "pca=PCA(n_components=d)\n",
    "pca.fit(train_x_bw)"
   ]
  },
  {
   "cell_type": "code",
   "execution_count": 44,
   "id": "92807e2c",
   "metadata": {},
   "outputs": [],
   "source": [
    "# 주성분 개수 마다 모델과 예측값 구하기 함수\n",
    "def pca_pre(n_pca,data):\n",
    "    pca=PCA(n_components=n_pca)\n",
    "    pca.fit(train_x_bw)\n",
    "    pre_out=pca.transform(data)\n",
    "\n",
    "    return pca, pre_out"
   ]
  },
  {
   "cell_type": "code",
   "execution_count": 45,
   "id": "3f8f6dca",
   "metadata": {},
   "outputs": [],
   "source": [
    "# 원본데이터와 예측데이터의 그래프 비교 함수\n",
    "def compimage(mopca,raw,comp):\n",
    "    plt.figure(figsize=(20,5))\n",
    "    plt.subplot(1,2,1)\n",
    "    plt.imshow(raw.reshape(50,50,1),cmap='gray')\n",
    "    plt.title('원본데이터')\n",
    "    \n",
    "    re_comp=mopca.inverse_transform(comp)\n",
    "    plt.subplot(1,2,2)\n",
    "    plt.imshow(re_comp.reshape(50,50,1),cmap='gray')\n",
    "    plt.title('PCA된 그림')\n",
    "    plt.tight_layout()\n",
    "    plt.show()"
   ]
  },
  {
   "cell_type": "code",
   "execution_count": 46,
   "id": "eaebf137",
   "metadata": {},
   "outputs": [
    {
     "data": {
      "image/png": "[encoded data removed]",
      "text/plain": [
       "<Figure size 1440x360 with 2 Axes>"
      ]
     },
     "metadata": {
      "needs_background": "light"
     },
     "output_type": "display_data"
    }
   ],
   "source": [
    "mopca,comp=pca_pre(d,test_x_bw)\n",
    "compimage(mopca,test_x_bw[1],comp[1])"
   ]
  },
  {
   "cell_type": "code",
   "execution_count": null,
   "id": "480ad19c",
   "metadata": {},
   "outputs": [],
   "source": []
  },
  {
   "cell_type": "code",
   "execution_count": 47,
   "id": "38125d30",
   "metadata": {},
   "outputs": [],
   "source": [
    "# 주성분 개수마다 그래프 그려보기\n",
    "def pca_grape(n_list,data,index):\n",
    "    plt.figure(figsize=(20,10))\n",
    "    r=2\n",
    "    c=5\n",
    "    for n in range(r):\n",
    "        for k in range(c):\n",
    "            if n_list[n*c+k]==1:\n",
    "                plt.subplot(r,c,n*c+k+1)\n",
    "                plt.imshow(data[index].reshape(50,50,1),cmap='gray')\n",
    "                plt.title('원본데이터')\n",
    "            else:\n",
    "                pca=PCA(n_components=n_list[n*c+k])\n",
    "                pca.fit(train_x_bw)\n",
    "                pre_out=pca.transform(data)\n",
    "\n",
    "                re_comp=pca.inverse_transform(pre_out[index])\n",
    "                plt.subplot(r,c,n*c+k+1)\n",
    "                plt.imshow(re_comp.reshape(50,50,1),cmap='gray')\n",
    "                plt.title(f'주성분 개수가 {n_list[n*c+k]}일때')\n",
    "    plt.tight_layout()\n",
    "    plt.show()"
   ]
  },
  {
   "cell_type": "code",
   "execution_count": 48,
   "id": "38f3626a",
   "metadata": {},
   "outputs": [],
   "source": [
    "# print(f\"이 사진의 브랜드 이름은 {brand[test_y[0]]}\")\n",
    "# pca_grape([1,30,40,50,100,200,500,834,1000,2000],test_x_bw,0)"
   ]
  },
  {
   "cell_type": "code",
   "execution_count": 49,
   "id": "bc204bc6",
   "metadata": {},
   "outputs": [],
   "source": [
    "# print(f\"이 사진의 브랜드 이름은 {brand[test_y[100]]}\")\n",
    "# pca_grape([1,25,60,100,200,345,567,834,900,2500],test_x_bw,100)"
   ]
  },
  {
   "cell_type": "markdown",
   "id": "67d75952",
   "metadata": {},
   "source": [
    "## 컬러"
   ]
  },
  {
   "cell_type": "code",
   "execution_count": 50,
   "id": "7b01c4b5",
   "metadata": {},
   "outputs": [],
   "source": [
    "pcacolor=PCA()"
   ]
  },
  {
   "cell_type": "code",
   "execution_count": 51,
   "id": "32557976",
   "metadata": {},
   "outputs": [
    {
     "data": {
      "text/plain": [
       "PCA()"
      ]
     },
     "execution_count": 51,
     "metadata": {},
     "output_type": "execute_result"
    }
   ],
   "source": [
    "pcacolor.fit(train_x_co)"
   ]
  },
  {
   "cell_type": "code",
   "execution_count": 52,
   "id": "92d244cb",
   "metadata": {},
   "outputs": [
    {
     "name": "stdout",
     "output_type": "stream",
     "text": [
      "누적 설명력은 [0.452816 0.497978 0.533184 ... 1.       1.       1.      ]\n",
      "최적의 차원 개수는 196입니다.\n"
     ]
    }
   ],
   "source": [
    "# 누적 설명력과 최적 차원개수 구하기\n",
    "cumsum_co=np.round(np.cumsum(pcacolor.explained_variance_ratio_),6)\n",
    "d=np.argmax(cumsum_co>=0.95)+1\n",
    "\n",
    "print(f\"누적 설명력은 {cumsum_co}\")\n",
    "print(f\"최적의 차원 개수는 {d}입니다.\")"
   ]
  },
  {
   "cell_type": "code",
   "execution_count": 53,
   "id": "77cd74ea",
   "metadata": {},
   "outputs": [],
   "source": [
    "# # 누적 설명력 그래프 그리기\n",
    "# plt.figure(figsize=(20,5))\n",
    "# plt.plot(range(1,2501),cumsum)\n",
    "# plt.plot(d,0.95,'ro')\n",
    "# plt.plot([d,d],[0,0.95],'g--')\n",
    "# plt.xlim(1,2501)\n",
    "# plt.show()"
   ]
  },
  {
   "cell_type": "code",
   "execution_count": 54,
   "id": "4a9cd371",
   "metadata": {},
   "outputs": [],
   "source": [
    "# 주성분 개수마다 그래프 그려보기 => 색깔\n",
    "def pca_grape(n_list,data,index):\n",
    "    plt.figure(figsize=(20,10))\n",
    "    r=2\n",
    "    c=5\n",
    "    for n in range(r):\n",
    "        for k in range(c):\n",
    "            if n_list[n*c+k]==1:\n",
    "                plt.subplot(r,c,n*c+k+1)\n",
    "                plt.imshow(data[index].reshape(50,50,3))\n",
    "                plt.title('원본데이터')\n",
    "            else:\n",
    "                pca=PCA(n_components=n_list[n*c+k])\n",
    "                pca.fit(train_x_co)\n",
    "                pre_out=pca.transform(data)\n",
    "\n",
    "                re_comp=pca.inverse_transform(pre_out[index])\n",
    "                plt.subplot(r,c,n*c+k+1)\n",
    "                plt.imshow(re_comp.reshape(50,50,3),vmin=0,vmax=1)\n",
    "                plt.title(f'주성분 개수가 {n_list[n*c+k]}일때')\n",
    "    plt.tight_layout()\n",
    "    plt.show()"
   ]
  },
  {
   "cell_type": "code",
   "execution_count": 55,
   "id": "0721c5b0",
   "metadata": {},
   "outputs": [],
   "source": [
    "# print(f\"이 사진의 브랜드 이름은 {brand[test_y[10]]}\")\n",
    "# pca_grape([1,10,59,167,540,900,2000,2300,2400,2450],test_x_co,62)"
   ]
  },
  {
   "cell_type": "code",
   "execution_count": null,
   "id": "43926e1c",
   "metadata": {},
   "outputs": [],
   "source": []
  },
  {
   "cell_type": "code",
   "execution_count": 56,
   "id": "0aec65d0",
   "metadata": {},
   "outputs": [],
   "source": [
    "import tensorflow as tf\n",
    "from keras.applications.vgg16 import VGG16\n",
    "from keras import layers,callbacks,Sequential"
   ]
  },
  {
   "cell_type": "code",
   "execution_count": 57,
   "id": "6076a382",
   "metadata": {},
   "outputs": [],
   "source": [
    "# # 사전 학습된 VGG16모델 불러오기\n",
    "# model=VGG16(weights='imagenet',include_top=False,input_shape=(50,50,3))"
   ]
  },
  {
   "cell_type": "code",
   "execution_count": 58,
   "id": "88d461e2",
   "metadata": {},
   "outputs": [],
   "source": [
    "# # 모델 확인\n",
    "# model.summary(show_trainable=True)"
   ]
  },
  {
   "cell_type": "code",
   "execution_count": 59,
   "id": "95645757",
   "metadata": {},
   "outputs": [],
   "source": [
    "# remodel = Sequential()\n",
    "# remodel.add(model)\n",
    "# remodel.add(layers.Flatten())\n",
    "# remodel.add(layers.Dense(512,activation='relu'))\n",
    "# remodel.add(layers.Dropout(0.5))\n",
    "# remodel.add(layers.Dense(216,activation='relu'))\n",
    "# remodel.add(layers.Dropout(0.5))\n",
    "# remodel.add(layers.Dense(26, activation='softmax'))"
   ]
  },
  {
   "cell_type": "code",
   "execution_count": 60,
   "id": "97f8dcab",
   "metadata": {},
   "outputs": [],
   "source": [
    "# remodel.compile(optimizer='adam',loss='sparse_categorical_crossentropy',metrics='accuracy')"
   ]
  },
  {
   "cell_type": "code",
   "execution_count": 61,
   "id": "999dd09c",
   "metadata": {},
   "outputs": [],
   "source": [
    "# modelES=callbacks.EarlyStopping(monitor='val_accuracy',patience=5)\n",
    "# modelMC=callbacks.ModelCheckpoint('best_model',save_best_only=True,save_weights_only=True)"
   ]
  },
  {
   "cell_type": "code",
   "execution_count": 62,
   "id": "2a96c713",
   "metadata": {},
   "outputs": [],
   "source": [
    "# remodel.summary()"
   ]
  },
  {
   "cell_type": "code",
   "execution_count": 63,
   "id": "bdcbd250",
   "metadata": {},
   "outputs": [],
   "source": [
    "train_xx = train_x_co.reshape(-1,50,50,3)\n",
    "test_xx = test_x_co.reshape(-1,50,50,3)\n",
    "val_xx = val_x_co.reshape(-1,50,50,3)"
   ]
  },
  {
   "cell_type": "code",
   "execution_count": 64,
   "id": "7ed079db",
   "metadata": {
    "scrolled": true
   },
   "outputs": [
    {
     "data": {
      "text/plain": [
       "(1120, 50, 50, 3)"
      ]
     },
     "execution_count": 64,
     "metadata": {},
     "output_type": "execute_result"
    }
   ],
   "source": [
    "train_xx.shape"
   ]
  },
  {
   "cell_type": "code",
   "execution_count": 65,
   "id": "d94b4c2b",
   "metadata": {},
   "outputs": [
    {
     "data": {
      "text/plain": [
       "(1120,)"
      ]
     },
     "execution_count": 65,
     "metadata": {},
     "output_type": "execute_result"
    }
   ],
   "source": [
    "train_y.shape"
   ]
  },
  {
   "cell_type": "code",
   "execution_count": 66,
   "id": "d0fc4a85",
   "metadata": {},
   "outputs": [],
   "source": [
    "# remodel.fit(train_xx,train_y,callbacks=[modelES,modelMC],validation_data=(val_xx,val_y),epochs=100)"
   ]
  },
  {
   "cell_type": "markdown",
   "id": "2b0ec680",
   "metadata": {},
   "source": [
    "## 모델"
   ]
  },
  {
   "cell_type": "code",
   "execution_count": 67,
   "id": "6439835d",
   "metadata": {},
   "outputs": [],
   "source": [
    "model=Sequential()\n",
    "model.add(Conv2D(58, kernel_size=3, activation='relu', padding='same', input_shape=(50,50,3)))\n",
    "model.add(MaxPool2D())\n",
    "model.add(Conv2D(100, kernel_size=3, padding='same'))\n",
    "model.add(MaxPool2D())\n",
    "model.add(Flatten())\n",
    "model.add(Dense(100, activation='relu'))\n",
    "model.add(Dense(26, activation='softmax'))"
   ]
  },
  {
   "cell_type": "code",
   "execution_count": 68,
   "id": "39fd6388",
   "metadata": {},
   "outputs": [
    {
     "name": "stdout",
     "output_type": "stream",
     "text": [
      "Model: \"sequential\"\n",
      "_________________________________________________________________\n",
      " Layer (type)                Output Shape              Param #   \n",
      "=================================================================\n",
      " conv2d (Conv2D)             (None, 50, 50, 58)        1624      \n",
      "                                                                 \n",
      " max_pooling2d (MaxPooling2D  (None, 25, 25, 58)       0         \n",
      " )                                                               \n",
      "                                                                 \n",
      " conv2d_1 (Conv2D)           (None, 25, 25, 100)       52300     \n",
      "                                                                 \n",
      " max_pooling2d_1 (MaxPooling  (None, 12, 12, 100)      0         \n",
      " 2D)                                                             \n",
      "                                                                 \n",
      " flatten (Flatten)           (None, 14400)             0         \n",
      "                                                                 \n",
      " dense (Dense)               (None, 100)               1440100   \n",
      "                                                                 \n",
      " dense_1 (Dense)             (None, 26)                2626      \n",
      "                                                                 \n",
      "=================================================================\n",
      "Total params: 1,496,650\n",
      "Trainable params: 1,496,650\n",
      "Non-trainable params: 0\n",
      "_________________________________________________________________\n"
     ]
    }
   ],
   "source": [
    "model.summary()"
   ]
  },
  {
   "cell_type": "code",
   "execution_count": 69,
   "id": "ff70921b",
   "metadata": {},
   "outputs": [],
   "source": [
    "# ImageDataGenerator\n",
    "train_datagen = ImageDataGenerator(\n",
    "    \n",
    "    rotation_range=30,\n",
    "    shear_range=0.2,\n",
    "    zoom_range=0.4,\n",
    "    horizontal_flip=True\n",
    ")\n",
    "train_datagen.fit(train_xx)"
   ]
  },
  {
   "cell_type": "code",
   "execution_count": 70,
   "id": "9d152c47",
   "metadata": {},
   "outputs": [],
   "source": [
    "model.compile(optimizer='adam',loss='sparse_categorical_crossentropy',metrics=['accuracy'])"
   ]
  },
  {
   "cell_type": "code",
   "execution_count": 71,
   "id": "42b93f54",
   "metadata": {
    "scrolled": true
   },
   "outputs": [
    {
     "name": "stdout",
     "output_type": "stream",
     "text": [
      "Epoch 1/100\n",
      "35/35 [==============================] - 3s 68ms/step - loss: 1.7649 - accuracy: 0.3375 - val_loss: 1.4015 - val_accuracy: 0.4643\n",
      "Epoch 2/100\n",
      "35/35 [==============================] - 2s 67ms/step - loss: 1.2979 - accuracy: 0.4866 - val_loss: 1.1730 - val_accuracy: 0.5429\n",
      "Epoch 3/100\n",
      "35/35 [==============================] - 2s 68ms/step - loss: 1.2467 - accuracy: 0.5089 - val_loss: 1.1088 - val_accuracy: 0.5714\n",
      "Epoch 4/100\n",
      "35/35 [==============================] - 2s 71ms/step - loss: 1.1723 - accuracy: 0.5420 - val_loss: 1.1482 - val_accuracy: 0.5643\n",
      "Epoch 5/100\n",
      "35/35 [==============================] - 3s 73ms/step - loss: 1.1218 - accuracy: 0.5688 - val_loss: 1.0214 - val_accuracy: 0.6036\n",
      "Epoch 6/100\n",
      "35/35 [==============================] - 3s 77ms/step - loss: 1.0166 - accuracy: 0.6018 - val_loss: 1.0582 - val_accuracy: 0.5786\n",
      "Epoch 7/100\n",
      "35/35 [==============================] - 3s 77ms/step - loss: 1.0452 - accuracy: 0.5964 - val_loss: 0.9540 - val_accuracy: 0.6214\n",
      "Epoch 8/100\n",
      "35/35 [==============================] - 3s 76ms/step - loss: 0.9409 - accuracy: 0.6241 - val_loss: 0.9785 - val_accuracy: 0.6357\n",
      "Epoch 9/100\n",
      "35/35 [==============================] - 3s 78ms/step - loss: 0.9228 - accuracy: 0.6598 - val_loss: 0.9715 - val_accuracy: 0.6107\n",
      "Epoch 10/100\n",
      "35/35 [==============================] - 3s 78ms/step - loss: 0.8867 - accuracy: 0.6473 - val_loss: 0.8596 - val_accuracy: 0.6786\n",
      "Epoch 11/100\n",
      "35/35 [==============================] - 3s 79ms/step - loss: 0.8374 - accuracy: 0.6723 - val_loss: 0.9249 - val_accuracy: 0.6607\n",
      "Epoch 12/100\n",
      "35/35 [==============================] - 3s 80ms/step - loss: 0.8334 - accuracy: 0.6732 - val_loss: 0.9980 - val_accuracy: 0.6429\n",
      "Epoch 13/100\n",
      "35/35 [==============================] - 3s 80ms/step - loss: 0.8563 - accuracy: 0.6696 - val_loss: 0.9654 - val_accuracy: 0.6357\n",
      "Epoch 14/100\n",
      "35/35 [==============================] - 3s 80ms/step - loss: 0.8215 - accuracy: 0.6759 - val_loss: 0.8786 - val_accuracy: 0.6821\n",
      "Epoch 15/100\n",
      "35/35 [==============================] - 3s 81ms/step - loss: 0.7720 - accuracy: 0.6884 - val_loss: 0.8108 - val_accuracy: 0.6857\n",
      "Epoch 16/100\n",
      "35/35 [==============================] - 3s 82ms/step - loss: 0.7466 - accuracy: 0.7009 - val_loss: 0.8943 - val_accuracy: 0.7179\n",
      "Epoch 17/100\n",
      "35/35 [==============================] - 3s 81ms/step - loss: 0.7318 - accuracy: 0.7089 - val_loss: 0.9822 - val_accuracy: 0.6571\n",
      "Epoch 18/100\n",
      "35/35 [==============================] - 3s 81ms/step - loss: 0.7085 - accuracy: 0.7259 - val_loss: 0.9622 - val_accuracy: 0.6714\n",
      "Epoch 19/100\n",
      "35/35 [==============================] - 3s 82ms/step - loss: 0.7086 - accuracy: 0.7268 - val_loss: 0.7839 - val_accuracy: 0.7250\n",
      "Epoch 20/100\n",
      "35/35 [==============================] - 3s 81ms/step - loss: 0.6814 - accuracy: 0.7420 - val_loss: 0.8307 - val_accuracy: 0.6893\n",
      "Epoch 21/100\n",
      "35/35 [==============================] - 3s 83ms/step - loss: 0.6150 - accuracy: 0.7482 - val_loss: 0.8516 - val_accuracy: 0.7000\n",
      "Epoch 22/100\n",
      "35/35 [==============================] - 3s 82ms/step - loss: 0.6235 - accuracy: 0.7527 - val_loss: 0.7600 - val_accuracy: 0.7357\n",
      "Epoch 23/100\n",
      "35/35 [==============================] - 3s 83ms/step - loss: 0.5706 - accuracy: 0.7830 - val_loss: 0.8797 - val_accuracy: 0.7500\n",
      "Epoch 24/100\n",
      "35/35 [==============================] - 3s 83ms/step - loss: 0.5968 - accuracy: 0.7741 - val_loss: 0.7957 - val_accuracy: 0.7000\n",
      "Epoch 25/100\n",
      "35/35 [==============================] - 3s 83ms/step - loss: 0.5680 - accuracy: 0.7804 - val_loss: 0.7335 - val_accuracy: 0.7143\n",
      "Epoch 26/100\n",
      "35/35 [==============================] - 3s 83ms/step - loss: 0.5317 - accuracy: 0.8000 - val_loss: 0.8026 - val_accuracy: 0.7321\n",
      "Epoch 27/100\n",
      "35/35 [==============================] - 3s 83ms/step - loss: 0.5653 - accuracy: 0.8000 - val_loss: 0.8267 - val_accuracy: 0.6964\n",
      "Epoch 28/100\n",
      "35/35 [==============================] - 3s 84ms/step - loss: 0.5268 - accuracy: 0.7937 - val_loss: 0.8081 - val_accuracy: 0.7321\n",
      "Epoch 29/100\n",
      "35/35 [==============================] - 3s 84ms/step - loss: 0.5491 - accuracy: 0.7902 - val_loss: 0.8793 - val_accuracy: 0.7607\n",
      "Epoch 30/100\n",
      "35/35 [==============================] - 3s 85ms/step - loss: 0.5259 - accuracy: 0.8036 - val_loss: 0.7924 - val_accuracy: 0.7393\n",
      "Epoch 31/100\n",
      "35/35 [==============================] - 3s 84ms/step - loss: 0.4910 - accuracy: 0.8018 - val_loss: 0.7366 - val_accuracy: 0.7607\n",
      "Epoch 32/100\n",
      "35/35 [==============================] - 3s 85ms/step - loss: 0.4614 - accuracy: 0.8152 - val_loss: 0.8947 - val_accuracy: 0.7286\n",
      "Epoch 33/100\n",
      "35/35 [==============================] - 3s 90ms/step - loss: 0.4252 - accuracy: 0.8420 - val_loss: 0.6838 - val_accuracy: 0.7929\n",
      "Epoch 34/100\n",
      "35/35 [==============================] - 4s 105ms/step - loss: 0.4004 - accuracy: 0.8384 - val_loss: 0.6678 - val_accuracy: 0.7857\n",
      "Epoch 35/100\n",
      "35/35 [==============================] - 4s 108ms/step - loss: 0.4167 - accuracy: 0.8384 - val_loss: 0.6980 - val_accuracy: 0.8107\n",
      "Epoch 36/100\n",
      "35/35 [==============================] - 4s 110ms/step - loss: 0.3923 - accuracy: 0.8545 - val_loss: 0.7731 - val_accuracy: 0.7607\n",
      "Epoch 37/100\n",
      "35/35 [==============================] - 4s 112ms/step - loss: 0.4022 - accuracy: 0.8491 - val_loss: 0.7525 - val_accuracy: 0.7536\n",
      "Epoch 38/100\n",
      "35/35 [==============================] - 4s 111ms/step - loss: 0.4442 - accuracy: 0.8429 - val_loss: 0.6830 - val_accuracy: 0.7714\n",
      "Epoch 39/100\n",
      "35/35 [==============================] - 4s 112ms/step - loss: 0.4870 - accuracy: 0.8241 - val_loss: 0.7099 - val_accuracy: 0.7964\n",
      "Epoch 40/100\n",
      "35/35 [==============================] - 4s 121ms/step - loss: 0.4011 - accuracy: 0.8402 - val_loss: 0.6475 - val_accuracy: 0.8071\n",
      "Epoch 41/100\n",
      "35/35 [==============================] - 4s 118ms/step - loss: 0.3572 - accuracy: 0.8714 - val_loss: 0.6569 - val_accuracy: 0.7964\n",
      "Epoch 42/100\n",
      "35/35 [==============================] - 4s 119ms/step - loss: 0.3569 - accuracy: 0.8661 - val_loss: 0.6167 - val_accuracy: 0.8357\n",
      "Epoch 43/100\n",
      "35/35 [==============================] - 4s 127ms/step - loss: 0.3345 - accuracy: 0.8741 - val_loss: 0.6497 - val_accuracy: 0.8000\n",
      "Epoch 44/100\n",
      "35/35 [==============================] - 5s 134ms/step - loss: 0.3692 - accuracy: 0.8616 - val_loss: 0.5869 - val_accuracy: 0.8036\n",
      "Epoch 45/100\n",
      "35/35 [==============================] - 5s 134ms/step - loss: 0.3336 - accuracy: 0.8848 - val_loss: 0.8428 - val_accuracy: 0.7571\n",
      "Epoch 46/100\n",
      "35/35 [==============================] - 5s 139ms/step - loss: 0.3116 - accuracy: 0.8884 - val_loss: 0.6626 - val_accuracy: 0.8036\n",
      "Epoch 47/100\n",
      "35/35 [==============================] - 5s 137ms/step - loss: 0.3244 - accuracy: 0.8768 - val_loss: 0.4836 - val_accuracy: 0.8607\n",
      "Epoch 48/100\n",
      "35/35 [==============================] - 5s 137ms/step - loss: 0.3024 - accuracy: 0.8973 - val_loss: 0.6075 - val_accuracy: 0.8071\n",
      "Epoch 49/100\n",
      "35/35 [==============================] - 5s 148ms/step - loss: 0.3675 - accuracy: 0.8518 - val_loss: 0.7567 - val_accuracy: 0.7464\n",
      "Epoch 50/100\n",
      "35/35 [==============================] - 5s 140ms/step - loss: 0.3319 - accuracy: 0.8866 - val_loss: 0.4886 - val_accuracy: 0.8536\n",
      "Epoch 51/100\n",
      "35/35 [==============================] - 5s 137ms/step - loss: 0.2788 - accuracy: 0.9071 - val_loss: 0.7433 - val_accuracy: 0.8179\n",
      "Epoch 52/100\n",
      "35/35 [==============================] - 5s 143ms/step - loss: 0.3018 - accuracy: 0.8813 - val_loss: 0.7378 - val_accuracy: 0.7679\n",
      "Epoch 53/100\n",
      "35/35 [==============================] - 5s 140ms/step - loss: 0.3470 - accuracy: 0.8652 - val_loss: 0.6574 - val_accuracy: 0.8036\n",
      "Epoch 54/100\n",
      "35/35 [==============================] - 5s 137ms/step - loss: 0.2805 - accuracy: 0.8946 - val_loss: 0.5254 - val_accuracy: 0.8679\n",
      "Epoch 55/100\n",
      "35/35 [==============================] - 5s 135ms/step - loss: 0.2941 - accuracy: 0.9054 - val_loss: 0.5329 - val_accuracy: 0.8357\n",
      "Epoch 56/100\n",
      "35/35 [==============================] - 5s 135ms/step - loss: 0.2576 - accuracy: 0.9098 - val_loss: 0.5825 - val_accuracy: 0.8250\n",
      "Epoch 57/100\n",
      "35/35 [==============================] - 5s 136ms/step - loss: 0.2762 - accuracy: 0.9000 - val_loss: 0.4960 - val_accuracy: 0.8571\n",
      "Epoch 58/100\n"
     ]
    },
    {
     "name": "stdout",
     "output_type": "stream",
     "text": [
      "35/35 [==============================] - 5s 133ms/step - loss: 0.2580 - accuracy: 0.9000 - val_loss: 0.4075 - val_accuracy: 0.8571\n",
      "Epoch 59/100\n",
      "35/35 [==============================] - 5s 133ms/step - loss: 0.2608 - accuracy: 0.9089 - val_loss: 0.6392 - val_accuracy: 0.7786\n",
      "Epoch 60/100\n",
      "35/35 [==============================] - 4s 124ms/step - loss: 0.2611 - accuracy: 0.9170 - val_loss: 0.5874 - val_accuracy: 0.8321\n",
      "Epoch 61/100\n",
      "35/35 [==============================] - 4s 114ms/step - loss: 0.2836 - accuracy: 0.9027 - val_loss: 0.7432 - val_accuracy: 0.7929\n",
      "Epoch 62/100\n",
      "35/35 [==============================] - 4s 109ms/step - loss: 0.2733 - accuracy: 0.9027 - val_loss: 0.6064 - val_accuracy: 0.8357\n",
      "Epoch 63/100\n",
      "35/35 [==============================] - 4s 102ms/step - loss: 0.2772 - accuracy: 0.9009 - val_loss: 0.7698 - val_accuracy: 0.7786\n",
      "Epoch 64/100\n",
      "35/35 [==============================] - 4s 101ms/step - loss: 0.2495 - accuracy: 0.9018 - val_loss: 0.4953 - val_accuracy: 0.8857\n",
      "Epoch 65/100\n",
      "35/35 [==============================] - 3s 98ms/step - loss: 0.2530 - accuracy: 0.9080 - val_loss: 0.4918 - val_accuracy: 0.8607\n",
      "Epoch 66/100\n",
      "35/35 [==============================] - 3s 96ms/step - loss: 0.2425 - accuracy: 0.9170 - val_loss: 0.5607 - val_accuracy: 0.8464\n",
      "Epoch 67/100\n",
      "35/35 [==============================] - 4s 100ms/step - loss: 0.1918 - accuracy: 0.9348 - val_loss: 0.4458 - val_accuracy: 0.8750\n",
      "Epoch 68/100\n",
      "35/35 [==============================] - 4s 101ms/step - loss: 0.1942 - accuracy: 0.9232 - val_loss: 0.5844 - val_accuracy: 0.8250\n",
      "Epoch 69/100\n",
      "35/35 [==============================] - 4s 105ms/step - loss: 0.2017 - accuracy: 0.9187 - val_loss: 0.4089 - val_accuracy: 0.8964\n",
      "Epoch 70/100\n",
      "35/35 [==============================] - 4s 103ms/step - loss: 0.1990 - accuracy: 0.9304 - val_loss: 0.6310 - val_accuracy: 0.8107\n",
      "Epoch 71/100\n",
      "35/35 [==============================] - 4s 111ms/step - loss: 0.2204 - accuracy: 0.9143 - val_loss: 0.4935 - val_accuracy: 0.8643\n",
      "Epoch 72/100\n",
      "35/35 [==============================] - 4s 112ms/step - loss: 0.1818 - accuracy: 0.9312 - val_loss: 0.4650 - val_accuracy: 0.8643\n",
      "Epoch 73/100\n",
      "35/35 [==============================] - 4s 115ms/step - loss: 0.2244 - accuracy: 0.9232 - val_loss: 0.4291 - val_accuracy: 0.8536\n",
      "Epoch 74/100\n",
      "35/35 [==============================] - 4s 118ms/step - loss: 0.2480 - accuracy: 0.9098 - val_loss: 0.4980 - val_accuracy: 0.8393\n",
      "Epoch 75/100\n",
      "35/35 [==============================] - 4s 124ms/step - loss: 0.2073 - accuracy: 0.9214 - val_loss: 0.5356 - val_accuracy: 0.8357\n",
      "Epoch 76/100\n",
      "35/35 [==============================] - 5s 136ms/step - loss: 0.1845 - accuracy: 0.9402 - val_loss: 0.4797 - val_accuracy: 0.8679\n",
      "Epoch 77/100\n",
      "35/35 [==============================] - 5s 138ms/step - loss: 0.2108 - accuracy: 0.9295 - val_loss: 0.4786 - val_accuracy: 0.8643\n",
      "Epoch 78/100\n",
      "35/35 [==============================] - 5s 137ms/step - loss: 0.2180 - accuracy: 0.9232 - val_loss: 0.5044 - val_accuracy: 0.8643\n",
      "Epoch 79/100\n",
      "35/35 [==============================] - 5s 136ms/step - loss: 0.2566 - accuracy: 0.9009 - val_loss: 0.5986 - val_accuracy: 0.8143\n",
      "Epoch 80/100\n",
      "35/35 [==============================] - 5s 140ms/step - loss: 0.2923 - accuracy: 0.8920 - val_loss: 0.4122 - val_accuracy: 0.8750\n",
      "Epoch 81/100\n",
      "35/35 [==============================] - 5s 149ms/step - loss: 0.2324 - accuracy: 0.9321 - val_loss: 0.5442 - val_accuracy: 0.8893\n",
      "Epoch 82/100\n",
      "35/35 [==============================] - 5s 138ms/step - loss: 0.2702 - accuracy: 0.9071 - val_loss: 0.5532 - val_accuracy: 0.8393\n",
      "Epoch 83/100\n",
      "35/35 [==============================] - 5s 130ms/step - loss: 0.3660 - accuracy: 0.8839 - val_loss: 0.6261 - val_accuracy: 0.8643\n",
      "Epoch 84/100\n",
      "35/35 [==============================] - 4s 122ms/step - loss: 0.3218 - accuracy: 0.8911 - val_loss: 0.4341 - val_accuracy: 0.8714\n",
      "Epoch 85/100\n",
      "35/35 [==============================] - 4s 119ms/step - loss: 0.2403 - accuracy: 0.9179 - val_loss: 0.3697 - val_accuracy: 0.8964\n",
      "Epoch 86/100\n",
      "35/35 [==============================] - 4s 113ms/step - loss: 0.1570 - accuracy: 0.9429 - val_loss: 0.5141 - val_accuracy: 0.8607\n",
      "Epoch 87/100\n",
      "35/35 [==============================] - 4s 112ms/step - loss: 0.1602 - accuracy: 0.9375 - val_loss: 0.6119 - val_accuracy: 0.8143\n",
      "Epoch 88/100\n",
      "35/35 [==============================] - 4s 110ms/step - loss: 0.1799 - accuracy: 0.9420 - val_loss: 0.4143 - val_accuracy: 0.8929\n",
      "Epoch 89/100\n",
      "35/35 [==============================] - 4s 106ms/step - loss: 0.1669 - accuracy: 0.9473 - val_loss: 0.5300 - val_accuracy: 0.8786\n",
      "Epoch 90/100\n",
      "35/35 [==============================] - 4s 101ms/step - loss: 0.1679 - accuracy: 0.9429 - val_loss: 0.4022 - val_accuracy: 0.8964\n",
      "Epoch 91/100\n",
      "35/35 [==============================] - 3s 99ms/step - loss: 0.2030 - accuracy: 0.9205 - val_loss: 0.4427 - val_accuracy: 0.8714\n",
      "Epoch 92/100\n",
      "35/35 [==============================] - 4s 104ms/step - loss: 0.2210 - accuracy: 0.9223 - val_loss: 0.4250 - val_accuracy: 0.8786\n",
      "Epoch 93/100\n",
      "35/35 [==============================] - 4s 105ms/step - loss: 0.1344 - accuracy: 0.9500 - val_loss: 0.4305 - val_accuracy: 0.8857\n",
      "Epoch 94/100\n",
      "35/35 [==============================] - 4s 108ms/step - loss: 0.1486 - accuracy: 0.9482 - val_loss: 0.4565 - val_accuracy: 0.8893\n",
      "Epoch 95/100\n",
      "35/35 [==============================] - 4s 110ms/step - loss: 0.1406 - accuracy: 0.9554 - val_loss: 0.3503 - val_accuracy: 0.9214\n",
      "Epoch 96/100\n",
      "35/35 [==============================] - 4s 119ms/step - loss: 0.1389 - accuracy: 0.9482 - val_loss: 0.4603 - val_accuracy: 0.8786\n",
      "Epoch 97/100\n",
      "35/35 [==============================] - 4s 127ms/step - loss: 0.2083 - accuracy: 0.9205 - val_loss: 0.5685 - val_accuracy: 0.8536\n",
      "Epoch 98/100\n",
      "35/35 [==============================] - 4s 118ms/step - loss: 0.1539 - accuracy: 0.9455 - val_loss: 0.3820 - val_accuracy: 0.8929\n",
      "Epoch 99/100\n",
      "35/35 [==============================] - 4s 118ms/step - loss: 0.1281 - accuracy: 0.9563 - val_loss: 0.3646 - val_accuracy: 0.9036\n",
      "Epoch 100/100\n",
      "35/35 [==============================] - 5s 132ms/step - loss: 0.1438 - accuracy: 0.9500 - val_loss: 0.5076 - val_accuracy: 0.8821\n"
     ]
    }
   ],
   "source": [
    "History1 = model.fit_generator(train_datagen.flow(train_xx,train_y, batch_size=32),\n",
    "                              epochs = 100, validation_data = (val_xx,val_y),\n",
    "                              verbose = 1, steps_per_epoch=train_xx.shape[0] // 32)"
   ]
  },
  {
   "cell_type": "code",
   "execution_count": 75,
   "id": "596bf3c9",
   "metadata": {},
   "outputs": [
    {
     "data": {
      "image/png": "[encoded data removed]",
      "text/plain": [
       "<Figure size 1800x720 with 2 Axes>"
      ]
     },
     "metadata": {
      "needs_background": "light"
     },
     "output_type": "display_data"
    }
   ],
   "source": [
    "def plot_accuracy_and_loss(train_model):\n",
    "    hist = train_model.history\n",
    "    acc = hist['accuracy']\n",
    "    val_acc = hist['val_accuracy']\n",
    "    loss = hist['loss']\n",
    "    val_loss = hist['val_loss']\n",
    "    epochs = range(len(acc))\n",
    "    f, ax = plt.subplots(1,2, figsize=(25, 10))\n",
    "    ax[0].plot(epochs, acc, 'g', label='Training accuracy')\n",
    "    ax[0].plot(epochs, val_acc, 'r', label='Validation accuracy')\n",
    "    ax[0].set_title('Training and validation accuracy')\n",
    "    ax[0].legend(fontsize=10)\n",
    "    ax[1].plot(epochs, loss, 'g', label='Training loss')\n",
    "    ax[1].plot(epochs, val_loss, 'r', label='Validation loss')\n",
    "    ax[1].set_title('Training and validation loss')\n",
    "    ax[1].legend()\n",
    "    plt.show()\n",
    "plot_accuracy_and_loss(History1)"
   ]
  },
  {
   "cell_type": "code",
   "execution_count": null,
   "id": "49e07400",
   "metadata": {},
   "outputs": [],
   "source": []
  },
  {
   "cell_type": "code",
   "execution_count": 76,
   "id": "da4159d3",
   "metadata": {},
   "outputs": [
    {
     "name": "stdout",
     "output_type": "stream",
     "text": [
      "You must install pydot (`pip install pydot`) and install graphviz (see instructions at https://graphviz.gitlab.io/download/) for plot_model to work.\n"
     ]
    }
   ],
   "source": [
    "plot_model(model, show_shapes=True)"
   ]
  },
  {
   "cell_type": "code",
   "execution_count": 77,
   "id": "eb3b2421",
   "metadata": {
    "scrolled": true
   },
   "outputs": [
    {
     "data": {
      "text/plain": [
       "(350, 7500)"
      ]
     },
     "execution_count": 77,
     "metadata": {},
     "output_type": "execute_result"
    }
   ],
   "source": [
    "test_x_co.shape"
   ]
  },
  {
   "cell_type": "code",
   "execution_count": 78,
   "id": "ce50bc71",
   "metadata": {},
   "outputs": [
    {
     "data": {
      "text/plain": [
       "(350,)"
      ]
     },
     "execution_count": 78,
     "metadata": {},
     "output_type": "execute_result"
    }
   ],
   "source": [
    "test_y.shape"
   ]
  },
  {
   "cell_type": "code",
   "execution_count": 79,
   "id": "1df1d713",
   "metadata": {},
   "outputs": [
    {
     "name": "stdout",
     "output_type": "stream",
     "text": [
      "11/11 [==============================] - 0s 17ms/step - loss: 0.4308 - accuracy: 0.8600\n"
     ]
    },
    {
     "data": {
      "text/plain": [
       "[0.4308067560195923, 0.8600000143051147]"
      ]
     },
     "execution_count": 79,
     "metadata": {},
     "output_type": "execute_result"
    }
   ],
   "source": [
    "model.evaluate(test_xx, test_y)"
   ]
  },
  {
   "cell_type": "code",
   "execution_count": 80,
   "id": "48781920",
   "metadata": {},
   "outputs": [
    {
     "name": "stdout",
     "output_type": "stream",
     "text": [
      "1/1 [==============================] - 0s 83ms/step\n"
     ]
    }
   ],
   "source": [
    "pre_y=model.predict(test_xx[30].reshape(-1, 50, 50, 3))"
   ]
  },
  {
   "cell_type": "code",
   "execution_count": 81,
   "id": "8bb5d3d2",
   "metadata": {
    "scrolled": true
   },
   "outputs": [
    {
     "data": {
      "text/plain": [
       "array([[0.  , 0.93, 0.  , 0.  , 0.07, 0.  , 0.  , 0.  , 0.  , 0.  , 0.  ,\n",
       "        0.  , 0.  , 0.  , 0.  , 0.  , 0.  , 0.  , 0.  , 0.  , 0.  , 0.  ,\n",
       "        0.  , 0.  , 0.  , 0.  ]], dtype=float32)"
      ]
     },
     "execution_count": 81,
     "metadata": {},
     "output_type": "execute_result"
    }
   ],
   "source": [
    "pre_y.round(2)"
   ]
  },
  {
   "cell_type": "code",
   "execution_count": 82,
   "id": "9b4a2ee3",
   "metadata": {},
   "outputs": [
    {
     "data": {
      "text/plain": [
       "4"
      ]
     },
     "execution_count": 82,
     "metadata": {},
     "output_type": "execute_result"
    }
   ],
   "source": [
    "test_y[30]"
   ]
  },
  {
   "cell_type": "code",
   "execution_count": 83,
   "id": "08c93534",
   "metadata": {},
   "outputs": [
    {
     "data": {
      "text/html": [
       "<div>\n",
       "<style scoped>\n",
       "    .dataframe tbody tr th:only-of-type {\n",
       "        vertical-align: middle;\n",
       "    }\n",
       "\n",
       "    .dataframe tbody tr th {\n",
       "        vertical-align: top;\n",
       "    }\n",
       "\n",
       "    .dataframe thead th {\n",
       "        text-align: right;\n",
       "    }\n",
       "</style>\n",
       "<table border=\"1\" class=\"dataframe\">\n",
       "  <thead>\n",
       "    <tr style=\"text-align: right;\">\n",
       "      <th></th>\n",
       "      <th>Brand</th>\n",
       "      <th>Label</th>\n",
       "    </tr>\n",
       "  </thead>\n",
       "  <tbody>\n",
       "    <tr>\n",
       "      <th>0</th>\n",
       "      <td>battery</td>\n",
       "      <td>1</td>\n",
       "    </tr>\n",
       "    <tr>\n",
       "      <th>1</th>\n",
       "      <td>food</td>\n",
       "      <td>2</td>\n",
       "    </tr>\n",
       "    <tr>\n",
       "      <th>2</th>\n",
       "      <td>glass</td>\n",
       "      <td>3</td>\n",
       "    </tr>\n",
       "    <tr>\n",
       "      <th>3</th>\n",
       "      <td>metal</td>\n",
       "      <td>4</td>\n",
       "    </tr>\n",
       "    <tr>\n",
       "      <th>4</th>\n",
       "      <td>paper</td>\n",
       "      <td>5</td>\n",
       "    </tr>\n",
       "    <tr>\n",
       "      <th>5</th>\n",
       "      <td>plastic</td>\n",
       "      <td>6</td>\n",
       "    </tr>\n",
       "  </tbody>\n",
       "</table>\n",
       "</div>"
      ],
      "text/plain": [
       "     Brand  Label\n",
       "0  battery      1\n",
       "1     food      2\n",
       "2    glass      3\n",
       "3    metal      4\n",
       "4    paper      5\n",
       "5  plastic      6"
      ]
     },
     "execution_count": 83,
     "metadata": {},
     "output_type": "execute_result"
    }
   ],
   "source": [
    "df = pd.DataFrame(target_df.name.unique())\n",
    "df['label'] = target_df.label.unique()\n",
    "df.columns = ['Brand', 'Label']\n",
    "df"
   ]
  },
  {
   "cell_type": "markdown",
   "id": "cc340b15",
   "metadata": {},
   "source": [
    "## 새로운 사진으로 예측"
   ]
  },
  {
   "cell_type": "code",
   "execution_count": 87,
   "id": "69582453",
   "metadata": {},
   "outputs": [],
   "source": [
    "def img_preprocessing(FILENAME):\n",
    "    img = Image.open(FILENAME)\n",
    "    img = img.resize((50,50))\n",
    "    img = np.array(img)\n",
    "    img = img.reshape(-1, 50, 50, 3)\n",
    "    plt.imshow(img.reshape(50,50,3))\n",
    "    print(df.Brand[np.argmax(model.predict(img))])"
   ]
  },
  {
   "cell_type": "code",
   "execution_count": 89,
   "id": "b9d24c8d",
   "metadata": {},
   "outputs": [
    {
     "name": "stdout",
     "output_type": "stream",
     "text": [
      "1/1 [==============================] - 0s 53ms/step\n",
      "food\n"
     ]
    },
    {
     "data": {
      "image/png": "[encoded data removed]",
      "text/plain": [
       "<Figure size 432x288 with 1 Axes>"
      ]
     },
     "metadata": {
      "needs_background": "light"
     },
     "output_type": "display_data"
    }
   ],
   "source": [
    "a=img_preprocessing('./test.img/metal.JPG')"
   ]
  },
  {
   "cell_type": "code",
   "execution_count": 90,
   "id": "0aacb3a6",
   "metadata": {},
   "outputs": [
    {
     "name": "stdout",
     "output_type": "stream",
     "text": [
      "1/1 [==============================] - 0s 16ms/step\n",
      "food\n"
     ]
    },
    {
     "data": {
      "image/png": "[encoded data removed]",
      "text/plain": [
       "<Figure size 432x288 with 1 Axes>"
      ]
     },
     "metadata": {
      "needs_background": "light"
     },
     "output_type": "display_data"
    }
   ],
   "source": [
    "b=img_preprocessing('./test.img/glass.JPG')"
   ]
  },
  {
   "cell_type": "code",
   "execution_count": 91,
   "id": "8e04bf24",
   "metadata": {},
   "outputs": [
    {
     "name": "stdout",
     "output_type": "stream",
     "text": [
      "1/1 [==============================] - 0s 15ms/step\n",
      "metal\n"
     ]
    },
    {
     "data": {
      "image/png": "[encoded data removed]",
      "text/plain": [
       "<Figure size 432x288 with 1 Axes>"
      ]
     },
     "metadata": {
      "needs_background": "light"
     },
     "output_type": "display_data"
    }
   ],
   "source": [
    "c=img_preprocessing('./test.img/paper.JPG')"
   ]
  },
  {
   "cell_type": "code",
   "execution_count": 92,
   "id": "83b40a66",
   "metadata": {},
   "outputs": [
    {
     "name": "stdout",
     "output_type": "stream",
     "text": [
      "1/1 [==============================] - 0s 16ms/step\n",
      "metal\n"
     ]
    },
    {
     "data": {
      "image/png": "[encoded data removed]",
      "text/plain": [
       "<Figure size 432x288 with 1 Axes>"
      ]
     },
     "metadata": {
      "needs_background": "light"
     },
     "output_type": "display_data"
    }
   ],
   "source": [
    "d=img_preprocessing('./test.img/plastic.JPG')"
   ]
  },
  {
   "cell_type": "code",
   "execution_count": 93,
   "id": "efef7ed0",
   "metadata": {},
   "outputs": [
    {
     "name": "stdout",
     "output_type": "stream",
     "text": [
      "1/1 [==============================] - 0s 16ms/step\n",
      "plastic\n"
     ]
    },
    {
     "data": {
      "image/png": "[encoded data removed]",
      "text/plain": [
       "<Figure size 432x288 with 1 Axes>"
      ]
     },
     "metadata": {
      "needs_background": "light"
     },
     "output_type": "display_data"
    }
   ],
   "source": [
    "e=img_preprocessing('./test.img/food.JPG')"
   ]
  },
  {
   "cell_type": "code",
   "execution_count": 94,
   "id": "4d5d23e9",
   "metadata": {},
   "outputs": [
    {
     "name": "stdout",
     "output_type": "stream",
     "text": [
      "1/1 [==============================] - 0s 15ms/step\n",
      "food\n"
     ]
    },
    {
     "data": {
      "image/png": "[encoded data removed]",
      "text/plain": [
       "<Figure size 432x288 with 1 Axes>"
      ]
     },
     "metadata": {
      "needs_background": "light"
     },
     "output_type": "display_data"
    }
   ],
   "source": [
    "f=img_preprocessing('./test.img/battery.JPG')"
   ]
  },
  {
   "cell_type": "code",
   "execution_count": null,
   "id": "2abf87fb",
   "metadata": {},
   "outputs": [],
   "source": []
  },
  {
   "cell_type": "code",
   "execution_count": null,
   "id": "55dae6db",
   "metadata": {},
   "outputs": [],
   "source": []
  },
  {
   "cell_type": "code",
   "execution_count": null,
   "id": "9ee44bbc",
   "metadata": {},
   "outputs": [],
   "source": []
  },
  {
   "cell_type": "code",
   "execution_count": 84,
   "id": "47270584",
   "metadata": {},
   "outputs": [],
   "source": [
    "metal_img = Image.open('./trashdatametal/metal0.png')\n",
    "metal_img1 = Image.open('./trashdatametal1/metal10.png')\n",
    "glass_img = Image.open('./trashdataglass/glass0.png')\n",
    "glass_img1 = Image.open('./trashdataglass1/glass10.png')\n",
    "paper_img = Image.open('./trashdatapaper/paper0.png')\n",
    "paper_img1 = Image.open('./trashdatapaper1/paper10.png')\n",
    "plastic_img = Image.open('./trashdataplastic/plastic0.png')\n",
    "plastic_img1 = Image.open('./trashdataplastic1/plastic10.png')\n",
    "food_img = Image.open('./trashdatafood/food0.png')\n",
    "food_img1 = Image.open('./trashdatafood1/food10.png')\n",
    "battery_img = Image.open('./trashdatabattery/battery0.png')\n",
    "battery_img1 = Image.open('./trashdatabattery1/battery10.png')"
   ]
  },
  {
   "cell_type": "code",
   "execution_count": 85,
   "id": "a7f48bc6",
   "metadata": {
    "scrolled": true
   },
   "outputs": [
    {
     "data": {
      "image/png": "[encoded data removed]",
      "text/plain": [
       "<Figure size 2160x2160 with 6 Axes>"
      ]
     },
     "metadata": {
      "needs_background": "light"
     },
     "output_type": "display_data"
    }
   ],
   "source": [
    "fig=plt.figure(figsize=(30,30))\n",
    "\n",
    "plt.subplot(1, 6, 1)\n",
    "plt.imshow(metal_img)\n",
    "plt.title('metal trash', fontsize=24)\n",
    "\n",
    "plt.subplot(1, 6, 2)\n",
    "plt.imshow(glass_img)\n",
    "plt.title('glass trash', fontsize=24)\n",
    "\n",
    "plt.subplot(1, 6, 3)\n",
    "plt.imshow(paper_img)\n",
    "plt.title('paper trash', fontsize=24)\n",
    "\n",
    "plt.subplot(1, 6, 4)\n",
    "plt.imshow(plastic_img)\n",
    "plt.title('plastic trash', fontsize=24)\n",
    "\n",
    "plt.subplot(1, 6, 5)\n",
    "plt.imshow(food_img)\n",
    "plt.title('food trash', fontsize=24)\n",
    "\n",
    "plt.subplot(1, 6, 6)\n",
    "plt.imshow(battery_img)\n",
    "plt.title('battery trash', fontsize=24)\n",
    "plt.show()"
   ]
  },
  {
   "cell_type": "code",
   "execution_count": 86,
   "id": "51a56ee3",
   "metadata": {},
   "outputs": [
    {
     "data": {
      "image/png": "[encoded data removed]",
      "text/plain": [
       "<Figure size 2160x2160 with 6 Axes>"
      ]
     },
     "metadata": {
      "needs_background": "light"
     },
     "output_type": "display_data"
    }
   ],
   "source": [
    "fig=plt.figure(figsize=(30,30))\n",
    "\n",
    "plt.subplot(1, 6, 1)\n",
    "plt.imshow(metal_img1)\n",
    "plt.title('metal trash1', fontsize=24)\n",
    "\n",
    "plt.subplot(1, 6, 2)\n",
    "plt.imshow(glass_img1)\n",
    "plt.title('glass trash1', fontsize=24)\n",
    "\n",
    "plt.subplot(1, 6, 3)\n",
    "plt.imshow(paper_img1)\n",
    "plt.title('paper trash1', fontsize=24)\n",
    "\n",
    "plt.subplot(1, 6, 4)\n",
    "plt.imshow(plastic_img1)\n",
    "plt.title('plastic trash1', fontsize=24)\n",
    "\n",
    "plt.subplot(1, 6, 5)\n",
    "plt.imshow(food_img1)\n",
    "plt.title('food trash1', fontsize=24)\n",
    "\n",
    "plt.subplot(1, 6, 6)\n",
    "plt.imshow(battery_img1)\n",
    "plt.title('battery trash1', fontsize=24)\n",
    "plt.show()"
   ]
  },
  {
   "cell_type": "code",
   "execution_count": 30,
   "id": "dfbe8d7a",
   "metadata": {},
   "outputs": [],
   "source": [
    "allmetalimg = []\n",
    "allglassimg = []\n",
    "allpaperimg = []\n",
    "allplasticimg = []\n",
    "allfoodimg = []\n",
    "allbatteryimg = []\n",
    "\n",
    "metal_len = len(os.listdir('./trashdatametal/'))\n",
    "for i in range(metal_len):\n",
    "    a = Image.open('./trashdatametal/metal'+str(i)+'.png')\n",
    "    allmetalimg.append(np.array(a).reshape(-1,50*50)[0].tolist())\n",
    "\n",
    "glass_len = len(os.listdir('./trashdataglass/'))\n",
    "for j in range(glass_len):\n",
    "    b = Image.open('./trashdataglass/glass'+str(j)+'.png')\n",
    "    allglassimg.append(np.array(b).reshape(-1,50*50)[0].tolist())\n",
    "    \n",
    "paper_len = len(os.listdir('./trashdatapaper/'))\n",
    "for o in range(paper_len):\n",
    "    c = Image.open('./trashdatapaper/paper'+str(o)+'.png')\n",
    "    allpaperimg.append(np.array(c).reshape(-1,50*50)[0].tolist())\n",
    "\n",
    "plastic_len = len(os.listdir('./trashdataplastic/'))\n",
    "for f in range(plastic_len):\n",
    "    d = Image.open('./trashdataplastic/plastic'+str(f)+'.png')\n",
    "    allplasticimg.append(np.array(d).reshape(-1,50*50)[0].tolist())\n",
    "\n",
    "food_len = len(os.listdir('./trashdatafood/'))\n",
    "for g in range(food_len):\n",
    "    e = Image.open('./trashdatafood/food'+str(g)+'.png')\n",
    "    allfoodimg.append(np.array(e).reshape(-1,50*50)[0].tolist())\n",
    "\n",
    "battery_len = len(os.listdir('./trashdatabattery/'))\n",
    "for k in range(battery_len):\n",
    "    q = Image.open('./trashdatabattery/battery'+str(k)+'.png')\n",
    "    allbatteryimg.append(np.array(q).reshape(-1,50*50)[0].tolist())"
   ]
  },
  {
   "cell_type": "code",
   "execution_count": 31,
   "id": "d7f05821",
   "metadata": {},
   "outputs": [
    {
     "name": "stdout",
     "output_type": "stream",
     "text": [
      "메탈 쓰레기 :  28\n",
      "유리 쓰레기 :  27\n",
      "종이 쓰레기 :  26\n",
      "플라스틱 쓰레기 :  22\n",
      "음식 쓰레기 :  27\n",
      "건전지 쓰레기 :  30\n"
     ]
    }
   ],
   "source": [
    "print('메탈 쓰레기 : ', len(allmetalimg))\n",
    "print('유리 쓰레기 : ', len(allglassimg))\n",
    "print('종이 쓰레기 : ', len(allpaperimg))\n",
    "print('플라스틱 쓰레기 : ', len(allplasticimg))\n",
    "print('음식 쓰레기 : ', len(allfoodimg))\n",
    "print('건전지 쓰레기 : ', len(allbatteryimg))"
   ]
  },
  {
   "cell_type": "code",
   "execution_count": 32,
   "id": "7ba3fb9b",
   "metadata": {},
   "outputs": [
    {
     "data": {
      "text/plain": [
       "(160, 2500)"
      ]
     },
     "execution_count": 32,
     "metadata": {},
     "output_type": "execute_result"
    }
   ],
   "source": [
    "allimgplus=np.row_stack((allmetalimg, allglassimg, allpaperimg, allplasticimg, allfoodimg, allbatteryimg))\n",
    "allimgplus.shape"
   ]
  },
  {
   "cell_type": "code",
   "execution_count": 33,
   "id": "64da14ae",
   "metadata": {},
   "outputs": [],
   "source": [
    "target1=np.array([0]*metal_len)\n",
    "target2=np.array([1]*glass_len)\n",
    "target3=np.array([2]*paper_len)\n",
    "target4=np.array([3]*plastic_len)\n",
    "target5=np.array([4]*food_len)\n",
    "target6=np.array([5]*battery_len)"
   ]
  },
  {
   "cell_type": "code",
   "execution_count": 34,
   "id": "9336aed9",
   "metadata": {},
   "outputs": [
    {
     "data": {
      "text/plain": [
       "array([0, 0, 0, 0, 0, 0, 0, 0, 0, 0, 0, 0, 0, 0, 0, 0, 0, 0, 0, 0, 0, 0,\n",
       "       0, 0, 0, 0, 0, 0, 1, 1, 1, 1, 1, 1, 1, 1, 1, 1, 1, 1, 1, 1, 1, 1,\n",
       "       1, 1, 1, 1, 1, 1, 1, 1, 1, 1, 1, 2, 2, 2, 2, 2, 2, 2, 2, 2, 2, 2,\n",
       "       2, 2, 2, 2, 2, 2, 2, 2, 2, 2, 2, 2, 2, 2, 2, 3, 3, 3, 3, 3, 3, 3,\n",
       "       3, 3, 3, 3, 3, 3, 3, 3, 3, 3, 3, 3, 3, 3, 3, 4, 4, 4, 4, 4, 4, 4,\n",
       "       4, 4, 4, 4, 4, 4, 4, 4, 4, 4, 4, 4, 4, 4, 4, 4, 4, 4, 4, 4, 5, 5,\n",
       "       5, 5, 5, 5, 5, 5, 5, 5, 5, 5, 5, 5, 5, 5, 5, 5, 5, 5, 5, 5, 5, 5,\n",
       "       5, 5, 5, 5, 5, 5])"
      ]
     },
     "execution_count": 34,
     "metadata": {},
     "output_type": "execute_result"
    }
   ],
   "source": [
    "target=np.concatenate([target1, target2, target3, target4, target5, target6])\n",
    "target"
   ]
  },
  {
   "cell_type": "code",
   "execution_count": 35,
   "id": "aca51de1",
   "metadata": {},
   "outputs": [
    {
     "data": {
      "text/plain": [
       "array([[151, 148, 148, ...,  44,  36,  67],\n",
       "       [253, 253, 253, ...,  94,  82, 119],\n",
       "       [185, 187, 215, ..., 195, 228, 184],\n",
       "       ...,\n",
       "       [255, 255, 255, ..., 107, 172,   9],\n",
       "       [ 80,  78,  59, ..., 159, 101, 192],\n",
       "       [255, 255, 255, ...,  99, 107, 222]])"
      ]
     },
     "execution_count": 35,
     "metadata": {},
     "output_type": "execute_result"
    }
   ],
   "source": [
    "allimgplus"
   ]
  },
  {
   "cell_type": "code",
   "execution_count": null,
   "id": "a92dee0c",
   "metadata": {},
   "outputs": [],
   "source": [
    "# 스케일링\n",
    "allimgplus=allimgplus/255.0\n",
    "\n",
    "allimgplus=allimgplus.reshape(-1,50,50,1)"
   ]
  },
  {
   "cell_type": "code",
   "execution_count": null,
   "id": "6a863d8c",
   "metadata": {},
   "outputs": [],
   "source": [
    "# 훈련/테스트 데이터 나누기\n",
    "x_train, x_test, y_train, y_test = train_test_split(allimgplus, target,\n",
    "                                                    random_state=42,\n",
    "                                                    stratify=target)"
   ]
  },
  {
   "cell_type": "code",
   "execution_count": null,
   "id": "6766888e",
   "metadata": {},
   "outputs": [],
   "source": [
    "x_train, x_val, y_train, y_val = train_test_split(x_train, y_train,\n",
    "                                                  stratify=y_train,\n",
    "                                                  random_state=42)"
   ]
  },
  {
   "cell_type": "code",
   "execution_count": null,
   "id": "a3d53523",
   "metadata": {},
   "outputs": [],
   "source": [
    "print(x_train.shape, y_train.shape)\n",
    "print(x_test.shape, y_test.shape)\n",
    "print(x_val.shape, y_val.shape)"
   ]
  },
  {
   "cell_type": "markdown",
   "id": "a72216ea",
   "metadata": {},
   "source": [
    "## 모델"
   ]
  },
  {
   "cell_type": "code",
   "execution_count": null,
   "id": "168aa90e",
   "metadata": {},
   "outputs": [],
   "source": [
    "model=Sequential()\n",
    "model.add(Conv2D(58, kernel_size=3, activation='relu', padding='same', input_shape=(50,50,1)))\n",
    "model.add(MaxPool2D())\n",
    "model.add(Conv2D(100, kernel_size=3, padding='same'))\n",
    "model.add(MaxPool2D())\n",
    "model.add(Flatten())\n",
    "model.add(Dense(100, activation='relu'))\n",
    "model.add(Dense(6, activation='softmax'))"
   ]
  },
  {
   "cell_type": "code",
   "execution_count": null,
   "id": "82cf6d53",
   "metadata": {},
   "outputs": [],
   "source": [
    "model.summary()"
   ]
  },
  {
   "cell_type": "code",
   "execution_count": null,
   "id": "3652483b",
   "metadata": {},
   "outputs": [],
   "source": [
    "train_datagen = ImageDataGenerator(\n",
    "    \n",
    "    rotation_range=30,\n",
    "    shear_range=0.2,\n",
    "    zoom_range=0.4,\n",
    "    horizontal_flip=True\n",
    ")\n",
    "train_datagen.fit(x_train)"
   ]
  },
  {
   "cell_type": "code",
   "execution_count": null,
   "id": "348a9f29",
   "metadata": {},
   "outputs": [],
   "source": [
    "model.compile(optimizer='adam',loss='sparse_categorical_crossentropy',metrics=['accuracy'])"
   ]
  },
  {
   "cell_type": "code",
   "execution_count": null,
   "id": "64dc904a",
   "metadata": {},
   "outputs": [],
   "source": [
    "History = model.fit_generator(train_datagen.flow(x_train,y_train, batch_size=32),\n",
    "                              epochs = 100, validation_data = (x_val,y_val),\n",
    "                              verbose = 1, steps_per_epoch=x_train.shape[0] // 32)"
   ]
  },
  {
   "cell_type": "code",
   "execution_count": null,
   "id": "60acf789",
   "metadata": {},
   "outputs": [],
   "source": [
    "plot_model(model, show_shapes=True)"
   ]
  },
  {
   "cell_type": "code",
   "execution_count": null,
   "id": "37c4d462",
   "metadata": {},
   "outputs": [],
   "source": [
    "plt.imshow(x_val[3].reshape(50,50), cmap='gray')\n",
    "plt.title(f'Label - {y_val[3]}')\n",
    "plt.show()"
   ]
  },
  {
   "cell_type": "code",
   "execution_count": null,
   "id": "be23be7c",
   "metadata": {},
   "outputs": [],
   "source": []
  },
  {
   "cell_type": "code",
   "execution_count": null,
   "id": "2d1da25c",
   "metadata": {},
   "outputs": [],
   "source": []
  },
  {
   "cell_type": "code",
   "execution_count": null,
   "id": "d81fe7ae",
   "metadata": {},
   "outputs": [],
   "source": []
  },
  {
   "cell_type": "code",
   "execution_count": null,
   "id": "dbf2964b",
   "metadata": {},
   "outputs": [],
   "source": []
  },
  {
   "cell_type": "code",
   "execution_count": null,
   "id": "059e9b9b",
   "metadata": {},
   "outputs": [],
   "source": []
  }
 ],
 "metadata": {
  "kernelspec": {
   "display_name": "Python 3 (ipykernel)",
   "language": "python",
   "name": "python3"
  },
  "language_info": {
   "codemirror_mode": {
    "name": "ipython",
    "version": 3
   },
   "file_extension": ".py",
   "mimetype": "text/x-python",
   "name": "python",
   "nbconvert_exporter": "python",
   "pygments_lexer": "ipython3",
   "version": "3.9.12"
  }
 },
 "nbformat": 4,
 "nbformat_minor": 5
}
