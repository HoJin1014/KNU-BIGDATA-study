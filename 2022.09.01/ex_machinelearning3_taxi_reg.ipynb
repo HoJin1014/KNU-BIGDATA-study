{
 "cells": [
  {
   "cell_type": "markdown",
   "id": "5a0941ee",
   "metadata": {},
   "source": [
    "# ML 기계학습"
   ]
  },
  {
   "cell_type": "code",
   "execution_count": 1,
   "id": "a6af48fe",
   "metadata": {},
   "outputs": [],
   "source": [
    "# ML\n",
    "## 지도 - 데이터(Feature 특성) + 타겟(라벨/정답) \n",
    "### 분류: 카테고리/범주 나누기\n",
    "### 회귀: 숫자(수치) 정답\n",
    "### KNN => 분류/회귀\n",
    "\n",
    "## 비지도 - 데이터(Feature 특성, 속성)\n",
    "# - 결과 평가 X\n",
    "# - 데이터의 특성(Feature) 추출\n",
    "\n",
    "## 강 화 - 데이터(Feature 특성, 속성)\n",
    "# - 피드백 (예) 게임, 걸음걸이"
   ]
  },
  {
   "cell_type": "code",
   "execution_count": 2,
   "id": "715eaf16",
   "metadata": {},
   "outputs": [],
   "source": [
    "# REGRESSION 회귀\n",
    "# Linear Regression (선형 회귀)\n",
    "## 선형 형태 데이터 분포 - 많은 데이터 만족하는 직선 1차 함수 y=Wx+b"
   ]
  },
  {
   "cell_type": "code",
   "execution_count": 3,
   "id": "ba6c6207",
   "metadata": {},
   "outputs": [],
   "source": [
    "# Multiple Regression (다중 회귀)\n",
    "## 선형 형태 데이터 분포 - 많은 데이터 만족하는 직선 1차 함수 y=ax1+bx1+c"
   ]
  },
  {
   "cell_type": "code",
   "execution_count": 4,
   "id": "632b8894",
   "metadata": {},
   "outputs": [],
   "source": [
    "# Polynomial Regression (다항 회귀)\n",
    "## 곡선 형태 데이터 분포 - 많은 데이터 만족하는 곡선\n",
    "## 2차 함수 y=a2x2+a1x1+c / N차 함수 = y=adxd+..+a2x2+a1x1+b"
   ]
  },
  {
   "cell_type": "code",
   "execution_count": 5,
   "id": "b75c8bc8",
   "metadata": {},
   "outputs": [],
   "source": [
    "# Logistic Regression (로지스틱 회귀) <- 신경망 DL\n",
    "## S자 형태 데이터 분포 / 많은 데이터 만족하는 s형 곡선\n",
    "## 예시 - 공부 시간과 합격 여부\n",
    "# sigmoid(y=ax+b)\n",
    "### 시그모이드(sigmoid) 함수\n",
    "# 0.5 이상 양수 / 0.5 이하 음수"
   ]
  },
  {
   "cell_type": "markdown",
   "id": "ce7f326d",
   "metadata": {},
   "source": [
    "## 뉴욕시의 Taxi 데이터 활용한 예측 모델\n",
    "---\n",
    "- 데이터셋 : 케글의 NYC_taxi.csv\n",
    "    - 조건 : 뉴욕시 내\n",
    "- 거리에 따른 요금 예측 ==> 회귀\n",
    "    - 조건 : 뉴욕시 내\n",
    "- 승차에 따른 하차지역 예측 ==> 분류"
   ]
  },
  {
   "cell_type": "markdown",
   "id": "17328488",
   "metadata": {},
   "source": [
    "### [1] 데이터 로딩"
   ]
  },
  {
   "cell_type": "code",
   "execution_count": 2,
   "id": "5b8acb4f",
   "metadata": {},
   "outputs": [],
   "source": [
    "# 모듈 로딩 ------------------------------------------------------\n",
    "import pandas as pd\n",
    "import numpy as np\n",
    "import matplotlib.pyplot as plt\n",
    "\n",
    "# 파일 관련 변수 선언 --------------------------------------------\n",
    "DIR_PATH='../Data1/'\n",
    "FILE_NAME=DIR_PATH+'NYC_taxi.csv'"
   ]
  },
  {
   "cell_type": "code",
   "execution_count": 3,
   "id": "5f035f27",
   "metadata": {},
   "outputs": [],
   "source": [
    "# 데이터 로딩\n",
    "# nrows = 로딩 데이터 수\n",
    "taxiDF=pd.read_csv(FILE_NAME, nrows=5000, parse_dates=['pickup_datetime'])"
   ]
  },
  {
   "cell_type": "code",
   "execution_count": 4,
   "id": "9661737c",
   "metadata": {
    "scrolled": false
   },
   "outputs": [
    {
     "data": {
      "text/html": [
       "<div>\n",
       "<style scoped>\n",
       "    .dataframe tbody tr th:only-of-type {\n",
       "        vertical-align: middle;\n",
       "    }\n",
       "\n",
       "    .dataframe tbody tr th {\n",
       "        vertical-align: top;\n",
       "    }\n",
       "\n",
       "    .dataframe thead th {\n",
       "        text-align: right;\n",
       "    }\n",
       "</style>\n",
       "<table border=\"1\" class=\"dataframe\">\n",
       "  <thead>\n",
       "    <tr style=\"text-align: right;\">\n",
       "      <th></th>\n",
       "      <th>key</th>\n",
       "      <th>fare_amount</th>\n",
       "      <th>pickup_datetime</th>\n",
       "      <th>pickup_longitude</th>\n",
       "      <th>pickup_latitude</th>\n",
       "      <th>dropoff_longitude</th>\n",
       "      <th>dropoff_latitude</th>\n",
       "      <th>passenger_count</th>\n",
       "    </tr>\n",
       "  </thead>\n",
       "  <tbody>\n",
       "    <tr>\n",
       "      <th>0</th>\n",
       "      <td>2009-06-15 17:26:21.0000001</td>\n",
       "      <td>4.5</td>\n",
       "      <td>2009-06-15 17:26:21+00:00</td>\n",
       "      <td>-73.844311</td>\n",
       "      <td>40.721319</td>\n",
       "      <td>-73.841610</td>\n",
       "      <td>40.712278</td>\n",
       "      <td>1</td>\n",
       "    </tr>\n",
       "    <tr>\n",
       "      <th>1</th>\n",
       "      <td>2010-01-05 16:52:16.0000002</td>\n",
       "      <td>16.9</td>\n",
       "      <td>2010-01-05 16:52:16+00:00</td>\n",
       "      <td>-74.016048</td>\n",
       "      <td>40.711303</td>\n",
       "      <td>-73.979268</td>\n",
       "      <td>40.782004</td>\n",
       "      <td>1</td>\n",
       "    </tr>\n",
       "    <tr>\n",
       "      <th>2</th>\n",
       "      <td>2011-08-18 00:35:00.00000049</td>\n",
       "      <td>5.7</td>\n",
       "      <td>2011-08-18 00:35:00+00:00</td>\n",
       "      <td>-73.982738</td>\n",
       "      <td>40.761270</td>\n",
       "      <td>-73.991242</td>\n",
       "      <td>40.750562</td>\n",
       "      <td>2</td>\n",
       "    </tr>\n",
       "    <tr>\n",
       "      <th>3</th>\n",
       "      <td>2012-04-21 04:30:42.0000001</td>\n",
       "      <td>7.7</td>\n",
       "      <td>2012-04-21 04:30:42+00:00</td>\n",
       "      <td>-73.987130</td>\n",
       "      <td>40.733143</td>\n",
       "      <td>-73.991567</td>\n",
       "      <td>40.758092</td>\n",
       "      <td>1</td>\n",
       "    </tr>\n",
       "    <tr>\n",
       "      <th>4</th>\n",
       "      <td>2010-03-09 07:51:00.000000135</td>\n",
       "      <td>5.3</td>\n",
       "      <td>2010-03-09 07:51:00+00:00</td>\n",
       "      <td>-73.968095</td>\n",
       "      <td>40.768008</td>\n",
       "      <td>-73.956655</td>\n",
       "      <td>40.783762</td>\n",
       "      <td>1</td>\n",
       "    </tr>\n",
       "  </tbody>\n",
       "</table>\n",
       "</div>"
      ],
      "text/plain": [
       "                             key  fare_amount           pickup_datetime  \\\n",
       "0    2009-06-15 17:26:21.0000001          4.5 2009-06-15 17:26:21+00:00   \n",
       "1    2010-01-05 16:52:16.0000002         16.9 2010-01-05 16:52:16+00:00   \n",
       "2   2011-08-18 00:35:00.00000049          5.7 2011-08-18 00:35:00+00:00   \n",
       "3    2012-04-21 04:30:42.0000001          7.7 2012-04-21 04:30:42+00:00   \n",
       "4  2010-03-09 07:51:00.000000135          5.3 2010-03-09 07:51:00+00:00   \n",
       "\n",
       "   pickup_longitude  pickup_latitude  dropoff_longitude  dropoff_latitude  \\\n",
       "0        -73.844311        40.721319         -73.841610         40.712278   \n",
       "1        -74.016048        40.711303         -73.979268         40.782004   \n",
       "2        -73.982738        40.761270         -73.991242         40.750562   \n",
       "3        -73.987130        40.733143         -73.991567         40.758092   \n",
       "4        -73.968095        40.768008         -73.956655         40.783762   \n",
       "\n",
       "   passenger_count  \n",
       "0                1  \n",
       "1                1  \n",
       "2                2  \n",
       "3                1  \n",
       "4                1  "
      ]
     },
     "execution_count": 4,
     "metadata": {},
     "output_type": "execute_result"
    }
   ],
   "source": [
    "taxiDF.head()"
   ]
  },
  {
   "cell_type": "code",
   "execution_count": 5,
   "id": "89249f9c",
   "metadata": {
    "scrolled": true
   },
   "outputs": [
    {
     "name": "stdout",
     "output_type": "stream",
     "text": [
      "<class 'pandas.core.frame.DataFrame'>\n",
      "RangeIndex: 5000 entries, 0 to 4999\n",
      "Data columns (total 8 columns):\n",
      " #   Column             Non-Null Count  Dtype              \n",
      "---  ------             --------------  -----              \n",
      " 0   key                5000 non-null   object             \n",
      " 1   fare_amount        5000 non-null   float64            \n",
      " 2   pickup_datetime    5000 non-null   datetime64[ns, UTC]\n",
      " 3   pickup_longitude   5000 non-null   float64            \n",
      " 4   pickup_latitude    5000 non-null   float64            \n",
      " 5   dropoff_longitude  5000 non-null   float64            \n",
      " 6   dropoff_latitude   5000 non-null   float64            \n",
      " 7   passenger_count    5000 non-null   int64              \n",
      "dtypes: datetime64[ns, UTC](1), float64(5), int64(1), object(1)\n",
      "memory usage: 312.6+ KB\n"
     ]
    }
   ],
   "source": [
    "taxiDF.info()"
   ]
  },
  {
   "cell_type": "code",
   "execution_count": 6,
   "id": "8a6c38ee",
   "metadata": {},
   "outputs": [
    {
     "data": {
      "text/plain": [
       "Index(['key', 'fare_amount', 'pickup_datetime', 'pickup_longitude',\n",
       "       'pickup_latitude', 'dropoff_longitude', 'dropoff_latitude',\n",
       "       'passenger_count'],\n",
       "      dtype='object')"
      ]
     },
     "execution_count": 6,
     "metadata": {},
     "output_type": "execute_result"
    }
   ],
   "source": [
    "taxiDF.columns"
   ]
  },
  {
   "cell_type": "markdown",
   "id": "a602d88c",
   "metadata": {},
   "source": [
    "## [2] 결측치 및 이상치 체크"
   ]
  },
  {
   "cell_type": "code",
   "execution_count": 7,
   "id": "767e49c7",
   "metadata": {},
   "outputs": [
    {
     "data": {
      "text/plain": [
       "key                  0\n",
       "fare_amount          0\n",
       "pickup_datetime      0\n",
       "pickup_longitude     0\n",
       "pickup_latitude      0\n",
       "dropoff_longitude    0\n",
       "dropoff_latitude     0\n",
       "passenger_count      0\n",
       "dtype: int64"
      ]
     },
     "execution_count": 7,
     "metadata": {},
     "output_type": "execute_result"
    }
   ],
   "source": [
    "taxiDF.isnull().sum()"
   ]
  },
  {
   "cell_type": "code",
   "execution_count": 8,
   "id": "f7f7ce6f",
   "metadata": {},
   "outputs": [
    {
     "data": {
      "text/html": [
       "<div>\n",
       "<style scoped>\n",
       "    .dataframe tbody tr th:only-of-type {\n",
       "        vertical-align: middle;\n",
       "    }\n",
       "\n",
       "    .dataframe tbody tr th {\n",
       "        vertical-align: top;\n",
       "    }\n",
       "\n",
       "    .dataframe thead th {\n",
       "        text-align: right;\n",
       "    }\n",
       "</style>\n",
       "<table border=\"1\" class=\"dataframe\">\n",
       "  <thead>\n",
       "    <tr style=\"text-align: right;\">\n",
       "      <th></th>\n",
       "      <th>fare_amount</th>\n",
       "      <th>pickup_longitude</th>\n",
       "      <th>pickup_latitude</th>\n",
       "      <th>dropoff_longitude</th>\n",
       "      <th>dropoff_latitude</th>\n",
       "      <th>passenger_count</th>\n",
       "    </tr>\n",
       "  </thead>\n",
       "  <tbody>\n",
       "    <tr>\n",
       "      <th>count</th>\n",
       "      <td>5000.000000</td>\n",
       "      <td>5000.000000</td>\n",
       "      <td>5000.000000</td>\n",
       "      <td>5000.000000</td>\n",
       "      <td>5000.000000</td>\n",
       "      <td>5000.000000</td>\n",
       "    </tr>\n",
       "    <tr>\n",
       "      <th>mean</th>\n",
       "      <td>11.296238</td>\n",
       "      <td>-72.426826</td>\n",
       "      <td>39.867237</td>\n",
       "      <td>-72.426130</td>\n",
       "      <td>39.875767</td>\n",
       "      <td>1.631000</td>\n",
       "    </tr>\n",
       "    <tr>\n",
       "      <th>std</th>\n",
       "      <td>9.710106</td>\n",
       "      <td>10.722381</td>\n",
       "      <td>6.351342</td>\n",
       "      <td>10.722293</td>\n",
       "      <td>6.326084</td>\n",
       "      <td>1.257122</td>\n",
       "    </tr>\n",
       "    <tr>\n",
       "      <th>min</th>\n",
       "      <td>-2.900000</td>\n",
       "      <td>-74.438233</td>\n",
       "      <td>-73.991840</td>\n",
       "      <td>-74.429332</td>\n",
       "      <td>-73.979010</td>\n",
       "      <td>0.000000</td>\n",
       "    </tr>\n",
       "    <tr>\n",
       "      <th>25%</th>\n",
       "      <td>6.000000</td>\n",
       "      <td>-73.992449</td>\n",
       "      <td>40.734045</td>\n",
       "      <td>-73.991349</td>\n",
       "      <td>40.734379</td>\n",
       "      <td>1.000000</td>\n",
       "    </tr>\n",
       "    <tr>\n",
       "      <th>50%</th>\n",
       "      <td>8.500000</td>\n",
       "      <td>-73.982069</td>\n",
       "      <td>40.752128</td>\n",
       "      <td>-73.980196</td>\n",
       "      <td>40.753512</td>\n",
       "      <td>1.000000</td>\n",
       "    </tr>\n",
       "    <tr>\n",
       "      <th>75%</th>\n",
       "      <td>12.500000</td>\n",
       "      <td>-73.967040</td>\n",
       "      <td>40.766890</td>\n",
       "      <td>-73.963589</td>\n",
       "      <td>40.767636</td>\n",
       "      <td>2.000000</td>\n",
       "    </tr>\n",
       "    <tr>\n",
       "      <th>max</th>\n",
       "      <td>180.000000</td>\n",
       "      <td>40.751582</td>\n",
       "      <td>41.366138</td>\n",
       "      <td>40.758867</td>\n",
       "      <td>41.032598</td>\n",
       "      <td>6.000000</td>\n",
       "    </tr>\n",
       "  </tbody>\n",
       "</table>\n",
       "</div>"
      ],
      "text/plain": [
       "       fare_amount  pickup_longitude  pickup_latitude  dropoff_longitude  \\\n",
       "count  5000.000000       5000.000000      5000.000000        5000.000000   \n",
       "mean     11.296238        -72.426826        39.867237         -72.426130   \n",
       "std       9.710106         10.722381         6.351342          10.722293   \n",
       "min      -2.900000        -74.438233       -73.991840         -74.429332   \n",
       "25%       6.000000        -73.992449        40.734045         -73.991349   \n",
       "50%       8.500000        -73.982069        40.752128         -73.980196   \n",
       "75%      12.500000        -73.967040        40.766890         -73.963589   \n",
       "max     180.000000         40.751582        41.366138          40.758867   \n",
       "\n",
       "       dropoff_latitude  passenger_count  \n",
       "count       5000.000000      5000.000000  \n",
       "mean          39.875767         1.631000  \n",
       "std            6.326084         1.257122  \n",
       "min          -73.979010         0.000000  \n",
       "25%           40.734379         1.000000  \n",
       "50%           40.753512         1.000000  \n",
       "75%           40.767636         2.000000  \n",
       "max           41.032598         6.000000  "
      ]
     },
     "execution_count": 8,
     "metadata": {},
     "output_type": "execute_result"
    }
   ],
   "source": [
    "taxiDF.describe()"
   ]
  },
  {
   "cell_type": "markdown",
   "id": "04bfb5cf",
   "metadata": {},
   "source": [
    "### 특성 새롭게 생성 => 거리 Feature\n",
    "---\n",
    "- 공식 : (x2-x1)^2 + (y2-y1)^2 계산 결과의 루트"
   ]
  },
  {
   "cell_type": "code",
   "execution_count": 9,
   "id": "94b665e6",
   "metadata": {},
   "outputs": [],
   "source": [
    "# taxiDF.pickup_latitude , taxiDF['pickup_latitude']"
   ]
  },
  {
   "cell_type": "code",
   "execution_count": 10,
   "id": "03bb2d8b",
   "metadata": {},
   "outputs": [
    {
     "data": {
      "text/plain": [
       "0       0.000007\n",
       "1       0.001353\n",
       "2       0.000072\n",
       "3       0.000020\n",
       "4       0.000131\n",
       "          ...   \n",
       "4995    0.000023\n",
       "4996    0.000022\n",
       "4997    0.000009\n",
       "4998    0.000157\n",
       "4999    0.000353\n",
       "Length: 5000, dtype: float64"
      ]
     },
     "execution_count": 10,
     "metadata": {},
     "output_type": "execute_result"
    }
   ],
   "source": [
    "(taxiDF.pickup_longitude - taxiDF.dropoff_longitude)**2"
   ]
  },
  {
   "cell_type": "code",
   "execution_count": 40,
   "id": "81584d99",
   "metadata": {},
   "outputs": [],
   "source": [
    "distance = (taxiDF.pickup_latitude - taxiDF.dropoff_latitude)**2 + (taxiDF.pickup_latitude - taxiDF.dropoff_longitude)**2"
   ]
  },
  {
   "cell_type": "code",
   "execution_count": 42,
   "id": "6c108bbe",
   "metadata": {},
   "outputs": [],
   "source": [
    "type(distance)\n",
    "\n",
    "taxiDF['distance']=distance"
   ]
  },
  {
   "cell_type": "code",
   "execution_count": 43,
   "id": "7e5aaf87",
   "metadata": {},
   "outputs": [
    {
     "data": {
      "text/html": [
       "<div>\n",
       "<style scoped>\n",
       "    .dataframe tbody tr th:only-of-type {\n",
       "        vertical-align: middle;\n",
       "    }\n",
       "\n",
       "    .dataframe tbody tr th {\n",
       "        vertical-align: top;\n",
       "    }\n",
       "\n",
       "    .dataframe thead th {\n",
       "        text-align: right;\n",
       "    }\n",
       "</style>\n",
       "<table border=\"1\" class=\"dataframe\">\n",
       "  <thead>\n",
       "    <tr style=\"text-align: right;\">\n",
       "      <th></th>\n",
       "      <th>key</th>\n",
       "      <th>fare_amount</th>\n",
       "      <th>pickup_datetime</th>\n",
       "      <th>pickup_longitude</th>\n",
       "      <th>pickup_latitude</th>\n",
       "      <th>dropoff_longitude</th>\n",
       "      <th>dropoff_latitude</th>\n",
       "      <th>passenger_count</th>\n",
       "      <th>distance</th>\n",
       "    </tr>\n",
       "  </thead>\n",
       "  <tbody>\n",
       "    <tr>\n",
       "      <th>0</th>\n",
       "      <td>2009-06-15 17:26:21.0000001</td>\n",
       "      <td>4.5</td>\n",
       "      <td>2009-06-15 17:26:21+00:00</td>\n",
       "      <td>-73.844311</td>\n",
       "      <td>40.721319</td>\n",
       "      <td>-73.841610</td>\n",
       "      <td>40.712278</td>\n",
       "      <td>1</td>\n",
       "      <td>13124.664783</td>\n",
       "    </tr>\n",
       "    <tr>\n",
       "      <th>1</th>\n",
       "      <td>2010-01-05 16:52:16.0000002</td>\n",
       "      <td>16.9</td>\n",
       "      <td>2010-01-05 16:52:16+00:00</td>\n",
       "      <td>-74.016048</td>\n",
       "      <td>40.711303</td>\n",
       "      <td>-73.979268</td>\n",
       "      <td>40.782004</td>\n",
       "      <td>1</td>\n",
       "      <td>13153.932075</td>\n",
       "    </tr>\n",
       "    <tr>\n",
       "      <th>2</th>\n",
       "      <td>2011-08-18 00:35:00.00000049</td>\n",
       "      <td>5.7</td>\n",
       "      <td>2011-08-18 00:35:00+00:00</td>\n",
       "      <td>-73.982738</td>\n",
       "      <td>40.761270</td>\n",
       "      <td>-73.991242</td>\n",
       "      <td>40.750562</td>\n",
       "      <td>2</td>\n",
       "      <td>13168.139125</td>\n",
       "    </tr>\n",
       "    <tr>\n",
       "      <th>3</th>\n",
       "      <td>2012-04-21 04:30:42.0000001</td>\n",
       "      <td>7.7</td>\n",
       "      <td>2012-04-21 04:30:42+00:00</td>\n",
       "      <td>-73.987130</td>\n",
       "      <td>40.733143</td>\n",
       "      <td>-73.991567</td>\n",
       "      <td>40.758092</td>\n",
       "      <td>1</td>\n",
       "      <td>13161.759707</td>\n",
       "    </tr>\n",
       "    <tr>\n",
       "      <th>4</th>\n",
       "      <td>2010-03-09 07:51:00.000000135</td>\n",
       "      <td>5.3</td>\n",
       "      <td>2010-03-09 07:51:00+00:00</td>\n",
       "      <td>-73.968095</td>\n",
       "      <td>40.768008</td>\n",
       "      <td>-73.956655</td>\n",
       "      <td>40.783762</td>\n",
       "      <td>1</td>\n",
       "      <td>13161.748549</td>\n",
       "    </tr>\n",
       "    <tr>\n",
       "      <th>...</th>\n",
       "      <td>...</td>\n",
       "      <td>...</td>\n",
       "      <td>...</td>\n",
       "      <td>...</td>\n",
       "      <td>...</td>\n",
       "      <td>...</td>\n",
       "      <td>...</td>\n",
       "      <td>...</td>\n",
       "      <td>...</td>\n",
       "    </tr>\n",
       "    <tr>\n",
       "      <th>4995</th>\n",
       "      <td>2010-09-04 12:45:32.0000001</td>\n",
       "      <td>6.5</td>\n",
       "      <td>2010-09-04 12:45:32+00:00</td>\n",
       "      <td>-73.980622</td>\n",
       "      <td>40.745157</td>\n",
       "      <td>-73.975777</td>\n",
       "      <td>40.755863</td>\n",
       "      <td>1</td>\n",
       "      <td>13160.892812</td>\n",
       "    </tr>\n",
       "    <tr>\n",
       "      <th>4996</th>\n",
       "      <td>2011-06-13 10:53:52.0000006</td>\n",
       "      <td>4.9</td>\n",
       "      <td>2011-06-13 10:53:52+00:00</td>\n",
       "      <td>-73.956664</td>\n",
       "      <td>40.766989</td>\n",
       "      <td>-73.961371</td>\n",
       "      <td>40.772639</td>\n",
       "      <td>1</td>\n",
       "      <td>13162.596620</td>\n",
       "    </tr>\n",
       "    <tr>\n",
       "      <th>4997</th>\n",
       "      <td>2013-12-12 21:26:40.0000004</td>\n",
       "      <td>7.5</td>\n",
       "      <td>2013-12-12 21:26:40+00:00</td>\n",
       "      <td>-73.988707</td>\n",
       "      <td>40.734343</td>\n",
       "      <td>-73.991737</td>\n",
       "      <td>40.722582</td>\n",
       "      <td>1</td>\n",
       "      <td>13162.073570</td>\n",
       "    </tr>\n",
       "    <tr>\n",
       "      <th>4998</th>\n",
       "      <td>2010-03-08 14:01:00.00000067</td>\n",
       "      <td>7.7</td>\n",
       "      <td>2010-03-08 14:01:00+00:00</td>\n",
       "      <td>-73.952795</td>\n",
       "      <td>40.776642</td>\n",
       "      <td>-73.965320</td>\n",
       "      <td>40.759412</td>\n",
       "      <td>5</td>\n",
       "      <td>13165.718140</td>\n",
       "    </tr>\n",
       "    <tr>\n",
       "      <th>4999</th>\n",
       "      <td>2011-02-28 18:37:41.0000002</td>\n",
       "      <td>13.3</td>\n",
       "      <td>2011-02-28 18:37:41+00:00</td>\n",
       "      <td>-73.983301</td>\n",
       "      <td>40.743722</td>\n",
       "      <td>-73.964523</td>\n",
       "      <td>40.710758</td>\n",
       "      <td>1</td>\n",
       "      <td>13157.982558</td>\n",
       "    </tr>\n",
       "  </tbody>\n",
       "</table>\n",
       "<p>5000 rows × 9 columns</p>\n",
       "</div>"
      ],
      "text/plain": [
       "                                key  fare_amount           pickup_datetime  \\\n",
       "0       2009-06-15 17:26:21.0000001          4.5 2009-06-15 17:26:21+00:00   \n",
       "1       2010-01-05 16:52:16.0000002         16.9 2010-01-05 16:52:16+00:00   \n",
       "2      2011-08-18 00:35:00.00000049          5.7 2011-08-18 00:35:00+00:00   \n",
       "3       2012-04-21 04:30:42.0000001          7.7 2012-04-21 04:30:42+00:00   \n",
       "4     2010-03-09 07:51:00.000000135          5.3 2010-03-09 07:51:00+00:00   \n",
       "...                             ...          ...                       ...   \n",
       "4995    2010-09-04 12:45:32.0000001          6.5 2010-09-04 12:45:32+00:00   \n",
       "4996    2011-06-13 10:53:52.0000006          4.9 2011-06-13 10:53:52+00:00   \n",
       "4997    2013-12-12 21:26:40.0000004          7.5 2013-12-12 21:26:40+00:00   \n",
       "4998   2010-03-08 14:01:00.00000067          7.7 2010-03-08 14:01:00+00:00   \n",
       "4999    2011-02-28 18:37:41.0000002         13.3 2011-02-28 18:37:41+00:00   \n",
       "\n",
       "      pickup_longitude  pickup_latitude  dropoff_longitude  dropoff_latitude  \\\n",
       "0           -73.844311        40.721319         -73.841610         40.712278   \n",
       "1           -74.016048        40.711303         -73.979268         40.782004   \n",
       "2           -73.982738        40.761270         -73.991242         40.750562   \n",
       "3           -73.987130        40.733143         -73.991567         40.758092   \n",
       "4           -73.968095        40.768008         -73.956655         40.783762   \n",
       "...                ...              ...                ...               ...   \n",
       "4995        -73.980622        40.745157         -73.975777         40.755863   \n",
       "4996        -73.956664        40.766989         -73.961371         40.772639   \n",
       "4997        -73.988707        40.734343         -73.991737         40.722582   \n",
       "4998        -73.952795        40.776642         -73.965320         40.759412   \n",
       "4999        -73.983301        40.743722         -73.964523         40.710758   \n",
       "\n",
       "      passenger_count      distance  \n",
       "0                   1  13124.664783  \n",
       "1                   1  13153.932075  \n",
       "2                   2  13168.139125  \n",
       "3                   1  13161.759707  \n",
       "4                   1  13161.748549  \n",
       "...               ...           ...  \n",
       "4995                1  13160.892812  \n",
       "4996                1  13162.596620  \n",
       "4997                1  13162.073570  \n",
       "4998                5  13165.718140  \n",
       "4999                1  13157.982558  \n",
       "\n",
       "[5000 rows x 9 columns]"
      ]
     },
     "execution_count": 43,
     "metadata": {},
     "output_type": "execute_result"
    }
   ],
   "source": [
    "taxiDF"
   ]
  },
  {
   "cell_type": "code",
   "execution_count": null,
   "id": "c4fed887",
   "metadata": {},
   "outputs": [],
   "source": []
  },
  {
   "cell_type": "code",
   "execution_count": null,
   "id": "647dbe12",
   "metadata": {},
   "outputs": [],
   "source": []
  },
  {
   "cell_type": "code",
   "execution_count": null,
   "id": "d78ff9e7",
   "metadata": {},
   "outputs": [],
   "source": []
  },
  {
   "cell_type": "markdown",
   "id": "66c0fab5",
   "metadata": {},
   "source": [
    "# Scikit-learn\n",
    "1) 데이터 수집 & 준비\n",
    "\n",
    "2) 데이터 전처리\n",
    " - 데이터 / 타겟 분리\n",
    " - 데이터 표준화 / 정규화\n",
    " - 타겟(라벨) 인코딩\n",
    "    \n",
    "3) 학습위한 데이터 준비\n",
    " - 데이터 셋\n",
    "    - 학습용 데이터셋 => 학습에 사용\n",
    "    - 검증용 데이터셋 => 모델 생성 중에 사용\n",
    "    - 테스트용 데이터셋 => 모델 완성 후 사용\n",
    "\n",
    "4) 학습 모델 생성\n",
    " - 학습 방법 선정 및 모델 객체 생성\n",
    " - 학습 진행\n",
    "    - 모델 파라미터 최적화 => 학습에 의해서 결정되는 파라미터\n",
    "    - 최적의 모델 파라미터를 찾기 위한 방법 => 최적화(optimizer)\n",
    "    - 예) W 가중치, b 절편\n",
    " - 모델 평가\n",
    "    - 성능 개선 => 하이퍼파라미터 (모델마다 다름)\n",
    "    - 예) KNN -> K, 학습 횟수, 학습크기(배치 사이즈), 규제 값들\n",
    "\n",
    "5) 모델 테스트\n",
    " - 학습에 사용되지 않은 데이터\n",
    " - 새로운 데이터로 테스트 진행"
   ]
  },
  {
   "cell_type": "code",
   "execution_count": 9,
   "id": "63bba54e",
   "metadata": {},
   "outputs": [],
   "source": [
    "# 모듈 로딩 ---------------------------------\n",
    "from sklearn.model_selection import train_test_split\n",
    "from sklearn.linear_model import LinearRegression"
   ]
  },
  {
   "cell_type": "code",
   "execution_count": 10,
   "id": "541a40da",
   "metadata": {},
   "outputs": [],
   "source": [
    "## [1] 데이터 준비\n",
    "# 시간 : 점수\n",
    "x = [2, 4, 6, 8, 10, 12]\n",
    "y = [40, 50, 60, 70, 80, 90]"
   ]
  },
  {
   "cell_type": "code",
   "execution_count": 11,
   "id": "9ea4f949",
   "metadata": {},
   "outputs": [
    {
     "data": {
      "image/png": "[encoded data removed]",
      "text/plain": [
       "<Figure size 432x288 with 1 Axes>"
      ]
     },
     "metadata": {
      "needs_background": "light"
     },
     "output_type": "display_data"
    }
   ],
   "source": [
    "## [2] 데이터 분포 분석 => EDA => 시각화\n",
    "import matplotlib.pyplot as plt\n",
    "plt.scatter(x, y)\n",
    "plt.xlabel('Hour')\n",
    "plt.ylabel('Score')\n",
    "plt.show()"
   ]
  },
  {
   "cell_type": "code",
   "execution_count": 12,
   "id": "a925063f",
   "metadata": {},
   "outputs": [],
   "source": [
    "# 시간과 점수는 비례 관계\n",
    "# 선형의 데이터 분포\n",
    "# 독립변수 => hour\n",
    "# 종속변수 => score"
   ]
  },
  {
   "cell_type": "code",
   "execution_count": 13,
   "id": "56f15dc8",
   "metadata": {},
   "outputs": [
    {
     "name": "stdout",
     "output_type": "stream",
     "text": [
      "shape: (2, 6)\n"
     ]
    }
   ],
   "source": [
    "# 학습에 사용되는 형태로 데이터 변환\n",
    "# 판다스\n",
    "import pandas as pd\n",
    "\n",
    "df = pd.DataFrame([x, y])\n",
    "# df = pd.DataFrame({'Hour': x, 'Score': y})\n",
    "print('shape:', df.shape)"
   ]
  },
  {
   "cell_type": "code",
   "execution_count": 14,
   "id": "f4080c28",
   "metadata": {},
   "outputs": [
    {
     "name": "stdout",
     "output_type": "stream",
     "text": [
      "arrx: (6,) arry: (6,)\n"
     ]
    }
   ],
   "source": [
    "import numpy as np\n",
    "\n",
    "arrx=np.array(x)\n",
    "arry=np.array(y)\n",
    "\n",
    "print('arrx:', arrx.shape, 'arry:', arry.shape)"
   ]
  },
  {
   "cell_type": "code",
   "execution_count": 15,
   "id": "a4e550b3",
   "metadata": {},
   "outputs": [
    {
     "name": "stdout",
     "output_type": "stream",
     "text": [
      "arrx: (6, 1) 2 arry: (6,) 1\n"
     ]
    }
   ],
   "source": [
    "# 1차원 -> 2차원\n",
    "arrx = arrx.reshape(-1, 1)\n",
    "print('arrx:', arrx.shape, arrx.ndim, 'arry:', arry.shape, arry.ndim)"
   ]
  },
  {
   "cell_type": "code",
   "execution_count": 16,
   "id": "2cb954f1",
   "metadata": {},
   "outputs": [],
   "source": [
    "## [3] 학습 방법 선택 및 모델 생성\n",
    "# 시간에 따른 점수 예측\n",
    "# 데이터 + 라벨 => 지도학습\n",
    "# 선형 데이터 분포 => 선형 모델 적용"
   ]
  },
  {
   "cell_type": "code",
   "execution_count": 17,
   "id": "103fdbc3",
   "metadata": {},
   "outputs": [],
   "source": [
    "# 모델 객체 생성\n",
    "model = LinearRegression()"
   ]
  },
  {
   "cell_type": "code",
   "execution_count": 18,
   "id": "7958b21d",
   "metadata": {},
   "outputs": [
    {
     "data": {
      "text/html": [
       "<style>#sk-container-id-1 {color: black;background-color: white;}#sk-container-id-1 pre{padding: 0;}#sk-container-id-1 div.sk-toggleable {background-color: white;}#sk-container-id-1 label.sk-toggleable__label {cursor: pointer;display: block;width: 100%;margin-bottom: 0;padding: 0.3em;box-sizing: border-box;text-align: center;}#sk-container-id-1 label.sk-toggleable__label-arrow:before {content: \"▸\";float: left;margin-right: 0.25em;color: #696969;}#sk-container-id-1 label.sk-toggleable__label-arrow:hover:before {color: black;}#sk-container-id-1 div.sk-estimator:hover label.sk-toggleable__label-arrow:before {color: black;}#sk-container-id-1 div.sk-toggleable__content {max-height: 0;max-width: 0;overflow: hidden;text-align: left;background-color: #f0f8ff;}#sk-container-id-1 div.sk-toggleable__content pre {margin: 0.2em;color: black;border-radius: 0.25em;background-color: #f0f8ff;}#sk-container-id-1 input.sk-toggleable__control:checked~div.sk-toggleable__content {max-height: 200px;max-width: 100%;overflow: auto;}#sk-container-id-1 input.sk-toggleable__control:checked~label.sk-toggleable__label-arrow:before {content: \"▾\";}#sk-container-id-1 div.sk-estimator input.sk-toggleable__control:checked~label.sk-toggleable__label {background-color: #d4ebff;}#sk-container-id-1 div.sk-label input.sk-toggleable__control:checked~label.sk-toggleable__label {background-color: #d4ebff;}#sk-container-id-1 input.sk-hidden--visually {border: 0;clip: rect(1px 1px 1px 1px);clip: rect(1px, 1px, 1px, 1px);height: 1px;margin: -1px;overflow: hidden;padding: 0;position: absolute;width: 1px;}#sk-container-id-1 div.sk-estimator {font-family: monospace;background-color: #f0f8ff;border: 1px dotted black;border-radius: 0.25em;box-sizing: border-box;margin-bottom: 0.5em;}#sk-container-id-1 div.sk-estimator:hover {background-color: #d4ebff;}#sk-container-id-1 div.sk-parallel-item::after {content: \"\";width: 100%;border-bottom: 1px solid gray;flex-grow: 1;}#sk-container-id-1 div.sk-label:hover label.sk-toggleable__label {background-color: #d4ebff;}#sk-container-id-1 div.sk-serial::before {content: \"\";position: absolute;border-left: 1px solid gray;box-sizing: border-box;top: 0;bottom: 0;left: 50%;z-index: 0;}#sk-container-id-1 div.sk-serial {display: flex;flex-direction: column;align-items: center;background-color: white;padding-right: 0.2em;padding-left: 0.2em;position: relative;}#sk-container-id-1 div.sk-item {position: relative;z-index: 1;}#sk-container-id-1 div.sk-parallel {display: flex;align-items: stretch;justify-content: center;background-color: white;position: relative;}#sk-container-id-1 div.sk-item::before, #sk-container-id-1 div.sk-parallel-item::before {content: \"\";position: absolute;border-left: 1px solid gray;box-sizing: border-box;top: 0;bottom: 0;left: 50%;z-index: -1;}#sk-container-id-1 div.sk-parallel-item {display: flex;flex-direction: column;z-index: 1;position: relative;background-color: white;}#sk-container-id-1 div.sk-parallel-item:first-child::after {align-self: flex-end;width: 50%;}#sk-container-id-1 div.sk-parallel-item:last-child::after {align-self: flex-start;width: 50%;}#sk-container-id-1 div.sk-parallel-item:only-child::after {width: 0;}#sk-container-id-1 div.sk-dashed-wrapped {border: 1px dashed gray;margin: 0 0.4em 0.5em 0.4em;box-sizing: border-box;padding-bottom: 0.4em;background-color: white;}#sk-container-id-1 div.sk-label label {font-family: monospace;font-weight: bold;display: inline-block;line-height: 1.2em;}#sk-container-id-1 div.sk-label-container {text-align: center;}#sk-container-id-1 div.sk-container {/* jupyter's `normalize.less` sets `[hidden] { display: none; }` but bootstrap.min.css set `[hidden] { display: none !important; }` so we also need the `!important` here to be able to override the default hidden behavior on the sphinx rendered scikit-learn.org. See: https://github.com/scikit-learn/scikit-learn/issues/21755 */display: inline-block !important;position: relative;}#sk-container-id-1 div.sk-text-repr-fallback {display: none;}</style><div id=\"sk-container-id-1\" class=\"sk-top-container\"><div class=\"sk-text-repr-fallback\"><pre>LinearRegression()</pre><b>In a Jupyter environment, please rerun this cell to show the HTML representation or trust the notebook. <br />On GitHub, the HTML representation is unable to render, please try loading this page with nbviewer.org.</b></div><div class=\"sk-container\" hidden><div class=\"sk-item\"><div class=\"sk-estimator sk-toggleable\"><input class=\"sk-toggleable__control sk-hidden--visually\" id=\"sk-estimator-id-1\" type=\"checkbox\" checked><label for=\"sk-estimator-id-1\" class=\"sk-toggleable__label sk-toggleable__label-arrow\">LinearRegression</label><div class=\"sk-toggleable__content\"><pre>LinearRegression()</pre></div></div></div></div></div>"
      ],
      "text/plain": [
       "LinearRegression()"
      ]
     },
     "execution_count": 18,
     "metadata": {},
     "output_type": "execute_result"
    }
   ],
   "source": [
    "# 학습 ==> 트레이닝 데이터 사용\n",
    "# fit()메서드 => 2차원 형태 데이터\n",
    "model.fit(arrx, arry)"
   ]
  },
  {
   "cell_type": "code",
   "execution_count": 19,
   "id": "c0b96184",
   "metadata": {},
   "outputs": [
    {
     "name": "stdout",
     "output_type": "stream",
     "text": [
      "w : [5.] b : 29.999999999999993\n"
     ]
    }
   ],
   "source": [
    "# 모델 파라미터 확인 => W 가중치, b 절편\n",
    "print('w :', model.coef_, 'b :', model.intercept_)"
   ]
  },
  {
   "cell_type": "code",
   "execution_count": 20,
   "id": "4100a86a",
   "metadata": {},
   "outputs": [
    {
     "data": {
      "text/plain": [
       "1.0"
      ]
     },
     "execution_count": 20,
     "metadata": {},
     "output_type": "execute_result"
    }
   ],
   "source": [
    "## [4] 모델 평가\n",
    "\n",
    "# 테스트(검증) 데이터로 평가  => score()\n",
    "# score()\n",
    " ## 분류 : 정답  ---  예측답   => 맞춘 정도\n",
    "    # - **정확도(accuracy)**\n",
    " ## 회귀 : 정답  ---  예측답   => 차이 오차(Error)\n",
    "   # - 손실함수(Loss/Cost Function)  : MSE, MAE, RMSE 0 ~ 1 낮을 수록 좋음\n",
    "   # - **R2 계수 : 0 ~ 1 높을 수록 좋음**\n",
    "# 회귀 => 결정계수 R^2 반환\n",
    "model.score(arrx, arry)"
   ]
  },
  {
   "cell_type": "code",
   "execution_count": 21,
   "id": "d8289978",
   "metadata": {},
   "outputs": [
    {
     "name": "stdout",
     "output_type": "stream",
     "text": [
      "1.1842378929335002e-15 8.414516322357459e-30\n"
     ]
    }
   ],
   "source": [
    "# 오차 확인\n",
    "from sklearn.metrics import mean_absolute_error, mean_squared_error\n",
    "\n",
    "prey = model.predict(arrx)\n",
    "mae=mean_absolute_error(arry, prey)\n",
    "mse=mean_squared_error(arry, prey)\n",
    "\n",
    "print(mae, mse)"
   ]
  },
  {
   "cell_type": "code",
   "execution_count": null,
   "id": "db7c84e0",
   "metadata": {},
   "outputs": [],
   "source": []
  }
 ],
 "metadata": {
  "kernelspec": {
   "display_name": "Python 3 (ipykernel)",
   "language": "python",
   "name": "python3"
  },
  "language_info": {
   "codemirror_mode": {
    "name": "ipython",
    "version": 3
   },
   "file_extension": ".py",
   "mimetype": "text/x-python",
   "name": "python",
   "nbconvert_exporter": "python",
   "pygments_lexer": "ipython3",
   "version": "3.9.12"
  }
 },
 "nbformat": 4,
 "nbformat_minor": 5
}
