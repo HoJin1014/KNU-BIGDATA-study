{
 "cells": [
  {
   "cell_type": "code",
   "execution_count": 1,
   "id": "b181d365",
   "metadata": {},
   "outputs": [],
   "source": [
    "import cv2\n",
    "import numpy as np"
   ]
  },
  {
   "cell_type": "code",
   "execution_count": 2,
   "id": "855765f4",
   "metadata": {},
   "outputs": [],
   "source": [
    "# lena = cv2.imread('./lena.bmp')\n",
    "\n",
    "# # average, gaussian, smooth\n",
    "# lena_blur = cv2.blur(lena, (3,3))\n",
    "# lena_gaussian = cv2.GaussianBlur(lena, (3,3), 1.5)\n",
    "# smooth_filter = np.array([[1/16, 2/16, 1/16], \\\n",
    "#                           [2/16, 4/16, 2/16], \\\n",
    "#                           [1/16, 2/16, 1/16]])\n",
    "# lena_smooth = cv2.filter2D(lena, -1, smooth_filter)\n",
    "\n",
    "# cv2.imshow('lena', lena)\n",
    "# cv2.imshow('lena_blur', lena_blur)\n",
    "# cv2.imshow('lena_gaussian', lena_gaussian)\n",
    "# cv2.imshow('lena_smooth', lena_smooth)\n",
    "# cv2.waitKey(0)\n",
    "# cv2.destroyAllWindows()"
   ]
  },
  {
   "cell_type": "code",
   "execution_count": 4,
   "id": "1b7b5967",
   "metadata": {},
   "outputs": [],
   "source": [
    "# # Spatial filter I - Image enhancement\n",
    "# lena = cv2.imread('./lena.bmp')\n",
    "\n",
    "# sharpen_filter = np.array([[0, -1, 0], \\\n",
    "#                           [-1, 5, -1], \\\n",
    "#                           [0, -1, 0]])\n",
    "# lena_sharpen = cv2.filter2D(lena, -1, sharpen_filter)\n",
    "# cv2.imshow('lena', lena)\n",
    "# cv2.imshow('lena_sharpen', lena_sharpen)\n",
    "# cv2.waitKey(0)\n",
    "# cv2.destroyAllWindows()"
   ]
  },
  {
   "cell_type": "code",
   "execution_count": 7,
   "id": "f29b7316",
   "metadata": {},
   "outputs": [],
   "source": [
    "# # Spatial filter III - Image segmentation\n",
    "# aespa = cv2.imread('./aespa.jpg')\n",
    "# aespa_gray = cv2.cvtColor(aespa, cv2.COLOR_BGR2GRAY)\n",
    "# aespa_gray = cv2.resize(aespa_gray, (0, 0), fx=0.4, fy=0.4, interpolation=cv2.INTER_CUBIC)\n",
    "\n",
    "# aespa_sobel_x = cv2.Sobel(aespa_gray, cv2.CV_32F, 1, 0)\n",
    "# aespa_sobel_y = cv2.Sobel(aespa_gray, cv2.CV_32F, 0, 1)\n",
    "# aespa_sobel = cv2.magnitude(aespa_sobel_x, aespa_sobel_y)\n",
    "# aespa_sobel_x = np.abs(aespa_sobel_x)                             #\n",
    "# aespa_sobel_x = np.clip(aespa_sobel_x, 0, 255).astype(np.uint8)\n",
    "# aespa_sobel_y = np.abs(aespa_sobel_y)\n",
    "# aespa_sobel_y = np.clip(aespa_sobel_y, 0, 255).astype(np.uint8)   #\n",
    "# aespa_sobel = np.clip(aespa_sobel, 0, 255).astype(np.uint8)\n",
    "# cv2.imshow('aespa_gray', aespa_gray)\n",
    "# cv2.imshow('aespa_sobel_x', aespa_sobel_x)\n",
    "# cv2.imshow('aespa_sobel_y', aespa_sobel_y)\n",
    "# cv2.imshow('aespa_sobel', aespa_sobel)\n",
    "# cv2.waitKey(0)\n",
    "# cv2.destroyAllWindows()"
   ]
  },
  {
   "cell_type": "code",
   "execution_count": 8,
   "id": "2109f4f1",
   "metadata": {},
   "outputs": [],
   "source": [
    "# # Morphological operation - Example\n",
    "# bi_img = cv2.imread('./morphology.jpg')\n",
    "\n",
    "# erode_k = cv2.getStructuringElement(cv2.MORPH_RECT, (5, 5))\n",
    "# erosion = cv2.erode(bi_img, erode_k)\n",
    "\n",
    "# dilate_k = cv2.getStructuringElement(cv2.MORPH_RECT, (5, 5))\n",
    "# dilation = cv2.dilate(bi_img, dilate_k)\n",
    "\n",
    "# cv2.imshow('bi_img', bi_img)\n",
    "# cv2.imshow('erode', erosion)\n",
    "# cv2.imshow('dilate', dilation)\n",
    "# cv2.waitKey(0)\n",
    "# cv2.destroyAllWindows()"
   ]
  },
  {
   "cell_type": "code",
   "execution_count": 10,
   "id": "84e724c8",
   "metadata": {},
   "outputs": [],
   "source": [
    "# # Labeling - Example\n",
    "# blob_img = cv2.imread('./blob.bmp')\n",
    "# blob_gray = cv2.cvtColor(blob_img, cv2.COLOR_BGR2GRAY)\n",
    "# _, blob_bin = cv2.threshold(blob_gray, -1, 255, cv2.THRESH_BINARY_INV | cv2.THRESH_OTSU)\n",
    "\n",
    "# _, labels, stats, centroids = cv2.connectedComponentsWithStats(blob_bin)\n",
    "# for i, rec in enumerate(stats):\n",
    "#     x, y, w, h, area = rec\n",
    "#     cv2.rectangle(blob_img, (x, y, w, h), (0, 0, 255))\n",
    "\n",
    "# cv2.imshow('blob_bin', blob_bin)\n",
    "# cv2.imshow('blob_img', blob_img)\n",
    "# cv2.waitKey(0)\n",
    "# cv2.destroyAllWindows()"
   ]
  },
  {
   "cell_type": "code",
   "execution_count": 12,
   "id": "6e68a714",
   "metadata": {},
   "outputs": [],
   "source": [
    "# # find contour (많이 쓰는 함수)\n",
    "# blob_img = cv2.imread('./findcontours.png')\n",
    "# blob_gray = cv2.cvtColor(blob_img, cv2.COLOR_BGR2GRAY)\n",
    "\n",
    "# contour, hierarchy = cv2.findContours(blob_gray, cv2.RETR_TREE, \\\n",
    "#                                                 cv2.CHAIN_APPROX_NONE)\n",
    "# for i, cnt in enumerate(contour):\n",
    "#     cv2.drawContours(blob_img, [cnt], 0, (0, 0, 255))\n",
    "\n",
    "# cv2.imshow('blob_img', blob_img)\n",
    "# cv2.imshow('blob_gray', blob_gray)\n",
    "# cv2.waitKey(0)\n",
    "# cv2.destroyAllWindows()"
   ]
  },
  {
   "cell_type": "code",
   "execution_count": 14,
   "id": "ff2ab387",
   "metadata": {},
   "outputs": [],
   "source": [
    "# # convex hull\n",
    "# blob_img = cv2.imread('./blob.bmp')\n",
    "# blob_gray = cv2.cvtColor(blob_img, cv2.COLOR_BGR2GRAY)\n",
    "# _, blob_bin = cv2.threshold(blob_gray, -1, 255, cv2.THRESH_BINARY_INV | cv2.THRESH_OTSU)\n",
    "\n",
    "# contour, hierarchy = cv2.findContours(blob_bin, cv2.RETR_LIST, \\\n",
    "#                                                 cv2.CHAIN_APPROX_NONE)\n",
    "\n",
    "# for i, cnt in enumerate(contour):\n",
    "#     hull = cv2.convexHull(cnt)\n",
    "#     cv2.drawContours(blob_img, [hull], 0, (0, 0, 255))\n",
    "\n",
    "# cv2.imshow('blob_img', blob_img)\n",
    "# cv2.imshow('blob_gray', blob_bin)\n",
    "# cv2.waitKey(0)\n",
    "# cv2.destroyAllWindows()"
   ]
  },
  {
   "cell_type": "code",
   "execution_count": 16,
   "id": "23529506",
   "metadata": {},
   "outputs": [],
   "source": [
    "# # moment\n",
    "# blob_img = cv2.imread('./blob.bmp')\n",
    "# blob_gray = cv2.cvtColor(blob_img, cv2.COLOR_BGR2GRAY)\n",
    "# _, blob_bin = cv2.threshold(blob_gray, -1, 255, cv2.THRESH_BINARY_INV | cv2.THRESH_OTSU)\n",
    "\n",
    "# contour, hierarchy = cv2.findContours(blob_bin, cv2.RETR_LIST, \\\n",
    "#                                                 cv2.CHAIN_APPROX_NONE)\n",
    "\n",
    "# for i, cnt in enumerate(contour):\n",
    "#     M = cv2.moments(cnt)\n",
    "#     cX = int(M['m10'] / M['m00'])\n",
    "#     cY = int(M['m01'] / M['m00'])\n",
    "#     cv2.circle(blob_img, (cX, cY), 1, (0, 255, 0), -1)\n",
    "#     cv2.drawContours(blob_img, [cnt], 0, (0, 0, 255))\n",
    "\n",
    "# cv2.imshow('blob_img', blob_img)\n",
    "# cv2.imshow('blob_gray', blob_bin)\n",
    "# cv2.waitKey(0)\n",
    "# cv2.destroyAllWindows()"
   ]
  },
  {
   "cell_type": "code",
   "execution_count": 18,
   "id": "2fc714eb",
   "metadata": {},
   "outputs": [],
   "source": [
    "# # Template matching\n",
    "# alphabet_img = cv2.imread('./alphabet.bmp')\n",
    "# A_img = cv2.imread('./A.bmp')\n",
    "# alphabet_img = cv2.cvtColor(alphabet_img, cv2.COLOR_BGR2GRAY)\n",
    "# A_img = cv2.cvtColor(A_img, cv2.COLOR_BGR2GRAY)\n",
    "\n",
    "# TM_SQDIFF_ret = cv2.matchTemplate(alphabet_img, A_img, cv2.TM_SQDIFF)\n",
    "# min_val_diff, max_val_diff, min_loc_diff, max_loc_diff = cv2.minMaxLoc(TM_SQDIFF_ret)\n",
    "# h, w = A_img.shape\n",
    "# cv2.rectangle(alphabet_img, (min_loc_diff[0], max_loc_diff[1]), (min_loc_diff[0]+w, min_loc_diff[1]+h), (128,128,128))\n",
    "# print('min_loc_diff:', min_loc_diff)\n",
    "\n",
    "# cv2.imshow('alphabet', alphabet_img)\n",
    "# cv2.imshow('A_img', A_img)\n",
    "# cv2.imshow('TM_SQDIFF_ret', TM_SQDIFF_ret/np.max(TM_SQDIFF_ret))\n",
    "# cv2.waitKey(0)\n",
    "# cv2.destroyAllWindows()"
   ]
  },
  {
   "cell_type": "code",
   "execution_count": null,
   "id": "2f1e8db8",
   "metadata": {},
   "outputs": [],
   "source": []
  }
 ],
 "metadata": {
  "kernelspec": {
   "display_name": "Python 3 (ipykernel)",
   "language": "python",
   "name": "python3"
  },
  "language_info": {
   "codemirror_mode": {
    "name": "ipython",
    "version": 3
   },
   "file_extension": ".py",
   "mimetype": "text/x-python",
   "name": "python",
   "nbconvert_exporter": "python",
   "pygments_lexer": "ipython3",
   "version": "3.9.12"
  }
 },
 "nbformat": 4,
 "nbformat_minor": 5
}
