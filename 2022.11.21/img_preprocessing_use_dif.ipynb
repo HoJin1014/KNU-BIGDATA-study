{
 "cells": [
  {
   "cell_type": "code",
   "execution_count": 33,
   "id": "90f519ad",
   "metadata": {},
   "outputs": [],
   "source": [
    "import cv2\n",
    "import numpy as np\n",
    "import model3_hs\n",
    "import img_preprocess\n",
    "from skimage.metrics import structural_similarity as compare_ssim"
   ]
  },
  {
   "cell_type": "code",
   "execution_count": 34,
   "id": "fbafd409",
   "metadata": {},
   "outputs": [],
   "source": [
    "# img= img_preprocess.find_contours"
   ]
  },
  {
   "cell_type": "code",
   "execution_count": 49,
   "id": "5c6c2308",
   "metadata": {},
   "outputs": [],
   "source": [
    "def preprocessing(imgg):\n",
    "    imageA = cv2.imread('./product_images/true_ok/GSY827AN7A1356_AAO11960K_PKT10_CM1EQSUA0012_20220711210457_DirectLight_OK.jpg')\n",
    "    imageB = cv2.imread(imgg)\n",
    "    \n",
    "    img, img1 = img_preprocess.find_contours(imageA, sensor=True)\n",
    "    print(img1.shape)\n",
    "    dif, dif1 = img_preprocess.find_contours(imageB, sensor=True)\n",
    "    dif= cv2.resize(dif, dsize=(1836, 1432))\n",
    "    dif1= cv2.resize(dif1, dsize=(1676, 1258))\n",
    "    \n",
    "    tempDiff = cv2.subtract(img1, dif1)\n",
    "    \n",
    "    grayA = cv2.cvtColor(img1, cv2.COLOR_BGR2GRAY)\n",
    "    grayB = cv2.cvtColor(dif1, cv2.COLOR_BGR2GRAY)\n",
    "\n",
    "    (score, diff) = compare_ssim(grayA, grayB, full=True)\n",
    "    diff = (diff*255).astype(\"uint8\")\n",
    "\n",
    "    print(f\"Similarity: {score:.5f}\")\n",
    "\n",
    "    thresh = cv2.threshold(diff, 0, 255,\n",
    "                          cv2.THRESH_BINARY_INV | cv2.THRESH_OTSU)[1]\n",
    "\n",
    "    # 차이점 빨간색으로 칠하기\n",
    "    tempDiff[thresh == 255] = [0, 0, 255]\n",
    "\n",
    "    # cv2.imwrite(\"result.jpg\",imageC)\n",
    "\n",
    "    # cv2.imshow(\"img\", cv2.resize(img, (960, 540)))\n",
    "    cv2.imshow(\"img1\", cv2.resize(img1, (960, 540)))\n",
    "    cv2.imshow(\"dif1\", cv2.resize(dif1, (960, 540)))\n",
    "    # cv2.imshow(\"Difference\", cv2.resize(imageC, (960, 540)))\n",
    "    # cv2.imshow(\"Gray\", cv2.resize(diff, (960, 540)))\n",
    "    cv2.imshow(\"Gray2\", cv2.resize(tempDiff, (960, 540)))\n",
    "\n",
    "    cv2.waitKey(0)\n",
    "    cv2.destroyAllWindows()"
   ]
  },
  {
   "cell_type": "code",
   "execution_count": null,
   "id": "1e4164d6",
   "metadata": {},
   "outputs": [],
   "source": []
  },
  {
   "cell_type": "code",
   "execution_count": 50,
   "id": "c587721c",
   "metadata": {},
   "outputs": [
    {
     "name": "stdout",
     "output_type": "stream",
     "text": [
      "(1258, 1676, 3)\n",
      "Similarity: 0.99553\n"
     ]
    }
   ],
   "source": [
    "preprocessing(\"./product_images/true_ng/GSY827AN7C2213_AAO20652K_PKT10_CM1EQSUA0011_20220713063204_DirectLight_NG.jpg\")\n",
    "# preprocessing(\"./product_images/true_ng/GSY827AN7B3302_AAO11135K_PKT03_CM1EQSUA0012_20220712101711_DirectLight_NG.jpg\")"
   ]
  },
  {
   "cell_type": "code",
   "execution_count": 70,
   "id": "90ae653d",
   "metadata": {},
   "outputs": [],
   "source": [
    "# def white_img_extract(FILENAME):\n",
    "#     \"\"\"전체 화면에서 흰 화면만 뽑아내기\n",
    "\n",
    "#     Args:\n",
    "#         FILENAME (_type_): 파일이름\n",
    "\n",
    "#     Returns:\n",
    "#         _type_: ndarray\n",
    "#     \"\"\"\n",
    "#     img = cv2.imread(FILENAME)\n",
    "\n",
    "#     # 전처리 과정\n",
    "#     gray = cv2.cvtColor(img, cv2.COLOR_BGR2GRAY)\n",
    "#     blur = cv2.GaussianBlur(gray, (3, 3), 0)\n",
    "#     thresh = cv2.Canny(blur, 50, 200)\n",
    "\n",
    "#     # 윤곽선 찾아내기\n",
    "#     contours, hierarchy = cv2.findContours(\n",
    "#         thresh, cv2.RETR_LIST, cv2.CHAIN_APPROX_SIMPLE\n",
    "#     )\n",
    "#     # contours, hierarchy = cv2.findContours(thresh, cv2.RETR_EXTERNAL, cv2.CHAIN_APPROX_NONE)\n",
    "\n",
    "#     # 이미지 크롭\n",
    "#     sl = []\n",
    "#     box_sl = []\n",
    "\n",
    "#     for cnt in contours:\n",
    "#         pt, hw, ang = cv2.minAreaRect(cnt)\n",
    "#         # minAreaRect 입력값: contours, 반환값: 좌측상단 점, (가로,세로), 각도\n",
    "#         if hw[0] > 1000 and hw[1] > 500:\n",
    "#             # if hw[0]>500:\n",
    "#             sl.append([pt, hw, ang])\n",
    "\n",
    "#     for i in sl:\n",
    "#         box = cv2.boxPoints((i[0], i[1], i[2]))\n",
    "#         box_sl.append(np.int0(box))\n",
    "\n",
    "#     # 이미지 보여주기\n",
    "#     for box in box_sl:\n",
    "#         img = cv2.drawContours(img, [box], 0, (0, 255, 0), 3)\n",
    "\n",
    "#     cv2.namedWindow(\"img\", flags=cv2.WINDOW_NORMAL)\n",
    "#     cv2.imshow(\"img\", img)\n",
    "#     cv2.waitKey()\n",
    "#     cv2.destroyAllWindows()\n",
    "\n",
    "#     # 원근변환 이용해서 필요한 이미지 추출\n",
    "#     box = np.float32(box)\n",
    "#     next_arr = np.array([[0, 0], [1200, 0], [1200, 1600], [0, 1600]], dtype=np.float32)\n",
    "#     per_mat = cv2.getPerspectiveTransform(box, next_arr)\n",
    "#     per = cv2.warpPerspective(img, per_mat, (1200, 1600))\n",
    "\n",
    "#     # 원근변환한 이미지 보여주기\n",
    "#     cv2.imshow(\"per\", per)\n",
    "#     cv2.waitKey()\n",
    "#     cv2.destroyAllWindows()\n",
    "#     return per\n",
    "\n",
    "\n",
    "# # 예시\n",
    "# if \"__main__\" == __name__:\n",
    "#     per = white_img_extract(\"./product_images/true_ng/GSY827AN7C2213_AAO20652K_PKT10_CM1EQSUA0011_20220713063204_DirectLight_NG.jpg\")\n",
    "#     preprocessing(per)"
   ]
  },
  {
   "cell_type": "code",
   "execution_count": null,
   "id": "5ddefbf6",
   "metadata": {},
   "outputs": [],
   "source": []
  }
 ],
 "metadata": {
  "kernelspec": {
   "display_name": "Python 3 (ipykernel)",
   "language": "python",
   "name": "python3"
  },
  "language_info": {
   "codemirror_mode": {
    "name": "ipython",
    "version": 3
   },
   "file_extension": ".py",
   "mimetype": "text/x-python",
   "name": "python",
   "nbconvert_exporter": "python",
   "pygments_lexer": "ipython3",
   "version": "3.9.12"
  }
 },
 "nbformat": 4,
 "nbformat_minor": 5
}
