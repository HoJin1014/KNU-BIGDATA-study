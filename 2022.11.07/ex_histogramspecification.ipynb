{
 "cells": [
  {
   "cell_type": "code",
   "execution_count": 1,
   "id": "59b843b5",
   "metadata": {},
   "outputs": [],
   "source": [
    "# https://marisara.tistory.com/entry/%ED%8C%8C%EC%9D%B4%EC%8D%AC-openCV-8-%ED%9E%88%EC%8A%A4%ED%86%A0%EA%B7%B8%EB%9E%A8-%EB%AA%85%EC%84%B8%ED%99%94histogram-specification"
   ]
  },
  {
   "cell_type": "code",
   "execution_count": 2,
   "id": "e58b7831",
   "metadata": {},
   "outputs": [],
   "source": [
    "import cv2\n",
    "import matplotlib.pyplot as plt\n",
    "import numpy as np"
   ]
  },
  {
   "cell_type": "code",
   "execution_count": 7,
   "id": "67ac69cb",
   "metadata": {},
   "outputs": [
    {
     "data": {
      "image/png": "[encoded data removed]",
      "text/plain": [
       "<Figure size 432x288 with 3 Axes>"
      ]
     },
     "metadata": {
      "needs_background": "light"
     },
     "output_type": "display_data"
    },
    {
     "data": {
      "text/plain": [
       "-1"
      ]
     },
     "execution_count": 7,
     "metadata": {},
     "output_type": "execute_result"
    }
   ],
   "source": [
    "img = cv2.imread('./lena.jpg')\n",
    "gray = cv2.cvtColor(img, cv2.COLOR_BGR2GRAY)\n",
    "target = cv2.imread('./pepper.jpg')\n",
    "target_gray = cv2.cvtColor(target, cv2.COLOR_BGR2GRAY)\n",
    "shape = gray.shape\n",
    "original = gray.ravel()\n",
    "specified = target_gray.ravel()\n",
    "s_values, bin_idx, s_counts = np.unique(original, return_inverse=True, return_counts=True)\n",
    "t_values, t_counts = np.unique(specified, return_counts=True)\n",
    "s_quantiles = np.cumsum(s_counts).astype(np.float64)\n",
    "s_quantiles /= s_quantiles[-1]\n",
    "sour = np.around(s_quantiles * 255)\n",
    "t_quantiles = np.cumsum(t_counts).astype(np.float64)\n",
    "t_quantiles /= t_quantiles[-1]\n",
    "temp = np.around(t_quantiles * 255)\n",
    "\n",
    "b = []\n",
    "for data in sour:\n",
    "    diff = temp - data\n",
    "    mask = np.ma.less_equal(diff, -1)\n",
    "    if np.all(mask):\n",
    "        c = np.abs(diff).argmin()\n",
    "        b.append(c)\n",
    "    masked_diff = np.ma.masked_array(diff, mask)\n",
    "    b.append(masked_diff.argmin())\n",
    "\n",
    "LUT = np.array(b, dtype='uint8')\n",
    "out = np.array(LUT[bin_idx].reshape(shape))\n",
    "cv2.imshow('original', gray)\n",
    "cv2.imshow('target', target_gray)\n",
    "cv2.imshow('out', out)\n",
    "\n",
    "plt.figure()\n",
    "plt.subplot(1, 3, 1)\n",
    "plt.hist(img.ravel(), 256, [0, 256])\n",
    "plt.subplot(1, 3, 2)\n",
    "plt.hist(target.ravel(), 256, [0, 256])\n",
    "plt.subplot(1, 3, 3)\n",
    "plt.hist(out.ravel(), 256, [0, 256])\n",
    "plt.show()\n",
    "\n",
    "cv2.waitKey(0)"
   ]
  },
  {
   "cell_type": "code",
   "execution_count": null,
   "id": "98251a72",
   "metadata": {},
   "outputs": [],
   "source": []
  },
  {
   "cell_type": "code",
   "execution_count": null,
   "id": "f07716bd",
   "metadata": {},
   "outputs": [],
   "source": []
  },
  {
   "cell_type": "code",
   "execution_count": null,
   "id": "7a14067a",
   "metadata": {},
   "outputs": [],
   "source": []
  },
  {
   "cell_type": "code",
   "execution_count": null,
   "id": "9b07126e",
   "metadata": {},
   "outputs": [],
   "source": []
  },
  {
   "cell_type": "code",
   "execution_count": null,
   "id": "ab1e0a07",
   "metadata": {},
   "outputs": [],
   "source": []
  },
  {
   "cell_type": "code",
   "execution_count": null,
   "id": "7cb58c9a",
   "metadata": {},
   "outputs": [],
   "source": []
  },
  {
   "cell_type": "code",
   "execution_count": null,
   "id": "32dc9f30",
   "metadata": {},
   "outputs": [],
   "source": []
  }
 ],
 "metadata": {
  "kernelspec": {
   "display_name": "Python 3 (ipykernel)",
   "language": "python",
   "name": "python3"
  },
  "language_info": {
   "codemirror_mode": {
    "name": "ipython",
    "version": 3
   },
   "file_extension": ".py",
   "mimetype": "text/x-python",
   "name": "python",
   "nbconvert_exporter": "python",
   "pygments_lexer": "ipython3",
   "version": "3.9.12"
  }
 },
 "nbformat": 4,
 "nbformat_minor": 5
}
