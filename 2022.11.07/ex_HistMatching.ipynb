{
 "cells": [
  {
   "cell_type": "markdown",
   "id": "e600b872",
   "metadata": {},
   "source": [
    "## 파이썬으로 Histogram-Matching 하기\n",
    "##### https://gromit2.blogspot.com/2016/08/histogram-matching.html?view=flipcard"
   ]
  },
  {
   "cell_type": "code",
   "execution_count": 2,
   "id": "614d3e06",
   "metadata": {},
   "outputs": [],
   "source": [
    "import numpy as np\n",
    "\n",
    "def hist_match(source, template):\n",
    "    \"\"\"\n",
    "    Adjust the pixel values of a grayscale image such that its histogram\n",
    "    matches that of a target image\n",
    "    \n",
    "    Arguments:\n",
    "    ----------\n",
    "        source: np.ndaray\n",
    "            Image to transform; the histogram is computed over the flattened\n",
    "            array\n",
    "        template: np.ndarray\n",
    "            Template image; can have different dimensions to source\n",
    "    Returns:\n",
    "    ----------\n",
    "        matched: np.ndarray\n",
    "            The transformed output image\n",
    "    \"\"\"\n",
    "    \n",
    "    oldshape = source.shape\n",
    "    source = source.ravel()\n",
    "    template = template.ravel()\n",
    "    \n",
    "    # get the set of unique pixel values and their corresponding indices and\n",
    "    # counts\n",
    "    s_values, bin_idx, s_counts = np.unique(soure, return_inverse=True,\n",
    "                                           return_counts=True)\n",
    "    t_values, t_counts = np.unique(template, return_counts=True)\n",
    "    \n",
    "    # take the cumsum of tfrom matplotlib import pyplot as plt"
   ]
  },
  {
   "cell_type": "code",
   "execution_count": 7,
   "id": "4a3ed399",
   "metadata": {
    "scrolled": true
   },
   "outputs": [],
   "source": [
    "# pip install pillow==5.2.0"
   ]
  },
  {
   "cell_type": "code",
   "execution_count": 9,
   "id": "2b1fa77d",
   "metadata": {},
   "outputs": [],
   "source": [
    "# pip install scipy==1.1.0"
   ]
  },
  {
   "cell_type": "code",
   "execution_count": 18,
   "id": "ce2bfcce",
   "metadata": {},
   "outputs": [
    {
     "ename": "ImportError",
     "evalue": "cannot import name 'lena' from 'scipy.misc' (C:\\ProgramData\\Anaconda3\\lib\\site-packages\\scipy\\misc\\__init__.py)",
     "output_type": "error",
     "traceback": [
      "\u001b[1;31m---------------------------------------------------------------------------\u001b[0m",
      "\u001b[1;31mImportError\u001b[0m                               Traceback (most recent call last)",
      "Input \u001b[1;32mIn [18]\u001b[0m, in \u001b[0;36m<cell line: 1>\u001b[1;34m()\u001b[0m\n\u001b[1;32m----> 1\u001b[0m \u001b[38;5;28;01mfrom\u001b[39;00m \u001b[38;5;21;01mscipy\u001b[39;00m\u001b[38;5;21;01m.\u001b[39;00m\u001b[38;5;21;01mmisc\u001b[39;00m \u001b[38;5;28;01mimport\u001b[39;00m lena\n\u001b[0;32m      2\u001b[0m \u001b[38;5;28;01mfrom\u001b[39;00m \u001b[38;5;21;01mscipy\u001b[39;00m\u001b[38;5;21;01m.\u001b[39;00m\u001b[38;5;21;01mmisc\u001b[39;00m \u001b[38;5;28;01mimport\u001b[39;00m ascent\n\u001b[0;32m      4\u001b[0m source \u001b[38;5;241m=\u001b[39m lena()\n",
      "\u001b[1;31mImportError\u001b[0m: cannot import name 'lena' from 'scipy.misc' (C:\\ProgramData\\Anaconda3\\lib\\site-packages\\scipy\\misc\\__init__.py)"
     ]
    }
   ],
   "source": [
    "from scipy.misc import lena\n",
    "from scipy.misc import ascent\n",
    "\n",
    "source = lena()\n",
    "template = ascent()\n",
    "matched = hist_match(source, template)\n",
    "\n",
    "def ecdf(x):\n",
    "    '''convenience function for computing the empirical CDF'''\n",
    "    vals, counts = np.unique(x, return_counts=True)\n",
    "    ecdf = np.cumsum(counts).astype(np.float64)\n",
    "    ecdf /= ecdf[-1]\n",
    "    return vals, ecdf\n",
    "\n",
    "x1, y1 = ecdf(source.ravel())\n",
    "x2, y2 = ecdf(template.ravel())\n",
    "x3, y3 = ecdf(matched.ravel())\n",
    "\n",
    "fig = plt.figure()\n",
    "gs = plt.GridSpec(2, 3)\n",
    "ax1 = fig.add_subplot(gs[0, 0])\n",
    "ax2 = fig.add_subplot(gs[0, 1], sharex=ax1, sharey=ax1)\n",
    "ax3 = fig.add_subplot(gs[0, 2], sharex=ax1, sharey=ax1)\n",
    "ax4 = fig.add_subplot(gs[1, :])\n",
    "for aa in (ax1, ax2, ax3):\n",
    "    aa.set_axis_off()\n",
    "\n",
    "ax1.imshow(source, cmap=plt.cm.gray)\n",
    "ax1.set_title('Source')\n",
    "ax2.imshow(template, cmap=plt.cm.gray)\n",
    "ax2.set_title('template')\n",
    "ax3.imshow(matched, cmap=plt.cm.gray)\n",
    "ax3.set_title('Matched')\n",
    "\n",
    "ax4.plot(x1, y1 * 100, '-r', lw=3, label='Source')\n",
    "ax4.plot(x2, y2 * 100, '-k', lw=3, label='Template')\n",
    "ax4.plot(x3, y3 * 100, '--r', lw=3, label='Matched')\n",
    "ax4.set_xlim(x1[0], x1[-1])\n",
    "ax4.set_xlabel('Pixel value')\n",
    "ax4.set_ylabel('Cumulative %')"
   ]
  },
  {
   "cell_type": "code",
   "execution_count": 17,
   "id": "0ce9b0b4",
   "metadata": {},
   "outputs": [
    {
     "ename": "NameError",
     "evalue": "name 'ax4' is not defined",
     "output_type": "error",
     "traceback": [
      "\u001b[1;31m---------------------------------------------------------------------------\u001b[0m",
      "\u001b[1;31mNameError\u001b[0m                                 Traceback (most recent call last)",
      "Input \u001b[1;32mIn [17]\u001b[0m, in \u001b[0;36m<cell line: 1>\u001b[1;34m()\u001b[0m\n\u001b[1;32m----> 1\u001b[0m \u001b[43max4\u001b[49m\u001b[38;5;241m.\u001b[39mlegend(loc\u001b[38;5;241m=\u001b[39m\u001b[38;5;241m5\u001b[39m)\n\u001b[0;32m      2\u001b[0m     \u001b[38;5;66;03m# he counts and normalize by the number of pixels to\u001b[39;00m\n\u001b[0;32m      3\u001b[0m     \u001b[38;5;66;03m# get the empirical cumulative distribution functions for the source and\u001b[39;00m\n\u001b[0;32m      4\u001b[0m     \u001b[38;5;66;03m# template images (maps pixel value --> quantile)\u001b[39;00m\n\u001b[0;32m      5\u001b[0m s_quantiles \u001b[38;5;241m=\u001b[39m np\u001b[38;5;241m.\u001b[39mcumsum(s_counts)\u001b[38;5;241m.\u001b[39mastype(np\u001b[38;5;241m.\u001b[39mfloat64)\n",
      "\u001b[1;31mNameError\u001b[0m: name 'ax4' is not defined"
     ]
    }
   ],
   "source": [
    "ax4.legend(loc=5)\n",
    "    # he counts and normalize by the number of pixels to\n",
    "    # get the empirical cumulative distribution functions for the source and\n",
    "    # template images (maps pixel value --> quantile)\n",
    "    s_quantiles = np.cumsum(s_counts).astype(np.float64)\n",
    "    s_quantiles /= s_quantiles[-1]\n",
    "    t_quantiles = np.cumsum(t_counts).astype(np.float64)\n",
    "    t_quantiles /= t_quantiles[-1]\n",
    "\n",
    "    # interpolate linearly to find the pixel values in the template image\n",
    "    # that correspond most closely to the quantiles in the source image\n",
    "    interp_t_values = np.interp(s_quantiles, t_quantiles, t_values)\n",
    "\n",
    "    return interp_t_values[bin_idx].reshape(oldshape)"
   ]
  },
  {
   "cell_type": "code",
   "execution_count": 19,
   "id": "164a9b3c",
   "metadata": {},
   "outputs": [],
   "source": [
    "# https://everyday-image-processing.tistory.com/136\n",
    "# \n",
    "# "
   ]
  },
  {
   "cell_type": "code",
   "execution_count": null,
   "id": "f0090e3d",
   "metadata": {},
   "outputs": [],
   "source": []
  },
  {
   "cell_type": "code",
   "execution_count": 20,
   "id": "d96b7a1a",
   "metadata": {},
   "outputs": [],
   "source": [
    "# 히스토그램 - 명세화\n",
    "# https://marisara.tistory.com/entry/%ED%8C%8C%EC%9D%B4%EC%8D%AC-openCV-8-%ED%9E%88%EC%8A%A4%ED%86%A0%EA%B7%B8%EB%9E%A8-%EB%AA%85%EC%84%B8%ED%99%94histogram-specification"
   ]
  },
  {
   "cell_type": "code",
   "execution_count": null,
   "id": "fe7654f8",
   "metadata": {},
   "outputs": [],
   "source": []
  }
 ],
 "metadata": {
  "kernelspec": {
   "display_name": "Python 3 (ipykernel)",
   "language": "python",
   "name": "python3"
  },
  "language_info": {
   "codemirror_mode": {
    "name": "ipython",
    "version": 3
   },
   "file_extension": ".py",
   "mimetype": "text/x-python",
   "name": "python",
   "nbconvert_exporter": "python",
   "pygments_lexer": "ipython3",
   "version": "3.9.12"
  }
 },
 "nbformat": 4,
 "nbformat_minor": 5
}
