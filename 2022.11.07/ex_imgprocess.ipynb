{
 "cells": [
  {
   "cell_type": "code",
   "execution_count": 1,
   "id": "d5296bd6",
   "metadata": {},
   "outputs": [],
   "source": [
    "# https://m.blog.naver.com/codinglab9807/222711897434"
   ]
  },
  {
   "cell_type": "code",
   "execution_count": 2,
   "id": "c552b1a5",
   "metadata": {},
   "outputs": [],
   "source": [
    "import cv2\n",
    "import numpy as np\n",
    "import matplotlib.pyplot as plt"
   ]
  },
  {
   "cell_type": "code",
   "execution_count": 3,
   "id": "f5b4ec0a",
   "metadata": {},
   "outputs": [],
   "source": [
    "imgs = []\n",
    "imgs.append(cv2.imread(\"./lena.jpg\"))\n",
    "imgs.append(cv2.imread(\"./lena.jpg\"))"
   ]
  },
  {
   "cell_type": "code",
   "execution_count": 4,
   "id": "c70c41c1",
   "metadata": {},
   "outputs": [],
   "source": [
    "hists = []\n",
    "for img in imgs:\n",
    "    hsv = cv2.cvtColor(img, cv2.COLOR_BGR2HSV)\n",
    "    hist = cv2.calcHist([hsv], [0, 1], None, [180, 256], [0, 180, 0, 256])\n",
    "    cv2.normalize(hist, hist, 0, 1, cv2.NORM_MINMAX)\n",
    "    hists.append(hist)"
   ]
  },
  {
   "cell_type": "code",
   "execution_count": 5,
   "id": "046435d3",
   "metadata": {},
   "outputs": [],
   "source": [
    "query = hists[0]"
   ]
  },
  {
   "cell_type": "code",
   "execution_count": 6,
   "id": "4b153433",
   "metadata": {},
   "outputs": [],
   "source": [
    "methods = ['CORREL', 'CHISQR', 'INTERSECT', 'BHATTACHARYYA', 'EMD']"
   ]
  },
  {
   "cell_type": "code",
   "execution_count": 7,
   "id": "902f75dc",
   "metadata": {},
   "outputs": [
    {
     "name": "stdout",
     "output_type": "stream",
     "text": [
      "CORREL    \tCHISQR    \tINTERSECT \tBHATTACHARYYA\tEMD       \t"
     ]
    }
   ],
   "source": [
    "for index, name in enumerate(methods):\n",
    "    print('%-10s' % name, end = '\\t')"
   ]
  },
  {
   "cell_type": "code",
   "execution_count": 8,
   "id": "2ea24ce0",
   "metadata": {},
   "outputs": [
    {
     "name": "stdout",
     "output_type": "stream",
     "text": [
      "img1 :    0.00\timg2 :    0.00\t"
     ]
    }
   ],
   "source": [
    "for i, histogram in enumerate(hists):\n",
    "    ret = cv2.compareHist(query, histogram, index)\n",
    "    \n",
    "    if index == cv2.HISTCMP_INTERSECT:\n",
    "        ret = ret/np.sum(query)\n",
    "        \n",
    "    print(\"img%d : %7.2f\"% (i+1, ret), end='\\t')"
   ]
  },
  {
   "cell_type": "code",
   "execution_count": null,
   "id": "ee816db6",
   "metadata": {},
   "outputs": [],
   "source": []
  }
 ],
 "metadata": {
  "kernelspec": {
   "display_name": "Python 3 (ipykernel)",
   "language": "python",
   "name": "python3"
  },
  "language_info": {
   "codemirror_mode": {
    "name": "ipython",
    "version": 3
   },
   "file_extension": ".py",
   "mimetype": "text/x-python",
   "name": "python",
   "nbconvert_exporter": "python",
   "pygments_lexer": "ipython3",
   "version": "3.9.12"
  }
 },
 "nbformat": 4,
 "nbformat_minor": 5
}
