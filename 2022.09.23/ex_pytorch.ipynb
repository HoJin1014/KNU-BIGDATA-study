{
 "cells": [
  {
   "cell_type": "markdown",
   "id": "742458ef",
   "metadata": {},
   "source": [
    "# Pytorch\n",
    "---"
   ]
  },
  {
   "cell_type": "markdown",
   "id": "76283619",
   "metadata": {},
   "source": [
    "## [1] Tensor 생성\n",
    "---"
   ]
  },
  {
   "cell_type": "code",
   "execution_count": 1,
   "id": "840efe72",
   "metadata": {},
   "outputs": [],
   "source": [
    "import torch"
   ]
  },
  {
   "cell_type": "code",
   "execution_count": 2,
   "id": "d8116e59",
   "metadata": {},
   "outputs": [
    {
     "data": {
      "text/plain": [
       "'1.12.1'"
      ]
     },
     "execution_count": 2,
     "metadata": {},
     "output_type": "execute_result"
    }
   ],
   "source": [
    "torch.__version__"
   ]
  },
  {
   "cell_type": "code",
   "execution_count": 3,
   "id": "ebb33d9d",
   "metadata": {},
   "outputs": [],
   "source": [
    "## [기본] tensor(data)\n",
    "t1=torch.tensor([1,2,3], dtype=torch.int32)"
   ]
  },
  {
   "cell_type": "code",
   "execution_count": 4,
   "id": "4d5b6c0d",
   "metadata": {},
   "outputs": [
    {
     "data": {
      "text/plain": [
       "(torch.Tensor, torch.Size([3]), torch.int32, device(type='cpu'))"
      ]
     },
     "execution_count": 4,
     "metadata": {},
     "output_type": "execute_result"
    }
   ],
   "source": [
    "type(t1), t1.shape, t1.dtype, t1.device"
   ]
  },
  {
   "cell_type": "code",
   "execution_count": 5,
   "id": "47e46f12",
   "metadata": {},
   "outputs": [],
   "source": [
    "t2=torch.tensor([1.,2,3])"
   ]
  },
  {
   "cell_type": "code",
   "execution_count": 6,
   "id": "37f4c7a6",
   "metadata": {},
   "outputs": [
    {
     "data": {
      "text/plain": [
       "(torch.Tensor, torch.Size([3]), torch.float32, device(type='cpu'), 1)"
      ]
     },
     "execution_count": 6,
     "metadata": {},
     "output_type": "execute_result"
    }
   ],
   "source": [
    "type(t2), t2.shape, t2.dtype, t2.device, t2.ndim"
   ]
  },
  {
   "cell_type": "code",
   "execution_count": 7,
   "id": "edced7cd",
   "metadata": {},
   "outputs": [],
   "source": [
    "t3=torch.tensor([[1.,2,3], [1,2,2]])"
   ]
  },
  {
   "cell_type": "code",
   "execution_count": 8,
   "id": "33a462bb",
   "metadata": {},
   "outputs": [
    {
     "data": {
      "text/plain": [
       "(torch.Tensor, torch.Size([2, 3]), torch.float32, device(type='cpu'), 2)"
      ]
     },
     "execution_count": 8,
     "metadata": {},
     "output_type": "execute_result"
    }
   ],
   "source": [
    "type(t3), t3.shape, t3.dtype, t3.device, t3.ndim"
   ]
  },
  {
   "cell_type": "code",
   "execution_count": 12,
   "id": "a05cd38a",
   "metadata": {},
   "outputs": [],
   "source": [
    "t4=torch.ones(size=(10,3))\n",
    "t4"
   ]
  },
  {
   "cell_type": "code",
   "execution_count": 15,
   "id": "5f8a522c",
   "metadata": {},
   "outputs": [
    {
     "data": {
      "text/plain": [
       "tensor([[1., 1., 1.],\n",
       "        [1., 1., 1.]])"
      ]
     },
     "execution_count": 15,
     "metadata": {},
     "output_type": "execute_result"
    }
   ],
   "source": [
    "t4=torch.ones_like(t3)\n",
    "t4"
   ]
  },
  {
   "cell_type": "code",
   "execution_count": 16,
   "id": "e2ec95be",
   "metadata": {},
   "outputs": [
    {
     "data": {
      "text/plain": [
       "tensor([[0., 0., 0.],\n",
       "        [0., 0., 0.]])"
      ]
     },
     "execution_count": 16,
     "metadata": {},
     "output_type": "execute_result"
    }
   ],
   "source": [
    "torch.zeros_like(t3)"
   ]
  },
  {
   "cell_type": "code",
   "execution_count": 14,
   "id": "592fa6c2",
   "metadata": {},
   "outputs": [
    {
     "data": {
      "text/plain": [
       "tensor([[0., 0., 0.],\n",
       "        [0., 0., 0.],\n",
       "        [0., 0., 0.],\n",
       "        [0., 0., 0.],\n",
       "        [0., 0., 0.],\n",
       "        [0., 0., 0.],\n",
       "        [0., 0., 0.],\n",
       "        [0., 0., 0.],\n",
       "        [0., 0., 0.],\n",
       "        [0., 0., 0.]])"
      ]
     },
     "execution_count": 14,
     "metadata": {},
     "output_type": "execute_result"
    }
   ],
   "source": [
    "t5=torch.zeros(size=(10,3))\n",
    "t5"
   ]
  },
  {
   "cell_type": "code",
   "execution_count": 18,
   "id": "1f1bc14c",
   "metadata": {},
   "outputs": [
    {
     "data": {
      "text/plain": [
       "tensor([[3.6877e-04, 8.9095e-01, 7.9487e-01],\n",
       "        [5.8447e-01, 3.4968e-01, 1.4174e-01]])"
      ]
     },
     "execution_count": 18,
     "metadata": {},
     "output_type": "execute_result"
    }
   ],
   "source": [
    "torch.rand_like(t3)"
   ]
  },
  {
   "cell_type": "code",
   "execution_count": 19,
   "id": "723a4383",
   "metadata": {},
   "outputs": [
    {
     "data": {
      "text/plain": [
       "(2, torch.Size([2, 3]))"
      ]
     },
     "execution_count": 19,
     "metadata": {},
     "output_type": "execute_result"
    }
   ],
   "source": [
    "t3.ndim, t3.shape"
   ]
  },
  {
   "cell_type": "code",
   "execution_count": 20,
   "id": "6377f838",
   "metadata": {},
   "outputs": [
    {
     "data": {
      "text/plain": [
       "tensor([1., 2., 3.])"
      ]
     },
     "execution_count": 20,
     "metadata": {},
     "output_type": "execute_result"
    }
   ],
   "source": [
    "# 행 => [행인덱스]\n",
    "t3[0]"
   ]
  },
  {
   "cell_type": "code",
   "execution_count": 21,
   "id": "097efe2c",
   "metadata": {},
   "outputs": [
    {
     "data": {
      "text/plain": [
       "tensor([1., 2., 2.])"
      ]
     },
     "execution_count": 21,
     "metadata": {},
     "output_type": "execute_result"
    }
   ],
   "source": [
    "t3[1]"
   ]
  },
  {
   "cell_type": "code",
   "execution_count": 23,
   "id": "585ff221",
   "metadata": {},
   "outputs": [
    {
     "data": {
      "text/plain": [
       "(tensor([1., 1.]), tensor(1.))"
      ]
     },
     "execution_count": 23,
     "metadata": {},
     "output_type": "execute_result"
    }
   ],
   "source": [
    "# 열(column) => [행, 열]\n",
    "t3[:, 0], t3[0,0]"
   ]
  },
  {
   "cell_type": "code",
   "execution_count": 24,
   "id": "b9bd3aa3",
   "metadata": {},
   "outputs": [
    {
     "data": {
      "text/plain": [
       "tensor(11.)"
      ]
     },
     "execution_count": 24,
     "metadata": {},
     "output_type": "execute_result"
    }
   ],
   "source": [
    "t3.sum()"
   ]
  },
  {
   "cell_type": "code",
   "execution_count": 25,
   "id": "3a70433d",
   "metadata": {},
   "outputs": [
    {
     "data": {
      "text/plain": [
       "tensor(1.8333)"
      ]
     },
     "execution_count": 25,
     "metadata": {},
     "output_type": "execute_result"
    }
   ],
   "source": [
    "t3.mean()"
   ]
  },
  {
   "cell_type": "code",
   "execution_count": 26,
   "id": "5fe21264",
   "metadata": {},
   "outputs": [
    {
     "data": {
      "text/plain": [
       "tensor(3.)"
      ]
     },
     "execution_count": 26,
     "metadata": {},
     "output_type": "execute_result"
    }
   ],
   "source": [
    "t3.max()"
   ]
  },
  {
   "cell_type": "code",
   "execution_count": null,
   "id": "cbf4816d",
   "metadata": {},
   "outputs": [],
   "source": []
  },
  {
   "cell_type": "code",
   "execution_count": null,
   "id": "129e96e4",
   "metadata": {},
   "outputs": [],
   "source": []
  },
  {
   "cell_type": "code",
   "execution_count": null,
   "id": "25af675a",
   "metadata": {},
   "outputs": [],
   "source": []
  },
  {
   "cell_type": "code",
   "execution_count": null,
   "id": "290316c9",
   "metadata": {},
   "outputs": [],
   "source": []
  },
  {
   "cell_type": "code",
   "execution_count": 27,
   "id": "ba33c87b",
   "metadata": {},
   "outputs": [
    {
     "data": {
      "text/plain": [
       "False"
      ]
     },
     "execution_count": 27,
     "metadata": {},
     "output_type": "execute_result"
    }
   ],
   "source": [
    "torch.cuda.is_available()"
   ]
  },
  {
   "cell_type": "code",
   "execution_count": null,
   "id": "5ac1e332",
   "metadata": {},
   "outputs": [],
   "source": []
  },
  {
   "cell_type": "code",
   "execution_count": 29,
   "id": "dcbd37e1",
   "metadata": {},
   "outputs": [],
   "source": [
    "## 파이토치로 구현한 퍼셉트론 (p.63)\n",
    "\n",
    "import torch\n",
    "import torch.nn as nn\n",
    "\n",
    "class Perceptron(nn.Module):\n",
    "    def __init__(self, input_dim):\n",
    "        super(Perceptron, self).__init__()\n",
    "        self.fc1 = nn.Linear(input_dim, 1)\n",
    "        \n",
    "    def forward(self, x_in):\n",
    "        return torch.sigmoid(self.fc1(x_in)).squeeze()"
   ]
  },
  {
   "cell_type": "code",
   "execution_count": null,
   "id": "323b0bc2",
   "metadata": {},
   "outputs": [],
   "source": []
  },
  {
   "cell_type": "code",
   "execution_count": null,
   "id": "24784e11",
   "metadata": {},
   "outputs": [],
   "source": []
  },
  {
   "cell_type": "code",
   "execution_count": null,
   "id": "d7b2f446",
   "metadata": {},
   "outputs": [],
   "source": []
  }
 ],
 "metadata": {
  "kernelspec": {
   "display_name": "Python 3 (ipykernel)",
   "language": "python",
   "name": "python3"
  },
  "language_info": {
   "codemirror_mode": {
    "name": "ipython",
    "version": 3
   },
   "file_extension": ".py",
   "mimetype": "text/x-python",
   "name": "python",
   "nbconvert_exporter": "python",
   "pygments_lexer": "ipython3",
   "version": "3.9.12"
  }
 },
 "nbformat": 4,
 "nbformat_minor": 5
}
