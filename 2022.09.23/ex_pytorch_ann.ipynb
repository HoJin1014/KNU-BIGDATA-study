{
 "cells": [
  {
   "cell_type": "markdown",
   "id": "033f5722",
   "metadata": {},
   "source": [
    "## Pytorch Neural Network\n",
    "---"
   ]
  },
  {
   "cell_type": "code",
   "execution_count": 2,
   "id": "511780b4",
   "metadata": {},
   "outputs": [],
   "source": [
    "import os\n",
    "import torch\n",
    "from torch import nn                          # 신경망모듈\n",
    "from torch.utils.data import DataLoader       # 데이터 로딩 관련 모듈\n",
    "from torchvision import datasets, transforms  # torch저장소 데이터 셋 모듈"
   ]
  },
  {
   "cell_type": "markdown",
   "id": "937e8791",
   "metadata": {},
   "source": [
    "### [1] 데이터 준비\n",
    "---"
   ]
  },
  {
   "cell_type": "code",
   "execution_count": 3,
   "id": "70e31586",
   "metadata": {},
   "outputs": [
    {
     "name": "stdout",
     "output_type": "stream",
     "text": [
      "Using cpu device\n"
     ]
    }
   ],
   "source": [
    "## Tensor의 저장소 설정을 위한 체크\n",
    "device = \"cuda\" if torch.cuda.is_available() else \"cpu\"\n",
    "print(f\"Using {device} device\")"
   ]
  },
  {
   "cell_type": "code",
   "execution_count": 45,
   "id": "520dd266",
   "metadata": {},
   "outputs": [],
   "source": [
    "t1=torch.tensor([1,2,3])"
   ]
  },
  {
   "cell_type": "code",
   "execution_count": 48,
   "id": "120314a4",
   "metadata": {},
   "outputs": [
    {
     "data": {
      "text/plain": [
       "tensor([11, 12, 13])"
      ]
     },
     "execution_count": 48,
     "metadata": {},
     "output_type": "execute_result"
    }
   ],
   "source": [
    "t1.add_(10)"
   ]
  },
  {
   "cell_type": "code",
   "execution_count": 52,
   "id": "e819de10",
   "metadata": {
    "scrolled": false
   },
   "outputs": [
    {
     "data": {
      "text/html": [
       "<div>\n",
       "<style scoped>\n",
       "    .dataframe tbody tr th:only-of-type {\n",
       "        vertical-align: middle;\n",
       "    }\n",
       "\n",
       "    .dataframe tbody tr th {\n",
       "        vertical-align: top;\n",
       "    }\n",
       "\n",
       "    .dataframe thead th {\n",
       "        text-align: right;\n",
       "    }\n",
       "</style>\n",
       "<table border=\"1\" class=\"dataframe\">\n",
       "  <thead>\n",
       "    <tr style=\"text-align: right;\">\n",
       "      <th></th>\n",
       "      <th>0</th>\n",
       "      <th>1</th>\n",
       "      <th>2</th>\n",
       "    </tr>\n",
       "  </thead>\n",
       "  <tbody>\n",
       "    <tr>\n",
       "      <th>0</th>\n",
       "      <td>1</td>\n",
       "      <td>1</td>\n",
       "      <td>1</td>\n",
       "    </tr>\n",
       "    <tr>\n",
       "      <th>1</th>\n",
       "      <td>2</td>\n",
       "      <td>2</td>\n",
       "      <td>2</td>\n",
       "    </tr>\n",
       "  </tbody>\n",
       "</table>\n",
       "</div>"
      ],
      "text/plain": [
       "   0  1  2\n",
       "0  1  1  1\n",
       "1  2  2  2"
      ]
     },
     "execution_count": 52,
     "metadata": {},
     "output_type": "execute_result"
    }
   ],
   "source": [
    "import pandas as pd\n",
    "\n",
    "df=pd.DataFrame([[1,1,1],[2,2,2]])\n",
    "df"
   ]
  },
  {
   "cell_type": "code",
   "execution_count": 54,
   "id": "aa191d62",
   "metadata": {
    "scrolled": true
   },
   "outputs": [
    {
     "data": {
      "text/html": [
       "<div>\n",
       "<style scoped>\n",
       "    .dataframe tbody tr th:only-of-type {\n",
       "        vertical-align: middle;\n",
       "    }\n",
       "\n",
       "    .dataframe tbody tr th {\n",
       "        vertical-align: top;\n",
       "    }\n",
       "\n",
       "    .dataframe thead th {\n",
       "        text-align: right;\n",
       "    }\n",
       "</style>\n",
       "<table border=\"1\" class=\"dataframe\">\n",
       "  <thead>\n",
       "    <tr style=\"text-align: right;\">\n",
       "      <th></th>\n",
       "      <th>0</th>\n",
       "      <th>1</th>\n",
       "      <th>2</th>\n",
       "    </tr>\n",
       "  </thead>\n",
       "  <tbody>\n",
       "    <tr>\n",
       "      <th>1</th>\n",
       "      <td>2</td>\n",
       "      <td>2</td>\n",
       "      <td>2</td>\n",
       "    </tr>\n",
       "  </tbody>\n",
       "</table>\n",
       "</div>"
      ],
      "text/plain": [
       "   0  1  2\n",
       "1  2  2  2"
      ]
     },
     "execution_count": 54,
     "metadata": {},
     "output_type": "execute_result"
    }
   ],
   "source": [
    "df.drop(0, axis=0)"
   ]
  },
  {
   "cell_type": "code",
   "execution_count": 56,
   "id": "48b31e8b",
   "metadata": {},
   "outputs": [
    {
     "data": {
      "text/html": [
       "<div>\n",
       "<style scoped>\n",
       "    .dataframe tbody tr th:only-of-type {\n",
       "        vertical-align: middle;\n",
       "    }\n",
       "\n",
       "    .dataframe tbody tr th {\n",
       "        vertical-align: top;\n",
       "    }\n",
       "\n",
       "    .dataframe thead th {\n",
       "        text-align: right;\n",
       "    }\n",
       "</style>\n",
       "<table border=\"1\" class=\"dataframe\">\n",
       "  <thead>\n",
       "    <tr style=\"text-align: right;\">\n",
       "      <th></th>\n",
       "      <th>0</th>\n",
       "      <th>1</th>\n",
       "      <th>2</th>\n",
       "    </tr>\n",
       "  </thead>\n",
       "  <tbody>\n",
       "    <tr>\n",
       "      <th>0</th>\n",
       "      <td>1</td>\n",
       "      <td>1</td>\n",
       "      <td>1</td>\n",
       "    </tr>\n",
       "    <tr>\n",
       "      <th>1</th>\n",
       "      <td>2</td>\n",
       "      <td>2</td>\n",
       "      <td>2</td>\n",
       "    </tr>\n",
       "  </tbody>\n",
       "</table>\n",
       "</div>"
      ],
      "text/plain": [
       "   0  1  2\n",
       "0  1  1  1\n",
       "1  2  2  2"
      ]
     },
     "execution_count": 56,
     "metadata": {},
     "output_type": "execute_result"
    }
   ],
   "source": [
    "df"
   ]
  },
  {
   "cell_type": "code",
   "execution_count": 57,
   "id": "109cfbf0",
   "metadata": {
    "scrolled": true
   },
   "outputs": [
    {
     "data": {
      "text/plain": [
       "0    3\n",
       "1    3\n",
       "2    3\n",
       "dtype: int64"
      ]
     },
     "execution_count": 57,
     "metadata": {},
     "output_type": "execute_result"
    }
   ],
   "source": [
    "df.sum(axis=0)"
   ]
  },
  {
   "cell_type": "code",
   "execution_count": 58,
   "id": "85542112",
   "metadata": {},
   "outputs": [
    {
     "data": {
      "text/plain": [
       "0    3\n",
       "1    6\n",
       "dtype: int64"
      ]
     },
     "execution_count": 58,
     "metadata": {},
     "output_type": "execute_result"
    }
   ],
   "source": [
    "df.sum(axis=1)"
   ]
  },
  {
   "cell_type": "code",
   "execution_count": 53,
   "id": "1e5e675c",
   "metadata": {
    "scrolled": true
   },
   "outputs": [],
   "source": [
    "t1.scatter_()"
   ]
  },
  {
   "cell_type": "markdown",
   "id": "c25fc4a5",
   "metadata": {},
   "source": [
    "### NN 모델 생성\n",
    "---"
   ]
  },
  {
   "cell_type": "code",
   "execution_count": 4,
   "id": "24562751",
   "metadata": {},
   "outputs": [],
   "source": [
    "# 순차적인 Layer 구성 => Sequential, Layer...\n",
    "class NeuralNetwork(nn.Module):\n",
    "    \n",
    "    # 생성자 메서드, NeuralNetwork() 객체 생성 시 실행 (상속)\n",
    "    def __init__(self):\n",
    "        super(NeuralNetwork, self).__init__()\n",
    "        \n",
    "        self.flatten = nn.Flatten()\n",
    "        \n",
    "        self.linear_relu_stack = nn.Sequential(\n",
    "            # 입력층 (input_dim, output_dim)\n",
    "            nn.Linear(28*28, 512),\n",
    "            nn.ReLU(),\n",
    "            \n",
    "            # 은닉층 (input_dim, output_dim)\n",
    "            nn.Linear(512, 512),\n",
    "            nn.ReLU(),\n",
    "            \n",
    "            # 출력층 (input_dim, output_dim)\n",
    "            nn.Linear(512, 10),\n",
    "        )\n",
    "\n",
    "    # NN 모델이 동작을 시작할 때 실행\n",
    "    def forward(self, x):\n",
    "        # 1차원으로 데이터 변환\n",
    "        x = self.flatten(x)\n",
    "        \n",
    "        # NN모델에 입력 데이터 전달\n",
    "        logits = self.linear_relu_stack(x)\n",
    "        return logits"
   ]
  },
  {
   "cell_type": "code",
   "execution_count": 6,
   "id": "902bdd14",
   "metadata": {},
   "outputs": [],
   "source": [
    "# NN모델 생성\n",
    "mnistM=NeuralNetwork().to(device)"
   ]
  },
  {
   "cell_type": "code",
   "execution_count": 8,
   "id": "1e0b82eb",
   "metadata": {},
   "outputs": [
    {
     "name": "stdout",
     "output_type": "stream",
     "text": [
      "NeuralNetwork(\n",
      "  (flatten): Flatten(start_dim=1, end_dim=-1)\n",
      "  (linear_relu_stack): Sequential(\n",
      "    (0): Linear(in_features=784, out_features=512, bias=True)\n",
      "    (1): ReLU()\n",
      "    (2): Linear(in_features=512, out_features=512, bias=True)\n",
      "    (3): ReLU()\n",
      "    (4): Linear(in_features=512, out_features=10, bias=True)\n",
      "  )\n",
      ")\n"
     ]
    }
   ],
   "source": [
    "print(mnistM)"
   ]
  },
  {
   "cell_type": "code",
   "execution_count": 31,
   "id": "2fc7cb2f",
   "metadata": {},
   "outputs": [
    {
     "name": "stdout",
     "output_type": "stream",
     "text": [
      "X => tensor([[[0.3017, 0.8909, 0.4489, 0.4192, 0.1233, 0.4669, 0.8885, 0.5276,\n",
      "          0.2947, 0.6977, 0.0203, 0.7300, 0.5554, 0.1313, 0.4935, 0.3202,\n",
      "          0.9425, 0.5040, 0.1471, 0.9449, 0.8812, 0.0764, 0.8920, 0.8552,\n",
      "          0.5442, 0.4440, 0.2035, 0.3555],\n",
      "         [0.3283, 0.0976, 0.9505, 0.6044, 0.2612, 0.0989, 0.4806, 0.2488,\n",
      "          0.0679, 0.5236, 0.2860, 0.9682, 0.8617, 0.9717, 0.5420, 0.0803,\n",
      "          0.0850, 0.6198, 0.5326, 0.2650, 0.9647, 0.1505, 0.3944, 0.5859,\n",
      "          0.4659, 0.9760, 0.1968, 0.0039],\n",
      "         [0.6483, 0.7058, 0.2679, 0.3106, 0.7917, 0.4381, 0.1620, 0.9774,\n",
      "          0.8498, 0.4014, 0.0708, 0.0467, 0.0866, 0.2377, 0.3834, 0.6222,\n",
      "          0.8808, 0.0093, 0.4516, 0.6011, 0.6446, 0.3990, 0.6578, 0.5444,\n",
      "          0.1700, 0.3246, 0.4393, 0.8792],\n",
      "         [0.8292, 0.3050, 0.9541, 0.5019, 0.9013, 0.0285, 0.4887, 0.9909,\n",
      "          0.6944, 0.7377, 0.5217, 0.2220, 0.4946, 0.4233, 0.0470, 0.0971,\n",
      "          0.4838, 0.9022, 0.1961, 0.5105, 0.8323, 0.4545, 0.7731, 0.7467,\n",
      "          0.8497, 0.0074, 0.5128, 0.7182],\n",
      "         [0.3851, 0.4173, 0.2300, 0.7211, 0.7086, 0.5512, 0.9810, 0.8595,\n",
      "          0.0905, 0.8163, 0.7821, 0.3101, 0.3024, 0.6433, 0.2647, 0.3966,\n",
      "          0.6828, 0.0918, 0.3090, 0.7284, 0.2079, 0.5824, 0.7799, 0.2281,\n",
      "          0.1308, 0.4678, 0.0270, 0.9649],\n",
      "         [0.9728, 0.2974, 0.3720, 0.4935, 0.0231, 0.1091, 0.9003, 0.1699,\n",
      "          0.6191, 0.0179, 0.7858, 0.9651, 0.6081, 0.1304, 0.6229, 0.8130,\n",
      "          0.7723, 0.5758, 0.9830, 0.0269, 0.1144, 0.6725, 0.1155, 0.4347,\n",
      "          0.8426, 0.5627, 0.0102, 0.8143],\n",
      "         [0.0481, 0.0293, 0.1498, 0.9589, 0.5967, 0.6666, 0.1593, 0.1955,\n",
      "          0.7979, 0.7618, 0.1523, 0.7529, 0.6313, 0.2463, 0.8751, 0.3918,\n",
      "          0.5177, 0.2111, 0.9434, 0.8912, 0.1256, 0.7966, 0.0038, 0.5886,\n",
      "          0.9024, 0.8711, 0.9178, 0.7195],\n",
      "         [0.1844, 0.7201, 0.1507, 0.1189, 0.9355, 0.9930, 0.8750, 0.5358,\n",
      "          0.2702, 0.8393, 0.1109, 0.2450, 0.9417, 0.2389, 0.6738, 0.5602,\n",
      "          0.0487, 0.5689, 0.5409, 0.6007, 0.0682, 0.3407, 0.0424, 0.3083,\n",
      "          0.1415, 0.4931, 0.6233, 0.2276],\n",
      "         [0.7919, 0.2314, 0.4781, 0.1993, 0.0825, 0.3370, 0.0092, 0.4116,\n",
      "          0.0655, 0.7783, 0.2740, 0.7703, 0.1437, 0.1454, 0.8062, 0.2232,\n",
      "          0.9419, 0.4632, 0.1741, 0.0483, 0.0424, 0.4965, 0.1915, 0.8833,\n",
      "          0.7403, 0.3613, 0.9790, 0.8034],\n",
      "         [0.4735, 0.2636, 0.7867, 0.9530, 0.2347, 0.4810, 0.7005, 0.0975,\n",
      "          0.2074, 0.9884, 0.4742, 0.2236, 0.4877, 0.3256, 0.9045, 0.7270,\n",
      "          0.5411, 0.8259, 0.1520, 0.2545, 0.1381, 0.2580, 0.2769, 0.9966,\n",
      "          0.2248, 0.4929, 0.0346, 0.7798],\n",
      "         [0.1929, 0.2335, 0.6970, 0.3635, 0.6603, 0.6014, 0.6586, 0.8092,\n",
      "          0.3172, 0.0959, 0.0021, 0.3799, 0.8824, 0.9771, 0.0438, 0.3149,\n",
      "          0.8496, 0.2859, 0.1488, 0.6600, 0.8831, 0.5404, 0.0793, 0.1359,\n",
      "          0.7149, 0.7276, 0.1212, 0.5517],\n",
      "         [0.1234, 0.8551, 0.3185, 0.9080, 0.3405, 0.3491, 0.8996, 0.3847,\n",
      "          0.0961, 0.4001, 0.4742, 0.3438, 0.4253, 0.3144, 0.8393, 0.1702,\n",
      "          0.3015, 0.8997, 0.2187, 0.8946, 0.2851, 0.0336, 0.5771, 0.7682,\n",
      "          0.0909, 0.0256, 0.0860, 0.7326],\n",
      "         [0.3727, 0.6741, 0.0766, 0.1144, 0.4436, 0.1143, 0.2721, 0.3731,\n",
      "          0.4359, 0.5539, 0.8896, 0.7593, 0.0452, 0.6272, 0.7038, 0.6764,\n",
      "          0.5966, 0.7120, 0.0627, 0.1773, 0.0601, 0.1836, 0.1931, 0.7437,\n",
      "          0.3695, 0.5155, 0.3506, 0.8602],\n",
      "         [0.4546, 0.7043, 0.7976, 0.9474, 0.6420, 0.4168, 0.9871, 0.1265,\n",
      "          0.2697, 0.1648, 0.5618, 0.7969, 0.5814, 0.3533, 0.1886, 0.2760,\n",
      "          0.9408, 0.8942, 0.5270, 0.7962, 0.1770, 0.2125, 0.1838, 0.6441,\n",
      "          0.6256, 0.5982, 0.3836, 0.3466],\n",
      "         [0.9226, 0.9033, 0.4087, 0.4088, 0.1478, 0.6936, 0.8269, 0.8168,\n",
      "          0.6557, 0.0683, 0.8606, 0.2152, 0.9786, 0.4594, 0.3682, 0.4862,\n",
      "          0.8309, 0.5846, 0.4542, 0.4716, 0.2431, 0.9459, 0.6724, 0.4961,\n",
      "          0.1005, 0.1276, 0.3365, 0.7464],\n",
      "         [0.7247, 0.8827, 0.0320, 0.8833, 0.5406, 0.2243, 0.1657, 0.0477,\n",
      "          0.7402, 0.4737, 0.2049, 0.4148, 0.0478, 0.4718, 0.9976, 0.7238,\n",
      "          0.6721, 0.6419, 0.4163, 0.7794, 0.3052, 0.1968, 0.5404, 0.9886,\n",
      "          0.0154, 0.2379, 0.6393, 0.0221],\n",
      "         [0.3178, 0.4648, 0.7227, 0.2968, 0.1874, 0.3073, 0.6621, 0.6739,\n",
      "          0.4838, 0.9307, 0.7579, 0.2083, 0.0728, 0.6300, 0.4037, 0.1675,\n",
      "          0.4046, 0.2392, 0.2991, 0.0904, 0.5932, 0.9002, 0.4672, 0.2743,\n",
      "          0.4819, 0.4577, 0.2829, 0.2977],\n",
      "         [0.3381, 0.2397, 0.6365, 0.5513, 0.5251, 0.1999, 0.0443, 0.4885,\n",
      "          0.4802, 0.9604, 0.1415, 0.3824, 0.7365, 0.8053, 0.3846, 0.1500,\n",
      "          0.2683, 0.2566, 0.0200, 0.9134, 0.2743, 0.2460, 0.3101, 0.0484,\n",
      "          0.9239, 0.0534, 0.5290, 0.6983],\n",
      "         [0.2884, 0.6344, 0.5789, 0.4765, 0.8699, 0.6758, 0.0329, 0.0100,\n",
      "          0.8136, 0.2515, 0.5830, 0.6230, 0.1116, 0.8579, 0.0623, 0.4439,\n",
      "          0.8540, 0.8300, 0.7922, 0.4807, 0.4125, 0.3742, 0.4563, 0.9668,\n",
      "          0.4323, 0.9800, 0.5543, 0.5617],\n",
      "         [0.8442, 0.5634, 0.8873, 0.1316, 0.7376, 0.7584, 0.3609, 0.3708,\n",
      "          0.9307, 0.9917, 0.8382, 0.9895, 0.1092, 0.2039, 0.4533, 0.3994,\n",
      "          0.7969, 0.3800, 0.6694, 0.9723, 0.4996, 0.2091, 0.6276, 0.6722,\n",
      "          0.2836, 0.8961, 0.7565, 0.5403],\n",
      "         [0.3775, 0.1581, 0.2279, 0.3282, 0.4853, 0.9276, 0.2005, 0.6697,\n",
      "          0.3074, 0.7750, 0.5545, 0.4462, 0.1883, 0.5897, 0.5370, 0.0619,\n",
      "          0.1713, 0.4683, 0.1330, 0.4089, 0.2300, 0.6494, 0.1263, 0.5634,\n",
      "          0.6255, 0.3948, 0.6476, 0.9038],\n",
      "         [0.4348, 0.5476, 0.0773, 0.6326, 0.3745, 0.2277, 0.7592, 0.9749,\n",
      "          0.7554, 0.6451, 0.8749, 0.5224, 0.7569, 0.3278, 0.2934, 0.2241,\n",
      "          0.8100, 0.1441, 0.7764, 0.1136, 0.3905, 0.9771, 0.6925, 0.7365,\n",
      "          0.2355, 0.1791, 0.7046, 0.3279],\n",
      "         [0.5563, 0.7699, 0.3300, 0.4517, 0.2045, 0.5750, 0.5113, 0.9657,\n",
      "          0.0218, 0.7557, 0.8651, 0.4232, 0.8283, 0.5602, 0.9747, 0.5307,\n",
      "          0.3818, 0.7603, 0.8745, 0.5553, 0.3351, 0.8635, 0.5683, 0.7858,\n",
      "          0.9313, 0.5951, 0.1394, 0.4989],\n",
      "         [0.8728, 0.3761, 0.7467, 0.3520, 0.7832, 0.5424, 0.8577, 0.1373,\n",
      "          0.1943, 0.9135, 0.6720, 0.9888, 0.6200, 0.3472, 0.4497, 0.8072,\n",
      "          0.0064, 0.3366, 0.6398, 0.9259, 0.6112, 0.0245, 0.9532, 0.4852,\n",
      "          0.4953, 0.8529, 0.3555, 0.5046],\n",
      "         [0.6953, 0.3413, 0.2854, 0.7309, 0.2031, 0.0634, 0.5783, 0.8117,\n",
      "          0.9438, 0.3529, 0.6952, 0.4161, 0.0122, 0.1021, 0.1283, 0.9831,\n",
      "          0.5562, 0.9859, 0.2643, 0.9945, 0.5807, 0.6239, 0.2935, 0.3551,\n",
      "          0.3558, 0.3848, 0.1644, 0.2481],\n",
      "         [0.2094, 0.8341, 0.0904, 0.6338, 0.9140, 0.8385, 0.9987, 0.4492,\n",
      "          0.9112, 0.1131, 0.3243, 0.5161, 0.5665, 0.9880, 0.5438, 0.3880,\n",
      "          0.9649, 0.4388, 0.6779, 0.1348, 0.2691, 0.3099, 0.9450, 0.2043,\n",
      "          0.1988, 0.3081, 0.3252, 0.6064],\n",
      "         [0.2527, 0.8830, 0.2410, 0.8284, 0.5995, 0.9679, 0.3304, 0.2495,\n",
      "          0.7046, 0.8686, 0.6467, 0.6078, 0.6187, 0.4459, 0.2112, 0.8890,\n",
      "          0.3840, 0.1979, 0.5804, 0.4158, 0.1536, 0.4255, 0.6123, 0.3364,\n",
      "          0.5925, 0.8267, 0.5613, 0.6151],\n",
      "         [0.3749, 0.5106, 0.9919, 0.3864, 0.4262, 0.3241, 0.9684, 0.1631,\n",
      "          0.4855, 0.2799, 0.1637, 0.8761, 0.9552, 0.4742, 0.8751, 0.0747,\n",
      "          0.6762, 0.0826, 0.0280, 0.7143, 0.0119, 0.8623, 0.2442, 0.2826,\n",
      "          0.4866, 0.4506, 0.2665, 0.3524]]])\n"
     ]
    }
   ],
   "source": [
    "# 데이터 준비\n",
    "X = torch.rand(1, 28, 28, device=device)\n",
    "print(f'X => {X}')"
   ]
  },
  {
   "cell_type": "code",
   "execution_count": 29,
   "id": "4b9be543",
   "metadata": {},
   "outputs": [],
   "source": [
    "inputT=torch.rand(1, 28, 28)"
   ]
  },
  {
   "cell_type": "code",
   "execution_count": 30,
   "id": "33503eb7",
   "metadata": {
    "scrolled": true
   },
   "outputs": [
    {
     "data": {
      "text/plain": [
       "(torch.Size([1, 28, 28]), 3)"
      ]
     },
     "execution_count": 30,
     "metadata": {},
     "output_type": "execute_result"
    }
   ],
   "source": [
    "inputT.shape, inputT.ndim"
   ]
  },
  {
   "cell_type": "code",
   "execution_count": 35,
   "id": "d2a6a191",
   "metadata": {},
   "outputs": [
    {
     "data": {
      "text/plain": [
       "(torch.Size([1, 28, 28]), 3)"
      ]
     },
     "execution_count": 35,
     "metadata": {},
     "output_type": "execute_result"
    }
   ],
   "source": [
    "X.shape, X.ndim"
   ]
  },
  {
   "cell_type": "code",
   "execution_count": 32,
   "id": "ebf4dfe9",
   "metadata": {},
   "outputs": [],
   "source": [
    "# 학습\n",
    "logists = mnistM(X)"
   ]
  },
  {
   "cell_type": "code",
   "execution_count": 36,
   "id": "1b551116",
   "metadata": {},
   "outputs": [
    {
     "name": "stdout",
     "output_type": "stream",
     "text": [
      "학습 결과 -----------\n",
      "tensor([[ 0.0684,  0.0299,  0.0587,  0.0653, -0.0693, -0.0264, -0.0087, -0.0993,\n",
      "         -0.0136,  0.0315]], grad_fn=<AddmmBackward0>), torch.Size([1, 10])\n"
     ]
    }
   ],
   "source": [
    "print(f'학습 결과 -----------\\n{logits}, {logits.shape}')"
   ]
  },
  {
   "cell_type": "code",
   "execution_count": 37,
   "id": "beb7f36b",
   "metadata": {},
   "outputs": [
    {
     "name": "stdout",
     "output_type": "stream",
     "text": [
      "pred_probab: tensor([[0.1065, 0.1025, 0.1055, 0.1062, 0.0928, 0.0969, 0.0986, 0.0901, 0.0981,\n",
      "         0.1027]], grad_fn=<SoftmaxBackward0>)\n",
      "Predicted class: tensor([0])\n"
     ]
    }
   ],
   "source": [
    "# 결과 분석\n",
    "pred_probab = nn.Softmax(dim=1)(logits)\n",
    "print(f\"pred_probab: {pred_probab}\")\n",
    "\n",
    "y_pred = pred_probab.argmax(1)\n",
    "print(f\"Predicted class: {y_pred}\")"
   ]
  },
  {
   "cell_type": "markdown",
   "id": "74962474",
   "metadata": {},
   "source": [
    "## PyTorch의 Dataset 사용"
   ]
  },
  {
   "cell_type": "code",
   "execution_count": 39,
   "id": "54d7666d",
   "metadata": {},
   "outputs": [
    {
     "name": "stdout",
     "output_type": "stream",
     "text": [
      "Downloading http://fashion-mnist.s3-website.eu-central-1.amazonaws.com/train-images-idx3-ubyte.gz\n",
      "Downloading http://fashion-mnist.s3-website.eu-central-1.amazonaws.com/train-images-idx3-ubyte.gz to data\\FashionMNIST\\raw\\train-images-idx3-ubyte.gz\n"
     ]
    },
    {
     "data": {
      "application/vnd.jupyter.widget-view+json": {
       "model_id": "87d822a58a3841b9b2db6968fa7462a5",
       "version_major": 2,
       "version_minor": 0
      },
      "text/plain": [
       "  0%|          | 0/26421880 [00:00<?, ?it/s]"
      ]
     },
     "metadata": {},
     "output_type": "display_data"
    },
    {
     "name": "stdout",
     "output_type": "stream",
     "text": [
      "Extracting data\\FashionMNIST\\raw\\train-images-idx3-ubyte.gz to data\\FashionMNIST\\raw\n",
      "\n",
      "Downloading http://fashion-mnist.s3-website.eu-central-1.amazonaws.com/train-labels-idx1-ubyte.gz\n",
      "Downloading http://fashion-mnist.s3-website.eu-central-1.amazonaws.com/train-labels-idx1-ubyte.gz to data\\FashionMNIST\\raw\\train-labels-idx1-ubyte.gz\n"
     ]
    },
    {
     "data": {
      "application/vnd.jupyter.widget-view+json": {
       "model_id": "5ae0656168064a1892fbf1da4bac7548",
       "version_major": 2,
       "version_minor": 0
      },
      "text/plain": [
       "  0%|          | 0/29515 [00:00<?, ?it/s]"
      ]
     },
     "metadata": {},
     "output_type": "display_data"
    },
    {
     "name": "stdout",
     "output_type": "stream",
     "text": [
      "Extracting data\\FashionMNIST\\raw\\train-labels-idx1-ubyte.gz to data\\FashionMNIST\\raw\n",
      "\n",
      "Downloading http://fashion-mnist.s3-website.eu-central-1.amazonaws.com/t10k-images-idx3-ubyte.gz\n",
      "Downloading http://fashion-mnist.s3-website.eu-central-1.amazonaws.com/t10k-images-idx3-ubyte.gz to data\\FashionMNIST\\raw\\t10k-images-idx3-ubyte.gz\n"
     ]
    },
    {
     "data": {
      "application/vnd.jupyter.widget-view+json": {
       "model_id": "2b5db6aa647142a485d9df1337528ebf",
       "version_major": 2,
       "version_minor": 0
      },
      "text/plain": [
       "  0%|          | 0/4422102 [00:00<?, ?it/s]"
      ]
     },
     "metadata": {},
     "output_type": "display_data"
    },
    {
     "name": "stdout",
     "output_type": "stream",
     "text": [
      "Extracting data\\FashionMNIST\\raw\\t10k-images-idx3-ubyte.gz to data\\FashionMNIST\\raw\n",
      "\n",
      "Downloading http://fashion-mnist.s3-website.eu-central-1.amazonaws.com/t10k-labels-idx1-ubyte.gz\n",
      "Downloading http://fashion-mnist.s3-website.eu-central-1.amazonaws.com/t10k-labels-idx1-ubyte.gz to data\\FashionMNIST\\raw\\t10k-labels-idx1-ubyte.gz\n"
     ]
    },
    {
     "data": {
      "application/vnd.jupyter.widget-view+json": {
       "model_id": "d982ee7dd4344baa82135532ff309212",
       "version_major": 2,
       "version_minor": 0
      },
      "text/plain": [
       "  0%|          | 0/5148 [00:00<?, ?it/s]"
      ]
     },
     "metadata": {},
     "output_type": "display_data"
    },
    {
     "name": "stdout",
     "output_type": "stream",
     "text": [
      "Extracting data\\FashionMNIST\\raw\\t10k-labels-idx1-ubyte.gz to data\\FashionMNIST\\raw\n",
      "\n"
     ]
    }
   ],
   "source": [
    "from torchvision.transforms import ToTensor   # 데이터 => Tensor로 변환\n",
    "\n",
    "training_data = datasets.FashionMNIST(\n",
    "    root=\"data\",\n",
    "    train=True,\n",
    "    download=True,\n",
    "    transform=ToTensor()\n",
    ")\n",
    "\n",
    "test_data = datasets.FashionMNIST(\n",
    "    root=\"data\",\n",
    "    train=False,\n",
    "    download=True,\n",
    "    transform=ToTensor()\n",
    ")"
   ]
  },
  {
   "cell_type": "code",
   "execution_count": 40,
   "id": "2cad1690",
   "metadata": {},
   "outputs": [
    {
     "data": {
      "text/plain": [
       "(torchvision.datasets.mnist.FashionMNIST, torch.Size([60000, 28, 28]))"
      ]
     },
     "execution_count": 40,
     "metadata": {},
     "output_type": "execute_result"
    }
   ],
   "source": [
    "type(training_data), training_data.data.shape"
   ]
  },
  {
   "cell_type": "code",
   "execution_count": 41,
   "id": "168e933c",
   "metadata": {},
   "outputs": [
    {
     "data": {
      "text/plain": [
       "(torchvision.datasets.mnist.FashionMNIST, torch.Size([10000, 28, 28]))"
      ]
     },
     "execution_count": 41,
     "metadata": {},
     "output_type": "execute_result"
    }
   ],
   "source": [
    "type(test_data), test_data.data.shape"
   ]
  },
  {
   "cell_type": "code",
   "execution_count": 42,
   "id": "f225d5ef",
   "metadata": {},
   "outputs": [
    {
     "data": {
      "text/plain": [
       "property"
      ]
     },
     "execution_count": 42,
     "metadata": {},
     "output_type": "execute_result"
    }
   ],
   "source": [
    "type(datasets.FashionMNIST.train_labels)"
   ]
  },
  {
   "cell_type": "code",
   "execution_count": 44,
   "id": "af2b877e",
   "metadata": {},
   "outputs": [
    {
     "name": "stdout",
     "output_type": "stream",
     "text": [
      "img => torch.Size([1, 28, 28])\n",
      "a.shape => torch.Size([28, 28])\n",
      "img => torch.Size([1, 28, 28])\n",
      "a.shape => torch.Size([28, 28])\n",
      "img => torch.Size([1, 28, 28])\n",
      "a.shape => torch.Size([28, 28])\n",
      "img => torch.Size([1, 28, 28])\n",
      "a.shape => torch.Size([28, 28])\n",
      "img => torch.Size([1, 28, 28])\n",
      "a.shape => torch.Size([28, 28])\n",
      "img => torch.Size([1, 28, 28])\n",
      "a.shape => torch.Size([28, 28])\n",
      "img => torch.Size([1, 28, 28])\n",
      "a.shape => torch.Size([28, 28])\n",
      "img => torch.Size([1, 28, 28])\n",
      "a.shape => torch.Size([28, 28])\n",
      "img => torch.Size([1, 28, 28])\n",
      "a.shape => torch.Size([28, 28])\n"
     ]
    },
    {
     "data": {
      "image/png": "[encoded data removed]",
      "text/plain": [
       "<Figure size 576x576 with 9 Axes>"
      ]
     },
     "metadata": {
      "needs_background": "light"
     },
     "output_type": "display_data"
    }
   ],
   "source": [
    "import matplotlib.pyplot as plt\n",
    "\n",
    "labels_map = {\n",
    "    0: \"T-Shirt\",\n",
    "    1: \"Trouser\",\n",
    "    2: \"Pullover\",\n",
    "    3: \"Dress\",\n",
    "    4: \"Coat\",\n",
    "    5: \"Sandal\",\n",
    "    6: \"Shirt\",\n",
    "    7: \"Sneaker\",\n",
    "    8: \"Bag\",\n",
    "    9: \"Ankle Boot\",\n",
    "}\n",
    "figure = plt.figure(figsize=(8, 8))\n",
    "cols, rows = 3, 3\n",
    "for i in range(1, cols * rows + 1):\n",
    "    sample_idx = torch.randint(len(training_data), size=(1,)).item()\n",
    "    img, label = training_data[sample_idx]\n",
    "    figure.add_subplot(rows, cols, i)\n",
    "    plt.title(labels_map[label])\n",
    "    plt.axis(\"off\")\n",
    "    print(f'img => {img.shape}')\n",
    "    a = img.squeeze()\n",
    "    print(f'a.shape => {a.shape}')\n",
    "    plt.imshow(img.squeeze(), cmap=\"gray\")\n",
    "plt.show()"
   ]
  },
  {
   "cell_type": "code",
   "execution_count": null,
   "id": "a7ff2ed3",
   "metadata": {},
   "outputs": [],
   "source": []
  }
 ],
 "metadata": {
  "kernelspec": {
   "display_name": "Python 3 (ipykernel)",
   "language": "python",
   "name": "python3"
  },
  "language_info": {
   "codemirror_mode": {
    "name": "ipython",
    "version": 3
   },
   "file_extension": ".py",
   "mimetype": "text/x-python",
   "name": "python",
   "nbconvert_exporter": "python",
   "pygments_lexer": "ipython3",
   "version": "3.9.12"
  }
 },
 "nbformat": 4,
 "nbformat_minor": 5
}
