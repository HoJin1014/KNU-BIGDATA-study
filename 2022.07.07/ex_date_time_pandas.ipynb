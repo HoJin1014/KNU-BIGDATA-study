{
 "cells": [
  {
   "cell_type": "markdown",
   "id": "1ab03951",
   "metadata": {},
   "source": [
    "# PANDAS DATE-TIME 다루기 ---------------------------"
   ]
  },
  {
   "cell_type": "code",
   "execution_count": 1,
   "id": "7ea5ff11",
   "metadata": {},
   "outputs": [
    {
     "name": "stdout",
     "output_type": "stream",
     "text": [
      "<class 'pandas.core.frame.DataFrame'>\n",
      "RangeIndex: 2 entries, 0 to 1\n",
      "Data columns (total 3 columns):\n",
      " #   Column  Non-Null Count  Dtype\n",
      "---  ------  --------------  -----\n",
      " 0   year    2 non-null      int64\n",
      " 1   month   2 non-null      int64\n",
      " 2   day     2 non-null      int64\n",
      "dtypes: int64(3)\n",
      "memory usage: 176.0 bytes\n"
     ]
    }
   ],
   "source": [
    "# 모듈 로딩 ---------------------------------------------------------------------\n",
    "import pandas as pd\n",
    "\n",
    "# DF 객체 생성\n",
    "df=pd.DataFrame({'year':[2021, 2022],\n",
    "                 'month':[11, 12],\n",
    "                 'day':[1, 24]})\n",
    "\n",
    "df.info()"
   ]
  },
  {
   "cell_type": "code",
   "execution_count": 2,
   "id": "b8b69cdf",
   "metadata": {},
   "outputs": [
    {
     "data": {
      "text/plain": [
       "year     int64\n",
       "month    int64\n",
       "day      int64\n",
       "dtype: object"
      ]
     },
     "execution_count": 2,
     "metadata": {},
     "output_type": "execute_result"
    }
   ],
   "source": [
    "# DF 객체 타입 정보\n",
    "df.dtypes"
   ]
  },
  {
   "cell_type": "code",
   "execution_count": 5,
   "id": "178fed8f",
   "metadata": {},
   "outputs": [
    {
     "name": "stdout",
     "output_type": "stream",
     "text": [
      "<class 'pandas.core.series.Series'>\n",
      "0   2021-11-01\n",
      "1   2022-12-24\n",
      "dtype: datetime64[ns]\n"
     ]
    }
   ],
   "source": [
    "# DateTime으로 변환 => pandas.to_datetime()\n",
    "result=pd.to_datetime(df)\n",
    "\n",
    "print(type(result), result, sep='\\n')"
   ]
  },
  {
   "cell_type": "code",
   "execution_count": 6,
   "id": "ae8004a1",
   "metadata": {},
   "outputs": [
    {
     "name": "stdout",
     "output_type": "stream",
     "text": [
      "<class 'pandas._libs.tslibs.timestamps.Timestamp'>\n",
      "2021-11-01 00:00:00\n"
     ]
    }
   ],
   "source": [
    "one=result[0]\n",
    "\n",
    "print(type(one), one, sep='\\n')"
   ]
  },
  {
   "cell_type": "code",
   "execution_count": 16,
   "id": "8f2bad42",
   "metadata": {},
   "outputs": [
    {
     "data": {
      "text/plain": [
       "(1, 11, <function Timestamp.month_name>, 0)"
      ]
     },
     "execution_count": 16,
     "metadata": {},
     "output_type": "execute_result"
    }
   ],
   "source": [
    "one.day, one.month, one.month_name, one.hour"
   ]
  },
  {
   "cell_type": "markdown",
   "id": "bdeae87d",
   "metadata": {},
   "source": [
    "# 타입 및 다른 포맷 변환 메서드들.... to_변환타입"
   ]
  },
  {
   "cell_type": "code",
   "execution_count": 7,
   "id": "772b6c57",
   "metadata": {},
   "outputs": [
    {
     "data": {
      "text/plain": [
       "'0   2021-11-01\\n1   2022-12-24'"
      ]
     },
     "execution_count": 7,
     "metadata": {},
     "output_type": "execute_result"
    }
   ],
   "source": [
    "# 타입 및 다른 포맷 변환 메서드들.... to_변환타입()\n",
    "result.to_string()"
   ]
  },
  {
   "cell_type": "code",
   "execution_count": 11,
   "id": "e71acc6e",
   "metadata": {},
   "outputs": [],
   "source": [
    "result.to_csv('result2.csv', index=False)"
   ]
  },
  {
   "cell_type": "code",
   "execution_count": 17,
   "id": "ccde5bd7",
   "metadata": {},
   "outputs": [],
   "source": [
    "result.to_json('json')"
   ]
  },
  {
   "cell_type": "code",
   "execution_count": 18,
   "id": "26fdc194",
   "metadata": {},
   "outputs": [],
   "source": [
    "result.to_json('result.json')"
   ]
  },
  {
   "cell_type": "markdown",
   "id": "dce9a938",
   "metadata": {},
   "source": [
    "## CSV 파일 활용 실습 ------------------------------------------------\n",
    "\n",
    "- 날짜 데이터가 있는 CSV 파일 처리하기"
   ]
  },
  {
   "cell_type": "code",
   "execution_count": 24,
   "id": "2b6c7e09",
   "metadata": {},
   "outputs": [
    {
     "data": {
      "text/html": [
       "<div>\n",
       "<style scoped>\n",
       "    .dataframe tbody tr th:only-of-type {\n",
       "        vertical-align: middle;\n",
       "    }\n",
       "\n",
       "    .dataframe tbody tr th {\n",
       "        vertical-align: top;\n",
       "    }\n",
       "\n",
       "    .dataframe thead th {\n",
       "        text-align: right;\n",
       "    }\n",
       "</style>\n",
       "<table border=\"1\" class=\"dataframe\">\n",
       "  <thead>\n",
       "    <tr style=\"text-align: right;\">\n",
       "      <th></th>\n",
       "      <th>ident</th>\n",
       "      <th>site</th>\n",
       "      <th>dated</th>\n",
       "    </tr>\n",
       "  </thead>\n",
       "  <tbody>\n",
       "    <tr>\n",
       "      <th>0</th>\n",
       "      <td>619</td>\n",
       "      <td>DR-1</td>\n",
       "      <td>1927-02-08</td>\n",
       "    </tr>\n",
       "    <tr>\n",
       "      <th>1</th>\n",
       "      <td>622</td>\n",
       "      <td>DR-1</td>\n",
       "      <td>1927-02-10</td>\n",
       "    </tr>\n",
       "    <tr>\n",
       "      <th>2</th>\n",
       "      <td>734</td>\n",
       "      <td>DR-3</td>\n",
       "      <td>1939-01-07</td>\n",
       "    </tr>\n",
       "    <tr>\n",
       "      <th>3</th>\n",
       "      <td>735</td>\n",
       "      <td>DR-3</td>\n",
       "      <td>1930-01-12</td>\n",
       "    </tr>\n",
       "    <tr>\n",
       "      <th>4</th>\n",
       "      <td>751</td>\n",
       "      <td>DR-3</td>\n",
       "      <td>1930-02-26</td>\n",
       "    </tr>\n",
       "    <tr>\n",
       "      <th>5</th>\n",
       "      <td>752</td>\n",
       "      <td>DR-3</td>\n",
       "      <td>1930-02-26</td>\n",
       "    </tr>\n",
       "    <tr>\n",
       "      <th>6</th>\n",
       "      <td>837</td>\n",
       "      <td>MSK-4</td>\n",
       "      <td>1932-01-14</td>\n",
       "    </tr>\n",
       "    <tr>\n",
       "      <th>7</th>\n",
       "      <td>844</td>\n",
       "      <td>DR-1</td>\n",
       "      <td>1932-03-22</td>\n",
       "    </tr>\n",
       "  </tbody>\n",
       "</table>\n",
       "</div>"
      ],
      "text/plain": [
       "   ident   site       dated\n",
       "0    619   DR-1  1927-02-08\n",
       "1    622   DR-1  1927-02-10\n",
       "2    734   DR-3  1939-01-07\n",
       "3    735   DR-3  1930-01-12\n",
       "4    751   DR-3  1930-02-26\n",
       "5    752   DR-3  1930-02-26\n",
       "6    837  MSK-4  1932-01-14\n",
       "7    844   DR-1  1932-03-22"
      ]
     },
     "execution_count": 24,
     "metadata": {},
     "output_type": "execute_result"
    }
   ],
   "source": [
    "# CSV FILE ==> DataFrame으로 가져오기\n",
    "import pandas as pd\n",
    "DIR_PATH='../Data/'\n",
    "FILE_NAME=DIR_PATH+'survey_visited.csv'\n",
    "\n",
    "surDF=pd.read_csv(FILE_NAME).ffill()\n",
    "\n",
    "surDF\n",
    "\n",
    "# 날짜 관련 데이터 ==> 자료형 변환하기"
   ]
  },
  {
   "cell_type": "code",
   "execution_count": 25,
   "id": "197fb440",
   "metadata": {},
   "outputs": [
    {
     "name": "stdout",
     "output_type": "stream",
     "text": [
      "<class 'pandas.core.frame.DataFrame'>\n",
      "RangeIndex: 8 entries, 0 to 7\n",
      "Data columns (total 3 columns):\n",
      " #   Column  Non-Null Count  Dtype \n",
      "---  ------  --------------  ----- \n",
      " 0   ident   8 non-null      int64 \n",
      " 1   site    8 non-null      object\n",
      " 2   dated   8 non-null      object\n",
      "dtypes: int64(1), object(2)\n",
      "memory usage: 320.0+ bytes\n"
     ]
    }
   ],
   "source": [
    "surDF.info()"
   ]
  },
  {
   "cell_type": "code",
   "execution_count": 27,
   "id": "1e7e9c22",
   "metadata": {},
   "outputs": [
    {
     "data": {
      "text/plain": [
       "0    1927-02-08\n",
       "1    1927-02-10\n",
       "2    1939-01-07\n",
       "3    1930-01-12\n",
       "4    1930-02-26\n",
       "5    1930-02-26\n",
       "6    1932-01-14\n",
       "7    1932-03-22\n",
       "Name: dated, dtype: object"
      ]
     },
     "execution_count": 27,
     "metadata": {},
     "output_type": "execute_result"
    }
   ],
   "source": [
    "# 날짜 관련 데이터 ==> 자료형 변환하기\n",
    "surDF['dated']"
   ]
  },
  {
   "cell_type": "code",
   "execution_count": 37,
   "id": "327812e7",
   "metadata": {},
   "outputs": [],
   "source": [
    "surDF['dated']=pd.to_datetime(surDF['dated'])"
   ]
  },
  {
   "cell_type": "code",
   "execution_count": 38,
   "id": "6bd551ad",
   "metadata": {
    "scrolled": true
   },
   "outputs": [
    {
     "name": "stdout",
     "output_type": "stream",
     "text": [
      "<class 'pandas.core.frame.DataFrame'>\n",
      "RangeIndex: 8 entries, 0 to 7\n",
      "Data columns (total 3 columns):\n",
      " #   Column  Non-Null Count  Dtype         \n",
      "---  ------  --------------  -----         \n",
      " 0   ident   8 non-null      int64         \n",
      " 1   site    8 non-null      object        \n",
      " 2   dated   8 non-null      datetime64[ns]\n",
      "dtypes: datetime64[ns](1), int64(1), object(1)\n",
      "memory usage: 320.0+ bytes\n"
     ]
    }
   ],
   "source": [
    "surDF.info()"
   ]
  },
  {
   "cell_type": "code",
   "execution_count": 39,
   "id": "14c09b55",
   "metadata": {},
   "outputs": [],
   "source": [
    "# csvDF.isnull(),sum()\n",
    "\n",
    "# 이전 값으로 치환 fillna(method='ffill')\n",
    "# csvDF.fillna(method='ffill', inplace=True)\n",
    "# csvDF.isnull().sum()\n",
    "\n",
    "# csvDF['dated']=pd.to_datetime(csvDF['dated'])\n",
    "\n",
    "# csvDF.info()\n",
    "\n",
    "# csvDF['dated'][0], csvDF['dated'][1]\n"
   ]
  },
  {
   "cell_type": "code",
   "execution_count": null,
   "id": "15631444",
   "metadata": {},
   "outputs": [],
   "source": []
  },
  {
   "cell_type": "code",
   "execution_count": 40,
   "id": "a1dbb4e0",
   "metadata": {},
   "outputs": [
    {
     "data": {
      "text/plain": [
       "(Timestamp('1927-02-08 00:00:00'), 1927, 8)"
      ]
     },
     "execution_count": 40,
     "metadata": {},
     "output_type": "execute_result"
    }
   ],
   "source": [
    "surDF['dated'][0], surDF['dated'][0].year, surDF['dated'][0].day"
   ]
  },
  {
   "cell_type": "code",
   "execution_count": 41,
   "id": "326d06f1",
   "metadata": {},
   "outputs": [
    {
     "data": {
      "text/plain": [
       "(pandas.core.series.Series, dtype('<M8[ns]'))"
      ]
     },
     "execution_count": 41,
     "metadata": {},
     "output_type": "execute_result"
    }
   ],
   "source": [
    "type(surDF['dated']), surDF['dated'].dtype"
   ]
  },
  {
   "cell_type": "code",
   "execution_count": 42,
   "id": "0c0771d6",
   "metadata": {},
   "outputs": [
    {
     "data": {
      "text/plain": [
       "0    2\n",
       "1    2\n",
       "2    1\n",
       "3    1\n",
       "4    2\n",
       "5    2\n",
       "6    1\n",
       "7    3\n",
       "Name: dated, dtype: int64"
      ]
     },
     "execution_count": 42,
     "metadata": {},
     "output_type": "execute_result"
    }
   ],
   "source": [
    "surDF['dated'].dt.month"
   ]
  },
  {
   "cell_type": "code",
   "execution_count": null,
   "id": "8a2bd51c",
   "metadata": {},
   "outputs": [],
   "source": []
  },
  {
   "cell_type": "code",
   "execution_count": 43,
   "id": "9817b6ea",
   "metadata": {},
   "outputs": [
    {
     "data": {
      "text/plain": [
       "0   1927-02-08\n",
       "1   1927-02-10\n",
       "2   1939-01-07\n",
       "3   1930-01-12\n",
       "4   1930-02-26\n",
       "5   1930-02-26\n",
       "6   1932-01-14\n",
       "7   1932-03-22\n",
       "Name: dated, dtype: datetime64[ns]"
      ]
     },
     "execution_count": 43,
     "metadata": {},
     "output_type": "execute_result"
    }
   ],
   "source": [
    "dateSR=surDF['dated']\n",
    "dateSR"
   ]
  },
  {
   "cell_type": "code",
   "execution_count": 44,
   "id": "b06e7416",
   "metadata": {},
   "outputs": [
    {
     "data": {
      "text/plain": [
       "0    False\n",
       "1    False\n",
       "2     True\n",
       "3     True\n",
       "4     True\n",
       "5     True\n",
       "6     True\n",
       "7     True\n",
       "Name: dated, dtype: bool"
      ]
     },
     "execution_count": 44,
     "metadata": {},
     "output_type": "execute_result"
    }
   ],
   "source": [
    "dateSR.dt.year>=1930"
   ]
  },
  {
   "cell_type": "code",
   "execution_count": 45,
   "id": "b2a5eb97",
   "metadata": {},
   "outputs": [
    {
     "data": {
      "text/plain": [
       "2   1939-01-07\n",
       "3   1930-01-12\n",
       "4   1930-02-26\n",
       "5   1930-02-26\n",
       "6   1932-01-14\n",
       "7   1932-03-22\n",
       "Name: dated, dtype: datetime64[ns]"
      ]
     },
     "execution_count": 45,
     "metadata": {},
     "output_type": "execute_result"
    }
   ],
   "source": [
    "dateSR[dateSR.dt.year>=1930]"
   ]
  },
  {
   "cell_type": "code",
   "execution_count": 46,
   "id": "c9468835",
   "metadata": {},
   "outputs": [
    {
     "data": {
      "text/plain": [
       "0   1927-02-08\n",
       "1   1927-02-10\n",
       "4   1930-02-26\n",
       "5   1930-02-26\n",
       "7   1932-03-22\n",
       "Name: dated, dtype: datetime64[ns]"
      ]
     },
     "execution_count": 46,
     "metadata": {},
     "output_type": "execute_result"
    }
   ],
   "source": [
    "dateSR[dateSR.dt.month>=2]"
   ]
  },
  {
   "cell_type": "code",
   "execution_count": null,
   "id": "0e513b21",
   "metadata": {},
   "outputs": [],
   "source": []
  }
 ],
 "metadata": {
  "kernelspec": {
   "display_name": "Python 3 (ipykernel)",
   "language": "python",
   "name": "python3"
  },
  "language_info": {
   "codemirror_mode": {
    "name": "ipython",
    "version": 3
   },
   "file_extension": ".py",
   "mimetype": "text/x-python",
   "name": "python",
   "nbconvert_exporter": "python",
   "pygments_lexer": "ipython3",
   "version": "3.9.12"
  }
 },
 "nbformat": 4,
 "nbformat_minor": 5
}
