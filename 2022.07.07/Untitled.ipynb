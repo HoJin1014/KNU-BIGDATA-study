{
 "cells": [
  {
   "cell_type": "markdown",
   "id": "f0c0b9a7",
   "metadata": {},
   "source": [
    "# 날짜시간관련 패키지 다루기 -----------------------------\n",
    "\n",
    "- 파이썬 => date, time, datetime 관련 클래스"
   ]
  },
  {
   "cell_type": "code",
   "execution_count": 3,
   "id": "4d72926f",
   "metadata": {},
   "outputs": [
    {
     "data": {
      "text/plain": [
       "'3.5.1'"
      ]
     },
     "execution_count": 3,
     "metadata": {},
     "output_type": "execute_result"
    }
   ],
   "source": [
    "# 모듈 로딩 -------------------------------------------------------\n",
    "import time as tm\n",
    "import matplotlib as mp\n",
    "\n",
    "# 버전 체크 mp.__version__"
   ]
  },
  {
   "cell_type": "code",
   "execution_count": 4,
   "id": "60f45c06",
   "metadata": {},
   "outputs": [
    {
     "name": "stdout",
     "output_type": "stream",
     "text": [
      "현재시간 : Thu Jul  7 09:38:18 2022\n"
     ]
    }
   ],
   "source": [
    "# 현재 시간 출력 메서드 -------------------------------------------\n",
    "# (1) 보기 쉽게 변환되어서 가져오기\n",
    "currentTm=tm.ctime(tm.time())\n",
    "print(f'현재시간 : {currentTm}')"
   ]
  },
  {
   "cell_type": "code",
   "execution_count": 6,
   "id": "add3bf3e",
   "metadata": {},
   "outputs": [
    {
     "name": "stdout",
     "output_type": "stream",
     "text": [
      "현재시간구조체클래스 : time.struct_time(tm_year=2022, tm_mon=7, tm_mday=7, tm_hour=9, tm_min=39, tm_sec=53, tm_wday=3, tm_yday=188, tm_isdst=0)\n"
     ]
    }
   ],
   "source": [
    "# (2) 원하는 대로 변환할 수 있도록 구조체 객체\n",
    "localStruc=tm.localtime(tm.time())\n",
    "print(f'현재시간구조체클래스 : {localStruc}')"
   ]
  },
  {
   "cell_type": "markdown",
   "id": "d35f782f",
   "metadata": {},
   "source": [
    "# 날짜 관련 클래스 -----> datetime>date 클래스"
   ]
  },
  {
   "cell_type": "code",
   "execution_count": 21,
   "id": "59dbe96e",
   "metadata": {},
   "outputs": [
    {
     "name": "stdout",
     "output_type": "stream",
     "text": [
      "<class 'datetime.date'> 2022-07-07\n"
     ]
    }
   ],
   "source": [
    "from datetime import date\n",
    "\n",
    "currentDT=date.today()\n",
    "\n",
    "print(type(currentDT), currentDT)"
   ]
  },
  {
   "cell_type": "code",
   "execution_count": 22,
   "id": "55785246",
   "metadata": {},
   "outputs": [
    {
     "name": "stdout",
     "output_type": "stream",
     "text": [
      "<class 'datetime.date'> 2022-12-24\n"
     ]
    }
   ],
   "source": [
    "d_day=date(2022,12, 24)\n",
    "\n",
    "print(type(d_day), d_day)"
   ]
  },
  {
   "cell_type": "code",
   "execution_count": 23,
   "id": "4ffc3088",
   "metadata": {},
   "outputs": [
    {
     "data": {
      "text/plain": [
       "(24, 12, 2022)"
      ]
     },
     "execution_count": 23,
     "metadata": {},
     "output_type": "execute_result"
    }
   ],
   "source": [
    "d_day.day, d_day.month, d_day.year"
   ]
  },
  {
   "cell_type": "code",
   "execution_count": 24,
   "id": "da280da1",
   "metadata": {},
   "outputs": [
    {
     "data": {
      "text/plain": [
       "datetime.datetime(2022, 7, 7, 10, 7, 45, 743942)"
      ]
     },
     "execution_count": 24,
     "metadata": {},
     "output_type": "execute_result"
    }
   ],
   "source": [
    "from datetime import datetime as dt\n",
    "\n",
    "# 현재 날짜, 시간\n",
    "dt.today()"
   ]
  },
  {
   "cell_type": "code",
   "execution_count": 28,
   "id": "0026de86",
   "metadata": {},
   "outputs": [
    {
     "data": {
      "text/plain": [
       "datetime.datetime(2022, 7, 7, 10, 11, 3, 586767)"
      ]
     },
     "execution_count": 28,
     "metadata": {},
     "output_type": "execute_result"
    }
   ],
   "source": [
    "dt.now()"
   ]
  },
  {
   "cell_type": "code",
   "execution_count": 27,
   "id": "e02245f2",
   "metadata": {},
   "outputs": [
    {
     "data": {
      "text/plain": [
       "datetime.datetime(2022, 12, 24, 0, 0)"
      ]
     },
     "execution_count": 27,
     "metadata": {},
     "output_type": "execute_result"
    }
   ],
   "source": [
    "# 원하는 날짜 시간 생성\n",
    "d_daytime=dt(2022, 12, 24)\n",
    "d_daytime"
   ]
  },
  {
   "cell_type": "code",
   "execution_count": 29,
   "id": "8c4659ff",
   "metadata": {},
   "outputs": [
    {
     "data": {
      "text/plain": [
       "24"
      ]
     },
     "execution_count": 29,
     "metadata": {},
     "output_type": "execute_result"
    }
   ],
   "source": [
    "d_daytime.day"
   ]
  },
  {
   "cell_type": "markdown",
   "id": "1302a435",
   "metadata": {},
   "source": [
    "## 날짜시간 관련 PANDAS -------------------------------------------\n",
    "\n",
    "- 관련 자료형 : timestamp, datetime64, period\n",
    "\n",
    "- 관련 메서드 : to_datetime(), date_range(), to_period(), period_range()"
   ]
  },
  {
   "cell_type": "code",
   "execution_count": null,
   "id": "12add409",
   "metadata": {},
   "outputs": [],
   "source": []
  }
 ],
 "metadata": {
  "kernelspec": {
   "display_name": "Python 3 (ipykernel)",
   "language": "python",
   "name": "python3"
  },
  "language_info": {
   "codemirror_mode": {
    "name": "ipython",
    "version": 3
   },
   "file_extension": ".py",
   "mimetype": "text/x-python",
   "name": "python",
   "nbconvert_exporter": "python",
   "pygments_lexer": "ipython3",
   "version": "3.9.12"
  }
 },
 "nbformat": 4,
 "nbformat_minor": 5
}
