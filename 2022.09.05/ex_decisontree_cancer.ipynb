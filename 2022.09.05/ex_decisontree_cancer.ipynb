{
 "cells": [
  {
   "cell_type": "markdown",
   "id": "4bfe47ae",
   "metadata": {},
   "source": [
    "## 결정트리(Decision Tree)\n",
    "---\n",
    "- 직관적이고 쉬운 모델 방식\n",
    "- 스무고개 퀴즈 형식\n",
    "- 과적합의 발생으로 다른 모델 대비 성능이 좋지 않은 모델\n",
    "- 단독으로 사용되는 경우보다 여러개의 DecisonTree가 모여서 사용됨 ==> 앙상블"
   ]
  },
  {
   "cell_type": "code",
   "execution_count": 1,
   "id": "e686f54d",
   "metadata": {},
   "outputs": [],
   "source": [
    "# 모듈 로딩 ----------------------------------------\n",
    "from sklearn.datasets import load_breast_cancer\n",
    "from sklearn.model_selection import train_test_split\n",
    "from sklearn.tree import DecisionTreeClassifier\n",
    "from sklearn.tree import plot_tree   # 트리 시각화 함수\n",
    "import pandas as pd\n",
    "import matplotlib.pyplot as plt"
   ]
  },
  {
   "cell_type": "markdown",
   "id": "d1d32713",
   "metadata": {},
   "source": [
    "### [1] 데이터 로딩\n",
    "---"
   ]
  },
  {
   "cell_type": "code",
   "execution_count": 2,
   "id": "3df918ec",
   "metadata": {},
   "outputs": [],
   "source": [
    "# numpy => DataFrame형태로 데이터 로딩\n",
    "# return_X_y=True, as_frame=True\n",
    "dataX, datay = load_breast_cancer(return_X_y=True, as_frame=True)\n",
    "\n",
    "# Bunch 타입 => key로 data, target, target_names, feature_names....\n",
    "# dataX, datay = load_breast_cancer()"
   ]
  },
  {
   "cell_type": "code",
   "execution_count": 3,
   "id": "9dd0624f",
   "metadata": {},
   "outputs": [
    {
     "name": "stdout",
     "output_type": "stream",
     "text": [
      "<class 'pandas.core.frame.DataFrame'>\n",
      "RangeIndex: 569 entries, 0 to 568\n",
      "Data columns (total 30 columns):\n",
      " #   Column                   Non-Null Count  Dtype  \n",
      "---  ------                   --------------  -----  \n",
      " 0   mean radius              569 non-null    float64\n",
      " 1   mean texture             569 non-null    float64\n",
      " 2   mean perimeter           569 non-null    float64\n",
      " 3   mean area                569 non-null    float64\n",
      " 4   mean smoothness          569 non-null    float64\n",
      " 5   mean compactness         569 non-null    float64\n",
      " 6   mean concavity           569 non-null    float64\n",
      " 7   mean concave points      569 non-null    float64\n",
      " 8   mean symmetry            569 non-null    float64\n",
      " 9   mean fractal dimension   569 non-null    float64\n",
      " 10  radius error             569 non-null    float64\n",
      " 11  texture error            569 non-null    float64\n",
      " 12  perimeter error          569 non-null    float64\n",
      " 13  area error               569 non-null    float64\n",
      " 14  smoothness error         569 non-null    float64\n",
      " 15  compactness error        569 non-null    float64\n",
      " 16  concavity error          569 non-null    float64\n",
      " 17  concave points error     569 non-null    float64\n",
      " 18  symmetry error           569 non-null    float64\n",
      " 19  fractal dimension error  569 non-null    float64\n",
      " 20  worst radius             569 non-null    float64\n",
      " 21  worst texture            569 non-null    float64\n",
      " 22  worst perimeter          569 non-null    float64\n",
      " 23  worst area               569 non-null    float64\n",
      " 24  worst smoothness         569 non-null    float64\n",
      " 25  worst compactness        569 non-null    float64\n",
      " 26  worst concavity          569 non-null    float64\n",
      " 27  worst concave points     569 non-null    float64\n",
      " 28  worst symmetry           569 non-null    float64\n",
      " 29  worst fractal dimension  569 non-null    float64\n",
      "dtypes: float64(30)\n",
      "memory usage: 133.5 KB\n"
     ]
    },
    {
     "data": {
      "text/plain": [
       "(None,\n",
       " Index(['mean radius', 'mean texture', 'mean perimeter', 'mean area',\n",
       "        'mean smoothness', 'mean compactness', 'mean concavity',\n",
       "        'mean concave points', 'mean symmetry', 'mean fractal dimension',\n",
       "        'radius error', 'texture error', 'perimeter error', 'area error',\n",
       "        'smoothness error', 'compactness error', 'concavity error',\n",
       "        'concave points error', 'symmetry error', 'fractal dimension error',\n",
       "        'worst radius', 'worst texture', 'worst perimeter', 'worst area',\n",
       "        'worst smoothness', 'worst compactness', 'worst concavity',\n",
       "        'worst concave points', 'worst symmetry', 'worst fractal dimension'],\n",
       "       dtype='object'))"
      ]
     },
     "execution_count": 3,
     "metadata": {},
     "output_type": "execute_result"
    }
   ],
   "source": [
    "dataX.info() , dataX.columns"
   ]
  },
  {
   "cell_type": "code",
   "execution_count": 4,
   "id": "a19c444e",
   "metadata": {},
   "outputs": [],
   "source": [
    "f_names=dataX.columns"
   ]
  },
  {
   "cell_type": "code",
   "execution_count": 5,
   "id": "ed10b80f",
   "metadata": {},
   "outputs": [
    {
     "data": {
      "text/plain": [
       "mean radius                0\n",
       "mean texture               0\n",
       "mean perimeter             0\n",
       "mean area                  0\n",
       "mean smoothness            0\n",
       "mean compactness           0\n",
       "mean concavity             0\n",
       "mean concave points        0\n",
       "mean symmetry              0\n",
       "mean fractal dimension     0\n",
       "radius error               0\n",
       "texture error              0\n",
       "perimeter error            0\n",
       "area error                 0\n",
       "smoothness error           0\n",
       "compactness error          0\n",
       "concavity error            0\n",
       "concave points error       0\n",
       "symmetry error             0\n",
       "fractal dimension error    0\n",
       "worst radius               0\n",
       "worst texture              0\n",
       "worst perimeter            0\n",
       "worst area                 0\n",
       "worst smoothness           0\n",
       "worst compactness          0\n",
       "worst concavity            0\n",
       "worst concave points       0\n",
       "worst symmetry             0\n",
       "worst fractal dimension    0\n",
       "dtype: int64"
      ]
     },
     "execution_count": 5,
     "metadata": {},
     "output_type": "execute_result"
    }
   ],
   "source": [
    "dataX.isnull().sum()"
   ]
  },
  {
   "cell_type": "markdown",
   "id": "cc45e02a",
   "metadata": {},
   "source": [
    "### [2] 학습 & 테스트 데이터 분리"
   ]
  },
  {
   "cell_type": "code",
   "execution_count": 6,
   "id": "739aedcc",
   "metadata": {},
   "outputs": [
    {
     "data": {
      "text/plain": [
       "(numpy.ndarray, numpy.ndarray)"
      ]
     },
     "execution_count": 6,
     "metadata": {},
     "output_type": "execute_result"
    }
   ],
   "source": [
    "type(dataX.values) , type(datay.values)"
   ]
  },
  {
   "cell_type": "code",
   "execution_count": 7,
   "id": "d6283860",
   "metadata": {},
   "outputs": [],
   "source": [
    "dataX=dataX.to_numpy()"
   ]
  },
  {
   "cell_type": "code",
   "execution_count": 8,
   "id": "8762c493",
   "metadata": {},
   "outputs": [],
   "source": [
    "datay=datay.to_numpy()"
   ]
  },
  {
   "cell_type": "code",
   "execution_count": 9,
   "id": "b13fad48",
   "metadata": {},
   "outputs": [],
   "source": [
    "# train : test = 75:25\n",
    "# stratify=True (라벨 즉 타겟 데이터 지정 : 학습&테스트 데이터에도 비율 맞추기)\n",
    "train_X, test_X, train_y, test_y = train_test_split(dataX, \n",
    "                                                    datay,\n",
    "                                                    stratify=datay,\n",
    "                                                    random_state=42)"
   ]
  },
  {
   "cell_type": "code",
   "execution_count": 10,
   "id": "3138b93b",
   "metadata": {},
   "outputs": [
    {
     "name": "stdout",
     "output_type": "stream",
     "text": [
      "train_X : (426, 30), test_X : (143, 30)\n"
     ]
    }
   ],
   "source": [
    "print(f'train_X : {train_X.shape}, test_X : {test_X.shape}')"
   ]
  },
  {
   "cell_type": "markdown",
   "id": "564af380",
   "metadata": {},
   "source": [
    "### [3] 학습\n",
    "---\n",
    "- DecisionTreeClassifier 학습 방법"
   ]
  },
  {
   "cell_type": "code",
   "execution_count": 11,
   "id": "311c3173",
   "metadata": {},
   "outputs": [],
   "source": [
    "# 모델 객체 생성\n",
    "dtModel=DecisionTreeClassifier()"
   ]
  },
  {
   "cell_type": "code",
   "execution_count": 12,
   "id": "d74dec5c",
   "metadata": {},
   "outputs": [
    {
     "data": {
      "text/html": [
       "<style>#sk-container-id-1 {color: black;background-color: white;}#sk-container-id-1 pre{padding: 0;}#sk-container-id-1 div.sk-toggleable {background-color: white;}#sk-container-id-1 label.sk-toggleable__label {cursor: pointer;display: block;width: 100%;margin-bottom: 0;padding: 0.3em;box-sizing: border-box;text-align: center;}#sk-container-id-1 label.sk-toggleable__label-arrow:before {content: \"▸\";float: left;margin-right: 0.25em;color: #696969;}#sk-container-id-1 label.sk-toggleable__label-arrow:hover:before {color: black;}#sk-container-id-1 div.sk-estimator:hover label.sk-toggleable__label-arrow:before {color: black;}#sk-container-id-1 div.sk-toggleable__content {max-height: 0;max-width: 0;overflow: hidden;text-align: left;background-color: #f0f8ff;}#sk-container-id-1 div.sk-toggleable__content pre {margin: 0.2em;color: black;border-radius: 0.25em;background-color: #f0f8ff;}#sk-container-id-1 input.sk-toggleable__control:checked~div.sk-toggleable__content {max-height: 200px;max-width: 100%;overflow: auto;}#sk-container-id-1 input.sk-toggleable__control:checked~label.sk-toggleable__label-arrow:before {content: \"▾\";}#sk-container-id-1 div.sk-estimator input.sk-toggleable__control:checked~label.sk-toggleable__label {background-color: #d4ebff;}#sk-container-id-1 div.sk-label input.sk-toggleable__control:checked~label.sk-toggleable__label {background-color: #d4ebff;}#sk-container-id-1 input.sk-hidden--visually {border: 0;clip: rect(1px 1px 1px 1px);clip: rect(1px, 1px, 1px, 1px);height: 1px;margin: -1px;overflow: hidden;padding: 0;position: absolute;width: 1px;}#sk-container-id-1 div.sk-estimator {font-family: monospace;background-color: #f0f8ff;border: 1px dotted black;border-radius: 0.25em;box-sizing: border-box;margin-bottom: 0.5em;}#sk-container-id-1 div.sk-estimator:hover {background-color: #d4ebff;}#sk-container-id-1 div.sk-parallel-item::after {content: \"\";width: 100%;border-bottom: 1px solid gray;flex-grow: 1;}#sk-container-id-1 div.sk-label:hover label.sk-toggleable__label {background-color: #d4ebff;}#sk-container-id-1 div.sk-serial::before {content: \"\";position: absolute;border-left: 1px solid gray;box-sizing: border-box;top: 0;bottom: 0;left: 50%;z-index: 0;}#sk-container-id-1 div.sk-serial {display: flex;flex-direction: column;align-items: center;background-color: white;padding-right: 0.2em;padding-left: 0.2em;position: relative;}#sk-container-id-1 div.sk-item {position: relative;z-index: 1;}#sk-container-id-1 div.sk-parallel {display: flex;align-items: stretch;justify-content: center;background-color: white;position: relative;}#sk-container-id-1 div.sk-item::before, #sk-container-id-1 div.sk-parallel-item::before {content: \"\";position: absolute;border-left: 1px solid gray;box-sizing: border-box;top: 0;bottom: 0;left: 50%;z-index: -1;}#sk-container-id-1 div.sk-parallel-item {display: flex;flex-direction: column;z-index: 1;position: relative;background-color: white;}#sk-container-id-1 div.sk-parallel-item:first-child::after {align-self: flex-end;width: 50%;}#sk-container-id-1 div.sk-parallel-item:last-child::after {align-self: flex-start;width: 50%;}#sk-container-id-1 div.sk-parallel-item:only-child::after {width: 0;}#sk-container-id-1 div.sk-dashed-wrapped {border: 1px dashed gray;margin: 0 0.4em 0.5em 0.4em;box-sizing: border-box;padding-bottom: 0.4em;background-color: white;}#sk-container-id-1 div.sk-label label {font-family: monospace;font-weight: bold;display: inline-block;line-height: 1.2em;}#sk-container-id-1 div.sk-label-container {text-align: center;}#sk-container-id-1 div.sk-container {/* jupyter's `normalize.less` sets `[hidden] { display: none; }` but bootstrap.min.css set `[hidden] { display: none !important; }` so we also need the `!important` here to be able to override the default hidden behavior on the sphinx rendered scikit-learn.org. See: https://github.com/scikit-learn/scikit-learn/issues/21755 */display: inline-block !important;position: relative;}#sk-container-id-1 div.sk-text-repr-fallback {display: none;}</style><div id=\"sk-container-id-1\" class=\"sk-top-container\"><div class=\"sk-text-repr-fallback\"><pre>DecisionTreeClassifier()</pre><b>In a Jupyter environment, please rerun this cell to show the HTML representation or trust the notebook. <br />On GitHub, the HTML representation is unable to render, please try loading this page with nbviewer.org.</b></div><div class=\"sk-container\" hidden><div class=\"sk-item\"><div class=\"sk-estimator sk-toggleable\"><input class=\"sk-toggleable__control sk-hidden--visually\" id=\"sk-estimator-id-1\" type=\"checkbox\" checked><label for=\"sk-estimator-id-1\" class=\"sk-toggleable__label sk-toggleable__label-arrow\">DecisionTreeClassifier</label><div class=\"sk-toggleable__content\"><pre>DecisionTreeClassifier()</pre></div></div></div></div></div>"
      ],
      "text/plain": [
       "DecisionTreeClassifier()"
      ]
     },
     "execution_count": 12,
     "metadata": {},
     "output_type": "execute_result"
    }
   ],
   "source": [
    "# 학습용 데이터로 학습 진행\n",
    "dtModel.fit(train_X, train_y)"
   ]
  },
  {
   "cell_type": "markdown",
   "id": "66fcc106",
   "metadata": {},
   "source": [
    "### [4] 평가"
   ]
  },
  {
   "cell_type": "code",
   "execution_count": 13,
   "id": "7337842b",
   "metadata": {},
   "outputs": [],
   "source": [
    "train_score=dtModel.score(train_X, train_y)\n",
    "test_score=dtModel.score(test_X, test_y)"
   ]
  },
  {
   "cell_type": "code",
   "execution_count": 14,
   "id": "3b591ed9",
   "metadata": {},
   "outputs": [
    {
     "name": "stdout",
     "output_type": "stream",
     "text": [
      "train_score : 1.0, test_score : 0.9370629370629371\n"
     ]
    }
   ],
   "source": [
    "print(f'train_score : {train_score}, test_score : {test_score}')"
   ]
  },
  {
   "cell_type": "markdown",
   "id": "284d6b77",
   "metadata": {},
   "source": [
    "### DecisonTree 시각화\n",
    "---\n",
    "- plot_tree()"
   ]
  },
  {
   "cell_type": "code",
   "execution_count": 15,
   "id": "8639deb2",
   "metadata": {},
   "outputs": [
    {
     "data": {
      "image/png": "[encoded data removed]",
      "text/plain": [
       "<Figure size 792x648 with 1 Axes>"
      ]
     },
     "metadata": {
      "needs_background": "light"
     },
     "output_type": "display_data"
    }
   ],
   "source": [
    "plt.figure(figsize=(11,9))\n",
    "plot_tree(dtModel, max_depth=1, filled=True, feature_names=f_names) # max_depth , filled=True(색깔), feature_names=컬럼명\n",
    "# plt.savefig('tree.png') # 현재 figure에 있는 그래프 파일로 저장\n",
    "plt.show()"
   ]
  },
  {
   "cell_type": "markdown",
   "id": "71fafdc7",
   "metadata": {},
   "source": [
    "## 모델 속성 확인\n",
    "---\n",
    "- DecisonTree에서 속성들 중에서 속성도 중요도를 감지 가능\n",
    "- Feature별로 특성들의 중요도 값\n",
    "- 모든 값 합치면 1"
   ]
  },
  {
   "cell_type": "code",
   "execution_count": 16,
   "id": "cb54e983",
   "metadata": {},
   "outputs": [
    {
     "data": {
      "text/plain": [
       "array([0.00944435, 0.0080277 , 0.        , 0.        , 0.00860111,\n",
       "       0.        , 0.        , 0.05120233, 0.        , 0.        ,\n",
       "       0.        , 0.        , 0.        , 0.01600893, 0.00188491,\n",
       "       0.        , 0.        , 0.        , 0.        , 0.01427147,\n",
       "       0.00668975, 0.06759236, 0.69546322, 0.        , 0.        ,\n",
       "       0.        , 0.        , 0.12081387, 0.        , 0.        ])"
      ]
     },
     "execution_count": 16,
     "metadata": {},
     "output_type": "execute_result"
    }
   ],
   "source": [
    "dtModel.feature_importances_"
   ]
  },
  {
   "cell_type": "code",
   "execution_count": 17,
   "id": "6aa41c56",
   "metadata": {},
   "outputs": [
    {
     "data": {
      "text/plain": [
       "22"
      ]
     },
     "execution_count": 17,
     "metadata": {},
     "output_type": "execute_result"
    }
   ],
   "source": [
    "dtModel.feature_importances_.argmax()"
   ]
  },
  {
   "cell_type": "code",
   "execution_count": 18,
   "id": "044c9ae9",
   "metadata": {},
   "outputs": [
    {
     "data": {
      "text/plain": [
       "'worst perimeter'"
      ]
     },
     "execution_count": 18,
     "metadata": {},
     "output_type": "execute_result"
    }
   ],
   "source": [
    "f_names[22]"
   ]
  },
  {
   "cell_type": "code",
   "execution_count": 19,
   "id": "82a49fbd",
   "metadata": {
    "scrolled": true
   },
   "outputs": [
    {
     "data": {
      "image/png": "[encoded data removed]",
      "text/plain": [
       "<Figure size 432x288 with 1 Axes>"
      ]
     },
     "metadata": {
      "needs_background": "light"
     },
     "output_type": "display_data"
    }
   ],
   "source": [
    "plt.barh(y=f_names, width=dtModel.feature_importances_)\n",
    "plt.show()"
   ]
  },
  {
   "cell_type": "markdown",
   "id": "27204e34",
   "metadata": {},
   "source": [
    "### RandomForest 학습 모델\n",
    "---\n",
    "- 100개 DecisonTree 모델\n",
    "- 중복허용된 랜덤샘플 데이터 + DecisionTree 모델"
   ]
  },
  {
   "cell_type": "code",
   "execution_count": 20,
   "id": "bf88d695",
   "metadata": {},
   "outputs": [],
   "source": [
    "from sklearn.ensemble import RandomForestClassifier"
   ]
  },
  {
   "cell_type": "code",
   "execution_count": 21,
   "id": "bc23c4d8",
   "metadata": {},
   "outputs": [],
   "source": [
    "# oob_score : 중복허용랜덤샘플에 포함되지 않은 데이터 => 검증용으로 사용\n",
    "forestModel = RandomForestClassifier(max_depth=5,\n",
    "                                    oob_score=True)"
   ]
  },
  {
   "cell_type": "code",
   "execution_count": 22,
   "id": "cc07e0ac",
   "metadata": {},
   "outputs": [
    {
     "data": {
      "text/html": [
       "<style>#sk-container-id-2 {color: black;background-color: white;}#sk-container-id-2 pre{padding: 0;}#sk-container-id-2 div.sk-toggleable {background-color: white;}#sk-container-id-2 label.sk-toggleable__label {cursor: pointer;display: block;width: 100%;margin-bottom: 0;padding: 0.3em;box-sizing: border-box;text-align: center;}#sk-container-id-2 label.sk-toggleable__label-arrow:before {content: \"▸\";float: left;margin-right: 0.25em;color: #696969;}#sk-container-id-2 label.sk-toggleable__label-arrow:hover:before {color: black;}#sk-container-id-2 div.sk-estimator:hover label.sk-toggleable__label-arrow:before {color: black;}#sk-container-id-2 div.sk-toggleable__content {max-height: 0;max-width: 0;overflow: hidden;text-align: left;background-color: #f0f8ff;}#sk-container-id-2 div.sk-toggleable__content pre {margin: 0.2em;color: black;border-radius: 0.25em;background-color: #f0f8ff;}#sk-container-id-2 input.sk-toggleable__control:checked~div.sk-toggleable__content {max-height: 200px;max-width: 100%;overflow: auto;}#sk-container-id-2 input.sk-toggleable__control:checked~label.sk-toggleable__label-arrow:before {content: \"▾\";}#sk-container-id-2 div.sk-estimator input.sk-toggleable__control:checked~label.sk-toggleable__label {background-color: #d4ebff;}#sk-container-id-2 div.sk-label input.sk-toggleable__control:checked~label.sk-toggleable__label {background-color: #d4ebff;}#sk-container-id-2 input.sk-hidden--visually {border: 0;clip: rect(1px 1px 1px 1px);clip: rect(1px, 1px, 1px, 1px);height: 1px;margin: -1px;overflow: hidden;padding: 0;position: absolute;width: 1px;}#sk-container-id-2 div.sk-estimator {font-family: monospace;background-color: #f0f8ff;border: 1px dotted black;border-radius: 0.25em;box-sizing: border-box;margin-bottom: 0.5em;}#sk-container-id-2 div.sk-estimator:hover {background-color: #d4ebff;}#sk-container-id-2 div.sk-parallel-item::after {content: \"\";width: 100%;border-bottom: 1px solid gray;flex-grow: 1;}#sk-container-id-2 div.sk-label:hover label.sk-toggleable__label {background-color: #d4ebff;}#sk-container-id-2 div.sk-serial::before {content: \"\";position: absolute;border-left: 1px solid gray;box-sizing: border-box;top: 0;bottom: 0;left: 50%;z-index: 0;}#sk-container-id-2 div.sk-serial {display: flex;flex-direction: column;align-items: center;background-color: white;padding-right: 0.2em;padding-left: 0.2em;position: relative;}#sk-container-id-2 div.sk-item {position: relative;z-index: 1;}#sk-container-id-2 div.sk-parallel {display: flex;align-items: stretch;justify-content: center;background-color: white;position: relative;}#sk-container-id-2 div.sk-item::before, #sk-container-id-2 div.sk-parallel-item::before {content: \"\";position: absolute;border-left: 1px solid gray;box-sizing: border-box;top: 0;bottom: 0;left: 50%;z-index: -1;}#sk-container-id-2 div.sk-parallel-item {display: flex;flex-direction: column;z-index: 1;position: relative;background-color: white;}#sk-container-id-2 div.sk-parallel-item:first-child::after {align-self: flex-end;width: 50%;}#sk-container-id-2 div.sk-parallel-item:last-child::after {align-self: flex-start;width: 50%;}#sk-container-id-2 div.sk-parallel-item:only-child::after {width: 0;}#sk-container-id-2 div.sk-dashed-wrapped {border: 1px dashed gray;margin: 0 0.4em 0.5em 0.4em;box-sizing: border-box;padding-bottom: 0.4em;background-color: white;}#sk-container-id-2 div.sk-label label {font-family: monospace;font-weight: bold;display: inline-block;line-height: 1.2em;}#sk-container-id-2 div.sk-label-container {text-align: center;}#sk-container-id-2 div.sk-container {/* jupyter's `normalize.less` sets `[hidden] { display: none; }` but bootstrap.min.css set `[hidden] { display: none !important; }` so we also need the `!important` here to be able to override the default hidden behavior on the sphinx rendered scikit-learn.org. See: https://github.com/scikit-learn/scikit-learn/issues/21755 */display: inline-block !important;position: relative;}#sk-container-id-2 div.sk-text-repr-fallback {display: none;}</style><div id=\"sk-container-id-2\" class=\"sk-top-container\"><div class=\"sk-text-repr-fallback\"><pre>RandomForestClassifier(max_depth=5, oob_score=True)</pre><b>In a Jupyter environment, please rerun this cell to show the HTML representation or trust the notebook. <br />On GitHub, the HTML representation is unable to render, please try loading this page with nbviewer.org.</b></div><div class=\"sk-container\" hidden><div class=\"sk-item\"><div class=\"sk-estimator sk-toggleable\"><input class=\"sk-toggleable__control sk-hidden--visually\" id=\"sk-estimator-id-2\" type=\"checkbox\" checked><label for=\"sk-estimator-id-2\" class=\"sk-toggleable__label sk-toggleable__label-arrow\">RandomForestClassifier</label><div class=\"sk-toggleable__content\"><pre>RandomForestClassifier(max_depth=5, oob_score=True)</pre></div></div></div></div></div>"
      ],
      "text/plain": [
       "RandomForestClassifier(max_depth=5, oob_score=True)"
      ]
     },
     "execution_count": 22,
     "metadata": {},
     "output_type": "execute_result"
    }
   ],
   "source": [
    "forestModel.fit(train_X, train_y)"
   ]
  },
  {
   "cell_type": "code",
   "execution_count": 23,
   "id": "82047030",
   "metadata": {},
   "outputs": [
    {
     "name": "stdout",
     "output_type": "stream",
     "text": [
      "classes_ : [0 1]\n"
     ]
    }
   ],
   "source": [
    "# 모델 학습 후 속성 ---------------------------\n",
    "print(f'classes_ : {forestModel.classes_}')"
   ]
  },
  {
   "cell_type": "code",
   "execution_count": 24,
   "id": "d2100d4d",
   "metadata": {},
   "outputs": [
    {
     "name": "stdout",
     "output_type": "stream",
     "text": [
      "base_estimator_ : DecisionTreeClassifier()\n"
     ]
    }
   ],
   "source": [
    "print(f'base_estimator_ : {forestModel.base_estimator_}')"
   ]
  },
  {
   "cell_type": "code",
   "execution_count": 25,
   "id": "26a93791",
   "metadata": {},
   "outputs": [
    {
     "name": "stdout",
     "output_type": "stream",
     "text": [
      "estimators_ : [DecisionTreeClassifier(max_depth=5, max_features='sqrt', random_state=455222607), DecisionTreeClassifier(max_depth=5, max_features='sqrt', random_state=836288348), DecisionTreeClassifier(max_depth=5, max_features='sqrt', random_state=761165139), DecisionTreeClassifier(max_depth=5, max_features='sqrt',\n",
      "                       random_state=1845786485), DecisionTreeClassifier(max_depth=5, max_features='sqrt', random_state=236975020), DecisionTreeClassifier(max_depth=5, max_features='sqrt', random_state=445958234), DecisionTreeClassifier(max_depth=5, max_features='sqrt', random_state=59475210), DecisionTreeClassifier(max_depth=5, max_features='sqrt',\n",
      "                       random_state=1397238448), DecisionTreeClassifier(max_depth=5, max_features='sqrt',\n",
      "                       random_state=1682792232), DecisionTreeClassifier(max_depth=5, max_features='sqrt',\n",
      "                       random_state=2054184479), DecisionTreeClassifier(max_depth=5, max_features='sqrt', random_state=773413541), DecisionTreeClassifier(max_depth=5, max_features='sqrt', random_state=47272284), DecisionTreeClassifier(max_depth=5, max_features='sqrt', random_state=113090236), DecisionTreeClassifier(max_depth=5, max_features='sqrt', random_state=311987135), DecisionTreeClassifier(max_depth=5, max_features='sqrt', random_state=502112506), DecisionTreeClassifier(max_depth=5, max_features='sqrt', random_state=48527661), DecisionTreeClassifier(max_depth=5, max_features='sqrt', random_state=405672590), DecisionTreeClassifier(max_depth=5, max_features='sqrt',\n",
      "                       random_state=1055311463), DecisionTreeClassifier(max_depth=5, max_features='sqrt', random_state=551577479), DecisionTreeClassifier(max_depth=5, max_features='sqrt', random_state=928532014), DecisionTreeClassifier(max_depth=5, max_features='sqrt',\n",
      "                       random_state=1961267545), DecisionTreeClassifier(max_depth=5, max_features='sqrt', random_state=259003237), DecisionTreeClassifier(max_depth=5, max_features='sqrt',\n",
      "                       random_state=1207755380), DecisionTreeClassifier(max_depth=5, max_features='sqrt', random_state=877269622), DecisionTreeClassifier(max_depth=5, max_features='sqrt', random_state=392310124), DecisionTreeClassifier(max_depth=5, max_features='sqrt',\n",
      "                       random_state=1805961779), DecisionTreeClassifier(max_depth=5, max_features='sqrt', random_state=639493334), DecisionTreeClassifier(max_depth=5, max_features='sqrt', random_state=73185902), DecisionTreeClassifier(max_depth=5, max_features='sqrt',\n",
      "                       random_state=1292828495), DecisionTreeClassifier(max_depth=5, max_features='sqrt',\n",
      "                       random_state=1809463408), DecisionTreeClassifier(max_depth=5, max_features='sqrt', random_state=470764524), DecisionTreeClassifier(max_depth=5, max_features='sqrt', random_state=170172621), DecisionTreeClassifier(max_depth=5, max_features='sqrt', random_state=330926317), DecisionTreeClassifier(max_depth=5, max_features='sqrt', random_state=34222134), DecisionTreeClassifier(max_depth=5, max_features='sqrt', random_state=361616860), DecisionTreeClassifier(max_depth=5, max_features='sqrt',\n",
      "                       random_state=1589828155), DecisionTreeClassifier(max_depth=5, max_features='sqrt', random_state=552600799), DecisionTreeClassifier(max_depth=5, max_features='sqrt', random_state=594991342), DecisionTreeClassifier(max_depth=5, max_features='sqrt',\n",
      "                       random_state=1453449403), DecisionTreeClassifier(max_depth=5, max_features='sqrt', random_state=799948830), DecisionTreeClassifier(max_depth=5, max_features='sqrt', random_state=46810131), DecisionTreeClassifier(max_depth=5, max_features='sqrt',\n",
      "                       random_state=1770877261), DecisionTreeClassifier(max_depth=5, max_features='sqrt',\n",
      "                       random_state=1246731511), DecisionTreeClassifier(max_depth=5, max_features='sqrt', random_state=508061179), DecisionTreeClassifier(max_depth=5, max_features='sqrt',\n",
      "                       random_state=1765949090), DecisionTreeClassifier(max_depth=5, max_features='sqrt', random_state=795384846), DecisionTreeClassifier(max_depth=5, max_features='sqrt',\n",
      "                       random_state=1885968653), DecisionTreeClassifier(max_depth=5, max_features='sqrt', random_state=72624539), DecisionTreeClassifier(max_depth=5, max_features='sqrt',\n",
      "                       random_state=1874095181), DecisionTreeClassifier(max_depth=5, max_features='sqrt',\n",
      "                       random_state=2084744278), DecisionTreeClassifier(max_depth=5, max_features='sqrt',\n",
      "                       random_state=1506251751), DecisionTreeClassifier(max_depth=5, max_features='sqrt',\n",
      "                       random_state=1113079663), DecisionTreeClassifier(max_depth=5, max_features='sqrt',\n",
      "                       random_state=1622797973), DecisionTreeClassifier(max_depth=5, max_features='sqrt', random_state=845994666), DecisionTreeClassifier(max_depth=5, max_features='sqrt', random_state=795725546), DecisionTreeClassifier(max_depth=5, max_features='sqrt',\n",
      "                       random_state=1445138771), DecisionTreeClassifier(max_depth=5, max_features='sqrt',\n",
      "                       random_state=1166568272), DecisionTreeClassifier(max_depth=5, max_features='sqrt',\n",
      "                       random_state=1660065892), DecisionTreeClassifier(max_depth=5, max_features='sqrt', random_state=36392704), DecisionTreeClassifier(max_depth=5, max_features='sqrt',\n",
      "                       random_state=2071702762), DecisionTreeClassifier(max_depth=5, max_features='sqrt',\n",
      "                       random_state=1992748254), DecisionTreeClassifier(max_depth=5, max_features='sqrt',\n",
      "                       random_state=1044693743), DecisionTreeClassifier(max_depth=5, max_features='sqrt',\n",
      "                       random_state=1457631100), DecisionTreeClassifier(max_depth=5, max_features='sqrt',\n",
      "                       random_state=1334531345), DecisionTreeClassifier(max_depth=5, max_features='sqrt', random_state=55416895), DecisionTreeClassifier(max_depth=5, max_features='sqrt', random_state=229273697), DecisionTreeClassifier(max_depth=5, max_features='sqrt', random_state=229215343), DecisionTreeClassifier(max_depth=5, max_features='sqrt', random_state=906866181), DecisionTreeClassifier(max_depth=5, max_features='sqrt', random_state=150851549), DecisionTreeClassifier(max_depth=5, max_features='sqrt',\n",
      "                       random_state=1043930585), DecisionTreeClassifier(max_depth=5, max_features='sqrt',\n",
      "                       random_state=1245730384), DecisionTreeClassifier(max_depth=5, max_features='sqrt', random_state=957551688), DecisionTreeClassifier(max_depth=5, max_features='sqrt', random_state=779015639), DecisionTreeClassifier(max_depth=5, max_features='sqrt', random_state=183782211), DecisionTreeClassifier(max_depth=5, max_features='sqrt', random_state=610400990), DecisionTreeClassifier(max_depth=5, max_features='sqrt',\n",
      "                       random_state=1604330671), DecisionTreeClassifier(max_depth=5, max_features='sqrt', random_state=923076223), DecisionTreeClassifier(max_depth=5, max_features='sqrt',\n",
      "                       random_state=1151223881), DecisionTreeClassifier(max_depth=5, max_features='sqrt',\n",
      "                       random_state=1770726669), DecisionTreeClassifier(max_depth=5, max_features='sqrt',\n",
      "                       random_state=2042056483), DecisionTreeClassifier(max_depth=5, max_features='sqrt',\n",
      "                       random_state=1458262395), DecisionTreeClassifier(max_depth=5, max_features='sqrt', random_state=863238787), DecisionTreeClassifier(max_depth=5, max_features='sqrt', random_state=654180015), DecisionTreeClassifier(max_depth=5, max_features='sqrt', random_state=448349449), DecisionTreeClassifier(max_depth=5, max_features='sqrt', random_state=310596234), DecisionTreeClassifier(max_depth=5, max_features='sqrt',\n",
      "                       random_state=1402444751), DecisionTreeClassifier(max_depth=5, max_features='sqrt', random_state=462597390), DecisionTreeClassifier(max_depth=5, max_features='sqrt', random_state=541964160), DecisionTreeClassifier(max_depth=5, max_features='sqrt',\n",
      "                       random_state=1400386251), DecisionTreeClassifier(max_depth=5, max_features='sqrt',\n",
      "                       random_state=1488604274), DecisionTreeClassifier(max_depth=5, max_features='sqrt',\n",
      "                       random_state=1183957244), DecisionTreeClassifier(max_depth=5, max_features='sqrt', random_state=503192310), DecisionTreeClassifier(max_depth=5, max_features='sqrt',\n",
      "                       random_state=1929154318), DecisionTreeClassifier(max_depth=5, max_features='sqrt',\n",
      "                       random_state=1025218164), DecisionTreeClassifier(max_depth=5, max_features='sqrt',\n",
      "                       random_state=2072968531), DecisionTreeClassifier(max_depth=5, max_features='sqrt', random_state=745053003), DecisionTreeClassifier(max_depth=5, max_features='sqrt', random_state=773154097), DecisionTreeClassifier(max_depth=5, max_features='sqrt', random_state=773023070), DecisionTreeClassifier(max_depth=5, max_features='sqrt', random_state=370788737), DecisionTreeClassifier(max_depth=5, max_features='sqrt',\n",
      "                       random_state=1435247639)]\n"
     ]
    }
   ],
   "source": [
    "print(f'estimators_ : {forestModel.estimators_}')"
   ]
  },
  {
   "cell_type": "code",
   "execution_count": 26,
   "id": "1a32ff34",
   "metadata": {},
   "outputs": [
    {
     "name": "stdout",
     "output_type": "stream",
     "text": [
      "forestModel.oob_score_ : 0.960093896713615\n"
     ]
    }
   ],
   "source": [
    "print(f'forestModel.oob_score_ : {forestModel.oob_score_}')"
   ]
  },
  {
   "cell_type": "code",
   "execution_count": 27,
   "id": "47560271",
   "metadata": {},
   "outputs": [],
   "source": [
    "bestMode=forestModel.base_estimator_"
   ]
  },
  {
   "cell_type": "code",
   "execution_count": 28,
   "id": "e10e700c",
   "metadata": {},
   "outputs": [],
   "source": [
    "## 평가\n",
    "train_score = forestModel.score(train_X, train_y)\n",
    "test_score = forestModel.score(test_X, test_y)"
   ]
  },
  {
   "cell_type": "code",
   "execution_count": 29,
   "id": "40e4b51b",
   "metadata": {},
   "outputs": [
    {
     "data": {
      "text/plain": [
       "(0.9929577464788732, 0.958041958041958)"
      ]
     },
     "execution_count": 29,
     "metadata": {},
     "output_type": "execute_result"
    }
   ],
   "source": [
    "train_score, test_score"
   ]
  },
  {
   "cell_type": "code",
   "execution_count": 30,
   "id": "5ece04e8",
   "metadata": {},
   "outputs": [
    {
     "data": {
      "text/plain": [
       "array([0.05161645, 0.01225532, 0.06105544, 0.02999706, 0.0052796 ,\n",
       "       0.01053588, 0.06608827, 0.12360586, 0.00476579, 0.00311714,\n",
       "       0.01010614, 0.00352256, 0.01171256, 0.05883438, 0.0037245 ,\n",
       "       0.00287077, 0.00248341, 0.00743046, 0.00462867, 0.00484201,\n",
       "       0.08599014, 0.01576483, 0.0927962 , 0.13795604, 0.01231352,\n",
       "       0.01701145, 0.03516979, 0.1046869 , 0.01395905, 0.00587982])"
      ]
     },
     "execution_count": 30,
     "metadata": {},
     "output_type": "execute_result"
    }
   ],
   "source": [
    "## 특성 중요도 저장 속성 그래프 출력\n",
    "forestModel.feature_importances_"
   ]
  },
  {
   "cell_type": "code",
   "execution_count": 31,
   "id": "3d7c8c2e",
   "metadata": {},
   "outputs": [
    {
     "data": {
      "image/png": "[encoded data removed]",
      "text/plain": [
       "<Figure size 432x288 with 1 Axes>"
      ]
     },
     "metadata": {
      "needs_background": "light"
     },
     "output_type": "display_data"
    }
   ],
   "source": [
    "plt.bar(f_names, forestModel.feature_importances_)\n",
    "plt.xticks(rotation=90)\n",
    "plt.show()"
   ]
  },
  {
   "cell_type": "code",
   "execution_count": 32,
   "id": "f59ed75e",
   "metadata": {},
   "outputs": [],
   "source": [
    "# plt.bar(x=np.arange(forestModel.n_features_),\n",
    "#         height=forestModel.feature_importances_)\n",
    "# plt.show()\n",
    "\n",
    "# plt.bar(y=np.arange(forestModel.n_features_),\n",
    "#         width=forestModel.feature_importances_)\n",
    "# plt.show()"
   ]
  },
  {
   "cell_type": "code",
   "execution_count": 35,
   "id": "b26c5b72",
   "metadata": {},
   "outputs": [],
   "source": [
    "# from sklearn utils import all_estimators"
   ]
  },
  {
   "cell_type": "code",
   "execution_count": null,
   "id": "c9be472a",
   "metadata": {},
   "outputs": [],
   "source": []
  }
 ],
 "metadata": {
  "kernelspec": {
   "display_name": "Python 3 (ipykernel)",
   "language": "python",
   "name": "python3"
  },
  "language_info": {
   "codemirror_mode": {
    "name": "ipython",
    "version": 3
   },
   "file_extension": ".py",
   "mimetype": "text/x-python",
   "name": "python",
   "nbconvert_exporter": "python",
   "pygments_lexer": "ipython3",
   "version": "3.9.12"
  }
 },
 "nbformat": 4,
 "nbformat_minor": 5
}
