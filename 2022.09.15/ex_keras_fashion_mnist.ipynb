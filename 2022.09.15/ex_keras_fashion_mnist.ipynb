{
 "cells": [
  {
   "cell_type": "code",
   "execution_count": 2,
   "id": "fbe7a40f",
   "metadata": {},
   "outputs": [],
   "source": [
    "# 모듈 로딩 ----------------------------------------------------------\n",
    "import numpy as np\n",
    "from tensorflow.keras import Sequential\n",
    "from sklearn.model_selection import train_test_split\n",
    "from tensorflow.keras.datasets.fashion_mnist import load_data\n",
    "from tensorflow.keras.layers import Dense, Dropout, Flatten"
   ]
  },
  {
   "cell_type": "code",
   "execution_count": 2,
   "id": "aeb4fd50",
   "metadata": {},
   "outputs": [],
   "source": [
    "### 모델 도식화 기능 ###\n",
    "# import 추가\n",
    "from tensorflow.keras.utils import plot_model"
   ]
  },
  {
   "cell_type": "code",
   "execution_count": 1,
   "id": "1fc9a0e6",
   "metadata": {},
   "outputs": [],
   "source": [
    "# 패키지 설치 추가\n",
    "# !pip install pydotplus\n",
    "# !pip install pydot\n",
    "# !pip install graphviz\n",
    "# https://graphviz.gitlab.io/download/\n",
    "# python.exe -m pip install --upgrade pip\n",
    "# plot_model(model, show_shapes=True, show_dtype=True)"
   ]
  },
  {
   "cell_type": "markdown",
   "id": "6fceddf3",
   "metadata": {},
   "source": [
    "### [1] 데이터 로딩 및 준비"
   ]
  },
  {
   "cell_type": "code",
   "execution_count": 3,
   "id": "9ff519bc",
   "metadata": {},
   "outputs": [],
   "source": [
    "(x_train, y_train), (x_test, y_test)=load_data()"
   ]
  },
  {
   "cell_type": "code",
   "execution_count": 4,
   "id": "a93b6767",
   "metadata": {},
   "outputs": [
    {
     "name": "stdout",
     "output_type": "stream",
     "text": [
      "x_train.shape : (60000, 28, 28), x_test.shape: (10000, 28, 28)\n"
     ]
    }
   ],
   "source": [
    "print(f'x_train.shape : {x_train.shape}, x_test.shape: {x_test.shape}')"
   ]
  },
  {
   "cell_type": "code",
   "execution_count": 5,
   "id": "3a0457ce",
   "metadata": {},
   "outputs": [],
   "source": [
    "# 검증용 데이터 셋 준비\n",
    "x_train, x_val, y_train, y_val=train_test_split(x_train, y_train,\n",
    "                                               stratify=y_train)"
   ]
  },
  {
   "cell_type": "code",
   "execution_count": 8,
   "id": "506880b9",
   "metadata": {},
   "outputs": [
    {
     "name": "stdout",
     "output_type": "stream",
     "text": [
      "x_train.shape : (45000, 28, 28), x_val.shape : (15000, 28, 28)\n",
      "y_train.shape : (45000,), y_val.shape : (15000,)\n"
     ]
    }
   ],
   "source": [
    "print(f'x_train.shape : {x_train.shape}, x_val.shape : {x_val.shape}')\n",
    "print(f'y_train.shape : {y_train.shape}, y_val.shape : {y_val.shape}')"
   ]
  },
  {
   "cell_type": "markdown",
   "id": "9aa262b5",
   "metadata": {},
   "source": [
    "### [2] 데이터 전처리\n",
    "---\n",
    "- 수치 데이터 => 스케일링\n",
    "- 범주형 데이터 => 원핫인코딩"
   ]
  },
  {
   "cell_type": "code",
   "execution_count": 9,
   "id": "427c5fb6",
   "metadata": {
    "scrolled": true
   },
   "outputs": [
    {
     "data": {
      "text/plain": [
       "(array([[  0,   0,   0,   0,   0,   0,   0,   0,   0,   0,   0,   0,   0,\n",
       "          42,  80, 115, 168, 185, 196, 165, 123,  91,  64,  61,  30,   0,\n",
       "           0,   0],\n",
       "        [  0,   0,   0,   0,   0,   0,   0,   0,   0,   0,   0,   0,   0,\n",
       "         250, 255, 255, 255, 251, 255, 255, 255, 255, 251, 255, 208,   0,\n",
       "           0,   0],\n",
       "        [  0,   0,   0,   0,   0,   0,   0,   0,   0,   0,   0,   0,   0,\n",
       "         216, 244, 227, 237, 237, 221, 219, 227, 235, 235, 254, 188,   0,\n",
       "           0,   0],\n",
       "        [  0,   0,   0,   0,   0,   0,   0,   0,   0,   0,   0,   1,   0,\n",
       "         215, 251, 231, 231, 242, 241, 242, 235, 228, 235, 251, 101,   0,\n",
       "           0,   0],\n",
       "        [  0,   0,   0,   0,   0,   0,   0,   0,   0,   0,   0,   2,   0,\n",
       "         164, 255, 237, 249, 239, 241, 249, 251, 247, 235, 255, 128,   0,\n",
       "           3,   0],\n",
       "        [  0,   0,   0,   0,   0,   0,   0,   0,   0,   0,   0,   2,   0,\n",
       "          29, 251, 233, 237, 237, 236, 240, 240, 238, 254, 255,  57,   0,\n",
       "           0,   0],\n",
       "        [  0,   0,   0,   0,   0,   0,   0,   0,   0,   0,   1,   0,   0,\n",
       "         216, 246, 236, 241, 240, 241, 244, 246, 241, 255, 189,   0,   0,\n",
       "           0,   0],\n",
       "        [  0,   0,   0,   0,   0,   0,   0,   0,   0,   0,   3,   0,   0,\n",
       "         255, 249, 234, 241, 243, 241, 239, 239, 243, 228, 255, 127,   0,\n",
       "           3,   0],\n",
       "        [  0,   0,   0,   0,   0,   0,   0,   0,   0,   0,   0,   0,   0,\n",
       "         112, 247, 232, 247, 245, 247, 245, 245, 250, 238, 248, 224,   0,\n",
       "           0,   0],\n",
       "        [  0,   0,   0,   0,   0,   0,   0,   0,   0,   0,   0,   1,   0,\n",
       "          32, 255, 239, 244, 244, 241, 240, 238, 236, 239, 231, 255,  56,\n",
       "           0,   0],\n",
       "        [  0,   0,   0,   0,   0,   0,   0,   0,   0,   0,   0,   0,   0,\n",
       "         186, 254, 228, 239, 234, 234, 238, 239, 233, 241, 230, 252, 183,\n",
       "           0,   0],\n",
       "        [  0,   0,   0,   0,   0,   0,   0,   0,   0,   0,   1,   0,   0,\n",
       "         253, 243, 234, 239, 243, 239, 241, 242, 243, 241, 240, 237, 255,\n",
       "           4,   0],\n",
       "        [  0,   0,   0,   0,   0,   0,   0,   0,   0,   0,   5,   0,   8,\n",
       "         255, 238, 235, 239, 241, 240, 238, 235, 237, 236, 239, 227, 255,\n",
       "         119,   0],\n",
       "        [  0,   0,   0,   0,   0,   0,   0,   0,   0,   0,   3,   0,  54,\n",
       "         253, 233, 238, 239, 241, 240, 237, 232, 233, 238, 238, 233, 255,\n",
       "         175,   0],\n",
       "        [  0,   0,   0,   0,   0,   0,   0,   0,   0,   0,   1,   0, 150,\n",
       "         250, 227, 238, 239, 242, 239, 237, 232, 232, 240, 238, 233, 255,\n",
       "         177,   0],\n",
       "        [  0,   0,   0,   0,   0,   0,   0,   0,   0,   0,   0,   0, 234,\n",
       "         244, 231, 238, 239, 240, 237, 235, 234, 235, 239, 239, 228, 255,\n",
       "         119,   0],\n",
       "        [  0,   0,   0,   0,   0,   0,   0,   0,   0,   0,   0,   3, 255,\n",
       "         236, 236, 239, 239, 240, 234, 233, 238, 232, 241, 235, 235, 255,\n",
       "          51,   0],\n",
       "        [  0,   0,   0,   0,   0,   0,   0,   0,   0,   1,   0, 100, 252,\n",
       "         232, 238, 238, 239, 240, 238, 236, 235, 255, 255, 255, 242, 255,\n",
       "           0,   0],\n",
       "        [  0,   0,   0,   0,   0,   0,   0,   0,   0,   0,   0, 248, 248,\n",
       "         238, 242, 238, 238, 242, 234, 234, 255, 209,   0,   3, 250, 210,\n",
       "           0,   0],\n",
       "        [  0,   0,   0,   0,   0,   0,   0,   0,   3,   0,  40, 255, 230,\n",
       "         242, 241, 238, 239, 243, 229, 255, 193,   0,   0,   0, 224, 134,\n",
       "           0,   0],\n",
       "        [  0,   0,   0,   2,   6,   3,   0,   0,   0,   0, 231, 254, 231,\n",
       "         240, 239, 241, 242, 242, 238, 255,   0,   0,   0,   0, 211,  91,\n",
       "           0,   0],\n",
       "        [  0,   0,   1,   0,   0,   0,   0,   0,  63, 236, 255, 235, 244,\n",
       "         245, 241, 241, 242, 237, 255,  95,   0,   1,   0,   0, 206,  71,\n",
       "           0,   0],\n",
       "        [  0,   0,   0,   0,  14,  92, 185, 255, 255, 255, 230, 242, 235,\n",
       "         240, 240, 239, 233, 247, 228,   0,   0,   0,   0,   0, 201,  39,\n",
       "           0,   0],\n",
       "        [  0,   0,  71, 191, 231, 247, 246, 236, 231, 232, 240, 240, 237,\n",
       "         239, 239, 242, 234, 255,  72,   0,   2,   1,   0,   0, 202,  24,\n",
       "           0,   0],\n",
       "        [  0,   0, 184, 255, 246, 232, 233, 232, 232, 234, 232, 234, 238,\n",
       "         239, 240, 233, 249, 228,   0,   0,   1,   2,   0,   0, 202,  12,\n",
       "           0,   0],\n",
       "        [  0,   0,   0,  87, 179, 203, 238, 252, 254, 246, 244, 244, 241,\n",
       "         240, 236, 243, 247,  40,   0,   1,   0,   2,   0,   0, 218,  16,\n",
       "           0,   0],\n",
       "        [  0,   0,   0,   0,   0,   0,   8,  77, 142, 203, 249, 255, 255,\n",
       "         255, 255, 255, 112,   0,   0,   3,   1,   2,   0,   0, 209,   5,\n",
       "           0,   0],\n",
       "        [  0,   0,   1,   2,   0,   0,   0,   0,   0,   0,   0,   0,   0,\n",
       "           8,  22,   0,   0,   3,   0,   0,   1,   3,   0,   0,   0,   0,\n",
       "           0,   0]], dtype=uint8),\n",
       " 9)"
      ]
     },
     "execution_count": 9,
     "metadata": {},
     "output_type": "execute_result"
    }
   ],
   "source": [
    "# 저장된 값 확인\n",
    "x_train[0], y_train[0]"
   ]
  },
  {
   "cell_type": "code",
   "execution_count": null,
   "id": "c1272305",
   "metadata": {},
   "outputs": [],
   "source": [
    "# 이미지 데이터의 픽셀값 즉 특성"
   ]
  }
 ],
 "metadata": {
  "kernelspec": {
   "display_name": "Python 3 (ipykernel)",
   "language": "python",
   "name": "python3"
  },
  "language_info": {
   "codemirror_mode": {
    "name": "ipython",
    "version": 3
   },
   "file_extension": ".py",
   "mimetype": "text/x-python",
   "name": "python",
   "nbconvert_exporter": "python",
   "pygments_lexer": "ipython3",
   "version": "3.9.12"
  }
 },
 "nbformat": 4,
 "nbformat_minor": 5
}
