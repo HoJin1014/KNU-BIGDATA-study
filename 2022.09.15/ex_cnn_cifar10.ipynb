{
 "cells": [
  {
   "cell_type": "markdown",
   "id": "d67faa39",
   "metadata": {},
   "source": [
    "## CiFAR 이미지 분류 모델 구현\n",
    "---\n",
    "- 데이터 : CiFAR10 https://www.cs.toronto.edu/~kriz/cifar.html\n",
    "- 학습방법 : 10가지 이미지 종류 분류 => 다중분류\n",
    "- 이미지 : DNN(MLP), CNN 적용"
   ]
  },
  {
   "cell_type": "code",
   "execution_count": 1,
   "id": "7171e0b6",
   "metadata": {},
   "outputs": [],
   "source": [
    "from tensorflow.keras.utils import set_random_seed, plot_model\n",
    "from tensorflow.keras import Sequential\n",
    "from tensorflow.keras.layers import Dense, Conv2D, Flatten, MaxPool2D\n",
    "from tensorflow.keras.datasets.cifar10 import load_data\n",
    "import numpy as np\n",
    "import matplotlib.pyplot as plt"
   ]
  },
  {
   "cell_type": "code",
   "execution_count": 2,
   "id": "139a85c0",
   "metadata": {},
   "outputs": [],
   "source": [
    "# W,b 고정하도록 seed 설정\n",
    "set_random_seed(11)"
   ]
  },
  {
   "cell_type": "markdown",
   "id": "55fddad4",
   "metadata": {},
   "source": [
    "## [1] 데이터 준비 및 로딩"
   ]
  },
  {
   "cell_type": "code",
   "execution_count": 3,
   "id": "784da7bd",
   "metadata": {},
   "outputs": [],
   "source": [
    "(x_train, y_train), (x_test, y_test) = load_data()"
   ]
  },
  {
   "cell_type": "code",
   "execution_count": 4,
   "id": "b053e02b",
   "metadata": {},
   "outputs": [
    {
     "name": "stdout",
     "output_type": "stream",
     "text": [
      " x_train.shape: (50000, 32, 32, 3), y_train.shape : (50000, 1)\n",
      " x_test.shape: (10000, 32, 32, 3), y_test.shape : (10000, 1)\n"
     ]
    }
   ],
   "source": [
    "print(f' x_train.shape: {x_train.shape}, y_train.shape : {y_train.shape}')\n",
    "print(f' x_test.shape: {x_test.shape}, y_test.shape : {y_test.shape}')"
   ]
  },
  {
   "cell_type": "markdown",
   "id": "af4d7c9d",
   "metadata": {},
   "source": [
    "## [2] 데이터 전처리 및 학습형태로 변환"
   ]
  },
  {
   "cell_type": "code",
   "execution_count": 5,
   "id": "6ac7784d",
   "metadata": {},
   "outputs": [],
   "source": [
    "# 스켈일링 => 픽셀 /255.0\n",
    "x_train=x_train/255.0\n",
    "x_test=x_test/255.0"
   ]
  },
  {
   "cell_type": "code",
   "execution_count": 6,
   "id": "74dd8def",
   "metadata": {},
   "outputs": [],
   "source": [
    "# Conv 레이어는 이미지의 채널 정보까지 입력\n",
    "x_train=x_train.reshape(-1, 32, 32, 3)\n",
    "x_test=x_test.reshape(-1, 32, 32, 3)"
   ]
  },
  {
   "cell_type": "code",
   "execution_count": 7,
   "id": "f747755d",
   "metadata": {},
   "outputs": [
    {
     "name": "stdout",
     "output_type": "stream",
     "text": [
      "x_train.shape : (50000, 32, 32, 3), x_test.shape : (10000, 32, 32, 3)\n"
     ]
    }
   ],
   "source": [
    "print(f'x_train.shape : {x_train.shape}, x_test.shape : {x_test.shape}')"
   ]
  },
  {
   "cell_type": "code",
   "execution_count": 8,
   "id": "a03aeb67",
   "metadata": {},
   "outputs": [],
   "source": [
    "# 검증용 데이터 준비\n",
    "from sklearn.model_selection import train_test_split"
   ]
  },
  {
   "cell_type": "code",
   "execution_count": 9,
   "id": "cf1c83bc",
   "metadata": {},
   "outputs": [],
   "source": [
    "x_train, x_val, y_train, y_val = train_test_split(x_train, y_train,\n",
    "                                                  stratify=y_train,\n",
    "                                                  random_state=11)"
   ]
  },
  {
   "cell_type": "code",
   "execution_count": 10,
   "id": "64d4ac66",
   "metadata": {},
   "outputs": [
    {
     "name": "stdout",
     "output_type": "stream",
     "text": [
      "x_train.shape : (37500, 32, 32, 3)\n",
      "x_val.shape : (12500, 32, 32, 3)\n",
      "x_test.shape : (10000, 32, 32, 3)\n"
     ]
    }
   ],
   "source": [
    "print(f'x_train.shape : {x_train.shape}\\nx_val.shape : {x_val.shape}\\nx_test.shape : {x_test.shape}')"
   ]
  },
  {
   "cell_type": "markdown",
   "id": "110afe27",
   "metadata": {},
   "source": [
    "## [3] 모델 구성 및 생성"
   ]
  },
  {
   "cell_type": "code",
   "execution_count": 11,
   "id": "d9a24a28",
   "metadata": {},
   "outputs": [],
   "source": [
    "model=Sequential()"
   ]
  },
  {
   "cell_type": "code",
   "execution_count": 12,
   "id": "d24552e4",
   "metadata": {},
   "outputs": [],
   "source": [
    "# 이미지 특징 추출 Layer => 첫번째 입력값 설정\n",
    "model.add(Conv2D(10, kernel_size=3, padding='same', input_shape=(32,32,3)))"
   ]
  },
  {
   "cell_type": "code",
   "execution_count": 13,
   "id": "69bd3d26",
   "metadata": {},
   "outputs": [],
   "source": [
    "# 이미지 특징 다운샘플링 Layer => MaxPool2D\n",
    "model.add(MaxPool2D())"
   ]
  },
  {
   "cell_type": "code",
   "execution_count": 14,
   "id": "4705f8a5",
   "metadata": {},
   "outputs": [],
   "source": [
    "model.add(Conv2D(10, kernel_size=3, padding='same'))"
   ]
  },
  {
   "cell_type": "code",
   "execution_count": 15,
   "id": "bb009ebe",
   "metadata": {},
   "outputs": [],
   "source": [
    "# 1차원으로 데이터 형태 변환 Layer => Flatten\n",
    "model.add(Flatten())"
   ]
  },
  {
   "cell_type": "code",
   "execution_count": 16,
   "id": "6eebc646",
   "metadata": {},
   "outputs": [],
   "source": [
    "# 출력층 => Node : 10개(0~9), activation : softmax\n",
    "model.add(Dense(10, activation='softmax'))"
   ]
  },
  {
   "cell_type": "code",
   "execution_count": 17,
   "id": "e005478c",
   "metadata": {
    "scrolled": true
   },
   "outputs": [
    {
     "name": "stdout",
     "output_type": "stream",
     "text": [
      "Model: \"sequential\"\n",
      "_________________________________________________________________\n",
      " Layer (type)                Output Shape              Param #   \n",
      "=================================================================\n",
      " conv2d (Conv2D)             (None, 32, 32, 10)        280       \n",
      "                                                                 \n",
      " max_pooling2d (MaxPooling2D  (None, 16, 16, 10)       0         \n",
      " )                                                               \n",
      "                                                                 \n",
      " conv2d_1 (Conv2D)           (None, 16, 16, 10)        910       \n",
      "                                                                 \n",
      " flatten (Flatten)           (None, 2560)              0         \n",
      "                                                                 \n",
      " dense (Dense)               (None, 10)                25610     \n",
      "                                                                 \n",
      "=================================================================\n",
      "Total params: 26,800\n",
      "Trainable params: 26,800\n",
      "Non-trainable params: 0\n",
      "_________________________________________________________________\n"
     ]
    }
   ],
   "source": [
    "model.summary()"
   ]
  },
  {
   "cell_type": "code",
   "execution_count": 18,
   "id": "3a536ca5",
   "metadata": {},
   "outputs": [
    {
     "data": {
      "image/png": "[encoded data removed]",
      "text/plain": [
       "<IPython.core.display.Image object>"
      ]
     },
     "execution_count": 18,
     "metadata": {},
     "output_type": "execute_result"
    }
   ],
   "source": [
    "plot_model(model, show_shapes=True) # to_file='cnn.png' - 파일 저장"
   ]
  },
  {
   "cell_type": "code",
   "execution_count": 19,
   "id": "4168c07a",
   "metadata": {
    "scrolled": true
   },
   "outputs": [
    {
     "data": {
      "image/png": "[encoded data removed]",
      "text/plain": [
       "<Figure size 432x288 with 1 Axes>"
      ]
     },
     "metadata": {
      "needs_background": "light"
     },
     "output_type": "display_data"
    }
   ],
   "source": [
    "plt.imshow(x_val[3].reshape(32,32,3), cmap='gray')\n",
    "plt.title(f'Label - {y_val[3]}')\n",
    "plt.show()"
   ]
  },
  {
   "cell_type": "markdown",
   "id": "a5686dfb",
   "metadata": {},
   "source": [
    "## [3-2] 모델 생성"
   ]
  },
  {
   "cell_type": "code",
   "execution_count": 20,
   "id": "9df7f0a0",
   "metadata": {},
   "outputs": [],
   "source": [
    "model.compile(loss='sparse_categorical_crossentropy',\n",
    "             optimizer='adam',\n",
    "             metrics='accuracy')"
   ]
  },
  {
   "cell_type": "markdown",
   "id": "56af6103",
   "metadata": {},
   "source": [
    "## [3-3] 모델 학습"
   ]
  },
  {
   "cell_type": "code",
   "execution_count": 21,
   "id": "fc9e2b0d",
   "metadata": {},
   "outputs": [
    {
     "name": "stdout",
     "output_type": "stream",
     "text": [
      "Epoch 1/30\n",
      "1172/1172 [==============================] - 11s 9ms/step - loss: 1.6718 - accuracy: 0.4133\n",
      "Epoch 2/30\n",
      "1172/1172 [==============================] - 12s 10ms/step - loss: 1.4950 - accuracy: 0.4863\n",
      "Epoch 3/30\n",
      "1172/1172 [==============================] - 12s 10ms/step - loss: 1.4029 - accuracy: 0.5154\n",
      "Epoch 4/30\n",
      "1172/1172 [==============================] - 11s 10ms/step - loss: 1.3089 - accuracy: 0.5491\n",
      "Epoch 5/30\n",
      "1172/1172 [==============================] - 11s 10ms/step - loss: 1.2433 - accuracy: 0.5722\n",
      "Epoch 6/30\n",
      "1172/1172 [==============================] - 11s 10ms/step - loss: 1.1903 - accuracy: 0.5907\n",
      "Epoch 7/30\n",
      "1172/1172 [==============================] - 11s 10ms/step - loss: 1.1587 - accuracy: 0.6001\n",
      "Epoch 8/30\n",
      "1172/1172 [==============================] - 11s 10ms/step - loss: 1.1334 - accuracy: 0.6115\n",
      "Epoch 9/30\n",
      "1172/1172 [==============================] - 11s 10ms/step - loss: 1.1006 - accuracy: 0.6221\n",
      "Epoch 10/30\n",
      "1172/1172 [==============================] - 12s 10ms/step - loss: 1.0838 - accuracy: 0.6292\n",
      "Epoch 11/30\n",
      "1172/1172 [==============================] - 12s 11ms/step - loss: 1.0654 - accuracy: 0.6347\n",
      "Epoch 12/30\n",
      "1172/1172 [==============================] - 12s 10ms/step - loss: 1.0525 - accuracy: 0.6401\n",
      "Epoch 13/30\n",
      "1172/1172 [==============================] - 11s 10ms/step - loss: 1.0416 - accuracy: 0.6443\n",
      "Epoch 14/30\n",
      "1172/1172 [==============================] - 12s 11ms/step - loss: 1.0302 - accuracy: 0.6472\n",
      "Epoch 15/30\n",
      "1172/1172 [==============================] - 11s 10ms/step - loss: 1.0124 - accuracy: 0.6498\n",
      "Epoch 16/30\n",
      "1172/1172 [==============================] - 11s 10ms/step - loss: 1.0080 - accuracy: 0.6534\n",
      "Epoch 17/30\n",
      "1172/1172 [==============================] - 11s 10ms/step - loss: 1.0001 - accuracy: 0.6564\n",
      "Epoch 18/30\n",
      "1172/1172 [==============================] - 11s 10ms/step - loss: 0.9900 - accuracy: 0.6584\n",
      "Epoch 19/30\n",
      "1172/1172 [==============================] - 11s 10ms/step - loss: 0.9835 - accuracy: 0.6589\n",
      "Epoch 20/30\n",
      "1172/1172 [==============================] - 11s 10ms/step - loss: 0.9733 - accuracy: 0.6648\n",
      "Epoch 21/30\n",
      "1172/1172 [==============================] - 11s 10ms/step - loss: 0.9675 - accuracy: 0.6652\n",
      "Epoch 22/30\n",
      "1172/1172 [==============================] - 11s 10ms/step - loss: 0.9598 - accuracy: 0.6702\n",
      "Epoch 23/30\n",
      "1172/1172 [==============================] - 11s 10ms/step - loss: 0.9524 - accuracy: 0.6709\n",
      "Epoch 24/30\n",
      "1172/1172 [==============================] - 12s 10ms/step - loss: 0.9505 - accuracy: 0.6734\n",
      "Epoch 25/30\n",
      "1172/1172 [==============================] - 11s 10ms/step - loss: 0.9407 - accuracy: 0.6773\n",
      "Epoch 26/30\n",
      "1172/1172 [==============================] - 11s 10ms/step - loss: 0.9371 - accuracy: 0.6791\n",
      "Epoch 27/30\n",
      "1172/1172 [==============================] - 12s 10ms/step - loss: 0.9299 - accuracy: 0.6774\n",
      "Epoch 28/30\n",
      "1172/1172 [==============================] - 11s 10ms/step - loss: 0.9345 - accuracy: 0.6771\n",
      "Epoch 29/30\n",
      "1172/1172 [==============================] - 11s 10ms/step - loss: 0.9248 - accuracy: 0.6781\n",
      "Epoch 30/30\n",
      "1172/1172 [==============================] - 12s 10ms/step - loss: 0.9197 - accuracy: 0.6819\n"
     ]
    },
    {
     "data": {
      "text/plain": [
       "<keras.callbacks.History at 0x1e508e9e7c0>"
      ]
     },
     "execution_count": 21,
     "metadata": {},
     "output_type": "execute_result"
    }
   ],
   "source": [
    "model.fit(x_train, y_train, epochs=30) # verbose=False"
   ]
  },
  {
   "cell_type": "markdown",
   "id": "5be53b2f",
   "metadata": {},
   "source": [
    "## [4] 평가\n",
    "---\n",
    "- evaluate 메서드\n",
    "- 테스트 데이터, 테스트 라벨"
   ]
  },
  {
   "cell_type": "code",
   "execution_count": 22,
   "id": "4bb8f827",
   "metadata": {},
   "outputs": [
    {
     "name": "stdout",
     "output_type": "stream",
     "text": [
      "313/313 [==============================] - 2s 4ms/step - loss: 1.2918 - accuracy: 0.5784\n"
     ]
    },
    {
     "data": {
      "text/plain": [
       "[1.2918498516082764, 0.5784000158309937]"
      ]
     },
     "execution_count": 22,
     "metadata": {},
     "output_type": "execute_result"
    }
   ],
   "source": [
    "model.evaluate(x_test, y_test)"
   ]
  },
  {
   "cell_type": "markdown",
   "id": "39adde0c",
   "metadata": {},
   "source": [
    "## [5] 테스트\n",
    "---\n",
    "- 새로운 데이터"
   ]
  },
  {
   "cell_type": "code",
   "execution_count": 23,
   "id": "0b8931e6",
   "metadata": {},
   "outputs": [
    {
     "data": {
      "text/plain": [
       "(32, 32, 3)"
      ]
     },
     "execution_count": 23,
     "metadata": {},
     "output_type": "execute_result"
    }
   ],
   "source": [
    "x_test[0].shape"
   ]
  },
  {
   "cell_type": "code",
   "execution_count": 26,
   "id": "6b60ce59",
   "metadata": {},
   "outputs": [
    {
     "name": "stdout",
     "output_type": "stream",
     "text": [
      "1/1 [==============================] - 0s 53ms/step\n"
     ]
    }
   ],
   "source": [
    "pre_y=model.predict(x_test[0].reshape(-1, 32, 32, 3))"
   ]
  },
  {
   "cell_type": "code",
   "execution_count": 27,
   "id": "f6e3da67",
   "metadata": {},
   "outputs": [
    {
     "data": {
      "text/plain": [
       "(array([[0.  , 0.05, 0.  , 0.83, 0.  , 0.01, 0.05, 0.  , 0.06, 0.  ]],\n",
       "       dtype=float32),\n",
       " (1, 10))"
      ]
     },
     "execution_count": 27,
     "metadata": {},
     "output_type": "execute_result"
    }
   ],
   "source": [
    "pre_y.round(2), pre_y.shape"
   ]
  },
  {
   "cell_type": "code",
   "execution_count": 28,
   "id": "9fe7e4db",
   "metadata": {},
   "outputs": [
    {
     "data": {
      "text/plain": [
       "array([3], dtype=uint8)"
      ]
     },
     "execution_count": 28,
     "metadata": {},
     "output_type": "execute_result"
    }
   ],
   "source": [
    "y_test[0]"
   ]
  },
  {
   "cell_type": "code",
   "execution_count": null,
   "id": "022c1236",
   "metadata": {},
   "outputs": [],
   "source": []
  }
 ],
 "metadata": {
  "kernelspec": {
   "display_name": "Python 3 (ipykernel)",
   "language": "python",
   "name": "python3"
  },
  "language_info": {
   "codemirror_mode": {
    "name": "ipython",
    "version": 3
   },
   "file_extension": ".py",
   "mimetype": "text/x-python",
   "name": "python",
   "nbconvert_exporter": "python",
   "pygments_lexer": "ipython3",
   "version": "3.9.12"
  }
 },
 "nbformat": 4,
 "nbformat_minor": 5
}
