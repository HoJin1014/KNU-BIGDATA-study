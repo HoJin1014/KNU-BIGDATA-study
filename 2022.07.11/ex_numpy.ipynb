{
 "cells": [
  {
   "cell_type": "markdown",
   "id": "3d719a3e",
   "metadata": {},
   "source": [
    "# Numpy 패키지 --------------------------------------\n",
    "\n",
    "- pandas에서 데이터를 저장 및 처리에 사용되는 패키지\n",
    "\n",
    "- 외부 패키지로 반드시 설치 필요\n",
    "\n",
    "- 고속 데이터 처리, 수치 계산 수행 패키지\n",
    "\n",
    "- 머신러닝/딥러닝용 패키지 Scikit-lern, Tensorflow, PyTorch, Keras 등등에서도 \n",
    "- 내부 데이터 저장 및 수치 계산 사용되는 패키지\n",
    "\n",
    "- [중요] 동일한 데이터 타입의 데이터를 저장하는 배열(Array) 타입!\n",
    "\n",
    "- 설치 : !pip install numpy (jupyter notebook에서 사용)"
   ]
  },
  {
   "cell_type": "code",
   "execution_count": 1,
   "id": "f8913c31",
   "metadata": {},
   "outputs": [
    {
     "data": {
      "text/plain": [
       "'1.21.5'"
      ]
     },
     "execution_count": 1,
     "metadata": {},
     "output_type": "execute_result"
    }
   ],
   "source": [
    "# 모듈 로딩 및 버전 확인 -----------------------------------\n",
    "import numpy as np\n",
    "\n",
    "np.__version__"
   ]
  },
  {
   "cell_type": "code",
   "execution_count": 2,
   "id": "61932f8d",
   "metadata": {},
   "outputs": [
    {
     "data": {
      "text/plain": [
       "array([1, 2, 3])"
      ]
     },
     "execution_count": 2,
     "metadata": {},
     "output_type": "execute_result"
    }
   ],
   "source": [
    "# ndarray 객체 생성 하기 ----------------------------------> numpy.array()\n",
    "\n",
    "arr1=np.array([1,2,3])\n",
    "arr1"
   ]
  },
  {
   "cell_type": "code",
   "execution_count": 3,
   "id": "d8b976e2",
   "metadata": {},
   "outputs": [
    {
     "data": {
      "text/plain": [
       "numpy.ndarray"
      ]
     },
     "execution_count": 3,
     "metadata": {},
     "output_type": "execute_result"
    }
   ],
   "source": [
    "type(arr1)"
   ]
  },
  {
   "cell_type": "code",
   "execution_count": 7,
   "id": "a05d4c6c",
   "metadata": {},
   "outputs": [
    {
     "name": "stdout",
     "output_type": "stream",
     "text": [
      "1\n",
      "(3,)\n",
      "int32\n",
      "4\n",
      "3\n"
     ]
    }
   ],
   "source": [
    "# ndarray 객체 속성 확인하기 -------------------------------\n",
    "# 객체변수명, 속성명\n",
    "# ndim : 차원 ( 예:1, 2, 3.....)\n",
    "# shape : 형태 ( 예: (갯수, ), (행, 열), (면, 행, 열))\n",
    "# dtype : 데이터 타입\n",
    "# itemsize : 배열 요소의 바이트 크기\n",
    "# size : 배열 요소 갯수\n",
    "print( arr1.ndim, arr1.shape, arr1.dtype, arr1.itemsize, arr1.size, sep='\\n')"
   ]
  },
  {
   "cell_type": "code",
   "execution_count": 11,
   "id": "84d7add7",
   "metadata": {},
   "outputs": [
    {
     "name": "stdout",
     "output_type": "stream",
     "text": [
      "객체변수명 arr1 => [1 2 3]\n",
      "객체변수명 arr1[0] => 1\n",
      "객체변수명 arr1[1] => 2\n"
     ]
    }
   ],
   "source": [
    "# 배열의 요소 즉 아이템, 원소 접근하기 ----------------------\n",
    "# 0-base 인덱스 자동 지정 => 객체변수명[ 인덱스 ]\n",
    "print(f'객체변수명 arr1 => {arr1}')\n",
    "print(f'객체변수명 arr1[0] => {arr1[0]}')\n",
    "print(f'객체변수명 arr1[1] => {arr1[1]}')"
   ]
  },
  {
   "cell_type": "code",
   "execution_count": 17,
   "id": "de45357a",
   "metadata": {},
   "outputs": [
    {
     "data": {
      "text/plain": [
       "array([1, 1, 1, 1], dtype=int16)"
      ]
     },
     "execution_count": 17,
     "metadata": {},
     "output_type": "execute_result"
    }
   ],
   "source": [
    "# 모든 값을 1로 채워서 ndarray 객체 생성 함수 => ones()\n",
    "arr2=np.array([1,1,1,1])\n",
    "arr2=np.ones(4, dtype=np.int16)\n",
    "arr2"
   ]
  },
  {
   "cell_type": "code",
   "execution_count": 19,
   "id": "eae9bbb9",
   "metadata": {},
   "outputs": [
    {
     "name": "stdout",
     "output_type": "stream",
     "text": [
      "1\n",
      "(4,)\n",
      "int16\n",
      "2\n",
      "4\n",
      "객체변수명 arr2 => [1 1 1 1]\n",
      "객체변수명 arr2[0] => 1\n",
      "객체변수명 arr2[1] => 1\n"
     ]
    }
   ],
   "source": [
    "print( arr2.ndim, arr2.shape, arr2.dtype, arr2.itemsize, arr2.size, sep='\\n')\n",
    "print(f'객체변수명 arr2 => {arr2}')\n",
    "print(f'객체변수명 arr2[0] => {arr2[0]}')\n",
    "print(f'객체변수명 arr2[1] => {arr2[1]}')"
   ]
  },
  {
   "cell_type": "code",
   "execution_count": 20,
   "id": "97593007",
   "metadata": {},
   "outputs": [
    {
     "data": {
      "text/plain": [
       "array([[0., 0., 0.],\n",
       "       [0., 0., 0.]])"
      ]
     },
     "execution_count": 20,
     "metadata": {},
     "output_type": "execute_result"
    }
   ],
   "source": [
    "# 초기화하지 않고 ndarray 객체 생성 => numpy.empty()\n",
    "arr3=np.empty((2,3))\n",
    "arr3"
   ]
  },
  {
   "cell_type": "code",
   "execution_count": 21,
   "id": "26072995",
   "metadata": {},
   "outputs": [
    {
     "data": {
      "text/plain": [
       "array([[0., 0., 0.],\n",
       "       [0., 0., 0.]])"
      ]
     },
     "execution_count": 21,
     "metadata": {},
     "output_type": "execute_result"
    }
   ],
   "source": [
    "arr3=np.empty((2,3))\n",
    "arr3"
   ]
  },
  {
   "cell_type": "code",
   "execution_count": 22,
   "id": "cac5187e",
   "metadata": {},
   "outputs": [
    {
     "data": {
      "text/plain": [
       "array([[1, 2, 3],\n",
       "       [4, 5, 6]])"
      ]
     },
     "execution_count": 22,
     "metadata": {},
     "output_type": "execute_result"
    }
   ],
   "source": [
    "# 2차원 형태의 ndarray 객체 생성\n",
    "arr4=np.array([[1,2,3],[4,5,6]])\n",
    "arr4"
   ]
  },
  {
   "cell_type": "code",
   "execution_count": 23,
   "id": "164a1a54",
   "metadata": {},
   "outputs": [
    {
     "data": {
      "text/plain": [
       "((2, 3), 2)"
      ]
     },
     "execution_count": 23,
     "metadata": {},
     "output_type": "execute_result"
    }
   ],
   "source": [
    "arr4.shape, arr4.ndim"
   ]
  },
  {
   "cell_type": "code",
   "execution_count": 26,
   "id": "b9811d9d",
   "metadata": {},
   "outputs": [],
   "source": [
    "# 2차원 => 1차원\n",
    "arr5=arr4.flatten()"
   ]
  },
  {
   "cell_type": "code",
   "execution_count": 27,
   "id": "b5bbb856",
   "metadata": {},
   "outputs": [
    {
     "data": {
      "text/plain": [
       "((6,), 2)"
      ]
     },
     "execution_count": 27,
     "metadata": {},
     "output_type": "execute_result"
    }
   ],
   "source": [
    "arr5.shape, arr4.ndim"
   ]
  },
  {
   "cell_type": "code",
   "execution_count": 28,
   "id": "df3a44be",
   "metadata": {},
   "outputs": [
    {
     "data": {
      "text/plain": [
       "array([[1, 2, 3, 4, 5, 6]])"
      ]
     },
     "execution_count": 28,
     "metadata": {},
     "output_type": "execute_result"
    }
   ],
   "source": [
    "# 1차원 => 다른 차원으로 변경   reshape()\n",
    "arr6=arr5.reshape((1,6))\n",
    "arr6"
   ]
  },
  {
   "cell_type": "code",
   "execution_count": 29,
   "id": "3476502a",
   "metadata": {},
   "outputs": [
    {
     "data": {
      "text/plain": [
       "array([[1, 2, 3],\n",
       "       [4, 5, 6]])"
      ]
     },
     "execution_count": 29,
     "metadata": {},
     "output_type": "execute_result"
    }
   ],
   "source": [
    "arr6=arr5.reshape((2,3))\n",
    "arr6"
   ]
  },
  {
   "cell_type": "code",
   "execution_count": 31,
   "id": "468bf956",
   "metadata": {},
   "outputs": [
    {
     "data": {
      "text/plain": [
       "array([[[1, 2],\n",
       "        [3, 4],\n",
       "        [5, 6]]])"
      ]
     },
     "execution_count": 31,
     "metadata": {},
     "output_type": "execute_result"
    }
   ],
   "source": [
    "arr6=arr5.reshape((1,3,2))\n",
    "arr6"
   ]
  },
  {
   "cell_type": "code",
   "execution_count": 32,
   "id": "76afd3f5",
   "metadata": {},
   "outputs": [
    {
     "data": {
      "text/plain": [
       "((6,), 1)"
      ]
     },
     "execution_count": 32,
     "metadata": {},
     "output_type": "execute_result"
    }
   ],
   "source": [
    "arr7=arr6.flatten()\n",
    "arr7.shape, arr7.ndim"
   ]
  },
  {
   "cell_type": "code",
   "execution_count": 34,
   "id": "8c8c454b",
   "metadata": {},
   "outputs": [
    {
     "data": {
      "text/plain": [
       "array([0, 1, 2, 3, 4, 5, 6, 7])"
      ]
     },
     "execution_count": 34,
     "metadata": {},
     "output_type": "execute_result"
    }
   ],
   "source": [
    "# 차원/형태 변환 => reshape(-1, n), reshape(n, -1)\n",
    "arr8=np.arange(8)\n",
    "arr8"
   ]
  },
  {
   "cell_type": "code",
   "execution_count": 35,
   "id": "4e89d519",
   "metadata": {},
   "outputs": [
    {
     "data": {
      "text/plain": [
       "array([[0, 1],\n",
       "       [2, 3],\n",
       "       [4, 5],\n",
       "       [6, 7]])"
      ]
     },
     "execution_count": 35,
     "metadata": {},
     "output_type": "execute_result"
    }
   ],
   "source": [
    "arr9=arr8.reshape(-1,2)\n",
    "arr9"
   ]
  },
  {
   "cell_type": "code",
   "execution_count": 36,
   "id": "8f70ec9c",
   "metadata": {},
   "outputs": [],
   "source": [
    "# arr9=arr8.reshape(-1,3)             크기가 맞아야한다!\n",
    "# arr9"
   ]
  },
  {
   "cell_type": "code",
   "execution_count": 37,
   "id": "f8084e53",
   "metadata": {},
   "outputs": [
    {
     "data": {
      "text/plain": [
       "array([[0, 1, 2, 3],\n",
       "       [4, 5, 6, 7]])"
      ]
     },
     "execution_count": 37,
     "metadata": {},
     "output_type": "execute_result"
    }
   ],
   "source": [
    "arr9=arr8.reshape(2, -1)\n",
    "arr9"
   ]
  },
  {
   "cell_type": "code",
   "execution_count": 38,
   "id": "f0b546b3",
   "metadata": {},
   "outputs": [
    {
     "data": {
      "text/plain": [
       "array([[0],\n",
       "       [1],\n",
       "       [2],\n",
       "       [3],\n",
       "       [4],\n",
       "       [5],\n",
       "       [6],\n",
       "       [7]])"
      ]
     },
     "execution_count": 38,
     "metadata": {},
     "output_type": "execute_result"
    }
   ],
   "source": [
    "arr9=arr8.reshape(-1, 1)\n",
    "arr9"
   ]
  },
  {
   "cell_type": "code",
   "execution_count": null,
   "id": "090c62ab",
   "metadata": {},
   "outputs": [],
   "source": []
  }
 ],
 "metadata": {
  "kernelspec": {
   "display_name": "Python 3 (ipykernel)",
   "language": "python",
   "name": "python3"
  },
  "language_info": {
   "codemirror_mode": {
    "name": "ipython",
    "version": 3
   },
   "file_extension": ".py",
   "mimetype": "text/x-python",
   "name": "python",
   "nbconvert_exporter": "python",
   "pygments_lexer": "ipython3",
   "version": "3.9.12"
  }
 },
 "nbformat": 4,
 "nbformat_minor": 5
}
