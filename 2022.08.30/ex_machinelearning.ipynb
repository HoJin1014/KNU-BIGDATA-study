{
 "cells": [
  {
   "cell_type": "markdown",
   "id": "8eee5591",
   "metadata": {},
   "source": [
    "# 머신 러닝\n",
    " - 도미 데이터"
   ]
  },
  {
   "cell_type": "markdown",
   "id": "4e70a039",
   "metadata": {},
   "source": [
    "# 1장 생선 분류 문제"
   ]
  },
  {
   "cell_type": "code",
   "execution_count": 5,
   "id": "5c56bacc",
   "metadata": {},
   "outputs": [],
   "source": [
    "# 도미(bream) 데이터 활용:\n",
    "# 총 35마리의 데이터, 길이와 무게를 이용한 산점도(scatter plot) 그리기\n",
    "bream_length = [25.4, 26.3, 26.5, 29.0, 29.0, 29.7, 29.7, 30.0, 30.0, \n",
    "                30.7, 31.0, 31.0, 31.5, 32.0, 32.0, 32.0, 33.0, 33.0, \n",
    "                33.5, 33.5, 34.0, 34.0, 34.5, 35.0, 35.0, 35.0, 35.0, \n",
    "                36.0, 36.0, 37.0, 38.5, 38.5, 39.5, 41.0, 41.0]\n",
    "\n",
    "bream_weight = [242.0, 290.0, 340.0, 363.0, 430.0, 450.0, 500.0, 390.0, \n",
    "                450.0, 500.0, 475.0, 500.0, 500.0, 340.0, 600.0, 600.0, \n",
    "                700.0, 700.0, 610.0, 650.0, 575.0, 685.0, 620.0, 680.0,\n",
    "                700.0, 725.0, 720.0, 714.0, 850.0, 1000.0, 920.0, 955.0, \n",
    "                925.0, 975.0, 950.0]"
   ]
  },
  {
   "cell_type": "code",
   "execution_count": 4,
   "id": "b9ceec02",
   "metadata": {},
   "outputs": [
    {
     "data": {
      "image/png": "[encoded data removed]",
      "text/plain": [
       "<Figure size 432x288 with 1 Axes>"
      ]
     },
     "metadata": {
      "needs_background": "light"
     },
     "output_type": "display_data"
    }
   ],
   "source": [
    "import matplotlib.pyplot as plt\n",
    "\n",
    "plt.scatter(bream_length, bream_weight)\n",
    "plt.xlabel('bream length') # x축은 길이\n",
    "plt.ylabel('bream weight') # y축은 무게\n",
    "plt.show()"
   ]
  },
  {
   "cell_type": "code",
   "execution_count": 6,
   "id": "ca8cfe84",
   "metadata": {},
   "outputs": [],
   "source": [
    "# 빙어(smelt) 데이터\n",
    "# 총 14마리의 빙어 데이터\n",
    "smelt_length = [9.8, 10.5, 10.6, 11.0, 11.2, 11.3, 11.8, 11.8, 12.0, \n",
    "                12.2, 12.4, 13.0, 14.3, 15.0]\n",
    "\n",
    "smelt_weight = [6.7, 7.5, 7.0, 9.7, 9.8, 8.7, 10.0, 9.9, 9.8, 12.2, \n",
    "                13.4, 12.2, 19.7, 19.9]"
   ]
  },
  {
   "cell_type": "code",
   "execution_count": 7,
   "id": "afdf42ea",
   "metadata": {},
   "outputs": [
    {
     "data": {
      "image/png": "[encoded data removed]",
      "text/plain": [
       "<Figure size 432x288 with 1 Axes>"
      ]
     },
     "metadata": {
      "needs_background": "light"
     },
     "output_type": "display_data"
    }
   ],
   "source": [
    "# 도미 데이터와 빙어 데이터 비교 (산점도)\n",
    "plt.scatter(bream_length, bream_weight, label='bream')\n",
    "plt.scatter(smelt_length, smelt_weight, label='smelt')\n",
    "plt.xlabel('length')\n",
    "plt.ylabel('weight')\n",
    "plt.legend()\n",
    "plt.show()"
   ]
  },
  {
   "cell_type": "code",
   "execution_count": 9,
   "id": "e600883e",
   "metadata": {},
   "outputs": [
    {
     "name": "stdout",
     "output_type": "stream",
     "text": [
      "[[25.4, 242.0], [26.3, 290.0], [26.5, 340.0], [29.0, 363.0], [29.0, 430.0], [29.7, 450.0], [29.7, 500.0], [30.0, 390.0], [30.0, 450.0], [30.7, 500.0], [31.0, 475.0], [31.0, 500.0], [31.5, 500.0], [32.0, 340.0], [32.0, 600.0], [32.0, 600.0], [33.0, 700.0], [33.0, 700.0], [33.5, 610.0], [33.5, 650.0], [34.0, 575.0], [34.0, 685.0], [34.5, 620.0], [35.0, 680.0], [35.0, 700.0], [35.0, 725.0], [35.0, 720.0], [36.0, 714.0], [36.0, 850.0], [37.0, 1000.0], [38.5, 920.0], [38.5, 955.0], [39.5, 925.0], [41.0, 975.0], [41.0, 950.0], [9.8, 6.7], [10.5, 7.5], [10.6, 7.0], [11.0, 9.7], [11.2, 9.8], [11.3, 8.7], [11.8, 10.0], [11.8, 9.9], [12.0, 9.8], [12.2, 12.2], [12.4, 13.4], [13.0, 12.2], [14.3, 19.7], [15.0, 19.9]]\n"
     ]
    }
   ],
   "source": [
    "# 도미 데이터와 빙어 데이터 합치기\n",
    "length = bream_length + smelt_length\n",
    "weight = bream_weight + smelt_weight\n",
    "\n",
    "# 데이터 변형 (1차원 리스트 2개를 2차원 리스트로 변경)\n",
    "# zip(length, weight)함수를 이용 (길이와 무게를 하나의 쌍으로 묶음)\n",
    "fish_data = [[l, w] for l, w in zip(length, weight)]\n",
    "print(fish_data)"
   ]
  },
  {
   "cell_type": "code",
   "execution_count": 10,
   "id": "a53775f3",
   "metadata": {},
   "outputs": [
    {
     "name": "stdout",
     "output_type": "stream",
     "text": [
      "[1, 1, 1, 1, 1, 1, 1, 1, 1, 1, 1, 1, 1, 1, 1, 1, 1, 1, 1, 1, 1, 1, 1, 1, 1, 1, 1, 1, 1, 1, 1, 1, 1, 1, 1, 0, 0, 0, 0, 0, 0, 0, 0, 0, 0, 0, 0, 0, 0]\n"
     ]
    }
   ],
   "source": [
    "# 정답 데이터(fish_target) 준비\n",
    "# 생선의 길이와 무게를 이용하여 도미(1)와 빙어(0)를 구분\n",
    "# 찾고자 하는 데이터(도미)를 1로 설정\n",
    "# 원본 데이터: 도미 데이터-35마리의 데이터를 1로 설정, 빙어 데이터: 14마리 0\n",
    "fish_target = [1] * 35 + [0] * 14\n",
    "print(fish_target)"
   ]
  },
  {
   "cell_type": "code",
   "execution_count": 11,
   "id": "64ce6f69",
   "metadata": {},
   "outputs": [],
   "source": [
    "# kNN 모델 생성- KNeighborClaifier(n_ngighbors, ...)객체 생성\n",
    "# 기본 이웃의 개수 : n_neighbors=5\n",
    "from sklearn.neighbors import KNeighborsClassifier\n",
    "kn = KNeighborsClassifier()"
   ]
  },
  {
   "cell_type": "code",
   "execution_count": 12,
   "id": "8c3b161d",
   "metadata": {},
   "outputs": [
    {
     "data": {
      "text/html": [
       "<style>#sk-container-id-1 {color: black;background-color: white;}#sk-container-id-1 pre{padding: 0;}#sk-container-id-1 div.sk-toggleable {background-color: white;}#sk-container-id-1 label.sk-toggleable__label {cursor: pointer;display: block;width: 100%;margin-bottom: 0;padding: 0.3em;box-sizing: border-box;text-align: center;}#sk-container-id-1 label.sk-toggleable__label-arrow:before {content: \"▸\";float: left;margin-right: 0.25em;color: #696969;}#sk-container-id-1 label.sk-toggleable__label-arrow:hover:before {color: black;}#sk-container-id-1 div.sk-estimator:hover label.sk-toggleable__label-arrow:before {color: black;}#sk-container-id-1 div.sk-toggleable__content {max-height: 0;max-width: 0;overflow: hidden;text-align: left;background-color: #f0f8ff;}#sk-container-id-1 div.sk-toggleable__content pre {margin: 0.2em;color: black;border-radius: 0.25em;background-color: #f0f8ff;}#sk-container-id-1 input.sk-toggleable__control:checked~div.sk-toggleable__content {max-height: 200px;max-width: 100%;overflow: auto;}#sk-container-id-1 input.sk-toggleable__control:checked~label.sk-toggleable__label-arrow:before {content: \"▾\";}#sk-container-id-1 div.sk-estimator input.sk-toggleable__control:checked~label.sk-toggleable__label {background-color: #d4ebff;}#sk-container-id-1 div.sk-label input.sk-toggleable__control:checked~label.sk-toggleable__label {background-color: #d4ebff;}#sk-container-id-1 input.sk-hidden--visually {border: 0;clip: rect(1px 1px 1px 1px);clip: rect(1px, 1px, 1px, 1px);height: 1px;margin: -1px;overflow: hidden;padding: 0;position: absolute;width: 1px;}#sk-container-id-1 div.sk-estimator {font-family: monospace;background-color: #f0f8ff;border: 1px dotted black;border-radius: 0.25em;box-sizing: border-box;margin-bottom: 0.5em;}#sk-container-id-1 div.sk-estimator:hover {background-color: #d4ebff;}#sk-container-id-1 div.sk-parallel-item::after {content: \"\";width: 100%;border-bottom: 1px solid gray;flex-grow: 1;}#sk-container-id-1 div.sk-label:hover label.sk-toggleable__label {background-color: #d4ebff;}#sk-container-id-1 div.sk-serial::before {content: \"\";position: absolute;border-left: 1px solid gray;box-sizing: border-box;top: 0;bottom: 0;left: 50%;z-index: 0;}#sk-container-id-1 div.sk-serial {display: flex;flex-direction: column;align-items: center;background-color: white;padding-right: 0.2em;padding-left: 0.2em;position: relative;}#sk-container-id-1 div.sk-item {position: relative;z-index: 1;}#sk-container-id-1 div.sk-parallel {display: flex;align-items: stretch;justify-content: center;background-color: white;position: relative;}#sk-container-id-1 div.sk-item::before, #sk-container-id-1 div.sk-parallel-item::before {content: \"\";position: absolute;border-left: 1px solid gray;box-sizing: border-box;top: 0;bottom: 0;left: 50%;z-index: -1;}#sk-container-id-1 div.sk-parallel-item {display: flex;flex-direction: column;z-index: 1;position: relative;background-color: white;}#sk-container-id-1 div.sk-parallel-item:first-child::after {align-self: flex-end;width: 50%;}#sk-container-id-1 div.sk-parallel-item:last-child::after {align-self: flex-start;width: 50%;}#sk-container-id-1 div.sk-parallel-item:only-child::after {width: 0;}#sk-container-id-1 div.sk-dashed-wrapped {border: 1px dashed gray;margin: 0 0.4em 0.5em 0.4em;box-sizing: border-box;padding-bottom: 0.4em;background-color: white;}#sk-container-id-1 div.sk-label label {font-family: monospace;font-weight: bold;display: inline-block;line-height: 1.2em;}#sk-container-id-1 div.sk-label-container {text-align: center;}#sk-container-id-1 div.sk-container {/* jupyter's `normalize.less` sets `[hidden] { display: none; }` but bootstrap.min.css set `[hidden] { display: none !important; }` so we also need the `!important` here to be able to override the default hidden behavior on the sphinx rendered scikit-learn.org. See: https://github.com/scikit-learn/scikit-learn/issues/21755 */display: inline-block !important;position: relative;}#sk-container-id-1 div.sk-text-repr-fallback {display: none;}</style><div id=\"sk-container-id-1\" class=\"sk-top-container\"><div class=\"sk-text-repr-fallback\"><pre>KNeighborsClassifier()</pre><b>In a Jupyter environment, please rerun this cell to show the HTML representation or trust the notebook. <br />On GitHub, the HTML representation is unable to render, please try loading this page with nbviewer.org.</b></div><div class=\"sk-container\" hidden><div class=\"sk-item\"><div class=\"sk-estimator sk-toggleable\"><input class=\"sk-toggleable__control sk-hidden--visually\" id=\"sk-estimator-id-1\" type=\"checkbox\" checked><label for=\"sk-estimator-id-1\" class=\"sk-toggleable__label sk-toggleable__label-arrow\">KNeighborsClassifier</label><div class=\"sk-toggleable__content\"><pre>KNeighborsClassifier()</pre></div></div></div></div></div>"
      ],
      "text/plain": [
       "KNeighborsClassifier()"
      ]
     },
     "execution_count": 12,
     "metadata": {},
     "output_type": "execute_result"
    }
   ],
   "source": [
    "# 모델 훈련(학습)\n",
    "# fit(Training data, Target values) 함수\n",
    "# fish_data와 fish_target을 이용하여 모델 훈련\n",
    "kn.fit(fish_data, fish_target)"
   ]
  },
  {
   "cell_type": "code",
   "execution_count": 13,
   "id": "6e91f411",
   "metadata": {},
   "outputs": [
    {
     "data": {
      "text/plain": [
       "1.0"
      ]
     },
     "execution_count": 13,
     "metadata": {},
     "output_type": "execute_result"
    }
   ],
   "source": [
    "# 모델 평가: score() 함수\n",
    "# score(Test samples, Target values): 정확도의 평균값 리턴\n",
    "kn.score(fish_data, fish_target)"
   ]
  },
  {
   "cell_type": "code",
   "execution_count": 14,
   "id": "180f1184",
   "metadata": {},
   "outputs": [
    {
     "data": {
      "text/plain": [
       "array([1])"
      ]
     },
     "execution_count": 14,
     "metadata": {},
     "output_type": "execute_result"
    }
   ],
   "source": [
    "# 새로운 데이터를 활용한 결과 예측: predict(X)\n",
    "kn.predict([[30, 600]]) # class label 리턴(0, 1)"
   ]
  },
  {
   "cell_type": "code",
   "execution_count": 15,
   "id": "bcd5ca75",
   "metadata": {},
   "outputs": [
    {
     "data": {
      "text/plain": [
       "array([0])"
      ]
     },
     "execution_count": 15,
     "metadata": {},
     "output_type": "execute_result"
    }
   ],
   "source": [
    "kn.predict([[12, 50]]) # 예로 새로운 데이터를 활용한 결과: 도미"
   ]
  },
  {
   "cell_type": "code",
   "execution_count": 16,
   "id": "1d9526da",
   "metadata": {},
   "outputs": [
    {
     "name": "stdout",
     "output_type": "stream",
     "text": [
      "[[  25.4  242. ]\n",
      " [  26.3  290. ]\n",
      " [  26.5  340. ]\n",
      " [  29.   363. ]\n",
      " [  29.   430. ]\n",
      " [  29.7  450. ]\n",
      " [  29.7  500. ]\n",
      " [  30.   390. ]\n",
      " [  30.   450. ]\n",
      " [  30.7  500. ]\n",
      " [  31.   475. ]\n",
      " [  31.   500. ]\n",
      " [  31.5  500. ]\n",
      " [  32.   340. ]\n",
      " [  32.   600. ]\n",
      " [  32.   600. ]\n",
      " [  33.   700. ]\n",
      " [  33.   700. ]\n",
      " [  33.5  610. ]\n",
      " [  33.5  650. ]\n",
      " [  34.   575. ]\n",
      " [  34.   685. ]\n",
      " [  34.5  620. ]\n",
      " [  35.   680. ]\n",
      " [  35.   700. ]\n",
      " [  35.   725. ]\n",
      " [  35.   720. ]\n",
      " [  36.   714. ]\n",
      " [  36.   850. ]\n",
      " [  37.  1000. ]\n",
      " [  38.5  920. ]\n",
      " [  38.5  955. ]\n",
      " [  39.5  925. ]\n",
      " [  41.   975. ]\n",
      " [  41.   950. ]\n",
      " [   9.8    6.7]\n",
      " [  10.5    7.5]\n",
      " [  10.6    7. ]\n",
      " [  11.     9.7]\n",
      " [  11.2    9.8]\n",
      " [  11.3    8.7]\n",
      " [  11.8   10. ]\n",
      " [  11.8    9.9]\n",
      " [  12.     9.8]\n",
      " [  12.2   12.2]\n",
      " [  12.4   13.4]\n",
      " [  13.    12.2]\n",
      " [  14.3   19.7]\n",
      " [  15.    19.9]]\n"
     ]
    }
   ],
   "source": [
    "# _fit_X 속성\n",
    "# 훈련 데이터를 모두 가짐(fish_data)\n",
    "print(kn._fit_X)"
   ]
  },
  {
   "cell_type": "code",
   "execution_count": 17,
   "id": "5e924777",
   "metadata": {},
   "outputs": [
    {
     "name": "stdout",
     "output_type": "stream",
     "text": [
      "[1 1 1 1 1 1 1 1 1 1 1 1 1 1 1 1 1 1 1 1 1 1 1 1 1 1 1 1 1 1 1 1 1 1 1 0 0\n",
      " 0 0 0 0 0 0 0 0 0 0 0 0]\n"
     ]
    }
   ],
   "source": [
    "# _y 속성\n",
    "# fish_target을 가짐\n",
    "print(kn._y)"
   ]
  },
  {
   "cell_type": "code",
   "execution_count": 19,
   "id": "fc279929",
   "metadata": {},
   "outputs": [
    {
     "data": {
      "text/plain": [
       "0.7142857142857143"
      ]
     },
     "execution_count": 19,
     "metadata": {},
     "output_type": "execute_result"
    }
   ],
   "source": [
    "# n_neighbors 값 변경(49)\n",
    "kn49 = KNeighborsClassifier(n_neighbors=49)\n",
    "\n",
    "kn49.fit(fish_data, fish_target)\n",
    "kn49.score(fish_data, fish_target)"
   ]
  },
  {
   "cell_type": "code",
   "execution_count": 20,
   "id": "09bd0bee",
   "metadata": {},
   "outputs": [
    {
     "name": "stdout",
     "output_type": "stream",
     "text": [
      "0.7142857142857143\n"
     ]
    }
   ],
   "source": [
    "# fish_data의 49개 중에 도미가 35개를 차지함\n",
    "# 35/49의 결과와 동일\n",
    "print(35/49)"
   ]
  },
  {
   "cell_type": "markdown",
   "id": "269b4bb7",
   "metadata": {},
   "source": [
    "# 마무리 정리\n",
    "## 정확도\n",
    "#### 정확한 답을 맞춘 백분율 (0~1사이의 값)\n",
    "#### 정확도 = 정확히 맞힌 개수 / 전체 데이터 개수\n",
    "\n",
    "## KNeighborClassifier()\n",
    "#### k-최근접 이웃 분류 모델\n",
    "#### n_neighbors 변수에 이웃의 개수를 지정 (default값 = 5)\n",
    "\n",
    "## fit(특성데이터, 정답데이터)\n",
    "#### 모델 훈련\n",
    "\n",
    "## score(특성데이터, 정답데이터)\n",
    "#### 모델의 성능 측정\n",
    "\n",
    "## predict(특성데이터)\n",
    "#### 모델 결과 예측"
   ]
  },
  {
   "cell_type": "code",
   "execution_count": 25,
   "id": "21344e6e",
   "metadata": {},
   "outputs": [],
   "source": [
    "##########################################################################"
   ]
  },
  {
   "cell_type": "markdown",
   "id": "142bfad0",
   "metadata": {},
   "source": [
    "# 2장 데이터 다루기"
   ]
  },
  {
   "cell_type": "code",
   "execution_count": 21,
   "id": "bf155e28",
   "metadata": {},
   "outputs": [],
   "source": [
    "# 지도 학습과 비지도 학습\n",
    "# 지도 학습: 훈련을 위한 데이터(training data)와 정답이 필요\n",
    "# 훈련 데이터 = 입력(input) + 정답(target)\n",
    "# 알고리즘이 정답을 맞추는지 학습\n",
    "# 분류, 회귀"
   ]
  },
  {
   "cell_type": "code",
   "execution_count": 22,
   "id": "a41e9a51",
   "metadata": {},
   "outputs": [],
   "source": [
    "# 비지도 학습: 정답(target)이 없고, 입력 데이터만 사용\n",
    "# 비슷한 특징끼리 군집화\n",
    "# 새로운 데이터에 대한 결과 예측\n",
    "# 클러스터링(Clustering) - 데이터끼리 묶는다."
   ]
  },
  {
   "cell_type": "code",
   "execution_count": 23,
   "id": "de967604",
   "metadata": {},
   "outputs": [],
   "source": [
    "# 강화 학습 (대표적-알파고)\n",
    "# 현재 상태에서 어떤 행동을 취하는 것이 최선인지를 학습\n",
    "# {입력값-출력값}의 쌍이 정해지지 않음\n",
    "# 보상(reward)을 최대화하는 방법으로 학습\n",
    "## 바둑에서 승리, 주식 거래의 비용, 최종적으로 벌어들인 돈 등"
   ]
  },
  {
   "cell_type": "code",
   "execution_count": 24,
   "id": "3db9ea79",
   "metadata": {},
   "outputs": [],
   "source": [
    "# 훈련 세트와 테스트 세트\n",
    "# 1장 모델의 문제점 - 모든 데이터를 가지고 있음: 정답을 알고 있음(정확도 100%)\n",
    "# 훈련 세트와 테스트 세트 분리\n",
    "## 알고리즘의 정확한 평가 - 훈련 데이터와 평가할 데이터가 달라야 됨\n",
    "## 정확한 평가를 위한 데이터 세트 준비 방법: 새로운 데이터를 준비\n",
    "## , 이미 준비된 데이터의 일부분을 사용\n",
    "\n",
    "## 훈련 세트-훈련에 사용되는 데이터, 테스트 세트-평가에 사용되는 데이터"
   ]
  },
  {
   "cell_type": "code",
   "execution_count": 26,
   "id": "b6612f2a",
   "metadata": {},
   "outputs": [],
   "source": [
    "# 도미와 빙어 데이터를 2차원 리스트로 변경\n",
    "## 총 49마리의 데이터: 도미 35마리, 빙어 14마리 / zip() 함수 사용\n",
    "# 데이터 생성 - 길이와 무게를 합친 2차원 리스트 생성: fish_data\n",
    "# 결과 확인을 위한 리스트 생성: fish_target\n",
    "fish_length = [25.4, 26.3, 26.5, 29.0, 29.0, 29.7, 29.7, 30.0, 30.0, 30.7,\n",
    "               31.0, 31.0, 31.5, 32.0, 32.0, 32.0, 33.0, 33.0, 33.5, 33.5,\n",
    "               34.0, 34.0, 34.5, 35.0, 35.0, 35.0, 35.0, 36.0, 36.0, 37.0,\n",
    "               38.5, 38.5, 39.5, 41.0, 41.0, 9.8, 10.5, 10.6, 11.0, 11.2,\n",
    "               11.3, 11.8, 11.8, 12.0, 12.2, 12.4, 13.0, 14.3, 15.0]\n",
    "fish_weight = [242.0, 290.0, 340.0, 363.0, 430.0, 450.0, 500.0, 390.0, 450.0, 500.0,\n",
    "               475.0, 500.0, 500.0, 340.0, 600.0, 600.0, 700.0, 700.0, 610.0, 650.0,\n",
    "               575.0, 685.0, 620.0, 680.0, 700.0, 725.0, 720.0, 714.0, 850.0, 1000.0,\n",
    "               920.0, 955.0, 925.0, 975.0, 950.0, 6.7, 7.5, 7.0, 9.7, 9.8,\n",
    "               8.7, 10.0, 9.9, 9.8, 12.2, 13.4, 12.2, 19.7, 19.9]"
   ]
  },
  {
   "cell_type": "code",
   "execution_count": 27,
   "id": "db7490fd",
   "metadata": {},
   "outputs": [],
   "source": [
    "fish_data = [[l, w] for l, w in zip(fish_length, fish_weight)] # 2차원 리스트\n",
    "fish_target = [1] * 35 + [0] * 14  #target 값 생성"
   ]
  },
  {
   "cell_type": "code",
   "execution_count": 28,
   "id": "63e8ba82",
   "metadata": {},
   "outputs": [],
   "source": [
    "# 훈련 세트와 테스트 세트 만들기\n",
    "## fish_data, fish_target 리스트를 훈련 세트와 테스트 세트로 분리\n",
    "### 훈련 세트: 35개, 테스트 세트: 14개로 분리\n",
    "\n",
    "# 훈련 세트 구성                           # 훈련 세트 생성(35개)\n",
    "## train_input: 훈련용 입력 데이터         # train_input = fish_data[:35]\n",
    "## train_target: 훈련용 정답 데이터        # train_target = fish_target[:35]\n",
    "\n",
    "# 테스트 세트 구성                         # 테스트 세트 생성(14개)\n",
    "## test_input: 테스트 입력 데이터          # test_input = fish_data[35:]\n",
    "## test_target: 테스트 정답 데이터         # test_target = fish_target[35:]"
   ]
  },
  {
   "cell_type": "code",
   "execution_count": 31,
   "id": "c180fe56",
   "metadata": {},
   "outputs": [],
   "source": [
    "# 훈련 세트 생성(35개)\n",
    "train_input = fish_data[:35]\n",
    "train_target = fish_target[:35]\n",
    "\n",
    "# 테스트 세트 생성(14개)\n",
    "test_input = fish_data[35:]\n",
    "test_target = fish_target[35:]"
   ]
  },
  {
   "cell_type": "code",
   "execution_count": 32,
   "id": "f9700f11",
   "metadata": {},
   "outputs": [
    {
     "data": {
      "text/plain": [
       "0.0"
      ]
     },
     "execution_count": 32,
     "metadata": {},
     "output_type": "execute_result"
    }
   ],
   "source": [
    "# k-최근접 알고리즘 모델 생성 및 평가하기\n",
    "## 훈련 세트로 모델을 훈련\n",
    "## 테스트 세트로 정확도 평가\n",
    "from sklearn.neighbors import KNeighborsClassifier\n",
    "\n",
    "kn = KNeighborsClassifier()   # 객체 생성\n",
    "kn = kn.fit(train_input, train_target)   # 모델 훈련\n",
    "kn.score(test_input, test_target)   # 테스트 세트로 평가 (정확도 출력)\n",
    "# 잘못된 훈련 데이터 사용 결과 - 정확도 0.0"
   ]
  },
  {
   "cell_type": "markdown",
   "id": "35c2e302",
   "metadata": {},
   "source": [
    "# Numpy를 활용한 배열 생성"
   ]
  },
  {
   "cell_type": "code",
   "execution_count": 33,
   "id": "6a259e2e",
   "metadata": {},
   "outputs": [],
   "source": [
    "# Numpy 사용\n",
    "## 다차원 배열을 쉽게 조작할 수 있음\n",
    "\n",
    "# 기존 fish_data와 fish_target를 Numpy 배열로 변경\n",
    "## Numpy.array(list): 파이썬의 list를 Numpy의 array로 변경"
   ]
  },
  {
   "cell_type": "code",
   "execution_count": 34,
   "id": "1f3ad013",
   "metadata": {},
   "outputs": [
    {
     "name": "stdout",
     "output_type": "stream",
     "text": [
      "[[  25.4  242. ]\n",
      " [  26.3  290. ]\n",
      " [  26.5  340. ]\n",
      " [  29.   363. ]\n",
      " [  29.   430. ]\n",
      " [  29.7  450. ]\n",
      " [  29.7  500. ]\n",
      " [  30.   390. ]\n",
      " [  30.   450. ]\n",
      " [  30.7  500. ]\n",
      " [  31.   475. ]\n",
      " [  31.   500. ]\n",
      " [  31.5  500. ]\n",
      " [  32.   340. ]\n",
      " [  32.   600. ]\n",
      " [  32.   600. ]\n",
      " [  33.   700. ]\n",
      " [  33.   700. ]\n",
      " [  33.5  610. ]\n",
      " [  33.5  650. ]\n",
      " [  34.   575. ]\n",
      " [  34.   685. ]\n",
      " [  34.5  620. ]\n",
      " [  35.   680. ]\n",
      " [  35.   700. ]\n",
      " [  35.   725. ]\n",
      " [  35.   720. ]\n",
      " [  36.   714. ]\n",
      " [  36.   850. ]\n",
      " [  37.  1000. ]\n",
      " [  38.5  920. ]\n",
      " [  38.5  955. ]\n",
      " [  39.5  925. ]\n",
      " [  41.   975. ]\n",
      " [  41.   950. ]\n",
      " [   9.8    6.7]\n",
      " [  10.5    7.5]\n",
      " [  10.6    7. ]\n",
      " [  11.     9.7]\n",
      " [  11.2    9.8]\n",
      " [  11.3    8.7]\n",
      " [  11.8   10. ]\n",
      " [  11.8    9.9]\n",
      " [  12.     9.8]\n",
      " [  12.2   12.2]\n",
      " [  12.4   13.4]\n",
      " [  13.    12.2]\n",
      " [  14.3   19.7]\n",
      " [  15.    19.9]]\n",
      "(49, 2)\n"
     ]
    }
   ],
   "source": [
    "import numpy as np\n",
    "\n",
    "input_arr = np.array(fish_data)\n",
    "target_arr = np.array(fish_target)\n",
    "\n",
    "print(input_arr)\n",
    "print(input_arr.shape)   # shape: 배열의 크기 리턴"
   ]
  },
  {
   "cell_type": "code",
   "execution_count": 35,
   "id": "d9ab8fe9",
   "metadata": {},
   "outputs": [],
   "source": [
    "# Numpy를 이용하여 데이터 섞기\n",
    "# Numpy 사용\n",
    "## random.seed(seed) : 랜덤값 생성을 위한 초기값 지정\n",
    "### 초기값(seed)값이 같으면 동일한 랜덤값을 뽑을 수 있음\n",
    "## Numpy.arange(stop) : stop-1까지 1의 간격으로 배열 생성\n",
    "### arange: array range\n",
    "## random.shuffle(x) : 배열 x(ndarray 타입)를 무작위로 섞음"
   ]
  },
  {
   "cell_type": "code",
   "execution_count": 36,
   "id": "a755c169",
   "metadata": {},
   "outputs": [
    {
     "name": "stdout",
     "output_type": "stream",
     "text": [
      "[ 0  1  2  3  4  5  6  7  8  9 10 11 12 13 14 15 16 17 18 19 20 21 22 23\n",
      " 24 25 26 27 28 29 30 31 32 33 34 35 36 37 38 39 40 41 42 43 44 45 46 47\n",
      " 48]\n"
     ]
    }
   ],
   "source": [
    "import numpy as np\n",
    "\n",
    "np.random.seed(42)\n",
    "index_list = np.arange(49) # 0~48까지 값을 가지는 배열 생성\n",
    "print(index_list)"
   ]
  },
  {
   "cell_type": "code",
   "execution_count": 37,
   "id": "4cfea4a9",
   "metadata": {},
   "outputs": [
    {
     "name": "stdout",
     "output_type": "stream",
     "text": [
      "[13 45 47 44 17 27 26 25 31 19 12  4 34  8  3  6 40 41 46 15  9 16 24 33\n",
      " 30  0 43 32  5 29 11 36  1 21  2 37 35 23 39 10 22 18 48 20  7 42 14 28\n",
      " 38]\n"
     ]
    }
   ],
   "source": [
    "np.random.shuffle(index_list) # 배열 내용을 무작위로 섞음\n",
    "print(index_list)"
   ]
  },
  {
   "cell_type": "code",
   "execution_count": 38,
   "id": "38f94cab",
   "metadata": {},
   "outputs": [],
   "source": [
    "# 랜덤 배열로 훈련 세트와 테스트 세트 만들기\n",
    "# Numpy의 배열 인덱싱 이용\n",
    "## 여러 개의 인덱스로 한 번에 여러 개의 배열 워소를 선택할 수 있음\n",
    "\n",
    "# 훈련 세트 생성\n",
    "train_input = input_arr[index_list[:35]]\n",
    "train_target = target_arr[index_list[:35]]\n",
    "\n",
    "# 테스트 세트 생성\n",
    "test_input = input_arr[index_list[35:]]\n",
    "test_target = target_arr[index_list[35:]]"
   ]
  },
  {
   "cell_type": "code",
   "execution_count": 45,
   "id": "94aa8ecc",
   "metadata": {},
   "outputs": [
    {
     "data": {
      "image/png": "[encoded data removed]",
      "text/plain": [
       "<Figure size 432x288 with 1 Axes>"
      ]
     },
     "metadata": {
      "needs_background": "light"
     },
     "output_type": "display_data"
    }
   ],
   "source": [
    "# 무작위로 섞인 데이터 확인하기\n",
    "# 훈련 데이터와 테스트 데이터 다시 확인\n",
    "import matplotlib.pyplot as plt\n",
    "# [:, 0]: 모든 행에서 0번째 length, [:, 1]: 모든 행에서 1번째 weight\n",
    "plt.scatter(train_input[:, 0], train_input[:, 1], label='train set')\n",
    "plt.scatter(test_input[:, 0], test_input[:, 1], label='test set')\n",
    "\n",
    "plt.xlabel('length')\n",
    "plt.ylabel('weight')\n",
    "plt.legend()\n",
    "plt.show()"
   ]
  },
  {
   "cell_type": "code",
   "execution_count": 46,
   "id": "464d8121",
   "metadata": {},
   "outputs": [
    {
     "name": "stdout",
     "output_type": "stream",
     "text": [
      "score:  1.0\n",
      "predict:       [0 0 1 0 1 1 1 0 1 1 0 1 1 0]\n",
      "test_target:  [0 0 1 0 1 1 1 0 1 1 0 1 1 0]\n"
     ]
    }
   ],
   "source": [
    "# 두 번째 머신러닝 프로그램\n",
    "# 무작위로 섞인 훈련 세트와 테스트 세트를 이용하여 k-최근접 이웃 모델 생성 및 훈련\n",
    "## fit() -> score() -> predict() 호출\n",
    "kn = kn.fit(train_input, train_target)\n",
    "print(\"score: \", kn.score(test_input, test_target))\n",
    "\n",
    "print(\"predict:      \", kn.predict(test_input))\n",
    "print(\"test_target: \", test_target)  # predict 결과값과 비교를 위해 출력"
   ]
  },
  {
   "cell_type": "code",
   "execution_count": 49,
   "id": "03cafc31",
   "metadata": {},
   "outputs": [
    {
     "name": "stdout",
     "output_type": "stream",
     "text": [
      "predict(길이 25cm, 무게 150g):  [0]\n"
     ]
    }
   ],
   "source": [
    "# 문제점 발생\n",
    "# 2-1 머신러닝 프로그램의 문제점 발생\n",
    "## 길이 25cm, 무게 150g인 도미를 빙어로 판단\n",
    "print(\"predict(길이 25cm, 무게 150g): \", kn.predict([[25, 150.0]]))\n",
    "# 샘플 데이터의 두 특성(길이, 무게)의 스케일이 다르기 때문\n",
    "## 스케일을 조정해야 됨: 표준점수로 변환해야 됨\n",
    "# 표준 점수: 평균과의 거리"
   ]
  },
  {
   "cell_type": "code",
   "execution_count": 50,
   "id": "664e087e",
   "metadata": {},
   "outputs": [
    {
     "name": "stdout",
     "output_type": "stream",
     "text": [
      "[[ 25.4 242. ]\n",
      " [ 26.3 290. ]\n",
      " [ 26.5 340. ]\n",
      " [ 29.  363. ]\n",
      " [ 29.  430. ]]\n"
     ]
    }
   ],
   "source": [
    "# Numpy를 활용한 데이터 전처리\n",
    "# column_stack()\n",
    "## Numpy 제공 함수: 리스트를 일렬로 세운 다음 차례대로 연결\n",
    "## python에서 제공하는 zip() 함수와 동일한 기능\n",
    "### column_stack((list1, list2)): 튜플 형태로 전달\n",
    "fish_data = np.column_stack((fish_length, fish_weight))\n",
    "print(fish_data[:5])"
   ]
  },
  {
   "cell_type": "code",
   "execution_count": 51,
   "id": "f108aa6b",
   "metadata": {},
   "outputs": [
    {
     "name": "stdout",
     "output_type": "stream",
     "text": [
      "[1. 1. 1. 1. 1. 1. 1. 1. 1. 1. 1. 1. 1. 1. 1. 1. 1. 1. 1. 1. 1. 1. 1. 1.\n",
      " 1. 1. 1. 1. 1. 1. 1. 1. 1. 1. 1.]\n",
      "[0. 0. 0. 0. 0. 0. 0. 0. 0. 0. 0. 0. 0. 0.]\n"
     ]
    }
   ],
   "source": [
    "# ones(n), zeros(n)\n",
    "## 개수(n)만큼 각각 1과 0으로 채운 배열을 생성함\n",
    "print(np.ones(35))\n",
    "print(np.zeros(14))"
   ]
  },
  {
   "cell_type": "code",
   "execution_count": 52,
   "id": "5571acd4",
   "metadata": {},
   "outputs": [
    {
     "name": "stdout",
     "output_type": "stream",
     "text": [
      "[1. 1. 1. 1. 1. 1. 1. 1. 1. 1. 1. 1. 1. 1. 1. 1. 1. 1. 1. 1. 1. 1. 1. 1.\n",
      " 1. 1. 1. 1. 1. 1. 1. 1. 1. 1. 1. 0. 0. 0. 0. 0. 0. 0. 0. 0. 0. 0. 0. 0.\n",
      " 0.]\n"
     ]
    }
   ],
   "source": [
    "# concatenate((a1, a2, ...))\n",
    "## a1, a2 배열을 서로 연결함 (a1 배열 다음에 a2 배열 연결)\n",
    "## 연결할 배열을 튜플로 전달\n",
    "fish_target = np.concatenate((np.ones(35), np.zeros(14)))\n",
    "print(fish_target)"
   ]
  },
  {
   "cell_type": "code",
   "execution_count": 58,
   "id": "d9dba62c",
   "metadata": {},
   "outputs": [],
   "source": [
    "# 사이킷런으로 훈련 세트와 테스트 세트 나누기\n",
    "## train_test_split() 함수 원형\n",
    "#sklearn.model_selection.train_test_split(*arrays, test_size=None,\n",
    "                                        #train_size=None, random_state=None,\n",
    "                                        #shuffle=True, stratify=None)"
   ]
  },
  {
   "cell_type": "code",
   "execution_count": 59,
   "id": "83cf0237",
   "metadata": {},
   "outputs": [
    {
     "name": "stdout",
     "output_type": "stream",
     "text": [
      "train_input.shape: (36, 2) test_input.shape:  (13, 2)\n"
     ]
    }
   ],
   "source": [
    "# 사이킷런으로 훈련 세트와 테스트 세트 나누기\n",
    "## 4개의 데이터 셋을 리턴\n",
    "from sklearn.model_selection import train_test_split\n",
    "\n",
    "train_input, test_input, train_target, test_target = train_test_split(\n",
    "fish_data, fish_target, stratify=fish_target, random_state=42)\n",
    "\n",
    "print('train_input.shape:', train_input.shape,\n",
    "     'test_input.shape: ', test_input.shape)"
   ]
  },
  {
   "cell_type": "code",
   "execution_count": 60,
   "id": "fd9c5e53",
   "metadata": {},
   "outputs": [
    {
     "name": "stdout",
     "output_type": "stream",
     "text": [
      "train_target:  [1. 0. 1. 0. 1. 1. 1. 1. 1. 1. 1. 0. 1. 0. 1. 1. 1. 1. 1. 0. 1. 1. 0. 1.\n",
      " 0. 1. 0. 1. 1. 1. 0. 1. 1. 0. 1. 1.]\n"
     ]
    }
   ],
   "source": [
    "print('train_target: ', train_target)"
   ]
  },
  {
   "cell_type": "code",
   "execution_count": 61,
   "id": "52d94559",
   "metadata": {},
   "outputs": [
    {
     "name": "stdout",
     "output_type": "stream",
     "text": [
      "test_target:  [0. 0. 1. 0. 1. 0. 1. 1. 1. 1. 1. 1. 1.]\n"
     ]
    }
   ],
   "source": [
    "print('test_target: ', test_target)"
   ]
  },
  {
   "cell_type": "code",
   "execution_count": 63,
   "id": "efb79fba",
   "metadata": {},
   "outputs": [
    {
     "name": "stdout",
     "output_type": "stream",
     "text": [
      "score:  1.0\n"
     ]
    }
   ],
   "source": [
    "# 가장 가까운 이웃 찾기 1\n",
    "## k-최근접 이웃 모델 적용\n",
    "### train_test_split()함수로 나눈 데이터 사용\n",
    "from sklearn.neighbors import KNeighborsClassifier\n",
    "\n",
    "kn = KNeighborsClassifier()\n",
    "kn.fit(train_input, train_target)\n",
    "\n",
    "print(\"score: \", kn.score(test_input, test_target))"
   ]
  },
  {
   "cell_type": "code",
   "execution_count": 64,
   "id": "d06f3baf",
   "metadata": {},
   "outputs": [
    {
     "name": "stdout",
     "output_type": "stream",
     "text": [
      "[0.]\n"
     ]
    }
   ],
   "source": [
    "# 25cm, 150g의 생선 분류 (수상한 도미)\n",
    "print(kn.predict([[25, 150]]))         # 출력결과: 빙어로 분류"
   ]
  },
  {
   "cell_type": "code",
   "execution_count": 66,
   "id": "a61baaf0",
   "metadata": {},
   "outputs": [
    {
     "data": {
      "image/png": "[encoded data removed]",
      "text/plain": [
       "<Figure size 432x288 with 1 Axes>"
      ]
     },
     "metadata": {
      "needs_background": "light"
     },
     "output_type": "display_data"
    }
   ],
   "source": [
    "# 가장 가까운 이웃 찾기 2\n",
    "## 길이 25cm, 무게 150g의 생선을 산점도로 표시\n",
    "import matplotlib.pyplot as plt\n",
    "\n",
    "plt.scatter(train_input[:,0], train_input[:,1])\n",
    "plt.scatter(25, 150, marker='^')\n",
    "plt.xlabel('length')\n",
    "plt.ylabel('weight')\n",
    "plt.show()"
   ]
  },
  {
   "cell_type": "code",
   "execution_count": 67,
   "id": "1aece648",
   "metadata": {},
   "outputs": [
    {
     "name": "stdout",
     "output_type": "stream",
     "text": [
      "[[ 92.00086956 130.48375378 130.73859415 138.32150953 138.39320793]]\n",
      "[[21 33 19 30  1]]\n"
     ]
    }
   ],
   "source": [
    "## 가장 가까운 이웃과의 거리 계산\n",
    "## kneighbors(): n_neighbors(default값 5)개의 이웃을 찾음\n",
    "distances, indexes = kn.kneighbors([[25, 150]])\n",
    "print(distances)\n",
    "print(indexes)"
   ]
  },
  {
   "cell_type": "code",
   "execution_count": 68,
   "id": "d137d02d",
   "metadata": {},
   "outputs": [
    {
     "data": {
      "image/png": "[encoded data removed]",
      "text/plain": [
       "<Figure size 432x288 with 1 Axes>"
      ]
     },
     "metadata": {
      "needs_background": "light"
     },
     "output_type": "display_data"
    }
   ],
   "source": [
    "# 가장 가까운 이웃 5개를 산점도로 표시\n",
    "import matplotlib.pyplot as plt\n",
    "plt.scatter(train_input[:, 0], train_input[:, 1], label='train_data',\n",
    "           color='b')\n",
    "plt.scatter(25, 150, marker='^', color='orange', label='Unknown')\n",
    "plt.scatter(train_input[indexes, 0], train_input[indexes, 1],\n",
    "           marker='D', label='neighbors', color='r')\n",
    "plt.xlabel('length')\n",
    "plt.ylabel('weight')\n",
    "plt.legend()\n",
    "plt.show()"
   ]
  },
  {
   "cell_type": "code",
   "execution_count": 69,
   "id": "cfb5fa91",
   "metadata": {},
   "outputs": [
    {
     "name": "stdout",
     "output_type": "stream",
     "text": [
      "neighbors:  [[[ 25.4 242. ]\n",
      "  [ 15.   19.9]\n",
      "  [ 14.3  19.7]\n",
      "  [ 13.   12.2]\n",
      "  [ 12.2  12.2]]]\n",
      "target:  [[1. 0. 0. 0. 0.]]\n"
     ]
    }
   ],
   "source": [
    "print(\"neighbors: \", train_input[indexes])\n",
    "print(\"target: \", train_target[indexes])"
   ]
  },
  {
   "cell_type": "code",
   "execution_count": 70,
   "id": "0d3ca8d4",
   "metadata": {},
   "outputs": [
    {
     "name": "stdout",
     "output_type": "stream",
     "text": [
      "[[ 92.00086956 130.48375378 130.73859415 138.32150953 138.39320793]]\n"
     ]
    }
   ],
   "source": [
    "print(distances)"
   ]
  },
  {
   "cell_type": "code",
   "execution_count": 71,
   "id": "7bb2c076",
   "metadata": {},
   "outputs": [
    {
     "data": {
      "image/png": "[encoded data removed]",
      "text/plain": [
       "<Figure size 432x288 with 1 Axes>"
      ]
     },
     "metadata": {
      "needs_background": "light"
     },
     "output_type": "display_data"
    }
   ],
   "source": [
    "# scale을 동일하게 수정\n",
    "# x축과 y축의 범위를 동일하게 수정\n",
    "## 두 특성(길이, 무게)의 scale이 다름\n",
    "## xlim(), ylim()함수:x, y축의 범위를 지정\n",
    "plt.scatter(train_input[:, 0], train_input[:, 1],\n",
    "           label='train_data', color='b')\n",
    "plt.scatter(25, 150, marker='^', color='orange', label='Unknown')\n",
    "plt.scatter(train_input[indexes, 0], train_input[indexes, 1],\n",
    "           marker='D', label='neighbors', color='r')\n",
    "\n",
    "plt.xlim((0, 1000)) # x축의 눈금 간격을 y축과 동일하게 변경\n",
    "plt.xlabel('length')\n",
    "plt.ylabel('weight')\n",
    "plt.legend()\n",
    "plt.show()"
   ]
  },
  {
   "cell_type": "code",
   "execution_count": 72,
   "id": "a52b9fa2",
   "metadata": {},
   "outputs": [
    {
     "name": "stdout",
     "output_type": "stream",
     "text": [
      "[ 27.29722222 454.09722222] [  9.98244253 323.29893931]\n"
     ]
    }
   ],
   "source": [
    "# 데이터 전처리\n",
    "## 특성값을 일정한 기준으로 맞춤\n",
    "## 표준 점수(Standard Score, Z 점수)\n",
    "# - 각 특성(길이, 무게)의 값이 0에서 표준편차의 몇 배만큼 떨어져 있는지를 나타냄\n",
    "# Z = x-u / o (x:특성값, u:평균, o:표준편차)\n",
    "\n",
    "# 평균 및 표준편차 계산\n",
    "## 브로드 캐스팅\n",
    "## -행(row)이나 열(column)의 모든 데이터에 대해 한 번에 연산을 수행\n",
    "mean = np.mean(train_input, axis=0) #axis=0: 각 컬럼의 평균 계산\n",
    "std = np.std(train_input, axis=0)\n",
    "print(mean, std)"
   ]
  },
  {
   "cell_type": "code",
   "execution_count": 73,
   "id": "54809b85",
   "metadata": {},
   "outputs": [
    {
     "name": "stdout",
     "output_type": "stream",
     "text": [
      "[[ 0.24070039  0.14198246]\n",
      " [-1.51237757 -1.36683783]\n",
      " [ 0.5712808   0.76060496]]\n"
     ]
    }
   ],
   "source": [
    "# 표준 점수(z값) 계산\n",
    "train_scaled = (train_input - mean) / std # 표준 점수로 변환한 데이터\n",
    "print(train_scaled[:3])"
   ]
  },
  {
   "cell_type": "code",
   "execution_count": 74,
   "id": "5bcef890",
   "metadata": {},
   "outputs": [
    {
     "data": {
      "image/png": "[encoded data removed]",
      "text/plain": [
       "<Figure size 432x288 with 1 Axes>"
      ]
     },
     "metadata": {
      "needs_background": "light"
     },
     "output_type": "display_data"
    }
   ],
   "source": [
    "# 표준 점수로 변환한 훈련 데이터 분포 확인\n",
    "## train_scaled 데이터와 샘플 데이터(25, 150) 비교\n",
    "plt.scatter(train_scaled[:, 0], train_scaled[:, 1], label='train_sacled')\n",
    "plt.scatter(25, 150, marker='^', label='unknown')\n",
    "plt.xlabel('length')\n",
    "plt.ylabel('weight')\n",
    "plt.legend()\n",
    "plt.show()"
   ]
  },
  {
   "cell_type": "code",
   "execution_count": 76,
   "id": "2c4fd8ac",
   "metadata": {},
   "outputs": [
    {
     "name": "stdout",
     "output_type": "stream",
     "text": [
      "표준 점수 sample [-0.23012627 -0.94060693]\n"
     ]
    },
    {
     "data": {
      "image/png": "[encoded data removed]",
      "text/plain": [
       "<Figure size 432x288 with 1 Axes>"
      ]
     },
     "metadata": {
      "needs_background": "light"
     },
     "output_type": "display_data"
    }
   ],
   "source": [
    "# 샘플 데이터를 표준 점수로 변환\n",
    "new = ([25, 150] - mean) / std\n",
    "print(\"표준 점수 sample\", new)\n",
    "\n",
    "plt.scatter(train_scaled[:, 0], train_scaled[:, 1], label='train_scaled')\n",
    "plt.scatter(new[0], new[1], marker='^', label='unknown')\n",
    "plt.xlabel('length')\n",
    "plt.ylabel('weight')\n",
    "plt.legend()\n",
    "plt.show()"
   ]
  },
  {
   "cell_type": "code",
   "execution_count": 77,
   "id": "69911322",
   "metadata": {},
   "outputs": [
    {
     "name": "stdout",
     "output_type": "stream",
     "text": [
      "1.0\n",
      "[1.]\n"
     ]
    }
   ],
   "source": [
    "# 표준 점수로 변환한 훈련 데이터로 k-최근접 이웃 모델 훈련\n",
    "## 표준 점수로 변환한 훈련 데이터로 k-NN 훈련\n",
    "kn.fit(train_scaled, train_target)\n",
    "## 테스트 세트를 표준 점수로 변환\n",
    "test_scaled = (test_input - mean) / std\n",
    "print(kn.score(test_scaled, test_target))\n",
    "\n",
    "# 표준 점수로 변환된 샘플 데이터를 가지고 예측\n",
    "print(kn.predict([new]))\n",
    "# 출력 결과: 길이가 25cm, 무게가 150g인 생선을 도미로 인식"
   ]
  },
  {
   "cell_type": "code",
   "execution_count": 79,
   "id": "9c90049b",
   "metadata": {},
   "outputs": [
    {
     "name": "stdout",
     "output_type": "stream",
     "text": [
      "[[0.2873737  0.7711188  0.89552179 0.91493515 0.95427626]]\n"
     ]
    },
    {
     "data": {
      "image/png": "[encoded data removed]",
      "text/plain": [
       "<Figure size 432x288 with 1 Axes>"
      ]
     },
     "metadata": {
      "needs_background": "light"
     },
     "output_type": "display_data"
    }
   ],
   "source": [
    "# 최종 이웃 찾기 및 산점도\n",
    "## 표준 점수로 변경된 샘플 데이터의 이웃 찾기 및 산점도\n",
    "distances, indexes = kn.kneighbors([new])\n",
    "print(distances)\n",
    "\n",
    "plt.scatter(train_scaled[:, 0], train_scaled[:, 1], label='train_scaled')\n",
    "plt.scatter(new[0], new[1], marker='^', label='sample')\n",
    "plt.scatter(train_scaled[indexes, 0], train_scaled[indexes, 1],\n",
    "           marker='D', label='neighbors')\n",
    "\n",
    "plt.xlabel('length')\n",
    "plt.ylabel('weight')\n",
    "plt.legend()\n",
    "plt.show()"
   ]
  },
  {
   "cell_type": "markdown",
   "id": "5bfe941f",
   "metadata": {},
   "source": [
    "# 마무리 정리\n",
    "\n",
    "## 특성의 스케일이 다른 경우\n",
    "### 길이보다 무게에 따라 예측값이 변경되었음\n",
    "\n",
    "## 스케일이 다른 특성 처리\n",
    "### 훈련 세트 및 테스트 세트를 표준 점수로 변환\n",
    "\n",
    "## 데이터 전처리\n",
    "### 머신러닝 모델에 훈련 데이터를 입력하기 전에 가공하는 단계\n",
    "\n",
    "## scikit-learn 함수 정리\n",
    "### train_test_split()\n",
    "##### 입력 데이터를 훈련 세트와 테스트 세트로 자동으로 나눔\n",
    "##### 테스트 세트의 기본 크기: 25%\n",
    "\n",
    "### kneighbors()\n",
    "##### k-최근접 이웃 모델에서 입력한 샘플 데이터와 가장 가까운 이웃을 찾음\n",
    "##### 거리와 인덱스 반환"
   ]
  },
  {
   "cell_type": "code",
   "execution_count": 80,
   "id": "67b219ce",
   "metadata": {},
   "outputs": [
    {
     "name": "stdout",
     "output_type": "stream",
     "text": [
      "[9, 16, 25]\n"
     ]
    }
   ],
   "source": [
    "# 슬라이싱\n",
    "## 리스트 안에서 범위를 지정하여 원하는 요소들을 선택하는 연산\n",
    "# 슬라이싱 사용법\n",
    "## myList[start : end]\n",
    "## myList[start]요소부터 myList[end-1] 요소까지 선택됨\n",
    "squares = [0, 1, 4, 9, 16, 25, 36, 49]\n",
    "print(squares[3:6]) # 슬라이싱은 새로운 리스트를 반환한다. (3, 4, 5)"
   ]
  },
  {
   "cell_type": "code",
   "execution_count": null,
   "id": "df45e23f",
   "metadata": {},
   "outputs": [],
   "source": []
  }
 ],
 "metadata": {
  "kernelspec": {
   "display_name": "Python 3 (ipykernel)",
   "language": "python",
   "name": "python3"
  },
  "language_info": {
   "codemirror_mode": {
    "name": "ipython",
    "version": 3
   },
   "file_extension": ".py",
   "mimetype": "text/x-python",
   "name": "python",
   "nbconvert_exporter": "python",
   "pygments_lexer": "ipython3",
   "version": "3.9.12"
  }
 },
 "nbformat": 4,
 "nbformat_minor": 5
}
