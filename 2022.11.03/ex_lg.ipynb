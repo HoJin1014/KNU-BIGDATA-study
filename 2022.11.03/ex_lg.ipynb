{
 "cells": [
  {
   "cell_type": "code",
   "execution_count": 21,
   "id": "390c6966",
   "metadata": {},
   "outputs": [],
   "source": [
    "import cv2\n",
    "import numpy as np\n",
    "from matplotlib import pyplot as plt"
   ]
  },
  {
   "cell_type": "code",
   "execution_count": 22,
   "id": "04c4d5e3",
   "metadata": {},
   "outputs": [],
   "source": [
    "img1=cv2.imread(\"./rose.JPG\")\n",
    "cv2.imshow('rose', img1)\n",
    "cv2.waitKey(0)\n",
    "cv2.destroyAllWindows()"
   ]
  },
  {
   "cell_type": "code",
   "execution_count": 23,
   "id": "50cdad7e",
   "metadata": {},
   "outputs": [],
   "source": [
    "# cv2.IMREAD_GRAYSCALE()\n",
    "fname=\"rose.JPG\"\n",
    "\n",
    "original = cv2.imread(fname, cv2.IMREAD_COLOR)\n",
    "gray = cv2.imread(fname, cv2.IMREAD_GRAYSCALE)\n",
    "unchange = cv2.imread(fname, cv2.IMREAD_UNCHANGED)\n",
    "\n",
    "cv2.imshow('original', original)\n",
    "cv2.imshow('gray', gray)\n",
    "cv2.imshow('unchange', unchange)\n",
    "\n",
    "cv2.waitKey(0)\n",
    "cv2.destroyAllWindows()"
   ]
  },
  {
   "cell_type": "code",
   "execution_count": 24,
   "id": "ca8c0591",
   "metadata": {},
   "outputs": [
    {
     "data": {
      "image/png": "[encoded data removed]",
      "text/plain": [
       "<Figure size 432x288 with 1 Axes>"
      ]
     },
     "metadata": {
      "needs_background": "light"
     },
     "output_type": "display_data"
    }
   ],
   "source": [
    "rose_img = cv2.imread('./rose.JPG')\n",
    "rose_gray = cv2.cvtColor(rose_img, cv2.COLOR_BGR2GRAY)\n",
    "\n",
    "# 1채널 [0], 2채널 [0,1], 3채널 [0,1,2]\n",
    "histogram = cv2.calcHist([rose_gray], [0], None, [256], [0, 256])\n",
    "plt.plot(histogram, color='gray')\n",
    "\n",
    "colors = ['b', 'g', 'r']\n",
    "rose_bgr_planes = cv2.split(rose_img)\n",
    "\n",
    "for (p, c) in zip(rose_bgr_planes, colors):\n",
    "    hist = cv2.calcHist([p], [0], None, [256], [0, 256])\n",
    "    plt.plot(hist, color=c)\n",
    "plt.show()"
   ]
  },
  {
   "cell_type": "code",
   "execution_count": null,
   "id": "49a3288f",
   "metadata": {},
   "outputs": [],
   "source": []
  },
  {
   "cell_type": "code",
   "execution_count": 25,
   "id": "06b61e34",
   "metadata": {},
   "outputs": [],
   "source": [
    "# cv2.IMREAD_GRAYSCALE()\n",
    "fname1=\"ryan.JPG\"\n",
    "\n",
    "original = cv2.imread(fname1, cv2.IMREAD_COLOR)\n",
    "gray = cv2.imread(fname1, cv2.IMREAD_GRAYSCALE)\n",
    "unchange = cv2.imread(fname1, cv2.IMREAD_UNCHANGED)\n",
    "\n",
    "cv2.imshow('original', original)\n",
    "cv2.imshow('gray', gray)\n",
    "cv2.imshow('unchange', unchange)\n",
    "\n",
    "cv2.waitKey(0)\n",
    "cv2.destroyAllWindows()"
   ]
  },
  {
   "cell_type": "code",
   "execution_count": null,
   "id": "dd3fd350",
   "metadata": {},
   "outputs": [],
   "source": [
    "ryan_img = cv2.imread('./ryan.JPG')\n",
    "ryan_gray = cv2.cvtColor(ryan_img, cv2.COLOR_BGR2GRAY)\n",
    "\n",
    "# 1채널 [0], 2채널 [0,1], 3채널 [0,1,2]\n",
    "histogram1 = cv2.calcHist([rose_gray], [0], None, [256], [0, 256])\n",
    "plt.plot(histogram1, color='gray')\n",
    "\n",
    "colors = ['b', 'g', 'r']\n",
    "rose_bgr_planes = cv2.split(rose_img)\n",
    "\n",
    "for (p, c) in zip(rose_bgr_planes, colors):\n",
    "    hist = cv2.calcHist([p], [0], None, [256], [0, 256])\n",
    "    plt.plot(hist, color=c)\n",
    "plt.show()"
   ]
  }
 ],
 "metadata": {
  "kernelspec": {
   "display_name": "Python 3 (ipykernel)",
   "language": "python",
   "name": "python3"
  },
  "language_info": {
   "codemirror_mode": {
    "name": "ipython",
    "version": 3
   },
   "file_extension": ".py",
   "mimetype": "text/x-python",
   "name": "python",
   "nbconvert_exporter": "python",
   "pygments_lexer": "ipython3",
   "version": "3.9.12"
  }
 },
 "nbformat": 4,
 "nbformat_minor": 5
}
