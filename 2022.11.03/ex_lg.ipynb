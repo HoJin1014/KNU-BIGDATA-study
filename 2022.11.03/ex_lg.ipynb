{
 "cells": [
  {
   "cell_type": "code",
   "execution_count": 21,
   "id": "8d4df717",
   "metadata": {},
   "outputs": [],
   "source": [
    "import cv2\n",
    "import numpy as np\n",
    "from matplotlib import pyplot as plt"
   ]
  },
  {
   "cell_type": "code",
   "execution_count": 22,
   "id": "8fb50ea6",
   "metadata": {},
   "outputs": [],
   "source": [
    "img1=cv2.imread(\"./rose.JPG\")\n",
    "cv2.imshow('rose', img1)\n",
    "cv2.waitKey(0)\n",
    "cv2.destroyAllWindows()"
   ]
  },
  {
   "cell_type": "code",
   "execution_count": 23,
   "id": "b4531200",
   "metadata": {},
   "outputs": [],
   "source": [
    "# cv2.IMREAD_GRAYSCALE()\n",
    "fname=\"rose.JPG\"\n",
    "\n",
    "original = cv2.imread(fname, cv2.IMREAD_COLOR)\n",
    "gray = cv2.imread(fname, cv2.IMREAD_GRAYSCALE)\n",
    "unchange = cv2.imread(fname, cv2.IMREAD_UNCHANGED)\n",
    "\n",
    "cv2.imshow('original', original)\n",
    "cv2.imshow('gray', gray)\n",
    "cv2.imshow('unchange', unchange)\n",
    "\n",
    "cv2.waitKey(0)\n",
    "cv2.destroyAllWindows()"
   ]
  },
  {
   "cell_type": "code",
   "execution_count": 24,
   "id": "fb2ab147",
   "metadata": {},
   "outputs": [
    {
     "data": {
      "image/png": "[encoded data removed]",
      "text/plain": [
       "<Figure size 432x288 with 1 Axes>"
      ]
     },
     "metadata": {
      "needs_background": "light"
     },
     "output_type": "display_data"
    }
   ],
   "source": [
    "# calcHist 함수\n",
    "rose_img = cv2.imread('./rose.JPG')\n",
    "rose_gray = cv2.cvtColor(rose_img, cv2.COLOR_BGR2GRAY)\n",
    "\n",
    "# 1채널 [0], 2채널 [0,1], 3채널 [0,1,2]\n",
    "histogram = cv2.calcHist([rose_gray], [0], None, [256], [0, 256])\n",
    "plt.plot(histogram, color='gray')\n",
    "\n",
    "colors = ['b', 'g', 'r']\n",
    "rose_bgr_planes = cv2.split(rose_img)\n",
    "\n",
    "for (p, c) in zip(rose_bgr_planes, colors):\n",
    "    hist = cv2.calcHist([p], [0], None, [256], [0, 256])\n",
    "    plt.plot(hist, color=c)\n",
    "plt.show()"
   ]
  },
  {
   "cell_type": "code",
   "execution_count": null,
   "id": "8fda204d",
   "metadata": {},
   "outputs": [],
   "source": []
  },
  {
   "cell_type": "code",
   "execution_count": 27,
   "id": "31e864f2",
   "metadata": {},
   "outputs": [],
   "source": [
    "# cv2.IMREAD_GRAYSCALE()\n",
    "fname1=\"ryan.JPG\"\n",
    "\n",
    "original = cv2.imread(fname1, cv2.IMREAD_COLOR)\n",
    "gray = cv2.imread(fname1, cv2.IMREAD_GRAYSCALE)\n",
    "unchange = cv2.imread(fname1, cv2.IMREAD_UNCHANGED)\n",
    "\n",
    "cv2.imshow('original', original)\n",
    "cv2.imshow('gray', gray)\n",
    "cv2.imshow('unchange', unchange)\n",
    "\n",
    "cv2.waitKey(0)\n",
    "cv2.destroyAllWindows()"
   ]
  },
  {
   "cell_type": "code",
   "execution_count": 26,
   "id": "3c1214d1",
   "metadata": {},
   "outputs": [
    {
     "data": {
      "image/png": "[encoded data removed]",
      "text/plain": [
       "<Figure size 432x288 with 1 Axes>"
      ]
     },
     "metadata": {
      "needs_background": "light"
     },
     "output_type": "display_data"
    }
   ],
   "source": [
    "# calcHist 함수\n",
    "ryan_img = cv2.imread('./ryan.JPG')\n",
    "ryan_gray = cv2.cvtColor(ryan_img, cv2.COLOR_BGR2GRAY)\n",
    "\n",
    "# 1채널 [0], 2채널 [0,1], 3채널 [0,1,2]\n",
    "histogram1 = cv2.calcHist([ryan_gray], [0], None, [256], [0, 256])\n",
    "plt.plot(histogram1, color='gray')\n",
    "\n",
    "colors1 = ['b', 'g', 'r']\n",
    "ryan_bgr_planes = cv2.split(ryan_img)\n",
    "\n",
    "for (p, c) in zip(ryan_bgr_planes, colors):\n",
    "    hist = cv2.calcHist([p], [0], None, [256], [0, 256])\n",
    "    plt.plot(hist, color=c)\n",
    "plt.show()\n",
    "# gray b, g, r 채널의 histogram을 확인할 수 있다.\n",
    "# zip: 길이가 같은 리스트 등의 요소를 묶어줌\n",
    "# cv2.split: 각 채널을 분리"
   ]
  },
  {
   "cell_type": "code",
   "execution_count": 37,
   "id": "00265e3c",
   "metadata": {},
   "outputs": [],
   "source": [
    "src = cv2.imread('./ryan.JPG')\n",
    "\n",
    "gray_img = cv2.cvtColor(src, cv2.COLOR_BGR2GRAY)\n",
    "gray_img_equal = cv2.equalizeHist(gray_img)\n",
    "\n",
    "cv2.imshow('gray_img', gray_img)\n",
    "cv2.imshow('gray_img_equal', gray_img_equal)\n",
    "cv2.waitKey(0)\n",
    "cv2.destroyAllWindows()"
   ]
  },
  {
   "cell_type": "code",
   "execution_count": 39,
   "id": "b19c9c3e",
   "metadata": {},
   "outputs": [],
   "source": [
    "# https://scribblinganything.tistory.com/494\n",
    "# https://deep-learning-study.tistory.com/122"
   ]
  },
  {
   "cell_type": "code",
   "execution_count": 54,
   "id": "694a5857",
   "metadata": {},
   "outputs": [],
   "source": [
    "# # 컬러 영상의 히스토그램 평활화\n",
    "# src1 = cv2.imread('view.JPG')\n",
    "\n",
    "# if src is None:\n",
    "#     print('Image load failed!')\n",
    "#     sys.exit()\n",
    "\n",
    "# src_ycrcb = cv2.cvtColor(src1, cv2.COLOR_BGR2YCrCb)\n",
    "# ycrcb_planes = cv2.split(src_ycrcb)\n",
    "\n",
    "# # # 밝기 성분에 대해서만 히스토그램 평활화 수행\n",
    "# ycrcb_planes[0] = cv2.equalizeHist(ycrcb_planes[0])\n",
    "\n",
    "# dst_ycrub = cv2.merge(ycrcb_planes)\n",
    "# dst = cv2.cvtColor(dst_ycrcb, cv2.COLOR_YCrCb2BGR)\n",
    "\n",
    "# # gray_img1 = cv2.cvtColor(src, cv2.COLOR_BGR2RGB)\n",
    "# # gray_img_equal1 = cv2.equalizeHist(gray_img1)\n",
    "\n",
    "# cv2.imshow('src1', src1)\n",
    "# cv2.imshow('dst', dst)\n",
    "# cv2.waitKey(0)\n",
    "# cv2.destroyAllWindows()"
   ]
  },
  {
   "cell_type": "code",
   "execution_count": 52,
   "id": "1a5bcce4",
   "metadata": {},
   "outputs": [],
   "source": [
    "tomato_img = cv2.imread('./tomato.JPG')\n",
    "tomato_hsv = cv2.cvtColor(tomato_img, cv2.COLOR_BGR2HSV)\n",
    "mask = cv2.inRange(tomato_hsv, (40, 0, 0), (70, 255, 255))\n",
    "\n",
    "## slice the green\n",
    "imask = mask>0\n",
    "green = np.zeros_like(tomato_hsv, np.uint8)\n",
    "green[imask] = tomato_hsv[imask]\n",
    "\n",
    "cv2.imshow('green', green)\n",
    "cv2.waitKey(0)\n",
    "cv2.destroyAllWindows()"
   ]
  },
  {
   "cell_type": "code",
   "execution_count": 53,
   "id": "cd31f2e9",
   "metadata": {},
   "outputs": [],
   "source": [
    "# Interpolation 비교\n",
    "lena_img = cv2.imread('./lena.jpg')\n",
    "lena_gray = cv2.cvtColor(lena_img, cv2.COLOR_BGR2GRAY)\n",
    "\n",
    "lena_near = cv2.resize(lena_gray, (0, 0), fx=2, fy=2, interpolation=cv2.INTER_NEAREST)\n",
    "lena_bi = cv2.resize(lena_gray, (0, 0), fx=2, fy=2, interpolation=cv2.INTER_LINEAR)\n",
    "lena_cubic = cv2.resize(lena_gray, (0, 0), fx=2, fy=2, interpolation=cv2.INTER_CUBIC)\n",
    "\n",
    "cv2.imshow('nearest', lena_near)\n",
    "cv2.imshow('bilinear', lena_bi)\n",
    "cv2.imshow('cubic', lena_cubic)\n",
    "cv2.waitKey(0)\n",
    "cv2.destroyAllWindows()"
   ]
  },
  {
   "cell_type": "code",
   "execution_count": null,
   "id": "1b40c0a2",
   "metadata": {},
   "outputs": [],
   "source": []
  }
 ],
 "metadata": {
  "kernelspec": {
   "display_name": "Python 3 (ipykernel)",
   "language": "python",
   "name": "python3"
  },
  "language_info": {
   "codemirror_mode": {
    "name": "ipython",
    "version": 3
   },
   "file_extension": ".py",
   "mimetype": "text/x-python",
   "name": "python",
   "nbconvert_exporter": "python",
   "pygments_lexer": "ipython3",
   "version": "3.9.12"
  }
 },
 "nbformat": 4,
 "nbformat_minor": 5
}
