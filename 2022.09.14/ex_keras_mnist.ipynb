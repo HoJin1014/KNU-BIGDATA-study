{
 "cells": [
  {
   "cell_type": "markdown",
   "id": "3c85ad04",
   "metadata": {},
   "source": [
    "## 손글씨 숫자 식별 모델\n",
    "---\n",
    "- 데 이 터 : MNIST 데이터 사용\n",
    "- 학습모델 : 신경망 모델\n",
    "- 동   작 : 0 ~ 9 사이 숫자 판별"
   ]
  },
  {
   "cell_type": "code",
   "execution_count": 27,
   "id": "7484af57",
   "metadata": {},
   "outputs": [],
   "source": [
    "from tensorflow.keras import Sequential\n",
    "from tensorflow.keras.layers import Dense, Dropout\n",
    "from tensorflow.keras.datasets.mnist import load_data\n",
    "from sklearn.model_selection import train_test_split"
   ]
  },
  {
   "cell_type": "markdown",
   "id": "787e6cfd",
   "metadata": {},
   "source": [
    "### [1] 데이터 로딩 및 준비"
   ]
  },
  {
   "cell_type": "code",
   "execution_count": 28,
   "id": "9fc27185",
   "metadata": {},
   "outputs": [],
   "source": [
    "(x_train, y_train), (x_test, y_test)=load_data()"
   ]
  },
  {
   "cell_type": "code",
   "execution_count": 29,
   "id": "11433943",
   "metadata": {},
   "outputs": [
    {
     "name": "stdout",
     "output_type": "stream",
     "text": [
      "x_train.shape : (60000, 28, 28), x_test.shape: (10000, 28, 28)\n"
     ]
    }
   ],
   "source": [
    "print(f'x_train.shape : {x_train.shape}, x_test.shape: {x_test.shape}')"
   ]
  },
  {
   "cell_type": "code",
   "execution_count": 30,
   "id": "0c8751f2",
   "metadata": {},
   "outputs": [],
   "source": [
    "# 검증용 데이터 셋 준비\n",
    "x_train, x_val, y_train, y_val=train_test_split(x_train, y_train, stratify=y_train)"
   ]
  },
  {
   "cell_type": "code",
   "execution_count": 31,
   "id": "567912ce",
   "metadata": {},
   "outputs": [
    {
     "name": "stdout",
     "output_type": "stream",
     "text": [
      "x_train.shape : (45000, 28, 28), x_val.shape: (15000, 28, 28)\n",
      "y_train.shape : (45000,), y_val.shape: (15000,)\n"
     ]
    }
   ],
   "source": [
    "print(f'x_train.shape : {x_train.shape}, x_val.shape: {x_val.shape}')\n",
    "print(f'y_train.shape : {y_train.shape}, y_val.shape: {y_val.shape}')"
   ]
  },
  {
   "cell_type": "markdown",
   "id": "5f55f4df",
   "metadata": {},
   "source": [
    "### [2] 데이터 전처리\n",
    "---\n",
    "- 수치 데이터 => 스케일링\n",
    "- 범주형 데이터 => 원핫인코딩"
   ]
  },
  {
   "cell_type": "code",
   "execution_count": 32,
   "id": "c32a1a4e",
   "metadata": {
    "scrolled": true
   },
   "outputs": [
    {
     "data": {
      "text/plain": [
       "(array([[  0,   0,   0,   0,   0,   0,   0,   0,   0,   0,   0,   0,   0,\n",
       "           0,   0,   0,   0,   0,   0,   0,   0,   0,   0,   0,   0,   0,\n",
       "           0,   0],\n",
       "        [  0,   0,   0,   0,   0,   0,   0,   0,   0,   0,   0,   0,   0,\n",
       "           0,   0,   0,   0,   0,   0,   0,   0,   0,   0,   0,   0,   0,\n",
       "           0,   0],\n",
       "        [  0,   0,   0,   0,   0,   0,   0,   0,   0,   0,   0,   0,   0,\n",
       "          64, 255, 184,  51,   0,   0,   0,   0,   0,   0,   0,   0,   0,\n",
       "           0,   0],\n",
       "        [  0,   0,   0,   0,   0,   0,   0,   0,   0,   0,   0,   0,   0,\n",
       "         121, 253, 252,  96,   0,   0,   0,   0,   0,   0,   0,   0,   0,\n",
       "           0,   0],\n",
       "        [  0,   0,   0,   0,   0,   0,   0,   0,   0,   0,   0,   0,   0,\n",
       "         196, 253, 252,  96,   0,   0,   0,   0,   0,   0,   0,   0,   0,\n",
       "           0,   0],\n",
       "        [  0,   0,   0,   0,   0,   0,   0,   0,   0,   0,   0,   0,  96,\n",
       "         248, 253, 247,  78,   0,   0,   0,   0,   0,   0,   0,   0,   0,\n",
       "           0,   0],\n",
       "        [  0,   0,   0,   0,   0,   0,   0,   0,   0,   0,   0,  99, 246,\n",
       "         252, 253, 228,   0,   0,   0,   0,   0,   0,   0,   0,   0,   0,\n",
       "           0,   0],\n",
       "        [  0,   0,   0,   0,   0,   0,   0,   0,   0,   0,  65, 244, 252,\n",
       "         252, 253, 228,   0,   0,   0,   0,   0,   0,   0,   0,   0,   0,\n",
       "           0,   0],\n",
       "        [  0,   0,   0,   0,   0,   0,   0,   0,   0,   0, 126, 252, 252,\n",
       "         252, 253, 228,   0,   0,   0,   0,   0,   0,   0,   0,   0,   0,\n",
       "           0,   0],\n",
       "        [  0,   0,   0,   0,   0,   0,   0,   0,   0,  35, 149,  52, 186,\n",
       "         252, 253, 228,   0,   0,   0,   0,   0,   0,   0,   0,   0,   0,\n",
       "           0,   0],\n",
       "        [  0,   0,   0,   0,   0,   0,   0,   0,   0,   0,   0,   0, 166,\n",
       "         252, 253, 228,   0,   0,   0,   0,   0,   0,   0,   0,   0,   0,\n",
       "           0,   0],\n",
       "        [  0,   0,   0,   0,   0,   0,   0,   0,   0,   0,   0,   0, 109,\n",
       "         252, 253, 228,   0,   0,   0,   0,   0,   0,   0,   0,   0,   0,\n",
       "           0,   0],\n",
       "        [  0,   0,   0,   0,   0,   0,   0,   0,   0,   0,   0,   0, 167,\n",
       "         253, 255, 165,   0,   0,   0,   0,   0,   0,   0,   0,   0,   0,\n",
       "           0,   0],\n",
       "        [  0,   0,   0,   0,   0,   0,   0,   0,   0,   0,   0,   0, 178,\n",
       "         252, 253, 108,   0,   0,   0,   0,   0,   0,   0,   0,   0,   0,\n",
       "           0,   0],\n",
       "        [  0,   0,   0,   0,   0,   0,   0,   0,   0,   0,   0,   0, 229,\n",
       "         252, 253, 108,   0,   0,   0,   0,   0,   0,   0,   0,   0,   0,\n",
       "           0,   0],\n",
       "        [  0,   0,   0,   0,   0,   0,   0,   0,   0,   0,   0,   0, 229,\n",
       "         252, 253, 108,   0,   0,   0,   0,   0,   0,   0,   0,   0,   0,\n",
       "           0,   0],\n",
       "        [  0,   0,   0,   0,   0,   0,   0,   0,   0,   0,   0,   0, 229,\n",
       "         252, 253, 108,   0,   0,   0,   0,   0,   0,   0,   0,   0,   0,\n",
       "           0,   0],\n",
       "        [  0,   0,   0,   0,   0,   0,   0,   0,   0,   0,   0,   0, 229,\n",
       "         252, 253, 207,  38,  73,  73,  18,   0,   0,   0,   0,   0,   0,\n",
       "           0,   0],\n",
       "        [  0,   0,   0,   0,   0,   0,   0,   0,   0,   0,  69,  85, 237,\n",
       "         252, 253, 252, 230, 252, 252, 100,   0,   0,   0,   0,   0,   0,\n",
       "           0,   0],\n",
       "        [  0,   0,   0,   0,   0,   0,   0,   0,  99, 217, 246, 252, 252,\n",
       "         252, 253, 252, 252, 252, 252, 180,   0,   0,   0,   0,   0,   0,\n",
       "           0,   0],\n",
       "        [  0,   0,   0,   0,   0,   0,   0,   0, 181, 252, 252, 252, 252,\n",
       "         252, 253, 252, 252, 252, 252,  71,   0,   0,   0,   0,   0,   0,\n",
       "           0,   0],\n",
       "        [  0,   0,   0,   0,   0,   0,   0,   0,  66, 252, 252, 252, 252,\n",
       "         252, 253, 241, 206, 252, 223,  31,   0,   0,   0,   0,   0,   0,\n",
       "           0,   0],\n",
       "        [  0,   0,   0,   0,   0,   0,   0,   0,   0,   0,   0,   0,   0,\n",
       "           0,   0,   0,   0,   0,   0,   0,   0,   0,   0,   0,   0,   0,\n",
       "           0,   0],\n",
       "        [  0,   0,   0,   0,   0,   0,   0,   0,   0,   0,   0,   0,   0,\n",
       "           0,   0,   0,   0,   0,   0,   0,   0,   0,   0,   0,   0,   0,\n",
       "           0,   0],\n",
       "        [  0,   0,   0,   0,   0,   0,   0,   0,   0,   0,   0,   0,   0,\n",
       "           0,   0,   0,   0,   0,   0,   0,   0,   0,   0,   0,   0,   0,\n",
       "           0,   0],\n",
       "        [  0,   0,   0,   0,   0,   0,   0,   0,   0,   0,   0,   0,   0,\n",
       "           0,   0,   0,   0,   0,   0,   0,   0,   0,   0,   0,   0,   0,\n",
       "           0,   0],\n",
       "        [  0,   0,   0,   0,   0,   0,   0,   0,   0,   0,   0,   0,   0,\n",
       "           0,   0,   0,   0,   0,   0,   0,   0,   0,   0,   0,   0,   0,\n",
       "           0,   0],\n",
       "        [  0,   0,   0,   0,   0,   0,   0,   0,   0,   0,   0,   0,   0,\n",
       "           0,   0,   0,   0,   0,   0,   0,   0,   0,   0,   0,   0,   0,\n",
       "           0,   0]], dtype=uint8),\n",
       " 1)"
      ]
     },
     "execution_count": 32,
     "metadata": {},
     "output_type": "execute_result"
    }
   ],
   "source": [
    "# 저장된 값 확인\n",
    "x_train[0], y_train[0]"
   ]
  },
  {
   "cell_type": "code",
   "execution_count": 33,
   "id": "ee97b188",
   "metadata": {},
   "outputs": [],
   "source": [
    "# 이미지 데이터의 픽셀값 즉 특성(Feature) 0.0~1.0으로 스케일링\n",
    "# 5/255.    # numpy 브로드캐스팅\n",
    "x_train=x_train/255.0\n",
    "x_val=x_val/255.0\n",
    "x_test=x_test/255.0"
   ]
  },
  {
   "cell_type": "code",
   "execution_count": 34,
   "id": "0bf8fb61",
   "metadata": {},
   "outputs": [],
   "source": [
    "# 타겟 라벨 => OneHotEncoding으로 변환\n",
    "from sklearn.preprocessing import OneHotEncoder"
   ]
  },
  {
   "cell_type": "code",
   "execution_count": 35,
   "id": "5d66d75a",
   "metadata": {},
   "outputs": [],
   "source": [
    "encoder=OneHotEncoder()\n",
    "encoder.fit(y_train.reshape(-1, 1))\n",
    "y_train=encoder.transform(y_train.reshape(-1, 1))"
   ]
  },
  {
   "cell_type": "code",
   "execution_count": 36,
   "id": "a611ec48",
   "metadata": {},
   "outputs": [
    {
     "data": {
      "text/plain": [
       "scipy.sparse.csr.csr_matrix"
      ]
     },
     "execution_count": 36,
     "metadata": {},
     "output_type": "execute_result"
    }
   ],
   "source": [
    "type(y_train)"
   ]
  },
  {
   "cell_type": "code",
   "execution_count": 37,
   "id": "1984d522",
   "metadata": {},
   "outputs": [
    {
     "data": {
      "text/plain": [
       "numpy.ndarray"
      ]
     },
     "execution_count": 37,
     "metadata": {},
     "output_type": "execute_result"
    }
   ],
   "source": [
    "y_train = y_train.toarray()\n",
    "type(y_train)"
   ]
  },
  {
   "cell_type": "code",
   "execution_count": 42,
   "id": "078a366b",
   "metadata": {},
   "outputs": [
    {
     "name": "stdout",
     "output_type": "stream",
     "text": [
      " y_train : <class 'numpy.ndarray'>]\n",
      " y_train[0] : [0. 1. 0. 0. 0. 0. 0. 0. 0. 0.]\n"
     ]
    }
   ],
   "source": [
    "print(f' y_train : {type(y_train)}]\\n y_train[0] : {y_train[0]}')"
   ]
  },
  {
   "cell_type": "code",
   "execution_count": 43,
   "id": "48d4a0e5",
   "metadata": {},
   "outputs": [],
   "source": [
    "y_test=encoder.transform(y_test.reshape(-1, 1))\n",
    "y_val=encoder.transform(y_val.reshape(-1, 1))"
   ]
  },
  {
   "cell_type": "code",
   "execution_count": 44,
   "id": "9c588c56",
   "metadata": {},
   "outputs": [],
   "source": [
    "y_test = y_test.toarray()\n",
    "y_val = y_val.toarray()"
   ]
  },
  {
   "cell_type": "markdown",
   "id": "53c653ab",
   "metadata": {},
   "source": [
    "### [3] 모델 생성\n",
    "---\n",
    "- (1) 모델 구성\n",
    "- (2) 모델 생성"
   ]
  },
  {
   "cell_type": "markdown",
   "id": "303324b0",
   "metadata": {},
   "source": [
    "#### [3-1] 모델 구성\n",
    "---\n",
    "- 입력 데이터 : 784 => 28 * 28 이미지 데이터\n",
    "- 출력 데이터 : 10  => 0 ~ 9 숫자 라벨\n",
    "- 학습 방  법 : 분류 - 다중분류"
   ]
  },
  {
   "cell_type": "code",
   "execution_count": 45,
   "id": "e4e212fe",
   "metadata": {},
   "outputs": [],
   "source": [
    "model=Sequential(name='MNIST_NNModel')"
   ]
  },
  {
   "cell_type": "code",
   "execution_count": 46,
   "id": "420a9c2a",
   "metadata": {},
   "outputs": [],
   "source": [
    "# Layer 생성 => Node(퍼셉트론, 뉴런) 갯수, 활성화함수, [옵]input_shape param\n",
    "model.add( Dense(30, activation='relu', input_shape=(784,)))"
   ]
  },
  {
   "cell_type": "code",
   "execution_count": 47,
   "id": "f1480566",
   "metadata": {},
   "outputs": [],
   "source": [
    "# 출력 Layer 생성 => Node(퍼셉트론, 뉴런) 갯수, 활성화함수\n",
    "model.add( Dense(10, activation='softmax'))"
   ]
  },
  {
   "cell_type": "code",
   "execution_count": 48,
   "id": "31a164d9",
   "metadata": {},
   "outputs": [
    {
     "name": "stdout",
     "output_type": "stream",
     "text": [
      "Model: \"MNIST_NNModel\"\n",
      "_________________________________________________________________\n",
      " Layer (type)                Output Shape              Param #   \n",
      "=================================================================\n",
      " dense (Dense)               (None, 30)                23550     \n",
      "                                                                 \n",
      " dense_1 (Dense)             (None, 10)                310       \n",
      "                                                                 \n",
      "=================================================================\n",
      "Total params: 23,860\n",
      "Trainable params: 23,860\n",
      "Non-trainable params: 0\n",
      "_________________________________________________________________\n"
     ]
    }
   ],
   "source": [
    "model.summary()"
   ]
  },
  {
   "cell_type": "markdown",
   "id": "701b66a0",
   "metadata": {},
   "source": [
    "#### [3-2] 모델 생성\n",
    "---"
   ]
  },
  {
   "cell_type": "code",
   "execution_count": null,
   "id": "f78e9e9d",
   "metadata": {},
   "outputs": [],
   "source": []
  }
 ],
 "metadata": {
  "kernelspec": {
   "display_name": "Python 3 (ipykernel)",
   "language": "python",
   "name": "python3"
  },
  "language_info": {
   "codemirror_mode": {
    "name": "ipython",
    "version": 3
   },
   "file_extension": ".py",
   "mimetype": "text/x-python",
   "name": "python",
   "nbconvert_exporter": "python",
   "pygments_lexer": "ipython3",
   "version": "3.9.12"
  }
 },
 "nbformat": 4,
 "nbformat_minor": 5
}
