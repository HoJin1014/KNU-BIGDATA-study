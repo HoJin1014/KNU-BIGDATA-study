{
 "cells": [
  {
   "cell_type": "code",
   "execution_count": 1,
   "id": "c9572a8e",
   "metadata": {},
   "outputs": [],
   "source": [
    "# 모듈 로딩 --------------------------------------------------------\n",
    "import tensorflow as tf\n",
    "from tensorflow.keras import Sequential              # 모델 객체\n",
    "from tensorflow.keras.layers import Dense           # 레이어 객체\n",
    "from tensorflow.keras.datasets.boston_housing import load_data\n",
    "import numpy as np"
   ]
  },
  {
   "cell_type": "markdown",
   "id": "0b09994d",
   "metadata": {},
   "source": [
    "### [1] 데이터 로딩"
   ]
  },
  {
   "cell_type": "code",
   "execution_count": 2,
   "id": "a5913fcd",
   "metadata": {},
   "outputs": [],
   "source": [
    "# 학습용, 테스트용 = 8 : 2\n",
    "(X_train, y_train), (X_test, y_test) = load_data()"
   ]
  },
  {
   "cell_type": "code",
   "execution_count": 3,
   "id": "87b4fb49",
   "metadata": {},
   "outputs": [
    {
     "data": {
      "text/plain": [
       "((404, 13), (102, 13))"
      ]
     },
     "execution_count": 3,
     "metadata": {},
     "output_type": "execute_result"
    }
   ],
   "source": [
    "X_train.shape, X_test.shape"
   ]
  },
  {
   "cell_type": "code",
   "execution_count": 4,
   "id": "335bb70f",
   "metadata": {},
   "outputs": [
    {
     "data": {
      "text/plain": [
       "(array([[  1.23247,   0.     ,   8.14   ,   0.     ,   0.538  ,   6.142  ,\n",
       "          91.7    ,   3.9769 ,   4.     , 307.     ,  21.     , 396.9    ,\n",
       "          18.72   ]]),\n",
       " 15.2)"
      ]
     },
     "execution_count": 4,
     "metadata": {},
     "output_type": "execute_result"
    }
   ],
   "source": [
    "X_train[:1], y_train[0]"
   ]
  },
  {
   "cell_type": "markdown",
   "id": "08e5087f",
   "metadata": {},
   "source": [
    "### [2] NN Nodel 실습\n",
    "---\n",
    "    * (1) 모델 구성\n",
    "    * (2) 모델 생성\n",
    "    * (3) 학습\n",
    "    * (4) 평가\n",
    "    * (5) 테스트"
   ]
  },
  {
   "cell_type": "markdown",
   "id": "eeeed75e",
   "metadata": {},
   "source": [
    "#### [2-1] 모델 구상\n",
    "- 입력 데이터 => 13개 Features\n",
    "- 출력 데이터 => 1개 집값\n",
    "- 학습   방법 => 회귀 or 분류\n",
    "    - 13개 Features\n",
    " * Dense Layer : node=1, af=linear, input_shape=(13, )"
   ]
  },
  {
   "cell_type": "code",
   "execution_count": 5,
   "id": "176488ff",
   "metadata": {},
   "outputs": [],
   "source": [
    "# NN Model의 Layer를 층층이 담아서 관리하는 객체\n",
    "model=Sequential(name='Boston')"
   ]
  },
  {
   "cell_type": "code",
   "execution_count": 6,
   "id": "db3fbc45",
   "metadata": {},
   "outputs": [],
   "source": [
    "# Layer 추가하기\n",
    "# model.add(Dense(1, activation='linear', input_shape(13, )))"
   ]
  },
  {
   "cell_type": "code",
   "execution_count": 7,
   "id": "bb89f62a",
   "metadata": {},
   "outputs": [],
   "source": [
    "l1=Dense(1, activation='linear', input_shape=(13,))"
   ]
  },
  {
   "cell_type": "code",
   "execution_count": 8,
   "id": "16b54f5e",
   "metadata": {},
   "outputs": [],
   "source": [
    "model.add(l1)"
   ]
  },
  {
   "cell_type": "code",
   "execution_count": 9,
   "id": "92e92de4",
   "metadata": {},
   "outputs": [
    {
     "name": "stdout",
     "output_type": "stream",
     "text": [
      "Model: \"Boston\"\n",
      "_________________________________________________________________\n",
      " Layer (type)                Output Shape              Param #   \n",
      "=================================================================\n",
      " dense (Dense)               (None, 1)                 14        \n",
      "                                                                 \n",
      "=================================================================\n",
      "Total params: 14\n",
      "Trainable params: 14\n",
      "Non-trainable params: 0\n",
      "_________________________________________________________________\n"
     ]
    }
   ],
   "source": [
    "# 모델 구성 확인   => summary()\n",
    "model.summary()"
   ]
  },
  {
   "cell_type": "markdown",
   "id": "32755882",
   "metadata": {},
   "source": [
    "#### [2-2] 모델 생성\n",
    "---\n",
    "-Sequential 클래스의 compile 메서드\n",
    "- 모델이 동작하기 위해서 필요한 설정\n",
    "    * 오차 계산 함수 설정 => loss\n",
    "    * W, B 최적화 방식 설정 => optimizer\n",
    "    * 모델의 성능 측정 항목 설정 => metrics\n",
    "---\n",
    "- 오차/로스 계산함수\n",
    "    * 회귀 -> mae, mse, rmse\n",
    "    * 분류 -> crossentropy \n",
    "       => 이진분류 : binary_crossentropy\n",
    "          다중분류 : categorical_crossentropy  <= 타겟 One Hot 했을때\n",
    "                  sparse_categorical_crossentropy <= One Hot Encoding X\n",
    "---\n",
    "- 파라미터 값들\n",
    "    * str 타입으로 입력 가능\n",
    "    * 객체 타입으로 입력 가능\n",
    "---    \n",
    "- 최적화 optimizer param\n",
    "    * 기본 : rmsprop\n",
    "    * adam, momonent, ... 최적화 클래스 이름 문자열 입력\n",
    "---    \n",
    "- 성능 평가 metrics param\n",
    "    * 기본 : loss\n",
    "    * 클래스 이름 문자열 입력"
   ]
  },
  {
   "cell_type": "code",
   "execution_count": 10,
   "id": "422510c4",
   "metadata": {},
   "outputs": [],
   "source": [
    "model.compile(loss='mse', optimizer='adam', metrics=['accuracy'])"
   ]
  },
  {
   "cell_type": "markdown",
   "id": "b43051e9",
   "metadata": {},
   "source": [
    "#### [2-3] 학습\n",
    "---\n",
    "- fit()메서드\n",
    "    * 파라미터\n",
    "    * 반환값 => History 객체"
   ]
  },
  {
   "cell_type": "code",
   "execution_count": 17,
   "id": "8caa20c9",
   "metadata": {},
   "outputs": [
    {
     "name": "stdout",
     "output_type": "stream",
     "text": [
      "Epoch 1/3\n",
      "13/13 [==============================] - 0s 1ms/step - loss: 22733.5254\n",
      "Epoch 2/3\n",
      "13/13 [==============================] - 0s 2ms/step - loss: 19392.9551\n",
      "Epoch 3/3\n",
      "13/13 [==============================] - 0s 1ms/step - loss: 16437.6191\n"
     ]
    }
   ],
   "source": [
    "result=model.fit(X_train, y_train, epochs=3)"
   ]
  },
  {
   "cell_type": "code",
   "execution_count": 18,
   "id": "a6d1c3de",
   "metadata": {},
   "outputs": [
    {
     "data": {
      "text/plain": [
       "(keras.callbacks.History,\n",
       " {'loss': [22733.525390625, 19392.955078125, 16437.619140625]})"
      ]
     },
     "execution_count": 18,
     "metadata": {},
     "output_type": "execute_result"
    }
   ],
   "source": [
    "# 학습 후 학습 결과 체크 => History 객체\n",
    "type(result), result.history"
   ]
  },
  {
   "cell_type": "code",
   "execution_count": 19,
   "id": "41aa17f7",
   "metadata": {},
   "outputs": [
    {
     "data": {
      "text/plain": [
       "{'verbose': 1, 'epochs': 3, 'steps': 13}"
      ]
     },
     "execution_count": 19,
     "metadata": {},
     "output_type": "execute_result"
    }
   ],
   "source": [
    "result.params"
   ]
  },
  {
   "cell_type": "code",
   "execution_count": 20,
   "id": "9d22700b",
   "metadata": {},
   "outputs": [
    {
     "data": {
      "text/plain": [
       "dict_keys(['loss'])"
      ]
     },
     "execution_count": 20,
     "metadata": {},
     "output_type": "execute_result"
    }
   ],
   "source": [
    "result.history.keys()"
   ]
  },
  {
   "cell_type": "code",
   "execution_count": 21,
   "id": "1eaaff08",
   "metadata": {},
   "outputs": [
    {
     "data": {
      "text/plain": [
       "[22733.525390625, 19392.955078125, 16437.619140625]"
      ]
     },
     "execution_count": 21,
     "metadata": {},
     "output_type": "execute_result"
    }
   ],
   "source": [
    "result.history['loss']"
   ]
  },
  {
   "cell_type": "code",
   "execution_count": null,
   "id": "5e97aad6",
   "metadata": {},
   "outputs": [],
   "source": []
  }
 ],
 "metadata": {
  "kernelspec": {
   "display_name": "Python 3 (ipykernel)",
   "language": "python",
   "name": "python3"
  },
  "language_info": {
   "codemirror_mode": {
    "name": "ipython",
    "version": 3
   },
   "file_extension": ".py",
   "mimetype": "text/x-python",
   "name": "python",
   "nbconvert_exporter": "python",
   "pygments_lexer": "ipython3",
   "version": "3.9.12"
  }
 },
 "nbformat": 4,
 "nbformat_minor": 5
}
