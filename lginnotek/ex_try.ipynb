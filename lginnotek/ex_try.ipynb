{
 "cells": [
  {
   "cell_type": "markdown",
   "id": "060d04cf",
   "metadata": {},
   "source": [
    "### 조건2"
   ]
  },
  {
   "cell_type": "code",
   "execution_count": 2,
   "id": "f5da9f78",
   "metadata": {},
   "outputs": [],
   "source": [
    "import os\n",
    "import cv2\n",
    "import numpy as np\n",
    "import model3_hs\n",
    "import img_preprocess\n",
    "import matplotlib.pyplot as plt\n",
    "from skimage.metrics import structural_similarity as compare_ssim"
   ]
  },
  {
   "cell_type": "code",
   "execution_count": 3,
   "id": "3a1581a6",
   "metadata": {},
   "outputs": [],
   "source": [
    "# PATH = \"./product_images/true_ng/result/ok/\"\n",
    "# for i in os.listdir(PATH):\n",
    "#     print(PATH + i)\n",
    "#     preprocessing(PATH+i)"
   ]
  },
  {
   "cell_type": "code",
   "execution_count": 4,
   "id": "8e97ff3d",
   "metadata": {},
   "outputs": [],
   "source": [
    "# img = cv2.imread(path)\n",
    "# pred = model2_hj(img, show=True, thresh=4.0)\n",
    "# print(pred)"
   ]
  },
  {
   "cell_type": "code",
   "execution_count": 5,
   "id": "d21beefc",
   "metadata": {},
   "outputs": [],
   "source": [
    "def preprocessing(imgg):\n",
    "    imageA = cv2.imread('./product_images/true_ok/GSY827AN7A1356_AAO11960K_PKT10_CM1EQSUA0012_20220711210457_DirectLight_OK.jpg')\n",
    "    imageB = cv2.imread(imgg)\n",
    "    \n",
    "    img, img1 = img_preprocess.find_contours(imageA, sensor=True)\n",
    "    dif, dif1 = img_preprocess.find_contours(imageB, sensor=True)\n",
    "    #dif= cv2.resize(dif, dsize=(1836, 1432))\n",
    "    img1= cv2.resize(img1, dsize=(1676, 1258))\n",
    "    dif1= cv2.resize(dif1, dsize=(1676, 1258))\n",
    "    \n",
    "    tempDiff = cv2.subtract(img1, dif1)\n",
    "    \n",
    "#     grayA = cv2.cvtColor(img1, cv2.COLOR_BGR2GRAY)\n",
    "#     grayB = cv2.cvtColor(dif1, cv2.COLOR_BGR2GRAY)\n",
    "\n",
    "#     (score, diff) = compare_ssim(grayA, grayB, full=True)\n",
    "#     diff = (diff*255).astype(\"uint8\")\n",
    "\n",
    "#     print(f\"Similarity: {score:.5f}\")\n",
    "\n",
    "#     thresh = cv2.threshold(diff, 0, 255,\n",
    "#                           cv2.THRESH_BINARY_INV | cv2.THRESH_OTSU)[0]\n",
    "\n",
    "#     # 차이점 빨간색으로 칠하기\n",
    "#     tempDiff[thresh == 255] = [0, 0, 255]\n",
    "\n",
    "    cv2.imshow(\"img1\", cv2.resize(img1, (960, 540)))\n",
    "    cv2.imshow(\"dif1\", cv2.resize(dif1, (960, 540)))\n",
    "    cv2.imshow(\"Gray2\", cv2.resize(tempDiff, (960, 540)))\n",
    "#     cv2.imshow(\"Gray2\", img_preprocess.img_resize(tempDiff, 800))\n",
    "    cv2.waitKey(0)\n",
    "    cv2.destroyAllWindows()\n",
    "    return tempDiff"
   ]
  },
  {
   "cell_type": "code",
   "execution_count": 6,
   "id": "f178edc2",
   "metadata": {},
   "outputs": [],
   "source": [
    "# GSY827AN7C3501_AAO11690K_PKT12_CM1EQSUA0011_20220713001152_DirectLight_NG.jpg   (까다로운 먼지)\n",
    "# GSY827BN8F0534_AAO32062K_PKT07_CM1EQSUA0012_20220815162431_DirectLight_NG.jpg   (까다로운 먼지)\n",
    "# GSY848CN832941_AAO25314K_PKT15_CM1EQSUA0022_20220806165752_DirectLight_NG.jpg   (질문할 사진)\n",
    "# GSY848AN7U0241_AAO14488K_PKT14_CM1EQSUA0012_20220728060237_DirectLight_NG.jpg   (까다로운 먼지)\n",
    "# GSY848CN832410_AAO32159K_PKT06_CM1EQSUA0022_20220805210213_DirectLight_NG.jpg   (3번 조건)\n",
    "# GSY827AN7A1641_AAO19043K_PKT06_CM1EQSUA0012_20220711220651_DirectLight_NG.jpg   (화면 깨짐)"
   ]
  },
  {
   "cell_type": "code",
   "execution_count": 7,
   "id": "928d66dc",
   "metadata": {
    "scrolled": true
   },
   "outputs": [
    {
     "data": {
      "text/plain": [
       "array([[[ 7,  7,  7],\n",
       "        [18, 18, 18],\n",
       "        [ 7,  7,  7],\n",
       "        ...,\n",
       "        [ 3,  3,  3],\n",
       "        [ 0,  0,  0],\n",
       "        [ 0,  0,  0]],\n",
       "\n",
       "       [[ 9,  9,  9],\n",
       "        [ 5,  5,  5],\n",
       "        [ 0,  0,  0],\n",
       "        ...,\n",
       "        [ 0,  0,  0],\n",
       "        [ 1,  1,  1],\n",
       "        [ 5,  5,  5]],\n",
       "\n",
       "       [[11, 11, 11],\n",
       "        [ 0,  0,  0],\n",
       "        [ 5,  5,  5],\n",
       "        ...,\n",
       "        [ 4,  4,  4],\n",
       "        [ 8,  8,  8],\n",
       "        [ 8,  8,  8]],\n",
       "\n",
       "       ...,\n",
       "\n",
       "       [[ 0,  0,  0],\n",
       "        [ 0,  0,  0],\n",
       "        [ 0,  0,  0],\n",
       "        ...,\n",
       "        [ 0,  0,  0],\n",
       "        [ 0,  0,  0],\n",
       "        [ 0,  0,  0]],\n",
       "\n",
       "       [[ 3,  3,  3],\n",
       "        [ 6,  6,  6],\n",
       "        [ 0,  0,  0],\n",
       "        ...,\n",
       "        [ 0,  0,  0],\n",
       "        [ 0,  0,  0],\n",
       "        [ 0,  0,  0]],\n",
       "\n",
       "       [[ 0,  0,  0],\n",
       "        [ 1,  1,  1],\n",
       "        [ 0,  0,  0],\n",
       "        ...,\n",
       "        [ 0,  0,  0],\n",
       "        [ 0,  0,  0],\n",
       "        [ 0,  0,  0]]], dtype=uint8)"
      ]
     },
     "execution_count": 7,
     "metadata": {},
     "output_type": "execute_result"
    }
   ],
   "source": [
    "# true_ng/GSY827BN8F0534_AAO32062K_PKT07_CM1EQSUA0012_20220815162431_DirectLight_NG.jpg\n",
    "preprocessing(\"./product_images/true_ng/GSY827AN7A3201_AAO04063K_PKT14_CM1EQSUA0012_20220711155454_DirectLight_NG.jpg\")"
   ]
  },
  {
   "cell_type": "code",
   "execution_count": 8,
   "id": "7edba219",
   "metadata": {},
   "outputs": [],
   "source": [
    "def get_hists(img, mask=None, ranges=[0, 255]):\n",
    "    \"\"\"show image's distribution\n",
    "\n",
    "    Args:\n",
    "        img (3D/2D Array): image\n",
    "        mask (cv2.inrange, optional): image where you wanna get hist. Defaults to None.\n",
    "        ranges (list, optional): _description_. Defaults to [0, 255].\n",
    "\n",
    "    Returns:\n",
    "        hists (list): list of each component's hist\n",
    "    \"\"\"\n",
    "    colors = [\"b\", \"g\", \"r\"]\n",
    "    img_planes = cv2.split(img)\n",
    "    hists = []\n",
    "    for (p, c) in zip(img_planes, colors):\n",
    "        try:\n",
    "            hist = cv2.calcHist(\n",
    "                [p],\n",
    "                [0],\n",
    "                mask,\n",
    "                [256],\n",
    "                ranges,\n",
    "            )\n",
    "            hists.append([hist, c])\n",
    "\n",
    "        except:\n",
    "            pass\n",
    "\n",
    "    return hists"
   ]
  },
  {
   "cell_type": "code",
   "execution_count": 13,
   "id": "65c3c1b0",
   "metadata": {},
   "outputs": [
    {
     "data": {
      "image/png": "[encoded data removed]",
      "text/plain": [
       "<Figure size 432x288 with 1 Axes>"
      ]
     },
     "metadata": {
      "needs_background": "light"
     },
     "output_type": "display_data"
    },
    {
     "data": {
      "image/png": "[encoded data removed]",
      "text/plain": [
       "<Figure size 432x288 with 1 Axes>"
      ]
     },
     "metadata": {
      "needs_background": "light"
     },
     "output_type": "display_data"
    },
    {
     "data": {
      "image/png": "[encoded data removed]",
      "text/plain": [
       "<Figure size 432x288 with 1 Axes>"
      ]
     },
     "metadata": {
      "needs_background": "light"
     },
     "output_type": "display_data"
    }
   ],
   "source": [
    "def make_mask(per, n):\n",
    "    \"\"\" 이미지에 마진margin을 n만큼 설정해서 출력\n",
    "\n",
    "    Args:\n",
    "        per (ndarray): 이미지\n",
    "        n (int): 마진margin \n",
    "\n",
    "    Returns:\n",
    "        ndarray: 마진을 설정한 이미지\n",
    "    \"\"\"\n",
    "    mask = np.zeros(per.shape[:2], np.uint8)\n",
    "    mask[n : per.shape[0] - n, n : per.shape[1] - n] = 255\n",
    "    return mask\n",
    "\n",
    "\n",
    "tempdiff=preprocessing(\"./product_images/true_ng/GSY827AN7A3201_AAO04063K_PKT14_CM1EQSUA0012_20220711155454_DirectLight_NG.jpg\")\n",
    "mask = make_mask(tempdiff, 15)\n",
    "\n",
    "# n = 10\n",
    "# cv2.imshow('tempdiff', tempdiff[n :- n, n :- n])\n",
    "# cv2.waitKey()\n",
    "# cv2.destroyAllWindows()\n",
    "hists = get_hists(tempdiff, mask=mask)\n",
    "for hist, c in hists:\n",
    "    plt.plot(hist[6:], color=c)\n",
    "    plt.title(\"gray\")\n",
    "    plt.show()"
   ]
  },
  {
   "cell_type": "code",
   "execution_count": 14,
   "id": "08d61de7",
   "metadata": {},
   "outputs": [
    {
     "data": {
      "text/plain": [
       "141.0"
      ]
     },
     "execution_count": 14,
     "metadata": {},
     "output_type": "execute_result"
    }
   ],
   "source": [
    "hist=np.sum(hists[2][0][15:])\n",
    "hist"
   ]
  },
  {
   "cell_type": "code",
   "execution_count": 86,
   "id": "a7e9e7d5",
   "metadata": {},
   "outputs": [],
   "source": [
    "# new\n",
    "\n",
    "# 정상\n",
    "# 7번 - 33/ 8번 -  41/ 9번 - 36/ 10번 - 502/ 11번 - 64/ 12번 - 64/ 13번 - 32/ 14번 - 38/ 15번 - 31/ 16번 -27/\n",
    "\n",
    "# 불량\n",
    "# 7번 - 34 / 8번 - 26 / 9번 - 398/ 10번 - 40/ 11번 - 40/ 12번 - 125/ 13번 - 54/ 14번 - 38/ 15번 - 26/ 16번 -35/"
   ]
  },
  {
   "cell_type": "code",
   "execution_count": 56,
   "id": "9a9ab63e",
   "metadata": {},
   "outputs": [
    {
     "data": {
      "text/plain": [
       "'NG'"
      ]
     },
     "execution_count": 56,
     "metadata": {},
     "output_type": "execute_result"
    }
   ],
   "source": [
    "def check_num(hist):\n",
    "    if hist > 25:\n",
    "        return \"NG\"\n",
    "    else:\n",
    "        return \"OK\"\n",
    "        \n",
    "check_num(hist)"
   ]
  },
  {
   "cell_type": "code",
   "execution_count": 70,
   "id": "cddb9e91",
   "metadata": {},
   "outputs": [],
   "source": [
    "# original\n",
    "\n",
    "# 정상\n",
    "# 7번 - 33/ 8번 -  31/ 9번 - 29/ 10번 - 35/ 11번 - 39/ 12번 - 41/ 13번 - 32/ 14번 - 38/ 15번 - 31/ 16번 -27/\n",
    "\n",
    "# 불량\n",
    "# 7번 - 34 / 8번 - 26 / 9번 - 398/ 10번 - 40/ 11번 - 40/ 12번 - 125/ 13번 - 54/ 14번 - 38/ 15번 - 26/ 16번 -35/"
   ]
  },
  {
   "cell_type": "code",
   "execution_count": 12,
   "id": "49b8e52d",
   "metadata": {},
   "outputs": [],
   "source": [
    "# 양품, 불량 판정 기준\n",
    "def defect_range(hist, file_path, name, imageB, num_OK, num_NG):\n",
    "    \"\"\"\n",
    "    불량 검출 유무에 따라 양품, 불량 판정\n",
    "    Args:\n",
    "        cnt (int): _description_\n",
    "        file_path (str): _description_\n",
    "        name (str): _description_\n",
    "        image (_type_): _description_\n",
    "        num_OK (int): _description_\n",
    "        num_NG (int): _description_\n",
    "\n",
    "    Returns:\n",
    "        int: _description_\n",
    "    \"\"\"\n",
    "    if hist > 25:\n",
    "        num_NG += 1\n",
    "        pred = \"NG\"\n",
    "    else:\n",
    "        num_OK += 1\n",
    "        pred = \"OK\"\n",
    "    return pred"
   ]
  },
  {
   "cell_type": "code",
   "execution_count": 15,
   "id": "fdc888cb",
   "metadata": {},
   "outputs": [],
   "source": [
    "# cv2.imwrite(file_path + \"result/ng/\" + name, imageB"
   ]
  },
  {
   "cell_type": "code",
   "execution_count": null,
   "id": "0a475992",
   "metadata": {},
   "outputs": [],
   "source": []
  },
  {
   "cell_type": "code",
   "execution_count": null,
   "id": "4ab0feab",
   "metadata": {},
   "outputs": [],
   "source": []
  }
 ],
 "metadata": {
  "kernelspec": {
   "display_name": "Python 3 (ipykernel)",
   "language": "python",
   "name": "python3"
  },
  "language_info": {
   "codemirror_mode": {
    "name": "ipython",
    "version": 3
   },
   "file_extension": ".py",
   "mimetype": "text/x-python",
   "name": "python",
   "nbconvert_exporter": "python",
   "pygments_lexer": "ipython3",
   "version": "3.9.12"
  }
 },
 "nbformat": 4,
 "nbformat_minor": 5
}
