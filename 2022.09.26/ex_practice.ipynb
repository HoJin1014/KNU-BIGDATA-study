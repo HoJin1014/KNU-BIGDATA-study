{
 "cells": [
  {
   "cell_type": "code",
   "execution_count": 19,
   "id": "e96a9a99",
   "metadata": {},
   "outputs": [],
   "source": [
    "from tensorflow.keras.preprocessing.text import text_to_word_sequence, Tokenizer\n",
    "from tensorflow.keras.utils import to_categorical\n",
    "from nltk.tokenize import sent_tokenize\n",
    "from nltk.tokenize import word_tokenize\n",
    "from nltk.corpus import stopwords"
   ]
  },
  {
   "cell_type": "code",
   "execution_count": 20,
   "id": "d0fb7442",
   "metadata": {},
   "outputs": [],
   "source": [
    "sentences = [\n",
    "    'The main Henry Ford Museum building houses some of the classrooms for the Henry Ford Academy',\n",
    "    \n",
    "\n",
    "'Henry Ford Academy is the first charter school in the United States to be developed jointly by a global corporation, public education, and a major nonprofit cultural institution.', \n",
    "'The school is sponsored by the Ford Motor Company, Wayne County Regional Educational Service Agency and The Henry Ford Museum and admits high school students.', \n",
    "'It is located in Dearborn, Michigan on the campus of the Henry Ford museum. Enrollment is taken from a lottery in the area and totaled 467 in 2010.',\n",
    "'[1]Freshman meet inside the main museum building in glass walled classrooms, while older students use a converted carousel building and Pullman cars on a siding of the Greenfield Village railroad.', \n",
    "'Classes are expected to include use of the museum artifacts, a tradition of the original Village Schools.', \n",
    "'When the Museum was established in 1929, it included a school which served grades kindergarten to college/trade school ages.', \n",
    "'The last part of the original school closed in 1969.',\n",
    "'The Henry Ford Learning Institute is using the Henry Ford Academy model for further charter schools including the Power House High in Chicago and Alameda School for Art + Design in San Antonio.',\n",
    "'The building received the international annual design award of the Council of Educational Facilities Planners International for 2001, the James D.',\n",
    "'MacConnell Award for outstanding new educational facilities.',\n",
    "'Notable attendees include Chris Stroud and Isaac Sudut.',\n",
    "'See also[edit]'\n",
    "]"
   ]
  },
  {
   "cell_type": "code",
   "execution_count": 29,
   "id": "b5572c0b",
   "metadata": {},
   "outputs": [],
   "source": [
    "tokenizer = Tokenizer(oov_token=1)\n",
    "\n",
    "# 단어 빈도수가 높은 순으로 낮은 정수 인덱스 부여\n",
    "tokenizer.fit_on_texts(sentences)"
   ]
  },
  {
   "cell_type": "code",
   "execution_count": 30,
   "id": "9cb5c330",
   "metadata": {},
   "outputs": [
    {
     "name": "stdout",
     "output_type": "stream",
     "text": [
      "['The main Henry Ford Museum building houses some of the classrooms for the Henry Ford Academy', 'Henry Ford Academy is the first charter school in the United States to be developed jointly by a global corporation, public education, and a major nonprofit cultural institution.', 'The school is sponsored by the Ford Motor Company, Wayne County Regional Educational Service Agency and The Henry Ford Museum and admits high school students.', 'It is located in Dearborn, Michigan on the campus of the Henry Ford museum. Enrollment is taken from a lottery in the area and totaled 467 in 2010.', '[1]Freshman meet inside the main museum building in glass walled classrooms, while older students use a converted carousel building and Pullman cars on a siding of the Greenfield Village railroad.', 'Classes are expected to include use of the museum artifacts, a tradition of the original Village Schools.', 'When the Museum was established in 1929, it included a school which served grades kindergarten to college/trade school ages.', 'The last part of the original school closed in 1969.', 'The Henry Ford Learning Institute is using the Henry Ford Academy model for further charter schools including the Power House High in Chicago and Alameda School for Art + Design in San Antonio.', 'The building received the international annual design award of the Council of Educational Facilities Planners International for 2001, the James D.', 'MacConnell Award for outstanding new educational facilities.', 'Notable attendees include Chris Stroud and Isaac Sudut.', 'See also[edit]']\n"
     ]
    }
   ],
   "source": [
    "print(sentences)"
   ]
  },
  {
   "cell_type": "code",
   "execution_count": 31,
   "id": "42696544",
   "metadata": {},
   "outputs": [
    {
     "name": "stdout",
     "output_type": "stream",
     "text": [
      "인덱스 번호와 단어:  {1: 1, 'the': 2, 'in': 3, 'ford': 4, 'of': 5, 'henry': 6, 'school': 7, 'a': 8, 'and': 9, 'museum': 10, 'for': 11, 'is': 12, 'building': 13, 'academy': 14, 'to': 15, 'educational': 16, 'main': 17, 'classrooms': 18, 'charter': 19, 'by': 20, 'high': 21, 'students': 22, 'it': 23, 'on': 24, 'use': 25, 'village': 26, 'include': 27, 'original': 28, 'schools': 29, 'design': 30, 'international': 31, 'award': 32, 'facilities': 33, 'houses': 34, 'some': 35, 'first': 36, 'united': 37, 'states': 38, 'be': 39, 'developed': 40, 'jointly': 41, 'global': 42, 'corporation': 43, 'public': 44, 'education': 45, 'major': 46, 'nonprofit': 47, 'cultural': 48, 'institution': 49, 'sponsored': 50, 'motor': 51, 'company': 52, 'wayne': 53, 'county': 54, 'regional': 55, 'service': 56, 'agency': 57, 'admits': 58, 'located': 59, 'dearborn': 60, 'michigan': 61, 'campus': 62, 'enrollment': 63, 'taken': 64, 'from': 65, 'lottery': 66, 'area': 67, 'totaled': 68, '467': 69, '2010': 70, '1': 71, 'freshman': 72, 'meet': 73, 'inside': 74, 'glass': 75, 'walled': 76, 'while': 77, 'older': 78, 'converted': 79, 'carousel': 80, 'pullman': 81, 'cars': 82, 'siding': 83, 'greenfield': 84, 'railroad': 85, 'classes': 86, 'are': 87, 'expected': 88, 'artifacts': 89, 'tradition': 90, 'when': 91, 'was': 92, 'established': 93, '1929': 94, 'included': 95, 'which': 96, 'served': 97, 'grades': 98, 'kindergarten': 99, 'college': 100, 'trade': 101, 'ages': 102, 'last': 103, 'part': 104, 'closed': 105, '1969': 106, 'learning': 107, 'institute': 108, 'using': 109, 'model': 110, 'further': 111, 'including': 112, 'power': 113, 'house': 114, 'chicago': 115, 'alameda': 116, 'art': 117, 'san': 118, 'antonio': 119, 'received': 120, 'annual': 121, 'council': 122, 'planners': 123, '2001': 124, 'james': 125, 'd': 126, 'macconnell': 127, 'outstanding': 128, 'new': 129, 'notable': 130, 'attendees': 131, 'chris': 132, 'stroud': 133, 'isaac': 134, 'sudut': 135, 'see': 136, 'also': 137, 'edit': 138}\n"
     ]
    }
   ],
   "source": [
    "# token 에서 인덕스 번호와 단어\n",
    "print('인덱스 번호와 단어: ', tokenizer.word_index)"
   ]
  },
  {
   "cell_type": "code",
   "execution_count": 32,
   "id": "54ffcf83",
   "metadata": {},
   "outputs": [
    {
     "name": "stdout",
     "output_type": "stream",
     "text": [
      "단어 출력 횟수:  OrderedDict([('the', 25), ('main', 2), ('henry', 7), ('ford', 8), ('museum', 6), ('building', 4), ('houses', 1), ('some', 1), ('of', 8), ('classrooms', 2), ('for', 5), ('academy', 3), ('is', 5), ('first', 1), ('charter', 2), ('school', 7), ('in', 9), ('united', 1), ('states', 1), ('to', 3), ('be', 1), ('developed', 1), ('jointly', 1), ('by', 2), ('a', 7), ('global', 1), ('corporation', 1), ('public', 1), ('education', 1), ('and', 7), ('major', 1), ('nonprofit', 1), ('cultural', 1), ('institution', 1), ('sponsored', 1), ('motor', 1), ('company', 1), ('wayne', 1), ('county', 1), ('regional', 1), ('educational', 3), ('service', 1), ('agency', 1), ('admits', 1), ('high', 2), ('students', 2), ('it', 2), ('located', 1), ('dearborn', 1), ('michigan', 1), ('on', 2), ('campus', 1), ('enrollment', 1), ('taken', 1), ('from', 1), ('lottery', 1), ('area', 1), ('totaled', 1), ('467', 1), ('2010', 1), ('1', 1), ('freshman', 1), ('meet', 1), ('inside', 1), ('glass', 1), ('walled', 1), ('while', 1), ('older', 1), ('use', 2), ('converted', 1), ('carousel', 1), ('pullman', 1), ('cars', 1), ('siding', 1), ('greenfield', 1), ('village', 2), ('railroad', 1), ('classes', 1), ('are', 1), ('expected', 1), ('include', 2), ('artifacts', 1), ('tradition', 1), ('original', 2), ('schools', 2), ('when', 1), ('was', 1), ('established', 1), ('1929', 1), ('included', 1), ('which', 1), ('served', 1), ('grades', 1), ('kindergarten', 1), ('college', 1), ('trade', 1), ('ages', 1), ('last', 1), ('part', 1), ('closed', 1), ('1969', 1), ('learning', 1), ('institute', 1), ('using', 1), ('model', 1), ('further', 1), ('including', 1), ('power', 1), ('house', 1), ('chicago', 1), ('alameda', 1), ('art', 1), ('design', 2), ('san', 1), ('antonio', 1), ('received', 1), ('international', 2), ('annual', 1), ('award', 2), ('council', 1), ('facilities', 2), ('planners', 1), ('2001', 1), ('james', 1), ('d', 1), ('macconnell', 1), ('outstanding', 1), ('new', 1), ('notable', 1), ('attendees', 1), ('chris', 1), ('stroud', 1), ('isaac', 1), ('sudut', 1), ('see', 1), ('also', 1), ('edit', 1)])\n"
     ]
    }
   ],
   "source": [
    "# 단어 출력 횟수\n",
    "print('단어 출력 횟수: ',tokenizer.word_counts)"
   ]
  },
  {
   "cell_type": "code",
   "execution_count": 39,
   "id": "97509fea",
   "metadata": {},
   "outputs": [
    {
     "name": "stdout",
     "output_type": "stream",
     "text": [
      "[[2, 17, 6, 4, 10, 13, 34, 35, 5, 2, 18, 11, 2, 6, 4, 14], [6, 4, 14, 12, 2, 36, 19, 7, 3, 2, 37, 38, 15, 39, 40, 41, 20, 8, 42, 43, 44, 45, 9, 8, 46, 47, 48, 49], [2, 7, 12, 50, 20, 2, 4, 51, 52, 53, 54, 55, 16, 56, 57, 9, 2, 6, 4, 10, 9, 58, 21, 7, 22], [23, 12, 59, 3, 60, 61, 24, 2, 62, 5, 2, 6, 4, 10, 63, 12, 64, 65, 8, 66, 3, 2, 67, 9, 68, 69, 3, 70], [71, 72, 73, 74, 2, 17, 10, 13, 3, 75, 76, 18, 77, 78, 22, 25, 8, 79, 80, 13, 9, 81, 82, 24, 8, 83, 5, 2, 84, 26, 85], [86, 87, 88, 15, 27, 25, 5, 2, 10, 89, 8, 90, 5, 2, 28, 26, 29], [91, 2, 10, 92, 93, 3, 94, 23, 95, 8, 7, 96, 97, 98, 99, 15, 100, 101, 7, 102], [2, 103, 104, 5, 2, 28, 7, 105, 3, 106], [2, 6, 4, 107, 108, 12, 109, 2, 6, 4, 14, 110, 11, 111, 19, 29, 112, 2, 113, 114, 21, 3, 115, 9, 116, 7, 11, 117, 30, 3, 118, 119], [2, 13, 120, 2, 31, 121, 30, 32, 5, 2, 122, 5, 16, 33, 123, 31, 11, 124, 2, 125, 126], [127, 32, 11, 128, 129, 16, 33], [130, 131, 27, 132, 133, 9, 134, 135], [136, 137, 138]]\n"
     ]
    }
   ],
   "source": [
    "# 문장을 생성된 사전(voca)를 기반으로 수치화\n",
    "print(tokenizer.texts_to_sequences(sentences))"
   ]
  },
  {
   "cell_type": "code",
   "execution_count": 34,
   "id": "da4867c5",
   "metadata": {},
   "outputs": [
    {
     "name": "stdout",
     "output_type": "stream",
     "text": [
      "seq_voca : 13\n",
      "[[2, 17, 6, 4, 10, 13, 34, 35, 5, 2, 18, 11, 2, 6, 4, 14], [6, 4, 14, 12, 2, 36, 19, 7, 3, 2, 37, 38, 15, 39, 40, 41, 20, 8, 42, 43, 44, 45, 9, 8, 46, 47, 48, 49], [2, 7, 12, 50, 20, 2, 4, 51, 52, 53, 54, 55, 16, 56, 57, 9, 2, 6, 4, 10, 9, 58, 21, 7, 22], [23, 12, 59, 3, 60, 61, 24, 2, 62, 5, 2, 6, 4, 10, 63, 12, 64, 65, 8, 66, 3, 2, 67, 9, 68, 69, 3, 70], [71, 72, 73, 74, 2, 17, 10, 13, 3, 75, 76, 18, 77, 78, 22, 25, 8, 79, 80, 13, 9, 81, 82, 24, 8, 83, 5, 2, 84, 26, 85], [86, 87, 88, 15, 27, 25, 5, 2, 10, 89, 8, 90, 5, 2, 28, 26, 29], [91, 2, 10, 92, 93, 3, 94, 23, 95, 8, 7, 96, 97, 98, 99, 15, 100, 101, 7, 102], [2, 103, 104, 5, 2, 28, 7, 105, 3, 106], [2, 6, 4, 107, 108, 12, 109, 2, 6, 4, 14, 110, 11, 111, 19, 29, 112, 2, 113, 114, 21, 3, 115, 9, 116, 7, 11, 117, 30, 3, 118, 119], [2, 13, 120, 2, 31, 121, 30, 32, 5, 2, 122, 5, 16, 33, 123, 31, 11, 124, 2, 125, 126], [127, 32, 11, 128, 129, 16, 33], [130, 131, 27, 132, 133, 9, 134, 135], [136, 137, 138]]\n"
     ]
    }
   ],
   "source": [
    "# 문장을 생성된 사전(voca)를 기반으로 수치화\n",
    "seq_voca=tokenizer.texts_to_sequences(sentences)\n",
    "print(f'seq_voca : {len(seq_voca)}')\n",
    "print(seq_voca)"
   ]
  },
  {
   "cell_type": "code",
   "execution_count": 35,
   "id": "9625f2ed",
   "metadata": {},
   "outputs": [
    {
     "data": {
      "text/plain": [
       "array([[0., 0., 1., 0., 0., 0., 0., 0., 0., 0., 0., 0., 0., 0., 0., 0.,\n",
       "        0., 0., 0., 0., 0., 0., 0., 0., 0., 0., 0., 0., 0., 0., 0., 0.,\n",
       "        0., 0., 0., 0.],\n",
       "       [0., 0., 0., 0., 0., 0., 0., 0., 0., 0., 0., 0., 0., 0., 0., 0.,\n",
       "        0., 1., 0., 0., 0., 0., 0., 0., 0., 0., 0., 0., 0., 0., 0., 0.,\n",
       "        0., 0., 0., 0.],\n",
       "       [0., 0., 0., 0., 0., 0., 1., 0., 0., 0., 0., 0., 0., 0., 0., 0.,\n",
       "        0., 0., 0., 0., 0., 0., 0., 0., 0., 0., 0., 0., 0., 0., 0., 0.,\n",
       "        0., 0., 0., 0.],\n",
       "       [0., 0., 0., 0., 1., 0., 0., 0., 0., 0., 0., 0., 0., 0., 0., 0.,\n",
       "        0., 0., 0., 0., 0., 0., 0., 0., 0., 0., 0., 0., 0., 0., 0., 0.,\n",
       "        0., 0., 0., 0.],\n",
       "       [0., 0., 0., 0., 0., 0., 0., 0., 0., 0., 1., 0., 0., 0., 0., 0.,\n",
       "        0., 0., 0., 0., 0., 0., 0., 0., 0., 0., 0., 0., 0., 0., 0., 0.,\n",
       "        0., 0., 0., 0.],\n",
       "       [0., 0., 0., 0., 0., 0., 0., 0., 0., 0., 0., 0., 0., 1., 0., 0.,\n",
       "        0., 0., 0., 0., 0., 0., 0., 0., 0., 0., 0., 0., 0., 0., 0., 0.,\n",
       "        0., 0., 0., 0.],\n",
       "       [0., 0., 0., 0., 0., 0., 0., 0., 0., 0., 0., 0., 0., 0., 0., 0.,\n",
       "        0., 0., 0., 0., 0., 0., 0., 0., 0., 0., 0., 0., 0., 0., 0., 0.,\n",
       "        0., 0., 1., 0.],\n",
       "       [0., 0., 0., 0., 0., 0., 0., 0., 0., 0., 0., 0., 0., 0., 0., 0.,\n",
       "        0., 0., 0., 0., 0., 0., 0., 0., 0., 0., 0., 0., 0., 0., 0., 0.,\n",
       "        0., 0., 0., 1.],\n",
       "       [0., 0., 0., 0., 0., 1., 0., 0., 0., 0., 0., 0., 0., 0., 0., 0.,\n",
       "        0., 0., 0., 0., 0., 0., 0., 0., 0., 0., 0., 0., 0., 0., 0., 0.,\n",
       "        0., 0., 0., 0.],\n",
       "       [0., 0., 1., 0., 0., 0., 0., 0., 0., 0., 0., 0., 0., 0., 0., 0.,\n",
       "        0., 0., 0., 0., 0., 0., 0., 0., 0., 0., 0., 0., 0., 0., 0., 0.,\n",
       "        0., 0., 0., 0.],\n",
       "       [0., 0., 0., 0., 0., 0., 0., 0., 0., 0., 0., 0., 0., 0., 0., 0.,\n",
       "        0., 0., 1., 0., 0., 0., 0., 0., 0., 0., 0., 0., 0., 0., 0., 0.,\n",
       "        0., 0., 0., 0.],\n",
       "       [0., 0., 0., 0., 0., 0., 0., 0., 0., 0., 0., 1., 0., 0., 0., 0.,\n",
       "        0., 0., 0., 0., 0., 0., 0., 0., 0., 0., 0., 0., 0., 0., 0., 0.,\n",
       "        0., 0., 0., 0.],\n",
       "       [0., 0., 1., 0., 0., 0., 0., 0., 0., 0., 0., 0., 0., 0., 0., 0.,\n",
       "        0., 0., 0., 0., 0., 0., 0., 0., 0., 0., 0., 0., 0., 0., 0., 0.,\n",
       "        0., 0., 0., 0.],\n",
       "       [0., 0., 0., 0., 0., 0., 1., 0., 0., 0., 0., 0., 0., 0., 0., 0.,\n",
       "        0., 0., 0., 0., 0., 0., 0., 0., 0., 0., 0., 0., 0., 0., 0., 0.,\n",
       "        0., 0., 0., 0.],\n",
       "       [0., 0., 0., 0., 1., 0., 0., 0., 0., 0., 0., 0., 0., 0., 0., 0.,\n",
       "        0., 0., 0., 0., 0., 0., 0., 0., 0., 0., 0., 0., 0., 0., 0., 0.,\n",
       "        0., 0., 0., 0.],\n",
       "       [0., 0., 0., 0., 0., 0., 0., 0., 0., 0., 0., 0., 0., 0., 1., 0.,\n",
       "        0., 0., 0., 0., 0., 0., 0., 0., 0., 0., 0., 0., 0., 0., 0., 0.,\n",
       "        0., 0., 0., 0.]], dtype=float32)"
      ]
     },
     "execution_count": 35,
     "metadata": {},
     "output_type": "execute_result"
    }
   ],
   "source": [
    "to_categorical(seq_voca[0])"
   ]
  },
  {
   "cell_type": "code",
   "execution_count": 36,
   "id": "3b9959f0",
   "metadata": {},
   "outputs": [
    {
     "data": {
      "text/plain": [
       "array([[0., 0., 1., ..., 0., 0., 0.],\n",
       "       [0., 0., 1., ..., 0., 0., 0.],\n",
       "       [0., 0., 1., ..., 0., 0., 0.],\n",
       "       ...,\n",
       "       [0., 0., 0., ..., 0., 0., 0.],\n",
       "       [0., 0., 0., ..., 0., 0., 0.],\n",
       "       [0., 0., 0., ..., 1., 1., 1.]])"
      ]
     },
     "execution_count": 36,
     "metadata": {},
     "output_type": "execute_result"
    }
   ],
   "source": [
    "tokenizer.texts_to_matrix(sentences)"
   ]
  },
  {
   "cell_type": "code",
   "execution_count": null,
   "id": "f7e6b9e9",
   "metadata": {},
   "outputs": [],
   "source": []
  }
 ],
 "metadata": {
  "kernelspec": {
   "display_name": "Python 3 (ipykernel)",
   "language": "python",
   "name": "python3"
  },
  "language_info": {
   "codemirror_mode": {
    "name": "ipython",
    "version": 3
   },
   "file_extension": ".py",
   "mimetype": "text/x-python",
   "name": "python",
   "nbconvert_exporter": "python",
   "pygments_lexer": "ipython3",
   "version": "3.9.12"
  }
 },
 "nbformat": 4,
 "nbformat_minor": 5
}
