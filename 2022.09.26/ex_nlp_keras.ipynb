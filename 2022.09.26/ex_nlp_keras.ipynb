{
 "cells": [
  {
   "cell_type": "markdown",
   "id": "ee385c3a",
   "metadata": {},
   "source": [
    "## 영화 리뷰 분석\n",
    "---\n",
    "- IMDB 데이터 활용"
   ]
  },
  {
   "cell_type": "code",
   "execution_count": 1,
   "id": "0f94d47e",
   "metadata": {},
   "outputs": [],
   "source": [
    "from tensorflow.keras.preprocessing.text import text_to_word_sequence, Tokenizer\n",
    "from tensorflow.keras.datasets.imdb import load_data\n",
    "from tensorflow.keras.utils import pad_sequences\n",
    "from nltk.tokenize import sent_tokenize\n",
    "from nltk.tokenize import word_tokenize\n",
    "from nltk.corpus import stopwords\n",
    "import numpy as np"
   ]
  },
  {
   "cell_type": "markdown",
   "id": "90df8126",
   "metadata": {},
   "source": [
    "## [1] 데이터 준비"
   ]
  },
  {
   "cell_type": "code",
   "execution_count": 2,
   "id": "29f2ccf5",
   "metadata": {},
   "outputs": [],
   "source": [
    "# 단어사전(voca)에서 빈도가 높은 500개까지만 사용하도록 설정\n",
    "(X_train, y_train), (X_test, y_test)=load_data(num_words=500) # num_words=500"
   ]
  },
  {
   "cell_type": "code",
   "execution_count": 3,
   "id": "8869adcb",
   "metadata": {},
   "outputs": [
    {
     "name": "stdout",
     "output_type": "stream",
     "text": [
      "imDF 정보 \n",
      "X_train: (25000,), y_train : (25000,)\n",
      "X_test : (25000,), y_test : (25000,)\n"
     ]
    }
   ],
   "source": [
    "print(f'imDF 정보 \\nX_train: {X_train.shape}, y_train : {y_train.shape}')\n",
    "print(f'X_test : {X_test.shape}, y_test : {y_test.shape}')"
   ]
  },
  {
   "cell_type": "code",
   "execution_count": 4,
   "id": "d1fd83e9",
   "metadata": {},
   "outputs": [
    {
     "name": "stdout",
     "output_type": "stream",
     "text": [
      "[1, 14, 22, 16, 43, 2, 2, 2, 2, 65, 458, 2, 66, 2, 4, 173, 36, 256, 5, 25, 100, 43, 2, 112, 50, 2, 2, 9, 35, 480, 284, 5, 150, 4, 172, 112, 167, 2, 336, 385, 39, 4, 172, 2, 2, 17, 2, 38, 13, 447, 4, 192, 50, 16, 6, 147, 2, 19, 14, 22, 4, 2, 2, 469, 4, 22, 71, 87, 12, 16, 43, 2, 38, 76, 15, 13, 2, 4, 22, 17, 2, 17, 12, 16, 2, 18, 2, 5, 62, 386, 12, 8, 316, 8, 106, 5, 4, 2, 2, 16, 480, 66, 2, 33, 4, 130, 12, 16, 38, 2, 5, 25, 124, 51, 36, 135, 48, 25, 2, 33, 6, 22, 12, 215, 28, 77, 52, 5, 14, 407, 16, 82, 2, 8, 4, 107, 117, 2, 15, 256, 4, 2, 7, 2, 5, 2, 36, 71, 43, 2, 476, 26, 400, 317, 46, 7, 4, 2, 2, 13, 104, 88, 4, 381, 15, 297, 98, 32, 2, 56, 26, 141, 6, 194, 2, 18, 4, 226, 22, 21, 134, 476, 26, 480, 5, 144, 30, 2, 18, 51, 36, 28, 224, 92, 25, 104, 4, 226, 65, 16, 38, 2, 88, 12, 16, 283, 5, 16, 2, 113, 103, 32, 15, 16, 2, 19, 178, 32]\n"
     ]
    }
   ],
   "source": [
    "print(X_train[0])"
   ]
  },
  {
   "cell_type": "code",
   "execution_count": 5,
   "id": "e401104b",
   "metadata": {},
   "outputs": [
    {
     "name": "stdout",
     "output_type": "stream",
     "text": [
      "[0 - 1]\n",
      "[1, 14, 22, 16, 43, 2, 2, 2, 2, 65, 458, 2, 66, 2, 4, 173, 36, 256, 5, 25, 100, 43, 2, 112, 50, 2, 2, 9, 35, 480, 284, 5, 150, 4, 172, 112, 167, 2, 336, 385, 39, 4, 172, 2, 2, 17, 2, 38, 13, 447, 4, 192, 50, 16, 6, 147, 2, 19, 14, 22, 4, 2, 2, 469, 4, 22, 71, 87, 12, 16, 43, 2, 38, 76, 15, 13, 2, 4, 22, 17, 2, 17, 12, 16, 2, 18, 2, 5, 62, 386, 12, 8, 316, 8, 106, 5, 4, 2, 2, 16, 480, 66, 2, 33, 4, 130, 12, 16, 38, 2, 5, 25, 124, 51, 36, 135, 48, 25, 2, 33, 6, 22, 12, 215, 28, 77, 52, 5, 14, 407, 16, 82, 2, 8, 4, 107, 117, 2, 15, 256, 4, 2, 7, 2, 5, 2, 36, 71, 43, 2, 476, 26, 400, 317, 46, 7, 4, 2, 2, 13, 104, 88, 4, 381, 15, 297, 98, 32, 2, 56, 26, 141, 6, 194, 2, 18, 4, 226, 22, 21, 134, 476, 26, 480, 5, 144, 30, 2, 18, 51, 36, 28, 224, 92, 25, 104, 4, 226, 65, 16, 38, 2, 88, 12, 16, 283, 5, 16, 2, 113, 103, 32, 15, 16, 2, 19, 178, 32]\n",
      "--------------------------------------------------------------\n",
      "[1 - 0]\n",
      "[1, 194, 2, 194, 2, 78, 228, 5, 6, 2, 2, 2, 134, 26, 4, 2, 8, 118, 2, 14, 394, 20, 13, 119, 2, 189, 102, 5, 207, 110, 2, 21, 14, 69, 188, 8, 30, 23, 7, 4, 249, 126, 93, 4, 114, 9, 2, 2, 5, 2, 4, 116, 9, 35, 2, 4, 229, 9, 340, 2, 4, 118, 9, 4, 130, 2, 19, 4, 2, 5, 89, 29, 2, 46, 37, 4, 455, 9, 45, 43, 38, 2, 2, 398, 4, 2, 26, 2, 5, 163, 11, 2, 2, 4, 2, 9, 194, 2, 7, 2, 2, 349, 2, 148, 2, 2, 2, 15, 123, 125, 68, 2, 2, 15, 349, 165, 2, 98, 5, 4, 228, 9, 43, 2, 2, 15, 299, 120, 5, 120, 174, 11, 220, 175, 136, 50, 9, 2, 228, 2, 5, 2, 2, 245, 2, 5, 4, 2, 131, 152, 491, 18, 2, 32, 2, 2, 14, 9, 6, 371, 78, 22, 2, 64, 2, 9, 8, 168, 145, 23, 4, 2, 15, 16, 4, 2, 5, 28, 6, 52, 154, 462, 33, 89, 78, 285, 16, 145, 95]\n",
      "--------------------------------------------------------------\n",
      "[2 - 0]\n",
      "[1, 14, 47, 8, 30, 31, 7, 4, 249, 108, 7, 4, 2, 54, 61, 369, 13, 71, 149, 14, 22, 112, 4, 2, 311, 12, 16, 2, 33, 75, 43, 2, 296, 4, 86, 320, 35, 2, 19, 263, 2, 2, 4, 2, 33, 89, 78, 12, 66, 16, 4, 360, 7, 4, 58, 316, 334, 11, 4, 2, 43, 2, 2, 8, 257, 85, 2, 42, 2, 2, 83, 68, 2, 15, 36, 165, 2, 278, 36, 69, 2, 2, 8, 106, 14, 2, 2, 18, 6, 22, 12, 215, 28, 2, 40, 6, 87, 326, 23, 2, 21, 23, 22, 12, 272, 40, 57, 31, 11, 4, 22, 47, 6, 2, 51, 9, 170, 23, 2, 116, 2, 2, 13, 191, 79, 2, 89, 2, 14, 9, 8, 106, 2, 2, 35, 2, 6, 227, 7, 129, 113]\n",
      "--------------------------------------------------------------\n"
     ]
    }
   ],
   "source": [
    "for idx in range(3):\n",
    "    print(f'[{idx} - {y_train[idx]}]\\n{X_train[idx]}')\n",
    "    print('--------------------------------------------------------------')"
   ]
  },
  {
   "cell_type": "markdown",
   "id": "a278163a",
   "metadata": {},
   "source": [
    "## [2] 학습용 데이터 변환\n",
    "---\n",
    "- keras에서 이미 대부분의 전처리 끝난 데이터\n",
    "- 길이 조정 => 패딩(Padding)\n",
    "- https://www.dinolabs.ai/189"
   ]
  },
  {
   "cell_type": "code",
   "execution_count": 6,
   "id": "dca94c49",
   "metadata": {
    "scrolled": true
   },
   "outputs": [
    {
     "data": {
      "text/plain": [
       "array([[  0,   0,   0, ...,  19, 178,  32],\n",
       "       [  0,   0,   0, ...,  16, 145,  95],\n",
       "       [  0,   0,   0, ...,   7, 129, 113],\n",
       "       ...,\n",
       "       [  0,   0,   0, ...,   4,   2,   2],\n",
       "       [  0,   0,   0, ...,  12,   9,  23],\n",
       "       [  0,   0,   0, ..., 204, 131,   9]])"
      ]
     },
     "execution_count": 6,
     "metadata": {},
     "output_type": "execute_result"
    }
   ],
   "source": [
    "pad_sequences(X_train)"
   ]
  },
  {
   "cell_type": "code",
   "execution_count": 7,
   "id": "2fe46323",
   "metadata": {},
   "outputs": [
    {
     "name": "stdout",
     "output_type": "stream",
     "text": [
      "25000\n"
     ]
    }
   ],
   "source": [
    "print(len(pad_sequences(X_train)))"
   ]
  },
  {
   "cell_type": "code",
   "execution_count": 8,
   "id": "7fea2aee",
   "metadata": {
    "scrolled": true
   },
   "outputs": [
    {
     "data": {
      "text/plain": [
       "array([[  0,   0,   0, ...,  19, 178,  32],\n",
       "       [  0,   0,   0, ...,  16, 145,  95],\n",
       "       [  0,   0,   0, ...,   7, 129, 113],\n",
       "       ...,\n",
       "       [  0,   0,   0, ...,   4,   2,   2],\n",
       "       [  0,   0,   0, ...,  12,   9,  23],\n",
       "       [  0,   0,   0, ..., 204, 131,   9]])"
      ]
     },
     "execution_count": 8,
     "metadata": {},
     "output_type": "execute_result"
    }
   ],
   "source": [
    "# [2-1]데이터별 길이 결정\n",
    "padded = pad_sequences(X_train)\n",
    "padded"
   ]
  },
  {
   "cell_type": "code",
   "execution_count": 9,
   "id": "ae808d98",
   "metadata": {},
   "outputs": [
    {
     "name": "stdout",
     "output_type": "stream",
     "text": [
      "(25000, 2494)\n"
     ]
    }
   ],
   "source": [
    "print(padded.shape)"
   ]
  },
  {
   "cell_type": "code",
   "execution_count": 10,
   "id": "0be734ab",
   "metadata": {},
   "outputs": [
    {
     "data": {
      "text/plain": [
       "array([[  2,  33,   6, ...,  19, 178,  32],\n",
       "       [163,  11,   2, ...,  16, 145,  95],\n",
       "       [  2,   4,   2, ...,   7, 129, 113],\n",
       "       ...,\n",
       "       [ 11,   6,   2, ...,   4,   2,   2],\n",
       "       [100,   2,   8, ...,  12,   9,  23],\n",
       "       [ 78,   2,  17, ..., 204, 131,   9]])"
      ]
     },
     "execution_count": 10,
     "metadata": {},
     "output_type": "execute_result"
    }
   ],
   "source": [
    "# [2-2]데이터별 길이 변경\n",
    "padded1 = pad_sequences(X_train, maxlen=100)\n",
    "padded1"
   ]
  },
  {
   "cell_type": "code",
   "execution_count": 11,
   "id": "54707535",
   "metadata": {},
   "outputs": [
    {
     "name": "stdout",
     "output_type": "stream",
     "text": [
      "(25000, 100)\n"
     ]
    }
   ],
   "source": [
    "print(padded1.shape)"
   ]
  },
  {
   "cell_type": "code",
   "execution_count": 12,
   "id": "0ccd1c2a",
   "metadata": {},
   "outputs": [
    {
     "name": "stdout",
     "output_type": "stream",
     "text": [
      "all_length : 238.71364, 178.0\n"
     ]
    },
    {
     "data": {
      "text/plain": [
       "(array([  11,   12,   13, ..., 1851, 1854, 2494]),\n",
       " array([2, 1, 2, ..., 1, 1, 1], dtype=int64))"
      ]
     },
     "execution_count": 12,
     "metadata": {},
     "output_type": "execute_result"
    }
   ],
   "source": [
    "# (1) 전체 리뷰의 길이 측정\n",
    "all_length=np.array([len(x) for x in X_train])\n",
    "\n",
    "print(f'all_length : {np.mean(all_length)}, {np.median(all_length)}')\n",
    "\n",
    "np.unique(all_length)\n",
    "np.unique(all_length, return_counts=True)"
   ]
  },
  {
   "cell_type": "code",
   "execution_count": 13,
   "id": "f9b48edd",
   "metadata": {},
   "outputs": [
    {
     "data": {
      "image/png": "[encoded data removed]",
      "text/plain": [
       "<Figure size 432x288 with 1 Axes>"
      ]
     },
     "metadata": {
      "needs_background": "light"
     },
     "output_type": "display_data"
    }
   ],
   "source": [
    "import matplotlib.pyplot as plt\n",
    "\n",
    "plt.hist(all_length)\n",
    "plt.grid()\n",
    "plt.show()"
   ]
  },
  {
   "cell_type": "code",
   "execution_count": 14,
   "id": "8f774a74",
   "metadata": {},
   "outputs": [
    {
     "data": {
      "text/plain": [
       "(25000, 100)"
      ]
     },
     "execution_count": 14,
     "metadata": {},
     "output_type": "execute_result"
    }
   ],
   "source": [
    "# [2-2] 데이터별 길이 변경\n",
    "from tensorflow.keras.preprocessing.sequence import pad_sequences\n",
    "\n",
    "train_seq = pad_sequences(X_train, maxlen=100)\n",
    "test_seq = pad_sequences(X_test, maxlen=100)\n",
    "train_seq.shape\n",
    "# to_categorical()"
   ]
  },
  {
   "cell_type": "code",
   "execution_count": 15,
   "id": "befba318",
   "metadata": {},
   "outputs": [
    {
     "data": {
      "text/plain": [
       "array([[  2,  33,   6, ...,  19, 178,  32],\n",
       "       [163,  11,   2, ...,  16, 145,  95],\n",
       "       [  2,   4,   2, ...,   7, 129, 113],\n",
       "       ...,\n",
       "       [ 11,   6,   2, ...,   4,   2,   2],\n",
       "       [100,   2,   8, ...,  12,   9,  23],\n",
       "       [ 78,   2,  17, ..., 204, 131,   9]])"
      ]
     },
     "execution_count": 15,
     "metadata": {},
     "output_type": "execute_result"
    }
   ],
   "source": [
    "train_seq"
   ]
  },
  {
   "cell_type": "code",
   "execution_count": null,
   "id": "1eb714ce",
   "metadata": {},
   "outputs": [],
   "source": []
  },
  {
   "cell_type": "code",
   "execution_count": 16,
   "id": "3e63b747",
   "metadata": {},
   "outputs": [
    {
     "name": "stdout",
     "output_type": "stream",
     "text": [
      "[1, 14, 47, 8, 30, 31, 7, 4, 249, 108, 7, 4, 2, 54, 61, 369, 13, 71, 149, 14, 22, 112, 4, 2, 311, 12, 16, 2, 33, 75, 43, 2, 296, 4, 86, 320, 35, 2, 19, 263, 2, 2, 4, 2, 33, 89, 78, 12, 66, 16, 4, 360, 7, 4, 58, 316, 334, 11, 4, 2, 43, 2, 2, 8, 257, 85, 2, 42, 2, 2, 83, 68, 2, 15, 36, 165, 2, 278, 36, 69, 2, 2, 8, 106, 14, 2, 2, 18, 6, 22, 12, 215, 28, 2, 40, 6, 87, 326, 23, 2, 21, 23, 22, 12, 272, 40, 57, 31, 11, 4, 22, 47, 6, 2, 51, 9, 170, 23, 2, 116, 2, 2, 13, 191, 79, 2, 89, 2, 14, 9, 8, 106, 2, 2, 35, 2, 6, 227, 7, 129, 113]\n",
      "[  2   4   2  33  89  78  12  66  16   4 360   7   4  58 316 334  11   4\n",
      "   2  43   2   2   8 257  85   2  42   2   2  83  68   2  15  36 165   2\n",
      " 278  36  69   2   2   8 106  14   2   2  18   6  22  12 215  28   2  40\n",
      "   6  87 326  23   2  21  23  22  12 272  40  57  31  11   4  22  47   6\n",
      "   2  51   9 170  23   2 116   2   2  13 191  79   2  89   2  14   9   8\n",
      " 106   2   2  35   2   6 227   7 129 113]\n"
     ]
    }
   ],
   "source": [
    "print(X_train[2])\n",
    "print(train_seq[2])"
   ]
  },
  {
   "cell_type": "code",
   "execution_count": 17,
   "id": "1e0faa5c",
   "metadata": {},
   "outputs": [],
   "source": [
    "from tensorflow.keras.utils import to_categorical"
   ]
  },
  {
   "cell_type": "code",
   "execution_count": 18,
   "id": "c941f359",
   "metadata": {},
   "outputs": [],
   "source": [
    "train_oh = to_categorical(train_seq)\n",
    "test_oh = to_categorical(test_seq)"
   ]
  },
  {
   "cell_type": "code",
   "execution_count": 19,
   "id": "4edf7492",
   "metadata": {},
   "outputs": [
    {
     "data": {
      "text/plain": [
       "((25000, 100, 500),\n",
       " array([[0., 0., 1., ..., 0., 0., 0.],\n",
       "        [0., 0., 0., ..., 0., 0., 0.],\n",
       "        [0., 0., 0., ..., 0., 0., 0.],\n",
       "        ...,\n",
       "        [0., 0., 0., ..., 0., 0., 0.],\n",
       "        [0., 0., 0., ..., 0., 0., 0.],\n",
       "        [0., 0., 0., ..., 0., 0., 0.]], dtype=float32))"
      ]
     },
     "execution_count": 19,
     "metadata": {},
     "output_type": "execute_result"
    }
   ],
   "source": [
    "train_oh.shape, train_oh[0]"
   ]
  },
  {
   "cell_type": "code",
   "execution_count": null,
   "id": "e6bbf866",
   "metadata": {},
   "outputs": [],
   "source": []
  },
  {
   "cell_type": "code",
   "execution_count": 20,
   "id": "221c7dc8",
   "metadata": {},
   "outputs": [],
   "source": [
    "from sklearn.model_selection import train_test_split"
   ]
  },
  {
   "cell_type": "code",
   "execution_count": 21,
   "id": "e96e2c2e",
   "metadata": {},
   "outputs": [],
   "source": [
    "X_train, X_val, y_train, y_val = train_test_split(train_oh,\n",
    "                                                  y_train, test_size=0.2, random_state=42)"
   ]
  },
  {
   "cell_type": "code",
   "execution_count": 22,
   "id": "c5ce46c7",
   "metadata": {},
   "outputs": [
    {
     "name": "stdout",
     "output_type": "stream",
     "text": [
      "X_train : (20000, 100, 500)\n",
      "test_seq : (25000, 100)\n",
      "X_val : (5000, 100, 500)\n",
      "X_train : (20000,)\n",
      "y_test : (25000,)\n",
      "y_val : (5000,)\n"
     ]
    }
   ],
   "source": [
    "print(f'X_train : {X_train.shape}\\ntest_seq : {test_seq.shape}\\nX_val : {X_val.shape}')\n",
    "print(f'X_train : {y_train.shape}\\ny_test : {y_test.shape}\\ny_val : {y_val.shape}')"
   ]
  },
  {
   "cell_type": "markdown",
   "id": "d8c3c662",
   "metadata": {},
   "source": [
    "# 모델\n",
    "---\n",
    "- 목표 : 영화리뷰 데이터 학습 후 사용자가 입력하는 리뷰가 긍정/부정 분류\n",
    "- 학습모델 : RNN 순환신경망\n",
    "- 입력 : 500\n",
    "- 출력 : 1 => 분류 => 2진분류"
   ]
  },
  {
   "cell_type": "code",
   "execution_count": 23,
   "id": "c17fce47",
   "metadata": {},
   "outputs": [],
   "source": [
    "from tensorflow.keras.models import Sequential\n",
    "from tensorflow.keras.layers import SimpleRNN, Dense"
   ]
  },
  {
   "cell_type": "markdown",
   "id": "97f7571c",
   "metadata": {},
   "source": [
    "### [3-1] 모델 구성\n",
    "---\n",
    "- 입력층 : 노드 n개 타임스템수, 피쳐수 => SimpleRNN\n",
    "- 출력층 : 노드 1개 sigmoid => Dense\n",
    "- https://wikidocs.net/22886"
   ]
  },
  {
   "cell_type": "code",
   "execution_count": 24,
   "id": "e6dcc57f",
   "metadata": {},
   "outputs": [],
   "source": [
    "# import tensorflow as tf\n",
    "\n",
    "# inputs = np.random.random([100, 500]).astype(np.float32)\n",
    "# simple_rnn = tf.keras.layers.SimpleRNN(1)\n",
    "\n",
    "# output = simple_rnn(inputs)\n",
    "\n",
    "# simple_rnn = tf.keras.layers.SimpleRNN(1, return_sequences=True,\n",
    "#                                        return_sequences=True)\n",
    "\n",
    "# whole_sequence_output, final_state = simple_rnn(inputs)"
   ]
  },
  {
   "cell_type": "code",
   "execution_count": 26,
   "id": "130d74bf",
   "metadata": {
    "scrolled": true
   },
   "outputs": [
    {
     "name": "stdout",
     "output_type": "stream",
     "text": [
      "Model: \"sequential_1\"\n",
      "_________________________________________________________________\n",
      " Layer (type)                Output Shape              Param #   \n",
      "=================================================================\n",
      " simple_rnn_2 (SimpleRNN)    (None, 9)                 4590      \n",
      "                                                                 \n",
      " dense (Dense)               (None, 1)                 10        \n",
      "                                                                 \n",
      "=================================================================\n",
      "Total params: 4,600\n",
      "Trainable params: 4,600\n",
      "Non-trainable params: 0\n",
      "_________________________________________________________________\n"
     ]
    }
   ],
   "source": [
    "model=Sequential()\n",
    "model.add(SimpleRNN(9, input_shape=(100, 500)))   # 1개 노드 = w500+b+hw9 * 9\n",
    "model.add(Dense(1, activation='sigmoid'))\n",
    "model.summary()"
   ]
  },
  {
   "cell_type": "markdown",
   "id": "fa5e9cd5",
   "metadata": {},
   "source": [
    "### [3-2] 모델 생성\n",
    "---\n",
    "- 손실함수, 최적화방법, 평가항목 => compile()"
   ]
  },
  {
   "cell_type": "code",
   "execution_count": 27,
   "id": "2775e44d",
   "metadata": {},
   "outputs": [],
   "source": [
    "model.compile(loss='binary_crossentropy',\n",
    "              optimizer='adam',\n",
    "              metrics='accuracy')"
   ]
  },
  {
   "cell_type": "markdown",
   "id": "0f6b615b",
   "metadata": {},
   "source": [
    "### [4] 학습\n",
    "---\n",
    "- train 데이터와 타겟으로 학습 진행\n",
    "- epoch마다 검증 진행 => validation_data, validation_split\n",
    "- 학습 진행 내용 조절 => callbacks=[]\n",
    "- 학습 진행 내용 조절 => verbose\n",
    "- 학습 횟수 조절 => epochs\n",
    "- 배치사이즈 조절 => batch_size (기:32)"
   ]
  },
  {
   "cell_type": "code",
   "execution_count": 28,
   "id": "9c5c83f7",
   "metadata": {},
   "outputs": [],
   "source": [
    "from keras.callbacks import EarlyStopping\n",
    "earlyST=EarlyStopping(monitor='val_loss', patience=3)"
   ]
  },
  {
   "cell_type": "code",
   "execution_count": 29,
   "id": "dcb661aa",
   "metadata": {},
   "outputs": [
    {
     "name": "stdout",
     "output_type": "stream",
     "text": [
      "Epoch 1/50\n",
      "625/625 [==============================] - 10s 14ms/step - loss: 0.6910 - accuracy: 0.5283 - val_loss: 0.6864 - val_accuracy: 0.5428\n",
      "Epoch 2/50\n",
      "625/625 [==============================] - 8s 12ms/step - loss: 0.6722 - accuracy: 0.5883 - val_loss: 0.6744 - val_accuracy: 0.5690\n",
      "Epoch 3/50\n",
      "625/625 [==============================] - 8s 13ms/step - loss: 0.6431 - accuracy: 0.6291 - val_loss: 0.6580 - val_accuracy: 0.5958\n",
      "Epoch 4/50\n",
      "625/625 [==============================] - 8s 13ms/step - loss: 0.6075 - accuracy: 0.6684 - val_loss: 0.6557 - val_accuracy: 0.6006\n",
      "Epoch 5/50\n",
      "625/625 [==============================] - 8s 13ms/step - loss: 0.5490 - accuracy: 0.7235 - val_loss: 0.5274 - val_accuracy: 0.7440\n",
      "Epoch 6/50\n",
      "625/625 [==============================] - 8s 13ms/step - loss: 0.4591 - accuracy: 0.7907 - val_loss: 0.5157 - val_accuracy: 0.7578\n",
      "Epoch 7/50\n",
      "625/625 [==============================] - 9s 14ms/step - loss: 0.4357 - accuracy: 0.8031 - val_loss: 0.5338 - val_accuracy: 0.7350\n",
      "Epoch 8/50\n",
      "625/625 [==============================] - 8s 13ms/step - loss: 0.4199 - accuracy: 0.8128 - val_loss: 0.5199 - val_accuracy: 0.7478\n",
      "Epoch 9/50\n",
      "625/625 [==============================] - 8s 13ms/step - loss: 0.4057 - accuracy: 0.8188 - val_loss: 0.5373 - val_accuracy: 0.7434\n"
     ]
    }
   ],
   "source": [
    "history = model.fit(X_train, y_train, batch_size=32,\n",
    "                    epochs = 50, validation_data = (X_val,y_val),\n",
    "                    verbose = 1, callbacks=[earlyST])"
   ]
  },
  {
   "cell_type": "code",
   "execution_count": 30,
   "id": "9c5a8122",
   "metadata": {},
   "outputs": [
    {
     "name": "stdout",
     "output_type": "stream",
     "text": [
      "{'loss': [0.6909963488578796, 0.6721850633621216, 0.643079400062561, 0.6074572801589966, 0.5489798188209534, 0.45913609862327576, 0.43569228053092957, 0.41994231939315796, 0.405708372592926], 'accuracy': [0.5283499956130981, 0.5882999897003174, 0.6290500164031982, 0.6684499979019165, 0.7235000133514404, 0.7907000184059143, 0.8030999898910522, 0.8127999901771545, 0.8187999725341797], 'val_loss': [0.6864272952079773, 0.6743699312210083, 0.6580140590667725, 0.6557244062423706, 0.5274038910865784, 0.5156533122062683, 0.5337814092636108, 0.5198759436607361, 0.537260115146637], 'val_accuracy': [0.5428000092506409, 0.5690000057220459, 0.59579998254776, 0.600600004196167, 0.7440000176429749, 0.7577999830245972, 0.7350000143051147, 0.7477999925613403, 0.743399977684021]}\n"
     ]
    }
   ],
   "source": [
    "print(history.history)"
   ]
  },
  {
   "cell_type": "markdown",
   "id": "51ab1340",
   "metadata": {},
   "source": [
    "### 그래프\n",
    "- https://codetorial.net/tensorflow/visualize_training_history.html"
   ]
  },
  {
   "cell_type": "code",
   "execution_count": 31,
   "id": "23831334",
   "metadata": {},
   "outputs": [
    {
     "data": {
      "image/png": "[encoded data removed]",
      "text/plain": [
       "<Figure size 432x288 with 1 Axes>"
      ]
     },
     "metadata": {
      "needs_background": "light"
     },
     "output_type": "display_data"
    }
   ],
   "source": [
    "plt.plot(history.history['accuracy'], label='Train accuracy')\n",
    "plt.plot(history.history['val_accuracy'], label='validation accuracy')\n",
    "plt.legend(['Train accuracy', 'validation accuracy'])\n",
    "plt.xlabel('epochs')\n",
    "plt.ylabel('acuuray')\n",
    "plt.show()"
   ]
  },
  {
   "cell_type": "markdown",
   "id": "11fcd5b3",
   "metadata": {},
   "source": [
    "### Embedding RNN Model\n",
    "---\n",
    "- One-Hot-Encoding 입력 데이터의 많은 메모리 소모에 대한 문제 해결\n",
    "- 토큰을 밀집형태의 벡터로 변경 ==> Word Embedding\n",
    "- Embedding Layer 적용\n",
    "    * 입력 차원 - 토큰의 크기 즉 단어사전의 크기\n",
    "    * 출력 차원 - 줄여서 생성하는 벡터 크기\n",
    "    * 입력 층일경우 -> input_dim = 타임스템프 즉 하나의 문장을 구성하는 토큰 수"
   ]
  },
  {
   "cell_type": "code",
   "execution_count": 42,
   "id": "b15b57a5",
   "metadata": {},
   "outputs": [],
   "source": [
    "from tensorflow.keras.layers import Embedding"
   ]
  },
  {
   "cell_type": "code",
   "execution_count": 43,
   "id": "96a5b8e9",
   "metadata": {},
   "outputs": [
    {
     "name": "stdout",
     "output_type": "stream",
     "text": [
      "Model: \"sequential_3\"\n",
      "_________________________________________________________________\n",
      " Layer (type)                Output Shape              Param #   \n",
      "=================================================================\n",
      " embedding_1 (Embedding)     (None, 100, 20)           10000     \n",
      "                                                                 \n",
      " simple_rnn_4 (SimpleRNN)    (None, 10)                310       \n",
      "                                                                 \n",
      " dense_2 (Dense)             (None, 1)                 11        \n",
      "                                                                 \n",
      "=================================================================\n",
      "Total params: 10,321\n",
      "Trainable params: 10,321\n",
      "Non-trainable params: 0\n",
      "_________________________________________________________________\n"
     ]
    }
   ],
   "source": [
    "model2=Sequential()\n",
    "# One-Hot-Encoding 500개의 거대한 데이터 => 밀집형태 20크기 벡터로 변환\n",
    "model2.add(Embedding(500, 20, input_length=100))\n",
    "model2.add(SimpleRNN(10))\n",
    "model2.add(Dense(1, activation='sigmoid'))\n",
    "\n",
    "model2.summary()"
   ]
  },
  {
   "cell_type": "code",
   "execution_count": 44,
   "id": "48f57342",
   "metadata": {
    "scrolled": true
   },
   "outputs": [
    {
     "data": {
      "image/png": "[encoded data removed]",
      "text/plain": [
       "<IPython.core.display.Image object>"
      ]
     },
     "execution_count": 44,
     "metadata": {},
     "output_type": "execute_result"
    }
   ],
   "source": [
    "from tensorflow.keras.utils import plot_model\n",
    "\n",
    "plot_model(model2, show_shapes=True)"
   ]
  },
  {
   "cell_type": "code",
   "execution_count": 45,
   "id": "d55059e7",
   "metadata": {},
   "outputs": [],
   "source": [
    "model2.compile(loss='binary_crossentropy',\n",
    "              optimizer='adam',\n",
    "              metrics='accuracy')"
   ]
  },
  {
   "cell_type": "code",
   "execution_count": 46,
   "id": "9de6e6c8",
   "metadata": {},
   "outputs": [],
   "source": [
    "earlyST1=EarlyStopping(monitor='val_loss', patience=3)"
   ]
  },
  {
   "cell_type": "code",
   "execution_count": 47,
   "id": "590a757e",
   "metadata": {},
   "outputs": [
    {
     "name": "stdout",
     "output_type": "stream",
     "text": [
      "Epoch 1/50\n",
      "WARNING:tensorflow:Model was constructed with shape (None, 100) for input KerasTensor(type_spec=TensorSpec(shape=(None, 100), dtype=tf.float32, name='embedding_1_input'), name='embedding_1_input', description=\"created by layer 'embedding_1_input'\"), but it was called on an input with incompatible shape (32, 100, 500).\n"
     ]
    },
    {
     "ename": "ValueError",
     "evalue": "in user code:\n\n    File \"C:\\Users\\User\\AppData\\Roaming\\Python\\Python39\\site-packages\\keras\\engine\\training.py\", line 1051, in train_function  *\n        return step_function(self, iterator)\n    File \"C:\\Users\\User\\AppData\\Roaming\\Python\\Python39\\site-packages\\keras\\engine\\training.py\", line 1040, in step_function  **\n        outputs = model.distribute_strategy.run(run_step, args=(data,))\n    File \"C:\\Users\\User\\AppData\\Roaming\\Python\\Python39\\site-packages\\keras\\engine\\training.py\", line 1030, in run_step  **\n        outputs = model.train_step(data)\n    File \"C:\\Users\\User\\AppData\\Roaming\\Python\\Python39\\site-packages\\keras\\engine\\training.py\", line 889, in train_step\n        y_pred = self(x, training=True)\n    File \"C:\\Users\\User\\AppData\\Roaming\\Python\\Python39\\site-packages\\keras\\utils\\traceback_utils.py\", line 67, in error_handler\n        raise e.with_traceback(filtered_tb) from None\n    File \"C:\\Users\\User\\AppData\\Roaming\\Python\\Python39\\site-packages\\keras\\engine\\input_spec.py\", line 214, in assert_input_compatibility\n        raise ValueError(f'Input {input_index} of layer \"{layer_name}\" '\n\n    ValueError: Exception encountered when calling layer \"sequential_3\" (type Sequential).\n    \n    Input 0 of layer \"simple_rnn_4\" is incompatible with the layer: expected ndim=3, found ndim=4. Full shape received: (32, 100, 500, 20)\n    \n    Call arguments received by layer \"sequential_3\" (type Sequential):\n      • inputs=tf.Tensor(shape=(32, 100, 500), dtype=float32)\n      • training=True\n      • mask=None\n",
     "output_type": "error",
     "traceback": [
      "\u001b[1;31m---------------------------------------------------------------------------\u001b[0m",
      "\u001b[1;31mValueError\u001b[0m                                Traceback (most recent call last)",
      "Input \u001b[1;32mIn [47]\u001b[0m, in \u001b[0;36m<cell line: 1>\u001b[1;34m()\u001b[0m\n\u001b[1;32m----> 1\u001b[0m history1 \u001b[38;5;241m=\u001b[39m \u001b[43mmodel2\u001b[49m\u001b[38;5;241;43m.\u001b[39;49m\u001b[43mfit\u001b[49m\u001b[43m(\u001b[49m\u001b[43mX_train\u001b[49m\u001b[43m,\u001b[49m\u001b[43m \u001b[49m\u001b[43my_train\u001b[49m\u001b[43m,\u001b[49m\u001b[43m \u001b[49m\u001b[43mbatch_size\u001b[49m\u001b[38;5;241;43m=\u001b[39;49m\u001b[38;5;241;43m32\u001b[39;49m\u001b[43m,\u001b[49m\n\u001b[0;32m      2\u001b[0m \u001b[43m                    \u001b[49m\u001b[43mepochs\u001b[49m\u001b[43m \u001b[49m\u001b[38;5;241;43m=\u001b[39;49m\u001b[43m \u001b[49m\u001b[38;5;241;43m50\u001b[39;49m\u001b[43m,\u001b[49m\u001b[43m \u001b[49m\u001b[43mvalidation_data\u001b[49m\u001b[43m \u001b[49m\u001b[38;5;241;43m=\u001b[39;49m\u001b[43m \u001b[49m\u001b[43m(\u001b[49m\u001b[43mX_val\u001b[49m\u001b[43m,\u001b[49m\u001b[43my_val\u001b[49m\u001b[43m)\u001b[49m\u001b[43m,\u001b[49m\n\u001b[0;32m      3\u001b[0m \u001b[43m                    \u001b[49m\u001b[43mverbose\u001b[49m\u001b[43m \u001b[49m\u001b[38;5;241;43m=\u001b[39;49m\u001b[43m \u001b[49m\u001b[38;5;241;43m1\u001b[39;49m\u001b[43m,\u001b[49m\u001b[43m \u001b[49m\u001b[43mcallbacks\u001b[49m\u001b[38;5;241;43m=\u001b[39;49m\u001b[43m[\u001b[49m\u001b[43mearlyST1\u001b[49m\u001b[43m]\u001b[49m\u001b[43m)\u001b[49m\n",
      "File \u001b[1;32m~\\AppData\\Roaming\\Python\\Python39\\site-packages\\keras\\utils\\traceback_utils.py:67\u001b[0m, in \u001b[0;36mfilter_traceback.<locals>.error_handler\u001b[1;34m(*args, **kwargs)\u001b[0m\n\u001b[0;32m     65\u001b[0m \u001b[38;5;28;01mexcept\u001b[39;00m \u001b[38;5;167;01mException\u001b[39;00m \u001b[38;5;28;01mas\u001b[39;00m e:  \u001b[38;5;66;03m# pylint: disable=broad-except\u001b[39;00m\n\u001b[0;32m     66\u001b[0m   filtered_tb \u001b[38;5;241m=\u001b[39m _process_traceback_frames(e\u001b[38;5;241m.\u001b[39m__traceback__)\n\u001b[1;32m---> 67\u001b[0m   \u001b[38;5;28;01mraise\u001b[39;00m e\u001b[38;5;241m.\u001b[39mwith_traceback(filtered_tb) \u001b[38;5;28;01mfrom\u001b[39;00m \u001b[38;5;28mNone\u001b[39m\n\u001b[0;32m     68\u001b[0m \u001b[38;5;28;01mfinally\u001b[39;00m:\n\u001b[0;32m     69\u001b[0m   \u001b[38;5;28;01mdel\u001b[39;00m filtered_tb\n",
      "File \u001b[1;32m~\\AppData\\Local\\Temp\\__autograph_generated_fileqn33npl6.py:15\u001b[0m, in \u001b[0;36mouter_factory.<locals>.inner_factory.<locals>.tf__train_function\u001b[1;34m(iterator)\u001b[0m\n\u001b[0;32m     13\u001b[0m \u001b[38;5;28;01mtry\u001b[39;00m:\n\u001b[0;32m     14\u001b[0m     do_return \u001b[38;5;241m=\u001b[39m \u001b[38;5;28;01mTrue\u001b[39;00m\n\u001b[1;32m---> 15\u001b[0m     retval_ \u001b[38;5;241m=\u001b[39m ag__\u001b[38;5;241m.\u001b[39mconverted_call(ag__\u001b[38;5;241m.\u001b[39mld(step_function), (ag__\u001b[38;5;241m.\u001b[39mld(\u001b[38;5;28mself\u001b[39m), ag__\u001b[38;5;241m.\u001b[39mld(iterator)), \u001b[38;5;28;01mNone\u001b[39;00m, fscope)\n\u001b[0;32m     16\u001b[0m \u001b[38;5;28;01mexcept\u001b[39;00m:\n\u001b[0;32m     17\u001b[0m     do_return \u001b[38;5;241m=\u001b[39m \u001b[38;5;28;01mFalse\u001b[39;00m\n",
      "\u001b[1;31mValueError\u001b[0m: in user code:\n\n    File \"C:\\Users\\User\\AppData\\Roaming\\Python\\Python39\\site-packages\\keras\\engine\\training.py\", line 1051, in train_function  *\n        return step_function(self, iterator)\n    File \"C:\\Users\\User\\AppData\\Roaming\\Python\\Python39\\site-packages\\keras\\engine\\training.py\", line 1040, in step_function  **\n        outputs = model.distribute_strategy.run(run_step, args=(data,))\n    File \"C:\\Users\\User\\AppData\\Roaming\\Python\\Python39\\site-packages\\keras\\engine\\training.py\", line 1030, in run_step  **\n        outputs = model.train_step(data)\n    File \"C:\\Users\\User\\AppData\\Roaming\\Python\\Python39\\site-packages\\keras\\engine\\training.py\", line 889, in train_step\n        y_pred = self(x, training=True)\n    File \"C:\\Users\\User\\AppData\\Roaming\\Python\\Python39\\site-packages\\keras\\utils\\traceback_utils.py\", line 67, in error_handler\n        raise e.with_traceback(filtered_tb) from None\n    File \"C:\\Users\\User\\AppData\\Roaming\\Python\\Python39\\site-packages\\keras\\engine\\input_spec.py\", line 214, in assert_input_compatibility\n        raise ValueError(f'Input {input_index} of layer \"{layer_name}\" '\n\n    ValueError: Exception encountered when calling layer \"sequential_3\" (type Sequential).\n    \n    Input 0 of layer \"simple_rnn_4\" is incompatible with the layer: expected ndim=3, found ndim=4. Full shape received: (32, 100, 500, 20)\n    \n    Call arguments received by layer \"sequential_3\" (type Sequential):\n      • inputs=tf.Tensor(shape=(32, 100, 500), dtype=float32)\n      • training=True\n      • mask=None\n"
     ]
    }
   ],
   "source": [
    "history1 = model2.fit(X_train, y_train, batch_size=32,\n",
    "                    epochs = 50, validation_data = (X_val,y_val),\n",
    "                    verbose = 1, callbacks=[earlyST1])"
   ]
  },
  {
   "cell_type": "code",
   "execution_count": null,
   "id": "af34fa7d",
   "metadata": {},
   "outputs": [],
   "source": []
  }
 ],
 "metadata": {
  "kernelspec": {
   "display_name": "Python 3 (ipykernel)",
   "language": "python",
   "name": "python3"
  },
  "language_info": {
   "codemirror_mode": {
    "name": "ipython",
    "version": 3
   },
   "file_extension": ".py",
   "mimetype": "text/x-python",
   "name": "python",
   "nbconvert_exporter": "python",
   "pygments_lexer": "ipython3",
   "version": "3.9.12"
  }
 },
 "nbformat": 4,
 "nbformat_minor": 5
}
