{
 "cells": [
  {
   "cell_type": "markdown",
   "metadata": {},
   "source": [
    "# 전기차 충전소 크롤링"
   ]
  },
  {
   "cell_type": "code",
   "execution_count": 262,
   "metadata": {},
   "outputs": [],
   "source": [
    "# 모듈로딩\n",
    "from bs4 import BeautifulSoup\n",
    "from selenium import webdriver\n",
    "from selenium.webdriver.common.by import By\n",
    "from selenium.webdriver.common.keys import Keys\n",
    "from selenium.webdriver.chrome.service import Service\n",
    "from webdriver_manager.chrome import ChromeDriverManager\n",
    "import time\n",
    "import pandas as pd"
   ]
  },
  {
   "cell_type": "code",
   "execution_count": 263,
   "metadata": {},
   "outputs": [
    {
     "name": "stderr",
     "output_type": "stream",
     "text": [
      "C:\\Users\\USER\\AppData\\Local\\Temp\\ipykernel_9684\\1146195081.py:5: DeprecationWarning: executable_path has been deprecated, please pass in a Service object\n",
      "  driver=webdriver.Chrome('C:/Users/USER/googlecrawing/chromedriver.exe',options=chrome_options)\n"
     ]
    },
    {
     "name": "stdout",
     "output_type": "stream",
     "text": [
      "Tesla 대구 이시아폴리스 수퍼차저\n",
      "대구 동구 봉무동 1544\n",
      "Tesla 대구 수성 수퍼차저\n",
      "대구 수성구 수성못6길 18 대구수성아트스퀘어\n",
      "수태골 공영주차장 전기차충전소\n",
      "대구 동구 용수동 907-1\n",
      "대구신서혁신LH천년나무10단지 전기차충전소\n",
      "대구 동구 메디밸리로 18\n",
      "파계사 공영주차장 전기차충전소\n",
      "대구 동구 파계로 686\n",
      "Tesla 대구 수퍼차저\n",
      "대구 북구 엑스코로 10\n",
      "대덕맨션2차 전기차충전소\n",
      "대구 남구 앞산순환로 655\n",
      "동화사(동화사 집단시설지구 씨네80 극장 출구 주차장) 전기차충전소\n",
      "대구 동구 팔공산로 1184\n",
      "코스트코 대구혁신도시점 전기차충전소\n",
      "대구 동구 첨단로 10\n",
      "연경지구LH뉴웰시티아파트 전기차충전소\n",
      "대구 동구 지묘동 1352-2\n",
      "관음동한양수정아파트 전기차충전소\n",
      "대구 북구 구암로 17\n",
      "시지두레타운 입주자대표회의 전기차충전소\n",
      "대구 수성구 천을로 131\n",
      "현풍백년도깨비시장 공영주차장 전기차충전소\n",
      "대구 달성군 현풍읍 현풍로6길 5\n",
      "3호선 칠곡차량기지 전기차충전소\n",
      "대구 북구 동호동 136-1\n",
      "서대구역남측주차장 전기차충전소\n",
      "대구 서구 와룡로 527\n"
     ]
    }
   ],
   "source": [
    "# 연습\n",
    "chrome_options=webdriver.ChromeOptions()\n",
    "chrome_options.add_argument('lang=ko_KR')\n",
    "\n",
    "driver=webdriver.Chrome('C:/Users/USER/googlecrawing/chromedriver.exe',options=chrome_options)\n",
    "driver.get('https://map.kakao.com/')\n",
    "\n",
    "driver.find_element(By.XPATH,'//*[@id=\"search.keyword.query\"]').send_keys(input_juso+Keys.ENTER)\n",
    "\n",
    "time.sleep(3)\n",
    "\n",
    "soup=BeautifulSoup(driver.page_source,'html.parser')\n",
    "htmls=soup.select('.placelist .PlaceItem')\n",
    "\n",
    "for html in htmls:\n",
    "    print(html.select_one('a.link_name').text)\n",
    "    print(html.find('p',attrs={'data-id':'address'}).text)\n",
    "\n",
    "driver.close()"
   ]
  },
  {
   "cell_type": "code",
   "execution_count": 264,
   "metadata": {},
   "outputs": [],
   "source": [
    "# 동적 웹 크롤링 함수(카카오맵)\n",
    "## 동적 웹 사이트 옵션 설정\n",
    "def kakaomap_crawing(input_search):\n",
    "    chrome_options = webdriver.ChromeOptions()\n",
    "    chrome_options.add_argument('lang=ko_KR') # 가짜 플러그인 탑재\n",
    "    driver = webdriver.Chrome('C:/Users/USER/googlecrawing/chromedriver.exe',options=chrome_options)\n",
    "\n",
    "    ## 크롤링할 사이트\n",
    "    driver.get('https://map.kakao.com/')\n",
    "\n",
    "    ## 사이트에 검색할 단어 입력 후 클릭\n",
    "    driver.find_element(By.XPATH,'//*[@id=\"search.keyword.query\"]').send_keys(input_search+Keys.ENTER)\n",
    "\n",
    "    ## 크롤링\n",
    "    charge_name=[] # 충전소명 리스트\n",
    "    address_name=[] # 충전소주소 리스트\n",
    "    for i in range(1,35):\n",
    "        time.sleep(1)\n",
    "        if i==1:\n",
    "            soup=BeautifulSoup(driver.page_source,'html.parser')\n",
    "            names=soup.select('.placelist .PlaceItem')\n",
    "            for name in names:\n",
    "                charge_name.append(name.select_one('a.link_name').text)\n",
    "                address_name.append(name.find('p',attrs={'data-id':'address'}).text)\n",
    "        elif i==2:\n",
    "            driver.find_element(By.XPATH,'//*[@id=\"info.search.place.more\"]').send_keys(Keys.ENTER)\n",
    "\n",
    "            time.sleep(1)\n",
    "\n",
    "            soup=BeautifulSoup(driver.page_source,'html.parser')\n",
    "            names=soup.select('.placelist .PlaceItem')\n",
    "            for name in names:\n",
    "                charge_name.append(name.select_one('a.link_name').text)\n",
    "                address_name.append(name.find('p',attrs={'data-id':'address'}).text)\n",
    "        else:\n",
    "            if i%5==1:\n",
    "                driver.find_element(By.XPATH,'//*[@id=\"info.search.page.next\"]').send_keys(Keys.ENTER)\n",
    "                \n",
    "            driver.find_element(By.XPATH,f'//*[@id=\"info.search.page.no{5 if i%5==0 else i%5}\"]').send_keys(Keys.ENTER)\n",
    "\n",
    "            time.sleep(1)\n",
    "\n",
    "            soup=BeautifulSoup(driver.page_source,'html.parser')\n",
    "            names=soup.select('.placelist .PlaceItem')\n",
    "            for name in names:\n",
    "                charge_name.append(name.select_one('a.link_name').text)\n",
    "                address_name.append(name.find('p',attrs={'data-id':'address'}).text)\n",
    "    \n",
    "    driver.close()\n",
    "\n",
    "    return charge_name, address_name"
   ]
  },
  {
   "cell_type": "code",
   "execution_count": 265,
   "metadata": {},
   "outputs": [
    {
     "name": "stderr",
     "output_type": "stream",
     "text": [
      "C:\\Users\\USER\\AppData\\Local\\Temp\\ipykernel_9684\\3236740930.py:6: DeprecationWarning: executable_path has been deprecated, please pass in a Service object\n",
      "  driver = webdriver.Chrome('C:/Users/USER/googlecrawing/chromedriver.exe',options=chrome_options)\n"
     ]
    }
   ],
   "source": [
    "charge_name, address_name=kakaomap_crawing('대구 전기차 충전소')"
   ]
  },
  {
   "cell_type": "code",
   "execution_count": 266,
   "metadata": {},
   "outputs": [
    {
     "name": "stdout",
     "output_type": "stream",
     "text": [
      "13인덱스의 3호선 칠곡차량기지 전기차충전소 / 대구 북구 동호동 136-1\n",
      "34인덱스의 수성소방서 전기차충전소 / 대구 수성구 청호로 87 건물 남측 1층 주차장\n",
      "72인덱스의 수성소방서 전기차충전소 / 대구 수성구 범물동 1259\n",
      "166인덱스의 동대구복합환승센터 전기차충전소 / 대구 동구 동부로 149 지하2층\n",
      "199인덱스의 한국산업기술평가관리원 전기차충전소 / 대구 동구 신서동 1152\n",
      "202인덱스의 한국산업기술평가관리원 전기차충전소 / 대구 수성구 청호로 87\n",
      "304인덱스의 3호선 칠곡차량기지 전기차충전소 / 대구 북구 동호동 112-2\n",
      "386인덱스의 동대구복합환승센터 전기차충전소 / 대구 동구 효신로 88\n"
     ]
    }
   ],
   "source": [
    "# 전기차 충전소명의 중복값 찾기\n",
    "for x in range(len(charge_name)):\n",
    "    if charge_name.count(charge_name[x])>=2:\n",
    "        print(f\"{x}인덱스의 {charge_name[x]} / {address_name[x]}\")"
   ]
  },
  {
   "cell_type": "code",
   "execution_count": 267,
   "metadata": {},
   "outputs": [
    {
     "name": "stdout",
     "output_type": "stream",
     "text": [
      "5인덱스의 대구 북구 엑스코로 10 / Tesla 대구 수퍼차저\n",
      "10인덱스의 대구 북구 구암로 17 / 관음동한양수정아파트 전기차충전소\n",
      "30인덱스의 대구 달서구 월배로32안길 61 / 귀빈맨션103동앞주차장 전기차충전소\n",
      "106인덱스의 대구 북구 복현로 71 / 복현명문세가1단지103동 전기차충전소\n",
      "160인덱스의 대구 수성구 두산동 499-4 / 대구환경공단 동부사업소 전기차충전소\n",
      "205인덱스의 대구 달성군 옥포읍 본리로 102 / 옥포세광무지개마을 106동 전기차충전소\n",
      "208인덱스의 대구 달서구 상화로 272 / LH 대구경북지역본부 전기차충전소\n",
      "275인덱스의 대구 달서구 월배로32안길 61 / 귀빈맨션101동102동사이주차장 전기차충전소\n",
      "311인덱스의 대구 달성군 유가읍 일연선사길 10 / 비슬산 유스호스텔 전기차충전소\n",
      "320인덱스의 대구 서구 국채보상로50길 20 / 평리푸르지오1단지 전기차충전소\n",
      "341인덱스의 대구 수성구 두산동 499-4 / 대구환경공단 전기차충전소\n",
      "366인덱스의 대구 북구 구암로 17 / 한양수정상가관리단 전기차충전소\n",
      "396인덱스의 대구 달성군 옥포읍 본리로 102 / 옥포세광무지개마을 105동 전기차충전소\n",
      "413인덱스의 대구 달서구 상화로 272 / LH대구경북본부 전기차충전소\n",
      "423인덱스의 대구 서구 국채보상로50길 20 / 평리푸르지오3단지 전기차충전소\n",
      "449인덱스의 대구 달성군 유가읍 일연선사길 10 / 호텔아젤리아 전기차충전소\n",
      "451인덱스의 대구 북구 엑스코로 10 / 북구유통단지 EXCO 전기차충전소\n",
      "455인덱스의 대구 북구 복현로 71 / 복현명문세가1단지102동 전기차충전소\n"
     ]
    }
   ],
   "source": [
    "# 전기차 충전소 주소의 중복값 찾기\n",
    "for x in range(len(address_name)):\n",
    "    if address_name.count(address_name[x])>=2:\n",
    "        print(f\"{x}인덱스의 {address_name[x]} / {charge_name[x]}\")"
   ]
  },
  {
   "cell_type": "code",
   "execution_count": 268,
   "metadata": {},
   "outputs": [],
   "source": [
    "# 전기차 충전소 데이터 프레임 만들기\n",
    "# elecar_df=pd.DataFrame({'name':charge_name,'address':juso_name})\n",
    "elecar_df=pd.DataFrame([charge_name,address_name],index=['name','address']).T"
   ]
  },
  {
   "cell_type": "code",
   "execution_count": 270,
   "metadata": {},
   "outputs": [],
   "source": [
    "# 전기차 충전소 데이터 프레임 csv파일 만들기\n",
    "elecar_df.to_csv('C:/Users/USER/Desktop/해커톤/대구 전기차 충전소(건영).csv',index=False,encoding='cp949')"
   ]
  },
  {
   "cell_type": "markdown",
   "metadata": {},
   "source": [
    "## 상언이형이 크롤링한 csv파일"
   ]
  },
  {
   "cell_type": "code",
   "execution_count": null,
   "metadata": {},
   "outputs": [
    {
     "data": {
      "text/html": [
       "<div>\n",
       "<style scoped>\n",
       "    .dataframe tbody tr th:only-of-type {\n",
       "        vertical-align: middle;\n",
       "    }\n",
       "\n",
       "    .dataframe tbody tr th {\n",
       "        vertical-align: top;\n",
       "    }\n",
       "\n",
       "    .dataframe thead th {\n",
       "        text-align: right;\n",
       "    }\n",
       "</style>\n",
       "<table border=\"1\" class=\"dataframe\">\n",
       "  <thead>\n",
       "    <tr style=\"text-align: right;\">\n",
       "      <th></th>\n",
       "      <th>name</th>\n",
       "      <th>address</th>\n",
       "    </tr>\n",
       "  </thead>\n",
       "  <tbody>\n",
       "    <tr>\n",
       "      <th>0</th>\n",
       "      <td>Tesla 대구 이시아폴리스 수퍼차저</td>\n",
       "      <td>대구 동구 봉무동 1544</td>\n",
       "    </tr>\n",
       "    <tr>\n",
       "      <th>1</th>\n",
       "      <td>Tesla 대구 수성 수퍼차저</td>\n",
       "      <td>대구 수성구 수성못6길 18 대구수성아트스퀘어</td>\n",
       "    </tr>\n",
       "    <tr>\n",
       "      <th>2</th>\n",
       "      <td>수태골 공영주차장 전기차충전소</td>\n",
       "      <td>대구 동구 용수동 907-1</td>\n",
       "    </tr>\n",
       "    <tr>\n",
       "      <th>3</th>\n",
       "      <td>대구신서혁신LH천년나무10단지 전기차충전소</td>\n",
       "      <td>대구 동구 메디밸리로 18</td>\n",
       "    </tr>\n",
       "    <tr>\n",
       "      <th>4</th>\n",
       "      <td>파계사 공영주차장 전기차충전소</td>\n",
       "      <td>대구 동구 파계로 686</td>\n",
       "    </tr>\n",
       "    <tr>\n",
       "      <th>...</th>\n",
       "      <td>...</td>\n",
       "      <td>...</td>\n",
       "    </tr>\n",
       "    <tr>\n",
       "      <th>490</th>\n",
       "      <td>달성습지생태학습관 전기차충전소</td>\n",
       "      <td>대구 달성군 화원읍 구라리 860</td>\n",
       "    </tr>\n",
       "    <tr>\n",
       "      <th>491</th>\n",
       "      <td>태전한일아파트 전기차충전소</td>\n",
       "      <td>대구 북구 칠곡중앙대로53길 32 102동 지하1층</td>\n",
       "    </tr>\n",
       "    <tr>\n",
       "      <th>492</th>\n",
       "      <td>블리스모텔 전기차충전소</td>\n",
       "      <td>대구 북구 칠곡중앙대로91길 5-7 옥내주차장 계단실 옆 모텔출입문 쪽</td>\n",
       "    </tr>\n",
       "    <tr>\n",
       "      <th>493</th>\n",
       "      <td>늘푸른교회 전기차충전소</td>\n",
       "      <td>대구 달서구 조암남로14길 13</td>\n",
       "    </tr>\n",
       "    <tr>\n",
       "      <th>494</th>\n",
       "      <td>아양아트센터 전기차충전소</td>\n",
       "      <td>대구 동구 효목동 1084</td>\n",
       "    </tr>\n",
       "  </tbody>\n",
       "</table>\n",
       "<p>495 rows × 2 columns</p>\n",
       "</div>"
      ],
      "text/plain": [
       "                        name                                  address\n",
       "0       Tesla 대구 이시아폴리스 수퍼차저                           대구 동구 봉무동 1544\n",
       "1           Tesla 대구 수성 수퍼차저                대구 수성구 수성못6길 18 대구수성아트스퀘어\n",
       "2           수태골 공영주차장 전기차충전소                          대구 동구 용수동 907-1\n",
       "3    대구신서혁신LH천년나무10단지 전기차충전소                           대구 동구 메디밸리로 18\n",
       "4           파계사 공영주차장 전기차충전소                            대구 동구 파계로 686\n",
       "..                       ...                                      ...\n",
       "490         달성습지생태학습관 전기차충전소                       대구 달성군 화원읍 구라리 860\n",
       "491           태전한일아파트 전기차충전소             대구 북구 칠곡중앙대로53길 32 102동 지하1층\n",
       "492             블리스모텔 전기차충전소  대구 북구 칠곡중앙대로91길 5-7 옥내주차장 계단실 옆 모텔출입문 쪽\n",
       "493             늘푸른교회 전기차충전소                        대구 달서구 조암남로14길 13\n",
       "494            아양아트센터 전기차충전소                           대구 동구 효목동 1084\n",
       "\n",
       "[495 rows x 2 columns]"
      ]
     },
     "execution_count": 213,
     "metadata": {},
     "output_type": "execute_result"
    }
   ],
   "source": [
    "elecar=pd.read_csv('C:/Users/USER/Desktop/해커톤/대구 전기차 충전소.csv',encoding='cp949').iloc[:,1:]\n",
    "elecar"
   ]
  },
  {
   "cell_type": "code",
   "execution_count": null,
   "metadata": {},
   "outputs": [],
   "source": [
    "from geopy.geocoders import Nominatim"
   ]
  },
  {
   "cell_type": "code",
   "execution_count": 277,
   "metadata": {},
   "outputs": [
    {
     "name": "stdout",
     "output_type": "stream",
     "text": [
      "(35.8542158, 128.6171196)\n",
      "35.8542158\n",
      "128.6171196\n"
     ]
    }
   ],
   "source": [
    "a=Nominatim(user_agent='South Korea',timeout=200)\n",
    "b=a.geocode('대구 수성구 명덕로 455')\n",
    "print(b[1])\n",
    "print(b[1][0])\n",
    "print(b[1][1])"
   ]
  },
  {
   "cell_type": "code",
   "execution_count": null,
   "metadata": {},
   "outputs": [],
   "source": [
    "elecar_latlng=elecar"
   ]
  },
  {
   "cell_type": "code",
   "execution_count": null,
   "metadata": {},
   "outputs": [],
   "source": [
    "# lat_lng=Nominatim(user_agent='South Korea',timeout=200).geocode('대구 동구 용수동 907-1')\n",
    "# print(lat_lng[0])"
   ]
  },
  {
   "cell_type": "code",
   "execution_count": null,
   "metadata": {},
   "outputs": [],
   "source": [
    "# lat_lng=Nominatim(user_agent='South Korea',timeout=200).geocode(' '.join(elecar_latlng.loc[2,'address'].split()[0:4]))\n",
    "# print(lat_lng[1][1])"
   ]
  },
  {
   "cell_type": "code",
   "execution_count": null,
   "metadata": {},
   "outputs": [],
   "source": [
    "# for i in range(len(elecar_latlng)):\n",
    "#     lat_lng=Nominatim(user_agent='South Korea',timeout=200).geocode(' '.join(elecar_latlng.loc[i,'address'].split()[0:4]))\n",
    "#     print(i)\n",
    "#     elecar_latlng.loc[i,'lat']=lat_lng[1][0]\n",
    "#     elecar_latlng.loc[i,'lng']=lat_lng[1][1]"
   ]
  },
  {
   "cell_type": "code",
   "execution_count": null,
   "metadata": {},
   "outputs": [],
   "source": [
    "# elecar.to_csv('C:/Users/USER/Desktop/해커톤/위도경도 대구 전기차 충전소.csv',index=False,encoding='cp949')"
   ]
  },
  {
   "cell_type": "code",
   "execution_count": null,
   "metadata": {},
   "outputs": [],
   "source": []
  },
  {
   "cell_type": "code",
   "execution_count": null,
   "metadata": {},
   "outputs": [],
   "source": []
  }
 ],
 "metadata": {
  "kernelspec": {
   "display_name": "Python 3.9.13 ('PY_39')",
   "language": "python",
   "name": "python3"
  },
  "language_info": {
   "codemirror_mode": {
    "name": "ipython",
    "version": 3
   },
   "file_extension": ".py",
   "mimetype": "text/x-python",
   "name": "python",
   "nbconvert_exporter": "python",
   "pygments_lexer": "ipython3",
   "version": "3.9.13"
  },
  "orig_nbformat": 4,
  "vscode": {
   "interpreter": {
    "hash": "f383b27726cf6678b0d04baf9693a2bc69529457fb17a6accda21f03ae2e2b23"
   }
  }
 },
 "nbformat": 4,
 "nbformat_minor": 2
}
