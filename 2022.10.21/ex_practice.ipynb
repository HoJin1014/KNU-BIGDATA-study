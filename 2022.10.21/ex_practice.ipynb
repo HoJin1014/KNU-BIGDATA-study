{
 "cells": [
  {
   "cell_type": "code",
   "execution_count": null,
   "id": "5531224f",
   "metadata": {},
   "outputs": [],
   "source": [
    "import folium\n",
    "import pandas as pd\n",
    "import warnings\n",
    "warnings.filterwarnings('ignore')"
   ]
  },
  {
   "cell_type": "code",
   "execution_count": null,
   "id": "f96bd767",
   "metadata": {},
   "outputs": [],
   "source": [
    "m1 = folium.Map(location=[35.868863,128.600299], zoom_strat=14)\n",
    "\n",
    "# 국채보상운동기념공원주차장\n",
    "folium.Marker([35.868863,128.600299]).add_to(m2)\n",
    "\n",
    "# 대구시청\n",
    "folium.Marker([35.871039,128.601444],\n",
    "               popup='<b>parking,/b').add_to(m2)\n",
    "\n",
    "# 서문주차빌딩\n",
    "folium.Marker([35.868986  ,128.581015 ],\n",
    "             tooltip='<i>서문주차빌딩</i>').add_to(m2)"
   ]
  }
 ],
 "metadata": {
  "kernelspec": {
   "display_name": "Python 3 (ipykernel)",
   "language": "python",
   "name": "python3"
  },
  "language_info": {
   "codemirror_mode": {
    "name": "ipython",
    "version": 3
   },
   "file_extension": ".py",
   "mimetype": "text/x-python",
   "name": "python",
   "nbconvert_exporter": "python",
   "pygments_lexer": "ipython3",
   "version": "3.9.12"
  }
 },
 "nbformat": 4,
 "nbformat_minor": 5
}
