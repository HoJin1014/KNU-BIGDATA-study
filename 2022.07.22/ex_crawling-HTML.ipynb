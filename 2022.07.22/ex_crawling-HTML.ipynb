{
 "cells": [
  {
   "cell_type": "markdown",
   "id": "3e21c4f1",
   "metadata": {},
   "source": [
    "# 데이터 크롤링과 정제\n",
    " -HTML 분석 및 정규식"
   ]
  },
  {
   "cell_type": "markdown",
   "id": "d9e716d5",
   "metadata": {},
   "source": [
    "# CSS 속성을 이용한 검색"
   ]
  },
  {
   "cell_type": "code",
   "execution_count": 1,
   "id": "f78ebec7",
   "metadata": {},
   "outputs": [
    {
     "name": "stdout",
     "output_type": "stream",
     "text": [
      "object_tag: <span class=\"red\">Heavens! what a virulent attack!</span>\n",
      "attrs: {'class': ['red']}\n",
      "value: ['red']\n",
      "text: Heavens! what a virulent attack!\n"
     ]
    }
   ],
   "source": [
    "# 속성(attrs) 사용\n",
    "from bs4 import BeautifulSoup\n",
    "\n",
    "html_text='\"<span class=\"red\">Heavens! what a virulent attack!</span>\"'\n",
    "soup = BeautifulSoup(html_text, 'html.parser')\n",
    "\n",
    "object_tag = soup.find('span')\n",
    "print('object_tag:', object_tag)\n",
    "print('attrs:', object_tag.attrs)\n",
    "print('value:', object_tag.attrs['class'])\n",
    "print('text:', object_tag.text)"
   ]
  },
  {
   "cell_type": "code",
   "execution_count": 2,
   "id": "183bb9d0",
   "metadata": {},
   "outputs": [
    {
     "name": "stdout",
     "output_type": "stream",
     "text": [
      "Anna\n",
      "Pavlovna Scherer\n",
      "Empress Marya\n",
      "Fedorovna\n",
      "Prince Vasili Kuragin\n",
      "Anna Pavlovna\n",
      "St. Petersburg\n",
      "the prince\n",
      "Anna Pavlovna\n",
      "Anna Pavlovna\n",
      "the prince\n",
      "the prince\n",
      "the prince\n",
      "Prince Vasili\n",
      "Anna Pavlovna\n",
      "Anna Pavlovna\n",
      "the prince\n",
      "Wintzingerode\n",
      "King of Prussia\n",
      "le Vicomte de Mortemart\n",
      "Montmorencys\n",
      "Rohans\n",
      "Abbe Morio\n",
      "the Emperor\n",
      "the prince\n",
      "Prince Vasili\n",
      "Dowager Empress Marya Fedorovna\n",
      "the baron\n",
      "Anna Pavlovna\n",
      "the Empress\n",
      "the Empress\n",
      "Anna Pavlovna's\n",
      "Her Majesty\n",
      "Baron\n",
      "Funke\n",
      "The prince\n",
      "Anna\n",
      "Pavlovna\n",
      "the Empress\n",
      "The prince\n",
      "Anatole\n",
      "the prince\n",
      "The prince\n",
      "Anna\n",
      "Pavlovna\n",
      "Anna Pavlovna\n"
     ]
    }
   ],
   "source": [
    "# CSS 속성을 이용한 태그 검색\n",
    "from urllib.request import urlopen\n",
    "from bs4 import BeautifulSoup\n",
    "\n",
    "html = urlopen('http://www.pythonscraping.com/pages/warandpeace.html')\n",
    "bs = BeautifulSoup(html, \"html.parser\")\n",
    "\n",
    "nameList = bs.find_all('span', {'class': 'green'})\n",
    "for name in nameList:\n",
    "    print(name.get_text())"
   ]
  },
  {
   "cell_type": "code",
   "execution_count": 3,
   "id": "8a0ffe81",
   "metadata": {},
   "outputs": [
    {
     "name": "stdout",
     "output_type": "stream",
     "text": [
      "['the prince', 'the prince', 'the prince', 'the prince', 'the prince', 'the prince', 'the prince']\n",
      "the price count:  7\n"
     ]
    }
   ],
   "source": [
    "# 특정 단어 찾기\n",
    "# find_all(text=\"검색어\") - 대소문자 구분 , 검색어:'the prince'\n",
    "\n",
    "html = urlopen('http://www.pythonscraping.com/pages/warandpeace.html')\n",
    "bs = BeautifulSoup(html, 'html.parser')\n",
    "\n",
    "princeList = bs.find_all(text='the prince')\n",
    "print(princeList)\n",
    "print('the price count: ', len(princeList))"
   ]
  },
  {
   "cell_type": "code",
   "execution_count": 4,
   "id": "7c2e1272",
   "metadata": {},
   "outputs": [
    {
     "name": "stdout",
     "output_type": "stream",
     "text": [
      "\n",
      "\n",
      "<tr><th>\n",
      "Item Title\n",
      "</th><th>\n",
      "Description\n",
      "</th><th>\n",
      "Cost\n",
      "</th><th>\n",
      "Image\n",
      "</th></tr>\n",
      "\n",
      "\n",
      "<tr class=\"gift\" id=\"gift1\"><td>\n",
      "Vegetable Basket\n",
      "</td><td>\n",
      "This vegetable basket is the perfect gift for your health conscious (or overweight) friends!\n",
      "<span class=\"excitingNote\">Now with super-colorful bell peppers!</span>\n",
      "</td><td>\n",
      "$15.00\n",
      "</td><td>\n",
      "<img src=\"../img/gifts/img1.jpg\"/>\n",
      "</td></tr>\n",
      "\n",
      "\n",
      "<tr class=\"gift\" id=\"gift2\"><td>\n",
      "Russian Nesting Dolls\n",
      "</td><td>\n",
      "Hand-painted by trained monkeys, these exquisite dolls are priceless! And by \"priceless,\" we mean \"extremely expensive\"! <span class=\"excitingNote\">8 entire dolls per set! Octuple the presents!</span>\n",
      "</td><td>\n",
      "$10,000.52\n",
      "</td><td>\n",
      "<img src=\"../img/gifts/img2.jpg\"/>\n",
      "</td></tr>\n",
      "\n",
      "\n",
      "<tr class=\"gift\" id=\"gift3\"><td>\n",
      "Fish Painting\n",
      "</td><td>\n",
      "If something seems fishy about this painting, it's because it's a fish! <span class=\"excitingNote\">Also hand-painted by trained monkeys!</span>\n",
      "</td><td>\n",
      "$10,005.00\n",
      "</td><td>\n",
      "<img src=\"../img/gifts/img3.jpg\"/>\n",
      "</td></tr>\n",
      "\n",
      "\n",
      "<tr class=\"gift\" id=\"gift4\"><td>\n",
      "Dead Parrot\n",
      "</td><td>\n",
      "This is an ex-parrot! <span class=\"excitingNote\">Or maybe he's only resting?</span>\n",
      "</td><td>\n",
      "$0.50\n",
      "</td><td>\n",
      "<img src=\"../img/gifts/img4.jpg\"/>\n",
      "</td></tr>\n",
      "\n",
      "\n",
      "<tr class=\"gift\" id=\"gift5\"><td>\n",
      "Mystery Box\n",
      "</td><td>\n",
      "If you love suprises, this mystery box is for you! Do not place on light-colored surfaces. May cause oil staining. <span class=\"excitingNote\">Keep your friends guessing!</span>\n",
      "</td><td>\n",
      "$1.50\n",
      "</td><td>\n",
      "<img src=\"../img/gifts/img6.jpg\"/>\n",
      "</td></tr>\n",
      "\n",
      "\n"
     ]
    }
   ],
   "source": [
    "# 트리 이동 (자식과 자손)\n",
    "html = urlopen('http://www.pythonscraping.com/pages/page3.html')\n",
    "bs = BeautifulSoup(html, 'html.parser')\n",
    "\n",
    "table_tag = bs.find('table', {'id':'giftList'})\n",
    "for child in table_tag.children:\n",
    "    print(child)"
   ]
  },
  {
   "cell_type": "code",
   "execution_count": 5,
   "id": "db3c4f3f",
   "metadata": {},
   "outputs": [
    {
     "name": "stdout",
     "output_type": "stream",
     "text": [
      "descendants 개수:  86\n"
     ]
    }
   ],
   "source": [
    "# 자손 descendants\n",
    "desc = bs.find('table', {'id':'giftList'}).descendants\n",
    "print('descendants 개수: ', len(list(desc)))"
   ]
  },
  {
   "cell_type": "code",
   "execution_count": 6,
   "id": "ea7a6c20",
   "metadata": {},
   "outputs": [
    {
     "name": "stdout",
     "output_type": "stream",
     "text": [
      "\n",
      "\n",
      "<tr><th>\n",
      "Item Title\n",
      "</th><th>\n",
      "Description\n",
      "</th><th>\n",
      "Cost\n",
      "</th><th>\n",
      "Image\n",
      "</th></tr>\n",
      "<th>\n",
      "Item Title\n",
      "</th>\n",
      "\n",
      "Item Title\n",
      "\n",
      "<th>\n",
      "Description\n",
      "</th>\n",
      "\n",
      "Description\n",
      "\n",
      "<th>\n",
      "Cost\n",
      "</th>\n",
      "\n",
      "Cost\n",
      "\n",
      "<th>\n",
      "Image\n",
      "</th>\n",
      "\n",
      "Image\n",
      "\n",
      "\n",
      "\n",
      "<tr class=\"gift\" id=\"gift1\"><td>\n",
      "Vegetable Basket\n",
      "</td><td>\n",
      "This vegetable basket is the perfect gift for your health conscious (or overweight) friends!\n",
      "<span class=\"excitingNote\">Now with super-colorful bell peppers!</span>\n",
      "</td><td>\n",
      "$15.00\n",
      "</td><td>\n",
      "<img src=\"../img/gifts/img1.jpg\"/>\n",
      "</td></tr>\n",
      "<td>\n",
      "Vegetable Basket\n",
      "</td>\n",
      "\n",
      "Vegetable Basket\n",
      "\n",
      "<td>\n",
      "This vegetable basket is the perfect gift for your health conscious (or overweight) friends!\n",
      "<span class=\"excitingNote\">Now with super-colorful bell peppers!</span>\n",
      "</td>\n",
      "\n",
      "This vegetable basket is the perfect gift for your health conscious (or overweight) friends!\n",
      "\n",
      "<span class=\"excitingNote\">Now with super-colorful bell peppers!</span>\n",
      "Now with super-colorful bell peppers!\n",
      "\n",
      "\n",
      "<td>\n",
      "$15.00\n",
      "</td>\n",
      "\n",
      "$15.00\n",
      "\n",
      "<td>\n",
      "<img src=\"../img/gifts/img1.jpg\"/>\n",
      "</td>\n",
      "\n",
      "\n",
      "<img src=\"../img/gifts/img1.jpg\"/>\n",
      "\n",
      "\n",
      "\n",
      "\n",
      "<tr class=\"gift\" id=\"gift2\"><td>\n",
      "Russian Nesting Dolls\n",
      "</td><td>\n",
      "Hand-painted by trained monkeys, these exquisite dolls are priceless! And by \"priceless,\" we mean \"extremely expensive\"! <span class=\"excitingNote\">8 entire dolls per set! Octuple the presents!</span>\n",
      "</td><td>\n",
      "$10,000.52\n",
      "</td><td>\n",
      "<img src=\"../img/gifts/img2.jpg\"/>\n",
      "</td></tr>\n",
      "<td>\n",
      "Russian Nesting Dolls\n",
      "</td>\n",
      "\n",
      "Russian Nesting Dolls\n",
      "\n",
      "<td>\n",
      "Hand-painted by trained monkeys, these exquisite dolls are priceless! And by \"priceless,\" we mean \"extremely expensive\"! <span class=\"excitingNote\">8 entire dolls per set! Octuple the presents!</span>\n",
      "</td>\n",
      "\n",
      "Hand-painted by trained monkeys, these exquisite dolls are priceless! And by \"priceless,\" we mean \"extremely expensive\"! \n",
      "<span class=\"excitingNote\">8 entire dolls per set! Octuple the presents!</span>\n",
      "8 entire dolls per set! Octuple the presents!\n",
      "\n",
      "\n",
      "<td>\n",
      "$10,000.52\n",
      "</td>\n",
      "\n",
      "$10,000.52\n",
      "\n",
      "<td>\n",
      "<img src=\"../img/gifts/img2.jpg\"/>\n",
      "</td>\n",
      "\n",
      "\n",
      "<img src=\"../img/gifts/img2.jpg\"/>\n",
      "\n",
      "\n",
      "\n",
      "\n",
      "<tr class=\"gift\" id=\"gift3\"><td>\n",
      "Fish Painting\n",
      "</td><td>\n",
      "If something seems fishy about this painting, it's because it's a fish! <span class=\"excitingNote\">Also hand-painted by trained monkeys!</span>\n",
      "</td><td>\n",
      "$10,005.00\n",
      "</td><td>\n",
      "<img src=\"../img/gifts/img3.jpg\"/>\n",
      "</td></tr>\n",
      "<td>\n",
      "Fish Painting\n",
      "</td>\n",
      "\n",
      "Fish Painting\n",
      "\n",
      "<td>\n",
      "If something seems fishy about this painting, it's because it's a fish! <span class=\"excitingNote\">Also hand-painted by trained monkeys!</span>\n",
      "</td>\n",
      "\n",
      "If something seems fishy about this painting, it's because it's a fish! \n",
      "<span class=\"excitingNote\">Also hand-painted by trained monkeys!</span>\n",
      "Also hand-painted by trained monkeys!\n",
      "\n",
      "\n",
      "<td>\n",
      "$10,005.00\n",
      "</td>\n",
      "\n",
      "$10,005.00\n",
      "\n",
      "<td>\n",
      "<img src=\"../img/gifts/img3.jpg\"/>\n",
      "</td>\n",
      "\n",
      "\n",
      "<img src=\"../img/gifts/img3.jpg\"/>\n",
      "\n",
      "\n",
      "\n",
      "\n",
      "<tr class=\"gift\" id=\"gift4\"><td>\n",
      "Dead Parrot\n",
      "</td><td>\n",
      "This is an ex-parrot! <span class=\"excitingNote\">Or maybe he's only resting?</span>\n",
      "</td><td>\n",
      "$0.50\n",
      "</td><td>\n",
      "<img src=\"../img/gifts/img4.jpg\"/>\n",
      "</td></tr>\n",
      "<td>\n",
      "Dead Parrot\n",
      "</td>\n",
      "\n",
      "Dead Parrot\n",
      "\n",
      "<td>\n",
      "This is an ex-parrot! <span class=\"excitingNote\">Or maybe he's only resting?</span>\n",
      "</td>\n",
      "\n",
      "This is an ex-parrot! \n",
      "<span class=\"excitingNote\">Or maybe he's only resting?</span>\n",
      "Or maybe he's only resting?\n",
      "\n",
      "\n",
      "<td>\n",
      "$0.50\n",
      "</td>\n",
      "\n",
      "$0.50\n",
      "\n",
      "<td>\n",
      "<img src=\"../img/gifts/img4.jpg\"/>\n",
      "</td>\n",
      "\n",
      "\n",
      "<img src=\"../img/gifts/img4.jpg\"/>\n",
      "\n",
      "\n",
      "\n",
      "\n",
      "<tr class=\"gift\" id=\"gift5\"><td>\n",
      "Mystery Box\n",
      "</td><td>\n",
      "If you love suprises, this mystery box is for you! Do not place on light-colored surfaces. May cause oil staining. <span class=\"excitingNote\">Keep your friends guessing!</span>\n",
      "</td><td>\n",
      "$1.50\n",
      "</td><td>\n",
      "<img src=\"../img/gifts/img6.jpg\"/>\n",
      "</td></tr>\n",
      "<td>\n",
      "Mystery Box\n",
      "</td>\n",
      "\n",
      "Mystery Box\n",
      "\n",
      "<td>\n",
      "If you love suprises, this mystery box is for you! Do not place on light-colored surfaces. May cause oil staining. <span class=\"excitingNote\">Keep your friends guessing!</span>\n",
      "</td>\n",
      "\n",
      "If you love suprises, this mystery box is for you! Do not place on light-colored surfaces. May cause oil staining. \n",
      "<span class=\"excitingNote\">Keep your friends guessing!</span>\n",
      "Keep your friends guessing!\n",
      "\n",
      "\n",
      "<td>\n",
      "$1.50\n",
      "</td>\n",
      "\n",
      "$1.50\n",
      "\n",
      "<td>\n",
      "<img src=\"../img/gifts/img6.jpg\"/>\n",
      "</td>\n",
      "\n",
      "\n",
      "<img src=\"../img/gifts/img6.jpg\"/>\n",
      "\n",
      "\n",
      "\n",
      "\n"
     ]
    }
   ],
   "source": [
    "for child in bs.find('table', {'id':'giftList'}).descendants:\n",
    "    print(child)"
   ]
  },
  {
   "cell_type": "markdown",
   "id": "31cc2cb6",
   "metadata": {},
   "source": [
    "# 트리 이동: 형제 다루기\n",
    " ## -형제: next_siblings 속성\n",
    "  ## -임의의 행을 선택하고 next_siblings을 선택하면,\n",
    "   ## -테이블의 다음 행들을 모두 선택 (모든 형제를 선택)"
   ]
  },
  {
   "cell_type": "code",
   "execution_count": 7,
   "id": "e9102df6",
   "metadata": {},
   "outputs": [
    {
     "name": "stdout",
     "output_type": "stream",
     "text": [
      "\n",
      "\n",
      "<tr class=\"gift\" id=\"gift1\"><td>\n",
      "Vegetable Basket\n",
      "</td><td>\n",
      "This vegetable basket is the perfect gift for your health conscious (or overweight) friends!\n",
      "<span class=\"excitingNote\">Now with super-colorful bell peppers!</span>\n",
      "</td><td>\n",
      "$15.00\n",
      "</td><td>\n",
      "<img src=\"../img/gifts/img1.jpg\"/>\n",
      "</td></tr>\n",
      "\n",
      "\n",
      "<tr class=\"gift\" id=\"gift2\"><td>\n",
      "Russian Nesting Dolls\n",
      "</td><td>\n",
      "Hand-painted by trained monkeys, these exquisite dolls are priceless! And by \"priceless,\" we mean \"extremely expensive\"! <span class=\"excitingNote\">8 entire dolls per set! Octuple the presents!</span>\n",
      "</td><td>\n",
      "$10,000.52\n",
      "</td><td>\n",
      "<img src=\"../img/gifts/img2.jpg\"/>\n",
      "</td></tr>\n",
      "\n",
      "\n",
      "<tr class=\"gift\" id=\"gift3\"><td>\n",
      "Fish Painting\n",
      "</td><td>\n",
      "If something seems fishy about this painting, it's because it's a fish! <span class=\"excitingNote\">Also hand-painted by trained monkeys!</span>\n",
      "</td><td>\n",
      "$10,005.00\n",
      "</td><td>\n",
      "<img src=\"../img/gifts/img3.jpg\"/>\n",
      "</td></tr>\n",
      "\n",
      "\n",
      "<tr class=\"gift\" id=\"gift4\"><td>\n",
      "Dead Parrot\n",
      "</td><td>\n",
      "This is an ex-parrot! <span class=\"excitingNote\">Or maybe he's only resting?</span>\n",
      "</td><td>\n",
      "$0.50\n",
      "</td><td>\n",
      "<img src=\"../img/gifts/img4.jpg\"/>\n",
      "</td></tr>\n",
      "\n",
      "\n",
      "<tr class=\"gift\" id=\"gift5\"><td>\n",
      "Mystery Box\n",
      "</td><td>\n",
      "If you love suprises, this mystery box is for you! Do not place on light-colored surfaces. May cause oil staining. <span class=\"excitingNote\">Keep your friends guessing!</span>\n",
      "</td><td>\n",
      "$1.50\n",
      "</td><td>\n",
      "<img src=\"../img/gifts/img6.jpg\"/>\n",
      "</td></tr>\n",
      "\n",
      "\n"
     ]
    }
   ],
   "source": [
    "html = urlopen('http://www.pythonscraping.com/pages/page3.html')\n",
    "bs = BeautifulSoup(html, 'html.parser')\n",
    "\n",
    "for sibling in bs.find('table', {'id':'giftList'}).tr.next_siblings:\n",
    "    print(sibling)"
   ]
  },
  {
   "cell_type": "markdown",
   "id": "68fbe29d",
   "metadata": {},
   "source": [
    "# 트리 이동: 형제 다루기\n",
    " ## previous_siblings 속성\n",
    "  ## 선택된 행 이전의 항목들을 선택"
   ]
  },
  {
   "cell_type": "code",
   "execution_count": 8,
   "id": "1ffb95f7",
   "metadata": {},
   "outputs": [
    {
     "name": "stdout",
     "output_type": "stream",
     "text": [
      "\n",
      "\n",
      "<tr class=\"gift\" id=\"gift1\"><td>\n",
      "Vegetable Basket\n",
      "</td><td>\n",
      "This vegetable basket is the perfect gift for your health conscious (or overweight) friends!\n",
      "<span class=\"excitingNote\">Now with super-colorful bell peppers!</span>\n",
      "</td><td>\n",
      "$15.00\n",
      "</td><td>\n",
      "<img src=\"../img/gifts/img1.jpg\"/>\n",
      "</td></tr>\n",
      "\n",
      "\n",
      "<tr><th>\n",
      "Item Title\n",
      "</th><th>\n",
      "Description\n",
      "</th><th>\n",
      "Cost\n",
      "</th><th>\n",
      "Image\n",
      "</th></tr>\n",
      "\n",
      "\n"
     ]
    }
   ],
   "source": [
    "for sibling in bs.find('tr', {'id':'gift2'}).previous_siblings:\n",
    "    print(sibling)"
   ]
  },
  {
   "cell_type": "markdown",
   "id": "9c2b4bb3",
   "metadata": {},
   "source": [
    "# 트리 이동: 형제 다루기\n",
    " ## next_sibling, previous_sibling\n",
    "  ## 태그 하나만 반환\n",
    "  ## 문자열 마지막에 whitespace(‘\\n’, ‘\\r’등)가 있는 경우"
   ]
  },
  {
   "cell_type": "code",
   "execution_count": 9,
   "id": "0cce8b5e",
   "metadata": {},
   "outputs": [
    {
     "name": "stdout",
     "output_type": "stream",
     "text": [
      "10\n"
     ]
    },
    {
     "data": {
      "text/plain": [
       "'\\n'"
      ]
     },
     "execution_count": 9,
     "metadata": {},
     "output_type": "execute_result"
    }
   ],
   "source": [
    "sibling1 = bs.find('tr', {'id':'gift3'}).next_sibling\n",
    "print(ord(sibling1)) # ord(문자): 문자의 Unicode 정수를 리턴  \n",
    "sibling1"
   ]
  },
  {
   "cell_type": "code",
   "execution_count": 10,
   "id": "b256212e",
   "metadata": {},
   "outputs": [
    {
     "name": "stdout",
     "output_type": "stream",
     "text": [
      "<tr class=\"gift\" id=\"gift4\"><td>\n",
      "Dead Parrot\n",
      "</td><td>\n",
      "This is an ex-parrot! <span class=\"excitingNote\">Or maybe he's only resting?</span>\n",
      "</td><td>\n",
      "$0.50\n",
      "</td><td>\n",
      "<img src=\"../img/gifts/img4.jpg\"/>\n",
      "</td></tr>\n"
     ]
    }
   ],
   "source": [
    "sibling2 = bs.find('tr', {'id':'gift3'}).next_sibling.next_sibling\n",
    "print(sibling2)"
   ]
  },
  {
   "cell_type": "markdown",
   "id": "2a24701c",
   "metadata": {},
   "source": [
    "# 트리 이동: 부모 다루기"
   ]
  },
  {
   "cell_type": "code",
   "execution_count": 11,
   "id": "8344ea79",
   "metadata": {},
   "outputs": [
    {
     "name": "stdout",
     "output_type": "stream",
     "text": [
      "<head>\n",
      "<style>\n",
      "img{\n",
      "\twidth:75px;\n",
      "}\n",
      "table{\n",
      "\twidth:50%;\n",
      "}\n",
      "td{\n",
      "\tmargin:10px;\n",
      "\tpadding:10px;\n",
      "}\n",
      ".wrapper{\n",
      "\twidth:800px;\n",
      "}\n",
      ".excitingNote{\n",
      "\tfont-style:italic;\n",
      "\tfont-weight:bold;\n",
      "}\n",
      "</style>\n",
      "</head>\n"
     ]
    }
   ],
   "source": [
    "# parent 사용\n",
    "style_tag = bs.style\n",
    "print(style_tag.parent)"
   ]
  },
  {
   "cell_type": "code",
   "execution_count": 12,
   "id": "3537ac69",
   "metadata": {},
   "outputs": [
    {
     "name": "stdout",
     "output_type": "stream",
     "text": [
      "\n",
      "$15.00\n",
      "\n"
     ]
    }
   ],
   "source": [
    "img1 = bs.find('img', {'src': '../img/gifts/img1.jpg'})\n",
    "text = img1.parent.previous_sibling.get_text()\n",
    "print(text)"
   ]
  },
  {
   "cell_type": "markdown",
   "id": "f38e5329",
   "metadata": {},
   "source": [
    "# 정규 표현식 객체 사용:\n",
    "## 정규식 객체를 생성: compile(pattern)\n",
    "## 동일 패턴을 여러 번 검색하는 경우, 편리하게 사용\n",
    "## re모듈 함수들은 pattern 파라미터 없이 호출이 가능\n",
    "## search(string, pos), match(string, pos) 등"
   ]
  },
  {
   "cell_type": "code",
   "execution_count": 24,
   "id": "94ae6198",
   "metadata": {},
   "outputs": [
    {
     "name": "stdout",
     "output_type": "stream",
     "text": [
      "None\n",
      "<re.Match object; span=(7, 12), match='apple'>\n",
      "<re.Match object; span=(0, 6), match='python'>\n",
      "<re.Match object; span=(2, 6), match='like'>\n",
      "like\n"
     ]
    }
   ],
   "source": [
    "import re\n",
    "# compile() 사용 안함\n",
    "m = re.match('[a-z]+', 'Python')\n",
    "print(m)\n",
    "print(re.search('apple', 'I like apple!'))\n",
    "\n",
    "# compile() 사용\n",
    "p = re.compile('[a-z]+') # 알파벳 소문자\n",
    "m = p.match('python')\n",
    "print(m)\n",
    "print(p.search('I like apple 123'))\n",
    "print(p.search('I like apple 123').group(0)) #group(), group(0): 매칭되는 전체문자열 리턴"
   ]
  },
  {
   "cell_type": "markdown",
   "id": "5bd12157",
   "metadata": {},
   "source": [
    "# findall() 함수 - 일치하는 모든 문자열을 리스트로 리턴"
   ]
  },
  {
   "cell_type": "code",
   "execution_count": 15,
   "id": "ec64dfaa",
   "metadata": {},
   "outputs": [
    {
     "name": "stdout",
     "output_type": "stream",
     "text": [
      "['life', 'is', 'too', 'short']\n"
     ]
    }
   ],
   "source": [
    "# 정규 표현식 예제\n",
    "# findall() 함수 - 일치하는 모든 문자열을 리스트로 리턴\n",
    "p = re.compile('[a-z]+') # 알파벳 소문자\n",
    "print(p.findall('life is too short'))"
   ]
  },
  {
   "cell_type": "markdown",
   "id": "592b86cb",
   "metadata": {},
   "source": [
    "# search() 함수 일치하는 첫 번째 문자열만 리턴"
   ]
  },
  {
   "cell_type": "code",
   "execution_count": 25,
   "id": "b21d3e36",
   "metadata": {},
   "outputs": [
    {
     "name": "stdout",
     "output_type": "stream",
     "text": [
      "<re.Match object; span=(2, 6), match='like'>\n"
     ]
    }
   ],
   "source": [
    "result = p.search('I like apple 123')\n",
    "print(result)"
   ]
  },
  {
   "cell_type": "code",
   "execution_count": 26,
   "id": "48ba5d9b",
   "metadata": {},
   "outputs": [
    {
     "name": "stdout",
     "output_type": "stream",
     "text": [
      "['like', 'apple']\n"
     ]
    }
   ],
   "source": [
    "result = p.findall('I like apple 123')\n",
    "print(result)"
   ]
  },
  {
   "cell_type": "code",
   "execution_count": 27,
   "id": "1beedab7",
   "metadata": {},
   "outputs": [
    {
     "name": "stdout",
     "output_type": "stream",
     "text": [
      "like\n"
     ]
    }
   ],
   "source": [
    "result = p.findall('I like apple 123')\n",
    "print(result[0])"
   ]
  },
  {
   "cell_type": "markdown",
   "id": "b1c862c8",
   "metadata": {},
   "source": [
    "# 전화 번호 분석"
   ]
  },
  {
   "cell_type": "code",
   "execution_count": 28,
   "id": "3771816b",
   "metadata": {},
   "outputs": [
    {
     "name": "stdout",
     "output_type": "stream",
     "text": [
      "<re.Match object; span=(0, 11), match='02-123-4567'>\n",
      "None\n",
      "None\n"
     ]
    }
   ],
   "source": [
    "import re\n",
    "# ^ .. $ 을 명시해야 정확한 자리수 검사가 이루어짐\n",
    "tel_checker = re.compile(\"^(\\d{2,3})-(\\d{3,4})-(\\d{4})$\")\n",
    "\n",
    "print(tel_checker.match('02-123-4567'))\n",
    "print(tel_checker.match('053-950-45678'))\n",
    "print(tel_checker.match('053950-4567'))"
   ]
  },
  {
   "cell_type": "code",
   "execution_count": 29,
   "id": "ea951828",
   "metadata": {},
   "outputs": [
    {
     "name": "stdout",
     "output_type": "stream",
     "text": [
      "('02', '123', '4567')\n"
     ]
    }
   ],
   "source": [
    "# groups(): 매칭 결과를 튜플로 출력\n",
    "m = tel_checker.match('02-123-4567')\n",
    "print(m.groups())"
   ]
  },
  {
   "cell_type": "code",
   "execution_count": 31,
   "id": "2bc750ab",
   "metadata": {},
   "outputs": [
    {
     "name": "stdout",
     "output_type": "stream",
     "text": [
      "group(): 02-123-4567\n",
      "group(1): 02\n",
      "group(2,3) ('123', '4567')\n",
      "start(): 0\n",
      "end(): 11\n"
     ]
    }
   ],
   "source": [
    "# 전화 번호 분석\n",
    "# group()\n",
    "# 매칭된 전체 문자열 반환\n",
    "# group(index)\n",
    "# 해당 인덱스에 매칭된 문자열 반환\n",
    "# index=0: 전체 리턴\n",
    "m = tel_checker.match('02-123-4567')\n",
    "print('group():', m.group())\n",
    "print('group(1):', m.group(1))\n",
    "print('group(2,3)', m.group(2,3))\n",
    "print('start():', m.start()) # 매칭된 전체 문자열의 시작 인덱스\n",
    "print('end():', m.end()) # 마지막 인덱스 + 1"
   ]
  },
  {
   "cell_type": "code",
   "execution_count": 32,
   "id": "3cdd6d11",
   "metadata": {},
   "outputs": [],
   "source": [
    "# 전방 긍정 탐색\n",
    "# 패턴과 일치하는 문자열을 만나면 패턴 앞의 문자열 반환\n",
    "#(?=패턴)\n",
    "# 전방 부정 탐색\n",
    "# 패턴과 일치하지 않는 문자열을 만나면 해당 문자열 반환\n",
    "# (?!패턴)"
   ]
  },
  {
   "cell_type": "code",
   "execution_count": 33,
   "id": "b71ad822",
   "metadata": {},
   "outputs": [
    {
     "name": "stdout",
     "output_type": "stream",
     "text": [
      "<re.Match object; span=(0, 5), match='1000 '>\n",
      "<re.Match object; span=(0, 24), match='2022-07-01 00:00:01 ABC.'>\n",
      "<re.Match object; span=(9, 13), match='5678'>\n"
     ]
    }
   ],
   "source": [
    "import re\n",
    "# 전방 긍정 탐색\n",
    "lookahead1 = re.search('.+(?=won)', '1000 won')\n",
    "print(lookahead1)\n",
    "\n",
    "lookahead2 = re.search('.+(?=log:)', '2022-07-01 00:00:01 ABC.log: 전방탐색')\n",
    "print(lookahead2)\n",
    "\n",
    "# 전방 부정 탐색\n",
    "lookahead3 = re.search('\\d{4}(?!-)', '010-1234-5678')\n",
    "print(lookahead3)"
   ]
  },
  {
   "cell_type": "code",
   "execution_count": 34,
   "id": "86ba3a2e",
   "metadata": {},
   "outputs": [],
   "source": [
    "# 후방 탐색\n",
    "# 후방 긍정 탐색\n",
    "# 패턴과 일치하는 문자열을 만나면 패턴 뒤의 문자열 반환\n",
    "# (?<=패턴)\n",
    "# 후방 부정 탐색\n",
    "# 패턴과 일치하지 않는 문자열을 만나면 해당 문자열 반환\n",
    "# (?<!패턴)"
   ]
  },
  {
   "cell_type": "code",
   "execution_count": 35,
   "id": "f6cbac7e",
   "metadata": {},
   "outputs": [
    {
     "name": "stdout",
     "output_type": "stream",
     "text": [
      "<re.Match object; span=(28, 43), match=' this is python'>\n",
      "<re.Match object; span=(4, 8), match=' $51'>\n",
      "<re.Match object; span=(15, 18), match='100'>\n",
      "<re.Match object; span=(15, 18), match='100'>\n"
     ]
    }
   ],
   "source": [
    "# 후방 긍정 탐색\n",
    "lookbehind1 = re.search('(?<=log:).+', '2022-07-01 00:00:01 ABC.log: this is python')\n",
    "print(lookbehind1)\n",
    "lookbehind2 = re.search('(?<=:).+', 'USD: $51')\n",
    "print(lookbehind2)\n",
    "# 후방 부정 탐색(\\b: 공백(blank)검색)\n",
    "lookbehind3 = re.search('\\\\b(?<!\\$)\\\\d+\\\\b', 'I paid $30 for 100 apples.')\n",
    "print(lookbehind3)\n",
    "lookbehind4 = re.search(r'\\b(?<!\\$)\\d+\\b', 'I paid $30 for 100 apples.')\n",
    "print(lookbehind4)"
   ]
  },
  {
   "cell_type": "code",
   "execution_count": 38,
   "id": "092128f5",
   "metadata": {},
   "outputs": [
    {
     "name": "stdout",
     "output_type": "stream",
     "text": [
      "<img src=\"../img/gifts/img1.jpg\"/>, ../img/gifts/img1.jpg\n",
      "<img src=\"../img/gifts/img2.jpg\"/>, ../img/gifts/img2.jpg\n",
      "<img src=\"../img/gifts/img3.jpg\"/>, ../img/gifts/img3.jpg\n",
      "<img src=\"../img/gifts/img4.jpg\"/>, ../img/gifts/img4.jpg\n",
      "<img src=\"../img/gifts/img6.jpg\"/>, ../img/gifts/img6.jpg\n"
     ]
    }
   ],
   "source": [
    "# BeautifulSoup의 문자열을 받는 함수들\n",
    "# 정규 표현식을 매개 변수로 받을 수 있음\n",
    "# 제품 이미지 검색:\n",
    "# <img src=“...”> 태그의 속성[‘src’] 사용\n",
    "from urllib.request import urlopen\n",
    "from bs4 import BeautifulSoup\n",
    "import re\n",
    "html = urlopen('http://www.pythonscraping.com/pages/page3.html')\n",
    "bs = BeautifulSoup(html, 'html.parser')\n",
    "#img_tag = re.compile('\\.\\.\\/img\\/gifts/img.*\\.jpg')\n",
    "img_tag = re.compile('/img/gifts/img.*.jpg') # ‘.*’ 임의의 한 문자 0회 이상\n",
    "images = bs.find_all('img', {'src': img_tag})\n",
    "for image in images:\n",
    "    print(image, end=', ')\n",
    "    print(image['src'])"
   ]
  },
  {
   "cell_type": "code",
   "execution_count": 39,
   "id": "ae495b38",
   "metadata": {},
   "outputs": [
    {
     "name": "stdout",
     "output_type": "stream",
     "text": [
      "the prince count:  7\n",
      "T|the prince count: 11\n"
     ]
    }
   ],
   "source": [
    "# 대소문자 구분없이 특정 단어 검색\n",
    "# ‘[T|t]{1}he prince’\n",
    "#  T 또는 t가 1회\n",
    "from urllib.request import urlopen\n",
    "from bs4 import BeautifulSoup\n",
    "import re\n",
    "\n",
    "html = urlopen('http://www.pythonscraping.com/pages/warandpeace.html')\n",
    "bs = BeautifulSoup(html, 'html.parser')\n",
    "\n",
    "princeList = bs.find_all(text='the prince')\n",
    "print('the prince count: ', len(princeList))\n",
    "\n",
    "# find_all()에 정규식 사용\n",
    "prince_list = bs.find_all(text=re.compile('[T|t]{1}he prince'))\n",
    "print('T|the prince count:', len(prince_list))"
   ]
  },
  {
   "cell_type": "markdown",
   "id": "f75ab59b",
   "metadata": {},
   "source": [
    "# Tag 속성 접근"
   ]
  },
  {
   "cell_type": "code",
   "execution_count": 40,
   "id": "0af0be41",
   "metadata": {},
   "outputs": [
    {
     "name": "stdout",
     "output_type": "stream",
     "text": [
      "<img src=\"../img/gifts/img1.jpg\"/>\n",
      "{'src': '../img/gifts/img1.jpg'}\n"
     ]
    }
   ],
   "source": [
    "from bs4 import BeautifulSoup\n",
    "\n",
    "soup = BeautifulSoup('<img src=../img/gifts/img1.jpg>', 'html.parser')\n",
    "img_tag = soup.img\n",
    "\n",
    "print(img_tag)\n",
    "print(img_tag.attrs) # dictionary 형태로"
   ]
  },
  {
   "cell_type": "code",
   "execution_count": 42,
   "id": "7bea6b24",
   "metadata": {},
   "outputs": [
    {
     "name": "stdout",
     "output_type": "stream",
     "text": [
      "<a href=\"https://www.naver.com\">Naver</a>\n",
      "https://www.naver.com\n",
      "find: <a href=\"https://www.naver.com\">Naver</a>\n",
      "https://www.naver.com\n"
     ]
    }
   ],
   "source": [
    "html = '<a href=\"https://www.naver.com\">Naver</a>'\n",
    "soup = BeautifulSoup(html, 'html.parser')\n",
    "                     \n",
    "link = soup.a # <a>태그 지정\n",
    "print(link)\n",
    "print(link.attrs['href']) # <a> 태그의 href 속성 접근\n",
    "                     \n",
    "link1 = soup.find('a')\n",
    "print('find:', link1)\n",
    "print(link1.attrs['href'])"
   ]
  },
  {
   "cell_type": "code",
   "execution_count": null,
   "id": "c5383403",
   "metadata": {},
   "outputs": [],
   "source": []
  }
 ],
 "metadata": {
  "kernelspec": {
   "display_name": "Python 3 (ipykernel)",
   "language": "python",
   "name": "python3"
  },
  "language_info": {
   "codemirror_mode": {
    "name": "ipython",
    "version": 3
   },
   "file_extension": ".py",
   "mimetype": "text/x-python",
   "name": "python",
   "nbconvert_exporter": "python",
   "pygments_lexer": "ipython3",
   "version": "3.9.12"
  }
 },
 "nbformat": 4,
 "nbformat_minor": 5
}
