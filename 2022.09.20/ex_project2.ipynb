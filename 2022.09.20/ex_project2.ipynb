{
 "cells": [
  {
   "cell_type": "code",
   "execution_count": 4,
   "id": "06e99088",
   "metadata": {},
   "outputs": [],
   "source": [
    "# 모듈 로딩\n",
    "import os\n",
    "import cv2\n",
    "import numpy as np\n",
    "import pandas as pd\n",
    "import matplotlib.pyplot as plt\n",
    "from PIL import Image\n",
    "from bs4 import BeautifulSoup\n",
    "from selenium import webdriver\n",
    "from tensorflow.keras import Sequential\n",
    "from sklearn.utils import all_estimators\n",
    "from sklearn.linear_model import LogisticRegression\n",
    "from sklearn.model_selection import train_test_split\n",
    "from urllib.request import urlopen,Request,urlretrieve\n",
    "from tensorflow.keras.utils import set_random_seed, plot_model\n",
    "from tensorflow.keras.layers import Dense, Conv2D, Flatten, MaxPool2D"
   ]
  },
  {
   "cell_type": "code",
   "execution_count": 38,
   "id": "e0f0b617",
   "metadata": {},
   "outputs": [],
   "source": [
    "DIR='./color_image.csv'\n",
    "DIR1='./black_white_image.csv'\n",
    "DIR2='./target.csv'\n",
    "\n",
    "colDF=pd.read_csv(DIR)\n",
    "blaDF=pd.read_csv(DIR1)\n",
    "tarDF=pd.read_csv(DIR2)"
   ]
  },
  {
   "cell_type": "code",
   "execution_count": 6,
   "id": "4dda917f",
   "metadata": {},
   "outputs": [
    {
     "name": "stdout",
     "output_type": "stream",
     "text": [
      "<class 'pandas.core.frame.DataFrame'>\n",
      "RangeIndex: 4312 entries, 0 to 4311\n",
      "Columns: 2500 entries, 0 to 2499\n",
      "dtypes: float64(2500)\n",
      "memory usage: 82.2 MB\n"
     ]
    },
    {
     "data": {
      "text/html": [
       "<div>\n",
       "<style scoped>\n",
       "    .dataframe tbody tr th:only-of-type {\n",
       "        vertical-align: middle;\n",
       "    }\n",
       "\n",
       "    .dataframe tbody tr th {\n",
       "        vertical-align: top;\n",
       "    }\n",
       "\n",
       "    .dataframe thead th {\n",
       "        text-align: right;\n",
       "    }\n",
       "</style>\n",
       "<table border=\"1\" class=\"dataframe\">\n",
       "  <thead>\n",
       "    <tr style=\"text-align: right;\">\n",
       "      <th></th>\n",
       "      <th>0</th>\n",
       "      <th>1</th>\n",
       "      <th>2</th>\n",
       "      <th>3</th>\n",
       "      <th>4</th>\n",
       "      <th>5</th>\n",
       "      <th>6</th>\n",
       "      <th>7</th>\n",
       "      <th>8</th>\n",
       "      <th>9</th>\n",
       "      <th>...</th>\n",
       "      <th>2490</th>\n",
       "      <th>2491</th>\n",
       "      <th>2492</th>\n",
       "      <th>2493</th>\n",
       "      <th>2494</th>\n",
       "      <th>2495</th>\n",
       "      <th>2496</th>\n",
       "      <th>2497</th>\n",
       "      <th>2498</th>\n",
       "      <th>2499</th>\n",
       "    </tr>\n",
       "  </thead>\n",
       "  <tbody>\n",
       "    <tr>\n",
       "      <th>0</th>\n",
       "      <td>1.000000</td>\n",
       "      <td>1.000000</td>\n",
       "      <td>1.000000</td>\n",
       "      <td>1.000000</td>\n",
       "      <td>1.000000</td>\n",
       "      <td>1.000000</td>\n",
       "      <td>1.000000</td>\n",
       "      <td>1.000000</td>\n",
       "      <td>1.00000</td>\n",
       "      <td>1.000000</td>\n",
       "      <td>...</td>\n",
       "      <td>0.109804</td>\n",
       "      <td>0.094118</td>\n",
       "      <td>0.098039</td>\n",
       "      <td>0.760784</td>\n",
       "      <td>0.756863</td>\n",
       "      <td>0.760784</td>\n",
       "      <td>1.000000</td>\n",
       "      <td>1.000000</td>\n",
       "      <td>1.000000</td>\n",
       "      <td>1.000000</td>\n",
       "    </tr>\n",
       "    <tr>\n",
       "      <th>1</th>\n",
       "      <td>0.094118</td>\n",
       "      <td>0.094118</td>\n",
       "      <td>0.094118</td>\n",
       "      <td>0.592157</td>\n",
       "      <td>0.592157</td>\n",
       "      <td>0.592157</td>\n",
       "      <td>1.000000</td>\n",
       "      <td>1.000000</td>\n",
       "      <td>1.00000</td>\n",
       "      <td>1.000000</td>\n",
       "      <td>...</td>\n",
       "      <td>0.972549</td>\n",
       "      <td>0.972549</td>\n",
       "      <td>0.972549</td>\n",
       "      <td>1.000000</td>\n",
       "      <td>1.000000</td>\n",
       "      <td>1.000000</td>\n",
       "      <td>1.000000</td>\n",
       "      <td>1.000000</td>\n",
       "      <td>1.000000</td>\n",
       "      <td>0.819608</td>\n",
       "    </tr>\n",
       "    <tr>\n",
       "      <th>2</th>\n",
       "      <td>0.423529</td>\n",
       "      <td>0.419608</td>\n",
       "      <td>0.431373</td>\n",
       "      <td>0.984314</td>\n",
       "      <td>0.984314</td>\n",
       "      <td>0.984314</td>\n",
       "      <td>0.870588</td>\n",
       "      <td>0.870588</td>\n",
       "      <td>0.87451</td>\n",
       "      <td>0.921569</td>\n",
       "      <td>...</td>\n",
       "      <td>0.400000</td>\n",
       "      <td>0.396078</td>\n",
       "      <td>0.411765</td>\n",
       "      <td>0.435294</td>\n",
       "      <td>0.431373</td>\n",
       "      <td>0.447059</td>\n",
       "      <td>0.635294</td>\n",
       "      <td>0.631373</td>\n",
       "      <td>0.639216</td>\n",
       "      <td>0.796078</td>\n",
       "    </tr>\n",
       "    <tr>\n",
       "      <th>3</th>\n",
       "      <td>0.094118</td>\n",
       "      <td>0.094118</td>\n",
       "      <td>0.094118</td>\n",
       "      <td>0.592157</td>\n",
       "      <td>0.592157</td>\n",
       "      <td>0.592157</td>\n",
       "      <td>1.000000</td>\n",
       "      <td>1.000000</td>\n",
       "      <td>1.00000</td>\n",
       "      <td>1.000000</td>\n",
       "      <td>...</td>\n",
       "      <td>0.972549</td>\n",
       "      <td>0.972549</td>\n",
       "      <td>0.972549</td>\n",
       "      <td>0.741176</td>\n",
       "      <td>0.741176</td>\n",
       "      <td>0.745098</td>\n",
       "      <td>0.996078</td>\n",
       "      <td>0.996078</td>\n",
       "      <td>0.996078</td>\n",
       "      <td>1.000000</td>\n",
       "    </tr>\n",
       "    <tr>\n",
       "      <th>4</th>\n",
       "      <td>1.000000</td>\n",
       "      <td>1.000000</td>\n",
       "      <td>1.000000</td>\n",
       "      <td>1.000000</td>\n",
       "      <td>1.000000</td>\n",
       "      <td>1.000000</td>\n",
       "      <td>1.000000</td>\n",
       "      <td>1.000000</td>\n",
       "      <td>1.00000</td>\n",
       "      <td>1.000000</td>\n",
       "      <td>...</td>\n",
       "      <td>0.964706</td>\n",
       "      <td>0.964706</td>\n",
       "      <td>0.964706</td>\n",
       "      <td>1.000000</td>\n",
       "      <td>1.000000</td>\n",
       "      <td>1.000000</td>\n",
       "      <td>1.000000</td>\n",
       "      <td>1.000000</td>\n",
       "      <td>1.000000</td>\n",
       "      <td>0.811765</td>\n",
       "    </tr>\n",
       "  </tbody>\n",
       "</table>\n",
       "<p>5 rows × 2500 columns</p>\n",
       "</div>"
      ],
      "text/plain": [
       "          0         1         2         3         4         5         6  \\\n",
       "0  1.000000  1.000000  1.000000  1.000000  1.000000  1.000000  1.000000   \n",
       "1  0.094118  0.094118  0.094118  0.592157  0.592157  0.592157  1.000000   \n",
       "2  0.423529  0.419608  0.431373  0.984314  0.984314  0.984314  0.870588   \n",
       "3  0.094118  0.094118  0.094118  0.592157  0.592157  0.592157  1.000000   \n",
       "4  1.000000  1.000000  1.000000  1.000000  1.000000  1.000000  1.000000   \n",
       "\n",
       "          7        8         9  ...      2490      2491      2492      2493  \\\n",
       "0  1.000000  1.00000  1.000000  ...  0.109804  0.094118  0.098039  0.760784   \n",
       "1  1.000000  1.00000  1.000000  ...  0.972549  0.972549  0.972549  1.000000   \n",
       "2  0.870588  0.87451  0.921569  ...  0.400000  0.396078  0.411765  0.435294   \n",
       "3  1.000000  1.00000  1.000000  ...  0.972549  0.972549  0.972549  0.741176   \n",
       "4  1.000000  1.00000  1.000000  ...  0.964706  0.964706  0.964706  1.000000   \n",
       "\n",
       "       2494      2495      2496      2497      2498      2499  \n",
       "0  0.756863  0.760784  1.000000  1.000000  1.000000  1.000000  \n",
       "1  1.000000  1.000000  1.000000  1.000000  1.000000  0.819608  \n",
       "2  0.431373  0.447059  0.635294  0.631373  0.639216  0.796078  \n",
       "3  0.741176  0.745098  0.996078  0.996078  0.996078  1.000000  \n",
       "4  1.000000  1.000000  1.000000  1.000000  1.000000  0.811765  \n",
       "\n",
       "[5 rows x 2500 columns]"
      ]
     },
     "execution_count": 6,
     "metadata": {},
     "output_type": "execute_result"
    }
   ],
   "source": [
    "colDF.info()\n",
    "colDF.head()"
   ]
  },
  {
   "cell_type": "code",
   "execution_count": 7,
   "id": "41efb60f",
   "metadata": {},
   "outputs": [],
   "source": [
    "colDF=colDF.to_numpy()\n",
    "blaDF=blaDF.to_numpy()"
   ]
  },
  {
   "cell_type": "code",
   "execution_count": 8,
   "id": "aad954b5",
   "metadata": {},
   "outputs": [],
   "source": [
    "colDF=colDF/255.0"
   ]
  },
  {
   "cell_type": "code",
   "execution_count": 9,
   "id": "414bf0aa",
   "metadata": {},
   "outputs": [
    {
     "data": {
      "text/plain": [
       "((4312, 2500), (4312, 2500))"
      ]
     },
     "execution_count": 9,
     "metadata": {},
     "output_type": "execute_result"
    }
   ],
   "source": [
    "colDF.shape , blaDF.shape"
   ]
  },
  {
   "cell_type": "code",
   "execution_count": 10,
   "id": "eb43d1f7",
   "metadata": {},
   "outputs": [],
   "source": [
    "a = colDF[2000].reshape(50,50)"
   ]
  },
  {
   "cell_type": "code",
   "execution_count": 11,
   "id": "e54b17b1",
   "metadata": {},
   "outputs": [
    {
     "data": {
      "image/png": "[encoded data removed]",
      "text/plain": [
       "<Figure size 432x288 with 1 Axes>"
      ]
     },
     "metadata": {
      "needs_background": "light"
     },
     "output_type": "display_data"
    }
   ],
   "source": [
    "plt.imshow(a)\n",
    "plt.show()"
   ]
  },
  {
   "cell_type": "code",
   "execution_count": 12,
   "id": "f7f6b155",
   "metadata": {},
   "outputs": [],
   "source": [
    "b = blaDF[2000].reshape(50,50)"
   ]
  },
  {
   "cell_type": "code",
   "execution_count": 13,
   "id": "2a9e16ad",
   "metadata": {},
   "outputs": [
    {
     "data": {
      "image/png": "[encoded data removed]",
      "text/plain": [
       "<Figure size 432x288 with 1 Axes>"
      ]
     },
     "metadata": {
      "needs_background": "light"
     },
     "output_type": "display_data"
    }
   ],
   "source": [
    "plt.imshow(b, cmap='gray')\n",
    "plt.show()"
   ]
  },
  {
   "cell_type": "code",
   "execution_count": null,
   "id": "b229c7d7",
   "metadata": {},
   "outputs": [],
   "source": []
  },
  {
   "cell_type": "code",
   "execution_count": 14,
   "id": "09a28229",
   "metadata": {},
   "outputs": [],
   "source": [
    "# 크롤링 데이터 로테이션시키는 함수\n",
    "def rota_save(color,foldname):\n",
    "    # 폴더 만들기\n",
    "    if not os.path.exists('./'+foldname):\n",
    "        os.makedirs(foldname)\n",
    "    \n",
    "    rotation=[45,90,135,180,225,270,315]\n",
    "    for file in os.listdir('./data/'):\n",
    "        for rot in rotation:\n",
    "            img=np.array(Image.open('./data/'+file).convert(color))\n",
    "            rows,cols = img.shape[0:2]\n",
    "            ro_mt = cv2.getRotationMatrix2D((cols/2,rows/2),rot,1.42)\n",
    "            ro_img = cv2.warpAffine(img, ro_mt,(cols, rows))\n",
    "            \n",
    "            # 이미지 저장\n",
    "            filename=f\"{file}_ro{str(rot)}\"\n",
    "            cv2.imwrite('./'+foldname+'/'+filename+'.png',ro_img)"
   ]
  },
  {
   "cell_type": "code",
   "execution_count": 15,
   "id": "536f931a",
   "metadata": {},
   "outputs": [],
   "source": [
    "# 크롤링 데이터 convert 함수\n",
    "def data_con(color,foldname):\n",
    "    for file in os.listdir('./data/'):\n",
    "        img=Image.open('./data/'+file).convert(color).save('./'+foldname+'/'+file)"
   ]
  },
  {
   "cell_type": "code",
   "execution_count": 16,
   "id": "0eab6c56",
   "metadata": {},
   "outputs": [],
   "source": [
    "# 흑백으로 로테이션\n",
    "rota_save('L','blwh')"
   ]
  },
  {
   "cell_type": "code",
   "execution_count": 17,
   "id": "02dde25c",
   "metadata": {},
   "outputs": [],
   "source": [
    "# rgb로 로테이션\n",
    "rota_save('RGB','rgb')"
   ]
  },
  {
   "cell_type": "code",
   "execution_count": 18,
   "id": "801867fe",
   "metadata": {},
   "outputs": [],
   "source": [
    "# 원본사진 흑백으로\n",
    "data_con('L','blwh')"
   ]
  },
  {
   "cell_type": "code",
   "execution_count": 19,
   "id": "2d3759d9",
   "metadata": {},
   "outputs": [],
   "source": [
    "# 원본사진 색깔로\n",
    "data_con('RGB','rgb')"
   ]
  },
  {
   "cell_type": "code",
   "execution_count": null,
   "id": "803cc0c2",
   "metadata": {},
   "outputs": [],
   "source": []
  },
  {
   "cell_type": "code",
   "execution_count": 20,
   "id": "ee26918a",
   "metadata": {},
   "outputs": [],
   "source": [
    "def solution(foldname):\n",
    "    l=[]\n",
    "    for i in os.listdir('./'+foldname+'/'):\n",
    "        n=np.array(Image.open('./'+foldname+'/'+i))/255.0\n",
    "        if foldname=='blwh':\n",
    "           n_list=n.reshape(-1,50*50)[0].tolist()\n",
    "        else:\n",
    "            n_list=n.reshape(-1,50*50,3)[0].tolist()\n",
    "        l.append(n_list)\n",
    "    return np.array(l)"
   ]
  },
  {
   "cell_type": "code",
   "execution_count": 21,
   "id": "6d16c2e0",
   "metadata": {},
   "outputs": [
    {
     "data": {
      "text/plain": [
       "array([[1.        , 1.        , 1.        , ..., 1.        , 1.        ,\n",
       "        1.        ],\n",
       "       [0.09411765, 0.59215686, 1.        , ..., 1.        , 1.        ,\n",
       "        1.        ],\n",
       "       [0.42352941, 0.98431373, 0.87058824, ..., 1.        , 1.        ,\n",
       "        1.        ],\n",
       "       ...,\n",
       "       [0.75294118, 0.52941176, 0.34901961, ..., 0.69803922, 0.83921569,\n",
       "        0.97254902],\n",
       "       [0.99215686, 0.99607843, 0.99607843, ..., 0.94509804, 0.99215686,\n",
       "        0.99215686],\n",
       "       [0.30980392, 0.30980392, 0.30980392, ..., 0.30980392, 0.30980392,\n",
       "        0.30980392]])"
      ]
     },
     "execution_count": 21,
     "metadata": {},
     "output_type": "execute_result"
    }
   ],
   "source": [
    "blwh=solution('blwh')\n",
    "blwh"
   ]
  },
  {
   "cell_type": "code",
   "execution_count": 22,
   "id": "57a22cc9",
   "metadata": {},
   "outputs": [
    {
     "data": {
      "text/plain": [
       "array([[[1.        , 1.        , 1.        ],\n",
       "        [1.        , 1.        , 1.        ],\n",
       "        [1.        , 1.        , 1.        ],\n",
       "        ...,\n",
       "        [1.        , 1.        , 1.        ],\n",
       "        [1.        , 1.        , 1.        ],\n",
       "        [1.        , 1.        , 1.        ]],\n",
       "\n",
       "       [[0.09411765, 0.09411765, 0.09411765],\n",
       "        [0.59215686, 0.59215686, 0.59215686],\n",
       "        [1.        , 1.        , 1.        ],\n",
       "        ...,\n",
       "        [1.        , 1.        , 1.        ],\n",
       "        [1.        , 1.        , 1.        ],\n",
       "        [1.        , 1.        , 1.        ]],\n",
       "\n",
       "       [[0.42352941, 0.41960784, 0.43137255],\n",
       "        [0.98431373, 0.98431373, 0.98431373],\n",
       "        [0.87058824, 0.87058824, 0.8745098 ],\n",
       "        ...,\n",
       "        [1.        , 1.        , 1.        ],\n",
       "        [1.        , 1.        , 1.        ],\n",
       "        [1.        , 1.        , 1.        ]],\n",
       "\n",
       "       ...,\n",
       "\n",
       "       [[0.74901961, 0.74509804, 0.76078431],\n",
       "        [0.52156863, 0.52156863, 0.55294118],\n",
       "        [0.34117647, 0.35686275, 0.34117647],\n",
       "        ...,\n",
       "        [0.69019608, 0.68235294, 0.74117647],\n",
       "        [0.83137255, 0.81960784, 0.87843137],\n",
       "        [0.97254902, 0.96862745, 0.98431373]],\n",
       "\n",
       "       [[0.98823529, 0.99607843, 0.99215686],\n",
       "        [0.99215686, 0.99607843, 0.99607843],\n",
       "        [0.99607843, 0.99215686, 1.        ],\n",
       "        ...,\n",
       "        [0.95686275, 0.93333333, 0.96470588],\n",
       "        [0.99607843, 0.99215686, 0.99215686],\n",
       "        [0.99215686, 0.99607843, 0.98039216]],\n",
       "\n",
       "       [[0.23921569, 0.14117647, 0.66666667],\n",
       "        [0.23921569, 0.14117647, 0.66666667],\n",
       "        [0.23921569, 0.14117647, 0.66666667],\n",
       "        ...,\n",
       "        [0.23921569, 0.14117647, 0.66666667],\n",
       "        [0.23921569, 0.14117647, 0.66666667],\n",
       "        [0.23921569, 0.14117647, 0.66666667]]])"
      ]
     },
     "execution_count": 22,
     "metadata": {},
     "output_type": "execute_result"
    }
   ],
   "source": [
    "rgb=solution('rgb')\n",
    "rgb"
   ]
  },
  {
   "cell_type": "code",
   "execution_count": 24,
   "id": "8b7054ed",
   "metadata": {},
   "outputs": [],
   "source": [
    "# pd.DataFrame(a).to_csv('black_white_image.csv',index=False)"
   ]
  },
  {
   "cell_type": "code",
   "execution_count": 26,
   "id": "91f59d37",
   "metadata": {},
   "outputs": [
    {
     "data": {
      "text/plain": [
       "<matplotlib.image.AxesImage at 0x2518916d2b0>"
      ]
     },
     "execution_count": 26,
     "metadata": {},
     "output_type": "execute_result"
    },
    {
     "data": {
      "image/png": "[encoded data removed]",
      "text/plain": [
       "<Figure size 432x288 with 1 Axes>"
      ]
     },
     "metadata": {
      "needs_background": "light"
     },
     "output_type": "display_data"
    }
   ],
   "source": [
    "plt.imshow(blwh[3500].reshape(50,50,1))"
   ]
  },
  {
   "cell_type": "code",
   "execution_count": 27,
   "id": "533f120a",
   "metadata": {},
   "outputs": [
    {
     "data": {
      "text/plain": [
       "<matplotlib.image.AxesImage at 0x25189063df0>"
      ]
     },
     "execution_count": 27,
     "metadata": {},
     "output_type": "execute_result"
    },
    {
     "data": {
      "image/png": "[encoded data removed]",
      "text/plain": [
       "<Figure size 432x288 with 1 Axes>"
      ]
     },
     "metadata": {
      "needs_background": "light"
     },
     "output_type": "display_data"
    }
   ],
   "source": [
    "plt.imshow(rgb[3500].reshape(50,50,3))"
   ]
  },
  {
   "cell_type": "code",
   "execution_count": null,
   "id": "d6d27d92",
   "metadata": {},
   "outputs": [],
   "source": []
  },
  {
   "cell_type": "code",
   "execution_count": 39,
   "id": "fd5e7393",
   "metadata": {},
   "outputs": [
    {
     "name": "stdout",
     "output_type": "stream",
     "text": [
      "<class 'pandas.core.frame.DataFrame'>\n",
      "RangeIndex: 4312 entries, 0 to 4311\n",
      "Data columns (total 2 columns):\n",
      " #   Column  Non-Null Count  Dtype \n",
      "---  ------  --------------  ----- \n",
      " 0   name    4312 non-null   object\n",
      " 1   label   4312 non-null   int64 \n",
      "dtypes: int64(1), object(1)\n",
      "memory usage: 67.5+ KB\n"
     ]
    }
   ],
   "source": [
    "tarDF.info()"
   ]
  },
  {
   "cell_type": "code",
   "execution_count": 45,
   "id": "00aef754",
   "metadata": {},
   "outputs": [],
   "source": [
    "tarDF=np.array(tarDF.label)"
   ]
  },
  {
   "cell_type": "code",
   "execution_count": 46,
   "id": "f05e5578",
   "metadata": {},
   "outputs": [
    {
     "data": {
      "text/plain": [
       "array([ 0,  0,  0, ..., 25, 25, 25], dtype=int64)"
      ]
     },
     "execution_count": 46,
     "metadata": {},
     "output_type": "execute_result"
    }
   ],
   "source": [
    "tarDF"
   ]
  },
  {
   "cell_type": "code",
   "execution_count": 49,
   "id": "54df0d1a",
   "metadata": {},
   "outputs": [
    {
     "data": {
      "text/plain": [
       "array([[1.        , 1.        , 1.        , ..., 1.        , 1.        ,\n",
       "        1.        ],\n",
       "       [0.09411765, 0.59215686, 1.        , ..., 1.        , 1.        ,\n",
       "        1.        ],\n",
       "       [0.42352941, 0.98431373, 0.87058824, ..., 1.        , 1.        ,\n",
       "        1.        ],\n",
       "       ...,\n",
       "       [0.75294118, 0.52941176, 0.34901961, ..., 0.69803922, 0.83921569,\n",
       "        0.97254902],\n",
       "       [0.99215686, 0.99607843, 0.99607843, ..., 0.94509804, 0.99215686,\n",
       "        0.99215686],\n",
       "       [0.30980392, 0.30980392, 0.30980392, ..., 0.30980392, 0.30980392,\n",
       "        0.30980392]])"
      ]
     },
     "execution_count": 49,
     "metadata": {},
     "output_type": "execute_result"
    }
   ],
   "source": [
    "blwh"
   ]
  },
  {
   "cell_type": "code",
   "execution_count": 50,
   "id": "2a821e14",
   "metadata": {},
   "outputs": [],
   "source": [
    "# 주성분,"
   ]
  },
  {
   "cell_type": "code",
   "execution_count": null,
   "id": "49c0b6b0",
   "metadata": {},
   "outputs": [],
   "source": []
  },
  {
   "cell_type": "code",
   "execution_count": null,
   "id": "fb91411b",
   "metadata": {},
   "outputs": [],
   "source": []
  },
  {
   "cell_type": "code",
   "execution_count": null,
   "id": "ba7a3c7c",
   "metadata": {},
   "outputs": [],
   "source": []
  },
  {
   "cell_type": "code",
   "execution_count": null,
   "id": "9d716e19",
   "metadata": {},
   "outputs": [],
   "source": []
  },
  {
   "cell_type": "code",
   "execution_count": 29,
   "id": "a2a1c70a",
   "metadata": {},
   "outputs": [],
   "source": [
    "# # 정규식을 활용한 브랜드 이름 분리\n",
    "# import re\n",
    "\n",
    "# brand_name=[]\n",
    "# for b in os.listdir('./rgb/'):\n",
    "#     l=re.split(r'[0-9]',b)[0]\n",
    "#     brand_name.append(l)\n",
    "# brand_name"
   ]
  },
  {
   "cell_type": "code",
   "execution_count": 30,
   "id": "f8c23015",
   "metadata": {},
   "outputs": [],
   "source": [
    "# # 브랜드 이름 타겟으로 저장\n",
    "# com_brand='angelinus'\n",
    "# i=0\n",
    "# target=[]\n",
    "# for brand in brand_name:\n",
    "#     if com_brand==brand:\n",
    "#         target.append([brand,i])\n",
    "#     else:\n",
    "#         i+=1\n",
    "#         com_brand=brand\n",
    "#         target.append([brand,i])"
   ]
  },
  {
   "cell_type": "code",
   "execution_count": 31,
   "id": "8b511edc",
   "metadata": {},
   "outputs": [],
   "source": [
    "# target_df=pd.DataFrame(target,columns=['name','label'])\n",
    "# target_df"
   ]
  },
  {
   "cell_type": "code",
   "execution_count": null,
   "id": "e02e9706",
   "metadata": {},
   "outputs": [],
   "source": []
  }
 ],
 "metadata": {
  "kernelspec": {
   "display_name": "Python 3 (ipykernel)",
   "language": "python",
   "name": "python3"
  },
  "language_info": {
   "codemirror_mode": {
    "name": "ipython",
    "version": 3
   },
   "file_extension": ".py",
   "mimetype": "text/x-python",
   "name": "python",
   "nbconvert_exporter": "python",
   "pygments_lexer": "ipython3",
   "version": "3.9.12"
  }
 },
 "nbformat": 4,
 "nbformat_minor": 5
}
