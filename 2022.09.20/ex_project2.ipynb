{
 "cells": [
  {
   "cell_type": "code",
   "execution_count": 1,
   "id": "bfbe95dc",
   "metadata": {},
   "outputs": [],
   "source": [
    "# 모듈 로딩\n",
    "import os\n",
    "import cv2\n",
    "import numpy as np\n",
    "import pandas as pd\n",
    "import matplotlib.pyplot as plt\n",
    "from PIL import Image\n",
    "from bs4 import BeautifulSoup\n",
    "from selenium import webdriver\n",
    "from tensorflow.keras import Sequential\n",
    "from sklearn.utils import all_estimators\n",
    "from sklearn.linear_model import LogisticRegression\n",
    "from sklearn.model_selection import train_test_split\n",
    "from urllib.request import urlopen,Request,urlretrieve\n",
    "from tensorflow.keras.utils import set_random_seed, plot_model\n",
    "from tensorflow.keras.layers import Dense, Conv2D, Flatten, MaxPool2D"
   ]
  },
  {
   "cell_type": "code",
   "execution_count": 34,
   "id": "e923c6a3",
   "metadata": {},
   "outputs": [],
   "source": [
    "DIR='./color_image.csv'\n",
    "DIR1='./black_white_image.csv'\n",
    "\n",
    "colDF=pd.read_csv(DIR)\n",
    "blaDF=pd.read_csv(DIR1)"
   ]
  },
  {
   "cell_type": "code",
   "execution_count": 35,
   "id": "6d3cdd45",
   "metadata": {},
   "outputs": [
    {
     "name": "stdout",
     "output_type": "stream",
     "text": [
      "<class 'pandas.core.frame.DataFrame'>\n",
      "RangeIndex: 4312 entries, 0 to 4311\n",
      "Columns: 2500 entries, 0 to 2499\n",
      "dtypes: float64(2500)\n",
      "memory usage: 82.2 MB\n"
     ]
    },
    {
     "data": {
      "text/html": [
       "<div>\n",
       "<style scoped>\n",
       "    .dataframe tbody tr th:only-of-type {\n",
       "        vertical-align: middle;\n",
       "    }\n",
       "\n",
       "    .dataframe tbody tr th {\n",
       "        vertical-align: top;\n",
       "    }\n",
       "\n",
       "    .dataframe thead th {\n",
       "        text-align: right;\n",
       "    }\n",
       "</style>\n",
       "<table border=\"1\" class=\"dataframe\">\n",
       "  <thead>\n",
       "    <tr style=\"text-align: right;\">\n",
       "      <th></th>\n",
       "      <th>0</th>\n",
       "      <th>1</th>\n",
       "      <th>2</th>\n",
       "      <th>3</th>\n",
       "      <th>4</th>\n",
       "      <th>5</th>\n",
       "      <th>6</th>\n",
       "      <th>7</th>\n",
       "      <th>8</th>\n",
       "      <th>9</th>\n",
       "      <th>...</th>\n",
       "      <th>2490</th>\n",
       "      <th>2491</th>\n",
       "      <th>2492</th>\n",
       "      <th>2493</th>\n",
       "      <th>2494</th>\n",
       "      <th>2495</th>\n",
       "      <th>2496</th>\n",
       "      <th>2497</th>\n",
       "      <th>2498</th>\n",
       "      <th>2499</th>\n",
       "    </tr>\n",
       "  </thead>\n",
       "  <tbody>\n",
       "    <tr>\n",
       "      <th>0</th>\n",
       "      <td>1.000000</td>\n",
       "      <td>1.000000</td>\n",
       "      <td>1.000000</td>\n",
       "      <td>1.000000</td>\n",
       "      <td>1.000000</td>\n",
       "      <td>1.000000</td>\n",
       "      <td>1.000000</td>\n",
       "      <td>1.000000</td>\n",
       "      <td>1.00000</td>\n",
       "      <td>1.000000</td>\n",
       "      <td>...</td>\n",
       "      <td>0.109804</td>\n",
       "      <td>0.094118</td>\n",
       "      <td>0.098039</td>\n",
       "      <td>0.760784</td>\n",
       "      <td>0.756863</td>\n",
       "      <td>0.760784</td>\n",
       "      <td>1.000000</td>\n",
       "      <td>1.000000</td>\n",
       "      <td>1.000000</td>\n",
       "      <td>1.000000</td>\n",
       "    </tr>\n",
       "    <tr>\n",
       "      <th>1</th>\n",
       "      <td>0.094118</td>\n",
       "      <td>0.094118</td>\n",
       "      <td>0.094118</td>\n",
       "      <td>0.592157</td>\n",
       "      <td>0.592157</td>\n",
       "      <td>0.592157</td>\n",
       "      <td>1.000000</td>\n",
       "      <td>1.000000</td>\n",
       "      <td>1.00000</td>\n",
       "      <td>1.000000</td>\n",
       "      <td>...</td>\n",
       "      <td>0.972549</td>\n",
       "      <td>0.972549</td>\n",
       "      <td>0.972549</td>\n",
       "      <td>1.000000</td>\n",
       "      <td>1.000000</td>\n",
       "      <td>1.000000</td>\n",
       "      <td>1.000000</td>\n",
       "      <td>1.000000</td>\n",
       "      <td>1.000000</td>\n",
       "      <td>0.819608</td>\n",
       "    </tr>\n",
       "    <tr>\n",
       "      <th>2</th>\n",
       "      <td>0.423529</td>\n",
       "      <td>0.419608</td>\n",
       "      <td>0.431373</td>\n",
       "      <td>0.984314</td>\n",
       "      <td>0.984314</td>\n",
       "      <td>0.984314</td>\n",
       "      <td>0.870588</td>\n",
       "      <td>0.870588</td>\n",
       "      <td>0.87451</td>\n",
       "      <td>0.921569</td>\n",
       "      <td>...</td>\n",
       "      <td>0.400000</td>\n",
       "      <td>0.396078</td>\n",
       "      <td>0.411765</td>\n",
       "      <td>0.435294</td>\n",
       "      <td>0.431373</td>\n",
       "      <td>0.447059</td>\n",
       "      <td>0.635294</td>\n",
       "      <td>0.631373</td>\n",
       "      <td>0.639216</td>\n",
       "      <td>0.796078</td>\n",
       "    </tr>\n",
       "    <tr>\n",
       "      <th>3</th>\n",
       "      <td>0.094118</td>\n",
       "      <td>0.094118</td>\n",
       "      <td>0.094118</td>\n",
       "      <td>0.592157</td>\n",
       "      <td>0.592157</td>\n",
       "      <td>0.592157</td>\n",
       "      <td>1.000000</td>\n",
       "      <td>1.000000</td>\n",
       "      <td>1.00000</td>\n",
       "      <td>1.000000</td>\n",
       "      <td>...</td>\n",
       "      <td>0.972549</td>\n",
       "      <td>0.972549</td>\n",
       "      <td>0.972549</td>\n",
       "      <td>0.741176</td>\n",
       "      <td>0.741176</td>\n",
       "      <td>0.745098</td>\n",
       "      <td>0.996078</td>\n",
       "      <td>0.996078</td>\n",
       "      <td>0.996078</td>\n",
       "      <td>1.000000</td>\n",
       "    </tr>\n",
       "    <tr>\n",
       "      <th>4</th>\n",
       "      <td>1.000000</td>\n",
       "      <td>1.000000</td>\n",
       "      <td>1.000000</td>\n",
       "      <td>1.000000</td>\n",
       "      <td>1.000000</td>\n",
       "      <td>1.000000</td>\n",
       "      <td>1.000000</td>\n",
       "      <td>1.000000</td>\n",
       "      <td>1.00000</td>\n",
       "      <td>1.000000</td>\n",
       "      <td>...</td>\n",
       "      <td>0.964706</td>\n",
       "      <td>0.964706</td>\n",
       "      <td>0.964706</td>\n",
       "      <td>1.000000</td>\n",
       "      <td>1.000000</td>\n",
       "      <td>1.000000</td>\n",
       "      <td>1.000000</td>\n",
       "      <td>1.000000</td>\n",
       "      <td>1.000000</td>\n",
       "      <td>0.811765</td>\n",
       "    </tr>\n",
       "  </tbody>\n",
       "</table>\n",
       "<p>5 rows × 2500 columns</p>\n",
       "</div>"
      ],
      "text/plain": [
       "          0         1         2         3         4         5         6  \\\n",
       "0  1.000000  1.000000  1.000000  1.000000  1.000000  1.000000  1.000000   \n",
       "1  0.094118  0.094118  0.094118  0.592157  0.592157  0.592157  1.000000   \n",
       "2  0.423529  0.419608  0.431373  0.984314  0.984314  0.984314  0.870588   \n",
       "3  0.094118  0.094118  0.094118  0.592157  0.592157  0.592157  1.000000   \n",
       "4  1.000000  1.000000  1.000000  1.000000  1.000000  1.000000  1.000000   \n",
       "\n",
       "          7        8         9  ...      2490      2491      2492      2493  \\\n",
       "0  1.000000  1.00000  1.000000  ...  0.109804  0.094118  0.098039  0.760784   \n",
       "1  1.000000  1.00000  1.000000  ...  0.972549  0.972549  0.972549  1.000000   \n",
       "2  0.870588  0.87451  0.921569  ...  0.400000  0.396078  0.411765  0.435294   \n",
       "3  1.000000  1.00000  1.000000  ...  0.972549  0.972549  0.972549  0.741176   \n",
       "4  1.000000  1.00000  1.000000  ...  0.964706  0.964706  0.964706  1.000000   \n",
       "\n",
       "       2494      2495      2496      2497      2498      2499  \n",
       "0  0.756863  0.760784  1.000000  1.000000  1.000000  1.000000  \n",
       "1  1.000000  1.000000  1.000000  1.000000  1.000000  0.819608  \n",
       "2  0.431373  0.447059  0.635294  0.631373  0.639216  0.796078  \n",
       "3  0.741176  0.745098  0.996078  0.996078  0.996078  1.000000  \n",
       "4  1.000000  1.000000  1.000000  1.000000  1.000000  0.811765  \n",
       "\n",
       "[5 rows x 2500 columns]"
      ]
     },
     "execution_count": 35,
     "metadata": {},
     "output_type": "execute_result"
    }
   ],
   "source": [
    "colDF.info()\n",
    "colDF.head()"
   ]
  },
  {
   "cell_type": "code",
   "execution_count": 36,
   "id": "7de9ca7c",
   "metadata": {},
   "outputs": [],
   "source": [
    "colDF=colDF.to_numpy()\n",
    "blaDF=blaDF.to_numpy()"
   ]
  },
  {
   "cell_type": "code",
   "execution_count": 37,
   "id": "34491ad4",
   "metadata": {},
   "outputs": [],
   "source": [
    "colDF=colDF/255.0"
   ]
  },
  {
   "cell_type": "code",
   "execution_count": 38,
   "id": "d7489aad",
   "metadata": {},
   "outputs": [
    {
     "data": {
      "text/plain": [
       "(4312, 2500)"
      ]
     },
     "execution_count": 38,
     "metadata": {},
     "output_type": "execute_result"
    }
   ],
   "source": [
    "colDF.shape"
   ]
  },
  {
   "cell_type": "code",
   "execution_count": 54,
   "id": "898489fb",
   "metadata": {},
   "outputs": [
    {
     "data": {
      "text/plain": [
       "array([[3.92156863e-03, 3.92156863e-03, 3.92156863e-03, ...,\n",
       "        3.92156863e-03, 3.92156863e-03, 3.92156863e-03],\n",
       "       [3.69088812e-04, 3.69088812e-04, 3.69088812e-04, ...,\n",
       "        3.92156863e-03, 3.92156863e-03, 3.21414840e-03],\n",
       "       [1.66089965e-03, 1.64552095e-03, 1.69165705e-03, ...,\n",
       "        2.47597078e-03, 2.50672818e-03, 3.12187620e-03],\n",
       "       ...,\n",
       "       [2.93733180e-03, 2.92195309e-03, 2.98346790e-03, ...,\n",
       "        9.07343329e-04, 1.49173395e-03, 1.03037293e-03],\n",
       "       [3.87543253e-03, 3.90618993e-03, 3.89081123e-03, ...,\n",
       "        1.09188774e-03, 1.09188774e-03, 5.53633218e-04],\n",
       "       [9.38100730e-04, 5.53633218e-04, 2.61437908e-03, ...,\n",
       "        1.53787005e-05, 1.53787005e-05, 0.00000000e+00]])"
      ]
     },
     "execution_count": 54,
     "metadata": {},
     "output_type": "execute_result"
    }
   ],
   "source": [
    "colDF"
   ]
  },
  {
   "cell_type": "code",
   "execution_count": 73,
   "id": "9f346df8",
   "metadata": {},
   "outputs": [],
   "source": [
    "a = colDF[2000].reshape(50,50)"
   ]
  },
  {
   "cell_type": "code",
   "execution_count": 76,
   "id": "56c9d627",
   "metadata": {},
   "outputs": [
    {
     "data": {
      "image/png": "[encoded data removed]",
      "text/plain": [
       "<Figure size 432x288 with 1 Axes>"
      ]
     },
     "metadata": {
      "needs_background": "light"
     },
     "output_type": "display_data"
    }
   ],
   "source": [
    "plt.imshow(a)\n",
    "plt.show()"
   ]
  },
  {
   "cell_type": "code",
   "execution_count": null,
   "id": "87988fcf",
   "metadata": {},
   "outputs": [],
   "source": []
  },
  {
   "cell_type": "code",
   "execution_count": null,
   "id": "ff167fd5",
   "metadata": {},
   "outputs": [],
   "source": []
  },
  {
   "cell_type": "code",
   "execution_count": 87,
   "id": "2b1041d0",
   "metadata": {},
   "outputs": [],
   "source": [
    "b = blaDF[2000].reshape(50,50)"
   ]
  },
  {
   "cell_type": "code",
   "execution_count": 88,
   "id": "48b8e61f",
   "metadata": {},
   "outputs": [
    {
     "data": {
      "image/png": "[encoded data removed]",
      "text/plain": [
       "<Figure size 432x288 with 1 Axes>"
      ]
     },
     "metadata": {
      "needs_background": "light"
     },
     "output_type": "display_data"
    }
   ],
   "source": [
    "plt.imshow(b, cmap='gray')\n",
    "plt.show()"
   ]
  },
  {
   "cell_type": "code",
   "execution_count": null,
   "id": "51f84ec2",
   "metadata": {},
   "outputs": [],
   "source": []
  }
 ],
 "metadata": {
  "kernelspec": {
   "display_name": "Python 3 (ipykernel)",
   "language": "python",
   "name": "python3"
  },
  "language_info": {
   "codemirror_mode": {
    "name": "ipython",
    "version": 3
   },
   "file_extension": ".py",
   "mimetype": "text/x-python",
   "name": "python",
   "nbconvert_exporter": "python",
   "pygments_lexer": "ipython3",
   "version": "3.9.12"
  }
 },
 "nbformat": 4,
 "nbformat_minor": 5
}
