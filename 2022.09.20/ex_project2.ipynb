{
 "cells": [
  {
   "cell_type": "code",
   "execution_count": 281,
   "id": "06e99088",
   "metadata": {},
   "outputs": [],
   "source": [
    "# 모듈 로딩\n",
    "import os\n",
    "import cv2\n",
    "import numpy as np\n",
    "import pandas as pd\n",
    "import matplotlib.pyplot as plt\n",
    "from PIL import Image\n",
    "from bs4 import BeautifulSoup\n",
    "from selenium import webdriver\n",
    "from tensorflow.keras import Sequential\n",
    "from sklearn.utils import all_estimators\n",
    "from sklearn.linear_model import LogisticRegression\n",
    "from sklearn.model_selection import train_test_split\n",
    "from urllib.request import urlopen,Request,urlretrieve\n",
    "from tensorflow.keras.utils import set_random_seed, plot_model\n",
    "from tensorflow.keras.preprocessing.image import ImageDataGenerator\n",
    "from tensorflow.keras.layers import Dense, Conv2D, Flatten, MaxPool2D"
   ]
  },
  {
   "cell_type": "code",
   "execution_count": 217,
   "id": "e0f0b617",
   "metadata": {},
   "outputs": [],
   "source": [
    "DIR='./color_image.csv'\n",
    "DIR1='./black_white_image.csv'\n",
    "DIR2='./target.csv'\n",
    "\n",
    "colDF=pd.read_csv(DIR)\n",
    "blaDF=pd.read_csv(DIR1)\n",
    "tarDF=pd.read_csv(DIR2)"
   ]
  },
  {
   "cell_type": "code",
   "execution_count": 6,
   "id": "4dda917f",
   "metadata": {},
   "outputs": [
    {
     "name": "stdout",
     "output_type": "stream",
     "text": [
      "<class 'pandas.core.frame.DataFrame'>\n",
      "RangeIndex: 4312 entries, 0 to 4311\n",
      "Columns: 2500 entries, 0 to 2499\n",
      "dtypes: float64(2500)\n",
      "memory usage: 82.2 MB\n"
     ]
    },
    {
     "data": {
      "text/html": [
       "<div>\n",
       "<style scoped>\n",
       "    .dataframe tbody tr th:only-of-type {\n",
       "        vertical-align: middle;\n",
       "    }\n",
       "\n",
       "    .dataframe tbody tr th {\n",
       "        vertical-align: top;\n",
       "    }\n",
       "\n",
       "    .dataframe thead th {\n",
       "        text-align: right;\n",
       "    }\n",
       "</style>\n",
       "<table border=\"1\" class=\"dataframe\">\n",
       "  <thead>\n",
       "    <tr style=\"text-align: right;\">\n",
       "      <th></th>\n",
       "      <th>0</th>\n",
       "      <th>1</th>\n",
       "      <th>2</th>\n",
       "      <th>3</th>\n",
       "      <th>4</th>\n",
       "      <th>5</th>\n",
       "      <th>6</th>\n",
       "      <th>7</th>\n",
       "      <th>8</th>\n",
       "      <th>9</th>\n",
       "      <th>...</th>\n",
       "      <th>2490</th>\n",
       "      <th>2491</th>\n",
       "      <th>2492</th>\n",
       "      <th>2493</th>\n",
       "      <th>2494</th>\n",
       "      <th>2495</th>\n",
       "      <th>2496</th>\n",
       "      <th>2497</th>\n",
       "      <th>2498</th>\n",
       "      <th>2499</th>\n",
       "    </tr>\n",
       "  </thead>\n",
       "  <tbody>\n",
       "    <tr>\n",
       "      <th>0</th>\n",
       "      <td>1.000000</td>\n",
       "      <td>1.000000</td>\n",
       "      <td>1.000000</td>\n",
       "      <td>1.000000</td>\n",
       "      <td>1.000000</td>\n",
       "      <td>1.000000</td>\n",
       "      <td>1.000000</td>\n",
       "      <td>1.000000</td>\n",
       "      <td>1.00000</td>\n",
       "      <td>1.000000</td>\n",
       "      <td>...</td>\n",
       "      <td>0.109804</td>\n",
       "      <td>0.094118</td>\n",
       "      <td>0.098039</td>\n",
       "      <td>0.760784</td>\n",
       "      <td>0.756863</td>\n",
       "      <td>0.760784</td>\n",
       "      <td>1.000000</td>\n",
       "      <td>1.000000</td>\n",
       "      <td>1.000000</td>\n",
       "      <td>1.000000</td>\n",
       "    </tr>\n",
       "    <tr>\n",
       "      <th>1</th>\n",
       "      <td>0.094118</td>\n",
       "      <td>0.094118</td>\n",
       "      <td>0.094118</td>\n",
       "      <td>0.592157</td>\n",
       "      <td>0.592157</td>\n",
       "      <td>0.592157</td>\n",
       "      <td>1.000000</td>\n",
       "      <td>1.000000</td>\n",
       "      <td>1.00000</td>\n",
       "      <td>1.000000</td>\n",
       "      <td>...</td>\n",
       "      <td>0.972549</td>\n",
       "      <td>0.972549</td>\n",
       "      <td>0.972549</td>\n",
       "      <td>1.000000</td>\n",
       "      <td>1.000000</td>\n",
       "      <td>1.000000</td>\n",
       "      <td>1.000000</td>\n",
       "      <td>1.000000</td>\n",
       "      <td>1.000000</td>\n",
       "      <td>0.819608</td>\n",
       "    </tr>\n",
       "    <tr>\n",
       "      <th>2</th>\n",
       "      <td>0.423529</td>\n",
       "      <td>0.419608</td>\n",
       "      <td>0.431373</td>\n",
       "      <td>0.984314</td>\n",
       "      <td>0.984314</td>\n",
       "      <td>0.984314</td>\n",
       "      <td>0.870588</td>\n",
       "      <td>0.870588</td>\n",
       "      <td>0.87451</td>\n",
       "      <td>0.921569</td>\n",
       "      <td>...</td>\n",
       "      <td>0.400000</td>\n",
       "      <td>0.396078</td>\n",
       "      <td>0.411765</td>\n",
       "      <td>0.435294</td>\n",
       "      <td>0.431373</td>\n",
       "      <td>0.447059</td>\n",
       "      <td>0.635294</td>\n",
       "      <td>0.631373</td>\n",
       "      <td>0.639216</td>\n",
       "      <td>0.796078</td>\n",
       "    </tr>\n",
       "    <tr>\n",
       "      <th>3</th>\n",
       "      <td>0.094118</td>\n",
       "      <td>0.094118</td>\n",
       "      <td>0.094118</td>\n",
       "      <td>0.592157</td>\n",
       "      <td>0.592157</td>\n",
       "      <td>0.592157</td>\n",
       "      <td>1.000000</td>\n",
       "      <td>1.000000</td>\n",
       "      <td>1.00000</td>\n",
       "      <td>1.000000</td>\n",
       "      <td>...</td>\n",
       "      <td>0.972549</td>\n",
       "      <td>0.972549</td>\n",
       "      <td>0.972549</td>\n",
       "      <td>0.741176</td>\n",
       "      <td>0.741176</td>\n",
       "      <td>0.745098</td>\n",
       "      <td>0.996078</td>\n",
       "      <td>0.996078</td>\n",
       "      <td>0.996078</td>\n",
       "      <td>1.000000</td>\n",
       "    </tr>\n",
       "    <tr>\n",
       "      <th>4</th>\n",
       "      <td>1.000000</td>\n",
       "      <td>1.000000</td>\n",
       "      <td>1.000000</td>\n",
       "      <td>1.000000</td>\n",
       "      <td>1.000000</td>\n",
       "      <td>1.000000</td>\n",
       "      <td>1.000000</td>\n",
       "      <td>1.000000</td>\n",
       "      <td>1.00000</td>\n",
       "      <td>1.000000</td>\n",
       "      <td>...</td>\n",
       "      <td>0.964706</td>\n",
       "      <td>0.964706</td>\n",
       "      <td>0.964706</td>\n",
       "      <td>1.000000</td>\n",
       "      <td>1.000000</td>\n",
       "      <td>1.000000</td>\n",
       "      <td>1.000000</td>\n",
       "      <td>1.000000</td>\n",
       "      <td>1.000000</td>\n",
       "      <td>0.811765</td>\n",
       "    </tr>\n",
       "  </tbody>\n",
       "</table>\n",
       "<p>5 rows × 2500 columns</p>\n",
       "</div>"
      ],
      "text/plain": [
       "          0         1         2         3         4         5         6  \\\n",
       "0  1.000000  1.000000  1.000000  1.000000  1.000000  1.000000  1.000000   \n",
       "1  0.094118  0.094118  0.094118  0.592157  0.592157  0.592157  1.000000   \n",
       "2  0.423529  0.419608  0.431373  0.984314  0.984314  0.984314  0.870588   \n",
       "3  0.094118  0.094118  0.094118  0.592157  0.592157  0.592157  1.000000   \n",
       "4  1.000000  1.000000  1.000000  1.000000  1.000000  1.000000  1.000000   \n",
       "\n",
       "          7        8         9  ...      2490      2491      2492      2493  \\\n",
       "0  1.000000  1.00000  1.000000  ...  0.109804  0.094118  0.098039  0.760784   \n",
       "1  1.000000  1.00000  1.000000  ...  0.972549  0.972549  0.972549  1.000000   \n",
       "2  0.870588  0.87451  0.921569  ...  0.400000  0.396078  0.411765  0.435294   \n",
       "3  1.000000  1.00000  1.000000  ...  0.972549  0.972549  0.972549  0.741176   \n",
       "4  1.000000  1.00000  1.000000  ...  0.964706  0.964706  0.964706  1.000000   \n",
       "\n",
       "       2494      2495      2496      2497      2498      2499  \n",
       "0  0.756863  0.760784  1.000000  1.000000  1.000000  1.000000  \n",
       "1  1.000000  1.000000  1.000000  1.000000  1.000000  0.819608  \n",
       "2  0.431373  0.447059  0.635294  0.631373  0.639216  0.796078  \n",
       "3  0.741176  0.745098  0.996078  0.996078  0.996078  1.000000  \n",
       "4  1.000000  1.000000  1.000000  1.000000  1.000000  0.811765  \n",
       "\n",
       "[5 rows x 2500 columns]"
      ]
     },
     "execution_count": 6,
     "metadata": {},
     "output_type": "execute_result"
    }
   ],
   "source": [
    "colDF.info()\n",
    "colDF.head()"
   ]
  },
  {
   "cell_type": "code",
   "execution_count": 7,
   "id": "41efb60f",
   "metadata": {},
   "outputs": [],
   "source": [
    "colDF=colDF.to_numpy()\n",
    "blaDF=blaDF.to_numpy()"
   ]
  },
  {
   "cell_type": "code",
   "execution_count": 8,
   "id": "aad954b5",
   "metadata": {},
   "outputs": [],
   "source": [
    "colDF=colDF/255.0"
   ]
  },
  {
   "cell_type": "code",
   "execution_count": 9,
   "id": "414bf0aa",
   "metadata": {},
   "outputs": [
    {
     "data": {
      "text/plain": [
       "((4312, 2500), (4312, 2500))"
      ]
     },
     "execution_count": 9,
     "metadata": {},
     "output_type": "execute_result"
    }
   ],
   "source": [
    "colDF.shape , blaDF.shape"
   ]
  },
  {
   "cell_type": "code",
   "execution_count": 10,
   "id": "eb43d1f7",
   "metadata": {},
   "outputs": [],
   "source": [
    "a = colDF[2000].reshape(50,50)"
   ]
  },
  {
   "cell_type": "code",
   "execution_count": 11,
   "id": "e54b17b1",
   "metadata": {},
   "outputs": [
    {
     "data": {
      "image/png": "[encoded data removed]",
      "text/plain": [
       "<Figure size 432x288 with 1 Axes>"
      ]
     },
     "metadata": {
      "needs_background": "light"
     },
     "output_type": "display_data"
    }
   ],
   "source": [
    "plt.imshow(a)\n",
    "plt.show()"
   ]
  },
  {
   "cell_type": "code",
   "execution_count": 12,
   "id": "f7f6b155",
   "metadata": {},
   "outputs": [],
   "source": [
    "b = blaDF[2000].reshape(50,50)"
   ]
  },
  {
   "cell_type": "code",
   "execution_count": 13,
   "id": "2a9e16ad",
   "metadata": {},
   "outputs": [
    {
     "data": {
      "image/png": "[encoded data removed]",
      "text/plain": [
       "<Figure size 432x288 with 1 Axes>"
      ]
     },
     "metadata": {
      "needs_background": "light"
     },
     "output_type": "display_data"
    }
   ],
   "source": [
    "plt.imshow(b, cmap='gray')\n",
    "plt.show()"
   ]
  },
  {
   "cell_type": "code",
   "execution_count": null,
   "id": "b229c7d7",
   "metadata": {},
   "outputs": [],
   "source": []
  },
  {
   "cell_type": "code",
   "execution_count": 14,
   "id": "09a28229",
   "metadata": {},
   "outputs": [],
   "source": [
    "# 크롤링 데이터 로테이션시키는 함수\n",
    "def rota_save(color,foldname):\n",
    "    # 폴더 만들기\n",
    "    if not os.path.exists('./'+foldname):\n",
    "        os.makedirs(foldname)\n",
    "    \n",
    "    rotation=[45,90,135,180,225,270,315]\n",
    "    for file in os.listdir('./data/'):\n",
    "        for rot in rotation:\n",
    "            img=np.array(Image.open('./data/'+file).convert(color))\n",
    "            rows,cols = img.shape[0:2]\n",
    "            ro_mt = cv2.getRotationMatrix2D((cols/2,rows/2),rot,1.42)\n",
    "            ro_img = cv2.warpAffine(img, ro_mt,(cols, rows))\n",
    "            \n",
    "            # 이미지 저장\n",
    "            filename=f\"{file}_ro{str(rot)}\"\n",
    "            cv2.imwrite('./'+foldname+'/'+filename+'.png',ro_img)"
   ]
  },
  {
   "cell_type": "code",
   "execution_count": 15,
   "id": "536f931a",
   "metadata": {},
   "outputs": [],
   "source": [
    "# 크롤링 데이터 convert 함수\n",
    "def data_con(color,foldname):\n",
    "    for file in os.listdir('./data/'):\n",
    "        img=Image.open('./data/'+file).convert(color).save('./'+foldname+'/'+file)"
   ]
  },
  {
   "cell_type": "code",
   "execution_count": 16,
   "id": "0eab6c56",
   "metadata": {},
   "outputs": [],
   "source": [
    "# 흑백으로 로테이션\n",
    "rota_save('L','blwh')"
   ]
  },
  {
   "cell_type": "code",
   "execution_count": 17,
   "id": "02dde25c",
   "metadata": {},
   "outputs": [],
   "source": [
    "# rgb로 로테이션\n",
    "rota_save('RGB','rgb')"
   ]
  },
  {
   "cell_type": "code",
   "execution_count": 18,
   "id": "801867fe",
   "metadata": {},
   "outputs": [],
   "source": [
    "# 원본사진 흑백으로\n",
    "data_con('L','blwh')"
   ]
  },
  {
   "cell_type": "code",
   "execution_count": 19,
   "id": "2d3759d9",
   "metadata": {},
   "outputs": [],
   "source": [
    "# 원본사진 색깔로\n",
    "data_con('RGB','rgb')"
   ]
  },
  {
   "cell_type": "code",
   "execution_count": null,
   "id": "803cc0c2",
   "metadata": {},
   "outputs": [],
   "source": []
  },
  {
   "cell_type": "code",
   "execution_count": 208,
   "id": "ee26918a",
   "metadata": {},
   "outputs": [],
   "source": [
    "def solution(foldname):\n",
    "    l=[]\n",
    "    for i in os.listdir('./'+foldname+'/'):\n",
    "        n=np.array(Image.open('./'+foldname+'/'+i))/255.0\n",
    "        if foldname=='blwh':\n",
    "           n_list=n.reshape(-1,50,50)[0].tolist()\n",
    "        else:\n",
    "            n_list=n.reshape(-1,50,50,3)[0].tolist()\n",
    "        l.append(n_list)\n",
    "    return np.array(l)"
   ]
  },
  {
   "cell_type": "code",
   "execution_count": 209,
   "id": "6d16c2e0",
   "metadata": {},
   "outputs": [
    {
     "data": {
      "text/plain": [
       "array([[[1.        , 1.        , 1.        , ..., 1.        ,\n",
       "         1.        , 1.        ],\n",
       "        [1.        , 1.        , 1.        , ..., 1.        ,\n",
       "         1.        , 1.        ],\n",
       "        [1.        , 1.        , 1.        , ..., 1.        ,\n",
       "         1.        , 1.        ],\n",
       "        ...,\n",
       "        [1.        , 1.        , 0.75686275, ..., 1.        ,\n",
       "         1.        , 1.        ],\n",
       "        [1.        , 1.        , 1.        , ..., 1.        ,\n",
       "         1.        , 1.        ],\n",
       "        [1.        , 1.        , 1.        , ..., 1.        ,\n",
       "         1.        , 1.        ]],\n",
       "\n",
       "       [[0.09411765, 0.59215686, 1.        , ..., 1.        ,\n",
       "         1.        , 0.59215686],\n",
       "        [0.59215686, 1.        , 1.        , ..., 1.        ,\n",
       "         1.        , 1.        ],\n",
       "        [1.        , 1.        , 1.        , ..., 1.        ,\n",
       "         1.        , 1.        ],\n",
       "        ...,\n",
       "        [1.        , 1.        , 1.        , ..., 1.        ,\n",
       "         1.        , 1.        ],\n",
       "        [1.        , 1.        , 1.        , ..., 1.        ,\n",
       "         1.        , 1.        ],\n",
       "        [1.        , 1.        , 1.        , ..., 1.        ,\n",
       "         1.        , 1.        ]],\n",
       "\n",
       "       [[0.42352941, 0.98431373, 0.87058824, ..., 0.54901961,\n",
       "         0.63137255, 0.95686275],\n",
       "        [0.4627451 , 1.        , 1.        , ..., 0.54509804,\n",
       "         0.49019608, 0.94117647],\n",
       "        [0.89019608, 1.        , 1.        , ..., 0.57254902,\n",
       "         0.81568627, 0.98039216],\n",
       "        ...,\n",
       "        [1.        , 1.        , 1.        , ..., 1.        ,\n",
       "         1.        , 1.        ],\n",
       "        [1.        , 1.        , 1.        , ..., 1.        ,\n",
       "         1.        , 1.        ],\n",
       "        [1.        , 1.        , 1.        , ..., 1.        ,\n",
       "         1.        , 1.        ]],\n",
       "\n",
       "       ...,\n",
       "\n",
       "       [[0.75294118, 0.52941176, 0.34901961, ..., 1.        ,\n",
       "         0.99607843, 0.99607843],\n",
       "        [0.51764706, 0.35294118, 0.35294118, ..., 0.99607843,\n",
       "         0.99607843, 0.99607843],\n",
       "        [0.31372549, 0.33333333, 0.35686275, ..., 0.97254902,\n",
       "         0.99215686, 0.99607843],\n",
       "        ...,\n",
       "        [0.98823529, 0.94509804, 0.72941176, ..., 0.29411765,\n",
       "         0.4627451 , 0.6745098 ],\n",
       "        [0.98431373, 0.99215686, 0.95686275, ..., 0.48235294,\n",
       "         0.67843137, 0.83137255],\n",
       "        [0.58823529, 0.99215686, 0.99607843, ..., 0.69803922,\n",
       "         0.83921569, 0.97254902]],\n",
       "\n",
       "       [[0.99215686, 0.99607843, 0.99607843, ..., 0.83137255,\n",
       "         0.97254902, 0.59215686],\n",
       "        [0.99607843, 0.99607843, 0.99607843, ..., 0.6745098 ,\n",
       "         0.83137255, 0.97254902],\n",
       "        [0.99607843, 0.99607843, 0.99215686, ..., 0.4627451 ,\n",
       "         0.67843137, 0.83921569],\n",
       "        ...,\n",
       "        [0.35294118, 0.35294118, 0.35686275, ..., 0.53333333,\n",
       "         0.7372549 , 0.95686275],\n",
       "        [0.34901961, 0.35294118, 0.35686275, ..., 0.72941176,\n",
       "         0.95686275, 0.99607843],\n",
       "        [0.52941176, 0.35294118, 0.33333333, ..., 0.94509804,\n",
       "         0.99215686, 0.99215686]],\n",
       "\n",
       "       [[0.30980392, 0.30980392, 0.30980392, ..., 0.35686275,\n",
       "         0.35686275, 0.35686275],\n",
       "        [0.30980392, 0.30980392, 0.30980392, ..., 0.35686275,\n",
       "         0.35686275, 0.35686275],\n",
       "        [0.30980392, 0.30980392, 0.30980392, ..., 0.35686275,\n",
       "         0.35686275, 0.35686275],\n",
       "        ...,\n",
       "        [0.35686275, 0.35686275, 0.35686275, ..., 0.30980392,\n",
       "         0.30980392, 0.30980392],\n",
       "        [0.35686275, 0.35686275, 0.35686275, ..., 0.30980392,\n",
       "         0.30980392, 0.30980392],\n",
       "        [0.35686275, 0.35686275, 0.35686275, ..., 0.30980392,\n",
       "         0.30980392, 0.30980392]]])"
      ]
     },
     "execution_count": 209,
     "metadata": {},
     "output_type": "execute_result"
    }
   ],
   "source": [
    "blwh=solution('blwh')\n",
    "blwh"
   ]
  },
  {
   "cell_type": "code",
   "execution_count": 210,
   "id": "57a22cc9",
   "metadata": {},
   "outputs": [
    {
     "data": {
      "text/plain": [
       "array([[[[1.        , 1.        , 1.        ],\n",
       "         [1.        , 1.        , 1.        ],\n",
       "         [1.        , 1.        , 1.        ],\n",
       "         ...,\n",
       "         [1.        , 1.        , 1.        ],\n",
       "         [1.        , 1.        , 1.        ],\n",
       "         [1.        , 1.        , 1.        ]],\n",
       "\n",
       "        [[1.        , 1.        , 1.        ],\n",
       "         [1.        , 1.        , 1.        ],\n",
       "         [1.        , 1.        , 1.        ],\n",
       "         ...,\n",
       "         [1.        , 1.        , 1.        ],\n",
       "         [1.        , 1.        , 1.        ],\n",
       "         [1.        , 1.        , 1.        ]],\n",
       "\n",
       "        [[1.        , 1.        , 1.        ],\n",
       "         [1.        , 1.        , 1.        ],\n",
       "         [1.        , 1.        , 1.        ],\n",
       "         ...,\n",
       "         [1.        , 1.        , 1.        ],\n",
       "         [1.        , 1.        , 1.        ],\n",
       "         [1.        , 1.        , 1.        ]],\n",
       "\n",
       "        ...,\n",
       "\n",
       "        [[1.        , 1.        , 1.        ],\n",
       "         [1.        , 1.        , 1.        ],\n",
       "         [0.76078431, 0.75686275, 0.76078431],\n",
       "         ...,\n",
       "         [1.        , 1.        , 1.        ],\n",
       "         [1.        , 1.        , 1.        ],\n",
       "         [1.        , 1.        , 1.        ]],\n",
       "\n",
       "        [[1.        , 1.        , 1.        ],\n",
       "         [1.        , 1.        , 1.        ],\n",
       "         [1.        , 1.        , 1.        ],\n",
       "         ...,\n",
       "         [1.        , 1.        , 1.        ],\n",
       "         [1.        , 1.        , 1.        ],\n",
       "         [1.        , 1.        , 1.        ]],\n",
       "\n",
       "        [[1.        , 1.        , 1.        ],\n",
       "         [1.        , 1.        , 1.        ],\n",
       "         [1.        , 1.        , 1.        ],\n",
       "         ...,\n",
       "         [1.        , 1.        , 1.        ],\n",
       "         [1.        , 1.        , 1.        ],\n",
       "         [1.        , 1.        , 1.        ]]],\n",
       "\n",
       "\n",
       "       [[[0.09411765, 0.09411765, 0.09411765],\n",
       "         [0.59215686, 0.59215686, 0.59215686],\n",
       "         [1.        , 1.        , 1.        ],\n",
       "         ...,\n",
       "         [1.        , 1.        , 1.        ],\n",
       "         [1.        , 1.        , 1.        ],\n",
       "         [0.59215686, 0.59215686, 0.59215686]],\n",
       "\n",
       "        [[0.59215686, 0.59215686, 0.59215686],\n",
       "         [1.        , 1.        , 1.        ],\n",
       "         [1.        , 1.        , 1.        ],\n",
       "         ...,\n",
       "         [1.        , 1.        , 1.        ],\n",
       "         [1.        , 1.        , 1.        ],\n",
       "         [1.        , 1.        , 1.        ]],\n",
       "\n",
       "        [[1.        , 1.        , 1.        ],\n",
       "         [1.        , 1.        , 1.        ],\n",
       "         [1.        , 1.        , 1.        ],\n",
       "         ...,\n",
       "         [1.        , 1.        , 1.        ],\n",
       "         [1.        , 1.        , 1.        ],\n",
       "         [1.        , 1.        , 1.        ]],\n",
       "\n",
       "        ...,\n",
       "\n",
       "        [[1.        , 1.        , 1.        ],\n",
       "         [1.        , 1.        , 1.        ],\n",
       "         [1.        , 1.        , 1.        ],\n",
       "         ...,\n",
       "         [1.        , 1.        , 1.        ],\n",
       "         [1.        , 1.        , 1.        ],\n",
       "         [1.        , 1.        , 1.        ]],\n",
       "\n",
       "        [[1.        , 1.        , 1.        ],\n",
       "         [1.        , 1.        , 1.        ],\n",
       "         [1.        , 1.        , 1.        ],\n",
       "         ...,\n",
       "         [1.        , 1.        , 1.        ],\n",
       "         [1.        , 1.        , 1.        ],\n",
       "         [1.        , 1.        , 1.        ]],\n",
       "\n",
       "        [[1.        , 1.        , 1.        ],\n",
       "         [1.        , 1.        , 1.        ],\n",
       "         [1.        , 1.        , 1.        ],\n",
       "         ...,\n",
       "         [1.        , 1.        , 1.        ],\n",
       "         [1.        , 1.        , 1.        ],\n",
       "         [1.        , 1.        , 1.        ]]],\n",
       "\n",
       "\n",
       "       [[[0.42352941, 0.41960784, 0.43137255],\n",
       "         [0.98431373, 0.98431373, 0.98431373],\n",
       "         [0.87058824, 0.87058824, 0.8745098 ],\n",
       "         ...,\n",
       "         [0.54901961, 0.54509804, 0.55294118],\n",
       "         [0.63529412, 0.63137255, 0.63529412],\n",
       "         [0.95686275, 0.95686275, 0.95686275]],\n",
       "\n",
       "        [[0.4627451 , 0.4627451 , 0.4627451 ],\n",
       "         [1.        , 1.        , 1.        ],\n",
       "         [1.        , 1.        , 1.        ],\n",
       "         ...,\n",
       "         [0.54509804, 0.54117647, 0.54509804],\n",
       "         [0.49019608, 0.48627451, 0.49411765],\n",
       "         [0.94117647, 0.94117647, 0.94117647]],\n",
       "\n",
       "        [[0.89019608, 0.89019608, 0.89019608],\n",
       "         [1.        , 1.        , 1.        ],\n",
       "         [1.        , 1.        , 1.        ],\n",
       "         ...,\n",
       "         [0.57254902, 0.57254902, 0.57647059],\n",
       "         [0.81568627, 0.81176471, 0.81568627],\n",
       "         [0.98039216, 0.98039216, 0.98039216]],\n",
       "\n",
       "        ...,\n",
       "\n",
       "        [[1.        , 1.        , 1.        ],\n",
       "         [1.        , 1.        , 1.        ],\n",
       "         [1.        , 1.        , 1.        ],\n",
       "         ...,\n",
       "         [1.        , 1.        , 1.        ],\n",
       "         [1.        , 1.        , 1.        ],\n",
       "         [1.        , 1.        , 1.        ]],\n",
       "\n",
       "        [[1.        , 1.        , 1.        ],\n",
       "         [1.        , 1.        , 1.        ],\n",
       "         [1.        , 1.        , 1.        ],\n",
       "         ...,\n",
       "         [1.        , 1.        , 1.        ],\n",
       "         [1.        , 1.        , 1.        ],\n",
       "         [1.        , 1.        , 1.        ]],\n",
       "\n",
       "        [[1.        , 1.        , 1.        ],\n",
       "         [1.        , 1.        , 1.        ],\n",
       "         [1.        , 1.        , 1.        ],\n",
       "         ...,\n",
       "         [1.        , 1.        , 1.        ],\n",
       "         [1.        , 1.        , 1.        ],\n",
       "         [1.        , 1.        , 1.        ]]],\n",
       "\n",
       "\n",
       "       ...,\n",
       "\n",
       "\n",
       "       [[[0.74901961, 0.74509804, 0.76078431],\n",
       "         [0.52156863, 0.52156863, 0.55294118],\n",
       "         [0.34117647, 0.35686275, 0.34117647],\n",
       "         ...,\n",
       "         [0.99607843, 1.        , 1.        ],\n",
       "         [0.99215686, 0.99607843, 1.        ],\n",
       "         [0.99215686, 1.        , 0.99215686]],\n",
       "\n",
       "        [[0.49803922, 0.4627451 , 0.62352941],\n",
       "         [0.33333333, 0.31372549, 0.43529412],\n",
       "         [0.34509804, 0.33333333, 0.4       ],\n",
       "         ...,\n",
       "         [0.99607843, 0.99607843, 0.99215686],\n",
       "         [1.        , 1.        , 0.99215686],\n",
       "         [1.        , 1.        , 0.99215686]],\n",
       "\n",
       "        [[0.2745098 , 0.2       , 0.54901961],\n",
       "         [0.29803922, 0.25490196, 0.50196078],\n",
       "         [0.33333333, 0.31372549, 0.45098039],\n",
       "         ...,\n",
       "         [0.96862745, 0.96862745, 0.97647059],\n",
       "         [0.99215686, 0.99215686, 0.98823529],\n",
       "         [1.        , 1.        , 0.99607843]],\n",
       "\n",
       "        ...,\n",
       "\n",
       "        [[0.99215686, 0.98431373, 0.98823529],\n",
       "         [0.95686275, 0.93333333, 0.96470588],\n",
       "         [0.72941176, 0.71372549, 0.75686275],\n",
       "         ...,\n",
       "         [0.24313725, 0.17254902, 0.55294118],\n",
       "         [0.41960784, 0.35686275, 0.68627451],\n",
       "         [0.64313725, 0.60392157, 0.81960784]],\n",
       "\n",
       "        [[0.98431373, 0.99215686, 0.97647059],\n",
       "         [0.99607843, 0.99215686, 0.99215686],\n",
       "         [0.95686275, 0.95686275, 0.95686275],\n",
       "         ...,\n",
       "         [0.45490196, 0.41568627, 0.61568627],\n",
       "         [0.65490196, 0.61960784, 0.79607843],\n",
       "         [0.81568627, 0.8       , 0.89803922]],\n",
       "\n",
       "        [[0.58823529, 0.59215686, 0.58039216],\n",
       "         [0.99215686, 0.99607843, 0.98039216],\n",
       "         [0.99607843, 0.99607843, 0.99607843],\n",
       "         ...,\n",
       "         [0.69019608, 0.68235294, 0.74117647],\n",
       "         [0.83137255, 0.81960784, 0.87843137],\n",
       "         [0.97254902, 0.96862745, 0.98431373]]],\n",
       "\n",
       "\n",
       "       [[[0.98823529, 0.99607843, 0.99215686],\n",
       "         [0.99215686, 0.99607843, 0.99607843],\n",
       "         [0.99607843, 0.99215686, 1.        ],\n",
       "         ...,\n",
       "         [0.81568627, 0.79607843, 0.90588235],\n",
       "         [0.97254902, 0.96862745, 0.98431373],\n",
       "         [0.59215686, 0.59215686, 0.59215686]],\n",
       "\n",
       "        [[0.99215686, 1.        , 0.99215686],\n",
       "         [1.        , 1.        , 0.99215686],\n",
       "         [1.        , 1.        , 0.99607843],\n",
       "         ...,\n",
       "         [0.64313725, 0.60392157, 0.81960784],\n",
       "         [0.81568627, 0.8       , 0.89803922],\n",
       "         [0.97254902, 0.96862745, 0.98431373]],\n",
       "\n",
       "        [[0.99215686, 0.99607843, 1.        ],\n",
       "         [1.        , 1.        , 0.99215686],\n",
       "         [0.99215686, 0.99215686, 0.98823529],\n",
       "         ...,\n",
       "         [0.41960784, 0.35686275, 0.68627451],\n",
       "         [0.65490196, 0.61960784, 0.79607843],\n",
       "         [0.83137255, 0.81960784, 0.87843137]],\n",
       "\n",
       "        ...,\n",
       "\n",
       "        [[0.36078431, 0.35294118, 0.34901961],\n",
       "         [0.36470588, 0.34509804, 0.36078431],\n",
       "         [0.35294118, 0.32941176, 0.40392157],\n",
       "         ...,\n",
       "         [0.53333333, 0.52941176, 0.5372549 ],\n",
       "         [0.7372549 , 0.73333333, 0.7372549 ],\n",
       "         [0.95686275, 0.95686275, 0.95686275]],\n",
       "\n",
       "        [[0.34117647, 0.35686275, 0.34117647],\n",
       "         [0.34509804, 0.33333333, 0.4       ],\n",
       "         [0.33333333, 0.31372549, 0.45098039],\n",
       "         ...,\n",
       "         [0.72941176, 0.71372549, 0.75686275],\n",
       "         [0.95686275, 0.95686275, 0.95686275],\n",
       "         [0.99607843, 0.99607843, 0.99607843]],\n",
       "\n",
       "        [[0.52156863, 0.52156863, 0.55294118],\n",
       "         [0.33333333, 0.31372549, 0.43529412],\n",
       "         [0.29803922, 0.25490196, 0.50196078],\n",
       "         ...,\n",
       "         [0.95686275, 0.93333333, 0.96470588],\n",
       "         [0.99607843, 0.99215686, 0.99215686],\n",
       "         [0.99215686, 0.99607843, 0.98039216]]],\n",
       "\n",
       "\n",
       "       [[[0.23921569, 0.14117647, 0.66666667],\n",
       "         [0.23921569, 0.14117647, 0.66666667],\n",
       "         [0.23921569, 0.14117647, 0.66666667],\n",
       "         ...,\n",
       "         [0.37254902, 0.35686275, 0.35294118],\n",
       "         [0.37254902, 0.35686275, 0.35294118],\n",
       "         [0.37254902, 0.35686275, 0.35294118]],\n",
       "\n",
       "        [[0.23921569, 0.14117647, 0.66666667],\n",
       "         [0.23921569, 0.14117647, 0.66666667],\n",
       "         [0.23921569, 0.14117647, 0.66666667],\n",
       "         ...,\n",
       "         [0.37254902, 0.35686275, 0.35294118],\n",
       "         [0.37254902, 0.35686275, 0.35294118],\n",
       "         [0.37254902, 0.35686275, 0.35294118]],\n",
       "\n",
       "        [[0.23921569, 0.14117647, 0.66666667],\n",
       "         [0.23921569, 0.14117647, 0.66666667],\n",
       "         [0.23921569, 0.14117647, 0.66666667],\n",
       "         ...,\n",
       "         [0.37254902, 0.35686275, 0.35294118],\n",
       "         [0.37254902, 0.35686275, 0.35294118],\n",
       "         [0.37254902, 0.35686275, 0.35294118]],\n",
       "\n",
       "        ...,\n",
       "\n",
       "        [[0.37254902, 0.35686275, 0.35294118],\n",
       "         [0.37254902, 0.35686275, 0.35294118],\n",
       "         [0.37254902, 0.35686275, 0.35294118],\n",
       "         ...,\n",
       "         [0.23921569, 0.14117647, 0.66666667],\n",
       "         [0.23921569, 0.14117647, 0.66666667],\n",
       "         [0.23921569, 0.14117647, 0.66666667]],\n",
       "\n",
       "        [[0.37254902, 0.35686275, 0.35294118],\n",
       "         [0.37254902, 0.35686275, 0.35294118],\n",
       "         [0.37254902, 0.35686275, 0.35294118],\n",
       "         ...,\n",
       "         [0.23921569, 0.14117647, 0.66666667],\n",
       "         [0.23921569, 0.14117647, 0.66666667],\n",
       "         [0.23921569, 0.14117647, 0.66666667]],\n",
       "\n",
       "        [[0.37254902, 0.35686275, 0.35294118],\n",
       "         [0.37254902, 0.35686275, 0.35294118],\n",
       "         [0.37254902, 0.35686275, 0.35294118],\n",
       "         ...,\n",
       "         [0.23921569, 0.14117647, 0.66666667],\n",
       "         [0.23921569, 0.14117647, 0.66666667],\n",
       "         [0.23921569, 0.14117647, 0.66666667]]]])"
      ]
     },
     "execution_count": 210,
     "metadata": {},
     "output_type": "execute_result"
    }
   ],
   "source": [
    "rgb=solution('rgb')\n",
    "rgb"
   ]
  },
  {
   "cell_type": "code",
   "execution_count": 211,
   "id": "8b7054ed",
   "metadata": {},
   "outputs": [],
   "source": [
    "# pd.DataFrame(a).to_csv('black_white_image.csv',index=False)"
   ]
  },
  {
   "cell_type": "code",
   "execution_count": 212,
   "id": "91f59d37",
   "metadata": {},
   "outputs": [
    {
     "data": {
      "text/plain": [
       "<matplotlib.image.AxesImage at 0x2518c0c8e20>"
      ]
     },
     "execution_count": 212,
     "metadata": {},
     "output_type": "execute_result"
    },
    {
     "data": {
      "image/png": "[encoded data removed]",
      "text/plain": [
       "<Figure size 432x288 with 1 Axes>"
      ]
     },
     "metadata": {
      "needs_background": "light"
     },
     "output_type": "display_data"
    }
   ],
   "source": [
    "plt.imshow(blwh[3500].reshape(50,50,1))"
   ]
  },
  {
   "cell_type": "code",
   "execution_count": 213,
   "id": "533f120a",
   "metadata": {},
   "outputs": [
    {
     "data": {
      "text/plain": [
       "<matplotlib.image.AxesImage at 0x2518d92e5b0>"
      ]
     },
     "execution_count": 213,
     "metadata": {},
     "output_type": "execute_result"
    },
    {
     "data": {
      "image/png": "[encoded data removed]",
      "text/plain": [
       "<Figure size 432x288 with 1 Axes>"
      ]
     },
     "metadata": {
      "needs_background": "light"
     },
     "output_type": "display_data"
    }
   ],
   "source": [
    "plt.imshow(rgb[3500].reshape(50,50,3))"
   ]
  },
  {
   "cell_type": "code",
   "execution_count": null,
   "id": "d6d27d92",
   "metadata": {},
   "outputs": [],
   "source": []
  },
  {
   "cell_type": "code",
   "execution_count": 218,
   "id": "fd5e7393",
   "metadata": {},
   "outputs": [
    {
     "name": "stdout",
     "output_type": "stream",
     "text": [
      "<class 'pandas.core.frame.DataFrame'>\n",
      "RangeIndex: 4312 entries, 0 to 4311\n",
      "Data columns (total 2 columns):\n",
      " #   Column  Non-Null Count  Dtype \n",
      "---  ------  --------------  ----- \n",
      " 0   name    4312 non-null   object\n",
      " 1   label   4312 non-null   int64 \n",
      "dtypes: int64(1), object(1)\n",
      "memory usage: 67.5+ KB\n"
     ]
    }
   ],
   "source": [
    "tarDF.info()"
   ]
  },
  {
   "cell_type": "code",
   "execution_count": 219,
   "id": "2381a421",
   "metadata": {},
   "outputs": [],
   "source": [
    "tarDF=np.array(tarDF.label)"
   ]
  },
  {
   "cell_type": "code",
   "execution_count": 220,
   "id": "f05e5578",
   "metadata": {},
   "outputs": [
    {
     "data": {
      "text/plain": [
       "array([ 0,  0,  0, ..., 25, 25, 25], dtype=int64)"
      ]
     },
     "execution_count": 220,
     "metadata": {},
     "output_type": "execute_result"
    }
   ],
   "source": [
    "tarDF"
   ]
  },
  {
   "cell_type": "code",
   "execution_count": 221,
   "id": "54df0d1a",
   "metadata": {},
   "outputs": [
    {
     "data": {
      "text/plain": [
       "array([[[1.        , 1.        , 1.        , ..., 1.        ,\n",
       "         1.        , 1.        ],\n",
       "        [1.        , 1.        , 1.        , ..., 1.        ,\n",
       "         1.        , 1.        ],\n",
       "        [1.        , 1.        , 1.        , ..., 1.        ,\n",
       "         1.        , 1.        ],\n",
       "        ...,\n",
       "        [1.        , 1.        , 0.75686275, ..., 1.        ,\n",
       "         1.        , 1.        ],\n",
       "        [1.        , 1.        , 1.        , ..., 1.        ,\n",
       "         1.        , 1.        ],\n",
       "        [1.        , 1.        , 1.        , ..., 1.        ,\n",
       "         1.        , 1.        ]],\n",
       "\n",
       "       [[0.09411765, 0.59215686, 1.        , ..., 1.        ,\n",
       "         1.        , 0.59215686],\n",
       "        [0.59215686, 1.        , 1.        , ..., 1.        ,\n",
       "         1.        , 1.        ],\n",
       "        [1.        , 1.        , 1.        , ..., 1.        ,\n",
       "         1.        , 1.        ],\n",
       "        ...,\n",
       "        [1.        , 1.        , 1.        , ..., 1.        ,\n",
       "         1.        , 1.        ],\n",
       "        [1.        , 1.        , 1.        , ..., 1.        ,\n",
       "         1.        , 1.        ],\n",
       "        [1.        , 1.        , 1.        , ..., 1.        ,\n",
       "         1.        , 1.        ]],\n",
       "\n",
       "       [[0.42352941, 0.98431373, 0.87058824, ..., 0.54901961,\n",
       "         0.63137255, 0.95686275],\n",
       "        [0.4627451 , 1.        , 1.        , ..., 0.54509804,\n",
       "         0.49019608, 0.94117647],\n",
       "        [0.89019608, 1.        , 1.        , ..., 0.57254902,\n",
       "         0.81568627, 0.98039216],\n",
       "        ...,\n",
       "        [1.        , 1.        , 1.        , ..., 1.        ,\n",
       "         1.        , 1.        ],\n",
       "        [1.        , 1.        , 1.        , ..., 1.        ,\n",
       "         1.        , 1.        ],\n",
       "        [1.        , 1.        , 1.        , ..., 1.        ,\n",
       "         1.        , 1.        ]],\n",
       "\n",
       "       ...,\n",
       "\n",
       "       [[0.75294118, 0.52941176, 0.34901961, ..., 1.        ,\n",
       "         0.99607843, 0.99607843],\n",
       "        [0.51764706, 0.35294118, 0.35294118, ..., 0.99607843,\n",
       "         0.99607843, 0.99607843],\n",
       "        [0.31372549, 0.33333333, 0.35686275, ..., 0.97254902,\n",
       "         0.99215686, 0.99607843],\n",
       "        ...,\n",
       "        [0.98823529, 0.94509804, 0.72941176, ..., 0.29411765,\n",
       "         0.4627451 , 0.6745098 ],\n",
       "        [0.98431373, 0.99215686, 0.95686275, ..., 0.48235294,\n",
       "         0.67843137, 0.83137255],\n",
       "        [0.58823529, 0.99215686, 0.99607843, ..., 0.69803922,\n",
       "         0.83921569, 0.97254902]],\n",
       "\n",
       "       [[0.99215686, 0.99607843, 0.99607843, ..., 0.83137255,\n",
       "         0.97254902, 0.59215686],\n",
       "        [0.99607843, 0.99607843, 0.99607843, ..., 0.6745098 ,\n",
       "         0.83137255, 0.97254902],\n",
       "        [0.99607843, 0.99607843, 0.99215686, ..., 0.4627451 ,\n",
       "         0.67843137, 0.83921569],\n",
       "        ...,\n",
       "        [0.35294118, 0.35294118, 0.35686275, ..., 0.53333333,\n",
       "         0.7372549 , 0.95686275],\n",
       "        [0.34901961, 0.35294118, 0.35686275, ..., 0.72941176,\n",
       "         0.95686275, 0.99607843],\n",
       "        [0.52941176, 0.35294118, 0.33333333, ..., 0.94509804,\n",
       "         0.99215686, 0.99215686]],\n",
       "\n",
       "       [[0.30980392, 0.30980392, 0.30980392, ..., 0.35686275,\n",
       "         0.35686275, 0.35686275],\n",
       "        [0.30980392, 0.30980392, 0.30980392, ..., 0.35686275,\n",
       "         0.35686275, 0.35686275],\n",
       "        [0.30980392, 0.30980392, 0.30980392, ..., 0.35686275,\n",
       "         0.35686275, 0.35686275],\n",
       "        ...,\n",
       "        [0.35686275, 0.35686275, 0.35686275, ..., 0.30980392,\n",
       "         0.30980392, 0.30980392],\n",
       "        [0.35686275, 0.35686275, 0.35686275, ..., 0.30980392,\n",
       "         0.30980392, 0.30980392],\n",
       "        [0.35686275, 0.35686275, 0.35686275, ..., 0.30980392,\n",
       "         0.30980392, 0.30980392]]])"
      ]
     },
     "execution_count": 221,
     "metadata": {},
     "output_type": "execute_result"
    }
   ],
   "source": [
    "blwh"
   ]
  },
  {
   "cell_type": "code",
   "execution_count": 222,
   "id": "c0453809",
   "metadata": {},
   "outputs": [],
   "source": [
    "# 주성분,"
   ]
  },
  {
   "cell_type": "code",
   "execution_count": 403,
   "id": "ef412c4a",
   "metadata": {},
   "outputs": [],
   "source": [
    "data=rgb\n",
    "target=tarDF"
   ]
  },
  {
   "cell_type": "code",
   "execution_count": 404,
   "id": "f1637b13",
   "metadata": {},
   "outputs": [
    {
     "data": {
      "text/plain": [
       "((4312, 50, 50, 3), (4312,))"
      ]
     },
     "execution_count": 404,
     "metadata": {},
     "output_type": "execute_result"
    }
   ],
   "source": [
    "data.shape, target.shape"
   ]
  },
  {
   "cell_type": "code",
   "execution_count": 405,
   "id": "b214ca02",
   "metadata": {},
   "outputs": [],
   "source": [
    "# data=data/255.0"
   ]
  },
  {
   "cell_type": "code",
   "execution_count": 406,
   "id": "7b378fe9",
   "metadata": {},
   "outputs": [],
   "source": [
    "# 훈련/테스트 데이터 나누기\n",
    "x_train, x_test, y_train, y_test = train_test_split(data, target,\n",
    "                                                    random_state=42,\n",
    "                                                    stratify=target)"
   ]
  },
  {
   "cell_type": "code",
   "execution_count": 407,
   "id": "da27ec2b",
   "metadata": {},
   "outputs": [],
   "source": [
    "x_train, x_val, y_train, y_val = train_test_split(x_train, y_train,\n",
    "                                                  stratify=y_train,\n",
    "                                                  random_state=42)"
   ]
  },
  {
   "cell_type": "code",
   "execution_count": 408,
   "id": "fd853d9d",
   "metadata": {},
   "outputs": [
    {
     "name": "stdout",
     "output_type": "stream",
     "text": [
      "(2425, 50, 50, 3) (2425,)\n",
      "(1078, 50, 50, 3) (1078,)\n",
      "(809, 50, 50, 3) (809,)\n"
     ]
    }
   ],
   "source": [
    "print(x_train.shape, y_train.shape)\n",
    "print(x_test.shape, y_test.shape)\n",
    "print(x_val.shape, y_val.shape)"
   ]
  },
  {
   "cell_type": "code",
   "execution_count": 409,
   "id": "efba107f",
   "metadata": {},
   "outputs": [],
   "source": [
    "model=Sequential()"
   ]
  },
  {
   "cell_type": "code",
   "execution_count": 410,
   "id": "4ffc6e29",
   "metadata": {},
   "outputs": [],
   "source": [
    "model.add(Conv2D(58, kernel_size=3, activation='relu', padding='same', input_shape=(50,50,3)))"
   ]
  },
  {
   "cell_type": "code",
   "execution_count": 411,
   "id": "07da979d",
   "metadata": {},
   "outputs": [],
   "source": [
    "model.add(MaxPool2D())"
   ]
  },
  {
   "cell_type": "code",
   "execution_count": 412,
   "id": "5a7f39f9",
   "metadata": {},
   "outputs": [],
   "source": [
    "model.add(Conv2D(100, kernel_size=3, padding='same'))"
   ]
  },
  {
   "cell_type": "code",
   "execution_count": 413,
   "id": "3e20d54a",
   "metadata": {},
   "outputs": [],
   "source": [
    "model.add(MaxPool2D())"
   ]
  },
  {
   "cell_type": "code",
   "execution_count": 414,
   "id": "9a5ff51f",
   "metadata": {},
   "outputs": [],
   "source": [
    "model.add(Flatten())"
   ]
  },
  {
   "cell_type": "code",
   "execution_count": 415,
   "id": "487a1869",
   "metadata": {},
   "outputs": [],
   "source": [
    "model.add(Dense(100, activation='relu'))"
   ]
  },
  {
   "cell_type": "code",
   "execution_count": 416,
   "id": "4c50bdfb",
   "metadata": {},
   "outputs": [],
   "source": [
    "model.add(Dense(26, activation='softmax'))"
   ]
  },
  {
   "cell_type": "code",
   "execution_count": 417,
   "id": "fd83d671",
   "metadata": {},
   "outputs": [
    {
     "name": "stdout",
     "output_type": "stream",
     "text": [
      "Model: \"sequential_25\"\n",
      "_________________________________________________________________\n",
      " Layer (type)                Output Shape              Param #   \n",
      "=================================================================\n",
      " conv2d_47 (Conv2D)          (None, 50, 50, 58)        1624      \n",
      "                                                                 \n",
      " max_pooling2d_31 (MaxPoolin  (None, 25, 25, 58)       0         \n",
      " g2D)                                                            \n",
      "                                                                 \n",
      " conv2d_48 (Conv2D)          (None, 25, 25, 100)       52300     \n",
      "                                                                 \n",
      " max_pooling2d_32 (MaxPoolin  (None, 12, 12, 100)      0         \n",
      " g2D)                                                            \n",
      "                                                                 \n",
      " flatten_21 (Flatten)        (None, 14400)             0         \n",
      "                                                                 \n",
      " dense_23 (Dense)            (None, 100)               1440100   \n",
      "                                                                 \n",
      " dense_24 (Dense)            (None, 26)                2626      \n",
      "                                                                 \n",
      "=================================================================\n",
      "Total params: 1,496,650\n",
      "Trainable params: 1,496,650\n",
      "Non-trainable params: 0\n",
      "_________________________________________________________________\n"
     ]
    }
   ],
   "source": [
    "model.summary()"
   ]
  },
  {
   "cell_type": "code",
   "execution_count": 418,
   "id": "b8a12533",
   "metadata": {},
   "outputs": [],
   "source": [
    "train_datagen = ImageDataGenerator(\n",
    "    \n",
    "    rotation_range=30,\n",
    "    shear_range=0.2,\n",
    "    zoom_range=0.4,\n",
    "    horizontal_flip=True\n",
    ")\n",
    "train_datagen.fit(x_train)"
   ]
  },
  {
   "cell_type": "code",
   "execution_count": 419,
   "id": "92c46af6",
   "metadata": {},
   "outputs": [],
   "source": [
    "model.compile(optimizer='adam',loss='sparse_categorical_crossentropy',metrics=['accuracy'])"
   ]
  },
  {
   "cell_type": "code",
   "execution_count": 420,
   "id": "218027af",
   "metadata": {
    "scrolled": false
   },
   "outputs": [
    {
     "name": "stdout",
     "output_type": "stream",
     "text": [
      "Epoch 1/50\n"
     ]
    },
    {
     "name": "stderr",
     "output_type": "stream",
     "text": [
      "C:\\Users\\User\\AppData\\Local\\Temp\\ipykernel_7648\\3452882054.py:1: UserWarning: `Model.fit_generator` is deprecated and will be removed in a future version. Please use `Model.fit`, which supports generators.\n",
      "  History = model.fit_generator(train_datagen.flow(x_train,y_train, batch_size=32),\n"
     ]
    },
    {
     "name": "stdout",
     "output_type": "stream",
     "text": [
      "75/75 [==============================] - 8s 103ms/step - loss: 2.8486 - accuracy: 0.1684 - val_loss: 2.4557 - val_accuracy: 0.3066\n",
      "Epoch 2/50\n",
      "75/75 [==============================] - 7s 99ms/step - loss: 1.9949 - accuracy: 0.4041 - val_loss: 1.8455 - val_accuracy: 0.4524\n",
      "Epoch 3/50\n",
      "75/75 [==============================] - 8s 100ms/step - loss: 1.7263 - accuracy: 0.5132 - val_loss: 1.5907 - val_accuracy: 0.5525\n",
      "Epoch 4/50\n",
      "75/75 [==============================] - 8s 101ms/step - loss: 1.5100 - accuracy: 0.5629 - val_loss: 1.4024 - val_accuracy: 0.5686\n",
      "Epoch 5/50\n",
      "75/75 [==============================] - 8s 101ms/step - loss: 1.3469 - accuracy: 0.5884 - val_loss: 1.2992 - val_accuracy: 0.6279\n",
      "Epoch 6/50\n",
      "75/75 [==============================] - 8s 101ms/step - loss: 1.2427 - accuracy: 0.6101 - val_loss: 1.2298 - val_accuracy: 0.6267\n",
      "Epoch 7/50\n",
      "75/75 [==============================] - 8s 101ms/step - loss: 1.1810 - accuracy: 0.6348 - val_loss: 1.2282 - val_accuracy: 0.6539\n",
      "Epoch 8/50\n",
      "75/75 [==============================] - 8s 103ms/step - loss: 0.9956 - accuracy: 0.6975 - val_loss: 1.0809 - val_accuracy: 0.6934\n",
      "Epoch 9/50\n",
      "75/75 [==============================] - 8s 102ms/step - loss: 0.9580 - accuracy: 0.7100 - val_loss: 1.1661 - val_accuracy: 0.6724\n",
      "Epoch 10/50\n",
      "75/75 [==============================] - 8s 102ms/step - loss: 0.8936 - accuracy: 0.7321 - val_loss: 0.9499 - val_accuracy: 0.7256\n",
      "Epoch 11/50\n",
      "75/75 [==============================] - 8s 106ms/step - loss: 0.8319 - accuracy: 0.7426 - val_loss: 1.0833 - val_accuracy: 0.6860\n",
      "Epoch 12/50\n",
      "75/75 [==============================] - 8s 112ms/step - loss: 0.7839 - accuracy: 0.7677 - val_loss: 0.9372 - val_accuracy: 0.7330\n",
      "Epoch 13/50\n",
      "75/75 [==============================] - 9s 115ms/step - loss: 0.7725 - accuracy: 0.7668 - val_loss: 1.0351 - val_accuracy: 0.7169\n",
      "Epoch 14/50\n",
      "75/75 [==============================] - 8s 111ms/step - loss: 0.7101 - accuracy: 0.7869 - val_loss: 0.9577 - val_accuracy: 0.7466\n",
      "Epoch 15/50\n",
      "75/75 [==============================] - 9s 125ms/step - loss: 0.7556 - accuracy: 0.7660 - val_loss: 1.0269 - val_accuracy: 0.7404\n",
      "Epoch 16/50\n",
      "75/75 [==============================] - 9s 121ms/step - loss: 0.6714 - accuracy: 0.7911 - val_loss: 0.8475 - val_accuracy: 0.7627\n",
      "Epoch 17/50\n",
      "75/75 [==============================] - 9s 117ms/step - loss: 0.6399 - accuracy: 0.7881 - val_loss: 0.9035 - val_accuracy: 0.7540\n",
      "Epoch 18/50\n",
      "75/75 [==============================] - 9s 119ms/step - loss: 0.5750 - accuracy: 0.8149 - val_loss: 1.1564 - val_accuracy: 0.6996\n",
      "Epoch 19/50\n",
      "75/75 [==============================] - 9s 116ms/step - loss: 0.6212 - accuracy: 0.8040 - val_loss: 0.8228 - val_accuracy: 0.7948\n",
      "Epoch 20/50\n",
      "75/75 [==============================] - 9s 122ms/step - loss: 0.5518 - accuracy: 0.8237 - val_loss: 0.9794 - val_accuracy: 0.7515\n",
      "Epoch 21/50\n",
      "75/75 [==============================] - 9s 121ms/step - loss: 0.5573 - accuracy: 0.8157 - val_loss: 0.8363 - val_accuracy: 0.7750\n",
      "Epoch 22/50\n",
      "75/75 [==============================] - 9s 122ms/step - loss: 0.5032 - accuracy: 0.8370 - val_loss: 0.8653 - val_accuracy: 0.7886\n",
      "Epoch 23/50\n",
      "75/75 [==============================] - 9s 120ms/step - loss: 0.5099 - accuracy: 0.8475 - val_loss: 0.9443 - val_accuracy: 0.7602\n",
      "Epoch 24/50\n",
      "75/75 [==============================] - 15s 204ms/step - loss: 0.5122 - accuracy: 0.8454 - val_loss: 0.9663 - val_accuracy: 0.7466\n",
      "Epoch 25/50\n",
      "75/75 [==============================] - 9s 114ms/step - loss: 0.4854 - accuracy: 0.8475 - val_loss: 0.9097 - val_accuracy: 0.7750\n",
      "Epoch 26/50\n",
      "75/75 [==============================] - 8s 110ms/step - loss: 0.4369 - accuracy: 0.8608 - val_loss: 0.9060 - val_accuracy: 0.7713\n",
      "Epoch 27/50\n",
      "75/75 [==============================] - 8s 111ms/step - loss: 0.4507 - accuracy: 0.8642 - val_loss: 0.7561 - val_accuracy: 0.8307\n",
      "Epoch 28/50\n",
      "75/75 [==============================] - 8s 111ms/step - loss: 0.3784 - accuracy: 0.8730 - val_loss: 0.8225 - val_accuracy: 0.8158\n",
      "Epoch 29/50\n",
      "75/75 [==============================] - 9s 117ms/step - loss: 0.3801 - accuracy: 0.8801 - val_loss: 0.9334 - val_accuracy: 0.7676\n",
      "Epoch 30/50\n",
      "75/75 [==============================] - 9s 122ms/step - loss: 0.3591 - accuracy: 0.8734 - val_loss: 0.7378 - val_accuracy: 0.8269\n",
      "Epoch 31/50\n",
      "75/75 [==============================] - 9s 120ms/step - loss: 0.3601 - accuracy: 0.8893 - val_loss: 0.7679 - val_accuracy: 0.8047\n",
      "Epoch 32/50\n",
      "75/75 [==============================] - 9s 115ms/step - loss: 0.4006 - accuracy: 0.8767 - val_loss: 0.8507 - val_accuracy: 0.8084\n",
      "Epoch 33/50\n",
      "75/75 [==============================] - 9s 118ms/step - loss: 0.3056 - accuracy: 0.8947 - val_loss: 0.7477 - val_accuracy: 0.8096\n",
      "Epoch 34/50\n",
      "75/75 [==============================] - 9s 116ms/step - loss: 0.4667 - accuracy: 0.8496 - val_loss: 0.8716 - val_accuracy: 0.7948\n",
      "Epoch 35/50\n",
      "75/75 [==============================] - 8s 112ms/step - loss: 0.4546 - accuracy: 0.8558 - val_loss: 0.9042 - val_accuracy: 0.7750\n",
      "Epoch 36/50\n",
      "75/75 [==============================] - 9s 114ms/step - loss: 0.3753 - accuracy: 0.8755 - val_loss: 1.0099 - val_accuracy: 0.7862\n",
      "Epoch 37/50\n",
      "75/75 [==============================] - 9s 116ms/step - loss: 0.3423 - accuracy: 0.8934 - val_loss: 0.8027 - val_accuracy: 0.8195\n",
      "Epoch 38/50\n",
      "75/75 [==============================] - 9s 117ms/step - loss: 0.3862 - accuracy: 0.8801 - val_loss: 0.9447 - val_accuracy: 0.7998\n",
      "Epoch 39/50\n",
      "75/75 [==============================] - 9s 118ms/step - loss: 0.2828 - accuracy: 0.9118 - val_loss: 0.7807 - val_accuracy: 0.8269\n",
      "Epoch 40/50\n",
      "75/75 [==============================] - 9s 116ms/step - loss: 0.2699 - accuracy: 0.9139 - val_loss: 0.8309 - val_accuracy: 0.8381\n",
      "Epoch 41/50\n",
      "75/75 [==============================] - 9s 116ms/step - loss: 0.2920 - accuracy: 0.9031 - val_loss: 0.9119 - val_accuracy: 0.8121\n",
      "Epoch 42/50\n",
      "75/75 [==============================] - 9s 115ms/step - loss: 0.2838 - accuracy: 0.9064 - val_loss: 0.7545 - val_accuracy: 0.8405\n",
      "Epoch 43/50\n",
      "75/75 [==============================] - 9s 120ms/step - loss: 0.3563 - accuracy: 0.8893 - val_loss: 0.8032 - val_accuracy: 0.8294\n",
      "Epoch 44/50\n",
      "75/75 [==============================] - 9s 116ms/step - loss: 0.3298 - accuracy: 0.8964 - val_loss: 1.0119 - val_accuracy: 0.7775\n",
      "Epoch 45/50\n",
      "75/75 [==============================] - 8s 112ms/step - loss: 0.3314 - accuracy: 0.9001 - val_loss: 0.9072 - val_accuracy: 0.8133\n",
      "Epoch 46/50\n",
      "75/75 [==============================] - 8s 112ms/step - loss: 0.2996 - accuracy: 0.9114 - val_loss: 0.9144 - val_accuracy: 0.8171\n",
      "Epoch 47/50\n",
      "75/75 [==============================] - 8s 112ms/step - loss: 0.2653 - accuracy: 0.9143 - val_loss: 0.8033 - val_accuracy: 0.8443\n",
      "Epoch 48/50\n",
      "75/75 [==============================] - 9s 113ms/step - loss: 0.2313 - accuracy: 0.9260 - val_loss: 0.8138 - val_accuracy: 0.8640\n",
      "Epoch 49/50\n",
      "75/75 [==============================] - 9s 117ms/step - loss: 0.2437 - accuracy: 0.9181 - val_loss: 1.0054 - val_accuracy: 0.8158\n",
      "Epoch 50/50\n",
      "75/75 [==============================] - 9s 117ms/step - loss: 0.2647 - accuracy: 0.9210 - val_loss: 0.7984 - val_accuracy: 0.8554\n"
     ]
    }
   ],
   "source": [
    "History = model.fit_generator(train_datagen.flow(x_train,y_train, batch_size=32),\n",
    "                              epochs = 50, validation_data = (x_val,y_val),\n",
    "                              verbose = 1, steps_per_epoch=x_train.shape[0] // 32)"
   ]
  },
  {
   "cell_type": "code",
   "execution_count": 424,
   "id": "3b4fc849",
   "metadata": {
    "scrolled": true
   },
   "outputs": [
    {
     "data": {
      "image/png": "[encoded data removed]",
      "text/plain": [
       "<IPython.core.display.Image object>"
      ]
     },
     "execution_count": 424,
     "metadata": {},
     "output_type": "execute_result"
    }
   ],
   "source": [
    "plot_model(model, show_shapes=True)"
   ]
  },
  {
   "cell_type": "code",
   "execution_count": 426,
   "id": "77895663",
   "metadata": {},
   "outputs": [
    {
     "data": {
      "text/plain": [
       "[2.8486053943634033,\n",
       " 1.9948898553848267,\n",
       " 1.7262986898422241,\n",
       " 1.5100367069244385,\n",
       " 1.3469064235687256,\n",
       " 1.2426607608795166,\n",
       " 1.1809836626052856,\n",
       " 0.9955532550811768,\n",
       " 0.9580335021018982,\n",
       " 0.893638014793396,\n",
       " 0.8318845629692078,\n",
       " 0.7839273810386658,\n",
       " 0.7725294828414917,\n",
       " 0.710066556930542,\n",
       " 0.7555751800537109,\n",
       " 0.6713955402374268,\n",
       " 0.6399027109146118,\n",
       " 0.57502281665802,\n",
       " 0.6211619973182678,\n",
       " 0.5517581701278687,\n",
       " 0.5572922229766846,\n",
       " 0.5031682848930359,\n",
       " 0.5099452137947083,\n",
       " 0.512195885181427,\n",
       " 0.48541390895843506,\n",
       " 0.436861127614975,\n",
       " 0.45069268345832825,\n",
       " 0.37835967540740967,\n",
       " 0.3801281452178955,\n",
       " 0.35910099744796753,\n",
       " 0.36014309525489807,\n",
       " 0.4006199836730957,\n",
       " 0.30564218759536743,\n",
       " 0.46665894985198975,\n",
       " 0.45460984110832214,\n",
       " 0.3753272593021393,\n",
       " 0.34228751063346863,\n",
       " 0.3862208127975464,\n",
       " 0.282782644033432,\n",
       " 0.2699432075023651,\n",
       " 0.29200097918510437,\n",
       " 0.2838381826877594,\n",
       " 0.3563442826271057,\n",
       " 0.3297954201698303,\n",
       " 0.331390380859375,\n",
       " 0.2995977997779846,\n",
       " 0.26530152559280396,\n",
       " 0.23127718269824982,\n",
       " 0.24366846680641174,\n",
       " 0.26468199491500854]"
      ]
     },
     "execution_count": 426,
     "metadata": {},
     "output_type": "execute_result"
    }
   ],
   "source": [
    "History.history['loss']"
   ]
  },
  {
   "cell_type": "code",
   "execution_count": 402,
   "id": "6cb73c33",
   "metadata": {},
   "outputs": [
    {
     "data": {
      "image/png": "[encoded data removed]",
      "text/plain": [
       "<Figure size 432x288 with 1 Axes>"
      ]
     },
     "metadata": {
      "needs_background": "light"
     },
     "output_type": "display_data"
    }
   ],
   "source": [
    "plt.imshow(x_val[100].reshape(50,50,3))\n",
    "plt.title(f'Label - {y_val[100]}')\n",
    "plt.show()"
   ]
  },
  {
   "cell_type": "code",
   "execution_count": null,
   "id": "9af9b979",
   "metadata": {},
   "outputs": [],
   "source": [
    "# model.compile(loss='sparse_categorical_crossentropy',\n",
    "#              optimizer='adam',\n",
    "#              metrics='accuracy')"
   ]
  },
  {
   "cell_type": "code",
   "execution_count": null,
   "id": "ec6e6fb5",
   "metadata": {},
   "outputs": [],
   "source": [
    "# model.fit(x_train, y_train, epochs=50, validation_data=(x_test, y_test))"
   ]
  },
  {
   "cell_type": "code",
   "execution_count": null,
   "id": "7687a283",
   "metadata": {},
   "outputs": [],
   "source": []
  },
  {
   "cell_type": "code",
   "execution_count": 29,
   "id": "a2a1c70a",
   "metadata": {},
   "outputs": [],
   "source": [
    "# # 정규식을 활용한 브랜드 이름 분리\n",
    "# import re\n",
    "\n",
    "# brand_name=[]\n",
    "# for b in os.listdir('./rgb/'):\n",
    "#     l=re.split(r'[0-9]',b)[0]\n",
    "#     brand_name.append(l)\n",
    "# brand_name"
   ]
  },
  {
   "cell_type": "code",
   "execution_count": 30,
   "id": "f8c23015",
   "metadata": {},
   "outputs": [],
   "source": [
    "# # 브랜드 이름 타겟으로 저장\n",
    "# com_brand='angelinus'\n",
    "# i=0\n",
    "# target=[]\n",
    "# for brand in brand_name:\n",
    "#     if com_brand==brand:\n",
    "#         target.append([brand,i])\n",
    "#     else:\n",
    "#         i+=1\n",
    "#         com_brand=brand\n",
    "#         target.append([brand,i])"
   ]
  },
  {
   "cell_type": "code",
   "execution_count": 31,
   "id": "8b511edc",
   "metadata": {},
   "outputs": [],
   "source": [
    "# target_df=pd.DataFrame(target,columns=['name','label'])\n",
    "# target_df"
   ]
  },
  {
   "cell_type": "code",
   "execution_count": null,
   "id": "f9272b20",
   "metadata": {},
   "outputs": [],
   "source": []
  }
 ],
 "metadata": {
  "kernelspec": {
   "display_name": "Python 3 (ipykernel)",
   "language": "python",
   "name": "python3"
  },
  "language_info": {
   "codemirror_mode": {
    "name": "ipython",
    "version": 3
   },
   "file_extension": ".py",
   "mimetype": "text/x-python",
   "name": "python",
   "nbconvert_exporter": "python",
   "pygments_lexer": "ipython3",
   "version": "3.9.12"
  }
 },
 "nbformat": 4,
 "nbformat_minor": 5
}
