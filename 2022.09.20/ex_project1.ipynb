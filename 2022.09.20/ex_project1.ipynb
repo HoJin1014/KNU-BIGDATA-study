{
 "cells": [
  {
   "cell_type": "markdown",
   "id": "709018cc",
   "metadata": {},
   "source": [
    "# 회사별 로고 예측"
   ]
  },
  {
   "cell_type": "code",
   "execution_count": 295,
   "id": "2563dd6c",
   "metadata": {},
   "outputs": [],
   "source": [
    "# 모듈 로딩\n",
    "import os\n",
    "import cv2\n",
    "import numpy as np\n",
    "import pandas as pd\n",
    "import warnings\n",
    "warnings.filterwarnings('ignore')\n",
    "import matplotlib.pyplot as plt\n",
    "from PIL import Image\n",
    "from bs4 import BeautifulSoup\n",
    "from selenium import webdriver\n",
    "from tensorflow.keras import Sequential\n",
    "from sklearn.utils import all_estimators\n",
    "from sklearn.linear_model import LogisticRegression\n",
    "from sklearn.model_selection import train_test_split\n",
    "from urllib.request import urlopen,Request,urlretrieve\n",
    "from tensorflow.keras.utils import set_random_seed, plot_model\n",
    "from tensorflow.keras.preprocessing.image import ImageDataGenerator\n",
    "from tensorflow.keras.layers import Dense, Conv2D, Flatten, MaxPool2D"
   ]
  },
  {
   "cell_type": "code",
   "execution_count": 44,
   "id": "25216729",
   "metadata": {},
   "outputs": [],
   "source": [
    "# 크롤링 데이터 로테이션시키는 함수\n",
    "def rota_save(color,foldname):\n",
    "    # 폴더 만들기\n",
    "    if not os.path.exists('./'+foldname):\n",
    "        os.makedirs(foldname)\n",
    "    \n",
    "    rotation=[45,90,135,180,225,270,315]\n",
    "    for file in os.listdir('./data/'):\n",
    "        for rot in rotation:\n",
    "            img=np.array(Image.open('./data/'+file).convert(color))\n",
    "            rows,cols = img.shape[0:2]\n",
    "            ro_mt = cv2.getRotationMatrix2D((cols/2,rows/2),rot,1.42)\n",
    "            ro_img = cv2.warpAffine(img, ro_mt,(cols, rows))\n",
    "            \n",
    "            # 이미지 저장\n",
    "            filename=f\"{file}_ro{str(rot)}\"\n",
    "            cv2.imwrite('./'+foldname+'/'+filename+'.png',ro_img)"
   ]
  },
  {
   "cell_type": "code",
   "execution_count": 45,
   "id": "b6440817",
   "metadata": {},
   "outputs": [],
   "source": [
    "# 크롤링 데이터 convert 함수\n",
    "def data_con(color,foldname):\n",
    "    for file in os.listdir('./data/'):\n",
    "        img=Image.open('./data/'+file).convert(color).save('./'+foldname+'/'+file)"
   ]
  },
  {
   "cell_type": "code",
   "execution_count": 46,
   "id": "16a5c7ab",
   "metadata": {},
   "outputs": [],
   "source": [
    "# 흑백으로 로테이션\n",
    "rota_save('L','blwh')\n",
    "\n",
    "# rgb로 로테이션\n",
    "rota_save('RGB','rgb')"
   ]
  },
  {
   "cell_type": "code",
   "execution_count": 47,
   "id": "585a6360",
   "metadata": {},
   "outputs": [],
   "source": [
    "# 원본사진 흑백으로\n",
    "data_con('L','blwh')\n",
    "\n",
    "# 원본사진 색깔로\n",
    "data_con('RGB','rgb')"
   ]
  },
  {
   "cell_type": "code",
   "execution_count": 124,
   "id": "7923a855",
   "metadata": {},
   "outputs": [],
   "source": [
    "def solution(foldname):\n",
    "    l=[]\n",
    "    for i in os.listdir('./'+foldname+'/'):\n",
    "        n=np.array(Image.open('./'+foldname+'/'+i))/255.0\n",
    "        if foldname=='blwh':\n",
    "           n_list=n.reshape(-1,50,50)[0].tolist()\n",
    "        else:\n",
    "            n_list=n.reshape(-1,50,50,3)[0].tolist()\n",
    "        l.append(n_list)\n",
    "    return np.array(l)"
   ]
  },
  {
   "cell_type": "code",
   "execution_count": 125,
   "id": "02d6e409",
   "metadata": {},
   "outputs": [],
   "source": [
    "# 동적 웹 크롤링으로 사진저장 함수\n",
    "def image_save(urlpath,charname):\n",
    "    driver = webdriver.Chrome('chromedriver.exe') # C:/Users/User/EXAM_PANDAS/DAY-0630/DAY-0920\n",
    "    #driver = webdriver.Chrome('C:\\\\workspace’) # Windows 사용자의 설치 경로\n",
    "    driver.get(urlpath)\n",
    "    html=driver.page_source\n",
    "    soup=BeautifulSoup(html,'html.parser')\n",
    "    driver.quit()\n",
    "\n",
    "    # 태그-속성 찾기\n",
    "    image_finds=soup.select(\"div.bRMDJf img\")\n",
    "    \n",
    "    # 이미지의 url찾기\n",
    "    image=[]\n",
    "    for image_find in image_finds:\n",
    "        try:\n",
    "            image.append(image_find['src'])\n",
    "            image.append(image_find['data-src'])\n",
    "        except:\n",
    "            pass\n",
    "    \n",
    "    # 폴더 만들기\n",
    "    if not os.path.exists('./departdata'+charname):\n",
    "        os.makedirs('./departdata'+charname)\n",
    "    \n",
    "    # 파일 저장하기\n",
    "    for i in range(0,len(image)):\n",
    "        urlretrieve(image[i],'./departdata'+charname+'/'+charname+str(i)+'.png')\n",
    "\n",
    "    # 파일 크기 조절\n",
    "    for png in os.listdir('./departdata'+charname):\n",
    "        Image.open('./departdata'+charname+'/'+png).resize((50,50)).save('./departdata'+charname+'/'+png)"
   ]
  },
  {
   "cell_type": "code",
   "execution_count": 3,
   "id": "bfa69559",
   "metadata": {},
   "outputs": [],
   "source": [
    "# 신세계\n",
    "image_save('https://www.google.com/search?q=%EC%8B%A0%EC%84%B8%EA%B3%84%EB%B0%B1%ED%99%94%EC%A0%90+%EB%A1%9C%EA%B3%A0&tbm=isch&ved=2ahUKEwiWx8zJs6L6AhUzNqYKHQVnCpoQ2-cCegQIABAA&oq=%EC%8B%A0%EC%84%B8%EA%B3%84%EB%B0%B1%ED%99%94%EC%A0%80&gs_lcp=CgNpbWcQARgBMgUIABCABDIFCAAQgAQyBQgAEIAEMgUIABCABDIFCAAQgAQyBQgAEIAEMgUIABCABDIFCAAQgAQyBQgAEIAEMgUIABCABDoECCMQJzoLCAAQgAQQsQMQgwFQ0QVY9w9g9xtoAnAAeAGAAYcBiAGHCpIBBDAuMTCYAQCgAQGqAQtnd3Mtd2l6LWltZ8ABAQ&sclient=img&ei=CDApY5ajNLPsmAWFzqnQCQ&bih=744&biw=767','shinsegae')\n",
    "\n",
    "# 현대\n",
    "image_save('https://www.google.com/search?q=%ED%98%84%EB%8C%80%EB%B0%B1%ED%99%94%EC%A0%90+%EB%A1%9C%EA%B3%A0&tbm=isch&ved=2ahUKEwi0sPHOs6L6AhUGdpQKHRNvCvIQ2-cCegQIABAA&oq=%ED%98%84%EB%8C%80%EB%B0%B1%ED%99%94%EC%A0%90+%EB%A1%9C%EA%B3%A0&gs_lcp=CgNpbWcQAzIFCAAQgAQyBQgAEIAEMgUIABCABDIGCAAQHhAIMgYIABAeEAg6BAgjECdQ1wNYrQtgpA9oAHAAeACAAbwBiAGUCJIBAzAuNpgBAKABAaoBC2d3cy13aXotaW1nwAEB&sclient=img&ei=EzApY_TaOYbs0QST3qmQDw&bih=744&biw=767', 'hyundai')\n",
    "\n",
    "# 롯데 \n",
    "image_save('https://www.google.com/search?q=%EB%A1%AF%EB%8D%B0%EB%B0%B1%ED%99%94%EC%A0%90+%EB%A1%9C%EA%B3%A0&tbm=isch&ved=2ahUKEwiQmOv-tKL6AhVSFYgKHY_0CaAQ2-cCegQIABAA&oq=%EB%A1%AF%EB%8D%B0%EB%B0%B1%ED%99%94%EC%A0%90+%EB%A1%9C%EA%B3%A0&gs_lcp=CgNpbWcQAzIFCAAQgAQyBQgAEIAEMgUIABCABDoECCMQJzoGCAAQHhAHOgYIABAeEAhQ-RFYzBdg_RpoAHAAeACAAaABiAHHBpIBAzAuNpgBAKABAaoBC2d3cy13aXotaW1nwAEB&sclient=img&ei=hDEpY5DGOdKqoASP6aeACg&bih=744&biw=767', 'lotte')\n",
    "\n",
    "# 대백\n",
    "image_save('https://www.google.com/search?q=%EB%8C%80%EB%B0%B1+%EB%A1%9C%EA%B3%A0&tbm=isch&ved=2ahUKEwiQmOv-tKL6AhVSFYgKHY_0CaAQ2-cCegQIABAA&oq=%EB%8C%80%EB%B0%B1+%EB%A1%9C%EA%B3%A0&gs_lcp=CgNpbWcQAzIFCAAQgAQ6BAgjECc6BggAEB4QBzoGCAAQHhAIOgQIABAYUL4GWJsKYJYPaAFwAHgBgAGdAYgBswaSAQMwLjaYAQCgAQGqAQtnd3Mtd2l6LWltZ8ABAQ&sclient=img&ei=hDEpY5DGOdKqoASP6aeACg&bih=744&biw=767', 'debec')\n",
    "\n",
    "# 갤러리아\n",
    "image_save('https://www.google.com/search?q=%EA%B0%A4%EB%9F%AC%EB%A6%AC%EC%95%84%EB%B0%B1%ED%99%94%EC%A0%90+%EB%A1%9C%EA%B3%A0&tbm=isch&ved=2ahUKEwiQmOv-tKL6AhVSFYgKHY_0CaAQ2-cCegQIABAA&oq=%EA%B0%A4%EB%9F%AC%EB%A6%AC%EC%95%84%EB%B0%B1%ED%99%94%EC%A0%90+%EB%A1%9C%EA%B3%A0&gs_lcp=CgNpbWcQARgAMgUIABCABDIGCAAQHhAHOgQIIxAnOgYIABAeEAhQsAVY-QxgghxoAnAAeAKAAZoBiAHVCpIBBDAuMTCYAQCgAQGqAQtnd3Mtd2l6LWltZ8ABAQ&sclient=img&ei=hDEpY5DGOdKqoASP6aeACg&bih=744&biw=767', 'galleria')"
   ]
  },
  {
   "cell_type": "code",
   "execution_count": 296,
   "id": "ca47a3f6",
   "metadata": {},
   "outputs": [],
   "source": [
    "shinimg = Image.open('./departdatashinsegae/shinsegae0.png')\n",
    "hyundai = Image.open('./departdatahyundai/hyundai0.png')\n",
    "lotte = Image.open('./departdatalotte/lotte0.png')\n",
    "debec = Image.open('./departdatadebec/debec0.png')\n",
    "galleria = Image.open('./departdatagalleria/galleria0.png')"
   ]
  },
  {
   "cell_type": "code",
   "execution_count": 297,
   "id": "1d21116c",
   "metadata": {
    "scrolled": true
   },
   "outputs": [
    {
     "data": {
      "image/png": "[encoded data removed]",
      "text/plain": [
       "<Figure size 2160x2160 with 5 Axes>"
      ]
     },
     "metadata": {
      "needs_background": "light"
     },
     "output_type": "display_data"
    }
   ],
   "source": [
    "fig=plt.figure(figsize=(30,30))\n",
    "\n",
    "plt.subplot(1, 5, 1)\n",
    "plt.imshow(shinimg)\n",
    "plt.title('Shinsegae Logo', fontsize=24)\n",
    "\n",
    "plt.subplot(1, 5, 2)\n",
    "plt.imshow(hyundai)\n",
    "plt.title('Hyundai Logo', fontsize=24)\n",
    "\n",
    "plt.subplot(1, 5, 3)\n",
    "plt.imshow(lotte)\n",
    "plt.title('Lotte Logo', fontsize=24)\n",
    "\n",
    "plt.subplot(1, 5, 4)\n",
    "plt.imshow(debec)\n",
    "plt.title('Debec Logo', fontsize=24)\n",
    "\n",
    "plt.subplot(1, 5, 5)\n",
    "plt.imshow(galleria)\n",
    "plt.title('Galleria Logo', fontsize=24)\n",
    "plt.show()"
   ]
  },
  {
   "cell_type": "code",
   "execution_count": 298,
   "id": "f951cc97",
   "metadata": {},
   "outputs": [],
   "source": [
    "# a = Image.open('./departdatashinsegae/shinsegae'+str(i)+'.png')\n",
    "# np.array(a).reshape(-1,50*50)[0].tolist()"
   ]
  },
  {
   "cell_type": "code",
   "execution_count": 299,
   "id": "c8be898a",
   "metadata": {
    "scrolled": true
   },
   "outputs": [],
   "source": [
    "allshinimg = []\n",
    "allhyundaiimg = []\n",
    "alllotteimg = []\n",
    "alldebecimg = []\n",
    "allgalleriaimg = []\n",
    "\n",
    "\n",
    "for i in range(22):\n",
    "    a = Image.open('./departdatashinsegae/shinsegae'+str(i)+'.png')\n",
    "    allshinimg.append(np.array(a).reshape(-1,50*50)[0].tolist())\n",
    "    \n",
    "for j in range(20):\n",
    "    b = Image.open('./departdatahyundai/hyundai'+str(j)+'.png')\n",
    "    allhyundaiimg.append(np.array(b).reshape(-1,50*50)[0].tolist())\n",
    "    \n",
    "for o in range(20):\n",
    "    c = Image.open('./departdatalotte/lotte'+str(o)+'.png')\n",
    "    alllotteimg.append(np.array(c).reshape(-1,50*50)[0].tolist())\n",
    "  \n",
    "for f in range(22):\n",
    "    d = Image.open('./departdatadebec/debec'+str(f)+'.png')\n",
    "    alldebecimg.append(np.array(d).reshape(-1,50*50)[0].tolist())\n",
    "    \n",
    "for g in range(20):\n",
    "    e = Image.open('./departdatagalleria/galleria'+str(g)+'.png')\n",
    "    allgalleriaimg.append(np.array(e).reshape(-1,50*50)[0].tolist())"
   ]
  },
  {
   "cell_type": "code",
   "execution_count": 300,
   "id": "a8fab703",
   "metadata": {},
   "outputs": [
    {
     "name": "stdout",
     "output_type": "stream",
     "text": [
      "신세계 로고 :  22\n",
      "현대 로고 :  20\n",
      "롯데 로고 :  20\n",
      "대백 로고 :  22\n",
      "갤러리아 로고 :  20\n"
     ]
    }
   ],
   "source": [
    "print('신세계 로고 : ', len(allshinimg))\n",
    "print('현대 로고 : ', len(allhyundaiimg))\n",
    "print('롯데 로고 : ', len(alllotteimg))\n",
    "print('대백 로고 : ', len(alldebecimg))\n",
    "print('갤러리아 로고 : ', len(allgalleriaimg))"
   ]
  },
  {
   "cell_type": "code",
   "execution_count": 301,
   "id": "319abc43",
   "metadata": {
    "scrolled": true
   },
   "outputs": [
    {
     "data": {
      "text/plain": [
       "(104, 2500)"
      ]
     },
     "execution_count": 301,
     "metadata": {},
     "output_type": "execute_result"
    }
   ],
   "source": [
    "allimgplus=np.row_stack((allshinimg, allhyundaiimg, alllotteimg, alldebecimg, allgalleriaimg))\n",
    "allimgplus.shape"
   ]
  },
  {
   "cell_type": "code",
   "execution_count": 302,
   "id": "04093e5f",
   "metadata": {},
   "outputs": [],
   "source": [
    "target1=np.array([0]*22)\n",
    "target2=np.array([1]*20)\n",
    "target3=np.array([2]*20)\n",
    "target4=np.array([3]*22)\n",
    "target5=np.array([4]*20)"
   ]
  },
  {
   "cell_type": "code",
   "execution_count": 303,
   "id": "34e6a971",
   "metadata": {},
   "outputs": [
    {
     "data": {
      "text/plain": [
       "array([0, 0, 0, 0, 0, 0, 0, 0, 0, 0, 0, 0, 0, 0, 0, 0, 0, 0, 0, 0, 0, 0,\n",
       "       1, 1, 1, 1, 1, 1, 1, 1, 1, 1, 1, 1, 1, 1, 1, 1, 1, 1, 1, 1, 2, 2,\n",
       "       2, 2, 2, 2, 2, 2, 2, 2, 2, 2, 2, 2, 2, 2, 2, 2, 2, 2, 3, 3, 3, 3,\n",
       "       3, 3, 3, 3, 3, 3, 3, 3, 3, 3, 3, 3, 3, 3, 3, 3, 3, 3, 4, 4, 4, 4,\n",
       "       4, 4, 4, 4, 4, 4, 4, 4, 4, 4, 4, 4, 4, 4, 4, 4])"
      ]
     },
     "execution_count": 303,
     "metadata": {},
     "output_type": "execute_result"
    }
   ],
   "source": [
    "target=np.concatenate([target1, target2, target3, target4, target5])\n",
    "target"
   ]
  },
  {
   "cell_type": "code",
   "execution_count": 304,
   "id": "246bc00d",
   "metadata": {},
   "outputs": [
    {
     "data": {
      "text/plain": [
       "array([[  0,   0,   0, ...,   0,   0,   0],\n",
       "       [  0,   0,   0, ...,   0,   0,   0],\n",
       "       [  0,   0,   0, ...,   0,   0,   0],\n",
       "       ...,\n",
       "       [  0,   0,   0, ...,   0,   0,   0],\n",
       "       [ 41,  37,  25, ..., 254, 131, 254],\n",
       "       [254, 254, 254, ..., 228,   1, 254]])"
      ]
     },
     "execution_count": 304,
     "metadata": {},
     "output_type": "execute_result"
    }
   ],
   "source": [
    "allimgplus"
   ]
  },
  {
   "cell_type": "code",
   "execution_count": 305,
   "id": "ef38c57c",
   "metadata": {},
   "outputs": [],
   "source": [
    "allimgplus=allimgplus/255.0"
   ]
  },
  {
   "cell_type": "code",
   "execution_count": 306,
   "id": "cbcd656e",
   "metadata": {},
   "outputs": [],
   "source": [
    "allimgplus=allimgplus.reshape(-1,50,50,1)"
   ]
  },
  {
   "cell_type": "code",
   "execution_count": 307,
   "id": "f5838b15",
   "metadata": {},
   "outputs": [],
   "source": [
    "# 훈련/테스트 데이터 나누기\n",
    "x_train, x_test, y_train, y_test = train_test_split(allimgplus, target,\n",
    "                                                    random_state=42,\n",
    "                                                    stratify=target)"
   ]
  },
  {
   "cell_type": "code",
   "execution_count": 308,
   "id": "e19e6791",
   "metadata": {},
   "outputs": [],
   "source": [
    "# 검증용 데이터 준비\n",
    "from sklearn.model_selection import train_test_split"
   ]
  },
  {
   "cell_type": "code",
   "execution_count": 309,
   "id": "85fa6278",
   "metadata": {},
   "outputs": [],
   "source": [
    "x_train, x_val, y_train, y_val = train_test_split(x_train, y_train,\n",
    "                                                  stratify=y_train,\n",
    "                                                  random_state=42)"
   ]
  },
  {
   "cell_type": "code",
   "execution_count": 310,
   "id": "2e2a24f0",
   "metadata": {},
   "outputs": [
    {
     "name": "stdout",
     "output_type": "stream",
     "text": [
      "(58, 50, 50, 1) (58,)\n",
      "(26, 50, 50, 1) (26,)\n",
      "(20, 50, 50, 1) (20,)\n"
     ]
    }
   ],
   "source": [
    "print(x_train.shape, y_train.shape)\n",
    "print(x_test.shape, y_test.shape)\n",
    "print(x_val.shape, y_val.shape)"
   ]
  },
  {
   "cell_type": "markdown",
   "id": "577bfa89",
   "metadata": {},
   "source": [
    "# 모델"
   ]
  },
  {
   "cell_type": "code",
   "execution_count": 323,
   "id": "9738ce2e",
   "metadata": {},
   "outputs": [],
   "source": [
    "model=Sequential()\n",
    "model.add(Conv2D(58, kernel_size=3, activation='relu', padding='same', input_shape=(50,50,1)))\n",
    "model.add(MaxPool2D())\n",
    "model.add(Conv2D(200, kernel_size=3, padding='same'))\n",
    "model.add(Flatten())\n",
    "model.add(Dense(5, activation='softmax'))"
   ]
  },
  {
   "cell_type": "code",
   "execution_count": 324,
   "id": "f601bea4",
   "metadata": {
    "scrolled": true
   },
   "outputs": [
    {
     "name": "stdout",
     "output_type": "stream",
     "text": [
      "Model: \"sequential_10\"\n",
      "_________________________________________________________________\n",
      " Layer (type)                Output Shape              Param #   \n",
      "=================================================================\n",
      " conv2d_20 (Conv2D)          (None, 50, 50, 58)        580       \n",
      "                                                                 \n",
      " max_pooling2d_10 (MaxPoolin  (None, 25, 25, 58)       0         \n",
      " g2D)                                                            \n",
      "                                                                 \n",
      " conv2d_21 (Conv2D)          (None, 25, 25, 200)       104600    \n",
      "                                                                 \n",
      " flatten_10 (Flatten)        (None, 125000)            0         \n",
      "                                                                 \n",
      " dense_10 (Dense)            (None, 5)                 625005    \n",
      "                                                                 \n",
      "=================================================================\n",
      "Total params: 730,185\n",
      "Trainable params: 730,185\n",
      "Non-trainable params: 0\n",
      "_________________________________________________________________\n"
     ]
    }
   ],
   "source": [
    "model.summary()"
   ]
  },
  {
   "cell_type": "code",
   "execution_count": 325,
   "id": "c6d60a2d",
   "metadata": {},
   "outputs": [],
   "source": [
    "train_datagen = ImageDataGenerator(\n",
    "    \n",
    "    rotation_range=30,\n",
    "    shear_range=0.2,\n",
    "    zoom_range=0.4,\n",
    "    horizontal_flip=True\n",
    ")\n",
    "train_datagen.fit(x_train)"
   ]
  },
  {
   "cell_type": "code",
   "execution_count": 326,
   "id": "82a3ba36",
   "metadata": {},
   "outputs": [],
   "source": [
    "model.compile(optimizer='adam',loss='sparse_categorical_crossentropy',metrics=['accuracy'])"
   ]
  },
  {
   "cell_type": "code",
   "execution_count": 327,
   "id": "a2bfc4d5",
   "metadata": {
    "scrolled": true
   },
   "outputs": [
    {
     "name": "stdout",
     "output_type": "stream",
     "text": [
      "Epoch 1/100\n",
      "1/1 [==============================] - 1s 664ms/step - loss: 1.6161 - accuracy: 0.1538 - val_loss: 3.9864 - val_accuracy: 0.2000\n",
      "Epoch 2/100\n",
      "1/1 [==============================] - 0s 181ms/step - loss: 3.1824 - accuracy: 0.1875 - val_loss: 3.0374 - val_accuracy: 0.3000\n",
      "Epoch 3/100\n",
      "1/1 [==============================] - 0s 203ms/step - loss: 2.3924 - accuracy: 0.2812 - val_loss: 1.8620 - val_accuracy: 0.2500\n",
      "Epoch 4/100\n",
      "1/1 [==============================] - 0s 202ms/step - loss: 1.9921 - accuracy: 0.2500 - val_loss: 2.0858 - val_accuracy: 0.2000\n",
      "Epoch 5/100\n",
      "1/1 [==============================] - 0s 189ms/step - loss: 1.6891 - accuracy: 0.2308 - val_loss: 1.9532 - val_accuracy: 0.2000\n",
      "Epoch 6/100\n",
      "1/1 [==============================] - 0s 178ms/step - loss: 1.8316 - accuracy: 0.3462 - val_loss: 2.0104 - val_accuracy: 0.2000\n",
      "Epoch 7/100\n",
      "1/1 [==============================] - 0s 198ms/step - loss: 1.5823 - accuracy: 0.3125 - val_loss: 2.2073 - val_accuracy: 0.2500\n",
      "Epoch 8/100\n",
      "1/1 [==============================] - 0s 177ms/step - loss: 1.6172 - accuracy: 0.3462 - val_loss: 2.0007 - val_accuracy: 0.2500\n",
      "Epoch 9/100\n",
      "1/1 [==============================] - 0s 180ms/step - loss: 1.7308 - accuracy: 0.3125 - val_loss: 1.8992 - val_accuracy: 0.2000\n",
      "Epoch 10/100\n",
      "1/1 [==============================] - 0s 165ms/step - loss: 1.6267 - accuracy: 0.2692 - val_loss: 1.8938 - val_accuracy: 0.2500\n",
      "Epoch 11/100\n",
      "1/1 [==============================] - 0s 178ms/step - loss: 1.4845 - accuracy: 0.3462 - val_loss: 1.9075 - val_accuracy: 0.3000\n",
      "Epoch 12/100\n",
      "1/1 [==============================] - 0s 181ms/step - loss: 1.7108 - accuracy: 0.2812 - val_loss: 1.8807 - val_accuracy: 0.2500\n",
      "Epoch 13/100\n",
      "1/1 [==============================] - 0s 175ms/step - loss: 1.6863 - accuracy: 0.1875 - val_loss: 1.8457 - val_accuracy: 0.2500\n",
      "Epoch 14/100\n",
      "1/1 [==============================] - 0s 202ms/step - loss: 1.6391 - accuracy: 0.2188 - val_loss: 1.8479 - val_accuracy: 0.2000\n",
      "Epoch 15/100\n",
      "1/1 [==============================] - 0s 178ms/step - loss: 1.4982 - accuracy: 0.3462 - val_loss: 1.8575 - val_accuracy: 0.2000\n",
      "Epoch 16/100\n",
      "1/1 [==============================] - 0s 201ms/step - loss: 1.5525 - accuracy: 0.3438 - val_loss: 1.8263 - val_accuracy: 0.2000\n",
      "Epoch 17/100\n",
      "1/1 [==============================] - 0s 191ms/step - loss: 1.4430 - accuracy: 0.3438 - val_loss: 1.8164 - val_accuracy: 0.2500\n",
      "Epoch 18/100\n",
      "1/1 [==============================] - 0s 174ms/step - loss: 1.4898 - accuracy: 0.3846 - val_loss: 1.8645 - val_accuracy: 0.2000\n",
      "Epoch 19/100\n",
      "1/1 [==============================] - 0s 194ms/step - loss: 1.5188 - accuracy: 0.3750 - val_loss: 1.9517 - val_accuracy: 0.1500\n",
      "Epoch 20/100\n",
      "1/1 [==============================] - 0s 197ms/step - loss: 1.5394 - accuracy: 0.2188 - val_loss: 1.9458 - val_accuracy: 0.1500\n",
      "Epoch 21/100\n",
      "1/1 [==============================] - 0s 198ms/step - loss: 1.5387 - accuracy: 0.3438 - val_loss: 1.9838 - val_accuracy: 0.1500\n",
      "Epoch 22/100\n",
      "1/1 [==============================] - 0s 172ms/step - loss: 1.5214 - accuracy: 0.2692 - val_loss: 2.0873 - val_accuracy: 0.2000\n",
      "Epoch 23/100\n",
      "1/1 [==============================] - 0s 175ms/step - loss: 1.5173 - accuracy: 0.4231 - val_loss: 2.1629 - val_accuracy: 0.3000\n",
      "Epoch 24/100\n",
      "1/1 [==============================] - 0s 192ms/step - loss: 1.4429 - accuracy: 0.4375 - val_loss: 2.1948 - val_accuracy: 0.3000\n",
      "Epoch 25/100\n",
      "1/1 [==============================] - 0s 195ms/step - loss: 1.5671 - accuracy: 0.2812 - val_loss: 2.1888 - val_accuracy: 0.2500\n",
      "Epoch 26/100\n",
      "1/1 [==============================] - 0s 187ms/step - loss: 1.3698 - accuracy: 0.4375 - val_loss: 2.2006 - val_accuracy: 0.2500\n",
      "Epoch 27/100\n",
      "1/1 [==============================] - 0s 171ms/step - loss: 1.4468 - accuracy: 0.3846 - val_loss: 2.1796 - val_accuracy: 0.2500\n",
      "Epoch 28/100\n",
      "1/1 [==============================] - 0s 196ms/step - loss: 1.4541 - accuracy: 0.3438 - val_loss: 2.1629 - val_accuracy: 0.2000\n",
      "Epoch 29/100\n",
      "1/1 [==============================] - 0s 192ms/step - loss: 1.4888 - accuracy: 0.3125 - val_loss: 2.1535 - val_accuracy: 0.2000\n",
      "Epoch 30/100\n",
      "1/1 [==============================] - 0s 182ms/step - loss: 1.4953 - accuracy: 0.3846 - val_loss: 2.2005 - val_accuracy: 0.2000\n",
      "Epoch 31/100\n",
      "1/1 [==============================] - 0s 189ms/step - loss: 1.5201 - accuracy: 0.3750 - val_loss: 2.2653 - val_accuracy: 0.2000\n",
      "Epoch 32/100\n",
      "1/1 [==============================] - 0s 167ms/step - loss: 1.3992 - accuracy: 0.3750 - val_loss: 2.2872 - val_accuracy: 0.2500\n",
      "Epoch 33/100\n",
      "1/1 [==============================] - 0s 161ms/step - loss: 1.4408 - accuracy: 0.4231 - val_loss: 2.3234 - val_accuracy: 0.2500\n",
      "Epoch 34/100\n",
      "1/1 [==============================] - 0s 159ms/step - loss: 1.5816 - accuracy: 0.3462 - val_loss: 2.3721 - val_accuracy: 0.2500\n",
      "Epoch 35/100\n",
      "1/1 [==============================] - 0s 175ms/step - loss: 1.5474 - accuracy: 0.3125 - val_loss: 2.3949 - val_accuracy: 0.2500\n",
      "Epoch 36/100\n",
      "1/1 [==============================] - 0s 163ms/step - loss: 1.5095 - accuracy: 0.2692 - val_loss: 2.4176 - val_accuracy: 0.2000\n",
      "Epoch 37/100\n",
      "1/1 [==============================] - 0s 151ms/step - loss: 1.4614 - accuracy: 0.2692 - val_loss: 2.3804 - val_accuracy: 0.3000\n",
      "Epoch 38/100\n",
      "1/1 [==============================] - 0s 187ms/step - loss: 1.4784 - accuracy: 0.3125 - val_loss: 2.3217 - val_accuracy: 0.2500\n",
      "Epoch 39/100\n",
      "1/1 [==============================] - 0s 173ms/step - loss: 1.4292 - accuracy: 0.4062 - val_loss: 2.2756 - val_accuracy: 0.2000\n",
      "Epoch 40/100\n",
      "1/1 [==============================] - 0s 161ms/step - loss: 1.4092 - accuracy: 0.4615 - val_loss: 2.2373 - val_accuracy: 0.3000\n",
      "Epoch 41/100\n",
      "1/1 [==============================] - 0s 175ms/step - loss: 1.3541 - accuracy: 0.3462 - val_loss: 2.2178 - val_accuracy: 0.3000\n",
      "Epoch 42/100\n",
      "1/1 [==============================] - 0s 194ms/step - loss: 1.2836 - accuracy: 0.4688 - val_loss: 2.2448 - val_accuracy: 0.3000\n",
      "Epoch 43/100\n",
      "1/1 [==============================] - 0s 173ms/step - loss: 1.3467 - accuracy: 0.3846 - val_loss: 2.2955 - val_accuracy: 0.3000\n",
      "Epoch 44/100\n",
      "1/1 [==============================] - 0s 172ms/step - loss: 1.5427 - accuracy: 0.3462 - val_loss: 2.3056 - val_accuracy: 0.2500\n",
      "Epoch 45/100\n",
      "1/1 [==============================] - 0s 178ms/step - loss: 1.5404 - accuracy: 0.2812 - val_loss: 2.2882 - val_accuracy: 0.2500\n",
      "Epoch 46/100\n",
      "1/1 [==============================] - 0s 174ms/step - loss: 1.5525 - accuracy: 0.3750 - val_loss: 2.2499 - val_accuracy: 0.3000\n",
      "Epoch 47/100\n",
      "1/1 [==============================] - 0s 167ms/step - loss: 1.4448 - accuracy: 0.4231 - val_loss: 2.2255 - val_accuracy: 0.3000\n",
      "Epoch 48/100\n",
      "1/1 [==============================] - 0s 174ms/step - loss: 1.5512 - accuracy: 0.3462 - val_loss: 2.2060 - val_accuracy: 0.3500\n",
      "Epoch 49/100\n",
      "1/1 [==============================] - 0s 154ms/step - loss: 1.4708 - accuracy: 0.3846 - val_loss: 2.1816 - val_accuracy: 0.3500\n",
      "Epoch 50/100\n",
      "1/1 [==============================] - 0s 179ms/step - loss: 1.3725 - accuracy: 0.4375 - val_loss: 2.1716 - val_accuracy: 0.3000\n",
      "Epoch 51/100\n",
      "1/1 [==============================] - 0s 186ms/step - loss: 1.4624 - accuracy: 0.3438 - val_loss: 2.1618 - val_accuracy: 0.2500\n",
      "Epoch 52/100\n",
      "1/1 [==============================] - 0s 173ms/step - loss: 1.3425 - accuracy: 0.3846 - val_loss: 2.1621 - val_accuracy: 0.2500\n",
      "Epoch 53/100\n",
      "1/1 [==============================] - 0s 162ms/step - loss: 1.5219 - accuracy: 0.2308 - val_loss: 2.1687 - val_accuracy: 0.1500\n",
      "Epoch 54/100\n",
      "1/1 [==============================] - 0s 169ms/step - loss: 1.4126 - accuracy: 0.3438 - val_loss: 2.1862 - val_accuracy: 0.1500\n",
      "Epoch 55/100\n",
      "1/1 [==============================] - 0s 176ms/step - loss: 1.3966 - accuracy: 0.4688 - val_loss: 2.2289 - val_accuracy: 0.1500\n",
      "Epoch 56/100\n",
      "1/1 [==============================] - 0s 154ms/step - loss: 1.3845 - accuracy: 0.3846 - val_loss: 2.2744 - val_accuracy: 0.2000\n",
      "Epoch 57/100\n",
      "1/1 [==============================] - 0s 155ms/step - loss: 1.3181 - accuracy: 0.4231 - val_loss: 2.3007 - val_accuracy: 0.2000\n",
      "Epoch 58/100\n",
      "1/1 [==============================] - 0s 175ms/step - loss: 1.4393 - accuracy: 0.2812 - val_loss: 2.3321 - val_accuracy: 0.2000\n"
     ]
    },
    {
     "name": "stdout",
     "output_type": "stream",
     "text": [
      "Epoch 59/100\n",
      "1/1 [==============================] - 0s 169ms/step - loss: 1.3385 - accuracy: 0.3438 - val_loss: 2.3587 - val_accuracy: 0.2000\n",
      "Epoch 60/100\n",
      "1/1 [==============================] - 0s 170ms/step - loss: 1.4183 - accuracy: 0.4062 - val_loss: 2.3616 - val_accuracy: 0.2000\n",
      "Epoch 61/100\n",
      "1/1 [==============================] - 0s 154ms/step - loss: 1.3145 - accuracy: 0.3462 - val_loss: 2.3532 - val_accuracy: 0.2000\n",
      "Epoch 62/100\n",
      "1/1 [==============================] - 0s 179ms/step - loss: 1.2554 - accuracy: 0.5625 - val_loss: 2.3420 - val_accuracy: 0.2000\n",
      "Epoch 63/100\n",
      "1/1 [==============================] - 0s 188ms/step - loss: 1.4289 - accuracy: 0.3438 - val_loss: 2.3270 - val_accuracy: 0.2500\n",
      "Epoch 64/100\n",
      "1/1 [==============================] - 0s 197ms/step - loss: 1.2733 - accuracy: 0.4062 - val_loss: 2.3151 - val_accuracy: 0.2000\n",
      "Epoch 65/100\n",
      "1/1 [==============================] - 0s 192ms/step - loss: 1.3742 - accuracy: 0.5000 - val_loss: 2.3287 - val_accuracy: 0.2000\n",
      "Epoch 66/100\n",
      "1/1 [==============================] - 0s 196ms/step - loss: 1.3116 - accuracy: 0.4062 - val_loss: 2.3685 - val_accuracy: 0.3000\n",
      "Epoch 67/100\n",
      "1/1 [==============================] - 0s 167ms/step - loss: 1.2367 - accuracy: 0.5385 - val_loss: 2.4620 - val_accuracy: 0.3000\n",
      "Epoch 68/100\n",
      "1/1 [==============================] - 0s 161ms/step - loss: 1.4044 - accuracy: 0.3462 - val_loss: 2.5557 - val_accuracy: 0.2500\n",
      "Epoch 69/100\n",
      "1/1 [==============================] - 0s 155ms/step - loss: 1.4362 - accuracy: 0.4231 - val_loss: 2.6250 - val_accuracy: 0.2000\n",
      "Epoch 70/100\n",
      "1/1 [==============================] - 0s 155ms/step - loss: 1.3025 - accuracy: 0.4615 - val_loss: 2.6249 - val_accuracy: 0.2500\n",
      "Epoch 71/100\n",
      "1/1 [==============================] - 0s 154ms/step - loss: 1.3645 - accuracy: 0.3846 - val_loss: 2.6375 - val_accuracy: 0.2500\n",
      "Epoch 72/100\n",
      "1/1 [==============================] - 0s 170ms/step - loss: 1.3375 - accuracy: 0.3438 - val_loss: 2.6594 - val_accuracy: 0.2500\n",
      "Epoch 73/100\n",
      "1/1 [==============================] - 0s 157ms/step - loss: 1.4450 - accuracy: 0.3846 - val_loss: 2.6385 - val_accuracy: 0.3000\n",
      "Epoch 74/100\n",
      "1/1 [==============================] - 0s 186ms/step - loss: 1.2529 - accuracy: 0.4231 - val_loss: 2.6769 - val_accuracy: 0.2500\n",
      "Epoch 75/100\n",
      "1/1 [==============================] - 0s 176ms/step - loss: 1.3192 - accuracy: 0.4615 - val_loss: 2.7365 - val_accuracy: 0.2000\n",
      "Epoch 76/100\n",
      "1/1 [==============================] - 0s 172ms/step - loss: 1.1561 - accuracy: 0.5769 - val_loss: 2.8141 - val_accuracy: 0.1500\n",
      "Epoch 77/100\n",
      "1/1 [==============================] - 0s 182ms/step - loss: 1.3477 - accuracy: 0.4231 - val_loss: 2.8833 - val_accuracy: 0.2000\n",
      "Epoch 78/100\n",
      "1/1 [==============================] - 0s 186ms/step - loss: 1.1490 - accuracy: 0.6154 - val_loss: 3.0160 - val_accuracy: 0.1000\n",
      "Epoch 79/100\n",
      "1/1 [==============================] - 0s 185ms/step - loss: 1.2329 - accuracy: 0.5000 - val_loss: 3.1125 - val_accuracy: 0.1500\n",
      "Epoch 80/100\n",
      "1/1 [==============================] - 0s 201ms/step - loss: 1.2390 - accuracy: 0.5938 - val_loss: 3.1131 - val_accuracy: 0.1000\n",
      "Epoch 81/100\n",
      "1/1 [==============================] - 0s 155ms/step - loss: 1.4665 - accuracy: 0.3077 - val_loss: 2.9658 - val_accuracy: 0.1500\n",
      "Epoch 82/100\n",
      "1/1 [==============================] - 0s 173ms/step - loss: 1.3333 - accuracy: 0.4062 - val_loss: 2.7836 - val_accuracy: 0.2500\n",
      "Epoch 83/100\n",
      "1/1 [==============================] - 0s 153ms/step - loss: 1.2983 - accuracy: 0.4615 - val_loss: 2.6655 - val_accuracy: 0.4000\n",
      "Epoch 84/100\n",
      "1/1 [==============================] - 0s 176ms/step - loss: 1.3335 - accuracy: 0.4062 - val_loss: 2.5988 - val_accuracy: 0.4000\n",
      "Epoch 85/100\n",
      "1/1 [==============================] - 0s 161ms/step - loss: 1.4746 - accuracy: 0.3077 - val_loss: 2.5630 - val_accuracy: 0.4000\n",
      "Epoch 86/100\n",
      "1/1 [==============================] - 0s 181ms/step - loss: 1.4100 - accuracy: 0.3438 - val_loss: 2.5580 - val_accuracy: 0.3000\n",
      "Epoch 87/100\n",
      "1/1 [==============================] - 0s 172ms/step - loss: 1.3004 - accuracy: 0.4615 - val_loss: 2.5693 - val_accuracy: 0.2500\n",
      "Epoch 88/100\n",
      "1/1 [==============================] - 0s 200ms/step - loss: 1.2164 - accuracy: 0.5000 - val_loss: 2.5942 - val_accuracy: 0.2500\n",
      "Epoch 89/100\n",
      "1/1 [==============================] - 0s 161ms/step - loss: 1.2104 - accuracy: 0.5385 - val_loss: 2.6455 - val_accuracy: 0.2500\n",
      "Epoch 90/100\n",
      "1/1 [==============================] - 0s 178ms/step - loss: 1.2487 - accuracy: 0.5312 - val_loss: 2.7430 - val_accuracy: 0.3500\n",
      "Epoch 91/100\n",
      "1/1 [==============================] - 0s 172ms/step - loss: 1.1656 - accuracy: 0.5625 - val_loss: 2.8929 - val_accuracy: 0.3500\n",
      "Epoch 92/100\n",
      "1/1 [==============================] - 0s 156ms/step - loss: 1.3434 - accuracy: 0.4615 - val_loss: 2.8510 - val_accuracy: 0.3500\n",
      "Epoch 93/100\n",
      "1/1 [==============================] - 0s 159ms/step - loss: 1.1633 - accuracy: 0.5000 - val_loss: 2.8520 - val_accuracy: 0.3500\n",
      "Epoch 94/100\n",
      "1/1 [==============================] - 0s 172ms/step - loss: 1.1647 - accuracy: 0.5938 - val_loss: 2.9744 - val_accuracy: 0.3000\n",
      "Epoch 95/100\n",
      "1/1 [==============================] - 0s 158ms/step - loss: 1.0822 - accuracy: 0.6923 - val_loss: 3.1140 - val_accuracy: 0.2000\n",
      "Epoch 96/100\n",
      "1/1 [==============================] - 0s 191ms/step - loss: 1.2211 - accuracy: 0.4688 - val_loss: 3.2335 - val_accuracy: 0.2000\n",
      "Epoch 97/100\n",
      "1/1 [==============================] - 0s 179ms/step - loss: 1.3488 - accuracy: 0.3438 - val_loss: 3.2684 - val_accuracy: 0.2000\n",
      "Epoch 98/100\n",
      "1/1 [==============================] - 0s 158ms/step - loss: 1.2059 - accuracy: 0.4231 - val_loss: 3.2530 - val_accuracy: 0.2500\n",
      "Epoch 99/100\n",
      "1/1 [==============================] - 0s 179ms/step - loss: 1.0551 - accuracy: 0.7188 - val_loss: 3.2811 - val_accuracy: 0.3500\n",
      "Epoch 100/100\n",
      "1/1 [==============================] - 0s 179ms/step - loss: 1.2501 - accuracy: 0.5000 - val_loss: 3.3975 - val_accuracy: 0.3500\n"
     ]
    }
   ],
   "source": [
    "History = model.fit_generator(train_datagen.flow(x_train,y_train, batch_size=32),\n",
    "                              epochs = 100, validation_data = (x_val,y_val),\n",
    "                              verbose = 1, steps_per_epoch=x_train.shape[0] // 32)"
   ]
  },
  {
   "cell_type": "code",
   "execution_count": null,
   "id": "d0bee7f7",
   "metadata": {},
   "outputs": [],
   "source": []
  },
  {
   "cell_type": "code",
   "execution_count": 292,
   "id": "2947b818",
   "metadata": {
    "scrolled": true
   },
   "outputs": [
    {
     "data": {
      "image/png": "[encoded data removed]",
      "text/plain": [
       "<IPython.core.display.Image object>"
      ]
     },
     "execution_count": 292,
     "metadata": {},
     "output_type": "execute_result"
    }
   ],
   "source": [
    "plot_model(model, show_shapes=True)"
   ]
  },
  {
   "cell_type": "code",
   "execution_count": 293,
   "id": "9283554e",
   "metadata": {
    "scrolled": true
   },
   "outputs": [
    {
     "data": {
      "image/png": "[encoded data removed]",
      "text/plain": [
       "<Figure size 432x288 with 1 Axes>"
      ]
     },
     "metadata": {
      "needs_background": "light"
     },
     "output_type": "display_data"
    }
   ],
   "source": [
    "plt.imshow(x_val[3].reshape(50,50), cmap='gray')\n",
    "plt.title(f'Label - {y_val[3]}')\n",
    "plt.show()"
   ]
  },
  {
   "cell_type": "code",
   "execution_count": 328,
   "id": "3205ffac",
   "metadata": {},
   "outputs": [
    {
     "data": {
      "text/plain": [
       "array([1, 3, 2, 0, 1, 1, 0, 3, 3, 4, 0, 3, 2, 3, 3, 2, 2, 4, 4, 0, 4, 3,\n",
       "       0, 3, 1, 1, 0, 2, 4, 0, 4, 3, 0, 0, 3, 0, 4, 2, 2, 4, 2, 4, 1, 1,\n",
       "       3, 1, 4, 0, 1, 4, 2, 1, 3, 0, 2, 3, 2, 1])"
      ]
     },
     "execution_count": 328,
     "metadata": {},
     "output_type": "execute_result"
    }
   ],
   "source": [
    "y_train"
   ]
  },
  {
   "cell_type": "code",
   "execution_count": null,
   "id": "660cf2a5",
   "metadata": {},
   "outputs": [],
   "source": []
  },
  {
   "cell_type": "code",
   "execution_count": 329,
   "id": "8732fd35",
   "metadata": {},
   "outputs": [
    {
     "name": "stdout",
     "output_type": "stream",
     "text": [
      "1/1 [==============================] - 0s 49ms/step - loss: 3.0403 - accuracy: 0.4231\n"
     ]
    },
    {
     "data": {
      "text/plain": [
       "[3.0402820110321045, 0.42307692766189575]"
      ]
     },
     "execution_count": 329,
     "metadata": {},
     "output_type": "execute_result"
    }
   ],
   "source": [
    "model.evaluate(x_test, y_test)"
   ]
  },
  {
   "cell_type": "code",
   "execution_count": 330,
   "id": "a739df81",
   "metadata": {},
   "outputs": [
    {
     "name": "stdout",
     "output_type": "stream",
     "text": [
      "1/1 [==============================] - 0s 49ms/step\n"
     ]
    }
   ],
   "source": [
    "pre_y=model.predict(x_test[25].reshape(-1, 50, 50, 1))"
   ]
  },
  {
   "cell_type": "code",
   "execution_count": 331,
   "id": "910ba8de",
   "metadata": {},
   "outputs": [
    {
     "data": {
      "text/plain": [
       "array([[0.29, 0.19, 0.26, 0.12, 0.14]], dtype=float32)"
      ]
     },
     "execution_count": 331,
     "metadata": {},
     "output_type": "execute_result"
    }
   ],
   "source": [
    "pre_y.round(2)"
   ]
  },
  {
   "cell_type": "code",
   "execution_count": 332,
   "id": "f0650830",
   "metadata": {},
   "outputs": [
    {
     "data": {
      "text/plain": [
       "2"
      ]
     },
     "execution_count": 332,
     "metadata": {},
     "output_type": "execute_result"
    }
   ],
   "source": [
    "y_test[25]"
   ]
  },
  {
   "cell_type": "code",
   "execution_count": 333,
   "id": "23cc42d3",
   "metadata": {},
   "outputs": [
    {
     "data": {
      "image/png": "[encoded data removed]",
      "text/plain": [
       "<Figure size 432x288 with 1 Axes>"
      ]
     },
     "metadata": {
      "needs_background": "light"
     },
     "output_type": "display_data"
    }
   ],
   "source": [
    "plt.imshow(x_test[25].reshape(50, 50))\n",
    "plt.show()"
   ]
  },
  {
   "cell_type": "markdown",
   "id": "bf535763",
   "metadata": {},
   "source": [
    "## 전체 데이터\n",
    "---"
   ]
  },
  {
   "cell_type": "code",
   "execution_count": 334,
   "id": "2927a483",
   "metadata": {},
   "outputs": [],
   "source": [
    "blwh=solution('blwh')\n",
    "rgb=solution('rgb')"
   ]
  },
  {
   "cell_type": "code",
   "execution_count": 335,
   "id": "50addb3f",
   "metadata": {},
   "outputs": [],
   "source": [
    "DIR='./target.csv'\n",
    "tarDF=pd.read_csv(DIR)"
   ]
  },
  {
   "cell_type": "code",
   "execution_count": 336,
   "id": "b8d51b77",
   "metadata": {},
   "outputs": [
    {
     "data": {
      "image/png": "[encoded data removed]",
      "text/plain": [
       "<Figure size 720x720 with 2 Axes>"
      ]
     },
     "metadata": {
      "needs_background": "light"
     },
     "output_type": "display_data"
    }
   ],
   "source": [
    "fig=plt.figure(figsize=(10,10))\n",
    "\n",
    "plt.subplot(1, 2, 1)\n",
    "plt.imshow(blwh[3500].reshape(50,50,1))\n",
    "plt.title('black', fontsize=24)\n",
    "\n",
    "plt.subplot(1, 2, 2)\n",
    "plt.imshow(rgb[3500].reshape(50,50,3))\n",
    "plt.title('Color', fontsize=24)\n",
    "plt.show()"
   ]
  },
  {
   "cell_type": "code",
   "execution_count": 337,
   "id": "72b2a60f",
   "metadata": {},
   "outputs": [],
   "source": [
    "data=rgb\n",
    "target=tarDF=np.array(tarDF.label)"
   ]
  },
  {
   "cell_type": "code",
   "execution_count": 338,
   "id": "db55bc3c",
   "metadata": {},
   "outputs": [
    {
     "data": {
      "text/plain": [
       "((4312, 50, 50, 3), (4312,))"
      ]
     },
     "execution_count": 338,
     "metadata": {},
     "output_type": "execute_result"
    }
   ],
   "source": [
    "data.shape, target.shape"
   ]
  },
  {
   "cell_type": "code",
   "execution_count": 339,
   "id": "5e5ff54f",
   "metadata": {},
   "outputs": [],
   "source": [
    "# 훈련/테스트 데이터 나누기\n",
    "x_train, x_test, y_train, y_test = train_test_split(data, target,\n",
    "                                                    random_state=42,\n",
    "                                                    stratify=target)"
   ]
  },
  {
   "cell_type": "code",
   "execution_count": 340,
   "id": "d915a3c1",
   "metadata": {},
   "outputs": [],
   "source": [
    "x_train, x_val, y_train, y_val = train_test_split(x_train, y_train,\n",
    "                                                  stratify=y_train,\n",
    "                                                  random_state=42)"
   ]
  },
  {
   "cell_type": "code",
   "execution_count": 341,
   "id": "10c1ef69",
   "metadata": {},
   "outputs": [
    {
     "name": "stdout",
     "output_type": "stream",
     "text": [
      "(2425, 50, 50, 3) (2425,)\n",
      "(1078, 50, 50, 3) (1078,)\n",
      "(809, 50, 50, 3) (809,)\n"
     ]
    }
   ],
   "source": [
    "print(x_train.shape, y_train.shape)\n",
    "print(x_test.shape, y_test.shape)\n",
    "print(x_val.shape, y_val.shape)"
   ]
  },
  {
   "cell_type": "markdown",
   "id": "c3558638",
   "metadata": {},
   "source": [
    "### 모델"
   ]
  },
  {
   "cell_type": "code",
   "execution_count": 342,
   "id": "169ede9f",
   "metadata": {},
   "outputs": [],
   "source": [
    "model=Sequential()\n",
    "model.add(Conv2D(58, kernel_size=3, activation='relu', padding='same', input_shape=(50,50,3)))\n",
    "model.add(MaxPool2D())\n",
    "model.add(Conv2D(100, kernel_size=3, padding='same'))\n",
    "model.add(MaxPool2D())\n",
    "model.add(Flatten())\n",
    "model.add(Dense(100, activation='relu'))\n",
    "model.add(Dense(26, activation='softmax'))"
   ]
  },
  {
   "cell_type": "code",
   "execution_count": 343,
   "id": "dc256d42",
   "metadata": {},
   "outputs": [
    {
     "name": "stdout",
     "output_type": "stream",
     "text": [
      "Model: \"sequential_11\"\n",
      "_________________________________________________________________\n",
      " Layer (type)                Output Shape              Param #   \n",
      "=================================================================\n",
      " conv2d_22 (Conv2D)          (None, 50, 50, 58)        1624      \n",
      "                                                                 \n",
      " max_pooling2d_11 (MaxPoolin  (None, 25, 25, 58)       0         \n",
      " g2D)                                                            \n",
      "                                                                 \n",
      " conv2d_23 (Conv2D)          (None, 25, 25, 100)       52300     \n",
      "                                                                 \n",
      " max_pooling2d_12 (MaxPoolin  (None, 12, 12, 100)      0         \n",
      " g2D)                                                            \n",
      "                                                                 \n",
      " flatten_11 (Flatten)        (None, 14400)             0         \n",
      "                                                                 \n",
      " dense_11 (Dense)            (None, 100)               1440100   \n",
      "                                                                 \n",
      " dense_12 (Dense)            (None, 26)                2626      \n",
      "                                                                 \n",
      "=================================================================\n",
      "Total params: 1,496,650\n",
      "Trainable params: 1,496,650\n",
      "Non-trainable params: 0\n",
      "_________________________________________________________________\n"
     ]
    }
   ],
   "source": [
    "model.summary()"
   ]
  },
  {
   "cell_type": "code",
   "execution_count": 344,
   "id": "11485b16",
   "metadata": {
    "scrolled": true
   },
   "outputs": [],
   "source": [
    "# ImageDataGenerator\n",
    "train_datagen = ImageDataGenerator(\n",
    "    \n",
    "    rotation_range=30,\n",
    "    shear_range=0.2,\n",
    "    zoom_range=0.4,\n",
    "    horizontal_flip=True\n",
    ")\n",
    "train_datagen.fit(x_train)"
   ]
  },
  {
   "cell_type": "code",
   "execution_count": 345,
   "id": "e3849997",
   "metadata": {},
   "outputs": [],
   "source": [
    "model.compile(optimizer='adam',loss='sparse_categorical_crossentropy',metrics=['accuracy'])"
   ]
  },
  {
   "cell_type": "code",
   "execution_count": 347,
   "id": "62fea540",
   "metadata": {
    "scrolled": true
   },
   "outputs": [
    {
     "name": "stdout",
     "output_type": "stream",
     "text": [
      "Epoch 1/50\n",
      "33/75 [============>.................] - ETA: 3s - loss: 1.4384 - accuracy: 0.5605"
     ]
    },
    {
     "ename": "KeyboardInterrupt",
     "evalue": "",
     "output_type": "error",
     "traceback": [
      "\u001b[1;31m---------------------------------------------------------------------------\u001b[0m",
      "\u001b[1;31mKeyboardInterrupt\u001b[0m                         Traceback (most recent call last)",
      "Input \u001b[1;32mIn [347]\u001b[0m, in \u001b[0;36m<cell line: 1>\u001b[1;34m()\u001b[0m\n\u001b[1;32m----> 1\u001b[0m History1 \u001b[38;5;241m=\u001b[39m \u001b[43mmodel\u001b[49m\u001b[38;5;241;43m.\u001b[39;49m\u001b[43mfit_generator\u001b[49m\u001b[43m(\u001b[49m\u001b[43mtrain_datagen\u001b[49m\u001b[38;5;241;43m.\u001b[39;49m\u001b[43mflow\u001b[49m\u001b[43m(\u001b[49m\u001b[43mx_train\u001b[49m\u001b[43m,\u001b[49m\u001b[43my_train\u001b[49m\u001b[43m,\u001b[49m\u001b[43m \u001b[49m\u001b[43mbatch_size\u001b[49m\u001b[38;5;241;43m=\u001b[39;49m\u001b[38;5;241;43m32\u001b[39;49m\u001b[43m)\u001b[49m\u001b[43m,\u001b[49m\n\u001b[0;32m      2\u001b[0m \u001b[43m                              \u001b[49m\u001b[43mepochs\u001b[49m\u001b[43m \u001b[49m\u001b[38;5;241;43m=\u001b[39;49m\u001b[43m \u001b[49m\u001b[38;5;241;43m50\u001b[39;49m\u001b[43m,\u001b[49m\u001b[43m \u001b[49m\u001b[43mvalidation_data\u001b[49m\u001b[43m \u001b[49m\u001b[38;5;241;43m=\u001b[39;49m\u001b[43m \u001b[49m\u001b[43m(\u001b[49m\u001b[43mx_val\u001b[49m\u001b[43m,\u001b[49m\u001b[43my_val\u001b[49m\u001b[43m)\u001b[49m\u001b[43m,\u001b[49m\n\u001b[0;32m      3\u001b[0m \u001b[43m                              \u001b[49m\u001b[43mverbose\u001b[49m\u001b[43m \u001b[49m\u001b[38;5;241;43m=\u001b[39;49m\u001b[43m \u001b[49m\u001b[38;5;241;43m1\u001b[39;49m\u001b[43m,\u001b[49m\u001b[43m \u001b[49m\u001b[43msteps_per_epoch\u001b[49m\u001b[38;5;241;43m=\u001b[39;49m\u001b[43mx_train\u001b[49m\u001b[38;5;241;43m.\u001b[39;49m\u001b[43mshape\u001b[49m\u001b[43m[\u001b[49m\u001b[38;5;241;43m0\u001b[39;49m\u001b[43m]\u001b[49m\u001b[43m \u001b[49m\u001b[38;5;241;43m/\u001b[39;49m\u001b[38;5;241;43m/\u001b[39;49m\u001b[43m \u001b[49m\u001b[38;5;241;43m32\u001b[39;49m\u001b[43m)\u001b[49m\n",
      "File \u001b[1;32m~\\AppData\\Roaming\\Python\\Python39\\site-packages\\keras\\engine\\training.py:2260\u001b[0m, in \u001b[0;36mModel.fit_generator\u001b[1;34m(self, generator, steps_per_epoch, epochs, verbose, callbacks, validation_data, validation_steps, validation_freq, class_weight, max_queue_size, workers, use_multiprocessing, shuffle, initial_epoch)\u001b[0m\n\u001b[0;32m   2249\u001b[0m \u001b[38;5;124;03m\"\"\"Fits the model on data yielded batch-by-batch by a Python generator.\u001b[39;00m\n\u001b[0;32m   2250\u001b[0m \n\u001b[0;32m   2251\u001b[0m \u001b[38;5;124;03mDEPRECATED:\u001b[39;00m\n\u001b[0;32m   2252\u001b[0m \u001b[38;5;124;03m  `Model.fit` now supports generators, so there is no longer any need to use\u001b[39;00m\n\u001b[0;32m   2253\u001b[0m \u001b[38;5;124;03m  this endpoint.\u001b[39;00m\n\u001b[0;32m   2254\u001b[0m \u001b[38;5;124;03m\"\"\"\u001b[39;00m\n\u001b[0;32m   2255\u001b[0m warnings\u001b[38;5;241m.\u001b[39mwarn(\n\u001b[0;32m   2256\u001b[0m     \u001b[38;5;124m'\u001b[39m\u001b[38;5;124m`Model.fit_generator` is deprecated and \u001b[39m\u001b[38;5;124m'\u001b[39m\n\u001b[0;32m   2257\u001b[0m     \u001b[38;5;124m'\u001b[39m\u001b[38;5;124mwill be removed in a future version. \u001b[39m\u001b[38;5;124m'\u001b[39m\n\u001b[0;32m   2258\u001b[0m     \u001b[38;5;124m'\u001b[39m\u001b[38;5;124mPlease use `Model.fit`, which supports generators.\u001b[39m\u001b[38;5;124m'\u001b[39m,\n\u001b[0;32m   2259\u001b[0m     stacklevel\u001b[38;5;241m=\u001b[39m\u001b[38;5;241m2\u001b[39m)\n\u001b[1;32m-> 2260\u001b[0m \u001b[38;5;28;01mreturn\u001b[39;00m \u001b[38;5;28;43mself\u001b[39;49m\u001b[38;5;241;43m.\u001b[39;49m\u001b[43mfit\u001b[49m\u001b[43m(\u001b[49m\n\u001b[0;32m   2261\u001b[0m \u001b[43m    \u001b[49m\u001b[43mgenerator\u001b[49m\u001b[43m,\u001b[49m\n\u001b[0;32m   2262\u001b[0m \u001b[43m    \u001b[49m\u001b[43msteps_per_epoch\u001b[49m\u001b[38;5;241;43m=\u001b[39;49m\u001b[43msteps_per_epoch\u001b[49m\u001b[43m,\u001b[49m\n\u001b[0;32m   2263\u001b[0m \u001b[43m    \u001b[49m\u001b[43mepochs\u001b[49m\u001b[38;5;241;43m=\u001b[39;49m\u001b[43mepochs\u001b[49m\u001b[43m,\u001b[49m\n\u001b[0;32m   2264\u001b[0m \u001b[43m    \u001b[49m\u001b[43mverbose\u001b[49m\u001b[38;5;241;43m=\u001b[39;49m\u001b[43mverbose\u001b[49m\u001b[43m,\u001b[49m\n\u001b[0;32m   2265\u001b[0m \u001b[43m    \u001b[49m\u001b[43mcallbacks\u001b[49m\u001b[38;5;241;43m=\u001b[39;49m\u001b[43mcallbacks\u001b[49m\u001b[43m,\u001b[49m\n\u001b[0;32m   2266\u001b[0m \u001b[43m    \u001b[49m\u001b[43mvalidation_data\u001b[49m\u001b[38;5;241;43m=\u001b[39;49m\u001b[43mvalidation_data\u001b[49m\u001b[43m,\u001b[49m\n\u001b[0;32m   2267\u001b[0m \u001b[43m    \u001b[49m\u001b[43mvalidation_steps\u001b[49m\u001b[38;5;241;43m=\u001b[39;49m\u001b[43mvalidation_steps\u001b[49m\u001b[43m,\u001b[49m\n\u001b[0;32m   2268\u001b[0m \u001b[43m    \u001b[49m\u001b[43mvalidation_freq\u001b[49m\u001b[38;5;241;43m=\u001b[39;49m\u001b[43mvalidation_freq\u001b[49m\u001b[43m,\u001b[49m\n\u001b[0;32m   2269\u001b[0m \u001b[43m    \u001b[49m\u001b[43mclass_weight\u001b[49m\u001b[38;5;241;43m=\u001b[39;49m\u001b[43mclass_weight\u001b[49m\u001b[43m,\u001b[49m\n\u001b[0;32m   2270\u001b[0m \u001b[43m    \u001b[49m\u001b[43mmax_queue_size\u001b[49m\u001b[38;5;241;43m=\u001b[39;49m\u001b[43mmax_queue_size\u001b[49m\u001b[43m,\u001b[49m\n\u001b[0;32m   2271\u001b[0m \u001b[43m    \u001b[49m\u001b[43mworkers\u001b[49m\u001b[38;5;241;43m=\u001b[39;49m\u001b[43mworkers\u001b[49m\u001b[43m,\u001b[49m\n\u001b[0;32m   2272\u001b[0m \u001b[43m    \u001b[49m\u001b[43muse_multiprocessing\u001b[49m\u001b[38;5;241;43m=\u001b[39;49m\u001b[43muse_multiprocessing\u001b[49m\u001b[43m,\u001b[49m\n\u001b[0;32m   2273\u001b[0m \u001b[43m    \u001b[49m\u001b[43mshuffle\u001b[49m\u001b[38;5;241;43m=\u001b[39;49m\u001b[43mshuffle\u001b[49m\u001b[43m,\u001b[49m\n\u001b[0;32m   2274\u001b[0m \u001b[43m    \u001b[49m\u001b[43minitial_epoch\u001b[49m\u001b[38;5;241;43m=\u001b[39;49m\u001b[43minitial_epoch\u001b[49m\u001b[43m)\u001b[49m\n",
      "File \u001b[1;32m~\\AppData\\Roaming\\Python\\Python39\\site-packages\\keras\\utils\\traceback_utils.py:64\u001b[0m, in \u001b[0;36mfilter_traceback.<locals>.error_handler\u001b[1;34m(*args, **kwargs)\u001b[0m\n\u001b[0;32m     62\u001b[0m filtered_tb \u001b[38;5;241m=\u001b[39m \u001b[38;5;28;01mNone\u001b[39;00m\n\u001b[0;32m     63\u001b[0m \u001b[38;5;28;01mtry\u001b[39;00m:\n\u001b[1;32m---> 64\u001b[0m   \u001b[38;5;28;01mreturn\u001b[39;00m fn(\u001b[38;5;241m*\u001b[39margs, \u001b[38;5;241m*\u001b[39m\u001b[38;5;241m*\u001b[39mkwargs)\n\u001b[0;32m     65\u001b[0m \u001b[38;5;28;01mexcept\u001b[39;00m \u001b[38;5;167;01mException\u001b[39;00m \u001b[38;5;28;01mas\u001b[39;00m e:  \u001b[38;5;66;03m# pylint: disable=broad-except\u001b[39;00m\n\u001b[0;32m     66\u001b[0m   filtered_tb \u001b[38;5;241m=\u001b[39m _process_traceback_frames(e\u001b[38;5;241m.\u001b[39m__traceback__)\n",
      "File \u001b[1;32m~\\AppData\\Roaming\\Python\\Python39\\site-packages\\keras\\engine\\training.py:1409\u001b[0m, in \u001b[0;36mModel.fit\u001b[1;34m(self, x, y, batch_size, epochs, verbose, callbacks, validation_split, validation_data, shuffle, class_weight, sample_weight, initial_epoch, steps_per_epoch, validation_steps, validation_batch_size, validation_freq, max_queue_size, workers, use_multiprocessing)\u001b[0m\n\u001b[0;32m   1402\u001b[0m \u001b[38;5;28;01mwith\u001b[39;00m tf\u001b[38;5;241m.\u001b[39mprofiler\u001b[38;5;241m.\u001b[39mexperimental\u001b[38;5;241m.\u001b[39mTrace(\n\u001b[0;32m   1403\u001b[0m     \u001b[38;5;124m'\u001b[39m\u001b[38;5;124mtrain\u001b[39m\u001b[38;5;124m'\u001b[39m,\n\u001b[0;32m   1404\u001b[0m     epoch_num\u001b[38;5;241m=\u001b[39mepoch,\n\u001b[0;32m   1405\u001b[0m     step_num\u001b[38;5;241m=\u001b[39mstep,\n\u001b[0;32m   1406\u001b[0m     batch_size\u001b[38;5;241m=\u001b[39mbatch_size,\n\u001b[0;32m   1407\u001b[0m     _r\u001b[38;5;241m=\u001b[39m\u001b[38;5;241m1\u001b[39m):\n\u001b[0;32m   1408\u001b[0m   callbacks\u001b[38;5;241m.\u001b[39mon_train_batch_begin(step)\n\u001b[1;32m-> 1409\u001b[0m   tmp_logs \u001b[38;5;241m=\u001b[39m \u001b[38;5;28;43mself\u001b[39;49m\u001b[38;5;241;43m.\u001b[39;49m\u001b[43mtrain_function\u001b[49m\u001b[43m(\u001b[49m\u001b[43miterator\u001b[49m\u001b[43m)\u001b[49m\n\u001b[0;32m   1410\u001b[0m   \u001b[38;5;28;01mif\u001b[39;00m data_handler\u001b[38;5;241m.\u001b[39mshould_sync:\n\u001b[0;32m   1411\u001b[0m     context\u001b[38;5;241m.\u001b[39masync_wait()\n",
      "File \u001b[1;32m~\\AppData\\Roaming\\Python\\Python39\\site-packages\\tensorflow\\python\\util\\traceback_utils.py:150\u001b[0m, in \u001b[0;36mfilter_traceback.<locals>.error_handler\u001b[1;34m(*args, **kwargs)\u001b[0m\n\u001b[0;32m    148\u001b[0m filtered_tb \u001b[38;5;241m=\u001b[39m \u001b[38;5;28;01mNone\u001b[39;00m\n\u001b[0;32m    149\u001b[0m \u001b[38;5;28;01mtry\u001b[39;00m:\n\u001b[1;32m--> 150\u001b[0m   \u001b[38;5;28;01mreturn\u001b[39;00m fn(\u001b[38;5;241m*\u001b[39margs, \u001b[38;5;241m*\u001b[39m\u001b[38;5;241m*\u001b[39mkwargs)\n\u001b[0;32m    151\u001b[0m \u001b[38;5;28;01mexcept\u001b[39;00m \u001b[38;5;167;01mException\u001b[39;00m \u001b[38;5;28;01mas\u001b[39;00m e:\n\u001b[0;32m    152\u001b[0m   filtered_tb \u001b[38;5;241m=\u001b[39m _process_traceback_frames(e\u001b[38;5;241m.\u001b[39m__traceback__)\n",
      "File \u001b[1;32m~\\AppData\\Roaming\\Python\\Python39\\site-packages\\tensorflow\\python\\eager\\def_function.py:915\u001b[0m, in \u001b[0;36mFunction.__call__\u001b[1;34m(self, *args, **kwds)\u001b[0m\n\u001b[0;32m    912\u001b[0m compiler \u001b[38;5;241m=\u001b[39m \u001b[38;5;124m\"\u001b[39m\u001b[38;5;124mxla\u001b[39m\u001b[38;5;124m\"\u001b[39m \u001b[38;5;28;01mif\u001b[39;00m \u001b[38;5;28mself\u001b[39m\u001b[38;5;241m.\u001b[39m_jit_compile \u001b[38;5;28;01melse\u001b[39;00m \u001b[38;5;124m\"\u001b[39m\u001b[38;5;124mnonXla\u001b[39m\u001b[38;5;124m\"\u001b[39m\n\u001b[0;32m    914\u001b[0m \u001b[38;5;28;01mwith\u001b[39;00m OptionalXlaContext(\u001b[38;5;28mself\u001b[39m\u001b[38;5;241m.\u001b[39m_jit_compile):\n\u001b[1;32m--> 915\u001b[0m   result \u001b[38;5;241m=\u001b[39m \u001b[38;5;28mself\u001b[39m\u001b[38;5;241m.\u001b[39m_call(\u001b[38;5;241m*\u001b[39margs, \u001b[38;5;241m*\u001b[39m\u001b[38;5;241m*\u001b[39mkwds)\n\u001b[0;32m    917\u001b[0m new_tracing_count \u001b[38;5;241m=\u001b[39m \u001b[38;5;28mself\u001b[39m\u001b[38;5;241m.\u001b[39mexperimental_get_tracing_count()\n\u001b[0;32m    918\u001b[0m without_tracing \u001b[38;5;241m=\u001b[39m (tracing_count \u001b[38;5;241m==\u001b[39m new_tracing_count)\n",
      "File \u001b[1;32m~\\AppData\\Roaming\\Python\\Python39\\site-packages\\tensorflow\\python\\eager\\def_function.py:947\u001b[0m, in \u001b[0;36mFunction._call\u001b[1;34m(self, *args, **kwds)\u001b[0m\n\u001b[0;32m    944\u001b[0m   \u001b[38;5;28mself\u001b[39m\u001b[38;5;241m.\u001b[39m_lock\u001b[38;5;241m.\u001b[39mrelease()\n\u001b[0;32m    945\u001b[0m   \u001b[38;5;66;03m# In this case we have created variables on the first call, so we run the\u001b[39;00m\n\u001b[0;32m    946\u001b[0m   \u001b[38;5;66;03m# defunned version which is guaranteed to never create variables.\u001b[39;00m\n\u001b[1;32m--> 947\u001b[0m   \u001b[38;5;28;01mreturn\u001b[39;00m \u001b[38;5;28mself\u001b[39m\u001b[38;5;241m.\u001b[39m_stateless_fn(\u001b[38;5;241m*\u001b[39margs, \u001b[38;5;241m*\u001b[39m\u001b[38;5;241m*\u001b[39mkwds)  \u001b[38;5;66;03m# pylint: disable=not-callable\u001b[39;00m\n\u001b[0;32m    948\u001b[0m \u001b[38;5;28;01melif\u001b[39;00m \u001b[38;5;28mself\u001b[39m\u001b[38;5;241m.\u001b[39m_stateful_fn \u001b[38;5;129;01mis\u001b[39;00m \u001b[38;5;129;01mnot\u001b[39;00m \u001b[38;5;28;01mNone\u001b[39;00m:\n\u001b[0;32m    949\u001b[0m   \u001b[38;5;66;03m# Release the lock early so that multiple threads can perform the call\u001b[39;00m\n\u001b[0;32m    950\u001b[0m   \u001b[38;5;66;03m# in parallel.\u001b[39;00m\n\u001b[0;32m    951\u001b[0m   \u001b[38;5;28mself\u001b[39m\u001b[38;5;241m.\u001b[39m_lock\u001b[38;5;241m.\u001b[39mrelease()\n",
      "File \u001b[1;32m~\\AppData\\Roaming\\Python\\Python39\\site-packages\\tensorflow\\python\\eager\\function.py:2453\u001b[0m, in \u001b[0;36mFunction.__call__\u001b[1;34m(self, *args, **kwargs)\u001b[0m\n\u001b[0;32m   2450\u001b[0m \u001b[38;5;28;01mwith\u001b[39;00m \u001b[38;5;28mself\u001b[39m\u001b[38;5;241m.\u001b[39m_lock:\n\u001b[0;32m   2451\u001b[0m   (graph_function,\n\u001b[0;32m   2452\u001b[0m    filtered_flat_args) \u001b[38;5;241m=\u001b[39m \u001b[38;5;28mself\u001b[39m\u001b[38;5;241m.\u001b[39m_maybe_define_function(args, kwargs)\n\u001b[1;32m-> 2453\u001b[0m \u001b[38;5;28;01mreturn\u001b[39;00m \u001b[43mgraph_function\u001b[49m\u001b[38;5;241;43m.\u001b[39;49m\u001b[43m_call_flat\u001b[49m\u001b[43m(\u001b[49m\n\u001b[0;32m   2454\u001b[0m \u001b[43m    \u001b[49m\u001b[43mfiltered_flat_args\u001b[49m\u001b[43m,\u001b[49m\u001b[43m \u001b[49m\u001b[43mcaptured_inputs\u001b[49m\u001b[38;5;241;43m=\u001b[39;49m\u001b[43mgraph_function\u001b[49m\u001b[38;5;241;43m.\u001b[39;49m\u001b[43mcaptured_inputs\u001b[49m\u001b[43m)\u001b[49m\n",
      "File \u001b[1;32m~\\AppData\\Roaming\\Python\\Python39\\site-packages\\tensorflow\\python\\eager\\function.py:1860\u001b[0m, in \u001b[0;36mConcreteFunction._call_flat\u001b[1;34m(self, args, captured_inputs, cancellation_manager)\u001b[0m\n\u001b[0;32m   1856\u001b[0m possible_gradient_type \u001b[38;5;241m=\u001b[39m gradients_util\u001b[38;5;241m.\u001b[39mPossibleTapeGradientTypes(args)\n\u001b[0;32m   1857\u001b[0m \u001b[38;5;28;01mif\u001b[39;00m (possible_gradient_type \u001b[38;5;241m==\u001b[39m gradients_util\u001b[38;5;241m.\u001b[39mPOSSIBLE_GRADIENT_TYPES_NONE\n\u001b[0;32m   1858\u001b[0m     \u001b[38;5;129;01mand\u001b[39;00m executing_eagerly):\n\u001b[0;32m   1859\u001b[0m   \u001b[38;5;66;03m# No tape is watching; skip to running the function.\u001b[39;00m\n\u001b[1;32m-> 1860\u001b[0m   \u001b[38;5;28;01mreturn\u001b[39;00m \u001b[38;5;28mself\u001b[39m\u001b[38;5;241m.\u001b[39m_build_call_outputs(\u001b[38;5;28;43mself\u001b[39;49m\u001b[38;5;241;43m.\u001b[39;49m\u001b[43m_inference_function\u001b[49m\u001b[38;5;241;43m.\u001b[39;49m\u001b[43mcall\u001b[49m\u001b[43m(\u001b[49m\n\u001b[0;32m   1861\u001b[0m \u001b[43m      \u001b[49m\u001b[43mctx\u001b[49m\u001b[43m,\u001b[49m\u001b[43m \u001b[49m\u001b[43margs\u001b[49m\u001b[43m,\u001b[49m\u001b[43m \u001b[49m\u001b[43mcancellation_manager\u001b[49m\u001b[38;5;241;43m=\u001b[39;49m\u001b[43mcancellation_manager\u001b[49m\u001b[43m)\u001b[49m)\n\u001b[0;32m   1862\u001b[0m forward_backward \u001b[38;5;241m=\u001b[39m \u001b[38;5;28mself\u001b[39m\u001b[38;5;241m.\u001b[39m_select_forward_and_backward_functions(\n\u001b[0;32m   1863\u001b[0m     args,\n\u001b[0;32m   1864\u001b[0m     possible_gradient_type,\n\u001b[0;32m   1865\u001b[0m     executing_eagerly)\n\u001b[0;32m   1866\u001b[0m forward_function, args_with_tangents \u001b[38;5;241m=\u001b[39m forward_backward\u001b[38;5;241m.\u001b[39mforward()\n",
      "File \u001b[1;32m~\\AppData\\Roaming\\Python\\Python39\\site-packages\\tensorflow\\python\\eager\\function.py:497\u001b[0m, in \u001b[0;36m_EagerDefinedFunction.call\u001b[1;34m(self, ctx, args, cancellation_manager)\u001b[0m\n\u001b[0;32m    495\u001b[0m \u001b[38;5;28;01mwith\u001b[39;00m _InterpolateFunctionError(\u001b[38;5;28mself\u001b[39m):\n\u001b[0;32m    496\u001b[0m   \u001b[38;5;28;01mif\u001b[39;00m cancellation_manager \u001b[38;5;129;01mis\u001b[39;00m \u001b[38;5;28;01mNone\u001b[39;00m:\n\u001b[1;32m--> 497\u001b[0m     outputs \u001b[38;5;241m=\u001b[39m \u001b[43mexecute\u001b[49m\u001b[38;5;241;43m.\u001b[39;49m\u001b[43mexecute\u001b[49m\u001b[43m(\u001b[49m\n\u001b[0;32m    498\u001b[0m \u001b[43m        \u001b[49m\u001b[38;5;28;43mstr\u001b[39;49m\u001b[43m(\u001b[49m\u001b[38;5;28;43mself\u001b[39;49m\u001b[38;5;241;43m.\u001b[39;49m\u001b[43msignature\u001b[49m\u001b[38;5;241;43m.\u001b[39;49m\u001b[43mname\u001b[49m\u001b[43m)\u001b[49m\u001b[43m,\u001b[49m\n\u001b[0;32m    499\u001b[0m \u001b[43m        \u001b[49m\u001b[43mnum_outputs\u001b[49m\u001b[38;5;241;43m=\u001b[39;49m\u001b[38;5;28;43mself\u001b[39;49m\u001b[38;5;241;43m.\u001b[39;49m\u001b[43m_num_outputs\u001b[49m\u001b[43m,\u001b[49m\n\u001b[0;32m    500\u001b[0m \u001b[43m        \u001b[49m\u001b[43minputs\u001b[49m\u001b[38;5;241;43m=\u001b[39;49m\u001b[43margs\u001b[49m\u001b[43m,\u001b[49m\n\u001b[0;32m    501\u001b[0m \u001b[43m        \u001b[49m\u001b[43mattrs\u001b[49m\u001b[38;5;241;43m=\u001b[39;49m\u001b[43mattrs\u001b[49m\u001b[43m,\u001b[49m\n\u001b[0;32m    502\u001b[0m \u001b[43m        \u001b[49m\u001b[43mctx\u001b[49m\u001b[38;5;241;43m=\u001b[39;49m\u001b[43mctx\u001b[49m\u001b[43m)\u001b[49m\n\u001b[0;32m    503\u001b[0m   \u001b[38;5;28;01melse\u001b[39;00m:\n\u001b[0;32m    504\u001b[0m     outputs \u001b[38;5;241m=\u001b[39m execute\u001b[38;5;241m.\u001b[39mexecute_with_cancellation(\n\u001b[0;32m    505\u001b[0m         \u001b[38;5;28mstr\u001b[39m(\u001b[38;5;28mself\u001b[39m\u001b[38;5;241m.\u001b[39msignature\u001b[38;5;241m.\u001b[39mname),\n\u001b[0;32m    506\u001b[0m         num_outputs\u001b[38;5;241m=\u001b[39m\u001b[38;5;28mself\u001b[39m\u001b[38;5;241m.\u001b[39m_num_outputs,\n\u001b[1;32m   (...)\u001b[0m\n\u001b[0;32m    509\u001b[0m         ctx\u001b[38;5;241m=\u001b[39mctx,\n\u001b[0;32m    510\u001b[0m         cancellation_manager\u001b[38;5;241m=\u001b[39mcancellation_manager)\n",
      "File \u001b[1;32m~\\AppData\\Roaming\\Python\\Python39\\site-packages\\tensorflow\\python\\eager\\execute.py:54\u001b[0m, in \u001b[0;36mquick_execute\u001b[1;34m(op_name, num_outputs, inputs, attrs, ctx, name)\u001b[0m\n\u001b[0;32m     52\u001b[0m \u001b[38;5;28;01mtry\u001b[39;00m:\n\u001b[0;32m     53\u001b[0m   ctx\u001b[38;5;241m.\u001b[39mensure_initialized()\n\u001b[1;32m---> 54\u001b[0m   tensors \u001b[38;5;241m=\u001b[39m \u001b[43mpywrap_tfe\u001b[49m\u001b[38;5;241;43m.\u001b[39;49m\u001b[43mTFE_Py_Execute\u001b[49m\u001b[43m(\u001b[49m\u001b[43mctx\u001b[49m\u001b[38;5;241;43m.\u001b[39;49m\u001b[43m_handle\u001b[49m\u001b[43m,\u001b[49m\u001b[43m \u001b[49m\u001b[43mdevice_name\u001b[49m\u001b[43m,\u001b[49m\u001b[43m \u001b[49m\u001b[43mop_name\u001b[49m\u001b[43m,\u001b[49m\n\u001b[0;32m     55\u001b[0m \u001b[43m                                      \u001b[49m\u001b[43minputs\u001b[49m\u001b[43m,\u001b[49m\u001b[43m \u001b[49m\u001b[43mattrs\u001b[49m\u001b[43m,\u001b[49m\u001b[43m \u001b[49m\u001b[43mnum_outputs\u001b[49m\u001b[43m)\u001b[49m\n\u001b[0;32m     56\u001b[0m \u001b[38;5;28;01mexcept\u001b[39;00m core\u001b[38;5;241m.\u001b[39m_NotOkStatusException \u001b[38;5;28;01mas\u001b[39;00m e:\n\u001b[0;32m     57\u001b[0m   \u001b[38;5;28;01mif\u001b[39;00m name \u001b[38;5;129;01mis\u001b[39;00m \u001b[38;5;129;01mnot\u001b[39;00m \u001b[38;5;28;01mNone\u001b[39;00m:\n",
      "\u001b[1;31mKeyboardInterrupt\u001b[0m: "
     ]
    }
   ],
   "source": [
    "History1 = model.fit_generator(train_datagen.flow(x_train,y_train, batch_size=32),\n",
    "                              epochs = 50, validation_data = (x_val,y_val),\n",
    "                              verbose = 1, steps_per_epoch=x_train.shape[0] // 32)"
   ]
  },
  {
   "cell_type": "code",
   "execution_count": null,
   "id": "6df03924",
   "metadata": {},
   "outputs": [],
   "source": [
    "plot_model(model, show_shapes=True)"
   ]
  },
  {
   "cell_type": "code",
   "execution_count": null,
   "id": "b813398a",
   "metadata": {},
   "outputs": [],
   "source": [
    "plt.imshow(x_val[100].reshape(50,50,3))\n",
    "plt.title(f'Label - {y_val[100]}')\n",
    "plt.show()"
   ]
  },
  {
   "cell_type": "code",
   "execution_count": null,
   "id": "0c3f1046",
   "metadata": {},
   "outputs": [],
   "source": []
  },
  {
   "cell_type": "code",
   "execution_count": null,
   "id": "63a07aa0",
   "metadata": {},
   "outputs": [],
   "source": []
  }
 ],
 "metadata": {
  "kernelspec": {
   "display_name": "Python 3 (ipykernel)",
   "language": "python",
   "name": "python3"
  },
  "language_info": {
   "codemirror_mode": {
    "name": "ipython",
    "version": 3
   },
   "file_extension": ".py",
   "mimetype": "text/x-python",
   "name": "python",
   "nbconvert_exporter": "python",
   "pygments_lexer": "ipython3",
   "version": "3.9.12"
  }
 },
 "nbformat": 4,
 "nbformat_minor": 5
}
