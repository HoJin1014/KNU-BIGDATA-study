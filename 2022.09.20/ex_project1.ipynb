{
 "cells": [
  {
   "cell_type": "code",
   "execution_count": 2,
   "id": "3451ccac",
   "metadata": {},
   "outputs": [],
   "source": [
    "# 모듈 로딩\n",
    "import os\n",
    "import cv2\n",
    "import numpy as np\n",
    "import matplotlib.pyplot as plt\n",
    "from PIL import Image\n",
    "from bs4 import BeautifulSoup\n",
    "from selenium import webdriver\n",
    "from sklearn.utils import all_estimators\n",
    "from sklearn.linear_model import LogisticRegression\n",
    "from sklearn.model_selection import train_test_split\n",
    "from urllib.request import urlopen,Request,urlretrieve"
   ]
  },
  {
   "cell_type": "code",
   "execution_count": 4,
   "id": "37a932d9",
   "metadata": {},
   "outputs": [],
   "source": [
    "# 동적 웹 크롤링으로 사진저장 함수\n",
    "def image_save(urlpath,charname):\n",
    "    driver = webdriver.Chrome('chromedriver.exe') # C:/Users/User/EXAM_PANDAS/DAY-0630/DAY-0920\n",
    "    #driver = webdriver.Chrome('C:\\\\workspace’) # Windows 사용자의 설치 경로\n",
    "    driver.get(urlpath)\n",
    "    html=driver.page_source\n",
    "    soup=BeautifulSoup(html,'html.parser')\n",
    "    driver.quit()\n",
    "\n",
    "    # 태그-속성 찾기\n",
    "    image_finds=soup.select(\"div.bRMDJf img\")\n",
    "    \n",
    "    # 이미지의 url찾기\n",
    "    image=[]\n",
    "    for image_find in image_finds:\n",
    "        try:\n",
    "            image.append(image_find['src'])\n",
    "            image.append(image_find['data-src'])\n",
    "        except:\n",
    "            pass\n",
    "    \n",
    "    # 폴더 만들기\n",
    "    if not os.path.exists('./departdata'+charname):\n",
    "        os.makedirs('./departdata'+charname)\n",
    "    \n",
    "    # 파일 저장하기\n",
    "    for i in range(0,len(image)):\n",
    "        urlretrieve(image[i],'./departdata'+charname+'/'+charname+str(i)+'.png')\n",
    "\n",
    "    # 파일 크기 조절\n",
    "    for png in os.listdir('./departdata'+charname):\n",
    "        Image.open('./departdata'+charname+'/'+png).resize((50,50)).save('./departdata'+charname+'/'+png)"
   ]
  },
  {
   "cell_type": "code",
   "execution_count": 5,
   "id": "24737cf6",
   "metadata": {},
   "outputs": [],
   "source": [
    "# 신세계\n",
    "image_save('https://www.google.com/search?q=%EC%8B%A0%EC%84%B8%EA%B3%84%EB%B0%B1%ED%99%94%EC%A0%90+%EB%A1%9C%EA%B3%A0&tbm=isch&ved=2ahUKEwiWx8zJs6L6AhUzNqYKHQVnCpoQ2-cCegQIABAA&oq=%EC%8B%A0%EC%84%B8%EA%B3%84%EB%B0%B1%ED%99%94%EC%A0%80&gs_lcp=CgNpbWcQARgBMgUIABCABDIFCAAQgAQyBQgAEIAEMgUIABCABDIFCAAQgAQyBQgAEIAEMgUIABCABDIFCAAQgAQyBQgAEIAEMgUIABCABDoECCMQJzoLCAAQgAQQsQMQgwFQ0QVY9w9g9xtoAnAAeAGAAYcBiAGHCpIBBDAuMTCYAQCgAQGqAQtnd3Mtd2l6LWltZ8ABAQ&sclient=img&ei=CDApY5ajNLPsmAWFzqnQCQ&bih=744&biw=767','shinsegae')\n",
    "\n",
    "# 현대\n",
    "image_save('https://www.google.com/search?q=%ED%98%84%EB%8C%80%EB%B0%B1%ED%99%94%EC%A0%90+%EB%A1%9C%EA%B3%A0&tbm=isch&ved=2ahUKEwi0sPHOs6L6AhUGdpQKHRNvCvIQ2-cCegQIABAA&oq=%ED%98%84%EB%8C%80%EB%B0%B1%ED%99%94%EC%A0%90+%EB%A1%9C%EA%B3%A0&gs_lcp=CgNpbWcQAzIFCAAQgAQyBQgAEIAEMgUIABCABDIGCAAQHhAIMgYIABAeEAg6BAgjECdQ1wNYrQtgpA9oAHAAeACAAbwBiAGUCJIBAzAuNpgBAKABAaoBC2d3cy13aXotaW1nwAEB&sclient=img&ei=EzApY_TaOYbs0QST3qmQDw&bih=744&biw=767', 'hyundai')\n",
    "\n",
    "# 롯데 \n",
    "image_save('https://www.google.com/search?q=%EB%A1%AF%EB%8D%B0%EB%B0%B1%ED%99%94%EC%A0%90+%EB%A1%9C%EA%B3%A0&tbm=isch&ved=2ahUKEwiQmOv-tKL6AhVSFYgKHY_0CaAQ2-cCegQIABAA&oq=%EB%A1%AF%EB%8D%B0%EB%B0%B1%ED%99%94%EC%A0%90+%EB%A1%9C%EA%B3%A0&gs_lcp=CgNpbWcQAzIFCAAQgAQyBQgAEIAEMgUIABCABDoECCMQJzoGCAAQHhAHOgYIABAeEAhQ-RFYzBdg_RpoAHAAeACAAaABiAHHBpIBAzAuNpgBAKABAaoBC2d3cy13aXotaW1nwAEB&sclient=img&ei=hDEpY5DGOdKqoASP6aeACg&bih=744&biw=767', 'lotte')\n",
    "\n",
    "# 대백\n",
    "image_save('https://www.google.com/search?q=%EB%8C%80%EB%B0%B1+%EB%A1%9C%EA%B3%A0&tbm=isch&ved=2ahUKEwiQmOv-tKL6AhVSFYgKHY_0CaAQ2-cCegQIABAA&oq=%EB%8C%80%EB%B0%B1+%EB%A1%9C%EA%B3%A0&gs_lcp=CgNpbWcQAzIFCAAQgAQ6BAgjECc6BggAEB4QBzoGCAAQHhAIOgQIABAYUL4GWJsKYJYPaAFwAHgBgAGdAYgBswaSAQMwLjaYAQCgAQGqAQtnd3Mtd2l6LWltZ8ABAQ&sclient=img&ei=hDEpY5DGOdKqoASP6aeACg&bih=744&biw=767', 'debec')\n",
    "\n",
    "# 갤러리아\n",
    "image_save('https://www.google.com/search?q=%EA%B0%A4%EB%9F%AC%EB%A6%AC%EC%95%84%EB%B0%B1%ED%99%94%EC%A0%90+%EB%A1%9C%EA%B3%A0&tbm=isch&ved=2ahUKEwiQmOv-tKL6AhVSFYgKHY_0CaAQ2-cCegQIABAA&oq=%EA%B0%A4%EB%9F%AC%EB%A6%AC%EC%95%84%EB%B0%B1%ED%99%94%EC%A0%90+%EB%A1%9C%EA%B3%A0&gs_lcp=CgNpbWcQARgAMgUIABCABDIGCAAQHhAHOgQIIxAnOgYIABAeEAhQsAVY-QxgghxoAnAAeAKAAZoBiAHVCpIBBDAuMTCYAQCgAQGqAQtnd3Mtd2l6LWltZ8ABAQ&sclient=img&ei=hDEpY5DGOdKqoASP6aeACg&bih=744&biw=767', 'galleria')"
   ]
  },
  {
   "cell_type": "code",
   "execution_count": 9,
   "id": "bb8f867c",
   "metadata": {},
   "outputs": [],
   "source": [
    "shinimg = Image.open('./departdatashinsegae/shinsegae0.png')\n",
    "hyundai = Image.open('./departdatahyundai/hyundai0.png')\n",
    "lotte = Image.open('./departdatalotte/lotte0.png')\n",
    "debec = Image.open('./departdatadebec/debec0.png')\n",
    "galleria = Image.open('./departdatagalleria/galleria0.png')"
   ]
  },
  {
   "cell_type": "code",
   "execution_count": 22,
   "id": "616c3ece",
   "metadata": {
    "scrolled": true
   },
   "outputs": [
    {
     "data": {
      "image/png": "[encoded data removed]",
      "text/plain": [
       "<Figure size 2160x2160 with 5 Axes>"
      ]
     },
     "metadata": {
      "needs_background": "light"
     },
     "output_type": "display_data"
    }
   ],
   "source": [
    "fig=plt.figure(figsize=(30,30))\n",
    "\n",
    "plt.subplot(1, 5, 1)\n",
    "plt.imshow(shinimg)\n",
    "plt.title('Shinsegae Logo')\n",
    "\n",
    "plt.subplot(1, 5, 2)\n",
    "plt.imshow(hyundai)\n",
    "plt.title('Hyundai Logo')\n",
    "\n",
    "plt.subplot(1, 5, 3)\n",
    "plt.imshow(lotte)\n",
    "plt.title('Lotte Logo')\n",
    "\n",
    "plt.subplot(1, 5, 4)\n",
    "plt.imshow(debec)\n",
    "plt.title('Debec Logo')\n",
    "\n",
    "plt.subplot(1, 5, 5)\n",
    "plt.imshow(galleria)\n",
    "plt.title('Galleria Logo')\n",
    "plt.show()"
   ]
  },
  {
   "cell_type": "code",
   "execution_count": 55,
   "id": "3a37b7da",
   "metadata": {},
   "outputs": [
    {
     "name": "stdout",
     "output_type": "stream",
     "text": [
      "<class 'numpy.ndarray'>\n"
     ]
    }
   ],
   "source": [
    "# a = Image.open('./departdatashinsegae/shinsegae0.png')\n",
    "# b = np.array(a).reshape(-1*50*50)"
   ]
  },
  {
   "cell_type": "code",
   "execution_count": 63,
   "id": "f2b9186a",
   "metadata": {
    "scrolled": true
   },
   "outputs": [],
   "source": [
    "allshinimg = []\n",
    "allhyundaiimg = []\n",
    "alllotteimg = []\n",
    "alldebecimg = []\n",
    "allgalleriaimg = []\n",
    "\n",
    "\n",
    "for i in range(22):\n",
    "    a = Image.open('./departdatashinsegae/shinsegae'+str(i)+'.png')\n",
    "    allshinimg.append(np.array(a).reshape(-1*50*50))\n",
    "    \n",
    "for j in range(20):\n",
    "    b = Image.open('./departdatahyundai/hyundai'+str(j)+'.png')\n",
    "    allhyundaiimg.append(np.array(b).reshape(-1*50*50))\n",
    "    \n",
    "for o in range(20):\n",
    "    c = Image.open('./departdatalotte/lotte'+str(o)+'.png')\n",
    "    alllotteimg.append(np.array(c).reshape(-1*50*50))\n",
    "    \n",
    "for f in range(22):\n",
    "    d = Image.open('./departdatadebec/debec'+str(f)+'.png')\n",
    "    alldebecimg.append(np.array(d).reshape(-1*50*50))\n",
    "    \n",
    "for g in range(20):\n",
    "    e = Image.open('./departdatagalleria/galleria'+str(g)+'.png')\n",
    "    allgalleriaimg.append(np.array(e).reshape(-1*50*50))"
   ]
  },
  {
   "cell_type": "code",
   "execution_count": 57,
   "id": "fd505327",
   "metadata": {},
   "outputs": [],
   "source": [
    "# allshinimg.append('./departdatashinsegae/')"
   ]
  },
  {
   "cell_type": "code",
   "execution_count": 64,
   "id": "21476493",
   "metadata": {},
   "outputs": [
    {
     "data": {
      "text/plain": [
       "[array([0, 0, 0, ..., 0, 0, 0], dtype=uint8),\n",
       " array([0, 0, 0, ..., 0, 0, 0], dtype=uint8),\n",
       " array([0, 0, 0, ..., 0, 0, 0], dtype=uint8),\n",
       " array([255, 255, 255, ..., 255, 255, 255], dtype=uint8),\n",
       " array([0, 0, 0, ..., 0, 0, 0], dtype=uint8),\n",
       " array([0, 0, 0, ..., 0, 0, 0], dtype=uint8),\n",
       " array([0, 0, 0, ..., 0, 0, 0], dtype=uint8),\n",
       " array([0, 0, 0, ..., 0, 0, 0], dtype=uint8),\n",
       " array([0, 0, 0, ..., 0, 0, 0], dtype=uint8),\n",
       " array([0, 0, 0, ..., 1, 1, 1], dtype=uint8),\n",
       " array([255, 255, 255, ..., 255, 255, 255], dtype=uint8),\n",
       " array([254, 254, 254, ..., 255, 255, 255], dtype=uint8),\n",
       " array([255, 255, 255, ..., 255, 255, 255], dtype=uint8),\n",
       " array([0, 0, 0, ..., 0, 0, 0], dtype=uint8),\n",
       " array([0, 0, 0, ..., 0, 0, 0], dtype=uint8),\n",
       " array([255, 255, 255, ..., 177, 196, 194], dtype=uint8),\n",
       " array([255, 255, 255, ..., 255, 255, 255], dtype=uint8),\n",
       " array([0, 0, 0, ..., 0, 0, 0], dtype=uint8),\n",
       " array([255, 255, 255, ..., 255, 255, 255], dtype=uint8),\n",
       " array([41, 37, 25, ..., 69, 53, 28], dtype=uint8)]"
      ]
     },
     "execution_count": 64,
     "metadata": {},
     "output_type": "execute_result"
    }
   ],
   "source": [
    "allgalleriaimg"
   ]
  },
  {
   "cell_type": "code",
   "execution_count": 40,
   "id": "975647f7",
   "metadata": {},
   "outputs": [],
   "source": [
    "# if fold=='gy2.ipynb':\n",
    "#         continue\n",
    "#     else:"
   ]
  },
  {
   "cell_type": "code",
   "execution_count": 45,
   "id": "008bcaa8",
   "metadata": {},
   "outputs": [],
   "source": [
    "# # 배열 변환\n",
    "# input=np.array([[0]*1600])\n",
    "# target=[]\n",
    "# for fold in os.listdir('./'):\n",
    "#         for file in os.listdir('./'+fold):\n",
    "#             target.append(fold)\n",
    "#             im=cv2.imread('./'+fold+'/'+file)\n",
    "#             black=cv2.cvtColor(im,cv2.COLOR_BGR2GRAY)\n",
    "#             black_arr=black.reshape(-1,50*50)\n",
    "#             input=np.row_stack((input,black_arr))"
   ]
  },
  {
   "cell_type": "code",
   "execution_count": null,
   "id": "8a98d7b8",
   "metadata": {},
   "outputs": [],
   "source": []
  }
 ],
 "metadata": {
  "kernelspec": {
   "display_name": "Python 3 (ipykernel)",
   "language": "python",
   "name": "python3"
  },
  "language_info": {
   "codemirror_mode": {
    "name": "ipython",
    "version": 3
   },
   "file_extension": ".py",
   "mimetype": "text/x-python",
   "name": "python",
   "nbconvert_exporter": "python",
   "pygments_lexer": "ipython3",
   "version": "3.9.12"
  }
 },
 "nbformat": 4,
 "nbformat_minor": 5
}
