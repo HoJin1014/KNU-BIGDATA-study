{
 "cells": [
  {
   "cell_type": "markdown",
   "id": "735a732d",
   "metadata": {},
   "source": [
    "# 회사별 로고 예측"
   ]
  },
  {
   "cell_type": "code",
   "execution_count": 1,
   "id": "2563dd6c",
   "metadata": {},
   "outputs": [],
   "source": [
    "# 모듈 로딩\n",
    "import os\n",
    "import cv2\n",
    "import numpy as np\n",
    "import pandas as pd\n",
    "import warnings\n",
    "warnings.filterwarnings('ignore')\n",
    "import matplotlib.pyplot as plt\n",
    "from PIL import Image\n",
    "from bs4 import BeautifulSoup\n",
    "from selenium import webdriver\n",
    "from tensorflow.keras import Sequential\n",
    "from sklearn.utils import all_estimators\n",
    "from sklearn.linear_model import LogisticRegression\n",
    "from sklearn.model_selection import train_test_split\n",
    "from urllib.request import urlopen,Request,urlretrieve\n",
    "from tensorflow.keras.utils import set_random_seed, plot_model\n",
    "from tensorflow.keras.preprocessing.image import ImageDataGenerator\n",
    "from tensorflow.keras.layers import Dense, Conv2D, Flatten, MaxPool2D"
   ]
  },
  {
   "cell_type": "code",
   "execution_count": 2,
   "id": "5ead4f36",
   "metadata": {},
   "outputs": [],
   "source": [
    "# 크롤링 데이터 로테이션시키는 함수\n",
    "def rota_save(color,foldname):\n",
    "    # 폴더 만들기\n",
    "    if not os.path.exists('./'+foldname):\n",
    "        os.makedirs(foldname)\n",
    "    \n",
    "    rotation=[45,90,135,180,225,270,315]\n",
    "    for file in os.listdir('./data/'):\n",
    "        for rot in rotation:\n",
    "            img=np.array(Image.open('./data/'+file).convert(color))\n",
    "            rows,cols = img.shape[0:2]\n",
    "            ro_mt = cv2.getRotationMatrix2D((cols/2,rows/2),rot,1.42)\n",
    "            ro_img = cv2.warpAffine(img, ro_mt,(cols, rows))\n",
    "            \n",
    "            # 이미지 저장\n",
    "            filename=f\"{file}_ro{str(rot)}\"\n",
    "            cv2.imwrite('./'+foldname+'/'+filename+'.png',ro_img)"
   ]
  },
  {
   "cell_type": "code",
   "execution_count": 3,
   "id": "09f64a50",
   "metadata": {},
   "outputs": [],
   "source": [
    "# 크롤링 데이터 convert 함수\n",
    "def data_con(color,foldname):\n",
    "    for file in os.listdir('./data/'):\n",
    "        img=Image.open('./data/'+file).convert(color).save('./'+foldname+'/'+file)"
   ]
  },
  {
   "cell_type": "code",
   "execution_count": 4,
   "id": "b23bfeb7",
   "metadata": {},
   "outputs": [],
   "source": [
    "# 흑백으로 로테이션\n",
    "rota_save('L','blwh')\n",
    "\n",
    "# rgb로 로테이션\n",
    "rota_save('RGB','rgb')"
   ]
  },
  {
   "cell_type": "code",
   "execution_count": 5,
   "id": "66077eda",
   "metadata": {},
   "outputs": [],
   "source": [
    "# 원본사진 흑백으로\n",
    "data_con('L','blwh')\n",
    "\n",
    "# 원본사진 색깔로\n",
    "data_con('RGB','rgb')"
   ]
  },
  {
   "cell_type": "code",
   "execution_count": 6,
   "id": "1b500cfb",
   "metadata": {},
   "outputs": [],
   "source": [
    "def solution(foldname):\n",
    "    l=[]\n",
    "    for i in os.listdir('./'+foldname+'/'):\n",
    "        n=np.array(Image.open('./'+foldname+'/'+i))/255.0\n",
    "        if foldname=='blwh':\n",
    "           n_list=n.reshape(-1,50,50)[0].tolist()\n",
    "        else:\n",
    "            n_list=n.reshape(-1,50,50,3)[0].tolist()\n",
    "        l.append(n_list)\n",
    "    return np.array(l)"
   ]
  },
  {
   "cell_type": "code",
   "execution_count": 7,
   "id": "02d6e409",
   "metadata": {},
   "outputs": [],
   "source": [
    "# 동적 웹 크롤링으로 사진저장 함수\n",
    "def image_save(urlpath,charname):\n",
    "    driver = webdriver.Chrome('chromedriver.exe') # C:/Users/User/EXAM_PANDAS/DAY-0630/DAY-0920\n",
    "    #driver = webdriver.Chrome('C:\\\\workspace’) # Windows 사용자의 설치 경로\n",
    "    driver.get(urlpath)\n",
    "    html=driver.page_source\n",
    "    soup=BeautifulSoup(html,'html.parser')\n",
    "    driver.quit()\n",
    "\n",
    "    # 태그-속성 찾기\n",
    "    image_finds=soup.select(\"div.bRMDJf img\")\n",
    "    \n",
    "    # 이미지의 url찾기\n",
    "    image=[]\n",
    "    for image_find in image_finds:\n",
    "        try:\n",
    "            image.append(image_find['src'])\n",
    "            image.append(image_find['data-src'])\n",
    "        except:\n",
    "            pass\n",
    "    \n",
    "    # 폴더 만들기\n",
    "    if not os.path.exists('./departdata'+charname):\n",
    "        os.makedirs('./departdata'+charname)\n",
    "    \n",
    "    # 파일 저장하기\n",
    "    for i in range(0,len(image)):\n",
    "        urlretrieve(image[i],'./departdata'+charname+'/'+charname+str(i)+'.png')\n",
    "\n",
    "    # 파일 크기 조절\n",
    "    for png in os.listdir('./departdata'+charname):\n",
    "        Image.open('./departdata'+charname+'/'+png).resize((50,50)).save('./departdata'+charname+'/'+png)"
   ]
  },
  {
   "cell_type": "code",
   "execution_count": 8,
   "id": "bfa69559",
   "metadata": {},
   "outputs": [],
   "source": [
    "# 신세계\n",
    "image_save('https://www.google.com/search?q=%EC%8B%A0%EC%84%B8%EA%B3%84%EB%B0%B1%ED%99%94%EC%A0%90+%EB%A1%9C%EA%B3%A0&tbm=isch&ved=2ahUKEwiWx8zJs6L6AhUzNqYKHQVnCpoQ2-cCegQIABAA&oq=%EC%8B%A0%EC%84%B8%EA%B3%84%EB%B0%B1%ED%99%94%EC%A0%80&gs_lcp=CgNpbWcQARgBMgUIABCABDIFCAAQgAQyBQgAEIAEMgUIABCABDIFCAAQgAQyBQgAEIAEMgUIABCABDIFCAAQgAQyBQgAEIAEMgUIABCABDoECCMQJzoLCAAQgAQQsQMQgwFQ0QVY9w9g9xtoAnAAeAGAAYcBiAGHCpIBBDAuMTCYAQCgAQGqAQtnd3Mtd2l6LWltZ8ABAQ&sclient=img&ei=CDApY5ajNLPsmAWFzqnQCQ&bih=744&biw=767','shinsegae')\n",
    "\n",
    "# 현대\n",
    "image_save('https://www.google.com/search?q=%ED%98%84%EB%8C%80%EB%B0%B1%ED%99%94%EC%A0%90+%EB%A1%9C%EA%B3%A0&tbm=isch&ved=2ahUKEwi0sPHOs6L6AhUGdpQKHRNvCvIQ2-cCegQIABAA&oq=%ED%98%84%EB%8C%80%EB%B0%B1%ED%99%94%EC%A0%90+%EB%A1%9C%EA%B3%A0&gs_lcp=CgNpbWcQAzIFCAAQgAQyBQgAEIAEMgUIABCABDIGCAAQHhAIMgYIABAeEAg6BAgjECdQ1wNYrQtgpA9oAHAAeACAAbwBiAGUCJIBAzAuNpgBAKABAaoBC2d3cy13aXotaW1nwAEB&sclient=img&ei=EzApY_TaOYbs0QST3qmQDw&bih=744&biw=767', 'hyundai')\n",
    "\n",
    "# 롯데 \n",
    "image_save('https://www.google.com/search?q=%EB%A1%AF%EB%8D%B0%EB%B0%B1%ED%99%94%EC%A0%90+%EB%A1%9C%EA%B3%A0&tbm=isch&ved=2ahUKEwiQmOv-tKL6AhVSFYgKHY_0CaAQ2-cCegQIABAA&oq=%EB%A1%AF%EB%8D%B0%EB%B0%B1%ED%99%94%EC%A0%90+%EB%A1%9C%EA%B3%A0&gs_lcp=CgNpbWcQAzIFCAAQgAQyBQgAEIAEMgUIABCABDoECCMQJzoGCAAQHhAHOgYIABAeEAhQ-RFYzBdg_RpoAHAAeACAAaABiAHHBpIBAzAuNpgBAKABAaoBC2d3cy13aXotaW1nwAEB&sclient=img&ei=hDEpY5DGOdKqoASP6aeACg&bih=744&biw=767', 'lotte')\n",
    "\n",
    "# 대백\n",
    "image_save('https://www.google.com/search?q=%EB%8C%80%EB%B0%B1+%EB%A1%9C%EA%B3%A0&tbm=isch&ved=2ahUKEwiQmOv-tKL6AhVSFYgKHY_0CaAQ2-cCegQIABAA&oq=%EB%8C%80%EB%B0%B1+%EB%A1%9C%EA%B3%A0&gs_lcp=CgNpbWcQAzIFCAAQgAQ6BAgjECc6BggAEB4QBzoGCAAQHhAIOgQIABAYUL4GWJsKYJYPaAFwAHgBgAGdAYgBswaSAQMwLjaYAQCgAQGqAQtnd3Mtd2l6LWltZ8ABAQ&sclient=img&ei=hDEpY5DGOdKqoASP6aeACg&bih=744&biw=767', 'debec')\n",
    "\n",
    "# 갤러리아\n",
    "image_save('https://www.google.com/search?q=%EA%B0%A4%EB%9F%AC%EB%A6%AC%EC%95%84%EB%B0%B1%ED%99%94%EC%A0%90+%EB%A1%9C%EA%B3%A0&tbm=isch&ved=2ahUKEwiQmOv-tKL6AhVSFYgKHY_0CaAQ2-cCegQIABAA&oq=%EA%B0%A4%EB%9F%AC%EB%A6%AC%EC%95%84%EB%B0%B1%ED%99%94%EC%A0%90+%EB%A1%9C%EA%B3%A0&gs_lcp=CgNpbWcQARgAMgUIABCABDIGCAAQHhAHOgQIIxAnOgYIABAeEAhQsAVY-QxgghxoAnAAeAKAAZoBiAHVCpIBBDAuMTCYAQCgAQGqAQtnd3Mtd2l6LWltZ8ABAQ&sclient=img&ei=hDEpY5DGOdKqoASP6aeACg&bih=744&biw=767', 'galleria')"
   ]
  },
  {
   "cell_type": "code",
   "execution_count": 9,
   "id": "ca47a3f6",
   "metadata": {},
   "outputs": [],
   "source": [
    "shinimg = Image.open('./departdatashinsegae/shinsegae0.png')\n",
    "hyundai = Image.open('./departdatahyundai/hyundai0.png')\n",
    "lotte = Image.open('./departdatalotte/lotte0.png')\n",
    "debec = Image.open('./departdatadebec/debec0.png')\n",
    "galleria = Image.open('./departdatagalleria/galleria0.png')"
   ]
  },
  {
   "cell_type": "code",
   "execution_count": 10,
   "id": "1d21116c",
   "metadata": {
    "scrolled": true
   },
   "outputs": [
    {
     "data": {
      "image/png": "[encoded data removed]",
      "text/plain": [
       "<Figure size 2160x2160 with 5 Axes>"
      ]
     },
     "metadata": {
      "needs_background": "light"
     },
     "output_type": "display_data"
    }
   ],
   "source": [
    "fig=plt.figure(figsize=(30,30))\n",
    "\n",
    "plt.subplot(1, 5, 1)\n",
    "plt.imshow(shinimg)\n",
    "plt.title('Shinsegae Logo', fontsize=24)\n",
    "\n",
    "plt.subplot(1, 5, 2)\n",
    "plt.imshow(hyundai)\n",
    "plt.title('Hyundai Logo', fontsize=24)\n",
    "\n",
    "plt.subplot(1, 5, 3)\n",
    "plt.imshow(lotte)\n",
    "plt.title('Lotte Logo', fontsize=24)\n",
    "\n",
    "plt.subplot(1, 5, 4)\n",
    "plt.imshow(debec)\n",
    "plt.title('Debec Logo', fontsize=24)\n",
    "\n",
    "plt.subplot(1, 5, 5)\n",
    "plt.imshow(galleria)\n",
    "plt.title('Galleria Logo', fontsize=24)\n",
    "plt.show()"
   ]
  },
  {
   "cell_type": "code",
   "execution_count": 11,
   "id": "f951cc97",
   "metadata": {},
   "outputs": [],
   "source": [
    "# a = Image.open('./departdatashinsegae/shinsegae'+str(i)+'.png')\n",
    "# np.array(a).reshape(-1,50*50)[0].tolist()"
   ]
  },
  {
   "cell_type": "code",
   "execution_count": 12,
   "id": "c8be898a",
   "metadata": {
    "scrolled": true
   },
   "outputs": [],
   "source": [
    "allshinimg = []\n",
    "allhyundaiimg = []\n",
    "alllotteimg = []\n",
    "alldebecimg = []\n",
    "allgalleriaimg = []\n",
    "\n",
    "\n",
    "for i in range(22):\n",
    "    a = Image.open('./departdatashinsegae/shinsegae'+str(i)+'.png')\n",
    "    allshinimg.append(np.array(a).reshape(-1,50*50)[0].tolist())\n",
    "    \n",
    "for j in range(20):\n",
    "    b = Image.open('./departdatahyundai/hyundai'+str(j)+'.png')\n",
    "    allhyundaiimg.append(np.array(b).reshape(-1,50*50)[0].tolist())\n",
    "    \n",
    "for o in range(20):\n",
    "    c = Image.open('./departdatalotte/lotte'+str(o)+'.png')\n",
    "    alllotteimg.append(np.array(c).reshape(-1,50*50)[0].tolist())\n",
    "  \n",
    "for f in range(22):\n",
    "    d = Image.open('./departdatadebec/debec'+str(f)+'.png')\n",
    "    alldebecimg.append(np.array(d).reshape(-1,50*50)[0].tolist())\n",
    "    \n",
    "for g in range(20):\n",
    "    e = Image.open('./departdatagalleria/galleria'+str(g)+'.png')\n",
    "    allgalleriaimg.append(np.array(e).reshape(-1,50*50)[0].tolist())"
   ]
  },
  {
   "cell_type": "code",
   "execution_count": 13,
   "id": "a8fab703",
   "metadata": {},
   "outputs": [
    {
     "name": "stdout",
     "output_type": "stream",
     "text": [
      "신세계 로고 :  22\n",
      "현대 로고 :  20\n",
      "롯데 로고 :  20\n",
      "대백 로고 :  22\n",
      "갤러리아 로고 :  20\n"
     ]
    }
   ],
   "source": [
    "print('신세계 로고 : ', len(allshinimg))\n",
    "print('현대 로고 : ', len(allhyundaiimg))\n",
    "print('롯데 로고 : ', len(alllotteimg))\n",
    "print('대백 로고 : ', len(alldebecimg))\n",
    "print('갤러리아 로고 : ', len(allgalleriaimg))"
   ]
  },
  {
   "cell_type": "code",
   "execution_count": 14,
   "id": "319abc43",
   "metadata": {
    "scrolled": true
   },
   "outputs": [
    {
     "data": {
      "text/plain": [
       "(104, 2500)"
      ]
     },
     "execution_count": 14,
     "metadata": {},
     "output_type": "execute_result"
    }
   ],
   "source": [
    "allimgplus=np.row_stack((allshinimg, allhyundaiimg, alllotteimg, alldebecimg, allgalleriaimg))\n",
    "allimgplus.shape"
   ]
  },
  {
   "cell_type": "code",
   "execution_count": 15,
   "id": "04093e5f",
   "metadata": {},
   "outputs": [],
   "source": [
    "target1=np.array([0]*22)\n",
    "target2=np.array([1]*20)\n",
    "target3=np.array([2]*20)\n",
    "target4=np.array([3]*22)\n",
    "target5=np.array([4]*20)"
   ]
  },
  {
   "cell_type": "code",
   "execution_count": 16,
   "id": "34e6a971",
   "metadata": {},
   "outputs": [
    {
     "data": {
      "text/plain": [
       "array([0, 0, 0, 0, 0, 0, 0, 0, 0, 0, 0, 0, 0, 0, 0, 0, 0, 0, 0, 0, 0, 0,\n",
       "       1, 1, 1, 1, 1, 1, 1, 1, 1, 1, 1, 1, 1, 1, 1, 1, 1, 1, 1, 1, 2, 2,\n",
       "       2, 2, 2, 2, 2, 2, 2, 2, 2, 2, 2, 2, 2, 2, 2, 2, 2, 2, 3, 3, 3, 3,\n",
       "       3, 3, 3, 3, 3, 3, 3, 3, 3, 3, 3, 3, 3, 3, 3, 3, 3, 3, 4, 4, 4, 4,\n",
       "       4, 4, 4, 4, 4, 4, 4, 4, 4, 4, 4, 4, 4, 4, 4, 4])"
      ]
     },
     "execution_count": 16,
     "metadata": {},
     "output_type": "execute_result"
    }
   ],
   "source": [
    "target=np.concatenate([target1, target2, target3, target4, target5])\n",
    "target"
   ]
  },
  {
   "cell_type": "code",
   "execution_count": 17,
   "id": "8ea844fd",
   "metadata": {},
   "outputs": [
    {
     "data": {
      "text/plain": [
       "array([[  0,   0,   0, ...,   0,   0,   0],\n",
       "       [  0,   0,   0, ...,   0,   0,   0],\n",
       "       [  0,   0,   0, ...,   0,   0,   0],\n",
       "       ...,\n",
       "       [  0,   0,   0, ...,   0,   0,   0],\n",
       "       [255, 255, 255, ..., 164, 173, 241],\n",
       "       [  1,   1,   1, ...,   1,   1,   1]])"
      ]
     },
     "execution_count": 17,
     "metadata": {},
     "output_type": "execute_result"
    }
   ],
   "source": [
    "allimgplus"
   ]
  },
  {
   "cell_type": "code",
   "execution_count": 18,
   "id": "ef38c57c",
   "metadata": {},
   "outputs": [],
   "source": [
    "# 스케일링\n",
    "allimgplus=allimgplus/255.0"
   ]
  },
  {
   "cell_type": "code",
   "execution_count": 19,
   "id": "cbcd656e",
   "metadata": {},
   "outputs": [],
   "source": [
    "allimgplus=allimgplus.reshape(-1,50,50,1)"
   ]
  },
  {
   "cell_type": "code",
   "execution_count": 20,
   "id": "f5838b15",
   "metadata": {},
   "outputs": [],
   "source": [
    "# 훈련/테스트 데이터 나누기\n",
    "x_train, x_test, y_train, y_test = train_test_split(allimgplus, target,\n",
    "                                                    random_state=42,\n",
    "                                                    stratify=target)"
   ]
  },
  {
   "cell_type": "code",
   "execution_count": 21,
   "id": "85fa6278",
   "metadata": {},
   "outputs": [],
   "source": [
    "x_train, x_val, y_train, y_val = train_test_split(x_train, y_train,\n",
    "                                                  stratify=y_train,\n",
    "                                                  random_state=42)"
   ]
  },
  {
   "cell_type": "code",
   "execution_count": 22,
   "id": "2e2a24f0",
   "metadata": {},
   "outputs": [
    {
     "name": "stdout",
     "output_type": "stream",
     "text": [
      "(58, 50, 50, 1) (58,)\n",
      "(26, 50, 50, 1) (26,)\n",
      "(20, 50, 50, 1) (20,)\n"
     ]
    }
   ],
   "source": [
    "print(x_train.shape, y_train.shape)\n",
    "print(x_test.shape, y_test.shape)\n",
    "print(x_val.shape, y_val.shape)"
   ]
  },
  {
   "cell_type": "markdown",
   "id": "6ca987a8",
   "metadata": {},
   "source": [
    "### 모델"
   ]
  },
  {
   "cell_type": "code",
   "execution_count": 23,
   "id": "9738ce2e",
   "metadata": {},
   "outputs": [],
   "source": [
    "model=Sequential()\n",
    "model.add(Conv2D(58, kernel_size=3, activation='relu', padding='same', input_shape=(50,50,1)))\n",
    "model.add(MaxPool2D())\n",
    "model.add(Conv2D(100, kernel_size=3, padding='same'))\n",
    "model.add(MaxPool2D())\n",
    "model.add(Flatten())\n",
    "model.add(Dense(100, activation='relu'))\n",
    "model.add(Dense(5, activation='softmax'))"
   ]
  },
  {
   "cell_type": "code",
   "execution_count": 24,
   "id": "f601bea4",
   "metadata": {
    "scrolled": true
   },
   "outputs": [
    {
     "name": "stdout",
     "output_type": "stream",
     "text": [
      "Model: \"sequential\"\n",
      "_________________________________________________________________\n",
      " Layer (type)                Output Shape              Param #   \n",
      "=================================================================\n",
      " conv2d (Conv2D)             (None, 50, 50, 58)        580       \n",
      "                                                                 \n",
      " max_pooling2d (MaxPooling2D  (None, 25, 25, 58)       0         \n",
      " )                                                               \n",
      "                                                                 \n",
      " conv2d_1 (Conv2D)           (None, 25, 25, 100)       52300     \n",
      "                                                                 \n",
      " max_pooling2d_1 (MaxPooling  (None, 12, 12, 100)      0         \n",
      " 2D)                                                             \n",
      "                                                                 \n",
      " flatten (Flatten)           (None, 14400)             0         \n",
      "                                                                 \n",
      " dense (Dense)               (None, 100)               1440100   \n",
      "                                                                 \n",
      " dense_1 (Dense)             (None, 5)                 505       \n",
      "                                                                 \n",
      "=================================================================\n",
      "Total params: 1,493,485\n",
      "Trainable params: 1,493,485\n",
      "Non-trainable params: 0\n",
      "_________________________________________________________________\n"
     ]
    }
   ],
   "source": [
    "model.summary()"
   ]
  },
  {
   "cell_type": "code",
   "execution_count": 25,
   "id": "233c840b",
   "metadata": {},
   "outputs": [],
   "source": [
    "train_datagen = ImageDataGenerator(\n",
    "    \n",
    "    rotation_range=30,\n",
    "    shear_range=0.2,\n",
    "    zoom_range=0.4,\n",
    "    horizontal_flip=True\n",
    ")\n",
    "train_datagen.fit(x_train)"
   ]
  },
  {
   "cell_type": "code",
   "execution_count": 26,
   "id": "f43177a4",
   "metadata": {},
   "outputs": [],
   "source": [
    "model.compile(optimizer='adam',loss='sparse_categorical_crossentropy',metrics=['accuracy'])"
   ]
  },
  {
   "cell_type": "code",
   "execution_count": 27,
   "id": "14cc5a4b",
   "metadata": {
    "scrolled": true
   },
   "outputs": [
    {
     "name": "stdout",
     "output_type": "stream",
     "text": [
      "Epoch 1/100\n",
      "1/1 [==============================] - 1s 863ms/step - loss: 1.6219 - accuracy: 0.1154 - val_loss: 2.0195 - val_accuracy: 0.2000\n",
      "Epoch 2/100\n",
      "1/1 [==============================] - 0s 142ms/step - loss: 2.0507 - accuracy: 0.2812 - val_loss: 1.7161 - val_accuracy: 0.2500\n",
      "Epoch 3/100\n",
      "1/1 [==============================] - 0s 143ms/step - loss: 1.8726 - accuracy: 0.2500 - val_loss: 1.6509 - val_accuracy: 0.2500\n",
      "Epoch 4/100\n",
      "1/1 [==============================] - 0s 150ms/step - loss: 1.6285 - accuracy: 0.1875 - val_loss: 1.6657 - val_accuracy: 0.2000\n",
      "Epoch 5/100\n",
      "1/1 [==============================] - 0s 131ms/step - loss: 1.5239 - accuracy: 0.4231 - val_loss: 1.7573 - val_accuracy: 0.1000\n",
      "Epoch 6/100\n",
      "1/1 [==============================] - 0s 143ms/step - loss: 1.6137 - accuracy: 0.1923 - val_loss: 1.8222 - val_accuracy: 0.1500\n",
      "Epoch 7/100\n",
      "1/1 [==============================] - 0s 136ms/step - loss: 1.7074 - accuracy: 0.4231 - val_loss: 1.7406 - val_accuracy: 0.2000\n",
      "Epoch 8/100\n",
      "1/1 [==============================] - 0s 143ms/step - loss: 1.6088 - accuracy: 0.3438 - val_loss: 1.8004 - val_accuracy: 0.2000\n",
      "Epoch 9/100\n",
      "1/1 [==============================] - 0s 132ms/step - loss: 1.5937 - accuracy: 0.2308 - val_loss: 1.8841 - val_accuracy: 0.2000\n",
      "Epoch 10/100\n",
      "1/1 [==============================] - 0s 130ms/step - loss: 1.6906 - accuracy: 0.2692 - val_loss: 1.8554 - val_accuracy: 0.2000\n",
      "Epoch 11/100\n",
      "1/1 [==============================] - 0s 150ms/step - loss: 1.5977 - accuracy: 0.2188 - val_loss: 1.8154 - val_accuracy: 0.1000\n",
      "Epoch 12/100\n",
      "1/1 [==============================] - 0s 160ms/step - loss: 1.6487 - accuracy: 0.3125 - val_loss: 1.7539 - val_accuracy: 0.2000\n",
      "Epoch 13/100\n",
      "1/1 [==============================] - 0s 133ms/step - loss: 1.4609 - accuracy: 0.4231 - val_loss: 1.7275 - val_accuracy: 0.1500\n",
      "Epoch 14/100\n",
      "1/1 [==============================] - 0s 147ms/step - loss: 1.5896 - accuracy: 0.4062 - val_loss: 1.7055 - val_accuracy: 0.2000\n",
      "Epoch 15/100\n",
      "1/1 [==============================] - 0s 131ms/step - loss: 1.4685 - accuracy: 0.3462 - val_loss: 1.6919 - val_accuracy: 0.1500\n",
      "Epoch 16/100\n",
      "1/1 [==============================] - 0s 146ms/step - loss: 1.5232 - accuracy: 0.3750 - val_loss: 1.6877 - val_accuracy: 0.1500\n",
      "Epoch 17/100\n",
      "1/1 [==============================] - 0s 150ms/step - loss: 1.5553 - accuracy: 0.2812 - val_loss: 1.6902 - val_accuracy: 0.2000\n",
      "Epoch 18/100\n",
      "1/1 [==============================] - 0s 146ms/step - loss: 1.4489 - accuracy: 0.4062 - val_loss: 1.7281 - val_accuracy: 0.1500\n",
      "Epoch 19/100\n",
      "1/1 [==============================] - 0s 147ms/step - loss: 1.4209 - accuracy: 0.4375 - val_loss: 1.8232 - val_accuracy: 0.2000\n",
      "Epoch 20/100\n",
      "1/1 [==============================] - 0s 145ms/step - loss: 1.4913 - accuracy: 0.3750 - val_loss: 1.8526 - val_accuracy: 0.3000\n",
      "Epoch 21/100\n",
      "1/1 [==============================] - 0s 128ms/step - loss: 1.3713 - accuracy: 0.5000 - val_loss: 1.8466 - val_accuracy: 0.2000\n",
      "Epoch 22/100\n",
      "1/1 [==============================] - 0s 148ms/step - loss: 1.5054 - accuracy: 0.2812 - val_loss: 1.8070 - val_accuracy: 0.2000\n",
      "Epoch 23/100\n",
      "1/1 [==============================] - 0s 145ms/step - loss: 1.4373 - accuracy: 0.3750 - val_loss: 1.7914 - val_accuracy: 0.2000\n",
      "Epoch 24/100\n",
      "1/1 [==============================] - 0s 145ms/step - loss: 1.4562 - accuracy: 0.3438 - val_loss: 1.7885 - val_accuracy: 0.2500\n",
      "Epoch 25/100\n",
      "1/1 [==============================] - 0s 131ms/step - loss: 1.3641 - accuracy: 0.3462 - val_loss: 1.8277 - val_accuracy: 0.2000\n",
      "Epoch 26/100\n",
      "1/1 [==============================] - 0s 133ms/step - loss: 1.3612 - accuracy: 0.3462 - val_loss: 1.9366 - val_accuracy: 0.1000\n",
      "Epoch 27/100\n",
      "1/1 [==============================] - 0s 128ms/step - loss: 1.3823 - accuracy: 0.3462 - val_loss: 2.0782 - val_accuracy: 0.1000\n",
      "Epoch 28/100\n",
      "1/1 [==============================] - 0s 131ms/step - loss: 1.3247 - accuracy: 0.3462 - val_loss: 2.1704 - val_accuracy: 0.1000\n",
      "Epoch 29/100\n",
      "1/1 [==============================] - 0s 132ms/step - loss: 1.4131 - accuracy: 0.3462 - val_loss: 2.1178 - val_accuracy: 0.1500\n",
      "Epoch 30/100\n",
      "1/1 [==============================] - 0s 149ms/step - loss: 1.4293 - accuracy: 0.3125 - val_loss: 1.9342 - val_accuracy: 0.1000\n",
      "Epoch 31/100\n",
      "1/1 [==============================] - 0s 150ms/step - loss: 1.3993 - accuracy: 0.3750 - val_loss: 1.8155 - val_accuracy: 0.1000\n",
      "Epoch 32/100\n",
      "1/1 [==============================] - 0s 147ms/step - loss: 1.4923 - accuracy: 0.3125 - val_loss: 1.7467 - val_accuracy: 0.1000\n",
      "Epoch 33/100\n",
      "1/1 [==============================] - 0s 154ms/step - loss: 1.3542 - accuracy: 0.4062 - val_loss: 1.8141 - val_accuracy: 0.1000\n",
      "Epoch 34/100\n",
      "1/1 [==============================] - 0s 133ms/step - loss: 1.3021 - accuracy: 0.5000 - val_loss: 1.9499 - val_accuracy: 0.1000\n",
      "Epoch 35/100\n",
      "1/1 [==============================] - 0s 131ms/step - loss: 1.2733 - accuracy: 0.5000 - val_loss: 2.1897 - val_accuracy: 0.1500\n",
      "Epoch 36/100\n",
      "1/1 [==============================] - 0s 136ms/step - loss: 1.2412 - accuracy: 0.4231 - val_loss: 2.3955 - val_accuracy: 0.1500\n",
      "Epoch 37/100\n",
      "1/1 [==============================] - 0s 137ms/step - loss: 1.2936 - accuracy: 0.5000 - val_loss: 2.5253 - val_accuracy: 0.1500\n",
      "Epoch 38/100\n",
      "1/1 [==============================] - 0s 148ms/step - loss: 1.2764 - accuracy: 0.4688 - val_loss: 2.3901 - val_accuracy: 0.2000\n",
      "Epoch 39/100\n",
      "1/1 [==============================] - 0s 156ms/step - loss: 1.2278 - accuracy: 0.5000 - val_loss: 2.3038 - val_accuracy: 0.1500\n",
      "Epoch 40/100\n",
      "1/1 [==============================] - 0s 149ms/step - loss: 1.3548 - accuracy: 0.4375 - val_loss: 2.2392 - val_accuracy: 0.1500\n",
      "Epoch 41/100\n",
      "1/1 [==============================] - 0s 140ms/step - loss: 1.1730 - accuracy: 0.5385 - val_loss: 2.2001 - val_accuracy: 0.1500\n",
      "Epoch 42/100\n",
      "1/1 [==============================] - 0s 148ms/step - loss: 1.3171 - accuracy: 0.4688 - val_loss: 2.2669 - val_accuracy: 0.1500\n",
      "Epoch 43/100\n",
      "1/1 [==============================] - 0s 137ms/step - loss: 1.3325 - accuracy: 0.4615 - val_loss: 2.4095 - val_accuracy: 0.2000\n",
      "Epoch 44/100\n",
      "1/1 [==============================] - 0s 141ms/step - loss: 1.3450 - accuracy: 0.4615 - val_loss: 2.4664 - val_accuracy: 0.3000\n",
      "Epoch 45/100\n",
      "1/1 [==============================] - 0s 133ms/step - loss: 1.1665 - accuracy: 0.4615 - val_loss: 2.4940 - val_accuracy: 0.2000\n",
      "Epoch 46/100\n",
      "1/1 [==============================] - 0s 151ms/step - loss: 1.1802 - accuracy: 0.5000 - val_loss: 2.4794 - val_accuracy: 0.2000\n",
      "Epoch 47/100\n",
      "1/1 [==============================] - 0s 134ms/step - loss: 1.4636 - accuracy: 0.3077 - val_loss: 2.2301 - val_accuracy: 0.2000\n",
      "Epoch 48/100\n",
      "1/1 [==============================] - 0s 151ms/step - loss: 1.3676 - accuracy: 0.4062 - val_loss: 1.9858 - val_accuracy: 0.1500\n",
      "Epoch 49/100\n",
      "1/1 [==============================] - 0s 144ms/step - loss: 1.3429 - accuracy: 0.5000 - val_loss: 1.8699 - val_accuracy: 0.1500\n",
      "Epoch 50/100\n",
      "1/1 [==============================] - 0s 146ms/step - loss: 1.3781 - accuracy: 0.4062 - val_loss: 1.9341 - val_accuracy: 0.1000\n",
      "Epoch 51/100\n",
      "1/1 [==============================] - 0s 129ms/step - loss: 1.2807 - accuracy: 0.5385 - val_loss: 2.1172 - val_accuracy: 0.1500\n",
      "Epoch 52/100\n",
      "1/1 [==============================] - 0s 151ms/step - loss: 1.0487 - accuracy: 0.6250 - val_loss: 2.4399 - val_accuracy: 0.1500\n",
      "Epoch 53/100\n",
      "1/1 [==============================] - 0s 131ms/step - loss: 1.3077 - accuracy: 0.5000 - val_loss: 2.5902 - val_accuracy: 0.1500\n",
      "Epoch 54/100\n",
      "1/1 [==============================] - 0s 146ms/step - loss: 1.2201 - accuracy: 0.5312 - val_loss: 2.4761 - val_accuracy: 0.2000\n",
      "Epoch 55/100\n",
      "1/1 [==============================] - 0s 132ms/step - loss: 1.2910 - accuracy: 0.4231 - val_loss: 2.2811 - val_accuracy: 0.2500\n",
      "Epoch 56/100\n",
      "1/1 [==============================] - 0s 146ms/step - loss: 1.1779 - accuracy: 0.4688 - val_loss: 2.0848 - val_accuracy: 0.2500\n",
      "Epoch 57/100\n",
      "1/1 [==============================] - 0s 133ms/step - loss: 1.3495 - accuracy: 0.4615 - val_loss: 1.9241 - val_accuracy: 0.2500\n",
      "Epoch 58/100\n",
      "1/1 [==============================] - 0s 140ms/step - loss: 1.0412 - accuracy: 0.5385 - val_loss: 1.9329 - val_accuracy: 0.2500\n"
     ]
    },
    {
     "name": "stdout",
     "output_type": "stream",
     "text": [
      "Epoch 59/100\n",
      "1/1 [==============================] - 0s 148ms/step - loss: 1.3207 - accuracy: 0.4688 - val_loss: 1.9725 - val_accuracy: 0.2000\n",
      "Epoch 60/100\n",
      "1/1 [==============================] - 0s 146ms/step - loss: 1.2437 - accuracy: 0.5000 - val_loss: 2.1114 - val_accuracy: 0.1000\n",
      "Epoch 61/100\n",
      "1/1 [==============================] - 0s 131ms/step - loss: 1.0950 - accuracy: 0.5000 - val_loss: 2.3767 - val_accuracy: 0.1500\n",
      "Epoch 62/100\n",
      "1/1 [==============================] - 0s 130ms/step - loss: 1.2019 - accuracy: 0.4231 - val_loss: 2.7030 - val_accuracy: 0.2000\n",
      "Epoch 63/100\n",
      "1/1 [==============================] - 0s 134ms/step - loss: 1.0969 - accuracy: 0.5000 - val_loss: 2.8771 - val_accuracy: 0.2000\n",
      "Epoch 64/100\n",
      "1/1 [==============================] - 0s 147ms/step - loss: 0.9959 - accuracy: 0.6250 - val_loss: 2.8895 - val_accuracy: 0.1500\n",
      "Epoch 65/100\n",
      "1/1 [==============================] - 0s 147ms/step - loss: 1.1709 - accuracy: 0.5312 - val_loss: 2.6795 - val_accuracy: 0.1500\n",
      "Epoch 66/100\n",
      "1/1 [==============================] - 0s 134ms/step - loss: 1.2167 - accuracy: 0.5385 - val_loss: 2.4834 - val_accuracy: 0.1500\n",
      "Epoch 67/100\n",
      "1/1 [==============================] - 0s 148ms/step - loss: 1.2257 - accuracy: 0.5312 - val_loss: 2.0816 - val_accuracy: 0.2000\n",
      "Epoch 68/100\n",
      "1/1 [==============================] - 0s 132ms/step - loss: 0.9580 - accuracy: 0.6923 - val_loss: 1.8015 - val_accuracy: 0.3500\n",
      "Epoch 69/100\n",
      "1/1 [==============================] - 0s 152ms/step - loss: 1.1612 - accuracy: 0.5312 - val_loss: 1.7991 - val_accuracy: 0.3500\n",
      "Epoch 70/100\n",
      "1/1 [==============================] - 0s 135ms/step - loss: 1.1577 - accuracy: 0.5385 - val_loss: 2.0103 - val_accuracy: 0.3000\n",
      "Epoch 71/100\n",
      "1/1 [==============================] - 0s 149ms/step - loss: 1.1283 - accuracy: 0.4688 - val_loss: 2.3573 - val_accuracy: 0.2000\n",
      "Epoch 72/100\n",
      "1/1 [==============================] - 0s 134ms/step - loss: 1.0812 - accuracy: 0.5385 - val_loss: 2.8615 - val_accuracy: 0.1000\n",
      "Epoch 73/100\n",
      "1/1 [==============================] - 0s 127ms/step - loss: 1.0796 - accuracy: 0.6154 - val_loss: 3.4316 - val_accuracy: 0.1500\n",
      "Epoch 74/100\n",
      "1/1 [==============================] - 0s 143ms/step - loss: 1.1125 - accuracy: 0.5625 - val_loss: 3.6362 - val_accuracy: 0.2000\n",
      "Epoch 75/100\n",
      "1/1 [==============================] - 0s 144ms/step - loss: 1.1287 - accuracy: 0.6250 - val_loss: 3.3402 - val_accuracy: 0.1500\n",
      "Epoch 76/100\n",
      "1/1 [==============================] - 0s 132ms/step - loss: 0.9195 - accuracy: 0.6538 - val_loss: 2.7675 - val_accuracy: 0.1000\n",
      "Epoch 77/100\n",
      "1/1 [==============================] - 0s 147ms/step - loss: 0.9133 - accuracy: 0.5625 - val_loss: 2.4211 - val_accuracy: 0.1500\n",
      "Epoch 78/100\n",
      "1/1 [==============================] - 0s 151ms/step - loss: 0.9841 - accuracy: 0.6250 - val_loss: 2.2213 - val_accuracy: 0.2000\n",
      "Epoch 79/100\n",
      "1/1 [==============================] - 0s 144ms/step - loss: 1.1331 - accuracy: 0.4375 - val_loss: 2.1838 - val_accuracy: 0.1500\n",
      "Epoch 80/100\n",
      "1/1 [==============================] - 0s 135ms/step - loss: 1.0820 - accuracy: 0.5000 - val_loss: 2.3846 - val_accuracy: 0.2000\n",
      "Epoch 81/100\n",
      "1/1 [==============================] - 0s 130ms/step - loss: 1.0749 - accuracy: 0.5769 - val_loss: 2.7292 - val_accuracy: 0.2500\n",
      "Epoch 82/100\n",
      "1/1 [==============================] - 0s 147ms/step - loss: 1.0976 - accuracy: 0.5938 - val_loss: 3.1728 - val_accuracy: 0.2500\n",
      "Epoch 83/100\n",
      "1/1 [==============================] - 0s 147ms/step - loss: 1.1003 - accuracy: 0.5938 - val_loss: 3.5825 - val_accuracy: 0.2500\n",
      "Epoch 84/100\n",
      "1/1 [==============================] - 0s 147ms/step - loss: 1.3392 - accuracy: 0.3750 - val_loss: 3.2641 - val_accuracy: 0.2500\n",
      "Epoch 85/100\n",
      "1/1 [==============================] - 0s 145ms/step - loss: 1.0481 - accuracy: 0.6250 - val_loss: 2.9461 - val_accuracy: 0.2000\n",
      "Epoch 86/100\n",
      "1/1 [==============================] - 0s 129ms/step - loss: 0.9239 - accuracy: 0.6538 - val_loss: 2.7720 - val_accuracy: 0.3000\n",
      "Epoch 87/100\n",
      "1/1 [==============================] - 0s 141ms/step - loss: 0.9348 - accuracy: 0.5312 - val_loss: 2.7061 - val_accuracy: 0.3000\n",
      "Epoch 88/100\n",
      "1/1 [==============================] - 0s 134ms/step - loss: 0.9530 - accuracy: 0.6538 - val_loss: 2.6972 - val_accuracy: 0.3000\n",
      "Epoch 89/100\n",
      "1/1 [==============================] - 0s 147ms/step - loss: 1.0176 - accuracy: 0.5625 - val_loss: 2.7298 - val_accuracy: 0.2500\n",
      "Epoch 90/100\n",
      "1/1 [==============================] - 0s 131ms/step - loss: 0.9565 - accuracy: 0.6538 - val_loss: 2.8103 - val_accuracy: 0.2500\n",
      "Epoch 91/100\n",
      "1/1 [==============================] - 0s 142ms/step - loss: 0.8915 - accuracy: 0.6875 - val_loss: 2.7338 - val_accuracy: 0.2500\n",
      "Epoch 92/100\n",
      "1/1 [==============================] - 0s 131ms/step - loss: 1.1901 - accuracy: 0.5000 - val_loss: 2.8456 - val_accuracy: 0.2500\n",
      "Epoch 93/100\n",
      "1/1 [==============================] - 0s 143ms/step - loss: 1.0837 - accuracy: 0.5625 - val_loss: 2.7016 - val_accuracy: 0.2500\n",
      "Epoch 94/100\n",
      "1/1 [==============================] - 0s 145ms/step - loss: 1.0168 - accuracy: 0.5625 - val_loss: 2.6156 - val_accuracy: 0.2500\n",
      "Epoch 95/100\n",
      "1/1 [==============================] - 0s 151ms/step - loss: 1.0681 - accuracy: 0.5625 - val_loss: 2.4428 - val_accuracy: 0.2500\n",
      "Epoch 96/100\n",
      "1/1 [==============================] - 0s 152ms/step - loss: 1.1214 - accuracy: 0.4375 - val_loss: 2.4110 - val_accuracy: 0.2500\n",
      "Epoch 97/100\n",
      "1/1 [==============================] - 0s 146ms/step - loss: 0.9082 - accuracy: 0.6875 - val_loss: 2.5139 - val_accuracy: 0.2500\n",
      "Epoch 98/100\n",
      "1/1 [==============================] - 0s 143ms/step - loss: 0.7940 - accuracy: 0.6250 - val_loss: 2.7457 - val_accuracy: 0.2500\n",
      "Epoch 99/100\n",
      "1/1 [==============================] - 0s 145ms/step - loss: 0.9950 - accuracy: 0.5938 - val_loss: 3.1910 - val_accuracy: 0.3000\n",
      "Epoch 100/100\n",
      "1/1 [==============================] - 0s 145ms/step - loss: 1.0984 - accuracy: 0.5312 - val_loss: 3.7130 - val_accuracy: 0.3000\n"
     ]
    }
   ],
   "source": [
    "History = model.fit_generator(train_datagen.flow(x_train,y_train, batch_size=32),\n",
    "                              epochs = 100, validation_data = (x_val,y_val),\n",
    "                              verbose = 1, steps_per_epoch=x_train.shape[0] // 32)"
   ]
  },
  {
   "cell_type": "code",
   "execution_count": 28,
   "id": "2947b818",
   "metadata": {
    "scrolled": true
   },
   "outputs": [
    {
     "data": {
      "image/png": "[encoded data removed]",
      "text/plain": [
       "<IPython.core.display.Image object>"
      ]
     },
     "execution_count": 28,
     "metadata": {},
     "output_type": "execute_result"
    }
   ],
   "source": [
    "plot_model(model, show_shapes=True)"
   ]
  },
  {
   "cell_type": "code",
   "execution_count": 29,
   "id": "9283554e",
   "metadata": {
    "scrolled": true
   },
   "outputs": [
    {
     "data": {
      "image/png": "[encoded data removed]",
      "text/plain": [
       "<Figure size 432x288 with 1 Axes>"
      ]
     },
     "metadata": {
      "needs_background": "light"
     },
     "output_type": "display_data"
    }
   ],
   "source": [
    "plt.imshow(x_val[3].reshape(50,50), cmap='gray')\n",
    "plt.title(f'Label - {y_val[3]}')\n",
    "plt.show()"
   ]
  },
  {
   "cell_type": "code",
   "execution_count": 30,
   "id": "8732fd35",
   "metadata": {
    "scrolled": true
   },
   "outputs": [
    {
     "name": "stdout",
     "output_type": "stream",
     "text": [
      "1/1 [==============================] - 0s 43ms/step - loss: 5.4688 - accuracy: 0.3462\n"
     ]
    },
    {
     "data": {
      "text/plain": [
       "[5.468836307525635, 0.3461538553237915]"
      ]
     },
     "execution_count": 30,
     "metadata": {},
     "output_type": "execute_result"
    }
   ],
   "source": [
    "model.evaluate(x_test, y_test)"
   ]
  },
  {
   "cell_type": "code",
   "execution_count": 31,
   "id": "a739df81",
   "metadata": {},
   "outputs": [
    {
     "name": "stdout",
     "output_type": "stream",
     "text": [
      "1/1 [==============================] - 0s 109ms/step\n"
     ]
    }
   ],
   "source": [
    "pre_y=model.predict(x_test[23].reshape(-1, 50, 50, 1))"
   ]
  },
  {
   "cell_type": "code",
   "execution_count": 32,
   "id": "910ba8de",
   "metadata": {},
   "outputs": [
    {
     "data": {
      "text/plain": [
       "array([[0.02, 0.87, 0.03, 0.08, 0.  ]], dtype=float32)"
      ]
     },
     "execution_count": 32,
     "metadata": {},
     "output_type": "execute_result"
    }
   ],
   "source": [
    "pre_y.round(2)"
   ]
  },
  {
   "cell_type": "code",
   "execution_count": 33,
   "id": "f0650830",
   "metadata": {
    "scrolled": true
   },
   "outputs": [
    {
     "data": {
      "text/plain": [
       "2"
      ]
     },
     "execution_count": 33,
     "metadata": {},
     "output_type": "execute_result"
    }
   ],
   "source": [
    "y_test[23]"
   ]
  },
  {
   "cell_type": "markdown",
   "id": "ec8f7368",
   "metadata": {},
   "source": [
    "#### target\n",
    "---\n",
    "- target0 신세계 로고 / target1 현대 로고 / target2 롯데 로고 / target3 대백 로고 / target4 갤러리아 로고"
   ]
  },
  {
   "cell_type": "code",
   "execution_count": 34,
   "id": "23cc42d3",
   "metadata": {},
   "outputs": [
    {
     "data": {
      "image/png": "[encoded data removed]",
      "text/plain": [
       "<Figure size 432x288 with 1 Axes>"
      ]
     },
     "metadata": {
      "needs_background": "light"
     },
     "output_type": "display_data"
    }
   ],
   "source": [
    "plt.imshow(x_test[23].reshape(50, 50), cmap='gray')\n",
    "plt.show()"
   ]
  },
  {
   "cell_type": "markdown",
   "id": "0e873d0f",
   "metadata": {},
   "source": [
    "## 전체 데이터\n",
    "---"
   ]
  },
  {
   "cell_type": "code",
   "execution_count": 35,
   "id": "67a0e853",
   "metadata": {},
   "outputs": [],
   "source": [
    "blwh=solution('blwh')\n",
    "rgb=solution('rgb')"
   ]
  },
  {
   "cell_type": "code",
   "execution_count": 36,
   "id": "d0177cc4",
   "metadata": {},
   "outputs": [],
   "source": [
    "DIR='./target.csv'\n",
    "tarDF=pd.read_csv(DIR)\n",
    "tarDF1=pd.read_csv(DIR)"
   ]
  },
  {
   "cell_type": "code",
   "execution_count": 37,
   "id": "b8d51b77",
   "metadata": {},
   "outputs": [
    {
     "data": {
      "image/png": "[encoded data removed]",
      "text/plain": [
       "<Figure size 720x720 with 2 Axes>"
      ]
     },
     "metadata": {
      "needs_background": "light"
     },
     "output_type": "display_data"
    }
   ],
   "source": [
    "fig=plt.figure(figsize=(10,10))\n",
    "\n",
    "plt.subplot(1, 2, 1)\n",
    "plt.imshow(blwh[3000].reshape(50,50,1), cmap='gray')\n",
    "plt.title('black', fontsize=24)\n",
    "\n",
    "plt.subplot(1, 2, 2)\n",
    "plt.imshow(rgb[3000].reshape(50,50,3))\n",
    "plt.title('Color', fontsize=24)\n",
    "plt.show()"
   ]
  },
  {
   "cell_type": "code",
   "execution_count": 38,
   "id": "72b2a60f",
   "metadata": {},
   "outputs": [],
   "source": [
    "data1=rgb\n",
    "target1=tarDF=np.array(tarDF.label)"
   ]
  },
  {
   "cell_type": "code",
   "execution_count": 39,
   "id": "db55bc3c",
   "metadata": {},
   "outputs": [
    {
     "data": {
      "text/plain": [
       "((4312, 50, 50, 3), (4312,))"
      ]
     },
     "execution_count": 39,
     "metadata": {},
     "output_type": "execute_result"
    }
   ],
   "source": [
    "data1.shape, target1.shape"
   ]
  },
  {
   "cell_type": "code",
   "execution_count": 40,
   "id": "c0dd7d82",
   "metadata": {},
   "outputs": [],
   "source": [
    "# 훈련/테스트 데이터 나누기\n",
    "x_train, x_test, y_train, y_test = train_test_split(data1, target1,\n",
    "                                                    random_state=42,\n",
    "                                                    stratify=target1)"
   ]
  },
  {
   "cell_type": "code",
   "execution_count": 41,
   "id": "33ed0f74",
   "metadata": {},
   "outputs": [],
   "source": [
    "x_train, x_val, y_train, y_val = train_test_split(x_train, y_train,\n",
    "                                                  stratify=y_train,\n",
    "                                                  random_state=42)"
   ]
  },
  {
   "cell_type": "code",
   "execution_count": 42,
   "id": "6e1ff21c",
   "metadata": {},
   "outputs": [
    {
     "name": "stdout",
     "output_type": "stream",
     "text": [
      "(2425, 50, 50, 3) (2425,)\n",
      "(1078, 50, 50, 3) (1078,)\n",
      "(809, 50, 50, 3) (809,)\n"
     ]
    }
   ],
   "source": [
    "print(x_train.shape, y_train.shape)\n",
    "print(x_test.shape, y_test.shape)\n",
    "print(x_val.shape, y_val.shape)"
   ]
  },
  {
   "cell_type": "markdown",
   "id": "5be6ea8b",
   "metadata": {},
   "source": [
    "### 모델"
   ]
  },
  {
   "cell_type": "code",
   "execution_count": 43,
   "id": "169ede9f",
   "metadata": {},
   "outputs": [],
   "source": [
    "model=Sequential()\n",
    "model.add(Conv2D(58, kernel_size=3, activation='relu', padding='same', input_shape=(50,50,3)))\n",
    "model.add(MaxPool2D())\n",
    "model.add(Conv2D(100, kernel_size=3, padding='same'))\n",
    "model.add(MaxPool2D())\n",
    "model.add(Flatten())\n",
    "model.add(Dense(100, activation='relu'))\n",
    "model.add(Dense(26, activation='softmax'))"
   ]
  },
  {
   "cell_type": "code",
   "execution_count": 44,
   "id": "dc256d42",
   "metadata": {},
   "outputs": [
    {
     "name": "stdout",
     "output_type": "stream",
     "text": [
      "Model: \"sequential_1\"\n",
      "_________________________________________________________________\n",
      " Layer (type)                Output Shape              Param #   \n",
      "=================================================================\n",
      " conv2d_2 (Conv2D)           (None, 50, 50, 58)        1624      \n",
      "                                                                 \n",
      " max_pooling2d_2 (MaxPooling  (None, 25, 25, 58)       0         \n",
      " 2D)                                                             \n",
      "                                                                 \n",
      " conv2d_3 (Conv2D)           (None, 25, 25, 100)       52300     \n",
      "                                                                 \n",
      " max_pooling2d_3 (MaxPooling  (None, 12, 12, 100)      0         \n",
      " 2D)                                                             \n",
      "                                                                 \n",
      " flatten_1 (Flatten)         (None, 14400)             0         \n",
      "                                                                 \n",
      " dense_2 (Dense)             (None, 100)               1440100   \n",
      "                                                                 \n",
      " dense_3 (Dense)             (None, 26)                2626      \n",
      "                                                                 \n",
      "=================================================================\n",
      "Total params: 1,496,650\n",
      "Trainable params: 1,496,650\n",
      "Non-trainable params: 0\n",
      "_________________________________________________________________\n"
     ]
    }
   ],
   "source": [
    "model.summary()"
   ]
  },
  {
   "cell_type": "code",
   "execution_count": 45,
   "id": "11485b16",
   "metadata": {
    "scrolled": true
   },
   "outputs": [],
   "source": [
    "# ImageDataGenerator\n",
    "train_datagen = ImageDataGenerator(\n",
    "    \n",
    "    rotation_range=30,\n",
    "    shear_range=0.2,\n",
    "    zoom_range=0.4,\n",
    "    horizontal_flip=True\n",
    ")\n",
    "train_datagen.fit(x_train)"
   ]
  },
  {
   "cell_type": "code",
   "execution_count": 46,
   "id": "6779cf63",
   "metadata": {},
   "outputs": [],
   "source": [
    "model.compile(optimizer='adam',loss='sparse_categorical_crossentropy',metrics=['accuracy'])"
   ]
  },
  {
   "cell_type": "code",
   "execution_count": 47,
   "id": "244763dc",
   "metadata": {
    "scrolled": true
   },
   "outputs": [
    {
     "name": "stdout",
     "output_type": "stream",
     "text": [
      "Epoch 1/100\n",
      "75/75 [==============================] - 8s 105ms/step - loss: 2.9242 - accuracy: 0.1680 - val_loss: 2.3484 - val_accuracy: 0.3127\n",
      "Epoch 2/100\n",
      "75/75 [==============================] - 8s 103ms/step - loss: 2.1753 - accuracy: 0.3514 - val_loss: 1.9710 - val_accuracy: 0.4376\n",
      "Epoch 3/100\n",
      "75/75 [==============================] - 8s 103ms/step - loss: 1.8131 - accuracy: 0.4651 - val_loss: 1.6729 - val_accuracy: 0.5179\n",
      "Epoch 4/100\n",
      "75/75 [==============================] - 8s 101ms/step - loss: 1.5782 - accuracy: 0.5270 - val_loss: 1.6982 - val_accuracy: 0.4907\n",
      "Epoch 5/100\n",
      "75/75 [==============================] - 8s 105ms/step - loss: 1.4098 - accuracy: 0.5704 - val_loss: 1.4295 - val_accuracy: 0.5822\n",
      "Epoch 6/100\n",
      "75/75 [==============================] - 8s 101ms/step - loss: 1.2783 - accuracy: 0.6143 - val_loss: 1.2818 - val_accuracy: 0.6354\n",
      "Epoch 7/100\n",
      "75/75 [==============================] - 8s 107ms/step - loss: 1.1803 - accuracy: 0.6423 - val_loss: 1.3120 - val_accuracy: 0.6106\n",
      "Epoch 8/100\n",
      "75/75 [==============================] - 9s 119ms/step - loss: 1.1199 - accuracy: 0.6619 - val_loss: 1.3070 - val_accuracy: 0.6131\n",
      "Epoch 9/100\n",
      "75/75 [==============================] - 9s 115ms/step - loss: 1.0498 - accuracy: 0.6920 - val_loss: 1.2286 - val_accuracy: 0.6601\n",
      "Epoch 10/100\n",
      "75/75 [==============================] - 8s 110ms/step - loss: 1.0741 - accuracy: 0.6837 - val_loss: 1.2439 - val_accuracy: 0.6341\n",
      "Epoch 11/100\n",
      "75/75 [==============================] - 8s 111ms/step - loss: 0.9312 - accuracy: 0.7075 - val_loss: 1.0779 - val_accuracy: 0.6934\n",
      "Epoch 12/100\n",
      "75/75 [==============================] - 8s 109ms/step - loss: 0.8095 - accuracy: 0.7455 - val_loss: 1.0459 - val_accuracy: 0.7083\n",
      "Epoch 13/100\n",
      "75/75 [==============================] - 8s 110ms/step - loss: 0.8313 - accuracy: 0.7489 - val_loss: 0.9152 - val_accuracy: 0.7392\n",
      "Epoch 14/100\n",
      "75/75 [==============================] - 8s 112ms/step - loss: 0.7989 - accuracy: 0.7497 - val_loss: 0.9624 - val_accuracy: 0.7219\n",
      "Epoch 15/100\n",
      "75/75 [==============================] - 8s 112ms/step - loss: 0.7332 - accuracy: 0.7639 - val_loss: 1.0711 - val_accuracy: 0.6959\n",
      "Epoch 16/100\n",
      "75/75 [==============================] - 9s 115ms/step - loss: 0.7409 - accuracy: 0.7697 - val_loss: 0.9013 - val_accuracy: 0.7689\n",
      "Epoch 17/100\n",
      "75/75 [==============================] - 9s 114ms/step - loss: 0.6978 - accuracy: 0.7781 - val_loss: 0.9391 - val_accuracy: 0.7454\n",
      "Epoch 18/100\n",
      "75/75 [==============================] - 8s 111ms/step - loss: 0.6305 - accuracy: 0.8069 - val_loss: 0.9613 - val_accuracy: 0.7466\n",
      "Epoch 19/100\n",
      "75/75 [==============================] - 8s 112ms/step - loss: 0.6294 - accuracy: 0.7952 - val_loss: 0.9746 - val_accuracy: 0.7293\n",
      "Epoch 20/100\n",
      "75/75 [==============================] - 8s 112ms/step - loss: 0.6143 - accuracy: 0.8065 - val_loss: 0.9085 - val_accuracy: 0.7417\n",
      "Epoch 21/100\n",
      "75/75 [==============================] - 8s 111ms/step - loss: 0.5734 - accuracy: 0.8115 - val_loss: 0.8910 - val_accuracy: 0.7775\n",
      "Epoch 22/100\n",
      "75/75 [==============================] - 8s 112ms/step - loss: 0.5303 - accuracy: 0.8333 - val_loss: 0.8690 - val_accuracy: 0.7676\n",
      "Epoch 23/100\n",
      "75/75 [==============================] - 9s 120ms/step - loss: 0.5030 - accuracy: 0.8362 - val_loss: 0.9103 - val_accuracy: 0.7738\n",
      "Epoch 24/100\n",
      "75/75 [==============================] - 9s 123ms/step - loss: 0.4704 - accuracy: 0.8504 - val_loss: 0.8864 - val_accuracy: 0.7738\n",
      "Epoch 25/100\n",
      "75/75 [==============================] - 9s 117ms/step - loss: 0.5081 - accuracy: 0.8416 - val_loss: 0.9296 - val_accuracy: 0.7713\n",
      "Epoch 26/100\n",
      "75/75 [==============================] - 9s 119ms/step - loss: 0.4934 - accuracy: 0.8437 - val_loss: 0.9276 - val_accuracy: 0.7837\n",
      "Epoch 27/100\n",
      "75/75 [==============================] - 9s 116ms/step - loss: 0.4471 - accuracy: 0.8604 - val_loss: 0.8648 - val_accuracy: 0.7726\n",
      "Epoch 28/100\n",
      "75/75 [==============================] - 9s 114ms/step - loss: 0.4346 - accuracy: 0.8642 - val_loss: 0.8852 - val_accuracy: 0.7627\n",
      "Epoch 29/100\n",
      "75/75 [==============================] - 8s 111ms/step - loss: 0.4837 - accuracy: 0.8479 - val_loss: 0.8158 - val_accuracy: 0.7998\n",
      "Epoch 30/100\n",
      "75/75 [==============================] - 8s 112ms/step - loss: 0.4075 - accuracy: 0.8721 - val_loss: 0.8257 - val_accuracy: 0.7998\n",
      "Epoch 31/100\n",
      "75/75 [==============================] - 9s 120ms/step - loss: 0.4102 - accuracy: 0.8738 - val_loss: 0.8245 - val_accuracy: 0.8158\n",
      "Epoch 32/100\n",
      "75/75 [==============================] - 9s 125ms/step - loss: 0.4459 - accuracy: 0.8542 - val_loss: 0.7648 - val_accuracy: 0.8232\n",
      "Epoch 33/100\n",
      "75/75 [==============================] - 9s 115ms/step - loss: 0.3889 - accuracy: 0.8725 - val_loss: 1.0204 - val_accuracy: 0.7948\n",
      "Epoch 34/100\n",
      "75/75 [==============================] - 9s 114ms/step - loss: 0.3779 - accuracy: 0.8742 - val_loss: 1.0180 - val_accuracy: 0.7602\n",
      "Epoch 35/100\n",
      "75/75 [==============================] - 9s 118ms/step - loss: 0.3683 - accuracy: 0.8817 - val_loss: 0.8040 - val_accuracy: 0.8133\n",
      "Epoch 36/100\n",
      "75/75 [==============================] - 9s 120ms/step - loss: 0.3442 - accuracy: 0.8876 - val_loss: 0.7965 - val_accuracy: 0.8158\n",
      "Epoch 37/100\n",
      "75/75 [==============================] - 8s 111ms/step - loss: 0.4690 - accuracy: 0.8567 - val_loss: 0.9546 - val_accuracy: 0.7738\n",
      "Epoch 38/100\n",
      "75/75 [==============================] - 9s 122ms/step - loss: 0.3413 - accuracy: 0.8847 - val_loss: 0.8811 - val_accuracy: 0.8121\n",
      "Epoch 39/100\n",
      "75/75 [==============================] - 9s 115ms/step - loss: 0.3142 - accuracy: 0.8943 - val_loss: 0.8074 - val_accuracy: 0.8331\n",
      "Epoch 40/100\n",
      "75/75 [==============================] - 9s 119ms/step - loss: 0.3074 - accuracy: 0.8947 - val_loss: 0.8544 - val_accuracy: 0.8232\n",
      "Epoch 41/100\n",
      "75/75 [==============================] - 9s 116ms/step - loss: 0.3128 - accuracy: 0.8951 - val_loss: 0.8242 - val_accuracy: 0.8381\n",
      "Epoch 42/100\n",
      "75/75 [==============================] - 9s 115ms/step - loss: 0.2949 - accuracy: 0.9085 - val_loss: 0.7625 - val_accuracy: 0.8529\n",
      "Epoch 43/100\n",
      "75/75 [==============================] - 9s 122ms/step - loss: 0.2649 - accuracy: 0.9081 - val_loss: 0.7247 - val_accuracy: 0.8480\n",
      "Epoch 44/100\n",
      "75/75 [==============================] - 9s 121ms/step - loss: 0.2562 - accuracy: 0.9152 - val_loss: 0.7075 - val_accuracy: 0.8628\n",
      "Epoch 45/100\n",
      "75/75 [==============================] - 9s 123ms/step - loss: 0.2559 - accuracy: 0.9135 - val_loss: 1.0590 - val_accuracy: 0.7849\n",
      "Epoch 46/100\n",
      "75/75 [==============================] - 9s 121ms/step - loss: 0.2966 - accuracy: 0.9039 - val_loss: 0.7943 - val_accuracy: 0.8480\n",
      "Epoch 47/100\n",
      "75/75 [==============================] - 9s 114ms/step - loss: 0.2792 - accuracy: 0.9102 - val_loss: 0.9146 - val_accuracy: 0.8121\n",
      "Epoch 48/100\n",
      "75/75 [==============================] - 8s 113ms/step - loss: 0.3810 - accuracy: 0.8813 - val_loss: 0.9184 - val_accuracy: 0.8084\n",
      "Epoch 49/100\n",
      "75/75 [==============================] - 8s 112ms/step - loss: 0.3455 - accuracy: 0.8813 - val_loss: 0.9571 - val_accuracy: 0.8022\n",
      "Epoch 50/100\n",
      "75/75 [==============================] - 8s 112ms/step - loss: 0.2827 - accuracy: 0.9056 - val_loss: 0.8908 - val_accuracy: 0.8344\n",
      "Epoch 51/100\n",
      "75/75 [==============================] - 8s 113ms/step - loss: 0.3018 - accuracy: 0.9001 - val_loss: 0.8851 - val_accuracy: 0.8257\n",
      "Epoch 52/100\n",
      "75/75 [==============================] - 8s 112ms/step - loss: 0.2454 - accuracy: 0.9260 - val_loss: 1.0547 - val_accuracy: 0.7923\n",
      "Epoch 53/100\n",
      "75/75 [==============================] - 8s 112ms/step - loss: 0.2541 - accuracy: 0.9160 - val_loss: 0.7768 - val_accuracy: 0.8578\n",
      "Epoch 54/100\n",
      "75/75 [==============================] - 8s 112ms/step - loss: 0.2424 - accuracy: 0.9139 - val_loss: 0.9321 - val_accuracy: 0.8183\n",
      "Epoch 55/100\n",
      "75/75 [==============================] - 9s 114ms/step - loss: 0.2342 - accuracy: 0.9206 - val_loss: 0.8745 - val_accuracy: 0.8405\n",
      "Epoch 56/100\n",
      "75/75 [==============================] - 9s 113ms/step - loss: 0.2071 - accuracy: 0.9315 - val_loss: 0.8802 - val_accuracy: 0.8566\n",
      "Epoch 57/100\n",
      "75/75 [==============================] - 8s 113ms/step - loss: 0.2468 - accuracy: 0.9181 - val_loss: 1.0092 - val_accuracy: 0.7973\n"
     ]
    },
    {
     "name": "stdout",
     "output_type": "stream",
     "text": [
      "Epoch 58/100\n",
      "75/75 [==============================] - 8s 111ms/step - loss: 0.2640 - accuracy: 0.9160 - val_loss: 0.8158 - val_accuracy: 0.8504\n",
      "Epoch 59/100\n",
      "75/75 [==============================] - 8s 111ms/step - loss: 0.2050 - accuracy: 0.9302 - val_loss: 0.8613 - val_accuracy: 0.8319\n",
      "Epoch 60/100\n",
      "75/75 [==============================] - 9s 113ms/step - loss: 0.2584 - accuracy: 0.9239 - val_loss: 1.0761 - val_accuracy: 0.8146\n",
      "Epoch 61/100\n",
      "75/75 [==============================] - 8s 112ms/step - loss: 0.2784 - accuracy: 0.9143 - val_loss: 0.7760 - val_accuracy: 0.8591\n",
      "Epoch 62/100\n",
      "75/75 [==============================] - 9s 120ms/step - loss: 0.2299 - accuracy: 0.9248 - val_loss: 0.9966 - val_accuracy: 0.8183\n",
      "Epoch 63/100\n",
      "75/75 [==============================] - 9s 119ms/step - loss: 0.2023 - accuracy: 0.9340 - val_loss: 0.8390 - val_accuracy: 0.8492\n",
      "Epoch 64/100\n",
      "75/75 [==============================] - 9s 113ms/step - loss: 0.1698 - accuracy: 0.9432 - val_loss: 0.9156 - val_accuracy: 0.8467\n",
      "Epoch 65/100\n",
      "75/75 [==============================] - 8s 113ms/step - loss: 0.2062 - accuracy: 0.9302 - val_loss: 0.8080 - val_accuracy: 0.8504\n",
      "Epoch 66/100\n",
      "75/75 [==============================] - 9s 114ms/step - loss: 0.1916 - accuracy: 0.9390 - val_loss: 0.8359 - val_accuracy: 0.8776\n",
      "Epoch 67/100\n",
      "75/75 [==============================] - 8s 112ms/step - loss: 0.2396 - accuracy: 0.9382 - val_loss: 0.8633 - val_accuracy: 0.8677\n",
      "Epoch 68/100\n",
      "75/75 [==============================] - 8s 112ms/step - loss: 0.2892 - accuracy: 0.9206 - val_loss: 1.0200 - val_accuracy: 0.8208\n",
      "Epoch 69/100\n",
      "75/75 [==============================] - 8s 110ms/step - loss: 0.2442 - accuracy: 0.9252 - val_loss: 0.9176 - val_accuracy: 0.8480\n",
      "Epoch 70/100\n",
      "75/75 [==============================] - 8s 111ms/step - loss: 0.1675 - accuracy: 0.9457 - val_loss: 0.9589 - val_accuracy: 0.8430\n",
      "Epoch 71/100\n",
      "75/75 [==============================] - 8s 110ms/step - loss: 0.2504 - accuracy: 0.9273 - val_loss: 0.8384 - val_accuracy: 0.8727\n",
      "Epoch 72/100\n",
      "75/75 [==============================] - 8s 111ms/step - loss: 0.2118 - accuracy: 0.9340 - val_loss: 0.9774 - val_accuracy: 0.8455\n",
      "Epoch 73/100\n",
      "75/75 [==============================] - 8s 111ms/step - loss: 0.2432 - accuracy: 0.9277 - val_loss: 0.9993 - val_accuracy: 0.8356\n",
      "Epoch 74/100\n",
      "75/75 [==============================] - 8s 111ms/step - loss: 0.2214 - accuracy: 0.9285 - val_loss: 0.8522 - val_accuracy: 0.8702\n",
      "Epoch 75/100\n",
      "75/75 [==============================] - 8s 110ms/step - loss: 0.1792 - accuracy: 0.9448 - val_loss: 1.0551 - val_accuracy: 0.8430\n",
      "Epoch 76/100\n",
      "75/75 [==============================] - 8s 111ms/step - loss: 0.2166 - accuracy: 0.9306 - val_loss: 1.0168 - val_accuracy: 0.8307\n",
      "Epoch 77/100\n",
      "75/75 [==============================] - 8s 110ms/step - loss: 0.2028 - accuracy: 0.9344 - val_loss: 1.0727 - val_accuracy: 0.8084\n",
      "Epoch 78/100\n",
      "75/75 [==============================] - 8s 111ms/step - loss: 0.1792 - accuracy: 0.9411 - val_loss: 0.9773 - val_accuracy: 0.8467\n",
      "Epoch 79/100\n",
      "75/75 [==============================] - 8s 111ms/step - loss: 0.2144 - accuracy: 0.9365 - val_loss: 0.8888 - val_accuracy: 0.8517\n",
      "Epoch 80/100\n",
      "75/75 [==============================] - 8s 111ms/step - loss: 0.1687 - accuracy: 0.9398 - val_loss: 0.9456 - val_accuracy: 0.8578\n",
      "Epoch 81/100\n",
      "75/75 [==============================] - 8s 112ms/step - loss: 0.1923 - accuracy: 0.9415 - val_loss: 0.9453 - val_accuracy: 0.8443\n",
      "Epoch 82/100\n",
      "75/75 [==============================] - 8s 111ms/step - loss: 0.2257 - accuracy: 0.9277 - val_loss: 0.9165 - val_accuracy: 0.8455\n",
      "Epoch 83/100\n",
      "75/75 [==============================] - 8s 111ms/step - loss: 0.1600 - accuracy: 0.9469 - val_loss: 0.9562 - val_accuracy: 0.8504\n",
      "Epoch 84/100\n",
      "75/75 [==============================] - 8s 111ms/step - loss: 0.1795 - accuracy: 0.9415 - val_loss: 0.9258 - val_accuracy: 0.8554\n",
      "Epoch 85/100\n",
      "75/75 [==============================] - 8s 111ms/step - loss: 0.1447 - accuracy: 0.9519 - val_loss: 1.0319 - val_accuracy: 0.8356\n",
      "Epoch 86/100\n",
      "75/75 [==============================] - 8s 112ms/step - loss: 0.2021 - accuracy: 0.9352 - val_loss: 0.9188 - val_accuracy: 0.8566\n",
      "Epoch 87/100\n",
      "75/75 [==============================] - 8s 111ms/step - loss: 0.2095 - accuracy: 0.9319 - val_loss: 0.8447 - val_accuracy: 0.8653\n",
      "Epoch 88/100\n",
      "75/75 [==============================] - 8s 112ms/step - loss: 0.1886 - accuracy: 0.9386 - val_loss: 0.8688 - val_accuracy: 0.8628\n",
      "Epoch 89/100\n",
      "75/75 [==============================] - 8s 112ms/step - loss: 0.1787 - accuracy: 0.9453 - val_loss: 1.0836 - val_accuracy: 0.8269\n",
      "Epoch 90/100\n",
      "75/75 [==============================] - 8s 111ms/step - loss: 0.1479 - accuracy: 0.9511 - val_loss: 0.9690 - val_accuracy: 0.8764\n",
      "Epoch 91/100\n",
      "75/75 [==============================] - 8s 111ms/step - loss: 0.2812 - accuracy: 0.9302 - val_loss: 1.0911 - val_accuracy: 0.8455\n",
      "Epoch 92/100\n",
      "75/75 [==============================] - 8s 111ms/step - loss: 0.2097 - accuracy: 0.9382 - val_loss: 0.9640 - val_accuracy: 0.8566\n",
      "Epoch 93/100\n",
      "75/75 [==============================] - 8s 111ms/step - loss: 0.1787 - accuracy: 0.9444 - val_loss: 0.8284 - val_accuracy: 0.8912\n",
      "Epoch 94/100\n",
      "75/75 [==============================] - 8s 111ms/step - loss: 0.1279 - accuracy: 0.9599 - val_loss: 0.8187 - val_accuracy: 0.8764\n",
      "Epoch 95/100\n",
      "75/75 [==============================] - 8s 113ms/step - loss: 0.1598 - accuracy: 0.9515 - val_loss: 0.7866 - val_accuracy: 0.8714\n",
      "Epoch 96/100\n",
      "75/75 [==============================] - 8s 111ms/step - loss: 0.2428 - accuracy: 0.9298 - val_loss: 0.9473 - val_accuracy: 0.8566\n",
      "Epoch 97/100\n",
      "75/75 [==============================] - 9s 114ms/step - loss: 0.2462 - accuracy: 0.9239 - val_loss: 1.2128 - val_accuracy: 0.7886\n",
      "Epoch 98/100\n",
      "75/75 [==============================] - 9s 113ms/step - loss: 0.2064 - accuracy: 0.9386 - val_loss: 0.8432 - val_accuracy: 0.8727\n",
      "Epoch 99/100\n",
      "75/75 [==============================] - 8s 112ms/step - loss: 0.1506 - accuracy: 0.9524 - val_loss: 0.9180 - val_accuracy: 0.8628\n",
      "Epoch 100/100\n",
      "75/75 [==============================] - 8s 113ms/step - loss: 0.1356 - accuracy: 0.9603 - val_loss: 0.9829 - val_accuracy: 0.8566\n"
     ]
    }
   ],
   "source": [
    "History1 = model.fit_generator(train_datagen.flow(x_train,y_train, batch_size=32),\n",
    "                              epochs = 100, validation_data = (x_val,y_val),\n",
    "                              verbose = 1, steps_per_epoch=x_train.shape[0] // 32)"
   ]
  },
  {
   "cell_type": "code",
   "execution_count": 48,
   "id": "0f053934",
   "metadata": {
    "scrolled": true
   },
   "outputs": [
    {
     "data": {
      "image/png": "[encoded data removed]",
      "text/plain": [
       "<IPython.core.display.Image object>"
      ]
     },
     "execution_count": 48,
     "metadata": {},
     "output_type": "execute_result"
    }
   ],
   "source": [
    "plot_model(model, show_shapes=True)"
   ]
  },
  {
   "cell_type": "code",
   "execution_count": 49,
   "id": "a171dd57",
   "metadata": {
    "scrolled": true
   },
   "outputs": [
    {
     "name": "stdout",
     "output_type": "stream",
     "text": [
      "34/34 [==============================] - 1s 28ms/step - loss: 1.1759 - accuracy: 0.8237\n"
     ]
    },
    {
     "data": {
      "text/plain": [
       "[1.1758885383605957, 0.8237476944923401]"
      ]
     },
     "execution_count": 49,
     "metadata": {},
     "output_type": "execute_result"
    }
   ],
   "source": [
    "model.evaluate(x_test, y_test)"
   ]
  },
  {
   "cell_type": "code",
   "execution_count": 50,
   "id": "633c90d6",
   "metadata": {},
   "outputs": [
    {
     "name": "stdout",
     "output_type": "stream",
     "text": [
      "1/1 [==============================] - 0s 94ms/step\n"
     ]
    }
   ],
   "source": [
    "pre_y=model.predict(x_test[30].reshape(-1, 50, 50, 3))"
   ]
  },
  {
   "cell_type": "code",
   "execution_count": 51,
   "id": "a1c9e66d",
   "metadata": {},
   "outputs": [
    {
     "data": {
      "text/plain": [
       "array([[0., 0., 0., 0., 0., 0., 0., 0., 1., 0., 0., 0., 0., 0., 0., 0.,\n",
       "        0., 0., 0., 0., 0., 0., 0., 0., 0., 0.]], dtype=float32)"
      ]
     },
     "execution_count": 51,
     "metadata": {},
     "output_type": "execute_result"
    }
   ],
   "source": [
    "pre_y.round(2)"
   ]
  },
  {
   "cell_type": "code",
   "execution_count": 52,
   "id": "ff665a5e",
   "metadata": {},
   "outputs": [
    {
     "data": {
      "text/plain": [
       "8"
      ]
     },
     "execution_count": 52,
     "metadata": {},
     "output_type": "execute_result"
    }
   ],
   "source": [
    "y_test[30]"
   ]
  },
  {
   "cell_type": "code",
   "execution_count": 53,
   "id": "ee28e14e",
   "metadata": {
    "scrolled": false
   },
   "outputs": [
    {
     "data": {
      "text/html": [
       "<div>\n",
       "<style scoped>\n",
       "    .dataframe tbody tr th:only-of-type {\n",
       "        vertical-align: middle;\n",
       "    }\n",
       "\n",
       "    .dataframe tbody tr th {\n",
       "        vertical-align: top;\n",
       "    }\n",
       "\n",
       "    .dataframe thead th {\n",
       "        text-align: right;\n",
       "    }\n",
       "</style>\n",
       "<table border=\"1\" class=\"dataframe\">\n",
       "  <thead>\n",
       "    <tr style=\"text-align: right;\">\n",
       "      <th></th>\n",
       "      <th>Brand</th>\n",
       "      <th>Label</th>\n",
       "    </tr>\n",
       "  </thead>\n",
       "  <tbody>\n",
       "    <tr>\n",
       "      <th>0</th>\n",
       "      <td>angelinus</td>\n",
       "      <td>0</td>\n",
       "    </tr>\n",
       "    <tr>\n",
       "      <th>1</th>\n",
       "      <td>banolim</td>\n",
       "      <td>1</td>\n",
       "    </tr>\n",
       "    <tr>\n",
       "      <th>2</th>\n",
       "      <td>bbackdabang</td>\n",
       "      <td>2</td>\n",
       "    </tr>\n",
       "    <tr>\n",
       "      <th>3</th>\n",
       "      <td>benz</td>\n",
       "      <td>3</td>\n",
       "    </tr>\n",
       "    <tr>\n",
       "      <th>4</th>\n",
       "      <td>bmw</td>\n",
       "      <td>4</td>\n",
       "    </tr>\n",
       "    <tr>\n",
       "      <th>5</th>\n",
       "      <td>crown</td>\n",
       "      <td>5</td>\n",
       "    </tr>\n",
       "    <tr>\n",
       "      <th>6</th>\n",
       "      <td>cw</td>\n",
       "      <td>6</td>\n",
       "    </tr>\n",
       "    <tr>\n",
       "      <th>7</th>\n",
       "      <td>debec</td>\n",
       "      <td>7</td>\n",
       "    </tr>\n",
       "    <tr>\n",
       "      <th>8</th>\n",
       "      <td>domino</td>\n",
       "      <td>8</td>\n",
       "    </tr>\n",
       "    <tr>\n",
       "      <th>9</th>\n",
       "      <td>ediya</td>\n",
       "      <td>9</td>\n",
       "    </tr>\n",
       "    <tr>\n",
       "      <th>10</th>\n",
       "      <td>galleria</td>\n",
       "      <td>10</td>\n",
       "    </tr>\n",
       "    <tr>\n",
       "      <th>11</th>\n",
       "      <td>haitai</td>\n",
       "      <td>11</td>\n",
       "    </tr>\n",
       "    <tr>\n",
       "      <th>12</th>\n",
       "      <td>hyundai</td>\n",
       "      <td>12</td>\n",
       "    </tr>\n",
       "    <tr>\n",
       "      <th>13</th>\n",
       "      <td>hyundai_car</td>\n",
       "      <td>13</td>\n",
       "    </tr>\n",
       "    <tr>\n",
       "      <th>14</th>\n",
       "      <td>lotte</td>\n",
       "      <td>14</td>\n",
       "    </tr>\n",
       "    <tr>\n",
       "      <th>15</th>\n",
       "      <td>lotteJ</td>\n",
       "      <td>15</td>\n",
       "    </tr>\n",
       "    <tr>\n",
       "      <th>16</th>\n",
       "      <td>mrpizza</td>\n",
       "      <td>16</td>\n",
       "    </tr>\n",
       "    <tr>\n",
       "      <th>17</th>\n",
       "      <td>nongsim</td>\n",
       "      <td>17</td>\n",
       "    </tr>\n",
       "    <tr>\n",
       "      <th>18</th>\n",
       "      <td>orin</td>\n",
       "      <td>18</td>\n",
       "    </tr>\n",
       "    <tr>\n",
       "      <th>19</th>\n",
       "      <td>papazons</td>\n",
       "      <td>19</td>\n",
       "    </tr>\n",
       "    <tr>\n",
       "      <th>20</th>\n",
       "      <td>pizzahut</td>\n",
       "      <td>20</td>\n",
       "    </tr>\n",
       "    <tr>\n",
       "      <th>21</th>\n",
       "      <td>porche</td>\n",
       "      <td>21</td>\n",
       "    </tr>\n",
       "    <tr>\n",
       "      <th>22</th>\n",
       "      <td>shinsegae</td>\n",
       "      <td>22</td>\n",
       "    </tr>\n",
       "    <tr>\n",
       "      <th>23</th>\n",
       "      <td>starbucks</td>\n",
       "      <td>23</td>\n",
       "    </tr>\n",
       "    <tr>\n",
       "      <th>24</th>\n",
       "      <td>toyota</td>\n",
       "      <td>24</td>\n",
       "    </tr>\n",
       "    <tr>\n",
       "      <th>25</th>\n",
       "      <td>twosomeplace</td>\n",
       "      <td>25</td>\n",
       "    </tr>\n",
       "  </tbody>\n",
       "</table>\n",
       "</div>"
      ],
      "text/plain": [
       "           Brand  Label\n",
       "0      angelinus      0\n",
       "1        banolim      1\n",
       "2    bbackdabang      2\n",
       "3           benz      3\n",
       "4            bmw      4\n",
       "5          crown      5\n",
       "6             cw      6\n",
       "7          debec      7\n",
       "8         domino      8\n",
       "9          ediya      9\n",
       "10      galleria     10\n",
       "11        haitai     11\n",
       "12       hyundai     12\n",
       "13   hyundai_car     13\n",
       "14         lotte     14\n",
       "15        lotteJ     15\n",
       "16       mrpizza     16\n",
       "17       nongsim     17\n",
       "18          orin     18\n",
       "19      papazons     19\n",
       "20      pizzahut     20\n",
       "21        porche     21\n",
       "22     shinsegae     22\n",
       "23     starbucks     23\n",
       "24        toyota     24\n",
       "25  twosomeplace     25"
      ]
     },
     "execution_count": 53,
     "metadata": {},
     "output_type": "execute_result"
    }
   ],
   "source": [
    "df = pd.DataFrame(tarDF1.name.unique())\n",
    "df['label'] = tarDF1.label.unique()\n",
    "df.columns = ['Brand', 'Label']\n",
    "df"
   ]
  },
  {
   "cell_type": "code",
   "execution_count": 54,
   "id": "d8b7eb1b",
   "metadata": {
    "scrolled": true
   },
   "outputs": [
    {
     "data": {
      "image/png": "[encoded data removed]",
      "text/plain": [
       "<Figure size 1440x1440 with 5 Axes>"
      ]
     },
     "metadata": {
      "needs_background": "light"
     },
     "output_type": "display_data"
    }
   ],
   "source": [
    "fig=plt.figure(figsize=(20,20))\n",
    "\n",
    "# plt.title('Color', fontsize=24)\n",
    "plt.subplot(1, 5, 1)\n",
    "plt.imshow(x_test[25].reshape(50,50,3))\n",
    "plt.title(f'Label - {y_test[25]} / {df.Brand[y_test[25]]}')\n",
    "\n",
    "plt.subplot(1, 5, 2)\n",
    "plt.imshow(x_test[30].reshape(50,50,3))\n",
    "plt.title(f'Label - {y_test[30]} / {df.Brand[y_test[30]]}')\n",
    "\n",
    "plt.subplot(1, 5, 3)\n",
    "plt.imshow(x_test[50].reshape(50,50,3))\n",
    "plt.title(f'Label - {y_test[50]} / {df.Brand[y_test[50]]}')\n",
    "\n",
    "plt.subplot(1, 5, 4)\n",
    "plt.imshow(x_test[11].reshape(50,50,3))\n",
    "plt.title(f'Label - {y_test[11]} / {df.Brand[y_test[11]]}')\n",
    "\n",
    "plt.subplot(1, 5, 5)\n",
    "plt.imshow(x_test[90].reshape(50,50,3))\n",
    "plt.title(f'Label - {y_test[90]} / {df.Brand[y_test[90]]}')\n",
    "plt.show()"
   ]
  },
  {
   "cell_type": "markdown",
   "id": "27fdfb21",
   "metadata": {},
   "source": [
    "## 새로운 사진으로 예측"
   ]
  },
  {
   "cell_type": "code",
   "execution_count": 55,
   "id": "cad93d64",
   "metadata": {},
   "outputs": [],
   "source": [
    "def img_preprocessing(FILENAME):\n",
    "    img = Image.open(FILENAME)\n",
    "    img = img.resize((50,50))\n",
    "    img = np.array(img)\n",
    "    img = img.reshape(-1, 50, 50, 3)\n",
    "    plt.imshow(img.reshape(50,50,3))\n",
    "    print(df.Brand[np.argmax(model.predict(img))])"
   ]
  },
  {
   "cell_type": "code",
   "execution_count": 56,
   "id": "657ca50b",
   "metadata": {
    "scrolled": true
   },
   "outputs": [
    {
     "name": "stdout",
     "output_type": "stream",
     "text": [
      "1/1 [==============================] - 0s 63ms/step\n",
      "shinsegae\n"
     ]
    },
    {
     "data": {
      "image/png": "[encoded data removed]",
      "text/plain": [
       "<Figure size 432x288 with 1 Axes>"
      ]
     },
     "metadata": {
      "needs_background": "light"
     },
     "output_type": "display_data"
    }
   ],
   "source": [
    "a=img_preprocessing('./test.img/benz.JPG')"
   ]
  },
  {
   "cell_type": "code",
   "execution_count": 57,
   "id": "8638d33b",
   "metadata": {},
   "outputs": [
    {
     "name": "stdout",
     "output_type": "stream",
     "text": [
      "1/1 [==============================] - 0s 17ms/step\n",
      "domino\n"
     ]
    },
    {
     "data": {
      "image/png": "[encoded data removed]",
      "text/plain": [
       "<Figure size 432x288 with 1 Axes>"
      ]
     },
     "metadata": {
      "needs_background": "light"
     },
     "output_type": "display_data"
    }
   ],
   "source": [
    "b=img_preprocessing('./test.img/shinse.JPG')"
   ]
  },
  {
   "cell_type": "code",
   "execution_count": 58,
   "id": "6e9f8a70",
   "metadata": {},
   "outputs": [
    {
     "name": "stdout",
     "output_type": "stream",
     "text": [
      "1/1 [==============================] - 0s 17ms/step\n",
      "hyundai\n"
     ]
    },
    {
     "data": {
      "image/png": "[encoded data removed]",
      "text/plain": [
       "<Figure size 432x288 with 1 Axes>"
      ]
     },
     "metadata": {
      "needs_background": "light"
     },
     "output_type": "display_data"
    }
   ],
   "source": [
    "c=img_preprocessing('./test.img/galleria.JPG')"
   ]
  },
  {
   "cell_type": "code",
   "execution_count": 60,
   "id": "d972dcaa",
   "metadata": {},
   "outputs": [
    {
     "name": "stdout",
     "output_type": "stream",
     "text": [
      "1/1 [==============================] - 0s 15ms/step\n",
      "bmw\n"
     ]
    },
    {
     "data": {
      "image/png": "[encoded data removed]",
      "text/plain": [
       "<Figure size 432x288 with 1 Axes>"
      ]
     },
     "metadata": {
      "needs_background": "light"
     },
     "output_type": "display_data"
    }
   ],
   "source": [
    "d=img_preprocessing('./test.img/bmw.JPG')"
   ]
  },
  {
   "cell_type": "code",
   "execution_count": 61,
   "id": "8be72651",
   "metadata": {},
   "outputs": [
    {
     "name": "stdout",
     "output_type": "stream",
     "text": [
      "1/1 [==============================] - 0s 17ms/step\n",
      "domino\n"
     ]
    },
    {
     "data": {
      "image/png": "[encoded data removed]",
      "text/plain": [
       "<Figure size 432x288 with 1 Axes>"
      ]
     },
     "metadata": {
      "needs_background": "light"
     },
     "output_type": "display_data"
    }
   ],
   "source": [
    "e=img_preprocessing('./test.img/porsche.JPG')"
   ]
  },
  {
   "cell_type": "code",
   "execution_count": null,
   "id": "bee0b791",
   "metadata": {},
   "outputs": [],
   "source": []
  }
 ],
 "metadata": {
  "kernelspec": {
   "display_name": "Python 3 (ipykernel)",
   "language": "python",
   "name": "python3"
  },
  "language_info": {
   "codemirror_mode": {
    "name": "ipython",
    "version": 3
   },
   "file_extension": ".py",
   "mimetype": "text/x-python",
   "name": "python",
   "nbconvert_exporter": "python",
   "pygments_lexer": "ipython3",
   "version": "3.9.12"
  }
 },
 "nbformat": 4,
 "nbformat_minor": 5
}
