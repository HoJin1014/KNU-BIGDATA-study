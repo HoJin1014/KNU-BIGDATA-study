{
 "cells": [
  {
   "cell_type": "markdown",
   "id": "efa01a14",
   "metadata": {},
   "source": [
    "# 회사별 로고 예측"
   ]
  },
  {
   "cell_type": "code",
   "execution_count": 1,
   "id": "2563dd6c",
   "metadata": {},
   "outputs": [],
   "source": [
    "# 모듈 로딩\n",
    "import os\n",
    "import cv2\n",
    "import numpy as np\n",
    "import pandas as pd\n",
    "import warnings\n",
    "warnings.filterwarnings('ignore')\n",
    "import matplotlib.pyplot as plt\n",
    "from PIL import Image\n",
    "from bs4 import BeautifulSoup\n",
    "from selenium import webdriver\n",
    "from tensorflow.keras import Sequential\n",
    "from sklearn.utils import all_estimators\n",
    "from sklearn.linear_model import LogisticRegression\n",
    "from sklearn.model_selection import train_test_split\n",
    "from urllib.request import urlopen,Request,urlretrieve\n",
    "from tensorflow.keras.utils import set_random_seed, plot_model\n",
    "from tensorflow.keras.preprocessing.image import ImageDataGenerator\n",
    "from tensorflow.keras.layers import Dense, Conv2D, Flatten, MaxPool2D"
   ]
  },
  {
   "cell_type": "code",
   "execution_count": 2,
   "id": "b94156cb",
   "metadata": {},
   "outputs": [],
   "source": [
    "# 크롤링 데이터 로테이션시키는 함수\n",
    "def rota_save(color,foldname):\n",
    "    # 폴더 만들기\n",
    "    if not os.path.exists('./'+foldname):\n",
    "        os.makedirs(foldname)\n",
    "    \n",
    "    rotation=[45,90,135,180,225,270,315]\n",
    "    for file in os.listdir('./data/'):\n",
    "        for rot in rotation:\n",
    "            img=np.array(Image.open('./data/'+file).convert(color))\n",
    "            rows,cols = img.shape[0:2]\n",
    "            ro_mt = cv2.getRotationMatrix2D((cols/2,rows/2),rot,1.42)\n",
    "            ro_img = cv2.warpAffine(img, ro_mt,(cols, rows))\n",
    "            \n",
    "            # 이미지 저장\n",
    "            filename=f\"{file}_ro{str(rot)}\"\n",
    "            cv2.imwrite('./'+foldname+'/'+filename+'.png',ro_img)"
   ]
  },
  {
   "cell_type": "code",
   "execution_count": 3,
   "id": "1fa5bd1e",
   "metadata": {},
   "outputs": [],
   "source": [
    "# 크롤링 데이터 convert 함수\n",
    "def data_con(color,foldname):\n",
    "    for file in os.listdir('./data/'):\n",
    "        img=Image.open('./data/'+file).convert(color).save('./'+foldname+'/'+file)"
   ]
  },
  {
   "cell_type": "code",
   "execution_count": 4,
   "id": "e51ca68e",
   "metadata": {},
   "outputs": [],
   "source": [
    "# 흑백으로 로테이션\n",
    "rota_save('L','blwh')\n",
    "\n",
    "# rgb로 로테이션\n",
    "rota_save('RGB','rgb')"
   ]
  },
  {
   "cell_type": "code",
   "execution_count": 5,
   "id": "d4df6307",
   "metadata": {},
   "outputs": [],
   "source": [
    "# 원본사진 흑백으로\n",
    "data_con('L','blwh')\n",
    "\n",
    "# 원본사진 색깔로\n",
    "data_con('RGB','rgb')"
   ]
  },
  {
   "cell_type": "code",
   "execution_count": 6,
   "id": "8854cc7c",
   "metadata": {},
   "outputs": [],
   "source": [
    "def solution(foldname):\n",
    "    l=[]\n",
    "    for i in os.listdir('./'+foldname+'/'):\n",
    "        n=np.array(Image.open('./'+foldname+'/'+i))/255.0\n",
    "        if foldname=='blwh':\n",
    "           n_list=n.reshape(-1,50,50)[0].tolist()\n",
    "        else:\n",
    "            n_list=n.reshape(-1,50,50,3)[0].tolist()\n",
    "        l.append(n_list)\n",
    "    return np.array(l)"
   ]
  },
  {
   "cell_type": "code",
   "execution_count": 7,
   "id": "02d6e409",
   "metadata": {},
   "outputs": [],
   "source": [
    "# 동적 웹 크롤링으로 사진저장 함수\n",
    "def image_save(urlpath,charname):\n",
    "    driver = webdriver.Chrome('chromedriver.exe') # C:/Users/User/EXAM_PANDAS/DAY-0630/DAY-0920\n",
    "    #driver = webdriver.Chrome('C:\\\\workspace’) # Windows 사용자의 설치 경로\n",
    "    driver.get(urlpath)\n",
    "    html=driver.page_source\n",
    "    soup=BeautifulSoup(html,'html.parser')\n",
    "    driver.quit()\n",
    "\n",
    "    # 태그-속성 찾기\n",
    "    image_finds=soup.select(\"div.bRMDJf img\")\n",
    "    \n",
    "    # 이미지의 url찾기\n",
    "    image=[]\n",
    "    for image_find in image_finds:\n",
    "        try:\n",
    "            image.append(image_find['src'])\n",
    "            image.append(image_find['data-src'])\n",
    "        except:\n",
    "            pass\n",
    "    \n",
    "    # 폴더 만들기\n",
    "    if not os.path.exists('./departdata'+charname):\n",
    "        os.makedirs('./departdata'+charname)\n",
    "    \n",
    "    # 파일 저장하기\n",
    "    for i in range(0,len(image)):\n",
    "        urlretrieve(image[i],'./departdata'+charname+'/'+charname+str(i)+'.png')\n",
    "\n",
    "    # 파일 크기 조절\n",
    "    for png in os.listdir('./departdata'+charname):\n",
    "        Image.open('./departdata'+charname+'/'+png).resize((50,50)).save('./departdata'+charname+'/'+png)"
   ]
  },
  {
   "cell_type": "code",
   "execution_count": 8,
   "id": "bfa69559",
   "metadata": {},
   "outputs": [],
   "source": [
    "# 신세계\n",
    "image_save('https://www.google.com/search?q=%EC%8B%A0%EC%84%B8%EA%B3%84%EB%B0%B1%ED%99%94%EC%A0%90+%EB%A1%9C%EA%B3%A0&tbm=isch&ved=2ahUKEwiWx8zJs6L6AhUzNqYKHQVnCpoQ2-cCegQIABAA&oq=%EC%8B%A0%EC%84%B8%EA%B3%84%EB%B0%B1%ED%99%94%EC%A0%80&gs_lcp=CgNpbWcQARgBMgUIABCABDIFCAAQgAQyBQgAEIAEMgUIABCABDIFCAAQgAQyBQgAEIAEMgUIABCABDIFCAAQgAQyBQgAEIAEMgUIABCABDoECCMQJzoLCAAQgAQQsQMQgwFQ0QVY9w9g9xtoAnAAeAGAAYcBiAGHCpIBBDAuMTCYAQCgAQGqAQtnd3Mtd2l6LWltZ8ABAQ&sclient=img&ei=CDApY5ajNLPsmAWFzqnQCQ&bih=744&biw=767','shinsegae')\n",
    "\n",
    "# 현대\n",
    "image_save('https://www.google.com/search?q=%ED%98%84%EB%8C%80%EB%B0%B1%ED%99%94%EC%A0%90+%EB%A1%9C%EA%B3%A0&tbm=isch&ved=2ahUKEwi0sPHOs6L6AhUGdpQKHRNvCvIQ2-cCegQIABAA&oq=%ED%98%84%EB%8C%80%EB%B0%B1%ED%99%94%EC%A0%90+%EB%A1%9C%EA%B3%A0&gs_lcp=CgNpbWcQAzIFCAAQgAQyBQgAEIAEMgUIABCABDIGCAAQHhAIMgYIABAeEAg6BAgjECdQ1wNYrQtgpA9oAHAAeACAAbwBiAGUCJIBAzAuNpgBAKABAaoBC2d3cy13aXotaW1nwAEB&sclient=img&ei=EzApY_TaOYbs0QST3qmQDw&bih=744&biw=767', 'hyundai')\n",
    "\n",
    "# 롯데 \n",
    "image_save('https://www.google.com/search?q=%EB%A1%AF%EB%8D%B0%EB%B0%B1%ED%99%94%EC%A0%90+%EB%A1%9C%EA%B3%A0&tbm=isch&ved=2ahUKEwiQmOv-tKL6AhVSFYgKHY_0CaAQ2-cCegQIABAA&oq=%EB%A1%AF%EB%8D%B0%EB%B0%B1%ED%99%94%EC%A0%90+%EB%A1%9C%EA%B3%A0&gs_lcp=CgNpbWcQAzIFCAAQgAQyBQgAEIAEMgUIABCABDoECCMQJzoGCAAQHhAHOgYIABAeEAhQ-RFYzBdg_RpoAHAAeACAAaABiAHHBpIBAzAuNpgBAKABAaoBC2d3cy13aXotaW1nwAEB&sclient=img&ei=hDEpY5DGOdKqoASP6aeACg&bih=744&biw=767', 'lotte')\n",
    "\n",
    "# 대백\n",
    "image_save('https://www.google.com/search?q=%EB%8C%80%EB%B0%B1+%EB%A1%9C%EA%B3%A0&tbm=isch&ved=2ahUKEwiQmOv-tKL6AhVSFYgKHY_0CaAQ2-cCegQIABAA&oq=%EB%8C%80%EB%B0%B1+%EB%A1%9C%EA%B3%A0&gs_lcp=CgNpbWcQAzIFCAAQgAQ6BAgjECc6BggAEB4QBzoGCAAQHhAIOgQIABAYUL4GWJsKYJYPaAFwAHgBgAGdAYgBswaSAQMwLjaYAQCgAQGqAQtnd3Mtd2l6LWltZ8ABAQ&sclient=img&ei=hDEpY5DGOdKqoASP6aeACg&bih=744&biw=767', 'debec')\n",
    "\n",
    "# 갤러리아\n",
    "image_save('https://www.google.com/search?q=%EA%B0%A4%EB%9F%AC%EB%A6%AC%EC%95%84%EB%B0%B1%ED%99%94%EC%A0%90+%EB%A1%9C%EA%B3%A0&tbm=isch&ved=2ahUKEwiQmOv-tKL6AhVSFYgKHY_0CaAQ2-cCegQIABAA&oq=%EA%B0%A4%EB%9F%AC%EB%A6%AC%EC%95%84%EB%B0%B1%ED%99%94%EC%A0%90+%EB%A1%9C%EA%B3%A0&gs_lcp=CgNpbWcQARgAMgUIABCABDIGCAAQHhAHOgQIIxAnOgYIABAeEAhQsAVY-QxgghxoAnAAeAKAAZoBiAHVCpIBBDAuMTCYAQCgAQGqAQtnd3Mtd2l6LWltZ8ABAQ&sclient=img&ei=hDEpY5DGOdKqoASP6aeACg&bih=744&biw=767', 'galleria')"
   ]
  },
  {
   "cell_type": "code",
   "execution_count": 9,
   "id": "ca47a3f6",
   "metadata": {},
   "outputs": [],
   "source": [
    "shinimg = Image.open('./departdatashinsegae/shinsegae0.png')\n",
    "hyundai = Image.open('./departdatahyundai/hyundai0.png')\n",
    "lotte = Image.open('./departdatalotte/lotte0.png')\n",
    "debec = Image.open('./departdatadebec/debec0.png')\n",
    "galleria = Image.open('./departdatagalleria/galleria0.png')"
   ]
  },
  {
   "cell_type": "code",
   "execution_count": 10,
   "id": "1d21116c",
   "metadata": {
    "scrolled": true
   },
   "outputs": [
    {
     "data": {
      "image/png": "[encoded data removed]",
      "text/plain": [
       "<Figure size 2160x2160 with 5 Axes>"
      ]
     },
     "metadata": {
      "needs_background": "light"
     },
     "output_type": "display_data"
    }
   ],
   "source": [
    "fig=plt.figure(figsize=(30,30))\n",
    "\n",
    "plt.subplot(1, 5, 1)\n",
    "plt.imshow(shinimg)\n",
    "plt.title('Shinsegae Logo', fontsize=24)\n",
    "\n",
    "plt.subplot(1, 5, 2)\n",
    "plt.imshow(hyundai)\n",
    "plt.title('Hyundai Logo', fontsize=24)\n",
    "\n",
    "plt.subplot(1, 5, 3)\n",
    "plt.imshow(lotte)\n",
    "plt.title('Lotte Logo', fontsize=24)\n",
    "\n",
    "plt.subplot(1, 5, 4)\n",
    "plt.imshow(debec)\n",
    "plt.title('Debec Logo', fontsize=24)\n",
    "\n",
    "plt.subplot(1, 5, 5)\n",
    "plt.imshow(galleria)\n",
    "plt.title('Galleria Logo', fontsize=24)\n",
    "plt.show()"
   ]
  },
  {
   "cell_type": "code",
   "execution_count": 11,
   "id": "f951cc97",
   "metadata": {},
   "outputs": [],
   "source": [
    "# a = Image.open('./departdatashinsegae/shinsegae'+str(i)+'.png')\n",
    "# np.array(a).reshape(-1,50*50)[0].tolist()"
   ]
  },
  {
   "cell_type": "code",
   "execution_count": 12,
   "id": "c8be898a",
   "metadata": {
    "scrolled": true
   },
   "outputs": [],
   "source": [
    "allshinimg = []\n",
    "allhyundaiimg = []\n",
    "alllotteimg = []\n",
    "alldebecimg = []\n",
    "allgalleriaimg = []\n",
    "\n",
    "\n",
    "for i in range(22):\n",
    "    a = Image.open('./departdatashinsegae/shinsegae'+str(i)+'.png')\n",
    "    allshinimg.append(np.array(a).reshape(-1,50*50)[0].tolist())\n",
    "    \n",
    "for j in range(20):\n",
    "    b = Image.open('./departdatahyundai/hyundai'+str(j)+'.png')\n",
    "    allhyundaiimg.append(np.array(b).reshape(-1,50*50)[0].tolist())\n",
    "    \n",
    "for o in range(20):\n",
    "    c = Image.open('./departdatalotte/lotte'+str(o)+'.png')\n",
    "    alllotteimg.append(np.array(c).reshape(-1,50*50)[0].tolist())\n",
    "  \n",
    "for f in range(22):\n",
    "    d = Image.open('./departdatadebec/debec'+str(f)+'.png')\n",
    "    alldebecimg.append(np.array(d).reshape(-1,50*50)[0].tolist())\n",
    "    \n",
    "for g in range(20):\n",
    "    e = Image.open('./departdatagalleria/galleria'+str(g)+'.png')\n",
    "    allgalleriaimg.append(np.array(e).reshape(-1,50*50)[0].tolist())"
   ]
  },
  {
   "cell_type": "code",
   "execution_count": 13,
   "id": "a8fab703",
   "metadata": {},
   "outputs": [
    {
     "name": "stdout",
     "output_type": "stream",
     "text": [
      "신세계 로고 :  22\n",
      "현대 로고 :  20\n",
      "롯데 로고 :  20\n",
      "대백 로고 :  22\n",
      "갤러리아 로고 :  20\n"
     ]
    }
   ],
   "source": [
    "print('신세계 로고 : ', len(allshinimg))\n",
    "print('현대 로고 : ', len(allhyundaiimg))\n",
    "print('롯데 로고 : ', len(alllotteimg))\n",
    "print('대백 로고 : ', len(alldebecimg))\n",
    "print('갤러리아 로고 : ', len(allgalleriaimg))"
   ]
  },
  {
   "cell_type": "code",
   "execution_count": 14,
   "id": "319abc43",
   "metadata": {
    "scrolled": true
   },
   "outputs": [
    {
     "data": {
      "text/plain": [
       "(104, 2500)"
      ]
     },
     "execution_count": 14,
     "metadata": {},
     "output_type": "execute_result"
    }
   ],
   "source": [
    "allimgplus=np.row_stack((allshinimg, allhyundaiimg, alllotteimg, alldebecimg, allgalleriaimg))\n",
    "allimgplus.shape"
   ]
  },
  {
   "cell_type": "code",
   "execution_count": 15,
   "id": "04093e5f",
   "metadata": {},
   "outputs": [],
   "source": [
    "target1=np.array([0]*22)\n",
    "target2=np.array([1]*20)\n",
    "target3=np.array([2]*20)\n",
    "target4=np.array([3]*22)\n",
    "target5=np.array([4]*20)"
   ]
  },
  {
   "cell_type": "code",
   "execution_count": 16,
   "id": "34e6a971",
   "metadata": {},
   "outputs": [
    {
     "data": {
      "text/plain": [
       "array([0, 0, 0, 0, 0, 0, 0, 0, 0, 0, 0, 0, 0, 0, 0, 0, 0, 0, 0, 0, 0, 0,\n",
       "       1, 1, 1, 1, 1, 1, 1, 1, 1, 1, 1, 1, 1, 1, 1, 1, 1, 1, 1, 1, 2, 2,\n",
       "       2, 2, 2, 2, 2, 2, 2, 2, 2, 2, 2, 2, 2, 2, 2, 2, 2, 2, 3, 3, 3, 3,\n",
       "       3, 3, 3, 3, 3, 3, 3, 3, 3, 3, 3, 3, 3, 3, 3, 3, 3, 3, 4, 4, 4, 4,\n",
       "       4, 4, 4, 4, 4, 4, 4, 4, 4, 4, 4, 4, 4, 4, 4, 4])"
      ]
     },
     "execution_count": 16,
     "metadata": {},
     "output_type": "execute_result"
    }
   ],
   "source": [
    "target=np.concatenate([target1, target2, target3, target4, target5])\n",
    "target"
   ]
  },
  {
   "cell_type": "code",
   "execution_count": 17,
   "id": "bad71fe9",
   "metadata": {},
   "outputs": [
    {
     "data": {
      "text/plain": [
       "array([[  0,   0,   0, ...,   0,   0,   0],\n",
       "       [  0,   0,   0, ...,   0,   0,   0],\n",
       "       [  0,   0,   0, ...,   0,   0,   0],\n",
       "       ...,\n",
       "       [255, 255, 255, ..., 255, 255, 255],\n",
       "       [  0,   0,   0, ...,   0,   0,   0],\n",
       "       [ 41,  37,  25, ..., 254, 131, 254]])"
      ]
     },
     "execution_count": 17,
     "metadata": {},
     "output_type": "execute_result"
    }
   ],
   "source": [
    "allimgplus"
   ]
  },
  {
   "cell_type": "code",
   "execution_count": 18,
   "id": "ef38c57c",
   "metadata": {},
   "outputs": [],
   "source": [
    "allimgplus=allimgplus/255.0"
   ]
  },
  {
   "cell_type": "code",
   "execution_count": 19,
   "id": "cbcd656e",
   "metadata": {},
   "outputs": [],
   "source": [
    "allimgplus=allimgplus.reshape(-1,50,50,1)"
   ]
  },
  {
   "cell_type": "code",
   "execution_count": 20,
   "id": "f5838b15",
   "metadata": {},
   "outputs": [],
   "source": [
    "# 훈련/테스트 데이터 나누기\n",
    "x_train, x_test, y_train, y_test = train_test_split(allimgplus, target,\n",
    "                                                    random_state=42,\n",
    "                                                    stratify=target)"
   ]
  },
  {
   "cell_type": "code",
   "execution_count": 21,
   "id": "e19e6791",
   "metadata": {},
   "outputs": [],
   "source": [
    "# 검증용 데이터 준비\n",
    "from sklearn.model_selection import train_test_split"
   ]
  },
  {
   "cell_type": "code",
   "execution_count": 22,
   "id": "85fa6278",
   "metadata": {},
   "outputs": [],
   "source": [
    "x_train, x_val, y_train, y_val = train_test_split(x_train, y_train,\n",
    "                                                  stratify=y_train,\n",
    "                                                  random_state=42)"
   ]
  },
  {
   "cell_type": "code",
   "execution_count": 23,
   "id": "2e2a24f0",
   "metadata": {},
   "outputs": [
    {
     "name": "stdout",
     "output_type": "stream",
     "text": [
      "(58, 50, 50, 1) (58,)\n",
      "(26, 50, 50, 1) (26,)\n",
      "(20, 50, 50, 1) (20,)\n"
     ]
    }
   ],
   "source": [
    "print(x_train.shape, y_train.shape)\n",
    "print(x_test.shape, y_test.shape)\n",
    "print(x_val.shape, y_val.shape)"
   ]
  },
  {
   "cell_type": "markdown",
   "id": "3ad1c7f1",
   "metadata": {},
   "source": [
    "# 모델"
   ]
  },
  {
   "cell_type": "code",
   "execution_count": 24,
   "id": "9738ce2e",
   "metadata": {},
   "outputs": [],
   "source": [
    "model=Sequential()\n",
    "model.add(Conv2D(58, kernel_size=3, activation='relu', padding='same', input_shape=(50,50,1)))\n",
    "model.add(MaxPool2D())\n",
    "model.add(Conv2D(200, kernel_size=3, padding='same'))\n",
    "model.add(Flatten())\n",
    "model.add(Dense(5, activation='softmax'))"
   ]
  },
  {
   "cell_type": "code",
   "execution_count": 25,
   "id": "f601bea4",
   "metadata": {
    "scrolled": true
   },
   "outputs": [
    {
     "name": "stdout",
     "output_type": "stream",
     "text": [
      "Model: \"sequential\"\n",
      "_________________________________________________________________\n",
      " Layer (type)                Output Shape              Param #   \n",
      "=================================================================\n",
      " conv2d (Conv2D)             (None, 50, 50, 58)        580       \n",
      "                                                                 \n",
      " max_pooling2d (MaxPooling2D  (None, 25, 25, 58)       0         \n",
      " )                                                               \n",
      "                                                                 \n",
      " conv2d_1 (Conv2D)           (None, 25, 25, 200)       104600    \n",
      "                                                                 \n",
      " flatten (Flatten)           (None, 125000)            0         \n",
      "                                                                 \n",
      " dense (Dense)               (None, 5)                 625005    \n",
      "                                                                 \n",
      "=================================================================\n",
      "Total params: 730,185\n",
      "Trainable params: 730,185\n",
      "Non-trainable params: 0\n",
      "_________________________________________________________________\n"
     ]
    }
   ],
   "source": [
    "model.summary()"
   ]
  },
  {
   "cell_type": "code",
   "execution_count": 26,
   "id": "d4dea79d",
   "metadata": {},
   "outputs": [],
   "source": [
    "train_datagen = ImageDataGenerator(\n",
    "    \n",
    "    rotation_range=30,\n",
    "    shear_range=0.2,\n",
    "    zoom_range=0.4,\n",
    "    horizontal_flip=True\n",
    ")\n",
    "train_datagen.fit(x_train)"
   ]
  },
  {
   "cell_type": "code",
   "execution_count": 27,
   "id": "d89d48cf",
   "metadata": {},
   "outputs": [],
   "source": [
    "model.compile(optimizer='adam',loss='sparse_categorical_crossentropy',metrics=['accuracy'])"
   ]
  },
  {
   "cell_type": "code",
   "execution_count": 28,
   "id": "23d6d277",
   "metadata": {
    "scrolled": true
   },
   "outputs": [
    {
     "name": "stdout",
     "output_type": "stream",
     "text": [
      "Epoch 1/100\n",
      "1/1 [==============================] - 1s 827ms/step - loss: 1.5992 - accuracy: 0.1562 - val_loss: 2.8829 - val_accuracy: 0.2000\n",
      "Epoch 2/100\n",
      "1/1 [==============================] - 0s 158ms/step - loss: 3.0513 - accuracy: 0.2308 - val_loss: 2.9530 - val_accuracy: 0.1500\n",
      "Epoch 3/100\n",
      "1/1 [==============================] - 0s 169ms/step - loss: 4.1772 - accuracy: 0.3077 - val_loss: 1.7777 - val_accuracy: 0.2000\n",
      "Epoch 4/100\n",
      "1/1 [==============================] - 0s 167ms/step - loss: 2.2512 - accuracy: 0.1923 - val_loss: 1.8187 - val_accuracy: 0.2000\n",
      "Epoch 5/100\n",
      "1/1 [==============================] - 0s 174ms/step - loss: 1.7137 - accuracy: 0.1250 - val_loss: 2.0651 - val_accuracy: 0.1500\n",
      "Epoch 6/100\n",
      "1/1 [==============================] - 0s 182ms/step - loss: 2.0554 - accuracy: 0.3125 - val_loss: 2.1448 - val_accuracy: 0.1500\n",
      "Epoch 7/100\n",
      "1/1 [==============================] - 0s 171ms/step - loss: 1.7057 - accuracy: 0.4615 - val_loss: 2.1710 - val_accuracy: 0.1500\n",
      "Epoch 8/100\n",
      "1/1 [==============================] - 0s 184ms/step - loss: 1.6365 - accuracy: 0.4062 - val_loss: 2.2928 - val_accuracy: 0.1500\n",
      "Epoch 9/100\n",
      "1/1 [==============================] - 0s 173ms/step - loss: 2.5047 - accuracy: 0.2188 - val_loss: 2.1237 - val_accuracy: 0.1500\n",
      "Epoch 10/100\n",
      "1/1 [==============================] - 0s 155ms/step - loss: 2.4177 - accuracy: 0.1538 - val_loss: 1.8885 - val_accuracy: 0.1500\n",
      "Epoch 11/100\n",
      "1/1 [==============================] - 0s 160ms/step - loss: 1.7135 - accuracy: 0.3077 - val_loss: 1.7546 - val_accuracy: 0.2000\n",
      "Epoch 12/100\n",
      "1/1 [==============================] - 0s 162ms/step - loss: 1.4446 - accuracy: 0.3462 - val_loss: 1.7608 - val_accuracy: 0.2000\n",
      "Epoch 13/100\n",
      "1/1 [==============================] - 0s 159ms/step - loss: 2.0204 - accuracy: 0.0769 - val_loss: 1.6949 - val_accuracy: 0.2000\n",
      "Epoch 14/100\n",
      "1/1 [==============================] - 0s 171ms/step - loss: 1.5990 - accuracy: 0.2812 - val_loss: 1.7221 - val_accuracy: 0.1500\n",
      "Epoch 15/100\n",
      "1/1 [==============================] - 0s 151ms/step - loss: 1.4683 - accuracy: 0.3462 - val_loss: 1.7854 - val_accuracy: 0.1500\n",
      "Epoch 16/100\n",
      "1/1 [==============================] - 0s 153ms/step - loss: 1.7221 - accuracy: 0.2308 - val_loss: 1.8025 - val_accuracy: 0.1500\n",
      "Epoch 17/100\n",
      "1/1 [==============================] - 0s 171ms/step - loss: 1.5681 - accuracy: 0.3077 - val_loss: 1.7899 - val_accuracy: 0.1500\n",
      "Epoch 18/100\n",
      "1/1 [==============================] - 0s 166ms/step - loss: 1.5083 - accuracy: 0.3462 - val_loss: 1.7649 - val_accuracy: 0.1500\n",
      "Epoch 19/100\n",
      "1/1 [==============================] - 0s 166ms/step - loss: 1.5896 - accuracy: 0.3846 - val_loss: 1.7563 - val_accuracy: 0.2000\n",
      "Epoch 20/100\n",
      "1/1 [==============================] - 0s 203ms/step - loss: 1.5791 - accuracy: 0.2188 - val_loss: 1.7565 - val_accuracy: 0.2500\n",
      "Epoch 21/100\n",
      "1/1 [==============================] - 0s 174ms/step - loss: 1.5513 - accuracy: 0.2308 - val_loss: 1.7472 - val_accuracy: 0.2000\n",
      "Epoch 22/100\n",
      "1/1 [==============================] - 0s 197ms/step - loss: 1.4893 - accuracy: 0.3125 - val_loss: 1.7614 - val_accuracy: 0.2000\n",
      "Epoch 23/100\n",
      "1/1 [==============================] - 0s 181ms/step - loss: 1.4521 - accuracy: 0.3750 - val_loss: 1.7826 - val_accuracy: 0.2000\n",
      "Epoch 24/100\n",
      "1/1 [==============================] - 0s 180ms/step - loss: 1.5613 - accuracy: 0.4062 - val_loss: 1.7893 - val_accuracy: 0.2000\n",
      "Epoch 25/100\n",
      "1/1 [==============================] - 0s 157ms/step - loss: 1.4682 - accuracy: 0.3846 - val_loss: 1.7846 - val_accuracy: 0.2000\n",
      "Epoch 26/100\n",
      "1/1 [==============================] - 0s 161ms/step - loss: 1.3642 - accuracy: 0.4615 - val_loss: 1.8017 - val_accuracy: 0.2000\n",
      "Epoch 27/100\n",
      "1/1 [==============================] - 0s 173ms/step - loss: 1.4018 - accuracy: 0.4231 - val_loss: 1.8134 - val_accuracy: 0.2000\n",
      "Epoch 28/100\n",
      "1/1 [==============================] - 0s 162ms/step - loss: 1.4512 - accuracy: 0.3846 - val_loss: 1.8551 - val_accuracy: 0.2000\n",
      "Epoch 29/100\n",
      "1/1 [==============================] - 0s 177ms/step - loss: 1.4587 - accuracy: 0.3077 - val_loss: 1.8859 - val_accuracy: 0.2000\n",
      "Epoch 30/100\n",
      "1/1 [==============================] - 0s 176ms/step - loss: 1.4373 - accuracy: 0.3846 - val_loss: 1.9383 - val_accuracy: 0.2500\n",
      "Epoch 31/100\n",
      "1/1 [==============================] - 0s 176ms/step - loss: 1.4293 - accuracy: 0.3438 - val_loss: 2.0106 - val_accuracy: 0.2500\n",
      "Epoch 32/100\n",
      "1/1 [==============================] - 0s 172ms/step - loss: 1.2968 - accuracy: 0.4375 - val_loss: 2.1550 - val_accuracy: 0.1500\n",
      "Epoch 33/100\n",
      "1/1 [==============================] - 0s 168ms/step - loss: 1.5524 - accuracy: 0.3846 - val_loss: 2.2854 - val_accuracy: 0.1000\n",
      "Epoch 34/100\n",
      "1/1 [==============================] - 0s 159ms/step - loss: 1.3981 - accuracy: 0.4231 - val_loss: 2.3625 - val_accuracy: 0.1500\n",
      "Epoch 35/100\n",
      "1/1 [==============================] - 0s 158ms/step - loss: 1.9228 - accuracy: 0.2308 - val_loss: 2.2427 - val_accuracy: 0.2500\n",
      "Epoch 36/100\n",
      "1/1 [==============================] - 0s 162ms/step - loss: 1.5170 - accuracy: 0.4231 - val_loss: 2.1049 - val_accuracy: 0.2500\n",
      "Epoch 37/100\n",
      "1/1 [==============================] - 0s 180ms/step - loss: 1.6906 - accuracy: 0.4062 - val_loss: 2.0249 - val_accuracy: 0.2000\n",
      "Epoch 38/100\n",
      "1/1 [==============================] - 0s 178ms/step - loss: 1.4295 - accuracy: 0.5312 - val_loss: 1.9928 - val_accuracy: 0.2000\n",
      "Epoch 39/100\n",
      "1/1 [==============================] - 0s 182ms/step - loss: 1.6341 - accuracy: 0.2812 - val_loss: 1.9721 - val_accuracy: 0.1500\n",
      "Epoch 40/100\n",
      "1/1 [==============================] - 0s 184ms/step - loss: 1.4101 - accuracy: 0.3462 - val_loss: 1.9789 - val_accuracy: 0.2500\n",
      "Epoch 41/100\n",
      "1/1 [==============================] - 0s 212ms/step - loss: 1.3909 - accuracy: 0.3750 - val_loss: 2.0056 - val_accuracy: 0.2000\n",
      "Epoch 42/100\n",
      "1/1 [==============================] - 0s 171ms/step - loss: 1.5078 - accuracy: 0.3462 - val_loss: 2.0348 - val_accuracy: 0.2000\n",
      "Epoch 43/100\n",
      "1/1 [==============================] - 0s 188ms/step - loss: 1.3549 - accuracy: 0.4062 - val_loss: 2.0784 - val_accuracy: 0.1500\n",
      "Epoch 44/100\n",
      "1/1 [==============================] - 0s 192ms/step - loss: 1.3453 - accuracy: 0.3125 - val_loss: 2.1107 - val_accuracy: 0.1000\n",
      "Epoch 45/100\n",
      "1/1 [==============================] - 0s 181ms/step - loss: 1.4473 - accuracy: 0.3125 - val_loss: 2.1256 - val_accuracy: 0.1000\n",
      "Epoch 46/100\n",
      "1/1 [==============================] - 0s 165ms/step - loss: 1.5594 - accuracy: 0.3846 - val_loss: 2.1037 - val_accuracy: 0.1000\n",
      "Epoch 47/100\n",
      "1/1 [==============================] - 0s 193ms/step - loss: 1.5261 - accuracy: 0.3125 - val_loss: 2.0670 - val_accuracy: 0.1000\n",
      "Epoch 48/100\n",
      "1/1 [==============================] - 0s 192ms/step - loss: 1.3711 - accuracy: 0.3750 - val_loss: 2.0495 - val_accuracy: 0.2000\n",
      "Epoch 49/100\n",
      "1/1 [==============================] - 0s 166ms/step - loss: 1.4890 - accuracy: 0.4615 - val_loss: 2.0347 - val_accuracy: 0.2000\n",
      "Epoch 50/100\n",
      "1/1 [==============================] - 0s 187ms/step - loss: 1.4026 - accuracy: 0.4062 - val_loss: 2.0351 - val_accuracy: 0.2000\n",
      "Epoch 51/100\n",
      "1/1 [==============================] - 0s 204ms/step - loss: 1.4297 - accuracy: 0.2812 - val_loss: 2.0555 - val_accuracy: 0.2000\n",
      "Epoch 52/100\n",
      "1/1 [==============================] - 0s 201ms/step - loss: 1.4068 - accuracy: 0.3438 - val_loss: 2.0944 - val_accuracy: 0.2000\n",
      "Epoch 53/100\n",
      "1/1 [==============================] - 0s 190ms/step - loss: 1.3048 - accuracy: 0.5000 - val_loss: 2.1554 - val_accuracy: 0.2000\n",
      "Epoch 54/100\n",
      "1/1 [==============================] - 0s 212ms/step - loss: 1.2952 - accuracy: 0.4375 - val_loss: 2.2325 - val_accuracy: 0.2500\n",
      "Epoch 55/100\n",
      "1/1 [==============================] - 0s 166ms/step - loss: 1.3647 - accuracy: 0.2692 - val_loss: 2.2884 - val_accuracy: 0.3500\n",
      "Epoch 56/100\n",
      "1/1 [==============================] - 0s 179ms/step - loss: 1.2652 - accuracy: 0.4375 - val_loss: 2.3488 - val_accuracy: 0.3000\n",
      "Epoch 57/100\n",
      "1/1 [==============================] - 0s 158ms/step - loss: 1.4118 - accuracy: 0.3462 - val_loss: 2.4123 - val_accuracy: 0.2000\n",
      "Epoch 58/100\n",
      "1/1 [==============================] - 0s 173ms/step - loss: 1.4769 - accuracy: 0.3125 - val_loss: 2.4300 - val_accuracy: 0.2000\n"
     ]
    },
    {
     "name": "stdout",
     "output_type": "stream",
     "text": [
      "Epoch 59/100\n",
      "1/1 [==============================] - 0s 187ms/step - loss: 1.3788 - accuracy: 0.2812 - val_loss: 2.4184 - val_accuracy: 0.2000\n",
      "Epoch 60/100\n",
      "1/1 [==============================] - 0s 191ms/step - loss: 1.3726 - accuracy: 0.3125 - val_loss: 2.3842 - val_accuracy: 0.2000\n",
      "Epoch 61/100\n",
      "1/1 [==============================] - 0s 168ms/step - loss: 1.2458 - accuracy: 0.5385 - val_loss: 2.3405 - val_accuracy: 0.1500\n",
      "Epoch 62/100\n",
      "1/1 [==============================] - 0s 169ms/step - loss: 1.4533 - accuracy: 0.2308 - val_loss: 2.3275 - val_accuracy: 0.1500\n",
      "Epoch 63/100\n",
      "1/1 [==============================] - 0s 158ms/step - loss: 1.4279 - accuracy: 0.3846 - val_loss: 2.3182 - val_accuracy: 0.2000\n",
      "Epoch 64/100\n",
      "1/1 [==============================] - 0s 184ms/step - loss: 1.3510 - accuracy: 0.4062 - val_loss: 2.3187 - val_accuracy: 0.2000\n",
      "Epoch 65/100\n",
      "1/1 [==============================] - 0s 209ms/step - loss: 1.3934 - accuracy: 0.4062 - val_loss: 2.3317 - val_accuracy: 0.1500\n",
      "Epoch 66/100\n",
      "1/1 [==============================] - 0s 157ms/step - loss: 1.2077 - accuracy: 0.5000 - val_loss: 2.3597 - val_accuracy: 0.1500\n",
      "Epoch 67/100\n",
      "1/1 [==============================] - 0s 162ms/step - loss: 1.3472 - accuracy: 0.3846 - val_loss: 2.4279 - val_accuracy: 0.2000\n",
      "Epoch 68/100\n",
      "1/1 [==============================] - 0s 155ms/step - loss: 1.4273 - accuracy: 0.4615 - val_loss: 2.4973 - val_accuracy: 0.2000\n",
      "Epoch 69/100\n",
      "1/1 [==============================] - 0s 186ms/step - loss: 1.2341 - accuracy: 0.4615 - val_loss: 2.5797 - val_accuracy: 0.1500\n",
      "Epoch 70/100\n",
      "1/1 [==============================] - 0s 165ms/step - loss: 1.2447 - accuracy: 0.5385 - val_loss: 2.6712 - val_accuracy: 0.1500\n",
      "Epoch 71/100\n",
      "1/1 [==============================] - 0s 175ms/step - loss: 1.2906 - accuracy: 0.4615 - val_loss: 2.7526 - val_accuracy: 0.2000\n",
      "Epoch 72/100\n",
      "1/1 [==============================] - 0s 156ms/step - loss: 1.4219 - accuracy: 0.4231 - val_loss: 2.7998 - val_accuracy: 0.2000\n",
      "Epoch 73/100\n",
      "1/1 [==============================] - 0s 178ms/step - loss: 1.3217 - accuracy: 0.4062 - val_loss: 2.8423 - val_accuracy: 0.2000\n",
      "Epoch 74/100\n",
      "1/1 [==============================] - 0s 176ms/step - loss: 1.3152 - accuracy: 0.4688 - val_loss: 2.8454 - val_accuracy: 0.2000\n",
      "Epoch 75/100\n",
      "1/1 [==============================] - 0s 184ms/step - loss: 1.1581 - accuracy: 0.5385 - val_loss: 2.8573 - val_accuracy: 0.2000\n",
      "Epoch 76/100\n",
      "1/1 [==============================] - 0s 180ms/step - loss: 1.2819 - accuracy: 0.3846 - val_loss: 2.8416 - val_accuracy: 0.2000\n",
      "Epoch 77/100\n",
      "1/1 [==============================] - 0s 159ms/step - loss: 1.3570 - accuracy: 0.3077 - val_loss: 2.8357 - val_accuracy: 0.2000\n",
      "Epoch 78/100\n",
      "1/1 [==============================] - 0s 177ms/step - loss: 1.3185 - accuracy: 0.3750 - val_loss: 2.8287 - val_accuracy: 0.2000\n",
      "Epoch 79/100\n",
      "1/1 [==============================] - 0s 182ms/step - loss: 1.1927 - accuracy: 0.5938 - val_loss: 2.8206 - val_accuracy: 0.2500\n",
      "Epoch 80/100\n",
      "1/1 [==============================] - 0s 209ms/step - loss: 1.2449 - accuracy: 0.5000 - val_loss: 2.8227 - val_accuracy: 0.3000\n",
      "Epoch 81/100\n",
      "1/1 [==============================] - 0s 194ms/step - loss: 1.2241 - accuracy: 0.5000 - val_loss: 2.8764 - val_accuracy: 0.3000\n",
      "Epoch 82/100\n",
      "1/1 [==============================] - 0s 184ms/step - loss: 1.3772 - accuracy: 0.4231 - val_loss: 2.9333 - val_accuracy: 0.3000\n",
      "Epoch 83/100\n",
      "1/1 [==============================] - 0s 176ms/step - loss: 1.1499 - accuracy: 0.5769 - val_loss: 2.9840 - val_accuracy: 0.2000\n",
      "Epoch 84/100\n",
      "1/1 [==============================] - 0s 164ms/step - loss: 1.1819 - accuracy: 0.5000 - val_loss: 3.0242 - val_accuracy: 0.1500\n",
      "Epoch 85/100\n",
      "1/1 [==============================] - 0s 178ms/step - loss: 1.3098 - accuracy: 0.3750 - val_loss: 3.0363 - val_accuracy: 0.1500\n",
      "Epoch 86/100\n",
      "1/1 [==============================] - 0s 161ms/step - loss: 1.1968 - accuracy: 0.4231 - val_loss: 3.0580 - val_accuracy: 0.1500\n",
      "Epoch 87/100\n",
      "1/1 [==============================] - 0s 181ms/step - loss: 1.1896 - accuracy: 0.5625 - val_loss: 3.0709 - val_accuracy: 0.1500\n",
      "Epoch 88/100\n",
      "1/1 [==============================] - 0s 172ms/step - loss: 1.1435 - accuracy: 0.5312 - val_loss: 3.0899 - val_accuracy: 0.1500\n",
      "Epoch 89/100\n",
      "1/1 [==============================] - 0s 172ms/step - loss: 1.1164 - accuracy: 0.4375 - val_loss: 3.1069 - val_accuracy: 0.1500\n",
      "Epoch 90/100\n",
      "1/1 [==============================] - 0s 159ms/step - loss: 1.3477 - accuracy: 0.3846 - val_loss: 3.1010 - val_accuracy: 0.1500\n",
      "Epoch 91/100\n",
      "1/1 [==============================] - 0s 172ms/step - loss: 1.2056 - accuracy: 0.3846 - val_loss: 3.0803 - val_accuracy: 0.2500\n",
      "Epoch 92/100\n",
      "1/1 [==============================] - 0s 183ms/step - loss: 1.2925 - accuracy: 0.5312 - val_loss: 3.0639 - val_accuracy: 0.3500\n",
      "Epoch 93/100\n",
      "1/1 [==============================] - 0s 185ms/step - loss: 1.2444 - accuracy: 0.5625 - val_loss: 3.0825 - val_accuracy: 0.3500\n",
      "Epoch 94/100\n",
      "1/1 [==============================] - 0s 151ms/step - loss: 1.0819 - accuracy: 0.6154 - val_loss: 3.1460 - val_accuracy: 0.3500\n",
      "Epoch 95/100\n",
      "1/1 [==============================] - 0s 190ms/step - loss: 1.3270 - accuracy: 0.5312 - val_loss: 3.2200 - val_accuracy: 0.3500\n",
      "Epoch 96/100\n",
      "1/1 [==============================] - 0s 220ms/step - loss: 1.2353 - accuracy: 0.5625 - val_loss: 3.2759 - val_accuracy: 0.3000\n",
      "Epoch 97/100\n",
      "1/1 [==============================] - 0s 206ms/step - loss: 1.1999 - accuracy: 0.5000 - val_loss: 3.3115 - val_accuracy: 0.2500\n",
      "Epoch 98/100\n",
      "1/1 [==============================] - 0s 198ms/step - loss: 1.2018 - accuracy: 0.5000 - val_loss: 3.3341 - val_accuracy: 0.2000\n",
      "Epoch 99/100\n",
      "1/1 [==============================] - 0s 179ms/step - loss: 1.2024 - accuracy: 0.4375 - val_loss: 3.3599 - val_accuracy: 0.2000\n",
      "Epoch 100/100\n",
      "1/1 [==============================] - 0s 194ms/step - loss: 1.0482 - accuracy: 0.6562 - val_loss: 3.3809 - val_accuracy: 0.1500\n"
     ]
    }
   ],
   "source": [
    "History = model.fit_generator(train_datagen.flow(x_train,y_train, batch_size=32),\n",
    "                              epochs = 100, validation_data = (x_val,y_val),\n",
    "                              verbose = 1, steps_per_epoch=x_train.shape[0] // 32)"
   ]
  },
  {
   "cell_type": "code",
   "execution_count": 29,
   "id": "2947b818",
   "metadata": {
    "scrolled": true
   },
   "outputs": [
    {
     "data": {
      "image/png": "[encoded data removed]",
      "text/plain": [
       "<IPython.core.display.Image object>"
      ]
     },
     "execution_count": 29,
     "metadata": {},
     "output_type": "execute_result"
    }
   ],
   "source": [
    "plot_model(model, show_shapes=True)"
   ]
  },
  {
   "cell_type": "code",
   "execution_count": 30,
   "id": "9283554e",
   "metadata": {
    "scrolled": true
   },
   "outputs": [
    {
     "data": {
      "image/png": "[encoded data removed]",
      "text/plain": [
       "<Figure size 432x288 with 1 Axes>"
      ]
     },
     "metadata": {
      "needs_background": "light"
     },
     "output_type": "display_data"
    }
   ],
   "source": [
    "plt.imshow(x_val[3].reshape(50,50), cmap='gray')\n",
    "plt.title(f'Label - {y_val[3]}')\n",
    "plt.show()"
   ]
  },
  {
   "cell_type": "code",
   "execution_count": 31,
   "id": "3205ffac",
   "metadata": {},
   "outputs": [
    {
     "data": {
      "text/plain": [
       "array([1, 3, 2, 0, 1, 1, 0, 3, 3, 4, 0, 3, 2, 3, 3, 2, 2, 4, 4, 0, 4, 3,\n",
       "       0, 3, 1, 1, 0, 2, 4, 0, 4, 3, 0, 0, 3, 0, 4, 2, 2, 4, 2, 4, 1, 1,\n",
       "       3, 1, 4, 0, 1, 4, 2, 1, 3, 0, 2, 3, 2, 1])"
      ]
     },
     "execution_count": 31,
     "metadata": {},
     "output_type": "execute_result"
    }
   ],
   "source": [
    "y_train"
   ]
  },
  {
   "cell_type": "code",
   "execution_count": null,
   "id": "660cf2a5",
   "metadata": {},
   "outputs": [],
   "source": []
  },
  {
   "cell_type": "code",
   "execution_count": 32,
   "id": "8732fd35",
   "metadata": {},
   "outputs": [
    {
     "name": "stdout",
     "output_type": "stream",
     "text": [
      "1/1 [==============================] - 0s 52ms/step - loss: 5.0672 - accuracy: 0.1154\n"
     ]
    },
    {
     "data": {
      "text/plain": [
       "[5.067173480987549, 0.11538461595773697]"
      ]
     },
     "execution_count": 32,
     "metadata": {},
     "output_type": "execute_result"
    }
   ],
   "source": [
    "model.evaluate(x_test, y_test)"
   ]
  },
  {
   "cell_type": "code",
   "execution_count": 33,
   "id": "a739df81",
   "metadata": {},
   "outputs": [
    {
     "name": "stdout",
     "output_type": "stream",
     "text": [
      "1/1 [==============================] - 0s 98ms/step\n"
     ]
    }
   ],
   "source": [
    "pre_y=model.predict(x_test[25].reshape(-1, 50, 50, 1))"
   ]
  },
  {
   "cell_type": "code",
   "execution_count": 34,
   "id": "910ba8de",
   "metadata": {},
   "outputs": [
    {
     "data": {
      "text/plain": [
       "array([[0.09, 0.  , 0.18, 0.38, 0.35]], dtype=float32)"
      ]
     },
     "execution_count": 34,
     "metadata": {},
     "output_type": "execute_result"
    }
   ],
   "source": [
    "pre_y.round(2)"
   ]
  },
  {
   "cell_type": "code",
   "execution_count": 35,
   "id": "f0650830",
   "metadata": {},
   "outputs": [
    {
     "data": {
      "text/plain": [
       "2"
      ]
     },
     "execution_count": 35,
     "metadata": {},
     "output_type": "execute_result"
    }
   ],
   "source": [
    "y_test[25]"
   ]
  },
  {
   "cell_type": "code",
   "execution_count": 36,
   "id": "23cc42d3",
   "metadata": {},
   "outputs": [
    {
     "data": {
      "image/png": "[encoded data removed]",
      "text/plain": [
       "<Figure size 432x288 with 1 Axes>"
      ]
     },
     "metadata": {
      "needs_background": "light"
     },
     "output_type": "display_data"
    }
   ],
   "source": [
    "plt.imshow(x_test[25].reshape(50, 50))\n",
    "plt.show()"
   ]
  },
  {
   "cell_type": "markdown",
   "id": "af98cef4",
   "metadata": {},
   "source": [
    "## 전체 데이터\n",
    "---"
   ]
  },
  {
   "cell_type": "code",
   "execution_count": 37,
   "id": "cd3169cc",
   "metadata": {},
   "outputs": [],
   "source": [
    "blwh=solution('blwh')\n",
    "rgb=solution('rgb')"
   ]
  },
  {
   "cell_type": "code",
   "execution_count": 69,
   "id": "1aa28dff",
   "metadata": {},
   "outputs": [],
   "source": [
    "DIR='./target.csv'\n",
    "tarDF=pd.read_csv(DIR)\n",
    "tarDF1=pd.read_csv(DIR)"
   ]
  },
  {
   "cell_type": "code",
   "execution_count": 39,
   "id": "b8d51b77",
   "metadata": {},
   "outputs": [
    {
     "data": {
      "image/png": "[encoded data removed]",
      "text/plain": [
       "<Figure size 720x720 with 2 Axes>"
      ]
     },
     "metadata": {
      "needs_background": "light"
     },
     "output_type": "display_data"
    }
   ],
   "source": [
    "fig=plt.figure(figsize=(10,10))\n",
    "\n",
    "plt.subplot(1, 2, 1)\n",
    "plt.imshow(blwh[3500].reshape(50,50,1))\n",
    "plt.title('black', fontsize=24)\n",
    "\n",
    "plt.subplot(1, 2, 2)\n",
    "plt.imshow(rgb[3500].reshape(50,50,3))\n",
    "plt.title('Color', fontsize=24)\n",
    "plt.show()"
   ]
  },
  {
   "cell_type": "code",
   "execution_count": 40,
   "id": "72b2a60f",
   "metadata": {},
   "outputs": [],
   "source": [
    "data=rgb\n",
    "target=tarDF=np.array(tarDF.label)"
   ]
  },
  {
   "cell_type": "code",
   "execution_count": 41,
   "id": "db55bc3c",
   "metadata": {},
   "outputs": [
    {
     "data": {
      "text/plain": [
       "((4312, 50, 50, 3), (4312,))"
      ]
     },
     "execution_count": 41,
     "metadata": {},
     "output_type": "execute_result"
    }
   ],
   "source": [
    "data.shape, target.shape"
   ]
  },
  {
   "cell_type": "code",
   "execution_count": 42,
   "id": "61d587a2",
   "metadata": {},
   "outputs": [],
   "source": [
    "# 훈련/테스트 데이터 나누기\n",
    "x_train, x_test, y_train, y_test = train_test_split(data, target,\n",
    "                                                    random_state=42,\n",
    "                                                    stratify=target)"
   ]
  },
  {
   "cell_type": "code",
   "execution_count": 43,
   "id": "7cfd61af",
   "metadata": {},
   "outputs": [],
   "source": [
    "x_train, x_val, y_train, y_val = train_test_split(x_train, y_train,\n",
    "                                                  stratify=y_train,\n",
    "                                                  random_state=42)"
   ]
  },
  {
   "cell_type": "code",
   "execution_count": 44,
   "id": "1ebf1f87",
   "metadata": {},
   "outputs": [
    {
     "name": "stdout",
     "output_type": "stream",
     "text": [
      "(2425, 50, 50, 3) (2425,)\n",
      "(1078, 50, 50, 3) (1078,)\n",
      "(809, 50, 50, 3) (809,)\n"
     ]
    }
   ],
   "source": [
    "print(x_train.shape, y_train.shape)\n",
    "print(x_test.shape, y_test.shape)\n",
    "print(x_val.shape, y_val.shape)"
   ]
  },
  {
   "cell_type": "markdown",
   "id": "43fb41a8",
   "metadata": {},
   "source": [
    "### 모델"
   ]
  },
  {
   "cell_type": "code",
   "execution_count": 45,
   "id": "169ede9f",
   "metadata": {},
   "outputs": [],
   "source": [
    "model=Sequential()\n",
    "model.add(Conv2D(58, kernel_size=3, activation='relu', padding='same', input_shape=(50,50,3)))\n",
    "model.add(MaxPool2D())\n",
    "model.add(Conv2D(100, kernel_size=3, padding='same'))\n",
    "model.add(MaxPool2D())\n",
    "model.add(Flatten())\n",
    "model.add(Dense(100, activation='relu'))\n",
    "model.add(Dense(26, activation='softmax'))"
   ]
  },
  {
   "cell_type": "code",
   "execution_count": 46,
   "id": "dc256d42",
   "metadata": {},
   "outputs": [
    {
     "name": "stdout",
     "output_type": "stream",
     "text": [
      "Model: \"sequential_1\"\n",
      "_________________________________________________________________\n",
      " Layer (type)                Output Shape              Param #   \n",
      "=================================================================\n",
      " conv2d_2 (Conv2D)           (None, 50, 50, 58)        1624      \n",
      "                                                                 \n",
      " max_pooling2d_1 (MaxPooling  (None, 25, 25, 58)       0         \n",
      " 2D)                                                             \n",
      "                                                                 \n",
      " conv2d_3 (Conv2D)           (None, 25, 25, 100)       52300     \n",
      "                                                                 \n",
      " max_pooling2d_2 (MaxPooling  (None, 12, 12, 100)      0         \n",
      " 2D)                                                             \n",
      "                                                                 \n",
      " flatten_1 (Flatten)         (None, 14400)             0         \n",
      "                                                                 \n",
      " dense_1 (Dense)             (None, 100)               1440100   \n",
      "                                                                 \n",
      " dense_2 (Dense)             (None, 26)                2626      \n",
      "                                                                 \n",
      "=================================================================\n",
      "Total params: 1,496,650\n",
      "Trainable params: 1,496,650\n",
      "Non-trainable params: 0\n",
      "_________________________________________________________________\n"
     ]
    }
   ],
   "source": [
    "model.summary()"
   ]
  },
  {
   "cell_type": "code",
   "execution_count": 47,
   "id": "11485b16",
   "metadata": {
    "scrolled": true
   },
   "outputs": [],
   "source": [
    "# ImageDataGenerator\n",
    "train_datagen = ImageDataGenerator(\n",
    "    \n",
    "    rotation_range=30,\n",
    "    shear_range=0.2,\n",
    "    zoom_range=0.4,\n",
    "    horizontal_flip=True\n",
    ")\n",
    "train_datagen.fit(x_train)"
   ]
  },
  {
   "cell_type": "code",
   "execution_count": 48,
   "id": "e247d2e5",
   "metadata": {},
   "outputs": [],
   "source": [
    "model.compile(optimizer='adam',loss='sparse_categorical_crossentropy',metrics=['accuracy'])"
   ]
  },
  {
   "cell_type": "code",
   "execution_count": 49,
   "id": "0f0efd9b",
   "metadata": {
    "scrolled": true
   },
   "outputs": [
    {
     "name": "stdout",
     "output_type": "stream",
     "text": [
      "Epoch 1/100\n",
      "75/75 [==============================] - 8s 108ms/step - loss: 2.7466 - accuracy: 0.1964 - val_loss: 2.2430 - val_accuracy: 0.3684\n",
      "Epoch 2/100\n",
      "75/75 [==============================] - 8s 100ms/step - loss: 1.9762 - accuracy: 0.4271 - val_loss: 1.8385 - val_accuracy: 0.4697\n",
      "Epoch 3/100\n",
      "75/75 [==============================] - 8s 100ms/step - loss: 1.7157 - accuracy: 0.4964 - val_loss: 1.6672 - val_accuracy: 0.5192\n",
      "Epoch 4/100\n",
      "75/75 [==============================] - 8s 101ms/step - loss: 1.4871 - accuracy: 0.5524 - val_loss: 1.5577 - val_accuracy: 0.5241\n",
      "Epoch 5/100\n",
      "75/75 [==============================] - 8s 101ms/step - loss: 1.3607 - accuracy: 0.5930 - val_loss: 1.2865 - val_accuracy: 0.6180\n",
      "Epoch 6/100\n",
      "75/75 [==============================] - 8s 100ms/step - loss: 1.2425 - accuracy: 0.6239 - val_loss: 1.2537 - val_accuracy: 0.6378\n",
      "Epoch 7/100\n",
      "75/75 [==============================] - 8s 101ms/step - loss: 1.1110 - accuracy: 0.6532 - val_loss: 1.1561 - val_accuracy: 0.6625\n",
      "Epoch 8/100\n",
      "75/75 [==============================] - 8s 104ms/step - loss: 1.0422 - accuracy: 0.6799 - val_loss: 1.0762 - val_accuracy: 0.6700\n",
      "Epoch 9/100\n",
      "75/75 [==============================] - 9s 125ms/step - loss: 0.9506 - accuracy: 0.7083 - val_loss: 1.2092 - val_accuracy: 0.6588\n",
      "Epoch 10/100\n",
      "75/75 [==============================] - 9s 118ms/step - loss: 0.9306 - accuracy: 0.7234 - val_loss: 1.2984 - val_accuracy: 0.6329\n",
      "Epoch 11/100\n",
      "75/75 [==============================] - 8s 112ms/step - loss: 0.8877 - accuracy: 0.7334 - val_loss: 1.1616 - val_accuracy: 0.6811\n",
      "Epoch 12/100\n",
      "75/75 [==============================] - 8s 111ms/step - loss: 0.8004 - accuracy: 0.7509 - val_loss: 1.0754 - val_accuracy: 0.6910\n",
      "Epoch 13/100\n",
      "75/75 [==============================] - 8s 112ms/step - loss: 0.7477 - accuracy: 0.7685 - val_loss: 1.0107 - val_accuracy: 0.7095\n",
      "Epoch 14/100\n",
      "75/75 [==============================] - 8s 112ms/step - loss: 0.7689 - accuracy: 0.7497 - val_loss: 1.1915 - val_accuracy: 0.6440\n",
      "Epoch 15/100\n",
      "75/75 [==============================] - 8s 111ms/step - loss: 0.7159 - accuracy: 0.7643 - val_loss: 0.9277 - val_accuracy: 0.7738\n",
      "Epoch 16/100\n",
      "75/75 [==============================] - 8s 112ms/step - loss: 0.6805 - accuracy: 0.7819 - val_loss: 1.0344 - val_accuracy: 0.7491\n",
      "Epoch 17/100\n",
      "75/75 [==============================] - 8s 111ms/step - loss: 0.6232 - accuracy: 0.8048 - val_loss: 0.9912 - val_accuracy: 0.7281\n",
      "Epoch 18/100\n",
      "75/75 [==============================] - 8s 111ms/step - loss: 0.5912 - accuracy: 0.8108 - val_loss: 0.9040 - val_accuracy: 0.7627\n",
      "Epoch 19/100\n",
      "75/75 [==============================] - 8s 112ms/step - loss: 0.5439 - accuracy: 0.8216 - val_loss: 0.8858 - val_accuracy: 0.7565\n",
      "Epoch 20/100\n",
      "75/75 [==============================] - 9s 116ms/step - loss: 0.5731 - accuracy: 0.8153 - val_loss: 0.8734 - val_accuracy: 0.7701\n",
      "Epoch 21/100\n",
      "75/75 [==============================] - 9s 118ms/step - loss: 0.5803 - accuracy: 0.8161 - val_loss: 1.0326 - val_accuracy: 0.7429\n",
      "Epoch 22/100\n",
      "75/75 [==============================] - 8s 113ms/step - loss: 0.5142 - accuracy: 0.8354 - val_loss: 0.8782 - val_accuracy: 0.7775\n",
      "Epoch 23/100\n",
      "75/75 [==============================] - 8s 111ms/step - loss: 0.4963 - accuracy: 0.8408 - val_loss: 0.9309 - val_accuracy: 0.7701\n",
      "Epoch 24/100\n",
      "75/75 [==============================] - 8s 111ms/step - loss: 0.4714 - accuracy: 0.8512 - val_loss: 0.9910 - val_accuracy: 0.7565\n",
      "Epoch 25/100\n",
      "75/75 [==============================] - 8s 112ms/step - loss: 0.4728 - accuracy: 0.8604 - val_loss: 0.9720 - val_accuracy: 0.7689\n",
      "Epoch 26/100\n",
      "75/75 [==============================] - 8s 110ms/step - loss: 0.5448 - accuracy: 0.8312 - val_loss: 0.9890 - val_accuracy: 0.7503\n",
      "Epoch 27/100\n",
      "75/75 [==============================] - 8s 111ms/step - loss: 0.4530 - accuracy: 0.8596 - val_loss: 0.9401 - val_accuracy: 0.7812\n",
      "Epoch 28/100\n",
      "75/75 [==============================] - 8s 111ms/step - loss: 0.4115 - accuracy: 0.8717 - val_loss: 0.8221 - val_accuracy: 0.8047\n",
      "Epoch 29/100\n",
      "75/75 [==============================] - 8s 111ms/step - loss: 0.4725 - accuracy: 0.8542 - val_loss: 1.1017 - val_accuracy: 0.7441\n",
      "Epoch 30/100\n",
      "75/75 [==============================] - 8s 112ms/step - loss: 0.3856 - accuracy: 0.8767 - val_loss: 0.9972 - val_accuracy: 0.7824\n",
      "Epoch 31/100\n",
      "75/75 [==============================] - 8s 112ms/step - loss: 0.4103 - accuracy: 0.8700 - val_loss: 0.8762 - val_accuracy: 0.8171\n",
      "Epoch 32/100\n",
      "75/75 [==============================] - 8s 111ms/step - loss: 0.4164 - accuracy: 0.8700 - val_loss: 0.7664 - val_accuracy: 0.8109\n",
      "Epoch 33/100\n",
      "75/75 [==============================] - 8s 111ms/step - loss: 0.3509 - accuracy: 0.8905 - val_loss: 0.8126 - val_accuracy: 0.8084\n",
      "Epoch 34/100\n",
      "75/75 [==============================] - 8s 111ms/step - loss: 0.3873 - accuracy: 0.8746 - val_loss: 0.7499 - val_accuracy: 0.8245\n",
      "Epoch 35/100\n",
      "75/75 [==============================] - 8s 112ms/step - loss: 0.3267 - accuracy: 0.8930 - val_loss: 0.7668 - val_accuracy: 0.8146\n",
      "Epoch 36/100\n",
      "75/75 [==============================] - 8s 111ms/step - loss: 0.3706 - accuracy: 0.8872 - val_loss: 0.7897 - val_accuracy: 0.8245\n",
      "Epoch 37/100\n",
      "75/75 [==============================] - 8s 112ms/step - loss: 0.3491 - accuracy: 0.8851 - val_loss: 0.8415 - val_accuracy: 0.8171\n",
      "Epoch 38/100\n",
      "75/75 [==============================] - 8s 112ms/step - loss: 0.3308 - accuracy: 0.9001 - val_loss: 0.7751 - val_accuracy: 0.8331\n",
      "Epoch 39/100\n",
      "75/75 [==============================] - 8s 112ms/step - loss: 0.2786 - accuracy: 0.9110 - val_loss: 0.8643 - val_accuracy: 0.8059\n",
      "Epoch 40/100\n",
      "75/75 [==============================] - 8s 112ms/step - loss: 0.3285 - accuracy: 0.8955 - val_loss: 0.8996 - val_accuracy: 0.8319\n",
      "Epoch 41/100\n",
      "75/75 [==============================] - 8s 112ms/step - loss: 0.3256 - accuracy: 0.8930 - val_loss: 0.9009 - val_accuracy: 0.8047\n",
      "Epoch 42/100\n",
      "75/75 [==============================] - 8s 112ms/step - loss: 0.2539 - accuracy: 0.9122 - val_loss: 0.8327 - val_accuracy: 0.8331\n",
      "Epoch 43/100\n",
      "75/75 [==============================] - 9s 113ms/step - loss: 0.2474 - accuracy: 0.9223 - val_loss: 0.7610 - val_accuracy: 0.8541\n",
      "Epoch 44/100\n",
      "75/75 [==============================] - 9s 113ms/step - loss: 0.2868 - accuracy: 0.9148 - val_loss: 0.8332 - val_accuracy: 0.8344\n",
      "Epoch 45/100\n",
      "75/75 [==============================] - 8s 112ms/step - loss: 0.2894 - accuracy: 0.9026 - val_loss: 0.8287 - val_accuracy: 0.8121\n",
      "Epoch 46/100\n",
      "75/75 [==============================] - 8s 111ms/step - loss: 0.2697 - accuracy: 0.9152 - val_loss: 0.7906 - val_accuracy: 0.8430\n",
      "Epoch 47/100\n",
      "75/75 [==============================] - 8s 112ms/step - loss: 0.3213 - accuracy: 0.9068 - val_loss: 0.7993 - val_accuracy: 0.8331\n",
      "Epoch 48/100\n",
      "75/75 [==============================] - 8s 113ms/step - loss: 0.2949 - accuracy: 0.9110 - val_loss: 1.0175 - val_accuracy: 0.7998\n",
      "Epoch 49/100\n",
      "75/75 [==============================] - 8s 112ms/step - loss: 0.2897 - accuracy: 0.9118 - val_loss: 0.8696 - val_accuracy: 0.8232\n",
      "Epoch 50/100\n",
      "75/75 [==============================] - 8s 112ms/step - loss: 0.2837 - accuracy: 0.9097 - val_loss: 0.8671 - val_accuracy: 0.8022\n",
      "Epoch 51/100\n",
      "75/75 [==============================] - 9s 117ms/step - loss: 0.2297 - accuracy: 0.9290 - val_loss: 1.0228 - val_accuracy: 0.8109\n",
      "Epoch 52/100\n",
      "75/75 [==============================] - 9s 115ms/step - loss: 0.3212 - accuracy: 0.8976 - val_loss: 0.8920 - val_accuracy: 0.8232\n",
      "Epoch 53/100\n",
      "75/75 [==============================] - 8s 112ms/step - loss: 0.2757 - accuracy: 0.9102 - val_loss: 0.8623 - val_accuracy: 0.8443\n",
      "Epoch 54/100\n",
      "75/75 [==============================] - 8s 111ms/step - loss: 0.2593 - accuracy: 0.9131 - val_loss: 0.9304 - val_accuracy: 0.8418\n",
      "Epoch 55/100\n",
      "75/75 [==============================] - 8s 111ms/step - loss: 0.2730 - accuracy: 0.9152 - val_loss: 0.9384 - val_accuracy: 0.8195\n",
      "Epoch 56/100\n",
      "75/75 [==============================] - 8s 111ms/step - loss: 0.2854 - accuracy: 0.9102 - val_loss: 0.7999 - val_accuracy: 0.8443\n",
      "Epoch 57/100\n",
      "75/75 [==============================] - 8s 111ms/step - loss: 0.2422 - accuracy: 0.9198 - val_loss: 0.8886 - val_accuracy: 0.8183\n"
     ]
    },
    {
     "name": "stdout",
     "output_type": "stream",
     "text": [
      "Epoch 58/100\n",
      "75/75 [==============================] - 8s 110ms/step - loss: 0.2797 - accuracy: 0.9202 - val_loss: 0.7897 - val_accuracy: 0.8430\n",
      "Epoch 59/100\n",
      "75/75 [==============================] - 8s 110ms/step - loss: 0.2000 - accuracy: 0.9306 - val_loss: 0.8389 - val_accuracy: 0.8603\n",
      "Epoch 60/100\n",
      "75/75 [==============================] - 8s 110ms/step - loss: 0.2008 - accuracy: 0.9331 - val_loss: 0.8429 - val_accuracy: 0.8529\n",
      "Epoch 61/100\n",
      "75/75 [==============================] - 8s 110ms/step - loss: 0.2181 - accuracy: 0.9285 - val_loss: 0.7674 - val_accuracy: 0.8480\n",
      "Epoch 62/100\n",
      "75/75 [==============================] - 8s 111ms/step - loss: 0.2238 - accuracy: 0.9244 - val_loss: 0.8293 - val_accuracy: 0.8492\n",
      "Epoch 63/100\n",
      "75/75 [==============================] - 8s 109ms/step - loss: 0.2218 - accuracy: 0.9281 - val_loss: 0.9047 - val_accuracy: 0.8010\n",
      "Epoch 64/100\n",
      "75/75 [==============================] - 8s 110ms/step - loss: 0.2162 - accuracy: 0.9273 - val_loss: 0.7911 - val_accuracy: 0.8492\n",
      "Epoch 65/100\n",
      "75/75 [==============================] - 8s 110ms/step - loss: 0.2245 - accuracy: 0.9285 - val_loss: 0.7310 - val_accuracy: 0.8578\n",
      "Epoch 66/100\n",
      "75/75 [==============================] - 8s 110ms/step - loss: 0.2424 - accuracy: 0.9273 - val_loss: 0.7670 - val_accuracy: 0.8566\n",
      "Epoch 67/100\n",
      "75/75 [==============================] - 8s 109ms/step - loss: 0.1874 - accuracy: 0.9361 - val_loss: 0.9030 - val_accuracy: 0.8171\n",
      "Epoch 68/100\n",
      "75/75 [==============================] - 8s 110ms/step - loss: 0.2056 - accuracy: 0.9356 - val_loss: 0.7893 - val_accuracy: 0.8443\n",
      "Epoch 69/100\n",
      "75/75 [==============================] - 8s 112ms/step - loss: 0.2584 - accuracy: 0.9202 - val_loss: 0.9781 - val_accuracy: 0.8035\n",
      "Epoch 70/100\n",
      "75/75 [==============================] - 8s 110ms/step - loss: 0.2465 - accuracy: 0.9248 - val_loss: 1.0433 - val_accuracy: 0.8467\n",
      "Epoch 71/100\n",
      "75/75 [==============================] - 8s 110ms/step - loss: 0.1958 - accuracy: 0.9377 - val_loss: 0.7741 - val_accuracy: 0.8405\n",
      "Epoch 72/100\n",
      "75/75 [==============================] - 8s 110ms/step - loss: 0.1841 - accuracy: 0.9390 - val_loss: 0.9309 - val_accuracy: 0.8294\n",
      "Epoch 73/100\n",
      "75/75 [==============================] - 9s 115ms/step - loss: 0.1519 - accuracy: 0.9519 - val_loss: 0.8964 - val_accuracy: 0.8393\n",
      "Epoch 74/100\n",
      "75/75 [==============================] - 8s 111ms/step - loss: 0.1652 - accuracy: 0.9486 - val_loss: 0.8875 - val_accuracy: 0.8381\n",
      "Epoch 75/100\n",
      "75/75 [==============================] - 8s 109ms/step - loss: 0.1502 - accuracy: 0.9494 - val_loss: 0.9167 - val_accuracy: 0.8554\n",
      "Epoch 76/100\n",
      "75/75 [==============================] - 8s 110ms/step - loss: 0.1450 - accuracy: 0.9515 - val_loss: 0.7908 - val_accuracy: 0.8665\n",
      "Epoch 77/100\n",
      "75/75 [==============================] - 8s 110ms/step - loss: 0.1657 - accuracy: 0.9453 - val_loss: 0.8898 - val_accuracy: 0.8690\n",
      "Epoch 78/100\n",
      "75/75 [==============================] - 8s 111ms/step - loss: 0.1626 - accuracy: 0.9423 - val_loss: 0.9047 - val_accuracy: 0.8653\n",
      "Epoch 79/100\n",
      "75/75 [==============================] - 8s 113ms/step - loss: 0.1683 - accuracy: 0.9448 - val_loss: 1.0154 - val_accuracy: 0.8381\n",
      "Epoch 80/100\n",
      "75/75 [==============================] - 8s 110ms/step - loss: 0.2227 - accuracy: 0.9315 - val_loss: 0.8124 - val_accuracy: 0.8541\n",
      "Epoch 81/100\n",
      "75/75 [==============================] - 8s 111ms/step - loss: 0.1789 - accuracy: 0.9440 - val_loss: 0.8477 - val_accuracy: 0.8504\n",
      "Epoch 82/100\n",
      "75/75 [==============================] - 8s 111ms/step - loss: 0.2469 - accuracy: 0.9223 - val_loss: 0.9995 - val_accuracy: 0.8232\n",
      "Epoch 83/100\n",
      "75/75 [==============================] - 8s 111ms/step - loss: 0.3142 - accuracy: 0.9118 - val_loss: 0.8742 - val_accuracy: 0.8418\n",
      "Epoch 84/100\n",
      "75/75 [==============================] - 8s 111ms/step - loss: 0.1794 - accuracy: 0.9473 - val_loss: 0.9846 - val_accuracy: 0.8393\n",
      "Epoch 85/100\n",
      "75/75 [==============================] - 8s 110ms/step - loss: 0.2004 - accuracy: 0.9373 - val_loss: 0.9108 - val_accuracy: 0.8418\n",
      "Epoch 86/100\n",
      "75/75 [==============================] - 8s 112ms/step - loss: 0.1474 - accuracy: 0.9528 - val_loss: 0.8536 - val_accuracy: 0.8418\n",
      "Epoch 87/100\n",
      "75/75 [==============================] - 8s 111ms/step - loss: 0.1776 - accuracy: 0.9419 - val_loss: 0.9725 - val_accuracy: 0.8146\n",
      "Epoch 88/100\n",
      "75/75 [==============================] - 8s 111ms/step - loss: 0.2178 - accuracy: 0.9298 - val_loss: 0.7876 - val_accuracy: 0.8517\n",
      "Epoch 89/100\n",
      "75/75 [==============================] - 8s 111ms/step - loss: 0.1374 - accuracy: 0.9511 - val_loss: 0.8953 - val_accuracy: 0.8628\n",
      "Epoch 90/100\n",
      "75/75 [==============================] - 9s 113ms/step - loss: 0.1447 - accuracy: 0.9515 - val_loss: 0.9254 - val_accuracy: 0.8393\n",
      "Epoch 91/100\n",
      "75/75 [==============================] - 8s 110ms/step - loss: 0.1878 - accuracy: 0.9415 - val_loss: 0.9725 - val_accuracy: 0.8307\n",
      "Epoch 92/100\n",
      "75/75 [==============================] - 8s 110ms/step - loss: 0.1787 - accuracy: 0.9432 - val_loss: 1.0765 - val_accuracy: 0.8307\n",
      "Epoch 93/100\n",
      "75/75 [==============================] - 8s 110ms/step - loss: 0.1337 - accuracy: 0.9582 - val_loss: 0.8203 - val_accuracy: 0.8628\n",
      "Epoch 94/100\n",
      "75/75 [==============================] - 8s 111ms/step - loss: 0.2071 - accuracy: 0.9369 - val_loss: 1.0015 - val_accuracy: 0.8393\n",
      "Epoch 95/100\n",
      "75/75 [==============================] - 8s 112ms/step - loss: 0.2376 - accuracy: 0.9294 - val_loss: 0.9788 - val_accuracy: 0.8393\n",
      "Epoch 96/100\n",
      "75/75 [==============================] - 8s 110ms/step - loss: 0.1780 - accuracy: 0.9465 - val_loss: 0.8386 - val_accuracy: 0.8492\n",
      "Epoch 97/100\n",
      "75/75 [==============================] - 8s 111ms/step - loss: 0.1420 - accuracy: 0.9473 - val_loss: 0.8180 - val_accuracy: 0.8653\n",
      "Epoch 98/100\n",
      "75/75 [==============================] - 8s 112ms/step - loss: 0.1544 - accuracy: 0.9453 - val_loss: 0.8894 - val_accuracy: 0.8405\n",
      "Epoch 99/100\n",
      "75/75 [==============================] - 8s 110ms/step - loss: 0.1847 - accuracy: 0.9444 - val_loss: 0.8496 - val_accuracy: 0.8578\n",
      "Epoch 100/100\n",
      "75/75 [==============================] - 8s 110ms/step - loss: 0.1751 - accuracy: 0.9444 - val_loss: 0.8928 - val_accuracy: 0.8418\n"
     ]
    }
   ],
   "source": [
    "History1 = model.fit_generator(train_datagen.flow(x_train,y_train, batch_size=32),\n",
    "                              epochs = 100, validation_data = (x_val,y_val),\n",
    "                              verbose = 1, steps_per_epoch=x_train.shape[0] // 32)"
   ]
  },
  {
   "cell_type": "code",
   "execution_count": 50,
   "id": "f20add3a",
   "metadata": {
    "scrolled": true
   },
   "outputs": [
    {
     "data": {
      "image/png": "[encoded data removed]",
      "text/plain": [
       "<IPython.core.display.Image object>"
      ]
     },
     "execution_count": 50,
     "metadata": {},
     "output_type": "execute_result"
    }
   ],
   "source": [
    "plot_model(model, show_shapes=True)"
   ]
  },
  {
   "cell_type": "code",
   "execution_count": 104,
   "id": "de88560e",
   "metadata": {
    "scrolled": true
   },
   "outputs": [
    {
     "data": {
      "text/plain": [
       "(809,)"
      ]
     },
     "execution_count": 104,
     "metadata": {},
     "output_type": "execute_result"
    }
   ],
   "source": [
    "y_val.shape"
   ]
  },
  {
   "cell_type": "code",
   "execution_count": 98,
   "id": "a78ffb99",
   "metadata": {},
   "outputs": [
    {
     "data": {
      "text/html": [
       "<div>\n",
       "<style scoped>\n",
       "    .dataframe tbody tr th:only-of-type {\n",
       "        vertical-align: middle;\n",
       "    }\n",
       "\n",
       "    .dataframe tbody tr th {\n",
       "        vertical-align: top;\n",
       "    }\n",
       "\n",
       "    .dataframe thead th {\n",
       "        text-align: right;\n",
       "    }\n",
       "</style>\n",
       "<table border=\"1\" class=\"dataframe\">\n",
       "  <thead>\n",
       "    <tr style=\"text-align: right;\">\n",
       "      <th></th>\n",
       "      <th>Brand</th>\n",
       "      <th>Label</th>\n",
       "    </tr>\n",
       "  </thead>\n",
       "  <tbody>\n",
       "    <tr>\n",
       "      <th>0</th>\n",
       "      <td>angelinus</td>\n",
       "      <td>0</td>\n",
       "    </tr>\n",
       "    <tr>\n",
       "      <th>1</th>\n",
       "      <td>banolim</td>\n",
       "      <td>1</td>\n",
       "    </tr>\n",
       "    <tr>\n",
       "      <th>2</th>\n",
       "      <td>bbackdabang</td>\n",
       "      <td>2</td>\n",
       "    </tr>\n",
       "    <tr>\n",
       "      <th>3</th>\n",
       "      <td>benz</td>\n",
       "      <td>3</td>\n",
       "    </tr>\n",
       "    <tr>\n",
       "      <th>4</th>\n",
       "      <td>bmw</td>\n",
       "      <td>4</td>\n",
       "    </tr>\n",
       "    <tr>\n",
       "      <th>5</th>\n",
       "      <td>crown</td>\n",
       "      <td>5</td>\n",
       "    </tr>\n",
       "    <tr>\n",
       "      <th>6</th>\n",
       "      <td>cw</td>\n",
       "      <td>6</td>\n",
       "    </tr>\n",
       "    <tr>\n",
       "      <th>7</th>\n",
       "      <td>debec</td>\n",
       "      <td>7</td>\n",
       "    </tr>\n",
       "    <tr>\n",
       "      <th>8</th>\n",
       "      <td>domino</td>\n",
       "      <td>8</td>\n",
       "    </tr>\n",
       "    <tr>\n",
       "      <th>9</th>\n",
       "      <td>ediya</td>\n",
       "      <td>9</td>\n",
       "    </tr>\n",
       "    <tr>\n",
       "      <th>10</th>\n",
       "      <td>galleria</td>\n",
       "      <td>10</td>\n",
       "    </tr>\n",
       "    <tr>\n",
       "      <th>11</th>\n",
       "      <td>haitai</td>\n",
       "      <td>11</td>\n",
       "    </tr>\n",
       "    <tr>\n",
       "      <th>12</th>\n",
       "      <td>hyundai</td>\n",
       "      <td>12</td>\n",
       "    </tr>\n",
       "    <tr>\n",
       "      <th>13</th>\n",
       "      <td>hyundai_car</td>\n",
       "      <td>13</td>\n",
       "    </tr>\n",
       "    <tr>\n",
       "      <th>14</th>\n",
       "      <td>lotte</td>\n",
       "      <td>14</td>\n",
       "    </tr>\n",
       "    <tr>\n",
       "      <th>15</th>\n",
       "      <td>lotteJ</td>\n",
       "      <td>15</td>\n",
       "    </tr>\n",
       "    <tr>\n",
       "      <th>16</th>\n",
       "      <td>mrpizza</td>\n",
       "      <td>16</td>\n",
       "    </tr>\n",
       "    <tr>\n",
       "      <th>17</th>\n",
       "      <td>nongsim</td>\n",
       "      <td>17</td>\n",
       "    </tr>\n",
       "    <tr>\n",
       "      <th>18</th>\n",
       "      <td>orin</td>\n",
       "      <td>18</td>\n",
       "    </tr>\n",
       "    <tr>\n",
       "      <th>19</th>\n",
       "      <td>papazons</td>\n",
       "      <td>19</td>\n",
       "    </tr>\n",
       "    <tr>\n",
       "      <th>20</th>\n",
       "      <td>pizzahut</td>\n",
       "      <td>20</td>\n",
       "    </tr>\n",
       "    <tr>\n",
       "      <th>21</th>\n",
       "      <td>porche</td>\n",
       "      <td>21</td>\n",
       "    </tr>\n",
       "    <tr>\n",
       "      <th>22</th>\n",
       "      <td>shinsegae</td>\n",
       "      <td>22</td>\n",
       "    </tr>\n",
       "    <tr>\n",
       "      <th>23</th>\n",
       "      <td>starbucks</td>\n",
       "      <td>23</td>\n",
       "    </tr>\n",
       "    <tr>\n",
       "      <th>24</th>\n",
       "      <td>toyota</td>\n",
       "      <td>24</td>\n",
       "    </tr>\n",
       "    <tr>\n",
       "      <th>25</th>\n",
       "      <td>twosomeplace</td>\n",
       "      <td>25</td>\n",
       "    </tr>\n",
       "  </tbody>\n",
       "</table>\n",
       "</div>"
      ],
      "text/plain": [
       "           Brand  Label\n",
       "0      angelinus      0\n",
       "1        banolim      1\n",
       "2    bbackdabang      2\n",
       "3           benz      3\n",
       "4            bmw      4\n",
       "5          crown      5\n",
       "6             cw      6\n",
       "7          debec      7\n",
       "8         domino      8\n",
       "9          ediya      9\n",
       "10      galleria     10\n",
       "11        haitai     11\n",
       "12       hyundai     12\n",
       "13   hyundai_car     13\n",
       "14         lotte     14\n",
       "15        lotteJ     15\n",
       "16       mrpizza     16\n",
       "17       nongsim     17\n",
       "18          orin     18\n",
       "19      papazons     19\n",
       "20      pizzahut     20\n",
       "21        porche     21\n",
       "22     shinsegae     22\n",
       "23     starbucks     23\n",
       "24        toyota     24\n",
       "25  twosomeplace     25"
      ]
     },
     "execution_count": 98,
     "metadata": {},
     "output_type": "execute_result"
    }
   ],
   "source": [
    "df = pd.DataFrame(tarDF1.name.unique())\n",
    "df['label'] = tarDF1.label.unique()\n",
    "df.columns = ['Brand', 'Label']\n",
    "df"
   ]
  },
  {
   "cell_type": "code",
   "execution_count": 51,
   "id": "a5c45a88",
   "metadata": {
    "scrolled": true
   },
   "outputs": [
    {
     "data": {
      "image/png": "[encoded data removed]",
      "text/plain": [
       "<Figure size 432x288 with 1 Axes>"
      ]
     },
     "metadata": {
      "needs_background": "light"
     },
     "output_type": "display_data"
    }
   ],
   "source": [
    "plt.imshow(x_val[100].reshape(50,50,3))\n",
    "plt.title(f'Label - {y_val[100]}')\n",
    "plt.show()"
   ]
  },
  {
   "cell_type": "code",
   "execution_count": 63,
   "id": "0c3f1046",
   "metadata": {
    "scrolled": true
   },
   "outputs": [
    {
     "data": {
      "image/png": "[encoded data removed]",
      "text/plain": [
       "<Figure size 432x288 with 1 Axes>"
      ]
     },
     "metadata": {
      "needs_background": "light"
     },
     "output_type": "display_data"
    }
   ],
   "source": [
    "plt.imshow(x_val[150].reshape(50,50,3))\n",
    "plt.title(f'Label - {y_val[150]}')\n",
    "plt.show()"
   ]
  },
  {
   "cell_type": "code",
   "execution_count": 103,
   "id": "dd6c4dee",
   "metadata": {},
   "outputs": [
    {
     "data": {
      "image/png": "[encoded data removed]",
      "text/plain": [
       "<Figure size 432x288 with 1 Axes>"
      ]
     },
     "metadata": {
      "needs_background": "light"
     },
     "output_type": "display_data"
    }
   ],
   "source": [
    "plt.imshow(x_val[800].reshape(50,50,3))\n",
    "plt.title(f'Label - {y_val[800]}')\n",
    "plt.show()"
   ]
  },
  {
   "cell_type": "code",
   "execution_count": null,
   "id": "b2fba485",
   "metadata": {},
   "outputs": [],
   "source": []
  }
 ],
 "metadata": {
  "kernelspec": {
   "display_name": "Python 3 (ipykernel)",
   "language": "python",
   "name": "python3"
  },
  "language_info": {
   "codemirror_mode": {
    "name": "ipython",
    "version": 3
   },
   "file_extension": ".py",
   "mimetype": "text/x-python",
   "name": "python",
   "nbconvert_exporter": "python",
   "pygments_lexer": "ipython3",
   "version": "3.9.12"
  }
 },
 "nbformat": 4,
 "nbformat_minor": 5
}
