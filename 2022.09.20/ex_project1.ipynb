{
 "cells": [
  {
   "cell_type": "code",
   "execution_count": 1,
   "id": "2563dd6c",
   "metadata": {},
   "outputs": [],
   "source": [
    "# 모듈 로딩\n",
    "import os\n",
    "import cv2\n",
    "import numpy as np\n",
    "import pandas as pd\n",
    "import matplotlib.pyplot as plt\n",
    "from PIL import Image\n",
    "from bs4 import BeautifulSoup\n",
    "from selenium import webdriver\n",
    "from tensorflow.keras import Sequential\n",
    "from sklearn.utils import all_estimators\n",
    "from sklearn.linear_model import LogisticRegression\n",
    "from sklearn.model_selection import train_test_split\n",
    "from urllib.request import urlopen,Request,urlretrieve\n",
    "from tensorflow.keras.utils import set_random_seed, plot_model\n",
    "from tensorflow.keras.layers import Dense, Conv2D, Flatten, MaxPool2D"
   ]
  },
  {
   "cell_type": "code",
   "execution_count": 2,
   "id": "02d6e409",
   "metadata": {},
   "outputs": [],
   "source": [
    "# 동적 웹 크롤링으로 사진저장 함수\n",
    "def image_save(urlpath,charname):\n",
    "    driver = webdriver.Chrome('chromedriver.exe') # C:/Users/User/EXAM_PANDAS/DAY-0630/DAY-0920\n",
    "    #driver = webdriver.Chrome('C:\\\\workspace’) # Windows 사용자의 설치 경로\n",
    "    driver.get(urlpath)\n",
    "    html=driver.page_source\n",
    "    soup=BeautifulSoup(html,'html.parser')\n",
    "    driver.quit()\n",
    "\n",
    "    # 태그-속성 찾기\n",
    "    image_finds=soup.select(\"div.bRMDJf img\")\n",
    "    \n",
    "    # 이미지의 url찾기\n",
    "    image=[]\n",
    "    for image_find in image_finds:\n",
    "        try:\n",
    "            image.append(image_find['src'])\n",
    "            image.append(image_find['data-src'])\n",
    "        except:\n",
    "            pass\n",
    "    \n",
    "    # 폴더 만들기\n",
    "    if not os.path.exists('./departdata'+charname):\n",
    "        os.makedirs('./departdata'+charname)\n",
    "    \n",
    "    # 파일 저장하기\n",
    "    for i in range(0,len(image)):\n",
    "        urlretrieve(image[i],'./departdata'+charname+'/'+charname+str(i)+'.png')\n",
    "\n",
    "    # 파일 크기 조절\n",
    "    for png in os.listdir('./departdata'+charname):\n",
    "        Image.open('./departdata'+charname+'/'+png).resize((50,50)).save('./departdata'+charname+'/'+png)"
   ]
  },
  {
   "cell_type": "code",
   "execution_count": 3,
   "id": "bfa69559",
   "metadata": {},
   "outputs": [],
   "source": [
    "# 신세계\n",
    "image_save('https://www.google.com/search?q=%EC%8B%A0%EC%84%B8%EA%B3%84%EB%B0%B1%ED%99%94%EC%A0%90+%EB%A1%9C%EA%B3%A0&tbm=isch&ved=2ahUKEwiWx8zJs6L6AhUzNqYKHQVnCpoQ2-cCegQIABAA&oq=%EC%8B%A0%EC%84%B8%EA%B3%84%EB%B0%B1%ED%99%94%EC%A0%80&gs_lcp=CgNpbWcQARgBMgUIABCABDIFCAAQgAQyBQgAEIAEMgUIABCABDIFCAAQgAQyBQgAEIAEMgUIABCABDIFCAAQgAQyBQgAEIAEMgUIABCABDoECCMQJzoLCAAQgAQQsQMQgwFQ0QVY9w9g9xtoAnAAeAGAAYcBiAGHCpIBBDAuMTCYAQCgAQGqAQtnd3Mtd2l6LWltZ8ABAQ&sclient=img&ei=CDApY5ajNLPsmAWFzqnQCQ&bih=744&biw=767','shinsegae')\n",
    "\n",
    "# 현대\n",
    "image_save('https://www.google.com/search?q=%ED%98%84%EB%8C%80%EB%B0%B1%ED%99%94%EC%A0%90+%EB%A1%9C%EA%B3%A0&tbm=isch&ved=2ahUKEwi0sPHOs6L6AhUGdpQKHRNvCvIQ2-cCegQIABAA&oq=%ED%98%84%EB%8C%80%EB%B0%B1%ED%99%94%EC%A0%90+%EB%A1%9C%EA%B3%A0&gs_lcp=CgNpbWcQAzIFCAAQgAQyBQgAEIAEMgUIABCABDIGCAAQHhAIMgYIABAeEAg6BAgjECdQ1wNYrQtgpA9oAHAAeACAAbwBiAGUCJIBAzAuNpgBAKABAaoBC2d3cy13aXotaW1nwAEB&sclient=img&ei=EzApY_TaOYbs0QST3qmQDw&bih=744&biw=767', 'hyundai')\n",
    "\n",
    "# 롯데 \n",
    "image_save('https://www.google.com/search?q=%EB%A1%AF%EB%8D%B0%EB%B0%B1%ED%99%94%EC%A0%90+%EB%A1%9C%EA%B3%A0&tbm=isch&ved=2ahUKEwiQmOv-tKL6AhVSFYgKHY_0CaAQ2-cCegQIABAA&oq=%EB%A1%AF%EB%8D%B0%EB%B0%B1%ED%99%94%EC%A0%90+%EB%A1%9C%EA%B3%A0&gs_lcp=CgNpbWcQAzIFCAAQgAQyBQgAEIAEMgUIABCABDoECCMQJzoGCAAQHhAHOgYIABAeEAhQ-RFYzBdg_RpoAHAAeACAAaABiAHHBpIBAzAuNpgBAKABAaoBC2d3cy13aXotaW1nwAEB&sclient=img&ei=hDEpY5DGOdKqoASP6aeACg&bih=744&biw=767', 'lotte')\n",
    "\n",
    "# 대백\n",
    "image_save('https://www.google.com/search?q=%EB%8C%80%EB%B0%B1+%EB%A1%9C%EA%B3%A0&tbm=isch&ved=2ahUKEwiQmOv-tKL6AhVSFYgKHY_0CaAQ2-cCegQIABAA&oq=%EB%8C%80%EB%B0%B1+%EB%A1%9C%EA%B3%A0&gs_lcp=CgNpbWcQAzIFCAAQgAQ6BAgjECc6BggAEB4QBzoGCAAQHhAIOgQIABAYUL4GWJsKYJYPaAFwAHgBgAGdAYgBswaSAQMwLjaYAQCgAQGqAQtnd3Mtd2l6LWltZ8ABAQ&sclient=img&ei=hDEpY5DGOdKqoASP6aeACg&bih=744&biw=767', 'debec')\n",
    "\n",
    "# 갤러리아\n",
    "image_save('https://www.google.com/search?q=%EA%B0%A4%EB%9F%AC%EB%A6%AC%EC%95%84%EB%B0%B1%ED%99%94%EC%A0%90+%EB%A1%9C%EA%B3%A0&tbm=isch&ved=2ahUKEwiQmOv-tKL6AhVSFYgKHY_0CaAQ2-cCegQIABAA&oq=%EA%B0%A4%EB%9F%AC%EB%A6%AC%EC%95%84%EB%B0%B1%ED%99%94%EC%A0%90+%EB%A1%9C%EA%B3%A0&gs_lcp=CgNpbWcQARgAMgUIABCABDIGCAAQHhAHOgQIIxAnOgYIABAeEAhQsAVY-QxgghxoAnAAeAKAAZoBiAHVCpIBBDAuMTCYAQCgAQGqAQtnd3Mtd2l6LWltZ8ABAQ&sclient=img&ei=hDEpY5DGOdKqoASP6aeACg&bih=744&biw=767', 'galleria')"
   ]
  },
  {
   "cell_type": "code",
   "execution_count": 4,
   "id": "ca47a3f6",
   "metadata": {},
   "outputs": [],
   "source": [
    "shinimg = Image.open('./departdatashinsegae/shinsegae0.png')\n",
    "hyundai = Image.open('./departdatahyundai/hyundai0.png')\n",
    "lotte = Image.open('./departdatalotte/lotte0.png')\n",
    "debec = Image.open('./departdatadebec/debec0.png')\n",
    "galleria = Image.open('./departdatagalleria/galleria0.png')"
   ]
  },
  {
   "cell_type": "code",
   "execution_count": 5,
   "id": "1d21116c",
   "metadata": {
    "scrolled": true
   },
   "outputs": [
    {
     "data": {
      "image/png": "[encoded data removed]",
      "text/plain": [
       "<Figure size 2160x2160 with 5 Axes>"
      ]
     },
     "metadata": {
      "needs_background": "light"
     },
     "output_type": "display_data"
    }
   ],
   "source": [
    "fig=plt.figure(figsize=(30,30))\n",
    "\n",
    "plt.subplot(1, 5, 1)\n",
    "plt.imshow(shinimg)\n",
    "plt.title('Shinsegae Logo', fontsize=24)\n",
    "\n",
    "plt.subplot(1, 5, 2)\n",
    "plt.imshow(hyundai)\n",
    "plt.title('Hyundai Logo', fontsize=24)\n",
    "\n",
    "plt.subplot(1, 5, 3)\n",
    "plt.imshow(lotte)\n",
    "plt.title('Lotte Logo', fontsize=24)\n",
    "\n",
    "plt.subplot(1, 5, 4)\n",
    "plt.imshow(debec)\n",
    "plt.title('Debec Logo', fontsize=24)\n",
    "\n",
    "plt.subplot(1, 5, 5)\n",
    "plt.imshow(galleria)\n",
    "plt.title('Galleria Logo', fontsize=24)\n",
    "plt.show()"
   ]
  },
  {
   "cell_type": "code",
   "execution_count": 6,
   "id": "f951cc97",
   "metadata": {},
   "outputs": [],
   "source": [
    "# a = Image.open('./departdatashinsegae/shinsegae'+str(i)+'.png')\n",
    "# np.array(a).reshape(-1,50*50)[0].tolist()"
   ]
  },
  {
   "cell_type": "code",
   "execution_count": 7,
   "id": "c8be898a",
   "metadata": {
    "scrolled": true
   },
   "outputs": [],
   "source": [
    "allshinimg = []\n",
    "allhyundaiimg = []\n",
    "alllotteimg = []\n",
    "alldebecimg = []\n",
    "allgalleriaimg = []\n",
    "\n",
    "\n",
    "for i in range(22):\n",
    "    a = Image.open('./departdatashinsegae/shinsegae'+str(i)+'.png')\n",
    "    allshinimg.append(np.array(a).reshape(-1,50*50)[0].tolist())\n",
    "    \n",
    "for j in range(20):\n",
    "    b = Image.open('./departdatahyundai/hyundai'+str(j)+'.png')\n",
    "    allhyundaiimg.append(np.array(b).reshape(-1,50*50)[0].tolist())\n",
    "    \n",
    "for o in range(20):\n",
    "    c = Image.open('./departdatalotte/lotte'+str(o)+'.png')\n",
    "    alllotteimg.append(np.array(c).reshape(-1,50*50)[0].tolist())\n",
    "  \n",
    "for f in range(22):\n",
    "    d = Image.open('./departdatadebec/debec'+str(f)+'.png')\n",
    "    alldebecimg.append(np.array(d).reshape(-1,50*50)[0].tolist())\n",
    "    \n",
    "for g in range(20):\n",
    "    e = Image.open('./departdatagalleria/galleria'+str(g)+'.png')\n",
    "    allgalleriaimg.append(np.array(e).reshape(-1,50*50)[0].tolist())"
   ]
  },
  {
   "cell_type": "code",
   "execution_count": 8,
   "id": "a8fab703",
   "metadata": {},
   "outputs": [
    {
     "name": "stdout",
     "output_type": "stream",
     "text": [
      "신세계 로고 :  22\n",
      "현대 로고 :  20\n",
      "롯데 로고 :  20\n",
      "대백 로고 :  22\n",
      "갤러리아 로고 :  20\n"
     ]
    }
   ],
   "source": [
    "print('신세계 로고 : ', len(allshinimg))\n",
    "print('현대 로고 : ', len(allhyundaiimg))\n",
    "print('롯데 로고 : ', len(alllotteimg))\n",
    "print('대백 로고 : ', len(alldebecimg))\n",
    "print('갤러리아 로고 : ', len(allgalleriaimg))"
   ]
  },
  {
   "cell_type": "code",
   "execution_count": 9,
   "id": "cebc8c36",
   "metadata": {},
   "outputs": [
    {
     "data": {
      "text/plain": [
       "22"
      ]
     },
     "execution_count": 9,
     "metadata": {},
     "output_type": "execute_result"
    }
   ],
   "source": [
    "len(allshinimg)"
   ]
  },
  {
   "cell_type": "code",
   "execution_count": 10,
   "id": "b35cdbc1",
   "metadata": {},
   "outputs": [
    {
     "data": {
      "text/plain": [
       "list"
      ]
     },
     "execution_count": 10,
     "metadata": {},
     "output_type": "execute_result"
    }
   ],
   "source": [
    "type(allshinimg)"
   ]
  },
  {
   "cell_type": "code",
   "execution_count": 11,
   "id": "319abc43",
   "metadata": {
    "scrolled": false
   },
   "outputs": [
    {
     "data": {
      "text/plain": [
       "(104, 2500)"
      ]
     },
     "execution_count": 11,
     "metadata": {},
     "output_type": "execute_result"
    }
   ],
   "source": [
    "allimgplus=np.row_stack((allshinimg, allhyundaiimg, alllotteimg, alldebecimg, allgalleriaimg))\n",
    "allimgplus.shape"
   ]
  },
  {
   "cell_type": "code",
   "execution_count": 12,
   "id": "518b82f2",
   "metadata": {},
   "outputs": [],
   "source": [
    "# plt.imshow(allimgplus[0])"
   ]
  },
  {
   "cell_type": "code",
   "execution_count": 13,
   "id": "04093e5f",
   "metadata": {},
   "outputs": [],
   "source": [
    "target1=np.array([1]*22)\n",
    "target2=np.array([2]*20)\n",
    "target3=np.array([3]*20)\n",
    "target4=np.array([4]*22)\n",
    "target5=np.array([5]*20)"
   ]
  },
  {
   "cell_type": "code",
   "execution_count": 14,
   "id": "34e6a971",
   "metadata": {},
   "outputs": [
    {
     "data": {
      "text/plain": [
       "array([1, 1, 1, 1, 1, 1, 1, 1, 1, 1, 1, 1, 1, 1, 1, 1, 1, 1, 1, 1, 1, 1,\n",
       "       2, 2, 2, 2, 2, 2, 2, 2, 2, 2, 2, 2, 2, 2, 2, 2, 2, 2, 2, 2, 3, 3,\n",
       "       3, 3, 3, 3, 3, 3, 3, 3, 3, 3, 3, 3, 3, 3, 3, 3, 3, 3, 4, 4, 4, 4,\n",
       "       4, 4, 4, 4, 4, 4, 4, 4, 4, 4, 4, 4, 4, 4, 4, 4, 4, 4, 5, 5, 5, 5,\n",
       "       5, 5, 5, 5, 5, 5, 5, 5, 5, 5, 5, 5, 5, 5, 5, 5])"
      ]
     },
     "execution_count": 14,
     "metadata": {},
     "output_type": "execute_result"
    }
   ],
   "source": [
    "target=np.concatenate([target1, target2, target3, target4, target5])\n",
    "target\n",
    "# target=target.reshape(-1,2500)"
   ]
  },
  {
   "cell_type": "code",
   "execution_count": 15,
   "id": "ef38c57c",
   "metadata": {},
   "outputs": [],
   "source": [
    "allimgplus=allimgplus/255.0\n",
    "# target=target/255.0"
   ]
  },
  {
   "cell_type": "code",
   "execution_count": 16,
   "id": "cbcd656e",
   "metadata": {},
   "outputs": [],
   "source": [
    "allimgplus=allimgplus.reshape(-1,50,50,1)"
   ]
  },
  {
   "cell_type": "code",
   "execution_count": 17,
   "id": "f5838b15",
   "metadata": {},
   "outputs": [],
   "source": [
    "# 훈련/테스트 데이터 나누기\n",
    "x_train, x_test, y_train, y_test = train_test_split(allimgplus, target,\n",
    "                                                    random_state=42,\n",
    "                                                    stratify=target)"
   ]
  },
  {
   "cell_type": "code",
   "execution_count": 18,
   "id": "15b148d8",
   "metadata": {
    "scrolled": true
   },
   "outputs": [],
   "source": [
    "# print(x_train.shape, y_train.shape)\n",
    "# print(x_test.shape, y_test.shape)"
   ]
  },
  {
   "cell_type": "code",
   "execution_count": 19,
   "id": "e19e6791",
   "metadata": {},
   "outputs": [],
   "source": [
    "# 검증용 데이터 준비\n",
    "from sklearn.model_selection import train_test_split"
   ]
  },
  {
   "cell_type": "code",
   "execution_count": 20,
   "id": "85fa6278",
   "metadata": {},
   "outputs": [],
   "source": [
    "x_train, x_val, y_train, y_val = train_test_split(x_train, y_train,\n",
    "                                                  stratify=y_train,\n",
    "                                                  random_state=42)"
   ]
  },
  {
   "cell_type": "code",
   "execution_count": 21,
   "id": "2e2a24f0",
   "metadata": {},
   "outputs": [
    {
     "name": "stdout",
     "output_type": "stream",
     "text": [
      "(58, 50, 50, 1) (58,)\n",
      "(26, 50, 50, 1) (26,)\n",
      "(20, 50, 50, 1) (20,)\n"
     ]
    }
   ],
   "source": [
    "print(x_train.shape, y_train.shape)\n",
    "print(x_test.shape, y_test.shape)\n",
    "print(x_val.shape, y_val.shape)"
   ]
  },
  {
   "cell_type": "code",
   "execution_count": null,
   "id": "530ef4d0",
   "metadata": {},
   "outputs": [],
   "source": []
  },
  {
   "cell_type": "code",
   "execution_count": null,
   "id": "63170725",
   "metadata": {},
   "outputs": [],
   "source": []
  },
  {
   "cell_type": "code",
   "execution_count": 111,
   "id": "bd8f2e18",
   "metadata": {},
   "outputs": [],
   "source": [
    "model=Sequential()"
   ]
  },
  {
   "cell_type": "code",
   "execution_count": 112,
   "id": "cb6ac58c",
   "metadata": {},
   "outputs": [],
   "source": [
    "# 이미지 특징 추출 Layer => 첫번째 입력값 설정\n",
    "model.add(Conv2D(58, kernel_size=3, padding='same', input_shape=(50,50,1)))"
   ]
  },
  {
   "cell_type": "code",
   "execution_count": 113,
   "id": "abb55794",
   "metadata": {},
   "outputs": [],
   "source": [
    "# 이미지 특징 다운샘플링 Layer => MaxPool2D\n",
    "model.add(MaxPool2D())"
   ]
  },
  {
   "cell_type": "code",
   "execution_count": 114,
   "id": "753799d6",
   "metadata": {},
   "outputs": [],
   "source": [
    "model.add(Conv2D(200, kernel_size=3, padding='same'))"
   ]
  },
  {
   "cell_type": "code",
   "execution_count": 115,
   "id": "6b9b8594",
   "metadata": {},
   "outputs": [],
   "source": [
    "# 1차원으로 데이터 형태 변환 Layer => Flatten\n",
    "model.add(Flatten())"
   ]
  },
  {
   "cell_type": "code",
   "execution_count": 116,
   "id": "d710fc00",
   "metadata": {},
   "outputs": [],
   "source": [
    "# 출력층 => Node : 10개(0~9), activation : softmax\n",
    "model.add(Dense(1000, activation='relu'))\n",
    "model.add(Dense(10, activation='softmax'))"
   ]
  },
  {
   "cell_type": "code",
   "execution_count": 117,
   "id": "f601bea4",
   "metadata": {},
   "outputs": [
    {
     "name": "stdout",
     "output_type": "stream",
     "text": [
      "Model: \"sequential_7\"\n",
      "_________________________________________________________________\n",
      " Layer (type)                Output Shape              Param #   \n",
      "=================================================================\n",
      " conv2d_17 (Conv2D)          (None, 50, 50, 58)        580       \n",
      "                                                                 \n",
      " max_pooling2d_8 (MaxPooling  (None, 25, 25, 58)       0         \n",
      " 2D)                                                             \n",
      "                                                                 \n",
      " conv2d_18 (Conv2D)          (None, 25, 25, 200)       104600    \n",
      "                                                                 \n",
      " flatten_7 (Flatten)         (None, 125000)            0         \n",
      "                                                                 \n",
      " dense_12 (Dense)            (None, 1000)              125001000 \n",
      "                                                                 \n",
      " dense_13 (Dense)            (None, 10)                10010     \n",
      "                                                                 \n",
      "=================================================================\n",
      "Total params: 125,116,190\n",
      "Trainable params: 125,116,190\n",
      "Non-trainable params: 0\n",
      "_________________________________________________________________\n"
     ]
    }
   ],
   "source": [
    "model.summary()"
   ]
  },
  {
   "cell_type": "code",
   "execution_count": 118,
   "id": "2947b818",
   "metadata": {
    "scrolled": true
   },
   "outputs": [
    {
     "data": {
      "image/png": "[encoded data removed]",
      "text/plain": [
       "<IPython.core.display.Image object>"
      ]
     },
     "execution_count": 118,
     "metadata": {},
     "output_type": "execute_result"
    }
   ],
   "source": [
    "plot_model(model, show_shapes=True)"
   ]
  },
  {
   "cell_type": "code",
   "execution_count": 119,
   "id": "9283554e",
   "metadata": {
    "scrolled": true
   },
   "outputs": [
    {
     "data": {
      "image/png": "[encoded data removed]",
      "text/plain": [
       "<Figure size 432x288 with 1 Axes>"
      ]
     },
     "metadata": {
      "needs_background": "light"
     },
     "output_type": "display_data"
    }
   ],
   "source": [
    "plt.imshow(x_val[3].reshape(50,50), cmap='gray')\n",
    "plt.title(f'Label - {y_val[3]}')\n",
    "plt.show()"
   ]
  },
  {
   "cell_type": "code",
   "execution_count": null,
   "id": "3205ffac",
   "metadata": {},
   "outputs": [],
   "source": []
  },
  {
   "cell_type": "code",
   "execution_count": 120,
   "id": "a2942365",
   "metadata": {},
   "outputs": [],
   "source": [
    "model.compile(loss='sparse_categorical_crossentropy',\n",
    "             optimizer='adam',\n",
    "             metrics='accuracy')"
   ]
  },
  {
   "cell_type": "code",
   "execution_count": 122,
   "id": "63020b65",
   "metadata": {},
   "outputs": [
    {
     "name": "stdout",
     "output_type": "stream",
     "text": [
      "Epoch 1/10\n",
      "2/2 [==============================] - 1s 550ms/step - loss: 0.0214 - accuracy: 1.0000\n",
      "Epoch 2/10\n",
      "2/2 [==============================] - 1s 572ms/step - loss: 0.0392 - accuracy: 0.9828\n",
      "Epoch 3/10\n",
      "2/2 [==============================] - 1s 575ms/step - loss: 0.0179 - accuracy: 1.0000\n",
      "Epoch 4/10\n",
      "2/2 [==============================] - 1s 577ms/step - loss: 0.0535 - accuracy: 0.9828\n",
      "Epoch 5/10\n",
      "2/2 [==============================] - 1s 561ms/step - loss: 0.0351 - accuracy: 0.9828\n",
      "Epoch 6/10\n",
      "2/2 [==============================] - 1s 563ms/step - loss: 0.0204 - accuracy: 1.0000\n",
      "Epoch 7/10\n",
      "2/2 [==============================] - 1s 582ms/step - loss: 0.0612 - accuracy: 0.9828\n",
      "Epoch 8/10\n",
      "2/2 [==============================] - 1s 568ms/step - loss: 0.0495 - accuracy: 0.9828\n",
      "Epoch 9/10\n",
      "2/2 [==============================] - 1s 577ms/step - loss: 0.0494 - accuracy: 0.9655\n",
      "Epoch 10/10\n",
      "2/2 [==============================] - 1s 645ms/step - loss: 0.0607 - accuracy: 0.9828\n"
     ]
    },
    {
     "data": {
      "text/plain": [
       "<keras.callbacks.History at 0x22c6cefad30>"
      ]
     },
     "execution_count": 122,
     "metadata": {},
     "output_type": "execute_result"
    }
   ],
   "source": [
    "model.fit(x_train, y_train, epochs=10)"
   ]
  },
  {
   "cell_type": "code",
   "execution_count": 123,
   "id": "8732fd35",
   "metadata": {},
   "outputs": [
    {
     "name": "stdout",
     "output_type": "stream",
     "text": [
      "1/1 [==============================] - 0s 247ms/step - loss: 4.4516 - accuracy: 0.3462\n"
     ]
    },
    {
     "data": {
      "text/plain": [
       "[4.451594829559326, 0.3461538553237915]"
      ]
     },
     "execution_count": 123,
     "metadata": {},
     "output_type": "execute_result"
    }
   ],
   "source": [
    "model.evaluate(x_test, y_test)"
   ]
  },
  {
   "cell_type": "code",
   "execution_count": null,
   "id": "23cc42d3",
   "metadata": {},
   "outputs": [],
   "source": []
  },
  {
   "cell_type": "code",
   "execution_count": 124,
   "id": "d40105b2",
   "metadata": {},
   "outputs": [
    {
     "data": {
      "text/plain": [
       "(50, 50, 1)"
      ]
     },
     "execution_count": 124,
     "metadata": {},
     "output_type": "execute_result"
    }
   ],
   "source": [
    "x_test[0].shape"
   ]
  },
  {
   "cell_type": "code",
   "execution_count": 125,
   "id": "a739df81",
   "metadata": {},
   "outputs": [
    {
     "name": "stdout",
     "output_type": "stream",
     "text": [
      "1/1 [==============================] - 0s 116ms/step\n"
     ]
    }
   ],
   "source": [
    "pre_y=model.predict(x_test[0].reshape(-1, 50, 50, 1))"
   ]
  },
  {
   "cell_type": "code",
   "execution_count": 126,
   "id": "910ba8de",
   "metadata": {},
   "outputs": [
    {
     "data": {
      "text/plain": [
       "(array([[0.  , 0.  , 0.01, 0.  , 0.  , 0.99, 0.  , 0.  , 0.  , 0.  ]],\n",
       "       dtype=float32),\n",
       " (1, 10))"
      ]
     },
     "execution_count": 126,
     "metadata": {},
     "output_type": "execute_result"
    }
   ],
   "source": [
    "pre_y.round(2), pre_y.shape"
   ]
  },
  {
   "cell_type": "code",
   "execution_count": 127,
   "id": "f0650830",
   "metadata": {},
   "outputs": [
    {
     "data": {
      "text/plain": [
       "4"
      ]
     },
     "execution_count": 127,
     "metadata": {},
     "output_type": "execute_result"
    }
   ],
   "source": [
    "y_test[0]"
   ]
  },
  {
   "cell_type": "code",
   "execution_count": null,
   "id": "c38e5e9a",
   "metadata": {},
   "outputs": [],
   "source": []
  },
  {
   "cell_type": "code",
   "execution_count": null,
   "id": "b8d51b77",
   "metadata": {},
   "outputs": [],
   "source": []
  },
  {
   "cell_type": "code",
   "execution_count": null,
   "id": "72b2a60f",
   "metadata": {},
   "outputs": [],
   "source": []
  },
  {
   "cell_type": "code",
   "execution_count": null,
   "id": "db55bc3c",
   "metadata": {},
   "outputs": [],
   "source": []
  },
  {
   "cell_type": "code",
   "execution_count": null,
   "id": "169ede9f",
   "metadata": {},
   "outputs": [],
   "source": []
  },
  {
   "cell_type": "code",
   "execution_count": null,
   "id": "dc256d42",
   "metadata": {},
   "outputs": [],
   "source": []
  },
  {
   "cell_type": "code",
   "execution_count": null,
   "id": "ba5d45fb",
   "metadata": {
    "scrolled": true
   },
   "outputs": [],
   "source": [
    "# allimgDF=pd.DataFrame(allimgplus)\n",
    "# allimgDF"
   ]
  },
  {
   "cell_type": "code",
   "execution_count": null,
   "id": "be6b9f00",
   "metadata": {
    "scrolled": false
   },
   "outputs": [],
   "source": [
    "# print(allimgDF.shape)\n",
    "# print('---------------------------------------')\n",
    "# print(allimgDF.info())"
   ]
  },
  {
   "cell_type": "code",
   "execution_count": null,
   "id": "73db7beb",
   "metadata": {},
   "outputs": [],
   "source": [
    "# allimgDF[1:]"
   ]
  },
  {
   "cell_type": "code",
   "execution_count": null,
   "id": "11485b16",
   "metadata": {
    "scrolled": true
   },
   "outputs": [],
   "source": []
  },
  {
   "cell_type": "code",
   "execution_count": null,
   "id": "0c3f1046",
   "metadata": {},
   "outputs": [],
   "source": []
  },
  {
   "cell_type": "code",
   "execution_count": null,
   "id": "63a07aa0",
   "metadata": {},
   "outputs": [],
   "source": [
    "# a=allimgplus[:23]\n",
    "# b=allimgplus[23:43]\n",
    "# c=allimgplus[43:63]\n",
    "# d=allimgplus[63:85]\n",
    "# e=allimgplus[85:105]"
   ]
  }
 ],
 "metadata": {
  "kernelspec": {
   "display_name": "Python 3 (ipykernel)",
   "language": "python",
   "name": "python3"
  },
  "language_info": {
   "codemirror_mode": {
    "name": "ipython",
    "version": 3
   },
   "file_extension": ".py",
   "mimetype": "text/x-python",
   "name": "python",
   "nbconvert_exporter": "python",
   "pygments_lexer": "ipython3",
   "version": "3.9.12"
  }
 },
 "nbformat": 4,
 "nbformat_minor": 5
}
