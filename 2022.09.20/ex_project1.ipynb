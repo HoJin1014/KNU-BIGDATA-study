{
 "cells": [
  {
   "cell_type": "markdown",
   "id": "8d034bd6",
   "metadata": {},
   "source": [
    "# "
   ]
  },
  {
   "cell_type": "code",
   "execution_count": 195,
   "id": "2563dd6c",
   "metadata": {},
   "outputs": [],
   "source": [
    "# 모듈 로딩\n",
    "import os\n",
    "import cv2\n",
    "import numpy as np\n",
    "import pandas as pd\n",
    "import matplotlib.pyplot as plt\n",
    "from PIL import Image\n",
    "from bs4 import BeautifulSoup\n",
    "from selenium import webdriver\n",
    "from tensorflow.keras import Sequential\n",
    "from sklearn.utils import all_estimators\n",
    "from sklearn.linear_model import LogisticRegression\n",
    "from sklearn.model_selection import train_test_split\n",
    "from urllib.request import urlopen,Request,urlretrieve\n",
    "from tensorflow.keras.utils import set_random_seed, plot_model\n",
    "from tensorflow.keras.preprocessing.image import ImageDataGenerator\n",
    "from tensorflow.keras.layers import Dense, Conv2D, Flatten, MaxPool2D"
   ]
  },
  {
   "cell_type": "code",
   "execution_count": 44,
   "id": "f122e67f",
   "metadata": {},
   "outputs": [],
   "source": [
    "# 크롤링 데이터 로테이션시키는 함수\n",
    "def rota_save(color,foldname):\n",
    "    # 폴더 만들기\n",
    "    if not os.path.exists('./'+foldname):\n",
    "        os.makedirs(foldname)\n",
    "    \n",
    "    rotation=[45,90,135,180,225,270,315]\n",
    "    for file in os.listdir('./data/'):\n",
    "        for rot in rotation:\n",
    "            img=np.array(Image.open('./data/'+file).convert(color))\n",
    "            rows,cols = img.shape[0:2]\n",
    "            ro_mt = cv2.getRotationMatrix2D((cols/2,rows/2),rot,1.42)\n",
    "            ro_img = cv2.warpAffine(img, ro_mt,(cols, rows))\n",
    "            \n",
    "            # 이미지 저장\n",
    "            filename=f\"{file}_ro{str(rot)}\"\n",
    "            cv2.imwrite('./'+foldname+'/'+filename+'.png',ro_img)"
   ]
  },
  {
   "cell_type": "code",
   "execution_count": 45,
   "id": "b788018c",
   "metadata": {},
   "outputs": [],
   "source": [
    "# 크롤링 데이터 convert 함수\n",
    "def data_con(color,foldname):\n",
    "    for file in os.listdir('./data/'):\n",
    "        img=Image.open('./data/'+file).convert(color).save('./'+foldname+'/'+file)"
   ]
  },
  {
   "cell_type": "code",
   "execution_count": 46,
   "id": "3e32c415",
   "metadata": {},
   "outputs": [],
   "source": [
    "# 흑백으로 로테이션\n",
    "rota_save('L','blwh')\n",
    "\n",
    "# rgb로 로테이션\n",
    "rota_save('RGB','rgb')"
   ]
  },
  {
   "cell_type": "code",
   "execution_count": 47,
   "id": "fc8b9bd0",
   "metadata": {},
   "outputs": [],
   "source": [
    "# 원본사진 흑백으로\n",
    "data_con('L','blwh')\n",
    "\n",
    "# 원본사진 색깔로\n",
    "data_con('RGB','rgb')"
   ]
  },
  {
   "cell_type": "code",
   "execution_count": 124,
   "id": "d0d054e0",
   "metadata": {},
   "outputs": [],
   "source": [
    "def solution(foldname):\n",
    "    l=[]\n",
    "    for i in os.listdir('./'+foldname+'/'):\n",
    "        n=np.array(Image.open('./'+foldname+'/'+i))/255.0\n",
    "        if foldname=='blwh':\n",
    "           n_list=n.reshape(-1,50,50)[0].tolist()\n",
    "        else:\n",
    "            n_list=n.reshape(-1,50,50,3)[0].tolist()\n",
    "        l.append(n_list)\n",
    "    return np.array(l)"
   ]
  },
  {
   "cell_type": "code",
   "execution_count": null,
   "id": "563a9497",
   "metadata": {},
   "outputs": [],
   "source": []
  },
  {
   "cell_type": "code",
   "execution_count": 125,
   "id": "02d6e409",
   "metadata": {},
   "outputs": [],
   "source": [
    "# 동적 웹 크롤링으로 사진저장 함수\n",
    "def image_save(urlpath,charname):\n",
    "    driver = webdriver.Chrome('chromedriver.exe') # C:/Users/User/EXAM_PANDAS/DAY-0630/DAY-0920\n",
    "    #driver = webdriver.Chrome('C:\\\\workspace’) # Windows 사용자의 설치 경로\n",
    "    driver.get(urlpath)\n",
    "    html=driver.page_source\n",
    "    soup=BeautifulSoup(html,'html.parser')\n",
    "    driver.quit()\n",
    "\n",
    "    # 태그-속성 찾기\n",
    "    image_finds=soup.select(\"div.bRMDJf img\")\n",
    "    \n",
    "    # 이미지의 url찾기\n",
    "    image=[]\n",
    "    for image_find in image_finds:\n",
    "        try:\n",
    "            image.append(image_find['src'])\n",
    "            image.append(image_find['data-src'])\n",
    "        except:\n",
    "            pass\n",
    "    \n",
    "    # 폴더 만들기\n",
    "    if not os.path.exists('./departdata'+charname):\n",
    "        os.makedirs('./departdata'+charname)\n",
    "    \n",
    "    # 파일 저장하기\n",
    "    for i in range(0,len(image)):\n",
    "        urlretrieve(image[i],'./departdata'+charname+'/'+charname+str(i)+'.png')\n",
    "\n",
    "    # 파일 크기 조절\n",
    "    for png in os.listdir('./departdata'+charname):\n",
    "        Image.open('./departdata'+charname+'/'+png).resize((50,50)).save('./departdata'+charname+'/'+png)"
   ]
  },
  {
   "cell_type": "code",
   "execution_count": 3,
   "id": "bfa69559",
   "metadata": {},
   "outputs": [],
   "source": [
    "# 신세계\n",
    "image_save('https://www.google.com/search?q=%EC%8B%A0%EC%84%B8%EA%B3%84%EB%B0%B1%ED%99%94%EC%A0%90+%EB%A1%9C%EA%B3%A0&tbm=isch&ved=2ahUKEwiWx8zJs6L6AhUzNqYKHQVnCpoQ2-cCegQIABAA&oq=%EC%8B%A0%EC%84%B8%EA%B3%84%EB%B0%B1%ED%99%94%EC%A0%80&gs_lcp=CgNpbWcQARgBMgUIABCABDIFCAAQgAQyBQgAEIAEMgUIABCABDIFCAAQgAQyBQgAEIAEMgUIABCABDIFCAAQgAQyBQgAEIAEMgUIABCABDoECCMQJzoLCAAQgAQQsQMQgwFQ0QVY9w9g9xtoAnAAeAGAAYcBiAGHCpIBBDAuMTCYAQCgAQGqAQtnd3Mtd2l6LWltZ8ABAQ&sclient=img&ei=CDApY5ajNLPsmAWFzqnQCQ&bih=744&biw=767','shinsegae')\n",
    "\n",
    "# 현대\n",
    "image_save('https://www.google.com/search?q=%ED%98%84%EB%8C%80%EB%B0%B1%ED%99%94%EC%A0%90+%EB%A1%9C%EA%B3%A0&tbm=isch&ved=2ahUKEwi0sPHOs6L6AhUGdpQKHRNvCvIQ2-cCegQIABAA&oq=%ED%98%84%EB%8C%80%EB%B0%B1%ED%99%94%EC%A0%90+%EB%A1%9C%EA%B3%A0&gs_lcp=CgNpbWcQAzIFCAAQgAQyBQgAEIAEMgUIABCABDIGCAAQHhAIMgYIABAeEAg6BAgjECdQ1wNYrQtgpA9oAHAAeACAAbwBiAGUCJIBAzAuNpgBAKABAaoBC2d3cy13aXotaW1nwAEB&sclient=img&ei=EzApY_TaOYbs0QST3qmQDw&bih=744&biw=767', 'hyundai')\n",
    "\n",
    "# 롯데 \n",
    "image_save('https://www.google.com/search?q=%EB%A1%AF%EB%8D%B0%EB%B0%B1%ED%99%94%EC%A0%90+%EB%A1%9C%EA%B3%A0&tbm=isch&ved=2ahUKEwiQmOv-tKL6AhVSFYgKHY_0CaAQ2-cCegQIABAA&oq=%EB%A1%AF%EB%8D%B0%EB%B0%B1%ED%99%94%EC%A0%90+%EB%A1%9C%EA%B3%A0&gs_lcp=CgNpbWcQAzIFCAAQgAQyBQgAEIAEMgUIABCABDoECCMQJzoGCAAQHhAHOgYIABAeEAhQ-RFYzBdg_RpoAHAAeACAAaABiAHHBpIBAzAuNpgBAKABAaoBC2d3cy13aXotaW1nwAEB&sclient=img&ei=hDEpY5DGOdKqoASP6aeACg&bih=744&biw=767', 'lotte')\n",
    "\n",
    "# 대백\n",
    "image_save('https://www.google.com/search?q=%EB%8C%80%EB%B0%B1+%EB%A1%9C%EA%B3%A0&tbm=isch&ved=2ahUKEwiQmOv-tKL6AhVSFYgKHY_0CaAQ2-cCegQIABAA&oq=%EB%8C%80%EB%B0%B1+%EB%A1%9C%EA%B3%A0&gs_lcp=CgNpbWcQAzIFCAAQgAQ6BAgjECc6BggAEB4QBzoGCAAQHhAIOgQIABAYUL4GWJsKYJYPaAFwAHgBgAGdAYgBswaSAQMwLjaYAQCgAQGqAQtnd3Mtd2l6LWltZ8ABAQ&sclient=img&ei=hDEpY5DGOdKqoASP6aeACg&bih=744&biw=767', 'debec')\n",
    "\n",
    "# 갤러리아\n",
    "image_save('https://www.google.com/search?q=%EA%B0%A4%EB%9F%AC%EB%A6%AC%EC%95%84%EB%B0%B1%ED%99%94%EC%A0%90+%EB%A1%9C%EA%B3%A0&tbm=isch&ved=2ahUKEwiQmOv-tKL6AhVSFYgKHY_0CaAQ2-cCegQIABAA&oq=%EA%B0%A4%EB%9F%AC%EB%A6%AC%EC%95%84%EB%B0%B1%ED%99%94%EC%A0%90+%EB%A1%9C%EA%B3%A0&gs_lcp=CgNpbWcQARgAMgUIABCABDIGCAAQHhAHOgQIIxAnOgYIABAeEAhQsAVY-QxgghxoAnAAeAKAAZoBiAHVCpIBBDAuMTCYAQCgAQGqAQtnd3Mtd2l6LWltZ8ABAQ&sclient=img&ei=hDEpY5DGOdKqoASP6aeACg&bih=744&biw=767', 'galleria')"
   ]
  },
  {
   "cell_type": "code",
   "execution_count": 126,
   "id": "ca47a3f6",
   "metadata": {},
   "outputs": [],
   "source": [
    "shinimg = Image.open('./departdatashinsegae/shinsegae0.png')\n",
    "hyundai = Image.open('./departdatahyundai/hyundai0.png')\n",
    "lotte = Image.open('./departdatalotte/lotte0.png')\n",
    "debec = Image.open('./departdatadebec/debec0.png')\n",
    "galleria = Image.open('./departdatagalleria/galleria0.png')"
   ]
  },
  {
   "cell_type": "code",
   "execution_count": 127,
   "id": "1d21116c",
   "metadata": {
    "scrolled": true
   },
   "outputs": [
    {
     "data": {
      "image/png": "[encoded data removed]",
      "text/plain": [
       "<Figure size 2160x2160 with 5 Axes>"
      ]
     },
     "metadata": {
      "needs_background": "light"
     },
     "output_type": "display_data"
    }
   ],
   "source": [
    "fig=plt.figure(figsize=(30,30))\n",
    "\n",
    "plt.subplot(1, 5, 1)\n",
    "plt.imshow(shinimg)\n",
    "plt.title('Shinsegae Logo', fontsize=24)\n",
    "\n",
    "plt.subplot(1, 5, 2)\n",
    "plt.imshow(hyundai)\n",
    "plt.title('Hyundai Logo', fontsize=24)\n",
    "\n",
    "plt.subplot(1, 5, 3)\n",
    "plt.imshow(lotte)\n",
    "plt.title('Lotte Logo', fontsize=24)\n",
    "\n",
    "plt.subplot(1, 5, 4)\n",
    "plt.imshow(debec)\n",
    "plt.title('Debec Logo', fontsize=24)\n",
    "\n",
    "plt.subplot(1, 5, 5)\n",
    "plt.imshow(galleria)\n",
    "plt.title('Galleria Logo', fontsize=24)\n",
    "plt.show()"
   ]
  },
  {
   "cell_type": "code",
   "execution_count": 128,
   "id": "f951cc97",
   "metadata": {},
   "outputs": [],
   "source": [
    "# a = Image.open('./departdatashinsegae/shinsegae'+str(i)+'.png')\n",
    "# np.array(a).reshape(-1,50*50)[0].tolist()"
   ]
  },
  {
   "cell_type": "code",
   "execution_count": 163,
   "id": "c8be898a",
   "metadata": {
    "scrolled": true
   },
   "outputs": [],
   "source": [
    "allshinimg = []\n",
    "allhyundaiimg = []\n",
    "alllotteimg = []\n",
    "alldebecimg = []\n",
    "allgalleriaimg = []\n",
    "\n",
    "\n",
    "for i in range(22):\n",
    "    a = Image.open('./departdatashinsegae/shinsegae'+str(i)+'.png')\n",
    "    allshinimg.append(np.array(a).reshape(-1,50*50)[0].tolist())\n",
    "    \n",
    "for j in range(20):\n",
    "    b = Image.open('./departdatahyundai/hyundai'+str(j)+'.png')\n",
    "    allhyundaiimg.append(np.array(b).reshape(-1,50*50)[0].tolist())\n",
    "    \n",
    "for o in range(20):\n",
    "    c = Image.open('./departdatalotte/lotte'+str(o)+'.png')\n",
    "    alllotteimg.append(np.array(c).reshape(-1,50*50)[0].tolist())\n",
    "  \n",
    "for f in range(22):\n",
    "    d = Image.open('./departdatadebec/debec'+str(f)+'.png')\n",
    "    alldebecimg.append(np.array(d).reshape(-1,50*50)[0].tolist())\n",
    "    \n",
    "for g in range(20):\n",
    "    e = Image.open('./departdatagalleria/galleria'+str(g)+'.png')\n",
    "    allgalleriaimg.append(np.array(e).reshape(-1,50*50)[0].tolist())"
   ]
  },
  {
   "cell_type": "code",
   "execution_count": 164,
   "id": "a8fab703",
   "metadata": {},
   "outputs": [
    {
     "name": "stdout",
     "output_type": "stream",
     "text": [
      "신세계 로고 :  22\n",
      "현대 로고 :  20\n",
      "롯데 로고 :  20\n",
      "대백 로고 :  22\n",
      "갤러리아 로고 :  20\n"
     ]
    }
   ],
   "source": [
    "print('신세계 로고 : ', len(allshinimg))\n",
    "print('현대 로고 : ', len(allhyundaiimg))\n",
    "print('롯데 로고 : ', len(alllotteimg))\n",
    "print('대백 로고 : ', len(alldebecimg))\n",
    "print('갤러리아 로고 : ', len(allgalleriaimg))"
   ]
  },
  {
   "cell_type": "code",
   "execution_count": 229,
   "id": "319abc43",
   "metadata": {
    "scrolled": true
   },
   "outputs": [
    {
     "data": {
      "text/plain": [
       "(104, 2500)"
      ]
     },
     "execution_count": 229,
     "metadata": {},
     "output_type": "execute_result"
    }
   ],
   "source": [
    "allimgplus=np.row_stack((allshinimg, allhyundaiimg, alllotteimg, alldebecimg, allgalleriaimg))\n",
    "allimgplus.shape"
   ]
  },
  {
   "cell_type": "code",
   "execution_count": 230,
   "id": "04093e5f",
   "metadata": {},
   "outputs": [],
   "source": [
    "target1=np.array([0]*22)\n",
    "target2=np.array([1]*20)\n",
    "target3=np.array([2]*20)\n",
    "target4=np.array([3]*22)\n",
    "target5=np.array([4]*20)"
   ]
  },
  {
   "cell_type": "code",
   "execution_count": 231,
   "id": "34e6a971",
   "metadata": {},
   "outputs": [
    {
     "data": {
      "text/plain": [
       "array([0, 0, 0, 0, 0, 0, 0, 0, 0, 0, 0, 0, 0, 0, 0, 0, 0, 0, 0, 0, 0, 0,\n",
       "       1, 1, 1, 1, 1, 1, 1, 1, 1, 1, 1, 1, 1, 1, 1, 1, 1, 1, 1, 1, 2, 2,\n",
       "       2, 2, 2, 2, 2, 2, 2, 2, 2, 2, 2, 2, 2, 2, 2, 2, 2, 2, 3, 3, 3, 3,\n",
       "       3, 3, 3, 3, 3, 3, 3, 3, 3, 3, 3, 3, 3, 3, 3, 3, 3, 3, 4, 4, 4, 4,\n",
       "       4, 4, 4, 4, 4, 4, 4, 4, 4, 4, 4, 4, 4, 4, 4, 4])"
      ]
     },
     "execution_count": 231,
     "metadata": {},
     "output_type": "execute_result"
    }
   ],
   "source": [
    "target=np.concatenate([target1, target2, target3, target4, target5])\n",
    "target"
   ]
  },
  {
   "cell_type": "code",
   "execution_count": 232,
   "id": "a6453da8",
   "metadata": {},
   "outputs": [
    {
     "data": {
      "text/plain": [
       "array([[  0,   0,   0, ...,   0,   0,   0],\n",
       "       [  0,   0,   0, ...,   0,   0,   0],\n",
       "       [  0,   0,   0, ...,   0,   0,   0],\n",
       "       ...,\n",
       "       [  0,   0,   0, ...,   0,   0,   0],\n",
       "       [ 41,  37,  25, ..., 254, 131, 254],\n",
       "       [254, 254, 254, ..., 228,   1, 254]])"
      ]
     },
     "execution_count": 232,
     "metadata": {},
     "output_type": "execute_result"
    }
   ],
   "source": [
    "allimgplus"
   ]
  },
  {
   "cell_type": "code",
   "execution_count": 233,
   "id": "ef38c57c",
   "metadata": {},
   "outputs": [],
   "source": [
    "# allimgplus=allimgplus/255.0"
   ]
  },
  {
   "cell_type": "code",
   "execution_count": 234,
   "id": "cbcd656e",
   "metadata": {},
   "outputs": [],
   "source": [
    "allimgplus=allimgplus.reshape(-1,50,50,1)"
   ]
  },
  {
   "cell_type": "code",
   "execution_count": 235,
   "id": "f5838b15",
   "metadata": {},
   "outputs": [],
   "source": [
    "# 훈련/테스트 데이터 나누기\n",
    "x_train, x_test, y_train, y_test = train_test_split(allimgplus, target,\n",
    "                                                    random_state=42,\n",
    "                                                    stratify=target)"
   ]
  },
  {
   "cell_type": "code",
   "execution_count": 236,
   "id": "e19e6791",
   "metadata": {},
   "outputs": [],
   "source": [
    "# 검증용 데이터 준비\n",
    "from sklearn.model_selection import train_test_split"
   ]
  },
  {
   "cell_type": "code",
   "execution_count": 237,
   "id": "85fa6278",
   "metadata": {},
   "outputs": [],
   "source": [
    "x_train, x_val, y_train, y_val = train_test_split(x_train, y_train,\n",
    "                                                  stratify=y_train,\n",
    "                                                  random_state=42)"
   ]
  },
  {
   "cell_type": "code",
   "execution_count": 238,
   "id": "2e2a24f0",
   "metadata": {},
   "outputs": [
    {
     "name": "stdout",
     "output_type": "stream",
     "text": [
      "(58, 50, 50, 1) (58,)\n",
      "(26, 50, 50, 1) (26,)\n",
      "(20, 50, 50, 1) (20,)\n"
     ]
    }
   ],
   "source": [
    "print(x_train.shape, y_train.shape)\n",
    "print(x_test.shape, y_test.shape)\n",
    "print(x_val.shape, y_val.shape)"
   ]
  },
  {
   "cell_type": "code",
   "execution_count": null,
   "id": "530ef4d0",
   "metadata": {},
   "outputs": [],
   "source": []
  },
  {
   "cell_type": "code",
   "execution_count": null,
   "id": "86eb4db3",
   "metadata": {},
   "outputs": [],
   "source": []
  },
  {
   "cell_type": "code",
   "execution_count": 239,
   "id": "9738ce2e",
   "metadata": {},
   "outputs": [],
   "source": [
    "model=Sequential()\n",
    "# model.add(Flatten())\n",
    "# model.add(Dense(50, activation='relu', input_shape=(2500,)))\n",
    "# model.add(Dense(15, activation='relu'))\n",
    "# model.add(Dense(5, activation='softmax'))"
   ]
  },
  {
   "cell_type": "code",
   "execution_count": 240,
   "id": "cb6ac58c",
   "metadata": {},
   "outputs": [],
   "source": [
    "# 이미지 특징 추출 Layer => 첫번째 입력값 설정\n",
    "model.add(Conv2D(58, kernel_size=3, activation='relu', padding='same', input_shape=(50,50,1)))\n",
    "# model.add(Dense(58, kernel_size=3, activation='relu', padding='same', input_shape=(50,50,1)))"
   ]
  },
  {
   "cell_type": "code",
   "execution_count": 241,
   "id": "abb55794",
   "metadata": {},
   "outputs": [],
   "source": [
    "# # 이미지 특징 다운샘플링 Layer => MaxPool2D\n",
    "model.add(MaxPool2D())"
   ]
  },
  {
   "cell_type": "code",
   "execution_count": 242,
   "id": "753799d6",
   "metadata": {},
   "outputs": [],
   "source": [
    "model.add(Conv2D(200, kernel_size=3, padding='same'))"
   ]
  },
  {
   "cell_type": "code",
   "execution_count": 243,
   "id": "6b9b8594",
   "metadata": {},
   "outputs": [],
   "source": [
    "# # 1차원으로 데이터 형태 변환 Layer => Flatten\n",
    "model.add(Flatten())"
   ]
  },
  {
   "cell_type": "code",
   "execution_count": 244,
   "id": "d710fc00",
   "metadata": {},
   "outputs": [],
   "source": [
    "# 출력층 => Node : 10개(0~9), activation : softmax\n",
    "# model.add(Conv2D(1000, kernel_size=3, activation='relu', padding='same'))\n",
    "model.add(Dense(5, activation='softmax'))"
   ]
  },
  {
   "cell_type": "code",
   "execution_count": 245,
   "id": "f601bea4",
   "metadata": {},
   "outputs": [
    {
     "name": "stdout",
     "output_type": "stream",
     "text": [
      "Model: \"sequential_5\"\n",
      "_________________________________________________________________\n",
      " Layer (type)                Output Shape              Param #   \n",
      "=================================================================\n",
      " conv2d_10 (Conv2D)          (None, 50, 50, 58)        580       \n",
      "                                                                 \n",
      " max_pooling2d_5 (MaxPooling  (None, 25, 25, 58)       0         \n",
      " 2D)                                                             \n",
      "                                                                 \n",
      " conv2d_11 (Conv2D)          (None, 25, 25, 200)       104600    \n",
      "                                                                 \n",
      " flatten_5 (Flatten)         (None, 125000)            0         \n",
      "                                                                 \n",
      " dense_5 (Dense)             (None, 5)                 625005    \n",
      "                                                                 \n",
      "=================================================================\n",
      "Total params: 730,185\n",
      "Trainable params: 730,185\n",
      "Non-trainable params: 0\n",
      "_________________________________________________________________\n"
     ]
    }
   ],
   "source": [
    "model.summary()"
   ]
  },
  {
   "cell_type": "code",
   "execution_count": 246,
   "id": "2947b818",
   "metadata": {
    "scrolled": true
   },
   "outputs": [
    {
     "data": {
      "image/png": "[encoded data removed]",
      "text/plain": [
       "<IPython.core.display.Image object>"
      ]
     },
     "execution_count": 246,
     "metadata": {},
     "output_type": "execute_result"
    }
   ],
   "source": [
    "plot_model(model, show_shapes=True)"
   ]
  },
  {
   "cell_type": "code",
   "execution_count": 247,
   "id": "9283554e",
   "metadata": {
    "scrolled": true
   },
   "outputs": [
    {
     "data": {
      "image/png": "[encoded data removed]",
      "text/plain": [
       "<Figure size 432x288 with 1 Axes>"
      ]
     },
     "metadata": {
      "needs_background": "light"
     },
     "output_type": "display_data"
    }
   ],
   "source": [
    "plt.imshow(x_val[3].reshape(50,50), cmap='gray')\n",
    "plt.title(f'Label - {y_val[3]}')\n",
    "plt.show()"
   ]
  },
  {
   "cell_type": "code",
   "execution_count": 248,
   "id": "3205ffac",
   "metadata": {},
   "outputs": [
    {
     "data": {
      "text/plain": [
       "array([1, 3, 2, 0, 1, 1, 0, 3, 3, 4, 0, 3, 2, 3, 3, 2, 2, 4, 4, 0, 4, 3,\n",
       "       0, 3, 1, 1, 0, 2, 4, 0, 4, 3, 0, 0, 3, 0, 4, 2, 2, 4, 2, 4, 1, 1,\n",
       "       3, 1, 4, 0, 1, 4, 2, 1, 3, 0, 2, 3, 2, 1])"
      ]
     },
     "execution_count": 248,
     "metadata": {},
     "output_type": "execute_result"
    }
   ],
   "source": [
    "y_train"
   ]
  },
  {
   "cell_type": "code",
   "execution_count": 249,
   "id": "a2942365",
   "metadata": {},
   "outputs": [],
   "source": [
    "model.compile(loss='sparse_categorical_crossentropy',\n",
    "             optimizer='adam',\n",
    "             metrics='accuracy')"
   ]
  },
  {
   "cell_type": "code",
   "execution_count": null,
   "id": "660cf2a5",
   "metadata": {},
   "outputs": [],
   "source": []
  },
  {
   "cell_type": "code",
   "execution_count": 250,
   "id": "63020b65",
   "metadata": {},
   "outputs": [
    {
     "name": "stdout",
     "output_type": "stream",
     "text": [
      "Epoch 1/30\n",
      "2/2 [==============================] - 3s 811ms/step - loss: 212.8024 - accuracy: 0.1897 - val_loss: 892.2159 - val_accuracy: 0.1923\n",
      "Epoch 2/30\n",
      "2/2 [==============================] - 0s 233ms/step - loss: 465.1995 - accuracy: 0.1552 - val_loss: 155.5207 - val_accuracy: 0.2308\n",
      "Epoch 3/30\n",
      "2/2 [==============================] - 1s 272ms/step - loss: 106.1144 - accuracy: 0.2586 - val_loss: 291.8311 - val_accuracy: 0.2692\n",
      "Epoch 4/30\n",
      "2/2 [==============================] - 1s 279ms/step - loss: 155.6630 - accuracy: 0.3621 - val_loss: 195.6155 - val_accuracy: 0.2692\n",
      "Epoch 5/30\n",
      "2/2 [==============================] - 0s 291ms/step - loss: 99.4367 - accuracy: 0.3793 - val_loss: 95.0157 - val_accuracy: 0.0769\n",
      "Epoch 6/30\n",
      "2/2 [==============================] - 1s 288ms/step - loss: 102.9905 - accuracy: 0.5172 - val_loss: 107.6559 - val_accuracy: 0.1538\n",
      "Epoch 7/30\n",
      "2/2 [==============================] - 1s 318ms/step - loss: 41.4420 - accuracy: 0.5345 - val_loss: 146.3580 - val_accuracy: 0.1923\n",
      "Epoch 8/30\n",
      "2/2 [==============================] - 1s 332ms/step - loss: 45.0369 - accuracy: 0.5345 - val_loss: 146.2847 - val_accuracy: 0.2692\n",
      "Epoch 9/30\n",
      "2/2 [==============================] - 1s 314ms/step - loss: 44.2249 - accuracy: 0.3966 - val_loss: 145.4652 - val_accuracy: 0.2308\n",
      "Epoch 10/30\n",
      "2/2 [==============================] - 1s 304ms/step - loss: 41.0262 - accuracy: 0.5517 - val_loss: 109.6171 - val_accuracy: 0.3462\n",
      "Epoch 11/30\n",
      "2/2 [==============================] - 0s 286ms/step - loss: 25.2804 - accuracy: 0.5862 - val_loss: 82.9898 - val_accuracy: 0.2692\n",
      "Epoch 12/30\n",
      "2/2 [==============================] - 1s 320ms/step - loss: 15.2350 - accuracy: 0.5862 - val_loss: 47.5403 - val_accuracy: 0.4615\n",
      "Epoch 13/30\n",
      "2/2 [==============================] - 1s 315ms/step - loss: 4.0373 - accuracy: 0.8621 - val_loss: 49.0507 - val_accuracy: 0.3077\n",
      "Epoch 14/30\n",
      "2/2 [==============================] - 1s 331ms/step - loss: 18.0684 - accuracy: 0.5862 - val_loss: 48.7516 - val_accuracy: 0.3077\n",
      "Epoch 15/30\n",
      "2/2 [==============================] - 1s 297ms/step - loss: 3.6373 - accuracy: 0.6897 - val_loss: 92.3860 - val_accuracy: 0.1923\n",
      "Epoch 16/30\n",
      "2/2 [==============================] - 1s 334ms/step - loss: 9.1353 - accuracy: 0.7586 - val_loss: 98.3356 - val_accuracy: 0.1923\n",
      "Epoch 17/30\n",
      "2/2 [==============================] - 0s 303ms/step - loss: 6.8209 - accuracy: 0.8276 - val_loss: 76.7605 - val_accuracy: 0.1923\n",
      "Epoch 18/30\n",
      "2/2 [==============================] - 1s 297ms/step - loss: 1.7015 - accuracy: 0.9655 - val_loss: 65.9134 - val_accuracy: 0.3077\n",
      "Epoch 19/30\n",
      "2/2 [==============================] - 0s 292ms/step - loss: 1.5120 - accuracy: 0.9483 - val_loss: 58.1138 - val_accuracy: 0.4615\n",
      "Epoch 20/30\n",
      "2/2 [==============================] - 1s 334ms/step - loss: 4.6822 - accuracy: 0.9310 - val_loss: 60.5299 - val_accuracy: 0.3077\n",
      "Epoch 21/30\n",
      "2/2 [==============================] - 1s 327ms/step - loss: 1.5704 - accuracy: 0.9655 - val_loss: 60.1477 - val_accuracy: 0.3462\n",
      "Epoch 22/30\n",
      "2/2 [==============================] - 1s 339ms/step - loss: 1.6270 - accuracy: 0.9828 - val_loss: 53.7447 - val_accuracy: 0.3462\n",
      "Epoch 23/30\n",
      "2/2 [==============================] - 1s 288ms/step - loss: 1.3096 - accuracy: 0.9828 - val_loss: 44.4751 - val_accuracy: 0.3462\n",
      "Epoch 24/30\n",
      "2/2 [==============================] - 0s 245ms/step - loss: 0.6455 - accuracy: 0.9828 - val_loss: 38.3508 - val_accuracy: 0.4231\n",
      "Epoch 25/30\n",
      "2/2 [==============================] - 1s 323ms/step - loss: 2.2806 - accuracy: 0.9828 - val_loss: 40.7172 - val_accuracy: 0.3846\n",
      "Epoch 26/30\n",
      "2/2 [==============================] - 1s 341ms/step - loss: 2.5763 - accuracy: 0.9655 - val_loss: 41.4093 - val_accuracy: 0.3077\n",
      "Epoch 27/30\n",
      "2/2 [==============================] - 1s 308ms/step - loss: 2.2512 - accuracy: 0.9828 - val_loss: 40.2617 - val_accuracy: 0.3077\n",
      "Epoch 28/30\n",
      "2/2 [==============================] - 0s 277ms/step - loss: 1.2830 - accuracy: 0.9828 - val_loss: 39.6891 - val_accuracy: 0.3077\n",
      "Epoch 29/30\n",
      "2/2 [==============================] - 0s 266ms/step - loss: 0.9435 - accuracy: 0.9655 - val_loss: 41.1010 - val_accuracy: 0.3077\n",
      "Epoch 30/30\n",
      "2/2 [==============================] - 0s 273ms/step - loss: 0.5771 - accuracy: 0.9828 - val_loss: 37.4611 - val_accuracy: 0.3462\n"
     ]
    },
    {
     "data": {
      "text/plain": [
       "<keras.callbacks.History at 0x13752aa74f0>"
      ]
     },
     "execution_count": 250,
     "metadata": {},
     "output_type": "execute_result"
    }
   ],
   "source": [
    "model.fit(x_train, y_train, epochs=30, validation_data=(x_test, y_test))"
   ]
  },
  {
   "cell_type": "code",
   "execution_count": 251,
   "id": "8732fd35",
   "metadata": {},
   "outputs": [
    {
     "name": "stdout",
     "output_type": "stream",
     "text": [
      "1/1 [==============================] - 0s 118ms/step - loss: 37.4611 - accuracy: 0.3462\n"
     ]
    },
    {
     "data": {
      "text/plain": [
       "[37.461055755615234, 0.3461538553237915]"
      ]
     },
     "execution_count": 251,
     "metadata": {},
     "output_type": "execute_result"
    }
   ],
   "source": [
    "model.evaluate(x_test, y_test)"
   ]
  },
  {
   "cell_type": "code",
   "execution_count": 252,
   "id": "a739df81",
   "metadata": {},
   "outputs": [
    {
     "name": "stdout",
     "output_type": "stream",
     "text": [
      "1/1 [==============================] - 0s 320ms/step\n"
     ]
    }
   ],
   "source": [
    "pre_y=model.predict(x_test[25].reshape(-1, 50, 50, 1))"
   ]
  },
  {
   "cell_type": "code",
   "execution_count": 253,
   "id": "910ba8de",
   "metadata": {},
   "outputs": [
    {
     "data": {
      "text/plain": [
       "array([[0.  , 0.03, 0.  , 0.04, 0.92]], dtype=float32)"
      ]
     },
     "execution_count": 253,
     "metadata": {},
     "output_type": "execute_result"
    }
   ],
   "source": [
    "pre_y.round(2)"
   ]
  },
  {
   "cell_type": "code",
   "execution_count": 254,
   "id": "f0650830",
   "metadata": {},
   "outputs": [
    {
     "data": {
      "text/plain": [
       "2"
      ]
     },
     "execution_count": 254,
     "metadata": {},
     "output_type": "execute_result"
    }
   ],
   "source": [
    "y_test[25]"
   ]
  },
  {
   "cell_type": "code",
   "execution_count": 257,
   "id": "23cc42d3",
   "metadata": {},
   "outputs": [
    {
     "data": {
      "image/png": "[encoded data removed]",
      "text/plain": [
       "<Figure size 432x288 with 1 Axes>"
      ]
     },
     "metadata": {
      "needs_background": "light"
     },
     "output_type": "display_data"
    }
   ],
   "source": [
    "plt.imshow(x_test[25].reshape(50, 50))\n",
    "plt.show()"
   ]
  },
  {
   "cell_type": "markdown",
   "id": "fcf30910",
   "metadata": {},
   "source": [
    "## 전체 데이터\n",
    "---"
   ]
  },
  {
   "cell_type": "code",
   "execution_count": 85,
   "id": "baf30f02",
   "metadata": {},
   "outputs": [],
   "source": [
    "blwh=solution('blwh')\n",
    "rgb=solution('rgb')"
   ]
  },
  {
   "cell_type": "code",
   "execution_count": 259,
   "id": "976ef030",
   "metadata": {},
   "outputs": [],
   "source": [
    "DIR='./target.csv'\n",
    "tarDF=pd.read_csv(DIR)"
   ]
  },
  {
   "cell_type": "code",
   "execution_count": 90,
   "id": "b8d51b77",
   "metadata": {},
   "outputs": [
    {
     "data": {
      "image/png": "[encoded data removed]",
      "text/plain": [
       "<Figure size 720x720 with 2 Axes>"
      ]
     },
     "metadata": {
      "needs_background": "light"
     },
     "output_type": "display_data"
    }
   ],
   "source": [
    "fig=plt.figure(figsize=(10,10))\n",
    "\n",
    "plt.subplot(1, 2, 1)\n",
    "plt.imshow(blwh[3500].reshape(50,50,1))\n",
    "plt.title('black', fontsize=24)\n",
    "\n",
    "plt.subplot(1, 2, 2)\n",
    "plt.imshow(rgb[3500].reshape(50,50,3))\n",
    "plt.title('Color', fontsize=24)\n",
    "plt.show()"
   ]
  },
  {
   "cell_type": "code",
   "execution_count": 260,
   "id": "72b2a60f",
   "metadata": {},
   "outputs": [],
   "source": [
    "data=rgb\n",
    "target=tarDF=np.array(tarDF.label)"
   ]
  },
  {
   "cell_type": "code",
   "execution_count": 261,
   "id": "db55bc3c",
   "metadata": {},
   "outputs": [
    {
     "data": {
      "text/plain": [
       "((4312, 2500, 3), (4312,))"
      ]
     },
     "execution_count": 261,
     "metadata": {},
     "output_type": "execute_result"
    }
   ],
   "source": [
    "data.shape, target.shape"
   ]
  },
  {
   "cell_type": "code",
   "execution_count": null,
   "id": "a4135710",
   "metadata": {},
   "outputs": [],
   "source": [
    "# 훈련/테스트 데이터 나누기\n",
    "x_train, x_test, y_train, y_test = train_test_split(data, target,\n",
    "                                                    random_state=42,\n",
    "                                                    stratify=target)"
   ]
  },
  {
   "cell_type": "code",
   "execution_count": null,
   "id": "f71feb8c",
   "metadata": {},
   "outputs": [],
   "source": [
    "x_train, x_val, y_train, y_val = train_test_split(x_train, y_train,\n",
    "                                                  stratify=y_train,\n",
    "                                                  random_state=42)"
   ]
  },
  {
   "cell_type": "code",
   "execution_count": null,
   "id": "9ae21d62",
   "metadata": {},
   "outputs": [],
   "source": [
    "print(x_train.shape, y_train.shape)\n",
    "print(x_test.shape, y_test.shape)\n",
    "print(x_val.shape, y_val.shape)"
   ]
  },
  {
   "cell_type": "markdown",
   "id": "c92e7c0e",
   "metadata": {},
   "source": [
    "### [모델]"
   ]
  },
  {
   "cell_type": "code",
   "execution_count": null,
   "id": "169ede9f",
   "metadata": {},
   "outputs": [],
   "source": [
    "model=Sequential()\n",
    "model.add(Conv2D(58, kernel_size=3, activation='relu', padding='same', input_shape=(50,50,3)))\n",
    "model.add(MaxPool2D())\n",
    "model.add(Conv2D(100, kernel_size=3, padding='same'))\n",
    "model.add(MaxPool2D())\n",
    "model.add(Flatten())\n",
    "model.add(Dense(100, activation='relu'))\n",
    "model.add(Dense(26, activation='softmax'))"
   ]
  },
  {
   "cell_type": "code",
   "execution_count": null,
   "id": "dc256d42",
   "metadata": {},
   "outputs": [],
   "source": [
    "model.summary()"
   ]
  },
  {
   "cell_type": "code",
   "execution_count": null,
   "id": "11485b16",
   "metadata": {
    "scrolled": true
   },
   "outputs": [],
   "source": [
    "# ImageDataGenerator\n",
    "train_datagen = ImageDataGenerator(\n",
    "    \n",
    "    rotation_range=30,\n",
    "    shear_range=0.2,\n",
    "    zoom_range=0.4,\n",
    "    horizontal_flip=True\n",
    ")\n",
    "train_datagen.fit(x_train)"
   ]
  },
  {
   "cell_type": "code",
   "execution_count": null,
   "id": "4c3530ac",
   "metadata": {},
   "outputs": [],
   "source": [
    "model.compile(optimizer='adam',loss='sparse_categorical_crossentropy',metrics=['accuracy'])"
   ]
  },
  {
   "cell_type": "code",
   "execution_count": null,
   "id": "eeba0e0a",
   "metadata": {},
   "outputs": [],
   "source": [
    "History = model.fit_generator(train_datagen.flow(x_train,y_train, batch_size=32),\n",
    "                              epochs = 50, validation_data = (x_val,y_val),\n",
    "                              verbose = 1, steps_per_epoch=x_train.shape[0] // 32)"
   ]
  },
  {
   "cell_type": "code",
   "execution_count": null,
   "id": "792f5e4b",
   "metadata": {},
   "outputs": [],
   "source": [
    "plot_model(model, show_shapes=True)"
   ]
  },
  {
   "cell_type": "code",
   "execution_count": null,
   "id": "44d3fe01",
   "metadata": {},
   "outputs": [],
   "source": [
    "plt.imshow(x_val[100].reshape(50,50,3))\n",
    "plt.title(f'Label - {y_val[100]}')\n",
    "plt.show()"
   ]
  },
  {
   "cell_type": "code",
   "execution_count": null,
   "id": "0c3f1046",
   "metadata": {},
   "outputs": [],
   "source": []
  },
  {
   "cell_type": "code",
   "execution_count": null,
   "id": "63a07aa0",
   "metadata": {},
   "outputs": [],
   "source": [
    "# a=allimgplus[:23]\n",
    "# b=allimgplus[23:43]\n",
    "# c=allimgplus[43:63]\n",
    "# d=allimgplus[63:85]\n",
    "# e=allimgplus[85:105]"
   ]
  }
 ],
 "metadata": {
  "kernelspec": {
   "display_name": "Python 3 (ipykernel)",
   "language": "python",
   "name": "python3"
  },
  "language_info": {
   "codemirror_mode": {
    "name": "ipython",
    "version": 3
   },
   "file_extension": ".py",
   "mimetype": "text/x-python",
   "name": "python",
   "nbconvert_exporter": "python",
   "pygments_lexer": "ipython3",
   "version": "3.9.12"
  }
 },
 "nbformat": 4,
 "nbformat_minor": 5
}
